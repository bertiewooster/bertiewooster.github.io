{
 "cells": [
  {
   "cell_type": "markdown",
   "id": "81b701d4",
   "metadata": {},
   "source": [
    "# Rating Survey Beginning to End Method\n",
    "## Part 1: Creating the survey, collecting and exporting data"
   ]
  },
  {
   "cell_type": "markdown",
   "id": "55259dfe",
   "metadata": {},
   "source": [
    "Assets needed:\n",
    "- GitHub repo\n",
    "    - doc\n",
    "        - Analysis-with-code.html\n",
    "        - Analysis.html\n",
    "    - .gitignore\n",
    "    - .nojekyll\n",
    "    - Analysis.ipynb\n",
    "    - LICENSE\n",
    "    - nb_html\n",
    "    - README.md\n",
    "    - survey-respnses.csv"
   ]
  },
  {
   "cell_type": "markdown",
   "id": "815f9c30",
   "metadata": {},
   "source": [
    "<!--\n",
    "- Scenario\n",
    "- Why use this setup\n",
    "- Setting up Google Form survey\n",
    "- Exporting survey data\n",
    "- Importing survey data into a GitHub repo\n",
    "- Analysis in Jupyter notebook\n",
    "- Publishing to GitHub Pages\n",
    "-->"
   ]
  },
  {
   "cell_type": "markdown",
   "id": "d700655a",
   "metadata": {},
   "source": [
    "# Free tools for survey creation, analysis, and publishing results\n",
    "## Part 1: Creating the survey, collecting and exporting data\n",
    "\n",
    "In part 2, we'll import and analyze the data, then publish it online.\n",
    "\n",
    "In part 2, we'll import and analyze the data, then publish it online.\n",
    "\n",
    "## Scenario\n",
    "\n",
    "To make a choice based on community input, you may need to ask a group of people to rate a set of options.\n",
    "\n",
    "## Why use Google Forms, Jupyter Notebook, and GitHub Pages\n",
    "- All of them are free\n",
    "- The output from one tool can be easily used in the next tool in the chain\n",
    "- Google Forms is an easy, free way to create a survey\n",
    "- Google Forms can easily export survey data\n",
    "- Jupyter notebooks are easy to use and inspect; host narratives, code, and outputs; and can produce high-quality graphs\n",
    "- Jupyter notebooks can be easily converted to HTML\n",
    "- GitHub Pages is an easy way to post HTML files\n",
    "\n",
    "\n"
   ]
  },
  {
   "cell_type": "markdown",
   "id": "79aef2ff",
   "metadata": {},
   "source": [
    "## What the final result will include\n",
    "After you follow these instructions, you'll have a web page (and Jupyter Notebook) that includes:\n",
    "- A table of the mean and standard deviation of the rating for each option\n",
    "- A bar graph of the mean and standard deviation of the rating for each option\n",
    "- A histogram for each option with the count of responses for each rating level, including a dashed vertical line at the mean rating\n",
    "\n",
    "TODO: Include those results from survey-analysis repo when done"
   ]
  },
  {
   "cell_type": "markdown",
   "id": "6aa94a44",
   "metadata": {},
   "source": [
    "## What you'll need\n",
    "- A Google account\n",
    "    - You can [create a Google account for free](https://accounts.google.com/signup)\n",
    "- The ability to edit Jupyter Notebooks\n",
    "    - You can [follow this tutorial to set up a Jupyter Notebook](https://www.dataquest.io/blog/jupyter-notebook-tutorial/)\n",
    "    - Or you can edit [Jupyter Notebooks in Visual Studio Code](https://code.visualstudio.com/docs/datascience/jupyter-notebooks).\n",
    "- A GitHub account\n",
    "    - You can [create a GitHub account for free](https://github.com/join)\n",
    "\n",
    "## Setting up a survey in Google Forms\n",
    "When asking for feedback on a set of options, two options are rating and ranking. Rating means giving each option a score on a scale, for example \"How helpful is this option\" on a 1-4 scale from \"Not very helpful\" to \"Very helpful\". Ranking means putting the options in order of preference.\n",
    "\n",
    "Asking respondents to rate a set of options is a good choice:\n",
    "- Has a relatively low cognitive load because the respondent need keep only one option in mind at a time.\n",
    "- To rank the options, the respondent would have to have all the options in mind at once, then decide which option is best, second best, etc.\n",
    "- Forcing respondents to order the options may also distort their feedback on how good the options are. For example, a respondent might think options A and B are nearly as good, yet be forced to rate one as best and the other as second best.\n",
    "\n",
    "The structure of the rating survey is simple:\n",
    "- Introductory page: Why this feedback is requested\n",
    "- One page for each option\n",
    "    - Rate the option on the scale\n",
    "    - What do you LIKE about the option?\n",
    "    - What do you DISLIKE about the option?\n",
    "- Final page: Do you have any other comments?\n",
    "\n",
    "Clone, edit, and share the survey by:\n",
    "1. [Clicking this link to open the provided Rating options survey folder](https://docs.google.com/forms/d/1Z7atj9bw9FsVih4bs_XgUmlHpsbYBO3UAOoUuKzoUIo/edit?usp=sharing) in your Google Drive\n",
    "    - If you haven't already logged in to your Google account, you will be prompted to log in\n",
    "2. Right-clicking on the Rating options survey form and selecting Make a copy\n",
    "<img src=\"../images/copy-google-form.png\">\n",
    "3. Clicking Show file location\n",
    "<img src=\"../images/google-drive-show-file-location.png\">\n",
    "4. Renaming from \"Copy of Rating options survey\" to the name you'd like for your survey, for example \"Rating options survey\"\n",
    "5. Double-clicking the form you just renamed\n",
    "6. [Editing the Google form](https://support.google.com/docs/answer/2839737?hl=en) to ask the questions you need answered\n",
    "7. Sharing your form using the Send button at the top right of your form\n",
    "    - You can share by email, getting and posting a link, embedding HTML, or via Facebook or Twitter\n",
    "\n",
    "A week or two is typically a good length of time to gather responses.\n",
    "\n",
    "## Exporting survey data from Google Forms\n",
    "1. Click Responses at the top of the form!\n",
    "<img src=\"images/google-form-responses-3dots.png\">\n",
    "\n",
    "2. Click the three-dot icon\n",
    "3. Choose Download responses (.csv)\n",
    "<img src=\"../images/google-form-download-responses.png\">\n",
    "\n",
    "Copy survey-responses.csv into the GitHub repo."
   ]
  }
 ],
 "metadata": {
  "kernelspec": {
   "display_name": "Python 3 (ipykernel)",
   "language": "python",
   "name": "python3"
  },
  "language_info": {
   "codemirror_mode": {
    "name": "ipython",
    "version": 3
   },
   "file_extension": ".py",
   "mimetype": "text/x-python",
   "name": "python",
   "nbconvert_exporter": "python",
   "pygments_lexer": "ipython3",
   "version": "3.9.7"
  }
 },
 "nbformat": 4,
 "nbformat_minor": 5
}
