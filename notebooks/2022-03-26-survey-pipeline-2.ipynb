{
 "cells": [
  {
   "cell_type": "markdown",
   "id": "81b701d4",
   "metadata": {},
   "source": [
    "# Google Forms Survey Analysis in a Jupyter Notebook"
   ]
  },
  {
   "cell_type": "markdown",
   "id": "815f9c30",
   "metadata": {},
   "source": [
    "<!--\n",
    "- Scenario\n",
    "- Why use this setup\n",
    "- Setting up Google Form survey\n",
    "- Exporting survey data\n",
    "- Importing survey data into a GitHub repo\n",
    "- Analysis in Jupyter notebook\n",
    "- Publishing to GitHub Pages\n",
    "-->"
   ]
  },
  {
   "cell_type": "markdown",
   "id": "d700655a",
   "metadata": {},
   "source": [
    "# Free tools for survey creation, analysis, and publishing results\n",
    "\n",
    "In [part 1, we created a survey in Google Forms, collected responses, then exported the responses to a .csv file](/_posts/2022-03-20-survey-pipeline-1.html).\n",
    "\n",
    "In part 2, we'll import the survey response data into a GitHub repository, then analyze the data.\n",
    "\n",
    "In [part 3, we'll publish the results online using GitHub Pages](/_posts/2022-03-26-survey-pipeline-3.html).\n",
    "\n",
    "## Part 2: Analyzing data\n",
    "\n",
    "## Forking and cloning the GitHub repository\n",
    "You can get all the code needed for the analysis:\n",
    "1. [Fork the repository](https://docs.github.com/en/repositories/creating-and-managing-repositories/cloning-a-repository) at https://github.com/bertiewooster/survey-analysis.\n",
    "2. The forked repository will be *username*/survey-analysis where *username* is your GitHub username.\n",
    "3. [Clone the forked repository](https://docs.github.com/en/enterprise-cloud@latest/repositories/creating-and-managing-repositories/cloning-a-repository) onto your computer. By default, it will be cloned onto your computer into a folder called survey-analysis.\n",
    "\n",
    "## Copy in the survey data\n",
    "Copy the rating-options-survey.csv file into the survey-analysis folder, replacing the existing rating-options-survey.csv file.\n",
    "\n",
    "## Analyze the data\n",
    "TODO How to customize Jupyter Notebook for their data\n",
    "\n",
    "## Export the notebook to HTML\n",
    "1. In your terminal, go to the survey-analysis folder. If you're using [Visual Studio Code, pull up the terminal](https://code.visualstudio.com/docs/editor/integrated-terminal) and it will be in that folder.\n",
    "2. Run `./nb_html`\n",
    "3. Two HTML versions of the notebook will be created in the doc folder:\n",
    "    1. Analysis.html has only the results from the notebook. This is the cleaner version that I recommend you publish.\n",
    "    2. Analysis-with-code.html: If you want to show your community the code used to analyze the results, you can publish this longer version."
   ]
  }
 ],
 "metadata": {
  "kernelspec": {
   "display_name": "Python 3 (ipykernel)",
   "language": "python",
   "name": "python3"
  },
  "language_info": {
   "codemirror_mode": {
    "name": "ipython",
    "version": 3
   },
   "file_extension": ".py",
   "mimetype": "text/x-python",
   "name": "python",
   "nbconvert_exporter": "python",
   "pygments_lexer": "ipython3",
   "version": "3.9.7"
  }
 },
 "nbformat": 4,
 "nbformat_minor": 5
}
