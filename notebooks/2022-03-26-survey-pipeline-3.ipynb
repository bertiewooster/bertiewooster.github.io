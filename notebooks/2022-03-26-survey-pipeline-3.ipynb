{
 "cells": [
  {
   "cell_type": "markdown",
   "id": "81b701d4",
   "metadata": {},
   "source": [
    "# Google Forms Survey Analysis in a Jupyter Notebook"
   ]
  },
  {
   "cell_type": "markdown",
   "id": "815f9c30",
   "metadata": {},
   "source": [
    "<!--\n",
    "- Scenario\n",
    "- Why use this setup\n",
    "- Setting up Google Form survey\n",
    "- Exporting survey data\n",
    "- Importing survey data into a GitHub repo\n",
    "- Analysis in Jupyter notebook\n",
    "- Publishing to GitHub Pages\n",
    "-->"
   ]
  },
  {
   "cell_type": "markdown",
   "id": "d700655a",
   "metadata": {},
   "source": [
    "# Free tools for survey creation, analysis, and publishing results\n",
    "\n",
    "In [part 1, we created a survey in Google Forms, collected responses, then exported the responses to a .csv file](../../../2022/03/20/survey-pipeline-1.html).\n",
    "\n",
    "In [part 2, we'll import the survey response data into a GitHub repository, then analyze the data](../../2022/03/26/survey-pipeline-2.html).\n",
    "\n",
    "In part 3, we'll publish the results online using GitHub Pages.\n",
    "\n",
    "## Part 3: Publishing results\n",
    "\n",
    "## Publishing results using GitHub Pages\n",
    "We will use GitHub to publish our analysis as a web page on the Internet.\n",
    "1. Go to your GitHub repository, survey-analysis.\n",
    "2. Click Settings (top right).\n",
    "3. Click Pages (left navigation bar).\n",
    "4. Under **Source**, change folder from (root) to /docs (leave Branch: main).\n",
    "5. Click Save.\n",
    "6. Wait several minutes until this message appears (you may have to refresh the web page): Your site is published at https://username.github.io/survey-analysis/ where _username_ is your GitHub user name.\n",
    "<img src=\"/images/github-pages-published.png\" style=\"border: 1px solid gray; width: 50%; display:block;\">\n",
    "7. Click on that link.\n",
    "8. Your analysis page should be live on the web.\n"
   ]
  }
 ],
 "metadata": {
  "kernelspec": {
   "display_name": "Python 3 (ipykernel)",
   "language": "python",
   "name": "python3"
  },
  "language_info": {
   "codemirror_mode": {
    "name": "ipython",
    "version": 3
   },
   "file_extension": ".py",
   "mimetype": "text/x-python",
   "name": "python",
   "nbconvert_exporter": "python",
   "pygments_lexer": "ipython3",
   "version": "3.9.7"
  }
 },
 "nbformat": 4,
 "nbformat_minor": 5
}
