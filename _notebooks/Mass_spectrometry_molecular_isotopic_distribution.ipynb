{
  "cells": [
    {
      "cell_type": "code",
      "execution_count": 14,
      "metadata": {
        "colab": {
          "base_uri": "https://localhost:8080/"
        },
        "id": "d4IboaHubzIu",
        "outputId": "32332cde-403c-4ba7-e119-b3cbb09a8d7d"
      },
      "outputs": [],
      "source": [
        "# !pip install rdkit\n",
        "# !pip install mendeleev"
      ]
    },
    {
      "cell_type": "code",
      "execution_count": 1,
      "metadata": {
        "id": "wRuWV7bBcIht"
      },
      "outputs": [],
      "source": [
        "from collections import defaultdict\n",
        "import copy\n",
        "import math\n",
        "from rdkit import Chem\n",
        "from rdkit.Chem import Descriptors\n",
        "import numpy as np\n",
        "import seaborn as sns\n",
        "import pandas as pd\n",
        "import matplotlib.pyplot as plt\n",
        "from mendeleev import isotope, element"
      ]
    },
    {
      "cell_type": "code",
      "execution_count": 2,
      "metadata": {
        "id": "VtUA9zXWxX1E"
      },
      "outputs": [],
      "source": [
        "sml = \"C=C=O\"\n",
        "\n",
        "# sml = \"ClC(Cl)Cl\"\n",
        "\n",
        "# Carbon tetrachloride; four Cl\n",
        "# sml = \"ClC(Cl)(Cl)Cl\"\n",
        "\n",
        "# sml = \"c1ccccc1\" # benzene; boring\n",
        "\n",
        "# Calcium carbonate; boring\n",
        "# sml = \"[Ca+2].[O-]C([O-])=O\"\n",
        "\n",
        "# Potassium cyanide; three elements\n",
        "# sml = \"[K+].[C-]#N\"\n",
        "\n",
        "# FeCl3; good for distinguishing very similar masses\n",
        "# sml = \"Cl[Fe](Cl)Cl\"\n",
        "\n",
        "# Cl2; simple case\n",
        "# sml = \"ClCl\"\n",
        "\n",
        "# Homo triatomic\n",
        "# sml = \"[O-][O+]=O\"\n",
        "\n",
        "# Homo diatomic\n",
        "# sml = \"O=O\""
      ]
    },
    {
      "cell_type": "code",
      "execution_count": 43,
      "metadata": {
        "id": "Juw0px-Zb_fM"
      },
      "outputs": [
        {
          "name": "stdout",
          "output_type": "stream",
          "text": [
            "C=C=O\n",
            "[H]C([H])=C=O\n",
            "defaultdict(<function composition.<locals>.<lambda> at 0x16be7a340>, {'C': 2, 'O': 1, 'H': 2})\n",
            "defaultdict(<function composition.<locals>.<lambda> at 0x16be7a340>, {'C': 2, 'O': 1, 'H': 2})\n",
            "True\n"
          ]
        }
      ],
      "source": [
        "mol = Chem.MolFromSmiles(sml)\n",
        "print(Chem.MolToSmiles(mol))\n",
        "mol_with_hydrogens = Chem.AddHs(mol)\n",
        "print(Chem.MolToSmiles(mol_with_hydrogens))\n",
        "print(composition(mol))\n",
        "print(composition(mol_with_hydrogens))\n",
        "same = composition(mol) == composition(mol_with_hydrogens)\n",
        "print(same)"
      ]
    },
    {
      "cell_type": "code",
      "execution_count": 4,
      "metadata": {
        "colab": {
          "base_uri": "https://localhost:8080/",
          "height": 167
        },
        "id": "Rtwkl6ujcv_X",
        "outputId": "32a45936-d608-4bc0-b3b3-87662ec3f726"
      },
      "outputs": [
        {
          "data": {
            "image/png": "[encoded data removed]",
            "text/plain": [
              "<rdkit.Chem.rdchem.Mol at 0x127f6cdd0>"
            ]
          },
          "execution_count": 4,
          "metadata": {},
          "output_type": "execute_result"
        }
      ],
      "source": [
        "mol"
      ]
    },
    {
      "cell_type": "code",
      "execution_count": 5,
      "metadata": {
        "id": "nJE9ITr1wCJw"
      },
      "outputs": [],
      "source": [
        "class MolecularIsotope():\n",
        "  \"\"\"Store a molecule's isotopic properties.\"\"\"\n",
        "  def __init__(\n",
        "      self,\n",
        "      sml: str,\n",
        "      abundance: float = None):\n",
        "    self.sml = sml\n",
        "    self.abundance = abundance\n",
        "    try:\n",
        "      self.mol = Chem.MolFromSmiles(sml)\n",
        "    except:\n",
        "      self.mol = Chem.MolFromSmiles(sml, sanitize=False)\n",
        "    self.mass = Descriptors.ExactMolWt(self.mol)\n",
        "  def update(self):\n",
        "    self.mass = Descriptors.ExactMolWt(self.mol)\n",
        "    self.canon_sml = Chem.MolToSmiles(mol)"
      ]
    },
    {
      "cell_type": "code",
      "execution_count": 6,
      "metadata": {
        "id": "nx1LuiS4xmcf"
      },
      "outputs": [],
      "source": [
        "def set_isotopes(arr:np.ndarray, sml: str, current_index=()):\n",
        "    if isinstance(arr, np.ndarray):\n",
        "        for i in range(len(arr)):\n",
        "            arr[i] = set_isotopes(arr=arr[i], current_index=current_index + (i,), sml=sml)\n",
        "        return arr\n",
        "    else:\n",
        "        # For an individual item in the ndarray,\n",
        "        #   create molecule and set the isotopes of each of its atoms\n",
        "        item = MolecularIsotope(sml=sml)\n",
        "        mol = item.mol\n",
        "        abundance = 1\n",
        "        for atom_index, atom in enumerate(mol.GetAtoms()):\n",
        "          atom_symbol = atom.GetSymbol()\n",
        "          isotope_data_to_use = isotopes[atom_symbol][current_index[atom_index]]\n",
        "          isotope_to_use = isotope_data_to_use[0]\n",
        "          atom.SetIsotope(isotope_to_use)\n",
        "          abundance *= isotope_data_to_use[1]\n",
        "        item.update()\n",
        "        item.abundance = abundance\n",
        "        return item"
      ]
    },
    {
      "cell_type": "code",
      "execution_count": 9,
      "metadata": {
        "colab": {
          "base_uri": "https://localhost:8080/"
        },
        "id": "y0pa1z4cqK-m",
        "outputId": "c87e717a-dce5-451f-b360-774caae34e8a"
      },
      "outputs": [
        {
          "name": "stdout",
          "output_type": "stream",
          "text": [
            "{'O': [[16, 0.9975700000000001], [17, 0.0003835], [18, 0.002045]], 'C': [[12, 0.9894], [13, 0.0106]]}\n"
          ]
        }
      ],
      "source": [
        "from mendeleev import isotope, element\n",
        "def atom_set(molecule):\n",
        "    \"\"\"Get the composition of an RDKit molecule:\n",
        "    Atomic counts, including hydrogen atoms, and any charge.\n",
        "    For example, fluoride ion (chemical formula F-, SMILES string [F-])\n",
        "    returns {9: 1, 0: -1}.\n",
        "\n",
        "    :param molecule: The molecule to analyze\n",
        "    :type some_input: An RDKit molecule\n",
        "    :rtype: A dictionary.\n",
        "    \"\"\"\n",
        "    # Check that there is a valid molecule\n",
        "    if molecule:\n",
        "      # Add hydrogen atoms--RDKit excludes them by default\n",
        "      molecule_with_Hs = Chem.AddHs(molecule)\n",
        "      atom_symbols = set(atom.GetSymbol() for atom in mol.GetAtoms())\n",
        "      return atom_symbols\n",
        "    \n",
        "set_of_atoms = atom_set(mol)\n",
        "# print(set_of_atoms)\n",
        "isotopes = {}\n",
        "for atom in set_of_atoms:\n",
        "  # print(f\"{atom=}\")\n",
        "  # print(f\"{element(atom)=}\")\n",
        "  element_isotopes = element(atom).isotopes\n",
        "  occuring_isotopes = [[isotope.mass_number, isotope.abundance/100] for isotope in element_isotopes if isotope.abundance != None]\n",
        "  isotopes[atom] = occuring_isotopes\n",
        "print(isotopes)"
      ]
    },
    {
      "cell_type": "code",
      "execution_count": 10,
      "metadata": {
        "colab": {
          "base_uri": "https://localhost:8080/",
          "height": 214
        },
        "id": "YZHbdHUQ34I8",
        "outputId": "d66d2de2-3525-4fab-a102-44fca6cde713"
      },
      "outputs": [],
      "source": [
        "num_atoms = len(mol.GetAtoms())\n",
        "\n",
        "# Build iterable of number of isotopes by atom index\n",
        "isotopes_by_atom_index = ()\n",
        "for atom_index, atom in enumerate(mol.GetAtoms()):\n",
        "  atom_symbol = atom.GetSymbol()\n",
        "  isotopes_by_atom_index += (len(isotopes[atom_symbol]),)"
      ]
    },
    {
      "cell_type": "code",
      "execution_count": 11,
      "metadata": {
        "id": "-mOyFi_oEQdD"
      },
      "outputs": [],
      "source": [
        "# Create the empty numpy ndarray with the specified shape\n",
        "mol_isotopes = np.empty(isotopes_by_atom_index, dtype=object)\n",
        "\n",
        "# Set the isotopes for each atom in each molecule\n",
        "mol_isotopes = set_isotopes(arr = mol_isotopes, sml = sml, current_index=())"
      ]
    },
    {
      "cell_type": "code",
      "execution_count": 46,
      "metadata": {
        "id": "FLMcvaxfzFY4"
      },
      "outputs": [
        {
          "name": "stdout",
          "output_type": "stream",
          "text": [
            "defaultdict(<function composition.<locals>.<lambda> at 0x16be7a660>, {'C': 2, 'O': 1, 'H': 2})\n",
            "defaultdict(<function composition.<locals>.<lambda> at 0x16ba289a0>, {'C': defaultdict(<function composition.<locals>.<lambda> at 0x16be7ac00>, {0: 1}), 'O': defaultdict(<function composition.<locals>.<lambda> at 0x16be7a3e0>, {0: 1}), 'H': defaultdict(<function composition.<locals>.<lambda> at 0x16be7aca0>, {0: 1})})\n"
          ]
        }
      ],
      "source": [
        "def composition(\n",
        "        molecule,\n",
        "        isotopes=False):\n",
        "    \"\"\"Get the composition of an RDKit molecule:\n",
        "    Atomic counts, including hydrogen atoms, and any charge.\n",
        "    For example, fluoride ion (chemical formula F-, SMILES string [F-])\n",
        "    returns {9: 1, 0: -1}.\n",
        "\n",
        "    :param molecule: The molecule to analyze\n",
        "    :type some_input: An RDKit molecule\n",
        "    :rtype: A dictionary.\n",
        "    \"\"\"\n",
        "    # Check that there is a valid molecule\n",
        "    if molecule:\n",
        "\n",
        "        # Add hydrogen atoms--RDKit excludes them by default\n",
        "        molecule_with_Hs = Chem.AddHs(molecule)\n",
        "        comp = defaultdict(lambda: 0)\n",
        "\n",
        "        # Get atom counts\n",
        "        for atom in molecule_with_Hs.GetAtoms():\n",
        "            element = atom.GetSymbol()\n",
        "            if not isotopes:\n",
        "                comp[element] += 1\n",
        "            else:\n",
        "                isotope = atom.GetIsotope()\n",
        "                comp[element] = defaultdict(lambda: 0)\n",
        "                comp[element][isotope] += 1\n",
        "        return comp\n",
        "print(composition(mol))\n",
        "print(composition(mol, isotopes=True))"
      ]
    },
    {
      "cell_type": "code",
      "execution_count": 14,
      "metadata": {
        "id": "WCGCdHp3KTj4"
      },
      "outputs": [],
      "source": [
        "def flatten_ndarray(arr):\n",
        "    flat_list = []\n",
        "    for element in arr:\n",
        "        if isinstance(element, np.ndarray):\n",
        "            flat_list.extend(flatten_ndarray(element))\n",
        "        else:\n",
        "            flat_list.append(element)\n",
        "    return flat_list"
      ]
    },
    {
      "cell_type": "code",
      "execution_count": 15,
      "metadata": {
        "id": "36K6X3RX0ZYO"
      },
      "outputs": [],
      "source": [
        "def binomial_coefficient(n, k):\n",
        "    return math.factorial(n) // (math.factorial(k) * math.factorial(n - k))"
      ]
    },
    {
      "cell_type": "code",
      "execution_count": 16,
      "metadata": {
        "id": "_Q9n0K7aLeyS"
      },
      "outputs": [],
      "source": [
        "def distribute_items(n, k):\n",
        "    def backtrack(remaining_items, bins, current_bin):\n",
        "        if current_bin == k:\n",
        "            if remaining_items == 0:\n",
        "                results.append(list(bins))\n",
        "            return\n",
        "\n",
        "        for items_in_current_bin in range(remaining_items + 1):\n",
        "            bins[current_bin] = items_in_current_bin\n",
        "            backtrack(remaining_items - items_in_current_bin, bins, current_bin + 1)\n",
        "\n",
        "    results = []\n",
        "    bins = [0] * k\n",
        "    backtrack(n, bins, 0)\n",
        "    return results"
      ]
    },
    {
      "cell_type": "code",
      "execution_count": 17,
      "metadata": {
        "id": "z_VNatEYKX08"
      },
      "outputs": [
        {
          "data": {
            "text/plain": [
              "12"
            ]
          },
          "execution_count": 17,
          "metadata": {},
          "output_type": "execute_result"
        }
      ],
      "source": [
        "mol_isotopes_flat = flatten_ndarray(mol_isotopes)\n",
        "mol_isotopes_flat.sort(key=lambda x:x.mass)\n",
        "len(mol_isotopes_flat)"
      ]
    },
    {
      "cell_type": "code",
      "execution_count": 51,
      "metadata": {
        "id": "Cwm66OrO0BbQ"
      },
      "outputs": [
        {
          "name": "stdout",
          "output_type": "stream",
          "text": [
            "12\n",
            "defaultdict(<function composition.<locals>.<lambda> at 0x16be86d40>, {'C': defaultdict(<function composition.<locals>.<lambda> at 0x16be86ca0>, {12: 1}), 'O': defaultdict(<function composition.<locals>.<lambda> at 0x16be86de0>, {16: 1}), 'H': defaultdict(<function composition.<locals>.<lambda> at 0x16be86a20>, {0: 1})})\n",
            "defaultdict(<function composition.<locals>.<lambda> at 0x16be87b00>, {'C': defaultdict(<function composition.<locals>.<lambda> at 0x16be876a0>, {12: 1}), 'O': defaultdict(<function composition.<locals>.<lambda> at 0x16be87a60>, {16: 1}), 'H': defaultdict(<function composition.<locals>.<lambda> at 0x16be86ac0>, {0: 1})})\n",
            "True\n",
            "False\n"
          ]
        }
      ],
      "source": [
        "mols_flat = [mol_isotope.mol for mol_isotope in mol_isotopes_flat]\n",
        "abundance_flat = [mol_isotope.abundance for mol_isotope in mol_isotopes_flat]\n",
        "mass_flat = [mol_isotope.mass for mol_isotope in mol_isotopes_flat]\n",
        "legends = [f\"{mass:.3f}: {abundance:.3f}\" for mass, abundance in zip(mass_flat, abundance_flat)]\n",
        "abundance_sum = sum(abundance_flat)\n",
        "# Chem.Draw.MolsToGridImage(mols = mols_flat, legends = legends, molsPerRow=3)\n",
        "print(len(mols_flat))\n",
        "\n",
        "a = composition(mol_isotopes_flat[0].mol, isotopes=True)\n",
        "b = composition(mol_isotopes_flat[0].mol, isotopes=True)\n",
        "print(a)\n",
        "print(b)\n",
        "print(a == b)\n",
        "print(a is b)"
      ]
    },
    {
      "cell_type": "markdown",
      "metadata": {
        "id": "5_3t4Iar0yKI"
      },
      "source": [
        "It might be tempting to match molecules by mass, but a floating-point value can have some error or uncertainty. In some cases, the mass differences between different species can be quite small (for example less than 0.002 amu if the sum of the mass numbers is the same), so adding a tolerance risks lumping different molecules together. So it's best to use some discrete identifier. In this case, we use the SMILES, which contains isotope labels."
      ]
    },
    {
      "cell_type": "code",
      "execution_count": 35,
      "metadata": {
        "id": "H-lXcOSxJ2Gk"
      },
      "outputs": [
        {
          "name": "stdout",
          "output_type": "stream",
          "text": [
            "[12CH2]=[12C]=[16O]\n",
            "[12CH2]=[13C]=[16O]\n",
            "  was not merged\n",
            "[13CH2]=[12C]=[16O]\n",
            "  was not merged\n",
            "[12CH2]=[12C]=[17O]\n",
            "  was not merged\n",
            "[12CH2]=[12C]=[18O]\n",
            "  was not merged\n",
            "[13CH2]=[13C]=[16O]\n",
            "  was not merged\n",
            "[12CH2]=[13C]=[17O]\n",
            "  was not merged\n",
            "[13CH2]=[12C]=[17O]\n",
            "  was not merged\n",
            "[12CH2]=[13C]=[18O]\n",
            "  was not merged\n",
            "[13CH2]=[12C]=[18O]\n",
            "  was not merged\n",
            "[13CH2]=[13C]=[17O]\n",
            "  was not merged\n",
            "[13CH2]=[13C]=[18O]\n",
            "  was not merged\n"
          ]
        }
      ],
      "source": [
        "# Merge identical molecules\n",
        "merged_molecular_isotpes = [mol_isotopes_flat[0]]\n",
        "print(Chem.MolToSmiles(mol_isotopes_flat[0].mol))\n",
        "for molecular_isotope in mol_isotopes_flat[1:]:\n",
        "  last_merged = merged_molecular_isotpes[-1]\n",
        "  print(Chem.MolToSmiles(molecular_isotope.mol))\n",
        "  if Chem.MolToSmiles(molecular_isotope.mol) == Chem.MolToSmiles(last_merged.mol):\n",
        "    last_merged.abundance += molecular_isotope.abundance\n",
        "    print(\"  was merged\")\n",
        "  else:\n",
        "    merged_molecular_isotpes.append(molecular_isotope)\n",
        "    print(\"  was not merged\")"
      ]
    },
    {
      "cell_type": "code",
      "execution_count": 32,
      "metadata": {
        "id": "HrVbW7R97bG2"
      },
      "outputs": [
        {
          "name": "stdout",
          "output_type": "stream",
          "text": [
            "12\n"
          ]
        }
      ],
      "source": [
        "mols_merged_flat = [mol_isotope.mol for mol_isotope in merged_molecular_isotpes]\n",
        "abundance_merged_flat = [mol_isotope.abundance for mol_isotope in merged_molecular_isotpes]\n",
        "mass_merged_flat = [mol_isotope.mass for mol_isotope in merged_molecular_isotpes]\n",
        "legends = [f\"{mass:.9f}: {abundance:.3f}\" for mass, abundance in zip(mass_merged_flat, abundance_merged_flat)]\n",
        "\n",
        "print(len(mols_merged_flat))"
      ]
    },
    {
      "cell_type": "code",
      "execution_count": 21,
      "metadata": {
        "id": "2QIVUCzlwT3p"
      },
      "outputs": [
        {
          "name": "stdout",
          "output_type": "stream",
          "text": [
            "42.010564684: 0.977\n",
            "43.013919524: 0.010\n",
            "43.013919524: 0.010\n",
            "43.014781764: 0.000\n",
            "44.014811064: 0.002\n",
            "44.017274364: 0.000\n",
            "44.018136604: 0.000\n",
            "44.018136604: 0.000\n",
            "45.018165904: 0.000\n",
            "45.018165904: 0.000\n",
            "45.021491444: 0.000\n",
            "46.021520744: 0.000\n"
          ]
        }
      ],
      "source": [
        "for legend in legends:\n",
        "  print(legend)"
      ]
    },
    {
      "cell_type": "code",
      "execution_count": 22,
      "metadata": {
        "id": "u3jemZoUyv84"
      },
      "outputs": [
        {
          "name": "stdout",
          "output_type": "stream",
          "text": [
            "1    43.013919524              42.010564684              1.00335484\n",
            "2    43.013919524              43.013919524              0.0\n",
            "3    43.014781764              43.013919524              0.0008622399999964614\n",
            "4    44.014811064              43.014781764              1.0000293000000013\n",
            "5    44.017274364              44.014811064              0.0024633000000022776\n",
            "6    44.018136604              44.017274364              0.0008622399999964614\n",
            "7    44.018136604              44.018136604              0.0\n",
            "8    45.018165904              44.018136604              1.0000293000000013\n",
            "9    45.018165904              45.018165904              0.0\n",
            "10   45.021491444              45.018165904              0.003325539999998739\n"
          ]
        }
      ],
      "source": [
        "# Print masses and differences between adjacent molecules\n",
        "for index, mass in enumerate(mass_merged_flat):\n",
        "  if all([index > 0, index < len(mass_merged_flat) - 1]):\n",
        "    print(f\"{index:<4} {mass:<25} {mass_merged_flat[index-1]:<25} {mass - mass_merged_flat[index-1]}\")"
      ]
    },
    {
      "cell_type": "code",
      "execution_count": 23,
      "metadata": {
        "id": "SKkqm0Yr7R9u"
      },
      "outputs": [
        {
          "data": {
            "image/png": "[encoded data removed]",
            "text/plain": [
              "<IPython.core.display.Image object>"
            ]
          },
          "execution_count": 23,
          "metadata": {},
          "output_type": "execute_result"
        }
      ],
      "source": [
        "Chem.Draw.MolsToGridImage(mols = mols_merged_flat, legends = legends)"
      ]
    },
    {
      "cell_type": "code",
      "execution_count": 24,
      "metadata": {
        "id": "RR1W2ANv2ALB"
      },
      "outputs": [
        {
          "name": "stdout",
          "output_type": "stream",
          "text": [
            "0.9999985\n"
          ]
        }
      ],
      "source": [
        "abundance_sum = sum(abundance_merged_flat)\n",
        "print(abundance_sum)"
      ]
    },
    {
      "cell_type": "code",
      "execution_count": 25,
      "metadata": {
        "id": "pczHCrT9HUlo"
      },
      "outputs": [],
      "source": [
        "df = pd.DataFrame({\n",
        "    'Mass': mass_merged_flat,\n",
        "    'Abundance': abundance_merged_flat\n",
        "})"
      ]
    },
    {
      "cell_type": "code",
      "execution_count": 26,
      "metadata": {
        "id": "krjigvHivySP"
      },
      "outputs": [],
      "source": [
        "df = df.loc[df['Abundance'] >= 0.01]"
      ]
    },
    {
      "cell_type": "code",
      "execution_count": 27,
      "metadata": {
        "id": "Z1Hg_meIIJLi"
      },
      "outputs": [
        {
          "name": "stderr",
          "output_type": "stream",
          "text": [
            "/Users/jemonat/Projects/bertiewooster.github.io/venv/lib/python3.11/site-packages/seaborn/_oldcore.py:1498: FutureWarning: is_categorical_dtype is deprecated and will be removed in a future version. Use isinstance(dtype, CategoricalDtype) instead\n",
            "  if pd.api.types.is_categorical_dtype(vector):\n",
            "/Users/jemonat/Projects/bertiewooster.github.io/venv/lib/python3.11/site-packages/seaborn/_oldcore.py:1498: FutureWarning: is_categorical_dtype is deprecated and will be removed in a future version. Use isinstance(dtype, CategoricalDtype) instead\n",
            "  if pd.api.types.is_categorical_dtype(vector):\n"
          ]
        },
        {
          "data": {
            "image/png": "[encoded data removed]",
            "text/plain": [
              "<Figure size 640x480 with 1 Axes>"
            ]
          },
          "metadata": {},
          "output_type": "display_data"
        }
      ],
      "source": [
        "# Create the scatter plot using Seaborn\n",
        "sns.scatterplot(x='Mass', y='Abundance', data=df, marker='')\n",
        "\n",
        "plt.xlabel('Mass')\n",
        "plt.ylabel('Abundance')\n",
        "plt.title(f'{sml} molecular isotopic distribution')\n",
        "\n",
        "# Adjust x-axis limits to allow more space on the left and right for labels\n",
        "xrange = max(df['Mass']) - min(df['Mass'])\n",
        "xpad = xrange * 0.15\n",
        "plt.xlim(min(df['Mass']) - xpad, max(df['Mass']) + xpad)\n",
        "\n",
        "# Adjust y-axis limits to start at zero and allow more space on the top for labels\n",
        "yrange = max(df['Abundance']) - min(df['Abundance'])\n",
        "ypad = yrange * 0.1\n",
        "plt.ylim(0, max(df['Abundance']) + ypad)\n",
        "\n",
        "# Add vertical lines from each data point to the x-axis\n",
        "for x, y in zip(df['Mass'], df['Abundance']):\n",
        "    plt.vlines(x=x, ymin=0, ymax=y, colors='black')\n",
        "    # Label the data points by mass\n",
        "    plt.text(x=x, y=y, s=f'{x:.5f}', ha='center', va='bottom')\n",
        "\n",
        "plt.show()"
      ]
    },
    {
      "cell_type": "code",
      "execution_count": 28,
      "metadata": {},
      "outputs": [],
      "source": [
        "mol = Chem.MolFromSmiles(sml)"
      ]
    },
    {
      "cell_type": "code",
      "execution_count": 29,
      "metadata": {},
      "outputs": [
        {
          "data": {
            "image/png": "[encoded data removed]",
            "text/plain": [
              "<rdkit.Chem.rdchem.Mol at 0x169d13610>"
            ]
          },
          "execution_count": 29,
          "metadata": {},
          "output_type": "execute_result"
        }
      ],
      "source": [
        "mol"
      ]
    },
    {
      "cell_type": "code",
      "execution_count": 30,
      "metadata": {
        "colab": {
          "base_uri": "https://localhost:8080/"
        },
        "id": "lxUdKcCCLjsj",
        "outputId": "e218f608-f993-4e7c-fd06-f7d88b6a1210"
      },
      "outputs": [
        {
          "name": "stdout",
          "output_type": "stream",
          "text": [
            "--------------------------------\n",
            "C 2\n",
            "--------------------------------\n",
            "isotope_count_distribution=[[0, 2], [1, 1], [2, 0]]\n",
            "Before adding a dimension: mols.shape=()\n",
            "type(mols)=<class 'numpy.ndarray'>\n",
            "mols=array([<rdkit.Chem.rdchem.Mol object at 0x16aa8cb30>,\n",
            "       <rdkit.Chem.rdchem.Mol object at 0x169c2ca90>,\n",
            "       <rdkit.Chem.rdchem.Mol object at 0x169d1d210>], dtype=object)\n",
            "n_this_element=2\n",
            "[0, 2]\n",
            "[1, 1]\n",
            "[2, 0]\n",
            "    isotope_index=0\n",
            "    isotope_index=1\n",
            "      isotopes[this_element][isotope_index][0]=13\n",
            "      distribution_countdown=[0, 1]\n",
            "    isotope_index=0\n",
            "    isotope_index=1\n",
            "      isotopes[this_element][isotope_index][0]=13\n",
            "      distribution_countdown=[0, 0]\n",
            "    isotope_index=0\n",
            "      isotopes[this_element][isotope_index][0]=12\n",
            "      distribution_countdown=[0, 1]\n",
            "    isotope_index=0\n",
            "    isotope_index=1\n",
            "      isotopes[this_element][isotope_index][0]=13\n",
            "      distribution_countdown=[0, 0]\n",
            "    isotope_index=0\n",
            "      isotopes[this_element][isotope_index][0]=12\n",
            "      distribution_countdown=[1, 0]\n",
            "    isotope_index=0\n",
            "      isotopes[this_element][isotope_index][0]=12\n",
            "      distribution_countdown=[0, 0]\n",
            "--------------------------------\n",
            "O 1\n",
            "--------------------------------\n",
            "isotope_count_distribution=[[0, 0, 1], [0, 1, 0], [1, 0, 0]]\n",
            "Before adding a dimension: mols.shape=(3,)\n",
            "type(mols)=<class 'numpy.ndarray'>\n",
            "mols=array([[<rdkit.Chem.rdchem.Mol object at 0x169d13a00>,\n",
            "        <rdkit.Chem.rdchem.Mol object at 0x169d13a70>,\n",
            "        <rdkit.Chem.rdchem.Mol object at 0x169d13ae0>],\n",
            "       [<rdkit.Chem.rdchem.Mol object at 0x169d13b50>,\n",
            "        <rdkit.Chem.rdchem.Mol object at 0x169d13bc0>,\n",
            "        <rdkit.Chem.rdchem.Mol object at 0x169d13c30>],\n",
            "       [<rdkit.Chem.rdchem.Mol object at 0x169d13ca0>,\n",
            "        <rdkit.Chem.rdchem.Mol object at 0x169d13d10>,\n",
            "        <rdkit.Chem.rdchem.Mol object at 0x169d13d80>]], dtype=object)\n",
            "n_this_element=1\n",
            "[0, 0, 1]\n",
            "[0, 1, 0]\n",
            "[1, 0, 0]\n",
            "level=1 item_index=0, item=<rdkit.Chem.rdchem.Mol object at 0x169d13a00>, is ndarray=False\n",
            "    item=<rdkit.Chem.rdchem.Mol object at 0x169d13a00>, should be a mol\n",
            "  initial distribution_countdown=[0, 0, 1]\n",
            "    isotope_index=0\n",
            "    isotope_index=1\n",
            "    isotope_index=2\n",
            "      isotopes[this_element][isotope_index][0]=18\n",
            "      distribution_countdown=[0, 0, 0]\n",
            "level=1 item_index=1, item=<rdkit.Chem.rdchem.Mol object at 0x169d13a70>, is ndarray=False\n",
            "    item=<rdkit.Chem.rdchem.Mol object at 0x169d13a70>, should be a mol\n",
            "  initial distribution_countdown=[0, 0, 1]\n",
            "    isotope_index=0\n",
            "    isotope_index=1\n",
            "    isotope_index=2\n",
            "      isotopes[this_element][isotope_index][0]=18\n",
            "      distribution_countdown=[0, 0, 0]\n",
            "level=1 item_index=2, item=<rdkit.Chem.rdchem.Mol object at 0x169d13ae0>, is ndarray=False\n",
            "    item=<rdkit.Chem.rdchem.Mol object at 0x169d13ae0>, should be a mol\n",
            "  initial distribution_countdown=[0, 0, 1]\n",
            "    isotope_index=0\n",
            "    isotope_index=1\n",
            "    isotope_index=2\n",
            "      isotopes[this_element][isotope_index][0]=18\n",
            "      distribution_countdown=[0, 0, 0]\n",
            "level=1 item_index=0, item=<rdkit.Chem.rdchem.Mol object at 0x169d13b50>, is ndarray=False\n",
            "    item=<rdkit.Chem.rdchem.Mol object at 0x169d13b50>, should be a mol\n",
            "  initial distribution_countdown=[0, 1, 0]\n",
            "    isotope_index=0\n",
            "    isotope_index=1\n",
            "      isotopes[this_element][isotope_index][0]=17\n",
            "      distribution_countdown=[0, 0, 0]\n",
            "level=1 item_index=1, item=<rdkit.Chem.rdchem.Mol object at 0x169d13bc0>, is ndarray=False\n",
            "    item=<rdkit.Chem.rdchem.Mol object at 0x169d13bc0>, should be a mol\n",
            "  initial distribution_countdown=[0, 1, 0]\n",
            "    isotope_index=0\n",
            "    isotope_index=1\n",
            "      isotopes[this_element][isotope_index][0]=17\n",
            "      distribution_countdown=[0, 0, 0]\n",
            "level=1 item_index=2, item=<rdkit.Chem.rdchem.Mol object at 0x169d13c30>, is ndarray=False\n",
            "    item=<rdkit.Chem.rdchem.Mol object at 0x169d13c30>, should be a mol\n",
            "  initial distribution_countdown=[0, 1, 0]\n",
            "    isotope_index=0\n",
            "    isotope_index=1\n",
            "      isotopes[this_element][isotope_index][0]=17\n",
            "      distribution_countdown=[0, 0, 0]\n",
            "level=1 item_index=0, item=<rdkit.Chem.rdchem.Mol object at 0x169d13ca0>, is ndarray=False\n",
            "    item=<rdkit.Chem.rdchem.Mol object at 0x169d13ca0>, should be a mol\n",
            "  initial distribution_countdown=[1, 0, 0]\n",
            "    isotope_index=0\n",
            "      isotopes[this_element][isotope_index][0]=16\n",
            "      distribution_countdown=[0, 0, 0]\n",
            "level=1 item_index=1, item=<rdkit.Chem.rdchem.Mol object at 0x169d13d10>, is ndarray=False\n",
            "    item=<rdkit.Chem.rdchem.Mol object at 0x169d13d10>, should be a mol\n",
            "  initial distribution_countdown=[1, 0, 0]\n",
            "    isotope_index=0\n",
            "      isotopes[this_element][isotope_index][0]=16\n",
            "      distribution_countdown=[0, 0, 0]\n",
            "level=1 item_index=2, item=<rdkit.Chem.rdchem.Mol object at 0x169d13d80>, is ndarray=False\n",
            "    item=<rdkit.Chem.rdchem.Mol object at 0x169d13d80>, should be a mol\n",
            "  initial distribution_countdown=[1, 0, 0]\n",
            "    isotope_index=0\n",
            "      isotopes[this_element][isotope_index][0]=16\n",
            "      distribution_countdown=[0, 0, 0]\n",
            "--------------------------------\n",
            "H 2\n",
            "--------------------------------\n"
          ]
        },
        {
          "ename": "KeyError",
          "evalue": "'H'",
          "output_type": "error",
          "traceback": [
            "\u001b[0;31m---------------------------------------------------------------------------\u001b[0m",
            "\u001b[0;31mKeyError\u001b[0m                                  Traceback (most recent call last)",
            "Cell \u001b[0;32mIn[30], line 18\u001b[0m\n\u001b[1;32m     16\u001b[0m \u001b[39mif\u001b[39;00m this_element \u001b[39m==\u001b[39m \u001b[39m\"\u001b[39m\u001b[39mN\u001b[39m\u001b[39m\"\u001b[39m:\n\u001b[1;32m     17\u001b[0m   \u001b[39mpass\u001b[39;00m\n\u001b[0;32m---> 18\u001b[0m n_isotopes_this_element \u001b[39m=\u001b[39m \u001b[39mlen\u001b[39m(isotopes[this_element])\n\u001b[1;32m     19\u001b[0m isotope_count_distribution \u001b[39m=\u001b[39m distribute_items(n_this_element, n_isotopes_this_element)\n\u001b[1;32m     20\u001b[0m n_distributions \u001b[39m=\u001b[39m \u001b[39mlen\u001b[39m(isotope_count_distribution)\n",
            "\u001b[0;31mKeyError\u001b[0m: 'H'"
          ]
        }
      ],
      "source": [
        "#Debugging only!\n",
        "# isotopes = {'Cl': [[35, 0.5], [37, 0.5]]}\n",
        "# isotopes = {'O': [[16, 0.5], [17, 0.5]]}\n",
        "\n",
        "# Create a list to store the dimensions at each step\n",
        "dimensions = []\n",
        "\n",
        "mols:np.ndarray = np.array(Chem.Mol(mol))\n",
        "# print(f\"{type(mols)=}\")\n",
        "# print(f\"Start: {mols=}\")\n",
        "for this_element, n_this_element in composition(mol).items():\n",
        "  print(\"--------------------------------\")\n",
        "  print(this_element, n_this_element)\n",
        "  print(\"--------------------------------\")\n",
        "  #Debugging\n",
        "  if this_element == \"N\":\n",
        "    pass\n",
        "  n_isotopes_this_element = len(isotopes[this_element])\n",
        "  isotope_count_distribution = distribute_items(n_this_element, n_isotopes_this_element)\n",
        "  n_distributions = len(isotope_count_distribution)\n",
        "  print(f\"{isotope_count_distribution=}\")\n",
        "\n",
        "  print(f\"Before adding a dimension: {mols.shape=}\")\n",
        "  \n",
        "  if mols.shape == ():\n",
        "     mols = np.array([Chem.Mol(mol) for _ in range(n_distributions)], dtype=object)\n",
        "     print(f\"{type(mols)=}\")\n",
        "  else:\n",
        "    # Create a list of m copies of the current object\n",
        "    mols_list = [copy.deepcopy(mols) for _ in range(n_distributions)]\n",
        "    \n",
        "    # Convert the list of copies to a NumPy ndarray\n",
        "    mols = np.array(mols_list, dtype=object)\n",
        "\n",
        "    print(f\"{type(mols)=}\")\n",
        "    \n",
        "\n",
        "  print(f\"{mols=}\")\n",
        "  print(f\"{n_this_element=}\")\n",
        "\n",
        "  sum_ab = 0\n",
        "  masses = []\n",
        "  for distribution_index, distribution in enumerate(isotope_count_distribution):\n",
        "      print(distribution)\n",
        "      a = 1\n",
        "      b = binomial_coefficient(n_this_element, distribution[0])\n",
        "      for isotope_index, isotope_count in enumerate(distribution):\n",
        "        a_this_isotope = isotopes[this_element][isotope_index][1]\n",
        "        a *= a_this_isotope**isotope_count\n",
        "      ab = a*b\n",
        "      sum_ab += ab\n",
        "      # print(f\"{a=} {b=} {a*b=} {sum_ab=}\")\n",
        "  for item_index, item in enumerate(mols):\n",
        "    level = 0\n",
        "    if isinstance(item, np.ndarray):\n",
        "      while isinstance(item, np.ndarray):\n",
        "        level += 1\n",
        "        parent_index = item_index\n",
        "        for item_index, item in enumerate(item):\n",
        "            print(f\"{level=} {item_index=}, {item=}, is ndarray={isinstance(item, np.ndarray)}\")\n",
        "            if isinstance(item, np.ndarray):\n",
        "              break\n",
        "            else:\n",
        "              print(f\"    {item=}, should be a mol\")\n",
        "              distribution_countdown = isotope_count_distribution[parent_index].copy()\n",
        "              print(f\"  initial {distribution_countdown=}\")\n",
        "              \n",
        "              for atom_index, atom in enumerate(item.GetAtoms()):\n",
        "                if atom.GetSymbol() == this_element:\n",
        "                  # Count down each isotope, going on to the next when zero\n",
        "                  for isotope_index, isotope in enumerate(distribution):\n",
        "                    print(f\"    {isotope_index=}\")\n",
        "                    if distribution_countdown[isotope_index] > 0:\n",
        "                        print(f\"      {isotopes[this_element][isotope_index][0]=}\")\n",
        "                        atom.SetIsotope(isotopes[this_element][isotope_index][0])\n",
        "                        distribution_countdown[isotope_index] -= 1\n",
        "                        print(f\"      {distribution_countdown=}\")\n",
        "                    # else:\n",
        "                        break\n",
        "    else:\n",
        "      distribution_countdown = isotope_count_distribution[item_index].copy()\n",
        "      for atom_index, atom in enumerate(item.GetAtoms()):\n",
        "        if atom.GetSymbol() == this_element:\n",
        "          # Count down each isotope, going on to the next when zero\n",
        "          for isotope_index, isotope in enumerate(distribution):\n",
        "            print(f\"    {isotope_index=}\")\n",
        "            if distribution_countdown[isotope_index] > 0:\n",
        "                print(f\"      {isotopes[this_element][isotope_index][0]=}\")\n",
        "                atom.SetIsotope(isotopes[this_element][isotope_index][0])\n",
        "                distribution_countdown[isotope_index] -= 1\n",
        "                print(f\"      {distribution_countdown=}\")\n",
        "            # else:\n",
        "                break\n",
        "\n",
        "            # for atom_index, atom in enumerate(item.GetAtoms()):\n",
        "            #   print(f\"{atom_index}, {atom.GetSymbol()}, {atom.GetIsotope()}\")\n",
        "\n",
        "\n",
        "      # # Current row of molecules\n",
        "      # if mols.ndim > 1:\n",
        "      #   this_row = mols[distribution_index]\n",
        "      # else:\n",
        "      #   this_row = mols\n",
        "      # print(f\"{this_row=}\")\n",
        "  \n",
        "  # pass\n",
        "print(f\"{sum_ab=}\")\n",
        "print(f\"{mols=}\")\n",
        "print(f\"{type(mols)=}\")\n"
      ]
    },
    {
      "cell_type": "code",
      "execution_count": null,
      "metadata": {},
      "outputs": [
        {
          "ename": "NameError",
          "evalue": "name 'mols' is not defined",
          "output_type": "error",
          "traceback": [
            "\u001b[0;31m---------------------------------------------------------------------------\u001b[0m",
            "\u001b[0;31mNameError\u001b[0m                                 Traceback (most recent call last)",
            "Cell \u001b[0;32mIn[21], line 3\u001b[0m\n\u001b[1;32m      1\u001b[0m \u001b[39m# Chem.Draw.MolsToGridImage(mols, legends=[str(mass) for mass in masses])\u001b[39;00m\n\u001b[0;32m----> 3\u001b[0m mols_flat \u001b[39m=\u001b[39m flatten_ndarray(mols)\n\u001b[1;32m      5\u001b[0m Chem\u001b[39m.\u001b[39mDraw\u001b[39m.\u001b[39mMolsToGridImage(mols_flat, subImgSize\u001b[39m=\u001b[39m(\u001b[39m100\u001b[39m, \u001b[39m100\u001b[39m)) \u001b[39m#, legends=[str(mass) for mass in masses])\u001b[39;00m\n",
            "\u001b[0;31mNameError\u001b[0m: name 'mols' is not defined"
          ]
        }
      ],
      "source": [
        "# Chem.Draw.MolsToGridImage(mols, legends=[str(mass) for mass in masses])\n",
        "\n",
        "mols_flat = flatten_ndarray(mols)\n",
        "\n",
        "Chem.Draw.MolsToGridImage(mols_flat, subImgSize=(100, 100)) #, legends=[str(mass) for mass in masses])"
      ]
    },
    {
      "cell_type": "markdown",
      "metadata": {},
      "source": [
        "Divider"
      ]
    },
    {
      "cell_type": "code",
      "execution_count": null,
      "metadata": {
        "colab": {
          "base_uri": "https://localhost:8080/"
        },
        "id": "DJSmZUAAQn_u",
        "outputId": "37088835-f313-4ea1-8d33-d6a4269ebaa6"
      },
      "outputs": [],
      "source": [
        "# #Debugging only!\n",
        "# # isotopes = {'Cl': [[35, 0.5], [37, 0.5]]}\n",
        "\n",
        "# n_atoms = 2\n",
        "\n",
        "# n_enumerated = 0\n",
        "# # n_test_atoms = 4\n",
        "# # for isotope_count in range(n_test_atoms + 1):\n",
        "# for isotope_count in range(n_atoms + 1):\n",
        "#     n_enumerated += binomial_coefficient(n_atoms, isotope_count)\n",
        "\n",
        "# print(f\"{n_enumerated=}\")\n",
        "\n",
        "# #Debugging only!\n",
        "# # n_atoms = 3\n",
        "\n",
        "# sum_ab = 0\n",
        "# for isotope_count in range(n_atoms + 1):\n",
        "#   # for isotope in isotopes[\"Cl\"]:\n",
        "#     n_this_isotope = isotope_count\n",
        "#     mass_this_isotope = isotopes[\"Cl\"][0][0]\n",
        "#     n_other_isotope = n_atoms - isotope_count\n",
        "#     mass_other_isotope = isotopes[\"Cl\"][1][0]\n",
        "#     a_this_isotope = isotopes[\"Cl\"][0][1]\n",
        "#     a_other_isotope = isotopes[\"Cl\"][1][1]\n",
        "#     b = binomial_coefficient(n_atoms, n_this_isotope)\n",
        "#     a_from_this_isotope = (a_this_isotope**n_this_isotope)\n",
        "#     a_from_other_isotope = (a_other_isotope**n_other_isotope)\n",
        "#     # print(f\"this isotope : {n_this_isotope} {mass_this_isotope} {a_this_isotope} {a_this_isotope**n_this_isotope} {binomial_coefficient(n_atoms, n_this_isotope)} {a_from_this_isotope}\")\n",
        "#     # print(f\"other isotope: {n_other_isotope} {mass_other_isotope} {a_other_isotope} {a_other_isotope**n_other_isotope} {binomial_coefficient(n_atoms, n_other_isotope)} {a_from_other_isotope}\")\n",
        "#     headers = \"n          Mass     A      Result       Frac A_from\"\n",
        "\n",
        "#     # Define the data for the first isotope\n",
        "#     data1 = f\"{n_this_isotope:<12} {mass_this_isotope:<6} {a_this_isotope:<6} {a_this_isotope**n_this_isotope:<12} {a_from_this_isotope}\"\n",
        "\n",
        "#     # Define the data for the other isotope\n",
        "#     data2 = f\"{n_other_isotope:<12} {mass_other_isotope:<6} {a_other_isotope:<6} {a_other_isotope**n_other_isotope:<12} {a_from_other_isotope}\"\n",
        "\n",
        "#     print(headers)\n",
        "#     print(data1)\n",
        "#     print(data2)\n",
        "\n",
        "#     a = a_from_this_isotope * a_from_other_isotope\n",
        "#     print(f\"{a=} {b=} {a*b=}\")\n",
        "#     sum_ab += a*b\n",
        "# print(f\"{sum_ab=}\")\n",
        "#     # print(isotope)"
      ]
    },
    {
      "cell_type": "code",
      "execution_count": null,
      "metadata": {
        "id": "TVtYmpzrRKqn"
      },
      "outputs": [
        {
          "name": "stdout",
          "output_type": "stream",
          "text": [
            "0, C, 0\n",
            "1, C, 0\n"
          ]
        }
      ],
      "source": [
        "sml_check = \"C#C\"\n",
        "mol_check = Chem.MolFromSmiles(sml_check)\n",
        "for atom_index, atom in enumerate(mol_check.GetAtoms()):\n",
        "    print(f\"{atom_index}, {atom.GetSymbol()}, {atom.GetIsotope()}\")"
      ]
    },
    {
      "cell_type": "code",
      "execution_count": null,
      "metadata": {
        "id": "XgmQwprdybgs"
      },
      "outputs": [
        {
          "ename": "NameError",
          "evalue": "name 'isotopic_abundances' is not defined",
          "output_type": "error",
          "traceback": [
            "\u001b[0;31m---------------------------------------------------------------------------\u001b[0m",
            "\u001b[0;31mNameError\u001b[0m                                 Traceback (most recent call last)",
            "Cell \u001b[0;32mIn[15], line 2\u001b[0m\n\u001b[1;32m      1\u001b[0m \u001b[39mfor\u001b[39;00m element, count \u001b[39min\u001b[39;00m composition(mol)\u001b[39m.\u001b[39mitems():\n\u001b[0;32m----> 2\u001b[0m     abundance \u001b[39m=\u001b[39m isotopic_abundances[element]\n\u001b[1;32m      3\u001b[0m     contribution \u001b[39m*\u001b[39m\u001b[39m=\u001b[39m \u001b[39mpow\u001b[39m(abundance, count)\n\u001b[1;32m      4\u001b[0m     contribution \u001b[39m*\u001b[39m\u001b[39m=\u001b[39m binomial_coefficient(molecular_formula[element_symbol], count)\n",
            "\u001b[0;31mNameError\u001b[0m: name 'isotopic_abundances' is not defined"
          ]
        }
      ],
      "source": [
        "for element, count in composition(mol).items():\n",
        "    abundance = isotopic_abundances[element]\n",
        "    contribution *= pow(abundance, count)\n",
        "    contribution *= binomial_coefficient(molecular_formula[element_symbol], count)\n",
        "return contribution\n"
      ]
    }
  ],
  "metadata": {
    "colab": {
      "provenance": []
    },
    "kernelspec": {
      "display_name": "Python 3",
      "name": "python3"
    },
    "language_info": {
      "codemirror_mode": {
        "name": "ipython",
        "version": 3
      },
      "file_extension": ".py",
      "mimetype": "text/x-python",
      "name": "python",
      "nbconvert_exporter": "python",
      "pygments_lexer": "ipython3",
      "version": "3.11.0"
    }
  },
  "nbformat": 4,
  "nbformat_minor": 0
}
