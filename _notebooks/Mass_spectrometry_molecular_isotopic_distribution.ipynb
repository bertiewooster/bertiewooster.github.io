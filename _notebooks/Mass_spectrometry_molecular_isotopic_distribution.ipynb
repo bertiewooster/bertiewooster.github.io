{
  "cells": [
    {
      "cell_type": "code",
      "execution_count": 2,
      "metadata": {
        "colab": {
          "base_uri": "https://localhost:8080/"
        },
        "id": "d4IboaHubzIu",
        "outputId": "32332cde-403c-4ba7-e119-b3cbb09a8d7d"
      },
      "outputs": [
        {
          "name": "stdout",
          "output_type": "stream",
          "text": [
            "Collecting rdkit\n",
            "  Downloading rdkit-2023.3.3-cp310-cp310-manylinux_2_17_x86_64.manylinux2014_x86_64.whl (29.7 MB)\n",
            "\u001b[2K     \u001b[90m━━━━━━━━━━━━━━━━━━━━━━━━━━━━━━━━━━━━━━━━\u001b[0m \u001b[32m29.7/29.7 MB\u001b[0m \u001b[31m61.0 MB/s\u001b[0m eta \u001b[36m0:00:00\u001b[0m\n",
            "\u001b[?25hRequirement already satisfied: numpy in /usr/local/lib/python3.10/dist-packages (from rdkit) (1.23.5)\n",
            "Requirement already satisfied: Pillow in /usr/local/lib/python3.10/dist-packages (from rdkit) (9.4.0)\n",
            "Installing collected packages: rdkit\n",
            "Successfully installed rdkit-2023.3.3\n",
            "Collecting mendeleev\n",
            "  Downloading mendeleev-0.14.0-py3-none-any.whl (353 kB)\n",
            "\u001b[2K     \u001b[90m━━━━━━━━━━━━━━━━━━━━━━━━━━━━━━━━━━━━━━━\u001b[0m \u001b[32m353.1/353.1 kB\u001b[0m \u001b[31m6.5 MB/s\u001b[0m eta \u001b[36m0:00:00\u001b[0m\n",
            "\u001b[?25hRequirement already satisfied: Pygments<3.0.0,>=2.8.0 in /usr/local/lib/python3.10/dist-packages (from mendeleev) (2.16.1)\n",
            "Requirement already satisfied: SQLAlchemy>=1.4.0 in /usr/local/lib/python3.10/dist-packages (from mendeleev) (2.0.20)\n",
            "Collecting colorama<0.5.0,>=0.4.4 (from mendeleev)\n",
            "  Downloading colorama-0.4.6-py2.py3-none-any.whl (25 kB)\n",
            "Requirement already satisfied: numpy<2.0,>=1.21 in /usr/local/lib/python3.10/dist-packages (from mendeleev) (1.23.5)\n",
            "Requirement already satisfied: pandas>=1.0.0 in /usr/local/lib/python3.10/dist-packages (from mendeleev) (1.5.3)\n",
            "Collecting pyfiglet<0.9,>=0.8.post1 (from mendeleev)\n",
            "  Downloading pyfiglet-0.8.post1-py2.py3-none-any.whl (865 kB)\n",
            "\u001b[2K     \u001b[90m━━━━━━━━━━━━━━━━━━━━━━━━━━━━━━━━━━━━━━\u001b[0m \u001b[32m865.8/865.8 kB\u001b[0m \u001b[31m12.5 MB/s\u001b[0m eta \u001b[36m0:00:00\u001b[0m\n",
            "\u001b[?25hRequirement already satisfied: six<2.0.0,>=1.15.0 in /usr/local/lib/python3.10/dist-packages (from mendeleev) (1.16.0)\n",
            "Requirement already satisfied: python-dateutil>=2.8.1 in /usr/local/lib/python3.10/dist-packages (from pandas>=1.0.0->mendeleev) (2.8.2)\n",
            "Requirement already satisfied: pytz>=2020.1 in /usr/local/lib/python3.10/dist-packages (from pandas>=1.0.0->mendeleev) (2023.3.post1)\n",
            "Requirement already satisfied: typing-extensions>=4.2.0 in /usr/local/lib/python3.10/dist-packages (from SQLAlchemy>=1.4.0->mendeleev) (4.5.0)\n",
            "Requirement already satisfied: greenlet!=0.4.17 in /usr/local/lib/python3.10/dist-packages (from SQLAlchemy>=1.4.0->mendeleev) (2.0.2)\n",
            "Installing collected packages: pyfiglet, colorama, mendeleev\n",
            "Successfully installed colorama-0.4.6 mendeleev-0.14.0 pyfiglet-0.8.post1\n"
          ]
        }
      ],
      "source": [
        "!pip install rdkit\n",
        "!pip install mendeleev"
      ]
    },
    {
      "cell_type": "code",
      "execution_count": 206,
      "metadata": {
        "id": "wRuWV7bBcIht"
      },
      "outputs": [],
      "source": [
        "from collections import defaultdict\n",
        "import copy\n",
        "import math\n",
        "from rdkit import Chem\n",
        "from rdkit.Chem import Descriptors\n",
        "import numpy as np\n",
        "import seaborn as sns\n",
        "import pandas as pd\n",
        "import matplotlib.pyplot as plt\n",
        "from mendeleev import isotope, element"
      ]
    },
    {
      "cell_type": "code",
      "execution_count": 123,
      "metadata": {
        "id": "VtUA9zXWxX1E"
      },
      "outputs": [],
      "source": [
        "# sml = \"C=C=O\"\n",
        "\n",
        "# sml = \"ClC(Cl)Cl\"\n",
        "\n",
        "# Carbon tetrachloride; four Cl\n",
        "sml = \"ClC(Cl)(Cl)Cl\"\n",
        "\n",
        "# sml = \"c1ccccc1\" # benzene; boring\n",
        "\n",
        "# Calcium carbonate; boring\n",
        "# sml = \"[Ca+2].[O-]C([O-])=O\"\n",
        "\n",
        "# FeCl3; good for distinguishing very similar masses\n",
        "# sml = \"Cl[Fe](Cl)Cl\"\n",
        "\n",
        "# Cl2; simple case\n",
        "# sml = \"ClCl\""
      ]
    },
    {
      "cell_type": "code",
      "execution_count": 124,
      "metadata": {
        "id": "Juw0px-Zb_fM"
      },
      "outputs": [],
      "source": [
        "mol = Chem.MolFromSmiles(sml)"
      ]
    },
    {
      "cell_type": "code",
      "execution_count": 126,
      "metadata": {
        "colab": {
          "base_uri": "https://localhost:8080/",
          "height": 167
        },
        "id": "Rtwkl6ujcv_X",
        "outputId": "32a45936-d608-4bc0-b3b3-87662ec3f726"
      },
      "outputs": [
        {
          "data": {
            "image/png": "[encoded data removed]",
            "text/plain": [
              "<rdkit.Chem.rdchem.Mol at 0x1596eec70>"
            ]
          },
          "execution_count": 126,
          "metadata": {},
          "output_type": "execute_result"
        }
      ],
      "source": [
        "mol"
      ]
    },
    {
      "cell_type": "code",
      "execution_count": 127,
      "metadata": {
        "id": "fastgKphp0YA"
      },
      "outputs": [],
      "source": [
        "def atom_set(molecule):\n",
        "    \"\"\"Get the composition of an RDKit molecule:\n",
        "    Atomic counts, including hydrogen atoms, and any charge.\n",
        "    For example, fluoride ion (chemical formula F-, SMILES string [F-])\n",
        "    returns {9: 1, 0: -1}.\n",
        "\n",
        "    :param molecule: The molecule to analyze\n",
        "    :type some_input: An RDKit molecule\n",
        "    :rtype: A dictionary.\n",
        "    \"\"\"\n",
        "    # Check that there is a valid molecule\n",
        "    if molecule:\n",
        "      # Add hydrogen atoms--RDKit excludes them by default\n",
        "      molecule_with_Hs = Chem.AddHs(molecule)\n",
        "      atom_symbols = set(atom.GetSymbol() for atom in mol.GetAtoms())\n",
        "      return atom_symbols"
      ]
    },
    {
      "cell_type": "code",
      "execution_count": 128,
      "metadata": {
        "colab": {
          "base_uri": "https://localhost:8080/"
        },
        "id": "y0pa1z4cqK-m",
        "outputId": "c87e717a-dce5-451f-b360-774caae34e8a"
      },
      "outputs": [
        {
          "name": "stdout",
          "output_type": "stream",
          "text": [
            "{'Cl': [[35, 0.758], [37, 0.242]], 'C': [[12, 0.9894], [13, 0.0106]]}\n"
          ]
        }
      ],
      "source": [
        "from mendeleev import isotope, element\n",
        "set_of_atoms = atom_set(mol)\n",
        "# print(set_of_atoms)\n",
        "isotopes = {}\n",
        "for atom in set_of_atoms:\n",
        "  # print(f\"{atom=}\")\n",
        "  # print(f\"{element(atom)=}\")\n",
        "  element_isotopes = element(atom).isotopes\n",
        "  occuring_isotopes = [[isotope.mass_number, isotope.abundance/100] for isotope in element_isotopes if isotope.abundance != None]\n",
        "  isotopes[atom] = occuring_isotopes\n",
        "print(isotopes)"
      ]
    },
    {
      "cell_type": "code",
      "execution_count": 129,
      "metadata": {
        "id": "nJE9ITr1wCJw"
      },
      "outputs": [],
      "source": [
        "class MolecularIsotope():\n",
        "  \"\"\"Store a molecule's isotopic properties.\"\"\"\n",
        "  def __init__(\n",
        "      self,\n",
        "      sml: str,\n",
        "      abundance: float = None):\n",
        "    self.sml = sml\n",
        "    self.abundance = abundance\n",
        "    try:\n",
        "      self.mol = Chem.MolFromSmiles(sml)\n",
        "    except:\n",
        "      self.mol = Chem.MolFromSmiles(sml, sanitize=False)\n",
        "    self.mass = Descriptors.ExactMolWt(self.mol)\n",
        "  def update(self):\n",
        "    self.mass = Descriptors.ExactMolWt(self.mol)\n",
        "    self.canon_sml = Chem.MolToSmiles(mol)"
      ]
    },
    {
      "cell_type": "code",
      "execution_count": 130,
      "metadata": {
        "id": "nx1LuiS4xmcf"
      },
      "outputs": [],
      "source": [
        "def set_isotopes(arr:np.ndarray, sml: str, current_index=()):\n",
        "    if isinstance(arr, np.ndarray):\n",
        "        for i in range(len(arr)):\n",
        "            arr[i] = set_isotopes(arr=arr[i], current_index=current_index + (i,), sml=sml)\n",
        "        return arr\n",
        "    else:\n",
        "        # For an individual item in the ndarray,\n",
        "        #   create molecule and set the isotopes of each of its atoms\n",
        "        item = MolecularIsotope(sml=sml)\n",
        "        mol = item.mol\n",
        "        abundance = 1\n",
        "        for atom_index, atom in enumerate(mol.GetAtoms()):\n",
        "          atom_symbol = atom.GetSymbol()\n",
        "          isotope_data_to_use = isotopes[atom_symbol][current_index[atom_index]]\n",
        "          isotope_to_use = isotope_data_to_use[0]\n",
        "          atom.SetIsotope(isotope_to_use)\n",
        "          abundance *= isotope_data_to_use[1]\n",
        "        item.update()\n",
        "        item.abundance = abundance\n",
        "        return item"
      ]
    },
    {
      "cell_type": "code",
      "execution_count": 131,
      "metadata": {
        "colab": {
          "base_uri": "https://localhost:8080/",
          "height": 214
        },
        "id": "YZHbdHUQ34I8",
        "outputId": "d66d2de2-3525-4fab-a102-44fca6cde713"
      },
      "outputs": [],
      "source": [
        "num_atoms = len(mol.GetAtoms())\n",
        "\n",
        "# Build iterable of number of isotopes by atom index\n",
        "isotopes_by_atom_index = ()\n",
        "for atom_index, atom in enumerate(mol.GetAtoms()):\n",
        "  atom_symbol = atom.GetSymbol()\n",
        "  isotopes_by_atom_index += (len(isotopes[atom_symbol]),)"
      ]
    },
    {
      "cell_type": "code",
      "execution_count": 132,
      "metadata": {
        "id": "-mOyFi_oEQdD"
      },
      "outputs": [],
      "source": [
        "# Create the empty numpy ndarray with the specified shape\n",
        "mol_isotopes = np.empty(isotopes_by_atom_index, dtype=object)\n",
        "\n",
        "# Set the isotopes for each atom in each molecule\n",
        "mol_isotopes = set_isotopes(arr = mol_isotopes, sml = sml, current_index=())"
      ]
    },
    {
      "cell_type": "code",
      "execution_count": 133,
      "metadata": {
        "id": "WCGCdHp3KTj4"
      },
      "outputs": [],
      "source": [
        "def flatten_ndarray(arr):\n",
        "    flat_list = []\n",
        "    for element in arr:\n",
        "        if isinstance(element, np.ndarray):\n",
        "            flat_list.extend(flatten_ndarray(element))\n",
        "        else:\n",
        "            flat_list.append(element)\n",
        "    return flat_list"
      ]
    },
    {
      "cell_type": "code",
      "execution_count": 134,
      "metadata": {
        "id": "z_VNatEYKX08"
      },
      "outputs": [
        {
          "data": {
            "text/plain": [
              "32"
            ]
          },
          "execution_count": 134,
          "metadata": {},
          "output_type": "execute_result"
        }
      ],
      "source": [
        "mol_isotopes_flat = flatten_ndarray(mol_isotopes)\n",
        "mol_isotopes_flat.sort(key=lambda x:x.mass)\n",
        "len(mol_isotopes_flat)"
      ]
    },
    {
      "cell_type": "code",
      "execution_count": 135,
      "metadata": {
        "id": "Cwm66OrO0BbQ"
      },
      "outputs": [],
      "source": [
        "mols_flat = [mol_isotope.mol for mol_isotope in mol_isotopes_flat]\n",
        "abundance_flat = [mol_isotope.abundance for mol_isotope in mol_isotopes_flat]\n",
        "mass_flat = [mol_isotope.mass for mol_isotope in mol_isotopes_flat]\n",
        "legends = [f\"{mass:.3f}: {abundance:.3f}\" for mass, abundance in zip(mass_flat, abundance_flat)]\n",
        "abundance_sum = sum(abundance_flat)\n",
        "# Chem.Draw.MolsToGridImage(mols = mols_flat, legends = legends, molsPerRow=3)"
      ]
    },
    {
      "cell_type": "markdown",
      "metadata": {
        "id": "5_3t4Iar0yKI"
      },
      "source": [
        "It might be tempting to match molecules by mass, but a floating-point value can have some error or uncertainty. In some cases, the mass differences between different species can be quite small (for example less than 0.002 amu if the sum of the mass numbers is the same), so adding a tolerance risks lumping different molecules together. So it's best to use some discrete identifier. In this case, we use the SMILES, which contains isotope labels."
      ]
    },
    {
      "cell_type": "code",
      "execution_count": 136,
      "metadata": {
        "id": "H-lXcOSxJ2Gk"
      },
      "outputs": [],
      "source": [
        "# Merge identical molecules\n",
        "merged_molecular_isotpes = [mol_isotopes_flat[0]]\n",
        "for molecular_isotope in mol_isotopes_flat[1:]:\n",
        "  last_merged = merged_molecular_isotpes[-1]\n",
        "  if Chem.MolToSmiles(molecular_isotope.mol) == Chem.MolToSmiles(last_merged.mol):\n",
        "    last_merged.abundance += molecular_isotope.abundance\n",
        "  else:\n",
        "    merged_molecular_isotpes.append(molecular_isotope)"
      ]
    },
    {
      "cell_type": "code",
      "execution_count": 137,
      "metadata": {
        "id": "HrVbW7R97bG2"
      },
      "outputs": [],
      "source": [
        "mols_merged_flat = [mol_isotope.mol for mol_isotope in merged_molecular_isotpes]\n",
        "abundance_merged_flat = [mol_isotope.abundance for mol_isotope in merged_molecular_isotpes]\n",
        "mass_merged_flat = [mol_isotope.mass for mol_isotope in merged_molecular_isotpes]\n",
        "legends = [f\"{mass:.9f}: {abundance:.3f}\" for mass, abundance in zip(mass_merged_flat, abundance_merged_flat)]"
      ]
    },
    {
      "cell_type": "code",
      "execution_count": 138,
      "metadata": {
        "id": "2QIVUCzlwT3p"
      },
      "outputs": [
        {
          "name": "stdout",
          "output_type": "stream",
          "text": [
            "151.875410720: 0.327\n",
            "152.878765560: 0.003\n",
            "153.872460630: 0.417\n",
            "154.875815470: 0.004\n",
            "155.869510540: 0.200\n",
            "156.872865380: 0.002\n",
            "157.866560450: 0.043\n",
            "158.869915290: 0.000\n",
            "159.863610360: 0.003\n",
            "160.866965200: 0.000\n"
          ]
        }
      ],
      "source": [
        "for legend in legends:\n",
        "  print(legend)"
      ]
    },
    {
      "cell_type": "code",
      "execution_count": 139,
      "metadata": {
        "id": "u3jemZoUyv84"
      },
      "outputs": [
        {
          "name": "stdout",
          "output_type": "stream",
          "text": [
            "1    152.87876555999998        151.87541072              1.0033548399999859\n",
            "2    153.87246062999998        152.87876555999998        0.9936950700000011\n",
            "3    154.87581547              153.87246062999998        1.0033548400000143\n",
            "4    155.86951054              154.87581547              0.9936950700000011\n",
            "5    156.87286538              155.86951054              1.0033548400000143\n",
            "6    157.86656045              156.87286538              0.9936950700000011\n",
            "7    158.86991529              157.86656045              1.0033548399999859\n",
            "8    159.86361036              158.86991529              0.9936950700000011\n"
          ]
        }
      ],
      "source": [
        "# Print masses and differences between adjacent molecules\n",
        "for index, mass in enumerate(mass_merged_flat):\n",
        "  if all([index > 0, index < len(mass_merged_flat) - 1]):\n",
        "    print(f\"{index:<4} {mass:<25} {mass_merged_flat[index-1]:<25} {mass - mass_merged_flat[index-1]}\")"
      ]
    },
    {
      "cell_type": "code",
      "execution_count": 140,
      "metadata": {
        "id": "SKkqm0Yr7R9u"
      },
      "outputs": [
        {
          "data": {
            "image/png": "[encoded data removed]",
            "text/plain": [
              "<IPython.core.display.Image object>"
            ]
          },
          "execution_count": 140,
          "metadata": {},
          "output_type": "execute_result"
        }
      ],
      "source": [
        "Chem.Draw.MolsToGridImage(mols = mols_merged_flat, legends = legends)"
      ]
    },
    {
      "cell_type": "code",
      "execution_count": 141,
      "metadata": {
        "id": "RR1W2ANv2ALB"
      },
      "outputs": [
        {
          "name": "stdout",
          "output_type": "stream",
          "text": [
            "1.0\n"
          ]
        }
      ],
      "source": [
        "abundance_sum = sum(abundance_merged_flat)\n",
        "print(abundance_sum)"
      ]
    },
    {
      "cell_type": "code",
      "execution_count": 142,
      "metadata": {
        "id": "pczHCrT9HUlo"
      },
      "outputs": [],
      "source": [
        "df = pd.DataFrame({\n",
        "    'Mass': mass_merged_flat,\n",
        "    'Abundance': abundance_merged_flat\n",
        "})"
      ]
    },
    {
      "cell_type": "code",
      "execution_count": 143,
      "metadata": {
        "id": "krjigvHivySP"
      },
      "outputs": [],
      "source": [
        "df = df.loc[df['Abundance'] >= 0.01]"
      ]
    },
    {
      "cell_type": "code",
      "execution_count": 144,
      "metadata": {
        "id": "Z1Hg_meIIJLi"
      },
      "outputs": [
        {
          "name": "stderr",
          "output_type": "stream",
          "text": [
            "/Users/jemonat/Projects/bertiewooster.github.io/venv/lib/python3.11/site-packages/seaborn/_oldcore.py:1498: FutureWarning: is_categorical_dtype is deprecated and will be removed in a future version. Use isinstance(dtype, CategoricalDtype) instead\n",
            "  if pd.api.types.is_categorical_dtype(vector):\n",
            "/Users/jemonat/Projects/bertiewooster.github.io/venv/lib/python3.11/site-packages/seaborn/_oldcore.py:1498: FutureWarning: is_categorical_dtype is deprecated and will be removed in a future version. Use isinstance(dtype, CategoricalDtype) instead\n",
            "  if pd.api.types.is_categorical_dtype(vector):\n"
          ]
        },
        {
          "data": {
            "image/png": "[encoded data removed]",
            "text/plain": [
              "<Figure size 640x480 with 1 Axes>"
            ]
          },
          "metadata": {},
          "output_type": "display_data"
        }
      ],
      "source": [
        "# Create the scatter plot using Seaborn\n",
        "sns.scatterplot(x='Mass', y='Abundance', data=df, marker='')\n",
        "\n",
        "plt.xlabel('Mass')\n",
        "plt.ylabel('Abundance')\n",
        "plt.title(f'{sml} molecular isotopic distribution')\n",
        "\n",
        "# Adjust x-axis limits to allow more space on the left and right for labels\n",
        "xrange = max(df['Mass']) - min(df['Mass'])\n",
        "xpad = xrange * 0.15\n",
        "plt.xlim(min(df['Mass']) - xpad, max(df['Mass']) + xpad)\n",
        "\n",
        "# Adjust y-axis limits to start at zero and allow more space on the top for labels\n",
        "yrange = max(df['Abundance']) - min(df['Abundance'])\n",
        "ypad = yrange * 0.1\n",
        "plt.ylim(0, max(df['Abundance']) + ypad)\n",
        "\n",
        "# Add vertical lines from each data point to the x-axis\n",
        "for x, y in zip(df['Mass'], df['Abundance']):\n",
        "    plt.vlines(x=x, ymin=0, ymax=y, colors='black')\n",
        "    # Label the data points by mass\n",
        "    plt.text(x=x, y=y, s=f'{x:.5f}', ha='center', va='bottom')\n",
        "\n",
        "plt.show()"
      ]
    },
    {
      "cell_type": "code",
      "execution_count": 145,
      "metadata": {
        "id": "36K6X3RX0ZYO"
      },
      "outputs": [],
      "source": [
        "def binomial_coefficient(n, k):\n",
        "    return math.factorial(n) // (math.factorial(k) * math.factorial(n - k))"
      ]
    },
    {
      "cell_type": "code",
      "execution_count": 146,
      "metadata": {
        "id": "bLCRcm42pz5X"
      },
      "outputs": [
        {
          "data": {
            "text/plain": [
              "3"
            ]
          },
          "execution_count": 146,
          "metadata": {},
          "output_type": "execute_result"
        }
      ],
      "source": [
        "binomial_coefficient(3,2)"
      ]
    },
    {
      "cell_type": "code",
      "execution_count": 147,
      "metadata": {
        "id": "zoHAgYtNp1d_"
      },
      "outputs": [
        {
          "data": {
            "text/plain": [
              "3"
            ]
          },
          "execution_count": 147,
          "metadata": {},
          "output_type": "execute_result"
        }
      ],
      "source": [
        "binomial_coefficient(3,1)"
      ]
    },
    {
      "cell_type": "code",
      "execution_count": 148,
      "metadata": {
        "id": "FLMcvaxfzFY4"
      },
      "outputs": [],
      "source": [
        "def composition(molecule):\n",
        "    \"\"\"Get the composition of an RDKit molecule:\n",
        "    Atomic counts, including hydrogen atoms, and any charge.\n",
        "    For example, fluoride ion (chemical formula F-, SMILES string [F-])\n",
        "    returns {9: 1, 0: -1}.\n",
        "\n",
        "    :param molecule: The molecule to analyze\n",
        "    :type some_input: An RDKit molecule\n",
        "    :rtype: A dictionary.\n",
        "    \"\"\"\n",
        "    # Check that there is a valid molecule\n",
        "    if molecule:\n",
        "\n",
        "        # Add hydrogen atoms--RDKit excludes them by default\n",
        "        molecule_with_Hs = Chem.AddHs(molecule)\n",
        "        comp = defaultdict(lambda: 0)\n",
        "\n",
        "        # Get atom counts\n",
        "        for atom in molecule_with_Hs.GetAtoms():\n",
        "            comp[atom.GetSymbol()] += 1\n",
        "\n",
        "        return comp"
      ]
    },
    {
      "cell_type": "code",
      "execution_count": 149,
      "metadata": {
        "colab": {
          "base_uri": "https://localhost:8080/"
        },
        "id": "eocYpN2MzQ3q",
        "outputId": "fbf9ff7b-9860-489f-90e4-82bfdb9bac68"
      },
      "outputs": [
        {
          "name": "stdout",
          "output_type": "stream",
          "text": [
            "Cl 4\n",
            "C 1\n"
          ]
        }
      ],
      "source": [
        "for element, count in composition(mol).items():\n",
        "  print(element, count)"
      ]
    },
    {
      "cell_type": "code",
      "execution_count": 150,
      "metadata": {
        "colab": {
          "base_uri": "https://localhost:8080/"
        },
        "id": "yR8HE-1bL-8a",
        "outputId": "8fa99e7a-2d31-4499-f330-43e4c605b386"
      },
      "outputs": [
        {
          "data": {
            "text/plain": [
              "4"
            ]
          },
          "execution_count": 150,
          "metadata": {},
          "output_type": "execute_result"
        }
      ],
      "source": [
        "composition(mol)[\"Cl\"]"
      ]
    },
    {
      "cell_type": "code",
      "execution_count": 151,
      "metadata": {
        "colab": {
          "base_uri": "https://localhost:8080/"
        },
        "id": "TESqhkwVRwCK",
        "outputId": "e9c9a972-2321-49aa-dc5c-0c1f4f353652"
      },
      "outputs": [
        {
          "data": {
            "text/plain": [
              "{'Cl': [[35, 0.758], [37, 0.242]], 'C': [[12, 0.9894], [13, 0.0106]]}"
            ]
          },
          "execution_count": 151,
          "metadata": {},
          "output_type": "execute_result"
        }
      ],
      "source": [
        "isotopes"
      ]
    },
    {
      "cell_type": "code",
      "execution_count": 152,
      "metadata": {
        "id": "_Q9n0K7aLeyS"
      },
      "outputs": [],
      "source": [
        "def distribute_items(n, k):\n",
        "    def backtrack(remaining_items, bins, current_bin):\n",
        "        if current_bin == k:\n",
        "            if remaining_items == 0:\n",
        "                results.append(list(bins))\n",
        "            return\n",
        "\n",
        "        for items_in_current_bin in range(remaining_items + 1):\n",
        "            bins[current_bin] = items_in_current_bin\n",
        "            backtrack(remaining_items - items_in_current_bin, bins, current_bin + 1)\n",
        "\n",
        "    results = []\n",
        "    bins = [0] * k\n",
        "    backtrack(n, bins, 0)\n",
        "    return results"
      ]
    },
    {
      "cell_type": "code",
      "execution_count": 153,
      "metadata": {},
      "outputs": [
        {
          "data": {
            "text/plain": [
              "defaultdict(<function __main__.composition.<locals>.<lambda>()>,\n",
              "            {'Cl': 4, 'C': 1})"
            ]
          },
          "execution_count": 153,
          "metadata": {},
          "output_type": "execute_result"
        }
      ],
      "source": [
        "composition(mol)"
      ]
    },
    {
      "cell_type": "code",
      "execution_count": 183,
      "metadata": {},
      "outputs": [],
      "source": [
        "mols:np.ndarray = np.array(None)"
      ]
    },
    {
      "cell_type": "code",
      "execution_count": 184,
      "metadata": {},
      "outputs": [
        {
          "data": {
            "text/plain": [
              "array(None, dtype=object)"
            ]
          },
          "execution_count": 184,
          "metadata": {},
          "output_type": "execute_result"
        }
      ],
      "source": [
        "mols"
      ]
    },
    {
      "cell_type": "code",
      "execution_count": 186,
      "metadata": {},
      "outputs": [
        {
          "name": "stdout",
          "output_type": "stream",
          "text": [
            "[42 42 42 42 42]\n",
            "[ 7 42 42 42 42]\n"
          ]
        }
      ],
      "source": [
        "import numpy as np\n",
        "\n",
        "# Create a zero-dimensional ndarray\n",
        "zero_dim_array = np.array(42)\n",
        "\n",
        "# Repeat the zero-dimensional array n times to create a 1-dimensional array\n",
        "n = 5  # Change this to the desired number of repetitions\n",
        "one_dim_array = np.repeat(zero_dim_array, n)\n",
        "\n",
        "# Print the one-dimensional array\n",
        "print(one_dim_array)\n",
        "\n",
        "one_dim_array[0] = 7\n",
        "\n",
        "print(one_dim_array)"
      ]
    },
    {
      "cell_type": "code",
      "execution_count": 178,
      "metadata": {},
      "outputs": [
        {
          "name": "stdout",
          "output_type": "stream",
          "text": [
            "42\n",
            "()\n"
          ]
        }
      ],
      "source": [
        "import numpy as np\n",
        "\n",
        "# Create a zero-dimensional ndarray\n",
        "zero_dim_array = np.array(42)\n",
        "\n",
        "# Print the array and its shape (should be an empty tuple)\n",
        "print(zero_dim_array)\n",
        "print(zero_dim_array.shape)"
      ]
    },
    {
      "cell_type": "code",
      "execution_count": 225,
      "metadata": {
        "colab": {
          "base_uri": "https://localhost:8080/"
        },
        "id": "lxUdKcCCLjsj",
        "outputId": "e218f608-f993-4e7c-fd06-f7d88b6a1210"
      },
      "outputs": [
        {
          "name": "stdout",
          "output_type": "stream",
          "text": [
            "type(mols)=<class 'numpy.ndarray'>\n",
            "Start: mols=array(<rdkit.Chem.rdchem.Mol object at 0x1390a5940>, dtype=object)\n",
            "Cl 4\n",
            "Before adding a dimension: mols.shape=()\n",
            "type(mols)=<class 'numpy.ndarray'>\n",
            "len(mols)=5\n",
            "mols=array([<rdkit.Chem.rdchem.Mol object at 0x1390a54e0>,\n",
            "       <rdkit.Chem.rdchem.Mol object at 0x1390a65c0>,\n",
            "       <rdkit.Chem.rdchem.Mol object at 0x1390a48b0>,\n",
            "       <rdkit.Chem.rdchem.Mol object at 0x1384ff240>,\n",
            "       <rdkit.Chem.rdchem.Mol object at 0x1384fcb30>], dtype=object)\n",
            "n_this_element=4\n",
            "[0, 4]\n",
            "a=0.0034297420959999996 b=1 a*b=0.0034297420959999996 sum_ab=0.0034297420959999996\n",
            "distribution_countdown=[0, 4]\n",
            "distribution_countdown=[0, 3]\n",
            "distribution_countdown=[0, 2]\n",
            "distribution_countdown=[0, 1]\n",
            "distribution_countdown=[0, 0]\n",
            "[1, 3]\n",
            "a=0.010742745904 b=4 a*b=0.042970983616 sum_ab=0.046400725712\n",
            "distribution_countdown=[1, 3]\n",
            "distribution_countdown=[0, 3]\n",
            "distribution_countdown=[0, 2]\n",
            "distribution_countdown=[0, 1]\n",
            "distribution_countdown=[0, 0]\n",
            "[2, 2]\n",
            "a=0.033648766095999996 b=6 a*b=0.20189259657599998 sum_ab=0.24829332228799997\n",
            "distribution_countdown=[2, 2]\n",
            "distribution_countdown=[1, 2]\n",
            "distribution_countdown=[0, 2]\n",
            "distribution_countdown=[0, 1]\n",
            "distribution_countdown=[0, 0]\n",
            "[3, 1]\n",
            "a=0.105395721904 b=4 a*b=0.421582887616 sum_ab=0.669876209904\n",
            "distribution_countdown=[3, 1]\n",
            "distribution_countdown=[2, 1]\n",
            "distribution_countdown=[1, 1]\n",
            "distribution_countdown=[0, 1]\n",
            "distribution_countdown=[0, 0]\n",
            "[4, 0]\n",
            "a=0.330123790096 b=1 a*b=0.330123790096 sum_ab=1.0\n",
            "distribution_countdown=[4, 0]\n",
            "distribution_countdown=[3, 0]\n",
            "distribution_countdown=[2, 0]\n",
            "distribution_countdown=[1, 0]\n",
            "distribution_countdown=[0, 0]\n",
            "C 1\n",
            "Before adding a dimension: mols.shape=(5,)\n",
            "type(mols)=<class 'numpy.ndarray'>\n",
            "len(mols)=5\n",
            "mols=array([<rdkit.Chem.rdchem.Mol object at 0x1390a54e0>,\n",
            "       <rdkit.Chem.rdchem.Mol object at 0x1390a65c0>,\n",
            "       <rdkit.Chem.rdchem.Mol object at 0x1390a48b0>,\n",
            "       <rdkit.Chem.rdchem.Mol object at 0x1384ff240>,\n",
            "       <rdkit.Chem.rdchem.Mol object at 0x1384fcb30>], dtype=object)\n",
            "n_this_element=1\n",
            "[0, 1]\n",
            "a=0.0106 b=1 a*b=0.0106 sum_ab=0.0106\n",
            "distribution_countdown=[0, 1]\n",
            "distribution_countdown=[0, 0]\n",
            "[1, 0]\n",
            "a=0.9894 b=1 a*b=0.9894 sum_ab=1.0\n",
            "distribution_countdown=[1, 0]\n",
            "distribution_countdown=[0, 0]\n",
            "sum_ab=1.0\n",
            "mols=array([[<rdkit.Chem.rdchem.Mol object at 0x1395035a0>,\n",
            "        <rdkit.Chem.rdchem.Mol object at 0x1395031b0>,\n",
            "        <rdkit.Chem.rdchem.Mol object at 0x1596ed070>,\n",
            "        <rdkit.Chem.rdchem.Mol object at 0x1596eceb0>,\n",
            "        <rdkit.Chem.rdchem.Mol object at 0x1596eca50>],\n",
            "       [<rdkit.Chem.rdchem.Mol object at 0x1596ec6d0>,\n",
            "        <rdkit.Chem.rdchem.Mol object at 0x158fee880>,\n",
            "        <rdkit.Chem.rdchem.Mol object at 0x158fefa00>,\n",
            "        <rdkit.Chem.rdchem.Mol object at 0x158fef220>,\n",
            "        <rdkit.Chem.rdchem.Mol object at 0x158fee180>]], dtype=object)\n",
            "type(mols)=<class 'numpy.ndarray'>\n"
          ]
        }
      ],
      "source": [
        "#Debugging only!\n",
        "# isotopes = {'Cl': [[35, 0.5], [37, 0.5]]}\n",
        "\n",
        "# Create a list to store the dimensions at each step\n",
        "dimensions = []\n",
        "\n",
        "mols:np.ndarray = np.array(Chem.Mol(mol))\n",
        "print(f\"{type(mols)=}\")\n",
        "print(f\"Start: {mols=}\")\n",
        "for this_element, n_this_element in composition(mol).items():\n",
        "  print(this_element, n_this_element)\n",
        "  n_isotopes_this_element = len(isotopes[this_element])\n",
        "  isotope_count_distribution = distribute_items(n_this_element, n_isotopes_this_element)\n",
        "  n_distributions = len(isotope_count_distribution)\n",
        "  # mols = np.repeat(mols, n_distributions)\n",
        "  # mols = np.tile(mols, (n_distributions, 1))\n",
        "  print(f\"Before adding a dimension: {mols.shape=}\")\n",
        "  \n",
        "  if mols.shape == ():\n",
        "     mols = np.array([Chem.Mol(mol) for _ in range(n_distributions)], dtype=object)\n",
        "     print(f\"{type(mols)=}\")\n",
        "  else:\n",
        "    # Create a list of copies of the current object\n",
        "    mols_list = [copy.deepcopy(mols) for _ in range(n_distributions)]\n",
        "\n",
        "    # Append the current object (list of copies) to the dimensions list\n",
        "    dimensions.append(copy.deepcopy(mols_list))\n",
        "\n",
        "    print(f\"{type(mols)=}\")\n",
        "    \n",
        "  print(f\"{len(mols)=}\")\n",
        "\n",
        "  print(f\"{mols=}\")\n",
        "\n",
        "  print(f\"{n_this_element=}\")\n",
        "\n",
        "  sum_ab = 0\n",
        "  masses = []\n",
        "  for distribution_index, distribution in enumerate(isotope_count_distribution):\n",
        "      print(distribution)\n",
        "      a = 1\n",
        "      b = binomial_coefficient(n_this_element, distribution[0])\n",
        "      for isotope_index, isotope_count in enumerate(distribution):\n",
        "        a_this_isotope = isotopes[this_element][isotope_index][1]\n",
        "        a *= a_this_isotope**isotope_count\n",
        "      ab = a*b\n",
        "      sum_ab += ab\n",
        "      print(f\"{a=} {b=} {a*b=} {sum_ab=}\")\n",
        "\n",
        "      # To determine mass, set the correct number of atoms to each isotope\n",
        "      distribution_countdown = distribution.copy()\n",
        "      print(f\"{distribution_countdown=}\")\n",
        "      for atom_index, atom in enumerate(this_mol.GetAtoms()):\n",
        "        if atom.GetSymbol() == this_element:\n",
        "          # Count down each isotope count, going on to the next when zero\n",
        "          for isotope_index, isotope in enumerate(distribution):\n",
        "            if distribution_countdown[isotope_index] > 0:\n",
        "                # print(f\"{isotopes[this_element][isotope_index][0]=}\")\n",
        "                atom.SetIsotope(isotopes[this_element][isotope_index][0])\n",
        "                distribution_countdown[isotope_index] -= 1\n",
        "                print(f\"{distribution_countdown=}\")\n",
        "                break\n",
        "      pass\n",
        "print(f\"{sum_ab=}\")\n",
        "mols = np.array(dimensions[-1])\n",
        "print(f\"{mols=}\")\n",
        "print(f\"{type(mols)=}\")\n"
      ]
    },
    {
      "cell_type": "code",
      "execution_count": 210,
      "metadata": {},
      "outputs": [
        {
          "data": {
            "text/plain": [
              "2"
            ]
          },
          "execution_count": 210,
          "metadata": {},
          "output_type": "execute_result"
        }
      ],
      "source": [
        "len(mols)"
      ]
    },
    {
      "cell_type": "code",
      "execution_count": 216,
      "metadata": {},
      "outputs": [
        {
          "name": "stdout",
          "output_type": "stream",
          "text": [
            "[[[{'name': 'Alice', 'age': 30} {'name': 'Alice', 'age': 30}\n",
            "   {'name': 'Alice', 'age': 30} {'name': 'Alice', 'age': 30}]\n",
            "  [{'name': 'Alice', 'age': 30} {'name': 'Alice', 'age': 30}\n",
            "   {'name': 'Alice', 'age': 30} {'name': 'Alice', 'age': 30}]\n",
            "  [{'name': 'Alice', 'age': 30} {'name': 'Alice', 'age': 30}\n",
            "   {'name': 'Alice', 'age': 30} {'name': 'Alice', 'age': 30}]\n",
            "  [{'name': 'Alice', 'age': 30} {'name': 'Alice', 'age': 30}\n",
            "   {'name': 'Alice', 'age': 30} {'name': 'Alice', 'age': 30}]]\n",
            "\n",
            " [[{'name': 'Alice', 'age': 30} {'name': 'Alice', 'age': 30}\n",
            "   {'name': 'Alice', 'age': 30} {'name': 'Alice', 'age': 30}]\n",
            "  [{'name': 'Alice', 'age': 30} {'name': 'Alice', 'age': 30}\n",
            "   {'name': 'Alice', 'age': 30} {'name': 'Alice', 'age': 30}]\n",
            "  [{'name': 'Alice', 'age': 30} {'name': 'Alice', 'age': 30}\n",
            "   {'name': 'Alice', 'age': 30} {'name': 'Alice', 'age': 30}]\n",
            "  [{'name': 'Alice', 'age': 30} {'name': 'Alice', 'age': 30}\n",
            "   {'name': 'Alice', 'age': 30} {'name': 'Alice', 'age': 30}]]\n",
            "\n",
            " [[{'name': 'Alice', 'age': 30} {'name': 'Alice', 'age': 30}\n",
            "   {'name': 'Alice', 'age': 30} {'name': 'Alice', 'age': 30}]\n",
            "  [{'name': 'Alice', 'age': 30} {'name': 'Alice', 'age': 30}\n",
            "   {'name': 'Alice', 'age': 30} {'name': 'Alice', 'age': 30}]\n",
            "  [{'name': 'Alice', 'age': 30} {'name': 'Alice', 'age': 30}\n",
            "   {'name': 'Alice', 'age': 30} {'name': 'Alice', 'age': 30}]\n",
            "  [{'name': 'Alice', 'age': 30} {'name': 'Alice', 'age': 30}\n",
            "   {'name': 'Alice', 'age': 30} {'name': 'Alice', 'age': 30}]]\n",
            "\n",
            " [[{'name': 'Alice', 'age': 30} {'name': 'Alice', 'age': 30}\n",
            "   {'name': 'Alice', 'age': 30} {'name': 'Alice', 'age': 30}]\n",
            "  [{'name': 'Alice', 'age': 30} {'name': 'Alice', 'age': 30}\n",
            "   {'name': 'Alice', 'age': 30} {'name': 'Alice', 'age': 30}]\n",
            "  [{'name': 'Alice', 'age': 30} {'name': 'Alice', 'age': 30}\n",
            "   {'name': 'Alice', 'age': 30} {'name': 'Alice', 'age': 30}]\n",
            "  [{'name': 'Alice', 'age': 30} {'name': 'Alice', 'age': 30}\n",
            "   {'name': 'Alice', 'age': 30} {'name': 'Alice', 'age': 30}]]]\n"
          ]
        }
      ],
      "source": [
        "import numpy as np\n",
        "import copy\n",
        "\n",
        "# Create an initial 0-dimensional object\n",
        "object0d = {\"name\": \"Alice\", \"age\": 30}\n",
        "\n",
        "# Define the number of dimensions to create (0 to 3)\n",
        "num_dimensions = 3\n",
        "\n",
        "# Define the number of copies to make at each dimension\n",
        "m = 4\n",
        "\n",
        "# Initialize the current object to the 0-dimensional object\n",
        "current_object = object0d\n",
        "\n",
        "# Create a list to store the dimensions at each step\n",
        "dimensions = []\n",
        "\n",
        "# Loop through the desired number of dimensions\n",
        "for _ in range(num_dimensions):\n",
        "    # Create a list of m copies of the current object\n",
        "    current_object = [copy.deepcopy(current_object) for _ in range(m)]\n",
        "    \n",
        "    # Append the current object (list of m copies) to the dimensions list\n",
        "    dimensions.append(copy.deepcopy(current_object))\n",
        "\n",
        "# Convert the dimensions list to a NumPy array\n",
        "final_array = np.array(dimensions[-1])\n",
        "\n",
        "# Print the final multi-dimensional array\n",
        "print(final_array)\n"
      ]
    },
    {
      "cell_type": "code",
      "execution_count": 192,
      "metadata": {},
      "outputs": [
        {
          "data": {
            "text/plain": [
              "[<rdkit.Chem.rdchem.Mol at 0x139430360>,\n",
              " <rdkit.Chem.rdchem.Mol at 0x1390a13a0>]"
            ]
          },
          "execution_count": 192,
          "metadata": {},
          "output_type": "execute_result"
        }
      ],
      "source": [
        "mols"
      ]
    },
    {
      "cell_type": "code",
      "execution_count": 191,
      "metadata": {},
      "outputs": [
        {
          "data": {
            "image/png": "[encoded data removed]",
            "text/plain": [
              "<IPython.core.display.Image object>"
            ]
          },
          "execution_count": 191,
          "metadata": {},
          "output_type": "execute_result"
        }
      ],
      "source": [
        "# Chem.Draw.MolsToGridImage(mols, legends=[str(mass) for mass in masses])\n",
        "Chem.Draw.MolsToGridImage(mols, legends=[str(mass) for mass in masses])"
      ]
    },
    {
      "cell_type": "markdown",
      "metadata": {},
      "source": [
        "Divider"
      ]
    },
    {
      "cell_type": "code",
      "execution_count": 155,
      "metadata": {
        "colab": {
          "base_uri": "https://localhost:8080/"
        },
        "id": "DJSmZUAAQn_u",
        "outputId": "37088835-f313-4ea1-8d33-d6a4269ebaa6"
      },
      "outputs": [],
      "source": [
        "# #Debugging only!\n",
        "# # isotopes = {'Cl': [[35, 0.5], [37, 0.5]]}\n",
        "\n",
        "# n_atoms = 2\n",
        "\n",
        "# n_enumerated = 0\n",
        "# # n_test_atoms = 4\n",
        "# # for isotope_count in range(n_test_atoms + 1):\n",
        "# for isotope_count in range(n_atoms + 1):\n",
        "#     n_enumerated += binomial_coefficient(n_atoms, isotope_count)\n",
        "\n",
        "# print(f\"{n_enumerated=}\")\n",
        "\n",
        "# #Debugging only!\n",
        "# # n_atoms = 3\n",
        "\n",
        "# sum_ab = 0\n",
        "# for isotope_count in range(n_atoms + 1):\n",
        "#   # for isotope in isotopes[\"Cl\"]:\n",
        "#     n_this_isotope = isotope_count\n",
        "#     mass_this_isotope = isotopes[\"Cl\"][0][0]\n",
        "#     n_other_isotope = n_atoms - isotope_count\n",
        "#     mass_other_isotope = isotopes[\"Cl\"][1][0]\n",
        "#     a_this_isotope = isotopes[\"Cl\"][0][1]\n",
        "#     a_other_isotope = isotopes[\"Cl\"][1][1]\n",
        "#     b = binomial_coefficient(n_atoms, n_this_isotope)\n",
        "#     a_from_this_isotope = (a_this_isotope**n_this_isotope)\n",
        "#     a_from_other_isotope = (a_other_isotope**n_other_isotope)\n",
        "#     # print(f\"this isotope : {n_this_isotope} {mass_this_isotope} {a_this_isotope} {a_this_isotope**n_this_isotope} {binomial_coefficient(n_atoms, n_this_isotope)} {a_from_this_isotope}\")\n",
        "#     # print(f\"other isotope: {n_other_isotope} {mass_other_isotope} {a_other_isotope} {a_other_isotope**n_other_isotope} {binomial_coefficient(n_atoms, n_other_isotope)} {a_from_other_isotope}\")\n",
        "#     headers = \"n          Mass     A      Result       Frac A_from\"\n",
        "\n",
        "#     # Define the data for the first isotope\n",
        "#     data1 = f\"{n_this_isotope:<12} {mass_this_isotope:<6} {a_this_isotope:<6} {a_this_isotope**n_this_isotope:<12} {a_from_this_isotope}\"\n",
        "\n",
        "#     # Define the data for the other isotope\n",
        "#     data2 = f\"{n_other_isotope:<12} {mass_other_isotope:<6} {a_other_isotope:<6} {a_other_isotope**n_other_isotope:<12} {a_from_other_isotope}\"\n",
        "\n",
        "#     print(headers)\n",
        "#     print(data1)\n",
        "#     print(data2)\n",
        "\n",
        "#     a = a_from_this_isotope * a_from_other_isotope\n",
        "#     print(f\"{a=} {b=} {a*b=}\")\n",
        "#     sum_ab += a*b\n",
        "# print(f\"{sum_ab=}\")\n",
        "#     # print(isotope)"
      ]
    },
    {
      "cell_type": "code",
      "execution_count": null,
      "metadata": {
        "id": "TVtYmpzrRKqn"
      },
      "outputs": [],
      "source": []
    },
    {
      "cell_type": "code",
      "execution_count": 156,
      "metadata": {
        "id": "XgmQwprdybgs"
      },
      "outputs": [
        {
          "ename": "NameError",
          "evalue": "name 'isotopic_abundances' is not defined",
          "output_type": "error",
          "traceback": [
            "\u001b[0;31m---------------------------------------------------------------------------\u001b[0m",
            "\u001b[0;31mNameError\u001b[0m                                 Traceback (most recent call last)",
            "Cell \u001b[0;32mIn[156], line 2\u001b[0m\n\u001b[1;32m      1\u001b[0m \u001b[39mfor\u001b[39;00m element, count \u001b[39min\u001b[39;00m composition(mol)\u001b[39m.\u001b[39mitems():\n\u001b[0;32m----> 2\u001b[0m     abundance \u001b[39m=\u001b[39m isotopic_abundances[element]\n\u001b[1;32m      3\u001b[0m     contribution \u001b[39m*\u001b[39m\u001b[39m=\u001b[39m \u001b[39mpow\u001b[39m(abundance, count)\n\u001b[1;32m      4\u001b[0m     contribution \u001b[39m*\u001b[39m\u001b[39m=\u001b[39m binomial_coefficient(molecular_formula[element_symbol], count)\n",
            "\u001b[0;31mNameError\u001b[0m: name 'isotopic_abundances' is not defined"
          ]
        }
      ],
      "source": [
        "for element, count in composition(mol).items():\n",
        "    abundance = isotopic_abundances[element]\n",
        "    contribution *= pow(abundance, count)\n",
        "    contribution *= binomial_coefficient(molecular_formula[element_symbol], count)\n",
        "return contribution\n"
      ]
    }
  ],
  "metadata": {
    "colab": {
      "provenance": []
    },
    "kernelspec": {
      "display_name": "Python 3",
      "name": "python3"
    },
    "language_info": {
      "codemirror_mode": {
        "name": "ipython",
        "version": 3
      },
      "file_extension": ".py",
      "mimetype": "text/x-python",
      "name": "python",
      "nbconvert_exporter": "python",
      "pygments_lexer": "ipython3",
      "version": "3.11.0"
    }
  },
  "nbformat": 4,
  "nbformat_minor": 0
}
