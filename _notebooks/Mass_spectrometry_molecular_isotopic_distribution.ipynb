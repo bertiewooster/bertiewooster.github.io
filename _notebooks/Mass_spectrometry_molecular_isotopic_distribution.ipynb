{
  "cells": [
    {
      "cell_type": "markdown",
      "metadata": {},
      "source": [
        "# Molecular Isotopic Distributions Part 1: Enumerating Isotopic Placements"
      ]
    },
    {
      "cell_type": "markdown",
      "metadata": {},
      "source": [
        "Elements can have several [isotopes](https://en.wikipedia.org/wiki/Isotope), which have the same number of protons and neutrons but different numbers of neutrons. Because a neutron has a mass of approximately 1 amu (atomic mass unit), different isotopes of an element appear at different masses in a mass spectrum as measured by a mass spectrometer.\n",
        "\n",
        "Different elements have different isotopes and different natural abundances, meaning the percent of each isotope that is found in nature. For example, [carbon has two stable isotopes](https://en.wikipedia.org/wiki/Isotopes_of_carbon), <sup>12</sup>C with 98.9% natural abundance and <sup>13</sup>C with 1.06% natural abundance. As another example, [oxygen has three stable isotopes](https://en.wikipedia.org/wiki/Isotopes_of_oxygen), <sup>16</sup>O with 99.8% natural abundance, <sup>17</sup>O with 0.0380% natural abundance, and <sup>18</sup>O with 0.205% natural abundance. The distribution of isotopes thus forms a fingerprint for an element. As another example, [chlorine has two stable isotopes with significant natural abundance](https://en.wikipedia.org/wiki/Isotopes_of_chlorine), <sup>35</sup>Cl with 76% natural abundance, and <sup>37</sup>O with 24% natural abundance. The distribution of isotopes thus forms a fingerprint for an element. \n",
        "\n",
        "When atoms combine into molecules, the mass distributions get richer. For example, in the diatomic molecule chlorine Cl<sub>2</sub>, which has two chlorine atoms, there are three possible molecular isotopes:"
      ]
    },
    {
      "cell_type": "code",
      "execution_count": 3,
      "metadata": {
        "colab": {
          "base_uri": "https://localhost:8080/"
        },
        "id": "d4IboaHubzIu",
        "outputId": "32332cde-403c-4ba7-e119-b3cbb09a8d7d"
      },
      "outputs": [],
      "source": [
        "# !pip install rdkit\n",
        "# !pip install mendeleev"
      ]
    },
    {
      "cell_type": "code",
      "execution_count": 4,
      "metadata": {
        "id": "wRuWV7bBcIht"
      },
      "outputs": [],
      "source": [
        "from collections import defaultdict\n",
        "import hashlib\n",
        "import json\n",
        "\n",
        "from IPython.display import display, Markdown\n",
        "import numpy as np\n",
        "import seaborn as sns\n",
        "import pandas as pd\n",
        "import matplotlib.pyplot as plt\n",
        "import polars as pl\n",
        "\n",
        "import mendeleev\n",
        "from rdkit import Chem\n",
        "from rdkit.Chem import Descriptors"
      ]
    },
    {
      "cell_type": "code",
      "execution_count": 5,
      "metadata": {},
      "outputs": [
        {
          "data": {
            "image/png": "[encoded data removed]",
            "text/plain": [
              "<IPython.core.display.Image object>"
            ]
          },
          "execution_count": 5,
          "metadata": {},
          "output_type": "execute_result"
        }
      ],
      "source": [
        "chlorine_smls = [\"[35Cl][35Cl]\", \"[35Cl][37Cl]\", \"[37Cl][37Cl]\"]\n",
        "chlorine_mols = [Chem.MolFromSmiles(sml) for sml in chlorine_smls]\n",
        "chlorine_masses = [Descriptors.ExactMolWt(mol) for mol in chlorine_mols]\n",
        "chlorine_abundances = [0.574564, 0.366872, 0.058564]\n",
        "legends = [f\"{mass:.5f} amu: {abundance:.3f}\" for mass, abundance in zip(chlorine_masses, chlorine_abundances)]\n",
        "legends\n",
        "Chem.Draw.MolsToGridImage(chlorine_mols, legends=legends)"
      ]
    },
    {
      "cell_type": "markdown",
      "metadata": {},
      "source": [
        "The molecule <sup>35</sup>Cl<sup>37</sup>Cl in the middle, with mixed isotopes, represents two possible placements of the isotopes: it is equivalent to <sup>37</sup>Cl<sup>35</sup>Cl because the order of the chlorine atoms is not significant due to symmetry. The code to generate such molecules, masses, abundance, and images will be given in this blog post and the next."
      ]
    },
    {
      "cell_type": "markdown",
      "metadata": {},
      "source": [
        "In part 1, I use the naive method of creating a molecule for each possible arrangement of isotopes ([permutation](https://en.wikipedia.org/wiki/Permutation)) of a molecule. I hazily recalled that I could\n",
        "- enumerate the [combinations](https://en.wikipedia.org/wiki/Combination), where the order of the isotopes over the atoms in a molecule is disregarded, and \n",
        "- calculate the permutations in each combination using the [binomial distribution](https://en.wikipedia.org/wiki/Binomial_distribution) to calculate the number of arrangements of a given number of each isotope ([isotopomer](https://en.wikipedia.org/wiki/Isotopomer)),\n",
        "\n",
        "but I decided to first try the approach that was easier to code. However, I learned that became computationally infeasible for large molecules: for example, assigning isotopes for all permutations of napthlene, C<sub>10</sub>H<sub>8</sub>, where each element has [two isotopes and there are thus 2<sup>18</sup> = 262,144 permutations](https://en.wikipedia.org/wiki/Power_of_two#Table_of_values), took 110 seconds. So I used the combinations approach in part 2."
      ]
    },
    {
      "cell_type": "markdown",
      "metadata": {},
      "source": [
        "## Set up"
      ]
    },
    {
      "cell_type": "code",
      "execution_count": 6,
      "metadata": {
        "id": "VtUA9zXWxX1E"
      },
      "outputs": [],
      "source": [
        "# Carbon tetrachloride\n",
        "sml = \"ClC(Cl)(Cl)Cl\""
      ]
    },
    {
      "cell_type": "markdown",
      "metadata": {},
      "source": [
        "Because RDKit excludes hydrogen atoms by default, but we want to assign isotopes to any hydrogen atoms in our molecule, we tell RDKit to add hydrogens."
      ]
    },
    {
      "cell_type": "code",
      "execution_count": 7,
      "metadata": {
        "id": "Juw0px-Zb_fM"
      },
      "outputs": [
        {
          "data": {
            "image/png": "[encoded data removed]",
            "text/plain": [
              "<rdkit.Chem.rdchem.Mol at 0x165dd46d0>"
            ]
          },
          "execution_count": 7,
          "metadata": {},
          "output_type": "execute_result"
        }
      ],
      "source": [
        "mol = Chem.AddHs(Chem.MolFromSmiles(sml))\n",
        "mol"
      ]
    },
    {
      "cell_type": "markdown",
      "metadata": {},
      "source": [
        "Next we define a `MolecularIsotope` class to store an RDKit molecule along with an abundance. (If we didn't need to store the abundance, we could simply use RDKit mol and extract the exact mass.)"
      ]
    },
    {
      "cell_type": "code",
      "execution_count": 8,
      "metadata": {
        "id": "nJE9ITr1wCJw"
      },
      "outputs": [],
      "source": [
        "class MolecularIsotope():\n",
        "  \"\"\"Store a molecule's isotopic properties.\"\"\"\n",
        "  def __init__(\n",
        "      self,\n",
        "      sml: str,\n",
        "      abundance: float = None):\n",
        "    self.sml = sml\n",
        "    self.abundance = abundance\n",
        "    try:\n",
        "      self.mol = Chem.AddHs(Chem.MolFromSmiles(sml))\n",
        "    except:\n",
        "      self.mol = Chem.AddHs(Chem.MolFromSmiles(sml, sanitize=False))\n",
        "    self.mass = Descriptors.ExactMolWt(self.mol)\n",
        "    \n",
        "  def update(self):\n",
        "    self.mass = Descriptors.ExactMolWt(self.mol)\n",
        "    self.canon_sml = Chem.MolToSmiles(mol)"
      ]
    },
    {
      "cell_type": "markdown",
      "metadata": {},
      "source": [
        "Next we create a utility function to get the set of elements in a molecule."
      ]
    },
    {
      "cell_type": "code",
      "execution_count": 9,
      "metadata": {
        "colab": {
          "base_uri": "https://localhost:8080/"
        },
        "id": "y0pa1z4cqK-m",
        "outputId": "c87e717a-dce5-451f-b360-774caae34e8a"
      },
      "outputs": [],
      "source": [
        "def element_set(molecule):\n",
        "    \"\"\"Get the set of elements in an RDKit molecule\n",
        "    For example, ethanol (SMILES CCO, formula C2H5OH)\n",
        "    returns {'C', 'O', 'H'}.\n",
        "\n",
        "    :param molecule: An RDKit molecule\n",
        "    :returns: A set.\n",
        "    \"\"\"\n",
        "    # Check that there is a valid molecule\n",
        "    if molecule:\n",
        "      # Add hydrogen atoms--RDKit excludes them by default\n",
        "      molecule_with_Hs = Chem.AddHs(molecule)\n",
        "      atom_symbols = set(atom.GetSymbol() for atom in molecule_with_Hs.GetAtoms())\n",
        "      return atom_symbols"
      ]
    },
    {
      "cell_type": "code",
      "execution_count": 10,
      "metadata": {},
      "outputs": [
        {
          "name": "stdout",
          "output_type": "stream",
          "text": [
            "{'C', 'Cl'}\n"
          ]
        }
      ],
      "source": [
        "set_of_elements = element_set(mol)\n",
        "print(set_of_elements)"
      ]
    },
    {
      "cell_type": "markdown",
      "metadata": {},
      "source": [
        "Now we can create a data structure to hold the isotopic abundances of each element in our molecule. We get the abundances from the [Mendeleev](https://pypi.org/project/mendeleev/) package, filtering to those isotopes whose abundance is not `None`."
      ]
    },
    {
      "cell_type": "code",
      "execution_count": 12,
      "metadata": {},
      "outputs": [
        {
          "name": "stdout",
          "output_type": "stream",
          "text": [
            "{'C': [[12, 0.9894], [13, 0.0106]], 'Cl': [[35, 0.758], [37, 0.242]]}\n"
          ]
        }
      ],
      "source": [
        "isotopes = {}\n",
        "for element_symbol in set_of_elements:\n",
        "  element_isotopes = mendeleev.element(element_symbol).isotopes\n",
        "  occurring_isotopes = [[isotope.mass_number, isotope.abundance/100] for isotope in element_isotopes if isotope.abundance != None]\n",
        "  isotopes[element_symbol] = occurring_isotopes\n",
        "print(isotopes)"
      ]
    },
    {
      "cell_type": "code",
      "execution_count": 13,
      "metadata": {
        "id": "-mOyFi_oEQdD"
      },
      "outputs": [],
      "source": [
        "# Build iterable of number of isotopes by atom index\n",
        "isotopes_by_atom_index = ()\n",
        "for atom_index, atom in enumerate(mol.GetAtoms()):\n",
        "  atom_symbol = atom.GetSymbol()\n",
        "  isotopes_by_atom_index += (len(isotopes[atom_symbol]),)\n",
        "\n",
        "# Create the empty numpy ndarray with the shape of the number of isotopes for each atom\n",
        "mol_isotopes = np.empty(isotopes_by_atom_index, dtype=object)"
      ]
    },
    {
      "cell_type": "markdown",
      "metadata": {},
      "source": [
        "## Setting the isotope of each atom in each permutation"
      ]
    },
    {
      "cell_type": "markdown",
      "metadata": {},
      "source": [
        "Now we come to the key operation: Setting the isotope of each atom in a molecule, for each permutation.\n",
        "\n",
        "To get a sense of the scale of the operation, let's calculate how many permutations (isotopologues) we'll have to assign isotopes to."
      ]
    },
    {
      "cell_type": "code",
      "execution_count": 14,
      "metadata": {},
      "outputs": [
        {
          "data": {
            "text/plain": [
              "32"
            ]
          },
          "execution_count": 14,
          "metadata": {},
          "output_type": "execute_result"
        }
      ],
      "source": [
        "mol_isotopes.size"
      ]
    },
    {
      "cell_type": "markdown",
      "metadata": {},
      "source": [
        "In the NumPy array, there is a dimension for each atom (five) in the molecule, and the length of each dimension is the number of isotopes for the element of that atom (two for all elements here, namely C and Cl):"
      ]
    },
    {
      "cell_type": "code",
      "execution_count": 15,
      "metadata": {},
      "outputs": [
        {
          "data": {
            "text/plain": [
              "(2, 2, 2, 2, 2)"
            ]
          },
          "execution_count": 15,
          "metadata": {},
          "output_type": "execute_result"
        }
      ],
      "source": [
        "mol_isotopes.shape"
      ]
    },
    {
      "cell_type": "markdown",
      "metadata": {},
      "source": [
        "The `set_isotopes` function assigns isotopes to all elements in a multi-dimensional ndarray by\n",
        "- recursively traversing down the ndarray until it comes to an individual element, not another (nested) ndarray\n",
        "- creating the MolecularIsotope object, including its RDKit molecule\n",
        "- for each atom,\n",
        "    - assigning the isotope by referring to the `isotopes` array\n",
        "    - assigning its abundance\n",
        "    - calculating the overall abundance as the product of each of the atom's abundances\n",
        "- calling the MolecularIsotope.update() method to set the exact mass"
      ]
    },
    {
      "cell_type": "code",
      "execution_count": 16,
      "metadata": {
        "id": "nx1LuiS4xmcf"
      },
      "outputs": [],
      "source": [
        "def set_isotopes(arr:np.ndarray, sml: str, current_index=()):\n",
        "    if isinstance(arr, np.ndarray):\n",
        "        for i in range(len(arr)):\n",
        "            arr[i] = set_isotopes(arr=arr[i], current_index=current_index + (i,), sml=sml)\n",
        "        return arr\n",
        "    else:\n",
        "        # For an individual item in the ndarray, create molecule, \n",
        "        # set the isotopes of each of its atoms, and calculate abundance\n",
        "        item = MolecularIsotope(sml=sml)\n",
        "        mol = item.mol\n",
        "        abundance = 1\n",
        "        for atom_index, atom in enumerate(mol.GetAtoms()):\n",
        "          atom_symbol = atom.GetSymbol()\n",
        "          isotope_data_to_use = isotopes[atom_symbol][current_index[atom_index]]\n",
        "          isotope_to_use = isotope_data_to_use[0]\n",
        "          atom.SetIsotope(isotope_to_use)\n",
        "          abundance *= isotope_data_to_use[1]\n",
        "        item.update()\n",
        "        item.abundance = abundance          \n",
        "        return item"
      ]
    },
    {
      "cell_type": "markdown",
      "metadata": {},
      "source": [
        "Let's set the isotope of each atom in the molecule for each permutation."
      ]
    },
    {
      "cell_type": "code",
      "execution_count": 17,
      "metadata": {},
      "outputs": [],
      "source": [
        "# Set the isotopes for each atom in each molecule\n",
        "mol_isotopes = set_isotopes(arr = mol_isotopes, sml = sml, current_index=())"
      ]
    },
    {
      "cell_type": "markdown",
      "metadata": {},
      "source": [
        "Because we're creating each permutation, we'll have to aggregate the isotopomers, analogous to matching up <sup>35</sup>Cl<sup>37</sup>Cl and <sup>37</sup>Cl<sup>35</sup>Cl.\n",
        "\n",
        "It might be tempting to match molecules by mass, but a floating-point value can have some error or uncertainty. In some cases, the mass differences between different species can be quite small (for example less than 0.002 amu if the sum of the [mass numbers](https://en.wikipedia.org/wiki/Mass_number) is the same), so adding a tolerance risks lumping different isotopologues together. So it's best to use a non-numerical identifier. In this case, we use the composition, which contains isotope labels. In particular, we\n",
        "- use a nested dictionary where the first level key is the element e.g. Cl, and the second level is the isotope:count, for example 35:4 indicates that <sup>35</sup>Cl appears four times in the molecule\n",
        "- convert to [JSON](https://en.wikipedia.org/wiki/JSON), sorting the keys to ensure a consistent order\n",
        "- hash the result using `hash_nested_dict()`, below, to create a single string for comparison."
      ]
    },
    {
      "cell_type": "code",
      "execution_count": 18,
      "metadata": {
        "id": "FLMcvaxfzFY4"
      },
      "outputs": [],
      "source": [
        "def composition(\n",
        "        molecule: Chem.Mol,\n",
        "        isotopes=False):\n",
        "    \"\"\"Get the composition of an RDKit molecule:\n",
        "    Atomic counts, including hydrogen atoms, and any charge.\n",
        "    For example, ethanol (SMILES [13C](H)(H)(H)CO, formula C2H6O) returns:\n",
        "      if isotopes = False (default): {'C': 2, 'O': 1, 'H': 6}.\n",
        "      if isotopes = True: {'C': {13: 1, 0: 1}, 'O': {0: 1}, 'H': {0: 6}}.\n",
        "\n",
        "    :param molecule: The RDKit molecule to analyze\n",
        "    :returns: if isotopes = False (default): a dictionary of element:count entries;\n",
        "              if isotopes = True: a nested dictionary of element:isotope:count entries.\n",
        "    \"\"\"\n",
        "    # Check that there is a valid molecule\n",
        "    if molecule:\n",
        "\n",
        "        # Add hydrogen atoms--RDKit excludes them by default\n",
        "        molecule = Chem.AddHs(molecule)\n",
        "        comp = defaultdict(lambda: 0)\n",
        "\n",
        "        # Get atom counts\n",
        "        for atom in molecule.GetAtoms():\n",
        "            element_symbol = atom.GetSymbol()\n",
        "            # If isotopes not requested, simply count the number of atoms of each element\n",
        "            if not isotopes:\n",
        "                comp[element_symbol] += 1\n",
        "            # If isotopes requested, count the number of each isotope of each element\n",
        "            else:\n",
        "                isotope = atom.GetIsotope()\n",
        "                try:\n",
        "                    comp[element_symbol][isotope] += 1\n",
        "                except:\n",
        "                    comp[element_symbol] = defaultdict(lambda: 0)\n",
        "                    comp[element_symbol][isotope] += 1\n",
        "        return comp"
      ]
    },
    {
      "cell_type": "code",
      "execution_count": 19,
      "metadata": {},
      "outputs": [],
      "source": [
        "ethanol = Chem.AddHs(Chem.MolFromSmiles(\"CCO\"))"
      ]
    },
    {
      "cell_type": "code",
      "execution_count": 20,
      "metadata": {},
      "outputs": [],
      "source": [
        "ethanol_isotope = Chem.AddHs(Chem.MolFromSmiles(\"[13CH3]CO\"))"
      ]
    },
    {
      "cell_type": "code",
      "execution_count": 21,
      "metadata": {},
      "outputs": [
        {
          "data": {
            "text/plain": [
              "defaultdict(<function __main__.composition.<locals>.<lambda>()>,\n",
              "            {'C': 2, 'O': 1, 'H': 6})"
            ]
          },
          "execution_count": 21,
          "metadata": {},
          "output_type": "execute_result"
        }
      ],
      "source": [
        "composition(ethanol_isotope)"
      ]
    },
    {
      "cell_type": "code",
      "execution_count": 22,
      "metadata": {},
      "outputs": [
        {
          "data": {
            "text/plain": [
              "defaultdict(<function __main__.composition.<locals>.<lambda>()>,\n",
              "            {'C': defaultdict(<function __main__.composition.<locals>.<lambda>()>,\n",
              "                         {13: 1, 0: 1}),\n",
              "             'O': defaultdict(<function __main__.composition.<locals>.<lambda>()>,\n",
              "                         {0: 1}),\n",
              "             'H': defaultdict(<function __main__.composition.<locals>.<lambda>()>,\n",
              "                         {0: 6})})"
            ]
          },
          "execution_count": 22,
          "metadata": {},
          "output_type": "execute_result"
        }
      ],
      "source": [
        "composition(ethanol_isotope, isotopes=True)"
      ]
    },
    {
      "cell_type": "markdown",
      "metadata": {},
      "source": [
        "To make it easier to compare isotopic variations, we'll flatten the ndarray."
      ]
    },
    {
      "cell_type": "code",
      "execution_count": 23,
      "metadata": {
        "id": "WCGCdHp3KTj4"
      },
      "outputs": [],
      "source": [
        "def flatten_ndarray(arr):\n",
        "    flat_list = []\n",
        "    for element in arr:\n",
        "        if isinstance(element, np.ndarray):\n",
        "            flat_list.extend(flatten_ndarray(element))\n",
        "        else:\n",
        "            flat_list.append(element)\n",
        "    return flat_list"
      ]
    },
    {
      "cell_type": "code",
      "execution_count": 24,
      "metadata": {
        "id": "z_VNatEYKX08"
      },
      "outputs": [],
      "source": [
        "mol_isotopes_flat = flatten_ndarray(mol_isotopes)\n",
        "mol_isotopes_flat.sort(key=lambda x:x.mass)"
      ]
    },
    {
      "cell_type": "markdown",
      "metadata": {},
      "source": [
        "Here's the composition dictionary for one isotopologue of our molecule:"
      ]
    },
    {
      "cell_type": "code",
      "execution_count": 25,
      "metadata": {},
      "outputs": [
        {
          "data": {
            "text/plain": [
              "defaultdict(<function __main__.composition.<locals>.<lambda>()>,\n",
              "            {'Cl': defaultdict(<function __main__.composition.<locals>.<lambda>()>,\n",
              "                         {35: 4}),\n",
              "             'C': defaultdict(<function __main__.composition.<locals>.<lambda>()>,\n",
              "                         {12: 1})})"
            ]
          },
          "execution_count": 25,
          "metadata": {},
          "output_type": "execute_result"
        }
      ],
      "source": [
        "composition(mol_isotopes_flat[0].mol, isotopes=True)"
      ]
    },
    {
      "cell_type": "code",
      "execution_count": 26,
      "metadata": {},
      "outputs": [],
      "source": [
        "def hash_nested_dict(d):\n",
        "    # Convert the nested dictionary to a JSON string with sorted keys\n",
        "    json_str = json.dumps(d, sort_keys=True)\n",
        "\n",
        "    # Hash the JSON string using a cryptographic hash function (e.g., SHA-256)\n",
        "    hash_obj = hashlib.sha256()\n",
        "    hash_obj.update(json_str.encode())\n",
        "    return hash_obj.hexdigest()"
      ]
    },
    {
      "cell_type": "code",
      "execution_count": 27,
      "metadata": {},
      "outputs": [],
      "source": [
        "def dict_list_to_markdown_table(data, number_rows=False):\n",
        "    \"\"\"\n",
        "    Convert a list of dictionaries into a Markdown table.\n",
        "\n",
        "    Args:\n",
        "        data (list): A list of dictionaries, where each dictionary corresponds to a row in the table.\n",
        "        include_row_numbers (bool): Whether to include a row number column.\n",
        "\n",
        "    Returns:\n",
        "        str: The Markdown-formatted table as a string.\n",
        "    \"\"\"\n",
        "    if not data:\n",
        "        return \"\"\n",
        "\n",
        "    # Extract column headers from the keys of the first dictionary\n",
        "    headers = data[0].keys()\n",
        "\n",
        "    # If include_row_numbers is True, add the \"Row #\" column\n",
        "    if number_rows:\n",
        "        headers = [\"#\"] + list(headers)\n",
        "\n",
        "    # Create the table headers\n",
        "    table = \"| \" + \" | \".join(headers) + \" |\\n\"\n",
        "\n",
        "    # Create the title divider line\n",
        "    table += \"|\"\n",
        "    for _ in headers:\n",
        "        table += \" --- |\"\n",
        "    table += \"\\n\"\n",
        "\n",
        "    # Create the table body\n",
        "    for i, row in enumerate(data):\n",
        "        if number_rows:\n",
        "            row_data = [i + 1] + [row.get(header, \"\") for header in headers[1:]]\n",
        "        else:\n",
        "            row_data = [row.get(header, \"\") for header in headers]\n",
        "\n",
        "        table += \"| \" + \" | \".join(map(str, row_data)) + \" |\\n\"\n",
        "\n",
        "    return table\n"
      ]
    },
    {
      "cell_type": "code",
      "execution_count": 28,
      "metadata": {},
      "outputs": [],
      "source": [
        "# def smiles_to_formatted_formula(smiles, isotopes=False):\n",
        "#     mol = Chem.MolFromSmiles(smiles)\n",
        "#     if mol is not None:\n",
        "#         comp = composition(mol, isotopes)\n",
        "\n",
        "#         isotopes = defaultdict(lambda: defaultdict(str))\n",
        "#         subscripts = defaultdict(lambda: defaultdict(int))\n",
        "#         superscripts = defaultdict(list)\n",
        "\n",
        "#         for element, counts in comp.items():\n",
        "#             for isotope, count in counts.items():\n",
        "#                 if count > 1:\n",
        "#                     subscripts[element][isotope] = count\n",
        "#                 if isotope != 0:\n",
        "#                     superscripts[element].append(isotope)\n",
        "\n",
        "#                 isotopes[element][isotope] = 1\n",
        "#             # Sort the element's isotopes from lowest to highest\n",
        "#             superscripts[element].sort()\n",
        "\n",
        "#         formula = {'markdown': \"\", 'dollar_math': \"\"}\n",
        "#         sorted_element_keys = sorted(isotopes.keys())\n",
        "#         for element in sorted_element_keys:\n",
        "#             isotope_count_pairs = isotopes[element]\n",
        "#             # Sort the element's isotopes from lowest to highest\n",
        "#             sorted_isotope_keys = sorted(isotope_count_pairs.keys())\n",
        "#             for isotope in sorted_isotope_keys:\n",
        "#                 if element in superscripts:\n",
        "#                     if isotope in superscripts[element]:\n",
        "#                         formula[\"markdown\"] += f\"<sup>{isotope}</sup>\"\n",
        "#                         formula[\"dollar_math\"] += r\"$^{{{}}}$\".format(isotope)\n",
        "#                 formula[\"markdown\"] += element\n",
        "#                 formula[\"dollar_math\"] += r\"{}\".format(element)\n",
        "#                 if element in subscripts:\n",
        "#                     if isotope in subscripts[element]:\n",
        "#                         for isotope, isotope_count in subscripts[element].items():\n",
        "#                             formula[\"markdown\"] += f\"<sub>{isotope_count}</sub>\"\n",
        "#                             formula[\"dollar_math\"] += r\"$_{{{}}}$\".format(isotope_count)\n",
        "#         return formula\n",
        "#     else:\n",
        "#         return \"Invalid SMILES\""
      ]
    },
    {
      "cell_type": "code",
      "execution_count": 60,
      "metadata": {},
      "outputs": [],
      "source": [
        "def smiles_to_formatted_formula(smiles, isotopes=False):\n",
        "    print(f\"Running smiles_to_formatted_formula {smiles}\")\n",
        "    mol = Chem.MolFromSmiles(smiles)\n",
        "    if mol is not None:\n",
        "        comp = composition(mol, isotopes)\n",
        "\n",
        "        formula = {'markdown': \"\", 'dollar_math': \"\", 'latex': \"\"}\n",
        "\n",
        "        if isotopes:\n",
        "            isotopes_dict = defaultdict(lambda: defaultdict(str))\n",
        "            subscripts = defaultdict(lambda: defaultdict(int))\n",
        "            superscripts = defaultdict(list)\n",
        "\n",
        "            for element, counts in comp.items():\n",
        "                for isotope, count in counts.items():\n",
        "                    if count > 1:\n",
        "                        subscripts[element][isotope] = count\n",
        "                    if isotope != 0:\n",
        "                        superscripts[element].append(isotope)\n",
        "\n",
        "                    isotopes_dict[element][isotope] = 1\n",
        "                # Sort the element's isotopes from lowest to highest\n",
        "                superscripts[element].sort()\n",
        "\n",
        "            sorted_element_keys = sorted(isotopes_dict.keys())\n",
        "            for element in sorted_element_keys:\n",
        "                isotope_count_pairs = isotopes_dict[element]\n",
        "                # Sort the element's isotopes from lowest to highest\n",
        "                sorted_isotope_keys = sorted(isotope_count_pairs.keys())\n",
        "                for isotope in sorted_isotope_keys:\n",
        "                    if element in superscripts:\n",
        "                        if isotope in superscripts[element]:\n",
        "                            formula[\"markdown\"] += f\"<sup>{isotope}</sup>\"\n",
        "                            formula[\"dollar_math\"] += r\"$^{{{}}}$\".format(isotope)\n",
        "                            formula[\"latex\"] += \"^{{{}}}\".format(isotope)\n",
        "                    formula[\"markdown\"] += element\n",
        "                    formula[\"dollar_math\"] += r\"{}\".format(element)\n",
        "                    formula[\"latex\"] += element\n",
        "                    if element in subscripts:\n",
        "                        if isotope in subscripts[element]:\n",
        "                            isotope_count = subscripts[element][isotope]\n",
        "                            formula[\"markdown\"] += f\"<sub>{isotope_count}</sub>\"\n",
        "                            formula[\"dollar_math\"] += r\"$_{{{}}}$\".format(isotope_count)\n",
        "                            formula[\"latex\"] += \"_{{{}}}\".format(isotope_count)\n",
        "            formula[\"latex\"] = \"$\" + formula[\"latex\"] + \"$\"\n",
        "        else:\n",
        "            # Handling the case when isotopes is False\n",
        "            sorted_element_keys = sorted(comp.keys())\n",
        "\n",
        "            for element in sorted_element_keys:\n",
        "                count = comp[element]\n",
        "                formula[\"markdown\"] += element\n",
        "                formula[\"dollar_math\"] += r\"{}\".format(element)\n",
        "                formula[\"latex\"] += element\n",
        "                if count > 1:\n",
        "                    formula[\"markdown\"] += f\"<sub>{count}</sub>\"\n",
        "                    formula[\"dollar_math\"] += r\"$_{{{}}}$\".format(count)\n",
        "                    formula[\"latex\"] += \"_{{{}}}\".format(count)\n",
        "            formula[\"latex\"] = \"$\" + formula[\"latex\"] + \"$\"\n",
        "\n",
        "        return formula\n",
        "    else:\n",
        "        return \"Invalid SMILES\""
      ]
    },
    {
      "cell_type": "code",
      "execution_count": 61,
      "metadata": {},
      "outputs": [
        {
          "name": "stdout",
          "output_type": "stream",
          "text": [
            "Running smiles_to_formatted_formula [35Cl][12C]([35Cl])([37Cl])[37Cl]\n"
          ]
        },
        {
          "data": {
            "text/plain": [
              "{'markdown': '<sup>12</sup>C<sup>35</sup>Cl<sub>2</sub><sup>37</sup>Cl<sub>2</sub>',\n",
              " 'dollar_math': '$^{12}$C$^{35}$Cl$_{2}$$^{37}$Cl$_{2}$',\n",
              " 'latex': '$^{12}C^{35}Cl_{2}^{37}Cl_{2}$'}"
            ]
          },
          "execution_count": 61,
          "metadata": {},
          "output_type": "execute_result"
        }
      ],
      "source": [
        "smiles_to_formatted_formula(\"[35Cl][12C]([35Cl])([37Cl])[37Cl]\", isotopes=True)"
      ]
    },
    {
      "cell_type": "code",
      "execution_count": 62,
      "metadata": {},
      "outputs": [
        {
          "name": "stdout",
          "output_type": "stream",
          "text": [
            "Running smiles_to_formatted_formula [35Cl][12C]([35Cl])([35Cl])[35Cl]\n"
          ]
        },
        {
          "data": {
            "text/plain": [
              "{'markdown': '<sup>12</sup>C<sup>35</sup>Cl<sub>4</sub>',\n",
              " 'dollar_math': '$^{12}$C$^{35}$Cl$_{4}$',\n",
              " 'latex': '$^{12}C^{35}Cl_{4}$'}"
            ]
          },
          "execution_count": 62,
          "metadata": {},
          "output_type": "execute_result"
        }
      ],
      "source": [
        "smiles_to_formatted_formula(Chem.MolToSmiles(mol_isotopes_flat[0].mol), isotopes=True)"
      ]
    },
    {
      "cell_type": "code",
      "execution_count": 59,
      "metadata": {},
      "outputs": [
        {
          "name": "stdout",
          "output_type": "stream",
          "text": [
            "Running smiles_to_formatted_formula [35Cl][12C]([35Cl])([35Cl])[35Cl]\n",
            "$^{12}C^{35}Cl_{4}$\n",
            "Running smiles_to_formatted_formula [35Cl][13C]([35Cl])([35Cl])[35Cl]\n",
            "$^{13}C^{35}Cl_{4}$\n",
            "Running smiles_to_formatted_formula [35Cl][12C]([35Cl])([35Cl])[37Cl]\n",
            "$^{12}C^{35}Cl_{3}^{37}Cl$\n",
            "Running smiles_to_formatted_formula [35Cl][12C]([35Cl])([35Cl])[37Cl]\n",
            "$^{12}C^{35}Cl_{3}^{37}Cl$\n",
            "Running smiles_to_formatted_formula [35Cl][12C]([35Cl])([35Cl])[37Cl]\n",
            "$^{12}C^{35}Cl_{3}^{37}Cl$\n",
            "Running smiles_to_formatted_formula [35Cl][12C]([35Cl])([35Cl])[37Cl]\n",
            "$^{12}C^{35}Cl_{3}^{37}Cl$\n",
            "Running smiles_to_formatted_formula [35Cl][13C]([35Cl])([35Cl])[37Cl]\n",
            "$^{13}C^{35}Cl_{3}^{37}Cl$\n",
            "Running smiles_to_formatted_formula [35Cl][13C]([35Cl])([35Cl])[37Cl]\n",
            "$^{13}C^{35}Cl_{3}^{37}Cl$\n",
            "Running smiles_to_formatted_formula [35Cl][13C]([35Cl])([35Cl])[37Cl]\n",
            "$^{13}C^{35}Cl_{3}^{37}Cl$\n",
            "Running smiles_to_formatted_formula [35Cl][13C]([35Cl])([35Cl])[37Cl]\n",
            "$^{13}C^{35}Cl_{3}^{37}Cl$\n",
            "Running smiles_to_formatted_formula [35Cl][12C]([35Cl])([37Cl])[37Cl]\n",
            "$^{12}C^{35}Cl_{2}^{37}Cl_{2}$\n",
            "Running smiles_to_formatted_formula [35Cl][12C]([35Cl])([37Cl])[37Cl]\n",
            "$^{12}C^{35}Cl_{2}^{37}Cl_{2}$\n",
            "Running smiles_to_formatted_formula [35Cl][12C]([35Cl])([37Cl])[37Cl]\n",
            "$^{12}C^{35}Cl_{2}^{37}Cl_{2}$\n",
            "Running smiles_to_formatted_formula [35Cl][12C]([35Cl])([37Cl])[37Cl]\n",
            "$^{12}C^{35}Cl_{2}^{37}Cl_{2}$\n",
            "Running smiles_to_formatted_formula [35Cl][12C]([35Cl])([37Cl])[37Cl]\n",
            "$^{12}C^{35}Cl_{2}^{37}Cl_{2}$\n",
            "Running smiles_to_formatted_formula [35Cl][12C]([35Cl])([37Cl])[37Cl]\n",
            "$^{12}C^{35}Cl_{2}^{37}Cl_{2}$\n",
            "Running smiles_to_formatted_formula [35Cl][13C]([35Cl])([37Cl])[37Cl]\n",
            "$^{13}C^{35}Cl_{2}^{37}Cl_{2}$\n",
            "Running smiles_to_formatted_formula [35Cl][13C]([35Cl])([37Cl])[37Cl]\n",
            "$^{13}C^{35}Cl_{2}^{37}Cl_{2}$\n",
            "Running smiles_to_formatted_formula [35Cl][13C]([35Cl])([37Cl])[37Cl]\n",
            "$^{13}C^{35}Cl_{2}^{37}Cl_{2}$\n",
            "Running smiles_to_formatted_formula [35Cl][13C]([35Cl])([37Cl])[37Cl]\n",
            "$^{13}C^{35}Cl_{2}^{37}Cl_{2}$\n",
            "Running smiles_to_formatted_formula [35Cl][13C]([35Cl])([37Cl])[37Cl]\n",
            "$^{13}C^{35}Cl_{2}^{37}Cl_{2}$\n",
            "Running smiles_to_formatted_formula [35Cl][13C]([35Cl])([37Cl])[37Cl]\n",
            "$^{13}C^{35}Cl_{2}^{37}Cl_{2}$\n",
            "Running smiles_to_formatted_formula [35Cl][12C]([37Cl])([37Cl])[37Cl]\n",
            "$^{12}C^{35}Cl^{37}Cl_{3}$\n",
            "Running smiles_to_formatted_formula [35Cl][12C]([37Cl])([37Cl])[37Cl]\n",
            "$^{12}C^{35}Cl^{37}Cl_{3}$\n",
            "Running smiles_to_formatted_formula [35Cl][12C]([37Cl])([37Cl])[37Cl]\n",
            "$^{12}C^{35}Cl^{37}Cl_{3}$\n",
            "Running smiles_to_formatted_formula [35Cl][12C]([37Cl])([37Cl])[37Cl]\n",
            "$^{12}C^{35}Cl^{37}Cl_{3}$\n",
            "Running smiles_to_formatted_formula [35Cl][13C]([37Cl])([37Cl])[37Cl]\n",
            "$^{13}C^{35}Cl^{37}Cl_{3}$\n",
            "Running smiles_to_formatted_formula [35Cl][13C]([37Cl])([37Cl])[37Cl]\n",
            "$^{13}C^{35}Cl^{37}Cl_{3}$\n",
            "Running smiles_to_formatted_formula [35Cl][13C]([37Cl])([37Cl])[37Cl]\n",
            "$^{13}C^{35}Cl^{37}Cl_{3}$\n",
            "Running smiles_to_formatted_formula [35Cl][13C]([37Cl])([37Cl])[37Cl]\n",
            "$^{13}C^{35}Cl^{37}Cl_{3}$\n",
            "Running smiles_to_formatted_formula [37Cl][12C]([37Cl])([37Cl])[37Cl]\n",
            "$^{12}C^{37}Cl_{4}$\n",
            "Running smiles_to_formatted_formula [37Cl][13C]([37Cl])([37Cl])[37Cl]\n",
            "$^{13}C^{37}Cl_{4}$\n"
          ]
        }
      ],
      "source": [
        "for mol_isotope in mol_isotopes_flat:\n",
        "    # display(Markdown(smiles_to_formatted_formula(Chem.MolToSmiles(mol_isotope.mol), isotopes=True)[\"latex\"]))\n",
        "    mol_isotope.update()\n",
        "    print(smiles_to_formatted_formula(Chem.MolToSmiles(mol_isotope.mol), isotopes=True)[\"latex\"])"
      ]
    },
    {
      "cell_type": "markdown",
      "metadata": {},
      "source": [
        "Now we prepare the data to put into a Polars dataframe. We use Polars because it's easy to aggregate based on matching a value such as composition, and very fast. We extract all properties of the MolecularIsotope, most importantly its abundance. We use `hash_nested_dict()` to prepare the string for comparison for aggregation."
      ]
    },
    {
      "cell_type": "code",
      "execution_count": 63,
      "metadata": {},
      "outputs": [
        {
          "name": "stdout",
          "output_type": "stream",
          "text": [
            "Running smiles_to_formatted_formula [35Cl][12C]([35Cl])([35Cl])[35Cl]\n",
            "Running smiles_to_formatted_formula [35Cl][13C]([35Cl])([35Cl])[35Cl]\n",
            "Running smiles_to_formatted_formula [35Cl][12C]([35Cl])([35Cl])[37Cl]\n",
            "Running smiles_to_formatted_formula [35Cl][12C]([35Cl])([35Cl])[37Cl]\n",
            "Running smiles_to_formatted_formula [35Cl][12C]([35Cl])([35Cl])[37Cl]\n",
            "Running smiles_to_formatted_formula [35Cl][12C]([35Cl])([35Cl])[37Cl]\n",
            "Running smiles_to_formatted_formula [35Cl][13C]([35Cl])([35Cl])[37Cl]\n",
            "Running smiles_to_formatted_formula [35Cl][13C]([35Cl])([35Cl])[37Cl]\n",
            "Running smiles_to_formatted_formula [35Cl][13C]([35Cl])([35Cl])[37Cl]\n",
            "Running smiles_to_formatted_formula [35Cl][13C]([35Cl])([35Cl])[37Cl]\n",
            "Running smiles_to_formatted_formula [35Cl][12C]([35Cl])([37Cl])[37Cl]\n",
            "Running smiles_to_formatted_formula [35Cl][12C]([35Cl])([37Cl])[37Cl]\n",
            "Running smiles_to_formatted_formula [35Cl][12C]([35Cl])([37Cl])[37Cl]\n",
            "Running smiles_to_formatted_formula [35Cl][12C]([35Cl])([37Cl])[37Cl]\n",
            "Running smiles_to_formatted_formula [35Cl][12C]([35Cl])([37Cl])[37Cl]\n",
            "Running smiles_to_formatted_formula [35Cl][12C]([35Cl])([37Cl])[37Cl]\n",
            "Running smiles_to_formatted_formula [35Cl][13C]([35Cl])([37Cl])[37Cl]\n",
            "Running smiles_to_formatted_formula [35Cl][13C]([35Cl])([37Cl])[37Cl]\n",
            "Running smiles_to_formatted_formula [35Cl][13C]([35Cl])([37Cl])[37Cl]\n",
            "Running smiles_to_formatted_formula [35Cl][13C]([35Cl])([37Cl])[37Cl]\n",
            "Running smiles_to_formatted_formula [35Cl][13C]([35Cl])([37Cl])[37Cl]\n",
            "Running smiles_to_formatted_formula [35Cl][13C]([35Cl])([37Cl])[37Cl]\n",
            "Running smiles_to_formatted_formula [35Cl][12C]([37Cl])([37Cl])[37Cl]\n",
            "Running smiles_to_formatted_formula [35Cl][12C]([37Cl])([37Cl])[37Cl]\n",
            "Running smiles_to_formatted_formula [35Cl][12C]([37Cl])([37Cl])[37Cl]\n",
            "Running smiles_to_formatted_formula [35Cl][12C]([37Cl])([37Cl])[37Cl]\n",
            "Running smiles_to_formatted_formula [35Cl][13C]([37Cl])([37Cl])[37Cl]\n",
            "Running smiles_to_formatted_formula [35Cl][13C]([37Cl])([37Cl])[37Cl]\n",
            "Running smiles_to_formatted_formula [35Cl][13C]([37Cl])([37Cl])[37Cl]\n",
            "Running smiles_to_formatted_formula [35Cl][13C]([37Cl])([37Cl])[37Cl]\n",
            "Running smiles_to_formatted_formula [37Cl][12C]([37Cl])([37Cl])[37Cl]\n",
            "Running smiles_to_formatted_formula [37Cl][13C]([37Cl])([37Cl])[37Cl]\n"
          ]
        },
        {
          "data": {
            "text/markdown": [
              "| # | formula | mass | abundance | composition_hash | mol |\n",
              "| --- | --- | --- | --- | --- | --- |\n",
              "| 1 | <sup>12</sup>C<sup>35</sup>Cl<sub>4</sub> | 151.87541072 | 0.3266244779209824 | 4c6f83b9736ee84df311fa3259fb0d901def9ad87bea921c68aa7ed7902e2703 | <rdkit.Chem.rdchem.Mol object at 0x166175150> |\n",
              "| 2 | <sup>13</sup>C<sup>35</sup>Cl<sub>4</sub> | 152.87876555999998 | 0.0034993121750176 | cdc6c3e1cafb512775ce9a4c3b0c233a2d8e6a892ebc205c0b390c8bdec0d582 | <rdkit.Chem.rdchem.Mol object at 0x166175460> |\n",
              "| 3 | <sup>12</sup>C<sup>35</sup>Cl<sub>3</sub><sup>37</sup>Cl | 153.87246062999998 | 0.1042785272518176 | af9acd632f90c2e2a53510b4ed2dacfa1edc41f6d53544b80feb2676bf570aa0 | <rdkit.Chem.rdchem.Mol object at 0x1661751c0> |\n",
              "| 4 | <sup>12</sup>C<sup>35</sup>Cl<sub>3</sub><sup>37</sup>Cl | 153.87246062999998 | 0.1042785272518176 | af9acd632f90c2e2a53510b4ed2dacfa1edc41f6d53544b80feb2676bf570aa0 | <rdkit.Chem.rdchem.Mol object at 0x1661750e0> |\n",
              "| 5 | <sup>12</sup>C<sup>35</sup>Cl<sub>3</sub><sup>37</sup>Cl | 153.87246062999998 | 0.1042785272518176 | af9acd632f90c2e2a53510b4ed2dacfa1edc41f6d53544b80feb2676bf570aa0 | <rdkit.Chem.rdchem.Mol object at 0x1661752a0> |\n",
              "| 6 | <sup>12</sup>C<sup>35</sup>Cl<sub>3</sub><sup>37</sup>Cl | 153.87246062999998 | 0.1042785272518176 | af9acd632f90c2e2a53510b4ed2dacfa1edc41f6d53544b80feb2676bf570aa0 | <rdkit.Chem.rdchem.Mol object at 0x166175850> |\n",
              "| 7 | <sup>13</sup>C<sup>35</sup>Cl<sub>3</sub><sup>37</sup>Cl | 154.87581547 | 0.0011171946521823998 | 5ee727e6796405381715dc5eaaf23aa2885ad99cd8dcd5b15a44cc34a75d87a0 | <rdkit.Chem.rdchem.Mol object at 0x1661754d0> |\n",
              "| 8 | <sup>13</sup>C<sup>35</sup>Cl<sub>3</sub><sup>37</sup>Cl | 154.87581547 | 0.0011171946521823998 | 5ee727e6796405381715dc5eaaf23aa2885ad99cd8dcd5b15a44cc34a75d87a0 | <rdkit.Chem.rdchem.Mol object at 0x166175540> |\n",
              "| 9 | <sup>13</sup>C<sup>35</sup>Cl<sub>3</sub><sup>37</sup>Cl | 154.87581547 | 0.0011171946521824 | 5ee727e6796405381715dc5eaaf23aa2885ad99cd8dcd5b15a44cc34a75d87a0 | <rdkit.Chem.rdchem.Mol object at 0x166175620> |\n",
              "| 10 | <sup>13</sup>C<sup>35</sup>Cl<sub>3</sub><sup>37</sup>Cl | 154.87581547 | 0.0011171946521824003 | 5ee727e6796405381715dc5eaaf23aa2885ad99cd8dcd5b15a44cc34a75d87a0 | <rdkit.Chem.rdchem.Mol object at 0x166175cb0> |\n",
              "| 11 | <sup>12</sup>C<sup>35</sup>Cl<sub>2</sub><sup>37</sup>Cl<sub>2</sub> | 155.86951054 | 0.0332920891753824 | 9e5efbfce17b6a8603fdcd394c3a9d49d81882b1d8c84f3c913e404ef9d6f4ce | <rdkit.Chem.rdchem.Mol object at 0x166175230> |\n",
              "| 12 | <sup>12</sup>C<sup>35</sup>Cl<sub>2</sub><sup>37</sup>Cl<sub>2</sub> | 155.86951054 | 0.0332920891753824 | 9e5efbfce17b6a8603fdcd394c3a9d49d81882b1d8c84f3c913e404ef9d6f4ce | <rdkit.Chem.rdchem.Mol object at 0x166175310> |\n",
              "| 13 | <sup>12</sup>C<sup>35</sup>Cl<sub>2</sub><sup>37</sup>Cl<sub>2</sub> | 155.86951054 | 0.03329208917538239 | 9e5efbfce17b6a8603fdcd394c3a9d49d81882b1d8c84f3c913e404ef9d6f4ce | <rdkit.Chem.rdchem.Mol object at 0x166175380> |\n",
              "| 14 | <sup>12</sup>C<sup>35</sup>Cl<sub>2</sub><sup>37</sup>Cl<sub>2</sub> | 155.86951054 | 0.0332920891753824 | 9e5efbfce17b6a8603fdcd394c3a9d49d81882b1d8c84f3c913e404ef9d6f4ce | <rdkit.Chem.rdchem.Mol object at 0x166175930> |\n",
              "| 15 | <sup>12</sup>C<sup>35</sup>Cl<sub>2</sub><sup>37</sup>Cl<sub>2</sub> | 155.86951054 | 0.03329208917538239 | 9e5efbfce17b6a8603fdcd394c3a9d49d81882b1d8c84f3c913e404ef9d6f4ce | <rdkit.Chem.rdchem.Mol object at 0x1661758c0> |\n",
              "| 16 | <sup>12</sup>C<sup>35</sup>Cl<sub>2</sub><sup>37</sup>Cl<sub>2</sub> | 155.86951054 | 0.03329208917538239 | 9e5efbfce17b6a8603fdcd394c3a9d49d81882b1d8c84f3c913e404ef9d6f4ce | <rdkit.Chem.rdchem.Mol object at 0x166175a10> |\n",
              "| 17 | <sup>13</sup>C<sup>35</sup>Cl<sub>2</sub><sup>37</sup>Cl<sub>2</sub> | 156.87286538 | 0.00035667692061759995 | 06dde00c4956626a7e32900b25f88ef03b53364a73b7474043fa9d3307560995 | <rdkit.Chem.rdchem.Mol object at 0x1661755b0> |\n",
              "| 18 | <sup>13</sup>C<sup>35</sup>Cl<sub>2</sub><sup>37</sup>Cl<sub>2</sub> | 156.87286538 | 0.0003566769206176 | 06dde00c4956626a7e32900b25f88ef03b53364a73b7474043fa9d3307560995 | <rdkit.Chem.rdchem.Mol object at 0x166175690> |\n",
              "| 19 | <sup>13</sup>C<sup>35</sup>Cl<sub>2</sub><sup>37</sup>Cl<sub>2</sub> | 156.87286538 | 0.0003566769206176 | 06dde00c4956626a7e32900b25f88ef03b53364a73b7474043fa9d3307560995 | <rdkit.Chem.rdchem.Mol object at 0x166175700> |\n",
              "| 20 | <sup>13</sup>C<sup>35</sup>Cl<sub>2</sub><sup>37</sup>Cl<sub>2</sub> | 156.87286538 | 0.00035667692061760006 | 06dde00c4956626a7e32900b25f88ef03b53364a73b7474043fa9d3307560995 | <rdkit.Chem.rdchem.Mol object at 0x166175d20> |\n",
              "| 21 | <sup>13</sup>C<sup>35</sup>Cl<sub>2</sub><sup>37</sup>Cl<sub>2</sub> | 156.87286538 | 0.00035667692061760006 | 06dde00c4956626a7e32900b25f88ef03b53364a73b7474043fa9d3307560995 | <rdkit.Chem.rdchem.Mol object at 0x166175d90> |\n",
              "| 22 | <sup>13</sup>C<sup>35</sup>Cl<sub>2</sub><sup>37</sup>Cl<sub>2</sub> | 156.87286538 | 0.00035667692061760006 | 06dde00c4956626a7e32900b25f88ef03b53364a73b7474043fa9d3307560995 | <rdkit.Chem.rdchem.Mol object at 0x166175e70> |\n",
              "| 23 | <sup>12</sup>C<sup>35</sup>Cl<sup>37</sup>Cl<sub>3</sub> | 157.86656045 | 0.010628872797417598 | a4439539b7e8dca87cdf0d022f416ceb85d0d77a03e89691b27bf809e88f2ba3 | <rdkit.Chem.rdchem.Mol object at 0x1661753f0> |\n",
              "| 24 | <sup>12</sup>C<sup>35</sup>Cl<sup>37</sup>Cl<sub>3</sub> | 157.86656045 | 0.010628872797417598 | a4439539b7e8dca87cdf0d022f416ceb85d0d77a03e89691b27bf809e88f2ba3 | <rdkit.Chem.rdchem.Mol object at 0x166175af0> |\n",
              "| 25 | <sup>12</sup>C<sup>35</sup>Cl<sup>37</sup>Cl<sub>3</sub> | 157.86656045 | 0.010628872797417598 | a4439539b7e8dca87cdf0d022f416ceb85d0d77a03e89691b27bf809e88f2ba3 | <rdkit.Chem.rdchem.Mol object at 0x166175b60> |\n",
              "| 26 | <sup>12</sup>C<sup>35</sup>Cl<sup>37</sup>Cl<sub>3</sub> | 157.86656045 | 0.010628872797417598 | a4439539b7e8dca87cdf0d022f416ceb85d0d77a03e89691b27bf809e88f2ba3 | <rdkit.Chem.rdchem.Mol object at 0x166175bd0> |\n",
              "| 27 | <sup>13</sup>C<sup>35</sup>Cl<sup>37</sup>Cl<sub>3</sub> | 158.86991529 | 0.0001138731065824 | fac3200efc9f88e1ea8ecf993c6c24e29f9c9ff02580f9108a138d5ff0235855 | <rdkit.Chem.rdchem.Mol object at 0x166175770> |\n",
              "| 28 | <sup>13</sup>C<sup>35</sup>Cl<sup>37</sup>Cl<sub>3</sub> | 158.86991529 | 0.00011387310658240001 | fac3200efc9f88e1ea8ecf993c6c24e29f9c9ff02580f9108a138d5ff0235855 | <rdkit.Chem.rdchem.Mol object at 0x166175e00> |\n",
              "| 29 | <sup>13</sup>C<sup>35</sup>Cl<sup>37</sup>Cl<sub>3</sub> | 158.86991529 | 0.00011387310658240001 | fac3200efc9f88e1ea8ecf993c6c24e29f9c9ff02580f9108a138d5ff0235855 | <rdkit.Chem.rdchem.Mol object at 0x166175ee0> |\n",
              "| 30 | <sup>13</sup>C<sup>35</sup>Cl<sup>37</sup>Cl<sub>3</sub> | 158.86991529 | 0.0001138731065824 | fac3200efc9f88e1ea8ecf993c6c24e29f9c9ff02580f9108a138d5ff0235855 | <rdkit.Chem.rdchem.Mol object at 0x166175f50> |\n",
              "| 31 | <sup>12</sup>C<sup>37</sup>Cl<sub>4</sub> | 159.86361036 | 0.0033933868297823994 | c9e7ca3d90fa50e50848b94286db94ffed8ee0c5b5a79469ef69e4bae4c1b050 | <rdkit.Chem.rdchem.Mol object at 0x166175c40> |\n",
              "| 32 | <sup>13</sup>C<sup>37</sup>Cl<sub>4</sub> | 160.86696519999998 | 3.6355266217599994e-05 | 20885a08f6c07dd7a21ac414959b24ac516c6944d2197f48cfbb0b08db2807b7 | <rdkit.Chem.rdchem.Mol object at 0x166175fc0> |\n"
            ],
            "text/plain": [
              "<IPython.core.display.Markdown object>"
            ]
          },
          "metadata": {},
          "output_type": "display_data"
        }
      ],
      "source": [
        "data_dict_list = []\n",
        "for mol_isotope in mol_isotopes_flat:\n",
        "    mol_isotope.update()\n",
        "    data_dict = {prop: getattr(mol_isotope, prop) for prop in vars(mol_isotope).keys()}\n",
        "    data_dict[\"mol_isotope\"] = mol_isotope\n",
        "    composition_dict = composition(mol_isotope.mol, isotopes=True)\n",
        "    hashed_composition_dict = hash_nested_dict(composition_dict)\n",
        "    data_dict[\"composition_hash\"] = str(hashed_composition_dict)\n",
        "    data_dict_list.append(data_dict)\n",
        "df = pl.DataFrame(data_dict_list).select([\"mass\", \"abundance\", \"composition_hash\", \"mol\"])\n",
        "df = df.with_columns(\n",
        "    pl.col(\"mol\").map_elements(lambda x: Chem.MolToSmiles(x)).alias(\"sml\")\n",
        ")\n",
        "df = df.with_columns(\n",
        "    pl.col(\"sml\").map_elements(lambda x: smiles_to_formatted_formula(x, isotopes=True)[\"markdown\"]).alias(\"formula\")\n",
        ")\n",
        "df = df.select([\"formula\", \"mass\", \"abundance\", \"composition_hash\", \"mol\"])\n",
        "display(Markdown(\n",
        "    dict_list_to_markdown_table(\n",
        "        df.rows(named=True),\n",
        "        number_rows=True,\n",
        "        )\n",
        "    ))"
      ]
    },
    {
      "cell_type": "markdown",
      "metadata": {},
      "source": [
        "There are a total of 32 permutations. The number of permutations is the product of the number of isotopes over each atom. In this case there are five atoms, each each (C or Cl) has two isotopes, so 2 * 2 * 2 * 2 * 2 = 2<sup>5</sup> = 32."
      ]
    },
    {
      "cell_type": "markdown",
      "metadata": {},
      "source": [
        "## Aggregating isotopomers"
      ]
    },
    {
      "cell_type": "markdown",
      "metadata": {},
      "source": [
        "The following aggregation expressions tell Polars to sum over abundance, and take the first value for other columns (besides abundance, which we're aggregating on)."
      ]
    },
    {
      "cell_type": "code",
      "execution_count": 64,
      "metadata": {},
      "outputs": [
        {
          "name": "stdout",
          "output_type": "stream",
          "text": [
            "Running smiles_to_formatted_formula [35Cl][12C]([35Cl])([35Cl])[35Cl]Running smiles_to_formatted_formula [35Cl][12C]([35Cl])([35Cl])[35Cl]\n",
            "Running smiles_to_formatted_formula [35Cl][13C]([35Cl])([35Cl])[37Cl]\n",
            "Running smiles_to_formatted_formula [37Cl][13C]([37Cl])([37Cl])[37Cl]\n",
            "Running smiles_to_formatted_formula [35Cl][12C]([35Cl])([35Cl])[37Cl]\n",
            "Running smiles_to_formatted_formula [35Cl][12C]([35Cl])([37Cl])[37Cl]\n",
            "Running smiles_to_formatted_formula [35Cl][13C]([35Cl])([37Cl])[37Cl]\n",
            "Running smiles_to_formatted_formula [35Cl][13C]([37Cl])([37Cl])[37Cl]\n",
            "Running smiles_to_formatted_formula [35Cl][12C]([37Cl])([37Cl])[37Cl]\n",
            "Running smiles_to_formatted_formula [35Cl][13C]([35Cl])([35Cl])[35Cl]\n",
            "Running smiles_to_formatted_formula [37Cl][12C]([37Cl])([37Cl])[37Cl]\n",
            "Running smiles_to_formatted_formula [35Cl][12C]([35Cl])([35Cl])[35Cl]\n",
            "Running smiles_to_formatted_formula [35Cl][13C]([35Cl])([35Cl])[37Cl]\n",
            "Running smiles_to_formatted_formula [37Cl][13C]([37Cl])([37Cl])[37Cl]\n",
            "Running smiles_to_formatted_formula [35Cl][12C]([35Cl])([35Cl])[37Cl]\n",
            "Running smiles_to_formatted_formula [35Cl][12C]([35Cl])([37Cl])[37Cl]\n",
            "Running smiles_to_formatted_formula [35Cl][13C]([35Cl])([37Cl])[37Cl]\n",
            "Running smiles_to_formatted_formula [35Cl][13C]([37Cl])([37Cl])[37Cl]\n",
            "Running smiles_to_formatted_formula [35Cl][12C]([37Cl])([37Cl])[37Cl]\n",
            "Running smiles_to_formatted_formula [35Cl][13C]([35Cl])([35Cl])[35Cl]\n",
            "Running smiles_to_formatted_formula [37Cl][12C]([37Cl])([37Cl])[37Cl]\n",
            "\n",
            "Running smiles_to_formatted_formula [35Cl][13C]([35Cl])([35Cl])[37Cl]\n",
            "Running smiles_to_formatted_formula [37Cl][13C]([37Cl])([37Cl])[37Cl]\n",
            "Running smiles_to_formatted_formula [35Cl][12C]([35Cl])([35Cl])[37Cl]\n",
            "Running smiles_to_formatted_formula [35Cl][12C]([35Cl])([37Cl])[37Cl]\n",
            "Running smiles_to_formatted_formula [35Cl][13C]([35Cl])([37Cl])[37Cl]\n",
            "Running smiles_to_formatted_formula [35Cl][13C]([37Cl])([37Cl])[37Cl]\n",
            "Running smiles_to_formatted_formula [35Cl][12C]([37Cl])([37Cl])[37Cl]\n",
            "Running smiles_to_formatted_formula [35Cl][13C]([35Cl])([35Cl])[35Cl]\n",
            "Running smiles_to_formatted_formula [37Cl][12C]([37Cl])([37Cl])[37Cl]\n"
          ]
        },
        {
          "data": {
            "text/markdown": [
              "| # | formula | mass | abundance | formula_dollar_math | formula_latex |\n",
              "| --- | --- | --- | --- | --- | --- |\n",
              "| 1 | <sup>12</sup>C<sup>35</sup>Cl<sub>4</sub> | 151.87541072 | 0.3266244779209824 | $^{12}$C$^{35}$Cl$_{4}$ | $^{12}C^{35}Cl_{4}$ |\n",
              "| 2 | <sup>13</sup>C<sup>35</sup>Cl<sub>3</sub><sup>37</sup>Cl | 154.87581547 | 0.0044687786087296 | $^{13}$C$^{35}$Cl$_{3}$$^{37}$Cl | $^{13}C^{35}Cl_{3}^{37}Cl$ |\n",
              "| 3 | <sup>13</sup>C<sup>37</sup>Cl<sub>4</sub> | 160.86696519999998 | 3.6355266217599994e-05 | $^{13}$C$^{37}$Cl$_{4}$ | $^{13}C^{37}Cl_{4}$ |\n",
              "| 4 | <sup>12</sup>C<sup>35</sup>Cl<sub>3</sub><sup>37</sup>Cl | 153.87246062999998 | 0.4171141090072704 | $^{12}$C$^{35}$Cl$_{3}$$^{37}$Cl | $^{12}C^{35}Cl_{3}^{37}Cl$ |\n",
              "| 5 | <sup>12</sup>C<sup>35</sup>Cl<sub>2</sub><sup>37</sup>Cl<sub>2</sub> | 155.86951054 | 0.1997525350522944 | $^{12}$C$^{35}$Cl$_{2}$$^{37}$Cl$_{2}$ | $^{12}C^{35}Cl_{2}^{37}Cl_{2}$ |\n",
              "| 6 | <sup>13</sup>C<sup>35</sup>Cl<sub>2</sub><sup>37</sup>Cl<sub>2</sub> | 156.87286538 | 0.0021400615237056 | $^{13}$C$^{35}$Cl$_{2}$$^{37}$Cl$_{2}$ | $^{13}C^{35}Cl_{2}^{37}Cl_{2}$ |\n",
              "| 7 | <sup>13</sup>C<sup>35</sup>Cl<sup>37</sup>Cl<sub>3</sub> | 158.86991529 | 0.0004554924263296 | $^{13}$C$^{35}$Cl$^{37}$Cl$_{3}$ | $^{13}C^{35}Cl^{37}Cl_{3}$ |\n",
              "| 8 | <sup>12</sup>C<sup>35</sup>Cl<sup>37</sup>Cl<sub>3</sub> | 157.86656045 | 0.04251549118967039 | $^{12}$C$^{35}$Cl$^{37}$Cl$_{3}$ | $^{12}C^{35}Cl^{37}Cl_{3}$ |\n",
              "| 9 | <sup>13</sup>C<sup>35</sup>Cl<sub>4</sub> | 152.87876555999998 | 0.0034993121750176 | $^{13}$C$^{35}$Cl$_{4}$ | $^{13}C^{35}Cl_{4}$ |\n",
              "| 10 | <sup>12</sup>C<sup>37</sup>Cl<sub>4</sub> | 159.86361036 | 0.0033933868297823994 | $^{12}$C$^{37}$Cl$_{4}$ | $^{12}C^{37}Cl_{4}$ |\n"
            ],
            "text/plain": [
              "<IPython.core.display.Markdown object>"
            ]
          },
          "metadata": {},
          "output_type": "display_data"
        }
      ],
      "source": [
        "agg_exprs = [\n",
        "    pl.sum(\"abundance\").alias(\"abundance\")\n",
        "] + [\n",
        "    pl.col(col).first().alias(col)\n",
        "    for col in df.columns\n",
        "    if col not in (\"composition_hash\", \"abundance\")\n",
        "]\n",
        "result_df = df.group_by(\"composition_hash\").agg(agg_exprs)\n",
        "result_df = result_df.with_columns(\n",
        "    pl.col(\"mol\").map_elements(lambda x: Chem.MolToSmiles(x)).alias(\"sml\")\n",
        ")\n",
        "result_df = result_df.with_columns(\n",
        "    pl.col(\"sml\").map_elements(lambda x: smiles_to_formatted_formula(x, isotopes=True)[\"markdown\"]).alias(\"formula\"),\n",
        "    pl.col(\"sml\").map_elements(lambda x: smiles_to_formatted_formula(x, isotopes=True)[\"dollar_math\"]).alias(\"formula_dollar_math\"),\n",
        "    pl.col(\"sml\").map_elements(lambda x: smiles_to_formatted_formula(x, isotopes=True)[\"latex\"]).alias(\"formula_latex\"),\n",
        ")\n",
        "df_display = result_df.select([\"formula\", \"mass\", \"abundance\", \"formula_dollar_math\", \"formula_latex\"])\n",
        "table = dict_list_to_markdown_table(\n",
        "    df_display.rows(named=True),\n",
        "    number_rows=True)\n",
        "display(Markdown(table))"
      ]
    },
    {
      "cell_type": "markdown",
      "metadata": {},
      "source": [
        "The aggregated result has 10 distinct isotopomers (combinations) compared to 32 permutations."
      ]
    },
    {
      "cell_type": "markdown",
      "metadata": {},
      "source": [
        "To verify that we calculated and aggregated abundances correctly, we check that the sum of abundances of the isotopomers is 1. (It might be very slightly different depending on the isotope data, numerical precision of operations, etc.)"
      ]
    },
    {
      "cell_type": "code",
      "execution_count": 67,
      "metadata": {},
      "outputs": [],
      "source": [
        "mol_isotopes_agg_masses = df_display[\"mass\"].to_list()\n",
        "mol_isotopes_agg_abundances = df_display[\"abundance\"].to_list()\n",
        "mol_isotopes_agg_formulas = df_display[\"formula\"].to_list()\n",
        "mol_isotopes_agg_formulas_dollar_math = df_display[\"formula_dollar_math\"].to_list()\n",
        "mol_isotopes_agg_formulas_latex = df_display[\"formula_latex\"].to_list()"
      ]
    },
    {
      "cell_type": "code",
      "execution_count": 34,
      "metadata": {
        "id": "RR1W2ANv2ALB"
      },
      "outputs": [
        {
          "name": "stdout",
          "output_type": "stream",
          "text": [
            "1.0\n"
          ]
        }
      ],
      "source": [
        "abundance_sum = sum(mol_isotopes_agg_abundances)\n",
        "print(abundance_sum)"
      ]
    },
    {
      "cell_type": "markdown",
      "metadata": {},
      "source": [
        "## Plot abundance vs. mass results"
      ]
    },
    {
      "cell_type": "markdown",
      "metadata": {},
      "source": [
        "To plot the results using Seaborn as abundance against mass, we convert to a pandas dataframe"
      ]
    },
    {
      "cell_type": "code",
      "execution_count": 68,
      "metadata": {
        "id": "pczHCrT9HUlo"
      },
      "outputs": [
        {
          "data": {
            "text/html": [
              "<div>\n",
              "<style scoped>\n",
              "    .dataframe tbody tr th:only-of-type {\n",
              "        vertical-align: middle;\n",
              "    }\n",
              "\n",
              "    .dataframe tbody tr th {\n",
              "        vertical-align: top;\n",
              "    }\n",
              "\n",
              "    .dataframe thead th {\n",
              "        text-align: right;\n",
              "    }\n",
              "</style>\n",
              "<table border=\"1\" class=\"dataframe\">\n",
              "  <thead>\n",
              "    <tr style=\"text-align: right;\">\n",
              "      <th></th>\n",
              "      <th>Mass</th>\n",
              "      <th>Abundance</th>\n",
              "      <th>Formula</th>\n",
              "      <th>Formula_dollar_math</th>\n",
              "      <th>Formula_latex</th>\n",
              "    </tr>\n",
              "  </thead>\n",
              "  <tbody>\n",
              "    <tr>\n",
              "      <th>0</th>\n",
              "      <td>151.875411</td>\n",
              "      <td>0.326624</td>\n",
              "      <td>&lt;sup&gt;12&lt;/sup&gt;C&lt;sup&gt;35&lt;/sup&gt;Cl&lt;sub&gt;4&lt;/sub&gt;</td>\n",
              "      <td>$^{12}$C$^{35}$Cl$_{4}$</td>\n",
              "      <td>$^{12}C^{35}Cl_{4}$</td>\n",
              "    </tr>\n",
              "    <tr>\n",
              "      <th>1</th>\n",
              "      <td>154.875815</td>\n",
              "      <td>0.004469</td>\n",
              "      <td>&lt;sup&gt;13&lt;/sup&gt;C&lt;sup&gt;35&lt;/sup&gt;Cl&lt;sub&gt;3&lt;/sub&gt;&lt;sup&gt;...</td>\n",
              "      <td>$^{13}$C$^{35}$Cl$_{3}$$^{37}$Cl</td>\n",
              "      <td>$^{13}C^{35}Cl_{3}^{37}Cl$</td>\n",
              "    </tr>\n",
              "    <tr>\n",
              "      <th>2</th>\n",
              "      <td>160.866965</td>\n",
              "      <td>0.000036</td>\n",
              "      <td>&lt;sup&gt;13&lt;/sup&gt;C&lt;sup&gt;37&lt;/sup&gt;Cl&lt;sub&gt;4&lt;/sub&gt;</td>\n",
              "      <td>$^{13}$C$^{37}$Cl$_{4}$</td>\n",
              "      <td>$^{13}C^{37}Cl_{4}$</td>\n",
              "    </tr>\n",
              "    <tr>\n",
              "      <th>3</th>\n",
              "      <td>153.872461</td>\n",
              "      <td>0.417114</td>\n",
              "      <td>&lt;sup&gt;12&lt;/sup&gt;C&lt;sup&gt;35&lt;/sup&gt;Cl&lt;sub&gt;3&lt;/sub&gt;&lt;sup&gt;...</td>\n",
              "      <td>$^{12}$C$^{35}$Cl$_{3}$$^{37}$Cl</td>\n",
              "      <td>$^{12}C^{35}Cl_{3}^{37}Cl$</td>\n",
              "    </tr>\n",
              "    <tr>\n",
              "      <th>4</th>\n",
              "      <td>155.869511</td>\n",
              "      <td>0.199753</td>\n",
              "      <td>&lt;sup&gt;12&lt;/sup&gt;C&lt;sup&gt;35&lt;/sup&gt;Cl&lt;sub&gt;2&lt;/sub&gt;&lt;sup&gt;...</td>\n",
              "      <td>$^{12}$C$^{35}$Cl$_{2}$$^{37}$Cl$_{2}$</td>\n",
              "      <td>$^{12}C^{35}Cl_{2}^{37}Cl_{2}$</td>\n",
              "    </tr>\n",
              "    <tr>\n",
              "      <th>5</th>\n",
              "      <td>156.872865</td>\n",
              "      <td>0.002140</td>\n",
              "      <td>&lt;sup&gt;13&lt;/sup&gt;C&lt;sup&gt;35&lt;/sup&gt;Cl&lt;sub&gt;2&lt;/sub&gt;&lt;sup&gt;...</td>\n",
              "      <td>$^{13}$C$^{35}$Cl$_{2}$$^{37}$Cl$_{2}$</td>\n",
              "      <td>$^{13}C^{35}Cl_{2}^{37}Cl_{2}$</td>\n",
              "    </tr>\n",
              "    <tr>\n",
              "      <th>6</th>\n",
              "      <td>158.869915</td>\n",
              "      <td>0.000455</td>\n",
              "      <td>&lt;sup&gt;13&lt;/sup&gt;C&lt;sup&gt;35&lt;/sup&gt;Cl&lt;sup&gt;37&lt;/sup&gt;Cl&lt;s...</td>\n",
              "      <td>$^{13}$C$^{35}$Cl$^{37}$Cl$_{3}$</td>\n",
              "      <td>$^{13}C^{35}Cl^{37}Cl_{3}$</td>\n",
              "    </tr>\n",
              "    <tr>\n",
              "      <th>7</th>\n",
              "      <td>157.866560</td>\n",
              "      <td>0.042515</td>\n",
              "      <td>&lt;sup&gt;12&lt;/sup&gt;C&lt;sup&gt;35&lt;/sup&gt;Cl&lt;sup&gt;37&lt;/sup&gt;Cl&lt;s...</td>\n",
              "      <td>$^{12}$C$^{35}$Cl$^{37}$Cl$_{3}$</td>\n",
              "      <td>$^{12}C^{35}Cl^{37}Cl_{3}$</td>\n",
              "    </tr>\n",
              "    <tr>\n",
              "      <th>8</th>\n",
              "      <td>152.878766</td>\n",
              "      <td>0.003499</td>\n",
              "      <td>&lt;sup&gt;13&lt;/sup&gt;C&lt;sup&gt;35&lt;/sup&gt;Cl&lt;sub&gt;4&lt;/sub&gt;</td>\n",
              "      <td>$^{13}$C$^{35}$Cl$_{4}$</td>\n",
              "      <td>$^{13}C^{35}Cl_{4}$</td>\n",
              "    </tr>\n",
              "    <tr>\n",
              "      <th>9</th>\n",
              "      <td>159.863610</td>\n",
              "      <td>0.003393</td>\n",
              "      <td>&lt;sup&gt;12&lt;/sup&gt;C&lt;sup&gt;37&lt;/sup&gt;Cl&lt;sub&gt;4&lt;/sub&gt;</td>\n",
              "      <td>$^{12}$C$^{37}$Cl$_{4}$</td>\n",
              "      <td>$^{12}C^{37}Cl_{4}$</td>\n",
              "    </tr>\n",
              "  </tbody>\n",
              "</table>\n",
              "</div>"
            ],
            "text/plain": [
              "         Mass  Abundance                                            Formula  \\\n",
              "0  151.875411   0.326624          <sup>12</sup>C<sup>35</sup>Cl<sub>4</sub>   \n",
              "1  154.875815   0.004469  <sup>13</sup>C<sup>35</sup>Cl<sub>3</sub><sup>...   \n",
              "2  160.866965   0.000036          <sup>13</sup>C<sup>37</sup>Cl<sub>4</sub>   \n",
              "3  153.872461   0.417114  <sup>12</sup>C<sup>35</sup>Cl<sub>3</sub><sup>...   \n",
              "4  155.869511   0.199753  <sup>12</sup>C<sup>35</sup>Cl<sub>2</sub><sup>...   \n",
              "5  156.872865   0.002140  <sup>13</sup>C<sup>35</sup>Cl<sub>2</sub><sup>...   \n",
              "6  158.869915   0.000455  <sup>13</sup>C<sup>35</sup>Cl<sup>37</sup>Cl<s...   \n",
              "7  157.866560   0.042515  <sup>12</sup>C<sup>35</sup>Cl<sup>37</sup>Cl<s...   \n",
              "8  152.878766   0.003499          <sup>13</sup>C<sup>35</sup>Cl<sub>4</sub>   \n",
              "9  159.863610   0.003393          <sup>12</sup>C<sup>37</sup>Cl<sub>4</sub>   \n",
              "\n",
              "                      Formula_dollar_math                   Formula_latex  \n",
              "0                 $^{12}$C$^{35}$Cl$_{4}$             $^{12}C^{35}Cl_{4}$  \n",
              "1        $^{13}$C$^{35}$Cl$_{3}$$^{37}$Cl      $^{13}C^{35}Cl_{3}^{37}Cl$  \n",
              "2                 $^{13}$C$^{37}$Cl$_{4}$             $^{13}C^{37}Cl_{4}$  \n",
              "3        $^{12}$C$^{35}$Cl$_{3}$$^{37}$Cl      $^{12}C^{35}Cl_{3}^{37}Cl$  \n",
              "4  $^{12}$C$^{35}$Cl$_{2}$$^{37}$Cl$_{2}$  $^{12}C^{35}Cl_{2}^{37}Cl_{2}$  \n",
              "5  $^{13}$C$^{35}$Cl$_{2}$$^{37}$Cl$_{2}$  $^{13}C^{35}Cl_{2}^{37}Cl_{2}$  \n",
              "6        $^{13}$C$^{35}$Cl$^{37}$Cl$_{3}$      $^{13}C^{35}Cl^{37}Cl_{3}$  \n",
              "7        $^{12}$C$^{35}$Cl$^{37}$Cl$_{3}$      $^{12}C^{35}Cl^{37}Cl_{3}$  \n",
              "8                 $^{13}$C$^{35}$Cl$_{4}$             $^{13}C^{35}Cl_{4}$  \n",
              "9                 $^{12}$C$^{37}$Cl$_{4}$             $^{12}C^{37}Cl_{4}$  "
            ]
          },
          "execution_count": 68,
          "metadata": {},
          "output_type": "execute_result"
        }
      ],
      "source": [
        "df_pandas_all = pd.DataFrame({\n",
        "    'Mass': mol_isotopes_agg_masses,\n",
        "    'Abundance': mol_isotopes_agg_abundances,\n",
        "    'Formula': mol_isotopes_agg_formulas,\n",
        "    'Formula_dollar_math': mol_isotopes_agg_formulas_dollar_math,\n",
        "    'Formula_latex': mol_isotopes_agg_formulas_latex,\n",
        "})\n",
        "df_pandas_all"
      ]
    },
    {
      "cell_type": "markdown",
      "metadata": {},
      "source": [
        "There can be many isotopomers with very low abundance, so we might want to limit the plot to a cutoff level of abundance to prevent a forest of short lines and colliding labels."
      ]
    },
    {
      "cell_type": "code",
      "execution_count": 69,
      "metadata": {
        "id": "krjigvHivySP"
      },
      "outputs": [],
      "source": [
        "cutoff = 0.01\n",
        "df_pandas = df_pandas_all.loc[df_pandas_all['Abundance'] >= cutoff]"
      ]
    },
    {
      "cell_type": "code",
      "execution_count": 70,
      "metadata": {},
      "outputs": [
        {
          "data": {
            "text/html": [
              "<div>\n",
              "<style scoped>\n",
              "    .dataframe tbody tr th:only-of-type {\n",
              "        vertical-align: middle;\n",
              "    }\n",
              "\n",
              "    .dataframe tbody tr th {\n",
              "        vertical-align: top;\n",
              "    }\n",
              "\n",
              "    .dataframe thead th {\n",
              "        text-align: right;\n",
              "    }\n",
              "</style>\n",
              "<table border=\"1\" class=\"dataframe\">\n",
              "  <thead>\n",
              "    <tr style=\"text-align: right;\">\n",
              "      <th></th>\n",
              "      <th>Mass</th>\n",
              "      <th>Abundance</th>\n",
              "      <th>Formula</th>\n",
              "      <th>Formula_dollar_math</th>\n",
              "      <th>Formula_latex</th>\n",
              "    </tr>\n",
              "  </thead>\n",
              "  <tbody>\n",
              "    <tr>\n",
              "      <th>0</th>\n",
              "      <td>151.875411</td>\n",
              "      <td>0.326624</td>\n",
              "      <td>&lt;sup&gt;12&lt;/sup&gt;C&lt;sup&gt;35&lt;/sup&gt;Cl&lt;sub&gt;4&lt;/sub&gt;</td>\n",
              "      <td>$^{12}$C$^{35}$Cl$_{4}$</td>\n",
              "      <td>$^{12}C^{35}Cl_{4}$</td>\n",
              "    </tr>\n",
              "    <tr>\n",
              "      <th>3</th>\n",
              "      <td>153.872461</td>\n",
              "      <td>0.417114</td>\n",
              "      <td>&lt;sup&gt;12&lt;/sup&gt;C&lt;sup&gt;35&lt;/sup&gt;Cl&lt;sub&gt;3&lt;/sub&gt;&lt;sup&gt;...</td>\n",
              "      <td>$^{12}$C$^{35}$Cl$_{3}$$^{37}$Cl</td>\n",
              "      <td>$^{12}C^{35}Cl_{3}^{37}Cl$</td>\n",
              "    </tr>\n",
              "    <tr>\n",
              "      <th>4</th>\n",
              "      <td>155.869511</td>\n",
              "      <td>0.199753</td>\n",
              "      <td>&lt;sup&gt;12&lt;/sup&gt;C&lt;sup&gt;35&lt;/sup&gt;Cl&lt;sub&gt;2&lt;/sub&gt;&lt;sup&gt;...</td>\n",
              "      <td>$^{12}$C$^{35}$Cl$_{2}$$^{37}$Cl$_{2}$</td>\n",
              "      <td>$^{12}C^{35}Cl_{2}^{37}Cl_{2}$</td>\n",
              "    </tr>\n",
              "    <tr>\n",
              "      <th>7</th>\n",
              "      <td>157.866560</td>\n",
              "      <td>0.042515</td>\n",
              "      <td>&lt;sup&gt;12&lt;/sup&gt;C&lt;sup&gt;35&lt;/sup&gt;Cl&lt;sup&gt;37&lt;/sup&gt;Cl&lt;s...</td>\n",
              "      <td>$^{12}$C$^{35}$Cl$^{37}$Cl$_{3}$</td>\n",
              "      <td>$^{12}C^{35}Cl^{37}Cl_{3}$</td>\n",
              "    </tr>\n",
              "  </tbody>\n",
              "</table>\n",
              "</div>"
            ],
            "text/plain": [
              "         Mass  Abundance                                            Formula  \\\n",
              "0  151.875411   0.326624          <sup>12</sup>C<sup>35</sup>Cl<sub>4</sub>   \n",
              "3  153.872461   0.417114  <sup>12</sup>C<sup>35</sup>Cl<sub>3</sub><sup>...   \n",
              "4  155.869511   0.199753  <sup>12</sup>C<sup>35</sup>Cl<sub>2</sub><sup>...   \n",
              "7  157.866560   0.042515  <sup>12</sup>C<sup>35</sup>Cl<sup>37</sup>Cl<s...   \n",
              "\n",
              "                      Formula_dollar_math                   Formula_latex  \n",
              "0                 $^{12}$C$^{35}$Cl$_{4}$             $^{12}C^{35}Cl_{4}$  \n",
              "3        $^{12}$C$^{35}$Cl$_{3}$$^{37}$Cl      $^{12}C^{35}Cl_{3}^{37}Cl$  \n",
              "4  $^{12}$C$^{35}$Cl$_{2}$$^{37}$Cl$_{2}$  $^{12}C^{35}Cl_{2}^{37}Cl_{2}$  \n",
              "7        $^{12}$C$^{35}$Cl$^{37}$Cl$_{3}$      $^{12}C^{35}Cl^{37}Cl_{3}$  "
            ]
          },
          "execution_count": 70,
          "metadata": {},
          "output_type": "execute_result"
        }
      ],
      "source": [
        "df_pandas"
      ]
    },
    {
      "cell_type": "code",
      "execution_count": 124,
      "metadata": {
        "id": "Z1Hg_meIIJLi"
      },
      "outputs": [
        {
          "name": "stdout",
          "output_type": "stream",
          "text": [
            "${\\rm ^{12}C\text{ }^{35}Cl\text{ }_{3}^{37}Cl}$ molecular isotopic distribution\n"
          ]
        },
        {
          "name": "stderr",
          "output_type": "stream",
          "text": [
            "/Users/jemonat/Projects/bertiewooster.github.io/venv/lib/python3.11/site-packages/seaborn/_oldcore.py:1498: FutureWarning: is_categorical_dtype is deprecated and will be removed in a future version. Use isinstance(dtype, CategoricalDtype) instead\n",
            "  if pd.api.types.is_categorical_dtype(vector):\n",
            "/Users/jemonat/Projects/bertiewooster.github.io/venv/lib/python3.11/site-packages/seaborn/_oldcore.py:1498: FutureWarning: is_categorical_dtype is deprecated and will be removed in a future version. Use isinstance(dtype, CategoricalDtype) instead\n",
            "  if pd.api.types.is_categorical_dtype(vector):\n"
          ]
        },
        {
          "data": {
            "image/png": "[encoded data removed]",
            "text/plain": [
              "<Figure size 640x480 with 1 Axes>"
            ]
          },
          "metadata": {},
          "output_type": "display_data"
        }
      ],
      "source": [
        "# Create the scatter plot using Seaborn\n",
        "sns.scatterplot(x='Mass', y='Abundance', data=df_pandas, marker='')\n",
        "\n",
        "plt.xlabel('Mass')\n",
        "plt.ylabel('Abundance')\n",
        "\n",
        "# formula = smiles_to_formatted_formula(sml, isotopes=True)[\"latex\"]\n",
        "formula = \"$^{12}C\\text{ }^{35}Cl\\text{ }_{3}^{37}Cl$\"\n",
        "# Use C-style string formatting with the % operator to avoid conflicts with using braces for both LaTeX and {}.format()\n",
        "title = r\"${\\rm %s}$ molecular isotopic distribution\" % (formula.strip(\"$\"))\n",
        "print(title)\n",
        "plt.title(title)\n",
        "\n",
        "# Adjust x-axis limits to allow more space on the left and right for labels\n",
        "xrange = max(df_pandas['Mass']) - min(df_pandas['Mass'])\n",
        "xpad = xrange * 0.15\n",
        "plt.xlim(min(df_pandas['Mass']) - xpad, max(df_pandas['Mass']) + xpad)\n",
        "\n",
        "# Adjust y-axis limits to start at zero and allow more space on the top for labels\n",
        "yrange = max(df_pandas['Abundance']) - min(df_pandas['Abundance'])\n",
        "ypad = yrange * 0.15\n",
        "plt.ylim(0, max(df_pandas['Abundance']) + ypad)\n",
        "\n",
        "for index, (mass, abundance, formula) in enumerate(zip(df_pandas['Mass'], df_pandas['Abundance'], df_pandas['Formula_latex'])):\n",
        "    # Add vertical lines from each data point to the x-axis\n",
        "    plt.vlines(x=mass, ymin=0, ymax=abundance, colors='black')\n",
        "    # Label the data points by mass\n",
        "    label = r\"${\\rm %s}$ %s %s\" % (formula.strip(\"$\"), \"\\n\", mass)\n",
        "    plt.text(\n",
        "        x=mass, \n",
        "        y=abundance, \n",
        "        s=label, \n",
        "        ha='center',\n",
        "        va='bottom')\n",
        "\n",
        "plt.show()"
      ]
    },
    {
      "cell_type": "markdown",
      "metadata": {},
      "source": [
        "#TODO Tweak LaTeX so that subscript and superscript don't overlap, e.g. in Cl2 37Cl, the 37 should not overlap with the 2"
      ]
    },
    {
      "cell_type": "markdown",
      "metadata": {},
      "source": [
        "## Conclusion"
      ]
    },
    {
      "cell_type": "markdown",
      "metadata": {},
      "source": [
        "That's it for this approach. Again, creating a molecule for each permutation is computationally expensive, so in part 2 I'll share a more sophisticated and tractable approach using combinations."
      ]
    },
    {
      "cell_type": "markdown",
      "metadata": {},
      "source": [
        "*Acknowledgement: I thank my late father [Robert Monat](https://www.arnmortuary.com/obituary/Robert-Monat) for teaching me about combinations vs. permutations.*"
      ]
    },
    {
      "cell_type": "code",
      "execution_count": 116,
      "metadata": {},
      "outputs": [
        {
          "data": {
            "text/markdown": [
              "$^{12}C^{35}Cl_{3}^{37}Cl$"
            ],
            "text/plain": [
              "<IPython.core.display.Markdown object>"
            ]
          },
          "execution_count": 116,
          "metadata": {},
          "output_type": "execute_result"
        }
      ],
      "source": [
        "Markdown(\"$^{12}C^{35}Cl_{3}^{37}Cl$\")"
      ]
    },
    {
      "cell_type": "code",
      "execution_count": 130,
      "metadata": {},
      "outputs": [
        {
          "data": {
            "image/png": "[encoded data removed]",
            "text/plain": [
              "<Figure size 640x480 with 1 Axes>"
            ]
          },
          "metadata": {},
          "output_type": "display_data"
        }
      ],
      "source": [
        "import matplotlib.pyplot as plt\n",
        "\n",
        "# Define the chemical formula as a LaTeX string with proper vertical spacing\n",
        "# latex_formula = r\"${\\rm {}^{12}C\\ {}^{35}Cl\\ \\!_{3}\\!^{37}Cl}$\"\n",
        "latex_formula = r\"${\\rm ^{12}C^{35}Cl_{3}\\!^{37}Cl}$\"\n",
        "\n",
        "# Create a plot\n",
        "plt.plot([1, 2, 3], [1, 4, 9])\n",
        "\n",
        "# Set the title with LaTeX rendering\n",
        "plt.title(latex_formula)\n",
        "\n",
        "# Show the plot\n",
        "plt.show()\n"
      ]
    },
    {
      "cell_type": "code",
      "execution_count": null,
      "metadata": {},
      "outputs": [],
      "source": []
    }
  ],
  "metadata": {
    "colab": {
      "provenance": []
    },
    "kernelspec": {
      "display_name": "Python 3",
      "name": "python3"
    },
    "language_info": {
      "codemirror_mode": {
        "name": "ipython",
        "version": 3
      },
      "file_extension": ".py",
      "mimetype": "text/x-python",
      "name": "python",
      "nbconvert_exporter": "python",
      "pygments_lexer": "ipython3",
      "version": "3.11.0"
    }
  },
  "nbformat": 4,
  "nbformat_minor": 0
}
