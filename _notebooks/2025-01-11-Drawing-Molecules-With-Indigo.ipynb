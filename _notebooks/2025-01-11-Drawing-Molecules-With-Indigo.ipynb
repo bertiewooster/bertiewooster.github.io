{
 "cells": [
  {
   "cell_type": "markdown",
   "metadata": {},
   "source": [
    "# Drawing molecules with EPAM's Indigo cheminformatics library"
   ]
  },
  {
   "cell_type": "markdown",
   "metadata": {},
   "source": [
    "Exploring other cheminformatics toolkits besides the RDKit, I wanted to try [EPAM Indigo Toolkit](https://lifescience.opensource.epam.com/indigo/index.html). The [Indigo Toolkit is free and open-source](https://github.com/epam/Indigo) with Apache License 2.0, so it can be used in proprietary software.\n",
    "\n",
    "I was unable to find simple examples of drawing molecules in a Python Jupyter Notebook, so here's how to do that. This post also demonstrates how to save molecular images to a file.\n",
    "\n",
    "In general the official [documentation for Indigo](https://lifescience.opensource.epam.com/indigo/index.html#documentation) is much less than for the RDKit, as are the examples posted by users online. As a form of documentation, below I specify Indigo argument names, and am more pedantic about including code blocks and outputs."
   ]
  },
  {
   "cell_type": "markdown",
   "metadata": {},
   "source": [
    "## Import and initialize Indigo modules"
   ]
  },
  {
   "cell_type": "markdown",
   "metadata": {},
   "source": [
    "Indigo works a little differently than the RDKit: With Indigo, you start by creating an instance of the class for Indigo or its renderer; then you can use the class's methods."
   ]
  },
  {
   "cell_type": "code",
   "execution_count": 52,
   "metadata": {},
   "outputs": [],
   "source": [
    "from indigo import Indigo\n",
    "from indigo.renderer import IndigoRenderer"
   ]
  },
  {
   "cell_type": "code",
   "execution_count": 53,
   "metadata": {},
   "outputs": [],
   "source": [
    "# Initialize Indigo and IndigoRenderer\n",
    "indigo = Indigo()\n",
    "renderer = IndigoRenderer(indigo)"
   ]
  },
  {
   "cell_type": "markdown",
   "metadata": {},
   "source": [
    "To display the images in a Jupyter Notebook, we use IPython display modules."
   ]
  },
  {
   "cell_type": "code",
   "execution_count": 54,
   "metadata": {},
   "outputs": [],
   "source": [
    "from IPython.display import display, SVG, Image"
   ]
  },
  {
   "cell_type": "markdown",
   "metadata": {},
   "source": [
    "## Set an Indigo option for all images"
   ]
  },
  {
   "cell_type": "markdown",
   "metadata": {},
   "source": [
    "As a first example of performing an operation in Indigo, let's set a drawing [option](https://lifescience.opensource.epam.com/indigo/options/index.html) that will apply to the rest of this post. This option, `render-margins`, sets the \"Horizontal and vertical margins around the image, in pixels.\""
   ]
  },
  {
   "cell_type": "code",
   "execution_count": 55,
   "metadata": {},
   "outputs": [],
   "source": [
    "indigo.setOption(\"render-margins\", 10, 10)"
   ]
  },
  {
   "cell_type": "markdown",
   "metadata": {},
   "source": [
    "It's helpful to have such fine control of drawing. Compared to the RDKit, I found Indigo's syntactical structure less transparent because you supply the option name in quotes, meaning you don't get a list of parameter name options, or autocomplete in an IDE (integrated development environment)."
   ]
  },
  {
   "cell_type": "markdown",
   "metadata": {},
   "source": [
    "## Draw a single molecule with Indigo Renderer"
   ]
  },
  {
   "cell_type": "markdown",
   "metadata": {},
   "source": [
    "### Set up a single molecule"
   ]
  },
  {
   "cell_type": "markdown",
   "metadata": {},
   "source": [
    "One nice feature of Indigo is that it will convert from a chemical name to a molecule, so you don't need to compose the SMILES."
   ]
  },
  {
   "cell_type": "code",
   "execution_count": 56,
   "metadata": {},
   "outputs": [],
   "source": [
    "name = \"3-ethyl-octane\"\n",
    "mol = indigo.nameToStructure(name)"
   ]
  },
  {
   "cell_type": "markdown",
   "metadata": {},
   "source": [
    "Once you have the molecule, you can get the SMILES using the molecule's `smiles` method."
   ]
  },
  {
   "cell_type": "code",
   "execution_count": 57,
   "metadata": {},
   "outputs": [
    {
     "data": {
      "text/plain": [
       "'CCC(CCCCC)CC'"
      ]
     },
     "execution_count": 57,
     "metadata": {},
     "output_type": "execute_result"
    }
   ],
   "source": [
    "mol.smiles()"
   ]
  },
  {
   "cell_type": "markdown",
   "metadata": {},
   "source": [
    "### Display an Indigo molecular structure in the notebook"
   ]
  },
  {
   "cell_type": "markdown",
   "metadata": {},
   "source": [
    "I was able to render a molecular structure in a Jupyter Notebook using either PNG or SVG format. In each code block, we start by setting the `render-output-format` option to the desired graphics format. The Jupyter Notebook command to display the image varies depending on the image format."
   ]
  },
  {
   "cell_type": "code",
   "execution_count": 58,
   "metadata": {},
   "outputs": [
    {
     "data": {
      "image/png": "[encoded data removed]",
      "text/plain": [
       "<IPython.core.display.Image object>"
      ]
     },
     "metadata": {},
     "output_type": "display_data"
    }
   ],
   "source": [
    "indigo.setOption(\"render-output-format\", \"png\")\n",
    "img = renderer.renderToBuffer(\n",
    "    obj=mol,\n",
    ")\n",
    "display(Image(img))"
   ]
  },
  {
   "cell_type": "code",
   "execution_count": 59,
   "metadata": {},
   "outputs": [
    {
     "data": {
      "image/svg+xml": [
       "<svg xmlns=\"http://www.w3.org/2000/svg\" xmlns:xlink=\"http://www.w3.org/1999/xlink\" width=\"661\" height=\"364\" viewBox=\"0 0 661 364\">\n",
       "<defs>\n",
       "<g>\n",
       "<g id=\"glyph-0-0\">\n",
       "<path d=\"M 5 0 L 5 -25 L 25 -25 L 25 0 Z M 5.625 -0.625 L 24.375 -0.625 L 24.375 -24.375 L 5.625 -24.375 Z M 5.625 -0.625 \"/>\n",
       "</g>\n",
       "<g id=\"glyph-0-1\">\n",
       "<path d=\"M 23.515625 -10.039062 L 27.304688 -9.082031 C 26.511719 -5.96875 25.082031 -3.597656 23.019531 -1.964844 C 20.953125 -0.328125 18.429688 0.488281 15.449219 0.488281 C 12.363281 0.488281 9.855469 -0.140625 7.921875 -1.398438 C 5.988281 -2.652344 4.515625 -4.472656 3.507812 -6.855469 C 2.496094 -9.238281 1.992188 -11.796875 1.992188 -14.53125 C 1.992188 -17.511719 2.5625 -20.113281 3.703125 -22.335938 C 4.839844 -24.554688 6.460938 -26.242188 8.566406 -27.394531 C 10.667969 -28.546875 12.980469 -29.121094 15.507812 -29.121094 C 18.371094 -29.121094 20.78125 -28.390625 22.734375 -26.933594 C 24.6875 -25.476562 26.046875 -23.425781 26.816406 -20.78125 L 23.085938 -19.902344 C 22.421875 -21.984375 21.457031 -23.503906 20.195312 -24.453125 C 18.933594 -25.402344 17.34375 -25.878906 15.429688 -25.878906 C 13.230469 -25.878906 11.390625 -25.351562 9.914062 -24.296875 C 8.433594 -23.242188 7.394531 -21.828125 6.796875 -20.050781 C 6.199219 -18.273438 5.898438 -16.4375 5.898438 -14.550781 C 5.898438 -12.117188 6.253906 -9.992188 6.964844 -8.175781 C 7.671875 -6.359375 8.777344 -5 10.273438 -4.101562 C 11.769531 -3.203125 13.390625 -2.753906 15.136719 -2.753906 C 17.257812 -2.753906 19.054688 -3.367188 20.527344 -4.589844 C 22 -5.8125 22.996094 -7.628906 23.515625 -10.039062 Z M 23.515625 -10.039062 \"/>\n",
       "</g>\n",
       "<g id=\"glyph-0-2\">\n",
       "<path d=\"M 3.203125 0 L 3.203125 -28.632812 L 6.992188 -28.632812 L 6.992188 -16.875 L 21.875 -16.875 L 21.875 -28.632812 L 25.664062 -28.632812 L 25.664062 0 L 21.875 0 L 21.875 -13.496094 L 6.992188 -13.496094 L 6.992188 0 Z M 3.203125 0 \"/>\n",
       "</g>\n",
       "<g id=\"glyph-1-0\">\n",
       "<path d=\"M 3.332031 0 L 3.332031 -16.667969 L 16.667969 -16.667969 L 16.667969 0 Z M 3.75 -0.417969 L 16.25 -0.417969 L 16.25 -16.25 L 3.75 -16.25 Z M 3.75 -0.417969 \"/>\n",
       "</g>\n",
       "<g id=\"glyph-1-1\">\n",
       "<path d=\"M 1.121094 -5.039062 L 3.464844 -5.351562 C 3.734375 -4.023438 4.191406 -3.066406 4.835938 -2.480469 C 5.484375 -1.894531 6.273438 -1.601562 7.199219 -1.601562 C 8.300781 -1.601562 9.234375 -1.984375 9.992188 -2.746094 C 10.753906 -3.511719 11.132812 -4.457031 11.132812 -5.585938 C 11.132812 -6.664062 10.78125 -7.550781 10.078125 -8.25 C 9.375 -8.949219 8.480469 -9.296875 7.394531 -9.296875 C 6.953125 -9.296875 6.402344 -9.210938 5.742188 -9.035156 L 6.003906 -11.09375 C 6.160156 -11.078125 6.285156 -11.066406 6.378906 -11.066406 C 7.378906 -11.066406 8.277344 -11.328125 9.074219 -11.847656 C 9.875 -12.371094 10.273438 -13.171875 10.273438 -14.257812 C 10.273438 -15.117188 9.984375 -15.828125 9.402344 -16.394531 C 8.820312 -16.957031 8.070312 -17.238281 7.148438 -17.238281 C 6.238281 -17.238281 5.476562 -16.953125 4.871094 -16.378906 C 4.261719 -15.808594 3.871094 -14.949219 3.699219 -13.800781 L 1.355469 -14.21875 C 1.640625 -15.789062 2.292969 -17.007812 3.308594 -17.871094 C 4.324219 -18.734375 5.585938 -19.167969 7.097656 -19.167969 C 8.136719 -19.167969 9.097656 -18.941406 9.972656 -18.496094 C 10.851562 -18.050781 11.519531 -17.4375 11.984375 -16.667969 C 12.449219 -15.894531 12.683594 -15.074219 12.683594 -14.207031 C 12.683594 -13.382812 12.460938 -12.628906 12.019531 -11.953125 C 11.574219 -11.277344 10.921875 -10.738281 10.050781 -10.339844 C 11.179688 -10.078125 12.058594 -9.539062 12.683594 -8.71875 C 13.308594 -7.898438 13.621094 -6.871094 13.621094 -5.636719 C 13.621094 -3.972656 13.011719 -2.558594 11.796875 -1.398438 C 10.582031 -0.242188 9.046875 0.339844 7.1875 0.339844 C 5.511719 0.339844 4.121094 -0.160156 3.015625 -1.160156 C 1.90625 -2.15625 1.277344 -3.449219 1.121094 -5.039062 Z M 1.121094 -5.039062 \"/>\n",
       "</g>\n",
       "</g>\n",
       "</defs>\n",
       "<path fill=\"none\" stroke-width=\"0.0333333\" stroke-linecap=\"butt\" stroke-linejoin=\"miter\" stroke=\"rgb(0%, 0%, 0%)\" stroke-opacity=\"1\" stroke-miterlimit=\"10\" d=\"M 0.000000181198 2.741953 L 0.000000181198 1.990391 \" transform=\"matrix(100, 0, 0, 100, 70.691388, 31.324219)\"/>\n",
       "<path fill=\"none\" stroke-width=\"0.0333333\" stroke-linecap=\"butt\" stroke-linejoin=\"miter\" stroke=\"rgb(0%, 0%, 0%)\" stroke-opacity=\"1\" stroke-miterlimit=\"10\" d=\"M -0.00832013 2.004805 L 0.866016 1.5 \" transform=\"matrix(100, 0, 0, 100, 70.691388, 31.324219)\"/>\n",
       "<path fill=\"none\" stroke-width=\"0.0333333\" stroke-linecap=\"butt\" stroke-linejoin=\"miter\" stroke=\"rgb(0%, 0%, 0%)\" stroke-opacity=\"1\" stroke-miterlimit=\"10\" d=\"M 0.866016 1.5 L 0.866016 0.490391 \" transform=\"matrix(100, 0, 0, 100, 70.691388, 31.324219)\"/>\n",
       "<path fill=\"none\" stroke-width=\"0.0333333\" stroke-linecap=\"butt\" stroke-linejoin=\"miter\" stroke=\"rgb(0%, 0%, 0%)\" stroke-opacity=\"1\" stroke-miterlimit=\"10\" d=\"M 0.874375 0.504805 L 0.268008 0.154727 \" transform=\"matrix(100, 0, 0, 100, 70.691388, 31.324219)\"/>\n",
       "<path fill=\"none\" stroke-width=\"0.0333333\" stroke-linecap=\"butt\" stroke-linejoin=\"miter\" stroke=\"rgb(0%, 0%, 0%)\" stroke-opacity=\"1\" stroke-miterlimit=\"10\" d=\"M 0.866016 1.5 L 1.740391 2.004805 \" transform=\"matrix(100, 0, 0, 100, 70.691388, 31.324219)\"/>\n",
       "<path fill=\"none\" stroke-width=\"0.0333333\" stroke-linecap=\"butt\" stroke-linejoin=\"miter\" stroke=\"rgb(0%, 0%, 0%)\" stroke-opacity=\"1\" stroke-miterlimit=\"10\" d=\"M 1.723711 2.004805 L 2.606406 1.495195 \" transform=\"matrix(100, 0, 0, 100, 70.691388, 31.324219)\"/>\n",
       "<path fill=\"none\" stroke-width=\"0.0333333\" stroke-linecap=\"butt\" stroke-linejoin=\"miter\" stroke=\"rgb(0%, 0%, 0%)\" stroke-opacity=\"1\" stroke-miterlimit=\"10\" d=\"M 2.589727 1.495195 L 3.472422 2.004805 \" transform=\"matrix(100, 0, 0, 100, 70.691388, 31.324219)\"/>\n",
       "<path fill=\"none\" stroke-width=\"0.0333333\" stroke-linecap=\"butt\" stroke-linejoin=\"miter\" stroke=\"rgb(0%, 0%, 0%)\" stroke-opacity=\"1\" stroke-miterlimit=\"10\" d=\"M 3.455781 2.004805 L 4.338477 1.495195 \" transform=\"matrix(100, 0, 0, 100, 70.691388, 31.324219)\"/>\n",
       "<path fill=\"none\" stroke-width=\"0.0333333\" stroke-linecap=\"butt\" stroke-linejoin=\"miter\" stroke=\"rgb(0%, 0%, 0%)\" stroke-opacity=\"1\" stroke-miterlimit=\"10\" d=\"M 4.321797 1.495195 L 4.928125 1.845273 \" transform=\"matrix(100, 0, 0, 100, 70.691388, 31.324219)\"/>\n",
       "<g fill=\"rgb(0%, 0%, 0%)\" fill-opacity=\"1\">\n",
       "<use xlink:href=\"#glyph-0-1\" x=\"56.042969\" y=\"345.640625\"/>\n",
       "</g>\n",
       "<g fill=\"rgb(0%, 0%, 0%)\" fill-opacity=\"1\">\n",
       "<use xlink:href=\"#glyph-0-2\" x=\"83.476562\" y=\"345.152344\"/>\n",
       "</g>\n",
       "<g fill=\"rgb(0%, 0%, 0%)\" fill-opacity=\"1\">\n",
       "<use xlink:href=\"#glyph-1-1\" x=\"111.355469\" y=\"347.140625\"/>\n",
       "</g>\n",
       "<g fill=\"rgb(0%, 0%, 0%)\" fill-opacity=\"1\">\n",
       "<use xlink:href=\"#glyph-0-1\" x=\"56.042969\" y=\"45.640625\"/>\n",
       "</g>\n",
       "<g fill=\"rgb(0%, 0%, 0%)\" fill-opacity=\"1\">\n",
       "<use xlink:href=\"#glyph-0-2\" x=\"13.203125\" y=\"45.152344\"/>\n",
       "</g>\n",
       "<g fill=\"rgb(0%, 0%, 0%)\" fill-opacity=\"1\">\n",
       "<use xlink:href=\"#glyph-1-1\" x=\"41.082031\" y=\"47.140625\"/>\n",
       "</g>\n",
       "<g fill=\"rgb(0%, 0%, 0%)\" fill-opacity=\"1\">\n",
       "<use xlink:href=\"#glyph-0-1\" x=\"575.65625\" y=\"245.640625\"/>\n",
       "</g>\n",
       "<g fill=\"rgb(0%, 0%, 0%)\" fill-opacity=\"1\">\n",
       "<use xlink:href=\"#glyph-0-2\" x=\"603.09375\" y=\"245.152344\"/>\n",
       "</g>\n",
       "<g fill=\"rgb(0%, 0%, 0%)\" fill-opacity=\"1\">\n",
       "<use xlink:href=\"#glyph-1-1\" x=\"630.972656\" y=\"247.140625\"/>\n",
       "</g>\n",
       "</svg>"
      ],
      "text/plain": [
       "<IPython.core.display.SVG object>"
      ]
     },
     "metadata": {},
     "output_type": "display_data"
    }
   ],
   "source": [
    "indigo.setOption(\"render-output-format\", \"svg\")\n",
    "mol_svg = renderer.renderToBuffer(\n",
    "    obj=mol,\n",
    ")\n",
    "display(SVG(mol_svg))"
   ]
  },
  {
   "cell_type": "markdown",
   "metadata": {},
   "source": [
    "Taking a different approach than the RDKit, Indigo renders terminal carbon atoms explicitly (CH<sub>3</sub> here) rather than implicitly as vertices."
   ]
  },
  {
   "cell_type": "markdown",
   "metadata": {},
   "source": [
    "### Write an Indigo molecular structure to a file"
   ]
  },
  {
   "cell_type": "markdown",
   "metadata": {},
   "source": [
    "Similarly, we can save a molecular structure to a file in either PNG or SVG format."
   ]
  },
  {
   "cell_type": "code",
   "execution_count": 60,
   "metadata": {},
   "outputs": [],
   "source": [
    "indigo.setOption(\"render-output-format\", \"png\")\n",
    "mol.layout()\n",
    "renderer.renderToFile(\n",
    "    obj=mol,\n",
    "    filename=\"../images/indigo/mol.png\",\n",
    ")"
   ]
  },
  {
   "cell_type": "markdown",
   "metadata": {},
   "source": [
    "Here's the image in the PNG file:"
   ]
  },
  {
   "cell_type": "markdown",
   "metadata": {},
   "source": [
    "![3-ethyl-octane molecular structure](../images/indigo/mol.png)"
   ]
  },
  {
   "cell_type": "code",
   "execution_count": 61,
   "metadata": {},
   "outputs": [],
   "source": [
    "indigo.setOption(\"render-output-format\", \"svg\")\n",
    "mol.layout()\n",
    "renderer.renderToFile(\n",
    "    obj=mol,\n",
    "    filename=\"../images/indigo/mol.svg\",\n",
    ")"
   ]
  },
  {
   "cell_type": "markdown",
   "metadata": {},
   "source": [
    "And the SVG file has the same molecular structure:"
   ]
  },
  {
   "cell_type": "markdown",
   "metadata": {},
   "source": [
    "![3-ethyl-octane molecular structure](../images/indigo/mol.svg)"
   ]
  },
  {
   "cell_type": "markdown",
   "metadata": {},
   "source": [
    "## Draw a grid of molecules with Indigo Renderer"
   ]
  },
  {
   "cell_type": "markdown",
   "metadata": {},
   "source": [
    "Often we want to draw a grid of molecular structures to show similarities amongst them, depict the results of a query, etc."
   ]
  },
  {
   "cell_type": "markdown",
   "metadata": {},
   "source": [
    "### Set up an array of Indigo molecules"
   ]
  },
  {
   "cell_type": "markdown",
   "metadata": {},
   "source": [
    "First let's create a list of molecules based on cyclohexane."
   ]
  },
  {
   "cell_type": "code",
   "execution_count": 62,
   "metadata": {},
   "outputs": [],
   "source": [
    "names = [\n",
    "    \"cyclohexane\",\n",
    "    \"1-methyl-cyclohexane\",\n",
    "    \"1,2-dimethyl-cyclohexane\",\n",
    "    \"1,3-dimethyl-cyclohexane\",\n",
    "    \"1,4-dimethyl-cyclohexane\",\n",
    "    \"1,2,3-trimethyl-cyclohexane\",\n",
    "]"
   ]
  },
  {
   "cell_type": "markdown",
   "metadata": {},
   "source": [
    "In Indigo, we use `createArray()` to create an array of molecules to later draw in a grid. Let's set the property `grid-comment` of each molecule to its name so we can later display its name in the drawing grid."
   ]
  },
  {
   "cell_type": "code",
   "execution_count": 63,
   "metadata": {},
   "outputs": [],
   "source": [
    "array = indigo.createArray()\n",
    "for n in names:\n",
    "    this_mol = indigo.nameToStructure(n)\n",
    "    this_mol.layout()\n",
    "    this_mol.setProperty(\"grid-comment\", n)\n",
    "    array.arrayAdd(this_mol)"
   ]
  },
  {
   "cell_type": "markdown",
   "metadata": {},
   "source": [
    "In the options below, `title` refers to the label under each molecule in the grid. The title will be the molecule's name because that's what we previously set `grid-comment` to. Again, the granular ability to set specific layout properties, such as vertical and horizontal spacing, is nice."
   ]
  },
  {
   "cell_type": "code",
   "execution_count": 64,
   "metadata": {},
   "outputs": [],
   "source": [
    "# Set the label under each molecule\n",
    "indigo.setOption(\"render-grid-title-property\", \"grid-comment\")\n",
    "\n",
    "# Set the vertical offset of the label under each molecule\n",
    "indigo.setOption(\"render-grid-title-offset\", \"15\")\n",
    "\n",
    "# Set the spacing between grid cells as horizontal and vertical pixels\n",
    "indigo.setOption(\"render-grid-margins\", \"70, 70\")"
   ]
  },
  {
   "cell_type": "markdown",
   "metadata": {},
   "source": [
    "### Display a grid of Indigo molecular structures in the notebook as a PNG"
   ]
  },
  {
   "cell_type": "markdown",
   "metadata": {},
   "source": [
    "Now we can draw a grid of molecules using `renderGridToBuffer`. We pass the `array` of molecules as the `objects` parameter. Similar to the RDKit, we can specify the number of columns, here with `ncolumns`. The parameter [`refatoms` can be used to align structures to have the same orientation](https://ctr.fandom.com/wiki/Align_the_depiction_using_a_fixed_substructure#Indigo/Python), though the code below doesn't set it to anything."
   ]
  },
  {
   "cell_type": "code",
   "execution_count": 65,
   "metadata": {},
   "outputs": [
    {
     "data": {
      "image/png": "[encoded data removed]",
      "text/plain": [
       "<IPython.core.display.Image object>"
      ]
     },
     "metadata": {},
     "output_type": "display_data"
    }
   ],
   "source": [
    "indigo.setOption(\"render-output-format\", \"png\")\n",
    "img_grid_png = renderer.renderGridToBuffer(\n",
    "    objects=array,\n",
    "    refatoms=None,\n",
    "    ncolumns=3,\n",
    ")\n",
    "display(Image(img_grid_png))"
   ]
  },
  {
   "cell_type": "markdown",
   "metadata": {},
   "source": [
    "### Display a grid of Indigo molecular structures in the notebook as an SVG"
   ]
  },
  {
   "cell_type": "markdown",
   "metadata": {},
   "source": [
    "The output from this has been intermittently problematic: the molecular structures have come out distorted, perhaps due to some issue with writing or displaying the SVG format. The [SVG format](https://en.wikipedia.org/wiki/SVG) specifies graphical elements and their locations, which has the advantages of vector graphics but this possible issue. On the other hand, [PNG](https://en.wikipedia.org/wiki/PNG) is a raster-graphics format where the image is specified as a grid of pixels, so it's not surprising that it doesn't have the same issue."
   ]
  },
  {
   "cell_type": "code",
   "execution_count": 66,
   "metadata": {},
   "outputs": [
    {
     "data": {
      "image/svg+xml": [
       "<svg xmlns=\"http://www.w3.org/2000/svg\" xmlns:xlink=\"http://www.w3.org/1999/xlink\" width=\"1716\" height=\"723\" viewBox=\"0 0 1716 723\">\n",
       "<defs>\n",
       "<g>\n",
       "<g id=\"glyph-0-0\">\n",
       "<path d=\"M 2.5 0 L 2.5 -12.5 L 12.5 -12.5 L 12.5 0 Z M 2.8125 -0.3125 L 12.1875 -0.3125 L 12.1875 -12.1875 L 2.8125 -12.1875 Z M 2.8125 -0.3125 \"/>\n",
       "</g>\n",
       "<g id=\"glyph-0-1\">\n",
       "<path d=\"M 8.085938 -3.796875 L 9.8125 -3.574219 C 9.625 -2.382812 9.140625 -1.449219 8.363281 -0.777344 C 7.585938 -0.101562 6.632812 0.234375 5.5 0.234375 C 4.078125 0.234375 2.9375 -0.230469 2.074219 -1.15625 C 1.210938 -2.085938 0.78125 -3.414062 0.78125 -5.148438 C 0.78125 -6.265625 0.96875 -7.246094 1.335938 -8.085938 C 1.707031 -8.925781 2.273438 -9.554688 3.03125 -9.976562 C 3.789062 -10.394531 4.617188 -10.605469 5.507812 -10.605469 C 6.632812 -10.605469 7.554688 -10.320312 8.273438 -9.75 C 8.988281 -9.179688 9.445312 -8.371094 9.648438 -7.324219 L 7.9375 -7.0625 C 7.777344 -7.757812 7.488281 -8.28125 7.074219 -8.632812 C 6.660156 -8.984375 6.164062 -9.160156 5.578125 -9.160156 C 4.691406 -9.160156 3.972656 -8.84375 3.417969 -8.207031 C 2.863281 -7.574219 2.585938 -6.570312 2.585938 -5.195312 C 2.585938 -3.800781 2.855469 -2.789062 3.390625 -2.15625 C 3.921875 -1.527344 4.617188 -1.210938 5.476562 -1.210938 C 6.167969 -1.210938 6.746094 -1.421875 7.207031 -1.84375 C 7.667969 -2.269531 7.960938 -2.921875 8.085938 -3.796875 Z M 8.085938 -3.796875 \"/>\n",
       "</g>\n",
       "<g id=\"glyph-0-2\">\n",
       "<path d=\"M 1.242188 3.992188 L 1.046875 2.34375 C 1.429688 2.449219 1.765625 2.5 2.050781 2.5 C 2.441406 2.5 2.753906 2.433594 2.988281 2.304688 C 3.222656 2.175781 3.414062 1.992188 3.5625 1.757812 C 3.675781 1.582031 3.855469 1.144531 4.101562 0.449219 C 4.132812 0.351562 4.1875 0.207031 4.257812 0.0195312 L 0.320312 -10.371094 L 2.21875 -10.371094 L 4.375 -4.367188 C 4.65625 -3.605469 4.90625 -2.804688 5.125 -1.960938 C 5.328125 -2.769531 5.570312 -3.558594 5.851562 -4.328125 L 8.066406 -10.371094 L 9.824219 -10.371094 L 5.878906 0.175781 C 5.457031 1.316406 5.125 2.101562 4.890625 2.53125 C 4.578125 3.109375 4.222656 3.535156 3.820312 3.804688 C 3.414062 4.074219 2.933594 4.210938 2.375 4.210938 C 2.035156 4.210938 1.65625 4.136719 1.242188 3.992188 Z M 1.242188 3.992188 \"/>\n",
       "</g>\n",
       "<g id=\"glyph-0-3\">\n",
       "<path d=\"M 1.28125 0 L 1.28125 -14.316406 L 3.039062 -14.316406 L 3.039062 0 Z M 1.28125 0 \"/>\n",
       "</g>\n",
       "<g id=\"glyph-0-4\">\n",
       "<path d=\"M 0.664062 -5.1875 C 0.664062 -7.105469 1.199219 -8.527344 2.265625 -9.453125 C 3.15625 -10.222656 4.246094 -10.605469 5.527344 -10.605469 C 6.953125 -10.605469 8.117188 -10.136719 9.023438 -9.203125 C 9.929688 -8.269531 10.382812 -6.980469 10.382812 -5.332031 C 10.382812 -3.996094 10.179688 -2.949219 9.78125 -2.183594 C 9.378906 -1.417969 8.796875 -0.824219 8.03125 -0.398438 C 7.265625 0.0234375 6.433594 0.234375 5.527344 0.234375 C 4.074219 0.234375 2.902344 -0.230469 2.007812 -1.164062 C 1.113281 -2.09375 0.664062 -3.433594 0.664062 -5.1875 Z M 2.46875 -5.1875 C 2.46875 -3.859375 2.761719 -2.863281 3.339844 -2.203125 C 3.917969 -1.542969 4.648438 -1.210938 5.527344 -1.210938 C 6.398438 -1.210938 7.125 -1.542969 7.703125 -2.207031 C 8.285156 -2.871094 8.574219 -3.882812 8.574219 -5.242188 C 8.574219 -6.527344 8.28125 -7.5 7.699219 -8.160156 C 7.117188 -8.820312 6.394531 -9.148438 5.527344 -9.148438 C 4.648438 -9.148438 3.917969 -8.820312 3.339844 -8.164062 C 2.761719 -7.507812 2.46875 -6.515625 2.46875 -5.1875 Z M 2.46875 -5.1875 \"/>\n",
       "</g>\n",
       "<g id=\"glyph-0-5\">\n",
       "<path d=\"M 1.320312 0 L 1.320312 -14.316406 L 3.078125 -14.316406 L 3.078125 -9.179688 C 3.898438 -10.128906 4.929688 -10.605469 6.179688 -10.605469 C 6.949219 -10.605469 7.617188 -10.453125 8.183594 -10.152344 C 8.75 -9.847656 9.15625 -9.429688 9.398438 -8.898438 C 9.644531 -8.363281 9.765625 -7.585938 9.765625 -6.570312 L 9.765625 0 L 8.007812 0 L 8.007812 -6.570312 C 8.007812 -7.449219 7.816406 -8.089844 7.4375 -8.492188 C 7.054688 -8.890625 6.515625 -9.09375 5.820312 -9.09375 C 5.300781 -9.09375 4.808594 -8.957031 4.351562 -8.6875 C 3.890625 -8.417969 3.5625 -8.050781 3.367188 -7.585938 C 3.171875 -7.125 3.078125 -6.488281 3.078125 -5.671875 L 3.078125 0 Z M 1.320312 0 \"/>\n",
       "</g>\n",
       "<g id=\"glyph-0-6\">\n",
       "<path d=\"M 8.417969 -3.339844 L 10.234375 -3.117188 C 9.949219 -2.054688 9.417969 -1.230469 8.640625 -0.644531 C 7.867188 -0.0585938 6.878906 0.234375 5.671875 0.234375 C 4.15625 0.234375 2.953125 -0.234375 2.066406 -1.167969 C 1.175781 -2.101562 0.734375 -3.410156 0.734375 -5.097656 C 0.734375 -6.84375 1.179688 -8.195312 2.078125 -9.160156 C 2.976562 -10.125 4.144531 -10.605469 5.578125 -10.605469 C 6.964844 -10.605469 8.09375 -10.132812 8.976562 -9.1875 C 9.855469 -8.246094 10.292969 -6.917969 10.292969 -5.203125 C 10.292969 -5.101562 10.289062 -4.945312 10.28125 -4.734375 L 2.546875 -4.734375 C 2.613281 -3.597656 2.9375 -2.726562 3.515625 -2.117188 C 4.09375 -1.511719 4.816406 -1.210938 5.683594 -1.210938 C 6.328125 -1.210938 6.878906 -1.378906 7.335938 -1.71875 C 7.789062 -2.058594 8.152344 -2.597656 8.417969 -3.339844 Z M 2.648438 -6.179688 L 8.4375 -6.179688 C 8.359375 -7.054688 8.136719 -7.707031 7.773438 -8.144531 C 7.214844 -8.820312 6.488281 -9.160156 5.59375 -9.160156 C 4.789062 -9.160156 4.109375 -8.890625 3.558594 -8.351562 C 3.007812 -7.808594 2.703125 -7.085938 2.648438 -6.179688 Z M 2.648438 -6.179688 \"/>\n",
       "</g>\n",
       "<g id=\"glyph-0-7\">\n",
       "<path d=\"M 0.148438 0 L 3.9375 -5.390625 L 0.429688 -10.371094 L 2.625 -10.371094 L 4.21875 -7.9375 C 4.519531 -7.476562 4.757812 -7.089844 4.941406 -6.777344 C 5.226562 -7.207031 5.492188 -7.585938 5.734375 -7.921875 L 7.480469 -10.371094 L 9.578125 -10.371094 L 5.996094 -5.488281 L 9.851562 0 L 7.695312 0 L 5.566406 -3.222656 L 5 -4.09375 L 2.273438 0 Z M 0.148438 0 \"/>\n",
       "</g>\n",
       "<g id=\"glyph-0-8\">\n",
       "<path d=\"M 8.085938 -1.28125 C 7.433594 -0.726562 6.808594 -0.335938 6.207031 -0.109375 C 5.605469 0.121094 4.957031 0.234375 4.265625 0.234375 C 3.128906 0.234375 2.253906 -0.0429688 1.640625 -0.601562 C 1.027344 -1.15625 0.722656 -1.867188 0.722656 -2.734375 C 0.722656 -3.242188 0.839844 -3.707031 1.070312 -4.125 C 1.300781 -4.546875 1.601562 -4.882812 1.976562 -5.136719 C 2.351562 -5.390625 2.773438 -5.582031 3.242188 -5.710938 C 3.585938 -5.804688 4.109375 -5.890625 4.804688 -5.976562 C 6.222656 -6.144531 7.269531 -6.347656 7.9375 -6.582031 C 7.945312 -6.824219 7.949219 -6.976562 7.949219 -7.039062 C 7.949219 -7.757812 7.78125 -8.261719 7.453125 -8.554688 C 7.003906 -8.953125 6.335938 -9.148438 5.449219 -9.148438 C 4.621094 -9.148438 4.011719 -9.003906 3.617188 -8.714844 C 3.222656 -8.425781 2.933594 -7.914062 2.742188 -7.179688 L 1.023438 -7.414062 C 1.179688 -8.148438 1.4375 -8.742188 1.796875 -9.195312 C 2.15625 -9.648438 2.671875 -9.996094 3.351562 -10.238281 C 4.027344 -10.484375 4.8125 -10.605469 5.703125 -10.605469 C 6.589844 -10.605469 7.308594 -10.5 7.859375 -10.292969 C 8.414062 -10.085938 8.820312 -9.824219 9.082031 -9.507812 C 9.34375 -9.191406 9.523438 -8.792969 9.628906 -8.3125 C 9.6875 -8.011719 9.71875 -7.46875 9.71875 -6.6875 L 9.71875 -4.34375 C 9.71875 -2.710938 9.753906 -1.679688 9.828125 -1.246094 C 9.902344 -0.8125 10.050781 -0.398438 10.273438 0 L 8.4375 0 C 8.253906 -0.363281 8.136719 -0.789062 8.085938 -1.28125 Z M 7.9375 -5.203125 C 7.300781 -4.945312 6.34375 -4.722656 5.070312 -4.539062 C 4.347656 -4.4375 3.835938 -4.320312 3.535156 -4.1875 C 3.234375 -4.058594 3.003906 -3.867188 2.84375 -3.617188 C 2.679688 -3.367188 2.597656 -3.089844 2.597656 -2.78125 C 2.597656 -2.3125 2.773438 -1.921875 3.128906 -1.609375 C 3.484375 -1.296875 4.003906 -1.140625 4.6875 -1.140625 C 5.363281 -1.140625 5.96875 -1.289062 6.492188 -1.585938 C 7.019531 -1.882812 7.410156 -2.289062 7.65625 -2.804688 C 7.84375 -3.199219 7.9375 -3.785156 7.9375 -4.5625 Z M 7.9375 -5.203125 \"/>\n",
       "</g>\n",
       "<g id=\"glyph-0-9\">\n",
       "<path d=\"M 1.320312 0 L 1.320312 -10.371094 L 2.898438 -10.371094 L 2.898438 -8.898438 C 3.660156 -10.035156 4.761719 -10.605469 6.203125 -10.605469 C 6.828125 -10.605469 7.402344 -10.492188 7.925781 -10.269531 C 8.449219 -10.042969 8.839844 -9.75 9.101562 -9.382812 C 9.363281 -9.019531 9.542969 -8.585938 9.648438 -8.085938 C 9.714844 -7.761719 9.746094 -7.191406 9.746094 -6.375 L 9.746094 0 L 7.988281 0 L 7.988281 -6.308594 C 7.988281 -7.023438 7.921875 -7.558594 7.78125 -7.914062 C 7.644531 -8.269531 7.402344 -8.554688 7.054688 -8.765625 C 6.707031 -8.976562 6.296875 -9.082031 5.828125 -9.082031 C 5.082031 -9.082031 4.433594 -8.84375 3.890625 -8.367188 C 3.347656 -7.894531 3.078125 -6.992188 3.078125 -5.664062 L 3.078125 0 Z M 1.320312 0 \"/>\n",
       "</g>\n",
       "<g id=\"glyph-0-10\">\n",
       "<path d=\"M 7.453125 0 L 5.695312 0 L 5.695312 -11.203125 C 5.269531 -10.796875 4.714844 -10.394531 4.027344 -9.992188 C 3.339844 -9.585938 2.726562 -9.285156 2.179688 -9.082031 L 2.179688 -10.78125 C 3.160156 -11.242188 4.019531 -11.804688 4.757812 -12.460938 C 5.492188 -13.117188 6.011719 -13.757812 6.320312 -14.375 L 7.453125 -14.375 Z M 7.453125 0 \"/>\n",
       "</g>\n",
       "<g id=\"glyph-0-11\">\n",
       "<path d=\"M 0.632812 -4.296875 L 0.632812 -6.0625 L 6.035156 -6.0625 L 6.035156 -4.296875 Z M 0.632812 -4.296875 \"/>\n",
       "</g>\n",
       "<g id=\"glyph-0-12\">\n",
       "<path d=\"M 1.320312 0 L 1.320312 -10.371094 L 2.890625 -10.371094 L 2.890625 -8.914062 C 3.214844 -9.421875 3.648438 -9.832031 4.1875 -10.140625 C 4.730469 -10.449219 5.34375 -10.605469 6.035156 -10.605469 C 6.804688 -10.605469 7.433594 -10.445312 7.925781 -10.125 C 8.417969 -9.808594 8.761719 -9.363281 8.964844 -8.789062 C 9.785156 -10 10.851562 -10.605469 12.167969 -10.605469 C 13.195312 -10.605469 13.988281 -10.320312 14.539062 -9.75 C 15.09375 -9.179688 15.371094 -8.304688 15.371094 -7.117188 L 15.371094 0 L 13.625 0 L 13.625 -6.53125 C 13.625 -7.234375 13.566406 -7.742188 13.453125 -8.050781 C 13.339844 -8.359375 13.132812 -8.609375 12.832031 -8.796875 C 12.53125 -8.988281 12.179688 -9.082031 11.777344 -9.082031 C 11.046875 -9.082031 10.441406 -8.839844 9.960938 -8.355469 C 9.480469 -7.871094 9.238281 -7.09375 9.238281 -6.023438 L 9.238281 0 L 7.480469 0 L 7.480469 -6.738281 C 7.480469 -7.519531 7.335938 -8.105469 7.050781 -8.496094 C 6.765625 -8.886719 6.296875 -9.082031 5.644531 -9.082031 C 5.148438 -9.082031 4.691406 -8.953125 4.273438 -8.691406 C 3.851562 -8.429688 3.546875 -8.050781 3.359375 -7.546875 C 3.171875 -7.046875 3.078125 -6.324219 3.078125 -5.382812 L 3.078125 0 Z M 1.320312 0 \"/>\n",
       "</g>\n",
       "<g id=\"glyph-0-13\">\n",
       "<path d=\"M 5.15625 -1.570312 L 5.410156 -0.0195312 C 4.914062 0.0859375 4.472656 0.136719 4.082031 0.136719 C 3.445312 0.136719 2.949219 0.0351562 2.597656 -0.164062 C 2.246094 -0.367188 2 -0.632812 1.855469 -0.960938 C 1.710938 -1.289062 1.640625 -1.984375 1.640625 -3.039062 L 1.640625 -9.003906 L 0.351562 -9.003906 L 0.351562 -10.371094 L 1.640625 -10.371094 L 1.640625 -12.9375 L 3.390625 -13.992188 L 3.390625 -10.371094 L 5.15625 -10.371094 L 5.15625 -9.003906 L 3.390625 -9.003906 L 3.390625 -2.9375 C 3.390625 -2.4375 3.417969 -2.117188 3.480469 -1.972656 C 3.542969 -1.828125 3.644531 -1.714844 3.785156 -1.632812 C 3.925781 -1.546875 4.125 -1.503906 4.382812 -1.503906 C 4.578125 -1.503906 4.835938 -1.527344 5.15625 -1.570312 Z M 5.15625 -1.570312 \"/>\n",
       "</g>\n",
       "<g id=\"glyph-0-14\">\n",
       "<path d=\"M 1.777344 0 L 1.777344 -2 L 3.78125 -2 L 3.78125 0 C 3.78125 0.734375 3.648438 1.328125 3.390625 1.78125 C 3.128906 2.234375 2.714844 2.585938 2.148438 2.832031 L 1.660156 2.078125 C 2.03125 1.917969 2.304688 1.679688 2.480469 1.363281 C 2.65625 1.046875 2.753906 0.59375 2.773438 0 Z M 1.777344 0 \"/>\n",
       "</g>\n",
       "<g id=\"glyph-0-15\">\n",
       "<path d=\"M 10.070312 -1.6875 L 10.070312 0 L 0.605469 0 C 0.59375 -0.421875 0.660156 -0.828125 0.8125 -1.21875 C 1.050781 -1.863281 1.4375 -2.5 1.96875 -3.125 C 2.5 -3.75 3.265625 -4.472656 4.265625 -5.292969 C 5.824219 -6.570312 6.875 -7.578125 7.421875 -8.324219 C 7.96875 -9.070312 8.242188 -9.773438 8.242188 -10.4375 C 8.242188 -11.136719 7.992188 -11.722656 7.496094 -12.203125 C 6.996094 -12.679688 6.347656 -12.921875 5.546875 -12.921875 C 4.699219 -12.921875 4.023438 -12.664062 3.515625 -12.15625 C 3.007812 -11.648438 2.75 -10.945312 2.742188 -10.046875 L 0.9375 -10.234375 C 1.0625 -11.582031 1.527344 -12.609375 2.335938 -13.316406 C 3.140625 -14.023438 4.226562 -14.375 5.585938 -14.375 C 6.960938 -14.375 8.046875 -13.992188 8.847656 -13.234375 C 9.648438 -12.472656 10.046875 -11.527344 10.046875 -10.398438 C 10.046875 -9.828125 9.929688 -9.265625 9.695312 -8.710938 C 9.460938 -8.15625 9.074219 -7.574219 8.53125 -6.960938 C 7.988281 -6.351562 7.082031 -5.511719 5.820312 -4.445312 C 4.765625 -3.558594 4.089844 -2.957031 3.789062 -2.640625 C 3.488281 -2.324219 3.242188 -2.007812 3.046875 -1.6875 Z M 10.070312 -1.6875 \"/>\n",
       "</g>\n",
       "<g id=\"glyph-0-16\">\n",
       "<path d=\"M 8.046875 0 L 8.046875 -1.308594 C 7.390625 -0.28125 6.421875 0.234375 5.148438 0.234375 C 4.320312 0.234375 3.558594 0.0078125 2.867188 -0.449219 C 2.171875 -0.90625 1.636719 -1.542969 1.253906 -2.359375 C 0.875 -3.175781 0.683594 -4.113281 0.683594 -5.175781 C 0.683594 -6.210938 0.855469 -7.148438 1.203125 -7.992188 C 1.546875 -8.835938 2.0625 -9.484375 2.753906 -9.929688 C 3.445312 -10.378906 4.214844 -10.605469 5.070312 -10.605469 C 5.695312 -10.605469 6.25 -10.472656 6.738281 -10.210938 C 7.226562 -9.945312 7.625 -9.601562 7.929688 -9.179688 L 7.929688 -14.316406 L 9.679688 -14.316406 L 9.679688 0 Z M 2.492188 -5.175781 C 2.492188 -3.847656 2.769531 -2.855469 3.328125 -2.195312 C 3.890625 -1.539062 4.550781 -1.210938 5.3125 -1.210938 C 6.082031 -1.210938 6.734375 -1.523438 7.269531 -2.152344 C 7.808594 -2.78125 8.078125 -3.742188 8.078125 -5.03125 C 8.078125 -6.449219 7.804688 -7.492188 7.257812 -8.15625 C 6.710938 -8.820312 6.035156 -9.148438 5.234375 -9.148438 C 4.453125 -9.148438 3.800781 -8.832031 3.277344 -8.195312 C 2.753906 -7.554688 2.492188 -6.550781 2.492188 -5.175781 Z M 2.492188 -5.175781 \"/>\n",
       "</g>\n",
       "<g id=\"glyph-0-17\">\n",
       "<path d=\"M 1.328125 -12.296875 L 1.328125 -14.316406 L 3.085938 -14.316406 L 3.085938 -12.296875 Z M 1.328125 0 L 1.328125 -10.371094 L 3.085938 -10.371094 L 3.085938 0 Z M 1.328125 0 \"/>\n",
       "</g>\n",
       "<g id=\"glyph-0-18\">\n",
       "<path d=\"M 0.839844 -3.78125 L 2.597656 -4.015625 C 2.800781 -3.019531 3.144531 -2.300781 3.628906 -1.859375 C 4.113281 -1.421875 4.703125 -1.203125 5.398438 -1.203125 C 6.226562 -1.203125 6.925781 -1.488281 7.496094 -2.0625 C 8.066406 -2.632812 8.351562 -3.34375 8.351562 -4.1875 C 8.351562 -4.996094 8.085938 -5.664062 7.558594 -6.1875 C 7.03125 -6.710938 6.359375 -6.972656 5.546875 -6.972656 C 5.214844 -6.972656 4.800781 -6.90625 4.304688 -6.777344 L 4.5 -8.320312 C 4.617188 -8.308594 4.714844 -8.300781 4.785156 -8.300781 C 5.535156 -8.300781 6.207031 -8.496094 6.804688 -8.886719 C 7.40625 -9.277344 7.703125 -9.878906 7.703125 -10.695312 C 7.703125 -11.339844 7.488281 -11.871094 7.050781 -12.296875 C 6.613281 -12.71875 6.050781 -12.929688 5.359375 -12.929688 C 4.675781 -12.929688 4.109375 -12.714844 3.652344 -12.285156 C 3.195312 -11.855469 2.902344 -11.210938 2.773438 -10.351562 L 1.015625 -10.664062 C 1.230469 -11.84375 1.71875 -12.753906 2.480469 -13.402344 C 3.242188 -14.050781 4.1875 -14.375 5.320312 -14.375 C 6.101562 -14.375 6.824219 -14.207031 7.480469 -13.871094 C 8.136719 -13.535156 8.640625 -13.078125 8.988281 -12.5 C 9.335938 -11.921875 9.511719 -11.304688 9.511719 -10.65625 C 9.511719 -10.035156 9.34375 -9.472656 9.015625 -8.964844 C 8.683594 -8.457031 8.191406 -8.054688 7.539062 -7.753906 C 8.386719 -7.558594 9.042969 -7.152344 9.511719 -6.539062 C 9.980469 -5.921875 10.214844 -5.152344 10.214844 -4.226562 C 10.214844 -2.976562 9.757812 -1.917969 8.847656 -1.050781 C 7.9375 -0.179688 6.785156 0.253906 5.390625 0.253906 C 4.132812 0.253906 3.089844 -0.121094 2.261719 -0.867188 C 1.429688 -1.617188 0.957031 -2.585938 0.839844 -3.78125 Z M 0.839844 -3.78125 \"/>\n",
       "</g>\n",
       "<g id=\"glyph-0-19\">\n",
       "<path d=\"M 6.464844 0 L 6.464844 -3.429688 L 0.253906 -3.429688 L 0.253906 -5.039062 L 6.789062 -14.316406 L 8.222656 -14.316406 L 8.222656 -5.039062 L 10.15625 -5.039062 L 10.15625 -3.429688 L 8.222656 -3.429688 L 8.222656 0 Z M 6.464844 -5.039062 L 6.464844 -11.492188 L 1.984375 -5.039062 Z M 6.464844 -5.039062 \"/>\n",
       "</g>\n",
       "<g id=\"glyph-0-20\">\n",
       "<path d=\"M 1.296875 0 L 1.296875 -10.371094 L 2.882812 -10.371094 L 2.882812 -8.796875 C 3.285156 -9.535156 3.65625 -10.019531 4 -10.253906 C 4.339844 -10.488281 4.71875 -10.605469 5.125 -10.605469 C 5.71875 -10.605469 6.320312 -10.417969 6.933594 -10.039062 L 6.328125 -8.40625 C 5.898438 -8.660156 5.46875 -8.789062 5.039062 -8.789062 C 4.65625 -8.789062 4.308594 -8.671875 4.003906 -8.441406 C 3.699219 -8.210938 3.480469 -7.890625 3.351562 -7.480469 C 3.15625 -6.855469 3.054688 -6.171875 3.054688 -5.429688 L 3.054688 0 Z M 1.296875 0 \"/>\n",
       "</g>\n",
       "<g id=\"glyph-1-0\">\n",
       "<path d=\"M 5 0 L 5 -25 L 25 -25 L 25 0 Z M 5.625 -0.625 L 24.375 -0.625 L 24.375 -24.375 L 5.625 -24.375 Z M 5.625 -0.625 \"/>\n",
       "</g>\n",
       "<g id=\"glyph-1-1\">\n",
       "<path d=\"M 23.515625 -10.039062 L 27.304688 -9.082031 C 26.511719 -5.96875 25.082031 -3.597656 23.019531 -1.964844 C 20.953125 -0.328125 18.429688 0.488281 15.449219 0.488281 C 12.363281 0.488281 9.855469 -0.140625 7.921875 -1.398438 C 5.988281 -2.652344 4.515625 -4.472656 3.507812 -6.855469 C 2.496094 -9.238281 1.992188 -11.796875 1.992188 -14.53125 C 1.992188 -17.511719 2.5625 -20.113281 3.703125 -22.335938 C 4.839844 -24.554688 6.460938 -26.242188 8.566406 -27.394531 C 10.667969 -28.546875 12.980469 -29.121094 15.507812 -29.121094 C 18.371094 -29.121094 20.78125 -28.390625 22.734375 -26.933594 C 24.6875 -25.476562 26.046875 -23.425781 26.816406 -20.78125 L 23.085938 -19.902344 C 22.421875 -21.984375 21.457031 -23.503906 20.195312 -24.453125 C 18.933594 -25.402344 17.34375 -25.878906 15.429688 -25.878906 C 13.230469 -25.878906 11.390625 -25.351562 9.914062 -24.296875 C 8.433594 -23.242188 7.394531 -21.828125 6.796875 -20.050781 C 6.199219 -18.273438 5.898438 -16.4375 5.898438 -14.550781 C 5.898438 -12.117188 6.253906 -9.992188 6.964844 -8.175781 C 7.671875 -6.359375 8.777344 -5 10.273438 -4.101562 C 11.769531 -3.203125 13.390625 -2.753906 15.136719 -2.753906 C 17.257812 -2.753906 19.054688 -3.367188 20.527344 -4.589844 C 22 -5.8125 22.996094 -7.628906 23.515625 -10.039062 Z M 23.515625 -10.039062 \"/>\n",
       "</g>\n",
       "<g id=\"glyph-1-2\">\n",
       "<path d=\"M 3.203125 0 L 3.203125 -28.632812 L 6.992188 -28.632812 L 6.992188 -16.875 L 21.875 -16.875 L 21.875 -28.632812 L 25.664062 -28.632812 L 25.664062 0 L 21.875 0 L 21.875 -13.496094 L 6.992188 -13.496094 L 6.992188 0 Z M 3.203125 0 \"/>\n",
       "</g>\n",
       "<g id=\"glyph-2-0\">\n",
       "<path d=\"M 3.332031 0 L 3.332031 -16.667969 L 16.667969 -16.667969 L 16.667969 0 Z M 3.75 -0.417969 L 16.25 -0.417969 L 16.25 -16.25 L 3.75 -16.25 Z M 3.75 -0.417969 \"/>\n",
       "</g>\n",
       "<g id=\"glyph-2-1\">\n",
       "<path d=\"M 1.121094 -5.039062 L 3.464844 -5.351562 C 3.734375 -4.023438 4.191406 -3.066406 4.835938 -2.480469 C 5.484375 -1.894531 6.273438 -1.601562 7.199219 -1.601562 C 8.300781 -1.601562 9.234375 -1.984375 9.992188 -2.746094 C 10.753906 -3.511719 11.132812 -4.457031 11.132812 -5.585938 C 11.132812 -6.664062 10.78125 -7.550781 10.078125 -8.25 C 9.375 -8.949219 8.480469 -9.296875 7.394531 -9.296875 C 6.953125 -9.296875 6.402344 -9.210938 5.742188 -9.035156 L 6.003906 -11.09375 C 6.160156 -11.078125 6.285156 -11.066406 6.378906 -11.066406 C 7.378906 -11.066406 8.277344 -11.328125 9.074219 -11.847656 C 9.875 -12.371094 10.273438 -13.171875 10.273438 -14.257812 C 10.273438 -15.117188 9.984375 -15.828125 9.402344 -16.394531 C 8.820312 -16.957031 8.070312 -17.238281 7.148438 -17.238281 C 6.238281 -17.238281 5.476562 -16.953125 4.871094 -16.378906 C 4.261719 -15.808594 3.871094 -14.949219 3.699219 -13.800781 L 1.355469 -14.21875 C 1.640625 -15.789062 2.292969 -17.007812 3.308594 -17.871094 C 4.324219 -18.734375 5.585938 -19.167969 7.097656 -19.167969 C 8.136719 -19.167969 9.097656 -18.941406 9.972656 -18.496094 C 10.851562 -18.050781 11.519531 -17.4375 11.984375 -16.667969 C 12.449219 -15.894531 12.683594 -15.074219 12.683594 -14.207031 C 12.683594 -13.382812 12.460938 -12.628906 12.019531 -11.953125 C 11.574219 -11.277344 10.921875 -10.738281 10.050781 -10.339844 C 11.179688 -10.078125 12.058594 -9.539062 12.683594 -8.71875 C 13.308594 -7.898438 13.621094 -6.871094 13.621094 -5.636719 C 13.621094 -3.972656 13.011719 -2.558594 11.796875 -1.398438 C 10.582031 -0.242188 9.046875 0.339844 7.1875 0.339844 C 5.511719 0.339844 4.121094 -0.160156 3.015625 -1.160156 C 1.90625 -2.15625 1.277344 -3.449219 1.121094 -5.039062 Z M 1.121094 -5.039062 \"/>\n",
       "</g>\n",
       "</g>\n",
       "</defs>\n",
       "<path fill=\"none\" stroke-width=\"0.0333333\" stroke-linecap=\"butt\" stroke-linejoin=\"miter\" stroke=\"rgb(0%, 0%, 0%)\" stroke-opacity=\"1\" stroke-miterlimit=\"10\" d=\"M 1.50961 0.0000000000745057 L 0.490392 0.0000000000745057 \" transform=\"matrix(100, 0, 0, 100, 170.765533, 66.007812)\"/>\n",
       "<path fill=\"none\" stroke-width=\"0.0333333\" stroke-linecap=\"butt\" stroke-linejoin=\"miter\" stroke=\"rgb(0%, 0%, 0%)\" stroke-opacity=\"1\" stroke-miterlimit=\"10\" d=\"M 0.504806 -0.00832031 L -0.00480377 0.874375 \" transform=\"matrix(100, 0, 0, 100, 170.765533, 66.007812)\"/>\n",
       "<path fill=\"none\" stroke-width=\"0.0333333\" stroke-linecap=\"butt\" stroke-linejoin=\"miter\" stroke=\"rgb(0%, 0%, 0%)\" stroke-opacity=\"1\" stroke-miterlimit=\"10\" d=\"M -0.00480377 0.857695 L 0.504806 1.740391 \" transform=\"matrix(100, 0, 0, 100, 170.765533, 66.007812)\"/>\n",
       "<path fill=\"none\" stroke-width=\"0.0333333\" stroke-linecap=\"butt\" stroke-linejoin=\"miter\" stroke=\"rgb(0%, 0%, 0%)\" stroke-opacity=\"1\" stroke-miterlimit=\"10\" d=\"M 0.490392 1.732031 L 1.50961 1.732031 \" transform=\"matrix(100, 0, 0, 100, 170.765533, 66.007812)\"/>\n",
       "<path fill=\"none\" stroke-width=\"0.0333333\" stroke-linecap=\"butt\" stroke-linejoin=\"miter\" stroke=\"rgb(0%, 0%, 0%)\" stroke-opacity=\"1\" stroke-miterlimit=\"10\" d=\"M 1.495196 1.740391 L 2.004806 0.857695 \" transform=\"matrix(100, 0, 0, 100, 170.765533, 66.007812)\"/>\n",
       "<path fill=\"none\" stroke-width=\"0.0333333\" stroke-linecap=\"butt\" stroke-linejoin=\"miter\" stroke=\"rgb(0%, 0%, 0%)\" stroke-opacity=\"1\" stroke-miterlimit=\"10\" d=\"M 2.004806 0.874375 L 1.495196 -0.00832031 \" transform=\"matrix(100, 0, 0, 100, 170.765533, 66.007812)\"/>\n",
       "<g fill=\"rgb(0%, 0%, 0%)\" fill-opacity=\"1\">\n",
       "<use xlink:href=\"#glyph-0-1\" x=\"215.199219\" y=\"322.261719\"/>\n",
       "<use xlink:href=\"#glyph-0-2\" x=\"225.199219\" y=\"322.261719\"/>\n",
       "<use xlink:href=\"#glyph-0-1\" x=\"235.199219\" y=\"322.261719\"/>\n",
       "<use xlink:href=\"#glyph-0-3\" x=\"245.199219\" y=\"322.261719\"/>\n",
       "<use xlink:href=\"#glyph-0-4\" x=\"249.642578\" y=\"322.261719\"/>\n",
       "<use xlink:href=\"#glyph-0-5\" x=\"260.765625\" y=\"322.261719\"/>\n",
       "<use xlink:href=\"#glyph-0-6\" x=\"271.888672\" y=\"322.261719\"/>\n",
       "<use xlink:href=\"#glyph-0-7\" x=\"283.011719\" y=\"322.261719\"/>\n",
       "<use xlink:href=\"#glyph-0-8\" x=\"293.011719\" y=\"322.261719\"/>\n",
       "<use xlink:href=\"#glyph-0-9\" x=\"304.134766\" y=\"322.261719\"/>\n",
       "<use xlink:href=\"#glyph-0-6\" x=\"315.257812\" y=\"322.261719\"/>\n",
       "</g>\n",
       "<path fill=\"none\" stroke-width=\"0.0333333\" stroke-linecap=\"butt\" stroke-linejoin=\"miter\" stroke=\"rgb(0%, 0%, 0%)\" stroke-opacity=\"1\" stroke-miterlimit=\"10\" d=\"M 0.999981 0.866035 L 0.236543 0.866035 \" transform=\"matrix(100, 0, 0, 100, 736.345672, 66.005863)\"/>\n",
       "<path fill=\"none\" stroke-width=\"0.0333333\" stroke-linecap=\"butt\" stroke-linejoin=\"miter\" stroke=\"rgb(0%, 0%, 0%)\" stroke-opacity=\"1\" stroke-miterlimit=\"10\" d=\"M 0.999981 0.866035 L 1.504825 1.740371 \" transform=\"matrix(100, 0, 0, 100, 736.345672, 66.005863)\"/>\n",
       "<path fill=\"none\" stroke-width=\"0.0333333\" stroke-linecap=\"butt\" stroke-linejoin=\"miter\" stroke=\"rgb(0%, 0%, 0%)\" stroke-opacity=\"1\" stroke-miterlimit=\"10\" d=\"M 1.490371 1.732051 L 2.509629 1.732051 \" transform=\"matrix(100, 0, 0, 100, 736.345672, 66.005863)\"/>\n",
       "<path fill=\"none\" stroke-width=\"0.0333333\" stroke-linecap=\"butt\" stroke-linejoin=\"miter\" stroke=\"rgb(0%, 0%, 0%)\" stroke-opacity=\"1\" stroke-miterlimit=\"10\" d=\"M 2.495176 1.740371 L 3.004825 0.857676 \" transform=\"matrix(100, 0, 0, 100, 736.345672, 66.005863)\"/>\n",
       "<path fill=\"none\" stroke-width=\"0.0333333\" stroke-linecap=\"butt\" stroke-linejoin=\"miter\" stroke=\"rgb(0%, 0%, 0%)\" stroke-opacity=\"1\" stroke-miterlimit=\"10\" d=\"M 3.004825 0.874355 L 2.495176 -0.00833988 \" transform=\"matrix(100, 0, 0, 100, 736.345672, 66.005863)\"/>\n",
       "<path fill=\"none\" stroke-width=\"0.0333333\" stroke-linecap=\"butt\" stroke-linejoin=\"miter\" stroke=\"rgb(0%, 0%, 0%)\" stroke-opacity=\"1\" stroke-miterlimit=\"10\" d=\"M 2.509629 0.0000194932 L 1.490371 0.0000194932 \" transform=\"matrix(100, 0, 0, 100, 736.345672, 66.005863)\"/>\n",
       "<path fill=\"none\" stroke-width=\"0.0333333\" stroke-linecap=\"butt\" stroke-linejoin=\"miter\" stroke=\"rgb(0%, 0%, 0%)\" stroke-opacity=\"1\" stroke-miterlimit=\"10\" d=\"M 1.504825 -0.00833988 L 0.999981 0.866035 \" transform=\"matrix(100, 0, 0, 100, 736.345672, 66.005863)\"/>\n",
       "<g fill=\"rgb(0%, 0%, 0%)\" fill-opacity=\"1\">\n",
       "<use xlink:href=\"#glyph-1-1\" x=\"721.695312\" y=\"166.921875\"/>\n",
       "</g>\n",
       "<g fill=\"rgb(0%, 0%, 0%)\" fill-opacity=\"1\">\n",
       "<use xlink:href=\"#glyph-1-2\" x=\"678.855469\" y=\"166.433594\"/>\n",
       "</g>\n",
       "<g fill=\"rgb(0%, 0%, 0%)\" fill-opacity=\"1\">\n",
       "<use xlink:href=\"#glyph-2-1\" x=\"706.738281\" y=\"168.421875\"/>\n",
       "</g>\n",
       "<g fill=\"rgb(0%, 0%, 0%)\" fill-opacity=\"1\">\n",
       "<use xlink:href=\"#glyph-0-10\" x=\"760.058594\" y=\"322.289062\"/>\n",
       "<use xlink:href=\"#glyph-0-11\" x=\"771.181641\" y=\"322.289062\"/>\n",
       "<use xlink:href=\"#glyph-0-12\" x=\"777.841797\" y=\"322.289062\"/>\n",
       "<use xlink:href=\"#glyph-0-6\" x=\"794.501953\" y=\"322.289062\"/>\n",
       "<use xlink:href=\"#glyph-0-13\" x=\"805.625\" y=\"322.289062\"/>\n",
       "<use xlink:href=\"#glyph-0-5\" x=\"811.181641\" y=\"322.289062\"/>\n",
       "<use xlink:href=\"#glyph-0-2\" x=\"822.304688\" y=\"322.289062\"/>\n",
       "<use xlink:href=\"#glyph-0-3\" x=\"832.304688\" y=\"322.289062\"/>\n",
       "<use xlink:href=\"#glyph-0-11\" x=\"836.748047\" y=\"322.289062\"/>\n",
       "<use xlink:href=\"#glyph-0-1\" x=\"843.408203\" y=\"322.289062\"/>\n",
       "<use xlink:href=\"#glyph-0-2\" x=\"853.408203\" y=\"322.289062\"/>\n",
       "<use xlink:href=\"#glyph-0-1\" x=\"863.408203\" y=\"322.289062\"/>\n",
       "<use xlink:href=\"#glyph-0-3\" x=\"873.408203\" y=\"322.289062\"/>\n",
       "<use xlink:href=\"#glyph-0-4\" x=\"877.851562\" y=\"322.289062\"/>\n",
       "<use xlink:href=\"#glyph-0-5\" x=\"888.974609\" y=\"322.289062\"/>\n",
       "<use xlink:href=\"#glyph-0-6\" x=\"900.097656\" y=\"322.289062\"/>\n",
       "<use xlink:href=\"#glyph-0-7\" x=\"911.220703\" y=\"322.289062\"/>\n",
       "<use xlink:href=\"#glyph-0-8\" x=\"921.220703\" y=\"322.289062\"/>\n",
       "<use xlink:href=\"#glyph-0-9\" x=\"932.34375\" y=\"322.289062\"/>\n",
       "<use xlink:href=\"#glyph-0-6\" x=\"943.466797\" y=\"322.289062\"/>\n",
       "</g>\n",
       "<path fill=\"none\" stroke-width=\"0.0333333\" stroke-linecap=\"butt\" stroke-linejoin=\"miter\" stroke=\"rgb(0%, 0%, 0%)\" stroke-opacity=\"1\" stroke-miterlimit=\"10\" d=\"M 0.866015 0.5 L 0.268008 0.154727 \" transform=\"matrix(100, 0, 0, 100, 1343.804717, 51.933592)\"/>\n",
       "<path fill=\"none\" stroke-width=\"0.0333333\" stroke-linecap=\"butt\" stroke-linejoin=\"miter\" stroke=\"rgb(0%, 0%, 0%)\" stroke-opacity=\"1\" stroke-miterlimit=\"10\" d=\"M 0.866015 0.5 L 0.866015 1.5 \" transform=\"matrix(100, 0, 0, 100, 1343.804717, 51.933592)\"/>\n",
       "<path fill=\"none\" stroke-width=\"0.0333333\" stroke-linecap=\"butt\" stroke-linejoin=\"miter\" stroke=\"rgb(0%, 0%, 0%)\" stroke-opacity=\"1\" stroke-miterlimit=\"10\" d=\"M 0.866015 1.5 L 0.268047 1.845273 \" transform=\"matrix(100, 0, 0, 100, 1343.804717, 51.933592)\"/>\n",
       "<path fill=\"none\" stroke-width=\"0.0333333\" stroke-linecap=\"butt\" stroke-linejoin=\"miter\" stroke=\"rgb(0%, 0%, 0%)\" stroke-opacity=\"1\" stroke-miterlimit=\"10\" d=\"M 0.866015 1.5 L 1.74039 2.004805 \" transform=\"matrix(100, 0, 0, 100, 1343.804717, 51.933592)\"/>\n",
       "<path fill=\"none\" stroke-width=\"0.0333333\" stroke-linecap=\"butt\" stroke-linejoin=\"miter\" stroke=\"rgb(0%, 0%, 0%)\" stroke-opacity=\"1\" stroke-miterlimit=\"10\" d=\"M 1.723711 2.004805 L 2.606406 1.495195 \" transform=\"matrix(100, 0, 0, 100, 1343.804717, 51.933592)\"/>\n",
       "<path fill=\"none\" stroke-width=\"0.0333333\" stroke-linecap=\"butt\" stroke-linejoin=\"miter\" stroke=\"rgb(0%, 0%, 0%)\" stroke-opacity=\"1\" stroke-miterlimit=\"10\" d=\"M 2.598086 1.509609 L 2.598086 0.490391 \" transform=\"matrix(100, 0, 0, 100, 1343.804717, 51.933592)\"/>\n",
       "<path fill=\"none\" stroke-width=\"0.0333333\" stroke-linecap=\"butt\" stroke-linejoin=\"miter\" stroke=\"rgb(0%, 0%, 0%)\" stroke-opacity=\"1\" stroke-miterlimit=\"10\" d=\"M 2.606406 0.504805 L 1.723711 -0.00480467 \" transform=\"matrix(100, 0, 0, 100, 1343.804717, 51.933592)\"/>\n",
       "<path fill=\"none\" stroke-width=\"0.0333333\" stroke-linecap=\"butt\" stroke-linejoin=\"miter\" stroke=\"rgb(0%, 0%, 0%)\" stroke-opacity=\"1\" stroke-miterlimit=\"10\" d=\"M 1.74039 -0.00480467 L 0.866015 0.5 \" transform=\"matrix(100, 0, 0, 100, 1343.804717, 51.933592)\"/>\n",
       "<g fill=\"rgb(0%, 0%, 0%)\" fill-opacity=\"1\">\n",
       "<use xlink:href=\"#glyph-1-1\" x=\"1329.15625\" y=\"66.25\"/>\n",
       "</g>\n",
       "<g fill=\"rgb(0%, 0%, 0%)\" fill-opacity=\"1\">\n",
       "<use xlink:href=\"#glyph-1-2\" x=\"1286.316406\" y=\"65.761719\"/>\n",
       "</g>\n",
       "<g fill=\"rgb(0%, 0%, 0%)\" fill-opacity=\"1\">\n",
       "<use xlink:href=\"#glyph-2-1\" x=\"1314.195312\" y=\"67.75\"/>\n",
       "</g>\n",
       "<g fill=\"rgb(0%, 0%, 0%)\" fill-opacity=\"1\">\n",
       "<use xlink:href=\"#glyph-1-1\" x=\"1329.15625\" y=\"266.25\"/>\n",
       "</g>\n",
       "<g fill=\"rgb(0%, 0%, 0%)\" fill-opacity=\"1\">\n",
       "<use xlink:href=\"#glyph-1-2\" x=\"1286.316406\" y=\"265.761719\"/>\n",
       "</g>\n",
       "<g fill=\"rgb(0%, 0%, 0%)\" fill-opacity=\"1\">\n",
       "<use xlink:href=\"#glyph-2-1\" x=\"1314.195312\" y=\"267.75\"/>\n",
       "</g>\n",
       "<g fill=\"rgb(0%, 0%, 0%)\" fill-opacity=\"1\">\n",
       "<use xlink:href=\"#glyph-0-10\" x=\"1331.171875\" y=\"322.289062\"/>\n",
       "<use xlink:href=\"#glyph-0-14\" x=\"1342.294922\" y=\"322.289062\"/>\n",
       "<use xlink:href=\"#glyph-0-15\" x=\"1347.851562\" y=\"322.289062\"/>\n",
       "<use xlink:href=\"#glyph-0-11\" x=\"1358.974609\" y=\"322.289062\"/>\n",
       "<use xlink:href=\"#glyph-0-16\" x=\"1365.634766\" y=\"322.289062\"/>\n",
       "<use xlink:href=\"#glyph-0-17\" x=\"1376.757812\" y=\"322.289062\"/>\n",
       "<use xlink:href=\"#glyph-0-12\" x=\"1381.201172\" y=\"322.289062\"/>\n",
       "<use xlink:href=\"#glyph-0-6\" x=\"1397.861328\" y=\"322.289062\"/>\n",
       "<use xlink:href=\"#glyph-0-13\" x=\"1408.984375\" y=\"322.289062\"/>\n",
       "<use xlink:href=\"#glyph-0-5\" x=\"1414.541016\" y=\"322.289062\"/>\n",
       "<use xlink:href=\"#glyph-0-2\" x=\"1425.664062\" y=\"322.289062\"/>\n",
       "<use xlink:href=\"#glyph-0-3\" x=\"1435.664062\" y=\"322.289062\"/>\n",
       "<use xlink:href=\"#glyph-0-11\" x=\"1440.107422\" y=\"322.289062\"/>\n",
       "<use xlink:href=\"#glyph-0-1\" x=\"1446.767578\" y=\"322.289062\"/>\n",
       "<use xlink:href=\"#glyph-0-2\" x=\"1456.767578\" y=\"322.289062\"/>\n",
       "<use xlink:href=\"#glyph-0-1\" x=\"1466.767578\" y=\"322.289062\"/>\n",
       "<use xlink:href=\"#glyph-0-3\" x=\"1476.767578\" y=\"322.289062\"/>\n",
       "<use xlink:href=\"#glyph-0-4\" x=\"1481.210938\" y=\"322.289062\"/>\n",
       "<use xlink:href=\"#glyph-0-5\" x=\"1492.333984\" y=\"322.289062\"/>\n",
       "<use xlink:href=\"#glyph-0-6\" x=\"1503.457031\" y=\"322.289062\"/>\n",
       "<use xlink:href=\"#glyph-0-7\" x=\"1514.580078\" y=\"322.289062\"/>\n",
       "<use xlink:href=\"#glyph-0-8\" x=\"1524.580078\" y=\"322.289062\"/>\n",
       "<use xlink:href=\"#glyph-0-9\" x=\"1535.703125\" y=\"322.289062\"/>\n",
       "<use xlink:href=\"#glyph-0-6\" x=\"1546.826172\" y=\"322.289062\"/>\n",
       "</g>\n",
       "<path fill=\"none\" stroke-width=\"0.0333333\" stroke-linecap=\"butt\" stroke-linejoin=\"miter\" stroke=\"rgb(0%, 0%, 0%)\" stroke-opacity=\"1\" stroke-miterlimit=\"10\" d=\"M 0.866036 0.50002 L 0.268028 0.154746 \" transform=\"matrix(100, 0, 0, 100, 97.560468, 445.412112)\"/>\n",
       "<path fill=\"none\" stroke-width=\"0.0333333\" stroke-linecap=\"butt\" stroke-linejoin=\"miter\" stroke=\"rgb(0%, 0%, 0%)\" stroke-opacity=\"1\" stroke-miterlimit=\"10\" d=\"M 0.866036 0.50002 L 1.740372 -0.00482424 \" transform=\"matrix(100, 0, 0, 100, 97.560468, 445.412112)\"/>\n",
       "<path fill=\"none\" stroke-width=\"0.0333333\" stroke-linecap=\"butt\" stroke-linejoin=\"miter\" stroke=\"rgb(0%, 0%, 0%)\" stroke-opacity=\"1\" stroke-miterlimit=\"10\" d=\"M 1.723731 -0.00482424 L 2.598067 0.50002 \" transform=\"matrix(100, 0, 0, 100, 97.560468, 445.412112)\"/>\n",
       "<path fill=\"none\" stroke-width=\"0.0333333\" stroke-linecap=\"butt\" stroke-linejoin=\"miter\" stroke=\"rgb(0%, 0%, 0%)\" stroke-opacity=\"1\" stroke-miterlimit=\"10\" d=\"M 2.598067 0.50002 L 3.196075 0.154746 \" transform=\"matrix(100, 0, 0, 100, 97.560468, 445.412112)\"/>\n",
       "<path fill=\"none\" stroke-width=\"0.0333333\" stroke-linecap=\"butt\" stroke-linejoin=\"miter\" stroke=\"rgb(0%, 0%, 0%)\" stroke-opacity=\"1\" stroke-miterlimit=\"10\" d=\"M 2.598067 0.50002 L 2.598067 1.509629 \" transform=\"matrix(100, 0, 0, 100, 97.560468, 445.412112)\"/>\n",
       "<path fill=\"none\" stroke-width=\"0.0333333\" stroke-linecap=\"butt\" stroke-linejoin=\"miter\" stroke=\"rgb(0%, 0%, 0%)\" stroke-opacity=\"1\" stroke-miterlimit=\"10\" d=\"M 2.606427 1.495176 L 1.723731 2.004824 \" transform=\"matrix(100, 0, 0, 100, 97.560468, 445.412112)\"/>\n",
       "<path fill=\"none\" stroke-width=\"0.0333333\" stroke-linecap=\"butt\" stroke-linejoin=\"miter\" stroke=\"rgb(0%, 0%, 0%)\" stroke-opacity=\"1\" stroke-miterlimit=\"10\" d=\"M 1.740372 2.004824 L 0.857677 1.495176 \" transform=\"matrix(100, 0, 0, 100, 97.560468, 445.412112)\"/>\n",
       "<path fill=\"none\" stroke-width=\"0.0333333\" stroke-linecap=\"butt\" stroke-linejoin=\"miter\" stroke=\"rgb(0%, 0%, 0%)\" stroke-opacity=\"1\" stroke-miterlimit=\"10\" d=\"M 0.866036 1.509629 L 0.866036 0.50002 \" transform=\"matrix(100, 0, 0, 100, 97.560468, 445.412112)\"/>\n",
       "<g fill=\"rgb(0%, 0%, 0%)\" fill-opacity=\"1\">\n",
       "<use xlink:href=\"#glyph-1-1\" x=\"82.910156\" y=\"459.726563\"/>\n",
       "</g>\n",
       "<g fill=\"rgb(0%, 0%, 0%)\" fill-opacity=\"1\">\n",
       "<use xlink:href=\"#glyph-1-2\" x=\"40.070312\" y=\"459.238281\"/>\n",
       "</g>\n",
       "<g fill=\"rgb(0%, 0%, 0%)\" fill-opacity=\"1\">\n",
       "<use xlink:href=\"#glyph-2-1\" x=\"67.953125\" y=\"461.226562\"/>\n",
       "</g>\n",
       "<g fill=\"rgb(0%, 0%, 0%)\" fill-opacity=\"1\">\n",
       "<use xlink:href=\"#glyph-1-1\" x=\"429.320312\" y=\"459.726563\"/>\n",
       "</g>\n",
       "<g fill=\"rgb(0%, 0%, 0%)\" fill-opacity=\"1\">\n",
       "<use xlink:href=\"#glyph-1-2\" x=\"456.753906\" y=\"459.238281\"/>\n",
       "</g>\n",
       "<g fill=\"rgb(0%, 0%, 0%)\" fill-opacity=\"1\">\n",
       "<use xlink:href=\"#glyph-2-1\" x=\"484.636719\" y=\"461.226562\"/>\n",
       "</g>\n",
       "<g fill=\"rgb(0%, 0%, 0%)\" fill-opacity=\"1\">\n",
       "<use xlink:href=\"#glyph-0-10\" x=\"156.699219\" y=\"706.488281\"/>\n",
       "<use xlink:href=\"#glyph-0-14\" x=\"167.822266\" y=\"706.488281\"/>\n",
       "<use xlink:href=\"#glyph-0-18\" x=\"173.378906\" y=\"706.488281\"/>\n",
       "<use xlink:href=\"#glyph-0-11\" x=\"184.501953\" y=\"706.488281\"/>\n",
       "<use xlink:href=\"#glyph-0-16\" x=\"191.162109\" y=\"706.488281\"/>\n",
       "<use xlink:href=\"#glyph-0-17\" x=\"202.285156\" y=\"706.488281\"/>\n",
       "<use xlink:href=\"#glyph-0-12\" x=\"206.728516\" y=\"706.488281\"/>\n",
       "<use xlink:href=\"#glyph-0-6\" x=\"223.388672\" y=\"706.488281\"/>\n",
       "<use xlink:href=\"#glyph-0-13\" x=\"234.511719\" y=\"706.488281\"/>\n",
       "<use xlink:href=\"#glyph-0-5\" x=\"240.068359\" y=\"706.488281\"/>\n",
       "<use xlink:href=\"#glyph-0-2\" x=\"251.191406\" y=\"706.488281\"/>\n",
       "<use xlink:href=\"#glyph-0-3\" x=\"261.191406\" y=\"706.488281\"/>\n",
       "<use xlink:href=\"#glyph-0-11\" x=\"265.634766\" y=\"706.488281\"/>\n",
       "<use xlink:href=\"#glyph-0-1\" x=\"272.294922\" y=\"706.488281\"/>\n",
       "<use xlink:href=\"#glyph-0-2\" x=\"282.294922\" y=\"706.488281\"/>\n",
       "<use xlink:href=\"#glyph-0-1\" x=\"292.294922\" y=\"706.488281\"/>\n",
       "<use xlink:href=\"#glyph-0-3\" x=\"302.294922\" y=\"706.488281\"/>\n",
       "<use xlink:href=\"#glyph-0-4\" x=\"306.738281\" y=\"706.488281\"/>\n",
       "<use xlink:href=\"#glyph-0-5\" x=\"317.861328\" y=\"706.488281\"/>\n",
       "<use xlink:href=\"#glyph-0-6\" x=\"328.984375\" y=\"706.488281\"/>\n",
       "<use xlink:href=\"#glyph-0-7\" x=\"340.107422\" y=\"706.488281\"/>\n",
       "<use xlink:href=\"#glyph-0-8\" x=\"350.107422\" y=\"706.488281\"/>\n",
       "<use xlink:href=\"#glyph-0-9\" x=\"361.230469\" y=\"706.488281\"/>\n",
       "<use xlink:href=\"#glyph-0-6\" x=\"372.353516\" y=\"706.488281\"/>\n",
       "</g>\n",
       "<path fill=\"none\" stroke-width=\"0.0333333\" stroke-linecap=\"butt\" stroke-linejoin=\"miter\" stroke=\"rgb(0%, 0%, 0%)\" stroke-opacity=\"1\" stroke-miterlimit=\"10\" d=\"M 1.000001 0.866016 L 0.236563 0.866016 \" transform=\"matrix(100, 0, 0, 100, 657.999946, 450.203129)\"/>\n",
       "<path fill=\"none\" stroke-width=\"0.0333333\" stroke-linecap=\"butt\" stroke-linejoin=\"miter\" stroke=\"rgb(0%, 0%, 0%)\" stroke-opacity=\"1\" stroke-miterlimit=\"10\" d=\"M 1.000001 0.866016 L 1.504805 1.740391 \" transform=\"matrix(100, 0, 0, 100, 657.999946, 450.203129)\"/>\n",
       "<path fill=\"none\" stroke-width=\"0.0333333\" stroke-linecap=\"butt\" stroke-linejoin=\"miter\" stroke=\"rgb(0%, 0%, 0%)\" stroke-opacity=\"1\" stroke-miterlimit=\"10\" d=\"M 1.490391 1.73207 L 2.50961 1.73207 \" transform=\"matrix(100, 0, 0, 100, 657.999946, 450.203129)\"/>\n",
       "<path fill=\"none\" stroke-width=\"0.0333333\" stroke-linecap=\"butt\" stroke-linejoin=\"miter\" stroke=\"rgb(0%, 0%, 0%)\" stroke-opacity=\"1\" stroke-miterlimit=\"10\" d=\"M 2.495196 1.740391 L 3.000001 0.866016 \" transform=\"matrix(100, 0, 0, 100, 657.999946, 450.203129)\"/>\n",
       "<path fill=\"none\" stroke-width=\"0.0333333\" stroke-linecap=\"butt\" stroke-linejoin=\"miter\" stroke=\"rgb(0%, 0%, 0%)\" stroke-opacity=\"1\" stroke-miterlimit=\"10\" d=\"M 3.000001 0.866016 L 3.763438 0.866016 \" transform=\"matrix(100, 0, 0, 100, 657.999946, 450.203129)\"/>\n",
       "<path fill=\"none\" stroke-width=\"0.0333333\" stroke-linecap=\"butt\" stroke-linejoin=\"miter\" stroke=\"rgb(0%, 0%, 0%)\" stroke-opacity=\"1\" stroke-miterlimit=\"10\" d=\"M 3.000001 0.866016 L 2.495196 -0.00832035 \" transform=\"matrix(100, 0, 0, 100, 657.999946, 450.203129)\"/>\n",
       "<path fill=\"none\" stroke-width=\"0.0333333\" stroke-linecap=\"butt\" stroke-linejoin=\"miter\" stroke=\"rgb(0%, 0%, 0%)\" stroke-opacity=\"1\" stroke-miterlimit=\"10\" d=\"M 2.50961 -0.0000000380725 L 1.490391 -0.0000000380725 \" transform=\"matrix(100, 0, 0, 100, 657.999946, 450.203129)\"/>\n",
       "<path fill=\"none\" stroke-width=\"0.0333333\" stroke-linecap=\"butt\" stroke-linejoin=\"miter\" stroke=\"rgb(0%, 0%, 0%)\" stroke-opacity=\"1\" stroke-miterlimit=\"10\" d=\"M 1.504805 -0.00832035 L 1.000001 0.866016 \" transform=\"matrix(100, 0, 0, 100, 657.999946, 450.203129)\"/>\n",
       "<g fill=\"rgb(0%, 0%, 0%)\" fill-opacity=\"1\">\n",
       "<use xlink:href=\"#glyph-1-1\" x=\"643.351562\" y=\"551.121094\"/>\n",
       "</g>\n",
       "<g fill=\"rgb(0%, 0%, 0%)\" fill-opacity=\"1\">\n",
       "<use xlink:href=\"#glyph-1-2\" x=\"600.511719\" y=\"550.632812\"/>\n",
       "</g>\n",
       "<g fill=\"rgb(0%, 0%, 0%)\" fill-opacity=\"1\">\n",
       "<use xlink:href=\"#glyph-2-1\" x=\"628.390625\" y=\"552.621094\"/>\n",
       "</g>\n",
       "<g fill=\"rgb(0%, 0%, 0%)\" fill-opacity=\"1\">\n",
       "<use xlink:href=\"#glyph-1-1\" x=\"1043.351562\" y=\"551.121094\"/>\n",
       "</g>\n",
       "<g fill=\"rgb(0%, 0%, 0%)\" fill-opacity=\"1\">\n",
       "<use xlink:href=\"#glyph-1-2\" x=\"1070.785156\" y=\"550.632812\"/>\n",
       "</g>\n",
       "<g fill=\"rgb(0%, 0%, 0%)\" fill-opacity=\"1\">\n",
       "<use xlink:href=\"#glyph-2-1\" x=\"1098.664062\" y=\"552.621094\"/>\n",
       "</g>\n",
       "<g fill=\"rgb(0%, 0%, 0%)\" fill-opacity=\"1\">\n",
       "<use xlink:href=\"#glyph-0-10\" x=\"743.933594\" y=\"706.488281\"/>\n",
       "<use xlink:href=\"#glyph-0-14\" x=\"755.056641\" y=\"706.488281\"/>\n",
       "<use xlink:href=\"#glyph-0-19\" x=\"760.613281\" y=\"706.488281\"/>\n",
       "<use xlink:href=\"#glyph-0-11\" x=\"771.736328\" y=\"706.488281\"/>\n",
       "<use xlink:href=\"#glyph-0-16\" x=\"778.396484\" y=\"706.488281\"/>\n",
       "<use xlink:href=\"#glyph-0-17\" x=\"789.519531\" y=\"706.488281\"/>\n",
       "<use xlink:href=\"#glyph-0-12\" x=\"793.962891\" y=\"706.488281\"/>\n",
       "<use xlink:href=\"#glyph-0-6\" x=\"810.623047\" y=\"706.488281\"/>\n",
       "<use xlink:href=\"#glyph-0-13\" x=\"821.746094\" y=\"706.488281\"/>\n",
       "<use xlink:href=\"#glyph-0-5\" x=\"827.302734\" y=\"706.488281\"/>\n",
       "<use xlink:href=\"#glyph-0-2\" x=\"838.425781\" y=\"706.488281\"/>\n",
       "<use xlink:href=\"#glyph-0-3\" x=\"848.425781\" y=\"706.488281\"/>\n",
       "<use xlink:href=\"#glyph-0-11\" x=\"852.869141\" y=\"706.488281\"/>\n",
       "<use xlink:href=\"#glyph-0-1\" x=\"859.529297\" y=\"706.488281\"/>\n",
       "<use xlink:href=\"#glyph-0-2\" x=\"869.529297\" y=\"706.488281\"/>\n",
       "<use xlink:href=\"#glyph-0-1\" x=\"879.529297\" y=\"706.488281\"/>\n",
       "<use xlink:href=\"#glyph-0-3\" x=\"889.529297\" y=\"706.488281\"/>\n",
       "<use xlink:href=\"#glyph-0-4\" x=\"893.972656\" y=\"706.488281\"/>\n",
       "<use xlink:href=\"#glyph-0-5\" x=\"905.095703\" y=\"706.488281\"/>\n",
       "<use xlink:href=\"#glyph-0-6\" x=\"916.21875\" y=\"706.488281\"/>\n",
       "<use xlink:href=\"#glyph-0-7\" x=\"927.341797\" y=\"706.488281\"/>\n",
       "<use xlink:href=\"#glyph-0-8\" x=\"937.341797\" y=\"706.488281\"/>\n",
       "<use xlink:href=\"#glyph-0-9\" x=\"948.464844\" y=\"706.488281\"/>\n",
       "<use xlink:href=\"#glyph-0-6\" x=\"959.587891\" y=\"706.488281\"/>\n",
       "</g>\n",
       "<path fill=\"none\" stroke-width=\"0.0333333\" stroke-linecap=\"butt\" stroke-linejoin=\"miter\" stroke=\"rgb(0%, 0%, 0%)\" stroke-opacity=\"1\" stroke-miterlimit=\"10\" d=\"M 2.5 0.866016 L 2.841328 0.274844 \" transform=\"matrix(100, 0, 0, 100, 1295.234405, 415.636719)\"/>\n",
       "<path fill=\"none\" stroke-width=\"0.0333333\" stroke-linecap=\"butt\" stroke-linejoin=\"miter\" stroke=\"rgb(0%, 0%, 0%)\" stroke-opacity=\"1\" stroke-miterlimit=\"10\" d=\"M 2.5 0.866016 L 1.5 0.866016 \" transform=\"matrix(100, 0, 0, 100, 1295.234405, 415.636719)\"/>\n",
       "<path fill=\"none\" stroke-width=\"0.0333333\" stroke-linecap=\"butt\" stroke-linejoin=\"miter\" stroke=\"rgb(0%, 0%, 0%)\" stroke-opacity=\"1\" stroke-miterlimit=\"10\" d=\"M 1.5 0.866016 L 1.158672 0.274844 \" transform=\"matrix(100, 0, 0, 100, 1295.234405, 415.636719)\"/>\n",
       "<path fill=\"none\" stroke-width=\"0.0333333\" stroke-linecap=\"butt\" stroke-linejoin=\"miter\" stroke=\"rgb(0%, 0%, 0%)\" stroke-opacity=\"1\" stroke-miterlimit=\"10\" d=\"M 1.5 0.866016 L 1 1.732031 \" transform=\"matrix(100, 0, 0, 100, 1295.234405, 415.636719)\"/>\n",
       "<path fill=\"none\" stroke-width=\"0.0333333\" stroke-linecap=\"butt\" stroke-linejoin=\"miter\" stroke=\"rgb(0%, 0%, 0%)\" stroke-opacity=\"1\" stroke-miterlimit=\"10\" d=\"M 1 1.732031 L 0.236562 1.732031 \" transform=\"matrix(100, 0, 0, 100, 1295.234405, 415.636719)\"/>\n",
       "<path fill=\"none\" stroke-width=\"0.0333333\" stroke-linecap=\"butt\" stroke-linejoin=\"miter\" stroke=\"rgb(0%, 0%, 0%)\" stroke-opacity=\"1\" stroke-miterlimit=\"10\" d=\"M 1 1.732031 L 1.504804 2.606406 \" transform=\"matrix(100, 0, 0, 100, 1295.234405, 415.636719)\"/>\n",
       "<path fill=\"none\" stroke-width=\"0.0333333\" stroke-linecap=\"butt\" stroke-linejoin=\"miter\" stroke=\"rgb(0%, 0%, 0%)\" stroke-opacity=\"1\" stroke-miterlimit=\"10\" d=\"M 1.49039 2.598086 L 2.509609 2.598086 \" transform=\"matrix(100, 0, 0, 100, 1295.234405, 415.636719)\"/>\n",
       "<path fill=\"none\" stroke-width=\"0.0333333\" stroke-linecap=\"butt\" stroke-linejoin=\"miter\" stroke=\"rgb(0%, 0%, 0%)\" stroke-opacity=\"1\" stroke-miterlimit=\"10\" d=\"M 2.495195 2.606406 L 3.004804 1.723711 \" transform=\"matrix(100, 0, 0, 100, 1295.234405, 415.636719)\"/>\n",
       "<path fill=\"none\" stroke-width=\"0.0333333\" stroke-linecap=\"butt\" stroke-linejoin=\"miter\" stroke=\"rgb(0%, 0%, 0%)\" stroke-opacity=\"1\" stroke-miterlimit=\"10\" d=\"M 3.004804 1.740391 L 2.5 0.866016 \" transform=\"matrix(100, 0, 0, 100, 1295.234405, 415.636719)\"/>\n",
       "<g fill=\"rgb(0%, 0%, 0%)\" fill-opacity=\"1\">\n",
       "<use xlink:href=\"#glyph-1-1\" x=\"1580.585938\" y=\"429.953125\"/>\n",
       "</g>\n",
       "<g fill=\"rgb(0%, 0%, 0%)\" fill-opacity=\"1\">\n",
       "<use xlink:href=\"#glyph-1-2\" x=\"1608.019531\" y=\"429.464844\"/>\n",
       "</g>\n",
       "<g fill=\"rgb(0%, 0%, 0%)\" fill-opacity=\"1\">\n",
       "<use xlink:href=\"#glyph-2-1\" x=\"1635.898438\" y=\"431.453125\"/>\n",
       "</g>\n",
       "<g fill=\"rgb(0%, 0%, 0%)\" fill-opacity=\"1\">\n",
       "<use xlink:href=\"#glyph-1-1\" x=\"1380.585938\" y=\"429.953125\"/>\n",
       "</g>\n",
       "<g fill=\"rgb(0%, 0%, 0%)\" fill-opacity=\"1\">\n",
       "<use xlink:href=\"#glyph-1-2\" x=\"1337.746094\" y=\"429.464844\"/>\n",
       "</g>\n",
       "<g fill=\"rgb(0%, 0%, 0%)\" fill-opacity=\"1\">\n",
       "<use xlink:href=\"#glyph-2-1\" x=\"1365.625\" y=\"431.453125\"/>\n",
       "</g>\n",
       "<g fill=\"rgb(0%, 0%, 0%)\" fill-opacity=\"1\">\n",
       "<use xlink:href=\"#glyph-1-1\" x=\"1280.585938\" y=\"603.15625\"/>\n",
       "</g>\n",
       "<g fill=\"rgb(0%, 0%, 0%)\" fill-opacity=\"1\">\n",
       "<use xlink:href=\"#glyph-1-2\" x=\"1237.746094\" y=\"602.667969\"/>\n",
       "</g>\n",
       "<g fill=\"rgb(0%, 0%, 0%)\" fill-opacity=\"1\">\n",
       "<use xlink:href=\"#glyph-2-1\" x=\"1265.625\" y=\"604.65625\"/>\n",
       "</g>\n",
       "<g fill=\"rgb(0%, 0%, 0%)\" fill-opacity=\"1\">\n",
       "<use xlink:href=\"#glyph-0-10\" x=\"1322.285156\" y=\"706.488281\"/>\n",
       "<use xlink:href=\"#glyph-0-14\" x=\"1333.408203\" y=\"706.488281\"/>\n",
       "<use xlink:href=\"#glyph-0-15\" x=\"1338.964844\" y=\"706.488281\"/>\n",
       "<use xlink:href=\"#glyph-0-14\" x=\"1350.087891\" y=\"706.488281\"/>\n",
       "<use xlink:href=\"#glyph-0-18\" x=\"1355.644531\" y=\"706.488281\"/>\n",
       "<use xlink:href=\"#glyph-0-11\" x=\"1366.767578\" y=\"706.488281\"/>\n",
       "<use xlink:href=\"#glyph-0-13\" x=\"1373.427734\" y=\"706.488281\"/>\n",
       "<use xlink:href=\"#glyph-0-20\" x=\"1378.984375\" y=\"706.488281\"/>\n",
       "<use xlink:href=\"#glyph-0-17\" x=\"1385.644531\" y=\"706.488281\"/>\n",
       "<use xlink:href=\"#glyph-0-12\" x=\"1390.087891\" y=\"706.488281\"/>\n",
       "<use xlink:href=\"#glyph-0-6\" x=\"1406.748047\" y=\"706.488281\"/>\n",
       "<use xlink:href=\"#glyph-0-13\" x=\"1417.871094\" y=\"706.488281\"/>\n",
       "<use xlink:href=\"#glyph-0-5\" x=\"1423.427734\" y=\"706.488281\"/>\n",
       "<use xlink:href=\"#glyph-0-2\" x=\"1434.550781\" y=\"706.488281\"/>\n",
       "<use xlink:href=\"#glyph-0-3\" x=\"1444.550781\" y=\"706.488281\"/>\n",
       "<use xlink:href=\"#glyph-0-11\" x=\"1448.994141\" y=\"706.488281\"/>\n",
       "<use xlink:href=\"#glyph-0-1\" x=\"1455.654297\" y=\"706.488281\"/>\n",
       "<use xlink:href=\"#glyph-0-2\" x=\"1465.654297\" y=\"706.488281\"/>\n",
       "<use xlink:href=\"#glyph-0-1\" x=\"1475.654297\" y=\"706.488281\"/>\n",
       "<use xlink:href=\"#glyph-0-3\" x=\"1485.654297\" y=\"706.488281\"/>\n",
       "<use xlink:href=\"#glyph-0-4\" x=\"1490.097656\" y=\"706.488281\"/>\n",
       "<use xlink:href=\"#glyph-0-5\" x=\"1501.220703\" y=\"706.488281\"/>\n",
       "<use xlink:href=\"#glyph-0-6\" x=\"1512.34375\" y=\"706.488281\"/>\n",
       "<use xlink:href=\"#glyph-0-7\" x=\"1523.466797\" y=\"706.488281\"/>\n",
       "<use xlink:href=\"#glyph-0-8\" x=\"1533.466797\" y=\"706.488281\"/>\n",
       "<use xlink:href=\"#glyph-0-9\" x=\"1544.589844\" y=\"706.488281\"/>\n",
       "<use xlink:href=\"#glyph-0-6\" x=\"1555.712891\" y=\"706.488281\"/>\n",
       "</g>\n",
       "</svg>"
      ],
      "text/plain": [
       "<IPython.core.display.SVG object>"
      ]
     },
     "metadata": {},
     "output_type": "display_data"
    }
   ],
   "source": [
    "indigo.setOption(\"render-output-format\", \"svg\")\n",
    "img_grid = renderer.renderGridToBuffer(\n",
    "    objects=array,\n",
    "    refatoms=None,\n",
    "    ncolumns=3,\n",
    ")\n",
    "display(SVG(img_grid))"
   ]
  },
  {
   "cell_type": "markdown",
   "metadata": {},
   "source": [
    "### Write a grid of Indigo molecules to an image file"
   ]
  },
  {
   "cell_type": "markdown",
   "metadata": {},
   "source": [
    "Both PNG and SVG formats are possible."
   ]
  },
  {
   "cell_type": "code",
   "execution_count": 67,
   "metadata": {},
   "outputs": [],
   "source": [
    "indigo.setOption(\"render-output-format\", \"png\")\n",
    "renderer.renderGridToFile(\n",
    "    objects=array,\n",
    "    refatoms=None,\n",
    "    ncolumns=3,\n",
    "    filename=\"../images/indigo/structures.png\",\n",
    ")"
   ]
  },
  {
   "cell_type": "markdown",
   "metadata": {},
   "source": [
    "Here's the image in the PNG file:"
   ]
  },
  {
   "cell_type": "markdown",
   "metadata": {},
   "source": [
    "![Molecular structures of six cyclohexanes](../images/indigo/structures.png)"
   ]
  },
  {
   "cell_type": "code",
   "execution_count": 68,
   "metadata": {},
   "outputs": [],
   "source": [
    "indigo.setOption(\"render-output-format\", \"svg\")\n",
    "renderer.renderGridToFile(\n",
    "    objects=array,\n",
    "    refatoms=None,\n",
    "    ncolumns=3,\n",
    "    filename=\"../images/indigo/structures.svg\",\n",
    ")"
   ]
  },
  {
   "cell_type": "markdown",
   "metadata": {},
   "source": [
    "Here's the image in the PNG file:"
   ]
  },
  {
   "cell_type": "markdown",
   "metadata": {},
   "source": [
    "![Molecular structures of six cyclohexanes](../images/indigo/structures.svg)"
   ]
  },
  {
   "cell_type": "markdown",
   "metadata": {},
   "source": [
    "## Another resource"
   ]
  },
  {
   "cell_type": "markdown",
   "metadata": {},
   "source": [
    "You can find other examples of how to use Indigo at [Chemistry Toolkit Rosetta Wiki](https://ctr.fandom.com/wiki/Chemistry_Toolkit_Rosetta_Wiki), which has code examples for common operations in cheminformatics toolkits such as Indigo, RDKit, CDK, OpenBabel, OpenEye, CACTVS, Cinfony, and Chemkit. The page [Depict a compound as an image](https://ctr.fandom.com/wiki/Depict_a_compound_as_an_image) is relevant to the goal of this post."
   ]
  }
 ],
 "metadata": {
  "kernelspec": {
   "display_name": "venv",
   "language": "python",
   "name": "python3"
  },
  "language_info": {
   "codemirror_mode": {
    "name": "ipython",
    "version": 3
   },
   "file_extension": ".py",
   "mimetype": "text/x-python",
   "name": "python",
   "nbconvert_exporter": "python",
   "pygments_lexer": "ipython3",
   "version": "3.11.7"
  }
 },
 "nbformat": 4,
 "nbformat_minor": 2
}
