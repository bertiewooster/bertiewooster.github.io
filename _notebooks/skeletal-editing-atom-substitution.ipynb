{
 "cells": [
  {
   "cell_type": "markdown",
   "metadata": {},
   "source": [
    "# Skeletal Editing with Reaction SMARTS and RDKit Atom Substitution"
   ]
  },
  {
   "cell_type": "markdown",
   "metadata": {},
   "source": [
    "This notebook shows two ways to accomplish skeletal editing reactions in the RDKit: By using Reaction SMARTS or atom editing. As my collaborator [Dr. Phyo Phyo Zin](https://www.linkedin.com/in/phyophyokyawzin/) posted in [How to Use Skeletal Editing in Drug Discovery: Key Benefits & Applications](https://drzinph.com/skeletal-editing-in-drug-discovery-applications-and-challenges/), \"skeletal editing enables chemists to modify the core structure of existing molecules by swapping, deleting, inserting, or rearranging atoms ([Woo et al., 2023](https://pubmed.ncbi.nlm.nih.gov/37914946/)).\" For generality, Reaction SMARTS is best because it can match molecular patterns, enabling one Reaction SMARTS to apply to many reactants. For a simple reaction like pyrylium → pyridinium, we can accomplish the same thing using atom editing on an RDKit read-write molecule."
   ]
  },
  {
   "cell_type": "markdown",
   "metadata": {},
   "source": [
    "## Code foundation"
   ]
  },
  {
   "cell_type": "markdown",
   "metadata": {},
   "source": [
    "This section is taken from our previous tutorial on skeletal editing. It installs the RDKit and defines functions to run and plot reactions using Reaction SMARTS."
   ]
  },
  {
   "cell_type": "code",
   "execution_count": 1,
   "metadata": {},
   "outputs": [],
   "source": [
    "%%capture\n",
    "%pip install rdkit"
   ]
  },
  {
   "cell_type": "code",
   "execution_count": 2,
   "metadata": {},
   "outputs": [],
   "source": [
    "from rdkit import Chem\n",
    "from rdkit.Chem import AllChem, Draw\n",
    "from rdkit.Chem import rdqueries\n",
    "\n",
    "from IPython.display import display"
   ]
  },
  {
   "cell_type": "code",
   "execution_count": 3,
   "metadata": {},
   "outputs": [],
   "source": [
    "def run_rxn(rxn_smarts, mol):\n",
    "    rxn = AllChem.ReactionFromSmarts(rxn_smarts)\n",
    "    print(\"Reaction:\")\n",
    "    display(rxn)\n",
    "    try:\n",
    "        products = rxn.RunReactants((mol,))\n",
    "    except IndexError:\n",
    "        raise IndexError(\"Reaction failed; the starting material may not match the reaction SMARTS\")\n",
    "    return products"
   ]
  },
  {
   "cell_type": "code",
   "execution_count": 4,
   "metadata": {},
   "outputs": [],
   "source": [
    "def plot_rxn(rxn_smarts, mol):\n",
    "    try:\n",
    "        products = run_rxn(rxn_smarts, mol)\n",
    "    except IndexError as e:\n",
    "        print(e)\n",
    "        return\n",
    "    print(\"Reactant:\")\n",
    "    display(mol)\n",
    "    if not products:\n",
    "        print(\"No products\")\n",
    "        return\n",
    "    print(\"Distinct products:\")\n",
    "    product_smls = set()\n",
    "    for product in products:\n",
    "        product_mol = product[0]\n",
    "        Chem.SanitizeMol(product_mol)\n",
    "        # Get the canonical SMILES string of the product molecule\n",
    "        this_sml = Chem.MolToSmiles(product_mol)\n",
    "        if this_sml in product_smls:\n",
    "            continue\n",
    "        product_smls.add(this_sml)\n",
    "        print(Chem.MolToSmiles(product_mol))\n",
    "        display(product_mol)\n",
    "    return product_smls"
   ]
  },
  {
   "cell_type": "markdown",
   "metadata": {},
   "source": [
    "Now let's accomplish the skeletal editing reaction pyrylium → pyridinium using each method. The reaction is from Skeletal Editing: Interconversion of Arenes and Heteroarenes ([Joynson and Ball, 2023](http://doi.org/10.1002/hlca.202200182)) figure 13A and can be used in the preparation of Katritzky salts."
   ]
  },
  {
   "cell_type": "markdown",
   "metadata": {},
   "source": [
    "## Reaction SMARTS"
   ]
  },
  {
   "cell_type": "markdown",
   "metadata": {},
   "source": [
    "Let's start by defining the SMARTS pattern for the starting material. It's a six-membered aromatic ring with a hetero atom, specifically oxygen. The oxygen will be replaced with a nitrogen (connected to an R group), so let's provide an atom number for the oxygen. We'll visualize the SMARTS pattern as a molecule to check that it matches the starting material:"
   ]
  },
  {
   "cell_type": "code",
   "execution_count": 5,
   "metadata": {},
   "outputs": [
    {
     "data": {
      "image/png": "[encoded data removed]",
      "text/plain": [
       "<rdkit.Chem.rdchem.Mol at 0x11f7561f0>"
      ]
     },
     "execution_count": 5,
     "metadata": {},
     "output_type": "execute_result"
    }
   ],
   "source": [
    "pyrylium_smarts = \"[o+r6:1]\"\n",
    "pyrylium_smarts_mol = Chem.MolFromSmarts(pyrylium_smarts)\n",
    "pyrylium_smarts_mol"
   ]
  },
  {
   "cell_type": "markdown",
   "metadata": {},
   "source": [
    "Now we can use that reactant SMARTS and transform it to the product using [RDKit's Reaction SMARTS format](https://drzinph.com/learning-reaction-smarts-a-practical-guide-to-reaction-based-patterns/):\n",
    "> [Reactants]>>[Products]"
   ]
  },
  {
   "cell_type": "code",
   "execution_count": 6,
   "metadata": {},
   "outputs": [
    {
     "data": {
      "image/png": "[encoded data removed]",
      "text/plain": [
       "<rdkit.Chem.rdChemReactions.ChemicalReaction at 0x11f7565e0>"
      ]
     },
     "execution_count": 6,
     "metadata": {},
     "output_type": "execute_result"
    }
   ],
   "source": [
    "pyrylium_to_pyridinium = f\"{pyrylium_smarts}>>[n+:1]-[R]\"\n",
    "pyrylium_to_pyridinium_rxn = AllChem.ReactionFromSmarts(pyrylium_to_pyridinium)\n",
    "pyrylium_to_pyridinium_rxn"
   ]
  },
  {
   "cell_type": "markdown",
   "metadata": {},
   "source": [
    "Let's make sure that our starting material (represented with a Kekulé structure)"
   ]
  },
  {
   "cell_type": "code",
   "execution_count": 7,
   "metadata": {},
   "outputs": [
    {
     "data": {
      "image/png": "[encoded data removed]",
      "text/plain": [
       "<rdkit.Chem.rdchem.Mol at 0x11f7566c0>"
      ]
     },
     "execution_count": 7,
     "metadata": {},
     "output_type": "execute_result"
    }
   ],
   "source": [
    "pyrylium_sml = \"C1=[O+]C=CC=C1\"\n",
    "pyrylium = Chem.MolFromSmiles(pyrylium_sml)\n",
    "pyrylium"
   ]
  },
  {
   "cell_type": "markdown",
   "metadata": {},
   "source": [
    "matches the SMARTS pattern:"
   ]
  },
  {
   "cell_type": "code",
   "execution_count": 8,
   "metadata": {},
   "outputs": [
    {
     "data": {
      "text/plain": [
       "True"
      ]
     },
     "execution_count": 8,
     "metadata": {},
     "output_type": "execute_result"
    }
   ],
   "source": [
    "pyrylium.HasSubstructMatch(pyrylium_smarts_mol)"
   ]
  },
  {
   "cell_type": "markdown",
   "metadata": {},
   "source": [
    "### Specificity of the reactant SMARTS pattern"
   ]
  },
  {
   "cell_type": "markdown",
   "metadata": {},
   "source": [
    "But benzene shouldn't match the reactant SMARTS pattern because benzene lacks the oxygen in the aromatic ring:"
   ]
  },
  {
   "cell_type": "code",
   "execution_count": 9,
   "metadata": {},
   "outputs": [
    {
     "data": {
      "image/png": "[encoded data removed]",
      "text/plain": [
       "<rdkit.Chem.rdchem.Mol at 0x11f756960>"
      ]
     },
     "execution_count": 9,
     "metadata": {},
     "output_type": "execute_result"
    }
   ],
   "source": [
    "benzene_sml = \"c1ccccc1\"\n",
    "benzene = Chem.MolFromSmiles(benzene_sml)\n",
    "benzene"
   ]
  },
  {
   "cell_type": "code",
   "execution_count": 10,
   "metadata": {},
   "outputs": [
    {
     "data": {
      "text/plain": [
       "False"
      ]
     },
     "execution_count": 10,
     "metadata": {},
     "output_type": "execute_result"
    }
   ],
   "source": [
    "benzene.HasSubstructMatch(pyrylium_smarts_mol)"
   ]
  },
  {
   "cell_type": "markdown",
   "metadata": {},
   "source": [
    "Nor should tetrahydropyran because it's not aromatic and the oxygen atom doesn't have a positive charge:"
   ]
  },
  {
   "cell_type": "code",
   "execution_count": 11,
   "metadata": {},
   "outputs": [
    {
     "data": {
      "image/png": "[encoded data removed]",
      "text/plain": [
       "<rdkit.Chem.rdchem.Mol at 0x11f756d50>"
      ]
     },
     "execution_count": 11,
     "metadata": {},
     "output_type": "execute_result"
    }
   ],
   "source": [
    "o_alicyclic_sml = \"C1OCCCC1\"\n",
    "o_alicyclic = Chem.MolFromSmiles(o_alicyclic_sml)\n",
    "o_alicyclic"
   ]
  },
  {
   "cell_type": "code",
   "execution_count": 12,
   "metadata": {},
   "outputs": [
    {
     "data": {
      "text/plain": [
       "False"
      ]
     },
     "execution_count": 12,
     "metadata": {},
     "output_type": "execute_result"
    }
   ],
   "source": [
    "o_alicyclic.HasSubstructMatch(pyrylium_smarts_mol)"
   ]
  },
  {
   "cell_type": "markdown",
   "metadata": {},
   "source": [
    "We could have a 10-membered ring which is aromatic, but it won't match the reactant SMARTS pattern because we specified a six-membered ring:"
   ]
  },
  {
   "cell_type": "code",
   "execution_count": 13,
   "metadata": {},
   "outputs": [
    {
     "data": {
      "image/png": "[encoded data removed]",
      "text/plain": [
       "<rdkit.Chem.rdchem.Mol at 0x11f756e30>"
      ]
     },
     "execution_count": 13,
     "metadata": {},
     "output_type": "execute_result"
    }
   ],
   "source": [
    "o_arene10_sml = \"C1=CC=[O+]C=CC=CC=C1\"\n",
    "o_arene10 = Chem.MolFromSmiles(o_arene10_sml)\n",
    "o_arene10"
   ]
  },
  {
   "cell_type": "code",
   "execution_count": 14,
   "metadata": {},
   "outputs": [
    {
     "data": {
      "text/plain": [
       "False"
      ]
     },
     "execution_count": 14,
     "metadata": {},
     "output_type": "execute_result"
    }
   ],
   "source": [
    "o_arene10.HasSubstructMatch(pyrylium_smarts_mol)"
   ]
  },
  {
   "cell_type": "markdown",
   "metadata": {},
   "source": [
    "Whereas if we create a different reactant SMARTS which specifies only that the oxygen be aromatic, and not the ring size, our 10-membered ring would match:"
   ]
  },
  {
   "cell_type": "code",
   "execution_count": 15,
   "metadata": {},
   "outputs": [
    {
     "data": {
      "text/plain": [
       "True"
      ]
     },
     "execution_count": 15,
     "metadata": {},
     "output_type": "execute_result"
    }
   ],
   "source": [
    "pyrylium_smarts_any_ring_size = \"[o+:1]\"\n",
    "pyrylium_smarts_any_ring_size_mol = Chem.MolFromSmarts(pyrylium_smarts_any_ring_size)\n",
    "o_arene10.HasSubstructMatch(pyrylium_smarts_any_ring_size_mol)"
   ]
  },
  {
   "cell_type": "markdown",
   "metadata": {},
   "source": [
    "This eight-membered ring with alternating double and single bonds should not match the original reactant pattern because it's anti-aromatic:"
   ]
  },
  {
   "cell_type": "code",
   "execution_count": 16,
   "metadata": {},
   "outputs": [
    {
     "data": {
      "image/png": "[encoded data removed]",
      "text/plain": [
       "<rdkit.Chem.rdchem.Mol at 0x11f756ea0>"
      ]
     },
     "execution_count": 16,
     "metadata": {},
     "output_type": "execute_result"
    }
   ],
   "source": [
    "o_antiarene8_sml = \"C1=[O+]C=CC=CC=C1\"\n",
    "o_antiarene8 = Chem.MolFromSmiles(o_antiarene8_sml)\n",
    "o_antiarene8"
   ]
  },
  {
   "cell_type": "code",
   "execution_count": 17,
   "metadata": {},
   "outputs": [
    {
     "data": {
      "text/plain": [
       "False"
      ]
     },
     "execution_count": 17,
     "metadata": {},
     "output_type": "execute_result"
    }
   ],
   "source": [
    "o_antiarene8.HasSubstructMatch(pyrylium_smarts_mol)"
   ]
  },
  {
   "cell_type": "markdown",
   "metadata": {},
   "source": [
    "### Run the Reaction SMARTS"
   ]
  },
  {
   "cell_type": "markdown",
   "metadata": {},
   "source": [
    "Having established the Reaction SMARTS' specificity, let's plot the reaction:"
   ]
  },
  {
   "cell_type": "code",
   "execution_count": 18,
   "metadata": {},
   "outputs": [
    {
     "name": "stdout",
     "output_type": "stream",
     "text": [
      "Reaction:\n"
     ]
    },
    {
     "data": {
      "image/png": "[encoded data removed]",
      "text/plain": [
       "<rdkit.Chem.rdChemReactions.ChemicalReaction at 0x11f757840>"
      ]
     },
     "metadata": {},
     "output_type": "display_data"
    },
    {
     "name": "stdout",
     "output_type": "stream",
     "text": [
      "Reactant:\n"
     ]
    },
    {
     "data": {
      "image/png": "[encoded data removed]",
      "text/plain": [
       "<rdkit.Chem.rdchem.Mol at 0x11f7566c0>"
      ]
     },
     "metadata": {},
     "output_type": "display_data"
    },
    {
     "name": "stdout",
     "output_type": "stream",
     "text": [
      "Distinct products:\n",
      "*[n+]1ccccc1\n"
     ]
    },
    {
     "data": {
      "image/png": "[encoded data removed]",
      "text/plain": [
       "<rdkit.Chem.rdchem.Mol at 0x11f757920>"
      ]
     },
     "metadata": {},
     "output_type": "display_data"
    }
   ],
   "source": [
    "product_smls = plot_rxn(pyrylium_to_pyridinium, pyrylium)"
   ]
  },
  {
   "cell_type": "markdown",
   "metadata": {},
   "source": [
    "To later compare to the atom-editing result, let's save the product SMILES. There's only one in the set, so we can `pop` it off."
   ]
  },
  {
   "cell_type": "code",
   "execution_count": 19,
   "metadata": {},
   "outputs": [
    {
     "data": {
      "text/plain": [
       "'*[n+]1ccccc1'"
      ]
     },
     "execution_count": 19,
     "metadata": {},
     "output_type": "execute_result"
    }
   ],
   "source": [
    "product_from_rxn_smarts = product_smls.pop()\n",
    "product_from_rxn_smarts"
   ]
  },
  {
   "cell_type": "markdown",
   "metadata": {},
   "source": [
    "### Generality of the Reaction SMARTS"
   ]
  },
  {
   "cell_type": "markdown",
   "metadata": {},
   "source": [
    "We can verify that our Reaction SMARTS is written in a general manner by successfully running the reaction on an ortho substituted pyrylium. Here we use the `1*` label simply as a marker; the identity of the substituted moiety might or might not affect whether this skeletal editing reaction would work in practice."
   ]
  },
  {
   "cell_type": "code",
   "execution_count": 20,
   "metadata": {},
   "outputs": [
    {
     "data": {
      "image/png": "[encoded data removed]",
      "text/plain": [
       "<rdkit.Chem.rdchem.Mol at 0x11f757a70>"
      ]
     },
     "execution_count": 20,
     "metadata": {},
     "output_type": "execute_result"
    }
   ],
   "source": [
    "pyrylium_substituted_sml = \"[1*]C1=[O+]C=CC=C1\"\n",
    "pyrylium_substituted = Chem.MolFromSmiles(pyrylium_substituted_sml)\n",
    "pyrylium_substituted"
   ]
  },
  {
   "cell_type": "code",
   "execution_count": 21,
   "metadata": {},
   "outputs": [
    {
     "name": "stdout",
     "output_type": "stream",
     "text": [
      "Reaction:\n"
     ]
    },
    {
     "data": {
      "image/png": "[encoded data removed]",
      "text/plain": [
       "<rdkit.Chem.rdChemReactions.ChemicalReaction at 0x11f757d10>"
      ]
     },
     "metadata": {},
     "output_type": "display_data"
    },
    {
     "name": "stdout",
     "output_type": "stream",
     "text": [
      "Reactant:\n"
     ]
    },
    {
     "data": {
      "image/png": "[encoded data removed]",
      "text/plain": [
       "<rdkit.Chem.rdchem.Mol at 0x11f757a70>"
      ]
     },
     "metadata": {},
     "output_type": "display_data"
    },
    {
     "name": "stdout",
     "output_type": "stream",
     "text": [
      "Distinct products:\n",
      "*[n+]1ccccc1[1*]\n"
     ]
    },
    {
     "data": {
      "image/png": "[encoded data removed]",
      "text/plain": [
       "<rdkit.Chem.rdchem.Mol at 0x11f757b50>"
      ]
     },
     "metadata": {},
     "output_type": "display_data"
    },
    {
     "data": {
      "text/plain": [
       "{'*[n+]1ccccc1[1*]'}"
      ]
     },
     "execution_count": 21,
     "metadata": {},
     "output_type": "execute_result"
    }
   ],
   "source": [
    "plot_rxn(pyrylium_to_pyridinium, pyrylium_substituted)"
   ]
  },
  {
   "cell_type": "markdown",
   "metadata": {},
   "source": [
    "The ortho substitution on the arene ring is preserved, so the Reaction SMARTS worked as desired."
   ]
  },
  {
   "cell_type": "markdown",
   "metadata": {},
   "source": [
    "## RDKit atom substitution"
   ]
  },
  {
   "cell_type": "markdown",
   "metadata": {},
   "source": [
    "Because this is a fairly simple atom-for-atom replacement (though with the addition of an R group on the new atom), we can accomplish the same thing by modifying the molecule. We start by creating a read-write molecule from the original (read-only) molecule and verifying that it's the same as the original:"
   ]
  },
  {
   "cell_type": "code",
   "execution_count": 22,
   "metadata": {},
   "outputs": [
    {
     "data": {
      "image/png": "[encoded data removed]",
      "text/plain": [
       "<rdkit.Chem.rdchem.RWMol at 0x1282f9c10>"
      ]
     },
     "execution_count": 22,
     "metadata": {},
     "output_type": "execute_result"
    }
   ],
   "source": [
    "pyrylium_rwm = Chem.RWMol(pyrylium)\n",
    "pyrylium_rwm"
   ]
  },
  {
   "cell_type": "markdown",
   "metadata": {},
   "source": [
    "To programmatically identify the oxygen atom by its atomic number of 8, we create and run a query. There's only one oxygen atom, so we can simply get the first atom matching the query."
   ]
  },
  {
   "cell_type": "code",
   "execution_count": 23,
   "metadata": {},
   "outputs": [
    {
     "data": {
      "text/plain": [
       "1"
      ]
     },
     "execution_count": 23,
     "metadata": {},
     "output_type": "execute_result"
    }
   ],
   "source": [
    "hetero_atom_query = rdqueries.AtomNumEqualsQueryAtom(8)\n",
    "hetero_atom = pyrylium_rwm.GetAtomsMatchingQuery(hetero_atom_query)[0]\n",
    "hetero_atom_idx = hetero_atom.GetIdx()\n",
    "hetero_atom_idx"
   ]
  },
  {
   "cell_type": "markdown",
   "metadata": {},
   "source": [
    "Now we'll replace the oxygen atom with a nitrogen:"
   ]
  },
  {
   "cell_type": "code",
   "execution_count": 24,
   "metadata": {},
   "outputs": [
    {
     "data": {
      "image/png": "[encoded data removed]",
      "text/plain": [
       "<rdkit.Chem.rdchem.RWMol at 0x1282f9c10>"
      ]
     },
     "execution_count": 24,
     "metadata": {},
     "output_type": "execute_result"
    }
   ],
   "source": [
    "pyrylium_rwm.ReplaceAtom(index = hetero_atom_idx, newAtom = Chem.Atom(7))\n",
    "Chem.SanitizeMol(pyrylium_rwm)\n",
    "pyrylium_rwm"
   ]
  },
  {
   "cell_type": "markdown",
   "metadata": {},
   "source": [
    "To add the R group to the nitrogen, we use the read-write molecule's `AddAtom` method. We start by just adding the atom `*` representing the R group. If we leave it at that, the atom is disonnected from the rest of the molecule (note the `*` floating above the rest of the molecule):"
   ]
  },
  {
   "cell_type": "code",
   "execution_count": 25,
   "metadata": {},
   "outputs": [
    {
     "data": {
      "image/png": "[encoded data removed]",
      "text/plain": [
       "<rdkit.Chem.rdchem.RWMol at 0x1282f9c10>"
      ]
     },
     "execution_count": 25,
     "metadata": {},
     "output_type": "execute_result"
    }
   ],
   "source": [
    "added_atom_idx = pyrylium_rwm.AddAtom(Chem.Atom(\"*\"))\n",
    "pyrylium_rwm"
   ]
  },
  {
   "cell_type": "markdown",
   "metadata": {},
   "source": [
    "So we need to add a bond between the nitrogen and the R group. "
   ]
  },
  {
   "cell_type": "code",
   "execution_count": 26,
   "metadata": {},
   "outputs": [
    {
     "data": {
      "image/png": "[encoded data removed]",
      "text/plain": [
       "<rdkit.Chem.rdchem.RWMol at 0x1282f9c10>"
      ]
     },
     "execution_count": 26,
     "metadata": {},
     "output_type": "execute_result"
    }
   ],
   "source": [
    "pyrylium_rwm.AddBond(\n",
    "    beginAtomIdx = hetero_atom_idx,\n",
    "    endAtomIdx = added_atom_idx,\n",
    "    order = Chem.BondType.SINGLE,\n",
    "    )\n",
    "pyrylium_rwm"
   ]
  },
  {
   "cell_type": "markdown",
   "metadata": {},
   "source": [
    "Now let's clean up the molecule by assigning the nitrogen to have no hydrogen atoms, and its charge to `+1`. First let's programmatically find the nitrogen atom. Note that its index is the same as the oxygen atom had, but we need to find the nitrogen atom (as an object) so we can adjust its properties later."
   ]
  },
  {
   "cell_type": "code",
   "execution_count": 27,
   "metadata": {},
   "outputs": [],
   "source": [
    "n_query = rdqueries.AtomNumEqualsQueryAtom(7)\n",
    "n_at = pyrylium_rwm.GetAtomsMatchingQuery(n_query)[0]\n",
    "n_at.SetNoImplicit(True)\n",
    "n_at.SetNumExplicitHs(0)\n",
    "n_at.SetFormalCharge(1)"
   ]
  },
  {
   "cell_type": "markdown",
   "metadata": {},
   "source": [
    "Next we'll draw the molecule, highlighting the substituted heteroatom, the new R group, and the bond between them."
   ]
  },
  {
   "cell_type": "code",
   "execution_count": 28,
   "metadata": {},
   "outputs": [
    {
     "data": {
      "image/jpeg": "[encoded data removed]",
      "image/png": "[encoded data removed]",
      "text/plain": [
       "<PIL.PngImagePlugin.PngImageFile image mode=RGB size=300x300>"
      ]
     },
     "execution_count": 28,
     "metadata": {},
     "output_type": "execute_result"
    }
   ],
   "source": [
    "new_bond_idx = pyrylium_rwm.GetBondBetweenAtoms(hetero_atom_idx, added_atom_idx).GetIdx()\n",
    "Draw.MolToImage(\n",
    "    mol = pyrylium_rwm,\n",
    "    highlightAtoms=[hetero_atom_idx, added_atom_idx],\n",
    "    highlightBonds=[new_bond_idx],\n",
    "    )"
   ]
  },
  {
   "cell_type": "markdown",
   "metadata": {},
   "source": [
    "Finally, we'll convert the read-write molecule back to a read-only molecule, sanitize it, and display it."
   ]
  },
  {
   "cell_type": "code",
   "execution_count": 29,
   "metadata": {},
   "outputs": [
    {
     "data": {
      "image/png": "[encoded data removed]",
      "text/plain": [
       "<rdkit.Chem.rdchem.Mol at 0x1282fd310>"
      ]
     },
     "execution_count": 29,
     "metadata": {},
     "output_type": "execute_result"
    }
   ],
   "source": [
    "product = pyrylium_rwm.GetMol()\n",
    "Chem.SanitizeMol(product)\n",
    "product"
   ]
  },
  {
   "cell_type": "markdown",
   "metadata": {},
   "source": [
    "## Equivalency of the two methods"
   ]
  },
  {
   "cell_type": "markdown",
   "metadata": {},
   "source": [
    "Let's verify that the product is the same as that from the Reaction SMARTS."
   ]
  },
  {
   "cell_type": "code",
   "execution_count": 30,
   "metadata": {},
   "outputs": [
    {
     "data": {
      "text/plain": [
       "True"
      ]
     },
     "execution_count": 30,
     "metadata": {},
     "output_type": "execute_result"
    }
   ],
   "source": [
    "product_from_rxn_smarts == Chem.MolToSmiles(product)"
   ]
  }
 ],
 "metadata": {
  "kernelspec": {
   "display_name": "venv",
   "language": "python",
   "name": "python3"
  },
  "language_info": {
   "codemirror_mode": {
    "name": "ipython",
    "version": 3
   },
   "file_extension": ".py",
   "mimetype": "text/x-python",
   "name": "python",
   "nbconvert_exporter": "python",
   "pygments_lexer": "ipython3",
   "version": "3.11.7"
  }
 },
 "nbformat": 4,
 "nbformat_minor": 2
}
