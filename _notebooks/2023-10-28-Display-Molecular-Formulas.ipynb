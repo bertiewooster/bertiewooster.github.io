{
 "cells": [
  {
   "cell_type": "markdown",
   "metadata": {},
   "source": [
    "# Displaying Molecular Formulas in Molecular Grids, Tables, and Graphs for Elemental Analysis"
   ]
  },
  {
   "cell_type": "markdown",
   "metadata": {},
   "source": [
    "Here's how to display formatted molecular formulas in tables and graphs. In addition to formatted molecular formulas, these techniques should work for any Markdown or LaTeX."
   ]
  },
  {
   "cell_type": "markdown",
   "metadata": {},
   "source": [
    "In the [last blog post, we generated molecular formulas]({% post_url 2023-10-20-Molecular-Formula-Generation %}) from SMILES strings or RDKit molecules. Once we have those molecular formulas, formatted as Markdown or LaTeX, we might want to display them in tables or graphs."
   ]
  },
  {
   "cell_type": "markdown",
   "metadata": {},
   "source": [
    "One of the uses of a molecular formula is for [elemental analysis](https://en.wikipedia.org/wiki/Elemental_analysis#CHNX_analysis) because it determines the mass percentage of each element in a compound. So all we need to know for elemental analysis is the count of each element in the molecule, not the arrangement of atoms."
   ]
  },
  {
   "cell_type": "code",
   "execution_count": 82,
   "metadata": {},
   "outputs": [],
   "source": [
    "%%capture\n",
    "%!pip install rdkit\n",
    "%!pip install black[jupyter]\n",
    "%!pip install polars\n",
    "%!pip install pyarrow"
   ]
  },
  {
   "cell_type": "code",
   "execution_count": 83,
   "metadata": {},
   "outputs": [],
   "source": [
    "# Mount Google Drive so can format code in this notebook using black\n",
    "# from google.colab import drive\n",
    "\n",
    "# drive.mount(\"/content/drive\")"
   ]
  },
  {
   "cell_type": "code",
   "execution_count": 84,
   "metadata": {},
   "outputs": [],
   "source": [
    "# Format code using black\n",
    "# procedure at https://stackoverflow.com/questions/63076002/code-formatter-like-nb-black-for-google-colab#71001241\n",
    "# !black \"/content/drive/MyDrive/Colab Notebooks/Molecular Formula Generation.ipynb\""
   ]
  },
  {
   "cell_type": "code",
   "execution_count": 85,
   "metadata": {},
   "outputs": [],
   "source": [
    "from collections import defaultdict\n",
    "from IPython.display import display, Markdown\n",
    "\n",
    "import rdkit\n",
    "from rdkit import Chem\n",
    "from rdkit.Chem.Draw import MolsMatrixToGridImage\n",
    "from rdkit.Chem.Draw import MolsToGridImage\n",
    "import polars as pl\n",
    "import pandas as pd\n",
    "import seaborn as sns\n",
    "import matplotlib.pyplot as plt"
   ]
  },
  {
   "cell_type": "markdown",
   "metadata": {},
   "source": [
    "## Molecular formula generation code from previous blog post"
   ]
  },
  {
   "cell_type": "markdown",
   "metadata": {},
   "source": [
    "Refer to the [previous post]({% post_url 2023-10-20-Molecular-Formula-Generation %}) for more information on these functions."
   ]
  },
  {
   "cell_type": "code",
   "execution_count": 86,
   "metadata": {},
   "outputs": [],
   "source": [
    "def composition(\n",
    "    molecule: Chem.Mol,\n",
    "    isotopes: bool = False,\n",
    ") -> defaultdict:\n",
    "    \"\"\"Get the composition of an RDKit molecule:\n",
    "    Atomic counts, including hydrogen atoms, and isotopes if requested.\n",
    "    For example, ethanol (SMILES [13C](H)(H)(H)CO, formula C2H6O) returns:\n",
    "      if isotopes = False (default): {'C': 2, 'O': 1, 'H': 6}.\n",
    "      if isotopes = True: {'C': {13: 1, 0: 1}, 'O': {0: 1}, 'H': {0: 6}}.\n",
    "\n",
    "    :param molecule: The RDKit molecule to analyze\n",
    "    :param isotopes: Whether to include the isotope of each atom\n",
    "    :returns: if isotopes = False (default): a dictionary of element:count entries;\n",
    "              if isotopes = True: a nested dictionary of element:isotope:count entries.\n",
    "    \"\"\"\n",
    "    # Check that there is a valid molecule\n",
    "    if not molecule:\n",
    "        return\n",
    "\n",
    "    # Add hydrogen atoms--RDKit excludes them by default\n",
    "    molecule = Chem.AddHs(molecule)\n",
    "    comp = defaultdict(lambda: 0)\n",
    "\n",
    "    # Get atom counts\n",
    "    for atom in molecule.GetAtoms():\n",
    "        element_symbol = atom.GetSymbol()\n",
    "        # If isotopes not requested, simply count the number of atoms of each element\n",
    "        if not isotopes:\n",
    "            comp[element_symbol] += 1\n",
    "        # If isotopes requested, count the number of each isotope of each element\n",
    "        else:\n",
    "            isotope = atom.GetIsotope()\n",
    "            try:\n",
    "                comp[element_symbol][isotope] += 1\n",
    "            except:\n",
    "                comp[element_symbol] = defaultdict(lambda: 0)\n",
    "                comp[element_symbol][isotope] += 1\n",
    "    return comp"
   ]
  },
  {
   "cell_type": "code",
   "execution_count": 87,
   "metadata": {},
   "outputs": [],
   "source": [
    "def mol_to_formatted_formula(\n",
    "    mol: Chem.Mol,\n",
    "    isotopes: bool = False,\n",
    ") -> dict[str, str]:\n",
    "    if mol is None:\n",
    "        return \"Invalid molecule\"\n",
    "    comp = composition(mol, isotopes)\n",
    "\n",
    "    formula = {\"markdown\": \"\", \"latex\": \"\"}\n",
    "\n",
    "    if isotopes:\n",
    "        isotopes_dict = defaultdict(lambda: defaultdict(str))\n",
    "        subscripts = defaultdict(lambda: defaultdict(int))\n",
    "        superscripts = defaultdict(list)\n",
    "\n",
    "        for element, counts in comp.items():\n",
    "            for isotope, count in counts.items():\n",
    "                if count > 1:\n",
    "                    subscripts[element][isotope] = count\n",
    "                if isotope != 0:\n",
    "                    superscripts[element].append(isotope)\n",
    "\n",
    "                isotopes_dict[element][isotope] = 1\n",
    "            # Sort the element's isotopes from lowest to highest\n",
    "            superscripts[element].sort()\n",
    "\n",
    "        last_item_is_subscript = False\n",
    "        sorted_element_keys = sorted(isotopes_dict.keys())\n",
    "        for element in sorted_element_keys:\n",
    "            isotope_count_pairs = isotopes_dict[element]\n",
    "            # Sort the element's isotopes from lowest to highest\n",
    "            sorted_isotope_keys = sorted(isotope_count_pairs.keys())\n",
    "            for isotope in sorted_isotope_keys:\n",
    "                if element in superscripts:\n",
    "                    if isotope in superscripts[element]:\n",
    "                        formula[\"markdown\"] += f\"<sup>{isotope}</sup>\"\n",
    "\n",
    "                        # If superscript immediately follows subscript,\n",
    "                        # add a small amount of horizontal space using an empty group {}\n",
    "                        # to prevent them from vertically overlapping\n",
    "                        if last_item_is_subscript:\n",
    "                            formula[\"latex\"] += \"{}\"\n",
    "                        formula[\"latex\"] += \"^{ %d}\" % isotope\n",
    "                        last_item_is_subscript = False\n",
    "                formula[\"markdown\"] += element\n",
    "                formula[\"latex\"] += element\n",
    "                last_item_is_subscript = False\n",
    "                if element in subscripts:\n",
    "                    if isotope in subscripts[element]:\n",
    "                        isotope_count = subscripts[element][isotope]\n",
    "                        formula[\"markdown\"] += f\"<sub>{isotope_count}</sub>\"\n",
    "                        formula[\"latex\"] += \"_{ %d}\" % isotope_count\n",
    "                    last_item_is_subscript = True\n",
    "        # Add beginning and ending dollar signs to LaTeX formula\n",
    "        formula[\"latex\"] = \"$\" + formula[\"latex\"] + \"$\"\n",
    "    else:\n",
    "        # Handling the case when isotopes is False\n",
    "        sorted_element_keys = sorted(comp.keys())\n",
    "\n",
    "        for element in sorted_element_keys:\n",
    "            count = comp[element]\n",
    "            formula[\"markdown\"] += element\n",
    "            formula[\"latex\"] += element\n",
    "            if count > 1:\n",
    "                formula[\"markdown\"] += f\"<sub>{count}</sub>\"\n",
    "                formula[\"latex\"] += \"_{ %d}\" % count\n",
    "        formula[\"latex\"] = \"$\" + formula[\"latex\"] + \"$\"\n",
    "\n",
    "    return formula"
   ]
  },
  {
   "cell_type": "code",
   "execution_count": 88,
   "metadata": {},
   "outputs": [],
   "source": [
    "def markdown_formula(latex: str) -> str:\n",
    "    latex_markdown = r\"$\\mathrm{ %s}$\" % (latex.strip(\"$\"))\n",
    "    return latex_markdown"
   ]
  },
  {
   "cell_type": "code",
   "execution_count": 89,
   "metadata": {},
   "outputs": [],
   "source": [
    "def element_set(molecule):\n",
    "    \"\"\"Get the set of elements in an RDKit molecule\n",
    "    For example, ethanol (SMILES CCO, formula C2H5OH)\n",
    "    returns {'C', 'O', 'H'}.\n",
    "\n",
    "    :param molecule: An RDKit molecule\n",
    "    :returns: A set.\n",
    "    \"\"\"\n",
    "    # Check that there is a valid molecule\n",
    "    if molecule:\n",
    "      # Add hydrogen atoms--RDKit excludes them by default\n",
    "      molecule_with_Hs = Chem.AddHs(molecule)\n",
    "      atom_symbols = set(atom.GetSymbol() for atom in molecule_with_Hs.GetAtoms())\n",
    "      return atom_symbols"
   ]
  },
  {
   "cell_type": "code",
   "execution_count": 90,
   "metadata": {},
   "outputs": [],
   "source": [
    "def dict_list_to_markdown_table(data, number_rows=False):\n",
    "    \"\"\"\n",
    "    Convert a list of dictionaries into a Markdown table.\n",
    "\n",
    "    Args:\n",
    "        data (list): A list of dictionaries, where each dictionary corresponds to a row in the table.\n",
    "        include_row_numbers (bool): Whether to include a row number column.\n",
    "\n",
    "    Returns:\n",
    "        str: The Markdown-formatted table as a string.\n",
    "    \"\"\"\n",
    "    if not data:\n",
    "        return \"\"\n",
    "\n",
    "    # Extract column headers from the keys of the first dictionary\n",
    "    headers = data[0].keys()\n",
    "\n",
    "    # If include_row_numbers is True, add the \"Row #\" column\n",
    "    if number_rows:\n",
    "        headers = [\"#\"] + list(headers)\n",
    "\n",
    "    # Create the table headers\n",
    "    table = \"| \" + \" | \".join(headers) + \" |\\n\"\n",
    "\n",
    "    # Create the title divider line\n",
    "    table += \"|\"\n",
    "    for _ in headers:\n",
    "        table += \" --- |\"\n",
    "    table += \"\\n\"\n",
    "\n",
    "    # Create the table body\n",
    "    for i, row in enumerate(data):\n",
    "        if number_rows:\n",
    "            row_data = [i + 1] + [row.get(header, \"\") for header in headers[1:]]\n",
    "        else:\n",
    "            row_data = [row.get(header, \"\") for header in headers]\n",
    "\n",
    "        table += \"| \" + \" | \".join(map(str, row_data)) + \" |\\n\"\n",
    "\n",
    "    return table"
   ]
  },
  {
   "cell_type": "code",
   "execution_count": 91,
   "metadata": {},
   "outputs": [],
   "source": [
    "def markdown_formula(latex: str) -> str:\n",
    "    return r\"$\\mathrm{ %s}$\" % (latex.strip(\"$\"))"
   ]
  },
  {
   "cell_type": "markdown",
   "metadata": {},
   "source": [
    "## Two series of molecules"
   ]
  },
  {
   "cell_type": "markdown",
   "metadata": {},
   "source": [
    "The set of molecules we'll consider have a carbon chain three, two, or one atoms long, two oxygen atoms, and hydrogen atoms. The first series will be dialdehydes, and the second series diols. For the purpose of this exercise, consider that it may be too difficult to do elemental analysis on gases, so we'll only consider condensed phases. Thus carbon dioxide will be excluded."
   ]
  },
  {
   "cell_type": "markdown",
   "metadata": {},
   "source": [
    "We can take advantage of the new [feature that I contributed to the RDKit 2023.9.1 release, MolsMatrixToGridImage](https://greglandrum.github.io/rdkit-blog/posts/2023-10-25-molsmatrixtogridimage.html), to put each series in its own data structure and then plot each series in its own row without worrying about how many compounds are in each series. Taking advantage of the nested input parameters of [MolsMatrixToGridImage](https://www.rdkit.org/docs/source/rdkit.Chem.Draw.html#rdkit.Chem.Draw.MolsMatrixToGridImage) also means we don't have to add an empty placeholder SMILES string `\"\"` for the excluded compound carbon dioxide, which would cause empty cells in tables or graphs below.\n",
    "\n",
    "If you do not yet have RDKit 2023.9.1 or greater, the except block below will use [`MolsToGridImage`](https://www.rdkit.org/docs/source/rdkit.Chem.Draw.html#rdkit.Chem.Draw.MolsToGridImage) as a fallback. Note that a different list of SMILES has to be created to add the empty placeholder SMILES string `\"\"`."
   ]
  },
  {
   "cell_type": "markdown",
   "metadata": {},
   "source": [
    "Either drawing function will correctly display Markdown in legends under the molecules, so we use `mol_to_formatted_formula(mol)[\"markdown\"]`."
   ]
  },
  {
   "cell_type": "code",
   "execution_count": 92,
   "metadata": {},
   "outputs": [
    {
     "name": "stdout",
     "output_type": "stream",
     "text": [
      "MolsMatrixToGridImage available in RDKit 2023.09.1 and used to produce this image.\n"
     ]
    },
    {
     "data": {
      "image/png": "[encoded data removed]",
      "text/plain": [
       "<IPython.core.display.Image object>"
      ]
     },
     "execution_count": 92,
     "metadata": {},
     "output_type": "execute_result"
    }
   ],
   "source": [
    "smlsMatrix = [[\"O=CCC=O\", \"O=CC=O\"], [\"OCCCO\", \"OCCO\", \"OCO\"]]\n",
    "molsMatrix = [[Chem.AddHs(Chem.MolFromSmiles(sml)) for sml in series] for series in smlsMatrix]\n",
    "legendsMatrix = [[mol_to_formatted_formula(mol)[\"markdown\"] for mol in series] for series in molsMatrix]\n",
    "try:\n",
    "    dwg = MolsMatrixToGridImage(molsMatrix, legendsMatrix=legendsMatrix)\n",
    "except AttributeError:\n",
    "    print(f\"MolsMatrixToGridImage not available in RDKit {rdkit.__version__}; falling back to MolsToGridImage.\")\n",
    "    smls_one_dim = [\"O=CCC=O\", \"O=CC=O\", \"\", \"OCCCO\", \"OCCO\", \"OCO\"]\n",
    "    mols_one_dim = [Chem.MolFromSmiles(sml) for sml in smls_one_dim]\n",
    "    legends_one_dim = [mol_to_formatted_formula(mol)[\"markdown\"] for mol in mols_one_dim]\n",
    "    dwg = MolsToGridImage(mols_one_dim, legends=legends_one_dim)\n",
    "else:\n",
    "    print(f\"MolsMatrixToGridImage available in RDKit {rdkit.__version__} and used to produce this image.\")\n",
    "dwg"
   ]
  },
  {
   "cell_type": "markdown",
   "metadata": {},
   "source": [
    "## Elemental analysis code to calculate weight percent by element"
   ]
  },
  {
   "cell_type": "markdown",
   "metadata": {},
   "source": [
    "We define an `elemental_analysis_mol` class to hold the RDKit molecule, formulas, total mass, and the weight percent of each atom in the molecule."
   ]
  },
  {
   "cell_type": "code",
   "execution_count": 93,
   "metadata": {},
   "outputs": [],
   "source": [
    "class elemental_analysis_mol():\n",
    "    def __init__(self, mol):\n",
    "        self.mol = mol\n",
    "\n",
    "        # Create dictionary of element:absolute mass\n",
    "        element_abs_dict = defaultdict()\n",
    "        for atom in mol.GetAtoms():\n",
    "            try:\n",
    "                element_abs_dict[atom.GetSymbol()] += atom.GetMass()\n",
    "            except:\n",
    "                element_abs_dict[atom.GetSymbol()] = atom.GetMass()\n",
    "\n",
    "        formulas = mol_to_formatted_formula(self.mol)\n",
    "        self.formula_markdown = formulas.get(\"markdown\")\n",
    "        self.formula_latex = formulas.get(\"latex\")\n",
    "        self.total_mass = sum(element_abs_dict.values())\n",
    "\n",
    "        # Create dictionary of element:relative (to the molecule) mass\n",
    "        self.element_rel_dict = defaultdict()\n",
    "        for element, mass in element_abs_dict.items():\n",
    "            self.element_rel_dict[element] = mass/self.total_mass\n",
    "    def update(self, mol):\n",
    "        \"\"\"Define an update method so the elemental_analysis_mol can remain as the same object if updated\"\"\"\n",
    "        self.__init__(mol)\n",
    "    def get_mass_frac(self, element):\n",
    "        return self.element_rel_dict.get(element, 0)"
   ]
  },
  {
   "cell_type": "markdown",
   "metadata": {},
   "source": [
    "We'll build a Polars dataframe with the SMILES, `elemental_analysis_mol`, and formulas."
   ]
  },
  {
   "cell_type": "code",
   "execution_count": 94,
   "metadata": {},
   "outputs": [
    {
     "data": {
      "text/html": [
       "<div><style>\n",
       ".dataframe > thead > tr > th,\n",
       ".dataframe > tbody > tr > td {\n",
       "  text-align: right;\n",
       "  white-space: pre-wrap;\n",
       "}\n",
       "</style>\n",
       "<small>shape: (5, 5)</small><table border=\"1\" class=\"dataframe\"><thead><tr><th>sml</th><th>mol</th><th>elemental_analysis_mol</th><th>formula_markdown</th><th>formula_latex</th></tr><tr><td>str</td><td>object</td><td>object</td><td>str</td><td>str</td></tr></thead><tbody><tr><td>&quot;O=CCC=O&quot;</td><td>&lt;rdkit.Chem.rdchem.Mol object at 0x163c6e960&gt;</td><td>&lt;__main__.elemental_analysis_mol object at 0x169891d50&gt;</td><td>&quot;C&lt;sub&gt;3&lt;/sub&gt;H…</td><td>&quot;$\\mathrm{ C_{ …</td></tr><tr><td>&quot;O=CC=O&quot;</td><td>&lt;rdkit.Chem.rdchem.Mol object at 0x163c6eab0&gt;</td><td>&lt;__main__.elemental_analysis_mol object at 0x1698927d0&gt;</td><td>&quot;C&lt;sub&gt;2&lt;/sub&gt;H…</td><td>&quot;$\\mathrm{ C_{ …</td></tr><tr><td>&quot;OCCCO&quot;</td><td>&lt;rdkit.Chem.rdchem.Mol object at 0x164078cf0&gt;</td><td>&lt;__main__.elemental_analysis_mol object at 0x169890250&gt;</td><td>&quot;C&lt;sub&gt;3&lt;/sub&gt;H…</td><td>&quot;$\\mathrm{ C_{ …</td></tr><tr><td>&quot;OCCO&quot;</td><td>&lt;rdkit.Chem.rdchem.Mol object at 0x164078b30&gt;</td><td>&lt;__main__.elemental_analysis_mol object at 0x169890b90&gt;</td><td>&quot;C&lt;sub&gt;2&lt;/sub&gt;H…</td><td>&quot;$\\mathrm{ C_{ …</td></tr><tr><td>&quot;OCO&quot;</td><td>&lt;rdkit.Chem.rdchem.Mol object at 0x164078dd0&gt;</td><td>&lt;__main__.elemental_analysis_mol object at 0x169893610&gt;</td><td>&quot;CH&lt;sub&gt;4&lt;/sub&gt;…</td><td>&quot;$\\mathrm{ CH_{…</td></tr></tbody></table></div>"
      ],
      "text/plain": [
       "shape: (5, 5)\n",
       "┌─────────┬──────────────────────┬─────────────────────┬─────────────────────┬─────────────────────┐\n",
       "│ sml     ┆ mol                  ┆ elemental_analysis_ ┆ formula_markdown    ┆ formula_latex       │\n",
       "│ ---     ┆ ---                  ┆ mol                 ┆ ---                 ┆ ---                 │\n",
       "│ str     ┆ object               ┆ ---                 ┆ str                 ┆ str                 │\n",
       "│         ┆                      ┆ object              ┆                     ┆                     │\n",
       "╞═════════╪══════════════════════╪═════════════════════╪═════════════════════╪═════════════════════╡\n",
       "│ O=CCC=O ┆ <rdkit.Chem.rdchem.M ┆ <__main__.elemental ┆ C<sub>3</sub>H<sub> ┆ $\\mathrm{ C_{ 3}H_{ │\n",
       "│         ┆ ol object at…        ┆ _analysis_mol…      ┆ 4</sub>O<sub>…      ┆ 4}O_{ 2}}$          │\n",
       "│ O=CC=O  ┆ <rdkit.Chem.rdchem.M ┆ <__main__.elemental ┆ C<sub>2</sub>H<sub> ┆ $\\mathrm{ C_{ 2}H_{ │\n",
       "│         ┆ ol object at…        ┆ _analysis_mol…      ┆ 2</sub>O<sub>…      ┆ 2}O_{ 2}}$          │\n",
       "│ OCCCO   ┆ <rdkit.Chem.rdchem.M ┆ <__main__.elemental ┆ C<sub>3</sub>H<sub> ┆ $\\mathrm{ C_{ 3}H_{ │\n",
       "│         ┆ ol object at…        ┆ _analysis_mol…      ┆ 8</sub>O<sub>…      ┆ 8}O_{ 2}}$          │\n",
       "│ OCCO    ┆ <rdkit.Chem.rdchem.M ┆ <__main__.elemental ┆ C<sub>2</sub>H<sub> ┆ $\\mathrm{ C_{ 2}H_{ │\n",
       "│         ┆ ol object at…        ┆ _analysis_mol…      ┆ 6</sub>O<sub>…      ┆ 6}O_{ 2}}$          │\n",
       "│ OCO     ┆ <rdkit.Chem.rdchem.M ┆ <__main__.elemental ┆ CH<sub>4</sub>O<sub ┆ $\\mathrm{ CH_{      │\n",
       "│         ┆ ol object at…        ┆ _analysis_mol…      ┆ >2</sub>            ┆ 4}O_{ 2}}$          │\n",
       "└─────────┴──────────────────────┴─────────────────────┴─────────────────────┴─────────────────────┘"
      ]
     },
     "execution_count": 94,
     "metadata": {},
     "output_type": "execute_result"
    }
   ],
   "source": [
    "smls = [sml for series in smlsMatrix for sml in series]\n",
    "mols = [mol for series in molsMatrix for mol in series]\n",
    "df = pl.DataFrame({\"sml\": smls, \"mol\": mols})\n",
    "df = df.with_columns(\n",
    "    [\n",
    "        pl.col(\"mol\").map_elements(lambda mol: elemental_analysis_mol(mol)).alias(\"elemental_analysis_mol\"),\n",
    "    ]\n",
    ")\n",
    "df = df.with_columns(\n",
    "    [\n",
    "        pl.col(\"elemental_analysis_mol\").map_elements(lambda x: x.formula_markdown).alias(\"formula_markdown\"),\n",
    "        pl.col(\"elemental_analysis_mol\").map_elements(lambda x: markdown_formula(x.formula_latex)).alias(\"formula_latex\"),\n",
    "    ]\n",
    ")\n",
    "df"
   ]
  },
  {
   "cell_type": "markdown",
   "metadata": {},
   "source": [
    "Now we need to add the elemental weight percents. We need to include values for each element in any molecule, so we create a set of all the elements in any molecule."
   ]
  },
  {
   "cell_type": "code",
   "execution_count": 95,
   "metadata": {},
   "outputs": [
    {
     "data": {
      "text/html": [
       "<div><style>\n",
       ".dataframe > thead > tr > th,\n",
       ".dataframe > tbody > tr > td {\n",
       "  text-align: right;\n",
       "  white-space: pre-wrap;\n",
       "}\n",
       "</style>\n",
       "<small>shape: (5, 8)</small><table border=\"1\" class=\"dataframe\"><thead><tr><th>sml</th><th>mol</th><th>elemental_analysis_mol</th><th>formula_markdown</th><th>formula_latex</th><th>wt %O</th><th>wt %H</th><th>wt %C</th></tr><tr><td>str</td><td>object</td><td>object</td><td>str</td><td>str</td><td>f64</td><td>f64</td><td>f64</td></tr></thead><tbody><tr><td>&quot;O=CCC=O&quot;</td><td>&lt;rdkit.Chem.rdchem.Mol object at 0x163c6e960&gt;</td><td>&lt;__main__.elemental_analysis_mol object at 0x169891d50&gt;</td><td>&quot;C&lt;sub&gt;3&lt;/sub&gt;H…</td><td>&quot;$\\mathrm{ C_{ …</td><td>44.4028</td><td>5.5951</td><td>50.0021</td></tr><tr><td>&quot;O=CC=O&quot;</td><td>&lt;rdkit.Chem.rdchem.Mol object at 0x163c6eab0&gt;</td><td>&lt;__main__.elemental_analysis_mol object at 0x1698927d0&gt;</td><td>&quot;C&lt;sub&gt;2&lt;/sub&gt;H…</td><td>&quot;$\\mathrm{ C_{ …</td><td>55.1347</td><td>3.4737</td><td>41.3916</td></tr><tr><td>&quot;OCCCO&quot;</td><td>&lt;rdkit.Chem.rdchem.Mol object at 0x164078cf0&gt;</td><td>&lt;__main__.elemental_analysis_mol object at 0x169890250&gt;</td><td>&quot;C&lt;sub&gt;3&lt;/sub&gt;H…</td><td>&quot;$\\mathrm{ C_{ …</td><td>42.0501</td><td>10.5973</td><td>47.3527</td></tr><tr><td>&quot;OCCO&quot;</td><td>&lt;rdkit.Chem.rdchem.Mol object at 0x164078b30&gt;</td><td>&lt;__main__.elemental_analysis_mol object at 0x169890b90&gt;</td><td>&quot;C&lt;sub&gt;2&lt;/sub&gt;H…</td><td>&quot;$\\mathrm{ C_{ …</td><td>51.5531</td><td>9.7442</td><td>38.7027</td></tr><tr><td>&quot;OCO&quot;</td><td>&lt;rdkit.Chem.rdchem.Mol object at 0x164078dd0&gt;</td><td>&lt;__main__.elemental_analysis_mol object at 0x169893610&gt;</td><td>&quot;CH&lt;sub&gt;4&lt;/sub&gt;…</td><td>&quot;$\\mathrm{ CH_{…</td><td>66.6056</td><td>8.3928</td><td>25.0016</td></tr></tbody></table></div>"
      ],
      "text/plain": [
       "shape: (5, 8)\n",
       "┌─────────┬──────────────┬──────────────┬──────────────┬─────────────┬─────────┬─────────┬─────────┐\n",
       "│ sml     ┆ mol          ┆ elemental_an ┆ formula_mark ┆ formula_lat ┆ wt %O   ┆ wt %H   ┆ wt %C   │\n",
       "│ ---     ┆ ---          ┆ alysis_mol   ┆ down         ┆ ex          ┆ ---     ┆ ---     ┆ ---     │\n",
       "│ str     ┆ object       ┆ ---          ┆ ---          ┆ ---         ┆ f64     ┆ f64     ┆ f64     │\n",
       "│         ┆              ┆ object       ┆ str          ┆ str         ┆         ┆         ┆         │\n",
       "╞═════════╪══════════════╪══════════════╪══════════════╪═════════════╪═════════╪═════════╪═════════╡\n",
       "│ O=CCC=O ┆ <rdkit.Chem. ┆ <__main__.el ┆ C<sub>3</sub ┆ $\\mathrm{   ┆ 44.4028 ┆ 5.5951  ┆ 50.0021 │\n",
       "│         ┆ rdchem.Mol   ┆ emental_anal ┆ >H<sub>4</su ┆ C_{ 3}H_{   ┆         ┆         ┆         │\n",
       "│         ┆ object at…   ┆ ysis_mol…    ┆ b>O<sub>…    ┆ 4}O_{ 2}}$  ┆         ┆         ┆         │\n",
       "│ O=CC=O  ┆ <rdkit.Chem. ┆ <__main__.el ┆ C<sub>2</sub ┆ $\\mathrm{   ┆ 55.1347 ┆ 3.4737  ┆ 41.3916 │\n",
       "│         ┆ rdchem.Mol   ┆ emental_anal ┆ >H<sub>2</su ┆ C_{ 2}H_{   ┆         ┆         ┆         │\n",
       "│         ┆ object at…   ┆ ysis_mol…    ┆ b>O<sub>…    ┆ 2}O_{ 2}}$  ┆         ┆         ┆         │\n",
       "│ OCCCO   ┆ <rdkit.Chem. ┆ <__main__.el ┆ C<sub>3</sub ┆ $\\mathrm{   ┆ 42.0501 ┆ 10.5973 ┆ 47.3527 │\n",
       "│         ┆ rdchem.Mol   ┆ emental_anal ┆ >H<sub>8</su ┆ C_{ 3}H_{   ┆         ┆         ┆         │\n",
       "│         ┆ object at…   ┆ ysis_mol…    ┆ b>O<sub>…    ┆ 8}O_{ 2}}$  ┆         ┆         ┆         │\n",
       "│ OCCO    ┆ <rdkit.Chem. ┆ <__main__.el ┆ C<sub>2</sub ┆ $\\mathrm{   ┆ 51.5531 ┆ 9.7442  ┆ 38.7027 │\n",
       "│         ┆ rdchem.Mol   ┆ emental_anal ┆ >H<sub>6</su ┆ C_{ 2}H_{   ┆         ┆         ┆         │\n",
       "│         ┆ object at…   ┆ ysis_mol…    ┆ b>O<sub>…    ┆ 6}O_{ 2}}$  ┆         ┆         ┆         │\n",
       "│ OCO     ┆ <rdkit.Chem. ┆ <__main__.el ┆ CH<sub>4</su ┆ $\\mathrm{   ┆ 66.6056 ┆ 8.3928  ┆ 25.0016 │\n",
       "│         ┆ rdchem.Mol   ┆ emental_anal ┆ b>O<sub>2</s ┆ CH_{ 4}O_{  ┆         ┆         ┆         │\n",
       "│         ┆ object at…   ┆ ysis_mol…    ┆ ub>          ┆ 2}}$        ┆         ┆         ┆         │\n",
       "└─────────┴──────────────┴──────────────┴──────────────┴─────────────┴─────────┴─────────┴─────────┘"
      ]
     },
     "execution_count": 95,
     "metadata": {},
     "output_type": "execute_result"
    }
   ],
   "source": [
    "# Create set of elements in all molecules, initializing it as an empty set\n",
    "element_set_mols = set()\n",
    "\n",
    "for mol in df[\"mol\"]:\n",
    "    element_set_mols.update(element_set(mol))\n",
    "element_set_mols\n",
    "\n",
    "for element in element_set_mols:\n",
    "    df = df.with_columns(\n",
    "    [\n",
    "        pl.col(\"elemental_analysis_mol\").map_elements(lambda x: round(x.get_mass_frac(element) * 100, 4)).alias(f\"wt %{element}\"),\n",
    "    ]\n",
    ")\n",
    "df"
   ]
  },
  {
   "cell_type": "markdown",
   "metadata": {},
   "source": [
    "## Displaying molecular formulas in an RDKit molecular grid"
   ]
  },
  {
   "cell_type": "markdown",
   "metadata": {},
   "source": [
    "#TODO show using Markdown.\n",
    "Check whether latex also works."
   ]
  },
  {
   "cell_type": "markdown",
   "metadata": {},
   "source": [
    "## Displaying molecular formulas in a table"
   ]
  },
  {
   "cell_type": "markdown",
   "metadata": {},
   "source": [
    "To display molecular formulas in a table, we'll use the Markdown formulas. We select only human-readable columns to display."
   ]
  },
  {
   "cell_type": "code",
   "execution_count": 96,
   "metadata": {},
   "outputs": [
    {
     "data": {
      "text/markdown": [
       "| # | sml | formula_markdown | wt %O | wt %H | wt %C |\n",
       "| --- | --- | --- | --- | --- | --- |\n",
       "| 1 | O=CCC=O | C<sub>3</sub>H<sub>4</sub>O<sub>2</sub> | 44.4028 | 5.5951 | 50.0021 |\n",
       "| 2 | O=CC=O | C<sub>2</sub>H<sub>2</sub>O<sub>2</sub> | 55.1347 | 3.4737 | 41.3916 |\n",
       "| 3 | OCCCO | C<sub>3</sub>H<sub>8</sub>O<sub>2</sub> | 42.0501 | 10.5973 | 47.3527 |\n",
       "| 4 | OCCO | C<sub>2</sub>H<sub>6</sub>O<sub>2</sub> | 51.5531 | 9.7442 | 38.7027 |\n",
       "| 5 | OCO | CH<sub>4</sub>O<sub>2</sub> | 66.6056 | 8.3928 | 25.0016 |\n"
      ],
      "text/plain": [
       "<IPython.core.display.Markdown object>"
      ]
     },
     "metadata": {},
     "output_type": "display_data"
    }
   ],
   "source": [
    "df_display = df.select([\n",
    "    col for col in df.columns\n",
    "    if col.startswith(\"wt\") or col in [\"sml\", \"formula_markdown\"]\n",
    "])\n",
    "table = dict_list_to_markdown_table(\n",
    "    df_display.rows(named=True),\n",
    "    number_rows=True)\n",
    "display(Markdown(table))"
   ]
  },
  {
   "cell_type": "markdown",
   "metadata": {},
   "source": [
    "This table tells us what weight percentages to expect for an elemental analysis of these compounds."
   ]
  },
  {
   "cell_type": "markdown",
   "metadata": {},
   "source": [
    "## Displaying molecular formulas in a graph"
   ]
  },
  {
   "cell_type": "markdown",
   "metadata": {},
   "source": [
    "It's easier to create a graph from a Pandas dataframe, so we extract the data from Polars as lists and read them into Pandas. We're going to use LaTeX to display the molecular formulas in the graph, so that's the formula column we bring over."
   ]
  },
  {
   "cell_type": "code",
   "execution_count": 97,
   "metadata": {},
   "outputs": [],
   "source": [
    "sml_list = df[\"sml\"].to_list()\n",
    "formula_latex_list = df[\"formula_latex\"].to_list()\n",
    "wt_O_list = df[\"wt %O\"].to_list()\n",
    "wt_H_list = df[\"wt %H\"].to_list()\n",
    "wt_C_list = df[\"wt %C\"].to_list()"
   ]
  },
  {
   "cell_type": "code",
   "execution_count": 98,
   "metadata": {},
   "outputs": [
    {
     "data": {
      "text/html": [
       "<div>\n",
       "<style scoped>\n",
       "    .dataframe tbody tr th:only-of-type {\n",
       "        vertical-align: middle;\n",
       "    }\n",
       "\n",
       "    .dataframe tbody tr th {\n",
       "        vertical-align: top;\n",
       "    }\n",
       "\n",
       "    .dataframe thead th {\n",
       "        text-align: right;\n",
       "    }\n",
       "</style>\n",
       "<table border=\"1\" class=\"dataframe\">\n",
       "  <thead>\n",
       "    <tr style=\"text-align: right;\">\n",
       "      <th></th>\n",
       "      <th>sml</th>\n",
       "      <th>Molecule</th>\n",
       "      <th>O</th>\n",
       "      <th>H</th>\n",
       "      <th>C</th>\n",
       "    </tr>\n",
       "  </thead>\n",
       "  <tbody>\n",
       "    <tr>\n",
       "      <th>0</th>\n",
       "      <td>O=CCC=O</td>\n",
       "      <td>$\\mathrm{ C_{ 3}H_{ 4}O_{ 2}}$</td>\n",
       "      <td>44.4028</td>\n",
       "      <td>5.5951</td>\n",
       "      <td>50.0021</td>\n",
       "    </tr>\n",
       "    <tr>\n",
       "      <th>1</th>\n",
       "      <td>O=CC=O</td>\n",
       "      <td>$\\mathrm{ C_{ 2}H_{ 2}O_{ 2}}$</td>\n",
       "      <td>55.1347</td>\n",
       "      <td>3.4737</td>\n",
       "      <td>41.3916</td>\n",
       "    </tr>\n",
       "    <tr>\n",
       "      <th>2</th>\n",
       "      <td>OCCCO</td>\n",
       "      <td>$\\mathrm{ C_{ 3}H_{ 8}O_{ 2}}$</td>\n",
       "      <td>42.0501</td>\n",
       "      <td>10.5973</td>\n",
       "      <td>47.3527</td>\n",
       "    </tr>\n",
       "    <tr>\n",
       "      <th>3</th>\n",
       "      <td>OCCO</td>\n",
       "      <td>$\\mathrm{ C_{ 2}H_{ 6}O_{ 2}}$</td>\n",
       "      <td>51.5531</td>\n",
       "      <td>9.7442</td>\n",
       "      <td>38.7027</td>\n",
       "    </tr>\n",
       "    <tr>\n",
       "      <th>4</th>\n",
       "      <td>OCO</td>\n",
       "      <td>$\\mathrm{ CH_{ 4}O_{ 2}}$</td>\n",
       "      <td>66.6056</td>\n",
       "      <td>8.3928</td>\n",
       "      <td>25.0016</td>\n",
       "    </tr>\n",
       "  </tbody>\n",
       "</table>\n",
       "</div>"
      ],
      "text/plain": [
       "       sml                        Molecule        O        H        C\n",
       "0  O=CCC=O  $\\mathrm{ C_{ 3}H_{ 4}O_{ 2}}$  44.4028   5.5951  50.0021\n",
       "1   O=CC=O  $\\mathrm{ C_{ 2}H_{ 2}O_{ 2}}$  55.1347   3.4737  41.3916\n",
       "2    OCCCO  $\\mathrm{ C_{ 3}H_{ 8}O_{ 2}}$  42.0501  10.5973  47.3527\n",
       "3     OCCO  $\\mathrm{ C_{ 2}H_{ 6}O_{ 2}}$  51.5531   9.7442  38.7027\n",
       "4      OCO       $\\mathrm{ CH_{ 4}O_{ 2}}$  66.6056   8.3928  25.0016"
      ]
     },
     "execution_count": 98,
     "metadata": {},
     "output_type": "execute_result"
    }
   ],
   "source": [
    "df_pandas_all = pd.DataFrame({\n",
    "    'sml': sml_list,\n",
    "    'Molecule': formula_latex_list,\n",
    "    'O': wt_O_list,\n",
    "    'H': wt_H_list,\n",
    "    'C': wt_C_list,\n",
    "})\n",
    "df_pandas_all"
   ]
  },
  {
   "cell_type": "markdown",
   "metadata": {},
   "source": [
    "Now, to plot the data, we need to \"melt\" or \"explode\" the data by making a row out of each element's weight percent column."
   ]
  },
  {
   "cell_type": "code",
   "execution_count": 99,
   "metadata": {},
   "outputs": [
    {
     "data": {
      "text/html": [
       "<div>\n",
       "<style scoped>\n",
       "    .dataframe tbody tr th:only-of-type {\n",
       "        vertical-align: middle;\n",
       "    }\n",
       "\n",
       "    .dataframe tbody tr th {\n",
       "        vertical-align: top;\n",
       "    }\n",
       "\n",
       "    .dataframe thead th {\n",
       "        text-align: right;\n",
       "    }\n",
       "</style>\n",
       "<table border=\"1\" class=\"dataframe\">\n",
       "  <thead>\n",
       "    <tr style=\"text-align: right;\">\n",
       "      <th></th>\n",
       "      <th>Molecule</th>\n",
       "      <th>sml</th>\n",
       "      <th>Element</th>\n",
       "      <th>weight %</th>\n",
       "    </tr>\n",
       "  </thead>\n",
       "  <tbody>\n",
       "    <tr>\n",
       "      <th>0</th>\n",
       "      <td>$\\mathrm{ C_{ 3}H_{ 4}O_{ 2}}$</td>\n",
       "      <td>O=CCC=O</td>\n",
       "      <td>O</td>\n",
       "      <td>44.4028</td>\n",
       "    </tr>\n",
       "    <tr>\n",
       "      <th>1</th>\n",
       "      <td>$\\mathrm{ C_{ 2}H_{ 2}O_{ 2}}$</td>\n",
       "      <td>O=CC=O</td>\n",
       "      <td>O</td>\n",
       "      <td>55.1347</td>\n",
       "    </tr>\n",
       "    <tr>\n",
       "      <th>2</th>\n",
       "      <td>$\\mathrm{ C_{ 3}H_{ 8}O_{ 2}}$</td>\n",
       "      <td>OCCCO</td>\n",
       "      <td>O</td>\n",
       "      <td>42.0501</td>\n",
       "    </tr>\n",
       "    <tr>\n",
       "      <th>3</th>\n",
       "      <td>$\\mathrm{ C_{ 2}H_{ 6}O_{ 2}}$</td>\n",
       "      <td>OCCO</td>\n",
       "      <td>O</td>\n",
       "      <td>51.5531</td>\n",
       "    </tr>\n",
       "    <tr>\n",
       "      <th>4</th>\n",
       "      <td>$\\mathrm{ CH_{ 4}O_{ 2}}$</td>\n",
       "      <td>OCO</td>\n",
       "      <td>O</td>\n",
       "      <td>66.6056</td>\n",
       "    </tr>\n",
       "    <tr>\n",
       "      <th>5</th>\n",
       "      <td>$\\mathrm{ C_{ 3}H_{ 4}O_{ 2}}$</td>\n",
       "      <td>O=CCC=O</td>\n",
       "      <td>H</td>\n",
       "      <td>5.5951</td>\n",
       "    </tr>\n",
       "    <tr>\n",
       "      <th>6</th>\n",
       "      <td>$\\mathrm{ C_{ 2}H_{ 2}O_{ 2}}$</td>\n",
       "      <td>O=CC=O</td>\n",
       "      <td>H</td>\n",
       "      <td>3.4737</td>\n",
       "    </tr>\n",
       "    <tr>\n",
       "      <th>7</th>\n",
       "      <td>$\\mathrm{ C_{ 3}H_{ 8}O_{ 2}}$</td>\n",
       "      <td>OCCCO</td>\n",
       "      <td>H</td>\n",
       "      <td>10.5973</td>\n",
       "    </tr>\n",
       "    <tr>\n",
       "      <th>8</th>\n",
       "      <td>$\\mathrm{ C_{ 2}H_{ 6}O_{ 2}}$</td>\n",
       "      <td>OCCO</td>\n",
       "      <td>H</td>\n",
       "      <td>9.7442</td>\n",
       "    </tr>\n",
       "    <tr>\n",
       "      <th>9</th>\n",
       "      <td>$\\mathrm{ CH_{ 4}O_{ 2}}$</td>\n",
       "      <td>OCO</td>\n",
       "      <td>H</td>\n",
       "      <td>8.3928</td>\n",
       "    </tr>\n",
       "    <tr>\n",
       "      <th>10</th>\n",
       "      <td>$\\mathrm{ C_{ 3}H_{ 4}O_{ 2}}$</td>\n",
       "      <td>O=CCC=O</td>\n",
       "      <td>C</td>\n",
       "      <td>50.0021</td>\n",
       "    </tr>\n",
       "    <tr>\n",
       "      <th>11</th>\n",
       "      <td>$\\mathrm{ C_{ 2}H_{ 2}O_{ 2}}$</td>\n",
       "      <td>O=CC=O</td>\n",
       "      <td>C</td>\n",
       "      <td>41.3916</td>\n",
       "    </tr>\n",
       "    <tr>\n",
       "      <th>12</th>\n",
       "      <td>$\\mathrm{ C_{ 3}H_{ 8}O_{ 2}}$</td>\n",
       "      <td>OCCCO</td>\n",
       "      <td>C</td>\n",
       "      <td>47.3527</td>\n",
       "    </tr>\n",
       "    <tr>\n",
       "      <th>13</th>\n",
       "      <td>$\\mathrm{ C_{ 2}H_{ 6}O_{ 2}}$</td>\n",
       "      <td>OCCO</td>\n",
       "      <td>C</td>\n",
       "      <td>38.7027</td>\n",
       "    </tr>\n",
       "    <tr>\n",
       "      <th>14</th>\n",
       "      <td>$\\mathrm{ CH_{ 4}O_{ 2}}$</td>\n",
       "      <td>OCO</td>\n",
       "      <td>C</td>\n",
       "      <td>25.0016</td>\n",
       "    </tr>\n",
       "  </tbody>\n",
       "</table>\n",
       "</div>"
      ],
      "text/plain": [
       "                          Molecule      sml Element  weight %\n",
       "0   $\\mathrm{ C_{ 3}H_{ 4}O_{ 2}}$  O=CCC=O       O   44.4028\n",
       "1   $\\mathrm{ C_{ 2}H_{ 2}O_{ 2}}$   O=CC=O       O   55.1347\n",
       "2   $\\mathrm{ C_{ 3}H_{ 8}O_{ 2}}$    OCCCO       O   42.0501\n",
       "3   $\\mathrm{ C_{ 2}H_{ 6}O_{ 2}}$     OCCO       O   51.5531\n",
       "4        $\\mathrm{ CH_{ 4}O_{ 2}}$      OCO       O   66.6056\n",
       "5   $\\mathrm{ C_{ 3}H_{ 4}O_{ 2}}$  O=CCC=O       H    5.5951\n",
       "6   $\\mathrm{ C_{ 2}H_{ 2}O_{ 2}}$   O=CC=O       H    3.4737\n",
       "7   $\\mathrm{ C_{ 3}H_{ 8}O_{ 2}}$    OCCCO       H   10.5973\n",
       "8   $\\mathrm{ C_{ 2}H_{ 6}O_{ 2}}$     OCCO       H    9.7442\n",
       "9        $\\mathrm{ CH_{ 4}O_{ 2}}$      OCO       H    8.3928\n",
       "10  $\\mathrm{ C_{ 3}H_{ 4}O_{ 2}}$  O=CCC=O       C   50.0021\n",
       "11  $\\mathrm{ C_{ 2}H_{ 2}O_{ 2}}$   O=CC=O       C   41.3916\n",
       "12  $\\mathrm{ C_{ 3}H_{ 8}O_{ 2}}$    OCCCO       C   47.3527\n",
       "13  $\\mathrm{ C_{ 2}H_{ 6}O_{ 2}}$     OCCO       C   38.7027\n",
       "14       $\\mathrm{ CH_{ 4}O_{ 2}}$      OCO       C   25.0016"
      ]
     },
     "execution_count": 99,
     "metadata": {},
     "output_type": "execute_result"
    }
   ],
   "source": [
    "# Melt the DataFrame for Seaborn\n",
    "df_melted = df_pandas_all.melt(id_vars=['Molecule', 'sml'], var_name='Element', value_name='weight %')\n",
    "df_melted"
   ]
  },
  {
   "cell_type": "markdown",
   "metadata": {},
   "source": [
    "Now we're ready to create the plot. We use "
   ]
  },
  {
   "cell_type": "code",
   "execution_count": 113,
   "metadata": {},
   "outputs": [
    {
     "name": "stderr",
     "output_type": "stream",
     "text": [
      "/Users/jemonat/Projects/bertiewooster.github.io/venv/lib/python3.11/site-packages/seaborn/_oldcore.py:1498: FutureWarning: is_categorical_dtype is deprecated and will be removed in a future version. Use isinstance(dtype, CategoricalDtype) instead\n",
      "  if pd.api.types.is_categorical_dtype(vector):\n",
      "/Users/jemonat/Projects/bertiewooster.github.io/venv/lib/python3.11/site-packages/seaborn/_oldcore.py:1498: FutureWarning: is_categorical_dtype is deprecated and will be removed in a future version. Use isinstance(dtype, CategoricalDtype) instead\n",
      "  if pd.api.types.is_categorical_dtype(vector):\n",
      "/Users/jemonat/Projects/bertiewooster.github.io/venv/lib/python3.11/site-packages/seaborn/_oldcore.py:1498: FutureWarning: is_categorical_dtype is deprecated and will be removed in a future version. Use isinstance(dtype, CategoricalDtype) instead\n",
      "  if pd.api.types.is_categorical_dtype(vector):\n",
      "/Users/jemonat/Projects/bertiewooster.github.io/venv/lib/python3.11/site-packages/seaborn/_oldcore.py:1498: FutureWarning: is_categorical_dtype is deprecated and will be removed in a future version. Use isinstance(dtype, CategoricalDtype) instead\n",
      "  if pd.api.types.is_categorical_dtype(vector):\n"
     ]
    },
    {
     "data": {
      "image/png": "[encoded data removed]",
      "text/plain": [
       "<Figure size 1000x600 with 1 Axes>"
      ]
     },
     "metadata": {},
     "output_type": "display_data"
    }
   ],
   "source": [
    "# Create the column plot\n",
    "sns.set(style=\"whitegrid\")\n",
    "plt.figure(figsize=(10, 6))\n",
    "\n",
    "# Use hue to group by elements (O, H, C)\n",
    "sns.barplot(x=\"Molecule\", y=\"weight %\", hue=\"Element\", data=df_melted, palette=\"Set3\")\n",
    "\n",
    "# Use LaTeX to include a formula in the plot title\n",
    "class_of_molecules = \"$\\mathrm{ C_{ a}H_{ b}O_{ c}}$\"\n",
    "plt.title(\"Weight percent of elements in \" + class_of_molecules + \" molecules\")\n",
    "\n",
    "# xticks gets the x values from the Molecule column, which are LaTeX strings of the molecular formulas\n",
    "plt.xticks()\n",
    "\n",
    "# Add a dashed vertical line between the second and third items\n",
    "plt.axvline(x=1.5, color='black', linestyle='--')\n",
    "\n",
    "# Calculate the y-coordinate for the labels 5% below the maximum value\n",
    "y_max = df_melted['weight %'].max()\n",
    "label_y_pos = 0.95 * y_max\n",
    "\n",
    "# Add labels to the left and right of the dashed vertical line\n",
    "plt.text(0.8, label_y_pos, \"Dialdehydes\", fontsize=12)\n",
    "plt.text(1.7, label_y_pos, \"Diols\", fontsize=12)\n",
    "\n",
    "plt.legend(title=\"Element\")\n",
    "plt.tight_layout()\n",
    "plt.show()"
   ]
  },
  {
   "cell_type": "markdown",
   "metadata": {},
   "source": [
    "#TODO Update to new set of molecules\n",
    "This graph displays the weight percentages we expect for an elemental analysis of these compounds. For example, considering the C1-C3 alcohols (methanol, ethanol, propanol), we can tell that the weight percent of carbon increases with carbon chain length."
   ]
  },
  {
   "cell_type": "markdown",
   "metadata": {},
   "source": [
    "## Conclusion"
   ]
  },
  {
   "cell_type": "markdown",
   "metadata": {},
   "source": [
    "This was an example of how to display molecular formulas in tables and graphs for a straightforward calculation. In the next blog posts, we'll apply these techniques to a more involved cheminformatics problem."
   ]
  }
 ],
 "metadata": {
  "kernelspec": {
   "display_name": "venv",
   "language": "python",
   "name": "python3"
  },
  "language_info": {
   "codemirror_mode": {
    "name": "ipython",
    "version": 3
   },
   "file_extension": ".py",
   "mimetype": "text/x-python",
   "name": "python",
   "nbconvert_exporter": "python",
   "pygments_lexer": "ipython3",
   "version": "3.11.0"
  },
  "orig_nbformat": 4
 },
 "nbformat": 4,
 "nbformat_minor": 2
}
