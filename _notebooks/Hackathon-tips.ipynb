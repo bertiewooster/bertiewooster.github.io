{
 "cells": [
  {
   "cell_type": "markdown",
   "id": "3b4e0419",
   "metadata": {},
   "source": [
    "# Hackathon Tips"
   ]
  },
  {
   "cell_type": "markdown",
   "id": "75dc003d",
   "metadata": {},
   "source": [
    "## [Begin with the end in mind](https://www.franklincovey.com/courses/the-7-habits/habit-2/)"
   ]
  },
  {
   "cell_type": "markdown",
   "id": "77a51199",
   "metadata": {},
   "source": [
    "### Plan the deliverables"
   ]
  },
  {
   "cell_type": "markdown",
   "id": "2f09a2f2",
   "metadata": {},
   "source": [
    "When a team starts a hackathon, it's natural to focus first on how to start: What permissions to set up, what code to write, etc. But it's actually a good idea to think first about what the deliverables will be. For example, for this hackathon it was a two-minute video and a submission form. An effective way to plan a video is with storyboards, that is the still images that provide the flow of the video. So what I would do next hackathon is start by deciding the key assets--project outputs such as graphs. That would give everyone a good starting point:\n",
    "\n",
    "- The software developers would know what they're working towards, for example a graph of infrared absorption intensity against frequency (cm<sup>-1</sup>).\n",
    "- The video creators would know what the storyboards are so they could plan the video. It would probably have alerted the team to the amount of work that needed to go into the video. At least two of us spent most of the second day working on the video."
   ]
  },
  {
   "cell_type": "markdown",
   "id": "cfddee43",
   "metadata": {},
   "source": [
    "### Draft the form ahead of time"
   ]
  },
  {
   "cell_type": "markdown",
   "id": "ffe865d0",
   "metadata": {},
   "source": [
    "Our team ended up submitting the form just minutes before the deadline. Anticipating there might be a last-minute crunch, I drafted in a spreadsheet the form responses--there were \"essay questions\" so a significant amount of text was necessary. \"Preparing for that helped a lot\" according to the project leader who submitted the form."
   ]
  },
  {
   "cell_type": "markdown",
   "id": "40cad921",
   "metadata": {},
   "source": [
    "### Prototype the output"
   ]
  },
  {
   "cell_type": "markdown",
   "id": "304d6c1e",
   "metadata": {},
   "source": [
    "Even before the code is ready, create a way to test the ultimate output of your project. For example, I created a simply Jupyter Notebook which prompted ChemGraph with \"What is the infrared absorption spectrum of water?\" This provided a few benefits:\n",
    "\n",
    "- I ran the prompt and found that the existing code already provided an answer based on other knowledge from the LLM itself. This alerted the team that we might need to tell the LLM not to use its background knowledge, and use the planned new code instead.\n",
    "- The existing code output the steps used, letting the team know what preparatory steps were taken, which could inform where the new code should pick up.\n",
    "- After my pull request was merged, it gave team members a way to check the end-to-end output of the in-progress code.\n",
    "- It provided a starting point for prompt engineering, namely specifying the tools to use: A team member suggested we add \"using ASE and TBLite\" to the end of the prompt."
   ]
  },
  {
   "cell_type": "markdown",
   "id": "30685651",
   "metadata": {},
   "source": [
    "## Set up credentials early"
   ]
  },
  {
   "cell_type": "markdown",
   "id": "24e4b5d4",
   "metadata": {},
   "source": [
    "## Keep track of people and their roles"
   ]
  }
 ],
 "metadata": {
  "language_info": {
   "name": "python"
  }
 },
 "nbformat": 4,
 "nbformat_minor": 5
}
