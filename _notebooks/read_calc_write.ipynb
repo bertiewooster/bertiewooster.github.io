{
 "cells": [
  {
   "cell_type": "code",
   "execution_count": null,
   "id": "61343e5d",
   "metadata": {},
   "outputs": [],
   "source": [
    "with open(\"../data/nagaoka_n6.txt\", \"r\") as file_read:\n",
    "    with open(\"../data/nagaoka_n6_distance.txt\", \"w\") as file_write:\n",
    "        for line in file_read:\n",
    "            _, _, _, x, y, z = line.strip().split()\n",
    "            dist = sum(float(axis)**2 for axis in (x, y, z))**0.5\n",
    "            # Line to write: remove trailing line break,\n",
    "            #   add tab and then dist then line break\n",
    "            write_line = f\"{line[:-1]}\\t{dist}\\n\"\n",
    "            file_write.write(write_line)"
   ]
  }
 ],
 "metadata": {
  "kernelspec": {
   "display_name": "venv",
   "language": "python",
   "name": "python3"
  },
  "language_info": {
   "codemirror_mode": {
    "name": "ipython",
    "version": 3
   },
   "file_extension": ".py",
   "mimetype": "text/x-python",
   "name": "python",
   "nbconvert_exporter": "python",
   "pygments_lexer": "ipython3",
   "version": "3.11.7"
  }
 },
 "nbformat": 4,
 "nbformat_minor": 5
}
