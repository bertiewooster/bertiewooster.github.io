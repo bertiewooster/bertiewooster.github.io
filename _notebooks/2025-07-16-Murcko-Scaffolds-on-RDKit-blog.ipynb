{
 "cells": [
  {
   "cell_type": "markdown",
   "id": "b477ab24",
   "metadata": {},
   "source": [
    "# Murcko Scaffolds Post on the RDKit Blog: An LLM Circle"
   ]
  },
  {
   "cell_type": "markdown",
   "id": "2ae38c36",
   "metadata": {},
   "source": [
    "How I came to write a simple blog post and the effects it had."
   ]
  },
  {
   "cell_type": "markdown",
   "id": "c6c40c8e",
   "metadata": {},
   "source": [
    "## An LLM Chat Plants the Seed"
   ]
  },
  {
   "cell_type": "markdown",
   "id": "15261c35",
   "metadata": {},
   "source": [
    "To come up with small projects to do in preparation for job interviews ([contact me](https://www.linkedin.com/in/jemonat/) if you need a cheminformatics or scientific software developer!), I interactively asked ChatGPT for suggestions. It suggested\n",
    "\n",
    "> **Cheminformatics-Flavored Algorithm Problem**\n",
    "> A classic coding challenge but wrapped in a domain-relevant context.\n",
    ">\n",
    "> Example Prompt:\n",
    ">\n",
    "> \"You are given a list of SMILES strings. Write a function that identifies and counts the number of unique scaffolds using the Bemis-Murcko scaffold definition. Use RDKit.\""
   ]
  },
  {
   "cell_type": "markdown",
   "id": "9d6e86f3",
   "metadata": {},
   "source": [
    "## The Murcko Scaffolds Blog Post"
   ]
  },
  {
   "cell_type": "markdown",
   "id": "75e0a930",
   "metadata": {},
   "source": [
    "I wrote code to find the Murcko scaffold for a set of molecules, then determine the count of unique scaffolds. That answered the ChapGPT challenge.\n",
    "\n",
    "But as usual, I wanted to visualize the results. So I grouped the molecules by scaffold, then used [`MolsMatrixToGridImage`](https://greglandrum.github.io/rdkit-blog/posts/2023-10-25-molsmatrixtogridimage.html) (which I contributed to the RDKit) to display each scaffold as a row with its molecules to the right.\n",
    "\n",
    "I contributed the [Murcko Scaffolds Tutorial](https://greglandrum.github.io/rdkit-blog/posts/2025-06-06-murcko-scaffolds.html) post to the RDKit blog. Thanks to Greg Landrum for publishing the post on that blog!"
   ]
  },
  {
   "cell_type": "markdown",
   "id": "1aa9608b",
   "metadata": {},
   "source": [
    "![Molecular grid displaying each of three Murcko scaffolds as a row, with 1-3 molecules to the right of that scaffold](../images/murcko_scaffold_matrix.png)"
   ]
  },
  {
   "cell_type": "markdown",
   "id": "b1bbc9f1",
   "metadata": {},
   "source": [
    "## Another LLM Tool is Applied to Reproduce My Visualization"
   ]
  },
  {
   "cell_type": "markdown",
   "id": "68475fb5",
   "metadata": {},
   "source": [
    "A couple weeks later, I saw a [LinkedIn post about an RDKit model context protocol (MCP) server](https://www.linkedin.com/feed/update/urn:li:activity:7343304678215970816/) whose molecular visualization looked awfully familiar: A row for each scaffold with its molecules to the right. The authors indeed used my blog post as a test case of their RDKit Copilot!"
   ]
  },
  {
   "cell_type": "markdown",
   "id": "3aa5e1ac",
   "metadata": {},
   "source": [
    "## Put Things Out Into the World, No Matter How Simple"
   ]
  },
  {
   "cell_type": "markdown",
   "id": "a52cb86a",
   "metadata": {},
   "source": [
    "I love that my simple code and visualization was an inspiration for others to test their new tool. It shows that you never know what effect it will have when you put something out into the world: Someone else may take it in a direction you never expected."
   ]
  },
  {
   "cell_type": "markdown",
   "id": "89f2fc95",
   "metadata": {},
   "source": [
    "It also confirms what I've found in other ways: Simple ideas make good blog posts. It's easy to think that you have to do something very complex to make a contribution: People have asked me if they need to come up with very advanced ideas for blog posts. But as I've written in [How to Write Cheminformatics Blog Posts]({% post_url 2024-11-21-Cheminformatics-Blogging-How-To %}), coming up with ideas can be as simple as going through a tutorial and building on it. In fact, actually I've found via Google Search Console that my very first blog post, [Find and Highlight the Maximum Common Substructure Between a Set of Molecules Using RDKit]({% post_url 2022-10-09-RDKit-find-and-highlight-the-maximum-common-substructure-between-molecules %}) is the most visited from searches. Presumably this is because many people want to accomplish the simple task of finding a maximum common substructure.\n",
    "\n",
    "So no matter how simple the idea, if you learn something by coding it, others probably will too, so go ahead and blog about it."
   ]
  },
  {
   "cell_type": "markdown",
   "id": "b5bee3d1",
   "metadata": {},
   "source": [
    "If your inspiration leads you to blog about something involved like [tautomers]({% post_url 2024-05-01-Tautomer-Sources-Comparison %}), that's fine too! Just don't think you should reject an idea because it's too simple."
   ]
  }
 ],
 "metadata": {
  "language_info": {
   "name": "python"
  }
 },
 "nbformat": 4,
 "nbformat_minor": 5
}
