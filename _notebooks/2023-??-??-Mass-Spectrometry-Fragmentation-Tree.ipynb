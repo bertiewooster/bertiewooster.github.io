{
 "cells": [
  {
   "cell_type": "code",
   "execution_count": 321,
   "metadata": {},
   "outputs": [
    {
     "data": {
      "image/png": "[encoded data removed]",
      "text/plain": [
       "<rdkit.Chem.rdchem.Mol at 0x16cca7a00>"
      ]
     },
     "execution_count": 321,
     "metadata": {},
     "output_type": "execute_result"
    }
   ],
   "source": [
    "from rdkit import Chem\n",
    "from rdkit.Chem import Draw\n",
    "from rdkit.Chem import Descriptors\n",
    "\n",
    "molecule = Chem.MolFromSmiles(\"c1ccccc1\")\n",
    "# molecule = Chem.MolFromSmiles(\"[cH-]1cccc1\")\n",
    "\n",
    "for atom in molecule.GetAtoms():\n",
    "    # atom.SetProp(\"atomNote\", str(atom.GetIdx())) # Can set atomNote to put atom index off to the side, but too small to read\n",
    "    atom.SetProp(\"molAtomMapNumber\", str(atom.GetIdx()))\n",
    "\n",
    "molecule"
   ]
  },
  {
   "cell_type": "code",
   "execution_count": 322,
   "metadata": {},
   "outputs": [],
   "source": [
    "# Utilities\n",
    "def flatten_twoD_list(twoD_list: list[list]) -> list:\n",
    "    flat_list = []\n",
    "    for row in twoD_list:\n",
    "        for item in row:\n",
    "            flat_list += [item]\n",
    "    return flat_list\n",
    "\n",
    "def longest_row(twoD_list: list[list]) -> int:\n",
    "    return max(len(row) for row in twoD_list)\n",
    "\n",
    "def get_fraction(num, denom):\n",
    "    if denom:\n",
    "        return num / denom\n",
    "    else:\n",
    "        return 0\n",
    "        # return None"
   ]
  },
  {
   "cell_type": "code",
   "execution_count": 323,
   "metadata": {},
   "outputs": [],
   "source": [
    "\n",
    "def concat_grids_horizontally(grid1:list[list[str]], grid2:list[list[str]]) -> list[list[str]]:\n",
    "    \"\"\"Concatenate two nested lists horizontally, for example\n",
    "    inputs [['a'],['b'],['c']] and [['d'], ['e'], ['f']] \n",
    "    produce [['a', 'd'], ['b', 'e'], ['c', 'f']]\n",
    "\n",
    "    :returns: The combined grid, a two-deep nested list of strings\n",
    "    :param grid1: The first grid, a two-deep nested list of strings\n",
    "    :param grid2: The second grid, a two-deep nested list of strings\n",
    "    \"\"\"\n",
    "    if grid1 == [[]]:\n",
    "        combined = grid2\n",
    "    elif grid2 == [[]]:\n",
    "        combined = grid1\n",
    "    else:\n",
    "        combined = []\n",
    "        for row_counter in range(len(grid1)):\n",
    "            combined += [grid1[row_counter] + grid2[row_counter]]\n",
    "    return combined\n",
    "\n",
    "class NonBinTree:\n",
    "    \"\"\"\n",
    "    Nonbinary tree class\n",
    "    Note that this class is not designed to sort nodes as they are added to the tree;\n",
    "    the assumption is that they should be ordered in the order added\n",
    "    Adapted from https://stackoverflow.com/questions/60579330/non-binary-tree-data-structure-in-python#60579464\n",
    "    \"\"\"\n",
    "\n",
    "    def __init__(self, val:str, label=None):\n",
    "        \"\"\"Create a NonBinTree instance\"\"\"\n",
    "        self.val = val\n",
    "        self.label = label\n",
    "        self.nodes = []\n",
    "\n",
    "    def add_node(self, val:str, label=None):\n",
    "        \"\"\"Add a node to the tree and return the new node\"\"\"\n",
    "        self.nodes.append(NonBinTree(val, label))\n",
    "        return self.nodes[-1]\n",
    "\n",
    "    def __repr__(self) -> str:\n",
    "        \"\"\"Print out the tree as a nested list\"\"\"\n",
    "        return f\"NonBinTree({self.val}): {self.nodes}\"\n",
    "\n",
    "    def get_ncols(self) -> int:\n",
    "        \"\"\"Get the number of columns in the tree\"\"\"\n",
    "        self.ncols = 0\n",
    "        if len(self.nodes) > 0:\n",
    "            # If there are nodes under this one, call get_ncols on them recursively\n",
    "            for node in self.nodes:\n",
    "                self.ncols += node.get_ncols()\n",
    "        else:\n",
    "            # If there are no nodes under this one, add 1 for this node\n",
    "            self.ncols += 1\n",
    "        return self.ncols\n",
    "\n",
    "    def get_max_depth(self) -> int:\n",
    "        \"\"\"Get the maximum depth of the tree\"\"\"\n",
    "        max_depth = 0\n",
    "        if len(self.nodes) > 0:\n",
    "            for node in self.nodes:\n",
    "                this_depth = node.get_max_depth()\n",
    "                max_depth = max(this_depth + 1, max_depth)\n",
    "        else:\n",
    "            max_depth = max(1, max_depth)\n",
    "        self.max_depth = max_depth\n",
    "        return self.max_depth\n",
    "\n",
    "    def get_grid(self) -> list[list[str]]:\n",
    "        \"\"\"\n",
    "        Get a two-dimensional grid where\n",
    "        each row is a level in the fragment hierarchy, and\n",
    "        the columns serve to arrange the fragments horizontally\n",
    "        \"\"\"\n",
    "        # Call methods to calculate self.ncols and self.max_depth\n",
    "        self.get_ncols()\n",
    "        self.get_max_depth()\n",
    "\n",
    "        # Create top row: Node value, then the rest of columns are blank (empty strings)\n",
    "        grid = [[self.val] + [\"\"] * (self.ncols - 1)]\n",
    "        grid_label = [[self.label] + [\"\"] * (self.ncols - 1)]\n",
    "\n",
    "        n_nodes = len(self.nodes)\n",
    "\n",
    "        if n_nodes > 0:\n",
    "            nodes_grid = [[]]\n",
    "            nodes_grid_label = [[]]\n",
    "\n",
    "            # Iterate through the chile nodes\n",
    "            for node_counter, node in enumerate(self.nodes):\n",
    "                # Recursively call this function to get the grid for children\n",
    "                node_grid, node_grid_label = node.get_grid()\n",
    "\n",
    "                # Add spacer rows if needed\n",
    "                node_grid_rows = len(node_grid)\n",
    "                rows_padding = self.max_depth - node_grid_rows - 1\n",
    "                for padding in range(rows_padding):\n",
    "                    padding_to_add = [[\"\"] * len(node_grid[0])]\n",
    "                    node_grid += padding_to_add\n",
    "                    node_grid_label += padding_to_add\n",
    "\n",
    "                nodes_grid = concat_grids_horizontally(nodes_grid, node_grid)\n",
    "                nodes_grid_label = concat_grids_horizontally(nodes_grid_label, node_grid_label)\n",
    "\n",
    "            grid += nodes_grid\n",
    "            grid_label += nodes_grid_label\n",
    "\n",
    "        return grid, grid_label"
   ]
  },
  {
   "cell_type": "code",
   "execution_count": 324,
   "metadata": {},
   "outputs": [],
   "source": [
    "def mass_spec_frag_tree(non_bin_tree, ndigits:int or None = 2, addHs:bool=False, verbose:bool=False, **kwargs):\n",
    "    \"\"\"\n",
    "    Draw a mass spectrometry fragmentation tree\n",
    "\n",
    "    :returns: RDKit grid image, and (if verbose=True) fragment tree as 2D (nested) list\n",
    "    :rtype: RDKit grid image, and (if verbose=True) molecules as list[list[mol]], labels as list[list[str]], mass (Daltons) as list[list[float]], m/z (mass-to-charge ratio) as list[list[float]]\n",
    "    :param non_bin_tree: The NonBinTree corresponding to the parent compound\n",
    "    :param ndigits: The number of digits to round mass and m/z (mass-to-charge ratio) values to. Use None to round to integer values, for example 92.\n",
    "    :param addHs: Whether to add (show) hydrogen atoms in the molecular structures; default is False.\n",
    "    :param verbose: Whether to return verbose output; default is False so calling this function will present a grid image automatically\n",
    "    \"\"\"\n",
    "\n",
    "    # Do all processing grids (2D lists)\n",
    "\n",
    "    smiles_grid, labels_grid = non_bin_tree.get_grid()\n",
    "    row_length = longest_row(smiles_grid)\n",
    "\n",
    "    # Convert SMILES into molecules, adding Hs (hydrogen atoms) if requested\n",
    "    mols_raw_grid = [[Chem.MolFromSmiles(smile) for smile in row] for row in smiles_grid]\n",
    "    if addHs:\n",
    "        mols_grid = [[Chem.AddHs(mol_raw) for mol_raw in row] for row in mols_raw_grid]\n",
    "    else:\n",
    "        mols_grid = mols_raw_grid\n",
    "\n",
    "    # Determine masses, charges, and m/z\n",
    "    masses_grid = [[Descriptors.ExactMolWt(mol) for mol in row] for row in mols_grid]\n",
    "    masses_rounded_grid = [[round(mass, ndigits) for mass in row] for row in masses_grid]\n",
    "\n",
    "    charges_grid = [[Chem.GetFormalCharge(mol) for mol in row] for row in mols_grid]\n",
    "    mzs_grid = [[get_fraction(mass, charge) for mass, charge in row] for row in zip(masses_grid, charges_grid)]\n",
    "    mzs_rounded_grid = [[round(mz, ndigits) for mz in row] for row in mzs_grid]\n",
    "\n",
    "    # Create legend for each species:\n",
    "    # <SMILES>: <mass> Da, m/z=<m/z>\n",
    "    # where the last clause is only included if species has a charge\n",
    "    descrs_grid = [[]]\n",
    "    descrs_row = []\n",
    "    for row_index in range(len(mols_grid)):\n",
    "        for col_index in range(len(mols_grid[0])):\n",
    "            descr = labels_grid[row_index][col_index] + \": \" + str(masses_rounded_grid[row_index][col_index]) + \" Da\"\n",
    "            if charges_grid[row_index][col_index] != 0:\n",
    "                descr += \", m/z=\" + str(mzs_rounded_grid[row_index][col_index])\n",
    "            descrs_row += [descr]\n",
    "        descrs_grid += [descrs_row]\n",
    "\n",
    "    # Flatten grids (2D lists) into 1D lists for MolsToGridImage\n",
    "    mols = flatten_twoD_list(mols_grid)\n",
    "    descrs = flatten_twoD_list(descrs_grid)\n",
    "\n",
    "    drawing = Draw.MolsToGridImage(mols, legends=descrs, molsPerRow=row_length, **kwargs)\n",
    "    if verbose:\n",
    "          return drawing, smiles_grid, labels_grid, mols_grid, masses_grid, charges_grid, mzs_grid\n",
    "    else:\n",
    "          return drawing"
   ]
  },
  {
   "cell_type": "code",
   "execution_count": 327,
   "metadata": {},
   "outputs": [
    {
     "data": {
      "text/plain": [
       "[[92.062600256, 0.0],\n",
       " [92.06205167609, 0.0],\n",
       " [77.03857658009, 91.05422664409],\n",
       " [51.022926516089996, 90.04640161209],\n",
       " [0.0, 65.03857658009],\n",
       " [0.0, 39.022926516089996]]"
      ]
     },
     "execution_count": 327,
     "metadata": {},
     "output_type": "execute_result"
    }
   ],
   "source": [
    "# Create mass spectrometry fragmentation tree\n",
    "toluene = NonBinTree(\"Cc1ccccc1\", \"toluene\")\n",
    "toluene_cation = toluene.add_node(\"CC1=C[CH+]=CC=C1\", \"toluene cation\")\n",
    "C6H5_cation = toluene_cation.add_node(\"[C+]1=CC=CC=C1\", \"C6H5+\")\n",
    "C4H3_cation = C6H5_cation.add_node(\"[C+]1=C=CC1\", \"C4H3+\")\n",
    "\n",
    "C7H7_hex_ring_cation = toluene_cation.add_node(\"[CH2+]c1ccccc1\", \"C7H7+\")\n",
    "C7H7_hept_ring_cation = C7H7_hex_ring_cation.add_node(\"[C+]1C=CC=CC=C1\", \"C7H6+\")\n",
    "C5H5_cation = C7H7_hept_ring_cation.add_node(\"[CH+]1C=CC=C1\", \"C5H4+\")\n",
    "C3H3_cation = C5H5_cation.add_node(\"[C+]1=CC1\", \"C3H3+\")\n",
    "\n",
    "# toluene_ms_tree = mass_spec_frag_tree(toluene, None, addHs=True)\n",
    "\n",
    "drawing, smiles_grid, labels_grid, mols_grid, masses_grid, charges_grid, mzs_grid = mass_spec_frag_tree(toluene, None, addHs=True, verbose=True)\n",
    "\n",
    "# drawing\n",
    "# smiles_grid\n",
    "# labels_grid\n",
    "# mols_grid\n",
    "masses_grid"
   ]
  },
  {
   "cell_type": "code",
   "execution_count": 328,
   "metadata": {},
   "outputs": [
    {
     "data": {
      "text/plain": [
       "[[0, 0], [1, 0], [1, 1], [1, 1], [0, 1], [0, 1]]"
      ]
     },
     "execution_count": 328,
     "metadata": {},
     "output_type": "execute_result"
    }
   ],
   "source": [
    "charges_grid"
   ]
  },
  {
   "cell_type": "code",
   "execution_count": 329,
   "metadata": {},
   "outputs": [
    {
     "data": {
      "text/plain": [
       "[[0, 0],\n",
       " [0, 0],\n",
       " [0.8460735917423806, 1.0],\n",
       " [0.5666292667184099, 1.0],\n",
       " [0.0, 0.0],\n",
       " [0.0, 0.0]]"
      ]
     },
     "execution_count": 329,
     "metadata": {},
     "output_type": "execute_result"
    }
   ],
   "source": [
    "mzs_grid"
   ]
  }
 ],
 "metadata": {
  "kernelspec": {
   "display_name": "Python 3",
   "language": "python",
   "name": "python3"
  },
  "language_info": {
   "codemirror_mode": {
    "name": "ipython",
    "version": 3
   },
   "file_extension": ".py",
   "mimetype": "text/x-python",
   "name": "python",
   "nbconvert_exporter": "python",
   "pygments_lexer": "ipython3",
   "version": "3.10.4"
  },
  "orig_nbformat": 4,
  "vscode": {
   "interpreter": {
    "hash": "f8b9e48fa26c0cee807577a4309d1f208b4f08c0094fff1e9a87a3043a77ce60"
   }
  }
 },
 "nbformat": 4,
 "nbformat_minor": 2
}
