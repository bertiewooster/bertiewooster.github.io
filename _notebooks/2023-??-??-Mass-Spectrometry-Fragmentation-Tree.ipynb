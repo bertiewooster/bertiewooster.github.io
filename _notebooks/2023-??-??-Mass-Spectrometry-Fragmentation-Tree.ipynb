{
 "cells": [
  {
   "cell_type": "code",
   "execution_count": 375,
   "metadata": {},
   "outputs": [
    {
     "data": {
      "image/png": "[encoded data removed]",
      "text/plain": [
       "<rdkit.Chem.rdchem.Mol at 0x168a305f0>"
      ]
     },
     "execution_count": 375,
     "metadata": {},
     "output_type": "execute_result"
    }
   ],
   "source": [
    "from rdkit import Chem\n",
    "from rdkit.Chem import Draw\n",
    "from rdkit.Chem import Descriptors\n",
    "\n",
    "molecule = Chem.MolFromSmiles(\"c1ccccc1\")\n",
    "# molecule = Chem.MolFromSmiles(\"[cH-]1cccc1\")\n",
    "\n",
    "for atom in molecule.GetAtoms():\n",
    "    # atom.SetProp(\"atomNote\", str(atom.GetIdx())) # Can set atomNote to put atom index off to the side, but too small to read\n",
    "    atom.SetProp(\"molAtomMapNumber\", str(atom.GetIdx()))\n",
    "\n",
    "molecule"
   ]
  },
  {
   "cell_type": "code",
   "execution_count": 376,
   "metadata": {},
   "outputs": [
    {
     "data": {
      "image/png": "[encoded data removed]",
      "text/plain": [
       "<rdkit.Chem.rdchem.Mol at 0x168a307b0>"
      ]
     },
     "execution_count": 376,
     "metadata": {},
     "output_type": "execute_result"
    }
   ],
   "source": [
    "ion = Chem.MolFromSmiles(\"[C+]1C=CC=CC=C1\")\n",
    "\n",
    "for atom in ion.GetAtoms():\n",
    "    # atom.SetProp(\"atomNote\", str(atom.GetIdx())) # Can set atomNote to put atom index off to the side, but too small to read\n",
    "    atom.SetProp(\"molAtomMapNumber\", str(atom.GetIdx()))\n",
    "\n",
    "ion"
   ]
  },
  {
   "cell_type": "code",
   "execution_count": 377,
   "metadata": {},
   "outputs": [],
   "source": [
    "charge = Chem.GetFormalCharge(ion)"
   ]
  },
  {
   "cell_type": "code",
   "execution_count": 378,
   "metadata": {},
   "outputs": [
    {
     "data": {
      "text/plain": [
       "90.12499999999999"
      ]
     },
     "execution_count": 378,
     "metadata": {},
     "output_type": "execute_result"
    }
   ],
   "source": [
    "mol_weight = Descriptors.MolWt(ion)\n",
    "mol_weight"
   ]
  },
  {
   "cell_type": "code",
   "execution_count": 379,
   "metadata": {},
   "outputs": [
    {
     "data": {
      "text/plain": [
       "90.04640161209"
      ]
     },
     "execution_count": 379,
     "metadata": {},
     "output_type": "execute_result"
    }
   ],
   "source": [
    "Descriptors.ExactMolWt(ion)"
   ]
  },
  {
   "cell_type": "code",
   "execution_count": 380,
   "metadata": {},
   "outputs": [
    {
     "data": {
      "text/plain": [
       "90.12499999999999"
      ]
     },
     "execution_count": 380,
     "metadata": {},
     "output_type": "execute_result"
    }
   ],
   "source": [
    "mcr = mol_weight / charge\n",
    "mcr"
   ]
  },
  {
   "cell_type": "code",
   "execution_count": 381,
   "metadata": {},
   "outputs": [],
   "source": [
    "def get_fraction(num, denom):\n",
    "    if denom:\n",
    "        return num / denom\n",
    "    else:\n",
    "        return None"
   ]
  },
  {
   "cell_type": "code",
   "execution_count": 382,
   "metadata": {},
   "outputs": [
    {
     "data": {
      "text/plain": [
       "90.12499999999999"
      ]
     },
     "execution_count": 382,
     "metadata": {},
     "output_type": "execute_result"
    }
   ],
   "source": [
    "get_fraction(mol_weight, charge)"
   ]
  },
  {
   "cell_type": "code",
   "execution_count": 383,
   "metadata": {},
   "outputs": [],
   "source": [
    "get_fraction(Descriptors.MolWt(molecule), Chem.GetFormalCharge(molecule))"
   ]
  },
  {
   "cell_type": "code",
   "execution_count": 384,
   "metadata": {},
   "outputs": [],
   "source": [
    "def mass_spec_frag_tree(non_bin_tree, verbose=False, **kwargs):\n",
    "    \"\"\"\n",
    "    Draw a mass spectrometry fragmentation tree\n",
    "\n",
    "    :returns: RDKit grid image, and (if verbose=True) fragment tree as 2D (nested) list\n",
    "    :rtype: RDKit grid image, and (if verbose=True) molecules as list[list[mol]], labels as list[list[str]], mass (Daltons) as list[list[float]], m/z (mass-to-charge ratio) as list[list[float]]\n",
    "    :param non_bin_tree: The NonBinTree corresponding to the parent compound\n",
    "    :param verbose: Whether to return verbose output; default is False so calling this function will present a grid image automatically\n",
    "    \"\"\"\n",
    "    smiles_grid, label_grid = non_bin_tree.get_grid()\n",
    "    # molecule = Chem.MolFromSmiles(smiles)\n",
    "    # RecapHierarchy = Recap.RecapDecompose(molecule)\n",
    "    # root = NonBinTree(RecapHierarchy.smiles)\n",
    "    # molecule_nonbinary_tree = get_children(RecapHierarchy, root)\n",
    "    # fragment_grid = molecule_nonbinary_tree.get_grid()\n",
    "    # mols_per_row = len(fragment_grid[0])\n",
    "    # recap_plot = [item for sublist in fragment_grid for item in sublist]\n",
    "    # recap_labels = [item for sublist in fragment_grid for item in sublist]\n",
    "    # if name:\n",
    "    #     recap_labels[0] = name\n",
    "    drawing = Draw.MolsToGridImage([Chem.MolFromSmiles(smile) for smile in recap_plot], legends=recap_labels, molsPerRow=mols_per_row, **kwargs)\n",
    "    # if verbose:\n",
    "    #       return drawing, molecule, RecapHierarchy, molecule_nonbinary_tree, fragment_grid\n",
    "    # else:\n",
    "    #       return drawing"
   ]
  },
  {
   "cell_type": "code",
   "execution_count": 385,
   "metadata": {},
   "outputs": [],
   "source": [
    "def concat_grids_horizontally(grid1:list[list[str]], grid2:list[list[str]]) -> list[list[str]]:\n",
    "    \"\"\"Concatenate two nested lists horizontally, for example\n",
    "    inputs [['a'],['b'],['c']] and [['d'], ['e'], ['f']] \n",
    "    produce [['a', 'd'], ['b', 'e'], ['c', 'f']]\n",
    "\n",
    "    :returns: The combined grid, a two-deep nested list of strings\n",
    "    :param grid1: The first grid, a two-deep nested list of strings\n",
    "    :param grid2: The second grid, a two-deep nested list of strings\n",
    "    \"\"\"\n",
    "    if grid1 == [[]]:\n",
    "        combined = grid2\n",
    "    elif grid2 == [[]]:\n",
    "        combined = grid1\n",
    "    else:\n",
    "        combined = []\n",
    "        for row_counter in range(len(grid1)):\n",
    "            combined += [grid1[row_counter] + grid2[row_counter]]\n",
    "    return combined\n",
    "\n",
    "class NonBinTree:\n",
    "    \"\"\"\n",
    "    Nonbinary tree class\n",
    "    Note that this class is not designed to sort nodes as they are added to the tree;\n",
    "    the assumption is that they should be ordered in the order added\n",
    "    Adapted from https://stackoverflow.com/questions/60579330/non-binary-tree-data-structure-in-python#60579464\n",
    "    \"\"\"\n",
    "\n",
    "    def __init__(self, val:str, label=None):\n",
    "        \"\"\"Create a NonBinTree instance\"\"\"\n",
    "        self.val = val\n",
    "        self.label = label\n",
    "        self.nodes = []\n",
    "\n",
    "    def add_node(self, val:str, label=None):\n",
    "        \"\"\"Add a node to the tree and return the new node\"\"\"\n",
    "        self.nodes.append(NonBinTree(val, label))\n",
    "        return self.nodes[-1]\n",
    "\n",
    "    def __repr__(self) -> str:\n",
    "        \"\"\"Print out the tree as a nested list\"\"\"\n",
    "        return f\"NonBinTree({self.val}): {self.nodes}\"\n",
    "\n",
    "    def get_ncols(self) -> int:\n",
    "        \"\"\"Get the number of columns in the tree\"\"\"\n",
    "        self.ncols = 0\n",
    "        if len(self.nodes) > 0:\n",
    "            # If there are nodes under this one, call get_ncols on them recursively\n",
    "            for node in self.nodes:\n",
    "                self.ncols += node.get_ncols()\n",
    "        else:\n",
    "            # If there are no nodes under this one, add 1 for this node\n",
    "            self.ncols += 1\n",
    "        return self.ncols\n",
    "\n",
    "    def get_max_depth(self) -> int:\n",
    "        \"\"\"Get the maximum depth of the tree\"\"\"\n",
    "        max_depth = 0\n",
    "        if len(self.nodes) > 0:\n",
    "            for node in self.nodes:\n",
    "                this_depth = node.get_max_depth()\n",
    "                max_depth = max(this_depth + 1, max_depth)\n",
    "        else:\n",
    "            max_depth = max(1, max_depth)\n",
    "        self.max_depth = max_depth\n",
    "        return self.max_depth\n",
    "\n",
    "    def get_grid(self) -> list[list[str]]:\n",
    "        \"\"\"\n",
    "        Get a two-dimensional grid where\n",
    "        each row is a level in the fragment hierarchy, and\n",
    "        the columns serve to arrange the fragments horizontally\n",
    "        \"\"\"\n",
    "        # Call methods to calculate self.ncols and self.max_depth\n",
    "        self.get_ncols()\n",
    "        self.get_max_depth()\n",
    "\n",
    "        # Create top row: Node value, then the rest of columns are blank (empty strings)\n",
    "        grid = [[self.val] + [\"\"] * (self.ncols - 1)]\n",
    "        grid_label = [[self.label] + [\"\"] * (self.ncols - 1)]\n",
    "\n",
    "        n_nodes = len(self.nodes)\n",
    "\n",
    "        if n_nodes > 0:\n",
    "            nodes_grid = [[]]\n",
    "            nodes_grid_label = [[]]\n",
    "\n",
    "            # Iterate through the chile nodes\n",
    "            for node_counter, node in enumerate(self.nodes):\n",
    "                # Recursively call this function to get the grid for children\n",
    "                node_grid, node_grid_label = node.get_grid()\n",
    "\n",
    "                # Add spacer rows if needed\n",
    "                node_grid_rows = len(node_grid)\n",
    "                rows_padding = self.max_depth - node_grid_rows - 1\n",
    "                for padding in range(rows_padding):\n",
    "                    padding_to_add = [[\"\"] * len(node_grid[0])]\n",
    "                    print(f\"{self.label=}\")\n",
    "                    print(f\"{padding_to_add=}\")\n",
    "                    print(f\"{node_grid=}\")\n",
    "                    node_grid += padding_to_add\n",
    "                    node_grid_label += padding_to_add\n",
    "\n",
    "                nodes_grid = concat_grids_horizontally(nodes_grid, node_grid)\n",
    "                nodes_grid_label = concat_grids_horizontally(nodes_grid_label, node_grid_label)\n",
    "\n",
    "            grid += nodes_grid\n",
    "            grid_label += nodes_grid_label\n",
    "\n",
    "        return grid, grid_label"
   ]
  },
  {
   "cell_type": "code",
   "execution_count": 386,
   "metadata": {},
   "outputs": [],
   "source": [
    "# Create mass spectrometry fragmentation tree\n",
    "toluene = NonBinTree(\"Cc1ccccc1\", \"toluene\")\n",
    "toluene_cation = toluene.add_node(\"CC1=C[CH+]=CC=C1\", \"toluene cation\")\n",
    "C6H5_cation = toluene_cation.add_node(\"[C+]1=CC=CC=C1\", \"C6H5+\")\n",
    "C4H3_cation = C6H5_cation.add_node(\"[C+]1=C=CC1\", \"C4H3+\")\n",
    "\n",
    "C7H7_cation = toluene_cation.add_node(\"[C+(H)(H)]c1ccccc1\", \"C7H7+\")\n",
    "C7H6_cation = C7H7_cation.add_node(\"[C+]1C=CC=CC=C1\", \"C7H6+\")\n",
    "C5H4_cation = C7H6_cation.add_node(\"[C+]1C=CC=C1\", \"C5H4+\")\n",
    "C3H3_cation = C5H4_cation.add_node(\"[C+]1=CC1\", \"C3H3+\")\n",
    "\n",
    "# Chem.AddHs(Chem.MolFromSmiles(toluene.val))\n",
    "# toluene.get_grid()\n",
    "# C3H3_cation.get_grid()\n",
    "# toluene\n",
    "# toluene.nodes[0].val"
   ]
  },
  {
   "cell_type": "code",
   "execution_count": 387,
   "metadata": {},
   "outputs": [
    {
     "name": "stderr",
     "output_type": "stream",
     "text": [
      "[17:48:24] SMILES Parse Error: syntax error while parsing: [C+(H)(H)]c1ccccc1\n",
      "[17:48:24] SMILES Parse Error: Failed parsing SMILES '[C+(H)(H)]c1ccccc1' for input: '[C+(H)(H)]c1ccccc1'\n"
     ]
    },
    {
     "ename": "ArgumentError",
     "evalue": "Python argument types in\n    rdkit.Chem.rdmolops.AddHs(NoneType)\ndid not match C++ signature:\n    AddHs(RDKit::ROMol mol, bool explicitOnly=False, bool addCoords=False, boost::python::api::object onlyOnAtoms=None, bool addResidueInfo=False)",
     "output_type": "error",
     "traceback": [
      "\u001b[0;31m---------------------------------------------------------------------------\u001b[0m",
      "\u001b[0;31mArgumentError\u001b[0m                             Traceback (most recent call last)",
      "\u001b[1;32m/Users/jemonat/Projects/bertiewooster.github.io/_notebooks/2023-??-??-Mass-Spectrometry-Fragmentation-Tree.ipynb Cell 13\u001b[0m in \u001b[0;36m<cell line: 1>\u001b[0;34m()\u001b[0m\n\u001b[0;32m----> <a href='vscode-notebook-cell:/Users/jemonat/Projects/bertiewooster.github.io/_notebooks/2023-%3F%3F-%3F%3F-Mass-Spectrometry-Fragmentation-Tree.ipynb#X15sZmlsZQ%3D%3D?line=0'>1</a>\u001b[0m a \u001b[39m=\u001b[39m Chem\u001b[39m.\u001b[39;49mAddHs(Chem\u001b[39m.\u001b[39;49mMolFromSmiles(C7H7_cation\u001b[39m.\u001b[39;49mval))\n\u001b[1;32m      <a href='vscode-notebook-cell:/Users/jemonat/Projects/bertiewooster.github.io/_notebooks/2023-%3F%3F-%3F%3F-Mass-Spectrometry-Fragmentation-Tree.ipynb#X15sZmlsZQ%3D%3D?line=1'>2</a>\u001b[0m a\n",
      "\u001b[0;31mArgumentError\u001b[0m: Python argument types in\n    rdkit.Chem.rdmolops.AddHs(NoneType)\ndid not match C++ signature:\n    AddHs(RDKit::ROMol mol, bool explicitOnly=False, bool addCoords=False, boost::python::api::object onlyOnAtoms=None, bool addResidueInfo=False)"
     ]
    }
   ],
   "source": [
    "a = Chem.AddHs(Chem.MolFromSmiles(C7H7_cation.val))\n",
    "a"
   ]
  },
  {
   "cell_type": "code",
   "execution_count": null,
   "metadata": {},
   "outputs": [
    {
     "data": {
      "text/plain": [
       "51.022926516089996"
      ]
     },
     "execution_count": 372,
     "metadata": {},
     "output_type": "execute_result"
    }
   ],
   "source": [
    "Descriptors.ExactMolWt(a)"
   ]
  },
  {
   "cell_type": "code",
   "execution_count": null,
   "metadata": {},
   "outputs": [
    {
     "data": {
      "image/png": "[encoded data removed]",
      "text/plain": [
       "<rdkit.Chem.rdchem.Mol at 0x168a30660>"
      ]
     },
     "execution_count": 373,
     "metadata": {},
     "output_type": "execute_result"
    }
   ],
   "source": [
    "toluene_anion = \"CC1=C[CH+]=CC=C1\"\n",
    "b = Chem.AddHs(Chem.MolFromSmiles(toluene_anion))\n",
    "b"
   ]
  },
  {
   "cell_type": "code",
   "execution_count": null,
   "metadata": {},
   "outputs": [
    {
     "data": {
      "text/plain": [
       "92.06205167609"
      ]
     },
     "execution_count": 374,
     "metadata": {},
     "output_type": "execute_result"
    }
   ],
   "source": [
    "Descriptors.ExactMolWt(b)"
   ]
  }
 ],
 "metadata": {
  "kernelspec": {
   "display_name": "Python 3",
   "language": "python",
   "name": "python3"
  },
  "language_info": {
   "codemirror_mode": {
    "name": "ipython",
    "version": 3
   },
   "file_extension": ".py",
   "mimetype": "text/x-python",
   "name": "python",
   "nbconvert_exporter": "python",
   "pygments_lexer": "ipython3",
   "version": "3.10.4"
  },
  "orig_nbformat": 4,
  "vscode": {
   "interpreter": {
    "hash": "f8b9e48fa26c0cee807577a4309d1f208b4f08c0094fff1e9a87a3043a77ce60"
   }
  }
 },
 "nbformat": 4,
 "nbformat_minor": 2
}
