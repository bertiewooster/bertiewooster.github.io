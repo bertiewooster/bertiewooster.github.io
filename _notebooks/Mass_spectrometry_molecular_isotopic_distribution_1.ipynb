{
  "cells": [
    {
      "cell_type": "markdown",
      "metadata": {},
      "source": [
        "# Molecular Isotopic Distributions Part 1: Enumerating Isotopic Placements"
      ]
    },
    {
      "cell_type": "markdown",
      "metadata": {},
      "source": [
        "Elements can have several [isotopes](https://en.wikipedia.org/wiki/Isotope), which have the same number of protons and neutrons but different numbers of neutrons. Because a neutron has a mass of approximately 1 amu (atomic mass unit), different isotopes of an element appear at different masses in a mass spectrum as measured by a mass spectrometer.\n",
        "\n",
        "Different elements have different isotopes and different natural abundances, meaning the percent of each isotope that is found in nature. For example, [carbon has two stable isotopes](https://en.wikipedia.org/wiki/Isotopes_of_carbon), <sup>12</sup>C with 98.9% natural abundance and <sup>13</sup>C with 1.06% natural abundance. As another example, [oxygen has three stable isotopes](https://en.wikipedia.org/wiki/Isotopes_of_oxygen), <sup>16</sup>O with 99.8% natural abundance, <sup>17</sup>O with 0.0380% natural abundance, and <sup>18</sup>O with 0.205% natural abundance. The distribution of isotopes thus forms a fingerprint for an element. \n",
        "\n",
        "When atoms combine into molecules, the mass distributions get richer. For example, in the diatomic molecule chlorine Cl<sub>2</sub>, which has two chlorine atoms, there are three possible molecular isotopes:"
      ]
    },
    {
      "cell_type": "code",
      "execution_count": 2,
      "metadata": {
        "colab": {
          "base_uri": "https://localhost:8080/"
        },
        "id": "d4IboaHubzIu",
        "outputId": "32332cde-403c-4ba7-e119-b3cbb09a8d7d"
      },
      "outputs": [],
      "source": [
        "%%capture\n",
        "%!pip install rdkit\n",
        "%!pip install mendeleev"
      ]
    },
    {
      "cell_type": "code",
      "execution_count": 3,
      "metadata": {
        "id": "wRuWV7bBcIht"
      },
      "outputs": [],
      "source": [
        "from collections import defaultdict\n",
        "import hashlib\n",
        "import json\n",
        "\n",
        "from IPython.display import display, Markdown\n",
        "import numpy as np\n",
        "import seaborn as sns\n",
        "import matplotlib.pyplot as plt\n",
        "import polars as pl\n",
        "\n",
        "import mendeleev\n",
        "from rdkit import Chem\n",
        "from rdkit.Chem import Descriptors"
      ]
    },
    {
      "cell_type": "code",
      "execution_count": 4,
      "metadata": {},
      "outputs": [
        {
          "data": {
            "image/png": "[encoded data removed]",
            "text/plain": [
              "<IPython.core.display.Image object>"
            ]
          },
          "execution_count": 4,
          "metadata": {},
          "output_type": "execute_result"
        }
      ],
      "source": [
        "chlorine_smls = [\"[35Cl][35Cl]\", \"[35Cl][37Cl]\", \"[37Cl][37Cl]\"]\n",
        "chlorine_mols = [Chem.MolFromSmiles(sml) for sml in chlorine_smls]\n",
        "chlorine_masses = [Descriptors.ExactMolWt(mol) for mol in chlorine_mols]\n",
        "chlorine_abundances = [0.574564, 0.366872, 0.058564]\n",
        "legends = [f\"{mass:.5f} amu: {abundance:.3f}\" for mass, abundance in zip(chlorine_masses, chlorine_abundances)]\n",
        "legends\n",
        "Chem.Draw.MolsToGridImage(chlorine_mols, legends=legends)"
      ]
    },
    {
      "cell_type": "markdown",
      "metadata": {},
      "source": [
        "The molecule <sup>35</sup>Cl<sup>37</sup>Cl in the middle, with mixed isotopes, represents two possible placements of the isotopes: it is equivalent to <sup>37</sup>Cl<sup>35</sup>Cl because the order of the chlorine atoms is not significant due to symmetry. \n",
        "\n",
        "The code to generate such molecules, masses, abundance, and images will be given in this blog post and the next."
      ]
    },
    {
      "cell_type": "markdown",
      "metadata": {},
      "source": [
        "In part 1, I use the naive method of creating a molecule for each possible arrangement of isotopes ([permutation](https://en.wikipedia.org/wiki/Permutation)) of a molecule. I hazily recalled that I could\n",
        "- enumerate the [combinations](https://en.wikipedia.org/wiki/Combination), where the order of the isotopes over the atoms in a molecule is disregarded, and \n",
        "- calculate the permutations in each combination using the [binomial distribution](https://en.wikipedia.org/wiki/Binomial_distribution) to calculate the number of arrangements of a given number of each isotope ([isotopomer](https://en.wikipedia.org/wiki/Isotopomer)),\n",
        "\n",
        "but I decided to first try the approach that was easier to code. However, I learned that became computationally infeasible for large molecules: for example, assigning isotopes for all permutations of napthlene, C<sub>10</sub>H<sub>8</sub>, where each element has two isotopes and there are thus [2<sup>18</sup> = 262,144 permutations](https://en.wikipedia.org/wiki/Power_of_two#Table_of_values), took 110 seconds. So I used the combinations approach in part 2."
      ]
    },
    {
      "cell_type": "markdown",
      "metadata": {},
      "source": [
        "## Set up"
      ]
    },
    {
      "cell_type": "markdown",
      "metadata": {},
      "source": [
        "We use carbon tetrachloride as the example molecule."
      ]
    },
    {
      "cell_type": "code",
      "execution_count": 5,
      "metadata": {
        "id": "VtUA9zXWxX1E"
      },
      "outputs": [],
      "source": [
        "# Carbon tetrachloride\n",
        "sml = \"ClC(Cl)(Cl)Cl\""
      ]
    },
    {
      "cell_type": "markdown",
      "metadata": {},
      "source": [
        "Because RDKit excludes hydrogen atoms by default, but we want to assign isotopes to any hydrogen atoms that might be in our molecule, we tell RDKit to add hydrogens."
      ]
    },
    {
      "cell_type": "code",
      "execution_count": 6,
      "metadata": {
        "id": "Juw0px-Zb_fM"
      },
      "outputs": [
        {
          "data": {
            "image/png": "[encoded data removed]",
            "text/plain": [
              "<rdkit.Chem.rdchem.Mol at 0x1696209e0>"
            ]
          },
          "execution_count": 6,
          "metadata": {},
          "output_type": "execute_result"
        }
      ],
      "source": [
        "mol = Chem.AddHs(Chem.MolFromSmiles(sml))\n",
        "mol"
      ]
    },
    {
      "cell_type": "markdown",
      "metadata": {},
      "source": [
        "Next we define a `MolecularIsotope` class to store an RDKit molecule along with an abundance. (If we didn't need to store the abundance, we could simply use RDKit mol and extract the exact mass.)"
      ]
    },
    {
      "cell_type": "code",
      "execution_count": 7,
      "metadata": {
        "id": "nJE9ITr1wCJw"
      },
      "outputs": [],
      "source": [
        "class MolecularIsotope():\n",
        "  \"\"\"Store a molecule's isotopic properties.\"\"\"\n",
        "  def __init__(\n",
        "      self,\n",
        "      sml: str,\n",
        "      abundance: float = None):\n",
        "    self.sml = sml\n",
        "    self.abundance = abundance\n",
        "    try:\n",
        "      self.mol = Chem.AddHs(Chem.MolFromSmiles(sml))\n",
        "    except:\n",
        "      self.mol = Chem.AddHs(Chem.MolFromSmiles(sml, sanitize=False))\n",
        "    self.mass = Descriptors.ExactMolWt(self.mol)\n",
        "    \n",
        "  def update(self):\n",
        "    self.mass = Descriptors.ExactMolWt(self.mol)\n",
        "    self.canon_sml = Chem.MolToSmiles(mol)"
      ]
    },
    {
      "cell_type": "markdown",
      "metadata": {},
      "source": [
        "Next we create a utility function to get the set of elements in a molecule."
      ]
    },
    {
      "cell_type": "code",
      "execution_count": 8,
      "metadata": {
        "colab": {
          "base_uri": "https://localhost:8080/"
        },
        "id": "y0pa1z4cqK-m",
        "outputId": "c87e717a-dce5-451f-b360-774caae34e8a"
      },
      "outputs": [],
      "source": [
        "def element_set(molecule: Chem.Mol):\n",
        "    \"\"\"Get the set of elements in an RDKit molecule\n",
        "    For example, ethanol (SMILES CCO, formula C2H5OH)\n",
        "    returns {'C', 'O', 'H'}.\n",
        "\n",
        "    :param molecule: An RDKit molecule\n",
        "    :returns: A set of strings.\n",
        "    \"\"\"\n",
        "    # Check that there is a valid molecule\n",
        "    if molecule:\n",
        "      # Add hydrogen atoms--RDKit excludes them by default\n",
        "      molecule_with_Hs = Chem.AddHs(molecule)\n",
        "      atom_symbols = set(atom.GetSymbol() for atom in molecule_with_Hs.GetAtoms())\n",
        "      return atom_symbols"
      ]
    },
    {
      "cell_type": "code",
      "execution_count": 9,
      "metadata": {},
      "outputs": [
        {
          "data": {
            "text/plain": [
              "{'C', 'Cl'}"
            ]
          },
          "execution_count": 9,
          "metadata": {},
          "output_type": "execute_result"
        }
      ],
      "source": [
        "set_of_elements = element_set(mol)\n",
        "set_of_elements"
      ]
    },
    {
      "cell_type": "markdown",
      "metadata": {},
      "source": [
        "Now we can create a data structure to hold the isotopic abundances of each element in our molecule. The structure is a dictionary where the key is the element symbol and the value is a nested list of [mass number, abundance] pairs. We get the abundances from the [Mendeleev](https://pypi.org/project/mendeleev/) package, filtering to those isotopes whose abundance is not `None` to remove unstable isotopes, trace isotopes, etc."
      ]
    },
    {
      "cell_type": "code",
      "execution_count": 10,
      "metadata": {},
      "outputs": [
        {
          "name": "stdout",
          "output_type": "stream",
          "text": [
            "{'Cl': [[35, 0.758], [37, 0.242]], 'C': [[12, 0.9894], [13, 0.0106]]}\n"
          ]
        }
      ],
      "source": [
        "isotopes = {}\n",
        "for element_symbol in set_of_elements:\n",
        "  element_isotopes = mendeleev.element(element_symbol).isotopes\n",
        "  occurring_isotopes = [[isotope.mass_number, isotope.abundance/100] for isotope in element_isotopes if isotope.abundance != None]\n",
        "  isotopes[element_symbol] = occurring_isotopes\n",
        "print(isotopes)"
      ]
    },
    {
      "cell_type": "markdown",
      "metadata": {},
      "source": [
        "In this approach, the isotope of each atom in the molecule will be set individually, so we'll create an n-dimensional NumPy array where n is the number of atoms. The length of each dimension is the number of isotopes for that atom. Our initial array is empty, and we'll populate it with molecular isotope objects and set the isotopes next."
      ]
    },
    {
      "cell_type": "code",
      "execution_count": 11,
      "metadata": {
        "id": "-mOyFi_oEQdD"
      },
      "outputs": [],
      "source": [
        "# Build iterable of number of isotopes by atom index\n",
        "isotopes_by_atom_index = ()\n",
        "for atom_index, atom in enumerate(mol.GetAtoms()):\n",
        "  atom_symbol = atom.GetSymbol()\n",
        "  isotopes_by_atom_index += (len(isotopes[atom_symbol]),)\n",
        "\n",
        "# Create the empty numpy ndarray with the shape of the number of isotopes for each atom\n",
        "mol_isotopes = np.empty(isotopes_by_atom_index, dtype=object)"
      ]
    },
    {
      "cell_type": "markdown",
      "metadata": {},
      "source": [
        "## Setting the isotope of each atom in each permutation"
      ]
    },
    {
      "cell_type": "markdown",
      "metadata": {},
      "source": [
        "Now we come to the key operation: Setting the isotope of each atom in a molecule, for each permutation.\n",
        "\n",
        "To get a sense of the scale of the operation, let's calculate how many permutations ([isotopologues](https://en.wikipedia.org/wiki/Isotopologue)) we'll have to assign isotopes to."
      ]
    },
    {
      "cell_type": "code",
      "execution_count": 12,
      "metadata": {},
      "outputs": [
        {
          "data": {
            "text/plain": [
              "32"
            ]
          },
          "execution_count": 12,
          "metadata": {},
          "output_type": "execute_result"
        }
      ],
      "source": [
        "mol_isotopes.size"
      ]
    },
    {
      "cell_type": "markdown",
      "metadata": {},
      "source": [
        "In the NumPy array, there is a dimension for each atom (five) in the molecule, and the length of each dimension is the number of isotopes for the element of that atom (two for all elements here, namely C and Cl):"
      ]
    },
    {
      "cell_type": "code",
      "execution_count": 13,
      "metadata": {},
      "outputs": [
        {
          "data": {
            "text/plain": [
              "(2, 2, 2, 2, 2)"
            ]
          },
          "execution_count": 13,
          "metadata": {},
          "output_type": "execute_result"
        }
      ],
      "source": [
        "mol_isotopes.shape"
      ]
    },
    {
      "cell_type": "markdown",
      "metadata": {},
      "source": [
        "The `set_isotopes` function assigns isotopes to all elements in a multi-dimensional ndarray by\n",
        "- recursively traversing down the ndarray until it comes to an individual element, not another (nested) ndarray\n",
        "- inserting the MolecularIsotope object, including its RDKit molecule and the abundance\n",
        "- for each atom,\n",
        "    - assigning the isotope by referring to the `isotopes` array\n",
        "    - assigning its abundance\n",
        "    - calculating the overall abundance as the product of each of the atom's abundances\n",
        "- calling the MolecularIsotope.update() method to set the exact mass"
      ]
    },
    {
      "cell_type": "code",
      "execution_count": 14,
      "metadata": {
        "id": "nx1LuiS4xmcf"
      },
      "outputs": [],
      "source": [
        "def set_isotopes(arr:np.ndarray, sml: str, current_index=()):\n",
        "    # If this is an ndarray, iterate through its elements, recursively calling this function on them\n",
        "    if isinstance(arr, np.ndarray):\n",
        "        for i in range(len(arr)):\n",
        "            arr[i] = set_isotopes(arr=arr[i], current_index=current_index + (i,), sml=sml)\n",
        "        return arr\n",
        "    else:\n",
        "        # For an individual item in the ndarray, create molecule, \n",
        "        # set the isotopes of each of its atoms, and calculate abundance\n",
        "        item = MolecularIsotope(sml=sml)\n",
        "        mol = item.mol\n",
        "        abundance = 1\n",
        "        for atom_index, atom in enumerate(mol.GetAtoms()):\n",
        "          atom_symbol = atom.GetSymbol()\n",
        "          isotope_data_to_use = isotopes[atom_symbol][current_index[atom_index]]\n",
        "          isotope_to_use = isotope_data_to_use[0]\n",
        "          atom.SetIsotope(isotope_to_use)\n",
        "          abundance *= isotope_data_to_use[1]\n",
        "        item.update()\n",
        "        item.abundance = abundance          \n",
        "        return item"
      ]
    },
    {
      "cell_type": "markdown",
      "metadata": {},
      "source": [
        "Let's set the isotope of each atom in the molecule for each permutation."
      ]
    },
    {
      "cell_type": "code",
      "execution_count": 15,
      "metadata": {},
      "outputs": [],
      "source": [
        "# Set the isotopes for each atom in each molecule\n",
        "mol_isotopes = set_isotopes(arr = mol_isotopes, sml = sml, current_index=())"
      ]
    },
    {
      "cell_type": "markdown",
      "metadata": {},
      "source": [
        "## Aggregating isotopomers"
      ]
    },
    {
      "cell_type": "markdown",
      "metadata": {},
      "source": [
        "Because we're creating each permutation, we have to aggregate the isotopomers, analogous to matching up <sup>35</sup>Cl<sup>37</sup>Cl and <sup>37</sup>Cl<sup>35</sup>Cl.\n",
        "\n",
        "It might be tempting to match molecules by mass, but a floating-point value can have some error or uncertainty. In some cases, the mass differences between different species can be quite small (for example less than 0.002 amu if the sum of the [mass numbers](https://en.wikipedia.org/wiki/Mass_number) is the same), so adding a numerical tolerance risks lumping distinct isotopologues together. So it's best to use a non-numerical identifier."
      ]
    },
    {
      "cell_type": "markdown",
      "metadata": {},
      "source": [
        "### Determining composition"
      ]
    },
    {
      "cell_type": "markdown",
      "metadata": {},
      "source": [
        "In this case, we use the composition, which contains isotope labels. In particular, we\n",
        "- use a nested dictionary where the first level key is the element e.g. Cl, and the second level is the isotope:count, for example 35:4 indicates that <sup>35</sup>Cl appears four times in the molecule\n",
        "- convert to [JSON](https://en.wikipedia.org/wiki/JSON), sorting the keys to ensure a consistent order\n",
        "- hash the result using `hash_nested_dict()`, below, to create a single string for comparison."
      ]
    },
    {
      "cell_type": "code",
      "execution_count": 16,
      "metadata": {
        "id": "FLMcvaxfzFY4"
      },
      "outputs": [],
      "source": [
        "def composition(\n",
        "        molecule: Chem.Mol,\n",
        "        isotopes=False):\n",
        "    \"\"\"Get the composition of an RDKit molecule:\n",
        "    Atomic counts, including hydrogen atoms, and any charge.\n",
        "    For example, ethanol (SMILES [13C](H)(H)(H)CO, formula C2H6O) returns:\n",
        "      if isotopes = False (default): {'C': 2, 'O': 1, 'H': 6}.\n",
        "      if isotopes = True: {'C': {13: 1, 0: 1}, 'O': {0: 1}, 'H': {0: 6}}.\n",
        "\n",
        "    :param molecule: The RDKit molecule to analyze\n",
        "    :returns: if isotopes = False (default): a dictionary of element:count entries;\n",
        "              if isotopes = True: a nested dictionary of element:isotope:count entries.\n",
        "    \"\"\"\n",
        "    # Check that there is a valid molecule\n",
        "    if molecule:\n",
        "\n",
        "        # Add hydrogen atoms--RDKit excludes them by default\n",
        "        molecule = Chem.AddHs(molecule)\n",
        "        comp = defaultdict(lambda: 0)\n",
        "\n",
        "        # Get atom counts\n",
        "        for atom in molecule.GetAtoms():\n",
        "            element_symbol = atom.GetSymbol()\n",
        "            # If isotopes not requested, simply count the number of atoms of each element\n",
        "            if not isotopes:\n",
        "                comp[element_symbol] += 1\n",
        "            # If isotopes requested, count the number of each isotope of each element\n",
        "            else:\n",
        "                isotope = atom.GetIsotope()\n",
        "                try:\n",
        "                    comp[element_symbol][isotope] += 1\n",
        "                except:\n",
        "                    comp[element_symbol] = defaultdict(lambda: 0)\n",
        "                    comp[element_symbol][isotope] += 1\n",
        "        return comp"
      ]
    },
    {
      "cell_type": "markdown",
      "metadata": {},
      "source": [
        "As an example composition, we'll calculate it for our original molecule CCl<sub>4</sub>. The isotopes of its atoms are not set, so they have a value of zero by RDKit's convention."
      ]
    },
    {
      "cell_type": "code",
      "execution_count": 17,
      "metadata": {},
      "outputs": [
        {
          "data": {
            "text/plain": [
              "defaultdict(<function __main__.composition.<locals>.<lambda>()>,\n",
              "            {'Cl': defaultdict(<function __main__.composition.<locals>.<lambda>()>,\n",
              "                         {0: 4}),\n",
              "             'C': defaultdict(<function __main__.composition.<locals>.<lambda>()>,\n",
              "                         {0: 1})})"
            ]
          },
          "execution_count": 17,
          "metadata": {},
          "output_type": "execute_result"
        }
      ],
      "source": [
        "composition(mol, isotopes=True)"
      ]
    },
    {
      "cell_type": "markdown",
      "metadata": {},
      "source": [
        "To make it easier to compare isotopic variations, we'll flatten the ndarray (whose dimension count is the number of atoms) using a utility function `flatten_ndarray`."
      ]
    },
    {
      "cell_type": "code",
      "execution_count": 18,
      "metadata": {
        "id": "WCGCdHp3KTj4"
      },
      "outputs": [],
      "source": [
        "def flatten_ndarray(arr):\n",
        "    flat_list = []\n",
        "    for element in arr:\n",
        "        if isinstance(element, np.ndarray):\n",
        "            flat_list.extend(flatten_ndarray(element))\n",
        "        else:\n",
        "            flat_list.append(element)\n",
        "    return flat_list"
      ]
    },
    {
      "cell_type": "code",
      "execution_count": 19,
      "metadata": {
        "id": "z_VNatEYKX08"
      },
      "outputs": [],
      "source": [
        "mol_isotopes_flat = flatten_ndarray(mol_isotopes)\n",
        "mol_isotopes_flat.sort(key=lambda x:x.mass)"
      ]
    },
    {
      "cell_type": "markdown",
      "metadata": {},
      "source": [
        "Here's the composition dictionary for one isotopologue of our molecule:"
      ]
    },
    {
      "cell_type": "code",
      "execution_count": 20,
      "metadata": {},
      "outputs": [
        {
          "data": {
            "text/plain": [
              "defaultdict(<function __main__.composition.<locals>.<lambda>()>,\n",
              "            {'Cl': defaultdict(<function __main__.composition.<locals>.<lambda>()>,\n",
              "                         {35: 4}),\n",
              "             'C': defaultdict(<function __main__.composition.<locals>.<lambda>()>,\n",
              "                         {12: 1})})"
            ]
          },
          "execution_count": 20,
          "metadata": {},
          "output_type": "execute_result"
        }
      ],
      "source": [
        "composition(mol_isotopes_flat[0].mol, isotopes=True)"
      ]
    },
    {
      "cell_type": "markdown",
      "metadata": {},
      "source": [
        "To check if two composition dictionaries are the same, we hash the dictionaries to boil all the dictionary contents down to a single string."
      ]
    },
    {
      "cell_type": "code",
      "execution_count": 21,
      "metadata": {},
      "outputs": [],
      "source": [
        "def hash_nested_dict(d):\n",
        "    # Convert the nested dictionary to a JSON string with sorted keys\n",
        "    json_str = json.dumps(d, sort_keys=True)\n",
        "\n",
        "    # Hash the JSON string using the cryptographic hash function SHA-256\n",
        "    hash_obj = hashlib.sha256()\n",
        "    hash_obj.update(json_str.encode())\n",
        "    return hash_obj.hexdigest()"
      ]
    },
    {
      "cell_type": "markdown",
      "metadata": {},
      "source": [
        "We use functions from previous posts to [create molecular formulas]({% post_url 2023-10-20-Molecular-Formula-Generation %}) and [present the molecular formulas in a Markdown table](({% post_url 2023-10-28-Display-Molecular-Formulas %}))."
      ]
    },
    {
      "cell_type": "code",
      "execution_count": 22,
      "metadata": {},
      "outputs": [],
      "source": [
        "def mol_to_formatted_formula(\n",
        "    mol: Chem.Mol,\n",
        "    isotopes: bool = False,\n",
        ") -> dict[str, str]:\n",
        "    if mol is None:\n",
        "        return \"Invalid molecule\"\n",
        "    comp = composition(mol, isotopes)\n",
        "\n",
        "    formula = {\"markdown\": \"\", \"latex\": \"\"}\n",
        "\n",
        "    if isotopes:\n",
        "        isotopes_dict = defaultdict(lambda: defaultdict(str))\n",
        "        subscripts = defaultdict(lambda: defaultdict(int))\n",
        "        superscripts = defaultdict(list)\n",
        "\n",
        "        for element, counts in comp.items():\n",
        "            for isotope, count in counts.items():\n",
        "                if count > 1:\n",
        "                    subscripts[element][isotope] = count\n",
        "                if isotope != 0:\n",
        "                    superscripts[element].append(isotope)\n",
        "\n",
        "                isotopes_dict[element][isotope] = 1\n",
        "            # Sort the element's isotopes from lowest to highest\n",
        "            superscripts[element].sort()\n",
        "\n",
        "        last_item_is_subscript = False\n",
        "        sorted_element_keys = sorted(isotopes_dict.keys())\n",
        "        for element in sorted_element_keys:\n",
        "            isotope_count_pairs = isotopes_dict[element]\n",
        "            # Sort the element's isotopes from lowest to highest\n",
        "            sorted_isotope_keys = sorted(isotope_count_pairs.keys())\n",
        "            for isotope in sorted_isotope_keys:\n",
        "                if element in superscripts:\n",
        "                    if isotope in superscripts[element]:\n",
        "                        formula[\"markdown\"] += f\"<sup>{isotope}</sup>\"\n",
        "\n",
        "                        # If superscript immediately follows subscript,\n",
        "                        # add a small amount of horizontal space using an empty group {}\n",
        "                        # to prevent them from vertically overlapping\n",
        "                        if last_item_is_subscript:\n",
        "                            formula[\"latex\"] += \"{}\"\n",
        "                        formula[\"latex\"] += \"^{ %d}\" % isotope\n",
        "                        last_item_is_subscript = False\n",
        "                formula[\"markdown\"] += element\n",
        "                formula[\"latex\"] += element\n",
        "                last_item_is_subscript = False\n",
        "                if element in subscripts:\n",
        "                    if isotope in subscripts[element]:\n",
        "                        isotope_count = subscripts[element][isotope]\n",
        "                        formula[\"markdown\"] += f\"<sub>{isotope_count}</sub>\"\n",
        "                        formula[\"latex\"] += \"_{ %d}\" % isotope_count\n",
        "                    last_item_is_subscript = True\n",
        "        # Add beginning and ending dollar signs to LaTeX formula\n",
        "        formula[\"latex\"] = \"$\" + formula[\"latex\"] + \"$\"\n",
        "    else:\n",
        "        # Handling the case when isotopes is False\n",
        "        sorted_element_keys = sorted(comp.keys())\n",
        "\n",
        "        for element in sorted_element_keys:\n",
        "            count = comp[element]\n",
        "            formula[\"markdown\"] += element\n",
        "            formula[\"latex\"] += element\n",
        "            if count > 1:\n",
        "                formula[\"markdown\"] += f\"<sub>{count}</sub>\"\n",
        "                formula[\"latex\"] += \"_{ %d}\" % count\n",
        "        formula[\"latex\"] = \"$\" + formula[\"latex\"] + \"$\"\n",
        "\n",
        "    return formula"
      ]
    },
    {
      "cell_type": "code",
      "execution_count": 23,
      "metadata": {},
      "outputs": [],
      "source": [
        "def dict_list_to_markdown_table(data, number_rows=False):\n",
        "    \"\"\"\n",
        "    Convert a list of dictionaries into a Markdown table.\n",
        "\n",
        "    Args:\n",
        "        data (list): A list of dictionaries, where each dictionary corresponds to a row in the table.\n",
        "        include_row_numbers (bool): Whether to include a row number column.\n",
        "\n",
        "    Returns:\n",
        "        str: The Markdown-formatted table as a string.\n",
        "    \"\"\"\n",
        "    if not data:\n",
        "        return \"\"\n",
        "\n",
        "    # Extract column headers from the keys of the first dictionary\n",
        "    headers = data[0].keys()\n",
        "\n",
        "    # If include_row_numbers is True, add the \"Row #\" column\n",
        "    if number_rows:\n",
        "        headers = [\"#\"] + list(headers)\n",
        "\n",
        "    # Create the table headers\n",
        "    table = \"| \" + \" | \".join(headers) + \" |\\n\"\n",
        "\n",
        "    # Create the title divider line\n",
        "    table += \"|\"\n",
        "    for _ in headers:\n",
        "        table += \" --- |\"\n",
        "    table += \"\\n\"\n",
        "\n",
        "    # Create the table body\n",
        "    for i, row in enumerate(data):\n",
        "        if number_rows:\n",
        "            row_data = [i + 1] + [row.get(header, \"\") for header in headers[1:]]\n",
        "        else:\n",
        "            row_data = [row.get(header, \"\") for header in headers]\n",
        "\n",
        "        table += \"| \" + \" | \".join(map(str, row_data)) + \" |\\n\"\n",
        "\n",
        "    return table\n"
      ]
    },
    {
      "cell_type": "markdown",
      "metadata": {},
      "source": [
        "### Putting isotopomers in a dataframe"
      ]
    },
    {
      "cell_type": "markdown",
      "metadata": {},
      "source": [
        "Now we prepare the data to put into a Polars dataframe. We use Polars because it's easy to aggregate based on matching a value such as composition, and very fast. We extract all properties of the MolecularIsotope, most importantly its abundance. We use `hash_nested_dict()` to prepare the string for comparison for aggregation of isotopomers."
      ]
    },
    {
      "cell_type": "code",
      "execution_count": 24,
      "metadata": {},
      "outputs": [
        {
          "data": {
            "text/markdown": [
              "| # | mass | abundance | composition_hash | mol | formula |\n",
              "| --- | --- | --- | --- | --- | --- |\n",
              "| 1 | 151.87541072 | 0.3266244779209824 | 4c6f83b9736ee84df311fa3259fb0d901def9ad87bea921c68aa7ed7902e2703 | <rdkit.Chem.rdchem.Mol object at 0x1665ec200> | <sup>12</sup>C<sup>35</sup>Cl<sub>4</sub> |\n",
              "| 2 | 152.87876555999998 | 0.0034993121750176 | cdc6c3e1cafb512775ce9a4c3b0c233a2d8e6a892ebc205c0b390c8bdec0d582 | <rdkit.Chem.rdchem.Mol object at 0x1665ec740> | <sup>13</sup>C<sup>35</sup>Cl<sub>4</sub> |\n",
              "| 3 | 153.87246062999998 | 0.1042785272518176 | af9acd632f90c2e2a53510b4ed2dacfa1edc41f6d53544b80feb2676bf570aa0 | <rdkit.Chem.rdchem.Mol object at 0x1665ec270> | <sup>12</sup>C<sup>35</sup>Cl<sub>3</sub><sup>37</sup>Cl |\n",
              "| 4 | 153.87246062999998 | 0.1042785272518176 | af9acd632f90c2e2a53510b4ed2dacfa1edc41f6d53544b80feb2676bf570aa0 | <rdkit.Chem.rdchem.Mol object at 0x1665ec3c0> | <sup>12</sup>C<sup>35</sup>Cl<sub>3</sub><sup>37</sup>Cl |\n",
              "| 5 | 153.87246062999998 | 0.1042785272518176 | af9acd632f90c2e2a53510b4ed2dacfa1edc41f6d53544b80feb2676bf570aa0 | <rdkit.Chem.rdchem.Mol object at 0x1665ec120> | <sup>12</sup>C<sup>35</sup>Cl<sub>3</sub><sup>37</sup>Cl |\n",
              "| 6 | 153.87246062999998 | 0.1042785272518176 | af9acd632f90c2e2a53510b4ed2dacfa1edc41f6d53544b80feb2676bf570aa0 | <rdkit.Chem.rdchem.Mol object at 0x16654f6f0> | <sup>12</sup>C<sup>35</sup>Cl<sub>3</sub><sup>37</sup>Cl |\n",
              "| 7 | 154.87581547 | 0.0011171946521823998 | 5ee727e6796405381715dc5eaaf23aa2885ad99cd8dcd5b15a44cc34a75d87a0 | <rdkit.Chem.rdchem.Mol object at 0x1665ec7b0> | <sup>13</sup>C<sup>35</sup>Cl<sub>3</sub><sup>37</sup>Cl |\n",
              "| 8 | 154.87581547 | 0.0011171946521823998 | 5ee727e6796405381715dc5eaaf23aa2885ad99cd8dcd5b15a44cc34a75d87a0 | <rdkit.Chem.rdchem.Mol object at 0x1665ec4a0> | <sup>13</sup>C<sup>35</sup>Cl<sub>3</sub><sup>37</sup>Cl |\n",
              "| 9 | 154.87581547 | 0.0011171946521824 | 5ee727e6796405381715dc5eaaf23aa2885ad99cd8dcd5b15a44cc34a75d87a0 | <rdkit.Chem.rdchem.Mol object at 0x16654fd10> | <sup>13</sup>C<sup>35</sup>Cl<sub>3</sub><sup>37</sup>Cl |\n",
              "| 10 | 154.87581547 | 0.0011171946521824003 | 5ee727e6796405381715dc5eaaf23aa2885ad99cd8dcd5b15a44cc34a75d87a0 | <rdkit.Chem.rdchem.Mol object at 0x16654fbc0> | <sup>13</sup>C<sup>35</sup>Cl<sub>3</sub><sup>37</sup>Cl |\n",
              "| 11 | 155.86951054 | 0.0332920891753824 | 9e5efbfce17b6a8603fdcd394c3a9d49d81882b1d8c84f3c913e404ef9d6f4ce | <rdkit.Chem.rdchem.Mol object at 0x1665ec190> | <sup>12</sup>C<sup>35</sup>Cl<sub>2</sub><sup>37</sup>Cl<sub>2</sub> |\n",
              "| 12 | 155.86951054 | 0.0332920891753824 | 9e5efbfce17b6a8603fdcd394c3a9d49d81882b1d8c84f3c913e404ef9d6f4ce | <rdkit.Chem.rdchem.Mol object at 0x1665ec0b0> | <sup>12</sup>C<sup>35</sup>Cl<sub>2</sub><sup>37</sup>Cl<sub>2</sub> |\n",
              "| 13 | 155.86951054 | 0.03329208917538239 | 9e5efbfce17b6a8603fdcd394c3a9d49d81882b1d8c84f3c913e404ef9d6f4ce | <rdkit.Chem.rdchem.Mol object at 0x1665ec9e0> | <sup>12</sup>C<sup>35</sup>Cl<sub>2</sub><sup>37</sup>Cl<sub>2</sub> |\n",
              "| 14 | 155.86951054 | 0.0332920891753824 | 9e5efbfce17b6a8603fdcd394c3a9d49d81882b1d8c84f3c913e404ef9d6f4ce | <rdkit.Chem.rdchem.Mol object at 0x16654ff40> | <sup>12</sup>C<sup>35</sup>Cl<sub>2</sub><sup>37</sup>Cl<sub>2</sub> |\n",
              "| 15 | 155.86951054 | 0.03329208917538239 | 9e5efbfce17b6a8603fdcd394c3a9d49d81882b1d8c84f3c913e404ef9d6f4ce | <rdkit.Chem.rdchem.Mol object at 0x16654f610> | <sup>12</sup>C<sup>35</sup>Cl<sub>2</sub><sup>37</sup>Cl<sub>2</sub> |\n",
              "| 16 | 155.86951054 | 0.03329208917538239 | 9e5efbfce17b6a8603fdcd394c3a9d49d81882b1d8c84f3c913e404ef9d6f4ce | <rdkit.Chem.rdchem.Mol object at 0x16654f680> | <sup>12</sup>C<sup>35</sup>Cl<sub>2</sub><sup>37</sup>Cl<sub>2</sub> |\n",
              "| 17 | 156.87286538 | 0.00035667692061759995 | 06dde00c4956626a7e32900b25f88ef03b53364a73b7474043fa9d3307560995 | <rdkit.Chem.rdchem.Mol object at 0x16654fd80> | <sup>13</sup>C<sup>35</sup>Cl<sub>2</sub><sup>37</sup>Cl<sub>2</sub> |\n",
              "| 18 | 156.87286538 | 0.0003566769206176 | 06dde00c4956626a7e32900b25f88ef03b53364a73b7474043fa9d3307560995 | <rdkit.Chem.rdchem.Mol object at 0x16654f7d0> | <sup>13</sup>C<sup>35</sup>Cl<sub>2</sub><sup>37</sup>Cl<sub>2</sub> |\n",
              "| 19 | 156.87286538 | 0.0003566769206176 | 06dde00c4956626a7e32900b25f88ef03b53364a73b7474043fa9d3307560995 | <rdkit.Chem.rdchem.Mol object at 0x16654f840> | <sup>13</sup>C<sup>35</sup>Cl<sub>2</sub><sup>37</sup>Cl<sub>2</sub> |\n",
              "| 20 | 156.87286538 | 0.00035667692061760006 | 06dde00c4956626a7e32900b25f88ef03b53364a73b7474043fa9d3307560995 | <rdkit.Chem.rdchem.Mol object at 0x16654fb50> | <sup>13</sup>C<sup>35</sup>Cl<sub>2</sub><sup>37</sup>Cl<sub>2</sub> |\n",
              "| 21 | 156.87286538 | 0.00035667692061760006 | 06dde00c4956626a7e32900b25f88ef03b53364a73b7474043fa9d3307560995 | <rdkit.Chem.rdchem.Mol object at 0x16654fa70> | <sup>13</sup>C<sup>35</sup>Cl<sub>2</sub><sup>37</sup>Cl<sub>2</sub> |\n",
              "| 22 | 156.87286538 | 0.00035667692061760006 | 06dde00c4956626a7e32900b25f88ef03b53364a73b7474043fa9d3307560995 | <rdkit.Chem.rdchem.Mol object at 0x16654f8b0> | <sup>13</sup>C<sup>35</sup>Cl<sub>2</sub><sup>37</sup>Cl<sub>2</sub> |\n",
              "| 23 | 157.86656045 | 0.010628872797417598 | a4439539b7e8dca87cdf0d022f416ceb85d0d77a03e89691b27bf809e88f2ba3 | <rdkit.Chem.rdchem.Mol object at 0x1665eca50> | <sup>12</sup>C<sup>35</sup>Cl<sup>37</sup>Cl<sub>3</sub> |\n",
              "| 24 | 157.86656045 | 0.010628872797417598 | a4439539b7e8dca87cdf0d022f416ceb85d0d77a03e89691b27bf809e88f2ba3 | <rdkit.Chem.rdchem.Mol object at 0x16654fe60> | <sup>12</sup>C<sup>35</sup>Cl<sup>37</sup>Cl<sub>3</sub> |\n",
              "| 25 | 157.86656045 | 0.010628872797417598 | a4439539b7e8dca87cdf0d022f416ceb85d0d77a03e89691b27bf809e88f2ba3 | <rdkit.Chem.rdchem.Mol object at 0x16654fdf0> | <sup>12</sup>C<sup>35</sup>Cl<sup>37</sup>Cl<sub>3</sub> |\n",
              "| 26 | 157.86656045 | 0.010628872797417598 | a4439539b7e8dca87cdf0d022f416ceb85d0d77a03e89691b27bf809e88f2ba3 | <rdkit.Chem.rdchem.Mol object at 0x16654f990> | <sup>12</sup>C<sup>35</sup>Cl<sup>37</sup>Cl<sub>3</sub> |\n",
              "| 27 | 158.86991529 | 0.0001138731065824 | fac3200efc9f88e1ea8ecf993c6c24e29f9c9ff02580f9108a138d5ff0235855 | <rdkit.Chem.rdchem.Mol object at 0x16654f760> | <sup>13</sup>C<sup>35</sup>Cl<sup>37</sup>Cl<sub>3</sub> |\n",
              "| 28 | 158.86991529 | 0.00011387310658240001 | fac3200efc9f88e1ea8ecf993c6c24e29f9c9ff02580f9108a138d5ff0235855 | <rdkit.Chem.rdchem.Mol object at 0x16654fae0> | <sup>13</sup>C<sup>35</sup>Cl<sup>37</sup>Cl<sub>3</sub> |\n",
              "| 29 | 158.86991529 | 0.00011387310658240001 | fac3200efc9f88e1ea8ecf993c6c24e29f9c9ff02580f9108a138d5ff0235855 | <rdkit.Chem.rdchem.Mol object at 0x16654f5a0> | <sup>13</sup>C<sup>35</sup>Cl<sup>37</sup>Cl<sub>3</sub> |\n",
              "| 30 | 158.86991529 | 0.0001138731065824 | fac3200efc9f88e1ea8ecf993c6c24e29f9c9ff02580f9108a138d5ff0235855 | <rdkit.Chem.rdchem.Mol object at 0x16555d0e0> | <sup>13</sup>C<sup>35</sup>Cl<sup>37</sup>Cl<sub>3</sub> |\n",
              "| 31 | 159.86361036 | 0.0033933868297823994 | c9e7ca3d90fa50e50848b94286db94ffed8ee0c5b5a79469ef69e4bae4c1b050 | <rdkit.Chem.rdchem.Mol object at 0x16654fca0> | <sup>12</sup>C<sup>37</sup>Cl<sub>4</sub> |\n",
              "| 32 | 160.86696519999998 | 3.6355266217599994e-05 | 20885a08f6c07dd7a21ac414959b24ac516c6944d2197f48cfbb0b08db2807b7 | <rdkit.Chem.rdchem.Mol object at 0x1665ed3f0> | <sup>13</sup>C<sup>37</sup>Cl<sub>4</sub> |\n"
            ],
            "text/plain": [
              "<IPython.core.display.Markdown object>"
            ]
          },
          "execution_count": 24,
          "metadata": {},
          "output_type": "execute_result"
        }
      ],
      "source": [
        "data_dict_list = []\n",
        "for mol_isotope in mol_isotopes_flat:\n",
        "    mol_isotope.update()\n",
        "    data_dict = {prop: getattr(mol_isotope, prop) for prop in vars(mol_isotope).keys()}\n",
        "    data_dict[\"mol_isotope\"] = mol_isotope\n",
        "    composition_dict = composition(mol_isotope.mol, isotopes=True)\n",
        "    hashed_composition_dict = hash_nested_dict(composition_dict)\n",
        "    data_dict[\"composition_hash\"] = str(hashed_composition_dict)\n",
        "    data_dict_list.append(data_dict)\n",
        "df = pl.DataFrame(data_dict_list).select([\"mass\", \"abundance\", \"composition_hash\", \"mol\"])\n",
        "df = df.with_columns(\n",
        "    pl.col(\"mol\").map_elements(lambda x: mol_to_formatted_formula(x, isotopes=True)[\"markdown\"]).alias(\"formula\")\n",
        ")\n",
        "\n",
        "Markdown(\n",
        "    dict_list_to_markdown_table(\n",
        "        df.rows(named=True),\n",
        "        number_rows=True,\n",
        "        )\n",
        "    )"
      ]
    },
    {
      "cell_type": "markdown",
      "metadata": {},
      "source": [
        "The table confirms our earlier calculation that are a total of 32 permutations. Again, the number of permutations is the product of the number of isotopes over each atom. In this case there are five atoms, and each element (C or Cl) has two isotopes, so 2 * 2 * 2 * 2 * 2 = 2<sup>5</sup> = 32."
      ]
    },
    {
      "cell_type": "markdown",
      "metadata": {},
      "source": [
        "### Aggregating rows in a dataframe"
      ]
    },
    {
      "cell_type": "markdown",
      "metadata": {},
      "source": [
        "The following aggregation expressions tell Polars to sum over abundance, and take the first value for other columns (besides abundance, which we're aggregating on). This is easier and faster than writing Python code to aggregate isotopomers."
      ]
    },
    {
      "cell_type": "code",
      "execution_count": 72,
      "metadata": {},
      "outputs": [
        {
          "data": {
            "text/markdown": [
              "| # | mass | formula | abundance |\n",
              "| --- | --- | --- | --- |\n",
              "| 1 | 151.87541072 | <sup>12</sup>C<sup>35</sup>Cl<sub>4</sub> | 0.3266244779209824 |\n",
              "| 2 | 152.87876555999998 | <sup>13</sup>C<sup>35</sup>Cl<sub>4</sub> | 0.0034993121750176 |\n",
              "| 3 | 153.87246062999998 | <sup>12</sup>C<sup>35</sup>Cl<sub>3</sub><sup>37</sup>Cl | 0.4171141090072704 |\n",
              "| 4 | 154.87581547 | <sup>13</sup>C<sup>35</sup>Cl<sub>3</sub><sup>37</sup>Cl | 0.0044687786087296 |\n",
              "| 5 | 155.86951054 | <sup>12</sup>C<sup>35</sup>Cl<sub>2</sub><sup>37</sup>Cl<sub>2</sub> | 0.1997525350522944 |\n",
              "| 6 | 156.87286538 | <sup>13</sup>C<sup>35</sup>Cl<sub>2</sub><sup>37</sup>Cl<sub>2</sub> | 0.0021400615237056 |\n",
              "| 7 | 157.86656045 | <sup>12</sup>C<sup>35</sup>Cl<sup>37</sup>Cl<sub>3</sub> | 0.04251549118967039 |\n",
              "| 8 | 158.86991529 | <sup>13</sup>C<sup>35</sup>Cl<sup>37</sup>Cl<sub>3</sub> | 0.0004554924263296 |\n",
              "| 9 | 159.86361036 | <sup>12</sup>C<sup>37</sup>Cl<sub>4</sub> | 0.0033933868297823994 |\n",
              "| 10 | 160.86696519999998 | <sup>13</sup>C<sup>37</sup>Cl<sub>4</sub> | 3.6355266217599994e-05 |\n"
            ],
            "text/plain": [
              "<IPython.core.display.Markdown object>"
            ]
          },
          "execution_count": 72,
          "metadata": {},
          "output_type": "execute_result"
        }
      ],
      "source": [
        "# Set up aggregation expressions\n",
        "agg_exprs = [\n",
        "    pl.sum(\"abundance\").alias(\"abundance\")\n",
        "] + [\n",
        "    pl.col(col).first().alias(col)\n",
        "    for col in df.columns\n",
        "    if col not in (\"composition_hash\", \"abundance\")\n",
        "]\n",
        "\n",
        "# Aggregate rows\n",
        "agg_df = df.group_by(\"composition_hash\").agg(agg_exprs)\n",
        "\n",
        "# Compute formulas to display in Markdown table and on graph\n",
        "agg_df = agg_df.with_columns(\n",
        "    pl.col(\"mol\").map_elements(lambda x: mol_to_formatted_formula(x, isotopes=True)[\"markdown\"]).alias(\"formula\"),\n",
        "    pl.col(\"mol\").map_elements(lambda x: mol_to_formatted_formula(x, isotopes=True)[\"latex\"]).alias(\"formula_latex\"),\n",
        ")\n",
        "\n",
        "# Choose rows to display in Markdown table\n",
        "df_display = agg_df.select([\"mass\", \"formula\", \"abundance\"]).sort(\"mass\")\n",
        "\n",
        "# Create Markdown table\n",
        "table = dict_list_to_markdown_table(\n",
        "    df_display.rows(named=True),\n",
        "    number_rows=True)\n",
        "\n",
        "# Display Markdown table\n",
        "Markdown(table)"
      ]
    },
    {
      "cell_type": "markdown",
      "metadata": {},
      "source": [
        "The aggregated result has 10 distinct isotopomers (combinations) compared to 32 permutations."
      ]
    },
    {
      "cell_type": "markdown",
      "metadata": {},
      "source": [
        "### Checking our abundances"
      ]
    },
    {
      "cell_type": "markdown",
      "metadata": {},
      "source": [
        "To verify that we calculated and aggregated abundances correctly, we check that the sum of abundances of the isotopomers is 1. (It might be very slightly different depending on the isotope data, numerical precision of operations, etc.)"
      ]
    },
    {
      "cell_type": "code",
      "execution_count": 26,
      "metadata": {},
      "outputs": [
        {
          "name": "stdout",
          "output_type": "stream",
          "text": [
            "1.0\n"
          ]
        }
      ],
      "source": [
        "mol_isotopes_agg_abundances = agg_df[\"abundance\"].to_list()\n",
        "abundance_sum = sum(mol_isotopes_agg_abundances)\n",
        "print(abundance_sum)"
      ]
    },
    {
      "cell_type": "markdown",
      "metadata": {},
      "source": [
        "## Plot abundance vs. mass results"
      ]
    },
    {
      "cell_type": "markdown",
      "metadata": {},
      "source": [
        "For the graph, to prevent a forest of short lines and colliding labels due to the be many isotopomers with very low abundance, we might want to limit the plot to a cutoff level of abundance."
      ]
    },
    {
      "cell_type": "code",
      "execution_count": 74,
      "metadata": {},
      "outputs": [
        {
          "data": {
            "text/markdown": [
              "| # | formula | mass | abundance |\n",
              "| --- | --- | --- | --- |\n",
              "| 1 | <sup>12</sup>C<sup>35</sup>Cl<sub>4</sub> | 151.87541072 | 0.3266244779209824 |\n",
              "| 2 | <sup>12</sup>C<sup>35</sup>Cl<sub>3</sub><sup>37</sup>Cl | 153.87246062999998 | 0.4171141090072704 |\n",
              "| 3 | <sup>12</sup>C<sup>35</sup>Cl<sub>2</sub><sup>37</sup>Cl<sub>2</sub> | 155.86951054 | 0.1997525350522944 |\n",
              "| 4 | <sup>12</sup>C<sup>35</sup>Cl<sup>37</sup>Cl<sub>3</sub> | 157.86656045 | 0.04251549118967039 |\n"
            ],
            "text/plain": [
              "<IPython.core.display.Markdown object>"
            ]
          },
          "execution_count": 74,
          "metadata": {},
          "output_type": "execute_result"
        }
      ],
      "source": [
        "cutoff = 0.01\n",
        "agg_df_cutoff = agg_df.filter(pl.col(\"abundance\") > cutoff)\n",
        "\n",
        "# Format as Markdown table\n",
        "df_display_cutoff = agg_df_cutoff.select([\"formula\", \"mass\", \"abundance\"]).sort(\"mass\")\n",
        "table_cutoff = dict_list_to_markdown_table(\n",
        "    df_display_cutoff.rows(named=True),\n",
        "    number_rows=True)\n",
        "Markdown(table_cutoff)"
      ]
    },
    {
      "cell_type": "markdown",
      "metadata": {},
      "source": [
        "Now we can plot the isotopomers above that cutoff level of abundance."
      ]
    },
    {
      "cell_type": "code",
      "execution_count": 28,
      "metadata": {
        "id": "Z1Hg_meIIJLi"
      },
      "outputs": [
        {
          "name": "stderr",
          "output_type": "stream",
          "text": [
            "/Users/jemonat/Projects/bertiewooster.github.io/venv/lib/python3.11/site-packages/seaborn/_oldcore.py:1498: FutureWarning: is_categorical_dtype is deprecated and will be removed in a future version. Use isinstance(dtype, CategoricalDtype) instead\n",
            "  if pd.api.types.is_categorical_dtype(vector):\n",
            "/Users/jemonat/Projects/bertiewooster.github.io/venv/lib/python3.11/site-packages/seaborn/_oldcore.py:1498: FutureWarning: is_categorical_dtype is deprecated and will be removed in a future version. Use isinstance(dtype, CategoricalDtype) instead\n",
            "  if pd.api.types.is_categorical_dtype(vector):\n"
          ]
        },
        {
          "data": {
            "image/png": "[encoded data removed]",
            "text/plain": [
              "<Figure size 640x480 with 1 Axes>"
            ]
          },
          "metadata": {},
          "output_type": "display_data"
        }
      ],
      "source": [
        "# Create the scatter plot using Seaborn; don't use markers because we'll plot lines instead\n",
        "sns.scatterplot(x='mass', y='abundance', data=agg_df_cutoff, marker='')\n",
        "\n",
        "plt.xlabel('Mass (amu)')\n",
        "plt.ylabel('Abundance')\n",
        "\n",
        "formula = \"CCl_{4}\"\n",
        "# Use C-style string formatting with the % operator to avoid conflicts with using braces for both LaTeX and {}.format()\n",
        "title = r\"${\\rm %s}$ molecular isotopic distribution\" % formula\n",
        "plt.title(title)\n",
        "\n",
        "# Adjust x-axis limits to allow more space on the left and right for labels\n",
        "xrange = max(agg_df_cutoff['mass']) - min(agg_df_cutoff['mass'])\n",
        "xpad = xrange * 0.15\n",
        "plt.xlim(min(agg_df_cutoff['mass']) - xpad, max(agg_df_cutoff['mass']) + xpad)\n",
        "\n",
        "# Adjust y-axis limits to start at zero and allow more space on the top for labels\n",
        "yrange = max(agg_df_cutoff['abundance']) - min(agg_df_cutoff['abundance'])\n",
        "ypad = yrange * 0.15\n",
        "plt.ylim(0, max(agg_df_cutoff['abundance']) + ypad)\n",
        "\n",
        "# Iterate through the rows (data points)\n",
        "for index, (mass, abundance, formula) in enumerate(zip(agg_df_cutoff['mass'], agg_df_cutoff['abundance'], agg_df_cutoff['formula_latex'])):\n",
        "    # Add vertical lines from each data point to the x-axis\n",
        "    plt.vlines(x=mass, ymin=0, ymax=abundance, colors='black')\n",
        "\n",
        "    # Label the data points by mass\n",
        "    label = r\"${\\rm %s}$ %s %s\" % (formula.strip(\"$\"), \"\\n\", mass)\n",
        "    plt.text(\n",
        "        x=mass, \n",
        "        y=abundance, \n",
        "        s=label, \n",
        "        ha='center',\n",
        "        va='bottom')\n",
        "\n",
        "plt.show()"
      ]
    },
    {
      "cell_type": "markdown",
      "metadata": {},
      "source": [
        "It's interesting to note that the most abundant molecular isotope has three <sup>35</sup>Cl and one <sup>37</sup>Cl even though <sup>35</sup>Cl is the most common isotope of Cl. ***Explain why***"
      ]
    },
    {
      "cell_type": "markdown",
      "metadata": {},
      "source": [
        "## Conclusion"
      ]
    },
    {
      "cell_type": "markdown",
      "metadata": {},
      "source": [
        "That's it for this approach. Again, creating a molecule for each permutation is computationally expensive, so in part 2 I'll share a more sophisticated and tractable approach using combinations."
      ]
    },
    {
      "cell_type": "markdown",
      "metadata": {},
      "source": [
        "*Acknowledgement: I thank my late father [Robert Monat](https://www.arnmortuary.com/obituary/Robert-Monat) for teaching me about combinations vs. permutations.*"
      ]
    }
  ],
  "metadata": {
    "colab": {
      "provenance": []
    },
    "kernelspec": {
      "display_name": "Python 3",
      "name": "python3"
    },
    "language_info": {
      "codemirror_mode": {
        "name": "ipython",
        "version": 3
      },
      "file_extension": ".py",
      "mimetype": "text/x-python",
      "name": "python",
      "nbconvert_exporter": "python",
      "pygments_lexer": "ipython3",
      "version": "3.11.0"
    }
  },
  "nbformat": 4,
  "nbformat_minor": 0
}
