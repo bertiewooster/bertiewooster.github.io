{
  "cells": [
    {
      "cell_type": "markdown",
      "metadata": {},
      "source": [
        "# Molecular Formulas"
      ]
    },
    {
      "cell_type": "markdown",
      "metadata": {},
      "source": [
        "In cheminformatics, the typical way of representing a molecule is with a SMILES string such as `CCO` for ethanol. A SMILES string can be converted into a molecular graph which notes which atoms are attached to each other using which bond types, which is very useful for determining molecular structure and related properties.\n",
        "\n",
        "However, there are still cases where the molecular formula such as C<sub>2</sub>H<sub>6</sub>O is useful. For example, the molecular formula is sufficient to determine the molecular mass, to calculate the predicted results from an elemental analysis, or simply to get a sense for the elemental composition of a given molecule.\n",
        "\n",
        "I'm working on a blog post where I needed to calculate the molecular formula including isotopes. I was unable to find a package that produced molecular formulas from SMILES strings, so I wrote a function to do so."
      ]
    },
    {
      "cell_type": "code",
      "execution_count": 31,
      "metadata": {
        "colab": {
          "base_uri": "https://localhost:8080/"
        },
        "id": "d4IboaHubzIu",
        "outputId": "32332cde-403c-4ba7-e119-b3cbb09a8d7d"
      },
      "outputs": [],
      "source": [
        "# !pip install rdkit"
      ]
    },
    {
      "cell_type": "code",
      "execution_count": 46,
      "metadata": {
        "id": "wRuWV7bBcIht"
      },
      "outputs": [],
      "source": [
        "from collections import defaultdict\n",
        "from IPython.display import display, Markdown\n",
        "\n",
        "from rdkit import Chem"
      ]
    },
    {
      "cell_type": "markdown",
      "metadata": {},
      "source": [
        "## Set up"
      ]
    },
    {
      "cell_type": "markdown",
      "metadata": {},
      "source": [
        "Because RDKit excludes hydrogen atoms by default, but we want to include hydrogens in our molecular formula, we tell RDKit to add hydrogens."
      ]
    },
    {
      "cell_type": "code",
      "execution_count": 44,
      "metadata": {
        "id": "Juw0px-Zb_fM"
      },
      "outputs": [
        {
          "data": {
            "image/png": "[encoded data removed]",
            "text/plain": [
              "<rdkit.Chem.rdchem.Mol at 0x13dd7c970>"
            ]
          },
          "execution_count": 44,
          "metadata": {},
          "output_type": "execute_result"
        }
      ],
      "source": [
        "# Ethanol, no isotopes\n",
        "sml = \"CCO\"\n",
        "\n",
        "# Ethanol, with isotopes\n",
        "sml = \"[13CH3]CO\"\n",
        "mol = Chem.AddHs(Chem.MolFromSmiles(sml))\n",
        "mol"
      ]
    },
    {
      "cell_type": "code",
      "execution_count": 34,
      "metadata": {
        "id": "FLMcvaxfzFY4"
      },
      "outputs": [],
      "source": [
        "def composition(\n",
        "        molecule: Chem.Mol,\n",
        "        isotopes=False):\n",
        "    \"\"\"Get the composition of an RDKit molecule:\n",
        "    Atomic counts, including hydrogen atoms, and any charge.\n",
        "    For example, ethanol (SMILES [13C](H)(H)(H)CO, formula C2H6O) returns:\n",
        "      if isotopes = False (default): {'C': 2, 'O': 1, 'H': 6}.\n",
        "      if isotopes = True: {'C': {13: 1, 0: 1}, 'O': {0: 1}, 'H': {0: 6}}.\n",
        "\n",
        "    :param molecule: The RDKit molecule to analyze\n",
        "    :returns: if isotopes = False (default): a dictionary of element:count entries;\n",
        "              if isotopes = True: a nested dictionary of element:isotope:count entries.\n",
        "    \"\"\"\n",
        "    # Check that there is a valid molecule\n",
        "    if not molecule:\n",
        "        return\n",
        "\n",
        "    # Add hydrogen atoms--RDKit excludes them by default\n",
        "    molecule = Chem.AddHs(molecule)\n",
        "    comp = defaultdict(lambda: 0)\n",
        "\n",
        "    # Get atom counts\n",
        "    for atom in molecule.GetAtoms():\n",
        "        element_symbol = atom.GetSymbol()\n",
        "        # If isotopes not requested, simply count the number of atoms of each element\n",
        "        if not isotopes:\n",
        "            comp[element_symbol] += 1\n",
        "        # If isotopes requested, count the number of each isotope of each element\n",
        "        else:\n",
        "            isotope = atom.GetIsotope()\n",
        "            try:\n",
        "                comp[element_symbol][isotope] += 1\n",
        "            except:\n",
        "                comp[element_symbol] = defaultdict(lambda: 0)\n",
        "                comp[element_symbol][isotope] += 1\n",
        "    return comp"
      ]
    },
    {
      "cell_type": "code",
      "execution_count": 35,
      "metadata": {},
      "outputs": [],
      "source": [
        "ethanol = Chem.AddHs(Chem.MolFromSmiles(\"CCO\"))"
      ]
    },
    {
      "cell_type": "code",
      "execution_count": 36,
      "metadata": {},
      "outputs": [],
      "source": [
        "ethanol_isotope = Chem.AddHs(Chem.MolFromSmiles(\"[13CH3]CO\"))"
      ]
    },
    {
      "cell_type": "code",
      "execution_count": 37,
      "metadata": {},
      "outputs": [
        {
          "data": {
            "text/plain": [
              "defaultdict(<function __main__.composition.<locals>.<lambda>()>,\n",
              "            {'C': 2, 'O': 1, 'H': 6})"
            ]
          },
          "execution_count": 37,
          "metadata": {},
          "output_type": "execute_result"
        }
      ],
      "source": [
        "composition(ethanol_isotope)"
      ]
    },
    {
      "cell_type": "code",
      "execution_count": 38,
      "metadata": {},
      "outputs": [
        {
          "data": {
            "text/plain": [
              "defaultdict(<function __main__.composition.<locals>.<lambda>()>,\n",
              "            {'C': defaultdict(<function __main__.composition.<locals>.<lambda>()>,\n",
              "                         {13: 1, 0: 1}),\n",
              "             'O': defaultdict(<function __main__.composition.<locals>.<lambda>()>,\n",
              "                         {0: 1}),\n",
              "             'H': defaultdict(<function __main__.composition.<locals>.<lambda>()>,\n",
              "                         {0: 6})})"
            ]
          },
          "execution_count": 38,
          "metadata": {},
          "output_type": "execute_result"
        }
      ],
      "source": [
        "composition(ethanol_isotope, isotopes=True)"
      ]
    },
    {
      "cell_type": "code",
      "execution_count": 102,
      "metadata": {},
      "outputs": [],
      "source": [
        "def smiles_to_formatted_formula(smiles, isotopes=False):\n",
        "    mol = Chem.MolFromSmiles(smiles)\n",
        "    if mol is not None:\n",
        "        comp = composition(mol, isotopes)\n",
        "\n",
        "        formula = {'markdown': \"\", 'dollar_math': \"\", 'latex': \"\"}\n",
        "\n",
        "        if isotopes:\n",
        "            isotopes_dict = defaultdict(lambda: defaultdict(str))\n",
        "            subscripts = defaultdict(lambda: defaultdict(int))\n",
        "            superscripts = defaultdict(list)\n",
        "\n",
        "            for element, counts in comp.items():\n",
        "                for isotope, count in counts.items():\n",
        "                    if count > 1:\n",
        "                        subscripts[element][isotope] = count\n",
        "                    if isotope != 0:\n",
        "                        superscripts[element].append(isotope)\n",
        "\n",
        "                    isotopes_dict[element][isotope] = 1\n",
        "                # Sort the element's isotopes from lowest to highest\n",
        "                superscripts[element].sort()\n",
        "\n",
        "            sorted_element_keys = sorted(isotopes_dict.keys())\n",
        "            for element in sorted_element_keys:\n",
        "                isotope_count_pairs = isotopes_dict[element]\n",
        "                # Sort the element's isotopes from lowest to highest\n",
        "                sorted_isotope_keys = sorted(isotope_count_pairs.keys())\n",
        "                for isotope in sorted_isotope_keys:\n",
        "                    if element in superscripts:\n",
        "                        if isotope in superscripts[element]:\n",
        "                            formula[\"markdown\"] += f\"<sup>{isotope}</sup>\"\n",
        "                            formula[\"dollar_math\"] += r\"$^{{{}}}$\".format(isotope)\n",
        "                            formula[\"latex\"] += \"^{{{}}}\".format(isotope)\n",
        "                    formula[\"markdown\"] += element\n",
        "                    formula[\"dollar_math\"] += r\"{}\".format(element)\n",
        "                    formula[\"latex\"] += element\n",
        "                    if element in subscripts:\n",
        "                        if isotope in subscripts[element]:\n",
        "                            for isotope, isotope_count in subscripts[element].items():\n",
        "                                formula[\"markdown\"] += f\"<sub>{isotope_count}</sub>\"\n",
        "                                formula[\"dollar_math\"] += r\"$_{{{}}}$\".format(isotope_count)\n",
        "                                formula[\"latex\"] += \"_{{{}}}\".format(isotope_count)\n",
        "            formula[\"latex\"] = \"$\" + formula[\"latex\"] + \"$\"\n",
        "        else:\n",
        "            # Handling the case when isotopes is False\n",
        "            sorted_element_keys = sorted(comp.keys())\n",
        "\n",
        "            for element in sorted_element_keys:\n",
        "                count = comp[element]\n",
        "                formula[\"markdown\"] += element\n",
        "                formula[\"dollar_math\"] += r\"{}\".format(element)\n",
        "                formula[\"latex\"] += element\n",
        "                if count > 1:\n",
        "                    formula[\"markdown\"] += f\"<sub>{count}</sub>\"\n",
        "                    formula[\"dollar_math\"] += r\"$_{{{}}}$\".format(count)\n",
        "                    formula[\"latex\"] += \"_{{{}}}\".format(count)\n",
        "            formula[\"latex\"] = \"$\" + formula[\"latex\"] + \"$\"\n",
        "\n",
        "        return formula\n",
        "    else:\n",
        "        return \"Invalid SMILES\""
      ]
    },
    {
      "cell_type": "code",
      "execution_count": 99,
      "metadata": {},
      "outputs": [
        {
          "data": {
            "text/markdown": [
              "$C^{13}CH_{6}O$"
            ],
            "text/plain": [
              "<IPython.core.display.Markdown object>"
            ]
          },
          "execution_count": 99,
          "metadata": {},
          "output_type": "execute_result"
        }
      ],
      "source": [
        "isotope_formula = smiles_to_formatted_formula(\"[13CH3]CO\", isotopes=True)\n",
        "Markdown(isotope_formula[\"latex\"])"
      ]
    },
    {
      "cell_type": "code",
      "execution_count": 104,
      "metadata": {},
      "outputs": [
        {
          "data": {
            "text/markdown": [
              "$C_{2}H_{6}O$"
            ],
            "text/plain": [
              "<IPython.core.display.Markdown object>"
            ]
          },
          "execution_count": 104,
          "metadata": {},
          "output_type": "execute_result"
        }
      ],
      "source": [
        "no_isotope_formula = smiles_to_formatted_formula(\"[13CH3]CO\", isotopes=False)\n",
        "no_isotope_formula[\"latex\"]\n",
        "Markdown(no_isotope_formula[\"latex\"])"
      ]
    },
    {
      "cell_type": "code",
      "execution_count": 59,
      "metadata": {},
      "outputs": [
        {
          "data": {
            "text/plain": [
              "'C$^{13}$CH$_{6}$O'"
            ]
          },
          "execution_count": 59,
          "metadata": {},
          "output_type": "execute_result"
        }
      ],
      "source": [
        "isotope_formula[\"dollar_math\"]"
      ]
    },
    {
      "cell_type": "code",
      "execution_count": 91,
      "metadata": {},
      "outputs": [
        {
          "data": {
            "text/markdown": [
              "$^{12}C_{2}^{13}C^{14}C_{3}$"
            ],
            "text/plain": [
              "<IPython.core.display.Markdown object>"
            ]
          },
          "execution_count": 91,
          "metadata": {},
          "output_type": "execute_result"
        }
      ],
      "source": [
        "# latex = \"$E=mc^2$\"\n",
        "latex =  \"$^{12}C$\"\n",
        "latex = \"$^{12}C_{2}^{13}C^{14}C_{3}$\"\n",
        "Markdown(latex)\n"
      ]
    },
    {
      "cell_type": "code",
      "execution_count": null,
      "metadata": {},
      "outputs": [],
      "source": []
    }
  ],
  "metadata": {
    "colab": {
      "provenance": []
    },
    "kernelspec": {
      "display_name": "Python 3",
      "name": "python3"
    },
    "language_info": {
      "codemirror_mode": {
        "name": "ipython",
        "version": 3
      },
      "file_extension": ".py",
      "mimetype": "text/x-python",
      "name": "python",
      "nbconvert_exporter": "python",
      "pygments_lexer": "ipython3",
      "version": "3.11.0"
    }
  },
  "nbformat": 4,
  "nbformat_minor": 0
}
