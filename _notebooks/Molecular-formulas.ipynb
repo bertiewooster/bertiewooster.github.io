{
  "cells": [
    {
      "cell_type": "markdown",
      "metadata": {},
      "source": [
        "# Molecular Formulas"
      ]
    },
    {
      "cell_type": "markdown",
      "metadata": {},
      "source": [
        "In cheminformatics, the typical way of representing a molecule is with a SMILES string such as `CCO` for ethanol. A SMILES string can be converted into a molecular graph which describes which atoms are attached to each other using which bond types. Molecular graphs are very useful for determining molecular structure and related properties.\n",
        "\n",
        "However, there are still cases where the molecular formula such as C<sub>2</sub>H<sub>6</sub>O is useful. For example, the molecular formula is sufficient to determine the molecular mass, to calculate the predicted results from an elemental analysis, balancing chemical equations, or simply to get a sense for the elemental composition of a given molecule. One of the best-known chemical equations is photosynthesis, presented here.\n",
        "\n",
        "I'm working on a blog post where I needed to calculate the molecular formula including isotopes. I was unable to find a package that produced molecular formulas including isotopes from SMILES strings, so I wrote a function to do so. (I tried [chemparse](https://pypi.org/project/chemparse/) and did not succeed.)"
      ]
    },
    {
      "cell_type": "code",
      "execution_count": 1,
      "metadata": {
        "colab": {
          "base_uri": "https://localhost:8080/"
        },
        "id": "d4IboaHubzIu",
        "outputId": "32332cde-403c-4ba7-e119-b3cbb09a8d7d"
      },
      "outputs": [],
      "source": [
        "# !pip install rdkit"
      ]
    },
    {
      "cell_type": "code",
      "execution_count": 2,
      "metadata": {
        "id": "wRuWV7bBcIht"
      },
      "outputs": [],
      "source": [
        "from collections import defaultdict\n",
        "from IPython.display import display, Markdown\n",
        "\n",
        "from rdkit import Chem"
      ]
    },
    {
      "cell_type": "markdown",
      "metadata": {},
      "source": [
        "## Set up"
      ]
    },
    {
      "cell_type": "markdown",
      "metadata": {},
      "source": [
        "Because RDKit excludes hydrogen atoms by default, but we want to include hydrogens in our molecular formula, we tell RDKit to add hydrogens."
      ]
    },
    {
      "cell_type": "code",
      "execution_count": 3,
      "metadata": {
        "id": "Juw0px-Zb_fM"
      },
      "outputs": [
        {
          "data": {
            "image/png": "[encoded data removed]",
            "text/plain": [
              "<rdkit.Chem.rdchem.Mol at 0x115954040>"
            ]
          },
          "execution_count": 3,
          "metadata": {},
          "output_type": "execute_result"
        }
      ],
      "source": [
        "# Ethanol with isotopes\n",
        "sml = \"[13CH3]C[18OH]\"\n",
        "mol = Chem.AddHs(Chem.MolFromSmiles(sml))\n",
        "mol"
      ]
    },
    {
      "cell_type": "markdown",
      "metadata": {},
      "source": [
        "The RDKit does not include a composition function to give the number of each element (including isotopes if desired) in a molecule, so we make one here. It's based on an [algorithm suggested by @IchiruTake](https://github.com/rdkit/rdkit/discussions/5339)."
      ]
    },
    {
      "cell_type": "code",
      "execution_count": 4,
      "metadata": {
        "id": "FLMcvaxfzFY4"
      },
      "outputs": [],
      "source": [
        "def composition(\n",
        "        molecule: Chem.Mol,\n",
        "        isotopes: bool = False,\n",
        "        ):\n",
        "    \"\"\"Get the composition of an RDKit molecule:\n",
        "    Atomic counts, including hydrogen atoms, and isotopes if requested.\n",
        "    For example, ethanol (SMILES [13C](H)(H)(H)CO, formula C2H6O) returns:\n",
        "      if isotopes = False (default): {'C': 2, 'O': 1, 'H': 6}.\n",
        "      if isotopes = True: {'C': {13: 1, 0: 1}, 'O': {0: 1}, 'H': {0: 6}}.\n",
        "\n",
        "    :param molecule: The RDKit molecule to analyze\n",
        "    :param isotopes: Whether to include the isotope of each atom\n",
        "    :returns: if isotopes = False (default): a dictionary of element:count entries;\n",
        "              if isotopes = True: a nested dictionary of element:isotope:count entries.\n",
        "    \"\"\"\n",
        "    # Check that there is a valid molecule\n",
        "    if not molecule:\n",
        "        return\n",
        "\n",
        "    # Add hydrogen atoms--RDKit excludes them by default\n",
        "    molecule = Chem.AddHs(molecule)\n",
        "    comp = defaultdict(lambda: 0)\n",
        "\n",
        "    # Get atom counts\n",
        "    for atom in molecule.GetAtoms():\n",
        "        element_symbol = atom.GetSymbol()\n",
        "        # If isotopes not requested, simply count the number of atoms of each element\n",
        "        if not isotopes:\n",
        "            comp[element_symbol] += 1\n",
        "        # If isotopes requested, count the number of each isotope of each element\n",
        "        else:\n",
        "            isotope = atom.GetIsotope()\n",
        "            try:\n",
        "                comp[element_symbol][isotope] += 1\n",
        "            except:\n",
        "                comp[element_symbol] = defaultdict(lambda: 0)\n",
        "                comp[element_symbol][isotope] += 1\n",
        "    return comp"
      ]
    },
    {
      "cell_type": "code",
      "execution_count": 5,
      "metadata": {},
      "outputs": [
        {
          "data": {
            "text/plain": [
              "defaultdict(<function __main__.composition.<locals>.<lambda>()>,\n",
              "            {'C': 2, 'O': 1, 'H': 6})"
            ]
          },
          "execution_count": 5,
          "metadata": {},
          "output_type": "execute_result"
        }
      ],
      "source": [
        "composition(mol, isotopes=False)"
      ]
    },
    {
      "cell_type": "code",
      "execution_count": 6,
      "metadata": {},
      "outputs": [
        {
          "data": {
            "text/plain": [
              "defaultdict(<function __main__.composition.<locals>.<lambda>()>,\n",
              "            {'C': defaultdict(<function __main__.composition.<locals>.<lambda>()>,\n",
              "                         {13: 1, 0: 1}),\n",
              "             'O': defaultdict(<function __main__.composition.<locals>.<lambda>()>,\n",
              "                         {18: 1}),\n",
              "             'H': defaultdict(<function __main__.composition.<locals>.<lambda>()>,\n",
              "                         {0: 6})})"
            ]
          },
          "execution_count": 6,
          "metadata": {},
          "output_type": "execute_result"
        }
      ],
      "source": [
        "composition(mol, isotopes=True)"
      ]
    },
    {
      "cell_type": "markdown",
      "metadata": {},
      "source": [
        "Now that we have the count of each element (with isotopes if desired) in the molecule, we can build the molecular formula. Because of the superscripts for isotopes, and subscripts for counts, we need a formatting language. Our mol_to_formatted_formula() provides a dictionary with two options:\n",
        "- [Markdown](https://en.wikipedia.org/wiki/Markdown), which is commonly converted to HTML. Here the only formatting used are the HTML tags for superscripts and subscripts, so the outputs are valid HTML as well.\n",
        "- [LaTeX](https://en.wikipedia.org/wiki/LaTeX), which is commonly used for technical papers. One difficulty was that LaTeX would overlap a subscript and a superscript that immediately followed it, so we add a small amount of horizontal space using an empty group `{}`."
      ]
    },
    {
      "cell_type": "code",
      "execution_count": 7,
      "metadata": {},
      "outputs": [],
      "source": [
        "def mol_to_formatted_formula(mol, isotopes=False):\n",
        "    if mol is not None:\n",
        "        comp = composition(mol, isotopes)\n",
        "\n",
        "        formula = {'markdown': \"\", 'latex': \"\"}\n",
        "\n",
        "        if isotopes:\n",
        "            isotopes_dict = defaultdict(lambda: defaultdict(str))\n",
        "            subscripts = defaultdict(lambda: defaultdict(int))\n",
        "            superscripts = defaultdict(list)\n",
        "\n",
        "            for element, counts in comp.items():\n",
        "                for isotope, count in counts.items():\n",
        "                    if count > 1:\n",
        "                        subscripts[element][isotope] = count\n",
        "                    if isotope != 0:\n",
        "                        superscripts[element].append(isotope)\n",
        "\n",
        "                    isotopes_dict[element][isotope] = 1\n",
        "                # Sort the element's isotopes from lowest to highest\n",
        "                superscripts[element].sort()\n",
        "\n",
        "            last_item_is_subscript = False\n",
        "            sorted_element_keys = sorted(isotopes_dict.keys())\n",
        "            for element in sorted_element_keys:\n",
        "                isotope_count_pairs = isotopes_dict[element]\n",
        "                # Sort the element's isotopes from lowest to highest\n",
        "                sorted_isotope_keys = sorted(isotope_count_pairs.keys())\n",
        "                for isotope in sorted_isotope_keys:\n",
        "                    if element in superscripts:\n",
        "                        if isotope in superscripts[element]:\n",
        "                            formula[\"markdown\"] += f\"<sup>{isotope}</sup>\"\n",
        "\n",
        "                            # If superscript immediately follows subscript, \n",
        "                            # add a small amount of horizontal space using an empty group {}\n",
        "                            # to prevent them from vertically overlapping\n",
        "                            if last_item_is_subscript:\n",
        "                                formula[\"latex\"] += \"{}\"\n",
        "                            formula[\"latex\"] += \"^{{{}}}\".format(isotope)\n",
        "                            last_item_is_subscript = False\n",
        "                    formula[\"markdown\"] += element\n",
        "                    formula[\"latex\"] += element\n",
        "                    last_item_is_subscript = False\n",
        "                    if element in subscripts:\n",
        "                        if isotope in subscripts[element]:\n",
        "                            isotope_count = subscripts[element][isotope]\n",
        "                            formula[\"markdown\"] += f\"<sub>{isotope_count}</sub>\"\n",
        "                            formula[\"latex\"] += \"_{{{}}}\".format(isotope_count)\n",
        "                        last_item_is_subscript = True\n",
        "            # Add beginning and ending dollar signs to LaTeX formula\n",
        "            formula[\"latex\"] = \"$\" + formula[\"latex\"] + \"$\"\n",
        "        else:\n",
        "            # Handling the case when isotopes is False\n",
        "            sorted_element_keys = sorted(comp.keys())\n",
        "\n",
        "            for element in sorted_element_keys:\n",
        "                count = comp[element]\n",
        "                formula[\"markdown\"] += element\n",
        "                formula[\"latex\"] += element\n",
        "                if count > 1:\n",
        "                    formula[\"markdown\"] += f\"<sub>{count}</sub>\"\n",
        "                    formula[\"latex\"] += \"_{{{}}}\".format(count)\n",
        "            formula[\"latex\"] = \"$\" + formula[\"latex\"] + \"$\"\n",
        "\n",
        "        return formula\n",
        "    else:\n",
        "        return \"Invalid SMILES\""
      ]
    },
    {
      "cell_type": "markdown",
      "metadata": {},
      "source": [
        "Here's the Markdown for our isotopic ethanol molecule:"
      ]
    },
    {
      "cell_type": "code",
      "execution_count": 8,
      "metadata": {},
      "outputs": [
        {
          "data": {
            "text/plain": [
              "'C<sup>13</sup>CH<sub>6</sub><sup>18</sup>O'"
            ]
          },
          "execution_count": 8,
          "metadata": {},
          "output_type": "execute_result"
        }
      ],
      "source": [
        "isotope_formula_markdown = mol_to_formatted_formula(mol, isotopes=True)[\"markdown\"]\n",
        "isotope_formula_markdown"
      ]
    },
    {
      "cell_type": "markdown",
      "metadata": {},
      "source": [
        "and we display it as Markdown using that function:"
      ]
    },
    {
      "cell_type": "code",
      "execution_count": 9,
      "metadata": {},
      "outputs": [
        {
          "data": {
            "text/markdown": [
              "C<sup>13</sup>CH<sub>6</sub><sup>18</sup>O"
            ],
            "text/plain": [
              "<IPython.core.display.Markdown object>"
            ]
          },
          "execution_count": 9,
          "metadata": {},
          "output_type": "execute_result"
        }
      ],
      "source": [
        "Markdown(isotope_formula_markdown)"
      ]
    },
    {
      "cell_type": "markdown",
      "metadata": {},
      "source": [
        "Here's the LaTeX version:"
      ]
    },
    {
      "cell_type": "code",
      "execution_count": 10,
      "metadata": {},
      "outputs": [
        {
          "data": {
            "text/plain": [
              "'$C^{13}CH_{6}{}^{18}O$'"
            ]
          },
          "execution_count": 10,
          "metadata": {},
          "output_type": "execute_result"
        }
      ],
      "source": [
        "isotope_formula_latex = mol_to_formatted_formula(mol, isotopes=True)[\"latex\"]\n",
        "isotope_formula_latex"
      ]
    },
    {
      "cell_type": "markdown",
      "metadata": {},
      "source": [
        "which can also be displayed using the Markdown function:"
      ]
    },
    {
      "cell_type": "code",
      "execution_count": 11,
      "metadata": {},
      "outputs": [
        {
          "data": {
            "text/markdown": [
              "$C^{13}CH_{6}{}^{18}O$"
            ],
            "text/plain": [
              "<IPython.core.display.Markdown object>"
            ]
          },
          "execution_count": 11,
          "metadata": {},
          "output_type": "execute_result"
        }
      ],
      "source": [
        "Markdown(isotope_formula_latex)"
      ]
    },
    {
      "cell_type": "markdown",
      "metadata": {},
      "source": [
        "To go directly from a SMILES string to a formula, we can use this utility function `smiles_to_formatted_formula()`:"
      ]
    },
    {
      "cell_type": "code",
      "execution_count": 12,
      "metadata": {},
      "outputs": [],
      "source": [
        "def smiles_to_formatted_formula(smiles, isotopes=False):\n",
        "    mol = Chem.MolFromSmiles(smiles)\n",
        "    if mol is not None:\n",
        "        return mol_to_formatted_formula(mol, isotopes=isotopes)"
      ]
    },
    {
      "cell_type": "code",
      "execution_count": 13,
      "metadata": {},
      "outputs": [
        {
          "data": {
            "text/markdown": [
              "$C^{13}CH_{6}{}^{18}O$"
            ],
            "text/plain": [
              "<IPython.core.display.Markdown object>"
            ]
          },
          "execution_count": 13,
          "metadata": {},
          "output_type": "execute_result"
        }
      ],
      "source": [
        "isotope_formula_latex_from_smiles = smiles_to_formatted_formula(sml, isotopes=True)[\"latex\"]\n",
        "Markdown(isotope_formula_latex_from_smiles)"
      ]
    },
    {
      "cell_type": "markdown",
      "metadata": {},
      "source": [
        "LaTeX italicizes letters by default, so we can use the [LaTeX `\\mathrm`](https://www.tutorialspoint.com/tex_commands/mathrm.htm) to make them non-italicized. (The C-style string substitution using `%` was necessary instead of f-string `{variable}` or `{}.format(variable)` because the braces in those last two interfere with the LaTeX formatting.)"
      ]
    },
    {
      "cell_type": "code",
      "execution_count": 14,
      "metadata": {},
      "outputs": [],
      "source": [
        "def markdown_formula(latex:str):\n",
        "    latex_markdown = r\"$\\mathrm{%s}$\" % (latex.strip(\"$\"))\n",
        "    return latex_markdown"
      ]
    },
    {
      "cell_type": "markdown",
      "metadata": {},
      "source": [
        "Here's the non-italicized result:"
      ]
    },
    {
      "cell_type": "code",
      "execution_count": 15,
      "metadata": {},
      "outputs": [
        {
          "data": {
            "text/markdown": [
              "$\\mathrm{C^{13}CH_{6}{}^{18}O}$"
            ],
            "text/plain": [
              "<IPython.core.display.Markdown object>"
            ]
          },
          "execution_count": 15,
          "metadata": {},
          "output_type": "execute_result"
        }
      ],
      "source": [
        "Markdown(markdown_formula(isotope_formula_latex))"
      ]
    },
    {
      "cell_type": "markdown",
      "metadata": {},
      "source": [
        "As a further utility, we can immediately display the result as Markdown by incorporating that function:"
      ]
    },
    {
      "cell_type": "code",
      "execution_count": 16,
      "metadata": {},
      "outputs": [],
      "source": [
        "def display_markdown_formula(latex):\n",
        "    latex_markdown = r\"$\\mathrm{%s}$\" % (latex.strip(\"$\"))\n",
        "    return Markdown(latex_markdown)"
      ]
    },
    {
      "cell_type": "code",
      "execution_count": 17,
      "metadata": {},
      "outputs": [
        {
          "data": {
            "text/markdown": [
              "$\\mathrm{C^{13}CH_{6}{}^{18}O}$"
            ],
            "text/plain": [
              "<IPython.core.display.Markdown object>"
            ]
          },
          "execution_count": 17,
          "metadata": {},
          "output_type": "execute_result"
        }
      ],
      "source": [
        "display_markdown_formula(isotope_formula_latex)"
      ]
    },
    {
      "cell_type": "markdown",
      "metadata": {},
      "source": [
        "## Conclusion\n",
        "Now that we have a way to calculate molecular formulas, and two formats to display them in, the next blog post will give an application of each format."
      ]
    },
    {
      "cell_type": "code",
      "execution_count": 19,
      "metadata": {},
      "outputs": [],
      "source": [
        "inorganic_compounds = {\n",
        "    # \"Sulfonyl Chloride\": \"CS(=O)(=O)Cl\",\n",
        "    # \"Nitroglycerin\": \"CN(C)C(=O)N[N+](=O)[O-]\",\n",
        "    # \"TNT (Trinitrotoluene)\": \"[O-][N+](=O)C1=CC=CC=C1[O-][N+](=O)[O-]\",\n",
        "    # \"Lead(II) Nitrate\": \"[PbH3](NO3)3\",\n",
        "    # \"Titanium Dioxide\": \"O=[Ti]=O\",\n",
        "    # \"Ferric Chloride\": \"[Fe+3].[O-]Cl(=O)(=O)=O\",\n",
        "    # \"Potassium Acetylide\": \"CC(=O)[O-].[K+].[K+].[K+]\",\n",
        "    # \"Sodium Acetylide\": \"CC(=O)[O-].[Na+].[Na+]\",\n",
        "    \"Water\": \"O\",\n",
        "    \"Carbon tetrachloride\": \"C(Cl)(Cl)(Cl)Cl\",\n",
        "    # \"Ammonia\": \"N\",\n",
        "    \"Methane\": \"C\",\n",
        "    \"Oxygen\": \"O=O\",\n",
        "    \"Bromo(dichloro)gold\": \"Cl[Au](Cl)Br\",\n",
        "    \"Calcium iodide\": \"[Ca+2].[I-].[I-]\",\n",
        "    \"Lithium Oxide\": \"[Li+].[Li+].[O-2]\",\n",
        "    \"Carbon Dioxide\": \"O=C=O\",\n",
        "    \"Nitrogen\": \"N#N\",\n",
        "    \"Gold(III) Chloride\": \"Cl[Au](Cl)Cl\",\n",
        "    \"Hydrogen\": \"[HH]\",\n",
        "    \"Glucose\": \"OC[C@H]1OC(O)[C@H](O)[C@@H](O)[C@@H]1O\",\n",
        "    # \"Sodium Chloride\": \"[Na+].[Cl-]\",\n",
        "    \"Potassium Oxide\": \"[O-2].[K+].[K+]\",\n",
        "    \"Magnesium Chloride\": \"[Mg+2].[Cl-].[Cl-]\",\n",
        "    \"Calcium Carbonate\": \"CC(=O)([O-])[O-].[Ca+2]\",\n",
        "    \"Iron(III) Oxide\": \"[Fe+3].[Fe+3].[O-2].[O-2].[O-2].[O-2].[O-2]\",\n",
        "    \"Copper(II) Sulfate\": \"[Cu+2].[Cu+2].[O-]S([O-])(=O)=O\",\n",
        "    \"Zinc Oxide\": \"[Zn+2].[O-2]\",\n",
        "    \"Silver Nitrate\": \"[Ag+].[N+](=O)[O-]\",\n",
        "    \"Sulfuric Acid\": \"OS(=O)(=O)[O-]\",\n",
        "    \"Lead Sulfide\": \"[Pb].[S]\",\n",
        "    \"Silicon Dioxide\": \"O=[Si]=O\",\n",
        "    \"Aluminum Oxide\": \"[Al+3].[Al+3].[O-2].[O-2].[O-2].[O-2].[O-2]\",\n",
        "    \"Manganese Dioxide\": \"[Mn+2].[O-2].[O-2]\",\n",
        "    \"Tin(II) Chloride\": \"[Sn+2].[Cl-].[Cl-]\",\n",
        "    \"Chromium(III) Oxide\": \"[O-2].[O-2].[Cr+3].[O-2].[O-2].[O-2].[O-2].[O-2].[O-2].[O-2].[O-2]\",\n",
        "    \"Nickel(II) Chloride\": \"[Ni+2].[Cl-2].[Cl-2]\",\n",
        "    \"Cobalt Carbonate\": \"[Co+2].[Co+2].[O-]C(=O)[O-]\",\n",
        "    \"Iron(III) Chloride\": \"[Fe+3].[Fe+3].[Cl-].[Cl-].[Cl-].[Cl-]\",\n",
        "    \"Calcium Sulfate\": \"[Ca+2].[Ca+2].[O-]S([O-])(=O)=O\",\n",
        "    \"Hydrochloric Acid\": \"Cl\",\n",
        "    \"Hydrofluoric Acid\": \"F\",\n",
        "    \"Hydrogen Sulfide\": \"S\",\n",
        "    \"Nitrogen Dioxide\": \"O=N=O\",\n",
        "    \"Sulfur Trioxide\": \"O=S(=O)=O\",\n",
        "    \"Carbon Monoxide\": \"C#O\",\n",
        "    \"Chlorine Gas\": \"ClCl\",\n",
        "    \"Ozone\": \"O1OO1\",\n",
        "    \"Fluorine Gas\": \"FF\",\n",
        "    \"Nitrous Oxide\": \"N[N](=O)=O\",\n",
        "    \"Hydrogen Selenide\": \"S=[H][H]\",\n",
        "    \"Phosphine\": \"P\",\n",
        "    \"Hydrobromic Acid\": \"Br\",\n",
        "    \"Hydrogen Telluride\": \"[H][TeH]\",\n",
        "    \"Antimony(III) Oxide\": \"O=[Sb]=O\",\n",
        "    \"Barium Chloride\": \"[Ba+2].[Cl-].[Cl-]\",\n",
        "    \"Cadmium Sulfide\": \"[Cd+2].[S-2]\",\n",
        "    \"Mercury(II) Chloride\": \"[Hg+2].[Cl-2].[Cl-2]\",\n",
        "    \"Arsenic(III) Oxide\": \"O=[As]=O\",\n",
        "    \"Platinum(IV) Chloride\": \"[Pt+4].[Cl-2].[Cl-2].[Cl-2].[Cl-2]\",\n",
        "    \"Tin(IV) Oxide\": \"[Sn+4].[O-2].[O-2]\",\n",
        "    \"Silver Sulfide\": \"[Ag+].[Ag+].[S-2]\",\n",
        "}"
      ]
    },
    {
      "cell_type": "code",
      "execution_count": 20,
      "metadata": {},
      "outputs": [
        {
          "name": "stderr",
          "output_type": "stream",
          "text": [
            "[00:23:36] WARNING: not removing hydrogen atom without neighbors\n",
            "[00:23:36] Explicit valence for atom # 1 C, 5, is greater than permitted\n",
            "[00:23:36] Explicit valence for atom # 1 Cl, 2, is greater than permitted\n",
            "[00:23:36] Explicit valence for atom # 1 N, 4, is greater than permitted\n",
            "[00:23:36] Explicit valence for atom # 1 O, 3, is greater than permitted\n",
            "[00:23:36] Explicit valence for atom # 1 H, 3, is greater than permitted\n",
            "[00:23:36] Explicit valence for atom # 1 Cl, 2, is greater than permitted\n",
            "[00:23:36] Explicit valence for atom # 1 Cl, 2, is greater than permitted\n"
          ]
        }
      ],
      "source": [
        "mols = {name:Chem.MolFromSmiles(sml) for name, sml in inorganic_compounds.items()}"
      ]
    },
    {
      "cell_type": "code",
      "execution_count": 21,
      "metadata": {},
      "outputs": [],
      "source": [
        "mols_valid = {name:mol for name, mol in mols.items() if mol is not None}"
      ]
    },
    {
      "cell_type": "code",
      "execution_count": 22,
      "metadata": {},
      "outputs": [],
      "source": [
        "formulas = {name:markdown_formula(mol_to_formatted_formula(mol)[\"latex\"]) for name, mol in mols_valid.items()}"
      ]
    },
    {
      "cell_type": "code",
      "execution_count": 23,
      "metadata": {},
      "outputs": [
        {
          "data": {
            "text/markdown": [
              "$\\mathrm{CO_{2}}$"
            ],
            "text/plain": [
              "<IPython.core.display.Markdown object>"
            ]
          },
          "execution_count": 23,
          "metadata": {},
          "output_type": "execute_result"
        }
      ],
      "source": [
        "Markdown(formulas[\"Carbon Dioxide\"])"
      ]
    },
    {
      "cell_type": "code",
      "execution_count": 24,
      "metadata": {},
      "outputs": [
        {
          "data": {
            "text/markdown": [
              "$\\mathrm{H_{2}O}$"
            ],
            "text/plain": [
              "<IPython.core.display.Markdown object>"
            ]
          },
          "execution_count": 24,
          "metadata": {},
          "output_type": "execute_result"
        }
      ],
      "source": [
        "Markdown(formulas[\"Water\"])"
      ]
    },
    {
      "cell_type": "code",
      "execution_count": 25,
      "metadata": {},
      "outputs": [
        {
          "data": {
            "text/markdown": [
              "$\\mathrm{C_{6}H_{12}O_{6}}$"
            ],
            "text/plain": [
              "<IPython.core.display.Markdown object>"
            ]
          },
          "execution_count": 25,
          "metadata": {},
          "output_type": "execute_result"
        }
      ],
      "source": [
        "Markdown(formulas[\"Glucose\"])"
      ]
    },
    {
      "cell_type": "code",
      "execution_count": 26,
      "metadata": {},
      "outputs": [
        {
          "data": {
            "text/markdown": [
              "$\\mathrm{O_{2}}$"
            ],
            "text/plain": [
              "<IPython.core.display.Markdown object>"
            ]
          },
          "execution_count": 26,
          "metadata": {},
          "output_type": "execute_result"
        }
      ],
      "source": [
        "Markdown(formulas[\"Oxygen\"])"
      ]
    },
    {
      "cell_type": "code",
      "execution_count": 27,
      "metadata": {},
      "outputs": [
        {
          "data": {
            "text/markdown": [
              "$6\\mathrm{CO_{2}}+ 6\\mathrm{H_{2}O}→\\mathrm{C_{6}H_{12}O_{6}}+ 6\\mathrm{O_{2}}$"
            ],
            "text/plain": [
              "<IPython.core.display.Markdown object>"
            ]
          },
          "metadata": {},
          "output_type": "display_data"
        }
      ],
      "source": [
        "photosynthesis = \"$\" + \"6\" + formulas[\"Carbon Dioxide\"].strip(\"$\") + \"+ 6\" + formulas[\"Water\"].strip(\"$\") + \"→\" + formulas[\"Glucose\"].strip(\"$\") + \"+ 6\" + formulas[\"Oxygen\"].strip(\"$\") + \"$\"\n",
        "display(Markdown(photosynthesis))"
      ]
    },
    {
      "cell_type": "code",
      "execution_count": null,
      "metadata": {},
      "outputs": [],
      "source": []
    },
    {
      "cell_type": "code",
      "execution_count": 28,
      "metadata": {},
      "outputs": [],
      "source": [
        "def dict_values_to_markdown_table(\n",
        "        data,\n",
        "        n_cells: int = None,\n",
        "        ):\n",
        "    \"\"\"\n",
        "    Convert a list of dictionaries into a Markdown table with three columns (Value 1, Value 2, Value 3).\n",
        "\n",
        "    Args:\n",
        "        data (list): A list of dictionaries, where each dictionary corresponds to a row in the table.\n",
        "\n",
        "    Returns:\n",
        "        str: The Markdown-formatted table as a string.\n",
        "    \"\"\"\n",
        "    if not data:\n",
        "        return \"\"\n",
        "\n",
        "    table = \"\"\n",
        "\n",
        "    # # # Create the table headers\n",
        "    table = \"| Value 1 | Value 2 | Value 3 |\\n\"\n",
        "\n",
        "    # # # # Create the title divider line\n",
        "    table += \"| --- | --- | --- |\\n\"\n",
        "\n",
        "    col0 = []\n",
        "    col1 = []\n",
        "    col2 = []\n",
        "\n",
        "    if n_cells is None:\n",
        "        n_cells = len(data)\n",
        "\n",
        "    # Create the table body\n",
        "    for index, (name, formula) in enumerate(data.items()):\n",
        "        if index < n_cells:\n",
        "            match index % 3:\n",
        "                case 0: \n",
        "                    col0.append(formula)\n",
        "                case 1: \n",
        "                    col1.append(formula)\n",
        "                case 2: \n",
        "                    col2.append(formula)\n",
        "        else:\n",
        "            break\n",
        "\n",
        "    # Truncate all columns to the shortest one to prevent index-out-of-range error\n",
        "    min_len = min(len(col0), len(col1), len(col2))\n",
        "    col0_truncated = col0[:min_len]\n",
        "    col1_truncated = col1[:min_len]\n",
        "    col2_truncated = col2[:min_len]\n",
        "\n",
        "    for index in range(len(col0_truncated)):\n",
        "        table += f\"| {col0_truncated[index]} | {col1_truncated[index]} | {col2_truncated[index]} |\\n\"\n",
        "\n",
        "    return table\n"
      ]
    },
    {
      "cell_type": "code",
      "execution_count": 29,
      "metadata": {},
      "outputs": [
        {
          "data": {
            "text/markdown": [
              "| Value 1 | Value 2 | Value 3 |\n",
              "| --- | --- | --- |\n",
              "| $\\mathrm{H_{2}O}$ | $\\mathrm{CCl_{4}}$ | $\\mathrm{CH_{4}}$ |\n",
              "| $\\mathrm{O_{2}}$ | $\\mathrm{AuBrCl_{2}}$ | $\\mathrm{CaI_{2}}$ |\n",
              "| $\\mathrm{Li_{2}O}$ | $\\mathrm{CO_{2}}$ | $\\mathrm{N_{2}}$ |\n"
            ],
            "text/plain": [
              "<IPython.core.display.Markdown object>"
            ]
          },
          "execution_count": 29,
          "metadata": {},
          "output_type": "execute_result"
        }
      ],
      "source": [
        "Markdown(dict_values_to_markdown_table(formulas, 9))"
      ]
    },
    {
      "cell_type": "code",
      "execution_count": null,
      "metadata": {},
      "outputs": [],
      "source": []
    }
  ],
  "metadata": {
    "colab": {
      "provenance": []
    },
    "kernelspec": {
      "display_name": "Python 3",
      "name": "python3"
    },
    "language_info": {
      "codemirror_mode": {
        "name": "ipython",
        "version": 3
      },
      "file_extension": ".py",
      "mimetype": "text/x-python",
      "name": "python",
      "nbconvert_exporter": "python",
      "pygments_lexer": "ipython3",
      "version": "3.11.0"
    }
  },
  "nbformat": 4,
  "nbformat_minor": 0
}
