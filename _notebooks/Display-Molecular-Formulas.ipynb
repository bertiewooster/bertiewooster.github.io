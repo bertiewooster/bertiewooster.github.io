{
 "cells": [
  {
   "cell_type": "markdown",
   "metadata": {},
   "source": [
    "# Displaying Molecular Formulas in Tables and Graphs"
   ]
  },
  {
   "cell_type": "markdown",
   "metadata": {},
   "source": [
    "Here's how to display formatted molecular formulas in tables and graphs. In addition to formatted molecular formulas, these techniques should work for any Markdown or LaTeX."
   ]
  },
  {
   "cell_type": "markdown",
   "metadata": {},
   "source": [
    "In the last blog post, we generated molecular formulas from SMILES strings or RDKit molecules. Once we have those molecular formulas, formatted as Markdown or LaTeX, we might want to display them in tables or graphs."
   ]
  },
  {
   "cell_type": "markdown",
   "metadata": {},
   "source": [
    "***Use examples that make sense with [CHNS analysis](https://en.wikipedia.org/wiki/Elemental_analysis#CHNX_analysis)***"
   ]
  },
  {
   "cell_type": "code",
   "execution_count": 150,
   "metadata": {},
   "outputs": [],
   "source": [
    "%%capture\n",
    "%!pip install rdkit\n",
    "%!pip install black[jupyter]\n",
    "%!pip install polars\n",
    "%!pip install pyarrow"
   ]
  },
  {
   "cell_type": "code",
   "execution_count": 92,
   "metadata": {},
   "outputs": [],
   "source": [
    "# Mount Google Drive so can format code in this notebook using black\n",
    "# from google.colab import drive\n",
    "\n",
    "# drive.mount(\"/content/drive\")"
   ]
  },
  {
   "cell_type": "code",
   "execution_count": 93,
   "metadata": {},
   "outputs": [],
   "source": [
    "# Format code using black\n",
    "# procedure at https://stackoverflow.com/questions/63076002/code-formatter-like-nb-black-for-google-colab#71001241\n",
    "# !black \"/content/drive/MyDrive/Colab Notebooks/Molecular Formula Generation.ipynb\""
   ]
  },
  {
   "cell_type": "code",
   "execution_count": 151,
   "metadata": {},
   "outputs": [],
   "source": [
    "from collections import defaultdict\n",
    "from IPython.display import display, Markdown\n",
    "\n",
    "from rdkit import Chem\n",
    "import polars as pl"
   ]
  },
  {
   "cell_type": "markdown",
   "metadata": {},
   "source": [
    "## Molecular formula generation code from previous blog post"
   ]
  },
  {
   "cell_type": "code",
   "execution_count": 95,
   "metadata": {},
   "outputs": [],
   "source": [
    "def composition(\n",
    "    molecule: Chem.Mol,\n",
    "    isotopes: bool = False,\n",
    ") -> defaultdict:\n",
    "    \"\"\"Get the composition of an RDKit molecule:\n",
    "    Atomic counts, including hydrogen atoms, and isotopes if requested.\n",
    "    For example, ethanol (SMILES [13C](H)(H)(H)CO, formula C2H6O) returns:\n",
    "      if isotopes = False (default): {'C': 2, 'O': 1, 'H': 6}.\n",
    "      if isotopes = True: {'C': {13: 1, 0: 1}, 'O': {0: 1}, 'H': {0: 6}}.\n",
    "\n",
    "    :param molecule: The RDKit molecule to analyze\n",
    "    :param isotopes: Whether to include the isotope of each atom\n",
    "    :returns: if isotopes = False (default): a dictionary of element:count entries;\n",
    "              if isotopes = True: a nested dictionary of element:isotope:count entries.\n",
    "    \"\"\"\n",
    "    # Check that there is a valid molecule\n",
    "    if not molecule:\n",
    "        return\n",
    "\n",
    "    # Add hydrogen atoms--RDKit excludes them by default\n",
    "    molecule = Chem.AddHs(molecule)\n",
    "    comp = defaultdict(lambda: 0)\n",
    "\n",
    "    # Get atom counts\n",
    "    for atom in molecule.GetAtoms():\n",
    "        element_symbol = atom.GetSymbol()\n",
    "        # If isotopes not requested, simply count the number of atoms of each element\n",
    "        if not isotopes:\n",
    "            comp[element_symbol] += 1\n",
    "        # If isotopes requested, count the number of each isotope of each element\n",
    "        else:\n",
    "            isotope = atom.GetIsotope()\n",
    "            try:\n",
    "                comp[element_symbol][isotope] += 1\n",
    "            except:\n",
    "                comp[element_symbol] = defaultdict(lambda: 0)\n",
    "                comp[element_symbol][isotope] += 1\n",
    "    return comp"
   ]
  },
  {
   "cell_type": "code",
   "execution_count": 96,
   "metadata": {},
   "outputs": [],
   "source": [
    "def mol_to_formatted_formula(\n",
    "    mol: Chem.Mol,\n",
    "    isotopes: bool = False,\n",
    ") -> dict[str, str]:\n",
    "    if mol is None:\n",
    "        return \"Invalid molecule\"\n",
    "    comp = composition(mol, isotopes)\n",
    "\n",
    "    formula = {\"markdown\": \"\", \"latex\": \"\"}\n",
    "\n",
    "    if isotopes:\n",
    "        isotopes_dict = defaultdict(lambda: defaultdict(str))\n",
    "        subscripts = defaultdict(lambda: defaultdict(int))\n",
    "        superscripts = defaultdict(list)\n",
    "\n",
    "        for element, counts in comp.items():\n",
    "            for isotope, count in counts.items():\n",
    "                if count > 1:\n",
    "                    subscripts[element][isotope] = count\n",
    "                if isotope != 0:\n",
    "                    superscripts[element].append(isotope)\n",
    "\n",
    "                isotopes_dict[element][isotope] = 1\n",
    "            # Sort the element's isotopes from lowest to highest\n",
    "            superscripts[element].sort()\n",
    "\n",
    "        last_item_is_subscript = False\n",
    "        sorted_element_keys = sorted(isotopes_dict.keys())\n",
    "        for element in sorted_element_keys:\n",
    "            isotope_count_pairs = isotopes_dict[element]\n",
    "            # Sort the element's isotopes from lowest to highest\n",
    "            sorted_isotope_keys = sorted(isotope_count_pairs.keys())\n",
    "            for isotope in sorted_isotope_keys:\n",
    "                if element in superscripts:\n",
    "                    if isotope in superscripts[element]:\n",
    "                        formula[\"markdown\"] += f\"<sup>{isotope}</sup>\"\n",
    "\n",
    "                        # If superscript immediately follows subscript,\n",
    "                        # add a small amount of horizontal space using an empty group {}\n",
    "                        # to prevent them from vertically overlapping\n",
    "                        if last_item_is_subscript:\n",
    "                            formula[\"latex\"] += \"{}\"\n",
    "                        formula[\"latex\"] += \"^{ %d}\" % isotope\n",
    "                        last_item_is_subscript = False\n",
    "                formula[\"markdown\"] += element\n",
    "                formula[\"latex\"] += element\n",
    "                last_item_is_subscript = False\n",
    "                if element in subscripts:\n",
    "                    if isotope in subscripts[element]:\n",
    "                        isotope_count = subscripts[element][isotope]\n",
    "                        formula[\"markdown\"] += f\"<sub>{isotope_count}</sub>\"\n",
    "                        formula[\"latex\"] += \"_{ %d}\" % isotope_count\n",
    "                    last_item_is_subscript = True\n",
    "        # Add beginning and ending dollar signs to LaTeX formula\n",
    "        formula[\"latex\"] = \"$\" + formula[\"latex\"] + \"$\"\n",
    "    else:\n",
    "        # Handling the case when isotopes is False\n",
    "        sorted_element_keys = sorted(comp.keys())\n",
    "\n",
    "        for element in sorted_element_keys:\n",
    "            count = comp[element]\n",
    "            formula[\"markdown\"] += element\n",
    "            formula[\"latex\"] += element\n",
    "            if count > 1:\n",
    "                formula[\"markdown\"] += f\"<sub>{count}</sub>\"\n",
    "                formula[\"latex\"] += \"_{ %d}\" % count\n",
    "        formula[\"latex\"] = \"$\" + formula[\"latex\"] + \"$\"\n",
    "\n",
    "    return formula"
   ]
  },
  {
   "cell_type": "code",
   "execution_count": 97,
   "metadata": {},
   "outputs": [],
   "source": [
    "def markdown_formula(latex: str) -> str:\n",
    "    latex_markdown = r\"$\\mathrm{ %s}$\" % (latex.strip(\"$\"))\n",
    "    return latex_markdown"
   ]
  },
  {
   "cell_type": "markdown",
   "metadata": {},
   "source": [
    "## Molecules for this post"
   ]
  },
  {
   "cell_type": "code",
   "execution_count": 98,
   "metadata": {},
   "outputs": [],
   "source": [
    "formulas_markdown = [\"C<sub>2</sub>H<sub>6</sub><sup>18</sup>O\", \"C<sup>13</sup>CH<sub>6</sub><sup>18</sup>O\", \"<sup>13</sup>C<sub>2</sub>H<sub>6</sub><sup>18</sup>O\"]\n",
    "formulas_latex = [\"$C_{2}H_{6}{}^{18}O$\", \"$C^{13}CH_{6}{}^{18}O$\", \"$^{13}C_{2}H_{6}{}^{18}O$\"]"
   ]
  },
  {
   "cell_type": "code",
   "execution_count": 99,
   "metadata": {},
   "outputs": [
    {
     "data": {
      "text/markdown": [
       "C<sub>2</sub>H<sub>6</sub><sup>18</sup>O"
      ],
      "text/plain": [
       "<IPython.core.display.Markdown object>"
      ]
     },
     "metadata": {},
     "output_type": "display_data"
    },
    {
     "data": {
      "text/markdown": [
       "C<sup>13</sup>CH<sub>6</sub><sup>18</sup>O"
      ],
      "text/plain": [
       "<IPython.core.display.Markdown object>"
      ]
     },
     "metadata": {},
     "output_type": "display_data"
    },
    {
     "data": {
      "text/markdown": [
       "<sup>13</sup>C<sub>2</sub>H<sub>6</sub><sup>18</sup>O"
      ],
      "text/plain": [
       "<IPython.core.display.Markdown object>"
      ]
     },
     "metadata": {},
     "output_type": "display_data"
    }
   ],
   "source": [
    "for formula in formulas_markdown:\n",
    "    display(Markdown(formula))"
   ]
  },
  {
   "cell_type": "code",
   "execution_count": 100,
   "metadata": {},
   "outputs": [
    {
     "data": {
      "text/markdown": [
       "$C_{2}H_{6}{}^{18}O$"
      ],
      "text/plain": [
       "<IPython.core.display.Markdown object>"
      ]
     },
     "metadata": {},
     "output_type": "display_data"
    },
    {
     "data": {
      "text/markdown": [
       "$C^{13}CH_{6}{}^{18}O$"
      ],
      "text/plain": [
       "<IPython.core.display.Markdown object>"
      ]
     },
     "metadata": {},
     "output_type": "display_data"
    },
    {
     "data": {
      "text/markdown": [
       "$^{13}C_{2}H_{6}{}^{18}O$"
      ],
      "text/plain": [
       "<IPython.core.display.Markdown object>"
      ]
     },
     "metadata": {},
     "output_type": "display_data"
    }
   ],
   "source": [
    "for formula in formulas_latex:\n",
    "    display(Markdown(formula))"
   ]
  },
  {
   "cell_type": "markdown",
   "metadata": {},
   "source": [
    "## Elemental analysis code: Weight percent by element"
   ]
  },
  {
   "cell_type": "code",
   "execution_count": 101,
   "metadata": {},
   "outputs": [
    {
     "data": {
      "image/png": "[encoded data removed]",
      "text/plain": [
       "<rdkit.Chem.rdchem.Mol at 0x11e6f2110>"
      ]
     },
     "execution_count": 101,
     "metadata": {},
     "output_type": "execute_result"
    }
   ],
   "source": [
    "sml = \"CCO\"\n",
    "mol = Chem.AddHs(Chem.MolFromSmiles(sml))\n",
    "mol"
   ]
  },
  {
   "cell_type": "code",
   "execution_count": 102,
   "metadata": {},
   "outputs": [],
   "source": [
    "def element_set(molecule):\n",
    "    \"\"\"Get the set of elements in an RDKit molecule\n",
    "    For example, ethanol (SMILES CCO, formula C2H5OH)\n",
    "    returns {'C', 'O', 'H'}.\n",
    "\n",
    "    :param molecule: An RDKit molecule\n",
    "    :returns: A set.\n",
    "    \"\"\"\n",
    "    # Check that there is a valid molecule\n",
    "    if molecule:\n",
    "      # Add hydrogen atoms--RDKit excludes them by default\n",
    "      molecule_with_Hs = Chem.AddHs(molecule)\n",
    "      atom_symbols = set(atom.GetSymbol() for atom in molecule_with_Hs.GetAtoms())\n",
    "      return atom_symbols"
   ]
  },
  {
   "cell_type": "code",
   "execution_count": 103,
   "metadata": {},
   "outputs": [
    {
     "data": {
      "text/plain": [
       "{'C', 'H', 'O'}"
      ]
     },
     "execution_count": 103,
     "metadata": {},
     "output_type": "execute_result"
    }
   ],
   "source": [
    "element_set(mol)"
   ]
  },
  {
   "cell_type": "code",
   "execution_count": 169,
   "metadata": {},
   "outputs": [],
   "source": [
    "class elemental_analysis_mol():\n",
    "    def __init__(self, mol):\n",
    "        self.mol = mol\n",
    "\n",
    "        # Create dictionary of element:absolute mass\n",
    "        element_abs_dict = defaultdict()\n",
    "        for atom in mol.GetAtoms():\n",
    "            try:\n",
    "                element_abs_dict[atom.GetSymbol()] += atom.GetMass()\n",
    "            except:\n",
    "                element_abs_dict[atom.GetSymbol()] = atom.GetMass()\n",
    "\n",
    "        formulas = mol_to_formatted_formula(self.mol)\n",
    "        self.formula_markdown = formulas.get(\"markdown\")\n",
    "        self.formula_latex = formulas.get(\"latex\")\n",
    "        self.total_mass = sum(element_abs_dict.values())\n",
    "\n",
    "        # Create dictionary of element:relative (to the molecule) mass\n",
    "        self.element_rel_dict = defaultdict()\n",
    "        for element, mass in element_abs_dict.items():\n",
    "            self.element_rel_dict[element] = mass/self.total_mass\n",
    "    def update(self, mol):\n",
    "        \"\"\"Define an update method so the elemental_analysis_mol can remain as the same object if updated\"\"\"\n",
    "        self.__init__(mol)\n",
    "    def get_mass_frac(self, element):\n",
    "        return self.element_rel_dict.get(element, 0)"
   ]
  },
  {
   "cell_type": "code",
   "execution_count": 112,
   "metadata": {},
   "outputs": [
    {
     "name": "stdout",
     "output_type": "stream",
     "text": [
      "0.5214352384466777\n",
      "0.34728342269204887\n",
      "0.1312813388612733\n"
     ]
    }
   ],
   "source": [
    "ea = elemental_analysis_mol(mol)\n",
    "ea.get_mass_frac(\"O\")\n",
    "for element in ea.element_rel_dict.keys():\n",
    "    print(ea.get_mass_frac(element))"
   ]
  },
  {
   "cell_type": "code",
   "execution_count": 116,
   "metadata": {},
   "outputs": [
    {
     "data": {
      "text/markdown": [
       "| formula | mass (amu) | wt% C | wt% H | wt% O |\n",
       "| --- | --- | --- | --- | --- |\n",
       "| C<sub>2</sub>H<sub>6</sub>O | 46.069 | 0.5214352384466777 | 0.1312813388612733 | 0.34728342269204887 |\n"
      ],
      "text/plain": [
       "<IPython.core.display.Markdown object>"
      ]
     },
     "execution_count": 116,
     "metadata": {},
     "output_type": "execute_result"
    }
   ],
   "source": [
    "eas = [{\"formula\": ea.formula_markdown, \"mass (amu)\": ea.total_mass, \"wt% C\": ea.get_mass_frac(\"C\"), \"wt% H\": ea.get_mass_frac(\"H\"), \"wt% O\": ea.get_mass_frac(\"O\")}]\n",
    "t = dict_list_to_markdown_table(eas)\n",
    "Markdown(t)"
   ]
  },
  {
   "cell_type": "code",
   "execution_count": 166,
   "metadata": {},
   "outputs": [],
   "source": [
    "eas_prog = []\n",
    "smls = [\"CO\", \"CCO\", \"CCCO\", \"C\"]\n",
    "for sml in smls:\n",
    "    mol = Chem.AddHs(Chem.MolFromSmiles(sml))\n",
    "    this_ea_mol = elemental_analysis_mol(mol)\n",
    "    this_ea = {\"formula\": this_ea_mol.formula_markdown, \"mass (amu)\": this_ea_mol.total_mass}\n",
    "    for element in element_set(mol):\n",
    "        this_ea.update({\"wt %\" + element: this_ea_mol.get_mass_frac(element)})\n",
    "    eas_prog.append(this_ea)"
   ]
  },
  {
   "cell_type": "code",
   "execution_count": 229,
   "metadata": {},
   "outputs": [],
   "source": [
    "def markdown_formula(latex: str) -> str:\n",
    "    return r\"$\\mathrm{ %s}$\" % (latex.strip(\"$\"))"
   ]
  },
  {
   "cell_type": "code",
   "execution_count": 230,
   "metadata": {},
   "outputs": [],
   "source": [
    "df = df = pl.DataFrame({\"sml\": smls})\n",
    "df = df.with_columns(\n",
    "    [\n",
    "        pl.col(\"sml\").map_elements(lambda sml: Chem.AddHs(Chem.MolFromSmiles(sml))).alias(\"mol\"),\n",
    "    ]\n",
    ")\n",
    "df = df.with_columns(\n",
    "    [\n",
    "        pl.col(\"mol\").map_elements(lambda mol: elemental_analysis_mol(mol)).alias(\"elemental_analysis_mol\"),\n",
    "    ]\n",
    ")\n",
    "df = df.with_columns(\n",
    "    [\n",
    "        pl.col(\"elemental_analysis_mol\").map_elements(lambda x: x.formula_markdown).alias(\"formula_markdown\"),\n",
    "        pl.col(\"elemental_analysis_mol\").map_elements(lambda x: markdown_formula(x.formula_latex)).alias(\"formula_latex\"),\n",
    "    ]\n",
    ")\n",
    "\n",
    "# Create set of elements in all molecules\n",
    "element_set_mols = set()\n",
    "\n",
    "for mol in df[\"mol\"]:\n",
    "    element_set_mols.update(element_set(mol))\n",
    "element_set_mols\n",
    "\n",
    "for element in element_set_mols:\n",
    "    df = df.with_columns(\n",
    "    [\n",
    "        pl.col(\"elemental_analysis_mol\").map_elements(lambda x: x.get_mass_frac(element)).alias(f\"wt %{element}\"),\n",
    "    ]\n",
    ")"
   ]
  },
  {
   "cell_type": "code",
   "execution_count": 231,
   "metadata": {},
   "outputs": [
    {
     "data": {
      "text/html": [
       "<div><style>\n",
       ".dataframe > thead > tr > th,\n",
       ".dataframe > tbody > tr > td {\n",
       "  text-align: right;\n",
       "  white-space: pre-wrap;\n",
       "}\n",
       "</style>\n",
       "<small>shape: (4, 8)</small><table border=\"1\" class=\"dataframe\"><thead><tr><th>sml</th><th>mol</th><th>elemental_analysis_mol</th><th>formula_markdown</th><th>formula_latex</th><th>wt %O</th><th>wt %H</th><th>wt %C</th></tr><tr><td>str</td><td>object</td><td>object</td><td>str</td><td>str</td><td>f64</td><td>f64</td><td>f64</td></tr></thead><tbody><tr><td>&quot;CO&quot;</td><td>&lt;rdkit.Chem.rdchem.Mol object at 0x15edd7b50&gt;</td><td>&lt;__main__.elemental_analysis_mol object at 0x15eee2090&gt;</td><td>&quot;CH&lt;sub&gt;4&lt;/sub&gt;…</td><td>&quot;$\\mathrm{ CH_{…</td><td>0.499313</td><td>0.125835</td><td>0.374852</td></tr><tr><td>&quot;CCO&quot;</td><td>&lt;rdkit.Chem.rdchem.Mol object at 0x15edd7bc0&gt;</td><td>&lt;__main__.elemental_analysis_mol object at 0x15eee1910&gt;</td><td>&quot;C&lt;sub&gt;2&lt;/sub&gt;H…</td><td>&quot;$\\mathrm{ C_{ …</td><td>0.347283</td><td>0.131281</td><td>0.521435</td></tr><tr><td>&quot;CCCO&quot;</td><td>&lt;rdkit.Chem.rdchem.Mol object at 0x15edd7ae0&gt;</td><td>&lt;__main__.elemental_analysis_mol object at 0x15eee2110&gt;</td><td>&quot;C&lt;sub&gt;3&lt;/sub&gt;H…</td><td>&quot;$\\mathrm{ C_{ …</td><td>0.266224</td><td>0.134185</td><td>0.599591</td></tr><tr><td>&quot;C&quot;</td><td>&lt;rdkit.Chem.rdchem.Mol object at 0x15edd7a00&gt;</td><td>&lt;__main__.elemental_analysis_mol object at 0x15eee3d10&gt;</td><td>&quot;CH&lt;sub&gt;4&lt;/sub&gt;…</td><td>&quot;$\\mathrm{ CH_{…</td><td>0.0</td><td>0.251325</td><td>0.748675</td></tr></tbody></table></div>"
      ],
      "text/plain": [
       "shape: (4, 8)\n",
       "┌──────┬──────────────┬──────────────┬──────────────┬─────────────┬──────────┬──────────┬──────────┐\n",
       "│ sml  ┆ mol          ┆ elemental_an ┆ formula_mark ┆ formula_lat ┆ wt %O    ┆ wt %H    ┆ wt %C    │\n",
       "│ ---  ┆ ---          ┆ alysis_mol   ┆ down         ┆ ex          ┆ ---      ┆ ---      ┆ ---      │\n",
       "│ str  ┆ object       ┆ ---          ┆ ---          ┆ ---         ┆ f64      ┆ f64      ┆ f64      │\n",
       "│      ┆              ┆ object       ┆ str          ┆ str         ┆          ┆          ┆          │\n",
       "╞══════╪══════════════╪══════════════╪══════════════╪═════════════╪══════════╪══════════╪══════════╡\n",
       "│ CO   ┆ <rdkit.Chem. ┆ <__main__.el ┆ CH<sub>4</su ┆ $\\mathrm{   ┆ 0.499313 ┆ 0.125835 ┆ 0.374852 │\n",
       "│      ┆ rdchem.Mol   ┆ emental_anal ┆ b>O          ┆ CH_{ 4}O}$  ┆          ┆          ┆          │\n",
       "│      ┆ object at…   ┆ ysis_mol…    ┆              ┆             ┆          ┆          ┆          │\n",
       "│ CCO  ┆ <rdkit.Chem. ┆ <__main__.el ┆ C<sub>2</sub ┆ $\\mathrm{   ┆ 0.347283 ┆ 0.131281 ┆ 0.521435 │\n",
       "│      ┆ rdchem.Mol   ┆ emental_anal ┆ >H<sub>6</su ┆ C_{ 2}H_{   ┆          ┆          ┆          │\n",
       "│      ┆ object at…   ┆ ysis_mol…    ┆ b>O          ┆ 6}O}$       ┆          ┆          ┆          │\n",
       "│ CCCO ┆ <rdkit.Chem. ┆ <__main__.el ┆ C<sub>3</sub ┆ $\\mathrm{   ┆ 0.266224 ┆ 0.134185 ┆ 0.599591 │\n",
       "│      ┆ rdchem.Mol   ┆ emental_anal ┆ >H<sub>8</su ┆ C_{ 3}H_{   ┆          ┆          ┆          │\n",
       "│      ┆ object at…   ┆ ysis_mol…    ┆ b>O          ┆ 8}O}$       ┆          ┆          ┆          │\n",
       "│ C    ┆ <rdkit.Chem. ┆ <__main__.el ┆ CH<sub>4</su ┆ $\\mathrm{   ┆ 0.0      ┆ 0.251325 ┆ 0.748675 │\n",
       "│      ┆ rdchem.Mol   ┆ emental_anal ┆ b>           ┆ CH_{ 4}}$   ┆          ┆          ┆          │\n",
       "│      ┆ object at…   ┆ ysis_mol…    ┆              ┆             ┆          ┆          ┆          │\n",
       "└──────┴──────────────┴──────────────┴──────────────┴─────────────┴──────────┴──────────┴──────────┘"
      ]
     },
     "execution_count": 231,
     "metadata": {},
     "output_type": "execute_result"
    }
   ],
   "source": [
    "df"
   ]
  },
  {
   "cell_type": "code",
   "execution_count": 232,
   "metadata": {},
   "outputs": [
    {
     "data": {
      "text/markdown": [
       "| # | sml | formula_markdown | wt %O | wt %H | wt %C |\n",
       "| --- | --- | --- | --- | --- | --- |\n",
       "| 1 | CO | CH<sub>4</sub>O | 0.4993134011609762 | 0.12583484177017665 | 0.3748517570688471 |\n",
       "| 2 | CCO | C<sub>2</sub>H<sub>6</sub>O | 0.34728342269204887 | 0.1312813388612733 | 0.5214352384466777 |\n",
       "| 3 | CCCO | C<sub>3</sub>H<sub>8</sub>O | 0.26622404153354634 | 0.134185303514377 | 0.5995906549520766 |\n",
       "| 4 | C | CH<sub>4</sub> | 0.0 | 0.2513245652309419 | 0.7486754347690582 |\n"
      ],
      "text/plain": [
       "<IPython.core.display.Markdown object>"
      ]
     },
     "metadata": {},
     "output_type": "display_data"
    }
   ],
   "source": [
    "df_display = df.select([\n",
    "    col for col in df.columns\n",
    "    if col.startswith(\"wt\") or col in [\"sml\", \"formula_markdown\"]\n",
    "])\n",
    "table = dict_list_to_markdown_table(\n",
    "    df_display.rows(named=True),\n",
    "    number_rows=True)\n",
    "display(Markdown(table))"
   ]
  },
  {
   "cell_type": "code",
   "execution_count": 233,
   "metadata": {},
   "outputs": [],
   "source": [
    "sml_list = df[\"sml\"].to_list()\n",
    "formula_markdown_list = df[\"formula_markdown\"].to_list()\n",
    "formula_latex_list = df[\"formula_latex\"].to_list()\n",
    "wt_O_list = df[\"wt %O\"].to_list()\n",
    "wt_H_list = df[\"wt %H\"].to_list()\n",
    "wt_C_list = df[\"wt %C\"].to_list()\n"
   ]
  },
  {
   "cell_type": "code",
   "execution_count": 234,
   "metadata": {},
   "outputs": [
    {
     "data": {
      "text/html": [
       "<div>\n",
       "<style scoped>\n",
       "    .dataframe tbody tr th:only-of-type {\n",
       "        vertical-align: middle;\n",
       "    }\n",
       "\n",
       "    .dataframe tbody tr th {\n",
       "        vertical-align: top;\n",
       "    }\n",
       "\n",
       "    .dataframe thead th {\n",
       "        text-align: right;\n",
       "    }\n",
       "</style>\n",
       "<table border=\"1\" class=\"dataframe\">\n",
       "  <thead>\n",
       "    <tr style=\"text-align: right;\">\n",
       "      <th></th>\n",
       "      <th>sml</th>\n",
       "      <th>Molecule</th>\n",
       "      <th>O</th>\n",
       "      <th>H</th>\n",
       "      <th>C</th>\n",
       "    </tr>\n",
       "  </thead>\n",
       "  <tbody>\n",
       "    <tr>\n",
       "      <th>0</th>\n",
       "      <td>CO</td>\n",
       "      <td>$\\mathrm{ CH_{ 4}O}$</td>\n",
       "      <td>0.499313</td>\n",
       "      <td>0.125835</td>\n",
       "      <td>0.374852</td>\n",
       "    </tr>\n",
       "    <tr>\n",
       "      <th>1</th>\n",
       "      <td>CCO</td>\n",
       "      <td>$\\mathrm{ C_{ 2}H_{ 6}O}$</td>\n",
       "      <td>0.347283</td>\n",
       "      <td>0.131281</td>\n",
       "      <td>0.521435</td>\n",
       "    </tr>\n",
       "    <tr>\n",
       "      <th>2</th>\n",
       "      <td>CCCO</td>\n",
       "      <td>$\\mathrm{ C_{ 3}H_{ 8}O}$</td>\n",
       "      <td>0.266224</td>\n",
       "      <td>0.134185</td>\n",
       "      <td>0.599591</td>\n",
       "    </tr>\n",
       "    <tr>\n",
       "      <th>3</th>\n",
       "      <td>C</td>\n",
       "      <td>$\\mathrm{ CH_{ 4}}$</td>\n",
       "      <td>0.000000</td>\n",
       "      <td>0.251325</td>\n",
       "      <td>0.748675</td>\n",
       "    </tr>\n",
       "  </tbody>\n",
       "</table>\n",
       "</div>"
      ],
      "text/plain": [
       "    sml                   Molecule         O         H         C\n",
       "0    CO       $\\mathrm{ CH_{ 4}O}$  0.499313  0.125835  0.374852\n",
       "1   CCO  $\\mathrm{ C_{ 2}H_{ 6}O}$  0.347283  0.131281  0.521435\n",
       "2  CCCO  $\\mathrm{ C_{ 3}H_{ 8}O}$  0.266224  0.134185  0.599591\n",
       "3     C        $\\mathrm{ CH_{ 4}}$  0.000000  0.251325  0.748675"
      ]
     },
     "execution_count": 234,
     "metadata": {},
     "output_type": "execute_result"
    }
   ],
   "source": [
    "import pandas as pd\n",
    "df_pandas_all = pd.DataFrame({\n",
    "    'sml': sml_list,\n",
    "    'Molecule': formula_latex_list,\n",
    "    'O': wt_O_list,\n",
    "    'H': wt_H_list,\n",
    "    'C': wt_C_list,\n",
    "})\n",
    "df_pandas_all"
   ]
  },
  {
   "cell_type": "code",
   "execution_count": 235,
   "metadata": {},
   "outputs": [
    {
     "data": {
      "text/html": [
       "<div>\n",
       "<style scoped>\n",
       "    .dataframe tbody tr th:only-of-type {\n",
       "        vertical-align: middle;\n",
       "    }\n",
       "\n",
       "    .dataframe tbody tr th {\n",
       "        vertical-align: top;\n",
       "    }\n",
       "\n",
       "    .dataframe thead th {\n",
       "        text-align: right;\n",
       "    }\n",
       "</style>\n",
       "<table border=\"1\" class=\"dataframe\">\n",
       "  <thead>\n",
       "    <tr style=\"text-align: right;\">\n",
       "      <th></th>\n",
       "      <th>Molecule</th>\n",
       "      <th>sml</th>\n",
       "      <th>Element</th>\n",
       "      <th>wt %</th>\n",
       "    </tr>\n",
       "  </thead>\n",
       "  <tbody>\n",
       "    <tr>\n",
       "      <th>0</th>\n",
       "      <td>$\\mathrm{ CH_{ 4}O}$</td>\n",
       "      <td>CO</td>\n",
       "      <td>O</td>\n",
       "      <td>0.499313</td>\n",
       "    </tr>\n",
       "    <tr>\n",
       "      <th>1</th>\n",
       "      <td>$\\mathrm{ C_{ 2}H_{ 6}O}$</td>\n",
       "      <td>CCO</td>\n",
       "      <td>O</td>\n",
       "      <td>0.347283</td>\n",
       "    </tr>\n",
       "    <tr>\n",
       "      <th>2</th>\n",
       "      <td>$\\mathrm{ C_{ 3}H_{ 8}O}$</td>\n",
       "      <td>CCCO</td>\n",
       "      <td>O</td>\n",
       "      <td>0.266224</td>\n",
       "    </tr>\n",
       "    <tr>\n",
       "      <th>3</th>\n",
       "      <td>$\\mathrm{ CH_{ 4}}$</td>\n",
       "      <td>C</td>\n",
       "      <td>O</td>\n",
       "      <td>0.000000</td>\n",
       "    </tr>\n",
       "    <tr>\n",
       "      <th>4</th>\n",
       "      <td>$\\mathrm{ CH_{ 4}O}$</td>\n",
       "      <td>CO</td>\n",
       "      <td>H</td>\n",
       "      <td>0.125835</td>\n",
       "    </tr>\n",
       "    <tr>\n",
       "      <th>5</th>\n",
       "      <td>$\\mathrm{ C_{ 2}H_{ 6}O}$</td>\n",
       "      <td>CCO</td>\n",
       "      <td>H</td>\n",
       "      <td>0.131281</td>\n",
       "    </tr>\n",
       "    <tr>\n",
       "      <th>6</th>\n",
       "      <td>$\\mathrm{ C_{ 3}H_{ 8}O}$</td>\n",
       "      <td>CCCO</td>\n",
       "      <td>H</td>\n",
       "      <td>0.134185</td>\n",
       "    </tr>\n",
       "    <tr>\n",
       "      <th>7</th>\n",
       "      <td>$\\mathrm{ CH_{ 4}}$</td>\n",
       "      <td>C</td>\n",
       "      <td>H</td>\n",
       "      <td>0.251325</td>\n",
       "    </tr>\n",
       "    <tr>\n",
       "      <th>8</th>\n",
       "      <td>$\\mathrm{ CH_{ 4}O}$</td>\n",
       "      <td>CO</td>\n",
       "      <td>C</td>\n",
       "      <td>0.374852</td>\n",
       "    </tr>\n",
       "    <tr>\n",
       "      <th>9</th>\n",
       "      <td>$\\mathrm{ C_{ 2}H_{ 6}O}$</td>\n",
       "      <td>CCO</td>\n",
       "      <td>C</td>\n",
       "      <td>0.521435</td>\n",
       "    </tr>\n",
       "    <tr>\n",
       "      <th>10</th>\n",
       "      <td>$\\mathrm{ C_{ 3}H_{ 8}O}$</td>\n",
       "      <td>CCCO</td>\n",
       "      <td>C</td>\n",
       "      <td>0.599591</td>\n",
       "    </tr>\n",
       "    <tr>\n",
       "      <th>11</th>\n",
       "      <td>$\\mathrm{ CH_{ 4}}$</td>\n",
       "      <td>C</td>\n",
       "      <td>C</td>\n",
       "      <td>0.748675</td>\n",
       "    </tr>\n",
       "  </tbody>\n",
       "</table>\n",
       "</div>"
      ],
      "text/plain": [
       "                     Molecule   sml Element      wt %\n",
       "0        $\\mathrm{ CH_{ 4}O}$    CO       O  0.499313\n",
       "1   $\\mathrm{ C_{ 2}H_{ 6}O}$   CCO       O  0.347283\n",
       "2   $\\mathrm{ C_{ 3}H_{ 8}O}$  CCCO       O  0.266224\n",
       "3         $\\mathrm{ CH_{ 4}}$     C       O  0.000000\n",
       "4        $\\mathrm{ CH_{ 4}O}$    CO       H  0.125835\n",
       "5   $\\mathrm{ C_{ 2}H_{ 6}O}$   CCO       H  0.131281\n",
       "6   $\\mathrm{ C_{ 3}H_{ 8}O}$  CCCO       H  0.134185\n",
       "7         $\\mathrm{ CH_{ 4}}$     C       H  0.251325\n",
       "8        $\\mathrm{ CH_{ 4}O}$    CO       C  0.374852\n",
       "9   $\\mathrm{ C_{ 2}H_{ 6}O}$   CCO       C  0.521435\n",
       "10  $\\mathrm{ C_{ 3}H_{ 8}O}$  CCCO       C  0.599591\n",
       "11        $\\mathrm{ CH_{ 4}}$     C       C  0.748675"
      ]
     },
     "execution_count": 235,
     "metadata": {},
     "output_type": "execute_result"
    }
   ],
   "source": [
    "# Melt the DataFrame for Seaborn\n",
    "df_melted = df_pandas_all.melt(id_vars=['Molecule', 'sml'], var_name='Element', value_name='wt %')\n",
    "df_melted"
   ]
  },
  {
   "cell_type": "code",
   "execution_count": 242,
   "metadata": {},
   "outputs": [
    {
     "name": "stderr",
     "output_type": "stream",
     "text": [
      "/Users/jemonat/Projects/bertiewooster.github.io/venv/lib/python3.11/site-packages/seaborn/_oldcore.py:1498: FutureWarning: is_categorical_dtype is deprecated and will be removed in a future version. Use isinstance(dtype, CategoricalDtype) instead\n",
      "  if pd.api.types.is_categorical_dtype(vector):\n",
      "/Users/jemonat/Projects/bertiewooster.github.io/venv/lib/python3.11/site-packages/seaborn/_oldcore.py:1498: FutureWarning: is_categorical_dtype is deprecated and will be removed in a future version. Use isinstance(dtype, CategoricalDtype) instead\n",
      "  if pd.api.types.is_categorical_dtype(vector):\n",
      "/Users/jemonat/Projects/bertiewooster.github.io/venv/lib/python3.11/site-packages/seaborn/_oldcore.py:1498: FutureWarning: is_categorical_dtype is deprecated and will be removed in a future version. Use isinstance(dtype, CategoricalDtype) instead\n",
      "  if pd.api.types.is_categorical_dtype(vector):\n",
      "/Users/jemonat/Projects/bertiewooster.github.io/venv/lib/python3.11/site-packages/seaborn/_oldcore.py:1498: FutureWarning: is_categorical_dtype is deprecated and will be removed in a future version. Use isinstance(dtype, CategoricalDtype) instead\n",
      "  if pd.api.types.is_categorical_dtype(vector):\n"
     ]
    },
    {
     "data": {
      "image/png": "[encoded data removed]",
      "text/plain": [
       "<Figure size 1000x600 with 1 Axes>"
      ]
     },
     "metadata": {},
     "output_type": "display_data"
    }
   ],
   "source": [
    "\n",
    "# Create the column plot\n",
    "sns.set(style=\"whitegrid\")\n",
    "plt.figure(figsize=(10, 6))\n",
    "\n",
    "# Use hue to group by elements (O, H, C)\n",
    "sns.barplot(x=\"Molecule\", y=\"wt %\", hue=\"Element\", data=df_melted, palette=\"Set3\")\n",
    "\n",
    "# Customize the plot\n",
    "class_of_molecules = \"$\\mathrm{ C_{ a}H_{ b}O_{ c}}$\"\n",
    "plt.title(\"wt% of elements in \" + class_of_molecules + \" molecules\")\n",
    "plt.ylabel(\"wt%\")\n",
    "plt.xticks(\n",
    "    # rotation=45, \n",
    "    # horizontalalignment='right',\n",
    "    )\n",
    "\n",
    "# Show the plot\n",
    "plt.legend(title=\"Element\")\n",
    "plt.tight_layout()\n",
    "plt.show()"
   ]
  },
  {
   "cell_type": "markdown",
   "metadata": {},
   "source": [
    "Hi"
   ]
  },
  {
   "cell_type": "code",
   "execution_count": 237,
   "metadata": {},
   "outputs": [],
   "source": [
    "def dict_list_to_markdown_table(data, number_rows=False):\n",
    "    \"\"\"\n",
    "    Convert a list of dictionaries into a Markdown table.\n",
    "\n",
    "    Args:\n",
    "        data (list): A list of dictionaries, where each dictionary corresponds to a row in the table.\n",
    "        include_row_numbers (bool): Whether to include a row number column.\n",
    "\n",
    "    Returns:\n",
    "        str: The Markdown-formatted table as a string.\n",
    "    \"\"\"\n",
    "    if not data:\n",
    "        return \"\"\n",
    "\n",
    "    # Extract column headers from the keys of the first dictionary\n",
    "    headers = data[0].keys()\n",
    "\n",
    "    # If include_row_numbers is True, add the \"Row #\" column\n",
    "    if number_rows:\n",
    "        headers = [\"#\"] + list(headers)\n",
    "\n",
    "    # Create the table headers\n",
    "    table = \"| \" + \" | \".join(headers) + \" |\\n\"\n",
    "\n",
    "    # Create the title divider line\n",
    "    table += \"|\"\n",
    "    for _ in headers:\n",
    "        table += \" --- |\"\n",
    "    table += \"\\n\"\n",
    "\n",
    "    # Create the table body\n",
    "    for i, row in enumerate(data):\n",
    "        if number_rows:\n",
    "            row_data = [i + 1] + [row.get(header, \"\") for header in headers[1:]]\n",
    "        else:\n",
    "            row_data = [row.get(header, \"\") for header in headers]\n",
    "\n",
    "        table += \"| \" + \" | \".join(map(str, row_data)) + \" |\\n\"\n",
    "\n",
    "    return table\n"
   ]
  },
  {
   "cell_type": "code",
   "execution_count": 238,
   "metadata": {},
   "outputs": [
    {
     "data": {
      "text/markdown": [
       "| formula | mass (amu) | wt %C | wt %H | wt %O |\n",
       "| --- | --- | --- | --- | --- |\n",
       "| CH<sub>4</sub>O | 32.042 | 0.3748517570688471 | 0.12583484177017665 | 0.4993134011609762 |\n",
       "| C<sub>2</sub>H<sub>6</sub>O | 46.069 | 0.5214352384466777 | 0.1312813388612733 | 0.34728342269204887 |\n",
       "| C<sub>3</sub>H<sub>8</sub>O | 60.096000000000004 | 0.5995906549520766 | 0.134185303514377 | 0.26622404153354634 |\n",
       "| CH<sub>4</sub> | 16.043 | 0.7486754347690582 | 0.2513245652309419 |  |\n"
      ],
      "text/plain": [
       "<IPython.core.display.Markdown object>"
      ]
     },
     "execution_count": 238,
     "metadata": {},
     "output_type": "execute_result"
    }
   ],
   "source": [
    "t_prog = dict_list_to_markdown_table(eas_prog)\n",
    "Markdown(t_prog)"
   ]
  },
  {
   "cell_type": "markdown",
   "metadata": {},
   "source": [
    "Hi"
   ]
  },
  {
   "cell_type": "code",
   "execution_count": null,
   "metadata": {},
   "outputs": [],
   "source": []
  }
 ],
 "metadata": {
  "kernelspec": {
   "display_name": "venv",
   "language": "python",
   "name": "python3"
  },
  "language_info": {
   "codemirror_mode": {
    "name": "ipython",
    "version": 3
   },
   "file_extension": ".py",
   "mimetype": "text/x-python",
   "name": "python",
   "nbconvert_exporter": "python",
   "pygments_lexer": "ipython3",
   "version": "3.11.0"
  },
  "orig_nbformat": 4
 },
 "nbformat": 4,
 "nbformat_minor": 2
}
