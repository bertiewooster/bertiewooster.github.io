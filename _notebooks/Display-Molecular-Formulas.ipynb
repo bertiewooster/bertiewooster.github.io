{
 "cells": [
  {
   "cell_type": "markdown",
   "metadata": {},
   "source": [
    "# Displaying Molecular Formulas in Tables and Graphs"
   ]
  },
  {
   "cell_type": "markdown",
   "metadata": {},
   "source": [
    "Here's how to display formatted molecular formulas in tables and graphs. In addition to formatted molecular formulas, these techniques should work for any Markdown or LaTeX."
   ]
  },
  {
   "cell_type": "markdown",
   "metadata": {},
   "source": [
    "In the last blog post, we generated molecular formulas from SMILES strings or RDKit molecules. Once we have those molecular formulas, formatted as Markdown or LaTeX, we might want to display them in tables or graphs."
   ]
  },
  {
   "cell_type": "markdown",
   "metadata": {},
   "source": [
    "One of the uses of a molecular formula is for [elemental analysis](https://en.wikipedia.org/wiki/Elemental_analysis#CHNX_analysis) because it determines the mass percentage of each element in a compound. So all we need to know for elemental analysis is the count of each element in the molecule, not the arrangement of atoms."
   ]
  },
  {
   "cell_type": "code",
   "execution_count": 1,
   "metadata": {},
   "outputs": [],
   "source": [
    "%%capture\n",
    "%!pip install rdkit\n",
    "%!pip install black[jupyter]\n",
    "%!pip install polars\n",
    "%!pip install pyarrow"
   ]
  },
  {
   "cell_type": "code",
   "execution_count": 2,
   "metadata": {},
   "outputs": [],
   "source": [
    "# Mount Google Drive so can format code in this notebook using black\n",
    "# from google.colab import drive\n",
    "\n",
    "# drive.mount(\"/content/drive\")"
   ]
  },
  {
   "cell_type": "code",
   "execution_count": 3,
   "metadata": {},
   "outputs": [],
   "source": [
    "# Format code using black\n",
    "# procedure at https://stackoverflow.com/questions/63076002/code-formatter-like-nb-black-for-google-colab#71001241\n",
    "# !black \"/content/drive/MyDrive/Colab Notebooks/Molecular Formula Generation.ipynb\""
   ]
  },
  {
   "cell_type": "code",
   "execution_count": 4,
   "metadata": {},
   "outputs": [],
   "source": [
    "from collections import defaultdict\n",
    "from IPython.display import display, Markdown\n",
    "\n",
    "from rdkit import Chem\n",
    "import polars as pl\n",
    "import pandas as pd\n",
    "import seaborn as sns\n",
    "import matplotlib.pyplot as plt"
   ]
  },
  {
   "cell_type": "markdown",
   "metadata": {},
   "source": [
    "## Molecular formula generation code from previous blog post"
   ]
  },
  {
   "cell_type": "markdown",
   "metadata": {},
   "source": [
    "Refer to the [previous post]({% post_url 2023-10-20-Molecular-Formula-Generation %}) for more information on these functions."
   ]
  },
  {
   "cell_type": "code",
   "execution_count": 5,
   "metadata": {},
   "outputs": [],
   "source": [
    "def composition(\n",
    "    molecule: Chem.Mol,\n",
    "    isotopes: bool = False,\n",
    ") -> defaultdict:\n",
    "    \"\"\"Get the composition of an RDKit molecule:\n",
    "    Atomic counts, including hydrogen atoms, and isotopes if requested.\n",
    "    For example, ethanol (SMILES [13C](H)(H)(H)CO, formula C2H6O) returns:\n",
    "      if isotopes = False (default): {'C': 2, 'O': 1, 'H': 6}.\n",
    "      if isotopes = True: {'C': {13: 1, 0: 1}, 'O': {0: 1}, 'H': {0: 6}}.\n",
    "\n",
    "    :param molecule: The RDKit molecule to analyze\n",
    "    :param isotopes: Whether to include the isotope of each atom\n",
    "    :returns: if isotopes = False (default): a dictionary of element:count entries;\n",
    "              if isotopes = True: a nested dictionary of element:isotope:count entries.\n",
    "    \"\"\"\n",
    "    # Check that there is a valid molecule\n",
    "    if not molecule:\n",
    "        return\n",
    "\n",
    "    # Add hydrogen atoms--RDKit excludes them by default\n",
    "    molecule = Chem.AddHs(molecule)\n",
    "    comp = defaultdict(lambda: 0)\n",
    "\n",
    "    # Get atom counts\n",
    "    for atom in molecule.GetAtoms():\n",
    "        element_symbol = atom.GetSymbol()\n",
    "        # If isotopes not requested, simply count the number of atoms of each element\n",
    "        if not isotopes:\n",
    "            comp[element_symbol] += 1\n",
    "        # If isotopes requested, count the number of each isotope of each element\n",
    "        else:\n",
    "            isotope = atom.GetIsotope()\n",
    "            try:\n",
    "                comp[element_symbol][isotope] += 1\n",
    "            except:\n",
    "                comp[element_symbol] = defaultdict(lambda: 0)\n",
    "                comp[element_symbol][isotope] += 1\n",
    "    return comp"
   ]
  },
  {
   "cell_type": "code",
   "execution_count": 6,
   "metadata": {},
   "outputs": [],
   "source": [
    "def mol_to_formatted_formula(\n",
    "    mol: Chem.Mol,\n",
    "    isotopes: bool = False,\n",
    ") -> dict[str, str]:\n",
    "    if mol is None:\n",
    "        return \"Invalid molecule\"\n",
    "    comp = composition(mol, isotopes)\n",
    "\n",
    "    formula = {\"markdown\": \"\", \"latex\": \"\"}\n",
    "\n",
    "    if isotopes:\n",
    "        isotopes_dict = defaultdict(lambda: defaultdict(str))\n",
    "        subscripts = defaultdict(lambda: defaultdict(int))\n",
    "        superscripts = defaultdict(list)\n",
    "\n",
    "        for element, counts in comp.items():\n",
    "            for isotope, count in counts.items():\n",
    "                if count > 1:\n",
    "                    subscripts[element][isotope] = count\n",
    "                if isotope != 0:\n",
    "                    superscripts[element].append(isotope)\n",
    "\n",
    "                isotopes_dict[element][isotope] = 1\n",
    "            # Sort the element's isotopes from lowest to highest\n",
    "            superscripts[element].sort()\n",
    "\n",
    "        last_item_is_subscript = False\n",
    "        sorted_element_keys = sorted(isotopes_dict.keys())\n",
    "        for element in sorted_element_keys:\n",
    "            isotope_count_pairs = isotopes_dict[element]\n",
    "            # Sort the element's isotopes from lowest to highest\n",
    "            sorted_isotope_keys = sorted(isotope_count_pairs.keys())\n",
    "            for isotope in sorted_isotope_keys:\n",
    "                if element in superscripts:\n",
    "                    if isotope in superscripts[element]:\n",
    "                        formula[\"markdown\"] += f\"<sup>{isotope}</sup>\"\n",
    "\n",
    "                        # If superscript immediately follows subscript,\n",
    "                        # add a small amount of horizontal space using an empty group {}\n",
    "                        # to prevent them from vertically overlapping\n",
    "                        if last_item_is_subscript:\n",
    "                            formula[\"latex\"] += \"{}\"\n",
    "                        formula[\"latex\"] += \"^{ %d}\" % isotope\n",
    "                        last_item_is_subscript = False\n",
    "                formula[\"markdown\"] += element\n",
    "                formula[\"latex\"] += element\n",
    "                last_item_is_subscript = False\n",
    "                if element in subscripts:\n",
    "                    if isotope in subscripts[element]:\n",
    "                        isotope_count = subscripts[element][isotope]\n",
    "                        formula[\"markdown\"] += f\"<sub>{isotope_count}</sub>\"\n",
    "                        formula[\"latex\"] += \"_{ %d}\" % isotope_count\n",
    "                    last_item_is_subscript = True\n",
    "        # Add beginning and ending dollar signs to LaTeX formula\n",
    "        formula[\"latex\"] = \"$\" + formula[\"latex\"] + \"$\"\n",
    "    else:\n",
    "        # Handling the case when isotopes is False\n",
    "        sorted_element_keys = sorted(comp.keys())\n",
    "\n",
    "        for element in sorted_element_keys:\n",
    "            count = comp[element]\n",
    "            formula[\"markdown\"] += element\n",
    "            formula[\"latex\"] += element\n",
    "            if count > 1:\n",
    "                formula[\"markdown\"] += f\"<sub>{count}</sub>\"\n",
    "                formula[\"latex\"] += \"_{ %d}\" % count\n",
    "        formula[\"latex\"] = \"$\" + formula[\"latex\"] + \"$\"\n",
    "\n",
    "    return formula"
   ]
  },
  {
   "cell_type": "code",
   "execution_count": 7,
   "metadata": {},
   "outputs": [],
   "source": [
    "def markdown_formula(latex: str) -> str:\n",
    "    latex_markdown = r\"$\\mathrm{ %s}$\" % (latex.strip(\"$\"))\n",
    "    return latex_markdown"
   ]
  },
  {
   "cell_type": "code",
   "execution_count": 12,
   "metadata": {},
   "outputs": [],
   "source": [
    "def element_set(molecule):\n",
    "    \"\"\"Get the set of elements in an RDKit molecule\n",
    "    For example, ethanol (SMILES CCO, formula C2H5OH)\n",
    "    returns {'C', 'O', 'H'}.\n",
    "\n",
    "    :param molecule: An RDKit molecule\n",
    "    :returns: A set.\n",
    "    \"\"\"\n",
    "    # Check that there is a valid molecule\n",
    "    if molecule:\n",
    "      # Add hydrogen atoms--RDKit excludes them by default\n",
    "      molecule_with_Hs = Chem.AddHs(molecule)\n",
    "      atom_symbols = set(atom.GetSymbol() for atom in molecule_with_Hs.GetAtoms())\n",
    "      return atom_symbols"
   ]
  },
  {
   "cell_type": "code",
   "execution_count": 15,
   "metadata": {},
   "outputs": [],
   "source": [
    "def dict_list_to_markdown_table(data, number_rows=False):\n",
    "    \"\"\"\n",
    "    Convert a list of dictionaries into a Markdown table.\n",
    "\n",
    "    Args:\n",
    "        data (list): A list of dictionaries, where each dictionary corresponds to a row in the table.\n",
    "        include_row_numbers (bool): Whether to include a row number column.\n",
    "\n",
    "    Returns:\n",
    "        str: The Markdown-formatted table as a string.\n",
    "    \"\"\"\n",
    "    if not data:\n",
    "        return \"\"\n",
    "\n",
    "    # Extract column headers from the keys of the first dictionary\n",
    "    headers = data[0].keys()\n",
    "\n",
    "    # If include_row_numbers is True, add the \"Row #\" column\n",
    "    if number_rows:\n",
    "        headers = [\"#\"] + list(headers)\n",
    "\n",
    "    # Create the table headers\n",
    "    table = \"| \" + \" | \".join(headers) + \" |\\n\"\n",
    "\n",
    "    # Create the title divider line\n",
    "    table += \"|\"\n",
    "    for _ in headers:\n",
    "        table += \" --- |\"\n",
    "    table += \"\\n\"\n",
    "\n",
    "    # Create the table body\n",
    "    for i, row in enumerate(data):\n",
    "        if number_rows:\n",
    "            row_data = [i + 1] + [row.get(header, \"\") for header in headers[1:]]\n",
    "        else:\n",
    "            row_data = [row.get(header, \"\") for header in headers]\n",
    "\n",
    "        table += \"| \" + \" | \".join(map(str, row_data)) + \" |\\n\"\n",
    "\n",
    "    return table"
   ]
  },
  {
   "cell_type": "code",
   "execution_count": 18,
   "metadata": {},
   "outputs": [],
   "source": [
    "def markdown_formula(latex: str) -> str:\n",
    "    return r\"$\\mathrm{ %s}$\" % (latex.strip(\"$\"))"
   ]
  },
  {
   "cell_type": "markdown",
   "metadata": {},
   "source": [
    "## Elemental analysis code to calculate weight percent by element"
   ]
  },
  {
   "cell_type": "markdown",
   "metadata": {},
   "source": [
    "We define an `elemental_analysis_mol` class to hold the RDKit molecule, formulas, total mass, and the weight percent of each atom in the molecule."
   ]
  },
  {
   "cell_type": "code",
   "execution_count": 13,
   "metadata": {},
   "outputs": [],
   "source": [
    "class elemental_analysis_mol():\n",
    "    def __init__(self, mol):\n",
    "        self.mol = mol\n",
    "\n",
    "        # Create dictionary of element:absolute mass\n",
    "        element_abs_dict = defaultdict()\n",
    "        for atom in mol.GetAtoms():\n",
    "            try:\n",
    "                element_abs_dict[atom.GetSymbol()] += atom.GetMass()\n",
    "            except:\n",
    "                element_abs_dict[atom.GetSymbol()] = atom.GetMass()\n",
    "\n",
    "        formulas = mol_to_formatted_formula(self.mol)\n",
    "        self.formula_markdown = formulas.get(\"markdown\")\n",
    "        self.formula_latex = formulas.get(\"latex\")\n",
    "        self.total_mass = sum(element_abs_dict.values())\n",
    "\n",
    "        # Create dictionary of element:relative (to the molecule) mass\n",
    "        self.element_rel_dict = defaultdict()\n",
    "        for element, mass in element_abs_dict.items():\n",
    "            self.element_rel_dict[element] = mass/self.total_mass\n",
    "    def update(self, mol):\n",
    "        \"\"\"Define an update method so the elemental_analysis_mol can remain as the same object if updated\"\"\"\n",
    "        self.__init__(mol)\n",
    "    def get_mass_frac(self, element):\n",
    "        return self.element_rel_dict.get(element, 0)"
   ]
  },
  {
   "cell_type": "markdown",
   "metadata": {},
   "source": [
    "The set of molecules we'll consider contain carbon, hydrogen, and sometimes oxygen."
   ]
  },
  {
   "cell_type": "code",
   "execution_count": 28,
   "metadata": {},
   "outputs": [],
   "source": [
    "smls = [\"CO\", \"CCO\", \"CCCO\", \"C\"]"
   ]
  },
  {
   "cell_type": "markdown",
   "metadata": {},
   "source": [
    "We'll build a Polars dataframe with the SMILES, `elemental_analysis_mol`, and formulas."
   ]
  },
  {
   "cell_type": "code",
   "execution_count": 29,
   "metadata": {},
   "outputs": [],
   "source": [
    "df = df = pl.DataFrame({\"sml\": smls})\n",
    "df = df.with_columns(\n",
    "    [\n",
    "        pl.col(\"sml\").map_elements(lambda sml: Chem.AddHs(Chem.MolFromSmiles(sml))).alias(\"mol\"),\n",
    "    ]\n",
    ")\n",
    "df = df.with_columns(\n",
    "    [\n",
    "        pl.col(\"mol\").map_elements(lambda mol: elemental_analysis_mol(mol)).alias(\"elemental_analysis_mol\"),\n",
    "    ]\n",
    ")\n",
    "df = df.with_columns(\n",
    "    [\n",
    "        pl.col(\"elemental_analysis_mol\").map_elements(lambda x: x.formula_markdown).alias(\"formula_markdown\"),\n",
    "        pl.col(\"elemental_analysis_mol\").map_elements(lambda x: markdown_formula(x.formula_latex)).alias(\"formula_latex\"),\n",
    "    ]\n",
    ")"
   ]
  },
  {
   "cell_type": "markdown",
   "metadata": {},
   "source": [
    "Now we need to add the elemental weight percents. We need to include values for each element in any molecule, so we create a set of all the elements in any molecule."
   ]
  },
  {
   "cell_type": "code",
   "execution_count": 53,
   "metadata": {},
   "outputs": [
    {
     "data": {
      "text/html": [
       "<div><style>\n",
       ".dataframe > thead > tr > th,\n",
       ".dataframe > tbody > tr > td {\n",
       "  text-align: right;\n",
       "  white-space: pre-wrap;\n",
       "}\n",
       "</style>\n",
       "<small>shape: (4, 8)</small><table border=\"1\" class=\"dataframe\"><thead><tr><th>sml</th><th>mol</th><th>elemental_analysis_mol</th><th>formula_markdown</th><th>formula_latex</th><th>wt %O</th><th>wt %C</th><th>wt %H</th></tr><tr><td>str</td><td>object</td><td>object</td><td>str</td><td>str</td><td>f64</td><td>f64</td><td>f64</td></tr></thead><tbody><tr><td>&quot;CO&quot;</td><td>&lt;rdkit.Chem.rdchem.Mol object at 0x173e3af10&gt;</td><td>&lt;__main__.elemental_analysis_mol object at 0x10a5a7450&gt;</td><td>&quot;CH&lt;sub&gt;4&lt;/sub&gt;…</td><td>&quot;$\\mathrm{ CH_{…</td><td>49.9313</td><td>37.4852</td><td>12.5835</td></tr><tr><td>&quot;CCO&quot;</td><td>&lt;rdkit.Chem.rdchem.Mol object at 0x173e3af80&gt;</td><td>&lt;__main__.elemental_analysis_mol object at 0x173d5bdd0&gt;</td><td>&quot;C&lt;sub&gt;2&lt;/sub&gt;H…</td><td>&quot;$\\mathrm{ C_{ …</td><td>34.7283</td><td>52.1435</td><td>13.1281</td></tr><tr><td>&quot;CCCO&quot;</td><td>&lt;rdkit.Chem.rdchem.Mol object at 0x173e3ac00&gt;</td><td>&lt;__main__.elemental_analysis_mol object at 0x173d72250&gt;</td><td>&quot;C&lt;sub&gt;3&lt;/sub&gt;H…</td><td>&quot;$\\mathrm{ C_{ …</td><td>26.6224</td><td>59.9591</td><td>13.4185</td></tr><tr><td>&quot;C&quot;</td><td>&lt;rdkit.Chem.rdchem.Mol object at 0x173e3aff0&gt;</td><td>&lt;__main__.elemental_analysis_mol object at 0x173d71750&gt;</td><td>&quot;CH&lt;sub&gt;4&lt;/sub&gt;…</td><td>&quot;$\\mathrm{ CH_{…</td><td>0.0</td><td>74.8675</td><td>25.1325</td></tr></tbody></table></div>"
      ],
      "text/plain": [
       "shape: (4, 8)\n",
       "┌──────┬───────────────┬───────────────┬──────────────┬──────────────┬─────────┬─────────┬─────────┐\n",
       "│ sml  ┆ mol           ┆ elemental_ana ┆ formula_mark ┆ formula_late ┆ wt %O   ┆ wt %C   ┆ wt %H   │\n",
       "│ ---  ┆ ---           ┆ lysis_mol     ┆ down         ┆ x            ┆ ---     ┆ ---     ┆ ---     │\n",
       "│ str  ┆ object        ┆ ---           ┆ ---          ┆ ---          ┆ f64     ┆ f64     ┆ f64     │\n",
       "│      ┆               ┆ object        ┆ str          ┆ str          ┆         ┆         ┆         │\n",
       "╞══════╪═══════════════╪═══════════════╪══════════════╪══════════════╪═════════╪═════════╪═════════╡\n",
       "│ CO   ┆ <rdkit.Chem.r ┆ <__main__.ele ┆ CH<sub>4</su ┆ $\\mathrm{    ┆ 49.9313 ┆ 37.4852 ┆ 12.5835 │\n",
       "│      ┆ dchem.Mol     ┆ mental_analys ┆ b>O          ┆ CH_{ 4}O}$   ┆         ┆         ┆         │\n",
       "│      ┆ object at…    ┆ is_mol…       ┆              ┆              ┆         ┆         ┆         │\n",
       "│ CCO  ┆ <rdkit.Chem.r ┆ <__main__.ele ┆ C<sub>2</sub ┆ $\\mathrm{    ┆ 34.7283 ┆ 52.1435 ┆ 13.1281 │\n",
       "│      ┆ dchem.Mol     ┆ mental_analys ┆ >H<sub>6</su ┆ C_{ 2}H_{    ┆         ┆         ┆         │\n",
       "│      ┆ object at…    ┆ is_mol…       ┆ b>O          ┆ 6}O}$        ┆         ┆         ┆         │\n",
       "│ CCCO ┆ <rdkit.Chem.r ┆ <__main__.ele ┆ C<sub>3</sub ┆ $\\mathrm{    ┆ 26.6224 ┆ 59.9591 ┆ 13.4185 │\n",
       "│      ┆ dchem.Mol     ┆ mental_analys ┆ >H<sub>8</su ┆ C_{ 3}H_{    ┆         ┆         ┆         │\n",
       "│      ┆ object at…    ┆ is_mol…       ┆ b>O          ┆ 8}O}$        ┆         ┆         ┆         │\n",
       "│ C    ┆ <rdkit.Chem.r ┆ <__main__.ele ┆ CH<sub>4</su ┆ $\\mathrm{    ┆ 0.0     ┆ 74.8675 ┆ 25.1325 │\n",
       "│      ┆ dchem.Mol     ┆ mental_analys ┆ b>           ┆ CH_{ 4}}$    ┆         ┆         ┆         │\n",
       "│      ┆ object at…    ┆ is_mol…       ┆              ┆              ┆         ┆         ┆         │\n",
       "└──────┴───────────────┴───────────────┴──────────────┴──────────────┴─────────┴─────────┴─────────┘"
      ]
     },
     "execution_count": 53,
     "metadata": {},
     "output_type": "execute_result"
    }
   ],
   "source": [
    "# Create set of elements in all molecules\n",
    "element_set_mols = set()\n",
    "\n",
    "for mol in df[\"mol\"]:\n",
    "    element_set_mols.update(element_set(mol))\n",
    "element_set_mols\n",
    "\n",
    "for element in element_set_mols:\n",
    "    df = df.with_columns(\n",
    "    [\n",
    "        pl.col(\"elemental_analysis_mol\").map_elements(lambda x: round(x.get_mass_frac(element) * 100, 4)).alias(f\"wt %{element}\"),\n",
    "    ]\n",
    ")\n",
    "df"
   ]
  },
  {
   "cell_type": "markdown",
   "metadata": {},
   "source": [
    "## Displaying molecular formulas in a table"
   ]
  },
  {
   "cell_type": "markdown",
   "metadata": {},
   "source": [
    "To display molecular formulas in a table, we'll use the Markdown formulas. We select only human-readable columns to display."
   ]
  },
  {
   "cell_type": "code",
   "execution_count": 54,
   "metadata": {},
   "outputs": [
    {
     "data": {
      "text/markdown": [
       "| # | sml | formula_markdown | wt %O | wt %C | wt %H |\n",
       "| --- | --- | --- | --- | --- | --- |\n",
       "| 1 | CO | CH<sub>4</sub>O | 49.9313 | 37.4852 | 12.5835 |\n",
       "| 2 | CCO | C<sub>2</sub>H<sub>6</sub>O | 34.7283 | 52.1435 | 13.1281 |\n",
       "| 3 | CCCO | C<sub>3</sub>H<sub>8</sub>O | 26.6224 | 59.9591 | 13.4185 |\n",
       "| 4 | C | CH<sub>4</sub> | 0.0 | 74.8675 | 25.1325 |\n"
      ],
      "text/plain": [
       "<IPython.core.display.Markdown object>"
      ]
     },
     "metadata": {},
     "output_type": "display_data"
    }
   ],
   "source": [
    "df_display = df.select([\n",
    "    col for col in df.columns\n",
    "    if col.startswith(\"wt\") or col in [\"sml\", \"formula_markdown\"]\n",
    "])\n",
    "table = dict_list_to_markdown_table(\n",
    "    df_display.rows(named=True),\n",
    "    number_rows=True)\n",
    "display(Markdown(table))"
   ]
  },
  {
   "cell_type": "markdown",
   "metadata": {},
   "source": [
    "This table tells us what weight percentages to expect for an elemental analysis of these compounds."
   ]
  },
  {
   "cell_type": "markdown",
   "metadata": {},
   "source": [
    "## Displaying molecular formulas in a graph"
   ]
  },
  {
   "cell_type": "markdown",
   "metadata": {},
   "source": [
    "It's easier to create a graph from a Pandas dataframe, so we extract the data from Polars as lists and read them into Pandas. We're going to use LaTeX to display the molecular formulas in the graph, so that's the formula column we bring over."
   ]
  },
  {
   "cell_type": "code",
   "execution_count": 55,
   "metadata": {},
   "outputs": [],
   "source": [
    "sml_list = df[\"sml\"].to_list()\n",
    "formula_latex_list = df[\"formula_latex\"].to_list()\n",
    "wt_O_list = df[\"wt %O\"].to_list()\n",
    "wt_H_list = df[\"wt %H\"].to_list()\n",
    "wt_C_list = df[\"wt %C\"].to_list()\n"
   ]
  },
  {
   "cell_type": "code",
   "execution_count": 56,
   "metadata": {},
   "outputs": [
    {
     "data": {
      "text/html": [
       "<div>\n",
       "<style scoped>\n",
       "    .dataframe tbody tr th:only-of-type {\n",
       "        vertical-align: middle;\n",
       "    }\n",
       "\n",
       "    .dataframe tbody tr th {\n",
       "        vertical-align: top;\n",
       "    }\n",
       "\n",
       "    .dataframe thead th {\n",
       "        text-align: right;\n",
       "    }\n",
       "</style>\n",
       "<table border=\"1\" class=\"dataframe\">\n",
       "  <thead>\n",
       "    <tr style=\"text-align: right;\">\n",
       "      <th></th>\n",
       "      <th>sml</th>\n",
       "      <th>Molecule</th>\n",
       "      <th>O</th>\n",
       "      <th>H</th>\n",
       "      <th>C</th>\n",
       "    </tr>\n",
       "  </thead>\n",
       "  <tbody>\n",
       "    <tr>\n",
       "      <th>0</th>\n",
       "      <td>CO</td>\n",
       "      <td>$\\mathrm{ CH_{ 4}O}$</td>\n",
       "      <td>49.9313</td>\n",
       "      <td>12.5835</td>\n",
       "      <td>37.4852</td>\n",
       "    </tr>\n",
       "    <tr>\n",
       "      <th>1</th>\n",
       "      <td>CCO</td>\n",
       "      <td>$\\mathrm{ C_{ 2}H_{ 6}O}$</td>\n",
       "      <td>34.7283</td>\n",
       "      <td>13.1281</td>\n",
       "      <td>52.1435</td>\n",
       "    </tr>\n",
       "    <tr>\n",
       "      <th>2</th>\n",
       "      <td>CCCO</td>\n",
       "      <td>$\\mathrm{ C_{ 3}H_{ 8}O}$</td>\n",
       "      <td>26.6224</td>\n",
       "      <td>13.4185</td>\n",
       "      <td>59.9591</td>\n",
       "    </tr>\n",
       "    <tr>\n",
       "      <th>3</th>\n",
       "      <td>C</td>\n",
       "      <td>$\\mathrm{ CH_{ 4}}$</td>\n",
       "      <td>0.0000</td>\n",
       "      <td>25.1325</td>\n",
       "      <td>74.8675</td>\n",
       "    </tr>\n",
       "  </tbody>\n",
       "</table>\n",
       "</div>"
      ],
      "text/plain": [
       "    sml                   Molecule        O        H        C\n",
       "0    CO       $\\mathrm{ CH_{ 4}O}$  49.9313  12.5835  37.4852\n",
       "1   CCO  $\\mathrm{ C_{ 2}H_{ 6}O}$  34.7283  13.1281  52.1435\n",
       "2  CCCO  $\\mathrm{ C_{ 3}H_{ 8}O}$  26.6224  13.4185  59.9591\n",
       "3     C        $\\mathrm{ CH_{ 4}}$   0.0000  25.1325  74.8675"
      ]
     },
     "execution_count": 56,
     "metadata": {},
     "output_type": "execute_result"
    }
   ],
   "source": [
    "df_pandas_all = pd.DataFrame({\n",
    "    'sml': sml_list,\n",
    "    'Molecule': formula_latex_list,\n",
    "    'O': wt_O_list,\n",
    "    'H': wt_H_list,\n",
    "    'C': wt_C_list,\n",
    "})\n",
    "df_pandas_all"
   ]
  },
  {
   "cell_type": "markdown",
   "metadata": {},
   "source": [
    "Now, to plot the data, we need to \"melt\" or \"explode\" the data by making a row out of each element's weight percent column."
   ]
  },
  {
   "cell_type": "code",
   "execution_count": 59,
   "metadata": {},
   "outputs": [
    {
     "data": {
      "text/html": [
       "<div>\n",
       "<style scoped>\n",
       "    .dataframe tbody tr th:only-of-type {\n",
       "        vertical-align: middle;\n",
       "    }\n",
       "\n",
       "    .dataframe tbody tr th {\n",
       "        vertical-align: top;\n",
       "    }\n",
       "\n",
       "    .dataframe thead th {\n",
       "        text-align: right;\n",
       "    }\n",
       "</style>\n",
       "<table border=\"1\" class=\"dataframe\">\n",
       "  <thead>\n",
       "    <tr style=\"text-align: right;\">\n",
       "      <th></th>\n",
       "      <th>Molecule</th>\n",
       "      <th>sml</th>\n",
       "      <th>Element</th>\n",
       "      <th>weight %</th>\n",
       "    </tr>\n",
       "  </thead>\n",
       "  <tbody>\n",
       "    <tr>\n",
       "      <th>0</th>\n",
       "      <td>$\\mathrm{ CH_{ 4}O}$</td>\n",
       "      <td>CO</td>\n",
       "      <td>O</td>\n",
       "      <td>49.9313</td>\n",
       "    </tr>\n",
       "    <tr>\n",
       "      <th>1</th>\n",
       "      <td>$\\mathrm{ C_{ 2}H_{ 6}O}$</td>\n",
       "      <td>CCO</td>\n",
       "      <td>O</td>\n",
       "      <td>34.7283</td>\n",
       "    </tr>\n",
       "    <tr>\n",
       "      <th>2</th>\n",
       "      <td>$\\mathrm{ C_{ 3}H_{ 8}O}$</td>\n",
       "      <td>CCCO</td>\n",
       "      <td>O</td>\n",
       "      <td>26.6224</td>\n",
       "    </tr>\n",
       "    <tr>\n",
       "      <th>3</th>\n",
       "      <td>$\\mathrm{ CH_{ 4}}$</td>\n",
       "      <td>C</td>\n",
       "      <td>O</td>\n",
       "      <td>0.0000</td>\n",
       "    </tr>\n",
       "    <tr>\n",
       "      <th>4</th>\n",
       "      <td>$\\mathrm{ CH_{ 4}O}$</td>\n",
       "      <td>CO</td>\n",
       "      <td>H</td>\n",
       "      <td>12.5835</td>\n",
       "    </tr>\n",
       "    <tr>\n",
       "      <th>5</th>\n",
       "      <td>$\\mathrm{ C_{ 2}H_{ 6}O}$</td>\n",
       "      <td>CCO</td>\n",
       "      <td>H</td>\n",
       "      <td>13.1281</td>\n",
       "    </tr>\n",
       "    <tr>\n",
       "      <th>6</th>\n",
       "      <td>$\\mathrm{ C_{ 3}H_{ 8}O}$</td>\n",
       "      <td>CCCO</td>\n",
       "      <td>H</td>\n",
       "      <td>13.4185</td>\n",
       "    </tr>\n",
       "    <tr>\n",
       "      <th>7</th>\n",
       "      <td>$\\mathrm{ CH_{ 4}}$</td>\n",
       "      <td>C</td>\n",
       "      <td>H</td>\n",
       "      <td>25.1325</td>\n",
       "    </tr>\n",
       "    <tr>\n",
       "      <th>8</th>\n",
       "      <td>$\\mathrm{ CH_{ 4}O}$</td>\n",
       "      <td>CO</td>\n",
       "      <td>C</td>\n",
       "      <td>37.4852</td>\n",
       "    </tr>\n",
       "    <tr>\n",
       "      <th>9</th>\n",
       "      <td>$\\mathrm{ C_{ 2}H_{ 6}O}$</td>\n",
       "      <td>CCO</td>\n",
       "      <td>C</td>\n",
       "      <td>52.1435</td>\n",
       "    </tr>\n",
       "    <tr>\n",
       "      <th>10</th>\n",
       "      <td>$\\mathrm{ C_{ 3}H_{ 8}O}$</td>\n",
       "      <td>CCCO</td>\n",
       "      <td>C</td>\n",
       "      <td>59.9591</td>\n",
       "    </tr>\n",
       "    <tr>\n",
       "      <th>11</th>\n",
       "      <td>$\\mathrm{ CH_{ 4}}$</td>\n",
       "      <td>C</td>\n",
       "      <td>C</td>\n",
       "      <td>74.8675</td>\n",
       "    </tr>\n",
       "  </tbody>\n",
       "</table>\n",
       "</div>"
      ],
      "text/plain": [
       "                     Molecule   sml Element  weight %\n",
       "0        $\\mathrm{ CH_{ 4}O}$    CO       O   49.9313\n",
       "1   $\\mathrm{ C_{ 2}H_{ 6}O}$   CCO       O   34.7283\n",
       "2   $\\mathrm{ C_{ 3}H_{ 8}O}$  CCCO       O   26.6224\n",
       "3         $\\mathrm{ CH_{ 4}}$     C       O    0.0000\n",
       "4        $\\mathrm{ CH_{ 4}O}$    CO       H   12.5835\n",
       "5   $\\mathrm{ C_{ 2}H_{ 6}O}$   CCO       H   13.1281\n",
       "6   $\\mathrm{ C_{ 3}H_{ 8}O}$  CCCO       H   13.4185\n",
       "7         $\\mathrm{ CH_{ 4}}$     C       H   25.1325\n",
       "8        $\\mathrm{ CH_{ 4}O}$    CO       C   37.4852\n",
       "9   $\\mathrm{ C_{ 2}H_{ 6}O}$   CCO       C   52.1435\n",
       "10  $\\mathrm{ C_{ 3}H_{ 8}O}$  CCCO       C   59.9591\n",
       "11        $\\mathrm{ CH_{ 4}}$     C       C   74.8675"
      ]
     },
     "execution_count": 59,
     "metadata": {},
     "output_type": "execute_result"
    }
   ],
   "source": [
    "# Melt the DataFrame for Seaborn\n",
    "df_melted = df_pandas_all.melt(id_vars=['Molecule', 'sml'], var_name='Element', value_name='weight %')\n",
    "df_melted"
   ]
  },
  {
   "cell_type": "markdown",
   "metadata": {},
   "source": [
    "Now we're ready to create the plot. We use "
   ]
  },
  {
   "cell_type": "code",
   "execution_count": 63,
   "metadata": {},
   "outputs": [
    {
     "name": "stderr",
     "output_type": "stream",
     "text": [
      "/Users/jemonat/Projects/bertiewooster.github.io/venv/lib/python3.11/site-packages/seaborn/_oldcore.py:1498: FutureWarning: is_categorical_dtype is deprecated and will be removed in a future version. Use isinstance(dtype, CategoricalDtype) instead\n",
      "  if pd.api.types.is_categorical_dtype(vector):\n",
      "/Users/jemonat/Projects/bertiewooster.github.io/venv/lib/python3.11/site-packages/seaborn/_oldcore.py:1498: FutureWarning: is_categorical_dtype is deprecated and will be removed in a future version. Use isinstance(dtype, CategoricalDtype) instead\n",
      "  if pd.api.types.is_categorical_dtype(vector):\n",
      "/Users/jemonat/Projects/bertiewooster.github.io/venv/lib/python3.11/site-packages/seaborn/_oldcore.py:1498: FutureWarning: is_categorical_dtype is deprecated and will be removed in a future version. Use isinstance(dtype, CategoricalDtype) instead\n",
      "  if pd.api.types.is_categorical_dtype(vector):\n",
      "/Users/jemonat/Projects/bertiewooster.github.io/venv/lib/python3.11/site-packages/seaborn/_oldcore.py:1498: FutureWarning: is_categorical_dtype is deprecated and will be removed in a future version. Use isinstance(dtype, CategoricalDtype) instead\n",
      "  if pd.api.types.is_categorical_dtype(vector):\n"
     ]
    },
    {
     "data": {
      "image/png": "[encoded data removed]",
      "text/plain": [
       "<Figure size 1000x600 with 1 Axes>"
      ]
     },
     "metadata": {},
     "output_type": "display_data"
    }
   ],
   "source": [
    "# Create the column plot\n",
    "sns.set(style=\"whitegrid\")\n",
    "plt.figure(figsize=(10, 6))\n",
    "\n",
    "# Use hue to group by elements (O, H, C)\n",
    "sns.barplot(x=\"Molecule\", y=\"weight %\", hue=\"Element\", data=df_melted, palette=\"Set3\")\n",
    "\n",
    "# Use LaTeX to include a formula in the plot title\n",
    "class_of_molecules = \"$\\mathrm{ C_{ a}H_{ b}O_{ c}}$\"\n",
    "plt.title(\"Weight% of elements in \" + class_of_molecules + \" molecules\")\n",
    "\n",
    "# xticks gets the x values from the Molecule column, which are LaTeX strings of the molecular formulas\n",
    "plt.xticks()\n",
    "\n",
    "plt.legend(title=\"Element\")\n",
    "plt.tight_layout()\n",
    "plt.show()"
   ]
  },
  {
   "cell_type": "markdown",
   "metadata": {},
   "source": [
    "This graph displays the weight percentages we expect for an elemental analysis of these compounds. For example, considering the C1-C3 alcohols (methanol, ethanol, propanol), we can tell that the weight percent of carbon increases with carbon chain length."
   ]
  },
  {
   "cell_type": "markdown",
   "metadata": {},
   "source": [
    "## Conclusion"
   ]
  },
  {
   "cell_type": "markdown",
   "metadata": {},
   "source": [
    "This was an example of how to display molecular formulas in tables and graphs for a straightforward calculation. In the next blog posts, we'll apply these techniques to a more involved cheminformatics problem."
   ]
  }
 ],
 "metadata": {
  "kernelspec": {
   "display_name": "venv",
   "language": "python",
   "name": "python3"
  },
  "language_info": {
   "codemirror_mode": {
    "name": "ipython",
    "version": 3
   },
   "file_extension": ".py",
   "mimetype": "text/x-python",
   "name": "python",
   "nbconvert_exporter": "python",
   "pygments_lexer": "ipython3",
   "version": "3.11.0"
  },
  "orig_nbformat": 4
 },
 "nbformat": 4,
 "nbformat_minor": 2
}
