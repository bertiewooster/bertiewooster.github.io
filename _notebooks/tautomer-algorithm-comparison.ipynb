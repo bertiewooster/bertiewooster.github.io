{
 "cells": [
  {
   "cell_type": "markdown",
   "metadata": {},
   "source": [
    "# Comparing Tautomer Generation Algorithms"
   ]
  },
  {
   "cell_type": "markdown",
   "metadata": {},
   "source": [
    "[Tautomers](https://en.wikipedia.org/wiki/Tautomer) are structures that can interconvert under given conditions. For example, ___. Cheminformatics packages have algorithms to generate tautomers based on rules. This post compares their results to each other and to experimentally-observed tautomers."
   ]
  },
  {
   "cell_type": "markdown",
   "metadata": {},
   "source": [
    "All of the tautomer generation algorithms discussed below are based on rules from Markus Sitzmann, Wolf-Dietrich Ihlenfeldt, and Marc C. Nicklaus, “Tautomerism in Large Databases”, JCAMD 24:521 (2010) https://doi.org/10.1007/s10822-010-9346-4.\n",
    "\n",
    "RDKit has two tautomer generation algorithms, [GetV1TautomerEnumerator](https://www.rdkit.org/docs/source/rdkit.Chem.MolStandardize.rdMolStandardize.html#rdkit.Chem.MolStandardize.rdMolStandardize.GetV1TautomerEnumerator) and the [new algorithm, TautomerEnumerator](https://www.rdkit.org/docs/source/rdkit.Chem.MolStandardize.rdMolStandardize.html#rdkit.Chem.MolStandardize.rdMolStandardize.TautomerEnumerator). The [2022.03 release notes](https://www.rdkit.org/docs/BackwardsIncompatibleChanges.html#tautomer-enumeration-improvements) state:\n",
    "> The rules for tautomer enumeration in MolStandardize have been updated to more closely match the rules in the original publication. These changes primarily consist of making the rules more specific; the consequence is that less tautomers will be generated with this version.\n",
    "\n",
    "but maintainer Greg Landrum [wrote](https://github.com/rdkit/rdkit/discussions/6997#discussioncomment-7893160)\n",
    "> That's [the new TautomerEnumerator returning fewer examples than the previous rules V1] not something I've noticed. The code change adds a missed case to the enumeration rule set, so at first glance you'd expect it to always produce more tautomers, but I suppose that could still result in a smaller number of tautomers in the end because of how the transformations interact with each other.\n",
    "\n",
    "So one purpose of this blog post is to empirically answer the question of whether the new RDKit algorithm produces more or fewer tautomers than the V1 algorithm.\n",
    "\n",
    "NIH [CADD Group Chemoinformatics Tools and User Services (CACTUS)](https://cactus.nci.nih.gov/) also has algorithms that can be run on a [Tautomerizer web page](https://cactus.nci.nih.gov/cgi-bin/tautomerize.tcl) or with the package [CACTVS](https://www.cactvs.com/academic/) from Xemistry GmbH. Marc Niclaus notes that CACTVS has \"many additional transforms vs. the ones we used in 2010 [for the paper cited above]. This now includes numerous ring-chain and valence tautomerism rules, for a total of 119 rules\" (private communication). We compare these two NIH algorithms to the new RDKit algorithm. Because I couldn't install it on my computer due to CPU compatibility, I used the web site which has 86 rules, and Marc kindly ran CACTVS on his computer for a few structures using \"exhaustive multi-step enumeration iteratively with all rules, until no more new tautomer is found (with a limit of 1,000 attempts)\".\n",
    "\n",
    "To empirically compare these algorithms, we need a set of molecules which have tautomers: Many molecules will not have any tautomers. Nicklaus and team also created [Tautomer Structures Extracted from Experimental Literature](https://cactus.nci.nih.gov/download/tautomer/), with \n",
    "> 5,977 structures extracted from experimental literature representing 2,819 cases of tautomeric tuples (mostly tautomer pairs but also a few triples and higher-order tuples). Note that the number of structurally different tuples is only 1,776 (comprising 3,884 different structures) since some tuples are differentiated from each other only by experimental conditions such as solvent, spectroscopy method, etc.\n",
    "\n",
    "We use release 3 in Excel format, specifically [Tautomer_database_release_3a.xlsx](https://cactus.nci.nih.gov/download/tautomer/Tautomer_database_release_3a.xlsx)."
   ]
  },
  {
   "cell_type": "markdown",
   "metadata": {},
   "source": [
    "## Code foundation"
   ]
  },
  {
   "cell_type": "code",
   "execution_count": 1,
   "metadata": {},
   "outputs": [],
   "source": [
    "from typing import Iterable, Callable\n",
    "from collections import Counter\n",
    "import statistics\n",
    "from statistics import StatisticsError"
   ]
  },
  {
   "cell_type": "code",
   "execution_count": 2,
   "metadata": {},
   "outputs": [],
   "source": [
    "from rdkit.Chem import AllChem as Chem\n",
    "from rdkit import RDLogger\n",
    "from rdkit.Chem import Draw, rdFMCS\n",
    "import rdkit\n",
    "from rdkit.Chem import Mol\n",
    "from rdkit.Chem.MolStandardize import rdMolStandardize\n",
    "import polars as pl\n",
    "import seaborn as sns\n",
    "import matplotlib.pyplot as plt\n",
    "from matplotlib.ticker import MultipleLocator"
   ]
  },
  {
   "cell_type": "code",
   "execution_count": 3,
   "metadata": {},
   "outputs": [
    {
     "name": "stdout",
     "output_type": "stream",
     "text": [
      "2023.09.1\n"
     ]
    }
   ],
   "source": [
    "print(rdkit.__version__)\n",
    "# Suppress RDKit warnings so it doesn't warn about SMILES that produce molecules which violate a rule,\n",
    "# which would produce many warnings as we produce thousands of molecules\n",
    "lg = RDLogger.logger()\n",
    "lg.setLevel(RDLogger.CRITICAL)"
   ]
  },
  {
   "cell_type": "markdown",
   "metadata": {},
   "source": [
    "## Enumerating tautomers using RDKit"
   ]
  },
  {
   "cell_type": "markdown",
   "metadata": {},
   "source": [
    "To use each of RDKit's two tautomer enumerator functions, we put the class for each in a list. Each has the method `.Enumerate` so we can call them with the same code."
   ]
  },
  {
   "cell_type": "code",
   "execution_count": 4,
   "metadata": {},
   "outputs": [],
   "source": [
    "def enumerate_tauts(sml):\n",
    "    # List the tautomer enumerators in RDKit\n",
    "    enumerators = [rdMolStandardize.TautomerEnumerator(), rdMolStandardize.GetV1TautomerEnumerator()]\n",
    "\n",
    "    # Create a list of dictionaries, one for each tautomer enumerator\n",
    "    smls_tauts = [{} for enumerator in enumerators]\n",
    "\n",
    "    # Here Python's enumerate() function may cause confusion with tautomer enumerators! :-)\n",
    "    for i, enumerator in enumerate(enumerators):\n",
    "        mol = mol_from_sml(sml)\n",
    "        tauts = enumerator.Enumerate(mol)\n",
    "        # Add each tautomer to that enumerator's dictionary as SMILES:mol\n",
    "        for taut in tauts:\n",
    "            smls_tauts[i].update({Chem.MolToSmiles(taut):taut})\n",
    "    return smls_tauts"
   ]
  },
  {
   "cell_type": "code",
   "execution_count": 5,
   "metadata": {},
   "outputs": [],
   "source": [
    "#? Delete?\n",
    "def check_same_keys(dict_list):\n",
    "    # Check if the list is empty or has only one dictionary\n",
    "    if len(dict_list) < 2:\n",
    "        return True\n",
    "\n",
    "    # Get the keys of the first dictionary in the list\n",
    "    reference_keys = set(dict_list[0].keys())\n",
    "\n",
    "    # Iterate through the dictionaries starting from the second one\n",
    "    for dictionary in dict_list[1:]:\n",
    "        # Check if the keys of each dictionary match the keys of the reference dictionary\n",
    "        if set(dictionary.keys()) != reference_keys:\n",
    "            # Return False if keys are not the same\n",
    "            return False\n",
    "    return True"
   ]
  },
  {
   "cell_type": "markdown",
   "metadata": {},
   "source": [
    "## Preparing the data from the tautomer database"
   ]
  },
  {
   "cell_type": "code",
   "execution_count": 6,
   "metadata": {},
   "outputs": [],
   "source": [
    "# Tautomer database from https://cactus.nci.nih.gov/download/tautomer/\n",
    "file_name = \"../data/Tautomer_database_release_3a.xlsx\"\n",
    "\n",
    "# If you want to use only the first row for quicker debugging, use this file instead\n",
    "# file_name = \"../data/Tautomer_database_release_3a_first.xlsx\"\n",
    "\n",
    "# The name of the sheet to process\n",
    "sheet_name = \"Tautomer_database\""
   ]
  },
  {
   "cell_type": "code",
   "execution_count": 7,
   "metadata": {},
   "outputs": [],
   "source": [
    "def canon_sml_or_none(mol):\n",
    "    if mol is None:\n",
    "        return None\n",
    "    return Chem.MolToSmiles(mol)"
   ]
  },
  {
   "cell_type": "code",
   "execution_count": 8,
   "metadata": {},
   "outputs": [],
   "source": [
    "def mol_from_sml(sml: str) -> Mol:\n",
    "    \"\"\"Create an RDKit molecule from a SMILES string.\n",
    "    RDKit cannot create molecules from some SMILES strings if it tries to sanitize them,\n",
    "    but can if it does not sanitize them.\n",
    "    It is preferable to sanitize molecules if possible because that does things such as\n",
    "    delocalize aromatic bonds (instead of alternating single and double bonds),\n",
    "    which makes different structures (single-double vs. double-single bond sequence) give the same molecule.\n",
    "\n",
    "    :param sml: SMILES string\n",
    "    \"\"\"\n",
    "    # Try sanitizing molecule first\n",
    "    mol = Chem.MolFromSmiles(sml, sanitize=True)\n",
    "    if mol is not None:\n",
    "        return mol\n",
    "    # If sanitization fails, turn it off and try creating molecule again\n",
    "    mol = Chem.MolFromSmiles(sml, sanitize=False)\n",
    "    return mol"
   ]
  },
  {
   "cell_type": "markdown",
   "metadata": {},
   "source": [
    "We start by reading the data from the sheet in the Excel file of the tautomer database."
   ]
  },
  {
   "cell_type": "code",
   "execution_count": 9,
   "metadata": {},
   "outputs": [],
   "source": [
    "df = pl.read_excel(\n",
    "    source=file_name, \n",
    "    sheet_name=sheet_name,\n",
    "    read_csv_options={\"infer_schema_length\":10000},\n",
    "    )"
   ]
  },
  {
   "cell_type": "markdown",
   "metadata": {},
   "source": [
    "It turns out that the last row is all null values:"
   ]
  },
  {
   "cell_type": "code",
   "execution_count": 10,
   "metadata": {},
   "outputs": [
    {
     "data": {
      "text/html": [
       "<div><style>\n",
       ".dataframe > thead > tr > th,\n",
       ".dataframe > tbody > tr > td {\n",
       "  text-align: right;\n",
       "  white-space: pre-wrap;\n",
       "}\n",
       "</style>\n",
       "<small>shape: (1, 147)</small><table border=\"1\" class=\"dataframe\"><thead><tr><th>Ref</th><th>Size</th><th>Solvent</th><th>Solvent_Proportion</th><th>Solvent_Mixture</th><th>Temperature</th><th>pH</th><th>Experimental_Method</th><th>Entry_ID1</th><th>Type_1</th><th>ID_Hash_1</th><th>FICTS_1</th><th>HASHISY_1</th><th>FICuS_1</th><th>TAUTOHASH_1</th><th>uuuuu_1</th><th>Std_InChIKey_1</th><th>Std_InChI_1</th><th>SMILES_1</th><th>Mol_Formula_1</th><th>Mol_Weight_1</th><th>IUPAC_Name_1</th><th>Quantitative_ratio_1</th><th>Qualitative_prevalence_1</th><th>Prevalence_Category_1</th><th>Filename_1</th><th>Publication_DOI_1</th><th>Publication_ID_1</th><th>Authors_1</th><th>Affiliation_1</th><th>Title_1</th><th>Section_1</th><th>Page_Number(s)_1</th><th>Notes_1</th><th>Cmpd_Number_1</th><th>Entry_ID2</th><th>Type_2</th><th>&hellip;</th><th>Publication_DOI_4</th><th>Publication_ID_4</th><th>Authors_4</th><th>Affiliation_4</th><th>Title_4</th><th>Section_4</th><th>Page_Number(s)_4</th><th>Notes_4</th><th>Cmpd_Number_4</th><th>Entry_ID5</th><th>Type_5</th><th>Transf_1_5</th><th>ID_Hash_5</th><th>FICTS_5</th><th>HASHISY_5</th><th>FICuS_5</th><th>TAUTOHASH_5</th><th>uuuuu_5</th><th>Std_InChIKey_5</th><th>Std_InChI_5</th><th>SMILES_5</th><th>Mol_Formula_5</th><th>Mol_Weight_5</th><th>IUPAC_Name_5</th><th>Quantitative_ratio_5</th><th>Qualitative_Prevalence_5</th><th>Prevalence_Category_5</th><th>Filename_5</th><th>Publication_DOI_5</th><th>Publication_ID_5</th><th>Authors_5</th><th>Affiliation_5</th><th>Title_5</th><th>Section_5</th><th>Page_Number(s)_5</th><th>Notes_5</th><th>Cmpd_Number_5</th></tr><tr><td>i64</td><td>i64</td><td>str</td><td>str</td><td>str</td><td>str</td><td>str</td><td>str</td><td>str</td><td>str</td><td>str</td><td>str</td><td>str</td><td>str</td><td>str</td><td>str</td><td>str</td><td>str</td><td>str</td><td>str</td><td>f64</td><td>str</td><td>str</td><td>str</td><td>i64</td><td>str</td><td>str</td><td>str</td><td>str</td><td>str</td><td>str</td><td>str</td><td>str</td><td>str</td><td>str</td><td>str</td><td>str</td><td>&hellip;</td><td>str</td><td>str</td><td>str</td><td>str</td><td>str</td><td>str</td><td>i64</td><td>str</td><td>str</td><td>str</td><td>str</td><td>str</td><td>str</td><td>str</td><td>str</td><td>str</td><td>str</td><td>str</td><td>str</td><td>str</td><td>str</td><td>str</td><td>f64</td><td>str</td><td>str</td><td>str</td><td>i64</td><td>str</td><td>str</td><td>str</td><td>str</td><td>str</td><td>str</td><td>str</td><td>i64</td><td>str</td><td>str</td></tr></thead><tbody><tr><td>null</td><td>null</td><td>null</td><td>null</td><td>null</td><td>null</td><td>null</td><td>null</td><td>null</td><td>null</td><td>null</td><td>null</td><td>null</td><td>null</td><td>null</td><td>null</td><td>null</td><td>null</td><td>null</td><td>null</td><td>null</td><td>null</td><td>null</td><td>null</td><td>null</td><td>null</td><td>null</td><td>null</td><td>null</td><td>null</td><td>null</td><td>null</td><td>null</td><td>null</td><td>null</td><td>null</td><td>null</td><td>&hellip;</td><td>null</td><td>null</td><td>null</td><td>null</td><td>null</td><td>null</td><td>null</td><td>null</td><td>null</td><td>null</td><td>null</td><td>null</td><td>null</td><td>null</td><td>null</td><td>null</td><td>null</td><td>null</td><td>null</td><td>null</td><td>null</td><td>null</td><td>null</td><td>null</td><td>null</td><td>null</td><td>null</td><td>null</td><td>null</td><td>null</td><td>null</td><td>null</td><td>null</td><td>null</td><td>null</td><td>null</td><td>null</td></tr></tbody></table></div>"
      ],
      "text/plain": [
       "shape: (1, 147)\n",
       "┌──────┬──────┬─────────┬────────────────┬───┬───────────┬───────────────┬─────────┬───────────────┐\n",
       "│ Ref  ┆ Size ┆ Solvent ┆ Solvent_Propor ┆ … ┆ Section_5 ┆ Page_Number(s ┆ Notes_5 ┆ Cmpd_Number_5 │\n",
       "│ ---  ┆ ---  ┆ ---     ┆ tion           ┆   ┆ ---       ┆ )_5           ┆ ---     ┆ ---           │\n",
       "│ i64  ┆ i64  ┆ str     ┆ ---            ┆   ┆ str       ┆ ---           ┆ str     ┆ str           │\n",
       "│      ┆      ┆         ┆ str            ┆   ┆           ┆ i64           ┆         ┆               │\n",
       "╞══════╪══════╪═════════╪════════════════╪═══╪═══════════╪═══════════════╪═════════╪═══════════════╡\n",
       "│ null ┆ null ┆ null    ┆ null           ┆ … ┆ null      ┆ null          ┆ null    ┆ null          │\n",
       "└──────┴──────┴─────────┴────────────────┴───┴───────────┴───────────────┴─────────┴───────────────┘"
      ]
     },
     "execution_count": 10,
     "metadata": {},
     "output_type": "execute_result"
    }
   ],
   "source": [
    "df.tail(1)"
   ]
  },
  {
   "cell_type": "markdown",
   "metadata": {},
   "source": [
    "so let's delete it"
   ]
  },
  {
   "cell_type": "code",
   "execution_count": 11,
   "metadata": {},
   "outputs": [],
   "source": [
    "df = df.filter(pl.col(\"Ref\").is_not_null())"
   ]
  },
  {
   "cell_type": "markdown",
   "metadata": {},
   "source": [
    "And we get the 2,819 cases cited in the data documentation."
   ]
  },
  {
   "cell_type": "code",
   "execution_count": 12,
   "metadata": {},
   "outputs": [
    {
     "data": {
      "text/plain": [
       "(2819, 147)"
      ]
     },
     "execution_count": 12,
     "metadata": {},
     "output_type": "execute_result"
    }
   ],
   "source": [
    "df.shape"
   ]
  },
  {
   "cell_type": "code",
   "execution_count": 13,
   "metadata": {},
   "outputs": [],
   "source": [
    "# Lists for names of SMILES_n and InChI_n columns\n",
    "SMILES_columns = [col for col in df.columns if col.startswith('SMILES_')]\n",
    "\n",
    "#? Delete? Want to use InChI in any way?\n",
    "InChI_columns = [col for col in df.columns if col.startswith('Std_InChI_')]\n",
    "\n",
    "# Combined list of SMILES_n and InChI_n columns\n",
    "numbered_columns = [elem for pair in zip(SMILES_columns, InChI_columns) for elem in pair]\n",
    "\n",
    "#? Need Size column? Seems like we don't use it.\n",
    "# Select relevant columns in dataframe\n",
    "df = df.select(\"Ref\",*numbered_columns)"
   ]
  },
  {
   "cell_type": "code",
   "execution_count": 14,
   "metadata": {},
   "outputs": [
    {
     "data": {
      "text/html": [
       "<div><style>\n",
       ".dataframe > thead > tr > th,\n",
       ".dataframe > tbody > tr > td {\n",
       "  text-align: right;\n",
       "  white-space: pre-wrap;\n",
       "}\n",
       "</style>\n",
       "<small>shape: (2_819, 11)</small><table border=\"1\" class=\"dataframe\"><thead><tr><th>Ref</th><th>SMILES_1</th><th>Std_InChI_1</th><th>SMILES_2</th><th>Std_InChI_2</th><th>SMILES_3</th><th>Std_InChI_3</th><th>SMILES_4</th><th>Std_InChI_4</th><th>SMILES_5</th><th>Std_InChI_5</th></tr><tr><td>i64</td><td>str</td><td>str</td><td>str</td><td>str</td><td>str</td><td>str</td><td>str</td><td>str</td><td>str</td><td>str</td></tr></thead><tbody><tr><td>1</td><td>&quot;O=C(C)CC(C)=O&quot;</td><td>&quot;InChI=1S/C5H8O…</td><td>&quot;O/C(C)=C\\C(C)=…</td><td>&quot;InChI=1S/C5H8O…</td><td>null</td><td>null</td><td>null</td><td>null</td><td>null</td><td>null</td></tr><tr><td>2</td><td>&quot;N1=CC=N[NH]1&quot;</td><td>&quot;InChI=1S/C2H3N…</td><td>&quot;[NH]1N=NC=C1&quot;</td><td>&quot;InChI=1S/C2H3N…</td><td>null</td><td>null</td><td>null</td><td>null</td><td>null</td><td>null</td></tr><tr><td>3</td><td>&quot;CC1=CC=NN1&quot;</td><td>&quot;InChI=1S/C4H6N…</td><td>&quot;CC1=NNC=C1&quot;</td><td>&quot;InChI=1S/C4H6N…</td><td>null</td><td>null</td><td>null</td><td>null</td><td>null</td><td>null</td></tr><tr><td>4</td><td>&quot;N=N=NC1=NNC2=C…</td><td>&quot;InChI=1S/C7H6N…</td><td>&quot;N=N=NC1=C2C=CC…</td><td>&quot;InChI=1S/C7H6N…</td><td>null</td><td>null</td><td>null</td><td>null</td><td>null</td><td>null</td></tr><tr><td>5</td><td>&quot;CC1([C@H]2C(C=…</td><td>&quot;InChI=1S/C11H1…</td><td>&quot;CC1([C@H](CC[C…</td><td>&quot;InChI=1S/C11H1…</td><td>&quot;CC1([C@H](CC[C…</td><td>&quot;InChI=1S/C11H1…</td><td>null</td><td>null</td><td>null</td><td>null</td></tr><tr><td>6</td><td>&quot;OC(C=CC=C1)=C1…</td><td>&quot;InChI=1S/C19H1…</td><td>&quot;OC(C=CC=C1)=C1…</td><td>&quot;InChI=1S/C19H1…</td><td>&quot;OC(C=CC=C1)=C1…</td><td>&quot;InChI=1S/C19H1…</td><td>null</td><td>null</td><td>null</td><td>null</td></tr><tr><td>7</td><td>&quot;O=C(C([H])([H]…</td><td>&quot;InChI=1S/C10H1…</td><td>&quot;O/C(C1=CC=CC=C…</td><td>&quot;InChI=1S/C10H1…</td><td>&quot;O=C(/C=C(O)/C)…</td><td>&quot;InChI=1S/C10H1…</td><td>null</td><td>null</td><td>null</td><td>null</td></tr><tr><td>8</td><td>&quot;O/C(C1=CC=CC=C…</td><td>&quot;InChI=1S/C15H1…</td><td>&quot;O=C(C1=CC=CC=C…</td><td>&quot;InChI=1S/C15H1…</td><td>null</td><td>null</td><td>null</td><td>null</td><td>null</td><td>null</td></tr><tr><td>9</td><td>&quot;OC1=C(C2=CC=CC…</td><td>&quot;InChI=1S/C17H1…</td><td>&quot;O=C1C=CC2=CC=C…</td><td>&quot;InChI=1S/C17H1…</td><td>null</td><td>null</td><td>null</td><td>null</td><td>null</td><td>null</td></tr><tr><td>9</td><td>&quot;OC1=C(C2=CC=CC…</td><td>&quot;InChI=1S/C17H1…</td><td>&quot;O=C1C=CC2=CC=C…</td><td>&quot;InChI=1S/C17H1…</td><td>null</td><td>null</td><td>null</td><td>null</td><td>null</td><td>null</td></tr><tr><td>9</td><td>&quot;OC1=C(C2=CC=CC…</td><td>&quot;InChI=1S/C17H1…</td><td>&quot;O=C1C=CC2=CC=C…</td><td>&quot;InChI=1S/C17H1…</td><td>null</td><td>null</td><td>null</td><td>null</td><td>null</td><td>null</td></tr><tr><td>9</td><td>&quot;OC1=C(C2=CC=CC…</td><td>&quot;InChI=1S/C17H1…</td><td>&quot;O=C1C=CC2=CC=C…</td><td>&quot;InChI=1S/C17H1…</td><td>null</td><td>null</td><td>null</td><td>null</td><td>null</td><td>null</td></tr><tr><td>&hellip;</td><td>&hellip;</td><td>&hellip;</td><td>&hellip;</td><td>&hellip;</td><td>&hellip;</td><td>&hellip;</td><td>&hellip;</td><td>&hellip;</td><td>&hellip;</td><td>&hellip;</td></tr><tr><td>1767</td><td>&quot;C1(=CC=CC=C1)P…</td><td>&quot;InChI=1S/C24H1…</td><td>&quot;C1(=CC=CC=C1)[…</td><td>&quot;InChI=1S/C24H1…</td><td>null</td><td>null</td><td>null</td><td>null</td><td>null</td><td>null</td></tr><tr><td>1767</td><td>&quot;C1(=CC=CC=C1)P…</td><td>&quot;InChI=1S/C24H1…</td><td>&quot;C1(=CC=CC=C1)[…</td><td>&quot;InChI=1S/C24H1…</td><td>null</td><td>null</td><td>null</td><td>null</td><td>null</td><td>null</td></tr><tr><td>1767</td><td>&quot;C1(=CC=CC=C1)P…</td><td>&quot;InChI=1S/C24H1…</td><td>&quot;C1(=CC=CC=C1)[…</td><td>&quot;InChI=1S/C24H1…</td><td>null</td><td>null</td><td>null</td><td>null</td><td>null</td><td>null</td></tr><tr><td>1767</td><td>&quot;C1(=CC=CC=C1)P…</td><td>&quot;InChI=1S/C24H1…</td><td>&quot;C1(=CC=CC=C1)[…</td><td>&quot;InChI=1S/C24H1…</td><td>null</td><td>null</td><td>null</td><td>null</td><td>null</td><td>null</td></tr><tr><td>1768</td><td>&quot;C2=CC(=C(N=NC1…</td><td>&quot;InChI=1S/C25H2…</td><td>&quot;C5=CC1=C([N-][…</td><td>&quot;InChI=1S/C25H2…</td><td>null</td><td>null</td><td>null</td><td>null</td><td>null</td><td>null</td></tr><tr><td>1769</td><td>&quot;C1=CC=C(C=C1)N…</td><td>&quot;InChI=1S/C25H2…</td><td>&quot;C1=CC=C(C=C1)[…</td><td>&quot;InChI=1S/C25H2…</td><td>null</td><td>null</td><td>null</td><td>null</td><td>null</td><td>null</td></tr><tr><td>1770</td><td>&quot;CC1=CC=C(C=C1)…</td><td>&quot;InChI=1S/C26H2…</td><td>&quot;CC1=CC=C(C=C1)…</td><td>&quot;InChI=1S/C26H2…</td><td>null</td><td>null</td><td>null</td><td>null</td><td>null</td><td>null</td></tr><tr><td>1771</td><td>&quot;ClC1=CC=C(C=C1…</td><td>&quot;InChI=1S/C24H1…</td><td>&quot;ClC1=CC=C(C=C1…</td><td>&quot;InChI=1S/C24H1…</td><td>null</td><td>null</td><td>null</td><td>null</td><td>null</td><td>null</td></tr><tr><td>1772</td><td>&quot;ClC2=CC(=C(N=N…</td><td>&quot;InChI=1S/C24H1…</td><td>&quot;C1=CC=C(C=C1)[…</td><td>&quot;InChI=1S/C24H1…</td><td>null</td><td>null</td><td>null</td><td>null</td><td>null</td><td>null</td></tr><tr><td>1773</td><td>&quot;ClC1=CC=C(C=C1…</td><td>&quot;InChI=1S/C25H2…</td><td>&quot;ClC1=CC=C(C=C1…</td><td>&quot;InChI=1S/C25H2…</td><td>null</td><td>null</td><td>null</td><td>null</td><td>null</td><td>null</td></tr><tr><td>1774</td><td>&quot;ClC2=CC(=C(N=N…</td><td>&quot;InChI=1S/C25H2…</td><td>&quot;ClC5=CC1=C([N-…</td><td>&quot;InChI=1S/C25H2…</td><td>null</td><td>null</td><td>null</td><td>null</td><td>null</td><td>null</td></tr><tr><td>1775</td><td>&quot;ClC2=CC(=C(N=N…</td><td>&quot;InChI=1S/C24H1…</td><td>&quot;ClC1=CC=C(C=C1…</td><td>&quot;InChI=1S/C24H1…</td><td>null</td><td>null</td><td>null</td><td>null</td><td>null</td><td>null</td></tr></tbody></table></div>"
      ],
      "text/plain": [
       "shape: (2_819, 11)\n",
       "┌──────┬─────────────┬────────────┬────────────┬───┬──────────┬────────────┬──────────┬────────────┐\n",
       "│ Ref  ┆ SMILES_1    ┆ Std_InChI_ ┆ SMILES_2   ┆ … ┆ SMILES_4 ┆ Std_InChI_ ┆ SMILES_5 ┆ Std_InChI_ │\n",
       "│ ---  ┆ ---         ┆ 1          ┆ ---        ┆   ┆ ---      ┆ 4          ┆ ---      ┆ 5          │\n",
       "│ i64  ┆ str         ┆ ---        ┆ str        ┆   ┆ str      ┆ ---        ┆ str      ┆ ---        │\n",
       "│      ┆             ┆ str        ┆            ┆   ┆          ┆ str        ┆          ┆ str        │\n",
       "╞══════╪═════════════╪════════════╪════════════╪═══╪══════════╪════════════╪══════════╪════════════╡\n",
       "│ 1    ┆ O=C(C)CC(C) ┆ InChI=1S/C ┆ O/C(C)=C\\C ┆ … ┆ null     ┆ null       ┆ null     ┆ null       │\n",
       "│      ┆ =O          ┆ 5H8O2/c1-4 ┆ (C)=O      ┆   ┆          ┆            ┆          ┆            │\n",
       "│      ┆             ┆ (6)3-5(2)7 ┆            ┆   ┆          ┆            ┆          ┆            │\n",
       "│      ┆             ┆ /h…        ┆            ┆   ┆          ┆            ┆          ┆            │\n",
       "│ 2    ┆ N1=CC=N[NH] ┆ InChI=1S/C ┆ [NH]1N=NC= ┆ … ┆ null     ┆ null       ┆ null     ┆ null       │\n",
       "│      ┆ 1           ┆ 2H3N3/c1-2 ┆ C1         ┆   ┆          ┆            ┆          ┆            │\n",
       "│      ┆             ┆ -4-5-3-1/h ┆            ┆   ┆          ┆            ┆          ┆            │\n",
       "│      ┆             ┆ 1-…        ┆            ┆   ┆          ┆            ┆          ┆            │\n",
       "│ 3    ┆ CC1=CC=NN1  ┆ InChI=1S/C ┆ CC1=NNC=C1 ┆ … ┆ null     ┆ null       ┆ null     ┆ null       │\n",
       "│      ┆             ┆ 4H6N2/c1-4 ┆            ┆   ┆          ┆            ┆          ┆            │\n",
       "│      ┆             ┆ -2-3-5-6-4 ┆            ┆   ┆          ┆            ┆          ┆            │\n",
       "│      ┆             ┆ /h…        ┆            ┆   ┆          ┆            ┆          ┆            │\n",
       "│ 4    ┆ N=N=NC1=NNC ┆ InChI=1S/C ┆ N=N=NC1=C2 ┆ … ┆ null     ┆ null       ┆ null     ┆ null       │\n",
       "│      ┆ 2=CC=CC=C12 ┆ 7H6N5/c8-1 ┆ C=CC=CC2=N ┆   ┆          ┆            ┆          ┆            │\n",
       "│      ┆             ┆ 2-11-7-5-3 ┆ N1         ┆   ┆          ┆            ┆          ┆            │\n",
       "│      ┆             ┆ -1…        ┆            ┆   ┆          ┆            ┆          ┆            │\n",
       "│ …    ┆ …           ┆ …          ┆ …          ┆ … ┆ …        ┆ …          ┆ …        ┆ …          │\n",
       "│ 1772 ┆ ClC2=CC(=C( ┆ InChI=1S/C ┆ C1=CC=C(C= ┆ … ┆ null     ┆ null       ┆ null     ┆ null       │\n",
       "│      ┆ N=NC1=CC=CC ┆ 24H18ClN2P ┆ C1)[N]2[N- ┆   ┆          ┆            ┆          ┆            │\n",
       "│      ┆ =C1)C=C2)P… ┆ /c25-19-16 ┆ ]C5=C([P+] ┆   ┆          ┆            ┆          ┆            │\n",
       "│      ┆             ┆ -1…        ┆ 2(…        ┆   ┆          ┆            ┆          ┆            │\n",
       "│ 1773 ┆ ClC1=CC=C(C ┆ InChI=1S/C ┆ ClC1=CC=C( ┆ … ┆ null     ┆ null       ┆ null     ┆ null       │\n",
       "│      ┆ =C1)N=NC2=C ┆ 25H20ClN2P ┆ C=C1)[N]2[ ┆   ┆          ┆            ┆          ┆            │\n",
       "│      ┆ (C=C(C=C2)… ┆ /c1-19-12- ┆ N-]C5=C([P ┆   ┆          ┆            ┆          ┆            │\n",
       "│      ┆             ┆ 17…        ┆ +]…        ┆   ┆          ┆            ┆          ┆            │\n",
       "│ 1774 ┆ ClC2=CC(=C( ┆ InChI=1S/C ┆ ClC5=CC1=C ┆ … ┆ null     ┆ null       ┆ null     ┆ null       │\n",
       "│      ┆ N=NC1=CC=C( ┆ 25H20ClN2P ┆ ([N-][N]([ ┆   ┆          ┆            ┆          ┆            │\n",
       "│      ┆ C)C=C1)C=C… ┆ /c1-19-12- ┆ P+]1(C2=CC ┆   ┆          ┆            ┆          ┆            │\n",
       "│      ┆             ┆ 15…        ┆ =C…        ┆   ┆          ┆            ┆          ┆            │\n",
       "│ 1775 ┆ ClC2=CC(=C( ┆ InChI=1S/C ┆ ClC1=CC=C( ┆ … ┆ null     ┆ null       ┆ null     ┆ null       │\n",
       "│      ┆ N=NC1=CC=C( ┆ 24H17Cl2N2 ┆ C=C1)[N]2[ ┆   ┆          ┆            ┆          ┆            │\n",
       "│      ┆ Cl)C=C1)C=… ┆ P/c25-18-1 ┆ N-]C5=C([P ┆   ┆          ┆            ┆          ┆            │\n",
       "│      ┆             ┆ 1-…        ┆ +]…        ┆   ┆          ┆            ┆          ┆            │\n",
       "└──────┴─────────────┴────────────┴────────────┴───┴──────────┴────────────┴──────────┴────────────┘"
      ]
     },
     "execution_count": 14,
     "metadata": {},
     "output_type": "execute_result"
    }
   ],
   "source": [
    "df"
   ]
  },
  {
   "cell_type": "markdown",
   "metadata": {},
   "source": [
    "The Excel sheet has sets of columns for each of up to five experimentally-observed structures for a tautomer, called a Ref in the sheet, in a row. We will use the experimentally-observed structures as inputs to the tautomer generation algorithms, so we [melt](https://docs.pola.rs/py-polars/html/reference/dataframe/api/polars.DataFrame.melt.html#polars.DataFrame.melt) the dataframe by making each Ref-structure pair into its own row."
   ]
  },
  {
   "cell_type": "code",
   "execution_count": 15,
   "metadata": {},
   "outputs": [],
   "source": [
    "# Melt dataframe: Break out each row's SMILES_n columns into its own row\n",
    "df_melted = df.melt(id_vars=[\"Ref\"], value_vars=SMILES_columns, value_name=\"sml\")"
   ]
  },
  {
   "cell_type": "markdown",
   "metadata": {},
   "source": [
    "This produces 2,819 * 5 = 14,095 rows:"
   ]
  },
  {
   "cell_type": "code",
   "execution_count": 16,
   "metadata": {},
   "outputs": [
    {
     "data": {
      "text/html": [
       "<div><style>\n",
       ".dataframe > thead > tr > th,\n",
       ".dataframe > tbody > tr > td {\n",
       "  text-align: right;\n",
       "  white-space: pre-wrap;\n",
       "}\n",
       "</style>\n",
       "<small>shape: (14_095, 3)</small><table border=\"1\" class=\"dataframe\"><thead><tr><th>Ref</th><th>variable</th><th>sml</th></tr><tr><td>i64</td><td>str</td><td>str</td></tr></thead><tbody><tr><td>1</td><td>&quot;SMILES_1&quot;</td><td>&quot;O=C(C)CC(C)=O&quot;</td></tr><tr><td>2</td><td>&quot;SMILES_1&quot;</td><td>&quot;N1=CC=N[NH]1&quot;</td></tr><tr><td>3</td><td>&quot;SMILES_1&quot;</td><td>&quot;CC1=CC=NN1&quot;</td></tr><tr><td>4</td><td>&quot;SMILES_1&quot;</td><td>&quot;N=N=NC1=NNC2=C…</td></tr><tr><td>5</td><td>&quot;SMILES_1&quot;</td><td>&quot;CC1([C@H]2C(C=…</td></tr><tr><td>6</td><td>&quot;SMILES_1&quot;</td><td>&quot;OC(C=CC=C1)=C1…</td></tr><tr><td>7</td><td>&quot;SMILES_1&quot;</td><td>&quot;O=C(C([H])([H]…</td></tr><tr><td>8</td><td>&quot;SMILES_1&quot;</td><td>&quot;O/C(C1=CC=CC=C…</td></tr><tr><td>9</td><td>&quot;SMILES_1&quot;</td><td>&quot;OC1=C(C2=CC=CC…</td></tr><tr><td>9</td><td>&quot;SMILES_1&quot;</td><td>&quot;OC1=C(C2=CC=CC…</td></tr><tr><td>9</td><td>&quot;SMILES_1&quot;</td><td>&quot;OC1=C(C2=CC=CC…</td></tr><tr><td>9</td><td>&quot;SMILES_1&quot;</td><td>&quot;OC1=C(C2=CC=CC…</td></tr><tr><td>&hellip;</td><td>&hellip;</td><td>&hellip;</td></tr><tr><td>1767</td><td>&quot;SMILES_5&quot;</td><td>null</td></tr><tr><td>1767</td><td>&quot;SMILES_5&quot;</td><td>null</td></tr><tr><td>1767</td><td>&quot;SMILES_5&quot;</td><td>null</td></tr><tr><td>1767</td><td>&quot;SMILES_5&quot;</td><td>null</td></tr><tr><td>1768</td><td>&quot;SMILES_5&quot;</td><td>null</td></tr><tr><td>1769</td><td>&quot;SMILES_5&quot;</td><td>null</td></tr><tr><td>1770</td><td>&quot;SMILES_5&quot;</td><td>null</td></tr><tr><td>1771</td><td>&quot;SMILES_5&quot;</td><td>null</td></tr><tr><td>1772</td><td>&quot;SMILES_5&quot;</td><td>null</td></tr><tr><td>1773</td><td>&quot;SMILES_5&quot;</td><td>null</td></tr><tr><td>1774</td><td>&quot;SMILES_5&quot;</td><td>null</td></tr><tr><td>1775</td><td>&quot;SMILES_5&quot;</td><td>null</td></tr></tbody></table></div>"
      ],
      "text/plain": [
       "shape: (14_095, 3)\n",
       "┌──────┬──────────┬────────────────────────┐\n",
       "│ Ref  ┆ variable ┆ sml                    │\n",
       "│ ---  ┆ ---      ┆ ---                    │\n",
       "│ i64  ┆ str      ┆ str                    │\n",
       "╞══════╪══════════╪════════════════════════╡\n",
       "│ 1    ┆ SMILES_1 ┆ O=C(C)CC(C)=O          │\n",
       "│ 2    ┆ SMILES_1 ┆ N1=CC=N[NH]1           │\n",
       "│ 3    ┆ SMILES_1 ┆ CC1=CC=NN1             │\n",
       "│ 4    ┆ SMILES_1 ┆ N=N=NC1=NNC2=CC=CC=C12 │\n",
       "│ …    ┆ …        ┆ …                      │\n",
       "│ 1772 ┆ SMILES_5 ┆ null                   │\n",
       "│ 1773 ┆ SMILES_5 ┆ null                   │\n",
       "│ 1774 ┆ SMILES_5 ┆ null                   │\n",
       "│ 1775 ┆ SMILES_5 ┆ null                   │\n",
       "└──────┴──────────┴────────────────────────┘"
      ]
     },
     "execution_count": 16,
     "metadata": {},
     "output_type": "execute_result"
    }
   ],
   "source": [
    "df_melted"
   ]
  },
  {
   "cell_type": "markdown",
   "metadata": {},
   "source": [
    "Because many rows of the Excel sheet have less than five structures, there are many rows with no structure (SMILES), so let's remove those rows. We also don't need to know which number SMILES (1-5) each was, so we'll drop the `variable` columns that Polars created when we melted the original dataframe."
   ]
  },
  {
   "cell_type": "code",
   "execution_count": 17,
   "metadata": {},
   "outputs": [],
   "source": [
    "# Keep rows where SMILES is supplied\n",
    "df_melted = df_melted.filter(pl.col('sml').is_not_null())\n",
    "\n",
    "# Remove SMILES_n column (n = 1-5)\n",
    "df_melted = df_melted.drop(\"variable\")"
   ]
  },
  {
   "cell_type": "markdown",
   "metadata": {},
   "source": [
    "A check of the dataframe confirms that it contains the 5,977 structures reported by the [data description](https://cactus.nci.nih.gov/download/tautomer/)."
   ]
  },
  {
   "cell_type": "code",
   "execution_count": 18,
   "metadata": {},
   "outputs": [
    {
     "data": {
      "text/html": [
       "<div><style>\n",
       ".dataframe > thead > tr > th,\n",
       ".dataframe > tbody > tr > td {\n",
       "  text-align: right;\n",
       "  white-space: pre-wrap;\n",
       "}\n",
       "</style>\n",
       "<small>shape: (5_977, 2)</small><table border=\"1\" class=\"dataframe\"><thead><tr><th>Ref</th><th>sml</th></tr><tr><td>i64</td><td>str</td></tr></thead><tbody><tr><td>1</td><td>&quot;O=C(C)CC(C)=O&quot;</td></tr><tr><td>2</td><td>&quot;N1=CC=N[NH]1&quot;</td></tr><tr><td>3</td><td>&quot;CC1=CC=NN1&quot;</td></tr><tr><td>4</td><td>&quot;N=N=NC1=NNC2=C…</td></tr><tr><td>5</td><td>&quot;CC1([C@H]2C(C=…</td></tr><tr><td>6</td><td>&quot;OC(C=CC=C1)=C1…</td></tr><tr><td>7</td><td>&quot;O=C(C([H])([H]…</td></tr><tr><td>8</td><td>&quot;O/C(C1=CC=CC=C…</td></tr><tr><td>9</td><td>&quot;OC1=C(C2=CC=CC…</td></tr><tr><td>9</td><td>&quot;OC1=C(C2=CC=CC…</td></tr><tr><td>9</td><td>&quot;OC1=C(C2=CC=CC…</td></tr><tr><td>9</td><td>&quot;OC1=C(C2=CC=CC…</td></tr><tr><td>&hellip;</td><td>&hellip;</td></tr><tr><td>1216</td><td>&quot;O=C(OCC)/C(C)=…</td></tr><tr><td>926</td><td>&quot;O=C(/C=C(O)/C/…</td></tr><tr><td>927</td><td>&quot;O=C(CC(C(CC)/C…</td></tr><tr><td>928</td><td>&quot;O=C(CC(C/C(O)=…</td></tr><tr><td>929</td><td>&quot;O=C(OC)/C=C(C/…</td></tr><tr><td>929</td><td>&quot;O=C(OC)/C=C(C/…</td></tr><tr><td>930</td><td>&quot;O=C(CC(C/C(O)=…</td></tr><tr><td>931</td><td>&quot;O=C(/C=C(O)/C/…</td></tr><tr><td>932</td><td>&quot;O=C(OC)/C=C(C/…</td></tr><tr><td>1213</td><td>&quot;O=C(OCC)C1/C(S…</td></tr><tr><td>1214</td><td>&quot;O=C(OCC)C1/C(S…</td></tr><tr><td>1215</td><td>&quot;O=C(OCC)C(C)/C…</td></tr></tbody></table></div>"
      ],
      "text/plain": [
       "shape: (5_977, 2)\n",
       "┌──────┬───────────────────────────────────┐\n",
       "│ Ref  ┆ sml                               │\n",
       "│ ---  ┆ ---                               │\n",
       "│ i64  ┆ str                               │\n",
       "╞══════╪═══════════════════════════════════╡\n",
       "│ 1    ┆ O=C(C)CC(C)=O                     │\n",
       "│ 2    ┆ N1=CC=N[NH]1                      │\n",
       "│ 3    ┆ CC1=CC=NN1                        │\n",
       "│ 4    ┆ N=N=NC1=NNC2=CC=CC=C12            │\n",
       "│ …    ┆ …                                 │\n",
       "│ 932  ┆ O=C(OC)/C=C(C/C(O)=C(C(OCC)=O)\\F… │\n",
       "│ 1213 ┆ O=C(OCC)C1/C(S)=C\\CCCCCCCC1       │\n",
       "│ 1214 ┆ O=C(OCC)C1/C(S)=C\\CCCCCCCCC1      │\n",
       "│ 1215 ┆ O=C(OCC)C(C)/C(S)=C\\C             │\n",
       "└──────┴───────────────────────────────────┘"
      ]
     },
     "execution_count": 18,
     "metadata": {},
     "output_type": "execute_result"
    }
   ],
   "source": [
    "df_melted"
   ]
  },
  {
   "cell_type": "markdown",
   "metadata": {},
   "source": [
    "Next we'll remove duplicate rows, which are possible because a Ref can have multiple rows in the Excel sheet, and those rows may well have some of the same structures."
   ]
  },
  {
   "cell_type": "code",
   "execution_count": 19,
   "metadata": {},
   "outputs": [],
   "source": [
    "# Remove duplicate rows\n",
    "df_melted = df_melted.unique()"
   ]
  },
  {
   "cell_type": "markdown",
   "metadata": {},
   "source": [
    "This gives us 3,911 different structures. Compared to the 3,884 reported in the data description, this is slightly greater, by 27 or 0.7%. We'll discuss this below."
   ]
  },
  {
   "cell_type": "code",
   "execution_count": 20,
   "metadata": {},
   "outputs": [
    {
     "data": {
      "text/html": [
       "<div><style>\n",
       ".dataframe > thead > tr > th,\n",
       ".dataframe > tbody > tr > td {\n",
       "  text-align: right;\n",
       "  white-space: pre-wrap;\n",
       "}\n",
       "</style>\n",
       "<small>shape: (3_911, 2)</small><table border=\"1\" class=\"dataframe\"><thead><tr><th>Ref</th><th>sml</th></tr><tr><td>i64</td><td>str</td></tr></thead><tbody><tr><td>3</td><td>&quot;CC1=CC=NN1&quot;</td></tr><tr><td>7</td><td>&quot;O=C(C([H])([H]…</td></tr><tr><td>12</td><td>&quot;O=C1C=CC2=CC=C…</td></tr><tr><td>15</td><td>&quot;OC1=C(C2=CC=CC…</td></tr><tr><td>18</td><td>&quot;OC1=C(C=CN=C1)…</td></tr><tr><td>40</td><td>&quot;O=[N+](C1=CC=C…</td></tr><tr><td>41</td><td>&quot;O=[N+](C1=CC=C…</td></tr><tr><td>45</td><td>&quot;OC1=NNC(C(OCC)…</td></tr><tr><td>46</td><td>&quot;O=C(N(N1)C2=CC…</td></tr><tr><td>53</td><td>&quot;C12=CC=CC=C1NN…</td></tr><tr><td>56</td><td>&quot;N1C=NC=C1&quot;</td></tr><tr><td>59</td><td>&quot;C12=CC=CC=C1NC…</td></tr><tr><td>&hellip;</td><td>&hellip;</td></tr><tr><td>1136</td><td>&quot;C2=CC1=C(C3=C(…</td></tr><tr><td>1157</td><td>&quot;O=C(OC(C)C)/C=…</td></tr><tr><td>1162</td><td>&quot;O=C(/C=C(C)/S)…</td></tr><tr><td>1163</td><td>&quot;O=C(/C=C(S)\\C)…</td></tr><tr><td>1184</td><td>&quot;O=C(/C(C)=C(S)…</td></tr><tr><td>1185</td><td>&quot;O=C(/C(CC=C)=C…</td></tr><tr><td>1184</td><td>&quot;O=C(/C(C)=C(C1…</td></tr><tr><td>1213</td><td>&quot;O=C(OCC)/C1=C(…</td></tr><tr><td>927</td><td>&quot;O=C(CC(/C(CC)=…</td></tr><tr><td>928</td><td>&quot;O=C(/C=C(O)/C/…</td></tr><tr><td>1030</td><td>&quot;O=C(C(C)(C)OC/…</td></tr><tr><td>932</td><td>&quot;O=C(OC)/C=C(C/…</td></tr></tbody></table></div>"
      ],
      "text/plain": [
       "shape: (3_911, 2)\n",
       "┌──────┬───────────────────────────────────┐\n",
       "│ Ref  ┆ sml                               │\n",
       "│ ---  ┆ ---                               │\n",
       "│ i64  ┆ str                               │\n",
       "╞══════╪═══════════════════════════════════╡\n",
       "│ 3    ┆ CC1=CC=NN1                        │\n",
       "│ 7    ┆ O=C(C([H])([H])C(C)=O)C1=CC=CC=C… │\n",
       "│ 12   ┆ O=C1C=CC2=CC=CC=C2/C1=C/NC3=CC=C… │\n",
       "│ 15   ┆ OC1=C(C2=CC=CC=C2C=C1)/N=N/C3=CC… │\n",
       "│ …    ┆ …                                 │\n",
       "│ 927  ┆ O=C(CC(/C(CC)=C(O)/CC(OCC)=O)=O)… │\n",
       "│ 928  ┆ O=C(/C=C(O)/C/C(O)=C(C)/C(OCC)=O… │\n",
       "│ 1030 ┆ O=C(C(C)(C)OC/1=O)C1=C(O)/C(C)(C… │\n",
       "│ 932  ┆ O=C(OC)/C=C(C/C(O)=C(C(OCC)=O)\\F… │\n",
       "└──────┴───────────────────────────────────┘"
      ]
     },
     "execution_count": 20,
     "metadata": {},
     "output_type": "execute_result"
    }
   ],
   "source": [
    "df_melted"
   ]
  },
  {
   "cell_type": "code",
   "execution_count": 21,
   "metadata": {},
   "outputs": [],
   "source": [
    "# Remove the input SMILES column; drop rows with any null values, though there are none\n",
    "df_melted = df_melted.drop_nulls()"
   ]
  },
  {
   "cell_type": "code",
   "execution_count": 22,
   "metadata": {},
   "outputs": [
    {
     "data": {
      "text/plain": [
       "(3911, 2)"
      ]
     },
     "execution_count": 22,
     "metadata": {},
     "output_type": "execute_result"
    }
   ],
   "source": [
    "df_melted.shape"
   ]
  },
  {
   "cell_type": "code",
   "execution_count": 23,
   "metadata": {},
   "outputs": [
    {
     "data": {
      "text/html": [
       "<div><style>\n",
       ".dataframe > thead > tr > th,\n",
       ".dataframe > tbody > tr > td {\n",
       "  text-align: right;\n",
       "  white-space: pre-wrap;\n",
       "}\n",
       "</style>\n",
       "<small>shape: (3_911, 2)</small><table border=\"1\" class=\"dataframe\"><thead><tr><th>Ref</th><th>sml</th></tr><tr><td>i64</td><td>str</td></tr></thead><tbody><tr><td>3</td><td>&quot;CC1=CC=NN1&quot;</td></tr><tr><td>7</td><td>&quot;O=C(C([H])([H]…</td></tr><tr><td>12</td><td>&quot;O=C1C=CC2=CC=C…</td></tr><tr><td>15</td><td>&quot;OC1=C(C2=CC=CC…</td></tr><tr><td>18</td><td>&quot;OC1=C(C=CN=C1)…</td></tr><tr><td>40</td><td>&quot;O=[N+](C1=CC=C…</td></tr><tr><td>41</td><td>&quot;O=[N+](C1=CC=C…</td></tr><tr><td>45</td><td>&quot;OC1=NNC(C(OCC)…</td></tr><tr><td>46</td><td>&quot;O=C(N(N1)C2=CC…</td></tr><tr><td>53</td><td>&quot;C12=CC=CC=C1NN…</td></tr><tr><td>56</td><td>&quot;N1C=NC=C1&quot;</td></tr><tr><td>59</td><td>&quot;C12=CC=CC=C1NC…</td></tr><tr><td>&hellip;</td><td>&hellip;</td></tr><tr><td>1136</td><td>&quot;C2=CC1=C(C3=C(…</td></tr><tr><td>1157</td><td>&quot;O=C(OC(C)C)/C=…</td></tr><tr><td>1162</td><td>&quot;O=C(/C=C(C)/S)…</td></tr><tr><td>1163</td><td>&quot;O=C(/C=C(S)\\C)…</td></tr><tr><td>1184</td><td>&quot;O=C(/C(C)=C(S)…</td></tr><tr><td>1185</td><td>&quot;O=C(/C(CC=C)=C…</td></tr><tr><td>1184</td><td>&quot;O=C(/C(C)=C(C1…</td></tr><tr><td>1213</td><td>&quot;O=C(OCC)/C1=C(…</td></tr><tr><td>927</td><td>&quot;O=C(CC(/C(CC)=…</td></tr><tr><td>928</td><td>&quot;O=C(/C=C(O)/C/…</td></tr><tr><td>1030</td><td>&quot;O=C(C(C)(C)OC/…</td></tr><tr><td>932</td><td>&quot;O=C(OC)/C=C(C/…</td></tr></tbody></table></div>"
      ],
      "text/plain": [
       "shape: (3_911, 2)\n",
       "┌──────┬───────────────────────────────────┐\n",
       "│ Ref  ┆ sml                               │\n",
       "│ ---  ┆ ---                               │\n",
       "│ i64  ┆ str                               │\n",
       "╞══════╪═══════════════════════════════════╡\n",
       "│ 3    ┆ CC1=CC=NN1                        │\n",
       "│ 7    ┆ O=C(C([H])([H])C(C)=O)C1=CC=CC=C… │\n",
       "│ 12   ┆ O=C1C=CC2=CC=CC=C2/C1=C/NC3=CC=C… │\n",
       "│ 15   ┆ OC1=C(C2=CC=CC=C2C=C1)/N=N/C3=CC… │\n",
       "│ …    ┆ …                                 │\n",
       "│ 927  ┆ O=C(CC(/C(CC)=C(O)/CC(OCC)=O)=O)… │\n",
       "│ 928  ┆ O=C(/C=C(O)/C/C(O)=C(C)/C(OCC)=O… │\n",
       "│ 1030 ┆ O=C(C(C)(C)OC/1=O)C1=C(O)/C(C)(C… │\n",
       "│ 932  ┆ O=C(OC)/C=C(C/C(O)=C(C(OCC)=O)\\F… │\n",
       "└──────┴───────────────────────────────────┘"
      ]
     },
     "execution_count": 23,
     "metadata": {},
     "output_type": "execute_result"
    }
   ],
   "source": [
    "df_melted"
   ]
  },
  {
   "cell_type": "markdown",
   "metadata": {},
   "source": [
    "Another level of redundancy is that some structures which have different SMILES are actually the same molecule. A way to check if two SMILES correspond to the same molecule is to make each into an RDKit molecule, then output their canonical SMILES, then check if those are the same.\n",
    "\n",
    "We define `mol_from_sml()` to create RDKit molecules with two methods:\n",
    "1) preferably, with sanitization\n",
    "2) as a fallback, without sanitization\n",
    "\n",
    "Without falling back to `sanitize=False`, eight rows comprising three Ref values (4, 355, and 1130) are not made into molecules, which prevents them from being processed with the steps that follow. Including the fallback option allows all rows to be made into molecules."
   ]
  },
  {
   "cell_type": "code",
   "execution_count": 24,
   "metadata": {},
   "outputs": [],
   "source": [
    "# Add the RDKit molecule\n",
    "df_melted = df_melted.with_columns(\n",
    "    [\n",
    "        pl.col(\"sml\").map_elements(lambda s: mol_from_sml(s)).alias(\"mol\"),\n",
    "    ]\n",
    ")\n",
    "\n",
    "# Add the canonical SMILES\n",
    "df_melted = df_melted.with_columns(\n",
    "    [\n",
    "        pl.col(\"mol\").map_elements(lambda m: canon_sml_or_none(m)).alias(\"canon_sml\"),\n",
    "    ]\n",
    ")\n",
    "\n",
    "# Now that we have canonical SMILES, drop the original SMILES\n",
    "df_melted = df_melted.drop(\"sml\")"
   ]
  },
  {
   "cell_type": "code",
   "execution_count": 25,
   "metadata": {},
   "outputs": [
    {
     "data": {
      "text/html": [
       "<div><style>\n",
       ".dataframe > thead > tr > th,\n",
       ".dataframe > tbody > tr > td {\n",
       "  text-align: right;\n",
       "  white-space: pre-wrap;\n",
       "}\n",
       "</style>\n",
       "<small>shape: (3_911, 3)</small><table border=\"1\" class=\"dataframe\"><thead><tr><th>Ref</th><th>mol</th><th>canon_sml</th></tr><tr><td>i64</td><td>object</td><td>str</td></tr></thead><tbody><tr><td>3</td><td>&lt;rdkit.Chem.rdchem.Mol object at 0x16e35f680&gt;</td><td>&quot;Cc1ccn[nH]1&quot;</td></tr><tr><td>7</td><td>&lt;rdkit.Chem.rdchem.Mol object at 0x16e35f6f0&gt;</td><td>&quot;CC(=O)CC(=O)c1…</td></tr><tr><td>12</td><td>&lt;rdkit.Chem.rdchem.Mol object at 0x16e35f760&gt;</td><td>&quot;COc1ccc(N/C=C2…</td></tr><tr><td>15</td><td>&lt;rdkit.Chem.rdchem.Mol object at 0x16e35f7d0&gt;</td><td>&quot;Oc1ccc2ccccc2c…</td></tr><tr><td>18</td><td>&lt;rdkit.Chem.rdchem.Mol object at 0x16e35f840&gt;</td><td>&quot;Oc1cnccc1/C=N/…</td></tr><tr><td>40</td><td>&lt;rdkit.Chem.rdchem.Mol object at 0x16e35f8b0&gt;</td><td>&quot;O=C1CC(c2ccccc…</td></tr><tr><td>41</td><td>&lt;rdkit.Chem.rdchem.Mol object at 0x16e35f990&gt;</td><td>&quot;Cc1cc(=O)n(-c2…</td></tr><tr><td>45</td><td>&lt;rdkit.Chem.rdchem.Mol object at 0x16e35fa00&gt;</td><td>&quot;CCOC(=O)c1cc(O…</td></tr><tr><td>46</td><td>&lt;rdkit.Chem.rdchem.Mol object at 0x16e35fa70&gt;</td><td>&quot;Cc1cc(=O)n(-c2…</td></tr><tr><td>53</td><td>&lt;rdkit.Chem.rdchem.Mol object at 0x16e35fae0&gt;</td><td>&quot;c1ccc2[nH]ncc2…</td></tr><tr><td>56</td><td>&lt;rdkit.Chem.rdchem.Mol object at 0x16e35fb50&gt;</td><td>&quot;c1c[nH]cn1&quot;</td></tr><tr><td>59</td><td>&lt;rdkit.Chem.rdchem.Mol object at 0x16e35fbc0&gt;</td><td>&quot;c1ccc2[nH]cnc2…</td></tr><tr><td>&hellip;</td><td>&hellip;</td><td>&hellip;</td></tr><tr><td>1136</td><td>&lt;rdkit.Chem.rdchem.Mol object at 0x28ea4af80&gt;</td><td>&quot;O=C1C=C(O)C(=O…</td></tr><tr><td>1157</td><td>&lt;rdkit.Chem.rdchem.Mol object at 0x28ea4aff0&gt;</td><td>&quot;C/C(S)=C\\C(=O)…</td></tr><tr><td>1162</td><td>&lt;rdkit.Chem.rdchem.Mol object at 0x28ea4b060&gt;</td><td>&quot;C/C(S)=C\\C(=O)…</td></tr><tr><td>1163</td><td>&lt;rdkit.Chem.rdchem.Mol object at 0x28ea4b0d0&gt;</td><td>&quot;CCC(C)CC(CC)OC…</td></tr><tr><td>1184</td><td>&lt;rdkit.Chem.rdchem.Mol object at 0x28ea4b140&gt;</td><td>&quot;CCOC(=O)/C(C)=…</td></tr><tr><td>1185</td><td>&lt;rdkit.Chem.rdchem.Mol object at 0x28ea4b1b0&gt;</td><td>&quot;C=CC/C(C(=O)OC…</td></tr><tr><td>1184</td><td>&lt;rdkit.Chem.rdchem.Mol object at 0x28ea4b220&gt;</td><td>&quot;CCOC(=O)/C(C)=…</td></tr><tr><td>1213</td><td>&lt;rdkit.Chem.rdchem.Mol object at 0x28ea4b290&gt;</td><td>&quot;CCOC(=O)/C1=C(…</td></tr><tr><td>927</td><td>&lt;rdkit.Chem.rdchem.Mol object at 0x28ea4b300&gt;</td><td>&quot;CCOC(=O)C/C(O)…</td></tr><tr><td>928</td><td>&lt;rdkit.Chem.rdchem.Mol object at 0x28ea4b370&gt;</td><td>&quot;CCOC(=O)/C(C)=…</td></tr><tr><td>1030</td><td>&lt;rdkit.Chem.rdchem.Mol object at 0x28ea4b3e0&gt;</td><td>&quot;CC1(C)OC(=O)/C…</td></tr><tr><td>932</td><td>&lt;rdkit.Chem.rdchem.Mol object at 0x28ea4b450&gt;</td><td>&quot;CCOC(=O)/C(F)=…</td></tr></tbody></table></div>"
      ],
      "text/plain": [
       "shape: (3_911, 3)\n",
       "┌──────┬───────────────────────────────────┬───────────────────────────────────┐\n",
       "│ Ref  ┆ mol                               ┆ canon_sml                         │\n",
       "│ ---  ┆ ---                               ┆ ---                               │\n",
       "│ i64  ┆ object                            ┆ str                               │\n",
       "╞══════╪═══════════════════════════════════╪═══════════════════════════════════╡\n",
       "│ 3    ┆ <rdkit.Chem.rdchem.Mol object at… ┆ Cc1ccn[nH]1                       │\n",
       "│ 7    ┆ <rdkit.Chem.rdchem.Mol object at… ┆ CC(=O)CC(=O)c1ccccc1              │\n",
       "│ 12   ┆ <rdkit.Chem.rdchem.Mol object at… ┆ COc1ccc(N/C=C2\\C(=O)C=Cc3ccccc32… │\n",
       "│ 15   ┆ <rdkit.Chem.rdchem.Mol object at… ┆ Oc1ccc2ccccc2c1/N=N/c1ccccc1      │\n",
       "│ …    ┆ …                                 ┆ …                                 │\n",
       "│ 927  ┆ <rdkit.Chem.rdchem.Mol object at… ┆ CCOC(=O)C/C(O)=C(\\CC)C(=O)CC(=O)… │\n",
       "│ 928  ┆ <rdkit.Chem.rdchem.Mol object at… ┆ CCOC(=O)/C(C)=C(\\O)C/C(O)=C/C(=O… │\n",
       "│ 1030 ┆ <rdkit.Chem.rdchem.Mol object at… ┆ CC1(C)OC(=O)/C(=C(\\O)C(C)(C)C)C1… │\n",
       "│ 932  ┆ <rdkit.Chem.rdchem.Mol object at… ┆ CCOC(=O)/C(F)=C(\\O)C/C(O)=C/C(=O… │\n",
       "└──────┴───────────────────────────────────┴───────────────────────────────────┘"
      ]
     },
     "execution_count": 25,
     "metadata": {},
     "output_type": "execute_result"
    }
   ],
   "source": [
    "df_melted"
   ]
  },
  {
   "cell_type": "code",
   "execution_count": 26,
   "metadata": {},
   "outputs": [],
   "source": [
    "# Drop duplicate (Ref + canonical SMILES) rows\n",
    "df_melted = df_melted.unique([\"Ref\", \"canon_sml\"])\n",
    "\n",
    "df_melted = df_melted.sort([\"Ref\", \"canon_sml\"])"
   ]
  },
  {
   "cell_type": "markdown",
   "metadata": {},
   "source": [
    "After removing those duplicates, we have 3,797 different structures:"
   ]
  },
  {
   "cell_type": "code",
   "execution_count": 27,
   "metadata": {},
   "outputs": [
    {
     "data": {
      "text/plain": [
       "(3797, 3)"
      ]
     },
     "execution_count": 27,
     "metadata": {},
     "output_type": "execute_result"
    }
   ],
   "source": [
    "df_melted.shape"
   ]
  },
  {
   "cell_type": "markdown",
   "metadata": {},
   "source": [
    "Whereas we originally had slightly more than the reported 3,884 data structures, we now have slightly fewer (87 or 2.2%). This is likely due to the definition of \"different\". Again, we should not count as different structures where SMILES writes an aromatic ring coded with single bonds at odd bond indexes (and double bonds at even bond indexes) is the same as one coded with single bonds at even bond indexes (and double bonds at odd bond indexes). Modifying the [example from Richard L. Apodaca](https://depth-first.com/articles/2020/02/10/a-comprehensive-treatment-of-aromaticity-in-the-smiles-language/), if we don't sanitize these two alternate SMILES for 1,2-bromobenzene, we get different structures and canonical SMILES because they are represented in Kekulé form:"
   ]
  },
  {
   "cell_type": "code",
   "execution_count": 28,
   "metadata": {},
   "outputs": [
    {
     "data": {
      "image/png": "[encoded data removed]",
      "text/plain": [
       "<IPython.core.display.Image object>"
      ]
     },
     "execution_count": 28,
     "metadata": {},
     "output_type": "execute_result"
    }
   ],
   "source": [
    "smls_aromatic_equivalent = [\"C1=C(Br)C(Br)=CC=C1\", \"C1C(Br)=C(Br)C=CC=1\"]\n",
    "mols_aromatic_equivalent_unsanitized = [Chem.MolFromSmiles(sml, sanitize=False) for sml in smls_aromatic_equivalent]\n",
    "canon_smls_aromatic_equivalent_unsanitized = [Chem.MolToSmiles(mol) for mol in mols_aromatic_equivalent_unsanitized]\n",
    "Draw.MolsToGridImage(mols_aromatic_equivalent_unsanitized, legends=canon_smls_aromatic_equivalent_unsanitized)"
   ]
  },
  {
   "cell_type": "markdown",
   "metadata": {},
   "source": [
    "whereas if we do sanitize them, we get the same structure and canonical SMILES:"
   ]
  },
  {
   "cell_type": "code",
   "execution_count": 29,
   "metadata": {},
   "outputs": [
    {
     "data": {
      "image/png": "[encoded data removed]",
      "text/plain": [
       "<IPython.core.display.Image object>"
      ]
     },
     "execution_count": 29,
     "metadata": {},
     "output_type": "execute_result"
    }
   ],
   "source": [
    "mols_aromatic_equivalent_sanitized = [Chem.MolFromSmiles(sml, sanitize=True) for sml in smls_aromatic_equivalent]\n",
    "canon_smls_aromatic_equivalent_sanitized = [Chem.MolToSmiles(mol) for mol in mols_aromatic_equivalent_sanitized]\n",
    "Draw.MolsToGridImage(mols_aromatic_equivalent_sanitized, legends=canon_smls_aromatic_equivalent_sanitized)"
   ]
  },
  {
   "cell_type": "markdown",
   "metadata": {},
   "source": [
    "So the slight differences in the number of different structures as determined by RDKit compared to the tool used by Nicklaus and team (presumably their CACTUS tool) is probably due to the algorithms used to determine the molecular graph (from the input SMILES or other identifier) and then the canonical SMILES. Inspection by multiple chemists of individual pairs would probably lead to better agreement of whether two similar structures are different, but the automatic adjudication required for large datasets is undoubtedly challenging to encode in an algorithm."
   ]
  },
  {
   "cell_type": "code",
   "execution_count": 30,
   "metadata": {},
   "outputs": [],
   "source": [
    "#? Keep this function?\n",
    "def smls_tauts(\n",
    "        enumerator: Callable,\n",
    "        mol: Mol,\n",
    "    ) -> dict[str, Mol]:\n",
    "    \"\"\"Use a tautomer enumerator to find the tautomers for a given molecule\n",
    "    \n",
    "    :param enumerator: The tautomer enumerator class, which has an Enumerate method\n",
    "    :param mol: An RDKit molecule\n",
    "    :returns: A dictionary of SMILES:mol entries\n",
    "    \"\"\"\n",
    "    tauts = enumerator.Enumerate(mol)\n",
    "    tauts_dict = dict()\n",
    "    for taut in tauts:\n",
    "        tauts_dict.update({Chem.MolToSmiles(taut):taut})\n",
    "    return tauts_dict"
   ]
  },
  {
   "cell_type": "code",
   "execution_count": 31,
   "metadata": {},
   "outputs": [],
   "source": [
    "def tauts_as_sml_list(\n",
    "        enumerator: Callable,\n",
    "        mol: Mol,\n",
    "    ) -> list[str]:\n",
    "    \"\"\"Use a tautomer enumerator to find the tautomers for a given molecule\n",
    "    \n",
    "    :param enumerator: The tautomer enumerator class, which has an Enumerate method\n",
    "    :param mol: An RDKit molecule\n",
    "    :returns: A list of SMILES\n",
    "    \"\"\"\n",
    "    tauts = enumerator.Enumerate(mol)\n",
    "    tauts_as_sml_list = []\n",
    "    for taut in tauts:\n",
    "        tauts_as_sml_list.append(Chem.MolToSmiles(taut))\n",
    "    \n",
    "    # Make smls into a set to remove duplicates, then back into a list so can be in dataframe\n",
    "    tauts_as_sml_list = list(set(tauts_as_sml_list))\n",
    "    return tauts_as_sml_list"
   ]
  },
  {
   "cell_type": "code",
   "execution_count": 32,
   "metadata": {},
   "outputs": [],
   "source": [
    "# Enumerate tautomers--this may take more than one minute\n",
    "enumerators = [rdMolStandardize.TautomerEnumerator, rdMolStandardize.GetV1TautomerEnumerator]\n",
    "for i, enumerator in enumerate(enumerators):\n",
    "    df_melted = df_melted.with_columns(\n",
    "        [\n",
    "            pl.col(\"mol\").map_elements(lambda m: tauts_as_sml_list(enumerator(), m)).alias(\"tauts\" + enumerator.__name__),\n",
    "        ]\n",
    "    )"
   ]
  },
  {
   "cell_type": "code",
   "execution_count": 33,
   "metadata": {},
   "outputs": [],
   "source": [
    "# Manually list tautomers created by NIH Tautomerizer\n",
    "# https://cactus.nci.nih.gov/cgi-bin/tautomerize.tcl\n",
    "# Settings:\n",
    "#   steps: multi\n",
    "#   Predicted tautomers by: All Rules\n",
    "nih_sml_tauts = {\n",
    "    \"COc1c2c3c4c(c(OC)c(=O)c5c(O)cc(OC)c(c6c(OC)cc(O)c(c1=O)c63)c54)[C@@H]([C@H](C)O)[C@@H]2[C@H](C)O\": [\n",
    "        \"COC4=C1[C@H](C(=C6C2=C5C(=C3C(=C12)C(=C(C=C3OC)O)C4=O)C(=CC(=C5C(=C6OC)O)O)OC)[C@H](C)O)[C@H](C)O\",\n",
    "        \"COC1=C(C2=C(C=C(C3=C5C(=CC(=C6C(=C(C4=C([C@H](C)O)C(=C1C(=C23)C4=C56)[C@H](C)O)OC)O)O)OC)OC)O)O\",\n",
    "        \"COC6=C2[C@H]([C@@H](C1=C(OC)C(=O)C5C4=C1C2=C3C(=C(C=C(C3=C4C(=CC5=O)OC)OC)O)C6=O)[C@H](C)O)[C@H](C)O\",\n",
    "        \"COC6=C2[C@H]([C@@H](C1=C(OC)C(=O)C5C4=C1C2=C3C(C(C=C(C3=C4C(=CC5=O)OC)OC)=O)C6=O)[C@H](C)O)[C@H](C)O\",\n",
    "        \"COC6=C2[C@H]([C@@H](C1=C(OC)C(=C5C4=C1C2=C3C(=C(C=C(C3=C4C(=CC5=O)OC)OC)O)C6=O)O)[C@H](C)O)[C@H](C)O\",\n",
    "        \"COC6=C2[C@H]([C@@H](C1=C(OC)C(=C5C4=C1C2=C3C(C(C=C(C3=C4C(=CC5=O)OC)OC)=O)C6=O)O)[C@H](C)O)[C@H](C)O\",\n",
    "        \"COC6=C2[C@H]([C@@H](C1=C(OC)C(=C5C4=C1C2=C3C(=C(C=C(C3=C4C(=CC5=O)OC)OC)O)C6=O)O)[C@H](C)O)[C@H](C)O\",\n",
    "        \"COC3=C2[C@H]([C@@H](C1=C(OC)C(=C6C5=C1C2=C4C(=C3O)C(C=C(C4=C5C(=CC6=O)OC)OC)=O)O)[C@H](C)O)[C@H](C)O\",\n",
    "        \"COC2=C3[C@H]([C@@H](C4=C(OC)C(=O)C6=C5C(=C1C(C(=C(C=C1OC)O)C2=O)C3=C45)C(=CC6=O)OC)[C@H](C)O)[C@H](C)O\",\n",
    "        \"COC6=C1[C@H]([C@@H](C5=C3C1=C2C(=C(C=C(C2=C4C(=CC(C(=C34)C(=C5OC)O)=O)OC)OC)O)C6=O)[C@H](C)O)[C@H](C)O\",\n",
    "        \"COC6=C1[C@H]([C@@H](C5C3=C1C2=C(C(C=C(C2=C4C(=CC(C(=C34)C(=C5OC)O)=O)OC)OC)=O)C6=O)[C@H](C)O)[C@H](C)O\",\n",
    "        \"COC6=C2[C@H]([C@@H](C1=C(OC)C(=O)C5C4=C1C2=C3C(=C(C=C(C3=C4C(=CC5=O)OC)OC)O)C6=O)[C@H](C)O)[C@H](C)O\",\n",
    "    ],\n",
    "    \"CSC1=NC(c2ccccc2[N+](=O)[O-])C(C(=O)OC(C)C)=C(C)N1\": [\n",
    "        \"CSC1=NC(=C(C(N1)C2=C(C=CC=C2)[N+](=O)[O-])C(=O)OC(C)C)C\",\n",
    "        \"CSC2=NC(C1=C(C=CC=C1)[N+](=O)[O-])C(C(=O)OC(C)C)C(=N2)C\",\n",
    "        \"CSC2=NC(C1=C(C=CC=C1)[N+](=O)[O-])C(C(=O)OC(C)C)C(=C)N2\",\n",
    "        \"CSC1=NC(C(C(N1)C2=C(C=CC=C2)[N+](=O)[O-])C(=O)OC(C)C)=C\",\n",
    "        \"CSC2=NC(C1=C(C=CC=C1)[N+](=O)[O-])C(=C(O)OC(C)C)C(=N2)C\",\n",
    "        \"CSC1NC(=C(C(=N1)C2=C(C=CC=C2)[N+](=O)[O-])C(=O)OC(C)C)C\",\n",
    "        \"CSC2=NC(=C1C(C=CC=C1)=[N+]([O-])O)C(=C(C)N2)C(=O)OC(C)C\",\n",
    "        \"CSC2=NC(=C1C(=CCC=C1)[N+]([O-])=O)C(=C(C)N2)C(=O)OC(C)C\",\n",
    "    ],\n",
    "    # 1704 a\n",
    "    \"Cc1cc(C=O)c(C)c(C=O)c1\": [\n",
    "        \"CC1=CC(C(C(=C1)C=O)=C)=CO\",\n",
    "        \"C[CH]1C=C([C](C(=C1)C=O)=[CH2])C=O\",\n",
    "    ],\n",
    "    # 1704 b\n",
    "    \"C=c1c(C=O)cc(C)cc1=CO\": [\n",
    "        \"[CH2]=[C]1C(=C[CH](C=C1C=O)C)C=O\",\n",
    "        \"CC1=C(C=C(C=C1C=O)C)C=O\",\n",
    "        \"C=C1C(C=C(C=C1C=O)C)C=O\",\n",
    "        \"C=C1C(=CC(=CC1C=O)C)C=O\",\n",
    "        \"[CH2]=[C]1C(=C[CH](C=C1C=O)C)C=O\",\n",
    "        \"CC1=C(C=C(C=C1C=O)C)C=O\",\n",
    "    ],\n",
    "    # 890a\n",
    "    \"COc1c(O)c2c(=O)cc(OC)c3c4c(OC)cc(=O)c5c(O)c(OC)c(C[C@H](C)OC(=O)c6ccc(O)cc6)c(c(c1C[C@@H](C)OC(=O)c1ccccc1)c23)c54\": [\n",
    "        \"COC4=C(C3=C1C(=C(C(=C2C(C=C(C(=C12)C5=C3C(C4=O)C(=O)C=C5OC)OC)=O)O)OC)C[C@H](C)OC(=O)C6=CC=C(C=C6)O)C[C@@H](C)OC(=O)C7=CC=CC=C7\",\n",
    "        \"COC4=C(C3=C1C(=C(C(C2C(C=C(C(=C12)C5=C3C(=C4O)C(=O)C=C5OC)OC)=O)=O)OC)C[C@H](C)OC(=O)C6=CC=C(C=C6)O)C[C@@H](C)OC(=O)C7=CC=CC=C7\",\n",
    "        \"COC4=C(C3=C1C(=C(C(=C2C(C=C(C(=C12)C5=C3C(=C4O)C(=O)C=C5OC)OC)=O)O)OC)C[C@H](C)OC(=O)C6=CCC(C=C6)=O)C[C@@H](C)OC(=O)C7=CC=CC=C7\",\n",
    "        \"COC4=C(C3=C1C(=C(C(C2C(C=C(C(=C12)C5=C3C(C4=O)C(=O)C=C5OC)OC)=O)=O)OC)C[C@H](C)OC(=O)C6=CC=C(C=C6)O)C[C@@H](C)OC(=O)C7=CC=CC=C7\",\n",
    "        \"COC4=C(C3=C1C(=C(C(=C2C(C=C(C(=C12)C5=C3C(C4=O)C(=O)C=C5OC)OC)=O)O)OC)C[C@H](C)OC(=O)C6=CCC(C=C6)=O)C[C@@H](C)OC(=O)C7=CC=CC=C7\",\n",
    "        \"COC4=C(C3=C1C(=C(C(C2C(C=C(C(=C12)C5=C3C(=C4O)C(=O)C=C5OC)OC)=O)=O)OC)C[C@H](C)OC(=O)C6=CCC(C=C6)=O)C[C@@H](C)OC(=O)C7=CC=CC=C7\",\n",
    "        \"COC4=C(C3=C1C(=C(C(C2C(C=C(C(=C12)C5=C3C(C4=O)C(=O)C=C5OC)OC)=O)=O)OC)C[C@H](C)OC(=O)C6=CCC(C=C6)=O)C[C@@H](C)OC(=O)C7=CC=CC=C7\",\n",
    "        \"COC5=C(C3=C1C(=C(C(=C2C(C=C(C(=C12)C4=C3C(=C(O)C=C4OC)C5=O)OC)=O)O)OC)C[C@H](C)OC(=O)C6=CC=C(C=C6)O)C[C@@H](C)OC(=O)C7=CC=CC=C7\",\n",
    "        \"COC4=C(C3=C1C(=C(C(C2=C(C=C(C(=C12)C5=C3C(=C4O)C(=O)C=C5OC)OC)O)=O)OC)C[C@H](C)OC(=O)C6=CC=C(C=C6)O)C[C@@H](C)OC(=O)C7=CC=CC=C7\",\n",
    "        \"COC5=C(C3=C1C(=C(C(C2=C(C=C(C(=C12)C4=C3C(=C(O)C=C4OC)C5=O)OC)O)=O)OC)C[C@H](C)OC(=O)C6=CC=C(C=C6)O)C[C@@H](C)OC(=O)C7=CC=CC=C7\",\n",
    "        \"COC6=C(O)C1=C(O)C=C(OC)C2=C1C(=C3C(=C(C(=C4C(C=C(C2=C34)OC)=O)O)OC)C[C@H](C)OC(=O)C5=CC=C(C=C5)O)C6=C[C@@H](C)OC(=O)C7=CC=CC=C7\",\n",
    "        \"COC5=C(C3=C1C(=C(C(=C2C(C=C(C(=C12)C4=C(CC(C(=C34)C5=O)=O)OC)OC)=O)O)OC)C[C@H](C)OC(=O)C6=CC=C(C=C6)O)C[C@@H](C)OC(=O)C7=CC=CC=C7\",\n",
    "        \"COC4=C(C3=C1C(=C(C(C2=C1C(=C(OC)CC2=O)C5=C3C(=C4O)C(=O)C=C5OC)=O)OC)C[C@H](C)OC(=O)C6=CC=C(C=C6)O)C[C@@H](C)OC(=O)C7=CC=CC=C7\",\n",
    "        \"COC4=C(C3=C1C(C(=C(C2=C(C=C(C(=C12)C5=C3C(=C4O)C(=O)C=C5OC)OC)O)O)OC)=C[C@H](C)OC(=O)C6=CC=C(C=C6)O)C[C@@H](C)OC(=O)C7=CC=CC=C7\",\n",
    "        \"COC4=C(C3=C1C(=C(C(=C2C(C=C(C(=C12)C5=C3C(=C4O)C(=O)C=C5OC)OC)=O)O)OC)C[C@H](C)OC(O)=C6C=CC(C=C6)=O)C[C@@H](C)OC(=O)C7=CC=CC=C7\",\n",
    "        \"COC4=C(C3=C1C(=C(C(=C2C(C=C(C(=C12)C5=C3C(=C4O)C(=O)C=C5OC)OC)=O)O)OC)C[C@H](C)OC(=O)C6=CCC(=O)C=C6)C[C@@H](C)OC(=O)C7=CC=CC=C7\",\n",
    "        \"COC2=C(C3=C1C(=C(C(C5=C1C(=C4C(=CC(C(=C2O)C34)=O)OC)C(=CC5=O)OC)=O)OC)C[C@H](C)OC(=O)C6=CC=C(C=C6)O)C[C@@H](C)OC(=O)C7=CC=CC=C7\",\n",
    "        \"COC3=C(C1=C4C(=C(C(=C5C(C=C(C(=C2C(=CC(C(=C12)C3=O)=O)OC)C45)OC)=O)O)OC)C[C@H](C)OC(=O)C6=CC=C(C=C6)O)C[C@@H](C)OC(=O)C7=CC=CC=C7\",\n",
    "    ],\n",
    "    # 890b\n",
    "    #   3 tautomer(s) generated using PT_02_00 - 1,5 (thio)keto/(thio)enol\n",
    "    #   7 tautomer(s) generated using PT_06_00 - 1,3 heteroatom H shift\n",
    "    #   3 tautomer(s) generated using PT_07_00 - 1,5 (aromatic) heteroatom H shift (1)\n",
    "    #   6 tautomer(s) generated using PT_09_00 - 1,7 (aromatic) heteroatom H shift\n",
    "    \"COc1c(C[C@@H](C)OC(=O)c2ccccc2)c2c3c(C[C@H](C)OC(=O)c4ccc(O)cc4)c(OC)c(=O)c4c(O)cc(OC)c(c5c(OC)cc(O)c(c1=O)c52)c43\": [\n",
    "        \"COC7=C(C[C@@H](C)OC(=O)C1=CC=CC=C1)C3=C2C(=C(C=C(C2=C4C(=CC(=C5C(=C(C(C3=C45)=C[C@H](C)OC(=O)C6=CC=C(C=C6)O)OC)O)O)OC)OC)O)C7=O\",\n",
    "        \"COC5=C(C3=C(C=C(C4=C1C(=CC(=C2C(C(=C(C(=C12)C(=C34)C5=C[C@@H](C)OC(=O)C6=CC=CC=C6)C[C@H](C)OC(=O)C7=CC=C(C=C7)O)OC)=O)O)OC)OC)O)O\",\n",
    "        \"COC5=C(C3=C(C=C(C4=C1C(=CC(=C2C(=C(C(C(=C12)C(=C34)C5=C[C@@H](C)OC(=O)C6=CC=CC=C6)=C[C@H](C)OC(=O)C7=CC=C(C=C7)O)OC)O)O)OC)OC)O)O\",\n",
    "        \"COC7=C(C[C@@H](C)OC(=O)C1=CC=CC=C1)C3=C2C(=C(C=C(C2=C4C(=CC(=C5C(C(=C(C3=C45)C[C@H](C)OC(=O)C6=CCC(C=C6)=O)OC)=O)O)OC)OC)O)C7=O\",\n",
    "        \"COC7=C(C[C@@H](C)OC(=O)C1=CC=CC=C1)C3=C2C(=C(C=C(C2=C4C(=CC(C5C(C(=C(C3=C45)C[C@H](C)OC(=O)C6=CC=C(C=C6)O)OC)=O)=O)OC)OC)O)C7=O\",\n",
    "        \"COC7=C(C[C@@H](C)OC(=O)C1=CC=CC=C1)C3=C2C(C(C=C(C2=C4C(=CC(=C5C(C(=C(C3=C45)C[C@H](C)OC(=O)C6=CC=C(C=C6)O)OC)=O)O)OC)OC)=O)C7=O\",\n",
    "        \"COC7=C(C[C@@H](C)OC(=O)C1=CC=CC=C1)C3=C2C(=C(C=C(C2=C4C(=CC(C5C(C(=C(C3=C45)C[C@H](C)OC(=O)C6=CCC(C=C6)=O)OC)=O)=O)OC)OC)O)C7=O\",\n",
    "        \"COC7=C(C[C@@H](C)OC(=O)C1=CC=CC=C1)C3=C2C(C(C=C(C2=C4C(=CC(=C5C(C(=C(C3=C45)C[C@H](C)OC(=O)C6=CCC(C=C6)=O)OC)=O)O)OC)OC)=O)C7=O\",\n",
    "        \"COC7=C(C[C@@H](C)OC(=O)C1=CC=CC=C1)C3=C2C(C(C=C(C2=C4C(=CC(C5C(C(=C(C3=C45)C[C@H](C)OC(=O)C6=CC=C(C=C6)O)OC)=O)=O)OC)OC)=O)C7=O\",\n",
    "        \"COC7=C(C[C@@H](C)OC(=O)C1=CC=CC=C1)C3=C2C(C(C=C(C2=C4C(=CC(C5C(C(=C(C3=C45)C[C@H](C)OC(=O)C6=CCC(C=C6)=O)OC)=O)=O)OC)OC)=O)C7=O\",\n",
    "        \"COC7=C(C[C@@H](C)OC(=O)C1=CC=CC=C1)C3=C2C(=C(C=C(C2=C4C(=CC(C5=C(C(=C(C3=C45)C[C@H](C)OC(=O)C6=CC=C(C=C6)O)OC)O)=O)OC)OC)O)C7=O\",\n",
    "        \"COC2=C(C[C@@H](C)OC(=O)C1=CC=CC=C1)C4=C3C(=C2O)C(C=C(C3=C5C(=CC(=C6C(C(=C(C4=C56)C[C@H](C)OC(=O)C7=CC=C(C=C7)O)OC)=O)O)OC)OC)=O\",\n",
    "        \"COC2=C(C[C@@H](C)OC(=O)C1=CC=CC=C1)C4=C3C(=C2O)C(C=C(C3=C5C(=CC(C6=C(C(=C(C4=C56)C[C@H](C)OC(=O)C7=CC=C(C=C7)O)OC)O)=O)OC)OC)=O\",\n",
    "        \"COC7=C(C[C@@H](C)OC(=O)C1=CC=CC=C1)C3=C2C(=C(C=C(C2=C4C(=CC(=C5C(C(=C(C3=C45)C[C@H](C)OC(O)=C6C=CC(C=C6)=O)OC)=O)O)OC)OC)O)C7=O\",\n",
    "        \"COC7=C(C[C@@H](C)OC(=O)C1=CC=CC=C1)C3=C2C(=C(C=C(C2=C4C(=CC(=C5C(C(=C(C3=C45)C[C@H](C)OC(=O)C6=CCC(=O)C=C6)OC)=O)O)OC)OC)O)C7=O\",\n",
    "        \"COC7=C(C[C@@H](C)OC(=O)C1=CC=CC=C1)C5=C2C4=C(C(C(=C2C[C@H](C)OC(=O)C3=CC=C(C=C3)O)OC)=O)C(=O)C=C(OC)C4=C6C5C(=C(C=C6OC)O)C7=O\",\n",
    "        \"COC4=C(C[C@@H](C)OC(=O)C1=CC=CC=C1)C2=C6C5C(=C3C2=C(C(C=C3OC)=O)C4=O)C(=CC(=C5C(C(=C6C[C@H](C)OC(=O)C7=CC=C(C=C7)O)OC)=O)O)OC\",\n",
    "        \"COC7=C(C[C@@H](C)OC(=O)C1=CC=CC=C1)C5=C2C4=C(C(C(=C2C[C@H](C)OC(O)=C3C=CC(C=C3)=O)OC)=O)C(=O)C=C(OC)C4=C6C5C(=C(C=C6OC)O)C7=O\",\n",
    "        \"COC4=C(C[C@@H](C)OC(=O)C1=CC=CC=C1)C2=C6C5C(=C3C2=C(C(C=C3OC)=O)C4=O)C(=CC(=C5C(C(=C6C[C@H](C)OC(O)=C7C=CC(C=C7)=O)OC)=O)O)OC\",\n",
    "    ],\n",
    "    # 1688a\n",
    "    #   1 tautomer(s) generated using PT_03_00 - simple (aliphatic) imine\n",
    "    #   2 tautomer(s) generated using PT_06_00 - 1,3 heteroatom H shift\n",
    "    #   1 tautomer(s) generated using PT_16_00 - nitroso/oxime\n",
    "    #   1 tautomer(s) generated using PT_36_00 - oxime/nitrone: 1,2 H-shift\n",
    "    #   1 tautomer(s) generated using RC_22_00 - 5_endo_trig: 1,5 H-shift\n",
    "    \"C=C(/C=[N+](\\[O-])C(C)(C)/C(C)=N/O)OCC\": [\n",
    "        \"C=C(\\C=[N+](/[O-])C(C)(C)C(=C)NO)OCC\",\n",
    "        \"C=C(\\C=[N+](/[O-])C(C)(C)C(C)N=O)OCC\",\n",
    "        \"C=C(\\C=[N+](/[O-])C(C)(C)C(=C)NO)OCC\",\n",
    "        \"C=C(\\C=[N+](/[O-])C(C)(C)C(C)N=O)OCC\",\n",
    "        \"C=C(\\C=[N+](/[O-])C(C)(C)C(C)=[NH+][O-])OCC\",\n",
    "        \"C=C(C1N(O)C(C)(C)C(=[N+]1[O-])C)OCC\",\n",
    "    ],\n",
    "    # 1688b\n",
    "    #   1 tautomer(s) generated using PT_06_00 - 1,3 heteroatom H shift\n",
    "    #   1 tautomer(s) generated using PT_39_00 - nitrone/azoxy or Behrend rearrangement\n",
    "    #   1 tautomer(s) generated using RC_22_00 - 5_endo_trig: 1,5 H-shift\n",
    "    \"C=C(OCC)C1N(O)C(C)(C)C(C)=[N+]1[O-]\": [\n",
    "        \"C=C(OCC)C1[NH+](C(C(N1O)(C)C)=C)[O-]\",\n",
    "        \"C=C(OCC)C1=[N+](C(C(N1O)(C)C)C)[O-]\",\n",
    "        \"C=C(OCC)C=[N+]([O-])C(C)(C)C(C)=NO\",\n",
    "    ],\n",
    "    # 1512a\n",
    "    #   1 tautomer(s) generated using PT_06_00 - 1,3 heteroatom H shift\n",
    "    #   1 tautomer(s) generated using PT_09_00 - 1,7 (aromatic) heteroatom H shift\n",
    "    #   1 tautomer(s) generated using RC_12_00 - 5_endo_tet or iminophosphorane/benzoxazaphospholine\n",
    "    \"CCP1(CC)(c2ccccc2)Nc2cc(C(c3ccccc3)(c3ccccc3)c3ccccc3)cc(C(C)(C)C)c2O1\": [\n",
    "        \"CC[P]2(OC1C(=CC(=CC1=N2)C(C3=CC=CC=C3)(C4=CC=CC=C4)C5=CC=CC=C5)C(C)(C)C)(CC)C6=CC=CC=C6\",\n",
    "        \"CC[P]2(OC1=C(C=C(CC1=N2)C(C3=CC=CC=C3)(C4=CC=CC=C4)C5=CC=CC=C5)C(C)(C)C)(CC)C6=CC=CC=C6\",\n",
    "        \"CC[P](CC)(C1=CC=CC=C1)=NC2=C(C(=CC(=C2)C(C3=CC=CC=C3)(C4=CC=CC=C4)C5=CC=CC=C5)C(C)(C)C)O\",\n",
    "    ],\n",
    "    # 1512b\n",
    "    #   3 tautomer(s) generated using PT_06_00 - 1,3 heteroatom H shift\n",
    "    #   1 tautomer(s) generated using PT_09_00 - 1,7 (aromatic) heteroatom H shift\n",
    "    #   1 tautomer(s) generated using RC_12_00 - 5_endo_tet or iminophosphorane/benzoxazaphospholine\n",
    "    \"CCP(CC)(=Nc1cc(C(c2ccccc2)(c2ccccc2)c2ccccc2)cc(C(C)(C)C)c1O)c1ccccc1\": [\n",
    "        \"CC[P](CC)(=NC1C(C(=CC(=C1)C(C2=CC=CC=C2)(C3=CC=CC=C3)C4=CC=CC=C4)C(C)(C)C)=O)C5=CC=CC=C5\",\n",
    "        \"CC=[P](CC)(NC1=C(C(=CC(=C1)C(C2=CC=CC=C2)(C3=CC=CC=C3)C4=CC=CC=C4)C(C)(C)C)O)C5=CC=CC=C5\",\n",
    "        \"CC=[P](CC)(NC1C(C(=CC(=C1)C(C2=CC=CC=C2)(C3=CC=CC=C3)C4=CC=CC=C4)C(C)(C)C)=O)C5=CC=CC=C5\",\n",
    "        \"CC[P](CC)(=NC1=CC(=CC(C(C)(C)C)C1=O)C(C2=CC=CC=C2)(C3=CC=CC=C3)C4=CC=CC=C4)C5=CC=CC=C5\",\n",
    "        \"CC[P]5(CC)(NC1=C(C(=CC(=C1)C(C2=CC=CC=C2)(C3=CC=CC=C3)C4=CC=CC=C4)C(C)(C)C)O5)C6=CC=CC=C6\",\n",
    "    ],\n",
    "    # 457a\n",
    "    \"[2H]Oc1ccc(-c2oc3c([2H])c(O[2H])c(OC)c(=O)c-3c(O[2H])c2O[2H])cc1O[2H]\": [\n",
    "        # 2 tautomer(s) generated using PT_02_00 - 1,5 (thio)keto/(thio)enol\n",
    "        \"O([2H])C1=C(C=C(C=C1)C2=C(C(C3=C(O2)C([2H])(C(=C(OC)C3=O)O[2H])[2H])=O)O[2H])O[2H]\",\n",
    "        \"O([2H])C1=C(C=C(C=C1)C2=C(C(C3=C(O2)C(=C(O[2H])C(=C3O[2H])OC)[2H])=O)O[2H])O[2H]\",\n",
    "        # 9 tautomer(s) generated using PT_06_00 - 1,3 heteroatom H shift\n",
    "        \"O=C1C(C=C(C=C1)C3=C(C(=C2C(C(=C(C(=C2O3)[2H])O[2H])OC)=O)O[2H])O[2H])(O[2H])[2H]\",\n",
    "        \"O([2H])C1=C(C=C(C=C1)C3=C(C(=C2C(C(C(C(=C2O3)[2H])=O)(OC)[2H])=O)O[2H])O[2H])O[2H]\",\n",
    "        \"O([2H])C1=C(C=C(C=C1)C3=C(C(C2(C(C(=C(C(=C2O3)[2H])O[2H])OC)=O)[2H])=O)O[2H])O[2H]\",\n",
    "        \"O([2H])C1=C(C=C(C=C1)C3(C(C(=C2C(C(=C(C(=C2O3)[2H])O[2H])OC)=O)O[2H])=O)[2H])O[2H]\",\n",
    "        \"O([2H])C1(C(C=C(C=C1)C3=C(C(=C2C(C(=C(C(=C2O3)[2H])O[2H])OC)=O)O[2H])O[2H])=O)[2H]\",\n",
    "        \"O=C1C(C=C(C=C1)C3=C(C(=C2C(C(C(C(=C2O3)[2H])=O)(OC)[2H])=O)O[2H])O[2H])(O[2H])[2H]\",\n",
    "        \"O=C1C(C=C(C=C1)C3=C(C(C2(C(C(=C(C(=C2O3)[2H])O[2H])OC)=O)[2H])=O)O[2H])(O[2H])[2H]\",\n",
    "        \"O=C1C(C=C(C=C1)C3(C(C(=C2C(C(=C(C(=C2O3)[2H])O[2H])OC)=O)O[2H])=O)[2H])(O[2H])[2H]\",\n",
    "        \"O([2H])C1=C(C=C(C=C1)C3=C(C(C2(C(C(C(C(=C2O3)[2H])=O)(OC)[2H])=O)[2H])=O)O[2H])O[2H]\",\n",
    "        # 2 tautomer(s) generated using PT_07_00 - 1,5 (aromatic) heteroatom H shift (1)\n",
    "        \"O([2H])C1=C(C=C(C=C1)C3=C(C(=C2C(=C(C(C(=C2O3)[2H])=O)OC)O[2H])O[2H])O[2H])O[2H]\",\n",
    "        \"O([2H])C1=C(C=C(C=C1)C3=C(C(C2=C(C(=C(C(=C2O3)[2H])O[2H])OC)O[2H])=O)O[2H])O[2H]\",\n",
    "        # 2 tautomer(s) generated using PT_09_00 - 1,7 (aromatic) heteroatom H shift\n",
    "        \"O=C1C(=CC(=CC1[2H])C3=C(C(=C2C(C(=C(C(=C2O3)[2H])O[2H])OC)=O)O[2H])O[2H])O[2H]\",\n",
    "        \"O([2H])C3=CC=C(C2=C(C(=C1C(C(=C(C(=C1O2)[2H])O[2H])OC)=O)O[2H])O[2H])C(C3=O)[2H]\",\n",
    "        # 1 tautomer(s) generated using PT_11_00 - 1,11 (aromatic) heteroatom H shift\n",
    "        \"O=C1C(=CC(C=C1)=C3C(=C(C2=C(C(=C(C(=C2O3)[2H])O[2H])OC)O[2H])O[2H])O[2H])O[2H]\",\n",
    "        # 1 tautomer(s) generated using PT_11_02 - 1,15 (aromatic) heteroatom H shift\n",
    "        \"O=C1C(=CC(C=C1)=C2C(=C(C3=C(O2)C(=C(O[2H])C(=C3O[2H])OC)[2H])O[2H])O[2H])O[2H]\",\n",
    "    ],\n",
    "    # 457b\n",
    "    \"[2H]Oc1ccc(-c2oc3c([2H])c(O[2H])c(OC)c(O[2H])c3c(=O)c2O[2H])cc1O[2H]\": [\n",
    "        # 9 tautomer(s) generated using PT_06_00 - 1,3 heteroatom H shift\n",
    "        \"O=C1C(C=C(C=C1)C2=C(C(C3=C(O2)C(=C(O[2H])C(=C3O[2H])OC)[2H])=O)O[2H])(O[2H])[2H]\",\n",
    "        \"O([2H])C1=C(C=C(C=C1)C2=C(C(C3=C(O2)C([2H])(C(=O)C(=C3O[2H])OC)[2H])=O)O[2H])O[2H]\",\n",
    "        \"O([2H])C1=C(C=C(C=C1)C2=C(C(C3=C(O2)C(=C(O[2H])C(OC)(C3=O)[2H])[2H])=O)O[2H])O[2H]\",\n",
    "        \"O([2H])C1=C(C=C(C=C1)C2(C(C(C3=C(O2)C(=C(O[2H])C(=C3O[2H])OC)[2H])=O)=O)[2H])O[2H]\",\n",
    "        \"O([2H])C1(C(C=C(C=C1)C2=C(C(C3=C(O2)C(=C(O[2H])C(=C3O[2H])OC)[2H])=O)O[2H])=O)[2H]\",\n",
    "        \"O=C1C(C=C(C=C1)C2=C(C(C3=C(O2)C([2H])(C(=O)C(=C3O[2H])OC)[2H])=O)O[2H])(O[2H])[2H]\",\n",
    "        \"O=C1C(C=C(C=C1)C2=C(C(C3=C(O2)C(=C(O[2H])C(OC)(C3=O)[2H])[2H])=O)O[2H])(O[2H])[2H]\",\n",
    "        \"O=C1C(C=C(C=C1)C2(C(C(C3=C(O2)C(=C(O[2H])C(=C3O[2H])OC)[2H])=O)=O)[2H])(O[2H])[2H]\",\n",
    "        \"O([2H])C1=C(C=C(C=C1)C2=C(C(C3=C(O2)C([2H])(C(=O)C(OC)(C3=O)[2H])[2H])=O)O[2H])O[2H]\",\n",
    "        # 7 tautomer(s) generated using PT_09_00 - 1,7 (aromatic) heteroatom H shift\n",
    "        \"O=C1C(=CC(=CC1[2H])C2=C(C(C3=C(O2)C(=C(O[2H])C(=C3O[2H])OC)[2H])=O)O[2H])O[2H]\",\n",
    "        \"O([2H])C1=C(C=C(C=C1)C3=C(C(C2(C(C(=C(C(=C2O3)[2H])O[2H])OC)=O)[2H])=O)O[2H])O[2H]\",\n",
    "        \"O([2H])C1=C(C=C(C=C1)C3=C(C(=C2C(=C(C(C(=C2O3)[2H])=O)OC)O[2H])O[2H])O[2H])O[2H]\",\n",
    "        \"O([2H])C3=CC=C(C1=C(C(C2=C(O1)C(=C(O[2H])C(=C2O[2H])OC)[2H])=O)O[2H])C(C3=O)[2H]\",\n",
    "        \"O=C1C(=CC(=CC1[2H])C3=C(C(C2(C(C(=C(C(=C2O3)[2H])O[2H])OC)=O)[2H])=O)O[2H])O[2H]\",\n",
    "        \"O=C1C(=CC(=CC1[2H])C3=C(C(=C2C(=C(C(C(=C2O3)[2H])=O)OC)O[2H])O[2H])O[2H])O[2H]\",\n",
    "        \"O=C1C(=CC(C=C1[2H])=C2C(=C(C3=C(O2)C(=C(O[2H])C(=C3O[2H])OC)[2H])O)O[2H])O[2H]\",\n",
    "        # 1 tautomer(s) generated using PT_10_00 - 1,9 (aromatic) heteroatom H shift\n",
    "        \"O([2H])C1=C(C=C(C=C1)C3=C(C(=C2C(C(=C(C(=C2O3)[2H])O[2H])OC)=O)O[2H])O[2H])O[2H]\",\n",
    "    ],\n",
    "}"
   ]
  },
  {
   "cell_type": "code",
   "execution_count": 34,
   "metadata": {},
   "outputs": [],
   "source": [
    "def extract_ref_and_num(\n",
    "    e_name: str,\n",
    "):\n",
    "    parts = e_name.split(\"_\")\n",
    "    ref_str = parts[1]\n",
    "    try:\n",
    "        ref = int(ref_str)\n",
    "    except:\n",
    "        ref = None\n",
    "    num_str = parts[2]\n",
    "    try:\n",
    "        num = int(num_str)\n",
    "    except:\n",
    "        num = None\n",
    "    return ref, num"
   ]
  },
  {
   "cell_type": "code",
   "execution_count": 35,
   "metadata": {},
   "outputs": [],
   "source": [
    "cactvs = Chem.SDMolSupplier('../data/Refs.sdf')\n",
    "# Set to store all unique property keys\n",
    "# all_properties = set()\n",
    "\n",
    "refs_cactvs = []\n",
    "nums_cactvs = []\n",
    "tauts_cactvs = []\n",
    "\n",
    "# Iterate through the molecules in the SDF file\n",
    "for mol in cactvs:\n",
    "    if mol is not None:\n",
    "        # Get all property keys for the current molecule\n",
    "        # properties = mol.GetPropNames()\n",
    "\n",
    "        # print(mol.GetProp(\"E_NAME\"), mol.GetProp(\"E_SMILES\"))\n",
    "        ref, num = extract_ref_and_num(mol.GetProp(\"E_NAME\"))\n",
    "        sml = mol.GetProp(\"E_SMILES\")\n",
    "        refs_cactvs.append(ref)\n",
    "        nums_cactvs.append(num)\n",
    "        tauts_cactvs.append(sml)\n",
    "        # print(ref,num, sml)\n",
    "        # Print property name and value for each property\n",
    "        # for prop_name in properties:\n",
    "        #     prop_value = mol.GetProp(prop_name)\n",
    "            # print(f\"Molecule Property: {prop_name}, Value: {prop_value}\")\n",
    "    # break\n",
    "\n",
    "# Draw.MolsToGridImage(cactvs)\n",
    "# print(\"-------------------\")\n",
    "# zipped = zip(refs_cactvs, nums_cactvs, tauts_cactvs)\n",
    "# for row in zipped:\n",
    "#     print(row)"
   ]
  },
  {
   "cell_type": "code",
   "execution_count": 36,
   "metadata": {},
   "outputs": [
    {
     "data": {
      "text/html": [
       "<div><style>\n",
       ".dataframe > thead > tr > th,\n",
       ".dataframe > tbody > tr > td {\n",
       "  text-align: right;\n",
       "  white-space: pre-wrap;\n",
       "}\n",
       "</style>\n",
       "<small>shape: (31, 3)</small><table border=\"1\" class=\"dataframe\"><thead><tr><th>ref</th><th>num</th><th>tautCACTVS</th></tr><tr><td>i64</td><td>i64</td><td>str</td></tr></thead><tbody><tr><td>890</td><td>1</td><td>&quot;COC2C(O)C4C(=O…</td></tr><tr><td>890</td><td>1</td><td>&quot;COC2C(O)C4C(=O…</td></tr><tr><td>890</td><td>1</td><td>&quot;COC2C(O)C4C(=C…</td></tr><tr><td>890</td><td>1</td><td>&quot;COC2C(O)C4C(=O…</td></tr><tr><td>890</td><td>1</td><td>&quot;COC2C(O)C4=C(O…</td></tr><tr><td>890</td><td>1</td><td>&quot;COC2C(O)C4C(=C…</td></tr><tr><td>890</td><td>1</td><td>&quot;COC2C(O)C4=C(O…</td></tr><tr><td>890</td><td>1</td><td>&quot;COC2C(O)C4C(=C…</td></tr><tr><td>890</td><td>1</td><td>&quot;COC2C(O)C4=C(O…</td></tr><tr><td>890</td><td>2</td><td>&quot;COC3C(C[C@@H](…</td></tr><tr><td>1512</td><td>1</td><td>&quot;CC[P]6(CC)(C1=…</td></tr><tr><td>1512</td><td>1</td><td>&quot;CC[P]6(CC)(C1=…</td></tr><tr><td>&hellip;</td><td>&hellip;</td><td>&hellip;</td></tr><tr><td>1512</td><td>1</td><td>&quot;CC[P]6(CC)(C1=…</td></tr><tr><td>1512</td><td>1</td><td>&quot;CC[P]3(CC)(C1=…</td></tr><tr><td>1512</td><td>1</td><td>&quot;CC=[P](CC)(C1=…</td></tr><tr><td>1512</td><td>1</td><td>&quot;CC=[P](CC)(C1=…</td></tr><tr><td>1512</td><td>1</td><td>&quot;CC=[P](CC)(C1=…</td></tr><tr><td>1512</td><td>1</td><td>&quot;CC=[P](CC)(C1=…</td></tr><tr><td>1512</td><td>2</td><td>&quot;CC[P](CC)(=NC1…</td></tr><tr><td>1704</td><td>1</td><td>&quot;CC1=CC(=C(C(=C…</td></tr><tr><td>1704</td><td>1</td><td>&quot;CC1=CC(C(C(=C1…</td></tr><tr><td>1704</td><td>1</td><td>&quot;C[CH]1C=C(C=O)…</td></tr><tr><td>1704</td><td>1</td><td>&quot;CC1=CC(C(C(=C1…</td></tr><tr><td>1704</td><td>2</td><td>&quot;C=C\\1C(=CC(=CC…</td></tr></tbody></table></div>"
      ],
      "text/plain": [
       "shape: (31, 3)\n",
       "┌──────┬─────┬───────────────────────────────────┐\n",
       "│ ref  ┆ num ┆ tautCACTVS                        │\n",
       "│ ---  ┆ --- ┆ ---                               │\n",
       "│ i64  ┆ i64 ┆ str                               │\n",
       "╞══════╪═════╪═══════════════════════════════════╡\n",
       "│ 890  ┆ 1   ┆ COC2C(O)C4C(=O)CC(OC)C5C6C(OC)CC… │\n",
       "│ 890  ┆ 1   ┆ COC2C(O)C4C(=O)CC(OC)C5C6C(OC)CC… │\n",
       "│ 890  ┆ 1   ┆ COC2C(O)C4C(=CC(OC)C5C6C(OC)CC(=… │\n",
       "│ 890  ┆ 1   ┆ COC2C(O)C4C(=O)CC(OC)C5C6C(OC)C=… │\n",
       "│ …    ┆ …   ┆ …                                 │\n",
       "│ 1704 ┆ 1   ┆ CC1=CC(C(C(=C1)C=O)=C)C=O         │\n",
       "│ 1704 ┆ 1   ┆ C[CH]1C=C(C=O)[C](=[CH2])C(=C1)C… │\n",
       "│ 1704 ┆ 1   ┆ CC1=CC(C(C(=C1)C=O)=C)=CO         │\n",
       "│ 1704 ┆ 2   ┆ C=C\\1C(=CC(=CC1=C\\O)C)C=O         │\n",
       "└──────┴─────┴───────────────────────────────────┘"
      ]
     },
     "execution_count": 36,
     "metadata": {},
     "output_type": "execute_result"
    }
   ],
   "source": [
    "df_cactvs = pl.DataFrame({\"ref\": refs_cactvs, \"num\": nums_cactvs, \"tautCACTVS\": tauts_cactvs})\n",
    "df_cactvs"
   ]
  },
  {
   "cell_type": "code",
   "execution_count": 37,
   "metadata": {},
   "outputs": [],
   "source": [
    "matching = {\n",
    "    890: {\n",
    "        1: \"COc1c(O)c2c(=O)cc(OC)c3c4c(OC)cc(=O)c5c(O)c(OC)c(C[C@H](C)OC(=O)c6ccc(O)cc6)c(c(c1C[C@@H](C)OC(=O)c1ccccc1)c23)c54\",\n",
    "        2: \"COc1c(C[C@@H](C)OC(=O)c2ccccc2)c2c3c(C[C@H](C)OC(=O)c4ccc(O)cc4)c(OC)c(=O)c4c(O)cc(OC)c(c5c(OC)cc(O)c(c1=O)c52)c43\",\n",
    "    },\n",
    "    1512: {\n",
    "        1: \"CCP1(CC)(c2ccccc2)Nc2cc(C(c3ccccc3)(c3ccccc3)c3ccccc3)cc(C(C)(C)C)c2O1\",\n",
    "        2: \"CCP(CC)(=Nc1cc(C(c2ccccc2)(c2ccccc2)c2ccccc2)cc(C(C)(C)C)c1O)c1ccccc1\",\n",
    "    },\n",
    "    1704: {\n",
    "        1: \"Cc1cc(C=O)c(C)c(C=O)c1\",\n",
    "        2: \"C=c1c(C=O)cc(C)cc1=CO\",\n",
    "    },\n",
    "}"
   ]
  },
  {
   "cell_type": "code",
   "execution_count": 38,
   "metadata": {},
   "outputs": [
    {
     "data": {
      "text/html": [
       "<div><style>\n",
       ".dataframe > thead > tr > th,\n",
       ".dataframe > tbody > tr > td {\n",
       "  text-align: right;\n",
       "  white-space: pre-wrap;\n",
       "}\n",
       "</style>\n",
       "<small>shape: (6, 3)</small><table border=\"1\" class=\"dataframe\"><thead><tr><th>canon_sml</th><th>ref</th><th>num</th></tr><tr><td>str</td><td>i64</td><td>i64</td></tr></thead><tbody><tr><td>&quot;COc1c(O)c2c(=O…</td><td>890</td><td>1</td></tr><tr><td>&quot;COc1c(C[C@@H](…</td><td>890</td><td>2</td></tr><tr><td>&quot;CCP1(CC)(c2ccc…</td><td>1512</td><td>1</td></tr><tr><td>&quot;CCP(CC)(=Nc1cc…</td><td>1512</td><td>2</td></tr><tr><td>&quot;Cc1cc(C=O)c(C)…</td><td>1704</td><td>1</td></tr><tr><td>&quot;C=c1c(C=O)cc(C…</td><td>1704</td><td>2</td></tr></tbody></table></div>"
      ],
      "text/plain": [
       "shape: (6, 3)\n",
       "┌───────────────────────────────────┬──────┬─────┐\n",
       "│ canon_sml                         ┆ ref  ┆ num │\n",
       "│ ---                               ┆ ---  ┆ --- │\n",
       "│ str                               ┆ i64  ┆ i64 │\n",
       "╞═══════════════════════════════════╪══════╪═════╡\n",
       "│ COc1c(O)c2c(=O)cc(OC)c3c4c(OC)cc… ┆ 890  ┆ 1   │\n",
       "│ COc1c(C[C@@H](C)OC(=O)c2ccccc2)c… ┆ 890  ┆ 2   │\n",
       "│ CCP1(CC)(c2ccccc2)Nc2cc(C(c3cccc… ┆ 1512 ┆ 1   │\n",
       "│ CCP(CC)(=Nc1cc(C(c2ccccc2)(c2ccc… ┆ 1512 ┆ 2   │\n",
       "│ Cc1cc(C=O)c(C)c(C=O)c1            ┆ 1704 ┆ 1   │\n",
       "│ C=c1c(C=O)cc(C)cc1=CO             ┆ 1704 ┆ 2   │\n",
       "└───────────────────────────────────┴──────┴─────┘"
      ]
     },
     "execution_count": 38,
     "metadata": {},
     "output_type": "execute_result"
    }
   ],
   "source": [
    "refs = []\n",
    "nums = []\n",
    "input_smls = []\n",
    "for ref in matching.keys():\n",
    "    for num, input_sml in matching[ref].items():\n",
    "        refs.append(ref)\n",
    "        nums.append(num)\n",
    "        input_smls.append(input_sml)\n",
    "df_matching = pl.DataFrame({\"canon_sml\": input_smls, \"ref\": refs, \"num\": nums})\n",
    "df_matching"
   ]
  },
  {
   "cell_type": "code",
   "execution_count": 39,
   "metadata": {},
   "outputs": [
    {
     "data": {
      "text/html": [
       "<div><style>\n",
       ".dataframe > thead > tr > th,\n",
       ".dataframe > tbody > tr > td {\n",
       "  text-align: right;\n",
       "  white-space: pre-wrap;\n",
       "}\n",
       "</style>\n",
       "<small>shape: (31, 4)</small><table border=\"1\" class=\"dataframe\"><thead><tr><th>canon_sml</th><th>ref</th><th>num</th><th>tautCACTVS</th></tr><tr><td>str</td><td>i64</td><td>i64</td><td>str</td></tr></thead><tbody><tr><td>&quot;COc1c(O)c2c(=O…</td><td>890</td><td>1</td><td>&quot;COC2C(O)C4C(=O…</td></tr><tr><td>&quot;COc1c(O)c2c(=O…</td><td>890</td><td>1</td><td>&quot;COC2C(O)C4C(=O…</td></tr><tr><td>&quot;COc1c(O)c2c(=O…</td><td>890</td><td>1</td><td>&quot;COC2C(O)C4C(=C…</td></tr><tr><td>&quot;COc1c(O)c2c(=O…</td><td>890</td><td>1</td><td>&quot;COC2C(O)C4C(=O…</td></tr><tr><td>&quot;COc1c(O)c2c(=O…</td><td>890</td><td>1</td><td>&quot;COC2C(O)C4=C(O…</td></tr><tr><td>&quot;COc1c(O)c2c(=O…</td><td>890</td><td>1</td><td>&quot;COC2C(O)C4C(=C…</td></tr><tr><td>&quot;COc1c(O)c2c(=O…</td><td>890</td><td>1</td><td>&quot;COC2C(O)C4=C(O…</td></tr><tr><td>&quot;COc1c(O)c2c(=O…</td><td>890</td><td>1</td><td>&quot;COC2C(O)C4C(=C…</td></tr><tr><td>&quot;COc1c(O)c2c(=O…</td><td>890</td><td>1</td><td>&quot;COC2C(O)C4=C(O…</td></tr><tr><td>&quot;COc1c(C[C@@H](…</td><td>890</td><td>2</td><td>&quot;COC3C(C[C@@H](…</td></tr><tr><td>&quot;CCP1(CC)(c2ccc…</td><td>1512</td><td>1</td><td>&quot;CC[P]6(CC)(C1=…</td></tr><tr><td>&quot;CCP1(CC)(c2ccc…</td><td>1512</td><td>1</td><td>&quot;CC[P]6(CC)(C1=…</td></tr><tr><td>&hellip;</td><td>&hellip;</td><td>&hellip;</td><td>&hellip;</td></tr><tr><td>&quot;CCP1(CC)(c2ccc…</td><td>1512</td><td>1</td><td>&quot;CC[P]6(CC)(C1=…</td></tr><tr><td>&quot;CCP1(CC)(c2ccc…</td><td>1512</td><td>1</td><td>&quot;CC[P]3(CC)(C1=…</td></tr><tr><td>&quot;CCP1(CC)(c2ccc…</td><td>1512</td><td>1</td><td>&quot;CC=[P](CC)(C1=…</td></tr><tr><td>&quot;CCP1(CC)(c2ccc…</td><td>1512</td><td>1</td><td>&quot;CC=[P](CC)(C1=…</td></tr><tr><td>&quot;CCP1(CC)(c2ccc…</td><td>1512</td><td>1</td><td>&quot;CC=[P](CC)(C1=…</td></tr><tr><td>&quot;CCP1(CC)(c2ccc…</td><td>1512</td><td>1</td><td>&quot;CC=[P](CC)(C1=…</td></tr><tr><td>&quot;CCP(CC)(=Nc1cc…</td><td>1512</td><td>2</td><td>&quot;CC[P](CC)(=NC1…</td></tr><tr><td>&quot;Cc1cc(C=O)c(C)…</td><td>1704</td><td>1</td><td>&quot;CC1=CC(=C(C(=C…</td></tr><tr><td>&quot;Cc1cc(C=O)c(C)…</td><td>1704</td><td>1</td><td>&quot;CC1=CC(C(C(=C1…</td></tr><tr><td>&quot;Cc1cc(C=O)c(C)…</td><td>1704</td><td>1</td><td>&quot;C[CH]1C=C(C=O)…</td></tr><tr><td>&quot;Cc1cc(C=O)c(C)…</td><td>1704</td><td>1</td><td>&quot;CC1=CC(C(C(=C1…</td></tr><tr><td>&quot;C=c1c(C=O)cc(C…</td><td>1704</td><td>2</td><td>&quot;C=C\\1C(=CC(=CC…</td></tr></tbody></table></div>"
      ],
      "text/plain": [
       "shape: (31, 4)\n",
       "┌───────────────────────────────────┬──────┬─────┬───────────────────────────────────┐\n",
       "│ canon_sml                         ┆ ref  ┆ num ┆ tautCACTVS                        │\n",
       "│ ---                               ┆ ---  ┆ --- ┆ ---                               │\n",
       "│ str                               ┆ i64  ┆ i64 ┆ str                               │\n",
       "╞═══════════════════════════════════╪══════╪═════╪═══════════════════════════════════╡\n",
       "│ COc1c(O)c2c(=O)cc(OC)c3c4c(OC)cc… ┆ 890  ┆ 1   ┆ COC2C(O)C4C(=O)CC(OC)C5C6C(OC)CC… │\n",
       "│ COc1c(O)c2c(=O)cc(OC)c3c4c(OC)cc… ┆ 890  ┆ 1   ┆ COC2C(O)C4C(=O)CC(OC)C5C6C(OC)CC… │\n",
       "│ COc1c(O)c2c(=O)cc(OC)c3c4c(OC)cc… ┆ 890  ┆ 1   ┆ COC2C(O)C4C(=CC(OC)C5C6C(OC)CC(=… │\n",
       "│ COc1c(O)c2c(=O)cc(OC)c3c4c(OC)cc… ┆ 890  ┆ 1   ┆ COC2C(O)C4C(=O)CC(OC)C5C6C(OC)C=… │\n",
       "│ …                                 ┆ …    ┆ …   ┆ …                                 │\n",
       "│ Cc1cc(C=O)c(C)c(C=O)c1            ┆ 1704 ┆ 1   ┆ CC1=CC(C(C(=C1)C=O)=C)C=O         │\n",
       "│ Cc1cc(C=O)c(C)c(C=O)c1            ┆ 1704 ┆ 1   ┆ C[CH]1C=C(C=O)[C](=[CH2])C(=C1)C… │\n",
       "│ Cc1cc(C=O)c(C)c(C=O)c1            ┆ 1704 ┆ 1   ┆ CC1=CC(C(C(=C1)C=O)=C)=CO         │\n",
       "│ C=c1c(C=O)cc(C)cc1=CO             ┆ 1704 ┆ 2   ┆ C=C\\1C(=CC(=CC1=C\\O)C)C=O         │\n",
       "└───────────────────────────────────┴──────┴─────┴───────────────────────────────────┘"
      ]
     },
     "execution_count": 39,
     "metadata": {},
     "output_type": "execute_result"
    }
   ],
   "source": [
    "df_cactvs_matching = df_matching.join(df_cactvs, on=['ref', 'num'], how='inner')\n",
    "df_cactvs_matching"
   ]
  },
  {
   "cell_type": "code",
   "execution_count": 40,
   "metadata": {},
   "outputs": [
    {
     "data": {
      "text/html": [
       "<div><style>\n",
       ".dataframe > thead > tr > th,\n",
       ".dataframe > tbody > tr > td {\n",
       "  text-align: right;\n",
       "  white-space: pre-wrap;\n",
       "}\n",
       "</style>\n",
       "<small>shape: (6, 2)</small><table border=\"1\" class=\"dataframe\"><thead><tr><th>canon_sml</th><th>tautCACTVS</th></tr><tr><td>str</td><td>list[str]</td></tr></thead><tbody><tr><td>&quot;CCP(CC)(=Nc1cc…</td><td>[&quot;CC[P](CC)(=NC1=C(C(=CC(=C1)C(C2=CC=CC=C2)(C3=CC=CC=C3)C4=CC=CC=C4)C(C)(C)C)O)C5=CC=CC=C5&quot;]</td></tr><tr><td>&quot;COc1c(O)c2c(=O…</td><td>[&quot;COC2C(O)C4C(=O)CC(OC)C5C6C(OC)CC(=O)C7C(O)C(OC)C(C[C@H](C)OC(=O)C1CCC(O)CC1)C(C(C2C[C@@H](C)OC(=O)C3CCCCC3)C45)C67&quot;, &quot;COC2C(O)C4C(=O)CC(OC)C5C6C(OC)CC(=C7C(O)C(OC)C(C[C@H](C)OC(=O)C1CCC(O)CC1)C(C(C2C[C@@H](C)OC(=O)C3CCCCC3)C45)C67)O&quot;, … &quot;COC2C(O)C4=C(O)CC(OC)C5C6C(OC)C=C(O)C7C(O)C(OC)C(C[C@H](C)OC(=O)C1CCC(O)CC1)C(C(C2C[C@@H](C)OC(=O)C3CCCCC3)C45)C67&quot;]</td></tr><tr><td>&quot;Cc1cc(C=O)c(C)…</td><td>[&quot;CC1=CC(=C(C(=C1)C=O)C)C=O&quot;, &quot;CC1=CC(C(C(=C1)C=O)=C)C=O&quot;, … &quot;CC1=CC(C(C(=C1)C=O)=C)=CO&quot;]</td></tr><tr><td>&quot;COc1c(C[C@@H](…</td><td>[&quot;COC3C(C[C@@H](C)OC(=O)C1CCCCC1)C4C6C(C[C@H](C)OC(=O)C2CCC(O)CC2)C(OC)C(=O)C7C(O)CC(OC)C(C5C(OC)CC(O)C(C3=O)C45)C67&quot;]</td></tr><tr><td>&quot;C=c1c(C=O)cc(C…</td><td>[&quot;C=C\\1C(=CC(=CC1=C\\O)C)C=O&quot;]</td></tr><tr><td>&quot;CCP1(CC)(c2ccc…</td><td>[&quot;CC[P]6(CC)(C1=CC=CC=C1)NC2=C(C(=CC(=C2)C(C3=CC=CC=C3)(C4=CC=CC=C4)C5=CC=CC=C5)C(C)(C)C)O6&quot;, &quot;CC[P]6(CC)(C1=CC=CC=C1)NC2=C(C(=CC(=C2)C(C3=CC=CC=C3)(C4=CC=CC=C4)C5=CC=CC=C5)C(C)(C)C)O6&quot;, … &quot;CC=[P](CC)(C1=CC=CC=C1)N=C2CC(=CC(=C2O)C(C)(C)C)C(C3=CC=CC=C3)(C4=CC=CC=C4)C5=CC=CC=C5&quot;]</td></tr></tbody></table></div>"
      ],
      "text/plain": [
       "shape: (6, 2)\n",
       "┌───────────────────────────────────┬───────────────────────────────────┐\n",
       "│ canon_sml                         ┆ tautCACTVS                        │\n",
       "│ ---                               ┆ ---                               │\n",
       "│ str                               ┆ list[str]                         │\n",
       "╞═══════════════════════════════════╪═══════════════════════════════════╡\n",
       "│ CCP(CC)(=Nc1cc(C(c2ccccc2)(c2ccc… ┆ [\"CC[P](CC)(=NC1=C(C(=CC(=C1)C(C… │\n",
       "│ COc1c(O)c2c(=O)cc(OC)c3c4c(OC)cc… ┆ [\"COC2C(O)C4C(=O)CC(OC)C5C6C(OC)… │\n",
       "│ Cc1cc(C=O)c(C)c(C=O)c1            ┆ [\"CC1=CC(=C(C(=C1)C=O)C)C=O\", \"C… │\n",
       "│ COc1c(C[C@@H](C)OC(=O)c2ccccc2)c… ┆ [\"COC3C(C[C@@H](C)OC(=O)C1CCCCC1… │\n",
       "│ C=c1c(C=O)cc(C)cc1=CO             ┆ [\"C=C\\1C(=CC(=CC1=C\\O)C)C=O\"]     │\n",
       "│ CCP1(CC)(c2ccccc2)Nc2cc(C(c3cccc… ┆ [\"CC[P]6(CC)(C1=CC=CC=C1)NC2=C(C… │\n",
       "└───────────────────────────────────┴───────────────────────────────────┘"
      ]
     },
     "execution_count": 40,
     "metadata": {},
     "output_type": "execute_result"
    }
   ],
   "source": [
    "df_cactvs_matching_grouped = df_cactvs_matching.drop([\"ref\", \"num\"]).group_by(\"canon_sml\").agg(pl.col(\"tautCACTVS\"))\n",
    "df_cactvs_matching_grouped"
   ]
  },
  {
   "cell_type": "code",
   "execution_count": 41,
   "metadata": {},
   "outputs": [],
   "source": [
    "# Function to canonicalize a list of SMILES\n",
    "def canonicalize_smiles(smls_list: list[str]) -> list[str]:\n",
    "    \"\"\"\n",
    "    Canonicalize a list of SMILES, trying first with and then without sanitization;\n",
    "    convert list into a set to remove duplicates, then back to a list so can go in dataframe\n",
    "\n",
    "    :param smls_list: List of SMILES strings\n",
    "    :returns: List of canonical SMILES strings\n",
    "    \"\"\"\n",
    "    canonical_smiles = []\n",
    "    for sml in smls_list:\n",
    "        mol = Chem.MolFromSmiles(sml)\n",
    "        if mol:\n",
    "            canonical = Chem.MolToSmiles(mol)\n",
    "            canonical_smiles.append(canonical)\n",
    "        else:\n",
    "            mol = Chem.MolFromSmiles(sml, sanitize=False)\n",
    "            if mol:\n",
    "                canonical = Chem.MolToSmiles(mol)\n",
    "                canonical_smiles.append(canonical)\n",
    "            else:\n",
    "                canonical_smiles.append(None)\n",
    "                print(\"Molecule couldn't be created\")\n",
    "    # Eliminate duplicates by turning list into a set, then back to a list so can go in dataframe\n",
    "    canonical_smiles_unique = list(set(canonical_smiles))\n",
    "    return canonical_smiles_unique"
   ]
  },
  {
   "cell_type": "code",
   "execution_count": 42,
   "metadata": {},
   "outputs": [
    {
     "name": "stderr",
     "output_type": "stream",
     "text": [
      "/var/folders/9w/cn8tqbv976gckxd0c9cbr1sw0000gn/T/ipykernel_33828/2916706968.py:3: DeprecationWarning: `apply` is deprecated. It has been renamed to `map_elements`.\n",
      "  pl.col(\"tautCACTVS\").apply(lambda l: canonicalize_smiles(l)).alias(\"tautsCACTVS\"),\n"
     ]
    }
   ],
   "source": [
    "df_cactvs_matching_grouped = df_cactvs_matching_grouped.with_columns(\n",
    "    [\n",
    "        pl.col(\"tautCACTVS\").apply(lambda l: canonicalize_smiles(l)).alias(\"tautsCACTVS\"),\n",
    "    ]\n",
    ")"
   ]
  },
  {
   "cell_type": "code",
   "execution_count": 43,
   "metadata": {},
   "outputs": [
    {
     "data": {
      "text/html": [
       "<div><style>\n",
       ".dataframe > thead > tr > th,\n",
       ".dataframe > tbody > tr > td {\n",
       "  text-align: right;\n",
       "  white-space: pre-wrap;\n",
       "}\n",
       "</style>\n",
       "<small>shape: (6, 7)</small><table border=\"1\" class=\"dataframe\"><thead><tr><th>Ref</th><th>mol</th><th>canon_sml</th><th>tautsTautomerEnumerator</th><th>tautsGetV1TautomerEnumerator</th><th>tautCACTVS</th><th>tautsCACTVS</th></tr><tr><td>i64</td><td>object</td><td>str</td><td>list[str]</td><td>list[str]</td><td>list[str]</td><td>list[str]</td></tr></thead><tbody><tr><td>890</td><td>&lt;rdkit.Chem.rdchem.Mol object at 0x179cdeab0&gt;</td><td>&quot;COc1c(C[C@@H](…</td><td>[&quot;COC1=CC(=O)C2C(=O)C(OC)C(=C[C@H](C)OC(=O)c3ccc(O)cc3)c3c2c1c1c2c3C(C[C@@H](C)OC(=O)c3ccccc3)=C(OC)C(=O)C=2C(=O)CC=1OC&quot;, &quot;COC1=CC(=O)c2c(O)c(OC)c(C[C@@H](C)OC(=O)c3ccccc3)c3c4c5c(c(O)cc(OC)c5c1c23)C(=O)C(OC)C4=C[C@H](C)OC(=O)c1ccc(O)cc1&quot;, … &quot;COC1=CC(=O)C2C(=O)C(OC)C(=C[C@H](C)OC(=O)c3ccc(O)cc3)c3c2c1c1c2c(c(O)c(OC)c(C[C@@H](C)OC(=O)c4ccccc4)c32)C(=O)C=C1OC&quot;]</td><td>[&quot;COc1c(O)c2c(=O)cc(OC)c3c4c(OC)cc(O)c5c(=O)c(OC)c(C[C@H](C)OC(=O)c6ccc(O)cc6)c(c(c1C[C@@H](C)OC(=O)c1ccccc1)c23)c54&quot;, &quot;COC1=CC(=O)c2c(O)c(OC)c(C[C@H](C)OC(=O)C3C=CC(=O)C=C3)c3c2c1c1c(OC)cc(O)c2c(O)c(OC)c(=C[C@@H](C)OC(=O)c4ccccc4)c3c21&quot;, … &quot;COC1=CC(=O)c2c(O)c(OC)c(C[C@H](C)OC(=O)c3ccc(O)cc3)c3c2c1c1c(OC)cc(O)c2c(O)c(OC)c(=C[C@@H](C)OC(=O)c4ccccc4)c3c21&quot;]</td><td>[&quot;COC3C(C[C@@H](C)OC(=O)C1CCCCC1)C4C6C(C[C@H](C)OC(=O)C2CCC(O)CC2)C(OC)C(=O)C7C(O)CC(OC)C(C5C(OC)CC(O)C(C3=O)C45)C67&quot;]</td><td>[&quot;COC1CC(O)C2C(=O)C(OC)C(C[C@@H](C)OC(=O)C3CCCCC3)C3C4C(C[C@H](C)OC(=O)C5CCC(O)CC5)C(OC)C(=O)C5C(O)CC(OC)C(C1C23)C54&quot;]</td></tr><tr><td>890</td><td>&lt;rdkit.Chem.rdchem.Mol object at 0x28ea1e6c0&gt;</td><td>&quot;COc1c(O)c2c(=O…</td><td>[&quot;COC1=CC(=O)C2C(=O)C(OC)C(=C[C@H](C)OC(=O)c3ccc(O)cc3)c3c2c1c1c2c3C(C[C@@H](C)OC(=O)c3ccccc3)=C(OC)C(=O)C=2C(=O)CC=1OC&quot;, &quot;COC1=CC(=O)c2c(O)c(OC)c(C[C@@H](C)OC(=O)c3ccccc3)c3c4c5c(c(O)cc(OC)c5c1c23)C(=O)C(OC)C4=C[C@H](C)OC(=O)c1ccc(O)cc1&quot;, … &quot;COC1=CC(=O)C2C(=O)C(OC)C(=C[C@H](C)OC(=O)c3ccc(O)cc3)c3c2c1c1c2c(c(O)c(OC)c(C[C@@H](C)OC(=O)c4ccccc4)c32)C(=O)C=C1OC&quot;]</td><td>[&quot;COc1c(O)c2c(=O)cc(OC)c3c4c(OC)cc(O)c5c(=O)c(OC)c(C[C@H](C)OC(=O)c6ccc(O)cc6)c(c(c1C[C@@H](C)OC(=O)c1ccccc1)c23)c54&quot;, &quot;COC1=CC(=O)c2c(O)c(OC)c(C[C@H](C)OC(=O)C3C=CC(=O)C=C3)c3c2c1c1c(OC)cc(O)c2c(O)c(OC)c(=C[C@@H](C)OC(=O)c4ccccc4)c3c21&quot;, … &quot;COC1=CC(=O)c2c(O)c(OC)c(C[C@H](C)OC(=O)c3ccc(O)cc3)c3c2c1c1c(OC)cc(O)c2c(O)c(OC)c(=C[C@@H](C)OC(=O)c4ccccc4)c3c21&quot;]</td><td>[&quot;COC2C(O)C4C(=O)CC(OC)C5C6C(OC)CC(=O)C7C(O)C(OC)C(C[C@H](C)OC(=O)C1CCC(O)CC1)C(C(C2C[C@@H](C)OC(=O)C3CCCCC3)C45)C67&quot;, &quot;COC2C(O)C4C(=O)CC(OC)C5C6C(OC)CC(=C7C(O)C(OC)C(C[C@H](C)OC(=O)C1CCC(O)CC1)C(C(C2C[C@@H](C)OC(=O)C3CCCCC3)C45)C67)O&quot;, … &quot;COC2C(O)C4=C(O)CC(OC)C5C6C(OC)C=C(O)C7C(O)C(OC)C(C[C@H](C)OC(=O)C1CCC(O)CC1)C(C(C2C[C@@H](C)OC(=O)C3CCCCC3)C45)C67&quot;]</td><td>[&quot;COC1CC(O)=C2C(O)C(OC)C(C[C@@H](C)OC(=O)C3CCCCC3)C3C2C1C1C(OC)CC(O)=C2C(O)C(OC)C(C[C@H](C)OC(=O)C4CCC(O)CC4)C3C21&quot;, &quot;COC1C=C(O)C2C(O)C(OC)C(C[C@@H](C)OC(=O)C3CCCCC3)C3C4C(C[C@H](C)OC(=O)C5CCC(O)CC5)C(OC)C(O)C5C(=O)CC(OC)C(C1C23)C54&quot;, … &quot;COC1CC(O)=C2C(O)C(OC)C(C[C@H](C)OC(=O)C3CCC(O)CC3)C3C2C1C1C(OC)CC(=O)C2C(O)C(OC)C(C[C@@H](C)OC(=O)C4CCCCC4)C3C21&quot;]</td></tr><tr><td>1512</td><td>&lt;rdkit.Chem.rdchem.Mol object at 0x28ea39a10&gt;</td><td>&quot;CCP(CC)(=Nc1cc…</td><td>[&quot;CCP(CC)(=Nc1cc(C(c2ccccc2)(c2ccccc2)c2ccccc2)cc(C(C)(C)C)c1O)c1ccccc1&quot;, &quot;CCP(CC)(=NC1C=C(C(c2ccccc2)(c2ccccc2)c2ccccc2)C=C(C(C)(C)C)C1=O)c1ccccc1&quot;]</td><td>[&quot;CCP(CC)(=Nc1cc(C(c2ccccc2)(c2ccccc2)c2ccccc2)cc(C(C)(C)C)c1O)c1ccccc1&quot;]</td><td>[&quot;CC[P](CC)(=NC1=C(C(=CC(=C1)C(C2=CC=CC=C2)(C3=CC=CC=C3)C4=CC=CC=C4)C(C)(C)C)O)C5=CC=CC=C5&quot;]</td><td>[&quot;CCP(CC)(=Nc1cc(C(c2ccccc2)(c2ccccc2)c2ccccc2)cc(C(C)(C)C)c1O)c1ccccc1&quot;]</td></tr><tr><td>1512</td><td>&lt;rdkit.Chem.rdchem.Mol object at 0x28ea252a0&gt;</td><td>&quot;CCP1(CC)(c2ccc…</td><td>[&quot;CCP1(CC)(c2ccccc2)Nc2cc(C(c3ccccc3)(c3ccccc3)c3ccccc3)cc(C(C)(C)C)c2O1&quot;]</td><td>[&quot;CCP1(CC)(c2ccccc2)Nc2cc(C(c3ccccc3)(c3ccccc3)c3ccccc3)cc(C(C)(C)C)c2O1&quot;]</td><td>[&quot;CC[P]6(CC)(C1=CC=CC=C1)NC2=C(C(=CC(=C2)C(C3=CC=CC=C3)(C4=CC=CC=C4)C5=CC=CC=C5)C(C)(C)C)O6&quot;, &quot;CC[P]6(CC)(C1=CC=CC=C1)NC2=C(C(=CC(=C2)C(C3=CC=CC=C3)(C4=CC=CC=C4)C5=CC=CC=C5)C(C)(C)C)O6&quot;, … &quot;CC=[P](CC)(C1=CC=CC=C1)N=C2CC(=CC(=C2O)C(C)(C)C)C(C3=CC=CC=C3)(C4=CC=CC=C4)C5=CC=CC=C5&quot;]</td><td>[&quot;CC=P(CC)(NC1C=C(C(c2ccccc2)(c2ccccc2)c2ccccc2)C=C(C(C)(C)C)C1=O)c1ccccc1&quot;, &quot;CCP(CC)(=Nc1cc(C(c2ccccc2)(c2ccccc2)c2ccccc2)cc(C(C)(C)C)c1O)c1ccccc1&quot;, … &quot;CCP1(CC)(c2ccccc2)N=C2CC(C(c3ccccc3)(c3ccccc3)c3ccccc3)=CC(C(C)(C)C)=C2O1&quot;]</td></tr><tr><td>1704</td><td>&lt;rdkit.Chem.rdchem.Mol object at 0x28ea49a80&gt;</td><td>&quot;C=c1c(C=O)cc(C…</td><td>[&quot;C=C1C(C=O)=CC(C)=CC1C=O&quot;, &quot;C=c1c(C=O)cc(C)cc1=CO&quot;]</td><td>[&quot;C=c1c(C=O)cc(C)cc1=CO&quot;]</td><td>[&quot;C=C\\1C(=CC(=CC1=C\\O)C)C=O&quot;]</td><td>[&quot;C=c1c(C=O)cc(C)c/c1=C\\O&quot;]</td></tr><tr><td>1704</td><td>&lt;rdkit.Chem.rdchem.Mol object at 0x28ea3a7a0&gt;</td><td>&quot;Cc1cc(C=O)c(C)…</td><td>[&quot;Cc1cc(C=O)c(C)c(C=O)c1&quot;]</td><td>[&quot;Cc1cc(C=O)c(C)c(C=O)c1&quot;]</td><td>[&quot;CC1=CC(=C(C(=C1)C=O)C)C=O&quot;, &quot;CC1=CC(C(C(=C1)C=O)=C)C=O&quot;, … &quot;CC1=CC(C(C(=C1)C=O)=C)=CO&quot;]</td><td>[&quot;C=C1C(C=O)=CC(C)=CC1C=O&quot;, &quot;Cc1cc(C=O)c(C)c(C=O)c1&quot;, … &quot;C=C1C(C=O)=CC(C)C=C1C=O&quot;]</td></tr></tbody></table></div>"
      ],
      "text/plain": [
       "shape: (6, 7)\n",
       "┌──────┬───────────────┬───────────────┬──────────────┬──────────────┬──────────────┬──────────────┐\n",
       "│ Ref  ┆ mol           ┆ canon_sml     ┆ tautsTautome ┆ tautsGetV1Ta ┆ tautCACTVS   ┆ tautsCACTVS  │\n",
       "│ ---  ┆ ---           ┆ ---           ┆ rEnumerator  ┆ utomerEnumer ┆ ---          ┆ ---          │\n",
       "│ i64  ┆ object        ┆ str           ┆ ---          ┆ ator         ┆ list[str]    ┆ list[str]    │\n",
       "│      ┆               ┆               ┆ list[str]    ┆ ---          ┆              ┆              │\n",
       "│      ┆               ┆               ┆              ┆ list[str]    ┆              ┆              │\n",
       "╞══════╪═══════════════╪═══════════════╪══════════════╪══════════════╪══════════════╪══════════════╡\n",
       "│ 890  ┆ <rdkit.Chem.r ┆ COc1c(C[C@@H] ┆ [\"COC1=CC(=O ┆ [\"COc1c(O)c2 ┆ [\"COC3C(C[C@ ┆ [\"COC1CC(O)C │\n",
       "│      ┆ dchem.Mol     ┆ (C)OC(=O)c2cc ┆ )C2C(=O)C(OC ┆ c(=O)cc(OC)c ┆ @H](C)OC(=O) ┆ 2C(=O)C(OC)C │\n",
       "│      ┆ object at…    ┆ ccc2)c…       ┆ )C(=C[C@…    ┆ 3c4c(OC)…    ┆ C1CCCCC1…    ┆ (C[C@@H]…    │\n",
       "│ 890  ┆ <rdkit.Chem.r ┆ COc1c(O)c2c(= ┆ [\"COC1=CC(=O ┆ [\"COc1c(O)c2 ┆ [\"COC2C(O)C4 ┆ [\"COC1CC(O)= │\n",
       "│      ┆ dchem.Mol     ┆ O)cc(OC)c3c4c ┆ )C2C(=O)C(OC ┆ c(=O)cc(OC)c ┆ C(=O)CC(OC)C ┆ C2C(O)C(OC)C │\n",
       "│      ┆ object at…    ┆ (OC)cc…       ┆ )C(=C[C@…    ┆ 3c4c(OC)…    ┆ 5C6C(OC)…    ┆ (C[C@@H]…    │\n",
       "│ 1512 ┆ <rdkit.Chem.r ┆ CCP(CC)(=Nc1c ┆ [\"CCP(CC)(=N ┆ [\"CCP(CC)(=N ┆ [\"CC[P](CC)( ┆ [\"CCP(CC)(=N │\n",
       "│      ┆ dchem.Mol     ┆ c(C(c2ccccc2) ┆ c1cc(C(c2ccc ┆ c1cc(C(c2ccc ┆ =NC1=C(C(=CC ┆ c1cc(C(c2ccc │\n",
       "│      ┆ object at…    ┆ (c2ccc…       ┆ cc2)(c2c…    ┆ cc2)(c2c…    ┆ (=C1)C(C…    ┆ cc2)(c2c…    │\n",
       "│ 1512 ┆ <rdkit.Chem.r ┆ CCP1(CC)(c2cc ┆ [\"CCP1(CC)(c ┆ [\"CCP1(CC)(c ┆ [\"CC[P]6(CC) ┆ [\"CC=P(CC)(N │\n",
       "│      ┆ dchem.Mol     ┆ ccc2)Nc2cc(C( ┆ 2ccccc2)Nc2c ┆ 2ccccc2)Nc2c ┆ (C1=CC=CC=C1 ┆ C1C=C(C(c2cc │\n",
       "│      ┆ object at…    ┆ c3cccc…       ┆ c(C(c3cc…    ┆ c(C(c3cc…    ┆ )NC2=C(C…    ┆ ccc2)(c2…    │\n",
       "│ 1704 ┆ <rdkit.Chem.r ┆ C=c1c(C=O)cc( ┆ [\"C=C1C(C=O) ┆ [\"C=c1c(C=O) ┆ [\"C=C\\1C(=CC ┆ [\"C=c1c(C=O) │\n",
       "│      ┆ dchem.Mol     ┆ C)cc1=CO      ┆ =CC(C)=CC1C= ┆ cc(C)cc1=CO\" ┆ (=CC1=C\\O)C) ┆ cc(C)c/c1=C\\ │\n",
       "│      ┆ object at…    ┆               ┆ O\", \"C=c…    ┆ ]            ┆ C=O\"]        ┆ O\"]          │\n",
       "│ 1704 ┆ <rdkit.Chem.r ┆ Cc1cc(C=O)c(C ┆ [\"Cc1cc(C=O) ┆ [\"Cc1cc(C=O) ┆ [\"CC1=CC(=C( ┆ [\"C=C1C(C=O) │\n",
       "│      ┆ dchem.Mol     ┆ )c(C=O)c1     ┆ c(C)c(C=O)c1 ┆ c(C)c(C=O)c1 ┆ C(=C1)C=O)C) ┆ =CC(C)=CC1C= │\n",
       "│      ┆ object at…    ┆               ┆ \"]           ┆ \"]           ┆ C=O\", \"C…    ┆ O\", \"Cc1…    │\n",
       "└──────┴───────────────┴───────────────┴──────────────┴──────────────┴──────────────┴──────────────┘"
      ]
     },
     "execution_count": 43,
     "metadata": {},
     "output_type": "execute_result"
    }
   ],
   "source": [
    "# Merge in CACTVS tauts by left-joining on canon_sml\n",
    "\n",
    "# Ensure no tautsNIH columns already exist--can cause additional column tautsNIH_right to be created\n",
    "columsCACTVS = [col for col in df_melted.columns if 'CACTVS' in col.upper()]\n",
    "for col in columsCACTVS:\n",
    "    df_melted = df_melted.drop(col)\n",
    "    \n",
    "df_melted = df_melted.join(df_cactvs_matching_grouped, on=\"canon_sml\", how=\"left\")\n",
    "\n",
    "# View rows where there are CACTVS tautomers\n",
    "df_melted.filter(pl.col(\"Ref\").is_in(matching.keys()))"
   ]
  },
  {
   "cell_type": "code",
   "execution_count": 44,
   "metadata": {},
   "outputs": [
    {
     "data": {
      "text/html": [
       "<div><style>\n",
       ".dataframe > thead > tr > th,\n",
       ".dataframe > tbody > tr > td {\n",
       "  text-align: right;\n",
       "  white-space: pre-wrap;\n",
       "}\n",
       "</style>\n",
       "<small>shape: (12, 2)</small><table border=\"1\" class=\"dataframe\"><thead><tr><th>canon_sml</th><th>tautsNIH</th></tr><tr><td>str</td><td>list[str]</td></tr></thead><tbody><tr><td>&quot;COc1c2c3c4c(c(…</td><td>[&quot;COC1=CC(=O)C2C(=O)C(OC)=C3c4c5c6c(c1c42)C(OC)=CC(=O)C6C(=O)C(OC)=C5[C@@H]([C@H](C)O)[C@@H]3[C@H](C)O&quot;, &quot;COC1=CC(=O)C2=C3C1=C1C(OC)=CC(O)=C4C(=O)C(OC)=C5C(=C3C(=C(OC)C2=O)[C@@H]([C@H](C)O)[C@@H]5[C@H](C)O)C41&quot;, … &quot;COc1c(O)c2c(=O)cc(OC)c3c4c(OC)cc(O)c5c(=O)c(OC)c6c(c(c1[C@@H]([C@H](C)O)[C@@H]6[C@H](C)O)c23)c54&quot;]</td></tr><tr><td>&quot;CSC1=NC(c2cccc…</td><td>[&quot;CSC1=NC(c2ccccc2[N+](=O)[O-])C(=C(O)OC(C)C)C(C)=N1&quot;, &quot;CSC1=NC(=C2C=CC=CC2=[N+]([O-])O)C(C(=O)OC(C)C)=C(C)N1&quot;, … &quot;C=C1NC(SC)=NC(c2ccccc2[N+](=O)[O-])C1C(=O)OC(C)C&quot;]</td></tr><tr><td>&quot;Cc1cc(C=O)c(C)…</td><td>[&quot;C=C1C(C=O)=CC(C)C=C1C=O&quot;, &quot;C=c1c(C=O)cc(C)cc1=CO&quot;]</td></tr><tr><td>&quot;C=c1c(C=O)cc(C…</td><td>[&quot;C=C1C(C=O)=CC(C)=CC1C=O&quot;, &quot;C=C1C(C=O)=CC(C)C=C1C=O&quot;, &quot;Cc1cc(C=O)c(C)c(C=O)c1&quot;]</td></tr><tr><td>&quot;COc1c(O)c2c(=O…</td><td>[&quot;COc1c(O)c2c(=O)cc(OC)c3c4c(OC)cc(O)c5c(=O)c(OC)c(C[C@H](C)OC(=O)c6ccc(O)cc6)c(c(c1C[C@@H](C)OC(=O)c1ccccc1)c23)c54&quot;, &quot;COC1=c2c3c(c(=O)c(OC)c(C[C@@H](C)OC(=O)c4ccccc4)c3c3c(C[C@H](C)OC(=O)c4ccc(O)cc4)c(OC)c(O)c4c(=O)cc(OC)c2c43)C(=O)C1&quot;, … &quot;COC1=CC(=O)c2c(O)c(OC)c(C[C@H](C)OC(=O)c3ccc(O)cc3)c3c2c1c1c(OC)cc(O)c2c(O)c(OC)c(=C[C@@H](C)OC(=O)c4ccccc4)c3c21&quot;]</td></tr><tr><td>&quot;COc1c(C[C@@H](…</td><td>[&quot;COC1=C(C[C@H](C)OC(=O)c2ccc(O)cc2)c2c3c(c(O)cc(OC)c3c3c(OC)cc(O)c4c(O)c(OC)c(=C[C@@H](C)OC(=O)c5ccccc5)c2c43)C1=O&quot;, &quot;COc1c(O)c2c(O)cc(OC)c3c4c(OC)cc(O)c5c(O)c(OC)c(=C[C@H](C)OC(=O)c6ccc(O)cc6)c(c(c1=C[C@@H](C)OC(=O)c1ccccc1)c23)c54&quot;, … &quot;COC1=CC(=O)C2C(=O)C(OC)=C(C[C@@H](C)OC(=O)c3ccccc3)c3c2c1c1c(OC)cc(O)c2c1c3C(C[C@H](C)OC(=O)c1ccc(O)cc1)=C(OC)C2=O&quot;]</td></tr><tr><td>&quot;C=C(/C=[N+](\\[…</td><td>[&quot;C=C(/C=[N+](\\[O-])C(C)(C)C(C)N=O)OCC&quot;, &quot;C=C(OCC)C1N(O)C(C)(C)C(C)=[N+]1[O-]&quot;, … &quot;C=C(/C=[N+](\\[O-])C(C)(C)C(=C)NO)OCC&quot;]</td></tr><tr><td>&quot;C=C(OCC)C1N(O)…</td><td>[&quot;C=C(C=[N+]([O-])C(C)(C)C(C)=NO)OCC&quot;, &quot;C=C(OCC)C1=[N+]([O-])C(C)C(C)(C)N1O&quot;, &quot;C=C(OCC)C1N(O)C(C)(C)C(=C)[NH+]1[O-]&quot;]</td></tr><tr><td>&quot;CCP1(CC)(c2ccc…</td><td>[&quot;CCP1(CC)(c2ccccc2)N=C2C=C(C(c3ccccc3)(c3ccccc3)c3ccccc3)C=C(C(C)(C)C)C2O1&quot;, &quot;CCP(CC)(=Nc1cc(C(c2ccccc2)(c2ccccc2)c2ccccc2)cc(C(C)(C)C)c1O)c1ccccc1&quot;, &quot;CCP1(CC)(c2ccccc2)N=C2CC(C(c3ccccc3)(c3ccccc3)c3ccccc3)=CC(C(C)(C)C)=C2O1&quot;]</td></tr><tr><td>&quot;CCP(CC)(=Nc1cc…</td><td>[&quot;CC=P(CC)(NC1C=C(C(c2ccccc2)(c2ccccc2)c2ccccc2)C=C(C(C)(C)C)C1=O)c1ccccc1&quot;, &quot;CCP(CC)(=NC1C=C(C(c2ccccc2)(c2ccccc2)c2ccccc2)C=C(C(C)(C)C)C1=O)c1ccccc1&quot;, … &quot;CC=P(CC)(Nc1cc(C(c2ccccc2)(c2ccccc2)c2ccccc2)cc(C(C)(C)C)c1O)c1ccccc1&quot;]</td></tr><tr><td>&quot;[2H]Oc1ccc(-c2…</td><td>[&quot;[2H]OC1=C(c2ccc(O[2H])c(O[2H])c2)OC2=C([2H])C(=O)C([2H])(OC)C(=O)C2([2H])C1=O&quot;, &quot;[2H]OC1=CC(=C2Oc3c([2H])c(O[2H])c(OC)c(O[2H])c3C(O[2H])=C2O[2H])C=CC1=O&quot;, … &quot;[2H]OC1=C2C(=O)C([2H])(OC)C(=O)C([2H])=C2OC(c2ccc(O[2H])c(O[2H])c2)=C1O[2H]&quot;]</td></tr><tr><td>&quot;[2H]Oc1ccc(-c2…</td><td>[&quot;[2H]OC1=C(OC)C(=O)C([2H])([2H])c2oc(-c3ccc(O[2H])c(O[2H])c3)c(O[2H])c(=O)c21&quot;, &quot;[2H]OC1=C([2H])c2oc(-c3ccc(O[2H])c(O[2H])c3)c(O[2H])c(=O)c2C(=O)C1([2H])OC&quot;, … &quot;[2H]Oc1ccc(C2([2H])Oc3c([2H])c(O[2H])c(OC)c(O[2H])c3C(=O)C2=O)cc1O[2H]&quot;]</td></tr></tbody></table></div>"
      ],
      "text/plain": [
       "shape: (12, 2)\n",
       "┌───────────────────────────────────┬───────────────────────────────────┐\n",
       "│ canon_sml                         ┆ tautsNIH                          │\n",
       "│ ---                               ┆ ---                               │\n",
       "│ str                               ┆ list[str]                         │\n",
       "╞═══════════════════════════════════╪═══════════════════════════════════╡\n",
       "│ COc1c2c3c4c(c(OC)c(=O)c5c(O)cc(O… ┆ [\"COC1=CC(=O)C2C(=O)C(OC)=C3c4c5… │\n",
       "│ CSC1=NC(c2ccccc2[N+](=O)[O-])C(C… ┆ [\"CSC1=NC(c2ccccc2[N+](=O)[O-])C… │\n",
       "│ Cc1cc(C=O)c(C)c(C=O)c1            ┆ [\"C=C1C(C=O)=CC(C)C=C1C=O\", \"C=c… │\n",
       "│ C=c1c(C=O)cc(C)cc1=CO             ┆ [\"C=C1C(C=O)=CC(C)=CC1C=O\", \"C=C… │\n",
       "│ …                                 ┆ …                                 │\n",
       "│ CCP1(CC)(c2ccccc2)Nc2cc(C(c3cccc… ┆ [\"CCP1(CC)(c2ccccc2)N=C2C=C(C(c3… │\n",
       "│ CCP(CC)(=Nc1cc(C(c2ccccc2)(c2ccc… ┆ [\"CC=P(CC)(NC1C=C(C(c2ccccc2)(c2… │\n",
       "│ [2H]Oc1ccc(-c2oc3c([2H])c(O[2H])… ┆ [\"[2H]OC1=C(c2ccc(O[2H])c(O[2H])… │\n",
       "│ [2H]Oc1ccc(-c2oc3c([2H])c(O[2H])… ┆ [\"[2H]OC1=C(OC)C(=O)C([2H])([2H]… │\n",
       "└───────────────────────────────────┴───────────────────────────────────┘"
      ]
     },
     "execution_count": 44,
     "metadata": {},
     "output_type": "execute_result"
    }
   ],
   "source": [
    "# Prepare tautomer data from NIH web site\n",
    "nih_sml_tauts_canon = {key: canonicalize_smiles(value) for key, value in nih_sml_tauts.items()}\n",
    "nih_inputs = nih_sml_tauts_canon.keys()\n",
    "nih_tauts = nih_sml_tauts_canon.values()\n",
    "df_nih = pl.DataFrame({\"canon_sml\": nih_inputs, \"tautsNIH\": nih_tauts})\n",
    "df_nih"
   ]
  },
  {
   "cell_type": "code",
   "execution_count": 45,
   "metadata": {},
   "outputs": [],
   "source": [
    "# Merge in NIH tauts by left-joining on canon_sml\n",
    "\n",
    "# Ensure no tautsNIH columns already exist--can cause additional column tautsNIH_right to be created\n",
    "columsNIH = [col for col in df_melted.columns if col.startswith('tautsNIH')]\n",
    "for col in columsNIH:\n",
    "    df_melted = df_melted.drop(col)\n",
    "    \n",
    "df_melted = df_melted.join(df_nih, on=\"canon_sml\", how=\"left\")\n"
   ]
  },
  {
   "cell_type": "code",
   "execution_count": 46,
   "metadata": {},
   "outputs": [
    {
     "data": {
      "text/html": [
       "<div><style>\n",
       ".dataframe > thead > tr > th,\n",
       ".dataframe > tbody > tr > td {\n",
       "  text-align: right;\n",
       "  white-space: pre-wrap;\n",
       "}\n",
       "</style>\n",
       "<small>shape: (2, 8)</small><table border=\"1\" class=\"dataframe\"><thead><tr><th>Ref</th><th>mol</th><th>canon_sml</th><th>tautsTautomerEnumerator</th><th>tautsGetV1TautomerEnumerator</th><th>tautCACTVS</th><th>tautsCACTVS</th><th>tautsNIH</th></tr><tr><td>i64</td><td>object</td><td>str</td><td>list[str]</td><td>list[str]</td><td>list[str]</td><td>list[str]</td><td>list[str]</td></tr></thead><tbody><tr><td>1704</td><td>&lt;rdkit.Chem.rdchem.Mol object at 0x28ea49a80&gt;</td><td>&quot;C=c1c(C=O)cc(C…</td><td>[&quot;C=C1C(C=O)=CC(C)=CC1C=O&quot;, &quot;C=c1c(C=O)cc(C)cc1=CO&quot;]</td><td>[&quot;C=c1c(C=O)cc(C)cc1=CO&quot;]</td><td>[&quot;C=C\\1C(=CC(=CC1=C\\O)C)C=O&quot;]</td><td>[&quot;C=c1c(C=O)cc(C)c/c1=C\\O&quot;]</td><td>[&quot;C=C1C(C=O)=CC(C)=CC1C=O&quot;, &quot;C=C1C(C=O)=CC(C)C=C1C=O&quot;, &quot;Cc1cc(C=O)c(C)c(C=O)c1&quot;]</td></tr><tr><td>1704</td><td>&lt;rdkit.Chem.rdchem.Mol object at 0x28ea3a7a0&gt;</td><td>&quot;Cc1cc(C=O)c(C)…</td><td>[&quot;Cc1cc(C=O)c(C)c(C=O)c1&quot;]</td><td>[&quot;Cc1cc(C=O)c(C)c(C=O)c1&quot;]</td><td>[&quot;CC1=CC(=C(C(=C1)C=O)C)C=O&quot;, &quot;CC1=CC(C(C(=C1)C=O)=C)C=O&quot;, … &quot;CC1=CC(C(C(=C1)C=O)=C)=CO&quot;]</td><td>[&quot;C=C1C(C=O)=CC(C)=CC1C=O&quot;, &quot;Cc1cc(C=O)c(C)c(C=O)c1&quot;, … &quot;C=C1C(C=O)=CC(C)C=C1C=O&quot;]</td><td>[&quot;C=C1C(C=O)=CC(C)C=C1C=O&quot;, &quot;C=c1c(C=O)cc(C)cc1=CO&quot;]</td></tr></tbody></table></div>"
      ],
      "text/plain": [
       "shape: (2, 8)\n",
       "┌──────┬─────────────┬────────────┬────────────┬────────────┬────────────┬────────────┬────────────┐\n",
       "│ Ref  ┆ mol         ┆ canon_sml  ┆ tautsTauto ┆ tautsGetV1 ┆ tautCACTVS ┆ tautsCACTV ┆ tautsNIH   │\n",
       "│ ---  ┆ ---         ┆ ---        ┆ merEnumera ┆ TautomerEn ┆ ---        ┆ S          ┆ ---        │\n",
       "│ i64  ┆ object      ┆ str        ┆ tor        ┆ umerator   ┆ list[str]  ┆ ---        ┆ list[str]  │\n",
       "│      ┆             ┆            ┆ ---        ┆ ---        ┆            ┆ list[str]  ┆            │\n",
       "│      ┆             ┆            ┆ list[str]  ┆ list[str]  ┆            ┆            ┆            │\n",
       "╞══════╪═════════════╪════════════╪════════════╪════════════╪════════════╪════════════╪════════════╡\n",
       "│ 1704 ┆ <rdkit.Chem ┆ C=c1c(C=O) ┆ [\"C=C1C(C= ┆ [\"C=c1c(C= ┆ [\"C=C\\1C(= ┆ [\"C=c1c(C= ┆ [\"C=C1C(C= │\n",
       "│      ┆ .rdchem.Mol ┆ cc(C)cc1=C ┆ O)=CC(C)=C ┆ O)cc(C)cc1 ┆ CC(=CC1=C\\ ┆ O)cc(C)c/c ┆ O)=CC(C)=C │\n",
       "│      ┆ object at…  ┆ O          ┆ C1C=O\",    ┆ =CO\"]      ┆ O)C)C=O\"]  ┆ 1=C\\O\"]    ┆ C1C=O\",    │\n",
       "│      ┆             ┆            ┆ \"C=c…      ┆            ┆            ┆            ┆ \"C=C…      │\n",
       "│ 1704 ┆ <rdkit.Chem ┆ Cc1cc(C=O) ┆ [\"Cc1cc(C= ┆ [\"Cc1cc(C= ┆ [\"CC1=CC(= ┆ [\"C=C1C(C= ┆ [\"C=C1C(C= │\n",
       "│      ┆ .rdchem.Mol ┆ c(C)c(C=O) ┆ O)c(C)c(C= ┆ O)c(C)c(C= ┆ C(C(=C1)C= ┆ O)=CC(C)=C ┆ O)=CC(C)C= │\n",
       "│      ┆ object at…  ┆ c1         ┆ O)c1\"]     ┆ O)c1\"]     ┆ O)C)C=O\",  ┆ C1C=O\",    ┆ C1C=O\",    │\n",
       "│      ┆             ┆            ┆            ┆            ┆ \"C…        ┆ \"Cc1…      ┆ \"C=c…      │\n",
       "└──────┴─────────────┴────────────┴────────────┴────────────┴────────────┴────────────┴────────────┘"
      ]
     },
     "execution_count": 46,
     "metadata": {},
     "output_type": "execute_result"
    }
   ],
   "source": [
    "df_melted.filter(pl.col(\"Ref\") == 1704)\n"
   ]
  },
  {
   "cell_type": "code",
   "execution_count": 47,
   "metadata": {},
   "outputs": [],
   "source": [
    "# Replace None (null) values in tautsNIH and tautsCACTVS to prevent error when flatten nested list into non-nested (flat) list\n",
    "for source in [\"NIH\", \"CACTVS\"]:\n",
    "    tauts_source = df_melted[f\"tauts{source}\"].to_list()\n",
    "    tauts_source_no_nulls = [val if val is not None else [] for val in tauts_source]\n",
    "    tauts_source_no_nulls_series = pl.Series(tauts_source_no_nulls)\n",
    "    df_melted = df_melted.with_columns(tauts_source_no_nulls_series.alias(f\"tauts{source}\"))"
   ]
  },
  {
   "cell_type": "code",
   "execution_count": 48,
   "metadata": {},
   "outputs": [
    {
     "data": {
      "text/html": [
       "<div><style>\n",
       ".dataframe > thead > tr > th,\n",
       ".dataframe > tbody > tr > td {\n",
       "  text-align: right;\n",
       "  white-space: pre-wrap;\n",
       "}\n",
       "</style>\n",
       "<small>shape: (3, 8)</small><table border=\"1\" class=\"dataframe\"><thead><tr><th>Ref</th><th>mol</th><th>canon_sml</th><th>tautsTautomerEnumerator</th><th>tautsGetV1TautomerEnumerator</th><th>tautCACTVS</th><th>tautsCACTVS</th><th>tautsNIH</th></tr><tr><td>i64</td><td>list[extension]</td><td>list[str]</td><td>list[list[str]]</td><td>list[list[str]]</td><td>list[list[str]]</td><td>list[list[str]]</td><td>list[list[str]]</td></tr></thead><tbody><tr><td>1</td><td>[&lt;rdkit.Chem.rdchem.Mol object at 0x179c83300&gt;, &lt;rdkit.Chem.rdchem.Mol object at 0x179cd7370&gt;]</td><td>[&quot;CC(=O)/C=C(/C)O&quot;, &quot;CC(=O)CC(C)=O&quot;]</td><td>[[&quot;C=C(O)C=C(C)O&quot;, &quot;C=C(O)CC(C)=O&quot;, … &quot;C=C(O)CC(=C)O&quot;], [&quot;C=C(O)C=C(C)O&quot;, &quot;C=C(O)CC(C)=O&quot;, … &quot;C=C(O)CC(=C)O&quot;]]</td><td>[[&quot;C=C(O)C=C(C)O&quot;, &quot;C=C(O)CC(C)=O&quot;, … &quot;C=C(O)CC(=C)O&quot;], [&quot;C=C(O)C=C(C)O&quot;, &quot;C=C(O)CC(C)=O&quot;, … &quot;C=C(O)CC(=C)O&quot;]]</td><td>[null, null]</td><td>[[], []]</td><td>[[], []]</td></tr><tr><td>2</td><td>[&lt;rdkit.Chem.rdchem.Mol object at 0x179c83300&gt;, &lt;rdkit.Chem.rdchem.Mol object at 0x179cd7370&gt;]</td><td>[&quot;c1c[nH]nn1&quot;, &quot;c1cn[nH]n1&quot;]</td><td>[[&quot;c1c[nH]nn1&quot;, &quot;c1cn[nH]n1&quot;], [&quot;c1c[nH]nn1&quot;, &quot;c1cn[nH]n1&quot;]]</td><td>[[&quot;c1c[nH]nn1&quot;, &quot;c1cn[nH]n1&quot;], [&quot;c1c[nH]nn1&quot;, &quot;c1cn[nH]n1&quot;]]</td><td>[null, null]</td><td>[[], []]</td><td>[[], []]</td></tr><tr><td>3</td><td>[&lt;rdkit.Chem.rdchem.Mol object at 0x179c83300&gt;, &lt;rdkit.Chem.rdchem.Mol object at 0x179cd7370&gt;]</td><td>[&quot;Cc1cc[nH]n1&quot;, &quot;Cc1ccn[nH]1&quot;]</td><td>[[&quot;Cc1cc[nH]n1&quot;, &quot;Cc1ccn[nH]1&quot;], [&quot;Cc1cc[nH]n1&quot;, &quot;Cc1ccn[nH]1&quot;]]</td><td>[[&quot;C=C1C=CNN1&quot;, &quot;Cc1ccn[nH]1&quot;, … &quot;Cc1cc[nH]n1&quot;], [&quot;C=C1C=CNN1&quot;, &quot;Cc1ccn[nH]1&quot;, … &quot;Cc1cc[nH]n1&quot;]]</td><td>[null, null]</td><td>[[], []]</td><td>[[], []]</td></tr></tbody></table></div>"
      ],
      "text/plain": [
       "shape: (3, 8)\n",
       "┌─────┬─────────────┬─────────────┬────────────┬────────────┬────────────┬────────────┬────────────┐\n",
       "│ Ref ┆ mol         ┆ canon_sml   ┆ tautsTauto ┆ tautsGetV1 ┆ tautCACTVS ┆ tautsCACTV ┆ tautsNIH   │\n",
       "│ --- ┆ ---         ┆ ---         ┆ merEnumera ┆ TautomerEn ┆ ---        ┆ S          ┆ ---        │\n",
       "│ i64 ┆ list[extens ┆ list[str]   ┆ tor        ┆ umerator   ┆ list[list[ ┆ ---        ┆ list[list[ │\n",
       "│     ┆ ion]        ┆             ┆ ---        ┆ ---        ┆ str]]      ┆ list[list[ ┆ str]]      │\n",
       "│     ┆             ┆             ┆ list[list[ ┆ list[list[ ┆            ┆ str]]      ┆            │\n",
       "│     ┆             ┆             ┆ str]]      ┆ str]]      ┆            ┆            ┆            │\n",
       "╞═════╪═════════════╪═════════════╪════════════╪════════════╪════════════╪════════════╪════════════╡\n",
       "│ 1   ┆ [<rdkit.Che ┆ [\"CC(=O)/C= ┆ [[\"C=C(O)C ┆ [[\"C=C(O)C ┆ [null,     ┆ [[], []]   ┆ [[], []]   │\n",
       "│     ┆ m.rdchem.Mo ┆ C(/C)O\",    ┆ =C(C)O\",   ┆ =C(C)O\",   ┆ null]      ┆            ┆            │\n",
       "│     ┆ l object a… ┆ \"CC(=O)CC(C ┆ \"C=C(O)CC( ┆ \"C=C(O)CC( ┆            ┆            ┆            │\n",
       "│     ┆             ┆ )…          ┆ C)=…       ┆ C)=…       ┆            ┆            ┆            │\n",
       "│ 2   ┆ [<rdkit.Che ┆ [\"c1c[nH]nn ┆ [[\"c1c[nH] ┆ [[\"c1c[nH] ┆ [null,     ┆ [[], []]   ┆ [[], []]   │\n",
       "│     ┆ m.rdchem.Mo ┆ 1\", \"c1cn[n ┆ nn1\", \"c1c ┆ nn1\", \"c1c ┆ null]      ┆            ┆            │\n",
       "│     ┆ l object a… ┆ H]n1\"]      ┆ n[nH]n1\"], ┆ n[nH]n1\"], ┆            ┆            ┆            │\n",
       "│     ┆             ┆             ┆ […         ┆ […         ┆            ┆            ┆            │\n",
       "│ 3   ┆ [<rdkit.Che ┆ [\"Cc1cc[nH] ┆ [[\"Cc1cc[n ┆ [[\"C=C1C=C ┆ [null,     ┆ [[], []]   ┆ [[], []]   │\n",
       "│     ┆ m.rdchem.Mo ┆ n1\", \"Cc1cc ┆ H]n1\", \"Cc ┆ NN1\", \"Cc1 ┆ null]      ┆            ┆            │\n",
       "│     ┆ l object a… ┆ n[nH]1\"]    ┆ 1ccn[nH]1\" ┆ ccn[nH]1\", ┆            ┆            ┆            │\n",
       "│     ┆             ┆             ┆ ],…        ┆ ……         ┆            ┆            ┆            │\n",
       "└─────┴─────────────┴─────────────┴────────────┴────────────┴────────────┴────────────┴────────────┘"
      ]
     },
     "execution_count": 48,
     "metadata": {},
     "output_type": "execute_result"
    }
   ],
   "source": [
    "# Merge tautomer smls for each row for same ref: \n",
    "#   assumption is that all input smls correspond to legitimate tautomers\n",
    "other_columns = [col for col in df_melted.columns if col not in ['Ref']]\n",
    "\n",
    "df_melted_aggregated = (\n",
    "    df_melted.group_by('Ref')\n",
    "    .agg(*other_columns)\n",
    ")\n",
    "df_melted_aggregated.head(3)"
   ]
  },
  {
   "cell_type": "code",
   "execution_count": 49,
   "metadata": {},
   "outputs": [
    {
     "data": {
      "text/html": [
       "<div><style>\n",
       ".dataframe > thead > tr > th,\n",
       ".dataframe > tbody > tr > td {\n",
       "  text-align: right;\n",
       "  white-space: pre-wrap;\n",
       "}\n",
       "</style>\n",
       "<small>shape: (2, 8)</small><table border=\"1\" class=\"dataframe\"><thead><tr><th>Ref</th><th>mol</th><th>canon_sml</th><th>tautsTautomerEnumerator</th><th>tautsGetV1TautomerEnumerator</th><th>tautCACTVS</th><th>tautsCACTVS</th><th>tautsNIH</th></tr><tr><td>i64</td><td>list[extension]</td><td>list[str]</td><td>list[list[str]]</td><td>list[list[str]]</td><td>list[list[str]]</td><td>list[list[str]]</td><td>list[list[str]]</td></tr></thead><tbody><tr><td>888</td><td>[&lt;rdkit.Chem.rdchem.Mol object at 0x179c83300&gt;, &lt;rdkit.Chem.rdchem.Mol object at 0x179cd7370&gt;]</td><td>[&quot;COc1c(O)c2c(=O)cc(OC)c3c4c(OC)cc(=O)c5c(O)c(OC)c6c(c(c1[C@@H]([C@H](C)O)[C@@H]6[C@H](C)O)c23)c54&quot;, &quot;COc1c2c3c4c(c(OC)c(=O)c5c(O)cc(OC)c(c6c(OC)cc(O)c(c1=O)c63)c54)[C@@H]([C@H](C)O)[C@@H]2[C@H](C)O&quot;]</td><td>[[&quot;COC1=CC(=O)C2C(O)=C(OC)C3=C([C@H](C)O)C([C@H](C)O)C4=C(OC)C(=O)c5c(O)cc(OC)c6c1c2c3c4c56&quot;, &quot;COC1=CC(=O)C2C(=O)C(OC)c3c([C@H](C)O)c([C@H](C)O)c4c5c6c(c1c2c35)C(OC)=CC(=O)C6C(=O)C4OC&quot;, … &quot;COc1c(O)c2c(=O)cc(OC)c3c4c(OC)cc(O)c5c(=O)c(OC)c6c(c(c1C([C@H](C)O)C6[C@H](C)O)c23)c54&quot;], [&quot;COC1=CC(=O)C2C(=O)C(OC)c3c([C@H](C)O)c([C@H](C)O)c4c5c6c(c1c2c35)C(OC)=CC(=O)C6C(=O)C4OC&quot;, &quot;COC1=CC(=O)C2C(=O)C(OC)c3c([C@H](C)O)c([C@H](C)O)c4c5c6c(c1c2c35)=C(OC)CC(=O)C6C(=O)C=4OC&quot;, … &quot;COC1=CC(=O)C2=C(O)C(OC)c3c([C@H](C)O)c([C@H](C)O)c4c5c3c2c1c1c(OC)cc(O)c(c15)C(=O)C4OC&quot;]]</td><td>[[&quot;COC1=C(O)C2C(O)=CC(OC)c3c2c2c1c(C(C)O)c(=C(C)O)c1c2c2c3=C(OC)CC(=O)C=2C(=O)C=1OC&quot;, &quot;COC1=C(O)C2C(O)=CC(OC)c3c2c2c1c(C(C)=O)c(C(C)O)c1c(OC)c(O)c4c(c3=C(OC)CC4=O)c12&quot;, … &quot;C=C(O)c1c(C(C)O)c2c3c4c(c5c6c3c1=C(OC)C(=O)C6C(O)=CC5OC)C(OC)CC(O)=C4C(=O)C=2OC&quot;], [&quot;COC1=CC(=O)C2=c3c1c1c4c5c(c(C(C)O)c(C(C)=O)c(c35)C(OC)C2=O)=C(OC)C(O)C4C(O)=CC1OC&quot;, &quot;COC1=C(O)C2C(O)=CC(OC)c3c2c2c1c(C(C)O)c(=C(C)O)c1c2c2c3=C(OC)CC(=O)C=2C(=O)C=1OC&quot;, … &quot;C=C(O)c1c2c3c4c(c5c6c3c(c1=C(C)O)=C(OC)C(=O)C6=C(O)CC5OC)C(OC)C=C(O)C4C(=O)C2OC&quot;]]</td><td>[null, null]</td><td>[[], []]</td><td>[[], [&quot;COC1=CC(=O)C2C(=O)C(OC)=C3c4c5c6c(c1c42)C(OC)=CC(=O)C6C(=O)C(OC)=C5[C@@H]([C@H](C)O)[C@@H]3[C@H](C)O&quot;, &quot;COC1=CC(=O)C2=C3C1=C1C(OC)=CC(O)=C4C(=O)C(OC)=C5C(=C3C(=C(OC)C2=O)[C@@H]([C@H](C)O)[C@@H]5[C@H](C)O)C41&quot;, … &quot;COc1c(O)c2c(=O)cc(OC)c3c4c(OC)cc(O)c5c(=O)c(OC)c6c(c(c1[C@@H]([C@H](C)O)[C@@H]6[C@H](C)O)c23)c54&quot;]]</td></tr><tr><td>889</td><td>[&lt;rdkit.Chem.rdchem.Mol object at 0x179c83300&gt;, &lt;rdkit.Chem.rdchem.Mol object at 0x179cd7370&gt;]</td><td>[&quot;COc1c(O)c2c(=O)cc(OC)c3c4c(OC)cc(=O)c5c(O)c(OC)c6c(c(c1[C@H]([C@@H](C)O)[C@H]6[C@@H](C)O)c23)c54&quot;, &quot;COc1c2c3c4c(c(OC)c(=O)c5c(O)cc(OC)c(c6c(OC)cc(O)c(c1=O)c63)c54)[C@H]([C@@H](C)O)[C@H]2[C@@H](C)O&quot;]</td><td>[[&quot;COC1=CC(=O)C2C(O)=C(OC)c3c([C@@H](C)O)c([C@@H](C)O)c4c5c6c(c1c2c35)C(OC)=CC(=O)C6C(O)=C4OC&quot;, &quot;COC1=CC(=O)C2=C(O)C(OC)c3c([C@@H](C)O)c([C@@H](C)O)c4c(OC)c(O)c5c(O)cc(OC)c6c1c2c3c4c56&quot;, … &quot;COC1=CC(=O)C2=C(O)C(OC)c3c([C@@H](C)O)c([C@@H](C)O)c4c5c6c(c1c2c35)=C(OC)CC(=O)C=6C(=O)C4OC&quot;], [&quot;COC1=CC(=O)C2=C(O)C(OC)c3c([C@@H](C)O)c([C@@H](C)O)c4c(OC)c(O)c5c(O)cc(OC)c6c1c2c3c4c56&quot;, &quot;COC1=c2c3c(OC)cc(=O)c4c3c3c(c([C@@H](C)O)c([C@@H](C)O)c5c(OC)c(=O)c(c2c53)=C(O)C1)C(OC)C=4O&quot;, … &quot;COC1=CC(=O)C2C(=O)C(OC)C3=C([C@@H](C)O)C([C@@H](C)O)C4=c5c3c2c1c1c5=C(C(=O)C=C1OC)C(=O)C4OC&quot;]]</td><td>[[&quot;COC1=C(O)C2C(O)=CC(OC)c3c2c2c1c(C(C)O)c(=C(C)O)c1c2c2c3=C(OC)CC(=O)C=2C(=O)C=1OC&quot;, &quot;COC1=C(O)C2C(O)=CC(OC)c3c2c2c1c(C(C)=O)c(C(C)O)c1c(OC)c(O)c4c(c3=C(OC)CC4=O)c12&quot;, … &quot;C=C(O)c1c(C(C)O)c2c3c4c(c5c6c3c1=C(OC)C(=O)C6C(O)=CC5OC)C(OC)CC(O)=C4C(=O)C=2OC&quot;], [&quot;COC1=CC(=O)C2=c3c1c1c4c5c(c(C(C)O)c(C(C)=O)c(c35)C(OC)C2=O)=C(OC)C(O)C4C(O)=CC1OC&quot;, &quot;COC1=C(O)C2C(O)=CC(OC)c3c2c2c1c(C(C)O)c(=C(C)O)c1c2c2c3=C(OC)CC(=O)C=2C(=O)C=1OC&quot;, … &quot;C=C(O)c1c2c3c4c(c5c6c3c(c1=C(C)O)=C(OC)C(=O)C6=C(O)CC5OC)C(OC)C=C(O)C4C(=O)C2OC&quot;]]</td><td>[null, null]</td><td>[[], []]</td><td>[[], []]</td></tr></tbody></table></div>"
      ],
      "text/plain": [
       "shape: (2, 8)\n",
       "┌─────┬─────────────┬─────────────┬────────────┬────────────┬────────────┬────────────┬────────────┐\n",
       "│ Ref ┆ mol         ┆ canon_sml   ┆ tautsTauto ┆ tautsGetV1 ┆ tautCACTVS ┆ tautsCACTV ┆ tautsNIH   │\n",
       "│ --- ┆ ---         ┆ ---         ┆ merEnumera ┆ TautomerEn ┆ ---        ┆ S          ┆ ---        │\n",
       "│ i64 ┆ list[extens ┆ list[str]   ┆ tor        ┆ umerator   ┆ list[list[ ┆ ---        ┆ list[list[ │\n",
       "│     ┆ ion]        ┆             ┆ ---        ┆ ---        ┆ str]]      ┆ list[list[ ┆ str]]      │\n",
       "│     ┆             ┆             ┆ list[list[ ┆ list[list[ ┆            ┆ str]]      ┆            │\n",
       "│     ┆             ┆             ┆ str]]      ┆ str]]      ┆            ┆            ┆            │\n",
       "╞═════╪═════════════╪═════════════╪════════════╪════════════╪════════════╪════════════╪════════════╡\n",
       "│ 888 ┆ [<rdkit.Che ┆ [\"COc1c(O)c ┆ [[\"COC1=CC ┆ [[\"COC1=C( ┆ [null,     ┆ [[], []]   ┆ [[], [\"COC │\n",
       "│     ┆ m.rdchem.Mo ┆ 2c(=O)cc(OC ┆ (=O)C2C(O) ┆ O)C2C(O)=C ┆ null]      ┆            ┆ 1=CC(=O)C2 │\n",
       "│     ┆ l object a… ┆ )c3c4c(OC)… ┆ =C(OC)C3=C ┆ C(OC)c3c2c ┆            ┆            ┆ C(=O)C(OC) │\n",
       "│     ┆             ┆             ┆ ([…        ┆ 2c…        ┆            ┆            ┆ =C…        │\n",
       "│ 889 ┆ [<rdkit.Che ┆ [\"COc1c(O)c ┆ [[\"COC1=CC ┆ [[\"COC1=C( ┆ [null,     ┆ [[], []]   ┆ [[], []]   │\n",
       "│     ┆ m.rdchem.Mo ┆ 2c(=O)cc(OC ┆ (=O)C2C(O) ┆ O)C2C(O)=C ┆ null]      ┆            ┆            │\n",
       "│     ┆ l object a… ┆ )c3c4c(OC)… ┆ =C(OC)c3c( ┆ C(OC)c3c2c ┆            ┆            ┆            │\n",
       "│     ┆             ┆             ┆ [C…        ┆ 2c…        ┆            ┆            ┆            │\n",
       "└─────┴─────────────┴─────────────┴────────────┴────────────┴────────────┴────────────┴────────────┘"
      ]
     },
     "execution_count": 49,
     "metadata": {},
     "output_type": "execute_result"
    }
   ],
   "source": [
    "#Debugging: Inspect row where NIH tautomers added\n",
    "df_melted_aggregated.filter(pl.col(\"Ref\").is_in([888, 889]))"
   ]
  },
  {
   "cell_type": "code",
   "execution_count": 50,
   "metadata": {},
   "outputs": [
    {
     "name": "stdout",
     "output_type": "stream",
     "text": [
      "['tautsTautomerEnumerator', 'tautsGetV1TautomerEnumerator', 'tautsCACTVS', 'tautsNIH']\n",
      "tautsTautomerEnumerator\n",
      "tautsGetV1TautomerEnumerator\n",
      "tautsCACTVS\n",
      "tautsNIH\n"
     ]
    },
    {
     "data": {
      "text/html": [
       "<div><style>\n",
       ".dataframe > thead > tr > th,\n",
       ".dataframe > tbody > tr > td {\n",
       "  text-align: right;\n",
       "  white-space: pre-wrap;\n",
       "}\n",
       "</style>\n",
       "<small>shape: (3, 12)</small><table border=\"1\" class=\"dataframe\"><thead><tr><th>Ref</th><th>mol</th><th>canon_sml</th><th>tautsTautomerEnumerator</th><th>tautsGetV1TautomerEnumerator</th><th>tautCACTVS</th><th>tautsCACTVS</th><th>tautsNIH</th><th>flat_tautsTautomerEnumerator</th><th>flat_tautsGetV1TautomerEnumerator</th><th>flat_tautsCACTVS</th><th>flat_tautsNIH</th></tr><tr><td>i64</td><td>list[extension]</td><td>list[str]</td><td>list[list[str]]</td><td>list[list[str]]</td><td>list[list[str]]</td><td>list[list[str]]</td><td>list[list[str]]</td><td>list[str]</td><td>list[str]</td><td>list[str]</td><td>list[str]</td></tr></thead><tbody><tr><td>1</td><td>[&lt;rdkit.Chem.rdchem.Mol object at 0x179c83300&gt;, &lt;rdkit.Chem.rdchem.Mol object at 0x179cd7370&gt;]</td><td>[&quot;CC(=O)/C=C(/C)O&quot;, &quot;CC(=O)CC(C)=O&quot;]</td><td>[[&quot;C=C(O)C=C(C)O&quot;, &quot;C=C(O)CC(C)=O&quot;, … &quot;C=C(O)CC(=C)O&quot;], [&quot;C=C(O)C=C(C)O&quot;, &quot;C=C(O)CC(C)=O&quot;, … &quot;C=C(O)CC(=C)O&quot;]]</td><td>[[&quot;C=C(O)C=C(C)O&quot;, &quot;C=C(O)CC(C)=O&quot;, … &quot;C=C(O)CC(=C)O&quot;], [&quot;C=C(O)C=C(C)O&quot;, &quot;C=C(O)CC(C)=O&quot;, … &quot;C=C(O)CC(=C)O&quot;]]</td><td>[null, null]</td><td>[[], []]</td><td>[[], []]</td><td>[&quot;C=C(O)C=C(C)O&quot;, &quot;C=C(O)CC(C)=O&quot;, … &quot;C=C(O)CC(=C)O&quot;]</td><td>[&quot;C=C(O)C=C(C)O&quot;, &quot;C=C(O)CC(C)=O&quot;, … &quot;C=C(O)CC(=C)O&quot;]</td><td>[]</td><td>[]</td></tr><tr><td>2</td><td>[&lt;rdkit.Chem.rdchem.Mol object at 0x179c83300&gt;, &lt;rdkit.Chem.rdchem.Mol object at 0x179cd7370&gt;]</td><td>[&quot;c1c[nH]nn1&quot;, &quot;c1cn[nH]n1&quot;]</td><td>[[&quot;c1c[nH]nn1&quot;, &quot;c1cn[nH]n1&quot;], [&quot;c1c[nH]nn1&quot;, &quot;c1cn[nH]n1&quot;]]</td><td>[[&quot;c1c[nH]nn1&quot;, &quot;c1cn[nH]n1&quot;], [&quot;c1c[nH]nn1&quot;, &quot;c1cn[nH]n1&quot;]]</td><td>[null, null]</td><td>[[], []]</td><td>[[], []]</td><td>[&quot;c1c[nH]nn1&quot;, &quot;c1cn[nH]n1&quot;]</td><td>[&quot;c1c[nH]nn1&quot;, &quot;c1cn[nH]n1&quot;]</td><td>[]</td><td>[]</td></tr><tr><td>3</td><td>[&lt;rdkit.Chem.rdchem.Mol object at 0x179c83300&gt;, &lt;rdkit.Chem.rdchem.Mol object at 0x179cd7370&gt;]</td><td>[&quot;Cc1cc[nH]n1&quot;, &quot;Cc1ccn[nH]1&quot;]</td><td>[[&quot;Cc1cc[nH]n1&quot;, &quot;Cc1ccn[nH]1&quot;], [&quot;Cc1cc[nH]n1&quot;, &quot;Cc1ccn[nH]1&quot;]]</td><td>[[&quot;C=C1C=CNN1&quot;, &quot;Cc1ccn[nH]1&quot;, … &quot;Cc1cc[nH]n1&quot;], [&quot;C=C1C=CNN1&quot;, &quot;Cc1ccn[nH]1&quot;, … &quot;Cc1cc[nH]n1&quot;]]</td><td>[null, null]</td><td>[[], []]</td><td>[[], []]</td><td>[&quot;Cc1cc[nH]n1&quot;, &quot;Cc1ccn[nH]1&quot;]</td><td>[&quot;C=C1C=CNN1&quot;, &quot;C=C1CC=NN1&quot;, … &quot;Cc1cc[nH]n1&quot;]</td><td>[]</td><td>[]</td></tr></tbody></table></div>"
      ],
      "text/plain": [
       "shape: (3, 12)\n",
       "┌─────┬────────────┬────────────┬────────────┬───┬────────────┬────────────┬───────────┬───────────┐\n",
       "│ Ref ┆ mol        ┆ canon_sml  ┆ tautsTauto ┆ … ┆ flat_tauts ┆ flat_tauts ┆ flat_taut ┆ flat_taut │\n",
       "│ --- ┆ ---        ┆ ---        ┆ merEnumera ┆   ┆ TautomerEn ┆ GetV1Tauto ┆ sCACTVS   ┆ sNIH      │\n",
       "│ i64 ┆ list[exten ┆ list[str]  ┆ tor        ┆   ┆ umerator   ┆ merEnumera ┆ ---       ┆ ---       │\n",
       "│     ┆ sion]      ┆            ┆ ---        ┆   ┆ ---        ┆ to…        ┆ list[str] ┆ list[str] │\n",
       "│     ┆            ┆            ┆ list[list[ ┆   ┆ list[str]  ┆ ---        ┆           ┆           │\n",
       "│     ┆            ┆            ┆ str]]      ┆   ┆            ┆ list[str]  ┆           ┆           │\n",
       "╞═════╪════════════╪════════════╪════════════╪═══╪════════════╪════════════╪═══════════╪═══════════╡\n",
       "│ 1   ┆ [<rdkit.Ch ┆ [\"CC(=O)/C ┆ [[\"C=C(O)C ┆ … ┆ [\"C=C(O)C= ┆ [\"C=C(O)C= ┆ []        ┆ []        │\n",
       "│     ┆ em.rdchem. ┆ =C(/C)O\",  ┆ =C(C)O\",   ┆   ┆ C(C)O\",    ┆ C(C)O\",    ┆           ┆           │\n",
       "│     ┆ Mol object ┆ \"CC(=O)CC( ┆ \"C=C(O)CC( ┆   ┆ \"C=C(O)CC( ┆ \"C=C(O)CC( ┆           ┆           │\n",
       "│     ┆ a…         ┆ C)…        ┆ C)=…       ┆   ┆ C)=O…      ┆ C)=O…      ┆           ┆           │\n",
       "│ 2   ┆ [<rdkit.Ch ┆ [\"c1c[nH]n ┆ [[\"c1c[nH] ┆ … ┆ [\"c1c[nH]n ┆ [\"c1c[nH]n ┆ []        ┆ []        │\n",
       "│     ┆ em.rdchem. ┆ n1\", \"c1cn ┆ nn1\", \"c1c ┆   ┆ n1\", \"c1cn ┆ n1\", \"c1cn ┆           ┆           │\n",
       "│     ┆ Mol object ┆ [nH]n1\"]   ┆ n[nH]n1\"], ┆   ┆ [nH]n1\"]   ┆ [nH]n1\"]   ┆           ┆           │\n",
       "│     ┆ a…         ┆            ┆ […         ┆   ┆            ┆            ┆           ┆           │\n",
       "│ 3   ┆ [<rdkit.Ch ┆ [\"Cc1cc[nH ┆ [[\"Cc1cc[n ┆ … ┆ [\"Cc1cc[nH ┆ [\"C=C1C=CN ┆ []        ┆ []        │\n",
       "│     ┆ em.rdchem. ┆ ]n1\", \"Cc1 ┆ H]n1\", \"Cc ┆   ┆ ]n1\", \"Cc1 ┆ N1\", \"C=C1 ┆           ┆           │\n",
       "│     ┆ Mol object ┆ ccn[nH]1\"] ┆ 1ccn[nH]1\" ┆   ┆ ccn[nH]1\"] ┆ CC=NN1\", … ┆           ┆           │\n",
       "│     ┆ a…         ┆            ┆ ],…        ┆   ┆            ┆ \"…         ┆           ┆           │\n",
       "└─────┴────────────┴────────────┴────────────┴───┴────────────┴────────────┴───────────┴───────────┘"
      ]
     },
     "execution_count": 50,
     "metadata": {},
     "output_type": "execute_result"
    }
   ],
   "source": [
    "# For each tautomers column, created a flattened column to merge same canonical SMILES\n",
    "\n",
    "# List of columns with tautomers\n",
    "tauts_columns = [col for col in df_melted_aggregated.columns if col.startswith('tauts')]\n",
    "print(tauts_columns)\n",
    "for tauts_column in tauts_columns:\n",
    "    print(tauts_column)\n",
    "    df_melted_aggregated = df_melted_aggregated.with_columns(\n",
    "        [\n",
    "            pl.col(tauts_column).map_elements(lambda m: list(set([item for row in m for item in row]))).alias(f\"flat_{tauts_column}\"),\n",
    "        ]\n",
    "    )\n",
    "df_melted_aggregated.head(3)"
   ]
  },
  {
   "cell_type": "code",
   "execution_count": 51,
   "metadata": {},
   "outputs": [
    {
     "name": "stdout",
     "output_type": "stream",
     "text": [
      "flat_tauts_columns=['flat_tautsExpt', 'flat_tautsTautomerEnumerator', 'flat_tautsGetV1TautomerEnumerator', 'flat_tautsCACTVS', 'flat_tautsNIH']\n"
     ]
    },
    {
     "data": {
      "text/html": [
       "<div><style>\n",
       ".dataframe > thead > tr > th,\n",
       ".dataframe > tbody > tr > td {\n",
       "  text-align: right;\n",
       "  white-space: pre-wrap;\n",
       "}\n",
       "</style>\n",
       "<small>shape: (1, 17)</small><table border=\"1\" class=\"dataframe\"><thead><tr><th>Ref</th><th>mol</th><th>flat_tautsExpt</th><th>tautsTautomerEnumerator</th><th>tautsGetV1TautomerEnumerator</th><th>tautCACTVS</th><th>tautsCACTVS</th><th>tautsNIH</th><th>flat_tautsTautomerEnumerator</th><th>flat_tautsGetV1TautomerEnumerator</th><th>flat_tautsCACTVS</th><th>flat_tautsNIH</th><th>n_tautsExpt</th><th>n_tautsTautomerEnumerator</th><th>n_tautsGetV1TautomerEnumerator</th><th>n_tautsCACTVS</th><th>n_tautsNIH</th></tr><tr><td>i64</td><td>list[extension]</td><td>list[str]</td><td>list[list[str]]</td><td>list[list[str]]</td><td>list[list[str]]</td><td>list[list[str]]</td><td>list[list[str]]</td><td>list[str]</td><td>list[str]</td><td>list[str]</td><td>list[str]</td><td>i64</td><td>i64</td><td>i64</td><td>i64</td><td>i64</td></tr></thead><tbody><tr><td>1</td><td>[&lt;rdkit.Chem.rdchem.Mol object at 0x179c83300&gt;, &lt;rdkit.Chem.rdchem.Mol object at 0x179cd7370&gt;]</td><td>[&quot;CC(=O)/C=C(/C)O&quot;, &quot;CC(=O)CC(C)=O&quot;]</td><td>[[&quot;C=C(O)C=C(C)O&quot;, &quot;C=C(O)CC(C)=O&quot;, … &quot;C=C(O)CC(=C)O&quot;], [&quot;C=C(O)C=C(C)O&quot;, &quot;C=C(O)CC(C)=O&quot;, … &quot;C=C(O)CC(=C)O&quot;]]</td><td>[[&quot;C=C(O)C=C(C)O&quot;, &quot;C=C(O)CC(C)=O&quot;, … &quot;C=C(O)CC(=C)O&quot;], [&quot;C=C(O)C=C(C)O&quot;, &quot;C=C(O)CC(C)=O&quot;, … &quot;C=C(O)CC(=C)O&quot;]]</td><td>[null, null]</td><td>[[], []]</td><td>[[], []]</td><td>[&quot;C=C(O)C=C(C)O&quot;, &quot;C=C(O)CC(C)=O&quot;, … &quot;C=C(O)CC(=C)O&quot;]</td><td>[&quot;C=C(O)C=C(C)O&quot;, &quot;C=C(O)CC(C)=O&quot;, … &quot;C=C(O)CC(=C)O&quot;]</td><td>[]</td><td>[]</td><td>2</td><td>5</td><td>5</td><td>0</td><td>0</td></tr></tbody></table></div>"
      ],
      "text/plain": [
       "shape: (1, 17)\n",
       "┌─────┬────────────┬────────────┬────────────┬───┬────────────┬────────────┬───────────┬───────────┐\n",
       "│ Ref ┆ mol        ┆ flat_tauts ┆ tautsTauto ┆ … ┆ n_tautsTau ┆ n_tautsGet ┆ n_tautsCA ┆ n_tautsNI │\n",
       "│ --- ┆ ---        ┆ Expt       ┆ merEnumera ┆   ┆ tomerEnume ┆ V1Tautomer ┆ CTVS      ┆ H         │\n",
       "│ i64 ┆ list[exten ┆ ---        ┆ tor        ┆   ┆ rator      ┆ Enumerator ┆ ---       ┆ ---       │\n",
       "│     ┆ sion]      ┆ list[str]  ┆ ---        ┆   ┆ ---        ┆ ---        ┆ i64       ┆ i64       │\n",
       "│     ┆            ┆            ┆ list[list[ ┆   ┆ i64        ┆ i64        ┆           ┆           │\n",
       "│     ┆            ┆            ┆ str]]      ┆   ┆            ┆            ┆           ┆           │\n",
       "╞═════╪════════════╪════════════╪════════════╪═══╪════════════╪════════════╪═══════════╪═══════════╡\n",
       "│ 1   ┆ [<rdkit.Ch ┆ [\"CC(=O)/C ┆ [[\"C=C(O)C ┆ … ┆ 5          ┆ 5          ┆ 0         ┆ 0         │\n",
       "│     ┆ em.rdchem. ┆ =C(/C)O\",  ┆ =C(C)O\",   ┆   ┆            ┆            ┆           ┆           │\n",
       "│     ┆ Mol object ┆ \"CC(=O)CC( ┆ \"C=C(O)CC( ┆   ┆            ┆            ┆           ┆           │\n",
       "│     ┆ a…         ┆ C)…        ┆ C)=…       ┆   ┆            ┆            ┆           ┆           │\n",
       "└─────┴────────────┴────────────┴────────────┴───┴────────────┴────────────┴───────────┴───────────┘"
      ]
     },
     "execution_count": 51,
     "metadata": {},
     "output_type": "execute_result"
    }
   ],
   "source": [
    "# Add tautomer counts\n",
    "\n",
    "# Rename canon_sml to flat_tautsExpt for consist column name format\n",
    "df_melted_aggregated = df_melted_aggregated.rename({\"canon_sml\": \"flat_tautsExpt\"})\n",
    "\n",
    "# Create list of flat tautomer columns\n",
    "flat_tauts_columns = [col for col in df_melted_aggregated.columns if col.startswith('flat_tauts')]\n",
    "print(f\"{flat_tauts_columns=}\")\n",
    "# Add tautomers from Tautomer database\n",
    "# flat_tauts_columns.append(\"canon_sml\")\n",
    "for flat_tauts_column in flat_tauts_columns:\n",
    "    df_melted_aggregated = df_melted_aggregated.with_columns(\n",
    "        [\n",
    "            pl.col(flat_tauts_column).map_elements(lambda t: len(t)).alias(\"n_\" + flat_tauts_column.replace(\"flat_\", \"\")),\n",
    "        ]\n",
    "    )\n",
    "df_melted_aggregated.head(1)\n",
    "# df_melted_aggregated.drop([\"tautsNIH\",\"tautsTautomerEnumerator\", \"tautsGetV1TautomerEnumerator\"])\\\n",
    "    # .filter(pl.col(\"n_canon_sml\") > 4)"
   ]
  },
  {
   "cell_type": "code",
   "execution_count": 52,
   "metadata": {},
   "outputs": [],
   "source": [
    "def sets_are_equal(\n",
    "    *iterables: Iterable,\n",
    ") -> bool:\n",
    "    \"\"\"Check whether multiple iterables are equal as sets:\n",
    "    For example [1, 1, 2] and {2, 1} are equal because both are {1, 2} as sets\n",
    "    \n",
    "    :param *iterables: the several iterables (can be lists, tuples, sets, etc.)\n",
    "    :returns: True if all the iterables are equal; False if not\n",
    "    \"\"\"\n",
    "    if len(iterables) < 2:\n",
    "        return True\n",
    "\n",
    "    # Convert iterables into sets\n",
    "    iterables_list = [iterable for iterable in iterables]\n",
    "    sets_list = [set(iterable) for iterable in iterables_list]\n",
    "\n",
    "    # Get the keys of the first dictionary in the list\n",
    "    reference_set = sets_list[0]\n",
    "\n",
    "    # Iterate through the sets starting from the second one\n",
    "    for this_set in sets_list[1:]:\n",
    "        # Check if each set matches the reference set\n",
    "        if this_set != reference_set:\n",
    "            # Return False if keys are not the same\n",
    "            return False\n",
    "    # Return True if all dictionaries have the same keys\n",
    "    return True"
   ]
  },
  {
   "cell_type": "code",
   "execution_count": 53,
   "metadata": {},
   "outputs": [],
   "source": [
    "# List sources, and the sources to compare to the first source\n",
    "sources = {\n",
    "    \"TautomerEnumerator\": \"baseline\",\n",
    "    \"GetV1TautomerEnumerator\": \"all\",\n",
    "    \"NIH\": \"manual\",\n",
    "    \"CACTVS\": \"manual\",\n",
    "    \"Expt\": \"all\",\n",
    "}\n",
    "sources_compare = {source:kind for source, kind in sources.items() if kind != \"baseline\"}"
   ]
  },
  {
   "cell_type": "code",
   "execution_count": 54,
   "metadata": {},
   "outputs": [
    {
     "data": {
      "text/html": [
       "<div><style>\n",
       ".dataframe > thead > tr > th,\n",
       ".dataframe > tbody > tr > td {\n",
       "  text-align: right;\n",
       "  white-space: pre-wrap;\n",
       "}\n",
       "</style>\n",
       "<small>shape: (12, 4)</small><table border=\"1\" class=\"dataframe\"><thead><tr><th>Ref</th><th>flat_tautsExpt</th><th>n_tautsTautomerEnumerator</th><th>n_tauts_diffGetV1TautomerEnumerator</th></tr><tr><td>i64</td><td>list[str]</td><td>i64</td><td>i64</td></tr></thead><tbody><tr><td>457</td><td>[&quot;[2H]Oc1ccc(-c2oc3c([2H])c(O[2H])c(OC)c(=O)c-3c(O[2H])c2O[2H])cc1O[2H]&quot;, &quot;[2H]Oc1ccc(-c2oc3c([2H])c(O[2H])c(OC)c(O[2H])c3c(=O)c2O[2H])cc1O[2H]&quot;]</td><td>851</td><td>-22</td></tr><tr><td>465</td><td>[&quot;O=c1c(O)c(-c2ccc(O)cc2O)oc2cc(O)cc(O)c12&quot;, &quot;O=c1cc(O)cc2oc(-c3ccc(O)cc3O)c(O)c(O)c1-2&quot;]</td><td>322</td><td>-76</td></tr><tr><td>466</td><td>[&quot;O=c1c(O)c(-c2cc(O)c(O)c(O)c2)oc2cc(O)cc(O)c12&quot;, &quot;O=c1cc(O)cc2oc(-c3cc(O)c(O)c(O)c3)c(O)c(O)c1-2&quot;]</td><td>431</td><td>41</td></tr><tr><td>467</td><td>[&quot;O=c1c(O)c(-c2ccc(O)c(O)c2)oc2cc(O)cc(O)c12&quot;, &quot;O=c1cc(O)cc2oc(-c3ccc(O)c(O)c3)c(O)c(O)c1-2&quot;]</td><td>346</td><td>-1</td></tr><tr><td>853</td><td>[&quot;CCC1=C(O)C(=O)c2c(O)c(OC)c(CC)c(O)c2C1=O&quot;, &quot;CCC1=C(OC)C(=O)c2c(O)c(O)c(CC)c(O)c2C1=O&quot;]</td><td>464</td><td>-109</td></tr><tr><td>861</td><td>[&quot;CCC1=C(O)C(=O)c2c(O)c(O)c(Cl)c(O)c2C1=O&quot;, &quot;CCc1c(O)c(O)c2c(c1O)C(=O)C(Cl)=C(O)C2=O&quot;]</td><td>335</td><td>27</td></tr><tr><td>862</td><td>[&quot;CCC1=C(O)C(=O)c2c(O)c(Cl)c(O)c(O)c2C1=O&quot;, &quot;CCc1c(O)c(O)c2c(c1O)C(=O)C(O)=C(Cl)C2=O&quot;]</td><td>310</td><td>-61</td></tr><tr><td>885</td><td>[&quot;COc1c(O)c2c(=O)cc(OC)c3c4c(OC)cc(=O)c5c(O)c(OC)c6c(c(c1[C@@H](C(C)=O)[C@@H]6C(C)=O)c23)c54&quot;, &quot;COc1c2c3c4c(c(OC)c(=O)c5c(O)cc(OC)c(c6c(OC)cc(O)c(c1=O)c63)c54)[C@@H](C(C)=O)[C@@H]2C(C)=O&quot;]</td><td>361</td><td>-92</td></tr><tr><td>886</td><td>[&quot;COc1c(O)c2c(=O)cc(OC)c3c4c(OC)cc(=O)c5c(O)c(OC)c6c(c(c1[C@@H]([C@H](C)O)[C@@H]6C(C)=O)c23)c54&quot;, &quot;COc1c2c3c4c(c(OC)c(=O)c5c(O)cc(OC)c(c6c(OC)cc(O)c(c1=O)c63)c54)[C@@H](C(C)=O)[C@@H]2[C@H](C)O&quot;]</td><td>380</td><td>-37</td></tr><tr><td>887</td><td>[&quot;COc1c(O)c2c(=O)cc(OC)c3c4c(OC)cc(=O)c5c(O)c(OC)c6c(c(c1[C@@H]([C@@H](C)O)[C@@H]6C(C)=O)c23)c54&quot;, &quot;COc1c2c3c4c(c(OC)c(=O)c5c(O)cc(OC)c(c6c(OC)cc(O)c(c1=O)c63)c54)[C@@H](C(C)=O)[C@@H]2[C@@H](C)O&quot;]</td><td>399</td><td>-200</td></tr><tr><td>890</td><td>[&quot;COc1c(C[C@@H](C)OC(=O)c2ccccc2)c2c3c(C[C@H](C)OC(=O)c4ccc(O)cc4)c(OC)c(=O)c4c(O)cc(OC)c(c5c(OC)cc(O)c(c1=O)c52)c43&quot;, &quot;COc1c(O)c2c(=O)cc(OC)c3c4c(OC)cc(=O)c5c(O)c(OC)c(C[C@H](C)OC(=O)c6ccc(O)cc6)c(c(c1C[C@@H](C)OC(=O)c1ccccc1)c23)c54&quot;]</td><td>365</td><td>305</td></tr><tr><td>891</td><td>[&quot;COc1c(O)c2c(=O)cc(OC)c3c4c(OC)cc(=O)c5c(O)c(OC)c6c(c(c1CC(C)(O)[C@H]6C(C)=O)c23)c54&quot;, &quot;COc1c2c3c4c(c(OC)c(=O)c5c(O)cc(OC)c(c6c(OC)cc(O)c(c1=O)c63)c54)[C@H](C(C)=O)C(C)(O)C2&quot;]</td><td>350</td><td>1</td></tr></tbody></table></div>"
      ],
      "text/plain": [
       "shape: (12, 4)\n",
       "┌─────┬────────────────────────────────┬───────────────────────────┬───────────────────────────────┐\n",
       "│ Ref ┆ flat_tautsExpt                 ┆ n_tautsTautomerEnumerator ┆ n_tauts_diffGetV1TautomerEnum │\n",
       "│ --- ┆ ---                            ┆ ---                       ┆ era…                          │\n",
       "│ i64 ┆ list[str]                      ┆ i64                       ┆ ---                           │\n",
       "│     ┆                                ┆                           ┆ i64                           │\n",
       "╞═════╪════════════════════════════════╪═══════════════════════════╪═══════════════════════════════╡\n",
       "│ 457 ┆ [\"[2H]Oc1ccc(-c2oc3c([2H])c(O[ ┆ 851                       ┆ -22                           │\n",
       "│     ┆ 2H…                            ┆                           ┆                               │\n",
       "│ 465 ┆ [\"O=c1c(O)c(-c2ccc(O)cc2O)oc2c ┆ 322                       ┆ -76                           │\n",
       "│     ┆ c(…                            ┆                           ┆                               │\n",
       "│ 466 ┆ [\"O=c1c(O)c(-c2cc(O)c(O)c(O)c2 ┆ 431                       ┆ 41                            │\n",
       "│     ┆ )o…                            ┆                           ┆                               │\n",
       "│ 467 ┆ [\"O=c1c(O)c(-c2ccc(O)c(O)c2)oc ┆ 346                       ┆ -1                            │\n",
       "│     ┆ 2c…                            ┆                           ┆                               │\n",
       "│ …   ┆ …                              ┆ …                         ┆ …                             │\n",
       "│ 886 ┆ [\"COc1c(O)c2c(=O)cc(OC)c3c4c(O ┆ 380                       ┆ -37                           │\n",
       "│     ┆ C)…                            ┆                           ┆                               │\n",
       "│ 887 ┆ [\"COc1c(O)c2c(=O)cc(OC)c3c4c(O ┆ 399                       ┆ -200                          │\n",
       "│     ┆ C)…                            ┆                           ┆                               │\n",
       "│ 890 ┆ [\"COc1c(C[C@@H](C)OC(=O)c2cccc ┆ 365                       ┆ 305                           │\n",
       "│     ┆ c2…                            ┆                           ┆                               │\n",
       "│ 891 ┆ [\"COc1c(O)c2c(=O)cc(OC)c3c4c(O ┆ 350                       ┆ 1                             │\n",
       "│     ┆ C)…                            ┆                           ┆                               │\n",
       "└─────┴────────────────────────────────┴───────────────────────────┴───────────────────────────────┘"
      ]
     },
     "execution_count": 54,
     "metadata": {},
     "output_type": "execute_result"
    }
   ],
   "source": [
    "# Check if sets of tautomers are the same for different sources (algorithms and experimental)\n",
    "for source in sources_compare.keys():\n",
    "    df_melted_aggregated = df_melted_aggregated.with_columns(\n",
    "        [\n",
    "            # Check if different algos produce same set of tautomers\n",
    "            pl.struct([\"flat_tautsTautomerEnumerator\", f\"flat_tauts{source}\"]).\n",
    "            map_elements(lambda x: sets_are_equal(x[\"flat_tautsTautomerEnumerator\"], x[f\"flat_tauts{source}\"]))\n",
    "            .alias(f\"tauts_same{source}\"),\n",
    "\n",
    "            # Calculate difference in number of tautomers between algos\n",
    "            pl.when(pl.col(f\"n_tauts{source}\") == 0)\n",
    "            # If n_tauts for this source is null, set its n_tauts_diff to null so that difference is calculated only when source has data\n",
    "            .then(None)\n",
    "            .otherwise(\n",
    "                pl.struct([\"n_tautsTautomerEnumerator\", f\"n_tauts{source}\"]).\n",
    "                map_elements(lambda x: x[\"n_tautsTautomerEnumerator\"] - x[f\"n_tauts{source}\"])\n",
    "            )\n",
    "            .alias(f\"n_tauts_diff{source}\"),\n",
    "        ]\n",
    "    )\n",
    "# df_melted_aggregated.filter(abs(pl.col(\"n_tauts_diffGetV1TautomerEnumerator\")) > 300)\n",
    "df_melted_aggregated.filter(abs(pl.col(\"n_tautsTautomerEnumerator\")) > 300).select([\"Ref\", \"flat_tautsExpt\", \"n_tautsTautomerEnumerator\", \"n_tauts_diffGetV1TautomerEnumerator\"])"
   ]
  },
  {
   "cell_type": "markdown",
   "metadata": {},
   "source": [
    "Hi"
   ]
  },
  {
   "cell_type": "code",
   "execution_count": 55,
   "metadata": {},
   "outputs": [
    {
     "data": {
      "text/html": [
       "<div><style>\n",
       ".dataframe > thead > tr > th,\n",
       ".dataframe > tbody > tr > td {\n",
       "  text-align: right;\n",
       "  white-space: pre-wrap;\n",
       "}\n",
       "</style>\n",
       "<small>shape: (94, 22)</small><table border=\"1\" class=\"dataframe\"><thead><tr><th>Ref</th><th>flat_tautsExpt</th><th>tautCACTVS</th><th>tautsCACTVS</th><th>tautsNIH</th><th>flat_tautsTautomerEnumerator</th><th>flat_tautsGetV1TautomerEnumerator</th><th>flat_tautsCACTVS</th><th>flat_tautsNIH</th><th>n_tautsExpt</th><th>n_tautsTautomerEnumerator</th><th>n_tautsGetV1TautomerEnumerator</th><th>n_tautsCACTVS</th><th>n_tautsNIH</th><th>tauts_sameGetV1TautomerEnumerator</th><th>n_tauts_diffGetV1TautomerEnumerator</th><th>tauts_sameNIH</th><th>n_tauts_diffNIH</th><th>tauts_sameCACTVS</th><th>n_tauts_diffCACTVS</th><th>tauts_sameExpt</th><th>n_tauts_diffExpt</th></tr><tr><td>i64</td><td>list[str]</td><td>list[list[str]]</td><td>list[list[str]]</td><td>list[list[str]]</td><td>list[str]</td><td>list[str]</td><td>list[str]</td><td>list[str]</td><td>i64</td><td>i64</td><td>i64</td><td>i64</td><td>i64</td><td>bool</td><td>i64</td><td>bool</td><td>i64</td><td>bool</td><td>i64</td><td>bool</td><td>i64</td></tr></thead><tbody><tr><td>29</td><td>[&quot;N=c1cccccc1O&quot;, &quot;Nc1cccccc1=O&quot;]</td><td>[null, null]</td><td>[[], []]</td><td>[[], []]</td><td>[&quot;Nc1cccccc1=O&quot;, &quot;N=c1cccccc1O&quot;, &quot;N=C1C=CC=CCC1=O&quot;]</td><td>[&quot;Nc1cccccc1=O&quot;, &quot;N=c1cccccc1O&quot;]</td><td>[]</td><td>[]</td><td>2</td><td>3</td><td>2</td><td>0</td><td>0</td><td>false</td><td>1</td><td>false</td><td>null</td><td>false</td><td>null</td><td>false</td><td>1</td></tr><tr><td>30</td><td>[&quot;O=c1cccccc1Nc1ccccc1&quot;, &quot;Oc1ccccc/c1=N\\c1ccccc1&quot;]</td><td>[null, null]</td><td>[[], []]</td><td>[[], []]</td><td>[&quot;O=C1CC=CC=CC1=Nc1ccccc1&quot;, &quot;Oc1cccccc1=Nc1ccccc1&quot;, &quot;O=c1cccccc1Nc1ccccc1&quot;]</td><td>[&quot;Oc1cccccc1=Nc1ccccc1&quot;, &quot;O=c1cccccc1Nc1ccccc1&quot;]</td><td>[]</td><td>[]</td><td>2</td><td>3</td><td>2</td><td>0</td><td>0</td><td>false</td><td>1</td><td>false</td><td>null</td><td>false</td><td>null</td><td>false</td><td>1</td></tr><tr><td>31</td><td>[&quot;O=c1cccccc1Nc1ccc(Br)cc1&quot;, &quot;Oc1ccccc/c1=N\\c1ccc(Br)cc1&quot;]</td><td>[null, null]</td><td>[[], []]</td><td>[[], []]</td><td>[&quot;Oc1cccccc1=Nc1ccc(Br)cc1&quot;, &quot;O=c1cccccc1Nc1ccc(Br)cc1&quot;, &quot;O=C1CC=CC=CC1=Nc1ccc(Br)cc1&quot;]</td><td>[&quot;Oc1cccccc1=Nc1ccc(Br)cc1&quot;, &quot;O=c1cccccc1Nc1ccc(Br)cc1&quot;]</td><td>[]</td><td>[]</td><td>2</td><td>3</td><td>2</td><td>0</td><td>0</td><td>false</td><td>1</td><td>false</td><td>null</td><td>false</td><td>null</td><td>false</td><td>1</td></tr><tr><td>32</td><td>[&quot;O=c1cccccc1Nc1ccc(Cl)cc1&quot;, &quot;Oc1ccccc/c1=N\\c1ccc(Cl)cc1&quot;]</td><td>[null, null]</td><td>[[], []]</td><td>[[], []]</td><td>[&quot;O=c1cccccc1Nc1ccc(Cl)cc1&quot;, &quot;Oc1cccccc1=Nc1ccc(Cl)cc1&quot;, &quot;O=C1CC=CC=CC1=Nc1ccc(Cl)cc1&quot;]</td><td>[&quot;O=c1cccccc1Nc1ccc(Cl)cc1&quot;, &quot;Oc1cccccc1=Nc1ccc(Cl)cc1&quot;]</td><td>[]</td><td>[]</td><td>2</td><td>3</td><td>2</td><td>0</td><td>0</td><td>false</td><td>1</td><td>false</td><td>null</td><td>false</td><td>null</td><td>false</td><td>1</td></tr><tr><td>33</td><td>[&quot;O=c1cccccc1Nn1cccc1&quot;, &quot;Oc1ccccc/c1=N\\n1cccc1&quot;]</td><td>[null, null]</td><td>[[], []]</td><td>[[], []]</td><td>[&quot;Oc1cccccc1=Nn1cccc1&quot;, &quot;O=C1CC=CC=CC1=Nn1cccc1&quot;, &quot;O=c1cccccc1Nn1cccc1&quot;]</td><td>[&quot;Oc1cccccc1=Nn1cccc1&quot;, &quot;O=c1cccccc1Nn1cccc1&quot;]</td><td>[]</td><td>[]</td><td>2</td><td>3</td><td>2</td><td>0</td><td>0</td><td>false</td><td>1</td><td>false</td><td>null</td><td>false</td><td>null</td><td>false</td><td>1</td></tr><tr><td>34</td><td>[&quot;O=c1cccccc1Nn1cncn1&quot;, &quot;Oc1ccccc/c1=N\\n1cncn1&quot;]</td><td>[null, null]</td><td>[[], []]</td><td>[[], []]</td><td>[&quot;Oc1cccccc1=Nn1cncn1&quot;, &quot;O=C1CC=CC=CC1=Nn1cncn1&quot;, &quot;O=c1cccccc1Nn1cncn1&quot;]</td><td>[&quot;Oc1cccccc1=Nn1cncn1&quot;, &quot;O=c1cccccc1Nn1cncn1&quot;]</td><td>[]</td><td>[]</td><td>2</td><td>3</td><td>2</td><td>0</td><td>0</td><td>false</td><td>1</td><td>false</td><td>null</td><td>false</td><td>null</td><td>false</td><td>1</td></tr><tr><td>35</td><td>[&quot;O=c1cccccc1O&quot;]</td><td>[null]</td><td>[[]]</td><td>[[]]</td><td>[&quot;O=C1C=CC=CCC1=O&quot;, &quot;O=c1cccccc1O&quot;]</td><td>[&quot;O=c1cccccc1O&quot;]</td><td>[]</td><td>[]</td><td>1</td><td>2</td><td>1</td><td>0</td><td>0</td><td>false</td><td>1</td><td>false</td><td>null</td><td>false</td><td>null</td><td>false</td><td>1</td></tr><tr><td>62</td><td>[&quot;C1=C(c2ccccc2)NN=C(c2ccccc2)C1&quot;, &quot;c1ccc(C2=NN=C(c3ccccc3)CC2)cc1&quot;]</td><td>[null, null]</td><td>[[], []]</td><td>[[], []]</td><td>[&quot;C1=C(c2ccccc2)NN=C(c2ccccc2)C1&quot;, &quot;c1ccc(C2=NN=C(c3ccccc3)CC2)cc1&quot;]</td><td>[&quot;C1=C(c2ccccc2)NN=C(c2ccccc2)C1&quot;, &quot;C1=C(c2ccccc2)NNC(c2ccccc2)=C1&quot;, &quot;c1ccc(C2=NN=C(c3ccccc3)CC2)cc1&quot;]</td><td>[]</td><td>[]</td><td>2</td><td>2</td><td>3</td><td>0</td><td>0</td><td>false</td><td>-1</td><td>false</td><td>null</td><td>false</td><td>null</td><td>true</td><td>0</td></tr><tr><td>71</td><td>[&quot;C1=C(c2ccccc2)N=C(c2ccccc2)NC1(c1ccccc1)c1ccccc1&quot;, &quot;C1=C(c2ccccc2)NC(c2ccccc2)=NC1(c1ccccc1)c1ccccc1&quot;]</td><td>[null, null]</td><td>[[], []]</td><td>[[], []]</td><td>[&quot;C1=C(c2ccccc2)NC(c2ccccc2)=NC1(c1ccccc1)c1ccccc1&quot;, &quot;C1=C(c2ccccc2)N=C(c2ccccc2)NC1(c1ccccc1)c1ccccc1&quot;]</td><td>[&quot;c1ccc(C2=NC(c3ccccc3)=NC(c3ccccc3)(c3ccccc3)C2)cc1&quot;, &quot;C1=C(c2ccccc2)NC(c2ccccc2)=NC1(c1ccccc1)c1ccccc1&quot;, &quot;C1=C(c2ccccc2)N=C(c2ccccc2)NC1(c1ccccc1)c1ccccc1&quot;]</td><td>[]</td><td>[]</td><td>2</td><td>2</td><td>3</td><td>0</td><td>0</td><td>false</td><td>-1</td><td>false</td><td>null</td><td>false</td><td>null</td><td>true</td><td>0</td></tr><tr><td>72</td><td>[&quot;C1=CN=C(c2ccccc2)NC1&quot;, &quot;C1=CNC(c2ccccc2)=NC1&quot;]</td><td>[null, null]</td><td>[[], []]</td><td>[[], []]</td><td>[&quot;C1=CN=C(c2ccccc2)NC1&quot;, &quot;C1=CNC(c2ccccc2)=NC1&quot;]</td><td>[&quot;C1=NC(c2ccccc2)=NCC1&quot;, &quot;C1=CN=C(c2ccccc2)NC1&quot;, &quot;C1=CNC(c2ccccc2)=NC1&quot;]</td><td>[]</td><td>[]</td><td>2</td><td>2</td><td>3</td><td>0</td><td>0</td><td>false</td><td>-1</td><td>false</td><td>null</td><td>false</td><td>null</td><td>true</td><td>0</td></tr><tr><td>85</td><td>[&quot;CC1=NC(C)(C)C2CC[C@@H](C)CC2(O)N1&quot;, &quot;CC1=NC2(O)C[C@H](C)CCC2C(C)(C)N1&quot;]</td><td>[null, null]</td><td>[[], []]</td><td>[[], []]</td><td>[&quot;CC1=NC(C)(C)C2CC[C@@H](C)CC2(O)N1&quot;, &quot;CC1=NC2(O)C[C@H](C)CCC2C(C)(C)N1&quot;]</td><td>[&quot;CC1=NC(C)(C)C2CC[C@@H](C)CC2(O)N1&quot;, &quot;CC1=NC2(O)C[C@H](C)CCC2C(C)(C)N1&quot;, &quot;C=C1NC(C)(C)C2CC[C@@H](C)CC2(O)N1&quot;]</td><td>[]</td><td>[]</td><td>2</td><td>2</td><td>3</td><td>0</td><td>0</td><td>false</td><td>-1</td><td>false</td><td>null</td><td>false</td><td>null</td><td>true</td><td>0</td></tr><tr><td>98</td><td>[&quot;C1=CNOCN1&quot;, &quot;C1=NOCNC1&quot;]</td><td>[null, null]</td><td>[[], []]</td><td>[[], []]</td><td>[&quot;C1=CNOCN1&quot;, &quot;C1=NOCNC1&quot;]</td><td>[&quot;C1=CNOCN1&quot;, &quot;C1=NOCNC1&quot;, &quot;C1=NCONC1&quot;]</td><td>[]</td><td>[]</td><td>2</td><td>2</td><td>3</td><td>0</td><td>0</td><td>false</td><td>-1</td><td>false</td><td>null</td><td>false</td><td>null</td><td>true</td><td>0</td></tr><tr><td>&hellip;</td><td>&hellip;</td><td>&hellip;</td><td>&hellip;</td><td>&hellip;</td><td>&hellip;</td><td>&hellip;</td><td>&hellip;</td><td>&hellip;</td><td>&hellip;</td><td>&hellip;</td><td>&hellip;</td><td>&hellip;</td><td>&hellip;</td><td>&hellip;</td><td>&hellip;</td><td>&hellip;</td><td>&hellip;</td><td>&hellip;</td><td>&hellip;</td><td>&hellip;</td><td>&hellip;</td></tr><tr><td>1512</td><td>[&quot;CCP(CC)(=Nc1cc(C(c2ccccc2)(c2ccccc2)c2ccccc2)cc(C(C)(C)C)c1O)c1ccccc1&quot;, &quot;CCP1(CC)(c2ccccc2)Nc2cc(C(c3ccccc3)(c3ccccc3)c3ccccc3)cc(C(C)(C)C)c2O1&quot;]</td><td>[[&quot;CC[P](CC)(=NC1=C(C(=CC(=C1)C(C2=CC=CC=C2)(C3=CC=CC=C3)C4=CC=CC=C4)C(C)(C)C)O)C5=CC=CC=C5&quot;], [&quot;CC[P]6(CC)(C1=CC=CC=C1)NC2=C(C(=CC(=C2)C(C3=CC=CC=C3)(C4=CC=CC=C4)C5=CC=CC=C5)C(C)(C)C)O6&quot;, &quot;CC[P]6(CC)(C1=CC=CC=C1)NC2=C(C(=CC(=C2)C(C3=CC=CC=C3)(C4=CC=CC=C4)C5=CC=CC=C5)C(C)(C)C)O6&quot;, … &quot;CC=[P](CC)(C1=CC=CC=C1)N=C2CC(=CC(=C2O)C(C)(C)C)C(C3=CC=CC=C3)(C4=CC=CC=C4)C5=CC=CC=C5&quot;]]</td><td>[[&quot;CCP(CC)(=Nc1cc(C(c2ccccc2)(c2ccccc2)c2ccccc2)cc(C(C)(C)C)c1O)c1ccccc1&quot;], [&quot;CC=P(CC)(NC1C=C(C(c2ccccc2)(c2ccccc2)c2ccccc2)C=C(C(C)(C)C)C1=O)c1ccccc1&quot;, &quot;CCP(CC)(=Nc1cc(C(c2ccccc2)(c2ccccc2)c2ccccc2)cc(C(C)(C)C)c1O)c1ccccc1&quot;, … &quot;CCP1(CC)(c2ccccc2)N=C2CC(C(c3ccccc3)(c3ccccc3)c3ccccc3)=CC(C(C)(C)C)=C2O1&quot;]]</td><td>[[&quot;CC=P(CC)(NC1C=C(C(c2ccccc2)(c2ccccc2)c2ccccc2)C=C(C(C)(C)C)C1=O)c1ccccc1&quot;, &quot;CCP(CC)(=NC1C=C(C(c2ccccc2)(c2ccccc2)c2ccccc2)C=C(C(C)(C)C)C1=O)c1ccccc1&quot;, … &quot;CC=P(CC)(Nc1cc(C(c2ccccc2)(c2ccccc2)c2ccccc2)cc(C(C)(C)C)c1O)c1ccccc1&quot;], [&quot;CCP1(CC)(c2ccccc2)N=C2C=C(C(c3ccccc3)(c3ccccc3)c3ccccc3)C=C(C(C)(C)C)C2O1&quot;, &quot;CCP(CC)(=Nc1cc(C(c2ccccc2)(c2ccccc2)c2ccccc2)cc(C(C)(C)C)c1O)c1ccccc1&quot;, &quot;CCP1(CC)(c2ccccc2)N=C2CC(C(c3ccccc3)(c3ccccc3)c3ccccc3)=CC(C(C)(C)C)=C2O1&quot;]]</td><td>[&quot;CCP(CC)(=Nc1cc(C(c2ccccc2)(c2ccccc2)c2ccccc2)cc(C(C)(C)C)c1O)c1ccccc1&quot;, &quot;CCP1(CC)(c2ccccc2)Nc2cc(C(c3ccccc3)(c3ccccc3)c3ccccc3)cc(C(C)(C)C)c2O1&quot;, &quot;CCP(CC)(=NC1C=C(C(c2ccccc2)(c2ccccc2)c2ccccc2)C=C(C(C)(C)C)C1=O)c1ccccc1&quot;]</td><td>[&quot;CCP(CC)(=Nc1cc(C(c2ccccc2)(c2ccccc2)c2ccccc2)cc(C(C)(C)C)c1O)c1ccccc1&quot;, &quot;CCP1(CC)(c2ccccc2)Nc2cc(C(c3ccccc3)(c3ccccc3)c3ccccc3)cc(C(C)(C)C)c2O1&quot;]</td><td>[&quot;CC=P(CC)(NC1C=C(C(c2ccccc2)(c2ccccc2)c2ccccc2)C=C(C(C)(C)C)C1=O)c1ccccc1&quot;, &quot;CCP(CC)(=Nc1cc(C(c2ccccc2)(c2ccccc2)c2ccccc2)cc(C(C)(C)C)c1O)c1ccccc1&quot;, … &quot;CCP1(CC)(c2ccccc2)N=C2CC(C(c3ccccc3)(c3ccccc3)c3ccccc3)=CC(C(C)(C)C)=C2O1&quot;]</td><td>[&quot;CC=P(CC)(NC1C=C(C(c2ccccc2)(c2ccccc2)c2ccccc2)C=C(C(C)(C)C)C1=O)c1ccccc1&quot;, &quot;CCP(CC)(=Nc1cc(C(c2ccccc2)(c2ccccc2)c2ccccc2)cc(C(C)(C)C)c1O)c1ccccc1&quot;, … &quot;CCP1(CC)(c2ccccc2)N=C2CC(C(c3ccccc3)(c3ccccc3)c3ccccc3)=CC(C(C)(C)C)=C2O1&quot;]</td><td>2</td><td>3</td><td>2</td><td>14</td><td>8</td><td>false</td><td>1</td><td>false</td><td>-5</td><td>false</td><td>-11</td><td>false</td><td>1</td></tr><tr><td>1513</td><td>[&quot;CCCCc1cc(N=P(c2ccccc2)(c2ccccc2)c2ccccc2)c(O)c(C(C)(C)C)c1&quot;, &quot;CCCCc1cc2c(c(C(C)(C)C)c1)OP(c1ccccc1)(c1ccccc1)(c1ccccc1)N2&quot;]</td><td>[null, null]</td><td>[[], []]</td><td>[[], []]</td><td>[&quot;CCCCc1cc2c(c(C(C)(C)C)c1)OP(c1ccccc1)(c1ccccc1)(c1ccccc1)N2&quot;, &quot;CCCCc1cc(N=P(c2ccccc2)(c2ccccc2)c2ccccc2)c(O)c(C(C)(C)C)c1&quot;, &quot;CCCCC1=CC(N=P(c2ccccc2)(c2ccccc2)c2ccccc2)C(=O)C(C(C)(C)C)=C1&quot;]</td><td>[&quot;CCCCc1cc2c(c(C(C)(C)C)c1)OP(c1ccccc1)(c1ccccc1)(c1ccccc1)N2&quot;, &quot;CCCCc1cc(N=P(c2ccccc2)(c2ccccc2)c2ccccc2)c(O)c(C(C)(C)C)c1&quot;]</td><td>[]</td><td>[]</td><td>2</td><td>3</td><td>2</td><td>0</td><td>0</td><td>false</td><td>1</td><td>false</td><td>null</td><td>false</td><td>null</td><td>false</td><td>1</td></tr><tr><td>1514</td><td>[&quot;CCCCc1cc(N=P(CC)(c2ccccc2)c2ccccc2)c(O)c(C(C)(C)C)c1&quot;, &quot;CCCCc1cc2c(c(C(C)(C)C)c1)OP(CC)(c1ccccc1)(c1ccccc1)N2&quot;]</td><td>[null, null]</td><td>[[], []]</td><td>[[], []]</td><td>[&quot;CCCCC1=CC(N=P(CC)(c2ccccc2)c2ccccc2)C(=O)C(C(C)(C)C)=C1&quot;, &quot;CCCCc1cc2c(c(C(C)(C)C)c1)OP(CC)(c1ccccc1)(c1ccccc1)N2&quot;, &quot;CCCCc1cc(N=P(CC)(c2ccccc2)c2ccccc2)c(O)c(C(C)(C)C)c1&quot;]</td><td>[&quot;CCCCc1cc2c(c(C(C)(C)C)c1)OP(CC)(c1ccccc1)(c1ccccc1)N2&quot;, &quot;CCCCc1cc(N=P(CC)(c2ccccc2)c2ccccc2)c(O)c(C(C)(C)C)c1&quot;]</td><td>[]</td><td>[]</td><td>2</td><td>3</td><td>2</td><td>0</td><td>0</td><td>false</td><td>1</td><td>false</td><td>null</td><td>false</td><td>null</td><td>false</td><td>1</td></tr><tr><td>1622</td><td>[&quot;CCN(CC)/C(=N\\S(=O)(=O)c1ccccc1)C(C)=[N+]=[N-]&quot;, &quot;CCN(CC)c1c(C)nnn1S(=O)(=O)c1ccccc1&quot;]</td><td>[null, null]</td><td>[[], []]</td><td>[[], []]</td><td>[&quot;CCN(CC)c1c(C)nnn1S(=O)(=O)c1ccccc1&quot;, &quot;CCN(CC)/C(=N\\S(=O)(=O)c1ccccc1)C(C)=[N+]=[N-]&quot;]</td><td>[&quot;CCN(CC)c1c(C)nnn1S(=O)(=O)c1ccccc1&quot;, &quot;C=C([NH+]=[N-])/C(=N/S(=O)(=O)c1ccccc1)N(CC)CC&quot;, &quot;CCN(CC)/C(=N\\S(=O)(=O)c1ccccc1)C(C)=[N+]=[N-]&quot;]</td><td>[]</td><td>[]</td><td>2</td><td>2</td><td>3</td><td>0</td><td>0</td><td>false</td><td>-1</td><td>false</td><td>null</td><td>false</td><td>null</td><td>true</td><td>0</td></tr><tr><td>1623</td><td>[&quot;CCN(CC)/C(=N\\S(=O)(=O)c1ccc(OC)cc1)C(C)=[N+]=[N-]&quot;, &quot;CCN(CC)c1c(C)nnn1S(=O)(=O)c1ccc(OC)cc1&quot;]</td><td>[null, null]</td><td>[[], []]</td><td>[[], []]</td><td>[&quot;CCN(CC)c1c(C)nnn1S(=O)(=O)c1ccc(OC)cc1&quot;, &quot;CCN(CC)/C(=N\\S(=O)(=O)c1ccc(OC)cc1)C(C)=[N+]=[N-]&quot;]</td><td>[&quot;CCN(CC)c1c(C)nnn1S(=O)(=O)c1ccc(OC)cc1&quot;, &quot;C=C([NH+]=[N-])/C(=N/S(=O)(=O)c1ccc(OC)cc1)N(CC)CC&quot;, &quot;CCN(CC)/C(=N\\S(=O)(=O)c1ccc(OC)cc1)C(C)=[N+]=[N-]&quot;]</td><td>[]</td><td>[]</td><td>2</td><td>2</td><td>3</td><td>0</td><td>0</td><td>false</td><td>-1</td><td>false</td><td>null</td><td>false</td><td>null</td><td>true</td><td>0</td></tr><tr><td>1624</td><td>[&quot;CCN(CC)/C(=N\\S(=O)(=O)c1ccc(C)cc1)C(C)=[N+]=[N-]&quot;, &quot;CCN(CC)c1c(C)nnn1S(=O)(=O)c1ccc(C)cc1&quot;]</td><td>[null, null]</td><td>[[], []]</td><td>[[], []]</td><td>[&quot;CCN(CC)c1c(C)nnn1S(=O)(=O)c1ccc(C)cc1&quot;, &quot;CCN(CC)/C(=N\\S(=O)(=O)c1ccc(C)cc1)C(C)=[N+]=[N-]&quot;]</td><td>[&quot;CCN(CC)c1c(C)nnn1S(=O)(=O)c1ccc(C)cc1&quot;, &quot;CCN(CC)/C(=N\\S(=O)(=O)c1ccc(C)cc1)C(C)=[N+]=[N-]&quot;, &quot;C=C([NH+]=[N-])/C(=N/S(=O)(=O)c1ccc(C)cc1)N(CC)CC&quot;]</td><td>[]</td><td>[]</td><td>2</td><td>2</td><td>3</td><td>0</td><td>0</td><td>false</td><td>-1</td><td>false</td><td>null</td><td>false</td><td>null</td><td>true</td><td>0</td></tr><tr><td>1626</td><td>[&quot;CC(C)(O)c1ccccc1P1(=O)OC(C)(C)c2ccccc21&quot;, &quot;CC1(C)OP2(O)(OC(C)(C)c3ccccc32)c2ccccc21&quot;]</td><td>[null, null]</td><td>[[], []]</td><td>[[], []]</td><td>[&quot;CC1(C)OP2(O)(OC(C)(C)c3ccccc32)c2ccccc21&quot;, &quot;CC(C)(O)c1ccccc1P1(=O)OC(C)(C)c2ccccc21&quot;]</td><td>[&quot;CC1(C)O[PH]2(=O)(OC(C)(C)c3ccccc32)c2ccccc21&quot;, &quot;CC1(C)OP2(O)(OC(C)(C)c3ccccc32)c2ccccc21&quot;, &quot;CC(C)(O)c1ccccc1P1(=O)OC(C)(C)c2ccccc21&quot;]</td><td>[]</td><td>[]</td><td>2</td><td>2</td><td>3</td><td>0</td><td>0</td><td>false</td><td>-1</td><td>false</td><td>null</td><td>false</td><td>null</td><td>true</td><td>0</td></tr><tr><td>1704</td><td>[&quot;C=c1c(C=O)cc(C)cc1=CO&quot;, &quot;Cc1cc(C=O)c(C)c(C=O)c1&quot;]</td><td>[[&quot;C=C\\1C(=CC(=CC1=C\\O)C)C=O&quot;], [&quot;CC1=CC(=C(C(=C1)C=O)C)C=O&quot;, &quot;CC1=CC(C(C(=C1)C=O)=C)C=O&quot;, … &quot;CC1=CC(C(C(=C1)C=O)=C)=CO&quot;]]</td><td>[[&quot;C=c1c(C=O)cc(C)c/c1=C\\O&quot;], [&quot;C=C1C(C=O)=CC(C)=CC1C=O&quot;, &quot;Cc1cc(C=O)c(C)c(C=O)c1&quot;, … &quot;C=C1C(C=O)=CC(C)C=C1C=O&quot;]]</td><td>[[&quot;C=C1C(C=O)=CC(C)=CC1C=O&quot;, &quot;C=C1C(C=O)=CC(C)C=C1C=O&quot;, &quot;Cc1cc(C=O)c(C)c(C=O)c1&quot;], [&quot;C=C1C(C=O)=CC(C)C=C1C=O&quot;, &quot;C=c1c(C=O)cc(C)cc1=CO&quot;]]</td><td>[&quot;C=C1C(C=O)=CC(C)=CC1C=O&quot;, &quot;Cc1cc(C=O)c(C)c(C=O)c1&quot;, &quot;C=c1c(C=O)cc(C)cc1=CO&quot;]</td><td>[&quot;Cc1cc(C=O)c(C)c(C=O)c1&quot;, &quot;C=c1c(C=O)cc(C)cc1=CO&quot;]</td><td>[&quot;C=c1c(C=O)cc(C)c/c1=C\\O&quot;, &quot;C=C1C(C=O)=CC(C)=CC1C=O&quot;, … &quot;C=c1c(C=O)cc(C)cc1=CO&quot;]</td><td>[&quot;C=C1C(C=O)=CC(C)=CC1C=O&quot;, &quot;C=C1C(C=O)=CC(C)C=C1C=O&quot;, … &quot;C=c1c(C=O)cc(C)cc1=CO&quot;]</td><td>2</td><td>3</td><td>2</td><td>5</td><td>4</td><td>false</td><td>1</td><td>false</td><td>-1</td><td>false</td><td>-2</td><td>false</td><td>1</td></tr><tr><td>1705</td><td>[&quot;C=c1c(C=O)cc(C(C)C)cc1=CO&quot;, &quot;Cc1c(C=O)cc(C(C)C)cc1C=O&quot;]</td><td>[null, null]</td><td>[[], []]</td><td>[[], []]</td><td>[&quot;Cc1c(C=O)cc(C(C)C)cc1C=O&quot;, &quot;C=C1C(C=O)=CC(C(C)C)=CC1C=O&quot;, &quot;C=c1c(C=O)cc(C(C)C)cc1=CO&quot;]</td><td>[&quot;Cc1c(C=O)cc(C(C)C)cc1C=O&quot;, &quot;C=c1c(C=O)cc(C(C)C)cc1=CO&quot;]</td><td>[]</td><td>[]</td><td>2</td><td>3</td><td>2</td><td>0</td><td>0</td><td>false</td><td>1</td><td>false</td><td>null</td><td>false</td><td>null</td><td>false</td><td>1</td></tr><tr><td>1736</td><td>[&quot;O=S(=O)(C=C1C=CNC=C1)c1ccccc1&quot;, &quot;O=S(=O)(Cc1ccncc1)c1ccccc1&quot;]</td><td>[null, null]</td><td>[[], []]</td><td>[[], []]</td><td>[&quot;O=S(=O)(Cc1ccncc1)c1ccccc1&quot;, &quot;O=S(=O)(C=C1C=CNC=C1)c1ccccc1&quot;]</td><td>[&quot;O=S(=O)(Cc1ccncc1)c1ccccc1&quot;, &quot;O=S(=O)(C=C1C=CN=CC1)c1ccccc1&quot;, &quot;O=S(=O)(C=C1C=CNC=C1)c1ccccc1&quot;]</td><td>[]</td><td>[]</td><td>2</td><td>2</td><td>3</td><td>0</td><td>0</td><td>false</td><td>-1</td><td>false</td><td>null</td><td>false</td><td>null</td><td>true</td><td>0</td></tr><tr><td>1743</td><td>[&quot;CC1=NC(C)c2c(C)ccc(C)c21&quot;, &quot;Cc1ccc(C)c2c(C)[nH]c(C)c12&quot;]</td><td>[null, null]</td><td>[[], []]</td><td>[[], []]</td><td>[&quot;CC1=NC(C)c2c(C)ccc(C)c21&quot;, &quot;Cc1ccc(C)c2c(C)[nH]c(C)c12&quot;]</td><td>[&quot;CC1=NC(C)c2c(C)ccc(C)c21&quot;, &quot;Cc1ccc(C)c2c(C)[nH]c(C)c12&quot;, &quot;C=C1NC(C)c2c(C)ccc(C)c21&quot;]</td><td>[]</td><td>[]</td><td>2</td><td>2</td><td>3</td><td>0</td><td>0</td><td>false</td><td>-1</td><td>false</td><td>null</td><td>false</td><td>null</td><td>true</td><td>0</td></tr><tr><td>1758</td><td>[&quot;CC1=CC=CC2=C(c3ccccc3)N=P(N(C(C)C)C(C)C)(N(C(C)C)C(C)C)N12&quot;, &quot;Cc1cccc(C(=NP(N(C(C)C)C(C)C)N(C(C)C)C(C)C)c2ccccc2)n1&quot;]</td><td>[null, null]</td><td>[[], []]</td><td>[[], []]</td><td>[&quot;CC1=CC=CC2=C(c3ccccc3)N=P(N(C(C)C)C(C)C)(N(C(C)C)C(C)C)N12&quot;, &quot;Cc1cccc(C(=NP(N(C(C)C)C(C)C)N(C(C)C)C(C)C)c2ccccc2)n1&quot;, &quot;C=C1C=CC=C(C(=NP(N(C(C)C)C(C)C)N(C(C)C)C(C)C)c2ccccc2)N1&quot;]</td><td>[&quot;CC1=CC=CC2=C(c3ccccc3)N=P(N(C(C)C)C(C)C)(N(C(C)C)C(C)C)N12&quot;, &quot;Cc1cccc(C(=NP(N(C(C)C)C(C)C)N(C(C)C)C(C)C)c2ccccc2)n1&quot;]</td><td>[]</td><td>[]</td><td>2</td><td>3</td><td>2</td><td>0</td><td>0</td><td>false</td><td>1</td><td>false</td><td>null</td><td>false</td><td>null</td><td>false</td><td>1</td></tr></tbody></table></div>"
      ],
      "text/plain": [
       "shape: (94, 22)\n",
       "┌──────┬────────────┬────────────┬────────────┬───┬────────────┬───────────┬───────────┬───────────┐\n",
       "│ Ref  ┆ flat_tauts ┆ tautCACTVS ┆ tautsCACTV ┆ … ┆ tauts_same ┆ n_tauts_d ┆ tauts_sam ┆ n_tauts_d │\n",
       "│ ---  ┆ Expt       ┆ ---        ┆ S          ┆   ┆ CACTVS     ┆ iffCACTVS ┆ eExpt     ┆ iffExpt   │\n",
       "│ i64  ┆ ---        ┆ list[list[ ┆ ---        ┆   ┆ ---        ┆ ---       ┆ ---       ┆ ---       │\n",
       "│      ┆ list[str]  ┆ str]]      ┆ list[list[ ┆   ┆ bool       ┆ i64       ┆ bool      ┆ i64       │\n",
       "│      ┆            ┆            ┆ str]]      ┆   ┆            ┆           ┆           ┆           │\n",
       "╞══════╪════════════╪════════════╪════════════╪═══╪════════════╪═══════════╪═══════════╪═══════════╡\n",
       "│ 29   ┆ [\"N=c1cccc ┆ [null,     ┆ [[], []]   ┆ … ┆ false      ┆ null      ┆ false     ┆ 1         │\n",
       "│      ┆ cc1O\", \"Nc ┆ null]      ┆            ┆   ┆            ┆           ┆           ┆           │\n",
       "│      ┆ 1cccccc1=O ┆            ┆            ┆   ┆            ┆           ┆           ┆           │\n",
       "│      ┆ \"]         ┆            ┆            ┆   ┆            ┆           ┆           ┆           │\n",
       "│ 30   ┆ [\"O=c1cccc ┆ [null,     ┆ [[], []]   ┆ … ┆ false      ┆ null      ┆ false     ┆ 1         │\n",
       "│      ┆ cc1Nc1cccc ┆ null]      ┆            ┆   ┆            ┆           ┆           ┆           │\n",
       "│      ┆ c1\",       ┆            ┆            ┆   ┆            ┆           ┆           ┆           │\n",
       "│      ┆ \"Oc1ccc…   ┆            ┆            ┆   ┆            ┆           ┆           ┆           │\n",
       "│ 31   ┆ [\"O=c1cccc ┆ [null,     ┆ [[], []]   ┆ … ┆ false      ┆ null      ┆ false     ┆ 1         │\n",
       "│      ┆ cc1Nc1ccc( ┆ null]      ┆            ┆   ┆            ┆           ┆           ┆           │\n",
       "│      ┆ Br)cc1\",   ┆            ┆            ┆   ┆            ┆           ┆           ┆           │\n",
       "│      ┆ \"Oc…       ┆            ┆            ┆   ┆            ┆           ┆           ┆           │\n",
       "│ 32   ┆ [\"O=c1cccc ┆ [null,     ┆ [[], []]   ┆ … ┆ false      ┆ null      ┆ false     ┆ 1         │\n",
       "│      ┆ cc1Nc1ccc( ┆ null]      ┆            ┆   ┆            ┆           ┆           ┆           │\n",
       "│      ┆ Cl)cc1\",   ┆            ┆            ┆   ┆            ┆           ┆           ┆           │\n",
       "│      ┆ \"Oc…       ┆            ┆            ┆   ┆            ┆           ┆           ┆           │\n",
       "│ …    ┆ …          ┆ …          ┆ …          ┆ … ┆ …          ┆ …         ┆ …         ┆ …         │\n",
       "│ 1705 ┆ [\"C=c1c(C= ┆ [null,     ┆ [[], []]   ┆ … ┆ false      ┆ null      ┆ false     ┆ 1         │\n",
       "│      ┆ O)cc(C(C)C ┆ null]      ┆            ┆   ┆            ┆           ┆           ┆           │\n",
       "│      ┆ )cc1=CO\",  ┆            ┆            ┆   ┆            ┆           ┆           ┆           │\n",
       "│      ┆ \"C…        ┆            ┆            ┆   ┆            ┆           ┆           ┆           │\n",
       "│ 1736 ┆ [\"O=S(=O)( ┆ [null,     ┆ [[], []]   ┆ … ┆ false      ┆ null      ┆ true      ┆ 0         │\n",
       "│      ┆ C=C1C=CNC= ┆ null]      ┆            ┆   ┆            ┆           ┆           ┆           │\n",
       "│      ┆ C1)c1ccccc ┆            ┆            ┆   ┆            ┆           ┆           ┆           │\n",
       "│      ┆ 1\"…        ┆            ┆            ┆   ┆            ┆           ┆           ┆           │\n",
       "│ 1743 ┆ [\"CC1=NC(C ┆ [null,     ┆ [[], []]   ┆ … ┆ false      ┆ null      ┆ true      ┆ 0         │\n",
       "│      ┆ )c2c(C)ccc ┆ null]      ┆            ┆   ┆            ┆           ┆           ┆           │\n",
       "│      ┆ (C)c21\",   ┆            ┆            ┆   ┆            ┆           ┆           ┆           │\n",
       "│      ┆ \"Cc…       ┆            ┆            ┆   ┆            ┆           ┆           ┆           │\n",
       "│ 1758 ┆ [\"CC1=CC=C ┆ [null,     ┆ [[], []]   ┆ … ┆ false      ┆ null      ┆ false     ┆ 1         │\n",
       "│      ┆ C2=C(c3ccc ┆ null]      ┆            ┆   ┆            ┆           ┆           ┆           │\n",
       "│      ┆ cc3)N=P(N( ┆            ┆            ┆   ┆            ┆           ┆           ┆           │\n",
       "│      ┆ C(…        ┆            ┆            ┆   ┆            ┆           ┆           ┆           │\n",
       "└──────┴────────────┴────────────┴────────────┴───┴────────────┴───────────┴───────────┴───────────┘"
      ]
     },
     "execution_count": 55,
     "metadata": {},
     "output_type": "execute_result"
    }
   ],
   "source": [
    "# Narrow down to rows where algos give different sets of tautomers\n",
    "df_melted_aggregated_different = df_melted_aggregated.filter(pl.col(\"tauts_sameGetV1TautomerEnumerator\") == False)\n",
    "\n",
    "df_melted_aggregated_different.drop([\"mol\",\"tautsTautomerEnumerator\", \"tautsGetV1TautomerEnumerator\"]).filter(abs(pl.col(\"n_tauts_diffGetV1TautomerEnumerator\")) < 2).filter(abs(pl.col(\"n_tautsTautomerEnumerator\")) < 4).filter(abs(pl.col(\"n_tautsGetV1TautomerEnumerator\")) < 4).sort(abs(pl.col(\"n_tauts_diffGetV1TautomerEnumerator\")), descending=True)"
   ]
  },
  {
   "cell_type": "code",
   "execution_count": 56,
   "metadata": {},
   "outputs": [],
   "source": [
    "def second_highest_frequency(lst):\n",
    "    # Count frequencies of elements in the list\n",
    "    frequencies = Counter(lst)\n",
    "    \n",
    "    # Find the second highest frequency\n",
    "    unique_frequencies = sorted(set(frequencies.values()), reverse=True)\n",
    "    \n",
    "    # Find the second highest frequency value(s)\n",
    "    second_highest_freq = unique_frequencies[1] if len(unique_frequencies) > 1 else unique_frequencies[0]\n",
    "        \n",
    "    return second_highest_freq"
   ]
  },
  {
   "cell_type": "code",
   "execution_count": 57,
   "metadata": {},
   "outputs": [],
   "source": [
    "# For each other source, compare it to RDKit V2\n",
    "\n",
    "# Create several dictionaries where each key will be a tautomer source\n",
    "n_tauts_diff = dict()\n",
    "n_tauts_diff_no_zeros = dict()\n",
    "n_tauts_diff_positive = dict()\n",
    "n_tauts_diff_negative = dict()\n",
    "for source in sources_compare.keys():\n",
    "    # Extract the data from the dataframe's n_tauts_diff... columns\n",
    "    this_n_tauts_diff = df_melted_aggregated[f\"n_tauts_diff{source}\"].to_list()\n",
    "    # Remove None values to prevent errors\n",
    "    this_n_tauts_diff_clean = [item for item in this_n_tauts_diff if item is not None]\n",
    "    n_tauts_diff.update({source: this_n_tauts_diff_clean})\n",
    "    n_tauts_diff_no_zeros.update({source: [diff for diff in n_tauts_diff[source] if diff != 0]})\n",
    "    n_tauts_diff_positive.update({source: [diff for diff in n_tauts_diff_no_zeros[source] if (diff is not None) and (diff > 0)]})\n",
    "    n_tauts_diff_negative.update({source: [diff for diff in n_tauts_diff_no_zeros[source] if (diff is not None) and (diff < 0)]})"
   ]
  },
  {
   "cell_type": "code",
   "execution_count": 58,
   "metadata": {},
   "outputs": [
    {
     "data": {
      "text/plain": [
       "[355, -11, -2]"
      ]
     },
     "execution_count": 58,
     "metadata": {},
     "output_type": "execute_result"
    }
   ],
   "source": [
    "n_tauts_diff[\"CACTVS\"]"
   ]
  },
  {
   "cell_type": "code",
   "execution_count": 59,
   "metadata": {},
   "outputs": [],
   "source": [
    "def stats_for_iterable(iterable: Iterable) -> dict[str : int | float]:\n",
    "    \"\"\"Calculate descriptive statistics for an iterable.\n",
    "    The input could be a set, but be aware that a set can only contain each value once.\n",
    "\n",
    "    :param iterable: Iterable to be analyzed\n",
    "    :returns: Descriptive statistics including counts of some values, mean, median, mode, and standard deviation\n",
    "    \"\"\"\n",
    "    iterable_clean = [item for item in iterable if item is not None]\n",
    "    stats = dict()\n",
    "    for delta in range(-5, 6):\n",
    "        stats.update({f\"count({delta})\": iterable_clean.count(delta)})\n",
    "    stats.update(\n",
    "        {\n",
    "            \"mean\": statistics.mean(iterable_clean),\n",
    "            \"median\": statistics.median(iterable_clean),\n",
    "            \"mode\": statistics.mode(iterable_clean),\n",
    "        }\n",
    "    )\n",
    "    try:\n",
    "        stats.update({\"std dev\": statistics.stdev(iterable_clean)})\n",
    "    except StatisticsError:\n",
    "        stats.update({\"std dev\": -1})\n",
    "    for stat, value in stats.items():\n",
    "        if stat in [\"mean\", \"std dev\"]:\n",
    "            print(f\"{stat:10} {value:.2f}\")\n",
    "        else:\n",
    "            print(f\"{stat:10} {value:}\")\n",
    "    return stats"
   ]
  },
  {
   "cell_type": "code",
   "execution_count": 60,
   "metadata": {},
   "outputs": [
    {
     "name": "stdout",
     "output_type": "stream",
     "text": [
      "--GetV1TautomerEnumerator--\n",
      "count(-5)  16\n",
      "count(-4)  33\n",
      "count(-3)  32\n",
      "count(-2)  66\n",
      "count(-1)  87\n",
      "count(0)   1230\n",
      "count(1)   80\n",
      "count(2)   13\n",
      "count(3)   14\n",
      "count(4)   11\n",
      "count(5)   2\n",
      "mean       -4.65\n",
      "median     0.0\n",
      "mode       0\n",
      "std dev    30.12\n",
      "--NIH--\n",
      "count(-5)  1\n",
      "count(-4)  2\n",
      "count(-3)  0\n",
      "count(-2)  0\n",
      "count(-1)  1\n",
      "count(0)   0\n",
      "count(1)   0\n",
      "count(2)   0\n",
      "count(3)   0\n",
      "count(4)   0\n",
      "count(5)   0\n",
      "mean       177.00\n",
      "median     -1\n",
      "mode       -4\n",
      "std dev    309.83\n",
      "--CACTVS--\n",
      "count(-5)  0\n",
      "count(-4)  0\n",
      "count(-3)  0\n",
      "count(-2)  1\n",
      "count(-1)  0\n",
      "count(0)   0\n",
      "count(1)   0\n",
      "count(2)   0\n",
      "count(3)   0\n",
      "count(4)   0\n",
      "count(5)   0\n",
      "mean       114.00\n",
      "median     -2\n",
      "mode       355\n",
      "std dev    208.76\n",
      "--Expt--\n",
      "count(-5)  0\n",
      "count(-4)  0\n",
      "count(-3)  0\n",
      "count(-2)  0\n",
      "count(-1)  3\n",
      "count(0)   527\n",
      "count(1)   336\n",
      "count(2)   165\n",
      "count(3)   190\n",
      "count(4)   71\n",
      "count(5)   60\n",
      "mean       9.92\n",
      "median     2.0\n",
      "mode       0\n",
      "std dev    42.63\n"
     ]
    }
   ],
   "source": [
    "for source in sources_compare.keys():\n",
    "    print(f\"--{source}--\")\n",
    "    stats_for_iterable(n_tauts_diff[source])"
   ]
  },
  {
   "cell_type": "code",
   "execution_count": 61,
   "metadata": {},
   "outputs": [
    {
     "name": "stdout",
     "output_type": "stream",
     "text": [
      "--GetV1TautomerEnumerator--\n",
      "count(-5)  16\n",
      "count(-4)  33\n",
      "count(-3)  32\n",
      "count(-2)  66\n",
      "count(-1)  87\n",
      "count(0)   0\n",
      "count(1)   80\n",
      "count(2)   13\n",
      "count(3)   14\n",
      "count(4)   11\n",
      "count(5)   2\n",
      "mean       -15.11\n",
      "median     -2.0\n",
      "mode       -1\n",
      "std dev    52.89\n",
      "--NIH--\n",
      "count(-5)  1\n",
      "count(-4)  2\n",
      "count(-3)  0\n",
      "count(-2)  0\n",
      "count(-1)  1\n",
      "count(0)   0\n",
      "count(1)   0\n",
      "count(2)   0\n",
      "count(3)   0\n",
      "count(4)   0\n",
      "count(5)   0\n",
      "mean       177.00\n",
      "median     -1\n",
      "mode       -4\n",
      "std dev    309.83\n",
      "--CACTVS--\n",
      "count(-5)  0\n",
      "count(-4)  0\n",
      "count(-3)  0\n",
      "count(-2)  1\n",
      "count(-1)  0\n",
      "count(0)   0\n",
      "count(1)   0\n",
      "count(2)   0\n",
      "count(3)   0\n",
      "count(4)   0\n",
      "count(5)   0\n",
      "mean       114.00\n",
      "median     -2\n",
      "mode       355\n",
      "std dev    208.76\n",
      "--Expt--\n",
      "count(-5)  0\n",
      "count(-4)  0\n",
      "count(-3)  0\n",
      "count(-2)  0\n",
      "count(-1)  3\n",
      "count(0)   0\n",
      "count(1)   336\n",
      "count(2)   165\n",
      "count(3)   190\n",
      "count(4)   71\n",
      "count(5)   60\n",
      "mean       14.10\n",
      "median     3\n",
      "mode       1\n",
      "std dev    50.26\n"
     ]
    }
   ],
   "source": [
    "for source in sources_compare.keys():\n",
    "    print(f\"--{source}--\")\n",
    "    stats_for_iterable(n_tauts_diff_no_zeros[source])"
   ]
  },
  {
   "cell_type": "code",
   "execution_count": 62,
   "metadata": {},
   "outputs": [
    {
     "name": "stdout",
     "output_type": "stream",
     "text": [
      "--GetV1TautomerEnumerator--\n",
      "count(-5)  0\n",
      "count(-4)  0\n",
      "count(-3)  0\n",
      "count(-2)  0\n",
      "count(-1)  0\n",
      "count(0)   0\n",
      "count(1)   80\n",
      "count(2)   13\n",
      "count(3)   14\n",
      "count(4)   11\n",
      "count(5)   2\n",
      "mean       7.00\n",
      "median     1\n",
      "mode       1\n",
      "std dev    28.42\n",
      "--NIH--\n",
      "count(-5)  0\n",
      "count(-4)  0\n",
      "count(-3)  0\n",
      "count(-2)  0\n",
      "count(-1)  0\n",
      "count(0)   0\n",
      "count(1)   0\n",
      "count(2)   0\n",
      "count(3)   0\n",
      "count(4)   0\n",
      "count(5)   0\n",
      "mean       417.67\n",
      "median     334\n",
      "mode       821\n",
      "std dev    368.69\n",
      "--CACTVS--\n",
      "count(-5)  0\n",
      "count(-4)  0\n",
      "count(-3)  0\n",
      "count(-2)  0\n",
      "count(-1)  0\n",
      "count(0)   0\n",
      "count(1)   0\n",
      "count(2)   0\n",
      "count(3)   0\n",
      "count(4)   0\n",
      "count(5)   0\n",
      "mean       355.00\n",
      "median     355\n",
      "mode       355\n",
      "std dev    -1.00\n",
      "--Expt--\n",
      "count(-5)  0\n",
      "count(-4)  0\n",
      "count(-3)  0\n",
      "count(-2)  0\n",
      "count(-1)  0\n",
      "count(0)   0\n",
      "count(1)   336\n",
      "count(2)   165\n",
      "count(3)   190\n",
      "count(4)   71\n",
      "count(5)   60\n",
      "mean       14.14\n",
      "median     3.0\n",
      "mode       1\n",
      "std dev    50.32\n"
     ]
    }
   ],
   "source": [
    "for source in sources_compare.keys():\n",
    "    print(f\"--{source}--\")\n",
    "    stats_for_iterable(n_tauts_diff_positive[source])"
   ]
  },
  {
   "cell_type": "code",
   "execution_count": 63,
   "metadata": {},
   "outputs": [
    {
     "name": "stdout",
     "output_type": "stream",
     "text": [
      "--GetV1TautomerEnumerator--\n",
      "count(-5)  16\n",
      "count(-4)  33\n",
      "count(-3)  32\n",
      "count(-2)  66\n",
      "count(-1)  87\n",
      "count(0)   0\n",
      "count(1)   0\n",
      "count(2)   0\n",
      "count(3)   0\n",
      "count(4)   0\n",
      "count(5)   0\n",
      "mean       -22.37\n",
      "median     -4\n",
      "mode       -1\n",
      "std dev    56.92\n",
      "--NIH--\n",
      "count(-5)  1\n",
      "count(-4)  2\n",
      "count(-3)  0\n",
      "count(-2)  0\n",
      "count(-1)  1\n",
      "count(0)   0\n",
      "count(1)   0\n",
      "count(2)   0\n",
      "count(3)   0\n",
      "count(4)   0\n",
      "count(5)   0\n",
      "mean       -3.50\n",
      "median     -4.0\n",
      "mode       -4\n",
      "std dev    1.73\n",
      "--CACTVS--\n",
      "count(-5)  0\n",
      "count(-4)  0\n",
      "count(-3)  0\n",
      "count(-2)  1\n",
      "count(-1)  0\n",
      "count(0)   0\n",
      "count(1)   0\n",
      "count(2)   0\n",
      "count(3)   0\n",
      "count(4)   0\n",
      "count(5)   0\n",
      "mean       -6.50\n",
      "median     -6.5\n",
      "mode       -11\n",
      "std dev    6.36\n",
      "--Expt--\n",
      "count(-5)  0\n",
      "count(-4)  0\n",
      "count(-3)  0\n",
      "count(-2)  0\n",
      "count(-1)  3\n",
      "count(0)   0\n",
      "count(1)   0\n",
      "count(2)   0\n",
      "count(3)   0\n",
      "count(4)   0\n",
      "count(5)   0\n",
      "mean       -1.00\n",
      "median     -1\n",
      "mode       -1\n",
      "std dev    0.00\n"
     ]
    }
   ],
   "source": [
    "for source in sources_compare.keys():\n",
    "    print(f\"--{source}--\")\n",
    "    stats_for_iterable(n_tauts_diff_negative[source])"
   ]
  },
  {
   "cell_type": "code",
   "execution_count": 64,
   "metadata": {},
   "outputs": [
    {
     "name": "stderr",
     "output_type": "stream",
     "text": [
      "/Users/jemonat/Projects/bertiewooster.github.io/venv/lib/python3.11/site-packages/seaborn/_oldcore.py:1498: FutureWarning: is_categorical_dtype is deprecated and will be removed in a future version. Use isinstance(dtype, CategoricalDtype) instead\n",
      "  if pd.api.types.is_categorical_dtype(vector):\n",
      "/Users/jemonat/Projects/bertiewooster.github.io/venv/lib/python3.11/site-packages/seaborn/_oldcore.py:1498: FutureWarning: is_categorical_dtype is deprecated and will be removed in a future version. Use isinstance(dtype, CategoricalDtype) instead\n",
      "  if pd.api.types.is_categorical_dtype(vector):\n",
      "/Users/jemonat/Projects/bertiewooster.github.io/venv/lib/python3.11/site-packages/seaborn/_oldcore.py:1498: FutureWarning: is_categorical_dtype is deprecated and will be removed in a future version. Use isinstance(dtype, CategoricalDtype) instead\n",
      "  if pd.api.types.is_categorical_dtype(vector):\n",
      "/Users/jemonat/Projects/bertiewooster.github.io/venv/lib/python3.11/site-packages/seaborn/_oldcore.py:1498: FutureWarning: is_categorical_dtype is deprecated and will be removed in a future version. Use isinstance(dtype, CategoricalDtype) instead\n",
      "  if pd.api.types.is_categorical_dtype(vector):\n",
      "/Users/jemonat/Projects/bertiewooster.github.io/venv/lib/python3.11/site-packages/seaborn/_oldcore.py:1498: FutureWarning: is_categorical_dtype is deprecated and will be removed in a future version. Use isinstance(dtype, CategoricalDtype) instead\n",
      "  if pd.api.types.is_categorical_dtype(vector):\n",
      "/Users/jemonat/Projects/bertiewooster.github.io/venv/lib/python3.11/site-packages/seaborn/_oldcore.py:1498: FutureWarning: is_categorical_dtype is deprecated and will be removed in a future version. Use isinstance(dtype, CategoricalDtype) instead\n",
      "  if pd.api.types.is_categorical_dtype(vector):\n",
      "/Users/jemonat/Projects/bertiewooster.github.io/venv/lib/python3.11/site-packages/seaborn/_oldcore.py:1498: FutureWarning: is_categorical_dtype is deprecated and will be removed in a future version. Use isinstance(dtype, CategoricalDtype) instead\n",
      "  if pd.api.types.is_categorical_dtype(vector):\n",
      "/Users/jemonat/Projects/bertiewooster.github.io/venv/lib/python3.11/site-packages/seaborn/_oldcore.py:1498: FutureWarning: is_categorical_dtype is deprecated and will be removed in a future version. Use isinstance(dtype, CategoricalDtype) instead\n",
      "  if pd.api.types.is_categorical_dtype(vector):\n",
      "/Users/jemonat/Projects/bertiewooster.github.io/venv/lib/python3.11/site-packages/seaborn/_oldcore.py:1119: FutureWarning: use_inf_as_na option is deprecated and will be removed in a future version. Convert inf values to NaN before operating instead.\n",
      "  with pd.option_context('mode.use_inf_as_na', True):\n"
     ]
    },
    {
     "data": {
      "image/png": "[encoded data removed]",
      "text/plain": [
       "<Figure size 640x480 with 1 Axes>"
      ]
     },
     "metadata": {},
     "output_type": "display_data"
    }
   ],
   "source": [
    "# Plot histogram of n_tauts_diff columns\n",
    "\n",
    "sns.histplot(n_tauts_diff, bins=300)  # Adjust bins as needed\n",
    "plt.xlabel('Difference in number of tautomers found by RDKit v2 minus v1 algorithm')\n",
    "plt.ylabel('Frequency')\n",
    "# plt.title('Histogram using Seaborn')\n",
    "\n",
    "largest_y_values = dict()\n",
    "for source in sources_compare.keys():\n",
    "    largest_y_values.update({source: second_highest_frequency(n_tauts_diff[source])})\n",
    "\n",
    "largest_y_value = max(largest_y_values.values())\n",
    "\n",
    "# plt.ylim(0, largest_y_value * 1.1)\n",
    "plt.ylim(0, 50)\n",
    "\n",
    "# Find the frequency at n_tauts_diff = 0\n",
    "# frequency_at_zero = n_tauts_diff.count(0)\n",
    "\n",
    "# Annotate the plot with the frequency at n_tauts_diff = 0\n",
    "# plt.text(0, largest_y_value, f'0 has frequency of {frequency_at_zero}  ', ha='right', va='bottom')\n",
    "\n",
    "plt.show()\n"
   ]
  },
  {
   "cell_type": "code",
   "execution_count": 65,
   "metadata": {},
   "outputs": [
    {
     "name": "stdout",
     "output_type": "stream",
     "text": [
      "dict_keys(['GetV1TautomerEnumerator', 'Expt'])\n"
     ]
    },
    {
     "name": "stderr",
     "output_type": "stream",
     "text": [
      "/Users/jemonat/Projects/bertiewooster.github.io/venv/lib/python3.11/site-packages/seaborn/_oldcore.py:1498: FutureWarning: is_categorical_dtype is deprecated and will be removed in a future version. Use isinstance(dtype, CategoricalDtype) instead\n",
      "  if pd.api.types.is_categorical_dtype(vector):\n",
      "/Users/jemonat/Projects/bertiewooster.github.io/venv/lib/python3.11/site-packages/seaborn/_oldcore.py:1498: FutureWarning: is_categorical_dtype is deprecated and will be removed in a future version. Use isinstance(dtype, CategoricalDtype) instead\n",
      "  if pd.api.types.is_categorical_dtype(vector):\n",
      "/Users/jemonat/Projects/bertiewooster.github.io/venv/lib/python3.11/site-packages/seaborn/_oldcore.py:1498: FutureWarning: is_categorical_dtype is deprecated and will be removed in a future version. Use isinstance(dtype, CategoricalDtype) instead\n",
      "  if pd.api.types.is_categorical_dtype(vector):\n",
      "/Users/jemonat/Projects/bertiewooster.github.io/venv/lib/python3.11/site-packages/seaborn/_oldcore.py:1498: FutureWarning: is_categorical_dtype is deprecated and will be removed in a future version. Use isinstance(dtype, CategoricalDtype) instead\n",
      "  if pd.api.types.is_categorical_dtype(vector):\n",
      "/Users/jemonat/Projects/bertiewooster.github.io/venv/lib/python3.11/site-packages/seaborn/_oldcore.py:1498: FutureWarning: is_categorical_dtype is deprecated and will be removed in a future version. Use isinstance(dtype, CategoricalDtype) instead\n",
      "  if pd.api.types.is_categorical_dtype(vector):\n",
      "/Users/jemonat/Projects/bertiewooster.github.io/venv/lib/python3.11/site-packages/seaborn/_oldcore.py:1498: FutureWarning: is_categorical_dtype is deprecated and will be removed in a future version. Use isinstance(dtype, CategoricalDtype) instead\n",
      "  if pd.api.types.is_categorical_dtype(vector):\n",
      "/Users/jemonat/Projects/bertiewooster.github.io/venv/lib/python3.11/site-packages/seaborn/_oldcore.py:1119: FutureWarning: use_inf_as_na option is deprecated and will be removed in a future version. Convert inf values to NaN before operating instead.\n",
      "  with pd.option_context('mode.use_inf_as_na', True):\n"
     ]
    },
    {
     "data": {
      "image/png": "[encoded data removed]",
      "text/plain": [
       "<Figure size 640x480 with 1 Axes>"
      ]
     },
     "metadata": {},
     "output_type": "display_data"
    }
   ],
   "source": [
    "# Plot histogram of n_tauts_diff for sources which have data for all refs\n",
    "\n",
    "n_tauts_diff_all = {source: n_tauts_diff[source] for source in sources.keys() if sources[source] == \"all\"}\n",
    "print(n_tauts_diff_all.keys())\n",
    "# Set the x bounds (will go from negative to positive of this value)\n",
    "x_len = 17\n",
    "\n",
    "# Set the histogram bins so there will be a bin (bar) for each integer value\n",
    "bins = range(-1 * x_len, x_len, 1)\n",
    "\n",
    "# Calculate the percent of each data series (excluding delta=0) this plot covers\n",
    "\n",
    "# Create dictionaries to store values in; keys will be data sources\n",
    "n_tauts_diff_no_zeros_this_range = dict()\n",
    "non_zero_counts_this_range = dict()\n",
    "# for source in sources_compare.keys():\n",
    "for source in n_tauts_diff_all.keys():\n",
    "    n_tauts_diff_no_zeros_this_range.update(\n",
    "        {source: [diff for diff in n_tauts_diff_no_zeros[source] if abs(diff) <= x_len]}\n",
    "    )\n",
    "    non_zero_counts_this_range.update(\n",
    "        {\n",
    "            source: len(n_tauts_diff_no_zeros_this_range[source])\n",
    "            / len(n_tauts_diff_no_zeros[source])\n",
    "        }\n",
    "    )\n",
    "non_zero_counts_this_range_min = min(list(non_zero_counts_this_range.values()))\n",
    "\n",
    "# Set an accessible color palette from https://venngage.com/tools/accessible-color-palette-generator\n",
    "# colors = [\"#5ba300\", \"#0073e6\", \"#89ce00\", \"#b51963\"]\n",
    "colors = [\n",
    "    \"#029356\",\n",
    "    # \"#009eb0\",\n",
    "    # \"#0073e6\",\n",
    "    \"#606ff3\",\n",
    "    # \"#9b8bf4\",\n",
    "    ]\n",
    "sns.set_palette(sns.color_palette(colors))\n",
    "\n",
    "# Create the histogram plot\n",
    "sns.histplot(n_tauts_diff_all, bins=bins)\n",
    "\n",
    "plt.ylabel(\"Frequency\")\n",
    "xlabel = \"Difference in # tautomers from RDKit v2 algorithm minus other source\"\n",
    "xlabel += f\"\\n(this range covers at least {non_zero_counts_this_range_min:.0%} of non-zero counts for each source)\"\n",
    "plt.xlabel(xlabel)\n",
    "\n",
    "# Limit the max y to avoid making smaller y values too hard to discern\n",
    "plt.ylim(0, 600)\n",
    "\n",
    "# Because this max y cuts off the y value for GetV1TautomerEnumerator at delta = 0, show the value as a label\n",
    "\n",
    "# Find the frequency at n_tauts_diff = 0\n",
    "frequency_at_zero = n_tauts_diff[\"GetV1TautomerEnumerator\"].count(0)\n",
    "\n",
    "# Annotate the plot with the frequency at n_tauts_diff = 0 for GetV1TautomerEnumerator\n",
    "plt.text(\n",
    "    1.5,\n",
    "    max(plt.ylim()) * 0.9,\n",
    "    f\"0 has frequency of {frequency_at_zero}\\nfor GetV1TautomerEnumerator\",\n",
    "    ha=\"left\",\n",
    "    va=\"bottom\",\n",
    "    color=colors[0],\n",
    ")\n",
    "\n",
    "plt.show()"
   ]
  },
  {
   "cell_type": "code",
   "execution_count": 66,
   "metadata": {},
   "outputs": [
    {
     "name": "stderr",
     "output_type": "stream",
     "text": [
      "/Users/jemonat/Projects/bertiewooster.github.io/venv/lib/python3.11/site-packages/seaborn/_oldcore.py:1498: FutureWarning: is_categorical_dtype is deprecated and will be removed in a future version. Use isinstance(dtype, CategoricalDtype) instead\n",
      "  if pd.api.types.is_categorical_dtype(vector):\n",
      "/Users/jemonat/Projects/bertiewooster.github.io/venv/lib/python3.11/site-packages/seaborn/_oldcore.py:1498: FutureWarning: is_categorical_dtype is deprecated and will be removed in a future version. Use isinstance(dtype, CategoricalDtype) instead\n",
      "  if pd.api.types.is_categorical_dtype(vector):\n",
      "/Users/jemonat/Projects/bertiewooster.github.io/venv/lib/python3.11/site-packages/seaborn/_oldcore.py:1498: FutureWarning: is_categorical_dtype is deprecated and will be removed in a future version. Use isinstance(dtype, CategoricalDtype) instead\n",
      "  if pd.api.types.is_categorical_dtype(vector):\n",
      "/Users/jemonat/Projects/bertiewooster.github.io/venv/lib/python3.11/site-packages/seaborn/_oldcore.py:1498: FutureWarning: is_categorical_dtype is deprecated and will be removed in a future version. Use isinstance(dtype, CategoricalDtype) instead\n",
      "  if pd.api.types.is_categorical_dtype(vector):\n",
      "/Users/jemonat/Projects/bertiewooster.github.io/venv/lib/python3.11/site-packages/seaborn/_oldcore.py:1498: FutureWarning: is_categorical_dtype is deprecated and will be removed in a future version. Use isinstance(dtype, CategoricalDtype) instead\n",
      "  if pd.api.types.is_categorical_dtype(vector):\n",
      "/Users/jemonat/Projects/bertiewooster.github.io/venv/lib/python3.11/site-packages/seaborn/_oldcore.py:1498: FutureWarning: is_categorical_dtype is deprecated and will be removed in a future version. Use isinstance(dtype, CategoricalDtype) instead\n",
      "  if pd.api.types.is_categorical_dtype(vector):\n",
      "/Users/jemonat/Projects/bertiewooster.github.io/venv/lib/python3.11/site-packages/seaborn/_oldcore.py:1119: FutureWarning: use_inf_as_na option is deprecated and will be removed in a future version. Convert inf values to NaN before operating instead.\n",
      "  with pd.option_context('mode.use_inf_as_na', True):\n"
     ]
    },
    {
     "data": {
      "image/png": "[encoded data removed]",
      "text/plain": [
       "<Figure size 1200x600 with 1 Axes>"
      ]
     },
     "metadata": {},
     "output_type": "display_data"
    }
   ],
   "source": [
    "# Plot histogram of n_tauts_diff for sources which do not have data for all refs, because each molecule is run manually\n",
    "n_tauts_diff_manual = {source: n_tauts_diff[source] for source in sources.keys() if sources[source] == \"manual\"}\n",
    "\n",
    "# Set the histogram bins so there will be a bin (bar) for each integer value\n",
    "combined_set = set(item for sublist in n_tauts_diff_manual.values() for item in sublist)\n",
    "x_min, x_max = min(combined_set), max(combined_set)\n",
    "\n",
    "bins = range(x_min, x_max+1, 1)\n",
    "\n",
    "colors = [\n",
    "    # \"#029356\",\n",
    "    \"#009eb0\",\n",
    "    # \"#0073e6\",\n",
    "    # \"#606ff3\",\n",
    "    \"#9b8bf4\",\n",
    "    ]\n",
    "\n",
    "plt.figure(figsize=(12, 6))  # Adjust the width and height as needed\n",
    "sns.histplot(n_tauts_diff_manual, bins=bins)\n",
    "sns.set_palette(sns.color_palette(colors))\n",
    "\n",
    "# Set the x bounds (will go from negative to positive of this value)\n",
    "\n",
    "plt.ylabel(\"Frequency\")\n",
    "xlabel = f\"Difference in # tautomers from RDKit v2 algorithm minus other source\"\n",
    "plt.xlabel(xlabel)\n",
    "\n",
    "# Get the current axis from the plot\n",
    "ax = plt.gca()\n",
    "\n",
    "# Set y-axis ticks to be at only integer values\n",
    "ax.yaxis.set_major_locator(MultipleLocator(1))\n",
    "\n",
    "plt.show()"
   ]
  },
  {
   "cell_type": "code",
   "execution_count": 67,
   "metadata": {},
   "outputs": [],
   "source": [
    "def align_ordered_iterables(\n",
    "        ordered_iterable1: list|tuple,\n",
    "        ordered_iterable2: list|tuple,\n",
    "        filler = \"\",\n",
    ") -> Iterable:\n",
    "    \"\"\"Align the second ordered iterable under the first (in columns), using the filler for items in list1 not in list2, \n",
    "    for example:\n",
    "    \n",
    "    input:\n",
    "    list1: a,  c,  b\n",
    "    list2: a,  f,  c,  e,  d\n",
    "\n",
    "    output:\n",
    "    list2: a,  c, \"\",  f,  e,  d\n",
    "\n",
    "    Note that no other ordering is applied to either input iterable, \n",
    "    and items in the second which are not in the first will be kept in their input order.\n",
    "    If you want them to be ordered in some way, for example alphabetically, order them before calling this function.\n",
    "\n",
    "    :param list1: Template list\n",
    "    :param list2: List to be aligned under the template list\n",
    "    :param filler: The filler entry to use to provide an \"empty\" column to align list2 under list1; default is empty string but can be a number or anything else\n",
    "    :returns: Aligned list2 such that its entries will line up under the same values in list1, or be placed to the right if they are not in list1\n",
    "    \"\"\"\n",
    "    # If either list has no elements, return the initial ordered_iterable2\n",
    "    if any([len(ordered_iterable1)==0, len(ordered_iterable2)==0]):\n",
    "        return ordered_iterable2   \n",
    "    \n",
    "    # Determine index for each element in ordered_iterable2:\n",
    "    ordered_iterable2_indices = []\n",
    "    ordered_iterable2_index_max = len(ordered_iterable1) - 1\n",
    "    for ordered_iterable2_item in ordered_iterable2:\n",
    "        try:\n",
    "            ordered_iterable2_index = ordered_iterable1.index(ordered_iterable2_item)\n",
    "        # If item from input 2 isn't in input 1, append item to the (growing) index list\n",
    "        except ValueError:\n",
    "            ordered_iterable2_index_max += 1\n",
    "            ordered_iterable2_index = ordered_iterable2_index_max\n",
    "        # If get an AttributeError, tell user that have a bad data type\n",
    "        except AttributeError:\n",
    "            raise AttributeError(f\"The first iterable input must be a list or tuple, not a set or dictionary; it is {ordered_iterable1}, which is a {type(ordered_iterable1).__name__}\")\n",
    "        ordered_iterable2_indices.append(ordered_iterable2_index)\n",
    "\n",
    "    # Create \"empty\" (all filler) ordered_iterable2 aligned--may be longer than ordered_iterable2 due to blank spaces\n",
    "    ordered_iterable2_aligned = [filler] * (max(ordered_iterable2_indices) + 1)\n",
    "\n",
    "    # Slot in items from ordered_iterable2 to overwrite filler entries\n",
    "    for i, ordered_iterable2_col in enumerate(ordered_iterable2_indices):\n",
    "        try:\n",
    "            ordered_iterable2_aligned[ordered_iterable2_col] = ordered_iterable2[i]\n",
    "        except (TypeError, KeyError):\n",
    "                raise TypeError(f\"The second iterable input must be a list or tuple, not a set or dictionary; it is {ordered_iterable2}, which is a {type(ordered_iterable2).__name__}\")\n",
    "\n",
    "    return ordered_iterable2_aligned"
   ]
  },
  {
   "cell_type": "code",
   "execution_count": 68,
   "metadata": {},
   "outputs": [
    {
     "data": {
      "text/html": [
       "<div><style>\n",
       ".dataframe > thead > tr > th,\n",
       ".dataframe > tbody > tr > td {\n",
       "  text-align: right;\n",
       "  white-space: pre-wrap;\n",
       "}\n",
       "</style>\n",
       "<small>shape: (3, 25)</small><table border=\"1\" class=\"dataframe\"><thead><tr><th>Ref</th><th>mol</th><th>flat_tautsExpt</th><th>tautsTautomerEnumerator</th><th>tautsGetV1TautomerEnumerator</th><th>tautCACTVS</th><th>tautsCACTVS</th><th>tautsNIH</th><th>flat_tautsTautomerEnumerator</th><th>flat_tautsGetV1TautomerEnumerator</th><th>flat_tautsCACTVS</th><th>flat_tautsNIH</th><th>n_tautsExpt</th><th>n_tautsTautomerEnumerator</th><th>n_tautsGetV1TautomerEnumerator</th><th>n_tautsCACTVS</th><th>n_tautsNIH</th><th>tauts_sameGetV1TautomerEnumerator</th><th>n_tauts_diffGetV1TautomerEnumerator</th><th>tauts_sameNIH</th><th>n_tauts_diffNIH</th><th>tauts_sameCACTVS</th><th>n_tauts_diffCACTVS</th><th>tauts_sameExpt</th><th>n_tauts_diffExpt</th></tr><tr><td>i64</td><td>list[extension]</td><td>list[str]</td><td>list[list[str]]</td><td>list[list[str]]</td><td>list[list[str]]</td><td>list[list[str]]</td><td>list[list[str]]</td><td>list[str]</td><td>list[str]</td><td>list[str]</td><td>list[str]</td><td>i64</td><td>i64</td><td>i64</td><td>i64</td><td>i64</td><td>bool</td><td>i64</td><td>bool</td><td>i64</td><td>bool</td><td>i64</td><td>bool</td><td>i64</td></tr></thead><tbody><tr><td>890</td><td>[&lt;rdkit.Chem.rdchem.Mol object at 0x179c83300&gt;, &lt;rdkit.Chem.rdchem.Mol object at 0x179cd7370&gt;]</td><td>[&quot;COc1c(C[C@@H](C)OC(=O)c2ccccc2)c2c3c(C[C@H](C)OC(=O)c4ccc(O)cc4)c(OC)c(=O)c4c(O)cc(OC)c(c5c(OC)cc(O)c(c1=O)c52)c43&quot;, &quot;COc1c(O)c2c(=O)cc(OC)c3c4c(OC)cc(=O)c5c(O)c(OC)c(C[C@H](C)OC(=O)c6ccc(O)cc6)c(c(c1C[C@@H](C)OC(=O)c1ccccc1)c23)c54&quot;]</td><td>[[&quot;COC1=CC(=O)C2C(=O)C(OC)C(=C[C@H](C)OC(=O)c3ccc(O)cc3)c3c2c1c1c2c3C(C[C@@H](C)OC(=O)c3ccccc3)=C(OC)C(=O)C=2C(=O)CC=1OC&quot;, &quot;COC1=CC(=O)c2c(O)c(OC)c(C[C@@H](C)OC(=O)c3ccccc3)c3c4c5c(c(O)cc(OC)c5c1c23)C(=O)C(OC)C4=C[C@H](C)OC(=O)c1ccc(O)cc1&quot;, … &quot;COC1=CC(=O)C2C(=O)C(OC)C(=C[C@H](C)OC(=O)c3ccc(O)cc3)c3c2c1c1c2c(c(O)c(OC)c(C[C@@H](C)OC(=O)c4ccccc4)c32)C(=O)C=C1OC&quot;], [&quot;COC1=CC(=O)C2C(=O)C(OC)C(=C[C@H](C)OC(=O)c3ccc(O)cc3)c3c2c1c1c2c3C(C[C@@H](C)OC(=O)c3ccccc3)=C(OC)C(=O)C=2C(=O)CC=1OC&quot;, &quot;COC1=CC(=O)c2c(O)c(OC)c(C[C@@H](C)OC(=O)c3ccccc3)c3c4c5c(c(O)cc(OC)c5c1c23)C(=O)C(OC)C4=C[C@H](C)OC(=O)c1ccc(O)cc1&quot;, … &quot;COC1=CC(=O)C2C(=O)C(OC)C(=C[C@H](C)OC(=O)c3ccc(O)cc3)c3c2c1c1c2c(c(O)c(OC)c(C[C@@H](C)OC(=O)c4ccccc4)c32)C(=O)C=C1OC&quot;]]</td><td>[[&quot;COc1c(O)c2c(=O)cc(OC)c3c4c(OC)cc(O)c5c(=O)c(OC)c(C[C@H](C)OC(=O)c6ccc(O)cc6)c(c(c1C[C@@H](C)OC(=O)c1ccccc1)c23)c54&quot;, &quot;COC1=CC(=O)c2c(O)c(OC)c(C[C@H](C)OC(=O)C3C=CC(=O)C=C3)c3c2c1c1c(OC)cc(O)c2c(O)c(OC)c(=C[C@@H](C)OC(=O)c4ccccc4)c3c21&quot;, … &quot;COC1=CC(=O)c2c(O)c(OC)c(C[C@H](C)OC(=O)c3ccc(O)cc3)c3c2c1c1c(OC)cc(O)c2c(O)c(OC)c(=C[C@@H](C)OC(=O)c4ccccc4)c3c21&quot;], [&quot;COc1c(O)c2c(=O)cc(OC)c3c4c(OC)cc(O)c5c(=O)c(OC)c(C[C@H](C)OC(=O)c6ccc(O)cc6)c(c(c1C[C@@H](C)OC(=O)c1ccccc1)c23)c54&quot;, &quot;COC1=CC(=O)c2c(O)c(OC)c(C[C@H](C)OC(=O)C3C=CC(=O)C=C3)c3c2c1c1c(OC)cc(O)c2c(O)c(OC)c(=C[C@@H](C)OC(=O)c4ccccc4)c3c21&quot;, … &quot;COC1=CC(=O)c2c(O)c(OC)c(C[C@H](C)OC(=O)c3ccc(O)cc3)c3c2c1c1c(OC)cc(O)c2c(O)c(OC)c(=C[C@@H](C)OC(=O)c4ccccc4)c3c21&quot;]]</td><td>[[&quot;COC3C(C[C@@H](C)OC(=O)C1CCCCC1)C4C6C(C[C@H](C)OC(=O)C2CCC(O)CC2)C(OC)C(=O)C7C(O)CC(OC)C(C5C(OC)CC(O)C(C3=O)C45)C67&quot;], [&quot;COC2C(O)C4C(=O)CC(OC)C5C6C(OC)CC(=O)C7C(O)C(OC)C(C[C@H](C)OC(=O)C1CCC(O)CC1)C(C(C2C[C@@H](C)OC(=O)C3CCCCC3)C45)C67&quot;, &quot;COC2C(O)C4C(=O)CC(OC)C5C6C(OC)CC(=C7C(O)C(OC)C(C[C@H](C)OC(=O)C1CCC(O)CC1)C(C(C2C[C@@H](C)OC(=O)C3CCCCC3)C45)C67)O&quot;, … &quot;COC2C(O)C4=C(O)CC(OC)C5C6C(OC)C=C(O)C7C(O)C(OC)C(C[C@H](C)OC(=O)C1CCC(O)CC1)C(C(C2C[C@@H](C)OC(=O)C3CCCCC3)C45)C67&quot;]]</td><td>[[&quot;COC1CC(O)C2C(=O)C(OC)C(C[C@@H](C)OC(=O)C3CCCCC3)C3C4C(C[C@H](C)OC(=O)C5CCC(O)CC5)C(OC)C(=O)C5C(O)CC(OC)C(C1C23)C54&quot;], [&quot;COC1CC(O)=C2C(O)C(OC)C(C[C@@H](C)OC(=O)C3CCCCC3)C3C2C1C1C(OC)CC(O)=C2C(O)C(OC)C(C[C@H](C)OC(=O)C4CCC(O)CC4)C3C21&quot;, &quot;COC1C=C(O)C2C(O)C(OC)C(C[C@@H](C)OC(=O)C3CCCCC3)C3C4C(C[C@H](C)OC(=O)C5CCC(O)CC5)C(OC)C(O)C5C(=O)CC(OC)C(C1C23)C54&quot;, … &quot;COC1CC(O)=C2C(O)C(OC)C(C[C@H](C)OC(=O)C3CCC(O)CC3)C3C2C1C1C(OC)CC(=O)C2C(O)C(OC)C(C[C@@H](C)OC(=O)C4CCCCC4)C3C21&quot;]]</td><td>[[&quot;COC1=C(C[C@H](C)OC(=O)c2ccc(O)cc2)c2c3c(c(O)cc(OC)c3c3c(OC)cc(O)c4c(O)c(OC)c(=C[C@@H](C)OC(=O)c5ccccc5)c2c43)C1=O&quot;, &quot;COc1c(O)c2c(O)cc(OC)c3c4c(OC)cc(O)c5c(O)c(OC)c(=C[C@H](C)OC(=O)c6ccc(O)cc6)c(c(c1=C[C@@H](C)OC(=O)c1ccccc1)c23)c54&quot;, … &quot;COC1=CC(=O)C2C(=O)C(OC)=C(C[C@@H](C)OC(=O)c3ccccc3)c3c2c1c1c(OC)cc(O)c2c1c3C(C[C@H](C)OC(=O)c1ccc(O)cc1)=C(OC)C2=O&quot;], [&quot;COc1c(O)c2c(=O)cc(OC)c3c4c(OC)cc(O)c5c(=O)c(OC)c(C[C@H](C)OC(=O)c6ccc(O)cc6)c(c(c1C[C@@H](C)OC(=O)c1ccccc1)c23)c54&quot;, &quot;COC1=c2c3c(c(=O)c(OC)c(C[C@@H](C)OC(=O)c4ccccc4)c3c3c(C[C@H](C)OC(=O)c4ccc(O)cc4)c(OC)c(O)c4c(=O)cc(OC)c2c43)C(=O)C1&quot;, … &quot;COC1=CC(=O)c2c(O)c(OC)c(C[C@H](C)OC(=O)c3ccc(O)cc3)c3c2c1c1c(OC)cc(O)c2c(O)c(OC)c(=C[C@@H](C)OC(=O)c4ccccc4)c3c21&quot;]]</td><td>[&quot;COC1=CC(=O)C2C(=O)C(OC)C(=C[C@H](C)OC(=O)c3ccc(O)cc3)c3c2c1c1c2c3C(C[C@@H](C)OC(=O)c3ccccc3)=C(OC)C(=O)C=2C(=O)CC=1OC&quot;, &quot;COC1=CC(=O)c2c(O)c(OC)c(C[C@@H](C)OC(=O)c3ccccc3)c3c4c5c(c(O)cc(OC)c5c1c23)C(=O)C(OC)C4=C[C@H](C)OC(=O)c1ccc(O)cc1&quot;, … &quot;COC1=CC(=O)C2C(=O)C(OC)C(=C[C@H](C)OC(=O)c3ccc(O)cc3)c3c2c1c1c2c(c(O)c(OC)c(C[C@@H](C)OC(=O)c4ccccc4)c32)C(=O)C=C1OC&quot;]</td><td>[&quot;COc1c(O)c2c(=O)cc(OC)c3c4c(OC)cc(O)c5c(=O)c(OC)c(C[C@H](C)OC(=O)c6ccc(O)cc6)c(c(c1C[C@@H](C)OC(=O)c1ccccc1)c23)c54&quot;, &quot;COC1=CC(=O)c2c(O)c(OC)c(C[C@H](C)OC(=O)C3C=CC(=O)C=C3)c3c2c1c1c(OC)cc(O)c2c(O)c(OC)c(=C[C@@H](C)OC(=O)c4ccccc4)c3c21&quot;, … &quot;COC1=CC(=O)c2c(O)c(OC)c(C[C@H](C)OC(=O)c3ccc(O)cc3)c3c2c1c1c(OC)cc(O)c2c(O)c(OC)c(=C[C@@H](C)OC(=O)c4ccccc4)c3c21&quot;]</td><td>[&quot;COC1CC(O)=C2C(O)C(OC)C(C[C@@H](C)OC(=O)C3CCCCC3)C3C2C1C1C(OC)CC(O)=C2C(O)C(OC)C(C[C@H](C)OC(=O)C4CCC(O)CC4)C3C21&quot;, &quot;COC1C=C(O)C2C(O)C(OC)C(C[C@H](C)OC(=O)C3CCC(O)CC3)C3C4C(C[C@@H](C)OC(=O)C5CCCCC5)C(OC)C(O)C5=C(O)CC(OC)C(C54)C1C23&quot;, … &quot;COC1CC(O)C2C(=O)C(OC)C(C[C@@H](C)OC(=O)C3CCCCC3)C3C4C(C[C@H](C)OC(=O)C5CCC(O)CC5)C(OC)C(=O)C5C(O)CC(OC)C(C1C23)C54&quot;]</td><td>[&quot;COc1c(O)c2c(=O)cc(OC)c3c4c(OC)cc(O)c5c(=O)c(OC)c(C[C@H](C)OC(=O)c6ccc(O)cc6)c(c(c1C[C@@H](C)OC(=O)c1ccccc1)c23)c54&quot;, &quot;COC1=c2c3c(c(=O)c(OC)c(C[C@@H](C)OC(=O)c4ccccc4)c3c3c(C[C@H](C)OC(=O)c4ccc(O)cc4)c(OC)c(O)c4c(=O)cc(OC)c2c43)C(=O)C1&quot;, … &quot;COC1=CC(=O)c2c(O)c(OC)c(C[C@H](C)OC(=O)c3ccc(O)cc3)c3c2c1c1c(OC)cc(O)c2c(O)c(OC)c(=C[C@@H](C)OC(=O)c4ccccc4)c3c21&quot;]</td><td>2</td><td>365</td><td>60</td><td>10</td><td>31</td><td>false</td><td>305</td><td>false</td><td>334</td><td>false</td><td>355</td><td>false</td><td>363</td></tr><tr><td>1512</td><td>[&lt;rdkit.Chem.rdchem.Mol object at 0x179c83300&gt;, &lt;rdkit.Chem.rdchem.Mol object at 0x179cd7370&gt;]</td><td>[&quot;CCP(CC)(=Nc1cc(C(c2ccccc2)(c2ccccc2)c2ccccc2)cc(C(C)(C)C)c1O)c1ccccc1&quot;, &quot;CCP1(CC)(c2ccccc2)Nc2cc(C(c3ccccc3)(c3ccccc3)c3ccccc3)cc(C(C)(C)C)c2O1&quot;]</td><td>[[&quot;CCP(CC)(=Nc1cc(C(c2ccccc2)(c2ccccc2)c2ccccc2)cc(C(C)(C)C)c1O)c1ccccc1&quot;, &quot;CCP(CC)(=NC1C=C(C(c2ccccc2)(c2ccccc2)c2ccccc2)C=C(C(C)(C)C)C1=O)c1ccccc1&quot;], [&quot;CCP1(CC)(c2ccccc2)Nc2cc(C(c3ccccc3)(c3ccccc3)c3ccccc3)cc(C(C)(C)C)c2O1&quot;]]</td><td>[[&quot;CCP(CC)(=Nc1cc(C(c2ccccc2)(c2ccccc2)c2ccccc2)cc(C(C)(C)C)c1O)c1ccccc1&quot;], [&quot;CCP1(CC)(c2ccccc2)Nc2cc(C(c3ccccc3)(c3ccccc3)c3ccccc3)cc(C(C)(C)C)c2O1&quot;]]</td><td>[[&quot;CC[P](CC)(=NC1=C(C(=CC(=C1)C(C2=CC=CC=C2)(C3=CC=CC=C3)C4=CC=CC=C4)C(C)(C)C)O)C5=CC=CC=C5&quot;], [&quot;CC[P]6(CC)(C1=CC=CC=C1)NC2=C(C(=CC(=C2)C(C3=CC=CC=C3)(C4=CC=CC=C4)C5=CC=CC=C5)C(C)(C)C)O6&quot;, &quot;CC[P]6(CC)(C1=CC=CC=C1)NC2=C(C(=CC(=C2)C(C3=CC=CC=C3)(C4=CC=CC=C4)C5=CC=CC=C5)C(C)(C)C)O6&quot;, … &quot;CC=[P](CC)(C1=CC=CC=C1)N=C2CC(=CC(=C2O)C(C)(C)C)C(C3=CC=CC=C3)(C4=CC=CC=C4)C5=CC=CC=C5&quot;]]</td><td>[[&quot;CCP(CC)(=Nc1cc(C(c2ccccc2)(c2ccccc2)c2ccccc2)cc(C(C)(C)C)c1O)c1ccccc1&quot;], [&quot;CC=P(CC)(NC1C=C(C(c2ccccc2)(c2ccccc2)c2ccccc2)C=C(C(C)(C)C)C1=O)c1ccccc1&quot;, &quot;CCP(CC)(=Nc1cc(C(c2ccccc2)(c2ccccc2)c2ccccc2)cc(C(C)(C)C)c1O)c1ccccc1&quot;, … &quot;CCP1(CC)(c2ccccc2)N=C2CC(C(c3ccccc3)(c3ccccc3)c3ccccc3)=CC(C(C)(C)C)=C2O1&quot;]]</td><td>[[&quot;CC=P(CC)(NC1C=C(C(c2ccccc2)(c2ccccc2)c2ccccc2)C=C(C(C)(C)C)C1=O)c1ccccc1&quot;, &quot;CCP(CC)(=NC1C=C(C(c2ccccc2)(c2ccccc2)c2ccccc2)C=C(C(C)(C)C)C1=O)c1ccccc1&quot;, … &quot;CC=P(CC)(Nc1cc(C(c2ccccc2)(c2ccccc2)c2ccccc2)cc(C(C)(C)C)c1O)c1ccccc1&quot;], [&quot;CCP1(CC)(c2ccccc2)N=C2C=C(C(c3ccccc3)(c3ccccc3)c3ccccc3)C=C(C(C)(C)C)C2O1&quot;, &quot;CCP(CC)(=Nc1cc(C(c2ccccc2)(c2ccccc2)c2ccccc2)cc(C(C)(C)C)c1O)c1ccccc1&quot;, &quot;CCP1(CC)(c2ccccc2)N=C2CC(C(c3ccccc3)(c3ccccc3)c3ccccc3)=CC(C(C)(C)C)=C2O1&quot;]]</td><td>[&quot;CCP(CC)(=Nc1cc(C(c2ccccc2)(c2ccccc2)c2ccccc2)cc(C(C)(C)C)c1O)c1ccccc1&quot;, &quot;CCP1(CC)(c2ccccc2)Nc2cc(C(c3ccccc3)(c3ccccc3)c3ccccc3)cc(C(C)(C)C)c2O1&quot;, &quot;CCP(CC)(=NC1C=C(C(c2ccccc2)(c2ccccc2)c2ccccc2)C=C(C(C)(C)C)C1=O)c1ccccc1&quot;]</td><td>[&quot;CCP(CC)(=Nc1cc(C(c2ccccc2)(c2ccccc2)c2ccccc2)cc(C(C)(C)C)c1O)c1ccccc1&quot;, &quot;CCP1(CC)(c2ccccc2)Nc2cc(C(c3ccccc3)(c3ccccc3)c3ccccc3)cc(C(C)(C)C)c2O1&quot;]</td><td>[&quot;CC=P(CC)(NC1C=C(C(c2ccccc2)(c2ccccc2)c2ccccc2)C=C(C(C)(C)C)C1=O)c1ccccc1&quot;, &quot;CCP(CC)(=Nc1cc(C(c2ccccc2)(c2ccccc2)c2ccccc2)cc(C(C)(C)C)c1O)c1ccccc1&quot;, … &quot;CCP1(CC)(c2ccccc2)N=C2CC(C(c3ccccc3)(c3ccccc3)c3ccccc3)=CC(C(C)(C)C)=C2O1&quot;]</td><td>[&quot;CC=P(CC)(NC1C=C(C(c2ccccc2)(c2ccccc2)c2ccccc2)C=C(C(C)(C)C)C1=O)c1ccccc1&quot;, &quot;CCP(CC)(=Nc1cc(C(c2ccccc2)(c2ccccc2)c2ccccc2)cc(C(C)(C)C)c1O)c1ccccc1&quot;, … &quot;CCP1(CC)(c2ccccc2)N=C2CC(C(c3ccccc3)(c3ccccc3)c3ccccc3)=CC(C(C)(C)C)=C2O1&quot;]</td><td>2</td><td>3</td><td>2</td><td>14</td><td>8</td><td>false</td><td>1</td><td>false</td><td>-5</td><td>false</td><td>-11</td><td>false</td><td>1</td></tr><tr><td>1704</td><td>[&lt;rdkit.Chem.rdchem.Mol object at 0x179c83300&gt;, &lt;rdkit.Chem.rdchem.Mol object at 0x179cd7370&gt;]</td><td>[&quot;C=c1c(C=O)cc(C)cc1=CO&quot;, &quot;Cc1cc(C=O)c(C)c(C=O)c1&quot;]</td><td>[[&quot;C=C1C(C=O)=CC(C)=CC1C=O&quot;, &quot;C=c1c(C=O)cc(C)cc1=CO&quot;], [&quot;Cc1cc(C=O)c(C)c(C=O)c1&quot;]]</td><td>[[&quot;C=c1c(C=O)cc(C)cc1=CO&quot;], [&quot;Cc1cc(C=O)c(C)c(C=O)c1&quot;]]</td><td>[[&quot;C=C\\1C(=CC(=CC1=C\\O)C)C=O&quot;], [&quot;CC1=CC(=C(C(=C1)C=O)C)C=O&quot;, &quot;CC1=CC(C(C(=C1)C=O)=C)C=O&quot;, … &quot;CC1=CC(C(C(=C1)C=O)=C)=CO&quot;]]</td><td>[[&quot;C=c1c(C=O)cc(C)c/c1=C\\O&quot;], [&quot;C=C1C(C=O)=CC(C)=CC1C=O&quot;, &quot;Cc1cc(C=O)c(C)c(C=O)c1&quot;, … &quot;C=C1C(C=O)=CC(C)C=C1C=O&quot;]]</td><td>[[&quot;C=C1C(C=O)=CC(C)=CC1C=O&quot;, &quot;C=C1C(C=O)=CC(C)C=C1C=O&quot;, &quot;Cc1cc(C=O)c(C)c(C=O)c1&quot;], [&quot;C=C1C(C=O)=CC(C)C=C1C=O&quot;, &quot;C=c1c(C=O)cc(C)cc1=CO&quot;]]</td><td>[&quot;C=C1C(C=O)=CC(C)=CC1C=O&quot;, &quot;Cc1cc(C=O)c(C)c(C=O)c1&quot;, &quot;C=c1c(C=O)cc(C)cc1=CO&quot;]</td><td>[&quot;Cc1cc(C=O)c(C)c(C=O)c1&quot;, &quot;C=c1c(C=O)cc(C)cc1=CO&quot;]</td><td>[&quot;C=c1c(C=O)cc(C)c/c1=C\\O&quot;, &quot;C=C1C(C=O)=CC(C)=CC1C=O&quot;, … &quot;C=c1c(C=O)cc(C)cc1=CO&quot;]</td><td>[&quot;C=C1C(C=O)=CC(C)=CC1C=O&quot;, &quot;C=C1C(C=O)=CC(C)C=C1C=O&quot;, … &quot;C=c1c(C=O)cc(C)cc1=CO&quot;]</td><td>2</td><td>3</td><td>2</td><td>5</td><td>4</td><td>false</td><td>1</td><td>false</td><td>-1</td><td>false</td><td>-2</td><td>false</td><td>1</td></tr></tbody></table></div>"
      ],
      "text/plain": [
       "shape: (3, 25)\n",
       "┌──────┬────────────┬────────────┬────────────┬───┬────────────┬───────────┬───────────┬───────────┐\n",
       "│ Ref  ┆ mol        ┆ flat_tauts ┆ tautsTauto ┆ … ┆ tauts_same ┆ n_tauts_d ┆ tauts_sam ┆ n_tauts_d │\n",
       "│ ---  ┆ ---        ┆ Expt       ┆ merEnumera ┆   ┆ CACTVS     ┆ iffCACTVS ┆ eExpt     ┆ iffExpt   │\n",
       "│ i64  ┆ list[exten ┆ ---        ┆ tor        ┆   ┆ ---        ┆ ---       ┆ ---       ┆ ---       │\n",
       "│      ┆ sion]      ┆ list[str]  ┆ ---        ┆   ┆ bool       ┆ i64       ┆ bool      ┆ i64       │\n",
       "│      ┆            ┆            ┆ list[list[ ┆   ┆            ┆           ┆           ┆           │\n",
       "│      ┆            ┆            ┆ str]]      ┆   ┆            ┆           ┆           ┆           │\n",
       "╞══════╪════════════╪════════════╪════════════╪═══╪════════════╪═══════════╪═══════════╪═══════════╡\n",
       "│ 890  ┆ [<rdkit.Ch ┆ [\"COc1c(C[ ┆ [[\"COC1=CC ┆ … ┆ false      ┆ 355       ┆ false     ┆ 363       │\n",
       "│      ┆ em.rdchem. ┆ C@@H](C)OC ┆ (=O)C2C(=O ┆   ┆            ┆           ┆           ┆           │\n",
       "│      ┆ Mol object ┆ (=O)c2cccc ┆ )C(OC)C(=C ┆   ┆            ┆           ┆           ┆           │\n",
       "│      ┆ a…         ┆ c2…        ┆ [C…        ┆   ┆            ┆           ┆           ┆           │\n",
       "│ 1512 ┆ [<rdkit.Ch ┆ [\"CCP(CC)( ┆ [[\"CCP(CC) ┆ … ┆ false      ┆ -11       ┆ false     ┆ 1         │\n",
       "│      ┆ em.rdchem. ┆ =Nc1cc(C(c ┆ (=Nc1cc(C( ┆   ┆            ┆           ┆           ┆           │\n",
       "│      ┆ Mol object ┆ 2ccccc2)(c ┆ c2ccccc2)( ┆   ┆            ┆           ┆           ┆           │\n",
       "│      ┆ a…         ┆ 2c…        ┆ c2…        ┆   ┆            ┆           ┆           ┆           │\n",
       "│ 1704 ┆ [<rdkit.Ch ┆ [\"C=c1c(C= ┆ [[\"C=C1C(C ┆ … ┆ false      ┆ -2        ┆ false     ┆ 1         │\n",
       "│      ┆ em.rdchem. ┆ O)cc(C)cc1 ┆ =O)=CC(C)= ┆   ┆            ┆           ┆           ┆           │\n",
       "│      ┆ Mol object ┆ =CO\",      ┆ CC1C=O\",   ┆   ┆            ┆           ┆           ┆           │\n",
       "│      ┆ a…         ┆ \"Cc1cc…    ┆ \"C=…       ┆   ┆            ┆           ┆           ┆           │\n",
       "└──────┴────────────┴────────────┴────────────┴───┴────────────┴───────────┴───────────┴───────────┘"
      ]
     },
     "execution_count": 68,
     "metadata": {},
     "output_type": "execute_result"
    }
   ],
   "source": [
    "df_melted_aggregated_different.filter(pl.col(\"Ref\").is_in([1704, 1512, 890]))"
   ]
  },
  {
   "cell_type": "code",
   "execution_count": 69,
   "metadata": {},
   "outputs": [
    {
     "data": {
      "text/html": [
       "<div><style>\n",
       ".dataframe > thead > tr > th,\n",
       ".dataframe > tbody > tr > td {\n",
       "  text-align: right;\n",
       "  white-space: pre-wrap;\n",
       "}\n",
       "</style>\n",
       "<small>shape: (1, 25)</small><table border=\"1\" class=\"dataframe\"><thead><tr><th>Ref</th><th>mol</th><th>flat_tautsExpt</th><th>tautsTautomerEnumerator</th><th>tautsGetV1TautomerEnumerator</th><th>tautCACTVS</th><th>tautsCACTVS</th><th>tautsNIH</th><th>flat_tautsTautomerEnumerator</th><th>flat_tautsGetV1TautomerEnumerator</th><th>flat_tautsCACTVS</th><th>flat_tautsNIH</th><th>n_tautsExpt</th><th>n_tautsTautomerEnumerator</th><th>n_tautsGetV1TautomerEnumerator</th><th>n_tautsCACTVS</th><th>n_tautsNIH</th><th>tauts_sameGetV1TautomerEnumerator</th><th>n_tauts_diffGetV1TautomerEnumerator</th><th>tauts_sameNIH</th><th>n_tauts_diffNIH</th><th>tauts_sameCACTVS</th><th>n_tauts_diffCACTVS</th><th>tauts_sameExpt</th><th>n_tauts_diffExpt</th></tr><tr><td>i64</td><td>list[extension]</td><td>list[str]</td><td>list[list[str]]</td><td>list[list[str]]</td><td>list[list[str]]</td><td>list[list[str]]</td><td>list[list[str]]</td><td>list[str]</td><td>list[str]</td><td>list[str]</td><td>list[str]</td><td>i64</td><td>i64</td><td>i64</td><td>i64</td><td>i64</td><td>bool</td><td>i64</td><td>bool</td><td>i64</td><td>bool</td><td>i64</td><td>bool</td><td>i64</td></tr></thead><tbody><tr><td>457</td><td>[&lt;rdkit.Chem.rdchem.Mol object at 0x179c83300&gt;, &lt;rdkit.Chem.rdchem.Mol object at 0x179cd7370&gt;]</td><td>[&quot;[2H]Oc1ccc(-c2oc3c([2H])c(O[2H])c(OC)c(=O)c-3c(O[2H])c2O[2H])cc1O[2H]&quot;, &quot;[2H]Oc1ccc(-c2oc3c([2H])c(O[2H])c(OC)c(O[2H])c3c(=O)c2O[2H])cc1O[2H]&quot;]</td><td>[[&quot;[2H]OC1=CC(=C2OC3=C(C(=O)C(OC)C([OH][2H])=C3[2H])C([OH][2H])=C2O[2H])C=CC1=O[2H]&quot;, &quot;[2H]OC1=C([OH][2H])C2=C(OC1=C1C=CC(=O[2H])C(=O[2H])C1)C([2H])C(=O[2H])C(OC)C2=O&quot;, … &quot;[2H]OC1=CC(C2OC3=C([2H])C(=O[2H])C(OC)C(=O)C3=C(O[2H])C2=O[2H])C=CC1=O[2H]&quot;], [&quot;[2H]OC1=C(O)C2=C(OC1=C1C=CC(=O[2H])C(=O[2H])C1)C([2H])=C([OH][2H])C(OC)C2=O[2H]&quot;, &quot;[2H]O=C1C=C(C2OC3=C([2H])C(=O[2H])C(OC)C(=O[2H])C3=C(O)C2=O[2H])CCC1=O[2H]&quot;, … &quot;[2H]OC1=C2C(=O)C(=O[2H])C(C3=CC(=O[2H])C(=O[2H])CC3)OC2=C([2H])C(=O[2H])C1OC&quot;]]</td><td>[[&quot;[2H]Oc1c([OH][2H])c(-c2ccc([OH][2H])c([OH][2H])c2)oc2c([2H])c([OH][2H])c(OC)c(=O)c1-2&quot;, &quot;[2H]OC1=CC(=C2OC3=C(C(=O)C(OC)C([OH][2H])=C3[2H])C([OH][2H])=C2O[2H])C=CC1=O[2H]&quot;, … &quot;[2H]OC1C(=O[2H])C(C2=CC(=O[2H])C(=O[2H])C=C2)Oc2c([2H])c([OH][2H])c(OC)c(O)c21&quot;], [&quot;[2H]OC1=C(O)C2=C(OC1=C1C=CC(=O[2H])C(=O[2H])C1)C([2H])=C([OH][2H])C(OC)C2=O[2H]&quot;, &quot;[2H]O=C1C=C(C2OC3=C([2H])C(=O[2H])C(OC)C(=O[2H])C3=C(O)C2=O[2H])CCC1=O[2H]&quot;, … &quot;[2H]OC1=C(c2ccc([OH][2H])c(O[2H])c2)OC2=C([2H])C([OH][2H])=C(OC)C(=O[2H])C2C1=O&quot;]]</td><td>[null, null]</td><td>[[], []]</td><td>[[&quot;[2H]OC1=C(c2ccc(O[2H])c(O[2H])c2)OC2=C([2H])C(=O)C([2H])(OC)C(=O)C2([2H])C1=O&quot;, &quot;[2H]OC1=CC(=C2Oc3c([2H])c(O[2H])c(OC)c(O[2H])c3C(O[2H])=C2O[2H])C=CC1=O&quot;, … &quot;[2H]OC1=C2C(=O)C([2H])(OC)C(=O)C([2H])=C2OC(c2ccc(O[2H])c(O[2H])c2)=C1O[2H]&quot;], [&quot;[2H]OC1=C(OC)C(=O)C([2H])([2H])c2oc(-c3ccc(O[2H])c(O[2H])c3)c(O[2H])c(=O)c21&quot;, &quot;[2H]OC1=C([2H])c2oc(-c3ccc(O[2H])c(O[2H])c3)c(O[2H])c(=O)c2C(=O)C1([2H])OC&quot;, … &quot;[2H]Oc1ccc(C2([2H])Oc3c([2H])c(O[2H])c(OC)c(O[2H])c3C(=O)C2=O)cc1O[2H]&quot;]]</td><td>[&quot;[2H]OC1=C(O)C2=C(OC1=C1C=CC(=O[2H])C(=O[2H])C1)C([2H])=C([OH][2H])C(OC)C2=O[2H]&quot;, &quot;[2H]OC1=CC(=C2OC3=C(C(=O)C(OC)C([OH][2H])=C3[2H])C([OH][2H])=C2O[2H])C=CC1=O[2H]&quot;, … &quot;[2H]OC1=C2C(=O)C(=O[2H])C(C3=CC(=O[2H])C(=O[2H])CC3)OC2=C([2H])C(=O[2H])C1OC&quot;]</td><td>[&quot;[2H]Oc1c([OH][2H])c(-c2ccc([OH][2H])c([OH][2H])c2)oc2c([2H])c([OH][2H])c(OC)c(=O)c1-2&quot;, &quot;[2H]OC1=C(O)C2=C(OC1=C1C=CC(=O[2H])C(=O[2H])C1)C([2H])=C([OH][2H])C(OC)C2=O[2H]&quot;, … &quot;[2H]OC1C(=O[2H])C(C2=CC(=O[2H])C(=O[2H])C=C2)Oc2c([2H])c([OH][2H])c(OC)c(O)c21&quot;]</td><td>[]</td><td>[&quot;[2H]OC1=C([2H])c2oc(-c3ccc(O[2H])c(O[2H])c3)c(O[2H])c(=O)c2C(=O)C1([2H])OC&quot;, &quot;[2H]OC1=CC(c2oc3c([2H])c(=O)c(OC)c(O[2H])c-3c(O[2H])c2O[2H])=CC([2H])C1=O&quot;, … &quot;[2H]Oc1ccc(C2([2H])Oc3c([2H])c(O[2H])c(OC)c(O[2H])c3C(=O)C2=O)cc1O[2H]&quot;]</td><td>2</td><td>851</td><td>873</td><td>0</td><td>30</td><td>false</td><td>-22</td><td>false</td><td>821</td><td>false</td><td>null</td><td>false</td><td>849</td></tr></tbody></table></div>"
      ],
      "text/plain": [
       "shape: (1, 25)\n",
       "┌─────┬────────────┬────────────┬────────────┬───┬────────────┬────────────┬───────────┬───────────┐\n",
       "│ Ref ┆ mol        ┆ flat_tauts ┆ tautsTauto ┆ … ┆ tauts_same ┆ n_tauts_di ┆ tauts_sam ┆ n_tauts_d │\n",
       "│ --- ┆ ---        ┆ Expt       ┆ merEnumera ┆   ┆ CACTVS     ┆ ffCACTVS   ┆ eExpt     ┆ iffExpt   │\n",
       "│ i64 ┆ list[exten ┆ ---        ┆ tor        ┆   ┆ ---        ┆ ---        ┆ ---       ┆ ---       │\n",
       "│     ┆ sion]      ┆ list[str]  ┆ ---        ┆   ┆ bool       ┆ i64        ┆ bool      ┆ i64       │\n",
       "│     ┆            ┆            ┆ list[list[ ┆   ┆            ┆            ┆           ┆           │\n",
       "│     ┆            ┆            ┆ str]]      ┆   ┆            ┆            ┆           ┆           │\n",
       "╞═════╪════════════╪════════════╪════════════╪═══╪════════════╪════════════╪═══════════╪═══════════╡\n",
       "│ 457 ┆ [<rdkit.Ch ┆ [\"[2H]Oc1c ┆ [[\"[2H]OC1 ┆ … ┆ false      ┆ null       ┆ false     ┆ 849       │\n",
       "│     ┆ em.rdchem. ┆ cc(-c2oc3c ┆ =CC(=C2OC3 ┆   ┆            ┆            ┆           ┆           │\n",
       "│     ┆ Mol object ┆ ([2H])c(O[ ┆ =C(C(=O)C( ┆   ┆            ┆            ┆           ┆           │\n",
       "│     ┆ a…         ┆ 2H…        ┆ OC…        ┆   ┆            ┆            ┆           ┆           │\n",
       "└─────┴────────────┴────────────┴────────────┴───┴────────────┴────────────┴───────────┴───────────┘"
      ]
     },
     "execution_count": 69,
     "metadata": {},
     "output_type": "execute_result"
    }
   ],
   "source": [
    "# df_melted_aggregated_different_example = df_melted_aggregated_different.filter(pl.col(\"Ref\") == 73)\n",
    "# df_melted_aggregated_different_example = df_melted_aggregated_different.filter(pl.col(\"Ref\") == 1704) # Asked Marc Nicklaus to generate CACTVS tautomers for\n",
    "# df_melted_aggregated_different_example = df_melted_aggregated_different.filter(pl.col(\"Ref\") == 1688) # Bad--weird structure drawing\n",
    "# df_melted_aggregated_different_example = df_melted_aggregated_different.filter(pl.col(\"Ref\") == 1689) # Bad--weird structure drawing\n",
    "# df_melted_aggregated_different_example = df_melted_aggregated_different.filter(pl.col(\"Ref\") == 890) # Asked Marc Nicklaus to generate CACTVS tautomers for\n",
    "# df_melted_aggregated_different_example = df_melted_aggregated_different.filter(pl.col(\"Ref\") == 1758) # Bad--weird structure drawing\n",
    "# df_melted_aggregated_different_example = df_melted_aggregated_different.filter(pl.col(\"Ref\") == 1512) # Asked Marc Nicklaus to generate CACTVS tautomers for\n",
    "df_melted_aggregated_different_example = df_melted_aggregated_different.filter(pl.col(\"Ref\") == 457)\n",
    "df_melted_aggregated_different_example"
   ]
  },
  {
   "cell_type": "code",
   "execution_count": 70,
   "metadata": {},
   "outputs": [],
   "source": [
    "# Output SMILES for all RDKit V2 tautomers for a ref\n",
    "# tauts_890_rdkitv2 = df_melted_aggregated_different_example[0][\"flat_tautsTautomerEnumerator\"].item().to_list()\n",
    "# import csv\n",
    "\n",
    "# filename = \"../data/ref890_rdkit_v2_tautomers.csv\"\n",
    "\n",
    "# # Open the file in write mode\n",
    "# with open(filename, 'w', newline='') as csvfile:\n",
    "#     # Create a CSV writer object\n",
    "#     csvwriter = csv.writer(csvfile)\n",
    "\n",
    "#     # Write each item of the list on its own line\n",
    "#     csvwriter.writerows([[item] for item in tauts_890_rdkitv2])\n"
   ]
  },
  {
   "cell_type": "code",
   "execution_count": 110,
   "metadata": {},
   "outputs": [],
   "source": [
    "# For the various data sources, extract SMILES, align them sequentially, and create RDKit molecules for drawing \n",
    "smls_expt = df_melted_aggregated_different_example.select(\"flat_tautsExpt\").item().to_list()\n",
    "smls_v2 = df_melted_aggregated_different_example.select(\"flat_tautsTautomerEnumerator\").item().to_list()\n",
    "smls_v2_aligned = align_ordered_iterables(smls_expt, smls_v2)\n",
    "smls_v1 = df_melted_aggregated_different_example.select(\"flat_tautsGetV1TautomerEnumerator\").item().to_list()\n",
    "smls_v1_aligned = align_ordered_iterables(smls_v2_aligned, smls_v1)\n",
    "smls_nih = df_melted_aggregated_different_example.select(\"flat_tautsNIH\").item().to_list()\n",
    "smls_nih_aligned = align_ordered_iterables(smls_v1_aligned, smls_nih)\n",
    "smls_cactvs = df_melted_aggregated_different_example.select(\"flat_tautsCACTVS\").item().to_list()\n",
    "smls_cactvs_aligned = align_ordered_iterables(smls_nih_aligned, smls_cactvs)\n",
    "\n",
    "tauts_expt = [mol_from_sml(sml) for sml in smls_expt]\n",
    "tauts_v2_aligned = [mol_from_sml(sml) if sml else None for sml in smls_v2_aligned]\n",
    "tauts_v1_aligned = [mol_from_sml(sml) if sml else None for sml in smls_v1_aligned]\n",
    "tauts_nih_aligned = [mol_from_sml(sml) if sml else None for sml in smls_nih_aligned]\n",
    "tauts_cactvs_aligned = [mol_from_sml(sml) if sml else None for sml in smls_cactvs_aligned]"
   ]
  },
  {
   "cell_type": "code",
   "execution_count": 117,
   "metadata": {},
   "outputs": [
    {
     "data": {
      "image/png": "[encoded data removed]",
      "text/plain": [
       "<IPython.core.display.Image object>"
      ]
     },
     "execution_count": 117,
     "metadata": {},
     "output_type": "execute_result"
    }
   ],
   "source": [
    "# Plot all sets of tautomers\n",
    "\n",
    "# Limit number of columns so structures will be readable\n",
    "max_cols = 10\n",
    "# Create nested (2D) data structures for Draw.MolsMatrixToGridImage\n",
    "smls_matrix = [\n",
    "    smls_expt,\n",
    "    smls_v2_aligned,\n",
    "    smls_v1_aligned,\n",
    "]\n",
    "tauts_matrix = [\n",
    "    tauts_expt[:max_cols],\n",
    "    tauts_v2_aligned[:max_cols],\n",
    "    tauts_v1_aligned[:max_cols],\n",
    "]\n",
    "\n",
    "row_labels = [\n",
    "    f\"Expt: {len(smls_expt)} tautomers\",\n",
    "    f\"RDKit v2 code: {len(smls_v2)} tautomers\",\n",
    "    f\"RDKit v1 code: {len(smls_v1)} tautomers\",\n",
    "]\n",
    "\n",
    "# If NIH tautomers generated, add row for them\n",
    "if len(smls_nih):\n",
    "    smls_matrix.append(smls_nih_aligned)\n",
    "    tauts_matrix.append(tauts_nih_aligned[:max_cols])\n",
    "    row_labels.append(f\"NIH code: {len(smls_nih)} tautomers\")\n",
    "\n",
    "# If CACTVS tautomers generated, add row for them\n",
    "if len(smls_cactvs):\n",
    "    smls_matrix.append(smls_cactvs)\n",
    "    tauts_matrix.append(tauts_cactvs_aligned[:max_cols])\n",
    "    row_labels.append(f\"CACTVS code: {len(smls_cactvs)} tautomers\")\n",
    "\n",
    "# Initialize a legends matrix with empty strings\n",
    "legends_matrix = [[\"\" for item in row] for row in tauts_matrix]\n",
    "\n",
    "# Label first molecule in each row with source and number of tautomers\n",
    "\n",
    "for label_index, row_label in enumerate(row_labels):\n",
    "        legends_matrix[label_index][0] = row_label\n",
    "\n",
    "# Align structures based on maximum common substructure (mcs)\n",
    "# Exclude blank entries to avoid problem with aligning empty molecules\n",
    "tauts_all_flat = [\n",
    "    item for sublist in tauts_matrix for item in sublist if item is not None\n",
    "]\n",
    "mcs = rdFMCS.FindMCS(\n",
    "    tauts_all_flat,\n",
    "    bondCompare=rdFMCS.BondCompare.CompareAny,\n",
    ")\n",
    "mcs_smarts = mcs.smartsString\n",
    "mcs_mol = Chem.MolFromSmarts(mcs_smarts)\n",
    "Chem.Compute2DCoords(mcs_mol)\n",
    "for m in tauts_all_flat:\n",
    "    Chem.GenerateDepictionMatching2DStructure(m, mcs_mol)\n",
    "\n",
    "Draw.MolsMatrixToGridImage(\n",
    "    molsMatrix=tauts_matrix, legendsMatrix=legends_matrix, useSVG=True, maxMols=1700\n",
    ")"
   ]
  },
  {
   "cell_type": "code",
   "execution_count": 73,
   "metadata": {},
   "outputs": [
    {
     "data": {
      "image/png": "[encoded data removed]",
      "text/plain": [
       "<rdkit.Chem.rdchem.Mol at 0x28ea392a0>"
      ]
     },
     "execution_count": 73,
     "metadata": {},
     "output_type": "execute_result"
    }
   ],
   "source": [
    "# Show how large, and thus effective, MCS is if use bondCompare=rdFMCS.BondCompare.CompareAny\n",
    "mcs_mol"
   ]
  },
  {
   "cell_type": "code",
   "execution_count": 74,
   "metadata": {},
   "outputs": [
    {
     "data": {
      "image/png": "[encoded data removed]",
      "text/plain": [
       "<rdkit.Chem.rdchem.Mol at 0x28ea3ace0>"
      ]
     },
     "execution_count": 74,
     "metadata": {},
     "output_type": "execute_result"
    }
   ],
   "source": [
    "# Show how much smaller, and thus ineffective, MCS is if don't use bondCompare=rdFMCS.BondCompare.CompareAny\n",
    "mcs_strict = rdFMCS.FindMCS(\n",
    "    tauts_all_flat,\n",
    ")\n",
    "mcs_smarts_strict = mcs_strict.smartsString\n",
    "mcs_mol_strict = Chem.MolFromSmarts(mcs_smarts_strict)\n",
    "mcs_mol_strict"
   ]
  },
  {
   "cell_type": "code",
   "execution_count": 75,
   "metadata": {},
   "outputs": [
    {
     "ename": "ColumnNotFoundError",
     "evalue": "Size\n\nError originated just after this operation:\nDF [\"Ref\", \"SMILES_1\", \"Std_InChI_1\", \"SMILES_2\"]; PROJECT */11 COLUMNS; SELECTION: \"None\"",
     "output_type": "error",
     "traceback": [
      "\u001b[0;31m---------------------------------------------------------------------------\u001b[0m",
      "\u001b[0;31mColumnNotFoundError\u001b[0m                       Traceback (most recent call last)",
      "\u001b[1;32m/Users/jemonat/Projects/bertiewooster.github.io/_notebooks/tautomer-algorithm-comparison.ipynb Cell 98\u001b[0m line \u001b[0;36m2\n\u001b[1;32m      <a href='vscode-notebook-cell:/Users/jemonat/Projects/bertiewooster.github.io/_notebooks/tautomer-algorithm-comparison.ipynb#Y166sZmlsZQ%3D%3D?line=0'>1</a>\u001b[0m \u001b[39m# Optional--Checking data quality\u001b[39;00m\n\u001b[0;32m----> <a href='vscode-notebook-cell:/Users/jemonat/Projects/bertiewooster.github.io/_notebooks/tautomer-algorithm-comparison.ipynb#Y166sZmlsZQ%3D%3D?line=1'>2</a>\u001b[0m df_1 \u001b[39m=\u001b[39m df\u001b[39m.\u001b[39;49mfilter(pl\u001b[39m.\u001b[39;49mcol(\u001b[39m\"\u001b[39;49m\u001b[39mRef\u001b[39;49m\u001b[39m\"\u001b[39;49m)\u001b[39m==\u001b[39;49m\u001b[39m1\u001b[39;49m)\u001b[39m.\u001b[39;49mselect(\u001b[39m\"\u001b[39;49m\u001b[39mRef\u001b[39;49m\u001b[39m\"\u001b[39;49m,\u001b[39m\"\u001b[39;49m\u001b[39mSize\u001b[39;49m\u001b[39m\"\u001b[39;49m,\u001b[39m*\u001b[39;49mnumbered_columns[:\u001b[39m4\u001b[39;49m])\n\u001b[1;32m      <a href='vscode-notebook-cell:/Users/jemonat/Projects/bertiewooster.github.io/_notebooks/tautomer-algorithm-comparison.ipynb#Y166sZmlsZQ%3D%3D?line=2'>3</a>\u001b[0m df_1\n\u001b[1;32m      <a href='vscode-notebook-cell:/Users/jemonat/Projects/bertiewooster.github.io/_notebooks/tautomer-algorithm-comparison.ipynb#Y166sZmlsZQ%3D%3D?line=3'>4</a>\u001b[0m df_1_InChI \u001b[39m=\u001b[39m df_1\u001b[39m.\u001b[39mselect(\u001b[39m\"\u001b[39m\u001b[39mRef\u001b[39m\u001b[39m\"\u001b[39m,\u001b[39m*\u001b[39mInChI_columns[:\u001b[39m2\u001b[39m])\n",
      "File \u001b[0;32m~/Projects/bertiewooster.github.io/venv/lib/python3.11/site-packages/polars/dataframe/frame.py:7727\u001b[0m, in \u001b[0;36mDataFrame.select\u001b[0;34m(self, *exprs, **named_exprs)\u001b[0m\n\u001b[1;32m   7625\u001b[0m \u001b[39mdef\u001b[39;00m \u001b[39mselect\u001b[39m(\n\u001b[1;32m   7626\u001b[0m     \u001b[39mself\u001b[39m, \u001b[39m*\u001b[39mexprs: IntoExpr \u001b[39m|\u001b[39m Iterable[IntoExpr], \u001b[39m*\u001b[39m\u001b[39m*\u001b[39mnamed_exprs: IntoExpr\n\u001b[1;32m   7627\u001b[0m ) \u001b[39m-\u001b[39m\u001b[39m>\u001b[39m DataFrame:\n\u001b[1;32m   7628\u001b[0m \u001b[39m    \u001b[39m\u001b[39m\"\"\"\u001b[39;00m\n\u001b[1;32m   7629\u001b[0m \u001b[39m    Select columns from this DataFrame.\u001b[39;00m\n\u001b[1;32m   7630\u001b[0m \n\u001b[0;32m   (...)\u001b[0m\n\u001b[1;32m   7725\u001b[0m \n\u001b[1;32m   7726\u001b[0m \u001b[39m    \"\"\"\u001b[39;00m\n\u001b[0;32m-> 7727\u001b[0m     \u001b[39mreturn\u001b[39;00m \u001b[39mself\u001b[39;49m\u001b[39m.\u001b[39;49mlazy()\u001b[39m.\u001b[39;49mselect(\u001b[39m*\u001b[39;49mexprs, \u001b[39m*\u001b[39;49m\u001b[39m*\u001b[39;49mnamed_exprs)\u001b[39m.\u001b[39;49mcollect(eager\u001b[39m=\u001b[39;49m\u001b[39mTrue\u001b[39;49;00m)\n",
      "File \u001b[0;32m~/Projects/bertiewooster.github.io/venv/lib/python3.11/site-packages/polars/utils/deprecation.py:96\u001b[0m, in \u001b[0;36mdeprecate_renamed_parameter.<locals>.decorate.<locals>.wrapper\u001b[0;34m(*args, **kwargs)\u001b[0m\n\u001b[1;32m     91\u001b[0m \u001b[39m@wraps\u001b[39m(function)\n\u001b[1;32m     92\u001b[0m \u001b[39mdef\u001b[39;00m \u001b[39mwrapper\u001b[39m(\u001b[39m*\u001b[39margs: P\u001b[39m.\u001b[39margs, \u001b[39m*\u001b[39m\u001b[39m*\u001b[39mkwargs: P\u001b[39m.\u001b[39mkwargs) \u001b[39m-\u001b[39m\u001b[39m>\u001b[39m T:\n\u001b[1;32m     93\u001b[0m     _rename_keyword_argument(\n\u001b[1;32m     94\u001b[0m         old_name, new_name, kwargs, function\u001b[39m.\u001b[39m\u001b[39m__name__\u001b[39m, version\n\u001b[1;32m     95\u001b[0m     )\n\u001b[0;32m---> 96\u001b[0m     \u001b[39mreturn\u001b[39;00m function(\u001b[39m*\u001b[39;49margs, \u001b[39m*\u001b[39;49m\u001b[39m*\u001b[39;49mkwargs)\n",
      "File \u001b[0;32m~/Projects/bertiewooster.github.io/venv/lib/python3.11/site-packages/polars/lazyframe/frame.py:1713\u001b[0m, in \u001b[0;36mLazyFrame.collect\u001b[0;34m(self, type_coercion, predicate_pushdown, projection_pushdown, simplify_expression, no_optimization, slice_pushdown, comm_subplan_elim, comm_subexpr_elim, streaming, **kwargs)\u001b[0m\n\u001b[1;32m   1700\u001b[0m     comm_subplan_elim \u001b[39m=\u001b[39m \u001b[39mFalse\u001b[39;00m\n\u001b[1;32m   1702\u001b[0m ldf \u001b[39m=\u001b[39m \u001b[39mself\u001b[39m\u001b[39m.\u001b[39m_ldf\u001b[39m.\u001b[39moptimization_toggle(\n\u001b[1;32m   1703\u001b[0m     type_coercion,\n\u001b[1;32m   1704\u001b[0m     predicate_pushdown,\n\u001b[0;32m   (...)\u001b[0m\n\u001b[1;32m   1711\u001b[0m     eager,\n\u001b[1;32m   1712\u001b[0m )\n\u001b[0;32m-> 1713\u001b[0m \u001b[39mreturn\u001b[39;00m wrap_df(ldf\u001b[39m.\u001b[39mcollect())\n",
      "\u001b[0;31mColumnNotFoundError\u001b[0m: Size\n\nError originated just after this operation:\nDF [\"Ref\", \"SMILES_1\", \"Std_InChI_1\", \"SMILES_2\"]; PROJECT */11 COLUMNS; SELECTION: \"None\""
     ]
    }
   ],
   "source": [
    "# Optional--Checking data quality\n",
    "df_1 = df.filter(pl.col(\"Ref\")==1).select(\"Ref\",\"Size\",*numbered_columns[:4])\n",
    "df_1\n",
    "df_1_InChI = df_1.select(\"Ref\",*InChI_columns[:2])\n",
    "df_1_InChI = (\n",
    "    df_1_InChI\n",
    "    .melt(id_vars=\"Ref\", value_vars=InChI_columns[:2], value_name=\"InChI\")\n",
    "    .select(\"InChI\")\n",
    "    .drop_nulls()\n",
    ")\n",
    "unique_InChI = set(df_1_InChI[\"InChI\"].to_list())\n",
    "print(f\"{unique_InChI=}\")\n",
    "\n",
    "df_1_smls = df_1.select(\"Ref\",*SMILES_columns[:2])\n",
    "\n",
    "df_1_smls = (\n",
    "    df_1_smls\n",
    "    .melt(id_vars=\"Ref\", value_vars=SMILES_columns[:2], value_name=\"sml\")\n",
    "    .select(\"sml\")\n",
    "    .drop_nulls()\n",
    ")\n",
    "unique_smls = df_1_smls[\"sml\"].to_list()\n",
    "unique_mols = [mol_from_sml(sml) for sml in unique_smls]\n",
    "unique_smls_canon = {Chem.MolToSmiles(mol) for mol in unique_mols}\n",
    "unique_smls_to_inchi = {Chem.MolToInchi(mol) for mol in unique_mols}\n",
    "\n",
    "print(f\"{unique_smls_canon=}\")\n",
    "print(f\"{unique_smls_to_inchi=}\")"
   ]
  },
  {
   "cell_type": "markdown",
   "metadata": {},
   "source": [
    "Hi"
   ]
  },
  {
   "cell_type": "code",
   "execution_count": null,
   "metadata": {},
   "outputs": [
    {
     "data": {
      "text/plain": [
       "[{'N=c1[nH]cc[nH]1': <rdkit.Chem.rdchem.Mol at 0x28ec4eff0>,\n",
       "  'Nc1ncc[nH]1': <rdkit.Chem.rdchem.Mol at 0x28ec4ef80>},\n",
       " {'N=c1[nH]cc[nH]1': <rdkit.Chem.rdchem.Mol at 0x28ec4f1b0>,\n",
       "  'Nc1ncc[nH]1': <rdkit.Chem.rdchem.Mol at 0x28ec4fa70>}]"
      ]
     },
     "execution_count": 141,
     "metadata": {},
     "output_type": "execute_result"
    }
   ],
   "source": [
    "sml = \"N=c1[nH]cc[nH]1\"\n",
    "smls_tauts = enumerate_tauts(sml)\n",
    "smls_tauts"
   ]
  },
  {
   "cell_type": "code",
   "execution_count": null,
   "metadata": {},
   "outputs": [],
   "source": [
    "for i in range(0,1000):\n",
    "    smls_tauts = enumerate_tauts(sml)"
   ]
  },
  {
   "cell_type": "code",
   "execution_count": null,
   "metadata": {},
   "outputs": [
    {
     "name": "stdout",
     "output_type": "stream",
     "text": [
      "[{'N=c1[nH]cc[nH]1': <rdkit.Chem.rdchem.Mol object at 0x28ec4f370>, 'Nc1ncc[nH]1': <rdkit.Chem.rdchem.Mol object at 0x28ec4f300>}, {'N=c1[nH]cc[nH]1': <rdkit.Chem.rdchem.Mol object at 0x28ec4fc30>, 'Nc1ncc[nH]1': <rdkit.Chem.rdchem.Mol object at 0x29be152a0>}]\n",
      "[['N=c1[nH]cc[nH]1', 'Nc1ncc[nH]1'], ['N=c1[nH]cc[nH]1', 'Nc1ncc[nH]1']]\n",
      "[[<rdkit.Chem.rdchem.Mol object at 0x28ec4f370>, <rdkit.Chem.rdchem.Mol object at 0x28ec4f300>], [<rdkit.Chem.rdchem.Mol object at 0x28ec4fc30>, <rdkit.Chem.rdchem.Mol object at 0x29be152a0>]]\n"
     ]
    },
    {
     "data": {
      "image/png": "[encoded data removed]",
      "text/plain": [
       "<IPython.core.display.Image object>"
      ]
     },
     "execution_count": 143,
     "metadata": {},
     "output_type": "execute_result"
    }
   ],
   "source": [
    "sml = \"N=c1[nH]cc[nH]1\"\n",
    "smls_tauts = enumerate_tauts(sml)\n",
    "print(smls_tauts)\n",
    "smls = [[item for item in enumerator.keys()] for enumerator in smls_tauts]\n",
    "tauts = [[item for item in enumerator.values()] for enumerator in smls_tauts]\n",
    "\n",
    "print(smls)\n",
    "print(tauts)\n",
    "Draw.MolsMatrixToGridImage(tauts, legendsMatrix=smls)"
   ]
  },
  {
   "cell_type": "code",
   "execution_count": null,
   "metadata": {},
   "outputs": [],
   "source": []
  }
 ],
 "metadata": {
  "kernelspec": {
   "display_name": "venv",
   "language": "python",
   "name": "python3"
  },
  "language_info": {
   "codemirror_mode": {
    "name": "ipython",
    "version": 3
   },
   "file_extension": ".py",
   "mimetype": "text/x-python",
   "name": "python",
   "nbconvert_exporter": "python",
   "pygments_lexer": "ipython3",
   "version": "3.11.0"
  }
 },
 "nbformat": 4,
 "nbformat_minor": 2
}
