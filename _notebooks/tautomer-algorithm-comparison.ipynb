{
 "cells": [
  {
   "cell_type": "markdown",
   "metadata": {},
   "source": [
    "# Comparing Tautomer Generation Algorithms"
   ]
  },
  {
   "cell_type": "markdown",
   "metadata": {},
   "source": [
    "[Tautomers](https://en.wikipedia.org/wiki/Tautomer) are chemical structures that readily interconvert under given conditions. For example, an amino acid has a neutral form, and a zwitterionic form with separated positive and negative charges. Cheminformatics packages have algorithms to enumerate tautomers based on rules. Which algorithms produce the most tautomers? And how successful is InChI at representing with a single identifier all tautomers of a given structure?"
   ]
  },
  {
   "cell_type": "markdown",
   "metadata": {},
   "source": [
    "![Tautomeric forms of an amino acid: neutral (1) and zwitterionic (2)](../images/Amino_acid_zwitterions.svg)"
   ]
  },
  {
   "cell_type": "markdown",
   "metadata": {},
   "source": [
    "[Image](https://commons.wikimedia.org/wiki/File:Amino_acid_zwitterions.svg) credit: [TimVickers](https://en.wikipedia.org/wiki/User:TimVickers) vector version by [YassineMrabet](https://commons.wikimedia.org/wiki/User:YassineMrabet)\n"
   ]
  },
  {
   "cell_type": "markdown",
   "metadata": {},
   "source": [
    "The tautomer generation algorithms discussed below are based on rules from Markus Sitzmann, Wolf-Dietrich Ihlenfeldt, and Marc C. Nicklaus, “Tautomerism in Large Databases”, _JCAMD_ 24:521 (2010) https://doi.org/10.1007/s10822-010-9346-4.\n",
    "\n",
    "RDKit has two tautomer generation algorithms, [GetV1TautomerEnumerator](https://www.rdkit.org/docs/source/rdkit.Chem.MolStandardize.rdMolStandardize.html#rdkit.Chem.MolStandardize.rdMolStandardize.GetV1TautomerEnumerator) and the [new algorithm, TautomerEnumerator](https://www.rdkit.org/docs/source/rdkit.Chem.MolStandardize.rdMolStandardize.html#rdkit.Chem.MolStandardize.rdMolStandardize.TautomerEnumerator). The [2022.03 release notes](https://www.rdkit.org/docs/BackwardsIncompatibleChanges.html#tautomer-enumeration-improvements) state:\n",
    "> The rules for tautomer enumeration in MolStandardize have been updated to more closely match the rules in the original publication [cited above]. These changes primarily consist of making the rules more specific; the consequence is that less tautomers will be generated with this version.\n",
    "\n",
    "but maintainer Greg Landrum [wrote](https://github.com/rdkit/rdkit/discussions/6997#discussioncomment-7893160)\n",
    "> [the new TautomerEnumerator returning fewer examples than the previous rules V1 is] not something I've noticed. The code change adds a missed case to the enumeration rule set, so at first glance you'd expect it to always produce more tautomers, but I suppose that could still result in a smaller number of tautomers in the end because of how the transformations interact with each other.\n",
    "\n",
    " National Institutes of Health (NIH) [CADD Group Chemoinformatics Tools and User Services (CACTUS)](https://cactus.nci.nih.gov/) also has algorithms that can be run on a [Tautomerizer web page](https://cactus.nci.nih.gov/cgi-bin/tautomerize.tcl) or with the package [CACTVS](https://www.cactvs.com/academic/) from Xemistry GmbH. NIH's Marc Nicklaus notes that CACTVS has \"many additional transforms vs. the ones we used in 2010 [for the paper cited above]. This now includes numerous ring-chain and valence tautomerism rules, for a total of...120 rules\" (private communications). We compare these two NIH algorithms to the new RDKit algorithm. Because I couldn't install CACTVS on my computer due to CPU compatibility, I used the web site which has 86 rules, and Marc kindly ran CACTVS for a few structures using \"exhaustive multi-step enumeration iteratively with all rules, until no more new tautomer is found (with a limit of 1,000 attempts)\".\n",
    "\n",
    "So one purpose of this blog post is to empirically answer the question of which algorithms produce more tautomers, and particularly whether the new RDKit algorithm produces more or fewer tautomers than the V1 algorithm.\n",
    "\n",
    "The second purpose is to check how well [InChI](https://en.wikipedia.org/wiki/International_Chemical_Identifier) (International Chemical Identifier) accomplishes its goal of being [\"tautomer-invariant\"](https://cactus.nci.nih.gov/presentations/NIHInChI_2021-03/Day_1_Nicklaus_Tautomerism_2021-03-21A.pdf), meaning tautomers of a structure should be assigned the same InChI, so ideally only one InChI should be able to represent all tautomers of a given structure. However, \"[It was recognized early on that important types of tautomerism are missing](https://cactus.nci.nih.gov/presentations/NIHInChI_2021-03/Day_1_Nicklaus_Tautomerism_2021-03-21A.pdf),\" so we should not expect InChI to be completely successful at present.\n",
    "\n",
    "To empirically compare these questions, we need a set of molecules which have tautomers: Many molecules will not have any tautomers. Nicklaus and team also created [Tautomer Structures Extracted from Experimental Literature](https://cactus.nci.nih.gov/download/tautomer/), with \n",
    "> 5,977 structures extracted from experimental literature representing 2,819 cases of tautomeric tuples (mostly tautomer pairs but also a few triples and higher-order tuples). Note that the number of structurally different tuples is only 1,776 (comprising 3,884 different structures) since some tuples are differentiated from each other only by experimental conditions such as solvent, spectroscopy method, etc.\n",
    "\n",
    "We use release 3 in Excel format, specifically [Tautomer_database_release_3a.xlsx](https://cactus.nci.nih.gov/download/tautomer/Tautomer_database_release_3a.xlsx)."
   ]
  },
  {
   "cell_type": "markdown",
   "metadata": {},
   "source": [
    "## Code foundation"
   ]
  },
  {
   "cell_type": "code",
   "execution_count": 1,
   "metadata": {},
   "outputs": [
    {
     "name": "stdout",
     "output_type": "stream",
     "text": [
      "3.11.7 (v3.11.7:fa7a6f2303, Dec  4 2023, 15:22:56) [Clang 13.0.0 (clang-1300.0.29.30)]\n"
     ]
    }
   ],
   "source": [
    "import sys\n",
    "print(sys.version)"
   ]
  },
  {
   "cell_type": "code",
   "execution_count": 2,
   "metadata": {},
   "outputs": [],
   "source": [
    "# !pip install rdkit polars>=0.20.7 seaborn matplotlib"
   ]
  },
  {
   "cell_type": "code",
   "execution_count": 3,
   "metadata": {},
   "outputs": [],
   "source": [
    "from typing import Iterable, Callable\n",
    "import warnings\n",
    "import statistics\n",
    "from statistics import StatisticsError"
   ]
  },
  {
   "cell_type": "code",
   "execution_count": 4,
   "metadata": {},
   "outputs": [],
   "source": [
    "from rdkit.Chem import AllChem as Chem\n",
    "from rdkit import RDLogger\n",
    "from rdkit.Chem import Draw, rdFMCS\n",
    "from rdkit.Chem import Mol\n",
    "from rdkit.Chem.MolStandardize import rdMolStandardize\n",
    "import polars as pl\n",
    "import polars.selectors as cs\n",
    "import seaborn as sns\n",
    "import matplotlib.pyplot as plt\n",
    "from matplotlib.ticker import MultipleLocator"
   ]
  },
  {
   "cell_type": "code",
   "execution_count": 5,
   "metadata": {},
   "outputs": [],
   "source": [
    "# Suppress RDKit warnings so it doesn't warn about SMILES that produce molecules which violate a rule,\n",
    "# which would produce many warnings as we create thousands of molecules\n",
    "lg = RDLogger.logger()\n",
    "lg.setLevel(RDLogger.CRITICAL)"
   ]
  },
  {
   "cell_type": "code",
   "execution_count": 6,
   "metadata": {},
   "outputs": [],
   "source": [
    "# Ignore all FutureWarnings--there are several from internal code of imported packages\n",
    "warnings.simplefilter(action='ignore', category=FutureWarning)"
   ]
  },
  {
   "cell_type": "markdown",
   "metadata": {},
   "source": [
    "These functions convert SMILES to RDKit molecules to canonical SMILES."
   ]
  },
  {
   "cell_type": "code",
   "execution_count": 7,
   "metadata": {},
   "outputs": [],
   "source": [
    "def mol_from_sml(sml: str) -> Mol|None:\n",
    "    \"\"\"Create an RDKit molecule from a SMILES string.\n",
    "    RDKit cannot create molecules from some SMILES strings if it tries to sanitize them,\n",
    "    but sometimes can if it does not sanitize them.\n",
    "    It is preferable to sanitize molecules if possible because that does things such as\n",
    "    delocalize aromatic bonds (instead of alternating single and double bonds),\n",
    "    which makes different structures (single-double vs. double-single bond sequence) give the same molecule.\n",
    "\n",
    "    :param sml: SMILES string\n",
    "    :returns: RDKit molecule if SMILES is valid; None if invalid\n",
    "    \"\"\"\n",
    "    # Try sanitizing molecule first\n",
    "    mol = Chem.MolFromSmiles(sml, sanitize=True)\n",
    "    if mol is not None:\n",
    "        return mol\n",
    "    # If sanitization fails, turn it off and try creating molecule again\n",
    "    mol = Chem.MolFromSmiles(sml, sanitize=False)\n",
    "    return mol"
   ]
  },
  {
   "cell_type": "code",
   "execution_count": 8,
   "metadata": {},
   "outputs": [],
   "source": [
    "def canon_sml_or_none(mol: Mol|None) -> str|None:\n",
    "    \"\"\"Return the canonical SMILES for an RDKit molecule if it exists; otherwise, None.\n",
    "\n",
    "    :param mol: RDKit molecule or None\n",
    "    :returns: Canonical SMILES string if RDKit molecule supplied; None if None supplied\n",
    "    \"\"\"\n",
    "    if mol is None:\n",
    "        return None\n",
    "    return Chem.MolToSmiles(mol)"
   ]
  },
  {
   "cell_type": "code",
   "execution_count": 9,
   "metadata": {},
   "outputs": [],
   "source": [
    "def canonicalize(sml:str) -> str|None:\n",
    "    \"\"\"\n",
    "    :param sml: SMILES string\n",
    "    :returns: Canonical SMILES string if RDKit molecule could be created; None if input SMILES invalid\n",
    "    \"\"\"\n",
    "    mol = mol_from_sml(sml)\n",
    "    return canon_sml_or_none(mol)"
   ]
  },
  {
   "cell_type": "markdown",
   "metadata": {},
   "source": [
    "## Preparing and inspecting the data from the tautomer database"
   ]
  },
  {
   "cell_type": "markdown",
   "metadata": {},
   "source": [
    "In preparation for reading in the data, we specify the file and sheet names from the [Tautomer Structures Extracted from Experimental Literature](https://cactus.nci.nih.gov/download/tautomer/)."
   ]
  },
  {
   "cell_type": "code",
   "execution_count": 10,
   "metadata": {},
   "outputs": [],
   "source": [
    "# Tautomer database from https://cactus.nci.nih.gov/download/tautomer/\n",
    "file_name = \"../data/Tautomer_database_release_3a.xlsx\"\n",
    "\n",
    "# If you want to use only the first row for quicker debugging, use this file instead\n",
    "# file_name = \"../data/Tautomer_database_release_3a_first_row.xlsx\"\n",
    "\n",
    "# The name of the sheet to process\n",
    "sheet_name = \"Tautomer_database\""
   ]
  },
  {
   "cell_type": "markdown",
   "metadata": {},
   "source": [
    "We start by reading the data from the sheet in the Excel file of the tautomer database using [`polars.read_excel`](https://docs.pola.rs/py-polars/html/reference/api/polars.read_excel.html). We have Polars consider all the data using `\"infer_schema_length\":10000` (there are <3,000 rows in the sheet) before deciding on data types for columns, to ensure all cells in a column fit its data type."
   ]
  },
  {
   "cell_type": "code",
   "execution_count": 11,
   "metadata": {},
   "outputs": [
    {
     "data": {
      "text/html": [
       "<div><style>\n",
       ".dataframe > thead > tr,\n",
       ".dataframe > tbody > tr {\n",
       "  text-align: right;\n",
       "  white-space: pre-wrap;\n",
       "}\n",
       "</style>\n",
       "<small>shape: (5, 147)</small><table border=\"1\" class=\"dataframe\"><thead><tr><th>Ref</th><th>Size</th><th>Solvent</th><th>Solvent_Proportion</th><th>Solvent_Mixture</th><th>Temperature</th><th>pH</th><th>Experimental_Method</th><th>Entry_ID1</th><th>Type_1</th><th>ID_Hash_1</th><th>FICTS_1</th><th>HASHISY_1</th><th>FICuS_1</th><th>TAUTOHASH_1</th><th>uuuuu_1</th><th>Std_InChIKey_1</th><th>Std_InChI_1</th><th>SMILES_1</th><th>Mol_Formula_1</th><th>Mol_Weight_1</th><th>IUPAC_Name_1</th><th>Quantitative_ratio_1</th><th>Qualitative_prevalence_1</th><th>Prevalence_Category_1</th><th>Filename_1</th><th>Publication_DOI_1</th><th>Publication_ID_1</th><th>Authors_1</th><th>Affiliation_1</th><th>Title_1</th><th>Section_1</th><th>Page_Number(s)_1</th><th>Notes_1</th><th>Cmpd_Number_1</th><th>Entry_ID2</th><th>Type_2</th><th>&hellip;</th><th>Publication_DOI_4</th><th>Publication_ID_4</th><th>Authors_4</th><th>Affiliation_4</th><th>Title_4</th><th>Section_4</th><th>Page_Number(s)_4</th><th>Notes_4</th><th>Cmpd_Number_4</th><th>Entry_ID5</th><th>Type_5</th><th>Transf_1_5</th><th>ID_Hash_5</th><th>FICTS_5</th><th>HASHISY_5</th><th>FICuS_5</th><th>TAUTOHASH_5</th><th>uuuuu_5</th><th>Std_InChIKey_5</th><th>Std_InChI_5</th><th>SMILES_5</th><th>Mol_Formula_5</th><th>Mol_Weight_5</th><th>IUPAC_Name_5</th><th>Quantitative_ratio_5</th><th>Qualitative_Prevalence_5</th><th>Prevalence_Category_5</th><th>Filename_5</th><th>Publication_DOI_5</th><th>Publication_ID_5</th><th>Authors_5</th><th>Affiliation_5</th><th>Title_5</th><th>Section_5</th><th>Page_Number(s)_5</th><th>Notes_5</th><th>Cmpd_Number_5</th></tr><tr><td>i64</td><td>i64</td><td>str</td><td>str</td><td>str</td><td>str</td><td>str</td><td>str</td><td>str</td><td>str</td><td>str</td><td>str</td><td>str</td><td>str</td><td>str</td><td>str</td><td>str</td><td>str</td><td>str</td><td>str</td><td>f64</td><td>str</td><td>str</td><td>str</td><td>i64</td><td>str</td><td>str</td><td>str</td><td>str</td><td>str</td><td>str</td><td>str</td><td>str</td><td>str</td><td>str</td><td>str</td><td>str</td><td>&hellip;</td><td>str</td><td>str</td><td>str</td><td>str</td><td>str</td><td>str</td><td>i64</td><td>str</td><td>str</td><td>str</td><td>str</td><td>str</td><td>str</td><td>str</td><td>str</td><td>str</td><td>str</td><td>str</td><td>str</td><td>str</td><td>str</td><td>str</td><td>f64</td><td>str</td><td>str</td><td>str</td><td>i64</td><td>str</td><td>str</td><td>str</td><td>str</td><td>str</td><td>str</td><td>str</td><td>i64</td><td>str</td><td>str</td></tr></thead><tbody><tr><td>1</td><td>2</td><td>&quot;Gas phase&quot;</td><td>&quot;nul&quot;</td><td>&quot;no&quot;</td><td>&quot;377.15-417.15&quot;</td><td>&quot;nul&quot;</td><td>&quot;1H NMR spectra…</td><td>&quot;Prog. NMR. Spe…</td><td>&quot;Diketo&quot;</td><td>&quot;8da8a44a54e4cd…</td><td>&quot;748BBAA5E5F382…</td><td>&quot;748BBAA5E5F382…</td><td>&quot;748BBAA5E5F382…</td><td>&quot;748BBAA5E5F382…</td><td>&quot;748BBAA5E5F382…</td><td>&quot;InChIKey=YRKCR…</td><td>&quot;InChI=1S/C5H8O…</td><td>&quot;O=C(C)CC(C)=O&quot;</td><td>&quot;C5H8O2&quot;</td><td>100.117</td><td>&quot;pentane-2,4-di…</td><td>&quot;nul&quot;</td><td>&quot;Observed&quot;</td><td>1</td><td>&quot;(1)_Claramunt_…</td><td>&quot;10.1016/j.pnmr…</td><td>&quot;Prog. NMR. Spe…</td><td>&quot;Claramunt, R. …</td><td>&quot;Departamento d…</td><td>&quot;The use of NMR…</td><td>&quot;Scheme 1&quot;</td><td>&quot;171&quot;</td><td>&quot;nul&quot;</td><td>&quot;1c&quot;</td><td>&quot;Prog. NMR. Spe…</td><td>&quot;Keto-enol&quot;</td><td>&hellip;</td><td>null</td><td>null</td><td>null</td><td>null</td><td>null</td><td>null</td><td>null</td><td>null</td><td>null</td><td>null</td><td>null</td><td>null</td><td>null</td><td>null</td><td>null</td><td>null</td><td>null</td><td>null</td><td>null</td><td>null</td><td>null</td><td>null</td><td>null</td><td>null</td><td>null</td><td>null</td><td>null</td><td>null</td><td>null</td><td>null</td><td>null</td><td>null</td><td>null</td><td>null</td><td>null</td><td>null</td><td>null</td></tr><tr><td>2</td><td>2</td><td>&quot;Gas phase&quot;</td><td>&quot;nul&quot;</td><td>&quot;no&quot;</td><td>&quot;nul&quot;</td><td>&quot;nul&quot;</td><td>&quot;nul&quot;</td><td>&quot;Prog. NMR. Spe…</td><td>&quot;NH&quot;</td><td>&quot;ef8866bd4d9949…</td><td>&quot;AF721AB4BAA47F…</td><td>&quot;AF721AB4BAA47F…</td><td>&quot;AF721AB4BAA47F…</td><td>&quot;AF721AB4BAA47F…</td><td>&quot;E0755E1A90D93F…</td><td>&quot;InChIKey=QWENR…</td><td>&quot;InChI=1S/C2H3N…</td><td>&quot;N1=CC=N[NH]1&quot;</td><td>&quot;C2H3N3&quot;</td><td>69.0658</td><td>&quot;2H-triazole&quot;</td><td>&quot;nul&quot;</td><td>&quot;Only observed&quot;</td><td>4</td><td>&quot;(1)_Claramunt_…</td><td>&quot;10.1016/j.pnmr…</td><td>&quot;Prog. NMR. Spe…</td><td>&quot;Claramunt, R. …</td><td>&quot;Departamento d…</td><td>&quot;The use of NMR…</td><td>&quot;Scheme 3&quot;</td><td>&quot;172&quot;</td><td>&quot;nul&quot;</td><td>&quot;8b&quot;</td><td>&quot;Prog. NMR. Spe…</td><td>&quot;NH&quot;</td><td>&hellip;</td><td>null</td><td>null</td><td>null</td><td>null</td><td>null</td><td>null</td><td>null</td><td>null</td><td>null</td><td>null</td><td>null</td><td>null</td><td>null</td><td>null</td><td>null</td><td>null</td><td>null</td><td>null</td><td>null</td><td>null</td><td>null</td><td>null</td><td>null</td><td>null</td><td>null</td><td>null</td><td>null</td><td>null</td><td>null</td><td>null</td><td>null</td><td>null</td><td>null</td><td>null</td><td>null</td><td>null</td><td>null</td></tr><tr><td>3</td><td>2</td><td>&quot;HMPT&quot;</td><td>&quot;nul&quot;</td><td>&quot;no&quot;</td><td>&quot;nul&quot;</td><td>&quot;nul&quot;</td><td>&quot;13C NMR spectr…</td><td>&quot;Prog. NMR. Spe…</td><td>&quot;NH&quot;</td><td>&quot;7714934ea0f29d…</td><td>&quot;96D7C0A293F7BC…</td><td>&quot;96D7C0A293F7BC…</td><td>&quot;B5EA71BA1BFB8B…</td><td>&quot;B5EA71BA1BFB8B…</td><td>&quot;B5EA71BA1BFB8B…</td><td>&quot;InChIKey=XKVUY…</td><td>&quot;InChI=1S/C4H6N…</td><td>&quot;CC1=CC=NN1&quot;</td><td>&quot;C4H6N2&quot;</td><td>82.1048</td><td>&quot;5-methyl-1H-py…</td><td>&quot;nul&quot;</td><td>&quot;Predominant&quot;</td><td>3</td><td>&quot;(1)_Claramunt_…</td><td>&quot;10.1016/j.pnmr…</td><td>&quot;Prog. NMR. Spe…</td><td>&quot;Claramunt, R. …</td><td>&quot;Departamento d…</td><td>&quot;The use of NMR…</td><td>&quot;Scheme 3&quot;</td><td>&quot;172&quot;</td><td>&quot;nul&quot;</td><td>&quot;7b&quot;</td><td>&quot;Prog. NMR. Spe…</td><td>&quot;NH&quot;</td><td>&hellip;</td><td>null</td><td>null</td><td>null</td><td>null</td><td>null</td><td>null</td><td>null</td><td>null</td><td>null</td><td>null</td><td>null</td><td>null</td><td>null</td><td>null</td><td>null</td><td>null</td><td>null</td><td>null</td><td>null</td><td>null</td><td>null</td><td>null</td><td>null</td><td>null</td><td>null</td><td>null</td><td>null</td><td>null</td><td>null</td><td>null</td><td>null</td><td>null</td><td>null</td><td>null</td><td>null</td><td>null</td><td>null</td></tr><tr><td>4</td><td>2</td><td>&quot;DMSO-d6&quot;</td><td>&quot;nul&quot;</td><td>&quot;no&quot;</td><td>&quot;nul&quot;</td><td>&quot;nul&quot;</td><td>&quot;1H NMR spectra…</td><td>&quot;Prog. NMR. Spe…</td><td>&quot;NH&quot;</td><td>&quot;8c6a7d710c6321…</td><td>&quot;DD375DCBC6DDA9…</td><td>&quot;DD375DCBC6DDA9…</td><td>&quot;DD375DCBC6DDA9…</td><td>&quot;DD375DCBC6DDA9…</td><td>&quot;DD375DCBC6DDA9…</td><td>&quot;InChIKey=OWLHY…</td><td>&quot;InChI=1S/C7H6N…</td><td>&quot;N=N=NC1=NNC2=C…</td><td>&quot;C7H6N5&quot;</td><td>160.1579</td><td>&quot;3-[(imino-lamb…</td><td>&quot;nul&quot;</td><td>&quot;Predominant&quot;</td><td>3</td><td>&quot;(1)_Claramunt_…</td><td>&quot;10.1016/j.pnmr…</td><td>&quot;Prog. NMR. Spe…</td><td>&quot;Claramunt, R. …</td><td>&quot;Departamento d…</td><td>&quot;The use of NMR…</td><td>&quot;Scheme 4&quot;</td><td>&quot;173&quot;</td><td>&quot;nul&quot;</td><td>&quot;9a&quot;</td><td>&quot;Prog. NMR. Spe…</td><td>&quot;NH&quot;</td><td>&hellip;</td><td>null</td><td>null</td><td>null</td><td>null</td><td>null</td><td>null</td><td>null</td><td>null</td><td>null</td><td>null</td><td>null</td><td>null</td><td>null</td><td>null</td><td>null</td><td>null</td><td>null</td><td>null</td><td>null</td><td>null</td><td>null</td><td>null</td><td>null</td><td>null</td><td>null</td><td>null</td><td>null</td><td>null</td><td>null</td><td>null</td><td>null</td><td>null</td><td>null</td><td>null</td><td>null</td><td>null</td><td>null</td></tr><tr><td>5</td><td>3</td><td>&quot;Carbon tetrach…</td><td>&quot;nul&quot;</td><td>&quot;no&quot;</td><td>&quot;nul&quot;</td><td>&quot;nul&quot;</td><td>&quot;1H NMR spectra…</td><td>&quot;Prog. NMR. Spe…</td><td>&quot;Keto-enol&quot;</td><td>&quot;8366b277b21ed8…</td><td>&quot;7DA12DCD45D806…</td><td>&quot;7DA12DCD45D806…</td><td>&quot;CB73FB7D041984…</td><td>&quot;9016C9F8C95B7C…</td><td>&quot;9016C9F8C95B7C…</td><td>&quot;InChIKey=NLPZO…</td><td>&quot;InChI=1S/C11H1…</td><td>&quot;CC1([C@H]2C(C=…</td><td>&quot;C11H16O2&quot;</td><td>180.2462</td><td>&quot;(1S,4S)-3-hydr…</td><td>&quot;nul&quot;</td><td>&quot;Not observed&quot;</td><td>0</td><td>&quot;(1)_Claramunt_…</td><td>&quot;10.1016/j.pnmr…</td><td>&quot;Prog. NMR. Spe…</td><td>&quot;Claramunt, R. …</td><td>&quot;Departamento d…</td><td>&quot;The use of NMR…</td><td>&quot;Scheme 8&quot;</td><td>&quot;175&quot;</td><td>&quot;nul&quot;</td><td>&quot;16b&quot;</td><td>&quot;Prog. NMR. Spe…</td><td>&quot;Keto-enol&quot;</td><td>&hellip;</td><td>null</td><td>null</td><td>null</td><td>null</td><td>null</td><td>null</td><td>null</td><td>null</td><td>null</td><td>null</td><td>null</td><td>null</td><td>null</td><td>null</td><td>null</td><td>null</td><td>null</td><td>null</td><td>null</td><td>null</td><td>null</td><td>null</td><td>null</td><td>null</td><td>null</td><td>null</td><td>null</td><td>null</td><td>null</td><td>null</td><td>null</td><td>null</td><td>null</td><td>null</td><td>null</td><td>null</td><td>null</td></tr></tbody></table></div>"
      ],
      "text/plain": [
       "shape: (5, 147)\n",
       "┌─────┬──────┬──────────────┬──────────────┬───┬───────────┬──────────────┬─────────┬──────────────┐\n",
       "│ Ref ┆ Size ┆ Solvent      ┆ Solvent_Prop ┆ … ┆ Section_5 ┆ Page_Number( ┆ Notes_5 ┆ Cmpd_Number_ │\n",
       "│ --- ┆ ---  ┆ ---          ┆ ortion       ┆   ┆ ---       ┆ s)_5         ┆ ---     ┆ 5            │\n",
       "│ i64 ┆ i64  ┆ str          ┆ ---          ┆   ┆ str       ┆ ---          ┆ str     ┆ ---          │\n",
       "│     ┆      ┆              ┆ str          ┆   ┆           ┆ i64          ┆         ┆ str          │\n",
       "╞═════╪══════╪══════════════╪══════════════╪═══╪═══════════╪══════════════╪═════════╪══════════════╡\n",
       "│ 1   ┆ 2    ┆ Gas phase    ┆ nul          ┆ … ┆ null      ┆ null         ┆ null    ┆ null         │\n",
       "│ 2   ┆ 2    ┆ Gas phase    ┆ nul          ┆ … ┆ null      ┆ null         ┆ null    ┆ null         │\n",
       "│ 3   ┆ 2    ┆ HMPT         ┆ nul          ┆ … ┆ null      ┆ null         ┆ null    ┆ null         │\n",
       "│ 4   ┆ 2    ┆ DMSO-d6      ┆ nul          ┆ … ┆ null      ┆ null         ┆ null    ┆ null         │\n",
       "│ 5   ┆ 3    ┆ Carbon tetra ┆ nul          ┆ … ┆ null      ┆ null         ┆ null    ┆ null         │\n",
       "│     ┆      ┆ chloride     ┆              ┆   ┆           ┆              ┆         ┆              │\n",
       "└─────┴──────┴──────────────┴──────────────┴───┴───────────┴──────────────┴─────────┴──────────────┘"
      ]
     },
     "execution_count": 11,
     "metadata": {},
     "output_type": "execute_result"
    }
   ],
   "source": [
    "df = pl.read_excel(\n",
    "    source=file_name, \n",
    "    sheet_name=sheet_name,\n",
    "    read_options={\"infer_schema_length\":10000},\n",
    "    )\n",
    "df.head()"
   ]
  },
  {
   "cell_type": "markdown",
   "metadata": {},
   "source": [
    "In case there are any empty rows, let's filter down to rows where Ref is not null:"
   ]
  },
  {
   "cell_type": "code",
   "execution_count": 12,
   "metadata": {},
   "outputs": [],
   "source": [
    "df = df.filter(pl.col(\"Ref\").is_not_null())"
   ]
  },
  {
   "cell_type": "markdown",
   "metadata": {},
   "source": [
    "And we get the 2,819 cases cited in the data documentation."
   ]
  },
  {
   "cell_type": "code",
   "execution_count": 13,
   "metadata": {},
   "outputs": [
    {
     "data": {
      "text/plain": [
       "(2819, 147)"
      ]
     },
     "execution_count": 13,
     "metadata": {},
     "output_type": "execute_result"
    }
   ],
   "source": [
    "df.shape"
   ]
  },
  {
   "cell_type": "markdown",
   "metadata": {},
   "source": [
    "The number of unique Ref values is 1776, as stated in the data documentation:"
   ]
  },
  {
   "cell_type": "code",
   "execution_count": 14,
   "metadata": {},
   "outputs": [
    {
     "data": {
      "text/plain": [
       "1776"
      ]
     },
     "execution_count": 14,
     "metadata": {},
     "output_type": "execute_result"
    }
   ],
   "source": [
    "Ref_count = df['Ref'].n_unique()\n",
    "Ref_count"
   ]
  },
  {
   "cell_type": "markdown",
   "metadata": {},
   "source": [
    "Let's cut down the number of columns to remove those relating to experimental conditions, etc. by keeping only the `Ref`, SMILES, and Std_InChI columns. We can use a combination of selectors within [`df.select()`](https://docs.pola.rs/py-polars/html/reference/dataframe/api/polars.DataFrame.select.html#polars.DataFrame.select):\n",
    "- To keep the column \"Ref\", we simply use `\"Ref\"`\n",
    "- To keep the columns starting with \"SMILES_\" or \"Std_InChI_\", we use `cs.starts_with(\"SMILES_\", \"Std_InChI_\")`\n",
    "\n",
    "By putting those two selectors in the same `df.select()`, we select columns matching either criterion."
   ]
  },
  {
   "cell_type": "code",
   "execution_count": 15,
   "metadata": {},
   "outputs": [
    {
     "data": {
      "text/html": [
       "<div><style>\n",
       ".dataframe > thead > tr,\n",
       ".dataframe > tbody > tr {\n",
       "  text-align: right;\n",
       "  white-space: pre-wrap;\n",
       "}\n",
       "</style>\n",
       "<small>shape: (5, 11)</small><table border=\"1\" class=\"dataframe\"><thead><tr><th>Ref</th><th>Std_InChI_1</th><th>SMILES_1</th><th>Std_InChI_2</th><th>SMILES_2</th><th>Std_InChI_3</th><th>SMILES_3</th><th>Std_InChI_4</th><th>SMILES_4</th><th>Std_InChI_5</th><th>SMILES_5</th></tr><tr><td>i64</td><td>str</td><td>str</td><td>str</td><td>str</td><td>str</td><td>str</td><td>str</td><td>str</td><td>str</td><td>str</td></tr></thead><tbody><tr><td>1</td><td>&quot;InChI=1S/C5H8O…</td><td>&quot;O=C(C)CC(C)=O&quot;</td><td>&quot;InChI=1S/C5H8O…</td><td>&quot;O/C(C)=C\\C(C)=…</td><td>null</td><td>null</td><td>null</td><td>null</td><td>null</td><td>null</td></tr><tr><td>2</td><td>&quot;InChI=1S/C2H3N…</td><td>&quot;N1=CC=N[NH]1&quot;</td><td>&quot;InChI=1S/C2H3N…</td><td>&quot;[NH]1N=NC=C1&quot;</td><td>null</td><td>null</td><td>null</td><td>null</td><td>null</td><td>null</td></tr><tr><td>3</td><td>&quot;InChI=1S/C4H6N…</td><td>&quot;CC1=CC=NN1&quot;</td><td>&quot;InChI=1S/C4H6N…</td><td>&quot;CC1=NNC=C1&quot;</td><td>null</td><td>null</td><td>null</td><td>null</td><td>null</td><td>null</td></tr><tr><td>4</td><td>&quot;InChI=1S/C7H6N…</td><td>&quot;N=N=NC1=NNC2=C…</td><td>&quot;InChI=1S/C7H6N…</td><td>&quot;N=N=NC1=C2C=CC…</td><td>null</td><td>null</td><td>null</td><td>null</td><td>null</td><td>null</td></tr><tr><td>5</td><td>&quot;InChI=1S/C11H1…</td><td>&quot;CC1([C@H]2C(C=…</td><td>&quot;InChI=1S/C11H1…</td><td>&quot;CC1([C@H](CC[C…</td><td>&quot;InChI=1S/C11H1…</td><td>&quot;CC1([C@H](CC[C…</td><td>null</td><td>null</td><td>null</td><td>null</td></tr></tbody></table></div>"
      ],
      "text/plain": [
       "shape: (5, 11)\n",
       "┌─────┬─────────────┬─────────────┬────────────┬───┬────────────┬──────────┬────────────┬──────────┐\n",
       "│ Ref ┆ Std_InChI_1 ┆ SMILES_1    ┆ Std_InChI_ ┆ … ┆ Std_InChI_ ┆ SMILES_4 ┆ Std_InChI_ ┆ SMILES_5 │\n",
       "│ --- ┆ ---         ┆ ---         ┆ 2          ┆   ┆ 4          ┆ ---      ┆ 5          ┆ ---      │\n",
       "│ i64 ┆ str         ┆ str         ┆ ---        ┆   ┆ ---        ┆ str      ┆ ---        ┆ str      │\n",
       "│     ┆             ┆             ┆ str        ┆   ┆ str        ┆          ┆ str        ┆          │\n",
       "╞═════╪═════════════╪═════════════╪════════════╪═══╪════════════╪══════════╪════════════╪══════════╡\n",
       "│ 1   ┆ InChI=1S/C5 ┆ O=C(C)CC(C) ┆ InChI=1S/C ┆ … ┆ null       ┆ null     ┆ null       ┆ null     │\n",
       "│     ┆ H8O2/c1-4(6 ┆ =O          ┆ 5H8O2/c1-4 ┆   ┆            ┆          ┆            ┆          │\n",
       "│     ┆ )3-5(2)7/h… ┆             ┆ (6)3-5(2)7 ┆   ┆            ┆          ┆            ┆          │\n",
       "│     ┆             ┆             ┆ /h…        ┆   ┆            ┆          ┆            ┆          │\n",
       "│ 2   ┆ InChI=1S/C2 ┆ N1=CC=N[NH] ┆ InChI=1S/C ┆ … ┆ null       ┆ null     ┆ null       ┆ null     │\n",
       "│     ┆ H3N3/c1-2-4 ┆ 1           ┆ 2H3N3/c1-2 ┆   ┆            ┆          ┆            ┆          │\n",
       "│     ┆ -5-3-1/h1-… ┆             ┆ -4-5-3-1/h ┆   ┆            ┆          ┆            ┆          │\n",
       "│     ┆             ┆             ┆ 1-…        ┆   ┆            ┆          ┆            ┆          │\n",
       "│ 3   ┆ InChI=1S/C4 ┆ CC1=CC=NN1  ┆ InChI=1S/C ┆ … ┆ null       ┆ null     ┆ null       ┆ null     │\n",
       "│     ┆ H6N2/c1-4-2 ┆             ┆ 4H6N2/c1-4 ┆   ┆            ┆          ┆            ┆          │\n",
       "│     ┆ -3-5-6-4/h… ┆             ┆ -2-3-5-6-4 ┆   ┆            ┆          ┆            ┆          │\n",
       "│     ┆             ┆             ┆ /h…        ┆   ┆            ┆          ┆            ┆          │\n",
       "│ 4   ┆ InChI=1S/C7 ┆ N=N=NC1=NNC ┆ InChI=1S/C ┆ … ┆ null       ┆ null     ┆ null       ┆ null     │\n",
       "│     ┆ H6N5/c8-12- ┆ 2=CC=CC=C12 ┆ 7H6N5/c8-1 ┆   ┆            ┆          ┆            ┆          │\n",
       "│     ┆ 11-7-5-3-1… ┆             ┆ 2-11-7-5-3 ┆   ┆            ┆          ┆            ┆          │\n",
       "│     ┆             ┆             ┆ -1…        ┆   ┆            ┆          ┆            ┆          │\n",
       "│ 5   ┆ InChI=1S/C1 ┆ CC1([C@H]2C ┆ InChI=1S/C ┆ … ┆ null       ┆ null     ┆ null       ┆ null     │\n",
       "│     ┆ 1H16O2/c1-1 ┆ (C=O)=C(O)[ ┆ 11H16O2/c1 ┆   ┆            ┆          ┆            ┆          │\n",
       "│     ┆ 0(2)8-4-5-… ┆ C@@](CC2)1… ┆ -10(2)8-4- ┆   ┆            ┆          ┆            ┆          │\n",
       "│     ┆             ┆             ┆ 5-…        ┆   ┆            ┆          ┆            ┆          │\n",
       "└─────┴─────────────┴─────────────┴────────────┴───┴────────────┴──────────┴────────────┴──────────┘"
      ]
     },
     "execution_count": 15,
     "metadata": {},
     "output_type": "execute_result"
    }
   ],
   "source": [
    "df = df.select(\"Ref\", cs.starts_with(\"SMILES_\", \"Std_InChI_\"))\n",
    "df.head()"
   ]
  },
  {
   "cell_type": "markdown",
   "metadata": {},
   "source": [
    "As an aside, if we instead used chained select clauses, `df.select(\"Ref\").select(cs.starts_with(\"SMILES_\", \"Std_InChI_\"))`, we would select no columns because the first clause selects only \"Ref\", and then within that one-column dataframe the second clause selects only those starting with  \"SMILES_\" or \"Std_InChI_\"."
   ]
  },
  {
   "cell_type": "code",
   "execution_count": 16,
   "metadata": {},
   "outputs": [
    {
     "data": {
      "text/html": [
       "<div><style>\n",
       ".dataframe > thead > tr,\n",
       ".dataframe > tbody > tr {\n",
       "  text-align: right;\n",
       "  white-space: pre-wrap;\n",
       "}\n",
       "</style>\n",
       "<small>shape: (0, 0)</small><table border=\"1\" class=\"dataframe\"><thead><tr></tr><tr></tr></thead><tbody></tbody></table></div>"
      ],
      "text/plain": [
       "shape: (0, 0)\n",
       "┌┐\n",
       "╞╡\n",
       "└┘"
      ]
     },
     "execution_count": 16,
     "metadata": {},
     "output_type": "execute_result"
    }
   ],
   "source": [
    "df_no_cols = df.select(\"Ref\").select(cs.starts_with(\"SMILES_\", \"Std_InChI_\"))\n",
    "df_no_cols"
   ]
  },
  {
   "cell_type": "markdown",
   "metadata": {},
   "source": [
    "Returning to our desired dataframe, let's review the columns left in it:"
   ]
  },
  {
   "cell_type": "code",
   "execution_count": 17,
   "metadata": {},
   "outputs": [
    {
     "data": {
      "text/plain": [
       "['Ref',\n",
       " 'Std_InChI_1',\n",
       " 'SMILES_1',\n",
       " 'Std_InChI_2',\n",
       " 'SMILES_2',\n",
       " 'Std_InChI_3',\n",
       " 'SMILES_3',\n",
       " 'Std_InChI_4',\n",
       " 'SMILES_4',\n",
       " 'Std_InChI_5',\n",
       " 'SMILES_5']"
      ]
     },
     "execution_count": 17,
     "metadata": {},
     "output_type": "execute_result"
    }
   ],
   "source": [
    "df.columns"
   ]
  },
  {
   "cell_type": "markdown",
   "metadata": {},
   "source": [
    "The Excel sheet has sets of columns for each of up to five experimentally-observed structures for a tautomer, called a Ref in the sheet, in a row. We will use the experimentally-observed structures as inputs to the tautomer generation algorithms, so we [`melt`](https://docs.pola.rs/py-polars/html/reference/dataframe/api/polars.DataFrame.melt.html#polars.DataFrame.melt) the dataframe by making each Ref-structure pair into its own row. We can again use the selector `starts_with()` to select all the SMILES columns as the value variables `value_vars`."
   ]
  },
  {
   "cell_type": "code",
   "execution_count": 18,
   "metadata": {},
   "outputs": [],
   "source": [
    "# Melt dataframe: Break out each row's SMILES_n columns into its own row\n",
    "df_melted = df.melt(id_vars=[\"Ref\"], value_vars=cs.starts_with(\"SMILES_\"), value_name=\"sml\")"
   ]
  },
  {
   "cell_type": "markdown",
   "metadata": {},
   "source": [
    "This produces 2,819 (# of cases) * 5 (SMILES columns per case) = 14,095 rows:"
   ]
  },
  {
   "cell_type": "code",
   "execution_count": 19,
   "metadata": {},
   "outputs": [
    {
     "data": {
      "text/html": [
       "<div><style>\n",
       ".dataframe > thead > tr,\n",
       ".dataframe > tbody > tr {\n",
       "  text-align: right;\n",
       "  white-space: pre-wrap;\n",
       "}\n",
       "</style>\n",
       "<small>shape: (14_095, 3)</small><table border=\"1\" class=\"dataframe\"><thead><tr><th>Ref</th><th>variable</th><th>sml</th></tr><tr><td>i64</td><td>str</td><td>str</td></tr></thead><tbody><tr><td>1</td><td>&quot;SMILES_1&quot;</td><td>&quot;O=C(C)CC(C)=O&quot;</td></tr><tr><td>2</td><td>&quot;SMILES_1&quot;</td><td>&quot;N1=CC=N[NH]1&quot;</td></tr><tr><td>3</td><td>&quot;SMILES_1&quot;</td><td>&quot;CC1=CC=NN1&quot;</td></tr><tr><td>4</td><td>&quot;SMILES_1&quot;</td><td>&quot;N=N=NC1=NNC2=C…</td></tr><tr><td>5</td><td>&quot;SMILES_1&quot;</td><td>&quot;CC1([C@H]2C(C=…</td></tr><tr><td>6</td><td>&quot;SMILES_1&quot;</td><td>&quot;OC(C=CC=C1)=C1…</td></tr><tr><td>7</td><td>&quot;SMILES_1&quot;</td><td>&quot;O=C(C([H])([H]…</td></tr><tr><td>8</td><td>&quot;SMILES_1&quot;</td><td>&quot;O/C(C1=CC=CC=C…</td></tr><tr><td>9</td><td>&quot;SMILES_1&quot;</td><td>&quot;OC1=C(C2=CC=CC…</td></tr><tr><td>9</td><td>&quot;SMILES_1&quot;</td><td>&quot;OC1=C(C2=CC=CC…</td></tr><tr><td>9</td><td>&quot;SMILES_1&quot;</td><td>&quot;OC1=C(C2=CC=CC…</td></tr><tr><td>9</td><td>&quot;SMILES_1&quot;</td><td>&quot;OC1=C(C2=CC=CC…</td></tr><tr><td>&hellip;</td><td>&hellip;</td><td>&hellip;</td></tr><tr><td>1767</td><td>&quot;SMILES_5&quot;</td><td>null</td></tr><tr><td>1767</td><td>&quot;SMILES_5&quot;</td><td>null</td></tr><tr><td>1767</td><td>&quot;SMILES_5&quot;</td><td>null</td></tr><tr><td>1767</td><td>&quot;SMILES_5&quot;</td><td>null</td></tr><tr><td>1768</td><td>&quot;SMILES_5&quot;</td><td>null</td></tr><tr><td>1769</td><td>&quot;SMILES_5&quot;</td><td>null</td></tr><tr><td>1770</td><td>&quot;SMILES_5&quot;</td><td>null</td></tr><tr><td>1771</td><td>&quot;SMILES_5&quot;</td><td>null</td></tr><tr><td>1772</td><td>&quot;SMILES_5&quot;</td><td>null</td></tr><tr><td>1773</td><td>&quot;SMILES_5&quot;</td><td>null</td></tr><tr><td>1774</td><td>&quot;SMILES_5&quot;</td><td>null</td></tr><tr><td>1775</td><td>&quot;SMILES_5&quot;</td><td>null</td></tr></tbody></table></div>"
      ],
      "text/plain": [
       "shape: (14_095, 3)\n",
       "┌──────┬──────────┬───────────────────────────────────┐\n",
       "│ Ref  ┆ variable ┆ sml                               │\n",
       "│ ---  ┆ ---      ┆ ---                               │\n",
       "│ i64  ┆ str      ┆ str                               │\n",
       "╞══════╪══════════╪═══════════════════════════════════╡\n",
       "│ 1    ┆ SMILES_1 ┆ O=C(C)CC(C)=O                     │\n",
       "│ 2    ┆ SMILES_1 ┆ N1=CC=N[NH]1                      │\n",
       "│ 3    ┆ SMILES_1 ┆ CC1=CC=NN1                        │\n",
       "│ 4    ┆ SMILES_1 ┆ N=N=NC1=NNC2=CC=CC=C12            │\n",
       "│ 5    ┆ SMILES_1 ┆ CC1([C@H]2C(C=O)=C(O)[C@@](CC2)1… │\n",
       "│ …    ┆ …        ┆ …                                 │\n",
       "│ 1771 ┆ SMILES_5 ┆ null                              │\n",
       "│ 1772 ┆ SMILES_5 ┆ null                              │\n",
       "│ 1773 ┆ SMILES_5 ┆ null                              │\n",
       "│ 1774 ┆ SMILES_5 ┆ null                              │\n",
       "│ 1775 ┆ SMILES_5 ┆ null                              │\n",
       "└──────┴──────────┴───────────────────────────────────┘"
      ]
     },
     "execution_count": 19,
     "metadata": {},
     "output_type": "execute_result"
    }
   ],
   "source": [
    "df_melted"
   ]
  },
  {
   "cell_type": "markdown",
   "metadata": {},
   "source": [
    "Because many rows of the Excel sheet have less than five structures, there are many rows with no structure (SMILES), so let's remove those rows. We also don't need to know which number SMILES (1-5) each was, so we'll drop the `variable` columns that Polars created when we melted the original dataframe."
   ]
  },
  {
   "cell_type": "code",
   "execution_count": 20,
   "metadata": {},
   "outputs": [],
   "source": [
    "# Keep rows where SMILES is supplied\n",
    "df_melted = df_melted.filter(pl.col('sml').is_not_null())\n",
    "\n",
    "# Remove SMILES_n label column (n = 1-5)\n",
    "df_melted = df_melted.drop(\"variable\")"
   ]
  },
  {
   "cell_type": "markdown",
   "metadata": {},
   "source": [
    "A check of the dataframe confirms that it contains the 5,977 structures reported by the [data description](https://cactus.nci.nih.gov/download/tautomer/), and none of the rows have `null` SMILES."
   ]
  },
  {
   "cell_type": "code",
   "execution_count": 21,
   "metadata": {},
   "outputs": [
    {
     "data": {
      "text/html": [
       "<div><style>\n",
       ".dataframe > thead > tr,\n",
       ".dataframe > tbody > tr {\n",
       "  text-align: right;\n",
       "  white-space: pre-wrap;\n",
       "}\n",
       "</style>\n",
       "<small>shape: (5_977, 2)</small><table border=\"1\" class=\"dataframe\"><thead><tr><th>Ref</th><th>sml</th></tr><tr><td>i64</td><td>str</td></tr></thead><tbody><tr><td>1</td><td>&quot;O=C(C)CC(C)=O&quot;</td></tr><tr><td>2</td><td>&quot;N1=CC=N[NH]1&quot;</td></tr><tr><td>3</td><td>&quot;CC1=CC=NN1&quot;</td></tr><tr><td>4</td><td>&quot;N=N=NC1=NNC2=C…</td></tr><tr><td>5</td><td>&quot;CC1([C@H]2C(C=…</td></tr><tr><td>6</td><td>&quot;OC(C=CC=C1)=C1…</td></tr><tr><td>7</td><td>&quot;O=C(C([H])([H]…</td></tr><tr><td>8</td><td>&quot;O/C(C1=CC=CC=C…</td></tr><tr><td>9</td><td>&quot;OC1=C(C2=CC=CC…</td></tr><tr><td>9</td><td>&quot;OC1=C(C2=CC=CC…</td></tr><tr><td>9</td><td>&quot;OC1=C(C2=CC=CC…</td></tr><tr><td>9</td><td>&quot;OC1=C(C2=CC=CC…</td></tr><tr><td>&hellip;</td><td>&hellip;</td></tr><tr><td>1216</td><td>&quot;O=C(OCC)/C(C)=…</td></tr><tr><td>926</td><td>&quot;O=C(/C=C(O)/C/…</td></tr><tr><td>927</td><td>&quot;O=C(CC(C(CC)/C…</td></tr><tr><td>928</td><td>&quot;O=C(CC(C/C(O)=…</td></tr><tr><td>929</td><td>&quot;O=C(OC)/C=C(C/…</td></tr><tr><td>929</td><td>&quot;O=C(OC)/C=C(C/…</td></tr><tr><td>930</td><td>&quot;O=C(CC(C/C(O)=…</td></tr><tr><td>931</td><td>&quot;O=C(/C=C(O)/C/…</td></tr><tr><td>932</td><td>&quot;O=C(OC)/C=C(C/…</td></tr><tr><td>1213</td><td>&quot;O=C(OCC)C1/C(S…</td></tr><tr><td>1214</td><td>&quot;O=C(OCC)C1/C(S…</td></tr><tr><td>1215</td><td>&quot;O=C(OCC)C(C)/C…</td></tr></tbody></table></div>"
      ],
      "text/plain": [
       "shape: (5_977, 2)\n",
       "┌──────┬───────────────────────────────────┐\n",
       "│ Ref  ┆ sml                               │\n",
       "│ ---  ┆ ---                               │\n",
       "│ i64  ┆ str                               │\n",
       "╞══════╪═══════════════════════════════════╡\n",
       "│ 1    ┆ O=C(C)CC(C)=O                     │\n",
       "│ 2    ┆ N1=CC=N[NH]1                      │\n",
       "│ 3    ┆ CC1=CC=NN1                        │\n",
       "│ 4    ┆ N=N=NC1=NNC2=CC=CC=C12            │\n",
       "│ 5    ┆ CC1([C@H]2C(C=O)=C(O)[C@@](CC2)1… │\n",
       "│ …    ┆ …                                 │\n",
       "│ 931  ┆ O=C(/C=C(O)/C/C(O)=C(Cl)/C(OCC)=… │\n",
       "│ 932  ┆ O=C(OC)/C=C(C/C(O)=C(C(OCC)=O)\\F… │\n",
       "│ 1213 ┆ O=C(OCC)C1/C(S)=C\\CCCCCCCC1       │\n",
       "│ 1214 ┆ O=C(OCC)C1/C(S)=C\\CCCCCCCCC1      │\n",
       "│ 1215 ┆ O=C(OCC)C(C)/C(S)=C\\C             │\n",
       "└──────┴───────────────────────────────────┘"
      ]
     },
     "execution_count": 21,
     "metadata": {},
     "output_type": "execute_result"
    }
   ],
   "source": [
    "df_melted"
   ]
  },
  {
   "cell_type": "markdown",
   "metadata": {},
   "source": [
    "Next we'll remove duplicate rows, which are possible because a Ref can have multiple rows in the Excel sheet, and those rows may well have some of the same structures."
   ]
  },
  {
   "cell_type": "code",
   "execution_count": 22,
   "metadata": {},
   "outputs": [
    {
     "data": {
      "text/plain": [
       "3911"
      ]
     },
     "execution_count": 22,
     "metadata": {},
     "output_type": "execute_result"
    }
   ],
   "source": [
    "df_melted = df_melted.unique()\n",
    "unique_sml = df_melted.shape[0]\n",
    "unique_sml"
   ]
  },
  {
   "cell_type": "markdown",
   "metadata": {},
   "source": [
    "This gives us 3,911 different structures. Compared to the 3,884 reported in the data description, this is slightly greater, by 27 or 0.7%. We'll discuss this below."
   ]
  },
  {
   "cell_type": "markdown",
   "metadata": {},
   "source": [
    "Another level of redundancy is that some structures which have different SMILES are actually the same molecule. A way to check if two SMILES correspond to the same molecule is to make each into an RDKit molecule, then output their canonical SMILES, then check if those SMILES are the same.\n",
    "\n",
    "We defined `mol_from_sml()` above to create RDKit molecules with two methods:\n",
    "1) with sanitization if possible\n",
    "2) as a fallback, without sanitization\n",
    "\n",
    "Without falling back to `sanitize=False`, eight rows comprising three Ref values (4, 355, and 1130) are not made into molecules, which prevents them from being processed with the steps that follow. Including the fallback option allows all rows to be made into molecules."
   ]
  },
  {
   "cell_type": "code",
   "execution_count": 23,
   "metadata": {},
   "outputs": [
    {
     "data": {
      "text/html": [
       "<div><style>\n",
       ".dataframe > thead > tr,\n",
       ".dataframe > tbody > tr {\n",
       "  text-align: right;\n",
       "  white-space: pre-wrap;\n",
       "}\n",
       "</style>\n",
       "<small>shape: (5, 3)</small><table border=\"1\" class=\"dataframe\"><thead><tr><th>Ref</th><th>sml</th><th>canon_sml</th></tr><tr><td>i64</td><td>str</td><td>str</td></tr></thead><tbody><tr><td>3</td><td>&quot;CC1=CC=NN1&quot;</td><td>&quot;Cc1ccn[nH]1&quot;</td></tr><tr><td>11</td><td>&quot;O=C1C=CC2=CC=C…</td><td>&quot;O=C1C=Cc2ccccc…</td></tr><tr><td>23</td><td>&quot;OC1=C(/C=N/C2=…</td><td>&quot;O=[N+]([O-])c1…</td></tr><tr><td>30</td><td>&quot;O=C1C=CC=CC=C1…</td><td>&quot;O=c1cccccc1Nc1…</td></tr><tr><td>31</td><td>&quot;O=C1C=CC=CC=C1…</td><td>&quot;O=c1cccccc1Nc1…</td></tr></tbody></table></div>"
      ],
      "text/plain": [
       "shape: (5, 3)\n",
       "┌─────┬───────────────────────────────────┬───────────────────────────────────┐\n",
       "│ Ref ┆ sml                               ┆ canon_sml                         │\n",
       "│ --- ┆ ---                               ┆ ---                               │\n",
       "│ i64 ┆ str                               ┆ str                               │\n",
       "╞═════╪═══════════════════════════════════╪═══════════════════════════════════╡\n",
       "│ 3   ┆ CC1=CC=NN1                        ┆ Cc1ccn[nH]1                       │\n",
       "│ 11  ┆ O=C1C=CC2=CC=CC=C2/C1=C/NC3=CC=C… ┆ O=C1C=Cc2ccccc2/C1=C/Nc1ccccc1    │\n",
       "│ 23  ┆ OC1=C(/C=N/C2=CC=C([N+]([O-])=O)… ┆ O=[N+]([O-])c1ccc(/N=C/c2ccncc2O… │\n",
       "│ 30  ┆ O=C1C=CC=CC=C1NC2=CC=CC=C2        ┆ O=c1cccccc1Nc1ccccc1              │\n",
       "│ 31  ┆ O=C1C=CC=CC=C1NC2=CC=C(Br)C=C2    ┆ O=c1cccccc1Nc1ccc(Br)cc1          │\n",
       "└─────┴───────────────────────────────────┴───────────────────────────────────┘"
      ]
     },
     "execution_count": 23,
     "metadata": {},
     "output_type": "execute_result"
    }
   ],
   "source": [
    "# Add the canonical SMILES\n",
    "df_melted = df_melted.with_columns(\n",
    "    [\n",
    "        pl.col(\"sml\").map_elements(canonicalize).alias(\"canon_sml\"),\n",
    "    ]\n",
    ")\n",
    "\n",
    "df_melted.head()"
   ]
  },
  {
   "cell_type": "markdown",
   "metadata": {},
   "source": [
    "Now let's keep only unique rows, based on Ref and canonical SMILES."
   ]
  },
  {
   "cell_type": "code",
   "execution_count": 24,
   "metadata": {},
   "outputs": [],
   "source": [
    "df_melted = df_melted.unique([\"Ref\", \"canon_sml\"])"
   ]
  },
  {
   "cell_type": "markdown",
   "metadata": {},
   "source": [
    "After removing those duplicates, we have 3,797 different structures:"
   ]
  },
  {
   "cell_type": "code",
   "execution_count": 25,
   "metadata": {},
   "outputs": [
    {
     "data": {
      "text/plain": [
       "(3797, 3)"
      ]
     },
     "execution_count": 25,
     "metadata": {},
     "output_type": "execute_result"
    }
   ],
   "source": [
    "df_melted.shape"
   ]
  },
  {
   "cell_type": "markdown",
   "metadata": {},
   "source": [
    "Whereas we originally had slightly more than the reported 3,884 data structures, we now have slightly fewer (87 or 2.2%). Let's take a moment to discuss why."
   ]
  },
  {
   "cell_type": "markdown",
   "metadata": {},
   "source": [
    "### Determining which molecules are the same is difficult at scale"
   ]
  },
  {
   "cell_type": "markdown",
   "metadata": {},
   "source": [
    "The discrepancy is likely due to the definition of \"different\". Again, we should identify as \"the same\" molecules where, for example, SMILES writes an aromatic ring coded with single bonds at odd bond indexes (and double bonds at even bond indexes) is the same as one coded with single bonds at even bond indexes (and double bonds at odd bond indexes). Modifying the [example from Richard L. Apodaca](https://depth-first.com/articles/2020/02/10/a-comprehensive-treatment-of-aromaticity-in-the-smiles-language/), if we don't sanitize these two alternate SMILES for 1,2-bromobenzene, we get different structures and canonical SMILES because they are represented in Kekulé form, with alternating single and double bonds:"
   ]
  },
  {
   "cell_type": "code",
   "execution_count": 26,
   "metadata": {},
   "outputs": [
    {
     "data": {
      "image/png": "[encoded data removed]",
      "text/plain": [
       "<IPython.core.display.Image object>"
      ]
     },
     "execution_count": 26,
     "metadata": {},
     "output_type": "execute_result"
    }
   ],
   "source": [
    "smls_aromatic_equivalent = [\"C1=C(Br)C(Br)=CC=C1\", \"C1C(Br)=C(Br)C=CC=1\"]\n",
    "mols_aromatic_equivalent_unsanitized = [Chem.MolFromSmiles(sml, sanitize=False) for sml in smls_aromatic_equivalent]\n",
    "canon_smls_aromatic_equivalent_unsanitized = [Chem.MolToSmiles(mol) for mol in mols_aromatic_equivalent_unsanitized]\n",
    "Draw.MolsToGridImage(mols_aromatic_equivalent_unsanitized, legends=canon_smls_aromatic_equivalent_unsanitized)"
   ]
  },
  {
   "cell_type": "markdown",
   "metadata": {},
   "source": [
    "and the two canonical SMILES are not the same"
   ]
  },
  {
   "cell_type": "code",
   "execution_count": 27,
   "metadata": {},
   "outputs": [
    {
     "data": {
      "text/plain": [
       "False"
      ]
     },
     "execution_count": 27,
     "metadata": {},
     "output_type": "execute_result"
    }
   ],
   "source": [
    "canon_smls_aromatic_equivalent_unsanitized[0] == canon_smls_aromatic_equivalent_unsanitized[1]"
   ]
  },
  {
   "cell_type": "markdown",
   "metadata": {},
   "source": [
    "whereas if we do sanitize them, we get the same structure and canonical SMILES:"
   ]
  },
  {
   "cell_type": "code",
   "execution_count": 28,
   "metadata": {},
   "outputs": [
    {
     "data": {
      "image/png": "[encoded data removed]",
      "text/plain": [
       "<IPython.core.display.Image object>"
      ]
     },
     "execution_count": 28,
     "metadata": {},
     "output_type": "execute_result"
    }
   ],
   "source": [
    "mols_aromatic_equivalent_sanitized = [Chem.MolFromSmiles(sml, sanitize=True) for sml in smls_aromatic_equivalent]\n",
    "canon_smls_aromatic_equivalent_sanitized = [Chem.MolToSmiles(mol) for mol in mols_aromatic_equivalent_sanitized]\n",
    "Draw.MolsToGridImage(mols_aromatic_equivalent_sanitized, legends=canon_smls_aromatic_equivalent_sanitized)"
   ]
  },
  {
   "cell_type": "code",
   "execution_count": 29,
   "metadata": {},
   "outputs": [
    {
     "data": {
      "text/plain": [
       "True"
      ]
     },
     "execution_count": 29,
     "metadata": {},
     "output_type": "execute_result"
    }
   ],
   "source": [
    "canon_smls_aromatic_equivalent_sanitized[0] == canon_smls_aromatic_equivalent_sanitized[1]"
   ]
  },
  {
   "cell_type": "markdown",
   "metadata": {},
   "source": [
    "So the slight differences in the number of different structures as determined by RDKit compared to the tool used by Nicklaus and team (presumably their CACTVS tool) are probably due to the algorithms used to determine the molecular graph (from the input SMILES or other identifier) and then the canonical SMILES. Inspection by chemists of individual pairs would probably lead to better agreement of whether two similar structures are different, but the automatic adjudication required for large datasets is undoubtedly challenging to encode in an algorithm."
   ]
  },
  {
   "cell_type": "markdown",
   "metadata": {},
   "source": [
    "### InChI incorporating multiple tautomers "
   ]
  },
  {
   "cell_type": "markdown",
   "metadata": {},
   "source": [
    "[\"InChI is in principle designed to be tautomer-invariant\"](https://cactus.nci.nih.gov/presentations/NIHInChI_2021-03/Day_1_Nicklaus_Tautomerism_2021-03-21A.pdf), meaning tautomers of a structure should be assigned the same InChI. Let's check how successful InChI is at that by performing the same operations we did on the SMILES columns (melting and removing duplicates), but using the InChI columns, and determining how many InChI are required to represent the structures."
   ]
  },
  {
   "cell_type": "code",
   "execution_count": 30,
   "metadata": {},
   "outputs": [
    {
     "data": {
      "text/html": [
       "<div><style>\n",
       ".dataframe > thead > tr,\n",
       ".dataframe > tbody > tr {\n",
       "  text-align: right;\n",
       "  white-space: pre-wrap;\n",
       "}\n",
       "</style>\n",
       "<small>shape: (3_464, 2)</small><table border=\"1\" class=\"dataframe\"><thead><tr><th>Ref</th><th>InChI</th></tr><tr><td>i64</td><td>str</td></tr></thead><tbody><tr><td>4</td><td>&quot;InChI=1S/C7H6N…</td></tr><tr><td>14</td><td>&quot;InChI=1S/C16H1…</td></tr><tr><td>19</td><td>&quot;InChI=1S/C13H1…</td></tr><tr><td>27</td><td>&quot;InChI=1S/C17H1…</td></tr><tr><td>35</td><td>&quot;InChI=1S/C7H6O…</td></tr><tr><td>45</td><td>&quot;InChI=1S/C6H8N…</td></tr><tr><td>54</td><td>&quot;InChI=1S/C11H1…</td></tr><tr><td>63</td><td>&quot;InChI=1S/C22H1…</td></tr><tr><td>91</td><td>&quot;InChI=1S/C4H7N…</td></tr><tr><td>100</td><td>&quot;InChI=1S/C3H6N…</td></tr><tr><td>104</td><td>&quot;InChI=1S/C10H1…</td></tr><tr><td>127</td><td>&quot;InChI=1S/C7H13…</td></tr><tr><td>&hellip;</td><td>&hellip;</td></tr><tr><td>1031</td><td>&quot;InChI=1S/C10H1…</td></tr><tr><td>1037</td><td>&quot;InChI=1S/C8H10…</td></tr><tr><td>1124</td><td>&quot;InChI=1S/C14H8…</td></tr><tr><td>1146</td><td>&quot;InChI=1S/C16H1…</td></tr><tr><td>1157</td><td>&quot;InChI=1S/C7H12…</td></tr><tr><td>1168</td><td>&quot;InChI=1S/C7H12…</td></tr><tr><td>1180</td><td>&quot;InChI=1S/C14H2…</td></tr><tr><td>1213</td><td>&quot;InChI=1S/C14H2…</td></tr><tr><td>789</td><td>&quot;InChI=1S/C25H2…</td></tr><tr><td>929</td><td>&quot;InChI=1S/C11H1…</td></tr><tr><td>1021</td><td>&quot;InChI=1S/C8H10…</td></tr><tr><td>929</td><td>&quot;InChI=1S/C11H1…</td></tr></tbody></table></div>"
      ],
      "text/plain": [
       "shape: (3_464, 2)\n",
       "┌──────┬───────────────────────────────────┐\n",
       "│ Ref  ┆ InChI                             │\n",
       "│ ---  ┆ ---                               │\n",
       "│ i64  ┆ str                               │\n",
       "╞══════╪═══════════════════════════════════╡\n",
       "│ 4    ┆ InChI=1S/C7H6N5/c8-12-11-7-5-3-1… │\n",
       "│ 14   ┆ InChI=1S/C16H11N3O3/c20-15-10-5-… │\n",
       "│ 19   ┆ InChI=1S/C13H12N2O/c1-10-2-4-12(… │\n",
       "│ 27   ┆ InChI=1S/C17H15N3/c1-3-9-15(10-4… │\n",
       "│ 35   ┆ InChI=1S/C7H6O2/c8-6-4-2-1-3-5-7… │\n",
       "│ …    ┆ …                                 │\n",
       "│ 1213 ┆ InChI=1S/C14H24O2S/c1-2-16-14(15… │\n",
       "│ 789  ┆ InChI=1S/C25H22N2O2/c1-18(26-16-… │\n",
       "│ 929  ┆ InChI=1S/C11H16O6/c1-4-8(11(15)1… │\n",
       "│ 1021 ┆ InChI=1S/C8H10O4/c1-4(9)5-6(10)8… │\n",
       "│ 929  ┆ InChI=1S/C11H16O6/c1-4-8(11(15)1… │\n",
       "└──────┴───────────────────────────────────┘"
      ]
     },
     "execution_count": 30,
     "metadata": {},
     "output_type": "execute_result"
    }
   ],
   "source": [
    "df_melted_InChI = df.melt(id_vars=[\"Ref\"], value_vars=cs.starts_with(\"Std_InChI_\"), value_name=\"InChI\")\n",
    "\n",
    "# Keep rows where InChI is supplied\n",
    "df_melted_InChI = df_melted_InChI.filter(pl.col('InChI').is_not_null())\n",
    "\n",
    "# Remove InChI_n label column (n = 1-5)\n",
    "df_melted_InChI = df_melted_InChI.drop(\"variable\")\n",
    "\n",
    "# Remove duplicate rows\n",
    "df_melted_InChI = df_melted_InChI.unique()\n",
    "unique_InChI = df_melted_InChI.shape[0]\n",
    "df_melted_InChI"
   ]
  },
  {
   "cell_type": "markdown",
   "metadata": {},
   "source": [
    "So 3464 InChI are required to represent the 1776 sets of tautomers, whereas 3911 SMILES were. Let's check how well InChI does at representing multiple tautomers with a single identifier (InChI), compared to SMILES which does not have that goal or capability:"
   ]
  },
  {
   "cell_type": "code",
   "execution_count": 31,
   "metadata": {},
   "outputs": [
    {
     "data": {
      "text/plain": [
       "1.95"
      ]
     },
     "execution_count": 31,
     "metadata": {},
     "output_type": "execute_result"
    }
   ],
   "source": [
    "round(unique_InChI/Ref_count, 2)"
   ]
  },
  {
   "cell_type": "code",
   "execution_count": 32,
   "metadata": {},
   "outputs": [
    {
     "data": {
      "text/plain": [
       "2.2"
      ]
     },
     "execution_count": 32,
     "metadata": {},
     "output_type": "execute_result"
    }
   ],
   "source": [
    "round(unique_sml/Ref_count, 2)"
   ]
  },
  {
   "cell_type": "code",
   "execution_count": 33,
   "metadata": {},
   "outputs": [
    {
     "data": {
      "text/plain": [
       "'11%'"
      ]
     },
     "execution_count": 33,
     "metadata": {},
     "output_type": "execute_result"
    }
   ],
   "source": [
    "# Calculate percent reduction\n",
    "f\"{(unique_sml - unique_InChI) / unique_sml:.0%}\""
   ]
  },
  {
   "cell_type": "markdown",
   "metadata": {},
   "source": [
    "So on average 1.95 InChI can represent a set of tautomers, compared to 2.2 SMILES, or an 11% reduction. Should InChI achieve its goal of being tautomer invariant, it would require only one InChI for a set of tautomers, which would be 1776 here. So InChI is only modestly successful."
   ]
  },
  {
   "cell_type": "markdown",
   "metadata": {},
   "source": [
    "## Enumerating tautomers using algorithms"
   ]
  },
  {
   "cell_type": "markdown",
   "metadata": {},
   "source": [
    "Let's start enumerating tautomers using two RDKit algorithms. We'll define a function to create tautomers for a given enumerator class."
   ]
  },
  {
   "cell_type": "code",
   "execution_count": 34,
   "metadata": {},
   "outputs": [],
   "source": [
    "def tauts_as_sml_list(\n",
    "        enumerator: Callable,\n",
    "        sml: str,\n",
    "    ) -> list[str]:\n",
    "    \"\"\"Use a tautomer enumerator to find the tautomers for a given SMILES\n",
    "    \n",
    "    :param enumerator: The tautomer enumerator class, which has an Enumerate method\n",
    "    :param mol: An RDKit molecule\n",
    "    :returns: A list of SMILES\n",
    "    \"\"\"\n",
    "    mol = mol_from_sml(sml)\n",
    "    tauts = enumerator.Enumerate(mol)\n",
    "    tauts_as_sml_list = []\n",
    "    for taut in tauts:\n",
    "        tauts_as_sml_list.append(Chem.MolToSmiles(taut))\n",
    "    \n",
    "    # Make smls into a set to remove duplicates, then back into a list so can be in dataframe\n",
    "    tauts_as_sml_list = list(set(tauts_as_sml_list))\n",
    "    return tauts_as_sml_list"
   ]
  },
  {
   "cell_type": "markdown",
   "metadata": {},
   "source": [
    "Now comes the computationally-intensive step of enumerating tautomers for each experimental structure (SMILES) using the two RDKit tautomer enumerators:\n",
    "\n",
    "- TautomerEnumerator, the default class with the updated rules, which will also be our baseline\n",
    "- GetV1TautomerEnumerator, the previous version\n",
    "\n",
    "This step takes about 1.5 minutes on my laptop."
   ]
  },
  {
   "cell_type": "code",
   "execution_count": 35,
   "metadata": {},
   "outputs": [],
   "source": [
    "# Enumerate tautomers--this may take more than one minute\n",
    "enumerators = [rdMolStandardize.TautomerEnumerator, rdMolStandardize.GetV1TautomerEnumerator]\n",
    "for i, enumerator in enumerate(enumerators):\n",
    "    df_melted = df_melted.with_columns(\n",
    "        [\n",
    "            pl.col(\"canon_sml\").map_elements(lambda s: tauts_as_sml_list(enumerator(), s)).alias(f\"tauts_{enumerator.__name__}\"),\n",
    "        ]\n",
    "    )"
   ]
  },
  {
   "cell_type": "code",
   "execution_count": 36,
   "metadata": {},
   "outputs": [
    {
     "data": {
      "text/html": [
       "<div><style>\n",
       ".dataframe > thead > tr,\n",
       ".dataframe > tbody > tr {\n",
       "  text-align: right;\n",
       "  white-space: pre-wrap;\n",
       "}\n",
       "</style>\n",
       "<small>shape: (3, 5)</small><table border=\"1\" class=\"dataframe\"><thead><tr><th>Ref</th><th>sml</th><th>canon_sml</th><th>tauts_TautomerEnumerator</th><th>tauts_GetV1TautomerEnumerator</th></tr><tr><td>i64</td><td>str</td><td>str</td><td>list[str]</td><td>list[str]</td></tr></thead><tbody><tr><td>23</td><td>&quot;OC1=C(/C=N/C2=…</td><td>&quot;O=[N+]([O-])c1…</td><td>[&quot;O=C1C=NC=CC1C=Nc1ccc([N+](=O)[O-])cc1&quot;, &quot;O=C1CN=CC=C1C=Nc1ccc([N+](=O)[O-])cc1&quot;, … &quot;O=C1C=NC=CC1=CNc1ccc([N+](=O)[O-])cc1&quot;]</td><td>[&quot;O=C1C=NC=CC1C=Nc1ccc([N+](=O)[O-])cc1&quot;, &quot;O=C1CN=CC=C1C=Nc1ccc([N+](=O)[O-])cc1&quot;, … &quot;O=C1C=NC=CC1=CNc1ccc([N+](=O)[O-])cc1&quot;]</td></tr><tr><td>39</td><td>&quot;C1(/C=N/N2C=NN…</td><td>&quot;C1=C/C(=C/Nc2c…</td><td>[&quot;C1=CC(C=Nn2cnnc2)C(C=Nc2ccccc2)=C1&quot;, &quot;C1=CC(=CNn2cnnc2)C(C=Nc2ccccc2)=C1&quot;, … &quot;C1=CC(=CNc2ccccc2)C(C=Nn2cnnc2)=C1&quot;]</td><td>[&quot;C1=CC(C=Nn2cnnc2)C(C=Nc2ccccc2)=C1&quot;, &quot;C1=CC(=CNn2cnnc2)C(C=Nc2ccccc2)=C1&quot;, … &quot;C1=CC(=CNc2ccccc2)C(C=Nn2cnnc2)=C1&quot;]</td></tr><tr><td>85</td><td>&quot;[H]C12CC[C@@H]…</td><td>&quot;CC1=NC2(O)C[C@…</td><td>[&quot;CC1=NC2(O)C[C@H](C)CCC2C(C)(C)N1&quot;, &quot;CC1=NC(C)(C)C2CC[C@@H](C)CC2(O)N1&quot;]</td><td>[&quot;CC1=NC2(O)C[C@H](C)CCC2C(C)(C)N1&quot;, &quot;C=C1NC(C)(C)C2CC[C@@H](C)CC2(O)N1&quot;, &quot;CC1=NC(C)(C)C2CC[C@@H](C)CC2(O)N1&quot;]</td></tr></tbody></table></div>"
      ],
      "text/plain": [
       "shape: (3, 5)\n",
       "┌─────┬───────────────────────┬──────────────────────┬──────────────────────┬──────────────────────┐\n",
       "│ Ref ┆ sml                   ┆ canon_sml            ┆ tauts_TautomerEnumer ┆ tauts_GetV1TautomerE │\n",
       "│ --- ┆ ---                   ┆ ---                  ┆ ator                 ┆ numerator            │\n",
       "│ i64 ┆ str                   ┆ str                  ┆ ---                  ┆ ---                  │\n",
       "│     ┆                       ┆                      ┆ list[str]            ┆ list[str]            │\n",
       "╞═════╪═══════════════════════╪══════════════════════╪══════════════════════╪══════════════════════╡\n",
       "│ 23  ┆ OC1=C(/C=N/C2=CC=C([N ┆ O=[N+]([O-])c1ccc(/N ┆ [\"O=C1C=NC=CC1C=Nc1c ┆ [\"O=C1C=NC=CC1C=Nc1c │\n",
       "│     ┆ +]([O-])=O)…          ┆ =C/c2ccncc2O…        ┆ cc([N+](=O)[…        ┆ cc([N+](=O)[…        │\n",
       "│ 39  ┆ C1(/C=N/N2C=NN=C2)=CC ┆ C1=C/C(=C/Nc2ccccc2) ┆ [\"C1=CC(C=Nn2cnnc2)C ┆ [\"C1=CC(C=Nn2cnnc2)C │\n",
       "│     ┆ =C/C1=C/NC3…          ┆ C(/C=N/n2cnn…        ┆ (C=Nc2ccccc2…        ┆ (C=Nc2ccccc2…        │\n",
       "│ 85  ┆ [H]C12CC[C@@H](C)CC1( ┆ CC1=NC2(O)C[C@H](C)C ┆ [\"CC1=NC2(O)C[C@H](C ┆ [\"CC1=NC2(O)C[C@H](C │\n",
       "│     ┆ O)N=C(C)NC2…          ┆ CC2C(C)(C)N1         ┆ )CCC2C(C)(C)…        ┆ )CCC2C(C)(C)…        │\n",
       "└─────┴───────────────────────┴──────────────────────┴──────────────────────┴──────────────────────┘"
      ]
     },
     "execution_count": 36,
     "metadata": {},
     "output_type": "execute_result"
    }
   ],
   "source": [
    "df_melted.head(3)"
   ]
  },
  {
   "cell_type": "markdown",
   "metadata": {},
   "source": [
    "## Entering tautomers generated by external algorithms"
   ]
  },
  {
   "cell_type": "markdown",
   "metadata": {},
   "source": [
    "For the NIH CACTUS Tautomerizer and CACTVS, I don't have programmatic access, so tautomers for some Refs are given below, either directly or read from a file."
   ]
  },
  {
   "cell_type": "markdown",
   "metadata": {},
   "source": [
    "### NIH Tautomerizer"
   ]
  },
  {
   "cell_type": "code",
   "execution_count": 37,
   "metadata": {},
   "outputs": [
    {
     "name": "stdout",
     "output_type": "stream",
     "text": [
      "[774.231241276]\n"
     ]
    },
    {
     "data": {
      "image/png": "[encoded data removed]",
      "text/plain": [
       "<IPython.core.display.Image object>"
      ]
     },
     "execution_count": 37,
     "metadata": {},
     "output_type": "execute_result"
    }
   ],
   "source": [
    "smls_check = [\n",
    "    # \"C=C(OCC)C1N(O)C(C)(C)C(C)=[N+]1[O-]\" # input to site\n",
    "    # \"C=C(OCC)C1[NH+](C(C(N1O)(C)C)=C)[O-]\", # an output from site\n",
    "    \"COc1c(O)c2c(=O)cc(OC)c3c4c(OC)cc(=O)c5c(O)c(OC)c(C[C@H](C)OC(=O)C6=CCC(=O)C=C6)c(c(c1C[C@@H](C)OC(=O)c1ccccc1)c23)c54\", # an entry in df_melted under tauts_NIH Ref 888\n",
    "    # \"C=C(/C=[N+](\\[O-])C(C)(C)C(=C)NO)OCC\", # an entry in df_melted under tauts_NIH Ref 1688\n",
    "    # \"CSC1=NC(c2ccccc2[N+](=O)[O-])C(C(=O)OC(C)C)=C(C)N1\", # input to site\n",
    "    # \"CSC1=NC(=C(C(N1)C2=C(C=CC=C2)[N+](=O)[O-])C(=O)OC(C)C)C\", # an output from site\n",
    "    # \"CSC1=NC(=C2C=CC=CC2=[N+]([O-])O)C(C(=O)OC(C)C)=C(C)N1\", # an entry in df_melted under tauts_NIH Ref 73\n",
    "    ]\n",
    "mols_check = [mol_from_sml(sml) for sml in smls_check]\n",
    "wts_check = [Chem.CalcExactMolWt(mol) for mol in mols_check]\n",
    "print(wts_check)\n",
    "Draw.MolsToGridImage(mols_check)\n",
    "# sml_canon_check = [Chem.MolToSmiles(mol) for mol in mols_check]\n",
    "# [sml_canon == sml_canon_check[0] for sml_canon in sml_canon_check]"
   ]
  },
  {
   "cell_type": "markdown",
   "metadata": {},
   "source": [
    "Breaker"
   ]
  },
  {
   "cell_type": "code",
   "execution_count": 38,
   "metadata": {},
   "outputs": [],
   "source": [
    "# Manually list tautomers created by NIH Tautomerizer\n",
    "# https://cactus.nci.nih.gov/cgi-bin/tautomerize.tcl\n",
    "# Settings:\n",
    "#   steps: multi\n",
    "#   Predicted tautomers by: All Rules\n",
    "nih_sml_tauts = {\n",
    "    # 73a\n",
    "    \"CSC1=NC(c2ccccc2[N+](=O)[O-])C(C(=O)OC(C)C)=C(C)N1\": [\n",
    "        \"CSC1=NC(=C(C(N1)C2=C(C=CC=C2)[N+](=O)[O-])C(=O)OC(C)C)C\",\n",
    "        \"CSC2=NC(C1=C(C=CC=C1)[N+](=O)[O-])C(C(=O)OC(C)C)C(=N2)C\",\n",
    "        \"CSC2=NC(C1=C(C=CC=C1)[N+](=O)[O-])C(C(=O)OC(C)C)C(=C)N2\",\n",
    "        \"CSC1=NC(C(C(N1)C2=C(C=CC=C2)[N+](=O)[O-])C(=O)OC(C)C)=C\",\n",
    "        \"CSC2=NC(C1=C(C=CC=C1)[N+](=O)[O-])C(=C(O)OC(C)C)C(=N2)C\",\n",
    "        \"CSC1NC(=C(C(=N1)C2=C(C=CC=C2)[N+](=O)[O-])C(=O)OC(C)C)C\",\n",
    "        \"CSC2=NC(=C1C(C=CC=C1)=[N+]([O-])O)C(=C(C)N2)C(=O)OC(C)C\",\n",
    "        \"CSC2=NC(=C1C(=CCC=C1)[N+]([O-])=O)C(=C(C)N2)C(=O)OC(C)C\",\n",
    "    ],\n",
    "    # 73b\n",
    "    \"CSC1=NC(C)=C(C(=O)OC(C)C)C(c2ccccc2[N+](=O)[O-])N1\": [\n",
    "        # 4 tautomer(s) generated using PT_06_00 - 1,3 heteroatom H shift\n",
    "        \"CSC1=NC(C(=C(N1)C)C(=O)OC(C)C)C2=C(C=CC=C2)[N+](=O)[O-]\",\n",
    "        \"CSC1=NC(C(C(=N1)C)C(=O)OC(C)C)C2=C(C=CC=C2)[N+](=O)[O-]\",\n",
    "        \"CSC1=NC(C(C(N1)=C)C(=O)OC(C)C)C2=C(C=CC=C2)[N+](=O)[O-]\",\n",
    "        \"CSC2=NC(=C)C(C(=O)OC(C)C)C(C1=C(C=CC=C1)[N+](=O)[O-])N2\",\n",
    "        # 1 tautomer(s) generated using PT_09_00 - 1,7 (aromatic) heteroatom H shift\n",
    "        \"CSC1=NC(C(C(=N1)C)=C(O)OC(C)C)C2=C(C=CC=C2)[N+](=O)[O-]\",\n",
    "        # 2 tautomer(s) generated using PT_29_00 - nitro/aci-nitro via aromatic ring (2): 1,5 H-shift\n",
    "        \"CSC2=NC(=C(C(=O)OC(C)C)C(=C1C(C=CC=C1)=[N+]([O-])O)N2)C\",\n",
    "        \"CSC2=NC(=C(C(=O)OC(C)C)C(=C1C(=CCC=C1)[N+]([O-])=O)N2)C\",\n",
    "    ],\n",
    "    # 457a\n",
    "    \"[2H]Oc1ccc(-c2oc3c([2H])c(O[2H])c(OC)c(=O)c-3c(O[2H])c2O[2H])cc1O[2H]\": [\n",
    "        # 2 tautomer(s) generated using PT_02_00 - 1,5 (thio)keto/(thio)enol\n",
    "        \"O([2H])C1=C(C=C(C=C1)C2=C(C(C3=C(O2)C([2H])(C(=C(OC)C3=O)O[2H])[2H])=O)O[2H])O[2H]\",\n",
    "        \"O([2H])C1=C(C=C(C=C1)C2=C(C(C3=C(O2)C(=C(O[2H])C(=C3O[2H])OC)[2H])=O)O[2H])O[2H]\",\n",
    "        # 9 tautomer(s) generated using PT_06_00 - 1,3 heteroatom H shift\n",
    "        \"O=C1C(C=C(C=C1)C3=C(C(=C2C(C(=C(C(=C2O3)[2H])O[2H])OC)=O)O[2H])O[2H])(O[2H])[2H]\",\n",
    "        \"O([2H])C1=C(C=C(C=C1)C3=C(C(=C2C(C(C(C(=C2O3)[2H])=O)(OC)[2H])=O)O[2H])O[2H])O[2H]\",\n",
    "        \"O([2H])C1=C(C=C(C=C1)C3=C(C(C2(C(C(=C(C(=C2O3)[2H])O[2H])OC)=O)[2H])=O)O[2H])O[2H]\",\n",
    "        \"O([2H])C1=C(C=C(C=C1)C3(C(C(=C2C(C(=C(C(=C2O3)[2H])O[2H])OC)=O)O[2H])=O)[2H])O[2H]\",\n",
    "        \"O([2H])C1(C(C=C(C=C1)C3=C(C(=C2C(C(=C(C(=C2O3)[2H])O[2H])OC)=O)O[2H])O[2H])=O)[2H]\",\n",
    "        \"O=C1C(C=C(C=C1)C3=C(C(=C2C(C(C(C(=C2O3)[2H])=O)(OC)[2H])=O)O[2H])O[2H])(O[2H])[2H]\",\n",
    "        \"O=C1C(C=C(C=C1)C3=C(C(C2(C(C(=C(C(=C2O3)[2H])O[2H])OC)=O)[2H])=O)O[2H])(O[2H])[2H]\",\n",
    "        \"O=C1C(C=C(C=C1)C3(C(C(=C2C(C(=C(C(=C2O3)[2H])O[2H])OC)=O)O[2H])=O)[2H])(O[2H])[2H]\",\n",
    "        \"O([2H])C1=C(C=C(C=C1)C3=C(C(C2(C(C(C(C(=C2O3)[2H])=O)(OC)[2H])=O)[2H])=O)O[2H])O[2H]\",\n",
    "        # 2 tautomer(s) generated using PT_07_00 - 1,5 (aromatic) heteroatom H shift (1)\n",
    "        \"O([2H])C1=C(C=C(C=C1)C3=C(C(=C2C(=C(C(C(=C2O3)[2H])=O)OC)O[2H])O[2H])O[2H])O[2H]\",\n",
    "        \"O([2H])C1=C(C=C(C=C1)C3=C(C(C2=C(C(=C(C(=C2O3)[2H])O[2H])OC)O[2H])=O)O[2H])O[2H]\",\n",
    "        # 2 tautomer(s) generated using PT_09_00 - 1,7 (aromatic) heteroatom H shift\n",
    "        \"O=C1C(=CC(=CC1[2H])C3=C(C(=C2C(C(=C(C(=C2O3)[2H])O[2H])OC)=O)O[2H])O[2H])O[2H]\",\n",
    "        \"O([2H])C3=CC=C(C2=C(C(=C1C(C(=C(C(=C1O2)[2H])O[2H])OC)=O)O[2H])O[2H])C(C3=O)[2H]\",\n",
    "        # 1 tautomer(s) generated using PT_11_00 - 1,11 (aromatic) heteroatom H shift\n",
    "        \"O=C1C(=CC(C=C1)=C3C(=C(C2=C(C(=C(C(=C2O3)[2H])O[2H])OC)O[2H])O[2H])O[2H])O[2H]\",\n",
    "        # 1 tautomer(s) generated using PT_11_02 - 1,15 (aromatic) heteroatom H shift\n",
    "        \"O=C1C(=CC(C=C1)=C2C(=C(C3=C(O2)C(=C(O[2H])C(=C3O[2H])OC)[2H])O[2H])O[2H])O[2H]\",\n",
    "    ],\n",
    "    # 457b\n",
    "    \"[2H]Oc1ccc(-c2oc3c([2H])c(O[2H])c(OC)c(O[2H])c3c(=O)c2O[2H])cc1O[2H]\": [\n",
    "        # 9 tautomer(s) generated using PT_06_00 - 1,3 heteroatom H shift\n",
    "        \"O=C1C(C=C(C=C1)C2=C(C(C3=C(O2)C(=C(O[2H])C(=C3O[2H])OC)[2H])=O)O[2H])(O[2H])[2H]\",\n",
    "        \"O([2H])C1=C(C=C(C=C1)C2=C(C(C3=C(O2)C([2H])(C(=O)C(=C3O[2H])OC)[2H])=O)O[2H])O[2H]\",\n",
    "        \"O([2H])C1=C(C=C(C=C1)C2=C(C(C3=C(O2)C(=C(O[2H])C(OC)(C3=O)[2H])[2H])=O)O[2H])O[2H]\",\n",
    "        \"O([2H])C1=C(C=C(C=C1)C2(C(C(C3=C(O2)C(=C(O[2H])C(=C3O[2H])OC)[2H])=O)=O)[2H])O[2H]\",\n",
    "        \"O([2H])C1(C(C=C(C=C1)C2=C(C(C3=C(O2)C(=C(O[2H])C(=C3O[2H])OC)[2H])=O)O[2H])=O)[2H]\",\n",
    "        \"O=C1C(C=C(C=C1)C2=C(C(C3=C(O2)C([2H])(C(=O)C(=C3O[2H])OC)[2H])=O)O[2H])(O[2H])[2H]\",\n",
    "        \"O=C1C(C=C(C=C1)C2=C(C(C3=C(O2)C(=C(O[2H])C(OC)(C3=O)[2H])[2H])=O)O[2H])(O[2H])[2H]\",\n",
    "        \"O=C1C(C=C(C=C1)C2(C(C(C3=C(O2)C(=C(O[2H])C(=C3O[2H])OC)[2H])=O)=O)[2H])(O[2H])[2H]\",\n",
    "        \"O([2H])C1=C(C=C(C=C1)C2=C(C(C3=C(O2)C([2H])(C(=O)C(OC)(C3=O)[2H])[2H])=O)O[2H])O[2H]\",\n",
    "        # 7 tautomer(s) generated using PT_09_00 - 1,7 (aromatic) heteroatom H shift\n",
    "        \"O=C1C(=CC(=CC1[2H])C2=C(C(C3=C(O2)C(=C(O[2H])C(=C3O[2H])OC)[2H])=O)O[2H])O[2H]\",\n",
    "        \"O([2H])C1=C(C=C(C=C1)C3=C(C(C2(C(C(=C(C(=C2O3)[2H])O[2H])OC)=O)[2H])=O)O[2H])O[2H]\",\n",
    "        \"O([2H])C1=C(C=C(C=C1)C3=C(C(=C2C(=C(C(C(=C2O3)[2H])=O)OC)O[2H])O[2H])O[2H])O[2H]\",\n",
    "        \"O([2H])C3=CC=C(C1=C(C(C2=C(O1)C(=C(O[2H])C(=C2O[2H])OC)[2H])=O)O[2H])C(C3=O)[2H]\",\n",
    "        \"O=C1C(=CC(=CC1[2H])C3=C(C(C2(C(C(=C(C(=C2O3)[2H])O[2H])OC)=O)[2H])=O)O[2H])O[2H]\",\n",
    "        \"O=C1C(=CC(=CC1[2H])C3=C(C(=C2C(=C(C(C(=C2O3)[2H])=O)OC)O[2H])O[2H])O[2H])O[2H]\",\n",
    "        \"O=C1C(=CC(C=C1[2H])=C2C(=C(C3=C(O2)C(=C(O[2H])C(=C3O[2H])OC)[2H])O)O[2H])O[2H]\",\n",
    "        # 1 tautomer(s) generated using PT_10_00 - 1,9 (aromatic) heteroatom H shift\n",
    "        \"O([2H])C1=C(C=C(C=C1)C3=C(C(=C2C(C(=C(C(=C2O3)[2H])O[2H])OC)=O)O[2H])O[2H])O[2H]\",\n",
    "    ],\n",
    "    # 467a\n",
    "    #   9 tautomer(s) generated using PT_06_00 - 1,3 heteroatom H shift\n",
    "    #   7 tautomer(s) generated using PT_09_00 - 1,7 (aromatic) heteroatom H shift\n",
    "    #   1 tautomer(s) generated using PT_10_00 - 1,9 (aromatic) heteroatom H shift\n",
    "    \"O=c1c(O)c(-c2ccc(O)c(O)c2)oc2cc(O)cc(O)c12\": [\n",
    "        \"O=C1C3=C(OC(C1=O)C2=CC(=C(C=C2)O)O)C=C(O)C=C3O\",\n",
    "        \"O=C1C3=C(OC(=C1O)C2=CC(C(C=C2)=O)O)C=C(O)C=C3O\",\n",
    "        \"O=C1C3=C(OC(=C1O)C2=CC(C(C=C2)O)=O)C=C(O)C=C3O\",\n",
    "        \"O=C1C3=C(OC(=C1O)C2=CC(=C(C=C2)O)O)CC(=O)C=C3O\",\n",
    "        \"O=C1C3=C(OC(=C1O)C2=CC(=C(C=C2)O)O)C=C(O)CC3=O\",\n",
    "        \"O=C1C3=C(OC(C1=O)C2=CC(C(C=C2)=O)O)C=C(O)C=C3O\",\n",
    "        \"O=C1C3=C(OC(C1=O)C2=CC(C(C=C2)O)=O)C=C(O)C=C3O\",\n",
    "        \"O=C1C3=C(OC(C1=O)C2=CC(=C(C=C2)O)O)CC(=O)C=C3O\",\n",
    "        \"O=C1C3=C(OC(C1=O)C2=CC(=C(C=C2)O)O)C=C(O)CC3=O\",\n",
    "        \"OC2=C1C(=CC(C=C1OC(=C2O)C3=CC(=C(C=C3)O)O)=O)O\",\n",
    "        \"O=C1C3=C(OC(=C1O)C2=CCC(=O)C(=C2)O)C=C(O)C=C3O\",\n",
    "        \"O=C1C3=C(OC(=C1O)C2=CC=C(O)C(=O)C2)C=C(O)C=C3O\",\n",
    "        \"O=C2C1=C(CC(C=C1OC(=C2O)C3=CC(=C(C=C3)O)O)=O)O\",\n",
    "        \"O=C2C1C(C=C(C=C1OC(=C2O)C3=CC(=C(C=C3)O)O)O)=O\",\n",
    "        \"OC2=C1C(=CC(C=C1OC(=C2O)C3=CCC(=O)C(=C3)O)=O)O\",\n",
    "        \"OC2=C1C(=CC(C=C1OC(=C2O)C3=CC=C(O)C(=O)C3)=O)O\",\n",
    "        \"OC2=C1C(C=C(C=C1OC(=C2O)C3=CC(=C(C=C3)O)O)O)=O\",\n",
    "    ],\n",
    "    # 467b\n",
    "    #   2 tautomer(s) generated using PT_02_00 - 1,5 (thio)keto/(thio)enol\n",
    "    #   9 tautomer(s) generated using PT_06_00 - 1,3 heteroatom H shift\n",
    "    #   2 tautomer(s) generated using PT_07_00 - 1,5 (aromatic) heteroatom H shift (1)\n",
    "    #   7 tautomer(s) generated using PT_09_00 - 1,7 (aromatic) heteroatom H shift\n",
    "    #   1 tautomer(s) generated using PT_11_00 - 1,11 (aromatic) heteroatom H shift\n",
    "    #   1 tautomer(s) generated using PT_11_02 - 1,15 (aromatic) heteroatom H shift\n",
    "    \"O=c1cc(O)cc2oc(-c3ccc(O)c(O)c3)c(O)c(O)c1-2\": [\n",
    "        \"O=C1C2=C(CC(=C1)O)OC(=C(O)C2=O)C3=CC(=C(C=C3)O)O\",\n",
    "        \"OC2=C1C(C(=C(OC1=CC(=C2)O)C3=CC(=C(C=C3)O)O)O)=O\",\n",
    "        \"O=C2C1=C(C(=C(OC1=CC(C2)=O)C3=CC(=C(C=C3)O)O)O)O\",\n",
    "        \"O=C2C1=C(C(=C(OC1=CC(=C2)O)C3=CC(C(C=C3)=O)O)O)O\",\n",
    "        \"O=C2C1=C(C(=C(OC1=CC(=C2)O)C3=CC(C(C=C3)O)=O)O)O\",\n",
    "        \"O=C2C1=C(C(C(OC1=CC(=C2)O)C3=CC(=C(C=C3)O)O)=O)O\",\n",
    "        \"O=C2C1C(C(=C(OC1=CC(=C2)O)C3=CC(=C(C=C3)O)O)O)=O\",\n",
    "        \"O=C2C1=C(C(=C(OC1=CC(C2)=O)C3=CC(C(C=C3)=O)O)O)O\",\n",
    "        \"O=C2C1=C(C(=C(OC1=CC(C2)=O)C3=CC(C(C=C3)O)=O)O)O\",\n",
    "        \"O=C2C1=C(C(C(OC1=CC(C2)=O)C3=CC(=C(C=C3)O)O)=O)O\",\n",
    "        \"O=C2C1C(C(=C(OC1=CC(C2)=O)C3=CC(=C(C=C3)O)O)O)=O\",\n",
    "        \"OC2=C1C(C(=C(OC1=CC(=C2)O)C3=CC(=C(C=C3)O)O)O)=O\",\n",
    "        \"OC1=CC(=O)C=C2C1=C(C(=C(O2)C3=CC(=C(C=C3)O)O)O)O\",\n",
    "        \"O=C1C2=C(C=C(C1)O)OC(=C(O)C2=O)C3=CC(=C(C=C3)O)O\",\n",
    "        \"O=C2C1=C(C(=C(OC1=CC(=C2)O)C3=CCC(=O)C(=C3)O)O)O\",\n",
    "        \"O=C2C1=C(C(=C(OC1=CC(=C2)O)C3=CC=C(O)C(=O)C3)O)O\",\n",
    "        \"OC2=C1C(C(=C(OC1=CC(=C2)O)C3=CC(=C(C=C3)O)O)O)=O\",\n",
    "        \"OC2=C1C(C(=C(OC1=CC(C2)=O)C3=CC(=C(C=C3)O)O)O)=O\",\n",
    "        \"O=C1C2=C(C=C(C1)O)OC(=C(O)C2=O)C3=CCC(=O)C(=C3)O\",\n",
    "        \"O=C1C2=C(C=C(C1)O)OC(=C(O)C2=O)C3=CC=C(O)C(=O)C3\",\n",
    "        \"OC2=C1C(=C(C(OC1=CC(=C2)O)=C3C=C(C(C=C3)=O)O)O)O\",\n",
    "        \"OC1=CC(=CC2=C1C(=C(C(O2)=C3C=C(C(C=C3)=O)O)O)O)O\",\n",
    "        ],\n",
    "    # 888a\n",
    "    \"COc1c(O)c2c(=O)cc(OC)c3c4c(OC)cc(=O)c5c(O)c(OC)c6c(c(c1[C@@H]([C@H](C)O)[C@@H]6[C@H](C)O)c23)c54\": [\n",
    "        # 5 tautomer(s) generated using PT_06_00 - 1,3 heteroatom H shift\n",
    "        \"COC4=C6C3=C1C(=C(C(=C2C(C=C(C(=C12)C5=C3C(C4=O)C(=O)C=C5OC)OC)=O)O)OC)[C@H]([C@@H]6[C@H](C)O)[C@H](C)O\",\n",
    "        \"COC4=C6C3=C1C(=C(C(C2C(C=C(C(=C12)C5=C3C(C4=O)C(=O)C=C5OC)OC)=O)=O)OC)[C@H]([C@@H]6[C@H](C)O)[C@H](C)O\",\n",
    "        \"COC5=C6C3=C1C(=C(C(=C2C(C=C(C(=C12)C4=C3C(=C(O)C=C4OC)C5=O)OC)=O)O)OC)[C@H]([C@@H]6[C@H](C)O)[C@H](C)O\",\n",
    "        \"COC5=C6C3=C1C(=C(C(C2C(C=C(C(=C12)C4=C3C(=C(O)C=C4OC)C5=O)OC)=O)=O)OC)[C@H]([C@@H]6[C@H](C)O)[C@H](C)O\",\n",
    "        \"COC5=C6C3=C1C(=C(C(C2=C(C=C(C(=C12)C4=C3C(=C(O)C=C4OC)C5=O)OC)O)=O)OC)[C@H]([C@@H]6[C@H](C)O)[C@H](C)O\",\n",
    "        # 2 tautomer(s) generated using PT_07_00 - 1,5 (aromatic) heteroatom H shift (1)\n",
    "        \"COC5=C6C3=C1C(=C(C(=C2C(C=C(C(=C12)C4=C3C(=C(O)C=C4OC)C5=O)OC)=O)O)OC)[C@H]([C@@H]6[C@H](C)O)[C@H](C)O\",\n",
    "        \"COC5=C6C3=C1C(=C(C(C2=C(C=C(C(=C12)C4=C3C(=C(O)C=C4OC)C5=O)OC)O)=O)OC)[C@H]([C@@H]6[C@H](C)O)[C@H](C)O\",\n",
    "        # 6 tautomer(s) generated using PT_09_00 - 1,7 (aromatic) heteroatom H shift\n",
    "        \"COC5=C(O)C1=C(O)C=C(OC)C2=C1C6=C3C(=C(C(=C4C(C=C(C2=C34)OC)=O)O)OC)[C@H](C(=C56)[C@H](C)O)[C@H](C)O\",\n",
    "        \"COC5=C6C3=C1C(=C(C(=C2C(C=C(C(=C12)C4=C(CC(C(=C34)C5=O)=O)OC)OC)=O)O)OC)[C@H]([C@@H]6[C@H](C)O)[C@H](C)O\",\n",
    "        \"COC2=C6C3=C1C(=C(C(C5=C1C(=C4C(=CC(C(=C2O)C34)=O)OC)C(=CC5=O)OC)=O)OC)[C@H]([C@@H]6[C@H](C)O)[C@H](C)O\",\n",
    "        \"COC5=C(O)C4=C3C6=C1C(=C(C(=C2C(C=C(C(=C12)C3=C(CC4=O)OC)OC)=O)O)OC)[C@H](C(=C56)[C@H](C)O)[C@H](C)O\",\n",
    "        \"COC5=C(O)C1=C(O)C=C(OC)C3=C1C6=C2C(=C(C(C4=C2C3=C(OC)CC4=O)=O)OC)[C@H](C(=C56)[C@H](C)O)[C@H](C)O\",\n",
    "        \"COC2=C(O)C1=C(O)C=C(OC)C4=C1C3=C5C(=C(C(=C23)[C@H](C)O)[C@H](C)O)C(=C(C6=C(C=C(C4=C56)OC)O)O)OC\",\n",
    "    ],\n",
    "    # 888b\n",
    "    \"COc1c2c3c4c(c(OC)c(=O)c5c(O)cc(OC)c(c6c(OC)cc(O)c(c1=O)c63)c54)[C@@H]([C@H](C)O)[C@@H]2[C@H](C)O\": [\n",
    "        \"COC4=C1[C@H](C(=C6C2=C5C(=C3C(=C12)C(=C(C=C3OC)O)C4=O)C(=CC(=C5C(=C6OC)O)O)OC)[C@H](C)O)[C@H](C)O\",\n",
    "        \"COC1=C(C2=C(C=C(C3=C5C(=CC(=C6C(=C(C4=C([C@H](C)O)C(=C1C(=C23)C4=C56)[C@H](C)O)OC)O)O)OC)OC)O)O\",\n",
    "        \"COC6=C2[C@H]([C@@H](C1=C(OC)C(=O)C5C4=C1C2=C3C(=C(C=C(C3=C4C(=CC5=O)OC)OC)O)C6=O)[C@H](C)O)[C@H](C)O\",\n",
    "        \"COC6=C2[C@H]([C@@H](C1=C(OC)C(=O)C5C4=C1C2=C3C(C(C=C(C3=C4C(=CC5=O)OC)OC)=O)C6=O)[C@H](C)O)[C@H](C)O\",\n",
    "        \"COC6=C2[C@H]([C@@H](C1=C(OC)C(=C5C4=C1C2=C3C(=C(C=C(C3=C4C(=CC5=O)OC)OC)O)C6=O)O)[C@H](C)O)[C@H](C)O\",\n",
    "        \"COC6=C2[C@H]([C@@H](C1=C(OC)C(=C5C4=C1C2=C3C(C(C=C(C3=C4C(=CC5=O)OC)OC)=O)C6=O)O)[C@H](C)O)[C@H](C)O\",\n",
    "        \"COC6=C2[C@H]([C@@H](C1=C(OC)C(=C5C4=C1C2=C3C(=C(C=C(C3=C4C(=CC5=O)OC)OC)O)C6=O)O)[C@H](C)O)[C@H](C)O\",\n",
    "        \"COC3=C2[C@H]([C@@H](C1=C(OC)C(=C6C5=C1C2=C4C(=C3O)C(C=C(C4=C5C(=CC6=O)OC)OC)=O)O)[C@H](C)O)[C@H](C)O\",\n",
    "        \"COC2=C3[C@H]([C@@H](C4=C(OC)C(=O)C6=C5C(=C1C(C(=C(C=C1OC)O)C2=O)C3=C45)C(=CC6=O)OC)[C@H](C)O)[C@H](C)O\",\n",
    "        \"COC6=C1[C@H]([C@@H](C5=C3C1=C2C(=C(C=C(C2=C4C(=CC(C(=C34)C(=C5OC)O)=O)OC)OC)O)C6=O)[C@H](C)O)[C@H](C)O\",\n",
    "        \"COC6=C1[C@H]([C@@H](C5C3=C1C2=C(C(C=C(C2=C4C(=CC(C(=C34)C(=C5OC)O)=O)OC)OC)=O)C6=O)[C@H](C)O)[C@H](C)O\",\n",
    "        \"COC6=C2[C@H]([C@@H](C1=C(OC)C(=O)C5C4=C1C2=C3C(=C(C=C(C3=C4C(=CC5=O)OC)OC)O)C6=O)[C@H](C)O)[C@H](C)O\",\n",
    "    ],\n",
    "    # 890a\n",
    "    \"COc1c(O)c2c(=O)cc(OC)c3c4c(OC)cc(=O)c5c(O)c(OC)c(C[C@H](C)OC(=O)c6ccc(O)cc6)c(c(c1C[C@@H](C)OC(=O)c1ccccc1)c23)c54\": [\n",
    "        \"COC4=C(C3=C1C(=C(C(=C2C(C=C(C(=C12)C5=C3C(C4=O)C(=O)C=C5OC)OC)=O)O)OC)C[C@H](C)OC(=O)C6=CC=C(C=C6)O)C[C@@H](C)OC(=O)C7=CC=CC=C7\",\n",
    "        \"COC4=C(C3=C1C(=C(C(C2C(C=C(C(=C12)C5=C3C(=C4O)C(=O)C=C5OC)OC)=O)=O)OC)C[C@H](C)OC(=O)C6=CC=C(C=C6)O)C[C@@H](C)OC(=O)C7=CC=CC=C7\",\n",
    "        \"COC4=C(C3=C1C(=C(C(=C2C(C=C(C(=C12)C5=C3C(=C4O)C(=O)C=C5OC)OC)=O)O)OC)C[C@H](C)OC(=O)C6=CCC(C=C6)=O)C[C@@H](C)OC(=O)C7=CC=CC=C7\",\n",
    "        \"COC4=C(C3=C1C(=C(C(C2C(C=C(C(=C12)C5=C3C(C4=O)C(=O)C=C5OC)OC)=O)=O)OC)C[C@H](C)OC(=O)C6=CC=C(C=C6)O)C[C@@H](C)OC(=O)C7=CC=CC=C7\",\n",
    "        \"COC4=C(C3=C1C(=C(C(=C2C(C=C(C(=C12)C5=C3C(C4=O)C(=O)C=C5OC)OC)=O)O)OC)C[C@H](C)OC(=O)C6=CCC(C=C6)=O)C[C@@H](C)OC(=O)C7=CC=CC=C7\",\n",
    "        \"COC4=C(C3=C1C(=C(C(C2C(C=C(C(=C12)C5=C3C(=C4O)C(=O)C=C5OC)OC)=O)=O)OC)C[C@H](C)OC(=O)C6=CCC(C=C6)=O)C[C@@H](C)OC(=O)C7=CC=CC=C7\",\n",
    "        \"COC4=C(C3=C1C(=C(C(C2C(C=C(C(=C12)C5=C3C(C4=O)C(=O)C=C5OC)OC)=O)=O)OC)C[C@H](C)OC(=O)C6=CCC(C=C6)=O)C[C@@H](C)OC(=O)C7=CC=CC=C7\",\n",
    "        \"COC5=C(C3=C1C(=C(C(=C2C(C=C(C(=C12)C4=C3C(=C(O)C=C4OC)C5=O)OC)=O)O)OC)C[C@H](C)OC(=O)C6=CC=C(C=C6)O)C[C@@H](C)OC(=O)C7=CC=CC=C7\",\n",
    "        \"COC4=C(C3=C1C(=C(C(C2=C(C=C(C(=C12)C5=C3C(=C4O)C(=O)C=C5OC)OC)O)=O)OC)C[C@H](C)OC(=O)C6=CC=C(C=C6)O)C[C@@H](C)OC(=O)C7=CC=CC=C7\",\n",
    "        \"COC5=C(C3=C1C(=C(C(C2=C(C=C(C(=C12)C4=C3C(=C(O)C=C4OC)C5=O)OC)O)=O)OC)C[C@H](C)OC(=O)C6=CC=C(C=C6)O)C[C@@H](C)OC(=O)C7=CC=CC=C7\",\n",
    "        \"COC6=C(O)C1=C(O)C=C(OC)C2=C1C(=C3C(=C(C(=C4C(C=C(C2=C34)OC)=O)O)OC)C[C@H](C)OC(=O)C5=CC=C(C=C5)O)C6=C[C@@H](C)OC(=O)C7=CC=CC=C7\",\n",
    "        \"COC5=C(C3=C1C(=C(C(=C2C(C=C(C(=C12)C4=C(CC(C(=C34)C5=O)=O)OC)OC)=O)O)OC)C[C@H](C)OC(=O)C6=CC=C(C=C6)O)C[C@@H](C)OC(=O)C7=CC=CC=C7\",\n",
    "        \"COC4=C(C3=C1C(=C(C(C2=C1C(=C(OC)CC2=O)C5=C3C(=C4O)C(=O)C=C5OC)=O)OC)C[C@H](C)OC(=O)C6=CC=C(C=C6)O)C[C@@H](C)OC(=O)C7=CC=CC=C7\",\n",
    "        \"COC4=C(C3=C1C(C(=C(C2=C(C=C(C(=C12)C5=C3C(=C4O)C(=O)C=C5OC)OC)O)O)OC)=C[C@H](C)OC(=O)C6=CC=C(C=C6)O)C[C@@H](C)OC(=O)C7=CC=CC=C7\",\n",
    "        \"COC4=C(C3=C1C(=C(C(=C2C(C=C(C(=C12)C5=C3C(=C4O)C(=O)C=C5OC)OC)=O)O)OC)C[C@H](C)OC(O)=C6C=CC(C=C6)=O)C[C@@H](C)OC(=O)C7=CC=CC=C7\",\n",
    "        \"COC4=C(C3=C1C(=C(C(=C2C(C=C(C(=C12)C5=C3C(=C4O)C(=O)C=C5OC)OC)=O)O)OC)C[C@H](C)OC(=O)C6=CCC(=O)C=C6)C[C@@H](C)OC(=O)C7=CC=CC=C7\",\n",
    "        \"COC2=C(C3=C1C(=C(C(C5=C1C(=C4C(=CC(C(=C2O)C34)=O)OC)C(=CC5=O)OC)=O)OC)C[C@H](C)OC(=O)C6=CC=C(C=C6)O)C[C@@H](C)OC(=O)C7=CC=CC=C7\",\n",
    "        \"COC3=C(C1=C4C(=C(C(=C5C(C=C(C(=C2C(=CC(C(=C12)C3=O)=O)OC)C45)OC)=O)O)OC)C[C@H](C)OC(=O)C6=CC=C(C=C6)O)C[C@@H](C)OC(=O)C7=CC=CC=C7\",\n",
    "    ],\n",
    "    # 890b\n",
    "    #   3 tautomer(s) generated using PT_02_00 - 1,5 (thio)keto/(thio)enol\n",
    "    #   7 tautomer(s) generated using PT_06_00 - 1,3 heteroatom H shift\n",
    "    #   3 tautomer(s) generated using PT_07_00 - 1,5 (aromatic) heteroatom H shift (1)\n",
    "    #   6 tautomer(s) generated using PT_09_00 - 1,7 (aromatic) heteroatom H shift\n",
    "    \"COc1c(C[C@@H](C)OC(=O)c2ccccc2)c2c3c(C[C@H](C)OC(=O)c4ccc(O)cc4)c(OC)c(=O)c4c(O)cc(OC)c(c5c(OC)cc(O)c(c1=O)c52)c43\": [\n",
    "        \"COC7=C(C[C@@H](C)OC(=O)C1=CC=CC=C1)C3=C2C(=C(C=C(C2=C4C(=CC(=C5C(=C(C(C3=C45)=C[C@H](C)OC(=O)C6=CC=C(C=C6)O)OC)O)O)OC)OC)O)C7=O\",\n",
    "        \"COC5=C(C3=C(C=C(C4=C1C(=CC(=C2C(C(=C(C(=C12)C(=C34)C5=C[C@@H](C)OC(=O)C6=CC=CC=C6)C[C@H](C)OC(=O)C7=CC=C(C=C7)O)OC)=O)O)OC)OC)O)O\",\n",
    "        \"COC5=C(C3=C(C=C(C4=C1C(=CC(=C2C(=C(C(C(=C12)C(=C34)C5=C[C@@H](C)OC(=O)C6=CC=CC=C6)=C[C@H](C)OC(=O)C7=CC=C(C=C7)O)OC)O)O)OC)OC)O)O\",\n",
    "        \"COC7=C(C[C@@H](C)OC(=O)C1=CC=CC=C1)C3=C2C(=C(C=C(C2=C4C(=CC(=C5C(C(=C(C3=C45)C[C@H](C)OC(=O)C6=CCC(C=C6)=O)OC)=O)O)OC)OC)O)C7=O\",\n",
    "        \"COC7=C(C[C@@H](C)OC(=O)C1=CC=CC=C1)C3=C2C(=C(C=C(C2=C4C(=CC(C5C(C(=C(C3=C45)C[C@H](C)OC(=O)C6=CC=C(C=C6)O)OC)=O)=O)OC)OC)O)C7=O\",\n",
    "        \"COC7=C(C[C@@H](C)OC(=O)C1=CC=CC=C1)C3=C2C(C(C=C(C2=C4C(=CC(=C5C(C(=C(C3=C45)C[C@H](C)OC(=O)C6=CC=C(C=C6)O)OC)=O)O)OC)OC)=O)C7=O\",\n",
    "        \"COC7=C(C[C@@H](C)OC(=O)C1=CC=CC=C1)C3=C2C(=C(C=C(C2=C4C(=CC(C5C(C(=C(C3=C45)C[C@H](C)OC(=O)C6=CCC(C=C6)=O)OC)=O)=O)OC)OC)O)C7=O\",\n",
    "        \"COC7=C(C[C@@H](C)OC(=O)C1=CC=CC=C1)C3=C2C(C(C=C(C2=C4C(=CC(=C5C(C(=C(C3=C45)C[C@H](C)OC(=O)C6=CCC(C=C6)=O)OC)=O)O)OC)OC)=O)C7=O\",\n",
    "        \"COC7=C(C[C@@H](C)OC(=O)C1=CC=CC=C1)C3=C2C(C(C=C(C2=C4C(=CC(C5C(C(=C(C3=C45)C[C@H](C)OC(=O)C6=CC=C(C=C6)O)OC)=O)=O)OC)OC)=O)C7=O\",\n",
    "        \"COC7=C(C[C@@H](C)OC(=O)C1=CC=CC=C1)C3=C2C(C(C=C(C2=C4C(=CC(C5C(C(=C(C3=C45)C[C@H](C)OC(=O)C6=CCC(C=C6)=O)OC)=O)=O)OC)OC)=O)C7=O\",\n",
    "        \"COC7=C(C[C@@H](C)OC(=O)C1=CC=CC=C1)C3=C2C(=C(C=C(C2=C4C(=CC(C5=C(C(=C(C3=C45)C[C@H](C)OC(=O)C6=CC=C(C=C6)O)OC)O)=O)OC)OC)O)C7=O\",\n",
    "        \"COC2=C(C[C@@H](C)OC(=O)C1=CC=CC=C1)C4=C3C(=C2O)C(C=C(C3=C5C(=CC(=C6C(C(=C(C4=C56)C[C@H](C)OC(=O)C7=CC=C(C=C7)O)OC)=O)O)OC)OC)=O\",\n",
    "        \"COC2=C(C[C@@H](C)OC(=O)C1=CC=CC=C1)C4=C3C(=C2O)C(C=C(C3=C5C(=CC(C6=C(C(=C(C4=C56)C[C@H](C)OC(=O)C7=CC=C(C=C7)O)OC)O)=O)OC)OC)=O\",\n",
    "        \"COC7=C(C[C@@H](C)OC(=O)C1=CC=CC=C1)C3=C2C(=C(C=C(C2=C4C(=CC(=C5C(C(=C(C3=C45)C[C@H](C)OC(O)=C6C=CC(C=C6)=O)OC)=O)O)OC)OC)O)C7=O\",\n",
    "        \"COC7=C(C[C@@H](C)OC(=O)C1=CC=CC=C1)C3=C2C(=C(C=C(C2=C4C(=CC(=C5C(C(=C(C3=C45)C[C@H](C)OC(=O)C6=CCC(=O)C=C6)OC)=O)O)OC)OC)O)C7=O\",\n",
    "        \"COC7=C(C[C@@H](C)OC(=O)C1=CC=CC=C1)C5=C2C4=C(C(C(=C2C[C@H](C)OC(=O)C3=CC=C(C=C3)O)OC)=O)C(=O)C=C(OC)C4=C6C5C(=C(C=C6OC)O)C7=O\",\n",
    "        \"COC4=C(C[C@@H](C)OC(=O)C1=CC=CC=C1)C2=C6C5C(=C3C2=C(C(C=C3OC)=O)C4=O)C(=CC(=C5C(C(=C6C[C@H](C)OC(=O)C7=CC=C(C=C7)O)OC)=O)O)OC\",\n",
    "        \"COC7=C(C[C@@H](C)OC(=O)C1=CC=CC=C1)C5=C2C4=C(C(C(=C2C[C@H](C)OC(O)=C3C=CC(C=C3)=O)OC)=O)C(=O)C=C(OC)C4=C6C5C(=C(C=C6OC)O)C7=O\",\n",
    "        \"COC4=C(C[C@@H](C)OC(=O)C1=CC=CC=C1)C2=C6C5C(=C3C2=C(C(C=C3OC)=O)C4=O)C(=CC(=C5C(C(=C6C[C@H](C)OC(O)=C7C=CC(C=C7)=O)OC)=O)O)OC\",\n",
    "    ],\n",
    "    # 891a\n",
    "    #   6 tautomer(s) generated using PT_06_00 - 1,3 heteroatom H shift\n",
    "    #   3 tautomer(s) generated using PT_07_00 - 1,5 (aromatic) heteroatom H shift (1)\n",
    "    #   9 tautomer(s) generated using PT_09_00 - 1,7 (aromatic) heteroatom H shift\n",
    "    \"COc1c(O)c2c(=O)cc(OC)c3c4c(OC)cc(=O)c5c(O)c(OC)c6c(c(c1CC(C)(O)[C@H]6C(C)=O)c23)c54\": [\n",
    "        \"COC4=C6C3=C1C(=C(C(=C2C(C=C(C(=C12)C5=C3C(C4=O)C(=O)C=C5OC)OC)=O)O)OC)[C@@H](C(C6)(C)O)C(C)=O\",\n",
    "        \"COC4=C6C3=C1C(=C(C(C2C(C=C(C(=C12)C5=C3C(=C4O)C(=O)C=C5OC)OC)=O)=O)OC)[C@@H](C(C6)(C)O)C(C)=O\",\n",
    "        \"COC4=C6C3=C1C(=C(C(C2C(C=C(C(=C12)C5=C3C(C4=O)C(=O)C=C5OC)OC)=O)=O)OC)[C@@H](C(C6)(C)O)C(C)=O\",\n",
    "        \"COC4=C6C3=C1C(=C(C(=C2C(C=C(C(=C12)C5=C3C(=C4O)C(=O)C=C5OC)OC)=O)O)OC)C(C(C6)(C)O)=C(C)O\",\n",
    "        \"COC4=C6C3=C1C(=C(C(=C2C(C=C(C(=C12)C5=C3C(=C4O)C(=O)C=C5OC)OC)=O)O)OC)[C@@H](C(C6)(C)O)C(=C)O\",\n",
    "        \"COC5=C6C3=C1C(=C(C(=C2C(C=C(C(=C12)C4=C3C(=C(O)C=C4OC)C5=O)OC)=O)O)OC)[C@@H](C(C6)(C)O)C(C)=O\",\n",
    "        \"COC5=C6C3=C1C(=C(C(=C2C(C=C(C(=C12)C4=C3C(=C(O)C=C4OC)C5=O)OC)=O)O)OC)[C@@H](C(C6)(C)O)C(C)=O\",\n",
    "        \"COC4=C6C3=C1C(=C(C(C2=C(C=C(C(=C12)C5=C3C(=C4O)C(=O)C=C5OC)OC)O)=O)OC)[C@@H](C(C6)(C)O)C(C)=O\",\n",
    "        \"COC5=C6C3=C1C(=C(C(C2=C(C=C(C(=C12)C4=C3C(=C(O)C=C4OC)C5=O)OC)O)=O)OC)[C@@H](C(C6)(C)O)C(C)=O\",\n",
    "        \"COC5=C(O)C1=C(O)C=C(OC)C2=C1C6=C3C(=C(C(=C4C(C=C(C2=C34)OC)=O)O)OC)[C@@H](C(C=C56)(C)O)C(C)=O\",\n",
    "        \"COC5=C6C3=C1C(=C(C(=C2C(C=C(C(=C12)C4=C(CC(C(=C34)C5=O)=O)OC)OC)=O)O)OC)[C@@H](C(C6)(C)O)C(C)=O\",\n",
    "        \"COC4=C6C3=C1C(=C(C(C2=C1C(=C(OC)CC2=O)C5=C3C(=C4O)C(=O)C=C5OC)=O)OC)[C@@H](C(C6)(C)O)C(C)=O\",\n",
    "        \"COC5=C1C4=C2C(=C(C(C1)(C)O)C(C)=O)C(=C(C3=C(C=C(C(=C23)C6=C4C(=C5O)C(=O)C=C6OC)OC)O)O)OC\",\n",
    "        \"COC2=C6C3=C1C(=C(C(C5=C1C(=C4C(=CC(C(=C2O)C34)=O)OC)C(=CC5=O)OC)=O)OC)[C@@H](C(C6)(C)O)C(C)=O\",\n",
    "        \"COC3=C6C1=C4C(=C(C(=C5C(C=C(C(=C2C(=CC(C(=C12)C3=O)=O)OC)C45)OC)=O)O)OC)[C@@H](C(C6)(C)O)C(C)=O\",\n",
    "        \"COC5=C(O)C4=C3C6=C1C(=C(C(=C2C(C=C(C(=C12)C3=C(CC4=O)OC)OC)=O)O)OC)[C@@H](C(C=C56)(C)O)C(C)=O\",\n",
    "        \"COC5=C(O)C1=C(O)C=C(OC)C3=C1C6=C2C(=C(C(C4=C2C3=C(OC)CC4=O)=O)OC)[C@@H](C(C=C56)(C)O)C(C)=O\",\n",
    "        \"COC2=C(O)C1=C(O)C=C(OC)C4=C1C3=C5C(=C(C(C=C23)(C)O)C(C)=O)C(=C(C6=C(C=C(C4=C56)OC)O)O)OC\",\n",
    "    ],\n",
    "    # 891b\n",
    "    #   3 tautomer(s) generated using PT_02_00 - 1,5 (thio)keto/(thio)enol\n",
    "    #   6 tautomer(s) generated using PT_06_00 - 1,3 heteroatom H shift\n",
    "    #   3 tautomer(s) generated using PT_07_00 - 1,5 (aromatic) heteroatom H shift (1)\n",
    "    #   3 tautomer(s) generated using PT_09_00 - 1,7 (aromatic) heteroatom H shift\n",
    "    \"COc1c2c3c4c(c(OC)c(=O)c5c(O)cc(OC)c(c6c(OC)cc(O)c(c1=O)c63)c54)[C@H](C(C)=O)C(C)(O)C2\": [\n",
    "        \"COC4=C1CC(C(=C6C2=C5C(=C3C(=C12)C(=C(C=C3OC)O)C4=O)C(=CC(=C5C(=C6OC)O)O)OC)C(C)=O)(C)O\",\n",
    "        \"COC5=C(C3=C(C=C(C4=C1C(=CC(=C2C(C(=C6C(=C12)C(=C34)C5=CC([C@H]6C(C)=O)(C)O)OC)=O)O)OC)OC)O)O\",\n",
    "        \"COC1=C(C2=C(C=C(C3=C5C(=CC(=C6C(=C(C4=C(C(C)=O)C(C)(O)C=C1C(=C23)C4=C56)OC)O)O)OC)OC)O)O\",\n",
    "        \"COC6=C2CC([C@H](C1=C(OC)C(=O)C5C4=C1C2=C3C(=C(C=C(C3=C4C(=CC5=O)OC)OC)O)C6=O)C(C)=O)(C)O\",\n",
    "        \"COC6=C1CC([C@H](C2=C(OC)C(=O)C3=C(O)C=C(OC)C4=C5C(=C1C2=C34)C(C(C=C5OC)=O)C6=O)C(C)=O)(C)O\",\n",
    "        \"COC6=C2CC([C@H](C1=C(OC)C(=O)C5C4=C1C2=C3C(C(C=C(C3=C4C(=CC5=O)OC)OC)=O)C6=O)C(C)=O)(C)O\",\n",
    "        \"COC6=C1CC(C(C2=C(OC)C(=O)C3=C(O)C=C(OC)C4=C5C(=C1C2=C34)C(=C(C=C5OC)O)C6=O)=C(C)O)(C)O\",\n",
    "        \"COC6=C1CC([C@H](C2=C(OC)C(=O)C3=C(O)C=C(OC)C4=C5C(=C1C2=C34)C(=C(C=C5OC)O)C6=O)C(=C)O)(C)O\",\n",
    "        \"COC6=C2CC([C@H](C1=C(OC)C(=C5C4=C1C2=C3C(=C(C=C(C3=C4C(=CC5=O)OC)OC)O)C6=O)O)C(C)=O)(C)O\",\n",
    "        \"COC6=C2CC([C@H](C1=C(OC)C(=C5C4=C1C2=C3C(=C(C=C(C3=C4C(=CC5=O)OC)OC)O)C6=O)O)C(C)=O)(C)O\",\n",
    "        \"COC5=C1CC([C@H](C2=C(OC)C(=O)C3=C(O)C=C(OC)C4=C6C(=C1C2=C34)C(=C5O)C(C=C6OC)=O)C(C)=O)(C)O\",\n",
    "        \"COC3=C2CC([C@H](C1=C(OC)C(=C6C5=C1C2=C4C(=C3O)C(C=C(C4=C5C(=CC6=O)OC)OC)=O)O)C(C)=O)(C)O\",\n",
    "        \"COC2=C3CC([C@H](C4=C(OC)C(=O)C6=C5C(=C1C(C(=C(C=C1OC)O)C2=O)C3=C45)C(=CC6=O)OC)C(C)=O)(C)O\",\n",
    "        \"COC2=C3CC([C@H](C4=C(OC)C(=O)C5=C(O)C=C(OC)C6=C1C(=C(C(C=C1OC)=O)C2=O)C3=C4C56)C(C)=O)(C)O\",\n",
    "        \"COC6=C1CC([C@H](C5=C3C1=C2C(=C(C=C(C2=C4C(=CC(C(=C34)C(=C5OC)O)=O)OC)OC)O)C6=O)C(C)=O)(C)O\",\n",
    "    ],\n",
    "    # 1512a\n",
    "    #   1 tautomer(s) generated using PT_06_00 - 1,3 heteroatom H shift\n",
    "    #   1 tautomer(s) generated using PT_09_00 - 1,7 (aromatic) heteroatom H shift\n",
    "    #   1 tautomer(s) generated using RC_12_00 - 5_endo_tet or iminophosphorane/benzoxazaphospholine\n",
    "    \"CCP1(CC)(c2ccccc2)Nc2cc(C(c3ccccc3)(c3ccccc3)c3ccccc3)cc(C(C)(C)C)c2O1\": [\n",
    "        \"CC[P]2(OC1C(=CC(=CC1=N2)C(C3=CC=CC=C3)(C4=CC=CC=C4)C5=CC=CC=C5)C(C)(C)C)(CC)C6=CC=CC=C6\",\n",
    "        \"CC[P]2(OC1=C(C=C(CC1=N2)C(C3=CC=CC=C3)(C4=CC=CC=C4)C5=CC=CC=C5)C(C)(C)C)(CC)C6=CC=CC=C6\",\n",
    "        \"CC[P](CC)(C1=CC=CC=C1)=NC2=C(C(=CC(=C2)C(C3=CC=CC=C3)(C4=CC=CC=C4)C5=CC=CC=C5)C(C)(C)C)O\",\n",
    "    ],\n",
    "    # 1512b\n",
    "    \"CCP(CC)(=Nc1cc(C(c2ccccc2)(c2ccccc2)c2ccccc2)cc(C(C)(C)C)c1O)c1ccccc1\": [\n",
    "        \"CC[P](CC)(=NC1C(C(=CC(=C1)C(C2=CC=CC=C2)(C3=CC=CC=C3)C4=CC=CC=C4)C(C)(C)C)=O)C5=CC=CC=C5\",\n",
    "        \"CC=[P](CC)(NC1=C(C(=CC(=C1)C(C2=CC=CC=C2)(C3=CC=CC=C3)C4=CC=CC=C4)C(C)(C)C)O)C5=CC=CC=C5\",\n",
    "        \"CC=[P](CC)(NC1C(C(=CC(=C1)C(C2=CC=CC=C2)(C3=CC=CC=C3)C4=CC=CC=C4)C(C)(C)C)=O)C5=CC=CC=C5\",\n",
    "        \"CC[P](CC)(=NC1=CC(=CC(C(C)(C)C)C1=O)C(C2=CC=CC=C2)(C3=CC=CC=C3)C4=CC=CC=C4)C5=CC=CC=C5\",\n",
    "        \"CC[P]5(CC)(NC1=C(C(=CC(=C1)C(C2=CC=CC=C2)(C3=CC=CC=C3)C4=CC=CC=C4)C(C)(C)C)O5)C6=CC=CC=C6\",\n",
    "    ],\n",
    "\n",
    "    # 1688a\n",
    "    #   1 tautomer(s) generated using PT_03_00 - simple (aliphatic) imine\n",
    "    #   2 tautomer(s) generated using PT_06_00 - 1,3 heteroatom H shift\n",
    "    #   1 tautomer(s) generated using PT_16_00 - nitroso/oxime\n",
    "    #   1 tautomer(s) generated using PT_36_00 - oxime/nitrone: 1,2 H-shift\n",
    "    #   1 tautomer(s) generated using RC_22_00 - 5_endo_trig: 1,5 H-shift\n",
    "    \"C=C(/C=[N+](\\[O-])C(C)(C)/C(C)=N/O)OCC\": [\n",
    "        \"C=C(\\C=[N+](/[O-])C(C)(C)C(=C)NO)OCC\",\n",
    "        \"C=C(\\C=[N+](/[O-])C(C)(C)C(C)N=O)OCC\",\n",
    "        \"C=C(\\C=[N+](/[O-])C(C)(C)C(=C)NO)OCC\",\n",
    "        \"C=C(\\C=[N+](/[O-])C(C)(C)C(C)N=O)OCC\",\n",
    "        \"C=C(\\C=[N+](/[O-])C(C)(C)C(C)=[NH+][O-])OCC\",\n",
    "        \"C=C(C1N(O)C(C)(C)C(=[N+]1[O-])C)OCC\",\n",
    "    ],\n",
    "    # 1688b\n",
    "    #   1 tautomer(s) generated using PT_06_00 - 1,3 heteroatom H shift\n",
    "    #   1 tautomer(s) generated using PT_39_00 - nitrone/azoxy or Behrend rearrangement\n",
    "    #   1 tautomer(s) generated using RC_22_00 - 5_endo_trig: 1,5 H-shift\n",
    "    \"C=C(OCC)C1N(O)C(C)(C)C(C)=[N+]1[O-]\": [\n",
    "        \"C=C(OCC)C1[NH+](C(C(N1O)(C)C)=C)[O-]\",\n",
    "        \"C=C(OCC)C1=[N+](C(C(N1O)(C)C)C)[O-]\",\n",
    "        \"C=C(OCC)C=[N+]([O-])C(C)(C)C(C)=NO\",\n",
    "    ],\n",
    "    # 1704 a\n",
    "    \"Cc1cc(C=O)c(C)c(C=O)c1\": [\n",
    "        \"CC1=CC(C(C(=C1)C=O)=C)=CO\",\n",
    "        \"C[CH]1C=C([C](C(=C1)C=O)=[CH2])C=O\",\n",
    "    ],\n",
    "    # 1704 b\n",
    "    \"C=c1c(C=O)cc(C)cc1=CO\": [\n",
    "        \"[CH2]=[C]1C(=C[CH](C=C1C=O)C)C=O\",\n",
    "        \"CC1=C(C=C(C=C1C=O)C)C=O\",\n",
    "        \"C=C1C(C=C(C=C1C=O)C)C=O\",\n",
    "        \"C=C1C(=CC(=CC1C=O)C)C=O\",\n",
    "        \"[CH2]=[C]1C(=C[CH](C=C1C=O)C)C=O\",\n",
    "        \"CC1=C(C=C(C=C1C=O)C)C=O\",\n",
    "    ],\n",
    "}"
   ]
  },
  {
   "cell_type": "code",
   "execution_count": 39,
   "metadata": {},
   "outputs": [],
   "source": [
    "# Function to canonicalize a list of SMILES\n",
    "def canonicalize_smiles(smls_list: list[str]) -> list[str]:\n",
    "    \"\"\"\n",
    "    Canonicalize a list of SMILES, trying first with and then without sanitization;\n",
    "    convert list into a set to remove duplicates, then back to a list so can go in dataframe\n",
    "\n",
    "    :param smls_list: List of SMILES strings\n",
    "    :returns: List of canonical SMILES strings\n",
    "    \"\"\"\n",
    "    canonical_smiles = []\n",
    "    for sml in smls_list:\n",
    "        mol = Chem.MolFromSmiles(sml)\n",
    "        if mol:\n",
    "            canonical = Chem.MolToSmiles(mol)\n",
    "            canonical_smiles.append(canonical)\n",
    "        else:\n",
    "            mol = Chem.MolFromSmiles(sml, sanitize=False)\n",
    "            if mol:\n",
    "                canonical = Chem.MolToSmiles(mol)\n",
    "                canonical_smiles.append(canonical)\n",
    "            else:\n",
    "                # canonical_smiles.append(None) #? This shouldn't be here, correct?\n",
    "                print(\"Molecule couldn't be created\")\n",
    "    # Eliminate duplicates by turning list into a set, then back to a list so can go in dataframe\n",
    "    canonical_smiles_unique = list(set(canonical_smiles))\n",
    "    return canonical_smiles_unique"
   ]
  },
  {
   "cell_type": "code",
   "execution_count": 40,
   "metadata": {},
   "outputs": [
    {
     "data": {
      "text/html": [
       "<div><style>\n",
       ".dataframe > thead > tr,\n",
       ".dataframe > tbody > tr {\n",
       "  text-align: right;\n",
       "  white-space: pre-wrap;\n",
       "}\n",
       "</style>\n",
       "<small>shape: (18, 2)</small><table border=\"1\" class=\"dataframe\"><thead><tr><th>canon_sml</th><th>tauts_NIH</th></tr><tr><td>str</td><td>list[str]</td></tr></thead><tbody><tr><td>&quot;CSC1=NC(c2cccc…</td><td>[&quot;C=C1NC(SC)=NC(c2ccccc2[N+](=O)[O-])C1C(=O)OC(C)C&quot;, &quot;CSC1=NC(c2ccccc2[N+](=O)[O-])C(=C(O)OC(C)C)C(C)=N1&quot;, … &quot;C=C1N=C(SC)NC(c2ccccc2[N+](=O)[O-])C1C(=O)OC(C)C&quot;]</td></tr><tr><td>&quot;CSC1=NC(C)=C(C…</td><td>[&quot;C=C1NC(SC)=NC(c2ccccc2[N+](=O)[O-])C1C(=O)OC(C)C&quot;, &quot;CSC1=NC(C)=C(C(=O)OC(C)C)C(=C2C=CCC=C2[N+](=O)[O-])N1&quot;, … &quot;CSC1=NC(C)=C(C(=O)OC(C)C)C(=C2C=CC=CC2=[N+]([O-])O)N1&quot;]</td></tr><tr><td>&quot;[2H]Oc1ccc(-c2…</td><td>[&quot;[2H]OC1=C(OC)C(=O)c2c(oc(-c3ccc(O[2H])c(O[2H])c3)c(O[2H])c2=O)C1([2H])[2H]&quot;, &quot;[2H]OC1=C2C(=O)C([2H])(OC)C(=O)C([2H])=C2OC(c2ccc(O[2H])c(O[2H])c2)=C1O[2H]&quot;, … &quot;[2H]Oc1ccc(-c2oc3c([2H])c(=O)c(OC)c(O[2H])c-3c(O[2H])c2O[2H])cc1O[2H]&quot;]</td></tr><tr><td>&quot;[2H]Oc1ccc(-c2…</td><td>[&quot;[2H]OC1=CC(c2oc3c([2H])c(O[2H])c(OC)c(O[2H])c3c(=O)c2O[2H])=CC([2H])C1=O&quot;, &quot;[2H]Oc1ccc(C2([2H])Oc3c([2H])c(O[2H])c(OC)c(O[2H])c3C(=O)C2=O)cc1O[2H]&quot;, … &quot;[2H]Oc1c(OC)c(O[2H])c2c(=O)c(O[2H])c(C3=CC(=O)C([2H])(O[2H])C=C3)oc2c1[2H]&quot;]</td></tr><tr><td>&quot;O=c1c(O)c(-c2c…</td><td>[&quot;O=C1C(=O)C(C2=CC(O)C(=O)C=C2)Oc2cc(O)cc(O)c21&quot;, &quot;O=C1CC(O)=CC2=C1C(=O)C(=O)C(c1ccc(O)c(O)c1)O2&quot;, … &quot;O=C1C=C(c2oc3cc(O)cc(O)c3c(=O)c2O)C=CC1O&quot;]</td></tr><tr><td>&quot;O=c1cc(O)cc2oc…</td><td>[&quot;O=c1c(O)c(-c2ccc(O)c(O)c2)oc2cc(O)cc(O)c12&quot;, &quot;O=C1C=C2OC(c3ccc(O)c(O)c3)=C(O)C(O)=C2C(=O)C1&quot;, … &quot;O=C1C=C(O)Cc2oc(-c3ccc(O)c(O)c3)c(O)c(=O)c21&quot;]</td></tr><tr><td>&quot;COc1c(O)c2c(=O…</td><td>[&quot;COC1=CC(=O)C2C(=O)C(OC)=C3c4c2c1c1c(OC)cc(O)c2c1c4C(=C(OC)C2=O)[C@@H]([C@H](C)O)[C@@H]3[C@H](C)O&quot;, &quot;COC1=C2c3c4c(c5c(OC)cc(O)c6c(O)c(OC)c(c3c65)=C([C@H](C)O)[C@@H]2[C@H](C)O)=C(OC)CC(=O)C=4C1=O&quot;, … &quot;COc1c(O)c2c(=O)cc(OC)c3c4c(OC)cc(O)c5c(=O)c(OC)c6c(c(c1[C@@H]([C@H](C)O)[C@@H]6[C@H](C)O)c23)c54&quot;]</td></tr><tr><td>&quot;COc1c2c3c4c(c(…</td><td>[&quot;COC1=CC(=O)C2C(=O)C(OC)=C3c4c2c1c1c(OC)cc(O)c2c1c4C(=C(OC)C2=O)[C@@H]([C@H](C)O)[C@@H]3[C@H](C)O&quot;, &quot;COC1=CC(=O)C2=c3c1c1c(OC)cc(=O)c4c(=O)c(OC)c5c(c3C(C(OC)=C2O)[C@@H]([C@H](C)O)[C@@H]5[C@H](C)O)c1=4&quot;, … &quot;COC1=C2c3c4c(c(O)cc(OC)c4c4c(OC)cc(O)c5c(O)c(OC)c(c3c54)=C([C@H](C)O)[C@@H]2[C@H](C)O)C1=O&quot;]</td></tr><tr><td>&quot;COc1c(O)c2c(=O…</td><td>[&quot;COC1=CC(=O)C2C(=O)C(OC)=C(C[C@@H](C)OC(=O)c3ccccc3)c3c4c5c(c1c32)C(OC)=CC(=O)C5C(=O)C(OC)=C4C[C@H](C)OC(=O)c1ccc(O)cc1&quot;, &quot;COC1=c2c3c(c(=O)c(OC)c(C[C@@H](C)OC(=O)c4ccccc4)c3c3c(C[C@H](C)OC(=O)c4ccc(O)cc4)c(OC)c(O)c4c(=O)cc(OC)c2c43)C(=O)C1&quot;, … &quot;COC1=CC(=O)C2C(=O)C(OC)=C(C[C@@H](C)OC(=O)c3ccccc3)c3c2c1c1c2c(c(O)c(OC)c(C[C@H](C)OC(=O)C4=CCC(=O)C=C4)c32)C(=O)C=C1OC&quot;]</td></tr><tr><td>&quot;COc1c(C[C@@H](…</td><td>[&quot;COC1=CC(=O)C2C(=O)C(OC)=C(C[C@@H](C)OC(=O)c3ccccc3)c3c4c5c(c1c32)C(OC)=CC(=O)C5C(=O)C(OC)=C4C[C@H](C)OC(=O)c1ccc(O)cc1&quot;, &quot;COC1=C(C[C@@H](C)OC(=O)c2ccccc2)c2c3c(c(O)cc(OC)c3c3c(OC)cc(O)c4c(O)c(OC)c(=C[C@H](C)OC(=O)c5ccc(O)cc5)c2c43)C1=O&quot;, … &quot;COc1c(O)c2c(=O)cc(OC)c3c4c(OC)cc(O)c5c(=O)c(OC)c(C[C@@H](C)OC(=O)c6ccccc6)c(c(c1C[C@H](C)OC(=O)c1ccc(O)cc1)c23)c54&quot;]</td></tr><tr><td>&quot;COc1c(O)c2c(=O…</td><td>[&quot;COC1=CC(=O)c2c(O)c(OC)c3c4c2c1c1c2c(c(O)c(OC)c(c24)=CC(C)(O)[C@H]3C(C)=O)C(=O)CC=1OC&quot;, &quot;COc1c(O)c2c(=O)cc(OC)c3c4c(OC)cc(O)c5c(=O)c(OC)c6c(c(c1[C@H](C(C)=O)C(C)(O)C6)c23)c54&quot;, … &quot;C=C(O)[C@H]1c2c(OC)c(O)c3c(=O)cc(OC)c4c5c(OC)cc(=O)c6c(O)c(OC)c(c(c2c34)c65)CC1(C)O&quot;]</td></tr><tr><td>&quot;COc1c2c3c4c(c(…</td><td>[&quot;COc1c2c3c4c(c(OC)c(=O)c5c(O)cc(OC)c(c6c(OC)cc(O)c(c1=O)c63)c54)C(=C(C)O)C(C)(O)C2&quot;, &quot;COC1=CC(=O)C2=C3C1=C1C(OC)=CC(O)=C4C(=O)C(OC)=C5C(=C3C(=C(OC)C2=O)CC(C)(O)[C@H]5C(C)=O)C41&quot;, … &quot;COC1=CC(=O)C2=C3C1=C1C(OC)=CC(O)=C4C(=O)C(OC)=C5CC(C)(O)[C@@H](C(C)=O)C(=C(OC)C2=O)C3=C5C41&quot;]</td></tr><tr><td>&quot;CCP1(CC)(c2ccc…</td><td>[&quot;CCP1(CC)(c2ccccc2)N=C2CC(C(c3ccccc3)(c3ccccc3)c3ccccc3)=CC(C(C)(C)C)=C2O1&quot;, &quot;CCP1(CC)(c2ccccc2)N=C2C=C(C(c3ccccc3)(c3ccccc3)c3ccccc3)C=C(C(C)(C)C)C2O1&quot;, &quot;CCP(CC)(=Nc1cc(C(c2ccccc2)(c2ccccc2)c2ccccc2)cc(C(C)(C)C)c1O)c1ccccc1&quot;]</td></tr><tr><td>&quot;CCP(CC)(=Nc1cc…</td><td>[&quot;CCP(CC)(=NC1=CC(C(c2ccccc2)(c2ccccc2)c2ccccc2)=CC(C(C)(C)C)C1=O)c1ccccc1&quot;, &quot;CCP1(CC)(c2ccccc2)Nc2cc(C(c3ccccc3)(c3ccccc3)c3ccccc3)cc(C(C)(C)C)c2O1&quot;, … &quot;CC=P(CC)(NC1C=C(C(c2ccccc2)(c2ccccc2)c2ccccc2)C=C(C(C)(C)C)C1=O)c1ccccc1&quot;]</td></tr><tr><td>&quot;C=C(/C=[N+](\\[…</td><td>[&quot;C=C(/C=[N+](\\[O-])C(C)(C)C(C)N=O)OCC&quot;, &quot;C=C(/C=[N+](\\[O-])C(C)(C)C(=C)NO)OCC&quot;, … &quot;C=C(/C=[N+](\\[O-])C(C)(C)C(C)=[NH+][O-])OCC&quot;]</td></tr><tr><td>&quot;C=C(OCC)C1N(O)…</td><td>[&quot;C=C(OCC)C1=[N+]([O-])C(C)C(C)(C)N1O&quot;, &quot;C=C(C=[N+]([O-])C(C)(C)C(C)=NO)OCC&quot;, &quot;C=C(OCC)C1N(O)C(C)(C)C(=C)[NH+]1[O-]&quot;]</td></tr><tr><td>&quot;Cc1cc(C=O)c(C)…</td><td>[&quot;C=c1c(C=O)cc(C)cc1=CO&quot;, &quot;C=C1C(C=O)=CC(C)C=C1C=O&quot;]</td></tr><tr><td>&quot;C=c1c(C=O)cc(C…</td><td>[&quot;Cc1cc(C=O)c(C)c(C=O)c1&quot;, &quot;C=C1C(C=O)=CC(C)=CC1C=O&quot;, &quot;C=C1C(C=O)=CC(C)C=C1C=O&quot;]</td></tr></tbody></table></div>"
      ],
      "text/plain": [
       "shape: (18, 2)\n",
       "┌───────────────────────────────────┬───────────────────────────────────┐\n",
       "│ canon_sml                         ┆ tauts_NIH                         │\n",
       "│ ---                               ┆ ---                               │\n",
       "│ str                               ┆ list[str]                         │\n",
       "╞═══════════════════════════════════╪═══════════════════════════════════╡\n",
       "│ CSC1=NC(c2ccccc2[N+](=O)[O-])C(C… ┆ [\"C=C1NC(SC)=NC(c2ccccc2[N+](=O)… │\n",
       "│ CSC1=NC(C)=C(C(=O)OC(C)C)C(c2ccc… ┆ [\"C=C1NC(SC)=NC(c2ccccc2[N+](=O)… │\n",
       "│ [2H]Oc1ccc(-c2oc3c([2H])c(O[2H])… ┆ [\"[2H]OC1=C(OC)C(=O)c2c(oc(-c3cc… │\n",
       "│ [2H]Oc1ccc(-c2oc3c([2H])c(O[2H])… ┆ [\"[2H]OC1=CC(c2oc3c([2H])c(O[2H]… │\n",
       "│ O=c1c(O)c(-c2ccc(O)c(O)c2)oc2cc(… ┆ [\"O=C1C(=O)C(C2=CC(O)C(=O)C=C2)O… │\n",
       "│ …                                 ┆ …                                 │\n",
       "│ CCP(CC)(=Nc1cc(C(c2ccccc2)(c2ccc… ┆ [\"CCP(CC)(=NC1=CC(C(c2ccccc2)(c2… │\n",
       "│ C=C(/C=[N+](\\[O-])C(C)(C)/C(C)=N… ┆ [\"C=C(/C=[N+](\\[O-])C(C)(C)C(C)N… │\n",
       "│ C=C(OCC)C1N(O)C(C)(C)C(C)=[N+]1[… ┆ [\"C=C(OCC)C1=[N+]([O-])C(C)C(C)(… │\n",
       "│ Cc1cc(C=O)c(C)c(C=O)c1            ┆ [\"C=c1c(C=O)cc(C)cc1=CO\", \"C=C1C… │\n",
       "│ C=c1c(C=O)cc(C)cc1=CO             ┆ [\"Cc1cc(C=O)c(C)c(C=O)c1\", \"C=C1… │\n",
       "└───────────────────────────────────┴───────────────────────────────────┘"
      ]
     },
     "execution_count": 40,
     "metadata": {},
     "output_type": "execute_result"
    }
   ],
   "source": [
    "# Prepare tautomer data from NIH web site\n",
    "nih_sml_tauts_canon = {key: canonicalize_smiles(value) for key, value in nih_sml_tauts.items()}\n",
    "nih_inputs = nih_sml_tauts_canon.keys()\n",
    "nih_tauts = nih_sml_tauts_canon.values()\n",
    "df_nih = pl.DataFrame({\"canon_sml\": nih_inputs, \"tauts_NIH\": nih_tauts})\n",
    "df_nih"
   ]
  },
  {
   "cell_type": "markdown",
   "metadata": {},
   "source": [
    "Now we merge in the NIH tautomers by left-joining on canonical SMILES."
   ]
  },
  {
   "cell_type": "code",
   "execution_count": 41,
   "metadata": {},
   "outputs": [],
   "source": [
    "# Ensure no tautsNIH columns already exist--can cause additional column tautsNIH_right to be created\n",
    "df_melted = df_melted.drop(cs.starts_with('tauts_NIH'))\n",
    "\n",
    "df_melted = df_melted.join(df_nih, on=\"canon_sml\", how=\"left\")"
   ]
  },
  {
   "cell_type": "markdown",
   "metadata": {},
   "source": [
    "To inspect the results and check which Refs are included, let's display one row for each Ref."
   ]
  },
  {
   "cell_type": "code",
   "execution_count": 42,
   "metadata": {},
   "outputs": [
    {
     "data": {
      "text/html": [
       "<div><style>\n",
       ".dataframe > thead > tr,\n",
       ".dataframe > tbody > tr {\n",
       "  text-align: right;\n",
       "  white-space: pre-wrap;\n",
       "}\n",
       "</style>\n",
       "<small>shape: (1, 6)</small><table border=\"1\" class=\"dataframe\"><thead><tr><th>Ref</th><th>sml</th><th>canon_sml</th><th>tauts_TautomerEnumerator</th><th>tauts_GetV1TautomerEnumerator</th><th>tauts_NIH</th></tr><tr><td>i64</td><td>str</td><td>str</td><td>list[str]</td><td>list[str]</td><td>list[str]</td></tr></thead><tbody><tr><td>73</td><td>&quot;O=[N+](C1=C(C2…</td><td>&quot;CSC1=NC(c2cccc…</td><td>[&quot;CSC1=NC(c2ccccc2[N+](=O)[O-])C(C(=O)OC(C)C)C(C)=N1&quot;, &quot;CSC1=NC(c2ccccc2[N+](=O)[O-])C(C(=O)OC(C)C)=C(C)N1&quot;, … &quot;CSC1=NC(C)=C(C(=O)OC(C)C)C(c2ccccc2[N+](=O)[O-])N1&quot;]</td><td>[&quot;C=C1NC(SC)=NC(c2ccccc2[N+](=O)[O-])C1C(=O)OC(C)C&quot;, &quot;CSC1=NC(c2ccccc2[N+](=O)[O-])C(=C(O)OC(C)C)C(C)=N1&quot;, … &quot;C=C1N=C(SC)NC(c2ccccc2[N+](=O)[O-])C1C(=O)OC(C)C&quot;]</td><td>[&quot;C=C1NC(SC)=NC(c2ccccc2[N+](=O)[O-])C1C(=O)OC(C)C&quot;, &quot;CSC1=NC(c2ccccc2[N+](=O)[O-])C(=C(O)OC(C)C)C(C)=N1&quot;, … &quot;C=C1N=C(SC)NC(c2ccccc2[N+](=O)[O-])C1C(=O)OC(C)C&quot;]</td></tr></tbody></table></div>"
      ],
      "text/plain": [
       "shape: (1, 6)\n",
       "┌─────┬──────────────────┬──────────────────┬──────────────────┬─────────────────┬─────────────────┐\n",
       "│ Ref ┆ sml              ┆ canon_sml        ┆ tauts_TautomerEn ┆ tauts_GetV1Taut ┆ tauts_NIH       │\n",
       "│ --- ┆ ---              ┆ ---              ┆ umerator         ┆ omerEnumerator  ┆ ---             │\n",
       "│ i64 ┆ str              ┆ str              ┆ ---              ┆ ---             ┆ list[str]       │\n",
       "│     ┆                  ┆                  ┆ list[str]        ┆ list[str]       ┆                 │\n",
       "╞═════╪══════════════════╪══════════════════╪══════════════════╪═════════════════╪═════════════════╡\n",
       "│ 73  ┆ O=[N+](C1=C(C2N= ┆ CSC1=NC(c2ccccc2 ┆ [\"CSC1=NC(c2cccc ┆ [\"C=C1NC(SC)=NC ┆ [\"C=C1NC(SC)=NC │\n",
       "│     ┆ C(SC)NC(C)=C2C(O ┆ [N+](=O)[O-])C(C ┆ c2[N+](=O)[O-])C ┆ (c2ccccc2[N+](= ┆ (c2ccccc2[N+](= │\n",
       "│     ┆ …                ┆ …                ┆ …                ┆ O)…             ┆ O)…             │\n",
       "└─────┴──────────────────┴──────────────────┴──────────────────┴─────────────────┴─────────────────┘"
      ]
     },
     "execution_count": 42,
     "metadata": {},
     "output_type": "execute_result"
    }
   ],
   "source": [
    "# sml = \"COc1c2c3c4c(c(OC)c(=O)c5c(O)cc(OC)c(c6c(OC)cc(O)c(c1=O)c63)c54)[C@@H]([C@H](C)O)[C@@H]2[C@H](C)O\"\n",
    "# sml = \"COC4=C1[C@H](C(=C6C2=C5C(=C3C(=C12)C(=C(C=C3OC)O)C4=O)C(=CC(=C5C(=C6OC)O)O)OC)[C@H](C)O)[C@H](C)O\"\n",
    "sml = \"CSC1=NC(=C2C=CC=CC2=[N+]([O-])O)C(C(=O)OC(C)C)=C(C)N1\"\n",
    "df_melted.filter(pl.col(\"tauts_NIH\").list.contains(sml))"
   ]
  },
  {
   "cell_type": "code",
   "execution_count": 100,
   "metadata": {},
   "outputs": [
    {
     "data": {
      "text/html": [
       "<div><style>\n",
       ".dataframe > thead > tr,\n",
       ".dataframe > tbody > tr {\n",
       "  text-align: right;\n",
       "  white-space: pre-wrap;\n",
       "}\n",
       "</style>\n",
       "<small>shape: (18, 6)</small><table border=\"1\" class=\"dataframe\"><thead><tr><th>Ref</th><th>sml</th><th>canon_sml</th><th>tauts_TautomerEnumerator</th><th>tauts_GetV1TautomerEnumerator</th><th>tauts_NIH</th></tr><tr><td>i64</td><td>str</td><td>str</td><td>list[str]</td><td>list[str]</td><td>list[str]</td></tr></thead><tbody><tr><td>73</td><td>&quot;O=[N+](C1=C(C2…</td><td>&quot;CSC1=NC(C)=C(C…</td><td>[&quot;CSC1=NC(c2ccccc2[N+](=O)[O-])C(C(=O)OC(C)C)C(C)=N1&quot;, &quot;CSC1=NC(c2ccccc2[N+](=O)[O-])C(C(=O)OC(C)C)=C(C)N1&quot;, … &quot;CSC1=NC(C)=C(C(=O)OC(C)C)C(c2ccccc2[N+](=O)[O-])N1&quot;]</td><td>[&quot;C=C1NC(SC)=NC(c2ccccc2[N+](=O)[O-])C1C(=O)OC(C)C&quot;, &quot;CSC1=NC(c2ccccc2[N+](=O)[O-])C(=C(O)OC(C)C)C(C)=N1&quot;, … &quot;C=C1N=C(SC)NC(c2ccccc2[N+](=O)[O-])C1C(=O)OC(C)C&quot;]</td><td>[&quot;C=C1NC(SC)=NC(c2ccccc2[N+](=O)[O-])C1C(=O)OC(C)C&quot;, &quot;CSC1=NC(C)=C(C(=O)OC(C)C)C(=C2C=CCC=C2[N+](=O)[O-])N1&quot;, … &quot;CSC1=NC(C)=C(C(=O)OC(C)C)C(=C2C=CC=CC2=[N+]([O-])O)N1&quot;]</td></tr><tr><td>73</td><td>&quot;O=[N+](C1=C(C2…</td><td>&quot;CSC1=NC(c2cccc…</td><td>[&quot;CSC1=NC(c2ccccc2[N+](=O)[O-])C(C(=O)OC(C)C)C(C)=N1&quot;, &quot;CSC1=NC(c2ccccc2[N+](=O)[O-])C(C(=O)OC(C)C)=C(C)N1&quot;, … &quot;CSC1=NC(C)=C(C(=O)OC(C)C)C(c2ccccc2[N+](=O)[O-])N1&quot;]</td><td>[&quot;C=C1NC(SC)=NC(c2ccccc2[N+](=O)[O-])C1C(=O)OC(C)C&quot;, &quot;CSC1=NC(c2ccccc2[N+](=O)[O-])C(=C(O)OC(C)C)C(C)=N1&quot;, … &quot;C=C1N=C(SC)NC(c2ccccc2[N+](=O)[O-])C1C(=O)OC(C)C&quot;]</td><td>[&quot;C=C1NC(SC)=NC(c2ccccc2[N+](=O)[O-])C1C(=O)OC(C)C&quot;, &quot;CSC1=NC(c2ccccc2[N+](=O)[O-])C(=C(O)OC(C)C)C(C)=N1&quot;, … &quot;C=C1N=C(SC)NC(c2ccccc2[N+](=O)[O-])C1C(=O)OC(C)C&quot;]</td></tr><tr><td>457</td><td>&quot;O=C2C1=C(O[2H]…</td><td>&quot;[2H]Oc1ccc(-c2…</td><td>[&quot;[2H]O=C1CC=C(C2OC3=C([2H])C(=O[2H])C(OC)=C([OH][2H])C3C(=O)C2=O[2H])CC1=O[2H]&quot;, &quot;[2H]Oc1ccc(C2OC3=C(C(=O)C2=O[2H])C(=O[2H])C(OC)C([OH][2H])=C3[2H])cc1[OH][2H]&quot;, … &quot;[2H]O=C1C(OC)=C([OH][2H])C2=C(OC(c3ccc([OH][2H])c([OH][2H])c3)C(=O[2H])C2=O)C1[2H]&quot;]</td><td>[&quot;[2H]OC1=C(C2=CC(=O[2H])C(=O[2H])C=C2)OC2=C([2H])C(=O[2H])C(OC)C(O[2H])=C2C1O&quot;, &quot;[2H]OC1c2c(oc(C3=CC(=O[2H])C(=O[2H])C=C3)c([OH][2H])c2=O)C([2H])=C([OH][2H])C1OC&quot;, … &quot;[2H]OC1=CC(C2Oc3c([2H])c([OH][2H])c(OC)c([OH][2H])c3C(=O)C2=O[2H])C=CC1=O[2H]&quot;]</td><td>[&quot;[2H]OC1=CC(c2oc3c([2H])c(O[2H])c(OC)c(O[2H])c3c(=O)c2O[2H])=CC([2H])C1=O&quot;, &quot;[2H]Oc1ccc(C2([2H])Oc3c([2H])c(O[2H])c(OC)c(O[2H])c3C(=O)C2=O)cc1O[2H]&quot;, … &quot;[2H]Oc1c(OC)c(O[2H])c2c(=O)c(O[2H])c(C3=CC(=O)C([2H])(O[2H])C=C3)oc2c1[2H]&quot;]</td></tr><tr><td>457</td><td>&quot;O=C(C(OC)=C(C(…</td><td>&quot;[2H]Oc1ccc(-c2…</td><td>[&quot;[2H]OC1=CC(=C2OC3=C([2H])C(=O[2H])C(OC)C(=O)C3C(O[2H])=C2O[2H])C=CC1=O[2H]&quot;, &quot;[2H]OC1=CC(c2oc3c(c(=O[2H])c2O[2H])C(=O)C(OC)C(=O[2H])C3[2H])C=CC1=O[2H]&quot;, … &quot;[2H]OC1=CC=C(c2oc3c([2H])c([OH][2H])c(OC)c(O)c3c(=O[2H])c2O[2H])CC1=O[2H]&quot;]</td><td>[&quot;[2H]OC1=CC(=C2OC3=C([2H])C(=O[2H])C(OC)C(=O)C3C(O[2H])=C2O[2H])C=CC1=O[2H]&quot;, &quot;[2H]Oc1c([2H])c2oc(C3=CC(=O[2H])C(=O[2H])CC3)c([OH][2H])c([OH][2H])c-2c(=O)c1OC&quot;, … &quot;[2H]OC1=CC(=C2Oc3c([2H])c([OH][2H])c(OC)c(O)c3C(=O[2H])C2O[2H])C=CC1=O[2H]&quot;]</td><td>[&quot;[2H]OC1=C(OC)C(=O)c2c(oc(-c3ccc(O[2H])c(O[2H])c3)c(O[2H])c2=O)C1([2H])[2H]&quot;, &quot;[2H]OC1=C2C(=O)C([2H])(OC)C(=O)C([2H])=C2OC(c2ccc(O[2H])c(O[2H])c2)=C1O[2H]&quot;, … &quot;[2H]Oc1ccc(-c2oc3c([2H])c(=O)c(OC)c(O[2H])c-3c(O[2H])c2O[2H])cc1O[2H]&quot;]</td></tr><tr><td>467</td><td>&quot;O=C1C2=C(C=C(C…</td><td>&quot;O=c1c(O)c(-c2c…</td><td>[&quot;O=C1CC(=O)C2=C(C1)OC(C1=CC(=O)C(=O)C=C1)C(O)C2=O&quot;, &quot;O=C1CCC(=C2OC3=C(C(=O)CC(O)=C3)C(=O)C2=O)C=C1O&quot;, … &quot;O=C1C=CC(=C2OC3=CC(O)=CC(=O)C3C(O)=C2O)CC1=O&quot;]</td><td>[&quot;O=C1C=CC(C2OC3=CC(O)C=C(O)C3=C(O)C2=O)=CC1=O&quot;, &quot;O=C1CC(=O)C2=C(C1)OC(C1=CC(=O)C(=O)C=C1)C(O)C2=O&quot;, … &quot;O=C1C=CC(=C2OC3=CC(O)=CC(=O)C3C(O)=C2O)CC1=O&quot;]</td><td>[&quot;O=C1C(=O)C(C2=CC(O)C(=O)C=C2)Oc2cc(O)cc(O)c21&quot;, &quot;O=C1CC(O)=CC2=C1C(=O)C(=O)C(c1ccc(O)c(O)c1)O2&quot;, … &quot;O=C1C=C(c2oc3cc(O)cc(O)c3c(=O)c2O)C=CC1O&quot;]</td></tr><tr><td>467</td><td>&quot;OC1=C2C(C=C(O)…</td><td>&quot;O=c1cc(O)cc2oc…</td><td>[&quot;O=C1CC(=O)C2=C(C1)OC(C1=CC(=O)C(=O)C=C1)C(O)C2=O&quot;, &quot;O=C1CCC(=C2OC3=C(C(=O)CC(O)=C3)C(=O)C2=O)C=C1O&quot;, … &quot;O=C1C=CC(=C2OC3=CC(O)=CC(=O)C3C(O)=C2O)CC1=O&quot;]</td><td>[&quot;O=C1C=CC(C2OC3=CC(O)C=C(O)C3=C(O)C2=O)=CC1=O&quot;, &quot;O=C1CC(=O)C2=C(C1)OC(C1=CC(=O)C(=O)C=C1)C(O)C2=O&quot;, … &quot;O=C1C=CC(=C2OC3=CC(O)=CC(=O)C3C(O)=C2O)CC1=O&quot;]</td><td>[&quot;O=c1c(O)c(-c2ccc(O)c(O)c2)oc2cc(O)cc(O)c12&quot;, &quot;O=C1C=C2OC(c3ccc(O)c(O)c3)=C(O)C(O)=C2C(=O)C1&quot;, … &quot;O=C1C=C(O)Cc2oc(-c3ccc(O)c(O)c3)c(O)c(=O)c21&quot;]</td></tr><tr><td>888</td><td>&quot;O=C1C(C(O)=C2O…</td><td>&quot;COc1c(O)c2c(=O…</td><td>[&quot;COC1=c2c3c(OC)cc(O)c4c3c3c(c([C@H](C)O)c([C@H](C)O)c5c(OC)c(O)c(c2c53)C(=O)C1)C(OC)C4=O&quot;, &quot;COC1=c2c3c4c(c([C@H](C)O)c([C@H](C)O)c5c(OC)c(O)c6c(c2=C(OC)CC6=O)c54)=C(OC)C(=O)C3C(=O)C1&quot;, … &quot;COC1=CC(=O)C2C(=O)C(OC)=C3c4c2c1c1c(OC)cc(O)c2c(O)c(OC)c(c4c21)=C([C@H](C)O)C3[C@H](C)O&quot;]</td><td>[&quot;COc1c(O)c2c(=O)cc(OC)c3c4c(OC)cc(O)c5c(=O)c(OC)c6c(c(c1C([C@H](C)O)C6[C@H](C)O)c23)c54&quot;, &quot;COc1c(O)c2c(O)cc(OC)c3c4c(OC)cc(O)c5c(O)c(OC)c6c([C@H](C)O)c([C@H](C)O)c1c(c23)c6c54&quot;, … &quot;COC1=C2c3c4c(c(O)cc(OC)c4c4c(OC)cc(O)c5c(O)c(OC)c(c3c54)=C([C@H](C)O)C2[C@H](C)O)C1=O&quot;]</td><td>[&quot;COC1=CC(=O)C2C(=O)C(OC)=C3c4c2c1c1c(OC)cc(O)c2c1c4C(=C(OC)C2=O)[C@@H]([C@H](C)O)[C@@H]3[C@H](C)O&quot;, &quot;COC1=C2c3c4c(c5c(OC)cc(O)c6c(O)c(OC)c(c3c65)=C([C@H](C)O)[C@@H]2[C@H](C)O)=C(OC)CC(=O)C=4C1=O&quot;, … &quot;COc1c(O)c2c(=O)cc(OC)c3c4c(OC)cc(O)c5c(=O)c(OC)c6c(c(c1[C@@H]([C@H](C)O)[C@@H]6[C@H](C)O)c23)c54&quot;]</td></tr><tr><td>888</td><td>&quot;O=C1C(C(O)=C2)…</td><td>&quot;COc1c2c3c4c(c(…</td><td>[&quot;COC1=c2c3c(OC)cc(O)c4c3c3c(c([C@H](C)O)c([C@H](C)O)c5c(OC)c(O)c(c2c53)C(=O)C1)C(OC)C4=O&quot;, &quot;COC1=c2c3c4c(c([C@H](C)O)c([C@H](C)O)c5c(OC)c(O)c6c(c2=C(OC)CC6=O)c54)=C(OC)C(=O)C3C(=O)C1&quot;, … &quot;COC1=CC(=O)C2C(=O)C(OC)=C3c4c2c1c1c(OC)cc(O)c2c(O)c(OC)c(c4c21)=C([C@H](C)O)C3[C@H](C)O&quot;]</td><td>[&quot;COC1=c2c(=C(C)O)c(C(C)=O)c3c(OC)c(O)c4c5c(c6c(c2c35)C(=C(O)CC6OC)C1=O)C(OC)CC=4O&quot;, &quot;COC1=CC(=O)c2c(O)c(OC)c3c(C(C)=O)c(C(C)O)c4c5c6c(c1c2c35)C(OC)CC(=O)C6C(O)C=4OC&quot;, … &quot;COC1=CC(=O)C2C(=O)C(OC)=C3c4c2c1c1c2c(c(O)c(OC)c(c42)C(C(C)O)C3C(C)O)C(=O)C=C1OC&quot;]</td><td>[&quot;COC1=CC(=O)C2C(=O)C(OC)=C3c4c2c1c1c(OC)cc(O)c2c1c4C(=C(OC)C2=O)[C@@H]([C@H](C)O)[C@@H]3[C@H](C)O&quot;, &quot;COC1=CC(=O)C2=c3c1c1c(OC)cc(=O)c4c(=O)c(OC)c5c(c3C(C(OC)=C2O)[C@@H]([C@H](C)O)[C@@H]5[C@H](C)O)c1=4&quot;, … &quot;COC1=C2c3c4c(c(O)cc(OC)c4c4c(OC)cc(O)c5c(O)c(OC)c(c3c54)=C([C@H](C)O)[C@@H]2[C@H](C)O)C1=O&quot;]</td></tr><tr><td>890</td><td>&quot;O=C(C=C1OC)C2=…</td><td>&quot;COc1c(O)c2c(=O…</td><td>[&quot;COC1=c2c3c(c4c5c(c(O)cc(OC)c25)C(=O)C(OC)C4=C[C@H](C)OC(O)=C2C=CC(=O)C=C2)C(=C[C@@H](C)OC(=O)c2ccccc2)C(OC)C(=O)C=3C(=O)C1&quot;, &quot;COC1=C(C[C@@H](C)OC(=O)c2ccccc2)c2c3c4c(c5c2=C(C(=O)CC=5OC)C1=O)=C(OC)CC(=O)C=4C(=O)C(OC)C3=C[C@H](C)OC(=O)C1C=CC(=O)C=C1&quot;, … &quot;COC1=CC(=O)c2c(O)c(OC)c(C[C@H](C)OC(=O)C3=CCC(=O)C=C3)c3c2c1c1c(OC)cc(O)c2c(O)c(OC)c(=C[C@@H](C)OC(=O)c4ccccc4)c3c21&quot;]</td><td>[&quot;COc1c(O)c2c(O)cc(OC)c3c4c(OC)cc(O)c5c(O)c(OC)c(=C[C@H](C)OC(=O)c6ccc(O)cc6)c(c(c1=C[C@@H](C)OC(=O)c1ccccc1)c23)c54&quot;, &quot;COc1c(C[C@@H](C)OC(=O)c2ccccc2)c2c3c(c1=O)C(=O)CC(OC)c3c1c(OC)cc(=O)c3c(O)c(OC)c(=C[C@H](C)OC(=O)c4ccc(O)cc4)c2c13&quot;, … &quot;COC1=CC(=O)c2c(O)c(OC)c(C[C@H](C)OC(=O)C3=CCC(=O)C=C3)c3c2c1c1c(OC)cc(O)c2c(O)c(OC)c(=C[C@@H](C)OC(=O)c4ccccc4)c3c21&quot;]</td><td>[&quot;COC1=CC(=O)C2C(=O)C(OC)=C(C[C@@H](C)OC(=O)c3ccccc3)c3c4c5c(c1c32)C(OC)=CC(=O)C5C(=O)C(OC)=C4C[C@H](C)OC(=O)c1ccc(O)cc1&quot;, &quot;COC1=c2c3c(c(=O)c(OC)c(C[C@@H](C)OC(=O)c4ccccc4)c3c3c(C[C@H](C)OC(=O)c4ccc(O)cc4)c(OC)c(O)c4c(=O)cc(OC)c2c43)C(=O)C1&quot;, … &quot;COC1=CC(=O)C2C(=O)C(OC)=C(C[C@@H](C)OC(=O)c3ccccc3)c3c2c1c1c2c(c(O)c(OC)c(C[C@H](C)OC(=O)C4=CCC(=O)C=C4)c32)C(=O)C=C1OC&quot;]</td></tr><tr><td>890</td><td>&quot;OC1=CC(OC)=C(C…</td><td>&quot;COc1c(C[C@@H](…</td><td>[&quot;COC1=C(C[C@@H](C)OC(=O)c2ccccc2)c2c3c4c(c5c2=C(C(=O)CC=5OC)C1=O)=C(OC)CC(=O)C=4C(=O)C(OC)C3=C[C@H](C)OC(=O)C1C=CC(=O)C=C1&quot;, &quot;COC1=CC(=O)C2=c3c1c1c4c(c3C(=C[C@@H](C)OC(=O)c3ccccc3)C(OC)C2=O)C(C[C@H](C)OC(=O)c2ccc(O)cc2)C(OC)C(=O)C=4C(=O)C=C1OC&quot;, … &quot;COC1=CC(=O)c2c(O)c(OC)c(C[C@H](C)OC(=O)C3=CCC(=O)C=C3)c3c2c1c1c(OC)cc(O)c2c(O)c(OC)c(=C[C@@H](C)OC(=O)c4ccccc4)c3c21&quot;]</td><td>[&quot;COC1=CC(=O)C2=c3c1c1c(OC)cc(O)c4c(O)c(OC)c(=C[C@H](C)OC(O)=C5C=CC(=O)C=C5)c(c3=C(C[C@@H](C)OC(=O)c3ccccc3)C(OC)C2=O)c41&quot;, &quot;COc1c(C[C@@H](C)OC(=O)c2ccccc2)c2c3c(c1=O)C(=O)CC(OC)c3c1c(OC)cc(=O)c3c(O)c(OC)c(=C[C@H](C)OC(=O)c4ccc(O)cc4)c2c13&quot;, … &quot;COC1=CC(=O)c2c(O)c(OC)c(C[C@H](C)OC(=O)C3=CCC(=O)C=C3)c3c2c1c1c(OC)cc(O)c2c(O)c(OC)c(=C[C@@H](C)OC(=O)c4ccccc4)c3c21&quot;]</td><td>[&quot;COC1=CC(=O)C2C(=O)C(OC)=C(C[C@@H](C)OC(=O)c3ccccc3)c3c4c5c(c1c32)C(OC)=CC(=O)C5C(=O)C(OC)=C4C[C@H](C)OC(=O)c1ccc(O)cc1&quot;, &quot;COC1=C(C[C@@H](C)OC(=O)c2ccccc2)c2c3c(c(O)cc(OC)c3c3c(OC)cc(O)c4c(O)c(OC)c(=C[C@H](C)OC(=O)c5ccc(O)cc5)c2c43)C1=O&quot;, … &quot;COc1c(O)c2c(=O)cc(OC)c3c4c(OC)cc(O)c5c(=O)c(OC)c(C[C@@H](C)OC(=O)c6ccccc6)c(c(c1C[C@H](C)OC(=O)c1ccc(O)cc1)c23)c54&quot;]</td></tr><tr><td>891</td><td>&quot;OC1([C@@H](C(C…</td><td>&quot;COc1c2c3c4c(c(…</td><td>[&quot;COC1=c2c3c4c5c6c(c(O)cc(OC)c26)C(=O)C(OC)C5=CC(C)(O)C(C(C)=O)=C4C(OC)C(=O)C=3C(=O)C1&quot;, &quot;C=C(O)C1=C2c3c4c5c(c6c(OC)cc(O)c(c36)C(=O)C2OC)C(OC)=CC(=O)C5=C(O)C(OC)C4=CC1(C)O&quot;, … &quot;C=C(O)C1=C2c3c4c(c5c(OC)cc(O)c6c(O)c(OC)c(c3c65)=CC1(C)O)C(OC)=CC(=O)C4C(=O)C2OC&quot;]</td><td>[&quot;C=C(O)C1=C2c3c4c(c5c6c3C(=C(OC)C(=O)C6C(=O)C=C5OC)CC1(C)O)C(OC)=CC(=O)C4=C(O)C2OC&quot;, &quot;C=C(O)C1=C2c3c4c5c(c6c(OC)cc(O)c(c36)C(=O)C2OC)C(OC)=CC(=O)C5=C(O)C(OC)C4=CC1(C)O&quot;, … &quot;C=C(O)C1=C2c3c4c(c5c(OC)cc(O)c6c(O)c(OC)c(c3c65)=CC1(C)O)C(OC)=CC(=O)C4C(=O)C2OC&quot;]</td><td>[&quot;COc1c2c3c4c(c(OC)c(=O)c5c(O)cc(OC)c(c6c(OC)cc(O)c(c1=O)c63)c54)C(=C(C)O)C(C)(O)C2&quot;, &quot;COC1=CC(=O)C2=C3C1=C1C(OC)=CC(O)=C4C(=O)C(OC)=C5C(=C3C(=C(OC)C2=O)CC(C)(O)[C@H]5C(C)=O)C41&quot;, … &quot;COC1=CC(=O)C2=C3C1=C1C(OC)=CC(O)=C4C(=O)C(OC)=C5CC(C)(O)[C@@H](C(C)=O)C(=C(OC)C2=O)C3=C5C41&quot;]</td></tr><tr><td>891</td><td>&quot;OC1([C@@H](C(C…</td><td>&quot;COc1c(O)c2c(=O…</td><td>[&quot;COC1=CC(=O)C2=c3c1c1c4c5c3C(=CC(C)(O)C(C(C)=O)C5C(OC)=C(O)C=4C(=O)C=C1OC)C(OC)C2=O&quot;, &quot;COC1=CC(=O)C2C(=O)C(OC)C3=C(C(C)=O)C(C)(O)C=C4c5c3c2c1c1c(OC)cc(O)c(c51)C(=O)C4OC&quot;, … &quot;COC1=CC(=O)C2C(=O)C(OC)C3=CC(C)(O)C(=C(C)O)C4=C(OC)C(=O)c5c(O)cc(OC)c6c1c2c3c4c56&quot;]</td><td>[&quot;C=C(O)C1c2c(OC)c(=O)c3c(=O)cc(OC)c4c5c6c(c(O)c(OC)c(c6c2c4=3)=CC1(C)O)C(O)=CC5OC&quot;, &quot;C=C(O)C1c2c(OC)c(O)c3c4c(c5c(OC)cc(O)c6c(O)c(OC)c(c(c24)c65)=CC1(C)O)C(OC)=CC3=O&quot;, … &quot;C=C(O)C1=C2c3c4c(c5c(OC)cc(O)c6c(O)c(OC)c(c3c65)=CC1(C)O)C(OC)=CC(=O)C4C(=O)C2OC&quot;]</td><td>[&quot;COC1=CC(=O)c2c(O)c(OC)c3c4c2c1c1c2c(c(O)c(OC)c(c24)=CC(C)(O)[C@H]3C(C)=O)C(=O)CC=1OC&quot;, &quot;COc1c(O)c2c(=O)cc(OC)c3c4c(OC)cc(O)c5c(=O)c(OC)c6c(c(c1[C@H](C(C)=O)C(C)(O)C6)c23)c54&quot;, … &quot;C=C(O)[C@H]1c2c(OC)c(O)c3c(=O)cc(OC)c4c5c(OC)cc(=O)c6c(O)c(OC)c(c(c2c34)c65)CC1(C)O&quot;]</td></tr><tr><td>1512</td><td>&quot;[H]OC1=C(C=C(C…</td><td>&quot;CCP(CC)(=Nc1cc…</td><td>[&quot;CCP(CC)(=NC1=CC(C(c2ccccc2)(c2ccccc2)c2ccccc2)=CC(C(C)(C)C)C1=O)c1ccccc1&quot;, &quot;CCP(CC)(=Nc1cc(C(c2ccccc2)(c2ccccc2)c2ccccc2)cc(C(C)(C)C)c1O)c1ccccc1&quot;]</td><td>[&quot;CCP(CC)(=Nc1cc(C(c2ccccc2)(c2ccccc2)c2ccccc2)cc(C(C)(C)C)c1O)c1ccccc1&quot;]</td><td>[&quot;CCP(CC)(=NC1=CC(C(c2ccccc2)(c2ccccc2)c2ccccc2)=CC(C(C)(C)C)C1=O)c1ccccc1&quot;, &quot;CCP1(CC)(c2ccccc2)Nc2cc(C(c3ccccc3)(c3ccccc3)c3ccccc3)cc(C(C)(C)C)c2O1&quot;, … &quot;CC=P(CC)(NC1C=C(C(c2ccccc2)(c2ccccc2)c2ccccc2)C=C(C(C)(C)C)C1=O)c1ccccc1&quot;]</td></tr><tr><td>1512</td><td>&quot;CC(C)(C)C6=CC(…</td><td>&quot;CCP1(CC)(c2ccc…</td><td>[&quot;CCP1(CC)(c2ccccc2)Nc2cc(C(c3ccccc3)(c3ccccc3)c3ccccc3)cc(C(C)(C)C)c2O1&quot;]</td><td>[&quot;CCP1(CC)(c2ccccc2)Nc2cc(C(c3ccccc3)(c3ccccc3)c3ccccc3)cc(C(C)(C)C)c2O1&quot;]</td><td>[&quot;CCP1(CC)(c2ccccc2)N=C2CC(C(c3ccccc3)(c3ccccc3)c3ccccc3)=CC(C(C)(C)C)=C2O1&quot;, &quot;CCP1(CC)(c2ccccc2)N=C2C=C(C(c3ccccc3)(c3ccccc3)c3ccccc3)C=C(C(C)(C)C)C2O1&quot;, &quot;CCP(CC)(=Nc1cc(C(c2ccccc2)(c2ccccc2)c2ccccc2)cc(C(C)(C)C)c1O)c1ccccc1&quot;]</td></tr><tr><td>1688</td><td>&quot;O/N=C(C)/C(C)(…</td><td>&quot;C=C(/C=[N+](\\[…</td><td>[&quot;C=C(/C=[N+](\\[O-])C(C)(C)C(C)N=O)OCC&quot;, &quot;C=C(/C=[N+](\\[O-])C(C)(C)C(C)=NO)OCC&quot;]</td><td>[&quot;C=C(/C=[N+](\\[O-])C(C)(C)C(C)N=O)OCC&quot;, &quot;C=C(/C=[N+](\\[O-])C(C)(C)C(=C)NO)OCC&quot;, &quot;C=C(/C=[N+](\\[O-])C(C)(C)C(C)=NO)OCC&quot;]</td><td>[&quot;C=C(/C=[N+](\\[O-])C(C)(C)C(C)N=O)OCC&quot;, &quot;C=C(/C=[N+](\\[O-])C(C)(C)C(=C)NO)OCC&quot;, … &quot;C=C(/C=[N+](\\[O-])C(C)(C)C(C)=[NH+][O-])OCC&quot;]</td></tr><tr><td>1688</td><td>&quot;[O-][N+]1=C(C)…</td><td>&quot;C=C(OCC)C1N(O)…</td><td>[&quot;C=C(OCC)C1N(O)C(C)(C)C(C)=[N+]1[O-]&quot;]</td><td>[&quot;C=C(OCC)C1N(O)C(C)(C)C(C)=[N+]1[O-]&quot;]</td><td>[&quot;C=C(OCC)C1=[N+]([O-])C(C)C(C)(C)N1O&quot;, &quot;C=C(C=[N+]([O-])C(C)(C)C(C)=NO)OCC&quot;, &quot;C=C(OCC)C1N(O)C(C)(C)C(=C)[NH+]1[O-]&quot;]</td></tr><tr><td>1704</td><td>&quot;C=C1C(=CC(=CC1…</td><td>&quot;C=c1c(C=O)cc(C…</td><td>[&quot;C=c1c(C=O)cc(C)cc1=CO&quot;, &quot;C=C1C(C=O)=CC(C)=CC1C=O&quot;]</td><td>[&quot;C=c1c(C=O)cc(C)cc1=CO&quot;]</td><td>[&quot;Cc1cc(C=O)c(C)c(C=O)c1&quot;, &quot;C=C1C(C=O)=CC(C)=CC1C=O&quot;, &quot;C=C1C(C=O)=CC(C)C=C1C=O&quot;]</td></tr><tr><td>1704</td><td>&quot;CC1=C(C=O)C=C(…</td><td>&quot;Cc1cc(C=O)c(C)…</td><td>[&quot;Cc1cc(C=O)c(C)c(C=O)c1&quot;]</td><td>[&quot;Cc1cc(C=O)c(C)c(C=O)c1&quot;]</td><td>[&quot;C=c1c(C=O)cc(C)cc1=CO&quot;, &quot;C=C1C(C=O)=CC(C)C=C1C=O&quot;]</td></tr></tbody></table></div>"
      ],
      "text/plain": [
       "shape: (18, 6)\n",
       "┌──────┬──────────────────┬──────────────────┬─────────────────┬─────────────────┬─────────────────┐\n",
       "│ Ref  ┆ sml              ┆ canon_sml        ┆ tauts_TautomerE ┆ tauts_GetV1Taut ┆ tauts_NIH       │\n",
       "│ ---  ┆ ---              ┆ ---              ┆ numerator       ┆ omerEnumerator  ┆ ---             │\n",
       "│ i64  ┆ str              ┆ str              ┆ ---             ┆ ---             ┆ list[str]       │\n",
       "│      ┆                  ┆                  ┆ list[str]       ┆ list[str]       ┆                 │\n",
       "╞══════╪══════════════════╪══════════════════╪═════════════════╪═════════════════╪═════════════════╡\n",
       "│ 73   ┆ O=[N+](C1=C(C2NC ┆ CSC1=NC(C)=C(C(= ┆ [\"CSC1=NC(c2ccc ┆ [\"C=C1NC(SC)=NC ┆ [\"C=C1NC(SC)=NC │\n",
       "│      ┆ (SC)=NC(C)=C2C(O ┆ O)OC(C)C)C(c2ccc ┆ cc2[N+](=O)[O-] ┆ (c2ccccc2[N+](= ┆ (c2ccccc2[N+](= │\n",
       "│      ┆ …                ┆ …                ┆ )C…             ┆ O)…             ┆ O)…             │\n",
       "│ 73   ┆ O=[N+](C1=C(C2N= ┆ CSC1=NC(c2ccccc2 ┆ [\"CSC1=NC(c2ccc ┆ [\"C=C1NC(SC)=NC ┆ [\"C=C1NC(SC)=NC │\n",
       "│      ┆ C(SC)NC(C)=C2C(O ┆ [N+](=O)[O-])C(C ┆ cc2[N+](=O)[O-] ┆ (c2ccccc2[N+](= ┆ (c2ccccc2[N+](= │\n",
       "│      ┆ …                ┆ …                ┆ )C…             ┆ O)…             ┆ O)…             │\n",
       "│ 457  ┆ O=C2C1=C(O[2H])C ┆ [2H]Oc1ccc(-c2oc ┆ [\"[2H]O=C1CC=C( ┆ [\"[2H]OC1=C(C2= ┆ [\"[2H]OC1=CC(c2 │\n",
       "│      ┆ (OC)=C(O[2H])C([ ┆ 3c([2H])c(O[2H]) ┆ C2OC3=C([2H])C( ┆ CC(=O[2H])C(=O[ ┆ oc3c([2H])c(O[2 │\n",
       "│      ┆ …                ┆ …                ┆ =O…             ┆ 2H…             ┆ H]…             │\n",
       "│ 457  ┆ O=C(C(OC)=C(C([2 ┆ [2H]Oc1ccc(-c2oc ┆ [\"[2H]OC1=CC(=C ┆ [\"[2H]OC1=CC(=C ┆ [\"[2H]OC1=C(OC) │\n",
       "│      ┆ H])=C1OC(C2=CC=C ┆ 3c([2H])c(O[2H]) ┆ 2OC3=C([2H])C(= ┆ 2OC3=C([2H])C(= ┆ C(=O)c2c(oc(-c3 │\n",
       "│      ┆ …                ┆ …                ┆ O[…             ┆ O[…             ┆ cc…             │\n",
       "│ 467  ┆ O=C1C2=C(C=C(C=C ┆ O=c1c(O)c(-c2ccc ┆ [\"O=C1CC(=O)C2= ┆ [\"O=C1C=CC(C2OC ┆ [\"O=C1C(=O)C(C2 │\n",
       "│      ┆ 2OC(C3=CC=C(O)C( ┆ (O)c(O)c2)oc2cc( ┆ C(C1)OC(C1=CC(= ┆ 3=CC(O)C=C(O)C3 ┆ =CC(O)C(=O)C=C2 │\n",
       "│      ┆ …                ┆ …                ┆ O)…             ┆ =C…             ┆ )O…             │\n",
       "│ …    ┆ …                ┆ …                ┆ …               ┆ …               ┆ …               │\n",
       "│ 1512 ┆ CC(C)(C)C6=CC(C( ┆ CCP1(CC)(c2ccccc ┆ [\"CCP1(CC)(c2cc ┆ [\"CCP1(CC)(c2cc ┆ [\"CCP1(CC)(c2cc │\n",
       "│      ┆ C7=CC=CC=C7)(C8= ┆ 2)Nc2cc(C(c3cccc ┆ ccc2)Nc2cc(C(c3 ┆ ccc2)Nc2cc(C(c3 ┆ ccc2)N=C2CC(C(c │\n",
       "│      ┆ …                ┆ …                ┆ cc…             ┆ cc…             ┆ 3c…             │\n",
       "│ 1688 ┆ O/N=C(C)/C(C)(C) ┆ C=C(/C=[N+](\\[O- ┆ [\"C=C(/C=[N+](\\ ┆ [\"C=C(/C=[N+](\\ ┆ [\"C=C(/C=[N+](\\ │\n",
       "│      ┆ /[N+]([O-])=C/C( ┆ ])C(C)(C)/C(C)=N ┆ [O-])C(C)(C)C(C ┆ [O-])C(C)(C)C(C ┆ [O-])C(C)(C)C(C │\n",
       "│      ┆ …                ┆ …                ┆ )N…             ┆ )N…             ┆ )N…             │\n",
       "│ 1688 ┆ [O-][N+]1=C(C)C( ┆ C=C(OCC)C1N(O)C( ┆ [\"C=C(OCC)C1N(O ┆ [\"C=C(OCC)C1N(O ┆ [\"C=C(OCC)C1=[N │\n",
       "│      ┆ C)(C)N(O)C1C(OCC ┆ C)(C)C(C)=[N+]1[ ┆ )C(C)(C)C(C)=[N ┆ )C(C)(C)C(C)=[N ┆ +]([O-])C(C)C(C │\n",
       "│      ┆ …                ┆ …                ┆ +]…             ┆ +]…             ┆ )(…             │\n",
       "│ 1704 ┆ C=C1C(=CC(=CC1=C ┆ C=c1c(C=O)cc(C)c ┆ [\"C=c1c(C=O)cc( ┆ [\"C=c1c(C=O)cc( ┆ [\"Cc1cc(C=O)c(C │\n",
       "│      ┆ O)C)C=O          ┆ c1=CO            ┆ C)cc1=CO\",      ┆ C)cc1=CO\"]      ┆ )c(C=O)c1\",     │\n",
       "│      ┆                  ┆                  ┆ \"C=C1C…         ┆                 ┆ \"C=C1…          │\n",
       "│ 1704 ┆ CC1=C(C=O)C=C(C) ┆ Cc1cc(C=O)c(C)c( ┆ [\"Cc1cc(C=O)c(C ┆ [\"Cc1cc(C=O)c(C ┆ [\"C=c1c(C=O)cc( │\n",
       "│      ┆ C=C1C=O          ┆ C=O)c1           ┆ )c(C=O)c1\"]     ┆ )c(C=O)c1\"]     ┆ C)cc1=CO\",      │\n",
       "│      ┆                  ┆                  ┆                 ┆                 ┆ \"C=C1C…         │\n",
       "└──────┴──────────────────┴──────────────────┴─────────────────┴─────────────────┴─────────────────┘"
      ]
     },
     "execution_count": 100,
     "metadata": {},
     "output_type": "execute_result"
    }
   ],
   "source": [
    "df_melted.filter(pl.col(\"tauts_NIH\").is_not_null()).sort(\"Ref\")"
   ]
  },
  {
   "cell_type": "code",
   "execution_count": 109,
   "metadata": {},
   "outputs": [
    {
     "name": "stdout",
     "output_type": "stream",
     "text": [
      "refs_nih=[73, 457, 467, 888, 890, 891, 1512, 1688, 1704]\n"
     ]
    }
   ],
   "source": [
    "refs_nih_raw = df_melted.filter(pl.col(\"tauts_NIH\").is_not_null())[\"Ref\"].to_list()\n",
    "refs_nih = list(set(refs_nih_raw))\n",
    "refs_nih.sort()\n",
    "print(f\"{refs_nih=}\")"
   ]
  },
  {
   "cell_type": "code",
   "execution_count": 110,
   "metadata": {},
   "outputs": [
    {
     "data": {
      "text/html": [
       "<div><style>\n",
       ".dataframe > thead > tr,\n",
       ".dataframe > tbody > tr {\n",
       "  text-align: right;\n",
       "  white-space: pre-wrap;\n",
       "}\n",
       "</style>\n",
       "<small>shape: (18, 6)</small><table border=\"1\" class=\"dataframe\"><thead><tr><th>Ref</th><th>sml</th><th>canon_sml</th><th>tauts_TautomerEnumerator</th><th>tauts_GetV1TautomerEnumerator</th><th>tauts_NIH</th></tr><tr><td>i64</td><td>str</td><td>str</td><td>list[str]</td><td>list[str]</td><td>list[str]</td></tr></thead><tbody><tr><td>73</td><td>&quot;O=[N+](C1=C(C2…</td><td>&quot;CSC1=NC(C)=C(C…</td><td>[&quot;CSC1=NC(c2ccccc2[N+](=O)[O-])C(C(=O)OC(C)C)C(C)=N1&quot;, &quot;CSC1=NC(c2ccccc2[N+](=O)[O-])C(C(=O)OC(C)C)=C(C)N1&quot;, … &quot;CSC1=NC(C)=C(C(=O)OC(C)C)C(c2ccccc2[N+](=O)[O-])N1&quot;]</td><td>[&quot;C=C1NC(SC)=NC(c2ccccc2[N+](=O)[O-])C1C(=O)OC(C)C&quot;, &quot;CSC1=NC(c2ccccc2[N+](=O)[O-])C(=C(O)OC(C)C)C(C)=N1&quot;, … &quot;C=C1N=C(SC)NC(c2ccccc2[N+](=O)[O-])C1C(=O)OC(C)C&quot;]</td><td>[&quot;C=C1NC(SC)=NC(c2ccccc2[N+](=O)[O-])C1C(=O)OC(C)C&quot;, &quot;CSC1=NC(C)=C(C(=O)OC(C)C)C(=C2C=CCC=C2[N+](=O)[O-])N1&quot;, … &quot;CSC1=NC(C)=C(C(=O)OC(C)C)C(=C2C=CC=CC2=[N+]([O-])O)N1&quot;]</td></tr><tr><td>73</td><td>&quot;O=[N+](C1=C(C2…</td><td>&quot;CSC1=NC(c2cccc…</td><td>[&quot;CSC1=NC(c2ccccc2[N+](=O)[O-])C(C(=O)OC(C)C)C(C)=N1&quot;, &quot;CSC1=NC(c2ccccc2[N+](=O)[O-])C(C(=O)OC(C)C)=C(C)N1&quot;, … &quot;CSC1=NC(C)=C(C(=O)OC(C)C)C(c2ccccc2[N+](=O)[O-])N1&quot;]</td><td>[&quot;C=C1NC(SC)=NC(c2ccccc2[N+](=O)[O-])C1C(=O)OC(C)C&quot;, &quot;CSC1=NC(c2ccccc2[N+](=O)[O-])C(=C(O)OC(C)C)C(C)=N1&quot;, … &quot;C=C1N=C(SC)NC(c2ccccc2[N+](=O)[O-])C1C(=O)OC(C)C&quot;]</td><td>[&quot;C=C1NC(SC)=NC(c2ccccc2[N+](=O)[O-])C1C(=O)OC(C)C&quot;, &quot;CSC1=NC(c2ccccc2[N+](=O)[O-])C(=C(O)OC(C)C)C(C)=N1&quot;, … &quot;C=C1N=C(SC)NC(c2ccccc2[N+](=O)[O-])C1C(=O)OC(C)C&quot;]</td></tr><tr><td>457</td><td>&quot;O=C2C1=C(O[2H]…</td><td>&quot;[2H]Oc1ccc(-c2…</td><td>[&quot;[2H]O=C1CC=C(C2OC3=C([2H])C(=O[2H])C(OC)=C([OH][2H])C3C(=O)C2=O[2H])CC1=O[2H]&quot;, &quot;[2H]Oc1ccc(C2OC3=C(C(=O)C2=O[2H])C(=O[2H])C(OC)C([OH][2H])=C3[2H])cc1[OH][2H]&quot;, … &quot;[2H]O=C1C(OC)=C([OH][2H])C2=C(OC(c3ccc([OH][2H])c([OH][2H])c3)C(=O[2H])C2=O)C1[2H]&quot;]</td><td>[&quot;[2H]OC1=C(C2=CC(=O[2H])C(=O[2H])C=C2)OC2=C([2H])C(=O[2H])C(OC)C(O[2H])=C2C1O&quot;, &quot;[2H]OC1c2c(oc(C3=CC(=O[2H])C(=O[2H])C=C3)c([OH][2H])c2=O)C([2H])=C([OH][2H])C1OC&quot;, … &quot;[2H]OC1=CC(C2Oc3c([2H])c([OH][2H])c(OC)c([OH][2H])c3C(=O)C2=O[2H])C=CC1=O[2H]&quot;]</td><td>[&quot;[2H]OC1=CC(c2oc3c([2H])c(O[2H])c(OC)c(O[2H])c3c(=O)c2O[2H])=CC([2H])C1=O&quot;, &quot;[2H]Oc1ccc(C2([2H])Oc3c([2H])c(O[2H])c(OC)c(O[2H])c3C(=O)C2=O)cc1O[2H]&quot;, … &quot;[2H]Oc1c(OC)c(O[2H])c2c(=O)c(O[2H])c(C3=CC(=O)C([2H])(O[2H])C=C3)oc2c1[2H]&quot;]</td></tr><tr><td>457</td><td>&quot;O=C(C(OC)=C(C(…</td><td>&quot;[2H]Oc1ccc(-c2…</td><td>[&quot;[2H]OC1=CC(=C2OC3=C([2H])C(=O[2H])C(OC)C(=O)C3C(O[2H])=C2O[2H])C=CC1=O[2H]&quot;, &quot;[2H]OC1=CC(c2oc3c(c(=O[2H])c2O[2H])C(=O)C(OC)C(=O[2H])C3[2H])C=CC1=O[2H]&quot;, … &quot;[2H]OC1=CC=C(c2oc3c([2H])c([OH][2H])c(OC)c(O)c3c(=O[2H])c2O[2H])CC1=O[2H]&quot;]</td><td>[&quot;[2H]OC1=CC(=C2OC3=C([2H])C(=O[2H])C(OC)C(=O)C3C(O[2H])=C2O[2H])C=CC1=O[2H]&quot;, &quot;[2H]Oc1c([2H])c2oc(C3=CC(=O[2H])C(=O[2H])CC3)c([OH][2H])c([OH][2H])c-2c(=O)c1OC&quot;, … &quot;[2H]OC1=CC(=C2Oc3c([2H])c([OH][2H])c(OC)c(O)c3C(=O[2H])C2O[2H])C=CC1=O[2H]&quot;]</td><td>[&quot;[2H]OC1=C(OC)C(=O)c2c(oc(-c3ccc(O[2H])c(O[2H])c3)c(O[2H])c2=O)C1([2H])[2H]&quot;, &quot;[2H]OC1=C2C(=O)C([2H])(OC)C(=O)C([2H])=C2OC(c2ccc(O[2H])c(O[2H])c2)=C1O[2H]&quot;, … &quot;[2H]Oc1ccc(-c2oc3c([2H])c(=O)c(OC)c(O[2H])c-3c(O[2H])c2O[2H])cc1O[2H]&quot;]</td></tr><tr><td>467</td><td>&quot;O=C1C2=C(C=C(C…</td><td>&quot;O=c1c(O)c(-c2c…</td><td>[&quot;O=C1CC(=O)C2=C(C1)OC(C1=CC(=O)C(=O)C=C1)C(O)C2=O&quot;, &quot;O=C1CCC(=C2OC3=C(C(=O)CC(O)=C3)C(=O)C2=O)C=C1O&quot;, … &quot;O=C1C=CC(=C2OC3=CC(O)=CC(=O)C3C(O)=C2O)CC1=O&quot;]</td><td>[&quot;O=C1C=CC(C2OC3=CC(O)C=C(O)C3=C(O)C2=O)=CC1=O&quot;, &quot;O=C1CC(=O)C2=C(C1)OC(C1=CC(=O)C(=O)C=C1)C(O)C2=O&quot;, … &quot;O=C1C=CC(=C2OC3=CC(O)=CC(=O)C3C(O)=C2O)CC1=O&quot;]</td><td>[&quot;O=C1C(=O)C(C2=CC(O)C(=O)C=C2)Oc2cc(O)cc(O)c21&quot;, &quot;O=C1CC(O)=CC2=C1C(=O)C(=O)C(c1ccc(O)c(O)c1)O2&quot;, … &quot;O=C1C=C(c2oc3cc(O)cc(O)c3c(=O)c2O)C=CC1O&quot;]</td></tr><tr><td>467</td><td>&quot;OC1=C2C(C=C(O)…</td><td>&quot;O=c1cc(O)cc2oc…</td><td>[&quot;O=C1CC(=O)C2=C(C1)OC(C1=CC(=O)C(=O)C=C1)C(O)C2=O&quot;, &quot;O=C1CCC(=C2OC3=C(C(=O)CC(O)=C3)C(=O)C2=O)C=C1O&quot;, … &quot;O=C1C=CC(=C2OC3=CC(O)=CC(=O)C3C(O)=C2O)CC1=O&quot;]</td><td>[&quot;O=C1C=CC(C2OC3=CC(O)C=C(O)C3=C(O)C2=O)=CC1=O&quot;, &quot;O=C1CC(=O)C2=C(C1)OC(C1=CC(=O)C(=O)C=C1)C(O)C2=O&quot;, … &quot;O=C1C=CC(=C2OC3=CC(O)=CC(=O)C3C(O)=C2O)CC1=O&quot;]</td><td>[&quot;O=c1c(O)c(-c2ccc(O)c(O)c2)oc2cc(O)cc(O)c12&quot;, &quot;O=C1C=C2OC(c3ccc(O)c(O)c3)=C(O)C(O)=C2C(=O)C1&quot;, … &quot;O=C1C=C(O)Cc2oc(-c3ccc(O)c(O)c3)c(O)c(=O)c21&quot;]</td></tr><tr><td>888</td><td>&quot;O=C1C(C(O)=C2O…</td><td>&quot;COc1c(O)c2c(=O…</td><td>[&quot;COC1=c2c3c(OC)cc(O)c4c3c3c(c([C@H](C)O)c([C@H](C)O)c5c(OC)c(O)c(c2c53)C(=O)C1)C(OC)C4=O&quot;, &quot;COC1=c2c3c4c(c([C@H](C)O)c([C@H](C)O)c5c(OC)c(O)c6c(c2=C(OC)CC6=O)c54)=C(OC)C(=O)C3C(=O)C1&quot;, … &quot;COC1=CC(=O)C2C(=O)C(OC)=C3c4c2c1c1c(OC)cc(O)c2c(O)c(OC)c(c4c21)=C([C@H](C)O)C3[C@H](C)O&quot;]</td><td>[&quot;COc1c(O)c2c(=O)cc(OC)c3c4c(OC)cc(O)c5c(=O)c(OC)c6c(c(c1C([C@H](C)O)C6[C@H](C)O)c23)c54&quot;, &quot;COc1c(O)c2c(O)cc(OC)c3c4c(OC)cc(O)c5c(O)c(OC)c6c([C@H](C)O)c([C@H](C)O)c1c(c23)c6c54&quot;, … &quot;COC1=C2c3c4c(c(O)cc(OC)c4c4c(OC)cc(O)c5c(O)c(OC)c(c3c54)=C([C@H](C)O)C2[C@H](C)O)C1=O&quot;]</td><td>[&quot;COC1=CC(=O)C2C(=O)C(OC)=C3c4c2c1c1c(OC)cc(O)c2c1c4C(=C(OC)C2=O)[C@@H]([C@H](C)O)[C@@H]3[C@H](C)O&quot;, &quot;COC1=C2c3c4c(c5c(OC)cc(O)c6c(O)c(OC)c(c3c65)=C([C@H](C)O)[C@@H]2[C@H](C)O)=C(OC)CC(=O)C=4C1=O&quot;, … &quot;COc1c(O)c2c(=O)cc(OC)c3c4c(OC)cc(O)c5c(=O)c(OC)c6c(c(c1[C@@H]([C@H](C)O)[C@@H]6[C@H](C)O)c23)c54&quot;]</td></tr><tr><td>888</td><td>&quot;O=C1C(C(O)=C2)…</td><td>&quot;COc1c2c3c4c(c(…</td><td>[&quot;COC1=c2c3c(OC)cc(O)c4c3c3c(c([C@H](C)O)c([C@H](C)O)c5c(OC)c(O)c(c2c53)C(=O)C1)C(OC)C4=O&quot;, &quot;COC1=c2c3c4c(c([C@H](C)O)c([C@H](C)O)c5c(OC)c(O)c6c(c2=C(OC)CC6=O)c54)=C(OC)C(=O)C3C(=O)C1&quot;, … &quot;COC1=CC(=O)C2C(=O)C(OC)=C3c4c2c1c1c(OC)cc(O)c2c(O)c(OC)c(c4c21)=C([C@H](C)O)C3[C@H](C)O&quot;]</td><td>[&quot;COC1=c2c(=C(C)O)c(C(C)=O)c3c(OC)c(O)c4c5c(c6c(c2c35)C(=C(O)CC6OC)C1=O)C(OC)CC=4O&quot;, &quot;COC1=CC(=O)c2c(O)c(OC)c3c(C(C)=O)c(C(C)O)c4c5c6c(c1c2c35)C(OC)CC(=O)C6C(O)C=4OC&quot;, … &quot;COC1=CC(=O)C2C(=O)C(OC)=C3c4c2c1c1c2c(c(O)c(OC)c(c42)C(C(C)O)C3C(C)O)C(=O)C=C1OC&quot;]</td><td>[&quot;COC1=CC(=O)C2C(=O)C(OC)=C3c4c2c1c1c(OC)cc(O)c2c1c4C(=C(OC)C2=O)[C@@H]([C@H](C)O)[C@@H]3[C@H](C)O&quot;, &quot;COC1=CC(=O)C2=c3c1c1c(OC)cc(=O)c4c(=O)c(OC)c5c(c3C(C(OC)=C2O)[C@@H]([C@H](C)O)[C@@H]5[C@H](C)O)c1=4&quot;, … &quot;COC1=C2c3c4c(c(O)cc(OC)c4c4c(OC)cc(O)c5c(O)c(OC)c(c3c54)=C([C@H](C)O)[C@@H]2[C@H](C)O)C1=O&quot;]</td></tr><tr><td>890</td><td>&quot;O=C(C=C1OC)C2=…</td><td>&quot;COc1c(O)c2c(=O…</td><td>[&quot;COC1=c2c3c(c4c5c(c(O)cc(OC)c25)C(=O)C(OC)C4=C[C@H](C)OC(O)=C2C=CC(=O)C=C2)C(=C[C@@H](C)OC(=O)c2ccccc2)C(OC)C(=O)C=3C(=O)C1&quot;, &quot;COC1=C(C[C@@H](C)OC(=O)c2ccccc2)c2c3c4c(c5c2=C(C(=O)CC=5OC)C1=O)=C(OC)CC(=O)C=4C(=O)C(OC)C3=C[C@H](C)OC(=O)C1C=CC(=O)C=C1&quot;, … &quot;COC1=CC(=O)c2c(O)c(OC)c(C[C@H](C)OC(=O)C3=CCC(=O)C=C3)c3c2c1c1c(OC)cc(O)c2c(O)c(OC)c(=C[C@@H](C)OC(=O)c4ccccc4)c3c21&quot;]</td><td>[&quot;COc1c(O)c2c(O)cc(OC)c3c4c(OC)cc(O)c5c(O)c(OC)c(=C[C@H](C)OC(=O)c6ccc(O)cc6)c(c(c1=C[C@@H](C)OC(=O)c1ccccc1)c23)c54&quot;, &quot;COc1c(C[C@@H](C)OC(=O)c2ccccc2)c2c3c(c1=O)C(=O)CC(OC)c3c1c(OC)cc(=O)c3c(O)c(OC)c(=C[C@H](C)OC(=O)c4ccc(O)cc4)c2c13&quot;, … &quot;COC1=CC(=O)c2c(O)c(OC)c(C[C@H](C)OC(=O)C3=CCC(=O)C=C3)c3c2c1c1c(OC)cc(O)c2c(O)c(OC)c(=C[C@@H](C)OC(=O)c4ccccc4)c3c21&quot;]</td><td>[&quot;COC1=CC(=O)C2C(=O)C(OC)=C(C[C@@H](C)OC(=O)c3ccccc3)c3c4c5c(c1c32)C(OC)=CC(=O)C5C(=O)C(OC)=C4C[C@H](C)OC(=O)c1ccc(O)cc1&quot;, &quot;COC1=c2c3c(c(=O)c(OC)c(C[C@@H](C)OC(=O)c4ccccc4)c3c3c(C[C@H](C)OC(=O)c4ccc(O)cc4)c(OC)c(O)c4c(=O)cc(OC)c2c43)C(=O)C1&quot;, … &quot;COC1=CC(=O)C2C(=O)C(OC)=C(C[C@@H](C)OC(=O)c3ccccc3)c3c2c1c1c2c(c(O)c(OC)c(C[C@H](C)OC(=O)C4=CCC(=O)C=C4)c32)C(=O)C=C1OC&quot;]</td></tr><tr><td>890</td><td>&quot;OC1=CC(OC)=C(C…</td><td>&quot;COc1c(C[C@@H](…</td><td>[&quot;COC1=C(C[C@@H](C)OC(=O)c2ccccc2)c2c3c4c(c5c2=C(C(=O)CC=5OC)C1=O)=C(OC)CC(=O)C=4C(=O)C(OC)C3=C[C@H](C)OC(=O)C1C=CC(=O)C=C1&quot;, &quot;COC1=CC(=O)C2=c3c1c1c4c(c3C(=C[C@@H](C)OC(=O)c3ccccc3)C(OC)C2=O)C(C[C@H](C)OC(=O)c2ccc(O)cc2)C(OC)C(=O)C=4C(=O)C=C1OC&quot;, … &quot;COC1=CC(=O)c2c(O)c(OC)c(C[C@H](C)OC(=O)C3=CCC(=O)C=C3)c3c2c1c1c(OC)cc(O)c2c(O)c(OC)c(=C[C@@H](C)OC(=O)c4ccccc4)c3c21&quot;]</td><td>[&quot;COC1=CC(=O)C2=c3c1c1c(OC)cc(O)c4c(O)c(OC)c(=C[C@H](C)OC(O)=C5C=CC(=O)C=C5)c(c3=C(C[C@@H](C)OC(=O)c3ccccc3)C(OC)C2=O)c41&quot;, &quot;COc1c(C[C@@H](C)OC(=O)c2ccccc2)c2c3c(c1=O)C(=O)CC(OC)c3c1c(OC)cc(=O)c3c(O)c(OC)c(=C[C@H](C)OC(=O)c4ccc(O)cc4)c2c13&quot;, … &quot;COC1=CC(=O)c2c(O)c(OC)c(C[C@H](C)OC(=O)C3=CCC(=O)C=C3)c3c2c1c1c(OC)cc(O)c2c(O)c(OC)c(=C[C@@H](C)OC(=O)c4ccccc4)c3c21&quot;]</td><td>[&quot;COC1=CC(=O)C2C(=O)C(OC)=C(C[C@@H](C)OC(=O)c3ccccc3)c3c4c5c(c1c32)C(OC)=CC(=O)C5C(=O)C(OC)=C4C[C@H](C)OC(=O)c1ccc(O)cc1&quot;, &quot;COC1=C(C[C@@H](C)OC(=O)c2ccccc2)c2c3c(c(O)cc(OC)c3c3c(OC)cc(O)c4c(O)c(OC)c(=C[C@H](C)OC(=O)c5ccc(O)cc5)c2c43)C1=O&quot;, … &quot;COc1c(O)c2c(=O)cc(OC)c3c4c(OC)cc(O)c5c(=O)c(OC)c(C[C@@H](C)OC(=O)c6ccccc6)c(c(c1C[C@H](C)OC(=O)c1ccc(O)cc1)c23)c54&quot;]</td></tr><tr><td>891</td><td>&quot;OC1([C@@H](C(C…</td><td>&quot;COc1c2c3c4c(c(…</td><td>[&quot;COC1=c2c3c4c5c6c(c(O)cc(OC)c26)C(=O)C(OC)C5=CC(C)(O)C(C(C)=O)=C4C(OC)C(=O)C=3C(=O)C1&quot;, &quot;C=C(O)C1=C2c3c4c5c(c6c(OC)cc(O)c(c36)C(=O)C2OC)C(OC)=CC(=O)C5=C(O)C(OC)C4=CC1(C)O&quot;, … &quot;C=C(O)C1=C2c3c4c(c5c(OC)cc(O)c6c(O)c(OC)c(c3c65)=CC1(C)O)C(OC)=CC(=O)C4C(=O)C2OC&quot;]</td><td>[&quot;C=C(O)C1=C2c3c4c(c5c6c3C(=C(OC)C(=O)C6C(=O)C=C5OC)CC1(C)O)C(OC)=CC(=O)C4=C(O)C2OC&quot;, &quot;C=C(O)C1=C2c3c4c5c(c6c(OC)cc(O)c(c36)C(=O)C2OC)C(OC)=CC(=O)C5=C(O)C(OC)C4=CC1(C)O&quot;, … &quot;C=C(O)C1=C2c3c4c(c5c(OC)cc(O)c6c(O)c(OC)c(c3c65)=CC1(C)O)C(OC)=CC(=O)C4C(=O)C2OC&quot;]</td><td>[&quot;COc1c2c3c4c(c(OC)c(=O)c5c(O)cc(OC)c(c6c(OC)cc(O)c(c1=O)c63)c54)C(=C(C)O)C(C)(O)C2&quot;, &quot;COC1=CC(=O)C2=C3C1=C1C(OC)=CC(O)=C4C(=O)C(OC)=C5C(=C3C(=C(OC)C2=O)CC(C)(O)[C@H]5C(C)=O)C41&quot;, … &quot;COC1=CC(=O)C2=C3C1=C1C(OC)=CC(O)=C4C(=O)C(OC)=C5CC(C)(O)[C@@H](C(C)=O)C(=C(OC)C2=O)C3=C5C41&quot;]</td></tr><tr><td>891</td><td>&quot;OC1([C@@H](C(C…</td><td>&quot;COc1c(O)c2c(=O…</td><td>[&quot;COC1=CC(=O)C2=c3c1c1c4c5c3C(=CC(C)(O)C(C(C)=O)C5C(OC)=C(O)C=4C(=O)C=C1OC)C(OC)C2=O&quot;, &quot;COC1=CC(=O)C2C(=O)C(OC)C3=C(C(C)=O)C(C)(O)C=C4c5c3c2c1c1c(OC)cc(O)c(c51)C(=O)C4OC&quot;, … &quot;COC1=CC(=O)C2C(=O)C(OC)C3=CC(C)(O)C(=C(C)O)C4=C(OC)C(=O)c5c(O)cc(OC)c6c1c2c3c4c56&quot;]</td><td>[&quot;C=C(O)C1c2c(OC)c(=O)c3c(=O)cc(OC)c4c5c6c(c(O)c(OC)c(c6c2c4=3)=CC1(C)O)C(O)=CC5OC&quot;, &quot;C=C(O)C1c2c(OC)c(O)c3c4c(c5c(OC)cc(O)c6c(O)c(OC)c(c(c24)c65)=CC1(C)O)C(OC)=CC3=O&quot;, … &quot;C=C(O)C1=C2c3c4c(c5c(OC)cc(O)c6c(O)c(OC)c(c3c65)=CC1(C)O)C(OC)=CC(=O)C4C(=O)C2OC&quot;]</td><td>[&quot;COC1=CC(=O)c2c(O)c(OC)c3c4c2c1c1c2c(c(O)c(OC)c(c24)=CC(C)(O)[C@H]3C(C)=O)C(=O)CC=1OC&quot;, &quot;COc1c(O)c2c(=O)cc(OC)c3c4c(OC)cc(O)c5c(=O)c(OC)c6c(c(c1[C@H](C(C)=O)C(C)(O)C6)c23)c54&quot;, … &quot;C=C(O)[C@H]1c2c(OC)c(O)c3c(=O)cc(OC)c4c5c(OC)cc(=O)c6c(O)c(OC)c(c(c2c34)c65)CC1(C)O&quot;]</td></tr><tr><td>1512</td><td>&quot;[H]OC1=C(C=C(C…</td><td>&quot;CCP(CC)(=Nc1cc…</td><td>[&quot;CCP(CC)(=NC1=CC(C(c2ccccc2)(c2ccccc2)c2ccccc2)=CC(C(C)(C)C)C1=O)c1ccccc1&quot;, &quot;CCP(CC)(=Nc1cc(C(c2ccccc2)(c2ccccc2)c2ccccc2)cc(C(C)(C)C)c1O)c1ccccc1&quot;]</td><td>[&quot;CCP(CC)(=Nc1cc(C(c2ccccc2)(c2ccccc2)c2ccccc2)cc(C(C)(C)C)c1O)c1ccccc1&quot;]</td><td>[&quot;CCP(CC)(=NC1=CC(C(c2ccccc2)(c2ccccc2)c2ccccc2)=CC(C(C)(C)C)C1=O)c1ccccc1&quot;, &quot;CCP1(CC)(c2ccccc2)Nc2cc(C(c3ccccc3)(c3ccccc3)c3ccccc3)cc(C(C)(C)C)c2O1&quot;, … &quot;CC=P(CC)(NC1C=C(C(c2ccccc2)(c2ccccc2)c2ccccc2)C=C(C(C)(C)C)C1=O)c1ccccc1&quot;]</td></tr><tr><td>1512</td><td>&quot;CC(C)(C)C6=CC(…</td><td>&quot;CCP1(CC)(c2ccc…</td><td>[&quot;CCP1(CC)(c2ccccc2)Nc2cc(C(c3ccccc3)(c3ccccc3)c3ccccc3)cc(C(C)(C)C)c2O1&quot;]</td><td>[&quot;CCP1(CC)(c2ccccc2)Nc2cc(C(c3ccccc3)(c3ccccc3)c3ccccc3)cc(C(C)(C)C)c2O1&quot;]</td><td>[&quot;CCP1(CC)(c2ccccc2)N=C2CC(C(c3ccccc3)(c3ccccc3)c3ccccc3)=CC(C(C)(C)C)=C2O1&quot;, &quot;CCP1(CC)(c2ccccc2)N=C2C=C(C(c3ccccc3)(c3ccccc3)c3ccccc3)C=C(C(C)(C)C)C2O1&quot;, &quot;CCP(CC)(=Nc1cc(C(c2ccccc2)(c2ccccc2)c2ccccc2)cc(C(C)(C)C)c1O)c1ccccc1&quot;]</td></tr><tr><td>1688</td><td>&quot;O/N=C(C)/C(C)(…</td><td>&quot;C=C(/C=[N+](\\[…</td><td>[&quot;C=C(/C=[N+](\\[O-])C(C)(C)C(C)N=O)OCC&quot;, &quot;C=C(/C=[N+](\\[O-])C(C)(C)C(C)=NO)OCC&quot;]</td><td>[&quot;C=C(/C=[N+](\\[O-])C(C)(C)C(C)N=O)OCC&quot;, &quot;C=C(/C=[N+](\\[O-])C(C)(C)C(=C)NO)OCC&quot;, &quot;C=C(/C=[N+](\\[O-])C(C)(C)C(C)=NO)OCC&quot;]</td><td>[&quot;C=C(/C=[N+](\\[O-])C(C)(C)C(C)N=O)OCC&quot;, &quot;C=C(/C=[N+](\\[O-])C(C)(C)C(=C)NO)OCC&quot;, … &quot;C=C(/C=[N+](\\[O-])C(C)(C)C(C)=[NH+][O-])OCC&quot;]</td></tr><tr><td>1688</td><td>&quot;[O-][N+]1=C(C)…</td><td>&quot;C=C(OCC)C1N(O)…</td><td>[&quot;C=C(OCC)C1N(O)C(C)(C)C(C)=[N+]1[O-]&quot;]</td><td>[&quot;C=C(OCC)C1N(O)C(C)(C)C(C)=[N+]1[O-]&quot;]</td><td>[&quot;C=C(OCC)C1=[N+]([O-])C(C)C(C)(C)N1O&quot;, &quot;C=C(C=[N+]([O-])C(C)(C)C(C)=NO)OCC&quot;, &quot;C=C(OCC)C1N(O)C(C)(C)C(=C)[NH+]1[O-]&quot;]</td></tr><tr><td>1704</td><td>&quot;C=C1C(=CC(=CC1…</td><td>&quot;C=c1c(C=O)cc(C…</td><td>[&quot;C=c1c(C=O)cc(C)cc1=CO&quot;, &quot;C=C1C(C=O)=CC(C)=CC1C=O&quot;]</td><td>[&quot;C=c1c(C=O)cc(C)cc1=CO&quot;]</td><td>[&quot;Cc1cc(C=O)c(C)c(C=O)c1&quot;, &quot;C=C1C(C=O)=CC(C)=CC1C=O&quot;, &quot;C=C1C(C=O)=CC(C)C=C1C=O&quot;]</td></tr><tr><td>1704</td><td>&quot;CC1=C(C=O)C=C(…</td><td>&quot;Cc1cc(C=O)c(C)…</td><td>[&quot;Cc1cc(C=O)c(C)c(C=O)c1&quot;]</td><td>[&quot;Cc1cc(C=O)c(C)c(C=O)c1&quot;]</td><td>[&quot;C=c1c(C=O)cc(C)cc1=CO&quot;, &quot;C=C1C(C=O)=CC(C)C=C1C=O&quot;]</td></tr></tbody></table></div>"
      ],
      "text/plain": [
       "shape: (18, 6)\n",
       "┌──────┬──────────────────┬──────────────────┬─────────────────┬─────────────────┬─────────────────┐\n",
       "│ Ref  ┆ sml              ┆ canon_sml        ┆ tauts_TautomerE ┆ tauts_GetV1Taut ┆ tauts_NIH       │\n",
       "│ ---  ┆ ---              ┆ ---              ┆ numerator       ┆ omerEnumerator  ┆ ---             │\n",
       "│ i64  ┆ str              ┆ str              ┆ ---             ┆ ---             ┆ list[str]       │\n",
       "│      ┆                  ┆                  ┆ list[str]       ┆ list[str]       ┆                 │\n",
       "╞══════╪══════════════════╪══════════════════╪═════════════════╪═════════════════╪═════════════════╡\n",
       "│ 73   ┆ O=[N+](C1=C(C2NC ┆ CSC1=NC(C)=C(C(= ┆ [\"CSC1=NC(c2ccc ┆ [\"C=C1NC(SC)=NC ┆ [\"C=C1NC(SC)=NC │\n",
       "│      ┆ (SC)=NC(C)=C2C(O ┆ O)OC(C)C)C(c2ccc ┆ cc2[N+](=O)[O-] ┆ (c2ccccc2[N+](= ┆ (c2ccccc2[N+](= │\n",
       "│      ┆ …                ┆ …                ┆ )C…             ┆ O)…             ┆ O)…             │\n",
       "│ 73   ┆ O=[N+](C1=C(C2N= ┆ CSC1=NC(c2ccccc2 ┆ [\"CSC1=NC(c2ccc ┆ [\"C=C1NC(SC)=NC ┆ [\"C=C1NC(SC)=NC │\n",
       "│      ┆ C(SC)NC(C)=C2C(O ┆ [N+](=O)[O-])C(C ┆ cc2[N+](=O)[O-] ┆ (c2ccccc2[N+](= ┆ (c2ccccc2[N+](= │\n",
       "│      ┆ …                ┆ …                ┆ )C…             ┆ O)…             ┆ O)…             │\n",
       "│ 457  ┆ O=C2C1=C(O[2H])C ┆ [2H]Oc1ccc(-c2oc ┆ [\"[2H]O=C1CC=C( ┆ [\"[2H]OC1=C(C2= ┆ [\"[2H]OC1=CC(c2 │\n",
       "│      ┆ (OC)=C(O[2H])C([ ┆ 3c([2H])c(O[2H]) ┆ C2OC3=C([2H])C( ┆ CC(=O[2H])C(=O[ ┆ oc3c([2H])c(O[2 │\n",
       "│      ┆ …                ┆ …                ┆ =O…             ┆ 2H…             ┆ H]…             │\n",
       "│ 457  ┆ O=C(C(OC)=C(C([2 ┆ [2H]Oc1ccc(-c2oc ┆ [\"[2H]OC1=CC(=C ┆ [\"[2H]OC1=CC(=C ┆ [\"[2H]OC1=C(OC) │\n",
       "│      ┆ H])=C1OC(C2=CC=C ┆ 3c([2H])c(O[2H]) ┆ 2OC3=C([2H])C(= ┆ 2OC3=C([2H])C(= ┆ C(=O)c2c(oc(-c3 │\n",
       "│      ┆ …                ┆ …                ┆ O[…             ┆ O[…             ┆ cc…             │\n",
       "│ 467  ┆ O=C1C2=C(C=C(C=C ┆ O=c1c(O)c(-c2ccc ┆ [\"O=C1CC(=O)C2= ┆ [\"O=C1C=CC(C2OC ┆ [\"O=C1C(=O)C(C2 │\n",
       "│      ┆ 2OC(C3=CC=C(O)C( ┆ (O)c(O)c2)oc2cc( ┆ C(C1)OC(C1=CC(= ┆ 3=CC(O)C=C(O)C3 ┆ =CC(O)C(=O)C=C2 │\n",
       "│      ┆ …                ┆ …                ┆ O)…             ┆ =C…             ┆ )O…             │\n",
       "│ …    ┆ …                ┆ …                ┆ …               ┆ …               ┆ …               │\n",
       "│ 1512 ┆ CC(C)(C)C6=CC(C( ┆ CCP1(CC)(c2ccccc ┆ [\"CCP1(CC)(c2cc ┆ [\"CCP1(CC)(c2cc ┆ [\"CCP1(CC)(c2cc │\n",
       "│      ┆ C7=CC=CC=C7)(C8= ┆ 2)Nc2cc(C(c3cccc ┆ ccc2)Nc2cc(C(c3 ┆ ccc2)Nc2cc(C(c3 ┆ ccc2)N=C2CC(C(c │\n",
       "│      ┆ …                ┆ …                ┆ cc…             ┆ cc…             ┆ 3c…             │\n",
       "│ 1688 ┆ O/N=C(C)/C(C)(C) ┆ C=C(/C=[N+](\\[O- ┆ [\"C=C(/C=[N+](\\ ┆ [\"C=C(/C=[N+](\\ ┆ [\"C=C(/C=[N+](\\ │\n",
       "│      ┆ /[N+]([O-])=C/C( ┆ ])C(C)(C)/C(C)=N ┆ [O-])C(C)(C)C(C ┆ [O-])C(C)(C)C(C ┆ [O-])C(C)(C)C(C │\n",
       "│      ┆ …                ┆ …                ┆ )N…             ┆ )N…             ┆ )N…             │\n",
       "│ 1688 ┆ [O-][N+]1=C(C)C( ┆ C=C(OCC)C1N(O)C( ┆ [\"C=C(OCC)C1N(O ┆ [\"C=C(OCC)C1N(O ┆ [\"C=C(OCC)C1=[N │\n",
       "│      ┆ C)(C)N(O)C1C(OCC ┆ C)(C)C(C)=[N+]1[ ┆ )C(C)(C)C(C)=[N ┆ )C(C)(C)C(C)=[N ┆ +]([O-])C(C)C(C │\n",
       "│      ┆ …                ┆ …                ┆ +]…             ┆ +]…             ┆ )(…             │\n",
       "│ 1704 ┆ C=C1C(=CC(=CC1=C ┆ C=c1c(C=O)cc(C)c ┆ [\"C=c1c(C=O)cc( ┆ [\"C=c1c(C=O)cc( ┆ [\"Cc1cc(C=O)c(C │\n",
       "│      ┆ O)C)C=O          ┆ c1=CO            ┆ C)cc1=CO\",      ┆ C)cc1=CO\"]      ┆ )c(C=O)c1\",     │\n",
       "│      ┆                  ┆                  ┆ \"C=C1C…         ┆                 ┆ \"C=C1…          │\n",
       "│ 1704 ┆ CC1=C(C=O)C=C(C) ┆ Cc1cc(C=O)c(C)c( ┆ [\"Cc1cc(C=O)c(C ┆ [\"Cc1cc(C=O)c(C ┆ [\"C=c1c(C=O)cc( │\n",
       "│      ┆ C=C1C=O          ┆ C=O)c1           ┆ )c(C=O)c1\"]     ┆ )c(C=O)c1\"]     ┆ C)cc1=CO\",      │\n",
       "│      ┆                  ┆                  ┆                 ┆                 ┆ \"C=C1C…         │\n",
       "└──────┴──────────────────┴──────────────────┴─────────────────┴─────────────────┴─────────────────┘"
      ]
     },
     "execution_count": 110,
     "metadata": {},
     "output_type": "execute_result"
    }
   ],
   "source": [
    "df_melted.filter(pl.col(\"Ref\").is_in(refs_nih)).sort(\"Ref\")"
   ]
  },
  {
   "cell_type": "code",
   "execution_count": 43,
   "metadata": {},
   "outputs": [
    {
     "data": {
      "text/html": [
       "<div><style>\n",
       ".dataframe > thead > tr,\n",
       ".dataframe > tbody > tr {\n",
       "  text-align: right;\n",
       "  white-space: pre-wrap;\n",
       "}\n",
       "</style>\n",
       "<small>shape: (9, 6)</small><table border=\"1\" class=\"dataframe\"><thead><tr><th>Ref</th><th>sml</th><th>canon_sml</th><th>tauts_TautomerEnumerator</th><th>tauts_GetV1TautomerEnumerator</th><th>tauts_NIH</th></tr><tr><td>i64</td><td>str</td><td>str</td><td>list[str]</td><td>list[str]</td><td>list[str]</td></tr></thead><tbody><tr><td>73</td><td>&quot;O=[N+](C1=C(C2…</td><td>&quot;CSC1=NC(C)=C(C…</td><td>[&quot;CSC1=NC(c2ccccc2[N+](=O)[O-])C(C(=O)OC(C)C)C(C)=N1&quot;, &quot;CSC1=NC(c2ccccc2[N+](=O)[O-])C(C(=O)OC(C)C)=C(C)N1&quot;, … &quot;CSC1=NC(C)=C(C(=O)OC(C)C)C(c2ccccc2[N+](=O)[O-])N1&quot;]</td><td>[&quot;C=C1NC(SC)=NC(c2ccccc2[N+](=O)[O-])C1C(=O)OC(C)C&quot;, &quot;CSC1=NC(c2ccccc2[N+](=O)[O-])C(=C(O)OC(C)C)C(C)=N1&quot;, … &quot;C=C1N=C(SC)NC(c2ccccc2[N+](=O)[O-])C1C(=O)OC(C)C&quot;]</td><td>[&quot;C=C1NC(SC)=NC(c2ccccc2[N+](=O)[O-])C1C(=O)OC(C)C&quot;, &quot;CSC1=NC(C)=C(C(=O)OC(C)C)C(=C2C=CCC=C2[N+](=O)[O-])N1&quot;, … &quot;CSC1=NC(C)=C(C(=O)OC(C)C)C(=C2C=CC=CC2=[N+]([O-])O)N1&quot;]</td></tr><tr><td>457</td><td>&quot;O=C2C1=C(O[2H]…</td><td>&quot;[2H]Oc1ccc(-c2…</td><td>[&quot;[2H]O=C1CC=C(C2OC3=C([2H])C(=O[2H])C(OC)=C([OH][2H])C3C(=O)C2=O[2H])CC1=O[2H]&quot;, &quot;[2H]Oc1ccc(C2OC3=C(C(=O)C2=O[2H])C(=O[2H])C(OC)C([OH][2H])=C3[2H])cc1[OH][2H]&quot;, … &quot;[2H]O=C1C(OC)=C([OH][2H])C2=C(OC(c3ccc([OH][2H])c([OH][2H])c3)C(=O[2H])C2=O)C1[2H]&quot;]</td><td>[&quot;[2H]OC1=C(C2=CC(=O[2H])C(=O[2H])C=C2)OC2=C([2H])C(=O[2H])C(OC)C(O[2H])=C2C1O&quot;, &quot;[2H]OC1c2c(oc(C3=CC(=O[2H])C(=O[2H])C=C3)c([OH][2H])c2=O)C([2H])=C([OH][2H])C1OC&quot;, … &quot;[2H]OC1=CC(C2Oc3c([2H])c([OH][2H])c(OC)c([OH][2H])c3C(=O)C2=O[2H])C=CC1=O[2H]&quot;]</td><td>[&quot;[2H]OC1=CC(c2oc3c([2H])c(O[2H])c(OC)c(O[2H])c3c(=O)c2O[2H])=CC([2H])C1=O&quot;, &quot;[2H]Oc1ccc(C2([2H])Oc3c([2H])c(O[2H])c(OC)c(O[2H])c3C(=O)C2=O)cc1O[2H]&quot;, … &quot;[2H]Oc1c(OC)c(O[2H])c2c(=O)c(O[2H])c(C3=CC(=O)C([2H])(O[2H])C=C3)oc2c1[2H]&quot;]</td></tr><tr><td>467</td><td>&quot;O=C1C2=C(C=C(C…</td><td>&quot;O=c1c(O)c(-c2c…</td><td>[&quot;O=C1CC(=O)C2=C(C1)OC(C1=CC(=O)C(=O)C=C1)C(O)C2=O&quot;, &quot;O=C1CCC(=C2OC3=C(C(=O)CC(O)=C3)C(=O)C2=O)C=C1O&quot;, … &quot;O=C1C=CC(=C2OC3=CC(O)=CC(=O)C3C(O)=C2O)CC1=O&quot;]</td><td>[&quot;O=C1C=CC(C2OC3=CC(O)C=C(O)C3=C(O)C2=O)=CC1=O&quot;, &quot;O=C1CC(=O)C2=C(C1)OC(C1=CC(=O)C(=O)C=C1)C(O)C2=O&quot;, … &quot;O=C1C=CC(=C2OC3=CC(O)=CC(=O)C3C(O)=C2O)CC1=O&quot;]</td><td>[&quot;O=C1C(=O)C(C2=CC(O)C(=O)C=C2)Oc2cc(O)cc(O)c21&quot;, &quot;O=C1CC(O)=CC2=C1C(=O)C(=O)C(c1ccc(O)c(O)c1)O2&quot;, … &quot;O=C1C=C(c2oc3cc(O)cc(O)c3c(=O)c2O)C=CC1O&quot;]</td></tr><tr><td>888</td><td>&quot;O=C1C(C(O)=C2O…</td><td>&quot;COc1c(O)c2c(=O…</td><td>[&quot;COC1=c2c3c(OC)cc(O)c4c3c3c(c([C@H](C)O)c([C@H](C)O)c5c(OC)c(O)c(c2c53)C(=O)C1)C(OC)C4=O&quot;, &quot;COC1=c2c3c4c(c([C@H](C)O)c([C@H](C)O)c5c(OC)c(O)c6c(c2=C(OC)CC6=O)c54)=C(OC)C(=O)C3C(=O)C1&quot;, … &quot;COC1=CC(=O)C2C(=O)C(OC)=C3c4c2c1c1c(OC)cc(O)c2c(O)c(OC)c(c4c21)=C([C@H](C)O)C3[C@H](C)O&quot;]</td><td>[&quot;COc1c(O)c2c(=O)cc(OC)c3c4c(OC)cc(O)c5c(=O)c(OC)c6c(c(c1C([C@H](C)O)C6[C@H](C)O)c23)c54&quot;, &quot;COc1c(O)c2c(O)cc(OC)c3c4c(OC)cc(O)c5c(O)c(OC)c6c([C@H](C)O)c([C@H](C)O)c1c(c23)c6c54&quot;, … &quot;COC1=C2c3c4c(c(O)cc(OC)c4c4c(OC)cc(O)c5c(O)c(OC)c(c3c54)=C([C@H](C)O)C2[C@H](C)O)C1=O&quot;]</td><td>[&quot;COC1=CC(=O)C2C(=O)C(OC)=C3c4c2c1c1c(OC)cc(O)c2c1c4C(=C(OC)C2=O)[C@@H]([C@H](C)O)[C@@H]3[C@H](C)O&quot;, &quot;COC1=C2c3c4c(c5c(OC)cc(O)c6c(O)c(OC)c(c3c65)=C([C@H](C)O)[C@@H]2[C@H](C)O)=C(OC)CC(=O)C=4C1=O&quot;, … &quot;COc1c(O)c2c(=O)cc(OC)c3c4c(OC)cc(O)c5c(=O)c(OC)c6c(c(c1[C@@H]([C@H](C)O)[C@@H]6[C@H](C)O)c23)c54&quot;]</td></tr><tr><td>890</td><td>&quot;O=C(C=C1OC)C2=…</td><td>&quot;COc1c(O)c2c(=O…</td><td>[&quot;COC1=c2c3c(c4c5c(c(O)cc(OC)c25)C(=O)C(OC)C4=C[C@H](C)OC(O)=C2C=CC(=O)C=C2)C(=C[C@@H](C)OC(=O)c2ccccc2)C(OC)C(=O)C=3C(=O)C1&quot;, &quot;COC1=C(C[C@@H](C)OC(=O)c2ccccc2)c2c3c4c(c5c2=C(C(=O)CC=5OC)C1=O)=C(OC)CC(=O)C=4C(=O)C(OC)C3=C[C@H](C)OC(=O)C1C=CC(=O)C=C1&quot;, … &quot;COC1=CC(=O)c2c(O)c(OC)c(C[C@H](C)OC(=O)C3=CCC(=O)C=C3)c3c2c1c1c(OC)cc(O)c2c(O)c(OC)c(=C[C@@H](C)OC(=O)c4ccccc4)c3c21&quot;]</td><td>[&quot;COc1c(O)c2c(O)cc(OC)c3c4c(OC)cc(O)c5c(O)c(OC)c(=C[C@H](C)OC(=O)c6ccc(O)cc6)c(c(c1=C[C@@H](C)OC(=O)c1ccccc1)c23)c54&quot;, &quot;COc1c(C[C@@H](C)OC(=O)c2ccccc2)c2c3c(c1=O)C(=O)CC(OC)c3c1c(OC)cc(=O)c3c(O)c(OC)c(=C[C@H](C)OC(=O)c4ccc(O)cc4)c2c13&quot;, … &quot;COC1=CC(=O)c2c(O)c(OC)c(C[C@H](C)OC(=O)C3=CCC(=O)C=C3)c3c2c1c1c(OC)cc(O)c2c(O)c(OC)c(=C[C@@H](C)OC(=O)c4ccccc4)c3c21&quot;]</td><td>[&quot;COC1=CC(=O)C2C(=O)C(OC)=C(C[C@@H](C)OC(=O)c3ccccc3)c3c4c5c(c1c32)C(OC)=CC(=O)C5C(=O)C(OC)=C4C[C@H](C)OC(=O)c1ccc(O)cc1&quot;, &quot;COC1=c2c3c(c(=O)c(OC)c(C[C@@H](C)OC(=O)c4ccccc4)c3c3c(C[C@H](C)OC(=O)c4ccc(O)cc4)c(OC)c(O)c4c(=O)cc(OC)c2c43)C(=O)C1&quot;, … &quot;COC1=CC(=O)C2C(=O)C(OC)=C(C[C@@H](C)OC(=O)c3ccccc3)c3c2c1c1c2c(c(O)c(OC)c(C[C@H](C)OC(=O)C4=CCC(=O)C=C4)c32)C(=O)C=C1OC&quot;]</td></tr><tr><td>891</td><td>&quot;OC1([C@@H](C(C…</td><td>&quot;COc1c2c3c4c(c(…</td><td>[&quot;COC1=c2c3c4c5c6c(c(O)cc(OC)c26)C(=O)C(OC)C5=CC(C)(O)C(C(C)=O)=C4C(OC)C(=O)C=3C(=O)C1&quot;, &quot;C=C(O)C1=C2c3c4c5c(c6c(OC)cc(O)c(c36)C(=O)C2OC)C(OC)=CC(=O)C5=C(O)C(OC)C4=CC1(C)O&quot;, … &quot;C=C(O)C1=C2c3c4c(c5c(OC)cc(O)c6c(O)c(OC)c(c3c65)=CC1(C)O)C(OC)=CC(=O)C4C(=O)C2OC&quot;]</td><td>[&quot;C=C(O)C1=C2c3c4c(c5c6c3C(=C(OC)C(=O)C6C(=O)C=C5OC)CC1(C)O)C(OC)=CC(=O)C4=C(O)C2OC&quot;, &quot;C=C(O)C1=C2c3c4c5c(c6c(OC)cc(O)c(c36)C(=O)C2OC)C(OC)=CC(=O)C5=C(O)C(OC)C4=CC1(C)O&quot;, … &quot;C=C(O)C1=C2c3c4c(c5c(OC)cc(O)c6c(O)c(OC)c(c3c65)=CC1(C)O)C(OC)=CC(=O)C4C(=O)C2OC&quot;]</td><td>[&quot;COc1c2c3c4c(c(OC)c(=O)c5c(O)cc(OC)c(c6c(OC)cc(O)c(c1=O)c63)c54)C(=C(C)O)C(C)(O)C2&quot;, &quot;COC1=CC(=O)C2=C3C1=C1C(OC)=CC(O)=C4C(=O)C(OC)=C5C(=C3C(=C(OC)C2=O)CC(C)(O)[C@H]5C(C)=O)C41&quot;, … &quot;COC1=CC(=O)C2=C3C1=C1C(OC)=CC(O)=C4C(=O)C(OC)=C5CC(C)(O)[C@@H](C(C)=O)C(=C(OC)C2=O)C3=C5C41&quot;]</td></tr><tr><td>1512</td><td>&quot;[H]OC1=C(C=C(C…</td><td>&quot;CCP(CC)(=Nc1cc…</td><td>[&quot;CCP(CC)(=NC1=CC(C(c2ccccc2)(c2ccccc2)c2ccccc2)=CC(C(C)(C)C)C1=O)c1ccccc1&quot;, &quot;CCP(CC)(=Nc1cc(C(c2ccccc2)(c2ccccc2)c2ccccc2)cc(C(C)(C)C)c1O)c1ccccc1&quot;]</td><td>[&quot;CCP(CC)(=Nc1cc(C(c2ccccc2)(c2ccccc2)c2ccccc2)cc(C(C)(C)C)c1O)c1ccccc1&quot;]</td><td>[&quot;CCP(CC)(=NC1=CC(C(c2ccccc2)(c2ccccc2)c2ccccc2)=CC(C(C)(C)C)C1=O)c1ccccc1&quot;, &quot;CCP1(CC)(c2ccccc2)Nc2cc(C(c3ccccc3)(c3ccccc3)c3ccccc3)cc(C(C)(C)C)c2O1&quot;, … &quot;CC=P(CC)(NC1C=C(C(c2ccccc2)(c2ccccc2)c2ccccc2)C=C(C(C)(C)C)C1=O)c1ccccc1&quot;]</td></tr><tr><td>1688</td><td>&quot;O/N=C(C)/C(C)(…</td><td>&quot;C=C(/C=[N+](\\[…</td><td>[&quot;C=C(/C=[N+](\\[O-])C(C)(C)C(C)N=O)OCC&quot;, &quot;C=C(/C=[N+](\\[O-])C(C)(C)C(C)=NO)OCC&quot;]</td><td>[&quot;C=C(/C=[N+](\\[O-])C(C)(C)C(C)N=O)OCC&quot;, &quot;C=C(/C=[N+](\\[O-])C(C)(C)C(=C)NO)OCC&quot;, &quot;C=C(/C=[N+](\\[O-])C(C)(C)C(C)=NO)OCC&quot;]</td><td>[&quot;C=C(/C=[N+](\\[O-])C(C)(C)C(C)N=O)OCC&quot;, &quot;C=C(/C=[N+](\\[O-])C(C)(C)C(=C)NO)OCC&quot;, … &quot;C=C(/C=[N+](\\[O-])C(C)(C)C(C)=[NH+][O-])OCC&quot;]</td></tr><tr><td>1704</td><td>&quot;C=C1C(=CC(=CC1…</td><td>&quot;C=c1c(C=O)cc(C…</td><td>[&quot;C=c1c(C=O)cc(C)cc1=CO&quot;, &quot;C=C1C(C=O)=CC(C)=CC1C=O&quot;]</td><td>[&quot;C=c1c(C=O)cc(C)cc1=CO&quot;]</td><td>[&quot;Cc1cc(C=O)c(C)c(C=O)c1&quot;, &quot;C=C1C(C=O)=CC(C)=CC1C=O&quot;, &quot;C=C1C(C=O)=CC(C)C=C1C=O&quot;]</td></tr></tbody></table></div>"
      ],
      "text/plain": [
       "shape: (9, 6)\n",
       "┌──────┬──────────────────┬──────────────────┬─────────────────┬─────────────────┬─────────────────┐\n",
       "│ Ref  ┆ sml              ┆ canon_sml        ┆ tauts_TautomerE ┆ tauts_GetV1Taut ┆ tauts_NIH       │\n",
       "│ ---  ┆ ---              ┆ ---              ┆ numerator       ┆ omerEnumerator  ┆ ---             │\n",
       "│ i64  ┆ str              ┆ str              ┆ ---             ┆ ---             ┆ list[str]       │\n",
       "│      ┆                  ┆                  ┆ list[str]       ┆ list[str]       ┆                 │\n",
       "╞══════╪══════════════════╪══════════════════╪═════════════════╪═════════════════╪═════════════════╡\n",
       "│ 73   ┆ O=[N+](C1=C(C2NC ┆ CSC1=NC(C)=C(C(= ┆ [\"CSC1=NC(c2ccc ┆ [\"C=C1NC(SC)=NC ┆ [\"C=C1NC(SC)=NC │\n",
       "│      ┆ (SC)=NC(C)=C2C(O ┆ O)OC(C)C)C(c2ccc ┆ cc2[N+](=O)[O-] ┆ (c2ccccc2[N+](= ┆ (c2ccccc2[N+](= │\n",
       "│      ┆ …                ┆ …                ┆ )C…             ┆ O)…             ┆ O)…             │\n",
       "│ 457  ┆ O=C2C1=C(O[2H])C ┆ [2H]Oc1ccc(-c2oc ┆ [\"[2H]O=C1CC=C( ┆ [\"[2H]OC1=C(C2= ┆ [\"[2H]OC1=CC(c2 │\n",
       "│      ┆ (OC)=C(O[2H])C([ ┆ 3c([2H])c(O[2H]) ┆ C2OC3=C([2H])C( ┆ CC(=O[2H])C(=O[ ┆ oc3c([2H])c(O[2 │\n",
       "│      ┆ …                ┆ …                ┆ =O…             ┆ 2H…             ┆ H]…             │\n",
       "│ 467  ┆ O=C1C2=C(C=C(C=C ┆ O=c1c(O)c(-c2ccc ┆ [\"O=C1CC(=O)C2= ┆ [\"O=C1C=CC(C2OC ┆ [\"O=C1C(=O)C(C2 │\n",
       "│      ┆ 2OC(C3=CC=C(O)C( ┆ (O)c(O)c2)oc2cc( ┆ C(C1)OC(C1=CC(= ┆ 3=CC(O)C=C(O)C3 ┆ =CC(O)C(=O)C=C2 │\n",
       "│      ┆ …                ┆ …                ┆ O)…             ┆ =C…             ┆ )O…             │\n",
       "│ 888  ┆ O=C1C(C(O)=C2OC) ┆ COc1c(O)c2c(=O)c ┆ [\"COC1=c2c3c(OC ┆ [\"COc1c(O)c2c(= ┆ [\"COC1=CC(=O)C2 │\n",
       "│      ┆ =C3C(C(OC)=C1)=C ┆ c(OC)c3c4c(OC)cc ┆ )cc(O)c4c3c3c(c ┆ O)cc(OC)c3c4c(O ┆ C(=O)C(OC)=C3c4 │\n",
       "│      ┆ …                ┆ …                ┆ ([…             ┆ C)…             ┆ c2…             │\n",
       "│ 890  ┆ O=C(C=C1OC)C2=C( ┆ COc1c(O)c2c(=O)c ┆ [\"COC1=c2c3c(c4 ┆ [\"COc1c(O)c2c(O ┆ [\"COC1=CC(=O)C2 │\n",
       "│      ┆ C1=C3C(OC)=CC4=O ┆ c(OC)c3c4c(OC)cc ┆ c5c(c(O)cc(OC)c ┆ )cc(OC)c3c4c(OC ┆ C(=O)C(OC)=C(C[ │\n",
       "│      ┆ …                ┆ …                ┆ 25…             ┆ )c…             ┆ C@…             │\n",
       "│ 891  ┆ OC1([C@@H](C(C)= ┆ COc1c2c3c4c(c(OC ┆ [\"COC1=c2c3c4c5 ┆ [\"C=C(O)C1=C2c3 ┆ [\"COc1c2c3c4c(c │\n",
       "│      ┆ O)C(C(C2=C3C(O)= ┆ )c(=O)c5c(O)cc(O ┆ c6c(c(O)cc(OC)c ┆ c4c(c5c6c3C(=C( ┆ (OC)c(=O)c5c(O) │\n",
       "│      ┆ …                ┆ …                ┆ 26…             ┆ OC…             ┆ cc…             │\n",
       "│ 1512 ┆ [H]OC1=C(C=C(C(C ┆ CCP(CC)(=Nc1cc(C ┆ [\"CCP(CC)(=NC1= ┆ [\"CCP(CC)(=Nc1c ┆ [\"CCP(CC)(=NC1= │\n",
       "│      ┆ 2=CC=CC=C2)(C3=C ┆ (c2ccccc2)(c2ccc ┆ CC(C(c2ccccc2)( ┆ c(C(c2ccccc2)(c ┆ CC(C(c2ccccc2)( │\n",
       "│      ┆ …                ┆ …                ┆ c2…             ┆ 2c…             ┆ c2…             │\n",
       "│ 1688 ┆ O/N=C(C)/C(C)(C) ┆ C=C(/C=[N+](\\[O- ┆ [\"C=C(/C=[N+](\\ ┆ [\"C=C(/C=[N+](\\ ┆ [\"C=C(/C=[N+](\\ │\n",
       "│      ┆ /[N+]([O-])=C/C( ┆ ])C(C)(C)/C(C)=N ┆ [O-])C(C)(C)C(C ┆ [O-])C(C)(C)C(C ┆ [O-])C(C)(C)C(C │\n",
       "│      ┆ …                ┆ …                ┆ )N…             ┆ )N…             ┆ )N…             │\n",
       "│ 1704 ┆ C=C1C(=CC(=CC1=C ┆ C=c1c(C=O)cc(C)c ┆ [\"C=c1c(C=O)cc( ┆ [\"C=c1c(C=O)cc( ┆ [\"Cc1cc(C=O)c(C │\n",
       "│      ┆ O)C)C=O          ┆ c1=CO            ┆ C)cc1=CO\",      ┆ C)cc1=CO\"]      ┆ )c(C=O)c1\",     │\n",
       "│      ┆                  ┆                  ┆ \"C=C1C…         ┆                 ┆ \"C=C1…          │\n",
       "└──────┴──────────────────┴──────────────────┴─────────────────┴─────────────────┴─────────────────┘"
      ]
     },
     "execution_count": 43,
     "metadata": {},
     "output_type": "execute_result"
    }
   ],
   "source": [
    "df_melted.filter(pl.col(\"tauts_NIH\").is_not_null()).unique(subset=\"Ref\").sort(\"Ref\")"
   ]
  },
  {
   "cell_type": "markdown",
   "metadata": {},
   "source": [
    "Now let's merge the several rows for each Ref by putting the tautomers into lists."
   ]
  },
  {
   "cell_type": "code",
   "execution_count": 44,
   "metadata": {},
   "outputs": [
    {
     "data": {
      "text/html": [
       "<div><style>\n",
       ".dataframe > thead > tr,\n",
       ".dataframe > tbody > tr {\n",
       "  text-align: right;\n",
       "  white-space: pre-wrap;\n",
       "}\n",
       "</style>\n",
       "<small>shape: (3, 5)</small><table border=\"1\" class=\"dataframe\"><thead><tr><th>Ref</th><th>canon_sml</th><th>tauts_TautomerEnumerator</th><th>tauts_GetV1TautomerEnumerator</th><th>tauts_NIH</th></tr><tr><td>i64</td><td>list[str]</td><td>list[str]</td><td>list[str]</td><td>list[str]</td></tr></thead><tbody><tr><td>73</td><td>[&quot;CSC1=NC(C)=C(C(=O)OC(C)C)C(c2ccccc2[N+](=O)[O-])N1&quot;, &quot;CSC1=NC(c2ccccc2[N+](=O)[O-])C(C(=O)OC(C)C)=C(C)N1&quot;]</td><td>[&quot;CSC1=NC(C)=C(C(=O)OC(C)C)C(c2ccccc2[N+](=O)[O-])N1&quot;, &quot;CSC1=NC(c2ccccc2[N+](=O)[O-])C(C(=O)OC(C)C)=C(C)N1&quot;, … &quot;CSC1=NC(c2ccccc2[N+](=O)[O-])C(C(=O)OC(C)C)C(C)=N1&quot;]</td><td>[&quot;C=C1NC(SC)=NC(c2ccccc2[N+](=O)[O-])C1C(=O)OC(C)C&quot;, &quot;C=C1NC(SC)=NC(c2ccccc2[N+](=O)[O-])C1=C(O)OC(C)C&quot;, … &quot;C=C1N=C(SC)NC(c2ccccc2[N+](=O)[O-])C1C(=O)OC(C)C&quot;]</td><td>[&quot;CSC1=NC(c2ccccc2[N+](=O)[O-])C(C(=O)OC(C)C)C(C)=N1&quot;, &quot;CSC1=NC(c2ccccc2[N+](=O)[O-])C(=C(O)OC(C)C)C(C)=N1&quot;, … &quot;CSC1=NC(C)=C(C(=O)OC(C)C)C(=C2C=CCC=C2[N+](=O)[O-])N1&quot;]</td></tr><tr><td>888</td><td>[&quot;COc1c(O)c2c(=O)cc(OC)c3c4c(OC)cc(=O)c5c(O)c(OC)c6c(c(c1[C@@H]([C@H](C)O)[C@@H]6[C@H](C)O)c23)c54&quot;, &quot;COc1c2c3c4c(c(OC)c(=O)c5c(O)cc(OC)c(c6c(OC)cc(O)c(c1=O)c63)c54)[C@@H]([C@H](C)O)[C@@H]2[C@H](C)O&quot;]</td><td>[&quot;COC1=CC(=O)C2C(O)=C(OC)C3=C([C@H](C)O)C([C@H](C)O)C4=c5c3c2c1c1c5=C(C(=O)C=C1OC)C(=O)C4OC&quot;, &quot;COC1=c2c3c4c(c([C@H](C)O)c([C@H](C)O)c5c(OC)c(O)c6c(O)cc(OC)c2c6c54)C(OC)C(=O)C=3C(=O)C1&quot;, … &quot;COC1=CC(=O)C2C(=O)C(OC)=C3c4c5c6c(c1c42)C(OC)=CC(=O)C6C(=O)C(OC)C5=C([C@H](C)O)C3[C@H](C)O&quot;]</td><td>[&quot;C=C(O)c1c2c3c4c(c5c6c3c(c1=C(C)O)C(OC)C(=O)C=6C(=O)CC5OC)C(OC)C=C(O)C4C(O)=C2OC&quot;, &quot;COC1=c2c(C(C)O)c(C(C)=O)c3c4c5c(c6c(c24)C(=C(O)CC6OC)C1=O)C(OC)CC(=O)C5C(=O)C=3OC&quot;, … &quot;C=C(O)c1c(C(C)O)c2c(OC)c(O)c3c4c(c5c6c(c1C(OC)C(=O)C=6C(O)=CC5OC)c24)C(OC)C=C3O&quot;]</td><td>[&quot;COC1=CC(=O)C2C(=O)C(OC)=C3c4c2c1c1c(OC)cc(O)c2c1c4C(=C(OC)C2=O)[C@@H]([C@H](C)O)[C@@H]3[C@H](C)O&quot;, &quot;COc1c2c3c4c(c(OC)c(=O)c5c(O)cc(OC)c(c6c(OC)cc(O)c(c1=O)c63)c54)[C@@H]([C@H](C)O)[C@@H]2[C@H](C)O&quot;, … &quot;COC1=CC(=O)C2=C3C1=C1C(OC)=CC(O)=C4C(=O)C(OC)=C5C(=C3C(=C(OC)C2=O)[C@@H]([C@H](C)O)[C@@H]5[C@H](C)O)C41&quot;]</td></tr><tr><td>1704</td><td>[&quot;C=c1c(C=O)cc(C)cc1=CO&quot;, &quot;Cc1cc(C=O)c(C)c(C=O)c1&quot;]</td><td>[&quot;Cc1cc(C=O)c(C)c(C=O)c1&quot;, &quot;C=c1c(C=O)cc(C)cc1=CO&quot;, &quot;C=C1C(C=O)=CC(C)=CC1C=O&quot;]</td><td>[&quot;Cc1cc(C=O)c(C)c(C=O)c1&quot;, &quot;C=c1c(C=O)cc(C)cc1=CO&quot;]</td><td>[&quot;C=C1C(C=O)=CC(C)C=C1C=O&quot;, &quot;C=c1c(C=O)cc(C)cc1=CO&quot;, … &quot;Cc1cc(C=O)c(C)c(C=O)c1&quot;]</td></tr></tbody></table></div>"
      ],
      "text/plain": [
       "shape: (3, 5)\n",
       "┌──────┬──────────────────────┬──────────────────────┬──────────────────────┬──────────────────────┐\n",
       "│ Ref  ┆ canon_sml            ┆ tauts_TautomerEnumer ┆ tauts_GetV1TautomerE ┆ tauts_NIH            │\n",
       "│ ---  ┆ ---                  ┆ ator                 ┆ numerator            ┆ ---                  │\n",
       "│ i64  ┆ list[str]            ┆ ---                  ┆ ---                  ┆ list[str]            │\n",
       "│      ┆                      ┆ list[str]            ┆ list[str]            ┆                      │\n",
       "╞══════╪══════════════════════╪══════════════════════╪══════════════════════╪══════════════════════╡\n",
       "│ 73   ┆ [\"CSC1=NC(C)=C(C(=O) ┆ [\"CSC1=NC(C)=C(C(=O) ┆ [\"C=C1NC(SC)=NC(c2cc ┆ [\"CSC1=NC(c2ccccc2[N │\n",
       "│      ┆ OC(C)C)C(c2c…        ┆ OC(C)C)C(c2c…        ┆ ccc2[N+](=O)…        ┆ +](=O)[O-])C…        │\n",
       "│ 888  ┆ [\"COc1c(O)c2c(=O)cc( ┆ [\"COC1=CC(=O)C2C(O)= ┆ [\"C=C(O)c1c2c3c4c(c5 ┆ [\"COC1=CC(=O)C2C(=O) │\n",
       "│      ┆ OC)c3c4c(OC)…        ┆ C(OC)C3=C([C…        ┆ c6c3c(c1=C(C…        ┆ C(OC)=C3c4c2…        │\n",
       "│ 1704 ┆ [\"C=c1c(C=O)cc(C)cc1 ┆ [\"Cc1cc(C=O)c(C)c(C= ┆ [\"Cc1cc(C=O)c(C)c(C= ┆ [\"C=C1C(C=O)=CC(C)C= │\n",
       "│      ┆ =CO\", \"Cc1cc…        ┆ O)c1\", \"C=c1…        ┆ O)c1\", \"C=c1…        ┆ C1C=O\", \"C=c…        │\n",
       "└──────┴──────────────────────┴──────────────────────┴──────────────────────┴──────────────────────┘"
      ]
     },
     "execution_count": 44,
     "metadata": {},
     "output_type": "execute_result"
    }
   ],
   "source": [
    "df_melted_aggregated = (\n",
    "    # Aggregate by combining multiple lists into a single flat list\n",
    "    df_melted.group_by('Ref')\n",
    "    .agg([\"canon_sml\", cs.starts_with(\"tauts_\").explode()])\n",
    "# Keep the unique elements in each list; that is, remove duplicates\n",
    ").with_columns(cs.starts_with(\"tauts_\").list.unique())\n",
    "df_melted_aggregated.filter(pl.col(\"Ref\").is_in([73, 888, 1704])).sort(\"Ref\")"
   ]
  },
  {
   "cell_type": "markdown",
   "metadata": {},
   "source": [
    "### CACTVS"
   ]
  },
  {
   "cell_type": "markdown",
   "metadata": {},
   "source": [
    "The CACTVS results provided by Marc Nicklaus are in [SDF (structure-data format)](https://en.wikipedia.org/wiki/Chemical_table_file#SDF), so this function extracts the Ref and number (1 or 2, used to identify different experimentally-observed structures)."
   ]
  },
  {
   "cell_type": "code",
   "execution_count": 45,
   "metadata": {},
   "outputs": [],
   "source": [
    "def extract_ref(\n",
    "    e_name: str,\n",
    "):\n",
    "    \"\"\"Extract the reference number from an E_NAME entry in an SDF file, for example\n",
    "    > <E_NAME>\n",
    "    Ref_0890_01_1\n",
    "    has e_name of\n",
    "    Ref_0890_01_1\n",
    "    which returns\n",
    "    890\n",
    "\n",
    "    :param e_name: The E_NAME property, for example \"Ref_0890_01_1\"\n",
    "    \"\"\"\n",
    "    parts = e_name.split(\"_\")\n",
    "    ref_str = parts[1]\n",
    "    try:\n",
    "        ref = int(ref_str)\n",
    "    except:\n",
    "        ref = None\n",
    "    return ref"
   ]
  },
  {
   "cell_type": "markdown",
   "metadata": {},
   "source": [
    "This code actually reads the SDF files into lists."
   ]
  },
  {
   "cell_type": "code",
   "execution_count": 46,
   "metadata": {},
   "outputs": [],
   "source": [
    "files = ['Refs', 'Ref_0467_expanded17', 'Ref_0890_different_expanded14c', 'Ref_0891_expanded17']\n",
    "\n",
    "refs_cactvs = []\n",
    "nums_cactvs = []\n",
    "tauts_cactvs = []\n",
    "\n",
    "for file in files:\n",
    "    # Iterate through the molecules in the SDF file\n",
    "    cactvs = Chem.SDMolSupplier(f'../data/{file}.sdf')\n",
    "    last_num = None\n",
    "    for mol in cactvs:\n",
    "        if mol is not None:\n",
    "            ref = extract_ref(mol.GetProp(\"E_NAME\"))\n",
    "            sml = mol.GetProp(\"E_SMILES\")\n",
    "            refs_cactvs.append(ref)\n",
    "            tauts_cactvs.append(sml)"
   ]
  },
  {
   "cell_type": "markdown",
   "metadata": {},
   "source": [
    "We then put those lists into another Polars dataframe."
   ]
  },
  {
   "cell_type": "code",
   "execution_count": 47,
   "metadata": {},
   "outputs": [],
   "source": [
    "df_cactvs = pl.DataFrame({\"Ref\": refs_cactvs, \"tauts_CACTVS\": tauts_cactvs})"
   ]
  },
  {
   "cell_type": "markdown",
   "metadata": {},
   "source": [
    "To inspect the results and check which Refs are included, let's display one tautomer for each Ref."
   ]
  },
  {
   "cell_type": "code",
   "execution_count": 48,
   "metadata": {},
   "outputs": [
    {
     "data": {
      "text/html": [
       "<div><style>\n",
       ".dataframe > thead > tr,\n",
       ".dataframe > tbody > tr {\n",
       "  text-align: right;\n",
       "  white-space: pre-wrap;\n",
       "}\n",
       "</style>\n",
       "<small>shape: (5, 2)</small><table border=\"1\" class=\"dataframe\"><thead><tr><th>Ref</th><th>tauts_CACTVS</th></tr><tr><td>i64</td><td>str</td></tr></thead><tbody><tr><td>467</td><td>&quot;O=c1cc(O)cc2oc…</td></tr><tr><td>890</td><td>&quot;COC2C(O)C4C(=O…</td></tr><tr><td>891</td><td>&quot;COc1c(O)c2c(=O…</td></tr><tr><td>1512</td><td>&quot;CC[P]6(CC)(C1=…</td></tr><tr><td>1704</td><td>&quot;CC1=CC(=C(C(=C…</td></tr></tbody></table></div>"
      ],
      "text/plain": [
       "shape: (5, 2)\n",
       "┌──────┬───────────────────────────────────┐\n",
       "│ Ref  ┆ tauts_CACTVS                      │\n",
       "│ ---  ┆ ---                               │\n",
       "│ i64  ┆ str                               │\n",
       "╞══════╪═══════════════════════════════════╡\n",
       "│ 467  ┆ O=c1cc(O)cc2oc(-c3ccc(O)c(O)c3)c… │\n",
       "│ 890  ┆ COC2C(O)C4C(=O)CC(OC)C5C6C(OC)CC… │\n",
       "│ 891  ┆ COc1c(O)c2c(=O)cc(OC)c3c4c(OC)cc… │\n",
       "│ 1512 ┆ CC[P]6(CC)(C1=CC=CC=C1)NC2=C(C(=… │\n",
       "│ 1704 ┆ CC1=CC(=C(C(=C1)C=O)C)C=O         │\n",
       "└──────┴───────────────────────────────────┘"
      ]
     },
     "execution_count": 48,
     "metadata": {},
     "output_type": "execute_result"
    }
   ],
   "source": [
    "df_cactvs.unique(subset=[\"Ref\"]).sort(\"Ref\")"
   ]
  },
  {
   "cell_type": "markdown",
   "metadata": {},
   "source": [
    "Now we can merge in the CACTVS tautomers by joining two dataframes."
   ]
  },
  {
   "cell_type": "code",
   "execution_count": 49,
   "metadata": {},
   "outputs": [
    {
     "data": {
      "text/html": [
       "<div><style>\n",
       ".dataframe > thead > tr,\n",
       ".dataframe > tbody > tr {\n",
       "  text-align: right;\n",
       "  white-space: pre-wrap;\n",
       "}\n",
       "</style>\n",
       "<small>shape: (2, 6)</small><table border=\"1\" class=\"dataframe\"><thead><tr><th>Ref</th><th>canon_sml</th><th>tauts_TautomerEnumerator</th><th>tauts_GetV1TautomerEnumerator</th><th>tauts_NIH</th><th>tauts_CACTVS</th></tr><tr><td>i64</td><td>list[str]</td><td>list[str]</td><td>list[str]</td><td>list[str]</td><td>list[str]</td></tr></thead><tbody><tr><td>891</td><td>[&quot;COc1c2c3c4c(c(OC)c(=O)c5c(O)cc(OC)c(c6c(OC)cc(O)c(c1=O)c63)c54)[C@H](C(C)=O)C(C)(O)C2&quot;, &quot;COc1c(O)c2c(=O)cc(OC)c3c4c(OC)cc(=O)c5c(O)c(OC)c6c(c(c1CC(C)(O)[C@H]6C(C)=O)c23)c54&quot;]</td><td>[&quot;COC1=CC(=O)c2c(O)c(OC)c3c4c2c1c1c2c(c(O)c(OC)c(c24)=CC(C)(O)C3C(C)=O)C(=O)CC=1OC&quot;, &quot;C=C(O)C1c2c(OC)c(O)c3c4c(c5c(OC)cc(O)c6c5c(c24)C(=CC1(C)O)C(OC)C6=O)C(OC)=CC3=O&quot;, … &quot;COC1=CC(=O)C2=C(O)C(OC)C3=C(C(C)=O)C(C)(O)C=c4c(OC)c(O)c5c(O)cc(OC)c6c1c2c3c4c56&quot;]</td><td>[&quot;COc1c(O)c2c(O)cc(OC)c3c4c(OC)cc(O)c5c4c4c(c1=CC(C)(O)C(C(C)=O)=C4C(OC)C5=O)c23&quot;, &quot;COC1=CC(=O)C2C(=O)C(OC)=C3CC(C)(O)C(C(C)=O)C4=c5c3c2c1c1c5=C(C(=O)C=C1OC)C(=O)C4OC&quot;, … &quot;C=C(O)C1c2c(OC)c(=O)c3c(=O)cc(OC)c4c5c6c(c2c4=3)C(CC1(C)O)C(OC)=C(O)C=6C(=O)C=C5OC&quot;]</td><td>[&quot;C=C(O)[C@H]1c2c(OC)c(O)c3c(=O)cc(OC)c4c5c(OC)cc(=O)c6c(O)c(OC)c(c(c2c34)c65)CC1(C)O&quot;, &quot;COC1=CC(=O)C2=C3C1=C1C(OC)=CC(=O)C4=C(O)C(OC)=C5CC(C)(O)[C@@H](C(C)=O)C(=C(OC)C2=O)C3=C5C41&quot;, … &quot;COc1c2c3c4c(c(OC)c(=O)c5c(O)cc(OC)c(c6c(OC)cc(O)c(c1=O)c63)c54)C(=C(C)O)C(C)(O)C2&quot;]</td><td>[&quot;COc1c(O)c2c(=O)cc(OC)c3c4c(OC)cc(=O)c5c(O)c(OC)c6c(c(c1CC(C)(O)[C@H]6C(C)=O)c23)c54&quot;, &quot;COC6=C1C4=C2C(=C(C(C1)(C)O)C(C)=O)C(=C(C3=C(C=C(C(=C23)C5=C4C(=C(O)C=C5OC)C6=O)OC)O)O)OC&quot;, … &quot;COC4=C6C2=C1C(C(OC)C(=O)C5=C1C(=C3C(=CC(=O)C(=C23)C4=O)OC)C(=CC5=O)OC)C(=C(C)O)C(C)(O)C6&quot;]</td></tr><tr><td>890</td><td>[&quot;COc1c(O)c2c(=O)cc(OC)c3c4c(OC)cc(=O)c5c(O)c(OC)c(C[C@H](C)OC(=O)c6ccc(O)cc6)c(c(c1C[C@@H](C)OC(=O)c1ccccc1)c23)c54&quot;, &quot;COc1c(C[C@@H](C)OC(=O)c2ccccc2)c2c3c(C[C@H](C)OC(=O)c4ccc(O)cc4)c(OC)c(=O)c4c(O)cc(OC)c(c5c(OC)cc(O)c(c1=O)c52)c43&quot;]</td><td>[&quot;COc1c(O)c2c(=O)cc(OC)c3c4c(OC)cc(O)c5c(=O)c(OC)c(C[C@H](C)OC(=O)C6C=CC(=O)C=C6)c(c(c1C[C@@H](C)OC(=O)c1ccccc1)c23)c54&quot;, &quot;COC1=CC(=O)C2C(O)=C(OC)C(=C[C@H](C)OC(=O)C3C=CC(=O)C=C3)c3c2c1c1c2c3C(C[C@@H](C)OC(=O)c3ccccc3)=C(OC)C(=O)C=2C(=O)CC=1OC&quot;, … &quot;COC1=CC(=O)C2C(=O)C(OC)C(=C[C@@H](C)OC(=O)c3ccccc3)c3c2c1c1c2c3C(C[C@H](C)OC(=O)C3=CCC(=O)C=C3)=C(OC)C(=O)C=2C(=O)CC=1OC&quot;]</td><td>[&quot;COC1=CC(=O)C2=c3c1c1c4c(c3=C(C[C@@H](C)OC(=O)c3ccccc3)C(OC)C2=O)=C(C[C@H](C)OC(O)=C2C=CC(=O)C=C2)C(OC)C(=O)C=4C(=O)C=C1OC&quot;, &quot;COC1=CC(=O)C2C(O)=C(OC)C(=C[C@@H](C)OC(=O)c3ccccc3)c3c2c1c1c(OC)cc(O)c2c1c3C(C[C@H](C)OC(=O)C1C=CC(=O)C=C1)=C(OC)C2=O&quot;, … &quot;COC1=CC(=O)C2=c3c1c1c4c(c3C(=C[C@@H](C)OC(=O)c3ccccc3)C(OC)C2=O)C(C[C@H](C)OC(=O)c2ccc(O)cc2)C(OC)C(=O)C=4C(=O)C=C1OC&quot;]</td><td>[&quot;COC1=CC(=O)c2c(O)c(OC)c(C[C@@H](C)OC(=O)c3ccccc3)c3c2c1c1c(OC)cc(O)c2c(O)c(OC)c(=C[C@H](C)OC(=O)c4ccc(O)cc4)c3c21&quot;, &quot;COc1c(O)c2c(=O)cc(OC)c3c4c(OC)cc(O)c5c(=O)c(OC)c(C[C@H](C)OC(=O)c6ccc(O)cc6)c(c(c1C[C@@H](C)OC(=O)c1ccccc1)c23)c54&quot;, … &quot;COc1c(O)c2c(=O)cc(OC)c3c4c(OC)cc(=O)c5c(O)c(OC)c(C[C@H](C)OC(=O)c6ccc(O)cc6)c(c(c1C[C@@H](C)OC(=O)c1ccccc1)c23)c54&quot;]</td><td>[&quot;COC2C(O)C4C(=O)CC(OC)C5C6C(OC)CC(=O)C7C(O)C(OC)C(C[C@H](C)OC(=O)C1CCC(O)CC1)C(C(C2C[C@@H](C)OC(=O)C3CCCCC3)C45)C67&quot;, &quot;COC2C(O)C4C(=O)CC(OC)C5C6C(OC)CC(=C7C(O)C(OC)C(C[C@H](C)OC(=O)C1CCC(O)CC1)C(C(C2C[C@@H](C)OC(=O)C3CCCCC3)C45)C67)O&quot;, … &quot;COC4=C(C3=C1C(=C(C(=C2C(C=C(C(=C12)C5=C3C(=C4O)C(=O)C=C5OC)OC)=O)O)OC)C[C@H](C)OC(=O)C6=CC=C(C=C6)O)C[C@@H](C)OC(=O)C7=CC=CC=C7&quot;]</td></tr></tbody></table></div>"
      ],
      "text/plain": [
       "shape: (2, 6)\n",
       "┌─────┬──────────────────┬──────────────────┬──────────────────┬─────────────────┬─────────────────┐\n",
       "│ Ref ┆ canon_sml        ┆ tauts_TautomerEn ┆ tauts_GetV1Tauto ┆ tauts_NIH       ┆ tauts_CACTVS    │\n",
       "│ --- ┆ ---              ┆ umerator         ┆ merEnumerator    ┆ ---             ┆ ---             │\n",
       "│ i64 ┆ list[str]        ┆ ---              ┆ ---              ┆ list[str]       ┆ list[str]       │\n",
       "│     ┆                  ┆ list[str]        ┆ list[str]        ┆                 ┆                 │\n",
       "╞═════╪══════════════════╪══════════════════╪══════════════════╪═════════════════╪═════════════════╡\n",
       "│ 891 ┆ [\"COc1c2c3c4c(c( ┆ [\"COC1=CC(=O)c2c ┆ [\"COc1c(O)c2c(O) ┆ [\"C=C(O)[C@H]1c ┆ [\"COc1c(O)c2c(= │\n",
       "│     ┆ OC)c(=O)c5c(O)cc ┆ (O)c(OC)c3c4c2c1 ┆ cc(OC)c3c4c(OC)c ┆ 2c(OC)c(O)c3c(= ┆ O)cc(OC)c3c4c(O │\n",
       "│     ┆ …                ┆ …                ┆ …                ┆ O)…             ┆ C)…             │\n",
       "│ 890 ┆ [\"COc1c(O)c2c(=O ┆ [\"COc1c(O)c2c(=O ┆ [\"COC1=CC(=O)C2= ┆ [\"COC1=CC(=O)c2 ┆ [\"COC2C(O)C4C(= │\n",
       "│     ┆ )cc(OC)c3c4c(OC) ┆ )cc(OC)c3c4c(OC) ┆ c3c1c1c4c(c3=C(C ┆ c(O)c(OC)c(C[C@ ┆ O)CC(OC)C5C6C(O │\n",
       "│     ┆ …                ┆ …                ┆ …                ┆ @H…             ┆ C)…             │\n",
       "└─────┴──────────────────┴──────────────────┴──────────────────┴─────────────────┴─────────────────┘"
      ]
     },
     "execution_count": 49,
     "metadata": {},
     "output_type": "execute_result"
    }
   ],
   "source": [
    "# Ensure no CACTVS columns already exist--if one does, it can cause additional column _right to be created\n",
    "df_melted_aggregated = df_melted_aggregated.drop(cs.contains(\"CACTVS\"))\n",
    "\n",
    "# Merge in CACTVS tauts by left-joining on Ref, then aggregate tautCACTVS into a list\n",
    "df_melted_aggregated = df_melted_aggregated.join(df_cactvs, on=\"Ref\", how=\"left\").group_by('Ref').agg(pl.exclude(\"tauts_CACTVS\").first(), 'tauts_CACTVS')\n",
    "df_melted_aggregated.filter(pl.col(\"Ref\").is_in([890, 891]))"
   ]
  },
  {
   "cell_type": "markdown",
   "metadata": {},
   "source": [
    "### Data cleanup"
   ]
  },
  {
   "cell_type": "markdown",
   "metadata": {},
   "source": [
    "Because we have tautomers for NIH and CACTVS for only certain Refs, we need to remove None entries in lists so that, for example, `[None None]` won't be counted as two tautomers; it will be replaced with `[]` which will be counted as zero tautomers, indicating that we didn't obtain tautomers for that Ref."
   ]
  },
  {
   "cell_type": "code",
   "execution_count": 50,
   "metadata": {},
   "outputs": [],
   "source": [
    "# Remove None (null) values in tauts_NIH and tauts_CACTVS lists\n",
    "for source in [\"NIH\", \"CACTVS\"]:\n",
    "    tauts_source = df_melted_aggregated[f\"tauts_{source}\"].to_list()\n",
    "    tauts_source_no_nulls = []\n",
    "    for tauts_list in tauts_source:\n",
    "        tauts_list_no_nulls = []\n",
    "        for taut in tauts_list:\n",
    "            if taut != None:\n",
    "                tauts_list_no_nulls.append(taut)\n",
    "        tauts_source_no_nulls.append(tauts_list_no_nulls)\n",
    "\n",
    "    tauts_source_no_nulls_series = pl.Series(tauts_source_no_nulls)\n",
    "    df_melted_aggregated = df_melted_aggregated.with_columns(tauts_source_no_nulls_series.alias(f\"tauts_{source}\"))"
   ]
  },
  {
   "cell_type": "markdown",
   "metadata": {},
   "source": [
    "We can tell that worked because we have some `[]` entries in tauts_CACTVS and tauts_NIH."
   ]
  },
  {
   "cell_type": "code",
   "execution_count": 51,
   "metadata": {},
   "outputs": [
    {
     "data": {
      "text/html": [
       "<div><style>\n",
       ".dataframe > thead > tr,\n",
       ".dataframe > tbody > tr {\n",
       "  text-align: right;\n",
       "  white-space: pre-wrap;\n",
       "}\n",
       "</style>\n",
       "<small>shape: (3, 6)</small><table border=\"1\" class=\"dataframe\"><thead><tr><th>Ref</th><th>canon_sml</th><th>tauts_TautomerEnumerator</th><th>tauts_GetV1TautomerEnumerator</th><th>tauts_NIH</th><th>tauts_CACTVS</th></tr><tr><td>i64</td><td>list[str]</td><td>list[str]</td><td>list[str]</td><td>list[str]</td><td>list[str]</td></tr></thead><tbody><tr><td>1474</td><td>[&quot;CC(C)=NN(C)CC(C)O&quot;, &quot;CC1CN(C)NC(C)(C)O1&quot;]</td><td>[&quot;CC(C)=NN(C)CC(C)O&quot;, &quot;CC1CN(C)NC(C)(C)O1&quot;]</td><td>[&quot;C=C(C)NN(C)CC(C)O&quot;, &quot;CC1CN(C)NC(C)(C)O1&quot;, &quot;CC(C)=NN(C)CC(C)O&quot;]</td><td>[]</td><td>[]</td></tr><tr><td>700</td><td>[&quot;O=[N+]([O-])c1n[nH]c(O)n1&quot;, &quot;O=c1[nH]nc([N+](=O)[O-])[nH]1&quot;, &quot;O=[N+]([O-])c1nnc(O)[nH]1&quot;]</td><td>[&quot;O=c1nc([N+](=O)[O-])[nH][nH]1&quot;, &quot;O=[N+]([O-])c1nc(O)n[nH]1&quot;, … &quot;O=C1N=NC(=[N+]([O-])O)N1&quot;]</td><td>[&quot;O=[N+]([O-])c1nc(O)n[nH]1&quot;, &quot;O=[N+]([O-])C1N=NC(O)=N1&quot;, … &quot;[O-][N+](O)=C1N=NC(O)=N1&quot;]</td><td>[]</td><td>[]</td></tr><tr><td>42</td><td>[&quot;Cc1cc(=O)n(-c2ccccc2)[nH]1&quot;, &quot;CC1=NN(c2ccccc2)C(=O)C1&quot;, &quot;Cc1cc(O)n(-c2ccccc2)n1&quot;]</td><td>[&quot;Cc1cc(O)n(-c2ccccc2)n1&quot;, &quot;CC1=NN(c2ccccc2)C(=O)C1&quot;, &quot;Cc1cc(=O)n(-c2ccccc2)[nH]1&quot;]</td><td>[&quot;Cc1cc(=O)n(-c2ccccc2)[nH]1&quot;, &quot;CC1=NN(c2ccccc2)C(=O)C1&quot;, … &quot;Cc1cc(O)n(-c2ccccc2)n1&quot;]</td><td>[]</td><td>[]</td></tr></tbody></table></div>"
      ],
      "text/plain": [
       "shape: (3, 6)\n",
       "┌──────┬─────────────────────┬─────────────────────┬────────────────────┬───────────┬──────────────┐\n",
       "│ Ref  ┆ canon_sml           ┆ tauts_TautomerEnume ┆ tauts_GetV1Tautome ┆ tauts_NIH ┆ tauts_CACTVS │\n",
       "│ ---  ┆ ---                 ┆ rator               ┆ rEnumerator        ┆ ---       ┆ ---          │\n",
       "│ i64  ┆ list[str]           ┆ ---                 ┆ ---                ┆ list[str] ┆ list[str]    │\n",
       "│      ┆                     ┆ list[str]           ┆ list[str]          ┆           ┆              │\n",
       "╞══════╪═════════════════════╪═════════════════════╪════════════════════╪═══════════╪══════════════╡\n",
       "│ 1474 ┆ [\"CC(C)=NN(C)CC(C)O ┆ [\"CC(C)=NN(C)CC(C)O ┆ [\"C=C(C)NN(C)CC(C) ┆ []        ┆ []           │\n",
       "│      ┆ \", \"CC1CN(C)N…      ┆ \", \"CC1CN(C)N…      ┆ O\", \"CC1CN(C)N…    ┆           ┆              │\n",
       "│ 700  ┆ [\"O=[N+]([O-])c1n[n ┆ [\"O=c1nc([N+](=O)[O ┆ [\"O=[N+]([O-])c1nc ┆ []        ┆ []           │\n",
       "│      ┆ H]c(O)n1\", \"O…      ┆ -])[nH][nH]1\"…      ┆ (O)n[nH]1\", \"O…    ┆           ┆              │\n",
       "│ 42   ┆ [\"Cc1cc(=O)n(-c2ccc ┆ [\"Cc1cc(O)n(-c2cccc ┆ [\"Cc1cc(=O)n(-c2cc ┆ []        ┆ []           │\n",
       "│      ┆ cc2)[nH]1\", \"…      ┆ c2)n1\", \"CC1=…      ┆ ccc2)[nH]1\", \"…    ┆           ┆              │\n",
       "└──────┴─────────────────────┴─────────────────────┴────────────────────┴───────────┴──────────────┘"
      ]
     },
     "execution_count": 51,
     "metadata": {},
     "output_type": "execute_result"
    }
   ],
   "source": [
    "df_melted_aggregated.head(3)"
   ]
  },
  {
   "cell_type": "markdown",
   "metadata": {},
   "source": [
    "## Convert enumerated tautomers from SMILES to InChI"
   ]
  },
  {
   "cell_type": "markdown",
   "metadata": {},
   "source": [
    "Now that we've enumerated tautomers, let's convert the SMILES of the RDKit TautomerEnumerator, our default algorithm, to InChI. This will let us check how well InChI does at its stated goal of covering multiple tautomers with a single InChI."
   ]
  },
  {
   "cell_type": "markdown",
   "metadata": {},
   "source": [
    "We start by creating a function to return a list of InChI for an iterable of SMILES."
   ]
  },
  {
   "cell_type": "code",
   "execution_count": 52,
   "metadata": {},
   "outputs": [],
   "source": [
    "def InChI_smiles(smls_iterable: Iterable[str]) -> Iterable[str]:\n",
    "    \"\"\"\n",
    "    Convert an iterable of SMILES to InChI, returning the list of unique InChI\n",
    "\n",
    "    :param smls_iterable: Iterable of SMILES strings\n",
    "    :returns: List of InChI strings\n",
    "    \"\"\"\n",
    "    InChIs = []\n",
    "    for sml in smls_iterable:\n",
    "        mol = Chem.MolFromSmiles(sml)\n",
    "        if mol:\n",
    "            InChI = Chem.MolToInchi(mol)\n",
    "            InChIs.append(InChI)\n",
    "        else:\n",
    "            mol = Chem.MolFromSmiles(sml, sanitize=False)\n",
    "            if mol:\n",
    "                InChI = Chem.MolToInchi(mol)\n",
    "                InChIs.append(InChI)\n",
    "            else:\n",
    "                print(\"Molecule couldn't be created\")\n",
    "    # Eliminate duplicates by turning list into a set, then back to a list so can go in dataframe\n",
    "    InChIs_unique = list(set(InChIs))\n",
    "    return InChIs_unique"
   ]
  },
  {
   "cell_type": "markdown",
   "metadata": {},
   "source": [
    "Now we determine the list of InChI for the list of tautomers from TautomerEnumerator."
   ]
  },
  {
   "cell_type": "code",
   "execution_count": 53,
   "metadata": {},
   "outputs": [],
   "source": [
    "df_melted_aggregated = df_melted_aggregated.with_columns(\n",
    "    [\n",
    "        pl.col(\"tauts_TautomerEnumerator\").map_elements(InChI_smiles).alias(\"tauts_TautomerEnumerator_InChI\"),\n",
    "    ]\n",
    ")"
   ]
  },
  {
   "cell_type": "code",
   "execution_count": 54,
   "metadata": {},
   "outputs": [
    {
     "data": {
      "text/html": [
       "<div><style>\n",
       ".dataframe > thead > tr,\n",
       ".dataframe > tbody > tr {\n",
       "  text-align: right;\n",
       "  white-space: pre-wrap;\n",
       "}\n",
       "</style>\n",
       "<small>shape: (2, 7)</small><table border=\"1\" class=\"dataframe\"><thead><tr><th>Ref</th><th>canon_sml</th><th>tauts_TautomerEnumerator</th><th>tauts_GetV1TautomerEnumerator</th><th>tauts_NIH</th><th>tauts_CACTVS</th><th>tauts_TautomerEnumerator_InChI</th></tr><tr><td>i64</td><td>list[str]</td><td>list[str]</td><td>list[str]</td><td>list[str]</td><td>list[str]</td><td>list[str]</td></tr></thead><tbody><tr><td>891</td><td>[&quot;COc1c2c3c4c(c(OC)c(=O)c5c(O)cc(OC)c(c6c(OC)cc(O)c(c1=O)c63)c54)[C@H](C(C)=O)C(C)(O)C2&quot;, &quot;COc1c(O)c2c(=O)cc(OC)c3c4c(OC)cc(=O)c5c(O)c(OC)c6c(c(c1CC(C)(O)[C@H]6C(C)=O)c23)c54&quot;]</td><td>[&quot;COC1=CC(=O)c2c(O)c(OC)c3c4c2c1c1c2c(c(O)c(OC)c(c24)=CC(C)(O)C3C(C)=O)C(=O)CC=1OC&quot;, &quot;C=C(O)C1c2c(OC)c(O)c3c4c(c5c(OC)cc(O)c6c5c(c24)C(=CC1(C)O)C(OC)C6=O)C(OC)=CC3=O&quot;, … &quot;COC1=CC(=O)C2=C(O)C(OC)C3=C(C(C)=O)C(C)(O)C=c4c(OC)c(O)c5c(O)cc(OC)c6c1c2c3c4c56&quot;]</td><td>[&quot;COc1c(O)c2c(O)cc(OC)c3c4c(OC)cc(O)c5c4c4c(c1=CC(C)(O)C(C(C)=O)=C4C(OC)C5=O)c23&quot;, &quot;COC1=CC(=O)C2C(=O)C(OC)=C3CC(C)(O)C(C(C)=O)C4=c5c3c2c1c1c5=C(C(=O)C=C1OC)C(=O)C4OC&quot;, … &quot;C=C(O)C1c2c(OC)c(=O)c3c(=O)cc(OC)c4c5c6c(c2c4=3)C(CC1(C)O)C(OC)=C(O)C=6C(=O)C=C5OC&quot;]</td><td>[&quot;C=C(O)[C@H]1c2c(OC)c(O)c3c(=O)cc(OC)c4c5c(OC)cc(=O)c6c(O)c(OC)c(c(c2c34)c65)CC1(C)O&quot;, &quot;COC1=CC(=O)C2=C3C1=C1C(OC)=CC(=O)C4=C(O)C(OC)=C5CC(C)(O)[C@@H](C(C)=O)C(=C(OC)C2=O)C3=C5C41&quot;, … &quot;COc1c2c3c4c(c(OC)c(=O)c5c(O)cc(OC)c(c6c(OC)cc(O)c(c1=O)c63)c54)C(=C(C)O)C(C)(O)C2&quot;]</td><td>[&quot;COc1c(O)c2c(=O)cc(OC)c3c4c(OC)cc(=O)c5c(O)c(OC)c6c(c(c1CC(C)(O)[C@H]6C(C)=O)c23)c54&quot;, &quot;COC6=C1C4=C2C(=C(C(C1)(C)O)C(C)=O)C(=C(C3=C(C=C(C(=C23)C5=C4C(=C(O)C=C5OC)C6=O)OC)O)O)OC&quot;, … &quot;COC4=C6C2=C1C(C(OC)C(=O)C5=C1C(=C3C(=CC(=O)C(=C23)C4=O)OC)C(=CC5=O)OC)C(=C(C)O)C(C)(O)C6&quot;]</td><td>[&quot;InChI=1S/C30H26O10/c1-10(31)25-24-22-16-11(9-30(25,2)36)28(39-5)26(34)17-12(32)7-14(37-3)19(21(16)17)20-15(38-4)8-13(33)18(23(20)22)27(35)29(24)40-6/h9,25,28,36H,7-8H2,1-6H3&quot;, &quot;InChI=1S/C30H26O10/c1-10(31)25-24-22-16-11(9-30(25,2)36)28(39-5)26(34)17-12(32)7-14(37-3)19(21(16)17)20-15(38-4)8-13(33)18(23(20)22)27(35)29(24)40-6/h8-9,18,28,35-36H,7H2,1-6H3&quot;, … &quot;InChI=1S/C30H26O10/c1-10(31)25-24-22-16-11(9-30(25,2)36)28(39-5)26(34)17-12(32)7-14(37-3)19(21(16)17)20-15(38-4)8-13(33)18(23(20)22)27(35)29(24)40-6/h7-9,17,31,33-34,36H,1-6H3&quot;]</td></tr><tr><td>892</td><td>[&quot;O=C1C=CC(=O)c2c(O)ccc(O)c21&quot;, &quot;O=C1C=CC(O)=C2C(=O)C=CC(O)=C12&quot;]</td><td>[&quot;O=C1C=CC(=O)C2C(=O)C=CC(O)=C12&quot;, &quot;O=C1C=CC(=O)C2=C1C(=O)CC=C2O&quot;, … &quot;O=C1C=CC(=O)C2C(=O)C=CC(=O)C12&quot;]</td><td>[&quot;O=C1C=CC(=O)C2=C1C(=O)CC=C2O&quot;, &quot;O=C1C=CC(O)=C2C(=O)C=CC(O)=C12&quot;, … &quot;O=C1C=CC(=O)C2=C1C(=O)CCC2=O&quot;]</td><td>[]</td><td>[]</td><td>[&quot;InChI=1S/C10H6O4/c11-5-1-2-6(12)10-8(14)4-3-7(13)9(5)10/h1-4,9,12H&quot;, &quot;InChI=1S/C10H6O4/c11-5-1-2-6(12)10-8(14)4-3-7(13)9(5)10/h1-4,11-12H&quot;, … &quot;InChI=1S/C10H6O4/c11-5-1-2-6(12)10-8(14)4-3-7(13)9(5)10/h1-4,11,14H&quot;]</td></tr></tbody></table></div>"
      ],
      "text/plain": [
       "shape: (2, 7)\n",
       "┌─────┬───────────────┬───────────────┬───────────────┬──────────────┬──────────────┬──────────────┐\n",
       "│ Ref ┆ canon_sml     ┆ tauts_Tautome ┆ tauts_GetV1Ta ┆ tauts_NIH    ┆ tauts_CACTVS ┆ tauts_Tautom │\n",
       "│ --- ┆ ---           ┆ rEnumerator   ┆ utomerEnumera ┆ ---          ┆ ---          ┆ erEnumerator │\n",
       "│ i64 ┆ list[str]     ┆ ---           ┆ tor           ┆ list[str]    ┆ list[str]    ┆ _InChI       │\n",
       "│     ┆               ┆ list[str]     ┆ ---           ┆              ┆              ┆ ---          │\n",
       "│     ┆               ┆               ┆ list[str]     ┆              ┆              ┆ list[str]    │\n",
       "╞═════╪═══════════════╪═══════════════╪═══════════════╪══════════════╪══════════════╪══════════════╡\n",
       "│ 891 ┆ [\"COc1c2c3c4c ┆ [\"COC1=CC(=O) ┆ [\"COc1c(O)c2c ┆ [\"C=C(O)[C@H ┆ [\"COc1c(O)c2 ┆ [\"InChI=1S/C │\n",
       "│     ┆ (c(OC)c(=O)c5 ┆ c2c(O)c(OC)c3 ┆ (O)cc(OC)c3c4 ┆ ]1c2c(OC)c(O ┆ c(=O)cc(OC)c ┆ 30H26O10/c1- │\n",
       "│     ┆ c(O)cc…       ┆ c4c2c1…       ┆ c(OC)c…       ┆ )c3c(=O)…    ┆ 3c4c(OC)…    ┆ 10(31)25…    │\n",
       "│ 892 ┆ [\"O=C1C=CC(=O ┆ [\"O=C1C=CC(=O ┆ [\"O=C1C=CC(=O ┆ []           ┆ []           ┆ [\"InChI=1S/C │\n",
       "│     ┆ )c2c(O)ccc(O) ┆ )C2C(=O)C=CC( ┆ )C2=C1C(=O)CC ┆              ┆              ┆ 10H6O4/c11-5 │\n",
       "│     ┆ c21\", …       ┆ O)=C12…       ┆ =C2O\",…       ┆              ┆              ┆ -1-2-6(1…    │\n",
       "└─────┴───────────────┴───────────────┴───────────────┴──────────────┴──────────────┴──────────────┘"
      ]
     },
     "execution_count": 54,
     "metadata": {},
     "output_type": "execute_result"
    }
   ],
   "source": [
    "df_melted_aggregated.filter(pl.col(\"Ref\").is_in([891, 892])).sort(pl.col(\"Ref\"))"
   ]
  },
  {
   "cell_type": "markdown",
   "metadata": {},
   "source": [
    "## Comparing algorithms"
   ]
  },
  {
   "cell_type": "markdown",
   "metadata": {},
   "source": [
    "Now that we've collected all the data from the various tautomerization algorithms, let's compare the results. We start by counting the number of tautomers for each Ref for each algorithm."
   ]
  },
  {
   "cell_type": "code",
   "execution_count": 55,
   "metadata": {},
   "outputs": [
    {
     "data": {
      "text/html": [
       "<div><style>\n",
       ".dataframe > thead > tr,\n",
       ".dataframe > tbody > tr {\n",
       "  text-align: right;\n",
       "  white-space: pre-wrap;\n",
       "}\n",
       "</style>\n",
       "<small>shape: (2, 14)</small><table border=\"1\" class=\"dataframe\"><thead><tr><th>Ref</th><th>canon_sml</th><th>tauts_TautomerEnumerator</th><th>tauts_GetV1TautomerEnumerator</th><th>tauts_NIH</th><th>tauts_CACTVS</th><th>tauts_TautomerEnumerator_InChI</th><th>tauts_Expt</th><th>n_TautomerEnumerator</th><th>n_GetV1TautomerEnumerator</th><th>n_NIH</th><th>n_CACTVS</th><th>n_TautomerEnumerator_InChI</th><th>n_Expt</th></tr><tr><td>i64</td><td>list[str]</td><td>list[str]</td><td>list[str]</td><td>list[str]</td><td>list[str]</td><td>list[str]</td><td>list[str]</td><td>u32</td><td>u32</td><td>u32</td><td>u32</td><td>u32</td><td>u32</td></tr></thead><tbody><tr><td>891</td><td>[&quot;COc1c2c3c4c(c(OC)c(=O)c5c(O)cc(OC)c(c6c(OC)cc(O)c(c1=O)c63)c54)[C@H](C(C)=O)C(C)(O)C2&quot;, &quot;COc1c(O)c2c(=O)cc(OC)c3c4c(OC)cc(=O)c5c(O)c(OC)c6c(c(c1CC(C)(O)[C@H]6C(C)=O)c23)c54&quot;]</td><td>[&quot;COC1=CC(=O)c2c(O)c(OC)c3c4c2c1c1c2c(c(O)c(OC)c(c24)=CC(C)(O)C3C(C)=O)C(=O)CC=1OC&quot;, &quot;C=C(O)C1c2c(OC)c(O)c3c4c(c5c(OC)cc(O)c6c5c(c24)C(=CC1(C)O)C(OC)C6=O)C(OC)=CC3=O&quot;, … &quot;COC1=CC(=O)C2=C(O)C(OC)C3=C(C(C)=O)C(C)(O)C=c4c(OC)c(O)c5c(O)cc(OC)c6c1c2c3c4c56&quot;]</td><td>[&quot;COc1c(O)c2c(O)cc(OC)c3c4c(OC)cc(O)c5c4c4c(c1=CC(C)(O)C(C(C)=O)=C4C(OC)C5=O)c23&quot;, &quot;COC1=CC(=O)C2C(=O)C(OC)=C3CC(C)(O)C(C(C)=O)C4=c5c3c2c1c1c5=C(C(=O)C=C1OC)C(=O)C4OC&quot;, … &quot;C=C(O)C1c2c(OC)c(=O)c3c(=O)cc(OC)c4c5c6c(c2c4=3)C(CC1(C)O)C(OC)=C(O)C=6C(=O)C=C5OC&quot;]</td><td>[&quot;C=C(O)[C@H]1c2c(OC)c(O)c3c(=O)cc(OC)c4c5c(OC)cc(=O)c6c(O)c(OC)c(c(c2c34)c65)CC1(C)O&quot;, &quot;COC1=CC(=O)C2=C3C1=C1C(OC)=CC(=O)C4=C(O)C(OC)=C5CC(C)(O)[C@@H](C(C)=O)C(=C(OC)C2=O)C3=C5C41&quot;, … &quot;COc1c2c3c4c(c(OC)c(=O)c5c(O)cc(OC)c(c6c(OC)cc(O)c(c1=O)c63)c54)C(=C(C)O)C(C)(O)C2&quot;]</td><td>[&quot;COc1c(O)c2c(=O)cc(OC)c3c4c(OC)cc(=O)c5c(O)c(OC)c6c(c(c1CC(C)(O)[C@H]6C(C)=O)c23)c54&quot;, &quot;COC6=C1C4=C2C(=C(C(C1)(C)O)C(C)=O)C(=C(C3=C(C=C(C(=C23)C5=C4C(=C(O)C=C5OC)C6=O)OC)O)O)OC&quot;, … &quot;COC4=C6C2=C1C(C(OC)C(=O)C5=C1C(=C3C(=CC(=O)C(=C23)C4=O)OC)C(=CC5=O)OC)C(=C(C)O)C(C)(O)C6&quot;]</td><td>[&quot;InChI=1S/C30H26O10/c1-10(31)25-24-22-16-11(9-30(25,2)36)28(39-5)26(34)17-12(32)7-14(37-3)19(21(16)17)20-15(38-4)8-13(33)18(23(20)22)27(35)29(24)40-6/h9,25,28,36H,7-8H2,1-6H3&quot;, &quot;InChI=1S/C30H26O10/c1-10(31)25-24-22-16-11(9-30(25,2)36)28(39-5)26(34)17-12(32)7-14(37-3)19(21(16)17)20-15(38-4)8-13(33)18(23(20)22)27(35)29(24)40-6/h8-9,18,28,35-36H,7H2,1-6H3&quot;, … &quot;InChI=1S/C30H26O10/c1-10(31)25-24-22-16-11(9-30(25,2)36)28(39-5)26(34)17-12(32)7-14(37-3)19(21(16)17)20-15(38-4)8-13(33)18(23(20)22)27(35)29(24)40-6/h7-9,17,31,33-34,36H,1-6H3&quot;]</td><td>[&quot;COc1c2c3c4c(c(OC)c(=O)c5c(O)cc(OC)c(c6c(OC)cc(O)c(c1=O)c63)c54)[C@H](C(C)=O)C(C)(O)C2&quot;, &quot;COc1c(O)c2c(=O)cc(OC)c3c4c(OC)cc(=O)c5c(O)c(OC)c6c(c(c1CC(C)(O)[C@H]6C(C)=O)c23)c54&quot;]</td><td>337</td><td>340</td><td>26</td><td>324</td><td>337</td><td>2</td></tr><tr><td>892</td><td>[&quot;O=C1C=CC(=O)c2c(O)ccc(O)c21&quot;, &quot;O=C1C=CC(O)=C2C(=O)C=CC(O)=C12&quot;]</td><td>[&quot;O=C1C=CC(=O)C2C(=O)C=CC(O)=C12&quot;, &quot;O=C1C=CC(=O)C2=C1C(=O)CC=C2O&quot;, … &quot;O=C1C=CC(=O)C2C(=O)C=CC(=O)C12&quot;]</td><td>[&quot;O=C1C=CC(=O)C2=C1C(=O)CC=C2O&quot;, &quot;O=C1C=CC(O)=C2C(=O)C=CC(O)=C12&quot;, … &quot;O=C1C=CC(=O)C2=C1C(=O)CCC2=O&quot;]</td><td>[]</td><td>[]</td><td>[&quot;InChI=1S/C10H6O4/c11-5-1-2-6(12)10-8(14)4-3-7(13)9(5)10/h1-4,9,12H&quot;, &quot;InChI=1S/C10H6O4/c11-5-1-2-6(12)10-8(14)4-3-7(13)9(5)10/h1-4,11-12H&quot;, … &quot;InChI=1S/C10H6O4/c11-5-1-2-6(12)10-8(14)4-3-7(13)9(5)10/h1-4,11,14H&quot;]</td><td>[&quot;O=C1C=CC(=O)c2c(O)ccc(O)c21&quot;, &quot;O=C1C=CC(O)=C2C(=O)C=CC(O)=C12&quot;]</td><td>6</td><td>7</td><td>0</td><td>0</td><td>6</td><td>2</td></tr></tbody></table></div>"
      ],
      "text/plain": [
       "shape: (2, 14)\n",
       "┌─────┬───────────────┬──────────────┬──────────────┬───┬───────┬──────────┬──────────────┬────────┐\n",
       "│ Ref ┆ canon_sml     ┆ tauts_Tautom ┆ tauts_GetV1T ┆ … ┆ n_NIH ┆ n_CACTVS ┆ n_TautomerEn ┆ n_Expt │\n",
       "│ --- ┆ ---           ┆ erEnumerator ┆ automerEnume ┆   ┆ ---   ┆ ---      ┆ umerator_InC ┆ ---    │\n",
       "│ i64 ┆ list[str]     ┆ ---          ┆ rator        ┆   ┆ u32   ┆ u32      ┆ hI           ┆ u32    │\n",
       "│     ┆               ┆ list[str]    ┆ ---          ┆   ┆       ┆          ┆ ---          ┆        │\n",
       "│     ┆               ┆              ┆ list[str]    ┆   ┆       ┆          ┆ u32          ┆        │\n",
       "╞═════╪═══════════════╪══════════════╪══════════════╪═══╪═══════╪══════════╪══════════════╪════════╡\n",
       "│ 891 ┆ [\"COc1c2c3c4c ┆ [\"COC1=CC(=O ┆ [\"COc1c(O)c2 ┆ … ┆ 26    ┆ 324      ┆ 337          ┆ 2      │\n",
       "│     ┆ (c(OC)c(=O)c5 ┆ )c2c(O)c(OC) ┆ c(O)cc(OC)c3 ┆   ┆       ┆          ┆              ┆        │\n",
       "│     ┆ c(O)cc…       ┆ c3c4c2c1…    ┆ c4c(OC)c…    ┆   ┆       ┆          ┆              ┆        │\n",
       "│ 892 ┆ [\"O=C1C=CC(=O ┆ [\"O=C1C=CC(= ┆ [\"O=C1C=CC(= ┆ … ┆ 0     ┆ 0        ┆ 6            ┆ 2      │\n",
       "│     ┆ )c2c(O)ccc(O) ┆ O)C2C(=O)C=C ┆ O)C2=C1C(=O) ┆   ┆       ┆          ┆              ┆        │\n",
       "│     ┆ c21\", …       ┆ C(O)=C12…    ┆ CC=C2O\",…    ┆   ┆       ┆          ┆              ┆        │\n",
       "└─────┴───────────────┴──────────────┴──────────────┴───┴───────┴──────────┴──────────────┴────────┘"
      ]
     },
     "execution_count": 55,
     "metadata": {},
     "output_type": "execute_result"
    }
   ],
   "source": [
    "# Duplicate canon_sml to tauts_Expt for consistent column name format\n",
    "df_melted_aggregated = df_melted_aggregated.with_columns(\n",
    "    [\n",
    "    # Add tautomers from Tautomer database\n",
    "    pl.col(\"canon_sml\").alias(\"tauts_Expt\"),\n",
    "    ]\n",
    ").with_columns(\n",
    "    # Add columns for number of tautomers in each tauts_ column\n",
    "    cs.starts_with(\"tauts\").list.len().name.map(lambda name: \"n_\" + name.replace(\"tauts_\", \"\")),\n",
    ")\n",
    "\n",
    "df_melted_aggregated.filter(pl.col(\"Ref\").is_in([891, 892]))"
   ]
  },
  {
   "cell_type": "markdown",
   "metadata": {},
   "source": [
    "### Comparing sets of tautomers"
   ]
  },
  {
   "cell_type": "markdown",
   "metadata": {},
   "source": [
    "Next we'd like to check if the tautomers enumerated by two algorithms are the same. So we define a function to check if sets for two iterables are equal. The input iterables need not be sets; the function will convert them to sets, and then compare the sets."
   ]
  },
  {
   "cell_type": "code",
   "execution_count": 56,
   "metadata": {},
   "outputs": [],
   "source": [
    "def sets_are_equal(\n",
    "    *iterables: Iterable,\n",
    ") -> bool:\n",
    "    \"\"\"Check whether multiple iterables are equal as sets:\n",
    "    For example [1, 1, 2] and {2, 1} are equal because both are {1, 2} as sets\n",
    "    \n",
    "    :param *iterables: the several iterables (can be lists, tuples, sets, etc.)\n",
    "    :returns: True if all the iterables are equal; False if not\n",
    "    \"\"\"\n",
    "    if len(iterables) < 2:\n",
    "        return True\n",
    "\n",
    "    # Convert iterables into sets\n",
    "    iterables_list = [iterable for iterable in iterables]\n",
    "    sets_list = [set(iterable) for iterable in iterables_list]\n",
    "\n",
    "    # If set lengths differ, the two sets aren't the same\n",
    "    if len(sets_list[0]) != len(sets_list[1]):\n",
    "        return False\n",
    "\n",
    "    # Get the keys of the first dictionary in the list\n",
    "    reference_set = sets_list[0]\n",
    "\n",
    "    # Iterate through the sets starting from the second one\n",
    "    for this_set in sets_list[1:]:\n",
    "        # Check if each set matches the reference set\n",
    "        if this_set != reference_set:\n",
    "            # Return False if keys are not the same\n",
    "            return False\n",
    "    # Return True if all dictionaries have the same keys\n",
    "    return True"
   ]
  },
  {
   "cell_type": "markdown",
   "metadata": {},
   "source": [
    "Now we want to select all columns that start with \"tauts_\" except our reference column \"tauts_TautomerEnumerator\". This is a two-part selector, so let's test it out to check that it gives the desired columns."
   ]
  },
  {
   "cell_type": "code",
   "execution_count": 57,
   "metadata": {},
   "outputs": [
    {
     "data": {
      "text/plain": [
       "['tauts_GetV1TautomerEnumerator',\n",
       " 'tauts_NIH',\n",
       " 'tauts_CACTVS',\n",
       " 'tauts_TautomerEnumerator_InChI',\n",
       " 'tauts_Expt']"
      ]
     },
     "execution_count": 57,
     "metadata": {},
     "output_type": "execute_result"
    }
   ],
   "source": [
    "tauts_compare_cols = df_melted_aggregated.select(cs.starts_with(\"tauts_\").exclude(\"tauts_TautomerEnumerator\")).columns\n",
    "tauts_compare_cols"
   ]
  },
  {
   "cell_type": "markdown",
   "metadata": {},
   "source": [
    "Let's check if the sets of tautomers are the same for different sources, and calculate the difference in the number of tautomers between sources."
   ]
  },
  {
   "cell_type": "code",
   "execution_count": 58,
   "metadata": {},
   "outputs": [
    {
     "data": {
      "text/html": [
       "<div><style>\n",
       ".dataframe > thead > tr,\n",
       ".dataframe > tbody > tr {\n",
       "  text-align: right;\n",
       "  white-space: pre-wrap;\n",
       "}\n",
       "</style>\n",
       "<small>shape: (1, 24)</small><table border=\"1\" class=\"dataframe\"><thead><tr><th>Ref</th><th>canon_sml</th><th>tauts_TautomerEnumerator</th><th>tauts_GetV1TautomerEnumerator</th><th>tauts_NIH</th><th>tauts_CACTVS</th><th>tauts_TautomerEnumerator_InChI</th><th>tauts_Expt</th><th>n_TautomerEnumerator</th><th>n_GetV1TautomerEnumerator</th><th>n_NIH</th><th>n_CACTVS</th><th>n_TautomerEnumerator_InChI</th><th>n_Expt</th><th>same_GetV1TautomerEnumerator</th><th>nDiff_GetV1TautomerEnumerator</th><th>same_NIH</th><th>nDiff_NIH</th><th>same_CACTVS</th><th>nDiff_CACTVS</th><th>same_TautomerEnumerator_InChI</th><th>nDiff_TautomerEnumerator_InChI</th><th>same_Expt</th><th>nDiff_Expt</th></tr><tr><td>i64</td><td>list[str]</td><td>list[str]</td><td>list[str]</td><td>list[str]</td><td>list[str]</td><td>list[str]</td><td>list[str]</td><td>u32</td><td>u32</td><td>u32</td><td>u32</td><td>u32</td><td>u32</td><td>bool</td><td>i64</td><td>bool</td><td>i64</td><td>bool</td><td>i64</td><td>bool</td><td>i64</td><td>bool</td><td>i64</td></tr></thead><tbody><tr><td>1474</td><td>[&quot;CC(C)=NN(C)CC(C)O&quot;, &quot;CC1CN(C)NC(C)(C)O1&quot;]</td><td>[&quot;CC(C)=NN(C)CC(C)O&quot;, &quot;CC1CN(C)NC(C)(C)O1&quot;]</td><td>[&quot;C=C(C)NN(C)CC(C)O&quot;, &quot;CC1CN(C)NC(C)(C)O1&quot;, &quot;CC(C)=NN(C)CC(C)O&quot;]</td><td>[]</td><td>[]</td><td>[&quot;InChI=1S/C7H16N2O/c1-6(2)8-9(4)5-7(3)10/h7,10H,5H2,1-4H3&quot;, &quot;InChI=1S/C7H16N2O/c1-6-5-9(4)8-7(2,3)10-6/h6,8H,5H2,1-4H3&quot;]</td><td>[&quot;CC(C)=NN(C)CC(C)O&quot;, &quot;CC1CN(C)NC(C)(C)O1&quot;]</td><td>2</td><td>3</td><td>0</td><td>0</td><td>2</td><td>2</td><td>false</td><td>-1</td><td>false</td><td>null</td><td>false</td><td>null</td><td>false</td><td>0</td><td>true</td><td>0</td></tr></tbody></table></div>"
      ],
      "text/plain": [
       "shape: (1, 24)\n",
       "┌──────┬────────────┬────────────┬────────────┬───┬────────────┬───────────┬───────────┬───────────┐\n",
       "│ Ref  ┆ canon_sml  ┆ tauts_Taut ┆ tauts_GetV ┆ … ┆ same_Tauto ┆ nDiff_Tau ┆ same_Expt ┆ nDiff_Exp │\n",
       "│ ---  ┆ ---        ┆ omerEnumer ┆ 1TautomerE ┆   ┆ merEnumera ┆ tomerEnum ┆ ---       ┆ t         │\n",
       "│ i64  ┆ list[str]  ┆ ator       ┆ numerator  ┆   ┆ tor_InChI  ┆ erator_In ┆ bool      ┆ ---       │\n",
       "│      ┆            ┆ ---        ┆ ---        ┆   ┆ ---        ┆ ChI       ┆           ┆ i64       │\n",
       "│      ┆            ┆ list[str]  ┆ list[str]  ┆   ┆ bool       ┆ ---       ┆           ┆           │\n",
       "│      ┆            ┆            ┆            ┆   ┆            ┆ i64       ┆           ┆           │\n",
       "╞══════╪════════════╪════════════╪════════════╪═══╪════════════╪═══════════╪═══════════╪═══════════╡\n",
       "│ 1474 ┆ [\"CC(C)=NN ┆ [\"CC(C)=NN ┆ [\"C=C(C)NN ┆ … ┆ false      ┆ 0         ┆ true      ┆ 0         │\n",
       "│      ┆ (C)CC(C)O\" ┆ (C)CC(C)O\" ┆ (C)CC(C)O\" ┆   ┆            ┆           ┆           ┆           │\n",
       "│      ┆ , \"CC1CN(C ┆ , \"CC1CN(C ┆ , \"CC1CN(C ┆   ┆            ┆           ┆           ┆           │\n",
       "│      ┆ )N…        ┆ )N…        ┆ )N…        ┆   ┆            ┆           ┆           ┆           │\n",
       "└──────┴────────────┴────────────┴────────────┴───┴────────────┴───────────┴───────────┴───────────┘"
      ]
     },
     "execution_count": 58,
     "metadata": {},
     "output_type": "execute_result"
    }
   ],
   "source": [
    "for tauts_col in tauts_compare_cols:\n",
    "    tauts_col_bare = tauts_col.replace('tauts_', '')\n",
    "    df_melted_aggregated = df_melted_aggregated.with_columns(\n",
    "        [\n",
    "            # Check if different algos produce same set of tautomers\n",
    "            pl.struct([\"tauts_TautomerEnumerator\", tauts_col]).\n",
    "            map_elements(lambda x: sets_are_equal(x[\"tauts_TautomerEnumerator\"], x[tauts_col]))\n",
    "            .alias(f\"same_{tauts_col_bare}\"),\n",
    "\n",
    "            # Calculate difference in number of tautomers between algos\n",
    "            pl.when(pl.col(f\"n_{tauts_col_bare}\") == 0)\n",
    "            # If tautomers weren't included for this source, set its n_tauts_diff to null so that difference is calculated only when source has data\n",
    "            .then(None)\n",
    "            .otherwise(\n",
    "                pl.struct([\"n_TautomerEnumerator\", f\"n_{tauts_col_bare}\"]).\n",
    "                map_elements(lambda x: x[\"n_TautomerEnumerator\"] - x[f\"n_{tauts_col_bare}\"])\n",
    "            )\n",
    "            .alias(f'nDiff_{tauts_col_bare}'),\n",
    "        ]\n",
    "    )\n",
    "df_melted_aggregated.head(1)\n"
   ]
  },
  {
   "cell_type": "markdown",
   "metadata": {},
   "source": [
    "Let's examine the distribution of the number of tautomers for the baseline source, in both table and plot form."
   ]
  },
  {
   "cell_type": "code",
   "execution_count": 59,
   "metadata": {},
   "outputs": [
    {
     "data": {
      "text/html": [
       "<div><style>\n",
       ".dataframe > thead > tr,\n",
       ".dataframe > tbody > tr {\n",
       "  text-align: right;\n",
       "  white-space: pre-wrap;\n",
       "}\n",
       "</style>\n",
       "<small>shape: (82, 4)</small><table border=\"1\" class=\"dataframe\"><thead><tr><th>n_TautomerEnumerator</th><th>count</th><th>pct</th><th>cumulative_pct</th></tr><tr><td>u32</td><td>u32</td><td>f64</td><td>f64</td></tr></thead><tbody><tr><td>1</td><td>16</td><td>0.9</td><td>0.9</td></tr><tr><td>2</td><td>457</td><td>25.7</td><td>26.6</td></tr><tr><td>3</td><td>381</td><td>21.5</td><td>48.1</td></tr><tr><td>4</td><td>119</td><td>6.7</td><td>54.8</td></tr><tr><td>5</td><td>227</td><td>12.8</td><td>67.6</td></tr><tr><td>6</td><td>85</td><td>4.8</td><td>72.4</td></tr><tr><td>7</td><td>67</td><td>3.8</td><td>76.1</td></tr><tr><td>8</td><td>79</td><td>4.4</td><td>80.6</td></tr><tr><td>9</td><td>49</td><td>2.8</td><td>83.3</td></tr><tr><td>10</td><td>30</td><td>1.7</td><td>85.0</td></tr><tr><td>11</td><td>25</td><td>1.4</td><td>86.4</td></tr><tr><td>12</td><td>59</td><td>3.3</td><td>89.8</td></tr><tr><td>&hellip;</td><td>&hellip;</td><td>&hellip;</td><td>&hellip;</td></tr><tr><td>291</td><td>1</td><td>0.1</td><td>99.3</td></tr><tr><td>315</td><td>1</td><td>0.1</td><td>99.4</td></tr><tr><td>329</td><td>1</td><td>0.1</td><td>99.4</td></tr><tr><td>332</td><td>1</td><td>0.1</td><td>99.5</td></tr><tr><td>337</td><td>1</td><td>0.1</td><td>99.5</td></tr><tr><td>360</td><td>1</td><td>0.1</td><td>99.6</td></tr><tr><td>400</td><td>2</td><td>0.1</td><td>99.7</td></tr><tr><td>402</td><td>1</td><td>0.1</td><td>99.8</td></tr><tr><td>441</td><td>1</td><td>0.1</td><td>99.8</td></tr><tr><td>443</td><td>1</td><td>0.1</td><td>99.9</td></tr><tr><td>454</td><td>1</td><td>0.1</td><td>99.9</td></tr><tr><td>801</td><td>1</td><td>0.1</td><td>100.0</td></tr></tbody></table></div>"
      ],
      "text/plain": [
       "shape: (82, 4)\n",
       "┌──────────────────────┬───────┬──────┬────────────────┐\n",
       "│ n_TautomerEnumerator ┆ count ┆ pct  ┆ cumulative_pct │\n",
       "│ ---                  ┆ ---   ┆ ---  ┆ ---            │\n",
       "│ u32                  ┆ u32   ┆ f64  ┆ f64            │\n",
       "╞══════════════════════╪═══════╪══════╪════════════════╡\n",
       "│ 1                    ┆ 16    ┆ 0.9  ┆ 0.9            │\n",
       "│ 2                    ┆ 457   ┆ 25.7 ┆ 26.6           │\n",
       "│ 3                    ┆ 381   ┆ 21.5 ┆ 48.1           │\n",
       "│ 4                    ┆ 119   ┆ 6.7  ┆ 54.8           │\n",
       "│ 5                    ┆ 227   ┆ 12.8 ┆ 67.6           │\n",
       "│ …                    ┆ …     ┆ …    ┆ …              │\n",
       "│ 402                  ┆ 1     ┆ 0.1  ┆ 99.8           │\n",
       "│ 441                  ┆ 1     ┆ 0.1  ┆ 99.8           │\n",
       "│ 443                  ┆ 1     ┆ 0.1  ┆ 99.9           │\n",
       "│ 454                  ┆ 1     ┆ 0.1  ┆ 99.9           │\n",
       "│ 801                  ┆ 1     ┆ 0.1  ┆ 100.0          │\n",
       "└──────────────────────┴───────┴──────┴────────────────┘"
      ]
     },
     "execution_count": 59,
     "metadata": {},
     "output_type": "execute_result"
    }
   ],
   "source": [
    "frequency_table_baseline = df_melted_aggregated.select(pl.col(\"n_TautomerEnumerator\").value_counts()).unnest(\"n_TautomerEnumerator\").sort(\"n_TautomerEnumerator\").with_columns(\n",
    "    pct = ((pl.col(\"count\") / pl.col(\"count\").sum()) * 100).round(1),\n",
    "    cumulative_pct = ((pl.col(\"count\").cum_sum() / pl.col(\"count\").sum()) * 100).round(1),\n",
    ")\n",
    "frequency_table_baseline"
   ]
  },
  {
   "cell_type": "markdown",
   "metadata": {},
   "source": [
    "Let's plot a histogram of the number of tautomers from the baseline source. We'll use a vertical logarithmic scale because there are many Refs with only a few tautomers, and a long, short tail at higher numbers of tautomers."
   ]
  },
  {
   "cell_type": "code",
   "execution_count": 60,
   "metadata": {},
   "outputs": [
    {
     "data": {
      "image/png": "[encoded data removed]",
      "text/plain": [
       "<Figure size 1500x500 with 1 Axes>"
      ]
     },
     "metadata": {},
     "output_type": "display_data"
    }
   ],
   "source": [
    "n_tauts_baseline = df_melted_aggregated.select(\"n_TautomerEnumerator\")\n",
    "x_min_value = n_tauts_baseline.min().item()\n",
    "x_max_value = n_tauts_baseline.max().item()\n",
    "\n",
    "x_buffer = 5\n",
    "\n",
    "x_min = x_min_value - x_buffer\n",
    "x_max = x_max_value + x_buffer\n",
    "\n",
    "# Set the histogram bins so there will be a bin (bar) for each integer value\n",
    "bins = range(x_min, x_max, 1)\n",
    "\n",
    "# Set the size of the plot\n",
    "plt.figure(figsize=(15, 5))\n",
    "\n",
    "# Create the histogram plot\n",
    "sns.histplot(\n",
    "    n_tauts_baseline,\n",
    "    bins=bins,\n",
    "    legend=False,\n",
    "    log_scale=(False, True),\n",
    "    )\n",
    "\n",
    "plt.ylabel(\"Frequency\")\n",
    "plt.xlabel(\"# tautomers from RDKit v2 algorithm\")\n",
    "\n",
    "plt.xlim(x_min, x_max)\n",
    "\n",
    "plt.show()"
   ]
  },
  {
   "cell_type": "markdown",
   "metadata": {},
   "source": [
    "Let's also check the distribution of the number of experimentally-observed tautomers."
   ]
  },
  {
   "cell_type": "code",
   "execution_count": 61,
   "metadata": {},
   "outputs": [
    {
     "data": {
      "text/html": [
       "<div><style>\n",
       ".dataframe > thead > tr,\n",
       ".dataframe > tbody > tr {\n",
       "  text-align: right;\n",
       "  white-space: pre-wrap;\n",
       "}\n",
       "</style>\n",
       "<small>shape: (5, 4)</small><table border=\"1\" class=\"dataframe\"><thead><tr><th>n_Expt</th><th>count</th><th>pct</th><th>cumulative_pct</th></tr><tr><td>u32</td><td>u32</td><td>f64</td><td>f64</td></tr></thead><tbody><tr><td>1</td><td>28</td><td>1.6</td><td>1.6</td></tr><tr><td>2</td><td>1518</td><td>85.5</td><td>87.0</td></tr><tr><td>3</td><td>197</td><td>11.1</td><td>98.1</td></tr><tr><td>4</td><td>23</td><td>1.3</td><td>99.4</td></tr><tr><td>5</td><td>10</td><td>0.6</td><td>100.0</td></tr></tbody></table></div>"
      ],
      "text/plain": [
       "shape: (5, 4)\n",
       "┌────────┬───────┬──────┬────────────────┐\n",
       "│ n_Expt ┆ count ┆ pct  ┆ cumulative_pct │\n",
       "│ ---    ┆ ---   ┆ ---  ┆ ---            │\n",
       "│ u32    ┆ u32   ┆ f64  ┆ f64            │\n",
       "╞════════╪═══════╪══════╪════════════════╡\n",
       "│ 1      ┆ 28    ┆ 1.6  ┆ 1.6            │\n",
       "│ 2      ┆ 1518  ┆ 85.5 ┆ 87.0           │\n",
       "│ 3      ┆ 197   ┆ 11.1 ┆ 98.1           │\n",
       "│ 4      ┆ 23    ┆ 1.3  ┆ 99.4           │\n",
       "│ 5      ┆ 10    ┆ 0.6  ┆ 100.0          │\n",
       "└────────┴───────┴──────┴────────────────┘"
      ]
     },
     "execution_count": 61,
     "metadata": {},
     "output_type": "execute_result"
    }
   ],
   "source": [
    "frequency_table_Expt = df_melted_aggregated.select(pl.col(\"n_Expt\").value_counts()).unnest(\"n_Expt\").sort(\"n_Expt\").with_columns(\n",
    "    pct = ((pl.col(\"count\") / pl.col(\"count\").sum()) * 100).round(1),\n",
    "    cumulative_pct = ((pl.col(\"count\").cum_sum() / pl.col(\"count\").sum()) * 100).round(1)\n",
    ")\n",
    "frequency_table_Expt"
   ]
  },
  {
   "cell_type": "markdown",
   "metadata": {},
   "source": [
    "So more than 85% of the Refs have two tautomers, and most of the remaining Refs have three."
   ]
  },
  {
   "cell_type": "markdown",
   "metadata": {},
   "source": [
    "Now we can check how many Refs have the same set of tautomers as RDKit's default tautomerizer, for each other source that lists SMILES:"
   ]
  },
  {
   "cell_type": "code",
   "execution_count": 62,
   "metadata": {},
   "outputs": [
    {
     "data": {
      "text/html": [
       "<div><style>\n",
       ".dataframe > thead > tr,\n",
       ".dataframe > tbody > tr {\n",
       "  text-align: right;\n",
       "  white-space: pre-wrap;\n",
       "}\n",
       "</style>\n",
       "<small>shape: (1, 4)</small><table border=\"1\" class=\"dataframe\"><thead><tr><th>count_same_GetV1TautomerEnumerator</th><th>count_same_NIH</th><th>count_same_CACTVS</th><th>count_same_Expt</th></tr><tr><td>u32</td><td>u32</td><td>u32</td><td>u32</td></tr></thead><tbody><tr><td>1207</td><td>0</td><td>0</td><td>453</td></tr></tbody></table></div>"
      ],
      "text/plain": [
       "shape: (1, 4)\n",
       "┌───────────────────────────────────┬────────────────┬───────────────────┬─────────────────┐\n",
       "│ count_same_GetV1TautomerEnumerat… ┆ count_same_NIH ┆ count_same_CACTVS ┆ count_same_Expt │\n",
       "│ ---                               ┆ ---            ┆ ---               ┆ ---             │\n",
       "│ u32                               ┆ u32            ┆ u32               ┆ u32             │\n",
       "╞═══════════════════════════════════╪════════════════╪═══════════════════╪═════════════════╡\n",
       "│ 1207                              ┆ 0              ┆ 0                 ┆ 453             │\n",
       "└───────────────────────────────────┴────────────────┴───────────────────┴─────────────────┘"
      ]
     },
     "execution_count": 62,
     "metadata": {},
     "output_type": "execute_result"
    }
   ],
   "source": [
    "df_same = df_melted_aggregated.select(cs.starts_with(\"same_\").exclude(\"same_TautomerEnumerator_InChI\").name.prefix(\"count_\")).sum()\n",
    "df_same"
   ]
  },
  {
   "cell_type": "code",
   "execution_count": 63,
   "metadata": {},
   "outputs": [
    {
     "data": {
      "text/html": [
       "<div><style>\n",
       ".dataframe > thead > tr,\n",
       ".dataframe > tbody > tr {\n",
       "  text-align: right;\n",
       "  white-space: pre-wrap;\n",
       "}\n",
       "</style>\n",
       "<small>shape: (1, 4)</small><table border=\"1\" class=\"dataframe\"><thead><tr><th>%count_same_GetV1TautomerEnumerator</th><th>%count_same_NIH</th><th>%count_same_CACTVS</th><th>%count_same_Expt</th></tr><tr><td>f64</td><td>f64</td><td>f64</td><td>f64</td></tr></thead><tbody><tr><td>68.0</td><td>0.0</td><td>0.0</td><td>25.5</td></tr></tbody></table></div>"
      ],
      "text/plain": [
       "shape: (1, 4)\n",
       "┌───────────────────────────────────┬─────────────────┬────────────────────┬──────────────────┐\n",
       "│ %count_same_GetV1TautomerEnumera… ┆ %count_same_NIH ┆ %count_same_CACTVS ┆ %count_same_Expt │\n",
       "│ ---                               ┆ ---             ┆ ---                ┆ ---              │\n",
       "│ f64                               ┆ f64             ┆ f64                ┆ f64              │\n",
       "╞═══════════════════════════════════╪═════════════════╪════════════════════╪══════════════════╡\n",
       "│ 68.0                              ┆ 0.0             ┆ 0.0                ┆ 25.5             │\n",
       "└───────────────────────────────────┴─────────────────┴────────────────────┴──────────────────┘"
      ]
     },
     "execution_count": 63,
     "metadata": {},
     "output_type": "execute_result"
    }
   ],
   "source": [
    "df_same.select((pl.all()/Ref_count * 100).round(1).name.prefix(\"%\")).sum()"
   ]
  },
  {
   "cell_type": "markdown",
   "metadata": {},
   "source": [
    "Let's compare the various sources to RDKit's default tautomerizer:\n",
    "- GetV1TautomerEnumerator: The fact that ~68% of the sets of tautomers are the same comports with Greg Landrum's note that \"the code adds a missed case to the enumeration rule set\"--adding one rule seems like a minor change.\n",
    "- NIH and CACTVS: The fact that these sources have no Refs where the set of tautomers are the same is not surprising because we enumerated tautomers for a limited number of Refs for NIH and CACTVS.\n",
    "- Expt: The fact that ~25.5% of the sets of tautomers are the same seems to reflect that the default tautomerizer didn't find tautomers beyond those observed experimentally. If we filter down to these matching sets, we find that there are only a few tautomers in each case:"
   ]
  },
  {
   "cell_type": "code",
   "execution_count": 64,
   "metadata": {},
   "outputs": [
    {
     "data": {
      "text/html": [
       "<div><style>\n",
       ".dataframe > thead > tr,\n",
       ".dataframe > tbody > tr {\n",
       "  text-align: right;\n",
       "  white-space: pre-wrap;\n",
       "}\n",
       "</style>\n",
       "<small>shape: (5, 6)</small><table border=\"1\" class=\"dataframe\"><thead><tr><th>Ref</th><th>same_Expt</th><th>n_Expt</th><th>n_TautomerEnumerator</th><th>tauts_TautomerEnumerator</th><th>tauts_Expt</th></tr><tr><td>i64</td><td>bool</td><td>u32</td><td>u32</td><td>list[str]</td><td>list[str]</td></tr></thead><tbody><tr><td>2</td><td>true</td><td>2</td><td>2</td><td>[&quot;c1cn[nH]n1&quot;, &quot;c1c[nH]nn1&quot;]</td><td>[&quot;c1c[nH]nn1&quot;, &quot;c1cn[nH]n1&quot;]</td></tr><tr><td>3</td><td>true</td><td>2</td><td>2</td><td>[&quot;Cc1cc[nH]n1&quot;, &quot;Cc1ccn[nH]1&quot;]</td><td>[&quot;Cc1cc[nH]n1&quot;, &quot;Cc1ccn[nH]1&quot;]</td></tr><tr><td>24</td><td>true</td><td>1</td><td>1</td><td>[&quot;N=c1cccccc1N&quot;]</td><td>[&quot;N=c1cccccc1N&quot;]</td></tr><tr><td>40</td><td>true</td><td>3</td><td>3</td><td>[&quot;O=C1CC(c2ccccc2)=NN1c1ccc([N+](=O)[O-])cc1[N+](=O)[O-]&quot;, &quot;O=[N+]([O-])c1ccc(-n2nc(-c3ccccc3)cc2O)c([N+](=O)[O-])c1&quot;, &quot;O=c1cc(-c2ccccc2)[nH]n1-c1ccc([N+](=O)[O-])cc1[N+](=O)[O-]&quot;]</td><td>[&quot;O=[N+]([O-])c1ccc(-n2nc(-c3ccccc3)cc2O)c([N+](=O)[O-])c1&quot;, &quot;O=c1cc(-c2ccccc2)[nH]n1-c1ccc([N+](=O)[O-])cc1[N+](=O)[O-]&quot;, &quot;O=C1CC(c2ccccc2)=NN1c1ccc([N+](=O)[O-])cc1[N+](=O)[O-]&quot;]</td></tr><tr><td>41</td><td>true</td><td>3</td><td>3</td><td>[&quot;Cc1cc(=O)n(-c2ccc([N+](=O)[O-])cc2[N+](=O)[O-])[nH]1&quot;, &quot;CC1=NN(c2ccc([N+](=O)[O-])cc2[N+](=O)[O-])C(=O)C1&quot;, &quot;Cc1cc(O)n(-c2ccc([N+](=O)[O-])cc2[N+](=O)[O-])n1&quot;]</td><td>[&quot;Cc1cc(O)n(-c2ccc([N+](=O)[O-])cc2[N+](=O)[O-])n1&quot;, &quot;CC1=NN(c2ccc([N+](=O)[O-])cc2[N+](=O)[O-])C(=O)C1&quot;, &quot;Cc1cc(=O)n(-c2ccc([N+](=O)[O-])cc2[N+](=O)[O-])[nH]1&quot;]</td></tr></tbody></table></div>"
      ],
      "text/plain": [
       "shape: (5, 6)\n",
       "┌─────┬───────────┬────────┬──────────────────────┬────────────────────────┬───────────────────────┐\n",
       "│ Ref ┆ same_Expt ┆ n_Expt ┆ n_TautomerEnumerator ┆ tauts_TautomerEnumerat ┆ tauts_Expt            │\n",
       "│ --- ┆ ---       ┆ ---    ┆ ---                  ┆ or                     ┆ ---                   │\n",
       "│ i64 ┆ bool      ┆ u32    ┆ u32                  ┆ ---                    ┆ list[str]             │\n",
       "│     ┆           ┆        ┆                      ┆ list[str]              ┆                       │\n",
       "╞═════╪═══════════╪════════╪══════════════════════╪════════════════════════╪═══════════════════════╡\n",
       "│ 2   ┆ true      ┆ 2      ┆ 2                    ┆ [\"c1cn[nH]n1\",         ┆ [\"c1c[nH]nn1\",        │\n",
       "│     ┆           ┆        ┆                      ┆ \"c1c[nH]nn1\"]          ┆ \"c1cn[nH]n1\"]         │\n",
       "│ 3   ┆ true      ┆ 2      ┆ 2                    ┆ [\"Cc1cc[nH]n1\",        ┆ [\"Cc1cc[nH]n1\",       │\n",
       "│     ┆           ┆        ┆                      ┆ \"Cc1ccn[nH]1\"]         ┆ \"Cc1ccn[nH]1\"]        │\n",
       "│ 24  ┆ true      ┆ 1      ┆ 1                    ┆ [\"N=c1cccccc1N\"]       ┆ [\"N=c1cccccc1N\"]      │\n",
       "│ 40  ┆ true      ┆ 3      ┆ 3                    ┆ [\"O=C1CC(c2ccccc2)=NN1 ┆ [\"O=[N+]([O-])c1ccc(- │\n",
       "│     ┆           ┆        ┆                      ┆ c1ccc([N+]…            ┆ n2nc(-c3ccc…          │\n",
       "│ 41  ┆ true      ┆ 3      ┆ 3                    ┆ [\"Cc1cc(=O)n(-c2ccc([N ┆ [\"Cc1cc(O)n(-c2ccc([N │\n",
       "│     ┆           ┆        ┆                      ┆ +](=O)[O-]…            ┆ +](=O)[O-])…          │\n",
       "└─────┴───────────┴────────┴──────────────────────┴────────────────────────┴───────────────────────┘"
      ]
     },
     "execution_count": 64,
     "metadata": {},
     "output_type": "execute_result"
    }
   ],
   "source": [
    "df_same_Expt = df_melted_aggregated.filter(pl.col(\"same_Expt\") == True).select([\"Ref\", \"same_Expt\", \"n_Expt\", \"n_TautomerEnumerator\", \"tauts_TautomerEnumerator\", \"tauts_Expt\"]).sort(\"Ref\")\n",
    "df_same_Expt.head()"
   ]
  },
  {
   "cell_type": "markdown",
   "metadata": {},
   "source": [
    "and the maximum number of experimentally-observed tautomers is three:"
   ]
  },
  {
   "cell_type": "code",
   "execution_count": 65,
   "metadata": {},
   "outputs": [
    {
     "data": {
      "text/plain": [
       "3"
      ]
     },
     "execution_count": 65,
     "metadata": {},
     "output_type": "execute_result"
    }
   ],
   "source": [
    "df_same_Expt.select(pl.col(\"n_Expt\")).max().item()"
   ]
  },
  {
   "cell_type": "markdown",
   "metadata": {},
   "source": [
    "### Statistical comparison"
   ]
  },
  {
   "cell_type": "markdown",
   "metadata": {},
   "source": [
    "We define a dictionary of sources and their type:\n",
    "\n",
    "- baseline (RDKit TautomerEnumerator)\n",
    "- all: we have data for all Refs\n",
    "- manual: we gathered data manually, so we do not have data for all Refs"
   ]
  },
  {
   "cell_type": "code",
   "execution_count": 66,
   "metadata": {},
   "outputs": [],
   "source": [
    "# List sources, and the sources to compare to the first source\n",
    "sources = {\n",
    "    \"TautomerEnumerator\": \"baseline\",\n",
    "    \"GetV1TautomerEnumerator\": \"all\",\n",
    "    \"NIH\": \"manual\",\n",
    "    \"CACTVS\": \"manual\",\n",
    "    \"Expt\": \"all\",\n",
    "}\n",
    "sources_compare = {source:kind for source, kind in sources.items() if kind != \"baseline\"}"
   ]
  },
  {
   "cell_type": "markdown",
   "metadata": {},
   "source": [
    "Now we set up data structures to hold data from the dataframe's nDiff_ columns--the difference in the number of tautomers for the baseline source minus for another source."
   ]
  },
  {
   "cell_type": "code",
   "execution_count": 67,
   "metadata": {},
   "outputs": [],
   "source": [
    "# For each other source, compare it to RDKit V2\n",
    "\n",
    "# Create several dictionaries where each key will be a tautomer source\n",
    "n_tauts_diff = dict()\n",
    "n_tauts_diff_no_zeros = dict()\n",
    "n_tauts_diff_positive = dict()\n",
    "n_tauts_diff_negative = dict()\n",
    "for source in sources_compare.keys():\n",
    "    # Extract the data from the dataframe's n_tauts_diff... columns\n",
    "    nDiff_col = f\"nDiff_{source.replace('tauts_', '')}\"\n",
    "    this_n_tauts_diff = df_melted_aggregated.filter(pl.col(nDiff_col).is_not_null())[nDiff_col].to_list()\n",
    "    # Remove None values to prevent errors\n",
    "    this_n_tauts_diff_clean = [item for item in this_n_tauts_diff if item is not None]\n",
    "    n_tauts_diff.update({source: this_n_tauts_diff_clean})\n",
    "    n_tauts_diff_no_zeros.update({source: [diff for diff in n_tauts_diff[source] if diff != 0]})\n",
    "    n_tauts_diff_positive.update({source: [diff for diff in n_tauts_diff_no_zeros[source] if (diff is not None) and (diff > 0)]})\n",
    "    n_tauts_diff_negative.update({source: [diff for diff in n_tauts_diff_no_zeros[source] if (diff is not None) and (diff < 0)]})"
   ]
  },
  {
   "cell_type": "markdown",
   "metadata": {},
   "source": [
    "Next we define a function to return various descriptive statistics of interest for an iterable, which we'll apply to those lists of the difference in the number of tautomers between sources."
   ]
  },
  {
   "cell_type": "code",
   "execution_count": 68,
   "metadata": {},
   "outputs": [],
   "source": [
    "def stats_for_iterable(iterable: Iterable) -> dict[str : int | float]:\n",
    "    \"\"\"Calculate descriptive statistics for an iterable.\n",
    "    The input could be a set, but be aware that a set can only contain each value once.\n",
    "\n",
    "    :param iterable: Iterable to be analyzed\n",
    "    :returns: Descriptive statistics including counts of some values, mean, median, mode, and standard deviation\n",
    "    \"\"\"\n",
    "    iterable_clean = [item for item in iterable if item is not None]\n",
    "    stats = dict()\n",
    "    for delta in range(-5, 6):\n",
    "        stats.update({f\"count({delta})\": iterable_clean.count(delta)})\n",
    "\n",
    "    try:\n",
    "        mean = statistics.mean(iterable_clean)\n",
    "    except StatisticsError:\n",
    "        mean = None\n",
    "\n",
    "    try:\n",
    "        median = statistics.median(iterable_clean)\n",
    "    except StatisticsError:\n",
    "        median = None\n",
    "\n",
    "    try:\n",
    "        mode = statistics.mode(iterable_clean)\n",
    "    except StatisticsError:\n",
    "        mode = None\n",
    "\n",
    "    stats.update(\n",
    "        {\n",
    "            \"mean\": mean,\n",
    "            \"median\": median,\n",
    "            \"mode\": mode,\n",
    "        }\n",
    "    )\n",
    "    try:\n",
    "        stats.update({\"std dev\": statistics.stdev(iterable_clean)})\n",
    "    except StatisticsError:\n",
    "        stats.update({\"std dev\": -1})\n",
    "    return stats"
   ]
  },
  {
   "cell_type": "markdown",
   "metadata": {},
   "source": [
    "To address the original question of which algorithms find more tautomers, we compute the mean."
   ]
  },
  {
   "cell_type": "code",
   "execution_count": 69,
   "metadata": {},
   "outputs": [
    {
     "name": "stdout",
     "output_type": "stream",
     "text": [
      "Source                    Mean\n",
      "GetV1TautomerEnumerator   -4.66\n",
      "NIH                       212.00\n",
      "CACTVS                    55.80\n",
      "Expt                      9.78\n"
     ]
    }
   ],
   "source": [
    "print(f'{\"Source\":25} Mean')\n",
    "for source in sources_compare.keys():\n",
    "    stats = stats_for_iterable(df_melted_aggregated[f\"nDiff_{source.replace('tauts','')}\"])\n",
    "    print(f'{source:25} {stats[\"mean\"]:.2f}')"
   ]
  },
  {
   "cell_type": "code",
   "execution_count": 70,
   "metadata": {},
   "outputs": [
    {
     "data": {
      "text/html": [
       "<div><style>\n",
       ".dataframe > thead > tr,\n",
       ".dataframe > tbody > tr {\n",
       "  text-align: right;\n",
       "  white-space: pre-wrap;\n",
       "}\n",
       "</style>\n",
       "<small>shape: (1, 5)</small><table border=\"1\" class=\"dataframe\"><thead><tr><th>count_nDiff_GetV1TautomerEnumerator</th><th>count_nDiff_NIH</th><th>count_nDiff_CACTVS</th><th>count_nDiff_TautomerEnumerator_InChI</th><th>count_nDiff_Expt</th></tr><tr><td>i64</td><td>i64</td><td>i64</td><td>i64</td><td>i64</td></tr></thead><tbody><tr><td>-8269</td><td>1908</td><td>279</td><td>2530</td><td>17366</td></tr></tbody></table></div>"
      ],
      "text/plain": [
       "shape: (1, 5)\n",
       "┌────────────────────┬─────────────────┬────────────────────┬───────────────────┬──────────────────┐\n",
       "│ count_nDiff_GetV1T ┆ count_nDiff_NIH ┆ count_nDiff_CACTVS ┆ count_nDiff_Tauto ┆ count_nDiff_Expt │\n",
       "│ automerEnumera…    ┆ ---             ┆ ---                ┆ merEnumerator_I…  ┆ ---              │\n",
       "│ ---                ┆ i64             ┆ i64                ┆ ---               ┆ i64              │\n",
       "│ i64                ┆                 ┆                    ┆ i64               ┆                  │\n",
       "╞════════════════════╪═════════════════╪════════════════════╪═══════════════════╪══════════════════╡\n",
       "│ -8269              ┆ 1908            ┆ 279                ┆ 2530              ┆ 17366            │\n",
       "└────────────────────┴─────────────────┴────────────────────┴───────────────────┴──────────────────┘"
      ]
     },
     "execution_count": 70,
     "metadata": {},
     "output_type": "execute_result"
    }
   ],
   "source": [
    "df_comparison = df_melted_aggregated.select(cs.starts_with(\"nDiff_\").name.prefix(\"count_\")).sum()\n",
    "df_comparison"
   ]
  },
  {
   "cell_type": "code",
   "execution_count": 71,
   "metadata": {},
   "outputs": [
    {
     "data": {
      "text/html": [
       "<div><style>\n",
       ".dataframe > thead > tr,\n",
       ".dataframe > tbody > tr {\n",
       "  text-align: right;\n",
       "  white-space: pre-wrap;\n",
       "}\n",
       "</style>\n",
       "<small>shape: (1, 5)</small><table border=\"1\" class=\"dataframe\"><thead><tr><th>per_ref_count_nDiff_GetV1TautomerEnumerator</th><th>per_ref_count_nDiff_NIH</th><th>per_ref_count_nDiff_CACTVS</th><th>per_ref_count_nDiff_TautomerEnumerator_InChI</th><th>per_ref_count_nDiff_Expt</th></tr><tr><td>f64</td><td>f64</td><td>f64</td><td>f64</td><td>f64</td></tr></thead><tbody><tr><td>-4.7</td><td>1.1</td><td>0.2</td><td>1.4</td><td>9.8</td></tr></tbody></table></div>"
      ],
      "text/plain": [
       "shape: (1, 5)\n",
       "┌───────────────────┬───────────────────┬───────────────────┬───────────────────┬──────────────────┐\n",
       "│ per_ref_count_nDi ┆ per_ref_count_nDi ┆ per_ref_count_nDi ┆ per_ref_count_nDi ┆ per_ref_count_nD │\n",
       "│ ff_GetV1Tautome…  ┆ ff_NIH            ┆ ff_CACTVS         ┆ ff_TautomerEnum…  ┆ iff_Expt         │\n",
       "│ ---               ┆ ---               ┆ ---               ┆ ---               ┆ ---              │\n",
       "│ f64               ┆ f64               ┆ f64               ┆ f64               ┆ f64              │\n",
       "╞═══════════════════╪═══════════════════╪═══════════════════╪═══════════════════╪══════════════════╡\n",
       "│ -4.7              ┆ 1.1               ┆ 0.2               ┆ 1.4               ┆ 9.8              │\n",
       "└───────────────────┴───────────────────┴───────────────────┴───────────────────┴──────────────────┘"
      ]
     },
     "execution_count": 71,
     "metadata": {},
     "output_type": "execute_result"
    }
   ],
   "source": [
    "df_comparison.select((pl.all()/Ref_count).round(1).name.prefix(\"per_ref_\")).sum()"
   ]
  },
  {
   "cell_type": "markdown",
   "metadata": {},
   "source": [
    "These statistics are skewed by selection bias: I chose several Refs with hundreds of tautomers to gather manual data on from NIH and CACTVS, so the difference in the number of tautomers for those Refs can be quite large. Whereas the experimental results are available for all Refs, and in many cases there are only a few tautomers for those Refs, so averaged over all Refs the mean difference in the number of tautomers for the experimental results is relatively small.\n",
    "\n",
    "Let's make a fairer comparison by narrowing the Refs to the narrowest set, namely for CACTVS--all the other sets (NIH, Expt, and RDKit GetV1TautomerEnumerator) are supersets of that narrow set."
   ]
  },
  {
   "cell_type": "code",
   "execution_count": 72,
   "metadata": {},
   "outputs": [
    {
     "data": {
      "text/html": [
       "<div><style>\n",
       ".dataframe > thead > tr,\n",
       ".dataframe > tbody > tr {\n",
       "  text-align: right;\n",
       "  white-space: pre-wrap;\n",
       "}\n",
       "</style>\n",
       "<small>shape: (5, 10)</small><table border=\"1\" class=\"dataframe\"><thead><tr><th>Ref</th><th>n_TautomerEnumerator</th><th>n_GetV1TautomerEnumerator</th><th>n_CACTVS</th><th>n_NIH</th><th>n_Expt</th><th>nDiff_GetV1TautomerEnumerator</th><th>nDiff_CACTVS</th><th>nDiff_NIH</th><th>nDiff_Expt</th></tr><tr><td>i64</td><td>u32</td><td>u32</td><td>u32</td><td>u32</td><td>u32</td><td>i64</td><td>i64</td><td>i64</td><td>i64</td></tr></thead><tbody><tr><td>467</td><td>360</td><td>353</td><td>275</td><td>32</td><td>2</td><td>7</td><td>85</td><td>328</td><td>358</td></tr><tr><td>890</td><td>454</td><td>305</td><td>258</td><td>31</td><td>2</td><td>149</td><td>196</td><td>423</td><td>452</td></tr><tr><td>891</td><td>337</td><td>340</td><td>324</td><td>26</td><td>2</td><td>-3</td><td>13</td><td>311</td><td>335</td></tr><tr><td>1512</td><td>3</td><td>2</td><td>16</td><td>8</td><td>2</td><td>1</td><td>-13</td><td>-5</td><td>1</td></tr><tr><td>1704</td><td>3</td><td>2</td><td>5</td><td>4</td><td>2</td><td>1</td><td>-2</td><td>-1</td><td>1</td></tr></tbody></table></div>"
      ],
      "text/plain": [
       "shape: (5, 10)\n",
       "┌──────┬────────────┬────────────┬──────────┬───┬────────────┬────────────┬───────────┬────────────┐\n",
       "│ Ref  ┆ n_Tautomer ┆ n_GetV1Tau ┆ n_CACTVS ┆ … ┆ nDiff_GetV ┆ nDiff_CACT ┆ nDiff_NIH ┆ nDiff_Expt │\n",
       "│ ---  ┆ Enumerator ┆ tomerEnume ┆ ---      ┆   ┆ 1TautomerE ┆ VS         ┆ ---       ┆ ---        │\n",
       "│ i64  ┆ ---        ┆ rator      ┆ u32      ┆   ┆ numerator  ┆ ---        ┆ i64       ┆ i64        │\n",
       "│      ┆ u32        ┆ ---        ┆          ┆   ┆ ---        ┆ i64        ┆           ┆            │\n",
       "│      ┆            ┆ u32        ┆          ┆   ┆ i64        ┆            ┆           ┆            │\n",
       "╞══════╪════════════╪════════════╪══════════╪═══╪════════════╪════════════╪═══════════╪════════════╡\n",
       "│ 467  ┆ 360        ┆ 353        ┆ 275      ┆ … ┆ 7          ┆ 85         ┆ 328       ┆ 358        │\n",
       "│ 890  ┆ 454        ┆ 305        ┆ 258      ┆ … ┆ 149        ┆ 196        ┆ 423       ┆ 452        │\n",
       "│ 891  ┆ 337        ┆ 340        ┆ 324      ┆ … ┆ -3         ┆ 13         ┆ 311       ┆ 335        │\n",
       "│ 1512 ┆ 3          ┆ 2          ┆ 16       ┆ … ┆ 1          ┆ -13        ┆ -5        ┆ 1          │\n",
       "│ 1704 ┆ 3          ┆ 2          ┆ 5        ┆ … ┆ 1          ┆ -2         ┆ -1        ┆ 1          │\n",
       "└──────┴────────────┴────────────┴──────────┴───┴────────────┴────────────┴───────────┴────────────┘"
      ]
     },
     "execution_count": 72,
     "metadata": {},
     "output_type": "execute_result"
    }
   ],
   "source": [
    "df_narrow_set = df_melted_aggregated.filter(pl.col(\"nDiff_CACTVS\").is_not_null()).select([\"Ref\", \"n_TautomerEnumerator\", \"n_GetV1TautomerEnumerator\", \"n_CACTVS\", \"n_NIH\", \"n_Expt\", \"nDiff_GetV1TautomerEnumerator\", \"nDiff_CACTVS\", \"nDiff_NIH\", \"nDiff_Expt\"]).sort(\"Ref\")\n",
    "df_narrow_set"
   ]
  },
  {
   "cell_type": "code",
   "execution_count": 73,
   "metadata": {},
   "outputs": [
    {
     "data": {
      "text/plain": [
       "5"
      ]
     },
     "execution_count": 73,
     "metadata": {},
     "output_type": "execute_result"
    }
   ],
   "source": [
    "n_narrow_set = df_narrow_set.select(pl.len()).item()\n",
    "n_narrow_set"
   ]
  },
  {
   "cell_type": "code",
   "execution_count": 74,
   "metadata": {},
   "outputs": [
    {
     "data": {
      "text/html": [
       "<div><style>\n",
       ".dataframe > thead > tr,\n",
       ".dataframe > tbody > tr {\n",
       "  text-align: right;\n",
       "  white-space: pre-wrap;\n",
       "}\n",
       "</style>\n",
       "<small>shape: (5, 10)</small><table border=\"1\" class=\"dataframe\"><thead><tr><th>Ref</th><th>n_TautomerEnumerator</th><th>n_GetV1TautomerEnumerator</th><th>n_CACTVS</th><th>n_NIH</th><th>n_Expt</th><th>nDiff_GetV1TautomerEnumerator</th><th>nDiff_CACTVS</th><th>nDiff_NIH</th><th>nDiff_Expt</th></tr><tr><td>i64</td><td>u32</td><td>u32</td><td>u32</td><td>u32</td><td>u32</td><td>i64</td><td>i64</td><td>i64</td><td>i64</td></tr></thead><tbody><tr><td>467</td><td>360</td><td>353</td><td>275</td><td>32</td><td>2</td><td>7</td><td>85</td><td>328</td><td>358</td></tr><tr><td>890</td><td>454</td><td>305</td><td>258</td><td>31</td><td>2</td><td>149</td><td>196</td><td>423</td><td>452</td></tr><tr><td>891</td><td>337</td><td>340</td><td>324</td><td>26</td><td>2</td><td>-3</td><td>13</td><td>311</td><td>335</td></tr><tr><td>1512</td><td>3</td><td>2</td><td>16</td><td>8</td><td>2</td><td>1</td><td>-13</td><td>-5</td><td>1</td></tr><tr><td>1704</td><td>3</td><td>2</td><td>5</td><td>4</td><td>2</td><td>1</td><td>-2</td><td>-1</td><td>1</td></tr></tbody></table></div>"
      ],
      "text/plain": [
       "shape: (5, 10)\n",
       "┌──────┬────────────┬────────────┬──────────┬───┬────────────┬────────────┬───────────┬────────────┐\n",
       "│ Ref  ┆ n_Tautomer ┆ n_GetV1Tau ┆ n_CACTVS ┆ … ┆ nDiff_GetV ┆ nDiff_CACT ┆ nDiff_NIH ┆ nDiff_Expt │\n",
       "│ ---  ┆ Enumerator ┆ tomerEnume ┆ ---      ┆   ┆ 1TautomerE ┆ VS         ┆ ---       ┆ ---        │\n",
       "│ i64  ┆ ---        ┆ rator      ┆ u32      ┆   ┆ numerator  ┆ ---        ┆ i64       ┆ i64        │\n",
       "│      ┆ u32        ┆ ---        ┆          ┆   ┆ ---        ┆ i64        ┆           ┆            │\n",
       "│      ┆            ┆ u32        ┆          ┆   ┆ i64        ┆            ┆           ┆            │\n",
       "╞══════╪════════════╪════════════╪══════════╪═══╪════════════╪════════════╪═══════════╪════════════╡\n",
       "│ 467  ┆ 360        ┆ 353        ┆ 275      ┆ … ┆ 7          ┆ 85         ┆ 328       ┆ 358        │\n",
       "│ 890  ┆ 454        ┆ 305        ┆ 258      ┆ … ┆ 149        ┆ 196        ┆ 423       ┆ 452        │\n",
       "│ 891  ┆ 337        ┆ 340        ┆ 324      ┆ … ┆ -3         ┆ 13         ┆ 311       ┆ 335        │\n",
       "│ 1512 ┆ 3          ┆ 2          ┆ 16       ┆ … ┆ 1          ┆ -13        ┆ -5        ┆ 1          │\n",
       "│ 1704 ┆ 3          ┆ 2          ┆ 5        ┆ … ┆ 1          ┆ -2         ┆ -1        ┆ 1          │\n",
       "└──────┴────────────┴────────────┴──────────┴───┴────────────┴────────────┴───────────┴────────────┘"
      ]
     },
     "execution_count": 74,
     "metadata": {},
     "output_type": "execute_result"
    }
   ],
   "source": [
    "df_melted_aggregated.filter(pl.col(\"nDiff_CACTVS\").is_not_null()).select([\"Ref\", \"n_TautomerEnumerator\", \"n_GetV1TautomerEnumerator\", \"n_CACTVS\", \"n_NIH\", \"n_Expt\", \"nDiff_GetV1TautomerEnumerator\", \"nDiff_CACTVS\", \"nDiff_NIH\", \"nDiff_Expt\"]).sort(\"Ref\")\n",
    "df_narrow_set"
   ]
  },
  {
   "cell_type": "code",
   "execution_count": 75,
   "metadata": {},
   "outputs": [
    {
     "data": {
      "text/html": [
       "<div><style>\n",
       ".dataframe > thead > tr,\n",
       ".dataframe > tbody > tr {\n",
       "  text-align: right;\n",
       "  white-space: pre-wrap;\n",
       "}\n",
       "</style>\n",
       "<small>shape: (1, 4)</small><table border=\"1\" class=\"dataframe\"><thead><tr><th>sum_nDiff_GetV1TautomerEnumerator</th><th>sum_nDiff_CACTVS</th><th>sum_nDiff_NIH</th><th>sum_nDiff_Expt</th></tr><tr><td>i64</td><td>i64</td><td>i64</td><td>i64</td></tr></thead><tbody><tr><td>155</td><td>279</td><td>1056</td><td>1147</td></tr></tbody></table></div>"
      ],
      "text/plain": [
       "shape: (1, 4)\n",
       "┌───────────────────────────────────┬──────────────────┬───────────────┬────────────────┐\n",
       "│ sum_nDiff_GetV1TautomerEnumerato… ┆ sum_nDiff_CACTVS ┆ sum_nDiff_NIH ┆ sum_nDiff_Expt │\n",
       "│ ---                               ┆ ---              ┆ ---           ┆ ---            │\n",
       "│ i64                               ┆ i64              ┆ i64           ┆ i64            │\n",
       "╞═══════════════════════════════════╪══════════════════╪═══════════════╪════════════════╡\n",
       "│ 155                               ┆ 279              ┆ 1056          ┆ 1147           │\n",
       "└───────────────────────────────────┴──────────────────┴───────────────┴────────────────┘"
      ]
     },
     "execution_count": 75,
     "metadata": {},
     "output_type": "execute_result"
    }
   ],
   "source": [
    "df_narrow_set = df_narrow_set.select(cs.starts_with(\"nDiff_\").name.prefix(\"sum_\")).sum()\n",
    "df_narrow_set"
   ]
  },
  {
   "cell_type": "code",
   "execution_count": 76,
   "metadata": {},
   "outputs": [
    {
     "data": {
      "text/html": [
       "<div><style>\n",
       ".dataframe > thead > tr,\n",
       ".dataframe > tbody > tr {\n",
       "  text-align: right;\n",
       "  white-space: pre-wrap;\n",
       "}\n",
       "</style>\n",
       "<small>shape: (1, 4)</small><table border=\"1\" class=\"dataframe\"><thead><tr><th>per_ref_sum_nDiff_GetV1TautomerEnumerator</th><th>per_ref_sum_nDiff_CACTVS</th><th>per_ref_sum_nDiff_NIH</th><th>per_ref_sum_nDiff_Expt</th></tr><tr><td>f64</td><td>f64</td><td>f64</td><td>f64</td></tr></thead><tbody><tr><td>31.0</td><td>55.8</td><td>211.2</td><td>229.4</td></tr></tbody></table></div>"
      ],
      "text/plain": [
       "shape: (1, 4)\n",
       "┌────────────────────────┬────────────────────────┬───────────────────────┬────────────────────────┐\n",
       "│ per_ref_sum_nDiff_GetV ┆ per_ref_sum_nDiff_CACT ┆ per_ref_sum_nDiff_NIH ┆ per_ref_sum_nDiff_Expt │\n",
       "│ 1TautomerE…            ┆ VS                     ┆ ---                   ┆ ---                    │\n",
       "│ ---                    ┆ ---                    ┆ f64                   ┆ f64                    │\n",
       "│ f64                    ┆ f64                    ┆                       ┆                        │\n",
       "╞════════════════════════╪════════════════════════╪═══════════════════════╪════════════════════════╡\n",
       "│ 31.0                   ┆ 55.8                   ┆ 211.2                 ┆ 229.4                  │\n",
       "└────────────────────────┴────────────────────────┴───────────────────────┴────────────────────────┘"
      ]
     },
     "execution_count": 76,
     "metadata": {},
     "output_type": "execute_result"
    }
   ],
   "source": [
    "df_narrow_set.select((pl.all()/n_narrow_set).round(1).name.prefix(\"per_ref_\"))"
   ]
  },
  {
   "cell_type": "markdown",
   "metadata": {},
   "source": [
    "So in this fairer comparison, the sources' differences in number of tautomers identified compared to RDKit's baseline algorithm are, from least to greatest deficit:\n",
    "- RDKit's GetV1TautomerEnumerator, which finds 31.0 fewer tautomers per reference\n",
    "- CACTVS algorithm, which finds 55.8 fewer tautomers per reference\n",
    "- NIH algorithm, which finds 211.2 fewer tautomers per reference\n",
    "- Experimental results, which finds 229.4 fewer tautomers per reference"
   ]
  },
  {
   "cell_type": "code",
   "execution_count": 77,
   "metadata": {},
   "outputs": [
    {
     "data": {
      "text/plain": [
       "149"
      ]
     },
     "execution_count": 77,
     "metadata": {},
     "output_type": "execute_result"
    }
   ],
   "source": [
    "max(df_melted_aggregated[\"nDiff_GetV1TautomerEnumerator\"])"
   ]
  },
  {
   "cell_type": "code",
   "execution_count": 78,
   "metadata": {},
   "outputs": [
    {
     "data": {
      "text/plain": [
       "-418"
      ]
     },
     "execution_count": 78,
     "metadata": {},
     "output_type": "execute_result"
    }
   ],
   "source": [
    "min(df_melted_aggregated[\"nDiff_GetV1TautomerEnumerator\"])"
   ]
  },
  {
   "cell_type": "code",
   "execution_count": 79,
   "metadata": {},
   "outputs": [
    {
     "data": {
      "text/plain": [
       "{'count(-5)': 19,\n",
       " 'count(-4)': 33,\n",
       " 'count(-3)': 47,\n",
       " 'count(-2)': 65,\n",
       " 'count(-1)': 96,\n",
       " 'count(0)': 1208,\n",
       " 'count(1)': 85,\n",
       " 'count(2)': 7,\n",
       " 'count(3)': 13,\n",
       " 'count(4)': 15,\n",
       " 'count(5)': 2,\n",
       " 'mean': -4.655968468468468,\n",
       " 'median': 0.0,\n",
       " 'mode': 0,\n",
       " 'std dev': 26.426286494292796}"
      ]
     },
     "execution_count": 79,
     "metadata": {},
     "output_type": "execute_result"
    }
   ],
   "source": [
    "stats_for_iterable(df_melted_aggregated[\"nDiff_GetV1TautomerEnumerator\"])"
   ]
  },
  {
   "cell_type": "code",
   "execution_count": 80,
   "metadata": {},
   "outputs": [
    {
     "data": {
      "text/plain": [
       "{'count(-5)': 0,\n",
       " 'count(-4)': 0,\n",
       " 'count(-3)': 0,\n",
       " 'count(-2)': 0,\n",
       " 'count(-1)': 0,\n",
       " 'count(0)': 1292,\n",
       " 'count(1)': 162,\n",
       " 'count(2)': 110,\n",
       " 'count(3)': 56,\n",
       " 'count(4)': 36,\n",
       " 'count(5)': 27,\n",
       " 'mean': 1.4245495495495495,\n",
       " 'median': 0.0,\n",
       " 'mode': 0,\n",
       " 'std dev': 11.796726441117364}"
      ]
     },
     "execution_count": 80,
     "metadata": {},
     "output_type": "execute_result"
    }
   ],
   "source": [
    "stats_for_iterable(df_melted_aggregated[\"nDiff_TautomerEnumerator_InChI\"])"
   ]
  },
  {
   "cell_type": "markdown",
   "metadata": {},
   "source": [
    "### Graphical comparison"
   ]
  },
  {
   "cell_type": "markdown",
   "metadata": {},
   "source": [
    "We plot a histogram of the difference in the number of tautomers for the two sources which have data for all Refs: RDKit V1 enumerator, and experimental. We'll save the sparse-data sources for another plot for clarity."
   ]
  },
  {
   "cell_type": "code",
   "execution_count": 81,
   "metadata": {},
   "outputs": [
    {
     "data": {
      "image/png": "[encoded data removed]",
      "text/plain": [
       "<Figure size 640x480 with 1 Axes>"
      ]
     },
     "metadata": {},
     "output_type": "display_data"
    }
   ],
   "source": [
    "n_tauts_diff_all = {source: n_tauts_diff[f\"{source}\"] for source in sources.keys() if sources[source] == \"all\"}\n",
    "\n",
    "# Set the x bounds (will go from negative to positive of this value)\n",
    "x_len = 17\n",
    "\n",
    "# Calculate the percent of each data series (excluding delta=0) this plot covers\n",
    "\n",
    "# Create dictionaries to store values in; keys will be data sources\n",
    "n_tauts_diff_no_zeros_this_range = dict()\n",
    "non_zero_counts_this_range = dict()\n",
    "for source in n_tauts_diff_all.keys():\n",
    "    n_tauts_diff_no_zeros_this_range.update(\n",
    "        {source: [diff for diff in n_tauts_diff_no_zeros[source] if abs(diff) <= x_len]}\n",
    "    )\n",
    "    non_zero_counts_this_range.update(\n",
    "        {\n",
    "            source: len(n_tauts_diff_no_zeros_this_range[source])\n",
    "            / len(n_tauts_diff_no_zeros[source])\n",
    "        }\n",
    "    )\n",
    "non_zero_counts_this_range_min = min(list(non_zero_counts_this_range.values()))\n",
    "\n",
    "# Set an accessible color palette from https://venngage.com/tools/accessible-color-palette-generator\n",
    "colors = [\n",
    "    \"#029356\",\n",
    "    # \"#009eb0\",\n",
    "    # \"#0073e6\",\n",
    "    \"#606ff3\",\n",
    "    # \"#9b8bf4\",\n",
    "    ]\n",
    "sns.set_palette(sns.color_palette(colors))\n",
    "\n",
    "plt.ylabel(\"Frequency\")\n",
    "xlabel = \"Difference in # tautomers from RDKit v2 algorithm minus other source\"\n",
    "xlabel += f\"\\n(this range covers at least {non_zero_counts_this_range_min:.0%} of non-zero counts for each source)\"\n",
    "plt.xlabel(xlabel)\n",
    "\n",
    "# Limit the max y to avoid making smaller y values too hard to discern\n",
    "plt.ylim(0, 600)\n",
    "\n",
    "# Because this max y cuts off the y value for GetV1TautomerEnumerator at delta = 0, show the value as a label\n",
    "\n",
    "# Find the frequency at n_tauts_diff = 0\n",
    "frequency_at_zero = n_tauts_diff[\"GetV1TautomerEnumerator\"].count(0)\n",
    "\n",
    "# Annotate the plot with the frequency at n_tauts_diff = 0 for GetV1TautomerEnumerator\n",
    "plt.text(\n",
    "    1.5,\n",
    "    max(plt.ylim()) * 0.9,\n",
    "    f\"0 has frequency of {frequency_at_zero}\\nfor GetV1TautomerEnumerator\",\n",
    "    ha=\"left\",\n",
    "    va=\"bottom\",\n",
    "    color=colors[0],\n",
    ")\n",
    "\n",
    "# Set the histogram bins so there will be a bin (bar) for each integer value\n",
    "x_min = (-1 * x_len) - 2\n",
    "x_max = x_len + 2\n",
    "bins = range(x_min, x_max, 1)\n",
    "\n",
    "# Create the histogram plot\n",
    "sns.histplot(n_tauts_diff_all, bins=bins)\n",
    "\n",
    "plt.show()"
   ]
  },
  {
   "cell_type": "markdown",
   "metadata": {},
   "source": [
    "Here's the histogram for the RDKit V1 enumerator only."
   ]
  },
  {
   "cell_type": "code",
   "execution_count": 82,
   "metadata": {},
   "outputs": [
    {
     "data": {
      "image/png": "[encoded data removed]",
      "text/plain": [
       "<Figure size 1500x600 with 1 Axes>"
      ]
     },
     "metadata": {},
     "output_type": "display_data"
    }
   ],
   "source": [
    "n_tauts_diff_all = {source: n_tauts_diff[f\"{source}\"] for source in sources.keys() if source == \"GetV1TautomerEnumerator\"}\n",
    "\n",
    "# Set the x bounds (will go from negative to positive of this value)\n",
    "x_axis_min = -650\n",
    "x_axis_max = 300\n",
    "\n",
    "# Set the histogram bins so there will be a bin (bar) for each integer value\n",
    "bins = range(x_axis_min, x_axis_max, 1)\n",
    "\n",
    "# Calculate the percent of each data series (excluding delta=0) this plot covers\n",
    "\n",
    "# Create dictionaries to store values in; keys will be data sources\n",
    "n_tauts_diff_no_zeros_this_range = dict()\n",
    "non_zero_counts_this_range = dict()\n",
    "for source in n_tauts_diff_all.keys():\n",
    "    n_tauts_diff_no_zeros_this_range.update(\n",
    "        {source: [diff for diff in n_tauts_diff_no_zeros[source] if abs(diff) <= x_len]}\n",
    "    )\n",
    "    non_zero_counts_this_range.update(\n",
    "        {\n",
    "            source: len(n_tauts_diff_no_zeros_this_range[source])\n",
    "            / len(n_tauts_diff_no_zeros[source])\n",
    "        }\n",
    "    )\n",
    "non_zero_counts_this_range_min = min(list(non_zero_counts_this_range.values()))\n",
    "\n",
    "# Set an accessible color palette from https://venngage.com/tools/accessible-color-palette-generator\n",
    "colors = [\n",
    "    \"#029356\",\n",
    "    # \"#009eb0\",\n",
    "    # \"#0073e6\",\n",
    "    \"#606ff3\",\n",
    "    # \"#9b8bf4\",\n",
    "    ]\n",
    "sns.set_palette(sns.color_palette(colors))\n",
    "\n",
    "# Set the width and height of the plot\n",
    "plt.figure(figsize=(15, 6))  # Adjust the width as per your requirement\n",
    "\n",
    "# Create the histogram plot\n",
    "sns.histplot(n_tauts_diff_all, bins=bins)\n",
    "\n",
    "plt.ylabel(\"Frequency\")\n",
    "xlabel = \"Difference in # tautomers from RDKit v2 algorithm minus other source\"\n",
    "xlabel += f\"\\n(this range covers at least {non_zero_counts_this_range_min:.0%} of non-zero counts for each source)\"\n",
    "plt.xlabel(xlabel)\n",
    "\n",
    "# Limit the max y to avoid making smaller y values too hard to discern\n",
    "plt.ylim(0, 8)\n",
    "\n",
    "# Because this max y cuts off the y value for GetV1TautomerEnumerator at delta = 0, show the value as a label\n",
    "\n",
    "# Find the frequency at n_tauts_diff = 0\n",
    "frequency_at_zero = n_tauts_diff[\"GetV1TautomerEnumerator\"].count(0)\n",
    "\n",
    "# Annotate the plot with the frequency at n_tauts_diff = 0 for GetV1TautomerEnumerator\n",
    "plt.text(\n",
    "    -45,\n",
    "    max(plt.ylim()) * 0.9,\n",
    "    f\"0 has frequency of {frequency_at_zero}\\nfor GetV1TautomerEnumerator\",\n",
    "    ha=\"right\",\n",
    "    va=\"bottom\",\n",
    "    color=colors[0],\n",
    ")\n",
    "\n",
    "plt.show()"
   ]
  },
  {
   "cell_type": "markdown",
   "metadata": {},
   "source": [
    "Here's the histogram for sources with sparse data: NIH and CACTVS."
   ]
  },
  {
   "cell_type": "code",
   "execution_count": 83,
   "metadata": {},
   "outputs": [
    {
     "data": {
      "image/png": "[encoded data removed]",
      "text/plain": [
       "<Figure size 1200x600 with 1 Axes>"
      ]
     },
     "metadata": {},
     "output_type": "display_data"
    }
   ],
   "source": [
    "# Plot histogram of n_tauts_diff for sources which do not have data for all refs, because each molecule is run manually\n",
    "n_tauts_diff_manual = {source: n_tauts_diff[source] for source in sources.keys() if sources[source] == \"manual\"}\n",
    "\n",
    "#TODO instead of using .to_list and then min() and max(), use Polars expressions to get min and max\n",
    "\n",
    "# Set the histogram bins so there will be a bin (bar) for each integer value\n",
    "combined_set = set(item for sublist in n_tauts_diff_manual.values() for item in sublist)\n",
    "x_min, x_max = min(combined_set), max(combined_set)\n",
    "\n",
    "bins = range(x_min, x_max+1, 1)\n",
    "\n",
    "colors = [\n",
    "    # \"#029356\",\n",
    "    \"#009eb0\",\n",
    "    # \"#0073e6\",\n",
    "    # \"#606ff3\",\n",
    "    \"#9b8bf4\",\n",
    "    ]\n",
    "\n",
    "plt.figure(figsize=(12, 6))  # Adjust the width and height as needed\n",
    "sns.histplot(\n",
    "    n_tauts_diff_manual, \n",
    "    bins=bins,\n",
    "    )\n",
    "sns.set_palette(sns.color_palette(colors))\n",
    "\n",
    "# Set the x bounds (will go from negative to positive of this value)\n",
    "\n",
    "plt.ylabel(\"Frequency\")\n",
    "xlabel = f\"Difference in # tautomers from RDKit v2 algorithm minus other source\"\n",
    "plt.xlabel(xlabel)\n",
    "\n",
    "# Get the current axis from the plot\n",
    "ax = plt.gca()\n",
    "\n",
    "# Set y-axis ticks to be at only integer values\n",
    "ax.yaxis.set_major_locator(MultipleLocator(1))\n",
    "\n",
    "plt.show()"
   ]
  },
  {
   "cell_type": "markdown",
   "metadata": {},
   "source": [
    "### InChI coverage of multiple SMILES"
   ]
  },
  {
   "cell_type": "markdown",
   "metadata": {},
   "source": [
    "Similar to what we did with the experimentally-observed structures, let's check how well InChI represents multiple SMILES with one InChI. We start by checking how many fewer InChI are required to represent the set of SMILES for each Ref."
   ]
  },
  {
   "cell_type": "code",
   "execution_count": 84,
   "metadata": {},
   "outputs": [
    {
     "data": {
      "text/html": [
       "<div><style>\n",
       ".dataframe > thead > tr,\n",
       ".dataframe > tbody > tr {\n",
       "  text-align: right;\n",
       "  white-space: pre-wrap;\n",
       "}\n",
       "</style>\n",
       "<small>shape: (10, 4)</small><table border=\"1\" class=\"dataframe\"><thead><tr><th>nDiff_TautomerEnumerator_InChI</th><th>count</th><th>pct</th><th>cumulative_pct</th></tr><tr><td>i64</td><td>u32</td><td>f64</td><td>f64</td></tr></thead><tbody><tr><td>0</td><td>1292</td><td>72.7</td><td>72.7</td></tr><tr><td>1</td><td>162</td><td>9.1</td><td>81.9</td></tr><tr><td>2</td><td>110</td><td>6.2</td><td>88.1</td></tr><tr><td>3</td><td>56</td><td>3.2</td><td>91.2</td></tr><tr><td>4</td><td>36</td><td>2.0</td><td>93.2</td></tr><tr><td>5</td><td>27</td><td>1.5</td><td>94.8</td></tr><tr><td>6</td><td>24</td><td>1.4</td><td>96.1</td></tr><tr><td>7</td><td>18</td><td>1.0</td><td>97.1</td></tr><tr><td>8</td><td>6</td><td>0.3</td><td>97.5</td></tr><tr><td>9</td><td>3</td><td>0.2</td><td>97.6</td></tr></tbody></table></div>"
      ],
      "text/plain": [
       "shape: (10, 4)\n",
       "┌────────────────────────────────┬───────┬──────┬────────────────┐\n",
       "│ nDiff_TautomerEnumerator_InChI ┆ count ┆ pct  ┆ cumulative_pct │\n",
       "│ ---                            ┆ ---   ┆ ---  ┆ ---            │\n",
       "│ i64                            ┆ u32   ┆ f64  ┆ f64            │\n",
       "╞════════════════════════════════╪═══════╪══════╪════════════════╡\n",
       "│ 0                              ┆ 1292  ┆ 72.7 ┆ 72.7           │\n",
       "│ 1                              ┆ 162   ┆ 9.1  ┆ 81.9           │\n",
       "│ 2                              ┆ 110   ┆ 6.2  ┆ 88.1           │\n",
       "│ 3                              ┆ 56    ┆ 3.2  ┆ 91.2           │\n",
       "│ 4                              ┆ 36    ┆ 2.0  ┆ 93.2           │\n",
       "│ 5                              ┆ 27    ┆ 1.5  ┆ 94.8           │\n",
       "│ 6                              ┆ 24    ┆ 1.4  ┆ 96.1           │\n",
       "│ 7                              ┆ 18    ┆ 1.0  ┆ 97.1           │\n",
       "│ 8                              ┆ 6     ┆ 0.3  ┆ 97.5           │\n",
       "│ 9                              ┆ 3     ┆ 0.2  ┆ 97.6           │\n",
       "└────────────────────────────────┴───────┴──────┴────────────────┘"
      ]
     },
     "execution_count": 84,
     "metadata": {},
     "output_type": "execute_result"
    }
   ],
   "source": [
    "df_InChI = df_melted_aggregated.select(pl.col(\"nDiff_TautomerEnumerator_InChI\").value_counts()).unnest(\"nDiff_TautomerEnumerator_InChI\").sort(\"nDiff_TautomerEnumerator_InChI\").with_columns(\n",
    "    pct = ((pl.col(\"count\") / pl.col(\"count\").sum()) * 100).round(1),\n",
    "    cumulative_pct = ((pl.col(\"count\").cum_sum() / pl.col(\"count\").sum()) * 100).round(1),\n",
    ")\n",
    "df_InChI.head(10)"
   ]
  },
  {
   "cell_type": "markdown",
   "metadata": {},
   "source": [
    "For almost 73% of the Refs, InChI does not need any fewer representations than SMILES; that is, one InChI is not covering multiple SMILES. For about 9% of Refs, InChI needs one fewer representation that SMILES. Here's how many total representations each uses:"
   ]
  },
  {
   "cell_type": "code",
   "execution_count": 85,
   "metadata": {},
   "outputs": [
    {
     "data": {
      "text/html": [
       "<div><style>\n",
       ".dataframe > thead > tr,\n",
       ".dataframe > tbody > tr {\n",
       "  text-align: right;\n",
       "  white-space: pre-wrap;\n",
       "}\n",
       "</style>\n",
       "<small>shape: (1, 3)</small><table border=\"1\" class=\"dataframe\"><thead><tr><th>sum_n_TautomerEnumerator</th><th>sum_n_TautomerEnumerator_InChI</th><th>sum_nDiff_TautomerEnumerator_InChI</th></tr><tr><td>u32</td><td>u32</td><td>i64</td></tr></thead><tbody><tr><td>21163</td><td>18633</td><td>2530</td></tr></tbody></table></div>"
      ],
      "text/plain": [
       "shape: (1, 3)\n",
       "┌──────────────────────────┬────────────────────────────────┬───────────────────────────────────┐\n",
       "│ sum_n_TautomerEnumerator ┆ sum_n_TautomerEnumerator_InChI ┆ sum_nDiff_TautomerEnumerator_InC… │\n",
       "│ ---                      ┆ ---                            ┆ ---                               │\n",
       "│ u32                      ┆ u32                            ┆ i64                               │\n",
       "╞══════════════════════════╪════════════════════════════════╪═══════════════════════════════════╡\n",
       "│ 21163                    ┆ 18633                          ┆ 2530                              │\n",
       "└──────────────────────────┴────────────────────────────────┴───────────────────────────────────┘"
      ]
     },
     "execution_count": 85,
     "metadata": {},
     "output_type": "execute_result"
    }
   ],
   "source": [
    "df_InChI_compare = df_melted_aggregated.select([\"n_TautomerEnumerator\", \"n_TautomerEnumerator_InChI\", \"nDiff_TautomerEnumerator_InChI\"]).select(pl.all().name.prefix(\"sum_\")).sum()\n",
    "df_InChI_compare"
   ]
  },
  {
   "cell_type": "markdown",
   "metadata": {},
   "source": [
    "and on a per-reference basis:"
   ]
  },
  {
   "cell_type": "code",
   "execution_count": 86,
   "metadata": {},
   "outputs": [
    {
     "data": {
      "text/html": [
       "<div><style>\n",
       ".dataframe > thead > tr,\n",
       ".dataframe > tbody > tr {\n",
       "  text-align: right;\n",
       "  white-space: pre-wrap;\n",
       "}\n",
       "</style>\n",
       "<small>shape: (1, 3)</small><table border=\"1\" class=\"dataframe\"><thead><tr><th>per_ref_sum_n_TautomerEnumerator</th><th>per_ref_sum_n_TautomerEnumerator_InChI</th><th>per_ref_sum_nDiff_TautomerEnumerator_InChI</th></tr><tr><td>f64</td><td>f64</td><td>f64</td></tr></thead><tbody><tr><td>11.9</td><td>10.5</td><td>1.4</td></tr></tbody></table></div>"
      ],
      "text/plain": [
       "shape: (1, 3)\n",
       "┌────────────────────────────────┬────────────────────────────────┬────────────────────────────────┐\n",
       "│ per_ref_sum_n_TautomerEnumerat ┆ per_ref_sum_n_TautomerEnumerat ┆ per_ref_sum_nDiff_TautomerEnum │\n",
       "│ or                             ┆ or…                            ┆ er…                            │\n",
       "│ ---                            ┆ ---                            ┆ ---                            │\n",
       "│ f64                            ┆ f64                            ┆ f64                            │\n",
       "╞════════════════════════════════╪════════════════════════════════╪════════════════════════════════╡\n",
       "│ 11.9                           ┆ 10.5                           ┆ 1.4                            │\n",
       "└────────────────────────────────┴────────────────────────────────┴────────────────────────────────┘"
      ]
     },
     "execution_count": 86,
     "metadata": {},
     "output_type": "execute_result"
    }
   ],
   "source": [
    "df_InChI_compare.select((pl.all()/Ref_count).round(1).name.prefix(\"per_ref_\"))"
   ]
  },
  {
   "cell_type": "markdown",
   "metadata": {},
   "source": [
    "and on a percent basis:"
   ]
  },
  {
   "cell_type": "code",
   "execution_count": 87,
   "metadata": {},
   "outputs": [
    {
     "name": "stdout",
     "output_type": "stream",
     "text": [
      "2530 / 21163 = 12%\n"
     ]
    }
   ],
   "source": [
    "nDiff_EnumeratorInChI = df_InChI_compare[\"sum_nDiff_TautomerEnumerator_InChI\"].item()\n",
    "n_Enumerator = df_InChI_compare[\"sum_n_TautomerEnumerator\"].item()\n",
    "delta = (nDiff_EnumeratorInChI / n_Enumerator)\n",
    "print(f\"{nDiff_EnumeratorInChI} / {n_Enumerator} = {delta:.0%}\")"
   ]
  },
  {
   "cell_type": "markdown",
   "metadata": {},
   "source": [
    "So InChI needs on average 10.5 representations per reference, a reduction of 1.4 (12%) from SMILES. If InChI were totally successful at representing all tautomers with one InChI, it would need only one InChI per reference, so clearly there are improvements to be made to reach that goal."
   ]
  },
  {
   "cell_type": "markdown",
   "metadata": {},
   "source": [
    "Let's break that out the reduction of the number of representations using InChI into a histogram."
   ]
  },
  {
   "cell_type": "code",
   "execution_count": 88,
   "metadata": {},
   "outputs": [
    {
     "data": {
      "image/png": "[encoded data removed]",
      "text/plain": [
       "<Figure size 1200x600 with 1 Axes>"
      ]
     },
     "metadata": {},
     "output_type": "display_data"
    }
   ],
   "source": [
    "# Plot histogram of n_tauts_diff for InChI compared to SMILES for RDKit V2\n",
    "n_tauts_diff_InChI = df_melted_aggregated[\"nDiff_TautomerEnumerator_InChI\"].to_list()\n",
    "\n",
    "n_tauts_diff_InChI_large = [item for item in n_tauts_diff_InChI if item > 100]\n",
    "\n",
    "x_min, x_max = min(n_tauts_diff_InChI), max(n_tauts_diff_InChI)\n",
    "\n",
    "plt.figure(figsize=(12, 6))  # Adjust the width and height as needed\n",
    "sns.histplot(\n",
    "    df_melted_aggregated[\"nDiff_TautomerEnumerator_InChI\"], \n",
    "    log_scale=(False, True),\n",
    "    linewidth=1,\n",
    "    )\n",
    "\n",
    "# Set the x bounds (will go from negative to positive of this value)\n",
    "\n",
    "plt.ylabel(\"Frequency\")\n",
    "xlabel = f\"Difference in # representations from RDKit v2 algorithm: SMILES minus InChI\"\n",
    "plt.xlabel(xlabel)\n",
    "\n",
    "plt.show()"
   ]
  },
  {
   "cell_type": "markdown",
   "metadata": {},
   "source": [
    "## Visualizing tautomeric structures"
   ]
  },
  {
   "cell_type": "markdown",
   "metadata": {},
   "source": [
    "Let's make these results more concrete by visualizing molecular structures. To set up a grid with each row representing a tautomer source, we'll use my RDKit contribution MolsMatrixToGridImage() so we don't have to worry about how many tautomers each source has."
   ]
  },
  {
   "cell_type": "markdown",
   "metadata": {},
   "source": [
    "The columns will also have meaning: To demonstrate which sources have the same structures, we'll have each column represent a structure. If that source has that structure, there will be an entry in that cell; if not, it will be blank. To set that up, we define a function to align one iterable below another."
   ]
  },
  {
   "cell_type": "code",
   "execution_count": 89,
   "metadata": {},
   "outputs": [],
   "source": [
    "def align_ordered_iterables(\n",
    "        ordered_iterable1: list|tuple,\n",
    "        ordered_iterable2: list|tuple,\n",
    "        filler = \"\",\n",
    ") -> Iterable:\n",
    "    \"\"\"Align the second ordered iterable under the first (in columns), using the filler for items in list1 not in list2, \n",
    "    for example:\n",
    "    \n",
    "    input:\n",
    "    list1: a,  c,  b\n",
    "    list2: a,  f,  c,  e,  d\n",
    "\n",
    "    output:\n",
    "    list2: a,  c, \"\",  f,  e,  d\n",
    "\n",
    "    Note that no other ordering is applied to either input iterable, \n",
    "    and items in the second which are not in the first will be kept in their input order.\n",
    "    If you want them to be ordered in some way, for example alphabetically, order them before calling this function.\n",
    "\n",
    "    :param list1: Template list\n",
    "    :param list2: List to be aligned under the template list\n",
    "    :param filler: The filler entry to use to provide an \"empty\" column to align list2 under list1; default is empty string but can be a number or anything else\n",
    "    :returns: Aligned list2 such that its entries will line up under the same values in list1, or be placed to the right if they are not in list1\n",
    "    \"\"\"\n",
    "    # If either list has no elements, return the initial ordered_iterable2\n",
    "    if any([len(ordered_iterable1)==0, len(ordered_iterable2)==0]):\n",
    "        return ordered_iterable2   \n",
    "    \n",
    "    # Determine index for each element in ordered_iterable2:\n",
    "    ordered_iterable2_indices = []\n",
    "    ordered_iterable2_index_max = len(ordered_iterable1) - 1\n",
    "    for ordered_iterable2_item in ordered_iterable2:\n",
    "        try:\n",
    "            ordered_iterable2_index = ordered_iterable1.index(ordered_iterable2_item)\n",
    "        # If item from input 2 isn't in input 1, append item to the (growing) index list\n",
    "        except ValueError:\n",
    "            ordered_iterable2_index_max += 1\n",
    "            ordered_iterable2_index = ordered_iterable2_index_max\n",
    "        # If get an AttributeError, tell user that have a bad data type\n",
    "        except AttributeError:\n",
    "            raise AttributeError(f\"The first iterable input must be a list or tuple, not a set or dictionary; it is {ordered_iterable1}, which is a {type(ordered_iterable1).__name__}\")\n",
    "        ordered_iterable2_indices.append(ordered_iterable2_index)\n",
    "\n",
    "    # Create \"empty\" (all filler) ordered_iterable2 aligned--may be longer than ordered_iterable2 due to blank spaces\n",
    "    ordered_iterable2_aligned = [filler] * (max(ordered_iterable2_indices) + 1)\n",
    "\n",
    "    # Slot in items from ordered_iterable2 to overwrite filler entries\n",
    "    for i, ordered_iterable2_col in enumerate(ordered_iterable2_indices):\n",
    "        try:\n",
    "            ordered_iterable2_aligned[ordered_iterable2_col] = ordered_iterable2[i]\n",
    "        except (TypeError, KeyError):\n",
    "                raise TypeError(f\"The second iterable input must be a list or tuple, not a set or dictionary; it is {ordered_iterable2}, which is a {type(ordered_iterable2).__name__}\")\n",
    "\n",
    "    return ordered_iterable2_aligned"
   ]
  },
  {
   "cell_type": "code",
   "execution_count": 90,
   "metadata": {},
   "outputs": [],
   "source": [
    "# Output SMILES for all RDKit V2 tautomers for a ref\n",
    "# tauts_890_rdkitv2 = df_melted_aggregated_example[0][\"flat_tautsTautomerEnumerator\"].item().to_list()\n",
    "# import csv\n",
    "\n",
    "# filename = \"../data/ref890_rdkit_v2_tautomers.csv\"\n",
    "\n",
    "# # Open the file in write mode\n",
    "# with open(filename, 'w', newline='') as csvfile:\n",
    "#     # Create a CSV writer object\n",
    "#     csvwriter = csv.writer(csvfile)\n",
    "\n",
    "#     # Write each item of the list on its own line\n",
    "#     csvwriter.writerows([[item] for item in tauts_890_rdkitv2])\n"
   ]
  },
  {
   "cell_type": "code",
   "execution_count": 91,
   "metadata": {},
   "outputs": [
    {
     "data": {
      "text/html": [
       "<div><style>\n",
       ".dataframe > thead > tr,\n",
       ".dataframe > tbody > tr {\n",
       "  text-align: right;\n",
       "  white-space: pre-wrap;\n",
       "}\n",
       "</style>\n",
       "<small>shape: (1, 24)</small><table border=\"1\" class=\"dataframe\"><thead><tr><th>Ref</th><th>canon_sml</th><th>tauts_TautomerEnumerator</th><th>tauts_GetV1TautomerEnumerator</th><th>tauts_NIH</th><th>tauts_CACTVS</th><th>tauts_TautomerEnumerator_InChI</th><th>tauts_Expt</th><th>n_TautomerEnumerator</th><th>n_GetV1TautomerEnumerator</th><th>n_NIH</th><th>n_CACTVS</th><th>n_TautomerEnumerator_InChI</th><th>n_Expt</th><th>same_GetV1TautomerEnumerator</th><th>nDiff_GetV1TautomerEnumerator</th><th>same_NIH</th><th>nDiff_NIH</th><th>same_CACTVS</th><th>nDiff_CACTVS</th><th>same_TautomerEnumerator_InChI</th><th>nDiff_TautomerEnumerator_InChI</th><th>same_Expt</th><th>nDiff_Expt</th></tr><tr><td>i64</td><td>list[str]</td><td>list[str]</td><td>list[str]</td><td>list[str]</td><td>list[str]</td><td>list[str]</td><td>list[str]</td><td>u32</td><td>u32</td><td>u32</td><td>u32</td><td>u32</td><td>u32</td><td>bool</td><td>i64</td><td>bool</td><td>i64</td><td>bool</td><td>i64</td><td>bool</td><td>i64</td><td>bool</td><td>i64</td></tr></thead><tbody><tr><td>1512</td><td>[&quot;CCP(CC)(=Nc1cc(C(c2ccccc2)(c2ccccc2)c2ccccc2)cc(C(C)(C)C)c1O)c1ccccc1&quot;, &quot;CCP1(CC)(c2ccccc2)Nc2cc(C(c3ccccc3)(c3ccccc3)c3ccccc3)cc(C(C)(C)C)c2O1&quot;]</td><td>[&quot;CCP(CC)(=Nc1cc(C(c2ccccc2)(c2ccccc2)c2ccccc2)cc(C(C)(C)C)c1O)c1ccccc1&quot;, &quot;CCP(CC)(=NC1=CC(C(c2ccccc2)(c2ccccc2)c2ccccc2)=CC(C(C)(C)C)C1=O)c1ccccc1&quot;, &quot;CCP1(CC)(c2ccccc2)Nc2cc(C(c3ccccc3)(c3ccccc3)c3ccccc3)cc(C(C)(C)C)c2O1&quot;]</td><td>[&quot;CCP(CC)(=Nc1cc(C(c2ccccc2)(c2ccccc2)c2ccccc2)cc(C(C)(C)C)c1O)c1ccccc1&quot;, &quot;CCP1(CC)(c2ccccc2)Nc2cc(C(c3ccccc3)(c3ccccc3)c3ccccc3)cc(C(C)(C)C)c2O1&quot;]</td><td>[&quot;CCP1(CC)(c2ccccc2)N=C2CC(C(c3ccccc3)(c3ccccc3)c3ccccc3)=CC(C(C)(C)C)=C2O1&quot;, &quot;CCP(CC)(=NC1=CC(C(c2ccccc2)(c2ccccc2)c2ccccc2)=CC(C(C)(C)C)C1=O)c1ccccc1&quot;, … &quot;CCP1(CC)(c2ccccc2)N=C2C=C(C(c3ccccc3)(c3ccccc3)c3ccccc3)C=C(C(C)(C)C)C2O1&quot;]</td><td>[&quot;CC[P]6(CC)(C1=CC=CC=C1)NC2=C(C(=CC(=C2)C(C3=CC=CC=C3)(C4=CC=CC=C4)C5=CC=CC=C5)C(C)(C)C)O6&quot;, &quot;CC[P]6(CC)(C1=CC=CC=C1)NC2=C(C(=CC(=C2)C(C3=CC=CC=C3)(C4=CC=CC=C4)C5=CC=CC=C5)C(C)(C)C)O6&quot;, … &quot;CC[P](CC)(=NC1=C(C(=CC(=C1)C(C2=CC=CC=C2)(C3=CC=CC=C3)C4=CC=CC=C4)C(C)(C)C)O)C5=CC=CC=C5&quot;]</td><td>[&quot;InChI=1S/C39H42NOP/c1-6-42(7-2,34-26-18-11-19-27-34)40-36-29-33(28-35(37(36)41)38(3,4)5)39(30-20-12-8-13-21-30,31-22-14-9-15-23-31)32-24-16-10-17-25-32/h8-29,35H,6-7H2,1-5H3&quot;, &quot;InChI=1S/C39H42NOP/c1-6-42(7-2,34-26-18-11-19-27-34)40-36-29-33(28-35(37(36)41)38(3,4)5)39(30-20-12-8-13-21-30,31-22-14-9-15-23-31)32-24-16-10-17-25-32/h8-29,41H,6-7H2,1-5H3&quot;, &quot;InChI=1S/C39H42NOP/c1-6-42(7-2,34-26-18-11-19-27-34)40-36-29-33(28-35(37(36)41-42)38(3,4)5)39(30-20-12-8-13-21-30,31-22-14-9-15-23-31)32-24-16-10-17-25-32/h8-29,40H,6-7H2,1-5H3&quot;]</td><td>[&quot;CCP(CC)(=Nc1cc(C(c2ccccc2)(c2ccccc2)c2ccccc2)cc(C(C)(C)C)c1O)c1ccccc1&quot;, &quot;CCP1(CC)(c2ccccc2)Nc2cc(C(c3ccccc3)(c3ccccc3)c3ccccc3)cc(C(C)(C)C)c2O1&quot;]</td><td>3</td><td>2</td><td>8</td><td>16</td><td>3</td><td>2</td><td>false</td><td>1</td><td>false</td><td>-5</td><td>false</td><td>-13</td><td>false</td><td>0</td><td>false</td><td>1</td></tr></tbody></table></div>"
      ],
      "text/plain": [
       "shape: (1, 24)\n",
       "┌──────┬────────────┬────────────┬────────────┬───┬────────────┬───────────┬───────────┬───────────┐\n",
       "│ Ref  ┆ canon_sml  ┆ tauts_Taut ┆ tauts_GetV ┆ … ┆ same_Tauto ┆ nDiff_Tau ┆ same_Expt ┆ nDiff_Exp │\n",
       "│ ---  ┆ ---        ┆ omerEnumer ┆ 1TautomerE ┆   ┆ merEnumera ┆ tomerEnum ┆ ---       ┆ t         │\n",
       "│ i64  ┆ list[str]  ┆ ator       ┆ numerator  ┆   ┆ tor_InChI  ┆ erator_In ┆ bool      ┆ ---       │\n",
       "│      ┆            ┆ ---        ┆ ---        ┆   ┆ ---        ┆ ChI       ┆           ┆ i64       │\n",
       "│      ┆            ┆ list[str]  ┆ list[str]  ┆   ┆ bool       ┆ ---       ┆           ┆           │\n",
       "│      ┆            ┆            ┆            ┆   ┆            ┆ i64       ┆           ┆           │\n",
       "╞══════╪════════════╪════════════╪════════════╪═══╪════════════╪═══════════╪═══════════╪═══════════╡\n",
       "│ 1512 ┆ [\"CCP(CC)( ┆ [\"CCP(CC)( ┆ [\"CCP(CC)( ┆ … ┆ false      ┆ 0         ┆ false     ┆ 1         │\n",
       "│      ┆ =Nc1cc(C(c ┆ =Nc1cc(C(c ┆ =Nc1cc(C(c ┆   ┆            ┆           ┆           ┆           │\n",
       "│      ┆ 2ccccc2)(c ┆ 2ccccc2)(c ┆ 2ccccc2)(c ┆   ┆            ┆           ┆           ┆           │\n",
       "│      ┆ 2c…        ┆ 2c…        ┆ 2c…        ┆   ┆            ┆           ┆           ┆           │\n",
       "└──────┴────────────┴────────────┴────────────┴───┴────────────┴───────────┴───────────┴───────────┘"
      ]
     },
     "execution_count": 91,
     "metadata": {},
     "output_type": "execute_result"
    }
   ],
   "source": [
    "df_melted_aggregated_example = df_melted_aggregated.filter(pl.col(\"Ref\") == 1512) # Asked Marc Nicklaus to generate CACTVS tautomers for\n",
    "df_melted_aggregated_example"
   ]
  },
  {
   "cell_type": "code",
   "execution_count": 92,
   "metadata": {},
   "outputs": [],
   "source": [
    "df_melted_aggregated_example = df_melted_aggregated.filter(pl.col(\"Ref\") == 467)\n",
    "# df_melted_aggregated_example = df_melted_aggregated.filter(pl.col(\"Ref\") == 890) # Asked Marc Nicklaus to generate CACTVS tautomers for\n",
    "# df_melted_aggregated_example = df_melted_aggregated.filter(pl.col(\"Ref\") == 891) # Asked Marc Nicklaus to generate CACTVS tautomers for\n",
    "# df_melted_aggregated_example = df_melted_aggregated.filter(pl.col(\"Ref\") == 1512) # Asked Marc Nicklaus to generate CACTVS tautomers for\n",
    "# df_melted_aggregated_example = df_melted_aggregated.filter(pl.col(\"Ref\") == 1704) # Asked Marc Nicklaus to generate CACTVS tautomers for\n",
    "# df_melted_aggregated_example"
   ]
  },
  {
   "cell_type": "code",
   "execution_count": 93,
   "metadata": {},
   "outputs": [],
   "source": [
    "# df_melted_aggregated_300 = df_melted_aggregated.filter(pl.col(\"n_TautomerEnumerator\") > 300)\n",
    "df_melted_aggregated_300 = df_melted_aggregated.filter(pl.col(\"n_TautomerEnumerator\") > 300)\n",
    "\n",
    "smls_v2_300 = [item[0] for item in df_melted_aggregated_300[\"tauts_TautomerEnumerator\"].to_list()]\n",
    "# df_melted_aggregated_example[\"flat_tautsTautomerEnumerator\"].to_list()"
   ]
  },
  {
   "cell_type": "code",
   "execution_count": 94,
   "metadata": {},
   "outputs": [],
   "source": [
    "# For the various data sources, extract SMILES, align them sequentially, and create RDKit molecules for drawing \n",
    "smls_expt = df_melted_aggregated_example.select(\"tauts_Expt\").item().to_list()\n",
    "smls_v2 = df_melted_aggregated_example.select(\"tauts_TautomerEnumerator\").item().to_list()\n",
    "smls_v2_aligned = align_ordered_iterables(smls_expt, smls_v2)\n",
    "smls_v1 = df_melted_aggregated_example.select(\"tauts_GetV1TautomerEnumerator\").item().to_list()\n",
    "smls_v1_aligned = align_ordered_iterables(smls_v2_aligned, smls_v1)\n",
    "smls_nih = df_melted_aggregated_example.select(\"tauts_NIH\").item().to_list()\n",
    "smls_nih_aligned = align_ordered_iterables(smls_v1_aligned, smls_nih)\n",
    "smls_cactvs = df_melted_aggregated_example.select(\"tauts_CACTVS\").item().to_list()\n",
    "smls_cactvs_aligned = align_ordered_iterables(smls_nih_aligned, smls_cactvs)\n",
    "\n",
    "tauts_expt = [mol_from_sml(sml) for sml in smls_expt]\n",
    "tauts_v2_aligned = [mol_from_sml(sml) if sml else None for sml in smls_v2_aligned]\n",
    "tauts_v1_aligned = [mol_from_sml(sml) if sml else None for sml in smls_v1_aligned]\n",
    "tauts_nih_aligned = [mol_from_sml(sml) if sml else None for sml in smls_nih_aligned]\n",
    "tauts_cactvs_aligned = [mol_from_sml(sml) if sml else None for sml in smls_cactvs_aligned]"
   ]
  },
  {
   "cell_type": "code",
   "execution_count": 95,
   "metadata": {},
   "outputs": [],
   "source": [
    "def find_first_non_none_index(lst):\n",
    "    for i, item in enumerate(lst):\n",
    "        if item is not None:\n",
    "            return i\n",
    "    return None  # Return None if all elements are None"
   ]
  },
  {
   "cell_type": "markdown",
   "metadata": {},
   "source": [
    "Any time we show tautomeric structures, it's helpful to align maximum common substructure (MCS) so we can focus on the differences between the tautomers in the same orientation."
   ]
  },
  {
   "cell_type": "code",
   "execution_count": 96,
   "metadata": {},
   "outputs": [
    {
     "data": {
      "image/png": "[encoded data removed]",
      "text/plain": [
       "<IPython.core.display.Image object>"
      ]
     },
     "execution_count": 96,
     "metadata": {},
     "output_type": "execute_result"
    }
   ],
   "source": [
    "# Plot all sets of tautomers\n",
    "\n",
    "# Limit number of columns so structures will be readable\n",
    "max_cols = 6\n",
    "# Create nested (2D) data structures for Draw.MolsMatrixToGridImage\n",
    "smls_matrix = [\n",
    "    smls_expt,\n",
    "    smls_v2_aligned,\n",
    "    smls_v1_aligned,\n",
    "]\n",
    "tauts_matrix = [\n",
    "    tauts_expt[:max_cols],\n",
    "    tauts_v2_aligned[:max_cols],\n",
    "    tauts_v1_aligned[:max_cols],\n",
    "]\n",
    "\n",
    "row_labels = [\n",
    "    f\"Expt: {len(smls_expt)} tautomers\",\n",
    "    f\"RDKit v2 code: {len(smls_v2)} tautomers\",\n",
    "    f\"RDKit v1 code: {len(smls_v1)} tautomers\",\n",
    "]\n",
    "\n",
    "# If NIH tautomers generated, add row for them\n",
    "if not all([sml is None for sml in smls_nih]):\n",
    "    smls_matrix.append(smls_nih_aligned)\n",
    "    tauts_matrix.append(tauts_nih_aligned[:max_cols])\n",
    "    row_labels.append(f\"NIH code: {len(smls_nih)} tautomers\")\n",
    "\n",
    "# If CACTVS tautomers generated, add row for them\n",
    "if not all([sml is None for sml in smls_cactvs]):\n",
    "    smls_matrix.append(smls_cactvs)\n",
    "    tauts_matrix.append(tauts_cactvs_aligned[:max_cols])\n",
    "    row_labels.append(f\"CACTVS code: {len(smls_cactvs)} tautomers\")\n",
    "\n",
    "# Initialize a legends matrix with empty strings\n",
    "legends_matrix = [[\"\" for item in row] for row in tauts_matrix]\n",
    "\n",
    "# Label first non-empty column in each row with source and number of tautomers\n",
    "# First row is the template that other rows align under, so first molecule will be non-empty\n",
    "legends_matrix[0][0] = row_labels[0]\n",
    "# For subsequent rows, any molecule could be empty (if it's not in the row(s) above)\n",
    "for label_index, row_label in enumerate(row_labels[1:]):\n",
    "    col_to_label = find_first_non_none_index(tauts_matrix[label_index+1])\n",
    "\n",
    "    if col_to_label != None:\n",
    "        legends_matrix[label_index+1][col_to_label] = row_label\n",
    "\n",
    "# Align 2D structures based on maximum common substructure (mcs)\n",
    "# Exclude blank entries to avoid problem with aligning empty molecules\n",
    "tauts_all = [\n",
    "    item for sublist in tauts_matrix for item in sublist if item is not None\n",
    "]\n",
    "mcs = rdFMCS.FindMCS(\n",
    "    tauts_all,\n",
    "    bondCompare=rdFMCS.BondCompare.CompareAny,\n",
    ")\n",
    "mcs_smarts = mcs.smartsString\n",
    "mcs_mol = Chem.MolFromSmarts(mcs_smarts)\n",
    "Chem.Compute2DCoords(mcs_mol)\n",
    "for m in tauts_all:\n",
    "    Chem.GenerateDepictionMatching2DStructure(m, mcs_mol)\n",
    "\n",
    "Draw.MolsMatrixToGridImage(\n",
    "    molsMatrix=tauts_matrix, legendsMatrix=legends_matrix, useSVG=True, maxMols=1700\n",
    ")"
   ]
  },
  {
   "cell_type": "markdown",
   "metadata": {},
   "source": [
    "The important option to set when determining the MCS for tautomers is to allow matching of any bond type, for example a single bond in one structure should match a double bond in another, because tautomers often have different bond orders at the same position. In the RDKit, that option is `bondCompare=rdFMCS.BondCompare.CompareAny`. Notice how extensive the MCS is with that option:"
   ]
  },
  {
   "cell_type": "code",
   "execution_count": 97,
   "metadata": {},
   "outputs": [
    {
     "name": "stderr",
     "output_type": "stream",
     "text": [
      "/Users/jemonat/Projects/bertiewooster.github.io/venv/lib/python3.11/site-packages/rdkit/Chem/Draw/IPythonConsole.py:261: UserWarning: Truncating the list of molecules to be displayed to 100. Change the maxMols value to display more.\n",
      "  warnings.warn(\n"
     ]
    },
    {
     "data": {
      "image/png": "[encoded data removed]",
      "text/plain": [
       "<rdkit.Chem.rdchem.Mol at 0x31529d150>"
      ]
     },
     "execution_count": 97,
     "metadata": {},
     "output_type": "execute_result"
    }
   ],
   "source": [
    "tauts_v2 = [Chem.MolFromSmiles(sml) for sml in smls_v2_aligned]\n",
    "\n",
    "mcs = rdFMCS.FindMCS(\n",
    "    tauts_v2,\n",
    "    bondCompare=rdFMCS.BondCompare.CompareAny,\n",
    ")\n",
    "mcs_smarts = mcs.smartsString\n",
    "mcs_mol = Chem.MolFromSmarts(mcs_smarts)\n",
    "\n",
    "# If there is a maximum common substructure\n",
    "if mcs_mol:\n",
    "    # And it has atoms\n",
    "    if mcs_mol.GetNumAtoms() > 0:\n",
    "        # Compute the coordinates and align the structures\n",
    "        Chem.Compute2DCoords(mcs_mol)\n",
    "        for m in tauts_v2:\n",
    "            Chem.GenerateDepictionMatching2DStructure(m, mcs_mol)\n",
    "            \n",
    "        Draw.MolsToGridImage(tauts_v2, maxMols=100, molsPerRow=7)\n",
    "\n",
    "mcs_mol"
   ]
  },
  {
   "cell_type": "markdown",
   "metadata": {},
   "source": [
    "and how much smaller the MCS is if don't use that option:"
   ]
  },
  {
   "cell_type": "code",
   "execution_count": 98,
   "metadata": {},
   "outputs": [
    {
     "data": {
      "image/png": "[encoded data removed]",
      "text/plain": [
       "<rdkit.Chem.rdchem.Mol at 0x3152a51c0>"
      ]
     },
     "execution_count": 98,
     "metadata": {},
     "output_type": "execute_result"
    }
   ],
   "source": [
    "mcs_strict = rdFMCS.FindMCS(\n",
    "    tauts_v2,\n",
    ")\n",
    "mcs_smarts_strict = mcs_strict.smartsString\n",
    "mcs_mol_strict = Chem.MolFromSmarts(mcs_smarts_strict)\n",
    "mcs_mol_strict"
   ]
  },
  {
   "cell_type": "markdown",
   "metadata": {},
   "source": [
    "and thus ineffective at aligning the structures between columns:"
   ]
  },
  {
   "cell_type": "code",
   "execution_count": 99,
   "metadata": {},
   "outputs": [
    {
     "data": {
      "image/png": "[encoded data removed]",
      "text/plain": [
       "<IPython.core.display.Image object>"
      ]
     },
     "execution_count": 99,
     "metadata": {},
     "output_type": "execute_result"
    }
   ],
   "source": [
    "Chem.Compute2DCoords(mcs_mol_strict)\n",
    "for m in tauts_all:\n",
    "    Chem.GenerateDepictionMatching2DStructure(m, mcs_mol_strict)\n",
    "\n",
    "Draw.MolsMatrixToGridImage(\n",
    "    molsMatrix=tauts_matrix, legendsMatrix=legends_matrix, useSVG=True, maxMols=1700\n",
    ")"
   ]
  },
  {
   "cell_type": "markdown",
   "metadata": {},
   "source": [
    "## Conclusions"
   ]
  },
  {
   "cell_type": "markdown",
   "metadata": {},
   "source": [
    "### Tautomer enumeration algorithms"
   ]
  },
  {
   "cell_type": "markdown",
   "metadata": {},
   "source": [
    "Comparing the various tautomer sources, let's go from most to fewest number of tautomers found:\n",
    "\n",
    "- *RDKit's GetV1TautomerEnumerator produces the most, about 5 more per Ref than RDKit's updated algorithm\n",
    "- *RDKit's updated algorithm is our baseline\n",
    "- +CACTVS's algorithm finds about 56 fewer tautomers per Ref\n",
    "- +NIH's algorithm finds about 211 fewer tautomers per Ref\n",
    "- *Experimental results find about 229 fewer tautomers per Ref\n",
    "\n",
    "*Comparison of all Refs because data source includes all refs\n",
    "\n",
    "+Comparison of 5 Refs because data source does not include all refs because it had to be run manually for each Ref"
   ]
  },
  {
   "cell_type": "markdown",
   "metadata": {},
   "source": [
    "Of course, finding more tautomers is not necessarily better. If a tautomer is not observed experimentally, it may not exist in situ and thus not participate in whatever chemistry the system undergoes. The hundreds of tautomers generated by algorithms may be energetically unfavorable and thus unlikely to exist in situ, though a tautomer that an algorithm misses may be observed experimentally.\n",
    "\n",
    "The [RDKit 2022.03 release notes](https://www.rdkit.org/docs/BackwardsIncompatibleChanges.html#tautomer-enumeration-improvements) suggest that the updated algorithm deliberately does not produce certain tautomers (which do not match the more-specific rules). Considering [Greg Landrum's comment](https://github.com/rdkit/rdkit/discussions/6997#discussioncomment-7893160) that the \"code change adds a missed case to the enumeration rule set\", it seems that the number of additional tautomers found by the additional rule is outweighed by the narrowing of rules.\n",
    "\n",
    "It is interesting that the CACTVS algorithm, which has additional transforms, produces fewer tautomers; though that's for a narrow set of Refs, so it may not hold for a larger dataset. It makes sense that the NIH site produces fewer tautomers than CACTVS because the NIH algorithm is similar and has fewer rules."
   ]
  },
  {
   "cell_type": "markdown",
   "metadata": {},
   "source": [
    "### InChI's ability to encompass multiple tautomers with one InChI"
   ]
  },
  {
   "cell_type": "markdown",
   "metadata": {},
   "source": [
    "Regarding InChI's goal of being [\"tautomer-invariant\"](https://cactus.nci.nih.gov/presentations/NIHInChI_2021-03/Day_1_Nicklaus_Tautomerism_2021-03-21A.pdf), meaning tautomers of a structure should be assigned the same InChI so a single InChI should suffice to represent all tautomers of a given structure:\n",
    "\n",
    "- For the experimentally-observed tautomeric structures, InChI needed on average 1.95 identifiers to cover the 1776 Refs, which is much greater than the goal of 1.0 and only 11% better than SMILES (averaging 2.2 identifiers per Ref).\n",
    "- For the tautomeric structures generated by the updated RDKit algorithm, InChI needs on average 10.5 representations per Ref, a reduction of 1.4 from SMILES, or 12%. It seems encouraging for the generality of InChI that it does as well covering multiple SMILES for algorithmically-generated tautomers, which could be far afield of structures observed experimentally.\n",
    "\n",
    "So overall the current InChI implementation has modest success in covering all tautomers of a structure with one InChI. Nicklaus and others are working \"[Toward a Comprehensive Treatment of Tautomerism in Chemoinformatics Including in InChI V2](https://www.ncbi.nlm.nih.gov/pmc/articles/PMC8459712/)\" so hopefully that will improve InChI's success."
   ]
  },
  {
   "cell_type": "markdown",
   "metadata": {},
   "source": [
    "## Acknowledgments"
   ]
  },
  {
   "cell_type": "markdown",
   "metadata": {},
   "source": [
    "Many thanks to Marc Nicklaus for running CACTVS tautomer enumerations, giving background on the web tool, and informative discussions. Also thanks to my co-workers at Aionics for discussions about tautomers (this post was done on my own and does not necessarily represent my employer's views)."
   ]
  }
 ],
 "metadata": {
  "kernelspec": {
   "display_name": "venv",
   "language": "python",
   "name": "python3"
  },
  "language_info": {
   "codemirror_mode": {
    "name": "ipython",
    "version": 3
   },
   "file_extension": ".py",
   "mimetype": "text/x-python",
   "name": "python",
   "nbconvert_exporter": "python",
   "pygments_lexer": "ipython3",
   "version": "3.11.7"
  }
 },
 "nbformat": 4,
 "nbformat_minor": 2
}
