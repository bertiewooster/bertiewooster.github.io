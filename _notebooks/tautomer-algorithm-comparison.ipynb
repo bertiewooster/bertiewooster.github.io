{
 "cells": [
  {
   "cell_type": "markdown",
   "metadata": {},
   "source": [
    "# Comparing Tautomer Generation Algorithms"
   ]
  },
  {
   "cell_type": "markdown",
   "metadata": {},
   "source": [
    "[Tautomers](https://en.wikipedia.org/wiki/Tautomer) are chemical structures that can interconvert under given conditions. For example, an amino acid has a neutral form, and a zwitterionic form with separated positive and negative charges. Cheminformatics packages have algorithms to generate tautomers based on rules. This post compares their results to each other and to experimentally-observed tautomers."
   ]
  },
  {
   "cell_type": "markdown",
   "metadata": {},
   "source": [
    "The tautomer generation algorithms discussed below are based on rules from Markus Sitzmann, Wolf-Dietrich Ihlenfeldt, and Marc C. Nicklaus, “Tautomerism in Large Databases”, JCAMD 24:521 (2010) https://doi.org/10.1007/s10822-010-9346-4.\n",
    "\n",
    "RDKit has two tautomer generation algorithms, [GetV1TautomerEnumerator](https://www.rdkit.org/docs/source/rdkit.Chem.MolStandardize.rdMolStandardize.html#rdkit.Chem.MolStandardize.rdMolStandardize.GetV1TautomerEnumerator) and the [new algorithm, TautomerEnumerator](https://www.rdkit.org/docs/source/rdkit.Chem.MolStandardize.rdMolStandardize.html#rdkit.Chem.MolStandardize.rdMolStandardize.TautomerEnumerator). The [2022.03 release notes](https://www.rdkit.org/docs/BackwardsIncompatibleChanges.html#tautomer-enumeration-improvements) state:\n",
    "> The rules for tautomer enumeration in MolStandardize have been updated to more closely match the rules in the original publication. These changes primarily consist of making the rules more specific; the consequence is that less tautomers will be generated with this version.\n",
    "\n",
    "but maintainer Greg Landrum [wrote](https://github.com/rdkit/rdkit/discussions/6997#discussioncomment-7893160)\n",
    "> That's [the new TautomerEnumerator returning fewer examples than the previous rules V1] not something I've noticed. The code change adds a missed case to the enumeration rule set, so at first glance you'd expect it to always produce more tautomers, but I suppose that could still result in a smaller number of tautomers in the end because of how the transformations interact with each other.\n",
    "\n",
    "So one purpose of this blog post is to empirically answer the question of whether the new RDKit algorithm produces more or fewer tautomers than the V1 algorithm.\n",
    "\n",
    "NIH [CADD Group Chemoinformatics Tools and User Services (CACTUS)](https://cactus.nci.nih.gov/) also has algorithms that can be run on a [Tautomerizer web page](https://cactus.nci.nih.gov/cgi-bin/tautomerize.tcl) or with the package [CACTVS](https://www.cactvs.com/academic/) from Xemistry GmbH. Marc Niclaus notes that CACTVS has \"many additional transforms vs. the ones we used in 2010 [for the paper cited above]. This now includes numerous ring-chain and valence tautomerism rules, for a total of 119 rules\" (private communication). We compare these two NIH algorithms to the new RDKit algorithm. Because I couldn't install CACTVS on my computer due to CPU compatibility, I used the web site which has 86 rules, and Marc kindly ran CACTVS on his computer for a few structures using \"exhaustive multi-step enumeration iteratively with all rules, until no more new tautomer is found (with a limit of 1,000 attempts)\".\n",
    "\n",
    "To empirically compare these algorithms, we need a set of molecules which have tautomers: Many molecules will not have any tautomers. Nicklaus and team also created [Tautomer Structures Extracted from Experimental Literature](https://cactus.nci.nih.gov/download/tautomer/), with \n",
    "> 5,977 structures extracted from experimental literature representing 2,819 cases of tautomeric tuples (mostly tautomer pairs but also a few triples and higher-order tuples). Note that the number of structurally different tuples is only 1,776 (comprising 3,884 different structures) since some tuples are differentiated from each other only by experimental conditions such as solvent, spectroscopy method, etc.\n",
    "\n",
    "We use release 3 in Excel format, specifically [Tautomer_database_release_3a.xlsx](https://cactus.nci.nih.gov/download/tautomer/Tautomer_database_release_3a.xlsx)."
   ]
  },
  {
   "cell_type": "markdown",
   "metadata": {},
   "source": [
    "## Code foundation"
   ]
  },
  {
   "cell_type": "code",
   "execution_count": 1,
   "metadata": {},
   "outputs": [
    {
     "name": "stdout",
     "output_type": "stream",
     "text": [
      "3.11.7 (v3.11.7:fa7a6f2303, Dec  4 2023, 15:22:56) [Clang 13.0.0 (clang-1300.0.29.30)]\n"
     ]
    }
   ],
   "source": [
    "import sys\n",
    "print(sys.version)"
   ]
  },
  {
   "cell_type": "code",
   "execution_count": 2,
   "metadata": {},
   "outputs": [
    {
     "name": "stdout",
     "output_type": "stream",
     "text": [
      "Requirement already satisfied: rdkit in /Users/jemonat/Projects/bertiewooster.github.io/venv3.11.7/lib/python3.11/site-packages (2023.9.4)\n",
      "Requirement already satisfied: polars in /Users/jemonat/Projects/bertiewooster.github.io/venv3.11.7/lib/python3.11/site-packages (0.20.7)\n",
      "Requirement already satisfied: seaborn in /Users/jemonat/Projects/bertiewooster.github.io/venv3.11.7/lib/python3.11/site-packages (0.13.2)\n",
      "Requirement already satisfied: matplotlib in /Users/jemonat/Projects/bertiewooster.github.io/venv3.11.7/lib/python3.11/site-packages (3.8.2)\n",
      "Requirement already satisfied: xlsx2csv in /Users/jemonat/Projects/bertiewooster.github.io/venv3.11.7/lib/python3.11/site-packages (0.8.2)\n",
      "Requirement already satisfied: numpy in /Users/jemonat/Projects/bertiewooster.github.io/venv3.11.7/lib/python3.11/site-packages (from rdkit) (1.26.3)\n",
      "Requirement already satisfied: Pillow in /Users/jemonat/Projects/bertiewooster.github.io/venv3.11.7/lib/python3.11/site-packages (from rdkit) (10.2.0)\n"
     ]
    },
    {
     "name": "stdout",
     "output_type": "stream",
     "text": [
      "Requirement already satisfied: pandas>=1.2 in /Users/jemonat/Projects/bertiewooster.github.io/venv3.11.7/lib/python3.11/site-packages (from seaborn) (2.2.0)\n",
      "Requirement already satisfied: contourpy>=1.0.1 in /Users/jemonat/Projects/bertiewooster.github.io/venv3.11.7/lib/python3.11/site-packages (from matplotlib) (1.2.0)\n",
      "Requirement already satisfied: cycler>=0.10 in /Users/jemonat/Projects/bertiewooster.github.io/venv3.11.7/lib/python3.11/site-packages (from matplotlib) (0.12.1)\n",
      "Requirement already satisfied: fonttools>=4.22.0 in /Users/jemonat/Projects/bertiewooster.github.io/venv3.11.7/lib/python3.11/site-packages (from matplotlib) (4.47.2)\n",
      "Requirement already satisfied: kiwisolver>=1.3.1 in /Users/jemonat/Projects/bertiewooster.github.io/venv3.11.7/lib/python3.11/site-packages (from matplotlib) (1.4.5)\n",
      "Requirement already satisfied: packaging>=20.0 in /Users/jemonat/Projects/bertiewooster.github.io/venv3.11.7/lib/python3.11/site-packages (from matplotlib) (23.2)\n",
      "Requirement already satisfied: pyparsing>=2.3.1 in /Users/jemonat/Projects/bertiewooster.github.io/venv3.11.7/lib/python3.11/site-packages (from matplotlib) (3.1.1)\n",
      "Requirement already satisfied: python-dateutil>=2.7 in /Users/jemonat/Projects/bertiewooster.github.io/venv3.11.7/lib/python3.11/site-packages (from matplotlib) (2.8.2)\n",
      "Requirement already satisfied: pytz>=2020.1 in /Users/jemonat/Projects/bertiewooster.github.io/venv3.11.7/lib/python3.11/site-packages (from pandas>=1.2->seaborn) (2024.1)\n",
      "Requirement already satisfied: tzdata>=2022.7 in /Users/jemonat/Projects/bertiewooster.github.io/venv3.11.7/lib/python3.11/site-packages (from pandas>=1.2->seaborn) (2023.4)\n",
      "Requirement already satisfied: six>=1.5 in /Users/jemonat/Projects/bertiewooster.github.io/venv3.11.7/lib/python3.11/site-packages (from python-dateutil>=2.7->matplotlib) (1.16.0)\n",
      "\n",
      "\u001b[1m[\u001b[0m\u001b[34;49mnotice\u001b[0m\u001b[1;39;49m]\u001b[0m\u001b[39;49m A new release of pip is available: \u001b[0m\u001b[31;49m23.2.1\u001b[0m\u001b[39;49m -> \u001b[0m\u001b[32;49m24.0\u001b[0m\n",
      "\u001b[1m[\u001b[0m\u001b[34;49mnotice\u001b[0m\u001b[1;39;49m]\u001b[0m\u001b[39;49m To update, run: \u001b[0m\u001b[32;49mpip install --upgrade pip\u001b[0m\n"
     ]
    }
   ],
   "source": [
    "!pip install rdkit polars seaborn matplotlib xlsx2csv"
   ]
  },
  {
   "cell_type": "code",
   "execution_count": 3,
   "metadata": {},
   "outputs": [],
   "source": [
    "from typing import Iterable, Callable\n",
    "from collections import Counter\n",
    "import statistics\n",
    "from statistics import StatisticsError"
   ]
  },
  {
   "cell_type": "code",
   "execution_count": 4,
   "metadata": {},
   "outputs": [],
   "source": [
    "from rdkit.Chem import AllChem as Chem\n",
    "from rdkit import RDLogger\n",
    "from rdkit.Chem import Draw, rdFMCS\n",
    "import rdkit\n",
    "from rdkit.Chem import Mol\n",
    "from rdkit.Chem.MolStandardize import rdMolStandardize\n",
    "import polars as pl\n",
    "from polars import SchemaFieldNotFoundError\n",
    "import seaborn as sns\n",
    "import matplotlib.pyplot as plt\n",
    "from matplotlib.ticker import MultipleLocator"
   ]
  },
  {
   "cell_type": "code",
   "execution_count": 5,
   "metadata": {},
   "outputs": [],
   "source": [
    "# Suppress RDKit warnings so it doesn't warn about SMILES that produce molecules which violate a rule,\n",
    "# which would produce many warnings as we create thousands of molecules\n",
    "lg = RDLogger.logger()\n",
    "lg.setLevel(RDLogger.CRITICAL)"
   ]
  },
  {
   "cell_type": "code",
   "execution_count": 6,
   "metadata": {},
   "outputs": [],
   "source": [
    "def mol_from_sml(sml: str) -> Mol:\n",
    "    \"\"\"Create an RDKit molecule from a SMILES string.\n",
    "    RDKit cannot create molecules from some SMILES strings if it tries to sanitize them,\n",
    "    but can if it does not sanitize them.\n",
    "    It is preferable to sanitize molecules if possible because that does things such as\n",
    "    delocalize aromatic bonds (instead of alternating single and double bonds),\n",
    "    which makes different structures (single-double vs. double-single bond sequence) give the same molecule.\n",
    "\n",
    "    :param sml: SMILES string\n",
    "    \"\"\"\n",
    "    # Try sanitizing molecule first\n",
    "    mol = Chem.MolFromSmiles(sml, sanitize=True)\n",
    "    if mol is not None:\n",
    "        return mol\n",
    "    # If sanitization fails, turn it off and try creating molecule again\n",
    "    mol = Chem.MolFromSmiles(sml, sanitize=False)\n",
    "    return mol"
   ]
  },
  {
   "cell_type": "code",
   "execution_count": 7,
   "metadata": {},
   "outputs": [],
   "source": [
    "def canon_sml_or_none(mol):\n",
    "    if mol is None:\n",
    "        return None\n",
    "    return Chem.MolToSmiles(mol)"
   ]
  },
  {
   "cell_type": "markdown",
   "metadata": {},
   "source": [
    "## Preparing the data from the tautomer database"
   ]
  },
  {
   "cell_type": "code",
   "execution_count": 8,
   "metadata": {},
   "outputs": [],
   "source": [
    "# Tautomer database from https://cactus.nci.nih.gov/download/tautomer/\n",
    "file_name = \"../data/Tautomer_database_release_3a.xlsx\"\n",
    "\n",
    "# If you want to use only the first row for quicker debugging, use this file instead\n",
    "# file_name = \"../data/Tautomer_database_release_3a_first.xlsx\"\n",
    "\n",
    "# The name of the sheet to process\n",
    "sheet_name = \"Tautomer_database\""
   ]
  },
  {
   "cell_type": "markdown",
   "metadata": {},
   "source": [
    "We start by reading the data from the sheet in the Excel file of the tautomer database."
   ]
  },
  {
   "cell_type": "code",
   "execution_count": 9,
   "metadata": {},
   "outputs": [
    {
     "name": "stderr",
     "output_type": "stream",
     "text": [
      "/var/folders/9w/cn8tqbv976gckxd0c9cbr1sw0000gn/T/ipykernel_53872/3709418447.py:1: DeprecationWarning: `the argument read_csv_options` for `read_excel` is deprecated. It has been renamed to `read_options`.\n",
      "  df = pl.read_excel(\n"
     ]
    },
    {
     "data": {
      "text/html": [
       "<div><style>\n",
       ".dataframe > thead > tr,\n",
       ".dataframe > tbody > tr {\n",
       "  text-align: right;\n",
       "  white-space: pre-wrap;\n",
       "}\n",
       "</style>\n",
       "<small>shape: (5, 147)</small><table border=\"1\" class=\"dataframe\"><thead><tr><th>Ref</th><th>Size</th><th>Solvent</th><th>Solvent_Proportion</th><th>Solvent_Mixture</th><th>Temperature</th><th>pH</th><th>Experimental_Method</th><th>Entry_ID1</th><th>Type_1</th><th>ID_Hash_1</th><th>FICTS_1</th><th>HASHISY_1</th><th>FICuS_1</th><th>TAUTOHASH_1</th><th>uuuuu_1</th><th>Std_InChIKey_1</th><th>Std_InChI_1</th><th>SMILES_1</th><th>Mol_Formula_1</th><th>Mol_Weight_1</th><th>IUPAC_Name_1</th><th>Quantitative_ratio_1</th><th>Qualitative_prevalence_1</th><th>Prevalence_Category_1</th><th>Filename_1</th><th>Publication_DOI_1</th><th>Publication_ID_1</th><th>Authors_1</th><th>Affiliation_1</th><th>Title_1</th><th>Section_1</th><th>Page_Number(s)_1</th><th>Notes_1</th><th>Cmpd_Number_1</th><th>Entry_ID2</th><th>Type_2</th><th>&hellip;</th><th>Publication_DOI_4</th><th>Publication_ID_4</th><th>Authors_4</th><th>Affiliation_4</th><th>Title_4</th><th>Section_4</th><th>Page_Number(s)_4</th><th>Notes_4</th><th>Cmpd_Number_4</th><th>Entry_ID5</th><th>Type_5</th><th>Transf_1_5</th><th>ID_Hash_5</th><th>FICTS_5</th><th>HASHISY_5</th><th>FICuS_5</th><th>TAUTOHASH_5</th><th>uuuuu_5</th><th>Std_InChIKey_5</th><th>Std_InChI_5</th><th>SMILES_5</th><th>Mol_Formula_5</th><th>Mol_Weight_5</th><th>IUPAC_Name_5</th><th>Quantitative_ratio_5</th><th>Qualitative_Prevalence_5</th><th>Prevalence_Category_5</th><th>Filename_5</th><th>Publication_DOI_5</th><th>Publication_ID_5</th><th>Authors_5</th><th>Affiliation_5</th><th>Title_5</th><th>Section_5</th><th>Page_Number(s)_5</th><th>Notes_5</th><th>Cmpd_Number_5</th></tr><tr><td>i64</td><td>i64</td><td>str</td><td>str</td><td>str</td><td>str</td><td>str</td><td>str</td><td>str</td><td>str</td><td>str</td><td>str</td><td>str</td><td>str</td><td>str</td><td>str</td><td>str</td><td>str</td><td>str</td><td>str</td><td>f64</td><td>str</td><td>str</td><td>str</td><td>i64</td><td>str</td><td>str</td><td>str</td><td>str</td><td>str</td><td>str</td><td>str</td><td>str</td><td>str</td><td>str</td><td>str</td><td>str</td><td>&hellip;</td><td>str</td><td>str</td><td>str</td><td>str</td><td>str</td><td>str</td><td>i64</td><td>str</td><td>str</td><td>str</td><td>str</td><td>str</td><td>str</td><td>str</td><td>str</td><td>str</td><td>str</td><td>str</td><td>str</td><td>str</td><td>str</td><td>str</td><td>f64</td><td>str</td><td>str</td><td>str</td><td>i64</td><td>str</td><td>str</td><td>str</td><td>str</td><td>str</td><td>str</td><td>str</td><td>i64</td><td>str</td><td>str</td></tr></thead><tbody><tr><td>1</td><td>2</td><td>&quot;Gas phase&quot;</td><td>&quot;nul&quot;</td><td>&quot;no&quot;</td><td>&quot;377.15-417.15&quot;</td><td>&quot;nul&quot;</td><td>&quot;1H NMR spectra…</td><td>&quot;Prog. NMR. Spe…</td><td>&quot;Diketo&quot;</td><td>&quot;8da8a44a54e4cd…</td><td>&quot;748BBAA5E5F382…</td><td>&quot;748BBAA5E5F382…</td><td>&quot;748BBAA5E5F382…</td><td>&quot;748BBAA5E5F382…</td><td>&quot;748BBAA5E5F382…</td><td>&quot;InChIKey=YRKCR…</td><td>&quot;InChI=1S/C5H8O…</td><td>&quot;O=C(C)CC(C)=O&quot;</td><td>&quot;C5H8O2&quot;</td><td>100.117</td><td>&quot;pentane-2,4-di…</td><td>&quot;nul&quot;</td><td>&quot;Observed&quot;</td><td>1</td><td>&quot;(1)_Claramunt_…</td><td>&quot;10.1016/j.pnmr…</td><td>&quot;Prog. NMR. Spe…</td><td>&quot;Claramunt, R. …</td><td>&quot;Departamento d…</td><td>&quot;The use of NMR…</td><td>&quot;Scheme 1&quot;</td><td>&quot;171&quot;</td><td>&quot;nul&quot;</td><td>&quot;1c&quot;</td><td>&quot;Prog. NMR. Spe…</td><td>&quot;Keto-enol&quot;</td><td>&hellip;</td><td>null</td><td>null</td><td>null</td><td>null</td><td>null</td><td>null</td><td>null</td><td>null</td><td>null</td><td>null</td><td>null</td><td>null</td><td>null</td><td>null</td><td>null</td><td>null</td><td>null</td><td>null</td><td>null</td><td>null</td><td>null</td><td>null</td><td>null</td><td>null</td><td>null</td><td>null</td><td>null</td><td>null</td><td>null</td><td>null</td><td>null</td><td>null</td><td>null</td><td>null</td><td>null</td><td>null</td><td>null</td></tr><tr><td>2</td><td>2</td><td>&quot;Gas phase&quot;</td><td>&quot;nul&quot;</td><td>&quot;no&quot;</td><td>&quot;nul&quot;</td><td>&quot;nul&quot;</td><td>&quot;nul&quot;</td><td>&quot;Prog. NMR. Spe…</td><td>&quot;NH&quot;</td><td>&quot;ef8866bd4d9949…</td><td>&quot;AF721AB4BAA47F…</td><td>&quot;AF721AB4BAA47F…</td><td>&quot;AF721AB4BAA47F…</td><td>&quot;AF721AB4BAA47F…</td><td>&quot;E0755E1A90D93F…</td><td>&quot;InChIKey=QWENR…</td><td>&quot;InChI=1S/C2H3N…</td><td>&quot;N1=CC=N[NH]1&quot;</td><td>&quot;C2H3N3&quot;</td><td>69.0658</td><td>&quot;2H-triazole&quot;</td><td>&quot;nul&quot;</td><td>&quot;Only observed&quot;</td><td>4</td><td>&quot;(1)_Claramunt_…</td><td>&quot;10.1016/j.pnmr…</td><td>&quot;Prog. NMR. Spe…</td><td>&quot;Claramunt, R. …</td><td>&quot;Departamento d…</td><td>&quot;The use of NMR…</td><td>&quot;Scheme 3&quot;</td><td>&quot;172&quot;</td><td>&quot;nul&quot;</td><td>&quot;8b&quot;</td><td>&quot;Prog. NMR. Spe…</td><td>&quot;NH&quot;</td><td>&hellip;</td><td>null</td><td>null</td><td>null</td><td>null</td><td>null</td><td>null</td><td>null</td><td>null</td><td>null</td><td>null</td><td>null</td><td>null</td><td>null</td><td>null</td><td>null</td><td>null</td><td>null</td><td>null</td><td>null</td><td>null</td><td>null</td><td>null</td><td>null</td><td>null</td><td>null</td><td>null</td><td>null</td><td>null</td><td>null</td><td>null</td><td>null</td><td>null</td><td>null</td><td>null</td><td>null</td><td>null</td><td>null</td></tr><tr><td>3</td><td>2</td><td>&quot;HMPT&quot;</td><td>&quot;nul&quot;</td><td>&quot;no&quot;</td><td>&quot;nul&quot;</td><td>&quot;nul&quot;</td><td>&quot;13C NMR spectr…</td><td>&quot;Prog. NMR. Spe…</td><td>&quot;NH&quot;</td><td>&quot;7714934ea0f29d…</td><td>&quot;96D7C0A293F7BC…</td><td>&quot;96D7C0A293F7BC…</td><td>&quot;B5EA71BA1BFB8B…</td><td>&quot;B5EA71BA1BFB8B…</td><td>&quot;B5EA71BA1BFB8B…</td><td>&quot;InChIKey=XKVUY…</td><td>&quot;InChI=1S/C4H6N…</td><td>&quot;CC1=CC=NN1&quot;</td><td>&quot;C4H6N2&quot;</td><td>82.1048</td><td>&quot;5-methyl-1H-py…</td><td>&quot;nul&quot;</td><td>&quot;Predominant&quot;</td><td>3</td><td>&quot;(1)_Claramunt_…</td><td>&quot;10.1016/j.pnmr…</td><td>&quot;Prog. NMR. Spe…</td><td>&quot;Claramunt, R. …</td><td>&quot;Departamento d…</td><td>&quot;The use of NMR…</td><td>&quot;Scheme 3&quot;</td><td>&quot;172&quot;</td><td>&quot;nul&quot;</td><td>&quot;7b&quot;</td><td>&quot;Prog. NMR. Spe…</td><td>&quot;NH&quot;</td><td>&hellip;</td><td>null</td><td>null</td><td>null</td><td>null</td><td>null</td><td>null</td><td>null</td><td>null</td><td>null</td><td>null</td><td>null</td><td>null</td><td>null</td><td>null</td><td>null</td><td>null</td><td>null</td><td>null</td><td>null</td><td>null</td><td>null</td><td>null</td><td>null</td><td>null</td><td>null</td><td>null</td><td>null</td><td>null</td><td>null</td><td>null</td><td>null</td><td>null</td><td>null</td><td>null</td><td>null</td><td>null</td><td>null</td></tr><tr><td>4</td><td>2</td><td>&quot;DMSO-d6&quot;</td><td>&quot;nul&quot;</td><td>&quot;no&quot;</td><td>&quot;nul&quot;</td><td>&quot;nul&quot;</td><td>&quot;1H NMR spectra…</td><td>&quot;Prog. NMR. Spe…</td><td>&quot;NH&quot;</td><td>&quot;8c6a7d710c6321…</td><td>&quot;DD375DCBC6DDA9…</td><td>&quot;DD375DCBC6DDA9…</td><td>&quot;DD375DCBC6DDA9…</td><td>&quot;DD375DCBC6DDA9…</td><td>&quot;DD375DCBC6DDA9…</td><td>&quot;InChIKey=OWLHY…</td><td>&quot;InChI=1S/C7H6N…</td><td>&quot;N=N=NC1=NNC2=C…</td><td>&quot;C7H6N5&quot;</td><td>160.1579</td><td>&quot;3-[(imino-lamb…</td><td>&quot;nul&quot;</td><td>&quot;Predominant&quot;</td><td>3</td><td>&quot;(1)_Claramunt_…</td><td>&quot;10.1016/j.pnmr…</td><td>&quot;Prog. NMR. Spe…</td><td>&quot;Claramunt, R. …</td><td>&quot;Departamento d…</td><td>&quot;The use of NMR…</td><td>&quot;Scheme 4&quot;</td><td>&quot;173&quot;</td><td>&quot;nul&quot;</td><td>&quot;9a&quot;</td><td>&quot;Prog. NMR. Spe…</td><td>&quot;NH&quot;</td><td>&hellip;</td><td>null</td><td>null</td><td>null</td><td>null</td><td>null</td><td>null</td><td>null</td><td>null</td><td>null</td><td>null</td><td>null</td><td>null</td><td>null</td><td>null</td><td>null</td><td>null</td><td>null</td><td>null</td><td>null</td><td>null</td><td>null</td><td>null</td><td>null</td><td>null</td><td>null</td><td>null</td><td>null</td><td>null</td><td>null</td><td>null</td><td>null</td><td>null</td><td>null</td><td>null</td><td>null</td><td>null</td><td>null</td></tr><tr><td>5</td><td>3</td><td>&quot;Carbon tetrach…</td><td>&quot;nul&quot;</td><td>&quot;no&quot;</td><td>&quot;nul&quot;</td><td>&quot;nul&quot;</td><td>&quot;1H NMR spectra…</td><td>&quot;Prog. NMR. Spe…</td><td>&quot;Keto-enol&quot;</td><td>&quot;8366b277b21ed8…</td><td>&quot;7DA12DCD45D806…</td><td>&quot;7DA12DCD45D806…</td><td>&quot;CB73FB7D041984…</td><td>&quot;9016C9F8C95B7C…</td><td>&quot;9016C9F8C95B7C…</td><td>&quot;InChIKey=NLPZO…</td><td>&quot;InChI=1S/C11H1…</td><td>&quot;CC1([C@H]2C(C=…</td><td>&quot;C11H16O2&quot;</td><td>180.2462</td><td>&quot;(1S,4S)-3-hydr…</td><td>&quot;nul&quot;</td><td>&quot;Not observed&quot;</td><td>0</td><td>&quot;(1)_Claramunt_…</td><td>&quot;10.1016/j.pnmr…</td><td>&quot;Prog. NMR. Spe…</td><td>&quot;Claramunt, R. …</td><td>&quot;Departamento d…</td><td>&quot;The use of NMR…</td><td>&quot;Scheme 8&quot;</td><td>&quot;175&quot;</td><td>&quot;nul&quot;</td><td>&quot;16b&quot;</td><td>&quot;Prog. NMR. Spe…</td><td>&quot;Keto-enol&quot;</td><td>&hellip;</td><td>null</td><td>null</td><td>null</td><td>null</td><td>null</td><td>null</td><td>null</td><td>null</td><td>null</td><td>null</td><td>null</td><td>null</td><td>null</td><td>null</td><td>null</td><td>null</td><td>null</td><td>null</td><td>null</td><td>null</td><td>null</td><td>null</td><td>null</td><td>null</td><td>null</td><td>null</td><td>null</td><td>null</td><td>null</td><td>null</td><td>null</td><td>null</td><td>null</td><td>null</td><td>null</td><td>null</td><td>null</td></tr></tbody></table></div>"
      ],
      "text/plain": [
       "shape: (5, 147)\n",
       "┌─────┬──────┬──────────────┬──────────────┬───┬───────────┬──────────────┬─────────┬──────────────┐\n",
       "│ Ref ┆ Size ┆ Solvent      ┆ Solvent_Prop ┆ … ┆ Section_5 ┆ Page_Number( ┆ Notes_5 ┆ Cmpd_Number_ │\n",
       "│ --- ┆ ---  ┆ ---          ┆ ortion       ┆   ┆ ---       ┆ s)_5         ┆ ---     ┆ 5            │\n",
       "│ i64 ┆ i64  ┆ str          ┆ ---          ┆   ┆ str       ┆ ---          ┆ str     ┆ ---          │\n",
       "│     ┆      ┆              ┆ str          ┆   ┆           ┆ i64          ┆         ┆ str          │\n",
       "╞═════╪══════╪══════════════╪══════════════╪═══╪═══════════╪══════════════╪═════════╪══════════════╡\n",
       "│ 1   ┆ 2    ┆ Gas phase    ┆ nul          ┆ … ┆ null      ┆ null         ┆ null    ┆ null         │\n",
       "│ 2   ┆ 2    ┆ Gas phase    ┆ nul          ┆ … ┆ null      ┆ null         ┆ null    ┆ null         │\n",
       "│ 3   ┆ 2    ┆ HMPT         ┆ nul          ┆ … ┆ null      ┆ null         ┆ null    ┆ null         │\n",
       "│ 4   ┆ 2    ┆ DMSO-d6      ┆ nul          ┆ … ┆ null      ┆ null         ┆ null    ┆ null         │\n",
       "│ 5   ┆ 3    ┆ Carbon tetra ┆ nul          ┆ … ┆ null      ┆ null         ┆ null    ┆ null         │\n",
       "│     ┆      ┆ chloride     ┆              ┆   ┆           ┆              ┆         ┆              │\n",
       "└─────┴──────┴──────────────┴──────────────┴───┴───────────┴──────────────┴─────────┴──────────────┘"
      ]
     },
     "execution_count": 9,
     "metadata": {},
     "output_type": "execute_result"
    }
   ],
   "source": [
    "df = pl.read_excel(\n",
    "    source=file_name, \n",
    "    sheet_name=sheet_name,\n",
    "    read_csv_options={\"infer_schema_length\":10000},\n",
    "    )\n",
    "df.head()"
   ]
  },
  {
   "cell_type": "markdown",
   "metadata": {},
   "source": [
    "It turns out that the last row is all null values:"
   ]
  },
  {
   "cell_type": "code",
   "execution_count": 10,
   "metadata": {},
   "outputs": [
    {
     "data": {
      "text/html": [
       "<div><style>\n",
       ".dataframe > thead > tr,\n",
       ".dataframe > tbody > tr {\n",
       "  text-align: right;\n",
       "  white-space: pre-wrap;\n",
       "}\n",
       "</style>\n",
       "<small>shape: (1, 147)</small><table border=\"1\" class=\"dataframe\"><thead><tr><th>Ref</th><th>Size</th><th>Solvent</th><th>Solvent_Proportion</th><th>Solvent_Mixture</th><th>Temperature</th><th>pH</th><th>Experimental_Method</th><th>Entry_ID1</th><th>Type_1</th><th>ID_Hash_1</th><th>FICTS_1</th><th>HASHISY_1</th><th>FICuS_1</th><th>TAUTOHASH_1</th><th>uuuuu_1</th><th>Std_InChIKey_1</th><th>Std_InChI_1</th><th>SMILES_1</th><th>Mol_Formula_1</th><th>Mol_Weight_1</th><th>IUPAC_Name_1</th><th>Quantitative_ratio_1</th><th>Qualitative_prevalence_1</th><th>Prevalence_Category_1</th><th>Filename_1</th><th>Publication_DOI_1</th><th>Publication_ID_1</th><th>Authors_1</th><th>Affiliation_1</th><th>Title_1</th><th>Section_1</th><th>Page_Number(s)_1</th><th>Notes_1</th><th>Cmpd_Number_1</th><th>Entry_ID2</th><th>Type_2</th><th>&hellip;</th><th>Publication_DOI_4</th><th>Publication_ID_4</th><th>Authors_4</th><th>Affiliation_4</th><th>Title_4</th><th>Section_4</th><th>Page_Number(s)_4</th><th>Notes_4</th><th>Cmpd_Number_4</th><th>Entry_ID5</th><th>Type_5</th><th>Transf_1_5</th><th>ID_Hash_5</th><th>FICTS_5</th><th>HASHISY_5</th><th>FICuS_5</th><th>TAUTOHASH_5</th><th>uuuuu_5</th><th>Std_InChIKey_5</th><th>Std_InChI_5</th><th>SMILES_5</th><th>Mol_Formula_5</th><th>Mol_Weight_5</th><th>IUPAC_Name_5</th><th>Quantitative_ratio_5</th><th>Qualitative_Prevalence_5</th><th>Prevalence_Category_5</th><th>Filename_5</th><th>Publication_DOI_5</th><th>Publication_ID_5</th><th>Authors_5</th><th>Affiliation_5</th><th>Title_5</th><th>Section_5</th><th>Page_Number(s)_5</th><th>Notes_5</th><th>Cmpd_Number_5</th></tr><tr><td>i64</td><td>i64</td><td>str</td><td>str</td><td>str</td><td>str</td><td>str</td><td>str</td><td>str</td><td>str</td><td>str</td><td>str</td><td>str</td><td>str</td><td>str</td><td>str</td><td>str</td><td>str</td><td>str</td><td>str</td><td>f64</td><td>str</td><td>str</td><td>str</td><td>i64</td><td>str</td><td>str</td><td>str</td><td>str</td><td>str</td><td>str</td><td>str</td><td>str</td><td>str</td><td>str</td><td>str</td><td>str</td><td>&hellip;</td><td>str</td><td>str</td><td>str</td><td>str</td><td>str</td><td>str</td><td>i64</td><td>str</td><td>str</td><td>str</td><td>str</td><td>str</td><td>str</td><td>str</td><td>str</td><td>str</td><td>str</td><td>str</td><td>str</td><td>str</td><td>str</td><td>str</td><td>f64</td><td>str</td><td>str</td><td>str</td><td>i64</td><td>str</td><td>str</td><td>str</td><td>str</td><td>str</td><td>str</td><td>str</td><td>i64</td><td>str</td><td>str</td></tr></thead><tbody><tr><td>1775</td><td>2</td><td>&quot;THF&quot;</td><td>&quot;nul&quot;</td><td>&quot;no&quot;</td><td>&quot;173&quot;</td><td>&quot;nul&quot;</td><td>&quot;31P NMR spectr…</td><td>&quot;Bull. Chem. So…</td><td>&quot;Phosphine&quot;</td><td>&quot;nul&quot;</td><td>&quot;9ECA3520AE2B14…</td><td>&quot;9ECA3520AE2B14…</td><td>&quot;9ECA3520AE2B14…</td><td>&quot;E996713429ECC8…</td><td>&quot;9ECA3520AE2B14…</td><td>&quot;InChIKey=MVEMP…</td><td>&quot;InChI=1S/C24H1…</td><td>&quot;ClC2=CC(=C(N=N…</td><td>&quot;C24H17Cl2N2P&quot;</td><td>435.2915</td><td>&quot;(E)-(4-chloro-…</td><td>&quot;&lt;0.99&quot;</td><td>&quot;nul&quot;</td><td>0</td><td>&quot;(171)_Yamamura…</td><td>&quot;10.1246/bcsj.2…</td><td>&quot;Bull. Chem. So…</td><td>&quot;Yamamura, M.; …</td><td>&quot;Department of …</td><td>&quot;Control of the…</td><td>&quot;Table 2&quot;</td><td>&quot;113&quot;</td><td>&quot;nul&quot;</td><td>&quot;(E)-6i&quot;</td><td>&quot;Bull. Chem. So…</td><td>&quot;Phosphonium sa…</td><td>&hellip;</td><td>null</td><td>null</td><td>null</td><td>null</td><td>null</td><td>null</td><td>null</td><td>null</td><td>null</td><td>null</td><td>null</td><td>null</td><td>null</td><td>null</td><td>null</td><td>null</td><td>null</td><td>null</td><td>null</td><td>null</td><td>null</td><td>null</td><td>null</td><td>null</td><td>null</td><td>null</td><td>null</td><td>null</td><td>null</td><td>null</td><td>null</td><td>null</td><td>null</td><td>null</td><td>null</td><td>null</td><td>null</td></tr></tbody></table></div>"
      ],
      "text/plain": [
       "shape: (1, 147)\n",
       "┌──────┬──────┬─────────┬────────────────┬───┬───────────┬───────────────┬─────────┬───────────────┐\n",
       "│ Ref  ┆ Size ┆ Solvent ┆ Solvent_Propor ┆ … ┆ Section_5 ┆ Page_Number(s ┆ Notes_5 ┆ Cmpd_Number_5 │\n",
       "│ ---  ┆ ---  ┆ ---     ┆ tion           ┆   ┆ ---       ┆ )_5           ┆ ---     ┆ ---           │\n",
       "│ i64  ┆ i64  ┆ str     ┆ ---            ┆   ┆ str       ┆ ---           ┆ str     ┆ str           │\n",
       "│      ┆      ┆         ┆ str            ┆   ┆           ┆ i64           ┆         ┆               │\n",
       "╞══════╪══════╪═════════╪════════════════╪═══╪═══════════╪═══════════════╪═════════╪═══════════════╡\n",
       "│ 1775 ┆ 2    ┆ THF     ┆ nul            ┆ … ┆ null      ┆ null          ┆ null    ┆ null          │\n",
       "└──────┴──────┴─────────┴────────────────┴───┴───────────┴───────────────┴─────────┴───────────────┘"
      ]
     },
     "execution_count": 10,
     "metadata": {},
     "output_type": "execute_result"
    }
   ],
   "source": [
    "df.tail(1)"
   ]
  },
  {
   "cell_type": "markdown",
   "metadata": {},
   "source": [
    "so let's delete it"
   ]
  },
  {
   "cell_type": "code",
   "execution_count": 11,
   "metadata": {},
   "outputs": [],
   "source": [
    "df = df.filter(pl.col(\"Ref\").is_not_null())"
   ]
  },
  {
   "cell_type": "markdown",
   "metadata": {},
   "source": [
    "And we get the 2,819 cases cited in the data documentation."
   ]
  },
  {
   "cell_type": "code",
   "execution_count": 12,
   "metadata": {},
   "outputs": [
    {
     "data": {
      "text/plain": [
       "(2819, 147)"
      ]
     },
     "execution_count": 12,
     "metadata": {},
     "output_type": "execute_result"
    }
   ],
   "source": [
    "df.shape"
   ]
  },
  {
   "cell_type": "markdown",
   "metadata": {},
   "source": [
    "The number of unique Ref values is 1776, as stated in the data documentation:"
   ]
  },
  {
   "cell_type": "code",
   "execution_count": 13,
   "metadata": {},
   "outputs": [
    {
     "data": {
      "text/plain": [
       "1776"
      ]
     },
     "execution_count": 13,
     "metadata": {},
     "output_type": "execute_result"
    }
   ],
   "source": [
    "Ref_count = df['Ref'].n_unique()\n",
    "Ref_count"
   ]
  },
  {
   "cell_type": "markdown",
   "metadata": {},
   "source": [
    "Let's cut down the number of columns by removing those relating to experimental conditions, etc."
   ]
  },
  {
   "cell_type": "code",
   "execution_count": 14,
   "metadata": {},
   "outputs": [
    {
     "data": {
      "text/html": [
       "<div><style>\n",
       ".dataframe > thead > tr,\n",
       ".dataframe > tbody > tr {\n",
       "  text-align: right;\n",
       "  white-space: pre-wrap;\n",
       "}\n",
       "</style>\n",
       "<small>shape: (2_819, 11)</small><table border=\"1\" class=\"dataframe\"><thead><tr><th>Ref</th><th>SMILES_1</th><th>Std_InChI_1</th><th>SMILES_2</th><th>Std_InChI_2</th><th>SMILES_3</th><th>Std_InChI_3</th><th>SMILES_4</th><th>Std_InChI_4</th><th>SMILES_5</th><th>Std_InChI_5</th></tr><tr><td>i64</td><td>str</td><td>str</td><td>str</td><td>str</td><td>str</td><td>str</td><td>str</td><td>str</td><td>str</td><td>str</td></tr></thead><tbody><tr><td>1</td><td>&quot;O=C(C)CC(C)=O&quot;</td><td>&quot;InChI=1S/C5H8O…</td><td>&quot;O/C(C)=C\\C(C)=…</td><td>&quot;InChI=1S/C5H8O…</td><td>null</td><td>null</td><td>null</td><td>null</td><td>null</td><td>null</td></tr><tr><td>2</td><td>&quot;N1=CC=N[NH]1&quot;</td><td>&quot;InChI=1S/C2H3N…</td><td>&quot;[NH]1N=NC=C1&quot;</td><td>&quot;InChI=1S/C2H3N…</td><td>null</td><td>null</td><td>null</td><td>null</td><td>null</td><td>null</td></tr><tr><td>3</td><td>&quot;CC1=CC=NN1&quot;</td><td>&quot;InChI=1S/C4H6N…</td><td>&quot;CC1=NNC=C1&quot;</td><td>&quot;InChI=1S/C4H6N…</td><td>null</td><td>null</td><td>null</td><td>null</td><td>null</td><td>null</td></tr><tr><td>4</td><td>&quot;N=N=NC1=NNC2=C…</td><td>&quot;InChI=1S/C7H6N…</td><td>&quot;N=N=NC1=C2C=CC…</td><td>&quot;InChI=1S/C7H6N…</td><td>null</td><td>null</td><td>null</td><td>null</td><td>null</td><td>null</td></tr><tr><td>5</td><td>&quot;CC1([C@H]2C(C=…</td><td>&quot;InChI=1S/C11H1…</td><td>&quot;CC1([C@H](CC[C…</td><td>&quot;InChI=1S/C11H1…</td><td>&quot;CC1([C@H](CC[C…</td><td>&quot;InChI=1S/C11H1…</td><td>null</td><td>null</td><td>null</td><td>null</td></tr><tr><td>6</td><td>&quot;OC(C=CC=C1)=C1…</td><td>&quot;InChI=1S/C19H1…</td><td>&quot;OC(C=CC=C1)=C1…</td><td>&quot;InChI=1S/C19H1…</td><td>&quot;OC(C=CC=C1)=C1…</td><td>&quot;InChI=1S/C19H1…</td><td>null</td><td>null</td><td>null</td><td>null</td></tr><tr><td>7</td><td>&quot;O=C(C([H])([H]…</td><td>&quot;InChI=1S/C10H1…</td><td>&quot;O/C(C1=CC=CC=C…</td><td>&quot;InChI=1S/C10H1…</td><td>&quot;O=C(/C=C(O)/C)…</td><td>&quot;InChI=1S/C10H1…</td><td>null</td><td>null</td><td>null</td><td>null</td></tr><tr><td>8</td><td>&quot;O/C(C1=CC=CC=C…</td><td>&quot;InChI=1S/C15H1…</td><td>&quot;O=C(C1=CC=CC=C…</td><td>&quot;InChI=1S/C15H1…</td><td>null</td><td>null</td><td>null</td><td>null</td><td>null</td><td>null</td></tr><tr><td>9</td><td>&quot;OC1=C(C2=CC=CC…</td><td>&quot;InChI=1S/C17H1…</td><td>&quot;O=C1C=CC2=CC=C…</td><td>&quot;InChI=1S/C17H1…</td><td>null</td><td>null</td><td>null</td><td>null</td><td>null</td><td>null</td></tr><tr><td>9</td><td>&quot;OC1=C(C2=CC=CC…</td><td>&quot;InChI=1S/C17H1…</td><td>&quot;O=C1C=CC2=CC=C…</td><td>&quot;InChI=1S/C17H1…</td><td>null</td><td>null</td><td>null</td><td>null</td><td>null</td><td>null</td></tr><tr><td>9</td><td>&quot;OC1=C(C2=CC=CC…</td><td>&quot;InChI=1S/C17H1…</td><td>&quot;O=C1C=CC2=CC=C…</td><td>&quot;InChI=1S/C17H1…</td><td>null</td><td>null</td><td>null</td><td>null</td><td>null</td><td>null</td></tr><tr><td>9</td><td>&quot;OC1=C(C2=CC=CC…</td><td>&quot;InChI=1S/C17H1…</td><td>&quot;O=C1C=CC2=CC=C…</td><td>&quot;InChI=1S/C17H1…</td><td>null</td><td>null</td><td>null</td><td>null</td><td>null</td><td>null</td></tr><tr><td>&hellip;</td><td>&hellip;</td><td>&hellip;</td><td>&hellip;</td><td>&hellip;</td><td>&hellip;</td><td>&hellip;</td><td>&hellip;</td><td>&hellip;</td><td>&hellip;</td><td>&hellip;</td></tr><tr><td>1767</td><td>&quot;C1(=CC=CC=C1)P…</td><td>&quot;InChI=1S/C24H1…</td><td>&quot;C1(=CC=CC=C1)[…</td><td>&quot;InChI=1S/C24H1…</td><td>null</td><td>null</td><td>null</td><td>null</td><td>null</td><td>null</td></tr><tr><td>1767</td><td>&quot;C1(=CC=CC=C1)P…</td><td>&quot;InChI=1S/C24H1…</td><td>&quot;C1(=CC=CC=C1)[…</td><td>&quot;InChI=1S/C24H1…</td><td>null</td><td>null</td><td>null</td><td>null</td><td>null</td><td>null</td></tr><tr><td>1767</td><td>&quot;C1(=CC=CC=C1)P…</td><td>&quot;InChI=1S/C24H1…</td><td>&quot;C1(=CC=CC=C1)[…</td><td>&quot;InChI=1S/C24H1…</td><td>null</td><td>null</td><td>null</td><td>null</td><td>null</td><td>null</td></tr><tr><td>1767</td><td>&quot;C1(=CC=CC=C1)P…</td><td>&quot;InChI=1S/C24H1…</td><td>&quot;C1(=CC=CC=C1)[…</td><td>&quot;InChI=1S/C24H1…</td><td>null</td><td>null</td><td>null</td><td>null</td><td>null</td><td>null</td></tr><tr><td>1768</td><td>&quot;C2=CC(=C(N=NC1…</td><td>&quot;InChI=1S/C25H2…</td><td>&quot;C5=CC1=C([N-][…</td><td>&quot;InChI=1S/C25H2…</td><td>null</td><td>null</td><td>null</td><td>null</td><td>null</td><td>null</td></tr><tr><td>1769</td><td>&quot;C1=CC=C(C=C1)N…</td><td>&quot;InChI=1S/C25H2…</td><td>&quot;C1=CC=C(C=C1)[…</td><td>&quot;InChI=1S/C25H2…</td><td>null</td><td>null</td><td>null</td><td>null</td><td>null</td><td>null</td></tr><tr><td>1770</td><td>&quot;CC1=CC=C(C=C1)…</td><td>&quot;InChI=1S/C26H2…</td><td>&quot;CC1=CC=C(C=C1)…</td><td>&quot;InChI=1S/C26H2…</td><td>null</td><td>null</td><td>null</td><td>null</td><td>null</td><td>null</td></tr><tr><td>1771</td><td>&quot;ClC1=CC=C(C=C1…</td><td>&quot;InChI=1S/C24H1…</td><td>&quot;ClC1=CC=C(C=C1…</td><td>&quot;InChI=1S/C24H1…</td><td>null</td><td>null</td><td>null</td><td>null</td><td>null</td><td>null</td></tr><tr><td>1772</td><td>&quot;ClC2=CC(=C(N=N…</td><td>&quot;InChI=1S/C24H1…</td><td>&quot;C1=CC=C(C=C1)[…</td><td>&quot;InChI=1S/C24H1…</td><td>null</td><td>null</td><td>null</td><td>null</td><td>null</td><td>null</td></tr><tr><td>1773</td><td>&quot;ClC1=CC=C(C=C1…</td><td>&quot;InChI=1S/C25H2…</td><td>&quot;ClC1=CC=C(C=C1…</td><td>&quot;InChI=1S/C25H2…</td><td>null</td><td>null</td><td>null</td><td>null</td><td>null</td><td>null</td></tr><tr><td>1774</td><td>&quot;ClC2=CC(=C(N=N…</td><td>&quot;InChI=1S/C25H2…</td><td>&quot;ClC5=CC1=C([N-…</td><td>&quot;InChI=1S/C25H2…</td><td>null</td><td>null</td><td>null</td><td>null</td><td>null</td><td>null</td></tr><tr><td>1775</td><td>&quot;ClC2=CC(=C(N=N…</td><td>&quot;InChI=1S/C24H1…</td><td>&quot;ClC1=CC=C(C=C1…</td><td>&quot;InChI=1S/C24H1…</td><td>null</td><td>null</td><td>null</td><td>null</td><td>null</td><td>null</td></tr></tbody></table></div>"
      ],
      "text/plain": [
       "shape: (2_819, 11)\n",
       "┌──────┬─────────────┬────────────┬────────────┬───┬──────────┬────────────┬──────────┬────────────┐\n",
       "│ Ref  ┆ SMILES_1    ┆ Std_InChI_ ┆ SMILES_2   ┆ … ┆ SMILES_4 ┆ Std_InChI_ ┆ SMILES_5 ┆ Std_InChI_ │\n",
       "│ ---  ┆ ---         ┆ 1          ┆ ---        ┆   ┆ ---      ┆ 4          ┆ ---      ┆ 5          │\n",
       "│ i64  ┆ str         ┆ ---        ┆ str        ┆   ┆ str      ┆ ---        ┆ str      ┆ ---        │\n",
       "│      ┆             ┆ str        ┆            ┆   ┆          ┆ str        ┆          ┆ str        │\n",
       "╞══════╪═════════════╪════════════╪════════════╪═══╪══════════╪════════════╪══════════╪════════════╡\n",
       "│ 1    ┆ O=C(C)CC(C) ┆ InChI=1S/C ┆ O/C(C)=C\\C ┆ … ┆ null     ┆ null       ┆ null     ┆ null       │\n",
       "│      ┆ =O          ┆ 5H8O2/c1-4 ┆ (C)=O      ┆   ┆          ┆            ┆          ┆            │\n",
       "│      ┆             ┆ (6)3-5(2)7 ┆            ┆   ┆          ┆            ┆          ┆            │\n",
       "│      ┆             ┆ /h…        ┆            ┆   ┆          ┆            ┆          ┆            │\n",
       "│ 2    ┆ N1=CC=N[NH] ┆ InChI=1S/C ┆ [NH]1N=NC= ┆ … ┆ null     ┆ null       ┆ null     ┆ null       │\n",
       "│      ┆ 1           ┆ 2H3N3/c1-2 ┆ C1         ┆   ┆          ┆            ┆          ┆            │\n",
       "│      ┆             ┆ -4-5-3-1/h ┆            ┆   ┆          ┆            ┆          ┆            │\n",
       "│      ┆             ┆ 1-…        ┆            ┆   ┆          ┆            ┆          ┆            │\n",
       "│ 3    ┆ CC1=CC=NN1  ┆ InChI=1S/C ┆ CC1=NNC=C1 ┆ … ┆ null     ┆ null       ┆ null     ┆ null       │\n",
       "│      ┆             ┆ 4H6N2/c1-4 ┆            ┆   ┆          ┆            ┆          ┆            │\n",
       "│      ┆             ┆ -2-3-5-6-4 ┆            ┆   ┆          ┆            ┆          ┆            │\n",
       "│      ┆             ┆ /h…        ┆            ┆   ┆          ┆            ┆          ┆            │\n",
       "│ 4    ┆ N=N=NC1=NNC ┆ InChI=1S/C ┆ N=N=NC1=C2 ┆ … ┆ null     ┆ null       ┆ null     ┆ null       │\n",
       "│      ┆ 2=CC=CC=C12 ┆ 7H6N5/c8-1 ┆ C=CC=CC2=N ┆   ┆          ┆            ┆          ┆            │\n",
       "│      ┆             ┆ 2-11-7-5-3 ┆ N1         ┆   ┆          ┆            ┆          ┆            │\n",
       "│      ┆             ┆ -1…        ┆            ┆   ┆          ┆            ┆          ┆            │\n",
       "│ 5    ┆ CC1([C@H]2C ┆ InChI=1S/C ┆ CC1([C@H]( ┆ … ┆ null     ┆ null       ┆ null     ┆ null       │\n",
       "│      ┆ (C=O)=C(O)[ ┆ 11H16O2/c1 ┆ CC[C@@](C) ┆   ┆          ┆            ┆          ┆            │\n",
       "│      ┆ C@@](CC2)1… ┆ -10(2)8-4- ┆ 1C/2=O)C2= ┆   ┆          ┆            ┆          ┆            │\n",
       "│      ┆             ┆ 5-…        ┆ C\\…        ┆   ┆          ┆            ┆          ┆            │\n",
       "│ …    ┆ …           ┆ …          ┆ …          ┆ … ┆ …        ┆ …          ┆ …        ┆ …          │\n",
       "│ 1771 ┆ ClC1=CC=C(C ┆ InChI=1S/C ┆ ClC1=CC=C( ┆ … ┆ null     ┆ null       ┆ null     ┆ null       │\n",
       "│      ┆ =C1)N=NC2=C ┆ 24H18ClN2P ┆ C=C1)[N]2[ ┆   ┆          ┆            ┆          ┆            │\n",
       "│      ┆ (C=CC=C2)P… ┆ /c25-19-15 ┆ N-]C5=C([P ┆   ┆          ┆            ┆          ┆            │\n",
       "│      ┆             ┆ -1…        ┆ +]…        ┆   ┆          ┆            ┆          ┆            │\n",
       "│ 1772 ┆ ClC2=CC(=C( ┆ InChI=1S/C ┆ C1=CC=C(C= ┆ … ┆ null     ┆ null       ┆ null     ┆ null       │\n",
       "│      ┆ N=NC1=CC=CC ┆ 24H18ClN2P ┆ C1)[N]2[N- ┆   ┆          ┆            ┆          ┆            │\n",
       "│      ┆ =C1)C=C2)P… ┆ /c25-19-16 ┆ ]C5=C([P+] ┆   ┆          ┆            ┆          ┆            │\n",
       "│      ┆             ┆ -1…        ┆ 2(…        ┆   ┆          ┆            ┆          ┆            │\n",
       "│ 1773 ┆ ClC1=CC=C(C ┆ InChI=1S/C ┆ ClC1=CC=C( ┆ … ┆ null     ┆ null       ┆ null     ┆ null       │\n",
       "│      ┆ =C1)N=NC2=C ┆ 25H20ClN2P ┆ C=C1)[N]2[ ┆   ┆          ┆            ┆          ┆            │\n",
       "│      ┆ (C=C(C=C2)… ┆ /c1-19-12- ┆ N-]C5=C([P ┆   ┆          ┆            ┆          ┆            │\n",
       "│      ┆             ┆ 17…        ┆ +]…        ┆   ┆          ┆            ┆          ┆            │\n",
       "│ 1774 ┆ ClC2=CC(=C( ┆ InChI=1S/C ┆ ClC5=CC1=C ┆ … ┆ null     ┆ null       ┆ null     ┆ null       │\n",
       "│      ┆ N=NC1=CC=C( ┆ 25H20ClN2P ┆ ([N-][N]([ ┆   ┆          ┆            ┆          ┆            │\n",
       "│      ┆ C)C=C1)C=C… ┆ /c1-19-12- ┆ P+]1(C2=CC ┆   ┆          ┆            ┆          ┆            │\n",
       "│      ┆             ┆ 15…        ┆ =C…        ┆   ┆          ┆            ┆          ┆            │\n",
       "│ 1775 ┆ ClC2=CC(=C( ┆ InChI=1S/C ┆ ClC1=CC=C( ┆ … ┆ null     ┆ null       ┆ null     ┆ null       │\n",
       "│      ┆ N=NC1=CC=C( ┆ 24H17Cl2N2 ┆ C=C1)[N]2[ ┆   ┆          ┆            ┆          ┆            │\n",
       "│      ┆ Cl)C=C1)C=… ┆ P/c25-18-1 ┆ N-]C5=C([P ┆   ┆          ┆            ┆          ┆            │\n",
       "│      ┆             ┆ 1-…        ┆ +]…        ┆   ┆          ┆            ┆          ┆            │\n",
       "└──────┴─────────────┴────────────┴────────────┴───┴──────────┴────────────┴──────────┴────────────┘"
      ]
     },
     "execution_count": 14,
     "metadata": {},
     "output_type": "execute_result"
    }
   ],
   "source": [
    "# Lists for names of SMILES_n and InChI_n columns\n",
    "SMILES_columns = [col for col in df.columns if col.startswith('SMILES_')]\n",
    "InChI_columns = [col for col in df.columns if col.startswith('Std_InChI_')]\n",
    "\n",
    "# Combined list of SMILES_n and InChI_n columns\n",
    "numbered_columns = [elem for pair in zip(SMILES_columns, InChI_columns) for elem in pair]\n",
    "\n",
    "# Select relevant columns in dataframe\n",
    "df = df.select(\"Ref\", *numbered_columns)\n",
    "df"
   ]
  },
  {
   "cell_type": "markdown",
   "metadata": {},
   "source": [
    "The Excel sheet has sets of columns for each of up to five experimentally-observed structures for a tautomer, called a Ref in the sheet, in a row. We will use the experimentally-observed structures as inputs to the tautomer generation algorithms, so we [melt](https://docs.pola.rs/py-polars/html/reference/dataframe/api/polars.DataFrame.melt.html#polars.DataFrame.melt) the dataframe by making each Ref-structure pair into its own row."
   ]
  },
  {
   "cell_type": "code",
   "execution_count": 15,
   "metadata": {},
   "outputs": [],
   "source": [
    "# Melt dataframe: Break out each row's SMILES_n columns into its own row\n",
    "df_melted = df.melt(id_vars=[\"Ref\"], value_vars=SMILES_columns, value_name=\"sml\")"
   ]
  },
  {
   "cell_type": "markdown",
   "metadata": {},
   "source": [
    "This produces 2,819 * 5 = 14,095 rows:"
   ]
  },
  {
   "cell_type": "code",
   "execution_count": 16,
   "metadata": {},
   "outputs": [
    {
     "data": {
      "text/html": [
       "<div><style>\n",
       ".dataframe > thead > tr,\n",
       ".dataframe > tbody > tr {\n",
       "  text-align: right;\n",
       "  white-space: pre-wrap;\n",
       "}\n",
       "</style>\n",
       "<small>shape: (14_095, 3)</small><table border=\"1\" class=\"dataframe\"><thead><tr><th>Ref</th><th>variable</th><th>sml</th></tr><tr><td>i64</td><td>str</td><td>str</td></tr></thead><tbody><tr><td>1</td><td>&quot;SMILES_1&quot;</td><td>&quot;O=C(C)CC(C)=O&quot;</td></tr><tr><td>2</td><td>&quot;SMILES_1&quot;</td><td>&quot;N1=CC=N[NH]1&quot;</td></tr><tr><td>3</td><td>&quot;SMILES_1&quot;</td><td>&quot;CC1=CC=NN1&quot;</td></tr><tr><td>4</td><td>&quot;SMILES_1&quot;</td><td>&quot;N=N=NC1=NNC2=C…</td></tr><tr><td>5</td><td>&quot;SMILES_1&quot;</td><td>&quot;CC1([C@H]2C(C=…</td></tr><tr><td>6</td><td>&quot;SMILES_1&quot;</td><td>&quot;OC(C=CC=C1)=C1…</td></tr><tr><td>7</td><td>&quot;SMILES_1&quot;</td><td>&quot;O=C(C([H])([H]…</td></tr><tr><td>8</td><td>&quot;SMILES_1&quot;</td><td>&quot;O/C(C1=CC=CC=C…</td></tr><tr><td>9</td><td>&quot;SMILES_1&quot;</td><td>&quot;OC1=C(C2=CC=CC…</td></tr><tr><td>9</td><td>&quot;SMILES_1&quot;</td><td>&quot;OC1=C(C2=CC=CC…</td></tr><tr><td>9</td><td>&quot;SMILES_1&quot;</td><td>&quot;OC1=C(C2=CC=CC…</td></tr><tr><td>9</td><td>&quot;SMILES_1&quot;</td><td>&quot;OC1=C(C2=CC=CC…</td></tr><tr><td>&hellip;</td><td>&hellip;</td><td>&hellip;</td></tr><tr><td>1767</td><td>&quot;SMILES_5&quot;</td><td>null</td></tr><tr><td>1767</td><td>&quot;SMILES_5&quot;</td><td>null</td></tr><tr><td>1767</td><td>&quot;SMILES_5&quot;</td><td>null</td></tr><tr><td>1767</td><td>&quot;SMILES_5&quot;</td><td>null</td></tr><tr><td>1768</td><td>&quot;SMILES_5&quot;</td><td>null</td></tr><tr><td>1769</td><td>&quot;SMILES_5&quot;</td><td>null</td></tr><tr><td>1770</td><td>&quot;SMILES_5&quot;</td><td>null</td></tr><tr><td>1771</td><td>&quot;SMILES_5&quot;</td><td>null</td></tr><tr><td>1772</td><td>&quot;SMILES_5&quot;</td><td>null</td></tr><tr><td>1773</td><td>&quot;SMILES_5&quot;</td><td>null</td></tr><tr><td>1774</td><td>&quot;SMILES_5&quot;</td><td>null</td></tr><tr><td>1775</td><td>&quot;SMILES_5&quot;</td><td>null</td></tr></tbody></table></div>"
      ],
      "text/plain": [
       "shape: (14_095, 3)\n",
       "┌──────┬──────────┬───────────────────────────────────┐\n",
       "│ Ref  ┆ variable ┆ sml                               │\n",
       "│ ---  ┆ ---      ┆ ---                               │\n",
       "│ i64  ┆ str      ┆ str                               │\n",
       "╞══════╪══════════╪═══════════════════════════════════╡\n",
       "│ 1    ┆ SMILES_1 ┆ O=C(C)CC(C)=O                     │\n",
       "│ 2    ┆ SMILES_1 ┆ N1=CC=N[NH]1                      │\n",
       "│ 3    ┆ SMILES_1 ┆ CC1=CC=NN1                        │\n",
       "│ 4    ┆ SMILES_1 ┆ N=N=NC1=NNC2=CC=CC=C12            │\n",
       "│ 5    ┆ SMILES_1 ┆ CC1([C@H]2C(C=O)=C(O)[C@@](CC2)1… │\n",
       "│ …    ┆ …        ┆ …                                 │\n",
       "│ 1771 ┆ SMILES_5 ┆ null                              │\n",
       "│ 1772 ┆ SMILES_5 ┆ null                              │\n",
       "│ 1773 ┆ SMILES_5 ┆ null                              │\n",
       "│ 1774 ┆ SMILES_5 ┆ null                              │\n",
       "│ 1775 ┆ SMILES_5 ┆ null                              │\n",
       "└──────┴──────────┴───────────────────────────────────┘"
      ]
     },
     "execution_count": 16,
     "metadata": {},
     "output_type": "execute_result"
    }
   ],
   "source": [
    "df_melted"
   ]
  },
  {
   "cell_type": "markdown",
   "metadata": {},
   "source": [
    "Because many rows of the Excel sheet have less than five structures, there are many rows with no structure (SMILES), so let's remove those rows. We also don't need to know which number SMILES (1-5) each was, so we'll drop the `variable` columns that Polars created when we melted the original dataframe."
   ]
  },
  {
   "cell_type": "code",
   "execution_count": 17,
   "metadata": {},
   "outputs": [],
   "source": [
    "# Keep rows where SMILES is supplied\n",
    "df_melted = df_melted.filter(pl.col('sml').is_not_null())\n",
    "\n",
    "# Remove SMILES_n label column (n = 1-5)\n",
    "df_melted = df_melted.drop(\"variable\")"
   ]
  },
  {
   "cell_type": "markdown",
   "metadata": {},
   "source": [
    "A check of the dataframe confirms that it contains the 5,977 structures reported by the [data description](https://cactus.nci.nih.gov/download/tautomer/)."
   ]
  },
  {
   "cell_type": "code",
   "execution_count": 18,
   "metadata": {},
   "outputs": [
    {
     "data": {
      "text/html": [
       "<div><style>\n",
       ".dataframe > thead > tr,\n",
       ".dataframe > tbody > tr {\n",
       "  text-align: right;\n",
       "  white-space: pre-wrap;\n",
       "}\n",
       "</style>\n",
       "<small>shape: (5_977, 2)</small><table border=\"1\" class=\"dataframe\"><thead><tr><th>Ref</th><th>sml</th></tr><tr><td>i64</td><td>str</td></tr></thead><tbody><tr><td>1</td><td>&quot;O=C(C)CC(C)=O&quot;</td></tr><tr><td>2</td><td>&quot;N1=CC=N[NH]1&quot;</td></tr><tr><td>3</td><td>&quot;CC1=CC=NN1&quot;</td></tr><tr><td>4</td><td>&quot;N=N=NC1=NNC2=C…</td></tr><tr><td>5</td><td>&quot;CC1([C@H]2C(C=…</td></tr><tr><td>6</td><td>&quot;OC(C=CC=C1)=C1…</td></tr><tr><td>7</td><td>&quot;O=C(C([H])([H]…</td></tr><tr><td>8</td><td>&quot;O/C(C1=CC=CC=C…</td></tr><tr><td>9</td><td>&quot;OC1=C(C2=CC=CC…</td></tr><tr><td>9</td><td>&quot;OC1=C(C2=CC=CC…</td></tr><tr><td>9</td><td>&quot;OC1=C(C2=CC=CC…</td></tr><tr><td>9</td><td>&quot;OC1=C(C2=CC=CC…</td></tr><tr><td>&hellip;</td><td>&hellip;</td></tr><tr><td>1216</td><td>&quot;O=C(OCC)/C(C)=…</td></tr><tr><td>926</td><td>&quot;O=C(/C=C(O)/C/…</td></tr><tr><td>927</td><td>&quot;O=C(CC(C(CC)/C…</td></tr><tr><td>928</td><td>&quot;O=C(CC(C/C(O)=…</td></tr><tr><td>929</td><td>&quot;O=C(OC)/C=C(C/…</td></tr><tr><td>929</td><td>&quot;O=C(OC)/C=C(C/…</td></tr><tr><td>930</td><td>&quot;O=C(CC(C/C(O)=…</td></tr><tr><td>931</td><td>&quot;O=C(/C=C(O)/C/…</td></tr><tr><td>932</td><td>&quot;O=C(OC)/C=C(C/…</td></tr><tr><td>1213</td><td>&quot;O=C(OCC)C1/C(S…</td></tr><tr><td>1214</td><td>&quot;O=C(OCC)C1/C(S…</td></tr><tr><td>1215</td><td>&quot;O=C(OCC)C(C)/C…</td></tr></tbody></table></div>"
      ],
      "text/plain": [
       "shape: (5_977, 2)\n",
       "┌──────┬───────────────────────────────────┐\n",
       "│ Ref  ┆ sml                               │\n",
       "│ ---  ┆ ---                               │\n",
       "│ i64  ┆ str                               │\n",
       "╞══════╪═══════════════════════════════════╡\n",
       "│ 1    ┆ O=C(C)CC(C)=O                     │\n",
       "│ 2    ┆ N1=CC=N[NH]1                      │\n",
       "│ 3    ┆ CC1=CC=NN1                        │\n",
       "│ 4    ┆ N=N=NC1=NNC2=CC=CC=C12            │\n",
       "│ 5    ┆ CC1([C@H]2C(C=O)=C(O)[C@@](CC2)1… │\n",
       "│ …    ┆ …                                 │\n",
       "│ 931  ┆ O=C(/C=C(O)/C/C(O)=C(Cl)/C(OCC)=… │\n",
       "│ 932  ┆ O=C(OC)/C=C(C/C(O)=C(C(OCC)=O)\\F… │\n",
       "│ 1213 ┆ O=C(OCC)C1/C(S)=C\\CCCCCCCC1       │\n",
       "│ 1214 ┆ O=C(OCC)C1/C(S)=C\\CCCCCCCCC1      │\n",
       "│ 1215 ┆ O=C(OCC)C(C)/C(S)=C\\C             │\n",
       "└──────┴───────────────────────────────────┘"
      ]
     },
     "execution_count": 18,
     "metadata": {},
     "output_type": "execute_result"
    }
   ],
   "source": [
    "df_melted"
   ]
  },
  {
   "cell_type": "markdown",
   "metadata": {},
   "source": [
    "Next we'll remove duplicate rows, which are possible because a Ref can have multiple rows in the Excel sheet, and those rows may well have some of the same structures."
   ]
  },
  {
   "cell_type": "code",
   "execution_count": 19,
   "metadata": {},
   "outputs": [
    {
     "data": {
      "text/html": [
       "<div><style>\n",
       ".dataframe > thead > tr,\n",
       ".dataframe > tbody > tr {\n",
       "  text-align: right;\n",
       "  white-space: pre-wrap;\n",
       "}\n",
       "</style>\n",
       "<small>shape: (3_911, 2)</small><table border=\"1\" class=\"dataframe\"><thead><tr><th>Ref</th><th>sml</th></tr><tr><td>i64</td><td>str</td></tr></thead><tbody><tr><td>12</td><td>&quot;O=C1C=CC2=CC=C…</td></tr><tr><td>25</td><td>&quot;C1(/C=CC=CC=C1…</td></tr><tr><td>29</td><td>&quot;NC1=CC=CC=CC1=…</td></tr><tr><td>39</td><td>&quot;C1(/C=N/N2C=NN…</td></tr><tr><td>40</td><td>&quot;O=[N+](C1=CC=C…</td></tr><tr><td>46</td><td>&quot;O=C(N(N1)C2=CC…</td></tr><tr><td>47</td><td>&quot;OC1=NN(C(C)=C1…</td></tr><tr><td>61</td><td>&quot;O=S1(CC(C2=CC=…</td></tr><tr><td>67</td><td>&quot;C1(C2=CC=CC=C2…</td></tr><tr><td>73</td><td>&quot;O=[N+](C1=C(C2…</td></tr><tr><td>81</td><td>&quot;O=C1NC(N)=NC=C…</td></tr><tr><td>84</td><td>&quot;[H]C12CC[C@@H]…</td></tr><tr><td>&hellip;</td><td>&hellip;</td></tr><tr><td>1157</td><td>&quot;O=C(OC(C)C)/C=…</td></tr><tr><td>1160</td><td>&quot;O=C(/C=C(C)/S)…</td></tr><tr><td>1163</td><td>&quot;O=C(/C=C(S)\\C)…</td></tr><tr><td>1173</td><td>&quot;O=C(/C=C(S)\\C1…</td></tr><tr><td>1184</td><td>&quot;O=C(/C(C)=C(S)…</td></tr><tr><td>1189</td><td>&quot;O=C(OCC)/C(C(C…</td></tr><tr><td>1212</td><td>&quot;O=C(C(CCCCCCCC…</td></tr><tr><td>790</td><td>&quot;O=C1N2C3=C(C=C…</td></tr><tr><td>931</td><td>&quot;O=C(CC(CC(C(Cl…</td></tr><tr><td>1036</td><td>&quot;C1(OC(\\C(C1=O)…</td></tr><tr><td>1214</td><td>&quot;O=C(OCC)C1/C(S…</td></tr><tr><td>930</td><td>&quot;O=C(CC(C/C(O)=…</td></tr></tbody></table></div>"
      ],
      "text/plain": [
       "shape: (3_911, 2)\n",
       "┌──────┬───────────────────────────────────┐\n",
       "│ Ref  ┆ sml                               │\n",
       "│ ---  ┆ ---                               │\n",
       "│ i64  ┆ str                               │\n",
       "╞══════╪═══════════════════════════════════╡\n",
       "│ 12   ┆ O=C1C=CC2=CC=CC=C2/C1=C/NC3=CC=C… │\n",
       "│ 25   ┆ C1(/C=CC=CC=C1NC2=CC=CC=C2)=N/C3… │\n",
       "│ 29   ┆ NC1=CC=CC=CC1=O                   │\n",
       "│ 39   ┆ C1(/C=N/N2C=NN=C2)=CC=C/C1=C/NC3… │\n",
       "│ 40   ┆ O=[N+](C1=CC=C(N2C(CC(C3=CC=CC=C… │\n",
       "│ …    ┆ …                                 │\n",
       "│ 790  ┆ O=C1N2C3=C(C=CC=C3CCC2)C(O)=C1/C… │\n",
       "│ 931  ┆ O=C(CC(CC(C(Cl)C(OCC)=O)=O)=O)OC  │\n",
       "│ 1036 ┆ C1(OC(\\C(C1=O)=C(\\CCC)O)=O)C2=CC… │\n",
       "│ 1214 ┆ O=C(OCC)C1/C(S)=C/CCCCCCCCC1      │\n",
       "│ 930  ┆ O=C(CC(C/C(O)=C(Cl)/C(OC)=O)=O)O… │\n",
       "└──────┴───────────────────────────────────┘"
      ]
     },
     "execution_count": 19,
     "metadata": {},
     "output_type": "execute_result"
    }
   ],
   "source": [
    "# Remove duplicate rows\n",
    "df_melted = df_melted.unique()\n",
    "df_melted"
   ]
  },
  {
   "cell_type": "code",
   "execution_count": 20,
   "metadata": {},
   "outputs": [],
   "source": [
    "# Remove the input SMILES column; drop rows with any null values, though there are none\n",
    "df_melted = df_melted.drop_nulls()"
   ]
  },
  {
   "cell_type": "code",
   "execution_count": 21,
   "metadata": {},
   "outputs": [
    {
     "data": {
      "text/plain": [
       "3911"
      ]
     },
     "execution_count": 21,
     "metadata": {},
     "output_type": "execute_result"
    }
   ],
   "source": [
    "unique_sml = df_melted.shape[0]\n",
    "unique_sml"
   ]
  },
  {
   "cell_type": "markdown",
   "metadata": {},
   "source": [
    "This gives us 3,911 different structures. Compared to the 3,884 reported in the data description, this is slightly greater, by 27 or 0.7%. We'll discuss this below."
   ]
  },
  {
   "cell_type": "markdown",
   "metadata": {},
   "source": [
    "Another level of redundancy is that some structures which have different SMILES are actually the same molecule. A way to check if two SMILES correspond to the same molecule is to make each into an RDKit molecule, then output their canonical SMILES, then check if those are the same.\n",
    "\n",
    "We defined `mol_from_sml()` above to create RDKit molecules with two methods:\n",
    "1) preferably, with sanitization\n",
    "2) as a fallback, without sanitization\n",
    "\n",
    "Without falling back to `sanitize=False`, eight rows comprising three Ref values (4, 355, and 1130) are not made into molecules, which prevents them from being processed with the steps that follow. Including the fallback option allows all rows to be made into molecules."
   ]
  },
  {
   "cell_type": "code",
   "execution_count": 22,
   "metadata": {},
   "outputs": [
    {
     "data": {
      "text/html": [
       "<div><style>\n",
       ".dataframe > thead > tr,\n",
       ".dataframe > tbody > tr {\n",
       "  text-align: right;\n",
       "  white-space: pre-wrap;\n",
       "}\n",
       "</style>\n",
       "<small>shape: (3_911, 3)</small><table border=\"1\" class=\"dataframe\"><thead><tr><th>Ref</th><th>mol</th><th>canon_sml</th></tr><tr><td>i64</td><td>object</td><td>str</td></tr></thead><tbody><tr><td>12</td><td>&lt;rdkit.Chem.rdchem.Mol object at 0x151a8cf90&gt;</td><td>&quot;COc1ccc(N/C=C2…</td></tr><tr><td>25</td><td>&lt;rdkit.Chem.rdchem.Mol object at 0x151a8d000&gt;</td><td>&quot;c1ccc(/N=c2\\cc…</td></tr><tr><td>29</td><td>&lt;rdkit.Chem.rdchem.Mol object at 0x151a8d070&gt;</td><td>&quot;Nc1cccccc1=O&quot;</td></tr><tr><td>39</td><td>&lt;rdkit.Chem.rdchem.Mol object at 0x151a8d0e0&gt;</td><td>&quot;C1=C/C(=C/Nc2c…</td></tr><tr><td>40</td><td>&lt;rdkit.Chem.rdchem.Mol object at 0x151a8d150&gt;</td><td>&quot;O=C1CC(c2ccccc…</td></tr><tr><td>46</td><td>&lt;rdkit.Chem.rdchem.Mol object at 0x151a8d1c0&gt;</td><td>&quot;Cc1cc(=O)n(-c2…</td></tr><tr><td>47</td><td>&lt;rdkit.Chem.rdchem.Mol object at 0x151a8d2a0&gt;</td><td>&quot;Cc1cc(O)nn1-c1…</td></tr><tr><td>61</td><td>&lt;rdkit.Chem.rdchem.Mol object at 0x151a8d310&gt;</td><td>&quot;O=S1(=O)C=CC=C…</td></tr><tr><td>67</td><td>&lt;rdkit.Chem.rdchem.Mol object at 0x151a8d380&gt;</td><td>&quot;C1=C(c2ccccc2)…</td></tr><tr><td>73</td><td>&lt;rdkit.Chem.rdchem.Mol object at 0x151a8d460&gt;</td><td>&quot;CSC1=NC(C)=C(C…</td></tr><tr><td>81</td><td>&lt;rdkit.Chem.rdchem.Mol object at 0x151a8d540&gt;</td><td>&quot;Nc1ncc(OC[C@@H…</td></tr><tr><td>84</td><td>&lt;rdkit.Chem.rdchem.Mol object at 0x151a8d5b0&gt;</td><td>&quot;C[C@@H]1CCC2C(…</td></tr><tr><td>&hellip;</td><td>&hellip;</td><td>&hellip;</td></tr><tr><td>1157</td><td>&lt;rdkit.Chem.rdchem.Mol object at 0x15e3907b0&gt;</td><td>&quot;C/C(S)=C\\C(=O)…</td></tr><tr><td>1160</td><td>&lt;rdkit.Chem.rdchem.Mol object at 0x15e390820&gt;</td><td>&quot;CCC(C)OC(=O)/C…</td></tr><tr><td>1163</td><td>&lt;rdkit.Chem.rdchem.Mol object at 0x15e390890&gt;</td><td>&quot;CCC(C)CC(CC)OC…</td></tr><tr><td>1173</td><td>&lt;rdkit.Chem.rdchem.Mol object at 0x15e390900&gt;</td><td>&quot;CCOC(=O)/C=C(/…</td></tr><tr><td>1184</td><td>&lt;rdkit.Chem.rdchem.Mol object at 0x15e390970&gt;</td><td>&quot;CCOC(=O)/C(C)=…</td></tr><tr><td>1189</td><td>&lt;rdkit.Chem.rdchem.Mol object at 0x15e3909e0&gt;</td><td>&quot;CCOC(=O)/C(C(=…</td></tr><tr><td>1212</td><td>&lt;rdkit.Chem.rdchem.Mol object at 0x15e390a50&gt;</td><td>&quot;CCOC(=O)C1CCCC…</td></tr><tr><td>790</td><td>&lt;rdkit.Chem.rdchem.Mol object at 0x15e390b30&gt;</td><td>&quot;C/C(=N\\Cc1cccc…</td></tr><tr><td>931</td><td>&lt;rdkit.Chem.rdchem.Mol object at 0x15e390ba0&gt;</td><td>&quot;CCOC(=O)C(Cl)C…</td></tr><tr><td>1036</td><td>&lt;rdkit.Chem.rdchem.Mol object at 0x15e390c10&gt;</td><td>&quot;CCC/C(O)=C1/C(…</td></tr><tr><td>1214</td><td>&lt;rdkit.Chem.rdchem.Mol object at 0x15e390c80&gt;</td><td>&quot;CCOC(=O)C1CCCC…</td></tr><tr><td>930</td><td>&lt;rdkit.Chem.rdchem.Mol object at 0x15e390cf0&gt;</td><td>&quot;COC(=O)CC(=O)C…</td></tr></tbody></table></div>"
      ],
      "text/plain": [
       "shape: (3_911, 3)\n",
       "┌──────┬───────────────────────────────────┬───────────────────────────────────┐\n",
       "│ Ref  ┆ mol                               ┆ canon_sml                         │\n",
       "│ ---  ┆ ---                               ┆ ---                               │\n",
       "│ i64  ┆ object                            ┆ str                               │\n",
       "╞══════╪═══════════════════════════════════╪═══════════════════════════════════╡\n",
       "│ 12   ┆ <rdkit.Chem.rdchem.Mol object at… ┆ COc1ccc(N/C=C2\\C(=O)C=Cc3ccccc32… │\n",
       "│ 25   ┆ <rdkit.Chem.rdchem.Mol object at… ┆ c1ccc(/N=c2\\cccccc2Nc2ccccc2)cc1  │\n",
       "│ 29   ┆ <rdkit.Chem.rdchem.Mol object at… ┆ Nc1cccccc1=O                      │\n",
       "│ 39   ┆ <rdkit.Chem.rdchem.Mol object at… ┆ C1=C/C(=C/Nc2ccccc2)C(/C=N/n2cnn… │\n",
       "│ 40   ┆ <rdkit.Chem.rdchem.Mol object at… ┆ O=C1CC(c2ccccc2)=NN1c1ccc([N+](=… │\n",
       "│ …    ┆ …                                 ┆ …                                 │\n",
       "│ 790  ┆ <rdkit.Chem.rdchem.Mol object at… ┆ C/C(=N\\Cc1ccccc1)c1c(O)c2cccc3c2… │\n",
       "│ 931  ┆ <rdkit.Chem.rdchem.Mol object at… ┆ CCOC(=O)C(Cl)C(=O)CC(=O)CC(=O)OC  │\n",
       "│ 1036 ┆ <rdkit.Chem.rdchem.Mol object at… ┆ CCC/C(O)=C1/C(=O)OC(c2ccccc2)C1=… │\n",
       "│ 1214 ┆ <rdkit.Chem.rdchem.Mol object at… ┆ CCOC(=O)C1CCCCCCCCC/C=C/1S        │\n",
       "│ 930  ┆ <rdkit.Chem.rdchem.Mol object at… ┆ COC(=O)CC(=O)C/C(O)=C(\\Cl)C(=O)O… │\n",
       "└──────┴───────────────────────────────────┴───────────────────────────────────┘"
      ]
     },
     "execution_count": 22,
     "metadata": {},
     "output_type": "execute_result"
    }
   ],
   "source": [
    "# Add the RDKit molecule\n",
    "df_melted = df_melted.with_columns(\n",
    "    [\n",
    "        pl.col(\"sml\").map_elements(lambda s: mol_from_sml(s)).alias(\"mol\"),\n",
    "    ]\n",
    ")\n",
    "\n",
    "# Add the canonical SMILES\n",
    "df_melted = df_melted.with_columns(\n",
    "    [\n",
    "        pl.col(\"mol\").map_elements(lambda m: canon_sml_or_none(m)).alias(\"canon_sml\"),\n",
    "    ]\n",
    ")\n",
    "\n",
    "# Now that we have canonical SMILES, drop the original SMILES\n",
    "df_melted = df_melted.drop(\"sml\")\n",
    "df_melted"
   ]
  },
  {
   "cell_type": "code",
   "execution_count": 23,
   "metadata": {},
   "outputs": [
    {
     "data": {
      "text/html": [
       "<div><style>\n",
       ".dataframe > thead > tr,\n",
       ".dataframe > tbody > tr {\n",
       "  text-align: right;\n",
       "  white-space: pre-wrap;\n",
       "}\n",
       "</style>\n",
       "<small>shape: (3_911, 3)</small><table border=\"1\" class=\"dataframe\"><thead><tr><th>Ref</th><th>mol</th><th>canon_sml</th></tr><tr><td>i64</td><td>object</td><td>str</td></tr></thead><tbody><tr><td>12</td><td>&lt;rdkit.Chem.rdchem.Mol object at 0x151a8cf90&gt;</td><td>&quot;COc1ccc(N/C=C2…</td></tr><tr><td>25</td><td>&lt;rdkit.Chem.rdchem.Mol object at 0x151a8d000&gt;</td><td>&quot;c1ccc(/N=c2\\cc…</td></tr><tr><td>29</td><td>&lt;rdkit.Chem.rdchem.Mol object at 0x151a8d070&gt;</td><td>&quot;Nc1cccccc1=O&quot;</td></tr><tr><td>39</td><td>&lt;rdkit.Chem.rdchem.Mol object at 0x151a8d0e0&gt;</td><td>&quot;C1=C/C(=C/Nc2c…</td></tr><tr><td>40</td><td>&lt;rdkit.Chem.rdchem.Mol object at 0x151a8d150&gt;</td><td>&quot;O=C1CC(c2ccccc…</td></tr><tr><td>46</td><td>&lt;rdkit.Chem.rdchem.Mol object at 0x151a8d1c0&gt;</td><td>&quot;Cc1cc(=O)n(-c2…</td></tr><tr><td>47</td><td>&lt;rdkit.Chem.rdchem.Mol object at 0x151a8d2a0&gt;</td><td>&quot;Cc1cc(O)nn1-c1…</td></tr><tr><td>61</td><td>&lt;rdkit.Chem.rdchem.Mol object at 0x151a8d310&gt;</td><td>&quot;O=S1(=O)C=CC=C…</td></tr><tr><td>67</td><td>&lt;rdkit.Chem.rdchem.Mol object at 0x151a8d380&gt;</td><td>&quot;C1=C(c2ccccc2)…</td></tr><tr><td>73</td><td>&lt;rdkit.Chem.rdchem.Mol object at 0x151a8d460&gt;</td><td>&quot;CSC1=NC(C)=C(C…</td></tr><tr><td>81</td><td>&lt;rdkit.Chem.rdchem.Mol object at 0x151a8d540&gt;</td><td>&quot;Nc1ncc(OC[C@@H…</td></tr><tr><td>84</td><td>&lt;rdkit.Chem.rdchem.Mol object at 0x151a8d5b0&gt;</td><td>&quot;C[C@@H]1CCC2C(…</td></tr><tr><td>&hellip;</td><td>&hellip;</td><td>&hellip;</td></tr><tr><td>1157</td><td>&lt;rdkit.Chem.rdchem.Mol object at 0x15e3907b0&gt;</td><td>&quot;C/C(S)=C\\C(=O)…</td></tr><tr><td>1160</td><td>&lt;rdkit.Chem.rdchem.Mol object at 0x15e390820&gt;</td><td>&quot;CCC(C)OC(=O)/C…</td></tr><tr><td>1163</td><td>&lt;rdkit.Chem.rdchem.Mol object at 0x15e390890&gt;</td><td>&quot;CCC(C)CC(CC)OC…</td></tr><tr><td>1173</td><td>&lt;rdkit.Chem.rdchem.Mol object at 0x15e390900&gt;</td><td>&quot;CCOC(=O)/C=C(/…</td></tr><tr><td>1184</td><td>&lt;rdkit.Chem.rdchem.Mol object at 0x15e390970&gt;</td><td>&quot;CCOC(=O)/C(C)=…</td></tr><tr><td>1189</td><td>&lt;rdkit.Chem.rdchem.Mol object at 0x15e3909e0&gt;</td><td>&quot;CCOC(=O)/C(C(=…</td></tr><tr><td>1212</td><td>&lt;rdkit.Chem.rdchem.Mol object at 0x15e390a50&gt;</td><td>&quot;CCOC(=O)C1CCCC…</td></tr><tr><td>790</td><td>&lt;rdkit.Chem.rdchem.Mol object at 0x15e390b30&gt;</td><td>&quot;C/C(=N\\Cc1cccc…</td></tr><tr><td>931</td><td>&lt;rdkit.Chem.rdchem.Mol object at 0x15e390ba0&gt;</td><td>&quot;CCOC(=O)C(Cl)C…</td></tr><tr><td>1036</td><td>&lt;rdkit.Chem.rdchem.Mol object at 0x15e390c10&gt;</td><td>&quot;CCC/C(O)=C1/C(…</td></tr><tr><td>1214</td><td>&lt;rdkit.Chem.rdchem.Mol object at 0x15e390c80&gt;</td><td>&quot;CCOC(=O)C1CCCC…</td></tr><tr><td>930</td><td>&lt;rdkit.Chem.rdchem.Mol object at 0x15e390cf0&gt;</td><td>&quot;COC(=O)CC(=O)C…</td></tr></tbody></table></div>"
      ],
      "text/plain": [
       "shape: (3_911, 3)\n",
       "┌──────┬───────────────────────────────────┬───────────────────────────────────┐\n",
       "│ Ref  ┆ mol                               ┆ canon_sml                         │\n",
       "│ ---  ┆ ---                               ┆ ---                               │\n",
       "│ i64  ┆ object                            ┆ str                               │\n",
       "╞══════╪═══════════════════════════════════╪═══════════════════════════════════╡\n",
       "│ 12   ┆ <rdkit.Chem.rdchem.Mol object at… ┆ COc1ccc(N/C=C2\\C(=O)C=Cc3ccccc32… │\n",
       "│ 25   ┆ <rdkit.Chem.rdchem.Mol object at… ┆ c1ccc(/N=c2\\cccccc2Nc2ccccc2)cc1  │\n",
       "│ 29   ┆ <rdkit.Chem.rdchem.Mol object at… ┆ Nc1cccccc1=O                      │\n",
       "│ 39   ┆ <rdkit.Chem.rdchem.Mol object at… ┆ C1=C/C(=C/Nc2ccccc2)C(/C=N/n2cnn… │\n",
       "│ 40   ┆ <rdkit.Chem.rdchem.Mol object at… ┆ O=C1CC(c2ccccc2)=NN1c1ccc([N+](=… │\n",
       "│ …    ┆ …                                 ┆ …                                 │\n",
       "│ 790  ┆ <rdkit.Chem.rdchem.Mol object at… ┆ C/C(=N\\Cc1ccccc1)c1c(O)c2cccc3c2… │\n",
       "│ 931  ┆ <rdkit.Chem.rdchem.Mol object at… ┆ CCOC(=O)C(Cl)C(=O)CC(=O)CC(=O)OC  │\n",
       "│ 1036 ┆ <rdkit.Chem.rdchem.Mol object at… ┆ CCC/C(O)=C1/C(=O)OC(c2ccccc2)C1=… │\n",
       "│ 1214 ┆ <rdkit.Chem.rdchem.Mol object at… ┆ CCOC(=O)C1CCCCCCCCC/C=C/1S        │\n",
       "│ 930  ┆ <rdkit.Chem.rdchem.Mol object at… ┆ COC(=O)CC(=O)C/C(O)=C(\\Cl)C(=O)O… │\n",
       "└──────┴───────────────────────────────────┴───────────────────────────────────┘"
      ]
     },
     "execution_count": 23,
     "metadata": {},
     "output_type": "execute_result"
    }
   ],
   "source": [
    "df_melted"
   ]
  },
  {
   "cell_type": "code",
   "execution_count": 24,
   "metadata": {},
   "outputs": [],
   "source": [
    "# Drop duplicate (Ref + canonical SMILES) rows\n",
    "df_melted = df_melted.unique([\"Ref\", \"canon_sml\"])"
   ]
  },
  {
   "cell_type": "markdown",
   "metadata": {},
   "source": [
    "After removing those duplicates, we have 3,797 different structures:"
   ]
  },
  {
   "cell_type": "code",
   "execution_count": 25,
   "metadata": {},
   "outputs": [
    {
     "data": {
      "text/plain": [
       "(3797, 3)"
      ]
     },
     "execution_count": 25,
     "metadata": {},
     "output_type": "execute_result"
    }
   ],
   "source": [
    "df_melted.shape"
   ]
  },
  {
   "cell_type": "markdown",
   "metadata": {},
   "source": [
    "Whereas we originally had slightly more than the reported 3,884 data structures, we now have slightly fewer (87 or 2.2%)."
   ]
  },
  {
   "cell_type": "markdown",
   "metadata": {},
   "source": [
    "### Determining which molecules are the same is difficult at scale"
   ]
  },
  {
   "cell_type": "markdown",
   "metadata": {},
   "source": [
    "The discrepancy is likely due to the definition of \"different\". Again, we should not count as different structures where, for example, SMILES writes an aromatic ring coded with single bonds at odd bond indexes (and double bonds at even bond indexes) is the same as one coded with single bonds at even bond indexes (and double bonds at odd bond indexes). Modifying the [example from Richard L. Apodaca](https://depth-first.com/articles/2020/02/10/a-comprehensive-treatment-of-aromaticity-in-the-smiles-language/), if we don't sanitize these two alternate SMILES for 1,2-bromobenzene, we get different structures and canonical SMILES because they are represented in Kekulé form:"
   ]
  },
  {
   "cell_type": "code",
   "execution_count": 26,
   "metadata": {},
   "outputs": [
    {
     "data": {
      "image/png": "[encoded data removed]",
      "text/plain": [
       "<IPython.core.display.Image object>"
      ]
     },
     "execution_count": 26,
     "metadata": {},
     "output_type": "execute_result"
    }
   ],
   "source": [
    "smls_aromatic_equivalent = [\"C1=C(Br)C(Br)=CC=C1\", \"C1C(Br)=C(Br)C=CC=1\"]\n",
    "mols_aromatic_equivalent_unsanitized = [Chem.MolFromSmiles(sml, sanitize=False) for sml in smls_aromatic_equivalent]\n",
    "canon_smls_aromatic_equivalent_unsanitized = [Chem.MolToSmiles(mol) for mol in mols_aromatic_equivalent_unsanitized]\n",
    "Draw.MolsToGridImage(mols_aromatic_equivalent_unsanitized, legends=canon_smls_aromatic_equivalent_unsanitized)"
   ]
  },
  {
   "cell_type": "markdown",
   "metadata": {},
   "source": [
    "whereas if we do sanitize them, we get the same structure and canonical SMILES:"
   ]
  },
  {
   "cell_type": "code",
   "execution_count": 27,
   "metadata": {},
   "outputs": [
    {
     "data": {
      "image/png": "[encoded data removed]",
      "text/plain": [
       "<IPython.core.display.Image object>"
      ]
     },
     "execution_count": 27,
     "metadata": {},
     "output_type": "execute_result"
    }
   ],
   "source": [
    "mols_aromatic_equivalent_sanitized = [Chem.MolFromSmiles(sml, sanitize=True) for sml in smls_aromatic_equivalent]\n",
    "canon_smls_aromatic_equivalent_sanitized = [Chem.MolToSmiles(mol) for mol in mols_aromatic_equivalent_sanitized]\n",
    "Draw.MolsToGridImage(mols_aromatic_equivalent_sanitized, legends=canon_smls_aromatic_equivalent_sanitized)"
   ]
  },
  {
   "cell_type": "markdown",
   "metadata": {},
   "source": [
    "So the slight differences in the number of different structures as determined by RDKit compared to the tool used by Nicklaus and team (presumably their CACTVS tool) is probably due to the algorithms used to determine the molecular graph (from the input SMILES or other identifier) and then the canonical SMILES. Inspection by chemists of individual pairs would probably lead to better agreement of whether two similar structures are different, but the automatic adjudication required for large datasets is undoubtedly challenging to encode in an algorithm."
   ]
  },
  {
   "cell_type": "markdown",
   "metadata": {},
   "source": [
    "### InChI incorporating multiple tautomers "
   ]
  },
  {
   "cell_type": "markdown",
   "metadata": {},
   "source": [
    "[\"InChI is in principle designed to be tautomer-invariant\"](https://cactus.nci.nih.gov/presentations/NIHInChI_2021-03/Day_1_Nicklaus_Tautomerism_2021-03-21A.pdf), meaning tautomers of a structure should be assigned the same InChI. Let's check the magnitude of that effect by performing the same operations we did on the SMILES columns  (melting and removing duplicates), but using the InChI columns, and determining how many InChI are required to represent the structures."
   ]
  },
  {
   "cell_type": "code",
   "execution_count": 28,
   "metadata": {},
   "outputs": [
    {
     "data": {
      "text/html": [
       "<div><style>\n",
       ".dataframe > thead > tr,\n",
       ".dataframe > tbody > tr {\n",
       "  text-align: right;\n",
       "  white-space: pre-wrap;\n",
       "}\n",
       "</style>\n",
       "<small>shape: (3_464, 2)</small><table border=\"1\" class=\"dataframe\"><thead><tr><th>Ref</th><th>InChI</th></tr><tr><td>i64</td><td>str</td></tr></thead><tbody><tr><td>4</td><td>&quot;InChI=1S/C7H6N…</td></tr><tr><td>11</td><td>&quot;InChI=1S/C17H1…</td></tr><tr><td>15</td><td>&quot;InChI=1S/C16H1…</td></tr><tr><td>36</td><td>&quot;InChI=1S/C19H1…</td></tr><tr><td>43</td><td>&quot;InChI=1S/C17H1…</td></tr><tr><td>44</td><td>&quot;InChI=1S/C4H6N…</td></tr><tr><td>46</td><td>&quot;InChI=1S/C10H9…</td></tr><tr><td>52</td><td>&quot;InChI=1S/C4H4N…</td></tr><tr><td>54</td><td>&quot;InChI=1S/C11H1…</td></tr><tr><td>61</td><td>&quot;InChI=1S/C11H1…</td></tr><tr><td>79</td><td>&quot;InChI=1S/C19H1…</td></tr><tr><td>82</td><td>&quot;InChI=1S/C4H5N…</td></tr><tr><td>&hellip;</td><td>&hellip;</td></tr><tr><td>1138</td><td>&quot;InChI=1S/C15H1…</td></tr><tr><td>1141</td><td>&quot;InChI=1S/C18H1…</td></tr><tr><td>1143</td><td>&quot;InChI=1S/C20H1…</td></tr><tr><td>1144</td><td>&quot;InChI=1S/C21H1…</td></tr><tr><td>1158</td><td>&quot;InChI=1S/C8H14…</td></tr><tr><td>1159</td><td>&quot;InChI=1S/C8H14…</td></tr><tr><td>1168</td><td>&quot;InChI=1S/C7H12…</td></tr><tr><td>931</td><td>&quot;InChI=1S/C10H1…</td></tr><tr><td>1114</td><td>&quot;InChI=1S/C22H2…</td></tr><tr><td>1216</td><td>&quot;InChI=1S/C9H16…</td></tr><tr><td>927</td><td>&quot;InChI=1S/C12H1…</td></tr><tr><td>931</td><td>&quot;InChI=1S/C10H1…</td></tr></tbody></table></div>"
      ],
      "text/plain": [
       "shape: (3_464, 2)\n",
       "┌──────┬───────────────────────────────────┐\n",
       "│ Ref  ┆ InChI                             │\n",
       "│ ---  ┆ ---                               │\n",
       "│ i64  ┆ str                               │\n",
       "╞══════╪═══════════════════════════════════╡\n",
       "│ 4    ┆ InChI=1S/C7H6N5/c8-12-11-7-5-3-1… │\n",
       "│ 11   ┆ InChI=1S/C17H13NO/c19-17-11-10-1… │\n",
       "│ 15   ┆ InChI=1S/C16H12N2O/c19-15-11-10-… │\n",
       "│ 36   ┆ InChI=1S/C19H16N2/c1-3-10-18(11-… │\n",
       "│ 43   ┆ InChI=1S/C17H15N3O3S/c1-10(21)8-… │\n",
       "│ …    ┆ …                                 │\n",
       "│ 931  ┆ InChI=1S/C10H13ClO6/c1-3-17-10(1… │\n",
       "│ 1114 ┆ InChI=1S/C22H24N4/c1-15-13-16(2)… │\n",
       "│ 1216 ┆ InChI=1S/C9H16O2S/c1-5-11-9(10)7… │\n",
       "│ 927  ┆ InChI=1S/C12H18O6/c1-4-8(9(13)6-… │\n",
       "│ 931  ┆ InChI=1S/C10H13ClO6/c1-3-17-10(1… │\n",
       "└──────┴───────────────────────────────────┘"
      ]
     },
     "execution_count": 28,
     "metadata": {},
     "output_type": "execute_result"
    }
   ],
   "source": [
    "df_melted_InChI = df.melt(id_vars=[\"Ref\"], value_vars=InChI_columns, value_name=\"InChI\")\n",
    "# Keep rows where InChI is supplied\n",
    "df_melted_InChI = df_melted_InChI.filter(pl.col('InChI').is_not_null())\n",
    "# Remove InChI_n label column (n = 1-5)\n",
    "df_melted_InChI = df_melted_InChI.drop(\"variable\")\n",
    "# Remove duplicate rows\n",
    "df_melted_InChI = df_melted_InChI.unique()\n",
    "unique_InChI = df_melted_InChI.shape[0]\n",
    "df_melted_InChI"
   ]
  },
  {
   "cell_type": "markdown",
   "metadata": {},
   "source": [
    "So 3464 InChI are required to represent the 1776 sets of tautomers, whereas 3911 SMILES were. Let's check how well InChI does at representing multiple tautomers with a single identifier (InChI), compared to SMILES which does not have that goal or capability:"
   ]
  },
  {
   "cell_type": "code",
   "execution_count": 29,
   "metadata": {},
   "outputs": [
    {
     "data": {
      "text/plain": [
       "1.95"
      ]
     },
     "execution_count": 29,
     "metadata": {},
     "output_type": "execute_result"
    }
   ],
   "source": [
    "round(unique_InChI/Ref_count, 2)"
   ]
  },
  {
   "cell_type": "code",
   "execution_count": 30,
   "metadata": {},
   "outputs": [
    {
     "data": {
      "text/plain": [
       "2.2"
      ]
     },
     "execution_count": 30,
     "metadata": {},
     "output_type": "execute_result"
    }
   ],
   "source": [
    "round(unique_sml/Ref_count, 2)"
   ]
  },
  {
   "cell_type": "code",
   "execution_count": 31,
   "metadata": {},
   "outputs": [
    {
     "data": {
      "text/plain": [
       "'11%'"
      ]
     },
     "execution_count": 31,
     "metadata": {},
     "output_type": "execute_result"
    }
   ],
   "source": [
    "# Calculate percent reduction\n",
    "f\"{(unique_sml - unique_InChI) / unique_sml:.0%}\""
   ]
  },
  {
   "cell_type": "markdown",
   "metadata": {},
   "source": [
    "So on average 1.95 InChI can represent a set of tautomers, compared to 2.2 SMILES, or an 11% reduction. Should InChI achieve its goal of being tautomer invariant, it would presumably require only one InChI for a set of tautomers. Nicklaus and others are working \"[Toward a Comprehensive Treatment of Tautomerism in Chemoinformatics Including in InChI V2](https://www.ncbi.nlm.nih.gov/pmc/articles/PMC8459712/)\"."
   ]
  },
  {
   "cell_type": "markdown",
   "metadata": {},
   "source": [
    "## Enumerating tautomers"
   ]
  },
  {
   "cell_type": "markdown",
   "metadata": {},
   "source": [
    "We'll define a function to create tautomers for a given enumerator class."
   ]
  },
  {
   "cell_type": "code",
   "execution_count": 32,
   "metadata": {},
   "outputs": [],
   "source": [
    "def tauts_as_sml_list(\n",
    "        enumerator: Callable,\n",
    "        mol: Mol,\n",
    "    ) -> list[str]:\n",
    "    \"\"\"Use a tautomer enumerator to find the tautomers for a given molecule\n",
    "    \n",
    "    :param enumerator: The tautomer enumerator class, which has an Enumerate method\n",
    "    :param mol: An RDKit molecule\n",
    "    :returns: A list of SMILES\n",
    "    \"\"\"\n",
    "    tauts = enumerator.Enumerate(mol)\n",
    "    tauts_as_sml_list = []\n",
    "    for taut in tauts:\n",
    "        tauts_as_sml_list.append(Chem.MolToSmiles(taut))\n",
    "    \n",
    "    # Make smls into a set to remove duplicates, then back into a list so can be in dataframe\n",
    "    tauts_as_sml_list = list(set(tauts_as_sml_list))\n",
    "    return tauts_as_sml_list"
   ]
  },
  {
   "cell_type": "code",
   "execution_count": 33,
   "metadata": {},
   "outputs": [],
   "source": [
    "# Enumerate tautomers--this may take more than one minute\n",
    "enumerators = [rdMolStandardize.TautomerEnumerator, rdMolStandardize.GetV1TautomerEnumerator]\n",
    "for i, enumerator in enumerate(enumerators):\n",
    "    df_melted = df_melted.with_columns(\n",
    "        [\n",
    "            pl.col(\"mol\").map_elements(lambda m: tauts_as_sml_list(enumerator(), m)).alias(\"tauts\" + enumerator.__name__),\n",
    "        ]\n",
    "    )"
   ]
  },
  {
   "cell_type": "markdown",
   "metadata": {},
   "source": [
    "## Entering tautomers generated by external algorithms"
   ]
  },
  {
   "cell_type": "markdown",
   "metadata": {},
   "source": [
    "For the NIH CACTUS Tautomerizer and CACTVS, I don't have programmatic access, so tautomers for some Refs are given below, either directly or read from a file."
   ]
  },
  {
   "cell_type": "code",
   "execution_count": 34,
   "metadata": {},
   "outputs": [],
   "source": [
    "# Manually list tautomers created by NIH Tautomerizer\n",
    "# https://cactus.nci.nih.gov/cgi-bin/tautomerize.tcl\n",
    "# Settings:\n",
    "#   steps: multi\n",
    "#   Predicted tautomers by: All Rules\n",
    "nih_sml_tauts = {\n",
    "    \"COc1c2c3c4c(c(OC)c(=O)c5c(O)cc(OC)c(c6c(OC)cc(O)c(c1=O)c63)c54)[C@@H]([C@H](C)O)[C@@H]2[C@H](C)O\": [\n",
    "        \"COC4=C1[C@H](C(=C6C2=C5C(=C3C(=C12)C(=C(C=C3OC)O)C4=O)C(=CC(=C5C(=C6OC)O)O)OC)[C@H](C)O)[C@H](C)O\",\n",
    "        \"COC1=C(C2=C(C=C(C3=C5C(=CC(=C6C(=C(C4=C([C@H](C)O)C(=C1C(=C23)C4=C56)[C@H](C)O)OC)O)O)OC)OC)O)O\",\n",
    "        \"COC6=C2[C@H]([C@@H](C1=C(OC)C(=O)C5C4=C1C2=C3C(=C(C=C(C3=C4C(=CC5=O)OC)OC)O)C6=O)[C@H](C)O)[C@H](C)O\",\n",
    "        \"COC6=C2[C@H]([C@@H](C1=C(OC)C(=O)C5C4=C1C2=C3C(C(C=C(C3=C4C(=CC5=O)OC)OC)=O)C6=O)[C@H](C)O)[C@H](C)O\",\n",
    "        \"COC6=C2[C@H]([C@@H](C1=C(OC)C(=C5C4=C1C2=C3C(=C(C=C(C3=C4C(=CC5=O)OC)OC)O)C6=O)O)[C@H](C)O)[C@H](C)O\",\n",
    "        \"COC6=C2[C@H]([C@@H](C1=C(OC)C(=C5C4=C1C2=C3C(C(C=C(C3=C4C(=CC5=O)OC)OC)=O)C6=O)O)[C@H](C)O)[C@H](C)O\",\n",
    "        \"COC6=C2[C@H]([C@@H](C1=C(OC)C(=C5C4=C1C2=C3C(=C(C=C(C3=C4C(=CC5=O)OC)OC)O)C6=O)O)[C@H](C)O)[C@H](C)O\",\n",
    "        \"COC3=C2[C@H]([C@@H](C1=C(OC)C(=C6C5=C1C2=C4C(=C3O)C(C=C(C4=C5C(=CC6=O)OC)OC)=O)O)[C@H](C)O)[C@H](C)O\",\n",
    "        \"COC2=C3[C@H]([C@@H](C4=C(OC)C(=O)C6=C5C(=C1C(C(=C(C=C1OC)O)C2=O)C3=C45)C(=CC6=O)OC)[C@H](C)O)[C@H](C)O\",\n",
    "        \"COC6=C1[C@H]([C@@H](C5=C3C1=C2C(=C(C=C(C2=C4C(=CC(C(=C34)C(=C5OC)O)=O)OC)OC)O)C6=O)[C@H](C)O)[C@H](C)O\",\n",
    "        \"COC6=C1[C@H]([C@@H](C5C3=C1C2=C(C(C=C(C2=C4C(=CC(C(=C34)C(=C5OC)O)=O)OC)OC)=O)C6=O)[C@H](C)O)[C@H](C)O\",\n",
    "        \"COC6=C2[C@H]([C@@H](C1=C(OC)C(=O)C5C4=C1C2=C3C(=C(C=C(C3=C4C(=CC5=O)OC)OC)O)C6=O)[C@H](C)O)[C@H](C)O\",\n",
    "    ],\n",
    "    \"CSC1=NC(c2ccccc2[N+](=O)[O-])C(C(=O)OC(C)C)=C(C)N1\": [\n",
    "        \"CSC1=NC(=C(C(N1)C2=C(C=CC=C2)[N+](=O)[O-])C(=O)OC(C)C)C\",\n",
    "        \"CSC2=NC(C1=C(C=CC=C1)[N+](=O)[O-])C(C(=O)OC(C)C)C(=N2)C\",\n",
    "        \"CSC2=NC(C1=C(C=CC=C1)[N+](=O)[O-])C(C(=O)OC(C)C)C(=C)N2\",\n",
    "        \"CSC1=NC(C(C(N1)C2=C(C=CC=C2)[N+](=O)[O-])C(=O)OC(C)C)=C\",\n",
    "        \"CSC2=NC(C1=C(C=CC=C1)[N+](=O)[O-])C(=C(O)OC(C)C)C(=N2)C\",\n",
    "        \"CSC1NC(=C(C(=N1)C2=C(C=CC=C2)[N+](=O)[O-])C(=O)OC(C)C)C\",\n",
    "        \"CSC2=NC(=C1C(C=CC=C1)=[N+]([O-])O)C(=C(C)N2)C(=O)OC(C)C\",\n",
    "        \"CSC2=NC(=C1C(=CCC=C1)[N+]([O-])=O)C(=C(C)N2)C(=O)OC(C)C\",\n",
    "    ],\n",
    "    # 1704 a\n",
    "    \"Cc1cc(C=O)c(C)c(C=O)c1\": [\n",
    "        \"CC1=CC(C(C(=C1)C=O)=C)=CO\",\n",
    "        \"C[CH]1C=C([C](C(=C1)C=O)=[CH2])C=O\",\n",
    "    ],\n",
    "    # 1704 b\n",
    "    \"C=c1c(C=O)cc(C)cc1=CO\": [\n",
    "        \"[CH2]=[C]1C(=C[CH](C=C1C=O)C)C=O\",\n",
    "        \"CC1=C(C=C(C=C1C=O)C)C=O\",\n",
    "        \"C=C1C(C=C(C=C1C=O)C)C=O\",\n",
    "        \"C=C1C(=CC(=CC1C=O)C)C=O\",\n",
    "        \"[CH2]=[C]1C(=C[CH](C=C1C=O)C)C=O\",\n",
    "        \"CC1=C(C=C(C=C1C=O)C)C=O\",\n",
    "    ],\n",
    "    # 890a\n",
    "    \"COc1c(O)c2c(=O)cc(OC)c3c4c(OC)cc(=O)c5c(O)c(OC)c(C[C@H](C)OC(=O)c6ccc(O)cc6)c(c(c1C[C@@H](C)OC(=O)c1ccccc1)c23)c54\": [\n",
    "        \"COC4=C(C3=C1C(=C(C(=C2C(C=C(C(=C12)C5=C3C(C4=O)C(=O)C=C5OC)OC)=O)O)OC)C[C@H](C)OC(=O)C6=CC=C(C=C6)O)C[C@@H](C)OC(=O)C7=CC=CC=C7\",\n",
    "        \"COC4=C(C3=C1C(=C(C(C2C(C=C(C(=C12)C5=C3C(=C4O)C(=O)C=C5OC)OC)=O)=O)OC)C[C@H](C)OC(=O)C6=CC=C(C=C6)O)C[C@@H](C)OC(=O)C7=CC=CC=C7\",\n",
    "        \"COC4=C(C3=C1C(=C(C(=C2C(C=C(C(=C12)C5=C3C(=C4O)C(=O)C=C5OC)OC)=O)O)OC)C[C@H](C)OC(=O)C6=CCC(C=C6)=O)C[C@@H](C)OC(=O)C7=CC=CC=C7\",\n",
    "        \"COC4=C(C3=C1C(=C(C(C2C(C=C(C(=C12)C5=C3C(C4=O)C(=O)C=C5OC)OC)=O)=O)OC)C[C@H](C)OC(=O)C6=CC=C(C=C6)O)C[C@@H](C)OC(=O)C7=CC=CC=C7\",\n",
    "        \"COC4=C(C3=C1C(=C(C(=C2C(C=C(C(=C12)C5=C3C(C4=O)C(=O)C=C5OC)OC)=O)O)OC)C[C@H](C)OC(=O)C6=CCC(C=C6)=O)C[C@@H](C)OC(=O)C7=CC=CC=C7\",\n",
    "        \"COC4=C(C3=C1C(=C(C(C2C(C=C(C(=C12)C5=C3C(=C4O)C(=O)C=C5OC)OC)=O)=O)OC)C[C@H](C)OC(=O)C6=CCC(C=C6)=O)C[C@@H](C)OC(=O)C7=CC=CC=C7\",\n",
    "        \"COC4=C(C3=C1C(=C(C(C2C(C=C(C(=C12)C5=C3C(C4=O)C(=O)C=C5OC)OC)=O)=O)OC)C[C@H](C)OC(=O)C6=CCC(C=C6)=O)C[C@@H](C)OC(=O)C7=CC=CC=C7\",\n",
    "        \"COC5=C(C3=C1C(=C(C(=C2C(C=C(C(=C12)C4=C3C(=C(O)C=C4OC)C5=O)OC)=O)O)OC)C[C@H](C)OC(=O)C6=CC=C(C=C6)O)C[C@@H](C)OC(=O)C7=CC=CC=C7\",\n",
    "        \"COC4=C(C3=C1C(=C(C(C2=C(C=C(C(=C12)C5=C3C(=C4O)C(=O)C=C5OC)OC)O)=O)OC)C[C@H](C)OC(=O)C6=CC=C(C=C6)O)C[C@@H](C)OC(=O)C7=CC=CC=C7\",\n",
    "        \"COC5=C(C3=C1C(=C(C(C2=C(C=C(C(=C12)C4=C3C(=C(O)C=C4OC)C5=O)OC)O)=O)OC)C[C@H](C)OC(=O)C6=CC=C(C=C6)O)C[C@@H](C)OC(=O)C7=CC=CC=C7\",\n",
    "        \"COC6=C(O)C1=C(O)C=C(OC)C2=C1C(=C3C(=C(C(=C4C(C=C(C2=C34)OC)=O)O)OC)C[C@H](C)OC(=O)C5=CC=C(C=C5)O)C6=C[C@@H](C)OC(=O)C7=CC=CC=C7\",\n",
    "        \"COC5=C(C3=C1C(=C(C(=C2C(C=C(C(=C12)C4=C(CC(C(=C34)C5=O)=O)OC)OC)=O)O)OC)C[C@H](C)OC(=O)C6=CC=C(C=C6)O)C[C@@H](C)OC(=O)C7=CC=CC=C7\",\n",
    "        \"COC4=C(C3=C1C(=C(C(C2=C1C(=C(OC)CC2=O)C5=C3C(=C4O)C(=O)C=C5OC)=O)OC)C[C@H](C)OC(=O)C6=CC=C(C=C6)O)C[C@@H](C)OC(=O)C7=CC=CC=C7\",\n",
    "        \"COC4=C(C3=C1C(C(=C(C2=C(C=C(C(=C12)C5=C3C(=C4O)C(=O)C=C5OC)OC)O)O)OC)=C[C@H](C)OC(=O)C6=CC=C(C=C6)O)C[C@@H](C)OC(=O)C7=CC=CC=C7\",\n",
    "        \"COC4=C(C3=C1C(=C(C(=C2C(C=C(C(=C12)C5=C3C(=C4O)C(=O)C=C5OC)OC)=O)O)OC)C[C@H](C)OC(O)=C6C=CC(C=C6)=O)C[C@@H](C)OC(=O)C7=CC=CC=C7\",\n",
    "        \"COC4=C(C3=C1C(=C(C(=C2C(C=C(C(=C12)C5=C3C(=C4O)C(=O)C=C5OC)OC)=O)O)OC)C[C@H](C)OC(=O)C6=CCC(=O)C=C6)C[C@@H](C)OC(=O)C7=CC=CC=C7\",\n",
    "        \"COC2=C(C3=C1C(=C(C(C5=C1C(=C4C(=CC(C(=C2O)C34)=O)OC)C(=CC5=O)OC)=O)OC)C[C@H](C)OC(=O)C6=CC=C(C=C6)O)C[C@@H](C)OC(=O)C7=CC=CC=C7\",\n",
    "        \"COC3=C(C1=C4C(=C(C(=C5C(C=C(C(=C2C(=CC(C(=C12)C3=O)=O)OC)C45)OC)=O)O)OC)C[C@H](C)OC(=O)C6=CC=C(C=C6)O)C[C@@H](C)OC(=O)C7=CC=CC=C7\",\n",
    "    ],\n",
    "    # 890b\n",
    "    #   3 tautomer(s) generated using PT_02_00 - 1,5 (thio)keto/(thio)enol\n",
    "    #   7 tautomer(s) generated using PT_06_00 - 1,3 heteroatom H shift\n",
    "    #   3 tautomer(s) generated using PT_07_00 - 1,5 (aromatic) heteroatom H shift (1)\n",
    "    #   6 tautomer(s) generated using PT_09_00 - 1,7 (aromatic) heteroatom H shift\n",
    "    \"COc1c(C[C@@H](C)OC(=O)c2ccccc2)c2c3c(C[C@H](C)OC(=O)c4ccc(O)cc4)c(OC)c(=O)c4c(O)cc(OC)c(c5c(OC)cc(O)c(c1=O)c52)c43\": [\n",
    "        \"COC7=C(C[C@@H](C)OC(=O)C1=CC=CC=C1)C3=C2C(=C(C=C(C2=C4C(=CC(=C5C(=C(C(C3=C45)=C[C@H](C)OC(=O)C6=CC=C(C=C6)O)OC)O)O)OC)OC)O)C7=O\",\n",
    "        \"COC5=C(C3=C(C=C(C4=C1C(=CC(=C2C(C(=C(C(=C12)C(=C34)C5=C[C@@H](C)OC(=O)C6=CC=CC=C6)C[C@H](C)OC(=O)C7=CC=C(C=C7)O)OC)=O)O)OC)OC)O)O\",\n",
    "        \"COC5=C(C3=C(C=C(C4=C1C(=CC(=C2C(=C(C(C(=C12)C(=C34)C5=C[C@@H](C)OC(=O)C6=CC=CC=C6)=C[C@H](C)OC(=O)C7=CC=C(C=C7)O)OC)O)O)OC)OC)O)O\",\n",
    "        \"COC7=C(C[C@@H](C)OC(=O)C1=CC=CC=C1)C3=C2C(=C(C=C(C2=C4C(=CC(=C5C(C(=C(C3=C45)C[C@H](C)OC(=O)C6=CCC(C=C6)=O)OC)=O)O)OC)OC)O)C7=O\",\n",
    "        \"COC7=C(C[C@@H](C)OC(=O)C1=CC=CC=C1)C3=C2C(=C(C=C(C2=C4C(=CC(C5C(C(=C(C3=C45)C[C@H](C)OC(=O)C6=CC=C(C=C6)O)OC)=O)=O)OC)OC)O)C7=O\",\n",
    "        \"COC7=C(C[C@@H](C)OC(=O)C1=CC=CC=C1)C3=C2C(C(C=C(C2=C4C(=CC(=C5C(C(=C(C3=C45)C[C@H](C)OC(=O)C6=CC=C(C=C6)O)OC)=O)O)OC)OC)=O)C7=O\",\n",
    "        \"COC7=C(C[C@@H](C)OC(=O)C1=CC=CC=C1)C3=C2C(=C(C=C(C2=C4C(=CC(C5C(C(=C(C3=C45)C[C@H](C)OC(=O)C6=CCC(C=C6)=O)OC)=O)=O)OC)OC)O)C7=O\",\n",
    "        \"COC7=C(C[C@@H](C)OC(=O)C1=CC=CC=C1)C3=C2C(C(C=C(C2=C4C(=CC(=C5C(C(=C(C3=C45)C[C@H](C)OC(=O)C6=CCC(C=C6)=O)OC)=O)O)OC)OC)=O)C7=O\",\n",
    "        \"COC7=C(C[C@@H](C)OC(=O)C1=CC=CC=C1)C3=C2C(C(C=C(C2=C4C(=CC(C5C(C(=C(C3=C45)C[C@H](C)OC(=O)C6=CC=C(C=C6)O)OC)=O)=O)OC)OC)=O)C7=O\",\n",
    "        \"COC7=C(C[C@@H](C)OC(=O)C1=CC=CC=C1)C3=C2C(C(C=C(C2=C4C(=CC(C5C(C(=C(C3=C45)C[C@H](C)OC(=O)C6=CCC(C=C6)=O)OC)=O)=O)OC)OC)=O)C7=O\",\n",
    "        \"COC7=C(C[C@@H](C)OC(=O)C1=CC=CC=C1)C3=C2C(=C(C=C(C2=C4C(=CC(C5=C(C(=C(C3=C45)C[C@H](C)OC(=O)C6=CC=C(C=C6)O)OC)O)=O)OC)OC)O)C7=O\",\n",
    "        \"COC2=C(C[C@@H](C)OC(=O)C1=CC=CC=C1)C4=C3C(=C2O)C(C=C(C3=C5C(=CC(=C6C(C(=C(C4=C56)C[C@H](C)OC(=O)C7=CC=C(C=C7)O)OC)=O)O)OC)OC)=O\",\n",
    "        \"COC2=C(C[C@@H](C)OC(=O)C1=CC=CC=C1)C4=C3C(=C2O)C(C=C(C3=C5C(=CC(C6=C(C(=C(C4=C56)C[C@H](C)OC(=O)C7=CC=C(C=C7)O)OC)O)=O)OC)OC)=O\",\n",
    "        \"COC7=C(C[C@@H](C)OC(=O)C1=CC=CC=C1)C3=C2C(=C(C=C(C2=C4C(=CC(=C5C(C(=C(C3=C45)C[C@H](C)OC(O)=C6C=CC(C=C6)=O)OC)=O)O)OC)OC)O)C7=O\",\n",
    "        \"COC7=C(C[C@@H](C)OC(=O)C1=CC=CC=C1)C3=C2C(=C(C=C(C2=C4C(=CC(=C5C(C(=C(C3=C45)C[C@H](C)OC(=O)C6=CCC(=O)C=C6)OC)=O)O)OC)OC)O)C7=O\",\n",
    "        \"COC7=C(C[C@@H](C)OC(=O)C1=CC=CC=C1)C5=C2C4=C(C(C(=C2C[C@H](C)OC(=O)C3=CC=C(C=C3)O)OC)=O)C(=O)C=C(OC)C4=C6C5C(=C(C=C6OC)O)C7=O\",\n",
    "        \"COC4=C(C[C@@H](C)OC(=O)C1=CC=CC=C1)C2=C6C5C(=C3C2=C(C(C=C3OC)=O)C4=O)C(=CC(=C5C(C(=C6C[C@H](C)OC(=O)C7=CC=C(C=C7)O)OC)=O)O)OC\",\n",
    "        \"COC7=C(C[C@@H](C)OC(=O)C1=CC=CC=C1)C5=C2C4=C(C(C(=C2C[C@H](C)OC(O)=C3C=CC(C=C3)=O)OC)=O)C(=O)C=C(OC)C4=C6C5C(=C(C=C6OC)O)C7=O\",\n",
    "        \"COC4=C(C[C@@H](C)OC(=O)C1=CC=CC=C1)C2=C6C5C(=C3C2=C(C(C=C3OC)=O)C4=O)C(=CC(=C5C(C(=C6C[C@H](C)OC(O)=C7C=CC(C=C7)=O)OC)=O)O)OC\",\n",
    "    ],\n",
    "    # 1688a\n",
    "    #   1 tautomer(s) generated using PT_03_00 - simple (aliphatic) imine\n",
    "    #   2 tautomer(s) generated using PT_06_00 - 1,3 heteroatom H shift\n",
    "    #   1 tautomer(s) generated using PT_16_00 - nitroso/oxime\n",
    "    #   1 tautomer(s) generated using PT_36_00 - oxime/nitrone: 1,2 H-shift\n",
    "    #   1 tautomer(s) generated using RC_22_00 - 5_endo_trig: 1,5 H-shift\n",
    "    \"C=C(/C=[N+](\\[O-])C(C)(C)/C(C)=N/O)OCC\": [\n",
    "        \"C=C(\\C=[N+](/[O-])C(C)(C)C(=C)NO)OCC\",\n",
    "        \"C=C(\\C=[N+](/[O-])C(C)(C)C(C)N=O)OCC\",\n",
    "        \"C=C(\\C=[N+](/[O-])C(C)(C)C(=C)NO)OCC\",\n",
    "        \"C=C(\\C=[N+](/[O-])C(C)(C)C(C)N=O)OCC\",\n",
    "        \"C=C(\\C=[N+](/[O-])C(C)(C)C(C)=[NH+][O-])OCC\",\n",
    "        \"C=C(C1N(O)C(C)(C)C(=[N+]1[O-])C)OCC\",\n",
    "    ],\n",
    "    # 1688b\n",
    "    #   1 tautomer(s) generated using PT_06_00 - 1,3 heteroatom H shift\n",
    "    #   1 tautomer(s) generated using PT_39_00 - nitrone/azoxy or Behrend rearrangement\n",
    "    #   1 tautomer(s) generated using RC_22_00 - 5_endo_trig: 1,5 H-shift\n",
    "    \"C=C(OCC)C1N(O)C(C)(C)C(C)=[N+]1[O-]\": [\n",
    "        \"C=C(OCC)C1[NH+](C(C(N1O)(C)C)=C)[O-]\",\n",
    "        \"C=C(OCC)C1=[N+](C(C(N1O)(C)C)C)[O-]\",\n",
    "        \"C=C(OCC)C=[N+]([O-])C(C)(C)C(C)=NO\",\n",
    "    ],\n",
    "    # 1512a\n",
    "    #   1 tautomer(s) generated using PT_06_00 - 1,3 heteroatom H shift\n",
    "    #   1 tautomer(s) generated using PT_09_00 - 1,7 (aromatic) heteroatom H shift\n",
    "    #   1 tautomer(s) generated using RC_12_00 - 5_endo_tet or iminophosphorane/benzoxazaphospholine\n",
    "    \"CCP1(CC)(c2ccccc2)Nc2cc(C(c3ccccc3)(c3ccccc3)c3ccccc3)cc(C(C)(C)C)c2O1\": [\n",
    "        \"CC[P]2(OC1C(=CC(=CC1=N2)C(C3=CC=CC=C3)(C4=CC=CC=C4)C5=CC=CC=C5)C(C)(C)C)(CC)C6=CC=CC=C6\",\n",
    "        \"CC[P]2(OC1=C(C=C(CC1=N2)C(C3=CC=CC=C3)(C4=CC=CC=C4)C5=CC=CC=C5)C(C)(C)C)(CC)C6=CC=CC=C6\",\n",
    "        \"CC[P](CC)(C1=CC=CC=C1)=NC2=C(C(=CC(=C2)C(C3=CC=CC=C3)(C4=CC=CC=C4)C5=CC=CC=C5)C(C)(C)C)O\",\n",
    "    ],\n",
    "    # 1512b\n",
    "    #   3 tautomer(s) generated using PT_06_00 - 1,3 heteroatom H shift\n",
    "    #   1 tautomer(s) generated using PT_09_00 - 1,7 (aromatic) heteroatom H shift\n",
    "    #   1 tautomer(s) generated using RC_12_00 - 5_endo_tet or iminophosphorane/benzoxazaphospholine\n",
    "    \"CCP(CC)(=Nc1cc(C(c2ccccc2)(c2ccccc2)c2ccccc2)cc(C(C)(C)C)c1O)c1ccccc1\": [\n",
    "        \"CC[P](CC)(=NC1C(C(=CC(=C1)C(C2=CC=CC=C2)(C3=CC=CC=C3)C4=CC=CC=C4)C(C)(C)C)=O)C5=CC=CC=C5\",\n",
    "        \"CC=[P](CC)(NC1=C(C(=CC(=C1)C(C2=CC=CC=C2)(C3=CC=CC=C3)C4=CC=CC=C4)C(C)(C)C)O)C5=CC=CC=C5\",\n",
    "        \"CC=[P](CC)(NC1C(C(=CC(=C1)C(C2=CC=CC=C2)(C3=CC=CC=C3)C4=CC=CC=C4)C(C)(C)C)=O)C5=CC=CC=C5\",\n",
    "        \"CC[P](CC)(=NC1=CC(=CC(C(C)(C)C)C1=O)C(C2=CC=CC=C2)(C3=CC=CC=C3)C4=CC=CC=C4)C5=CC=CC=C5\",\n",
    "        \"CC[P]5(CC)(NC1=C(C(=CC(=C1)C(C2=CC=CC=C2)(C3=CC=CC=C3)C4=CC=CC=C4)C(C)(C)C)O5)C6=CC=CC=C6\",\n",
    "    ],\n",
    "    # 457a\n",
    "    \"[2H]Oc1ccc(-c2oc3c([2H])c(O[2H])c(OC)c(=O)c-3c(O[2H])c2O[2H])cc1O[2H]\": [\n",
    "        # 2 tautomer(s) generated using PT_02_00 - 1,5 (thio)keto/(thio)enol\n",
    "        \"O([2H])C1=C(C=C(C=C1)C2=C(C(C3=C(O2)C([2H])(C(=C(OC)C3=O)O[2H])[2H])=O)O[2H])O[2H]\",\n",
    "        \"O([2H])C1=C(C=C(C=C1)C2=C(C(C3=C(O2)C(=C(O[2H])C(=C3O[2H])OC)[2H])=O)O[2H])O[2H]\",\n",
    "        # 9 tautomer(s) generated using PT_06_00 - 1,3 heteroatom H shift\n",
    "        \"O=C1C(C=C(C=C1)C3=C(C(=C2C(C(=C(C(=C2O3)[2H])O[2H])OC)=O)O[2H])O[2H])(O[2H])[2H]\",\n",
    "        \"O([2H])C1=C(C=C(C=C1)C3=C(C(=C2C(C(C(C(=C2O3)[2H])=O)(OC)[2H])=O)O[2H])O[2H])O[2H]\",\n",
    "        \"O([2H])C1=C(C=C(C=C1)C3=C(C(C2(C(C(=C(C(=C2O3)[2H])O[2H])OC)=O)[2H])=O)O[2H])O[2H]\",\n",
    "        \"O([2H])C1=C(C=C(C=C1)C3(C(C(=C2C(C(=C(C(=C2O3)[2H])O[2H])OC)=O)O[2H])=O)[2H])O[2H]\",\n",
    "        \"O([2H])C1(C(C=C(C=C1)C3=C(C(=C2C(C(=C(C(=C2O3)[2H])O[2H])OC)=O)O[2H])O[2H])=O)[2H]\",\n",
    "        \"O=C1C(C=C(C=C1)C3=C(C(=C2C(C(C(C(=C2O3)[2H])=O)(OC)[2H])=O)O[2H])O[2H])(O[2H])[2H]\",\n",
    "        \"O=C1C(C=C(C=C1)C3=C(C(C2(C(C(=C(C(=C2O3)[2H])O[2H])OC)=O)[2H])=O)O[2H])(O[2H])[2H]\",\n",
    "        \"O=C1C(C=C(C=C1)C3(C(C(=C2C(C(=C(C(=C2O3)[2H])O[2H])OC)=O)O[2H])=O)[2H])(O[2H])[2H]\",\n",
    "        \"O([2H])C1=C(C=C(C=C1)C3=C(C(C2(C(C(C(C(=C2O3)[2H])=O)(OC)[2H])=O)[2H])=O)O[2H])O[2H]\",\n",
    "        # 2 tautomer(s) generated using PT_07_00 - 1,5 (aromatic) heteroatom H shift (1)\n",
    "        \"O([2H])C1=C(C=C(C=C1)C3=C(C(=C2C(=C(C(C(=C2O3)[2H])=O)OC)O[2H])O[2H])O[2H])O[2H]\",\n",
    "        \"O([2H])C1=C(C=C(C=C1)C3=C(C(C2=C(C(=C(C(=C2O3)[2H])O[2H])OC)O[2H])=O)O[2H])O[2H]\",\n",
    "        # 2 tautomer(s) generated using PT_09_00 - 1,7 (aromatic) heteroatom H shift\n",
    "        \"O=C1C(=CC(=CC1[2H])C3=C(C(=C2C(C(=C(C(=C2O3)[2H])O[2H])OC)=O)O[2H])O[2H])O[2H]\",\n",
    "        \"O([2H])C3=CC=C(C2=C(C(=C1C(C(=C(C(=C1O2)[2H])O[2H])OC)=O)O[2H])O[2H])C(C3=O)[2H]\",\n",
    "        # 1 tautomer(s) generated using PT_11_00 - 1,11 (aromatic) heteroatom H shift\n",
    "        \"O=C1C(=CC(C=C1)=C3C(=C(C2=C(C(=C(C(=C2O3)[2H])O[2H])OC)O[2H])O[2H])O[2H])O[2H]\",\n",
    "        # 1 tautomer(s) generated using PT_11_02 - 1,15 (aromatic) heteroatom H shift\n",
    "        \"O=C1C(=CC(C=C1)=C2C(=C(C3=C(O2)C(=C(O[2H])C(=C3O[2H])OC)[2H])O[2H])O[2H])O[2H]\",\n",
    "    ],\n",
    "    # 457b\n",
    "    \"[2H]Oc1ccc(-c2oc3c([2H])c(O[2H])c(OC)c(O[2H])c3c(=O)c2O[2H])cc1O[2H]\": [\n",
    "        # 9 tautomer(s) generated using PT_06_00 - 1,3 heteroatom H shift\n",
    "        \"O=C1C(C=C(C=C1)C2=C(C(C3=C(O2)C(=C(O[2H])C(=C3O[2H])OC)[2H])=O)O[2H])(O[2H])[2H]\",\n",
    "        \"O([2H])C1=C(C=C(C=C1)C2=C(C(C3=C(O2)C([2H])(C(=O)C(=C3O[2H])OC)[2H])=O)O[2H])O[2H]\",\n",
    "        \"O([2H])C1=C(C=C(C=C1)C2=C(C(C3=C(O2)C(=C(O[2H])C(OC)(C3=O)[2H])[2H])=O)O[2H])O[2H]\",\n",
    "        \"O([2H])C1=C(C=C(C=C1)C2(C(C(C3=C(O2)C(=C(O[2H])C(=C3O[2H])OC)[2H])=O)=O)[2H])O[2H]\",\n",
    "        \"O([2H])C1(C(C=C(C=C1)C2=C(C(C3=C(O2)C(=C(O[2H])C(=C3O[2H])OC)[2H])=O)O[2H])=O)[2H]\",\n",
    "        \"O=C1C(C=C(C=C1)C2=C(C(C3=C(O2)C([2H])(C(=O)C(=C3O[2H])OC)[2H])=O)O[2H])(O[2H])[2H]\",\n",
    "        \"O=C1C(C=C(C=C1)C2=C(C(C3=C(O2)C(=C(O[2H])C(OC)(C3=O)[2H])[2H])=O)O[2H])(O[2H])[2H]\",\n",
    "        \"O=C1C(C=C(C=C1)C2(C(C(C3=C(O2)C(=C(O[2H])C(=C3O[2H])OC)[2H])=O)=O)[2H])(O[2H])[2H]\",\n",
    "        \"O([2H])C1=C(C=C(C=C1)C2=C(C(C3=C(O2)C([2H])(C(=O)C(OC)(C3=O)[2H])[2H])=O)O[2H])O[2H]\",\n",
    "        # 7 tautomer(s) generated using PT_09_00 - 1,7 (aromatic) heteroatom H shift\n",
    "        \"O=C1C(=CC(=CC1[2H])C2=C(C(C3=C(O2)C(=C(O[2H])C(=C3O[2H])OC)[2H])=O)O[2H])O[2H]\",\n",
    "        \"O([2H])C1=C(C=C(C=C1)C3=C(C(C2(C(C(=C(C(=C2O3)[2H])O[2H])OC)=O)[2H])=O)O[2H])O[2H]\",\n",
    "        \"O([2H])C1=C(C=C(C=C1)C3=C(C(=C2C(=C(C(C(=C2O3)[2H])=O)OC)O[2H])O[2H])O[2H])O[2H]\",\n",
    "        \"O([2H])C3=CC=C(C1=C(C(C2=C(O1)C(=C(O[2H])C(=C2O[2H])OC)[2H])=O)O[2H])C(C3=O)[2H]\",\n",
    "        \"O=C1C(=CC(=CC1[2H])C3=C(C(C2(C(C(=C(C(=C2O3)[2H])O[2H])OC)=O)[2H])=O)O[2H])O[2H]\",\n",
    "        \"O=C1C(=CC(=CC1[2H])C3=C(C(=C2C(=C(C(C(=C2O3)[2H])=O)OC)O[2H])O[2H])O[2H])O[2H]\",\n",
    "        \"O=C1C(=CC(C=C1[2H])=C2C(=C(C3=C(O2)C(=C(O[2H])C(=C3O[2H])OC)[2H])O)O[2H])O[2H]\",\n",
    "        # 1 tautomer(s) generated using PT_10_00 - 1,9 (aromatic) heteroatom H shift\n",
    "        \"O([2H])C1=C(C=C(C=C1)C3=C(C(=C2C(C(=C(C(=C2O3)[2H])O[2H])OC)=O)O[2H])O[2H])O[2H]\",\n",
    "    ],\n",
    "}"
   ]
  },
  {
   "cell_type": "markdown",
   "metadata": {},
   "source": [
    "The CACTVS results provided by Marc Nicklaus are in [SDF (structure-data format)](https://en.wikipedia.org/wiki/Chemical_table_file#SDF), so this function extracts the Ref and number (1 or 2, used to identify different experimentally-observed structures)."
   ]
  },
  {
   "cell_type": "code",
   "execution_count": 35,
   "metadata": {},
   "outputs": [],
   "source": [
    "def extract_ref_and_num(\n",
    "    e_name: str,\n",
    "):\n",
    "    parts = e_name.split(\"_\")\n",
    "    ref_str = parts[1]\n",
    "    try:\n",
    "        ref = int(ref_str)\n",
    "    except:\n",
    "        ref = None\n",
    "    num_str = parts[2]\n",
    "    try:\n",
    "        num = int(num_str)\n",
    "    except:\n",
    "        num = None\n",
    "    return ref, num"
   ]
  },
  {
   "cell_type": "markdown",
   "metadata": {},
   "source": [
    "This code actually reads the SDF file into lists."
   ]
  },
  {
   "cell_type": "code",
   "execution_count": 36,
   "metadata": {},
   "outputs": [],
   "source": [
    "cactvs = Chem.SDMolSupplier('../data/Refs.sdf')\n",
    "\n",
    "refs_cactvs = []\n",
    "nums_cactvs = []\n",
    "tauts_cactvs = []\n",
    "\n",
    "# Iterate through the molecules in the SDF file\n",
    "for mol in cactvs:\n",
    "    if mol is not None:\n",
    "        ref, num = extract_ref_and_num(mol.GetProp(\"E_NAME\"))\n",
    "        sml = mol.GetProp(\"E_SMILES\")\n",
    "        refs_cactvs.append(ref)\n",
    "        nums_cactvs.append(num)\n",
    "        tauts_cactvs.append(sml)"
   ]
  },
  {
   "cell_type": "markdown",
   "metadata": {},
   "source": [
    "We then put those lists into another Polars dataframe."
   ]
  },
  {
   "cell_type": "code",
   "execution_count": 37,
   "metadata": {},
   "outputs": [
    {
     "data": {
      "text/html": [
       "<div><style>\n",
       ".dataframe > thead > tr,\n",
       ".dataframe > tbody > tr {\n",
       "  text-align: right;\n",
       "  white-space: pre-wrap;\n",
       "}\n",
       "</style>\n",
       "<small>shape: (31, 3)</small><table border=\"1\" class=\"dataframe\"><thead><tr><th>ref</th><th>num</th><th>tautCACTVS</th></tr><tr><td>i64</td><td>i64</td><td>str</td></tr></thead><tbody><tr><td>890</td><td>1</td><td>&quot;COC2C(O)C4C(=O…</td></tr><tr><td>890</td><td>1</td><td>&quot;COC2C(O)C4C(=O…</td></tr><tr><td>890</td><td>1</td><td>&quot;COC2C(O)C4C(=C…</td></tr><tr><td>890</td><td>1</td><td>&quot;COC2C(O)C4C(=O…</td></tr><tr><td>890</td><td>1</td><td>&quot;COC2C(O)C4=C(O…</td></tr><tr><td>890</td><td>1</td><td>&quot;COC2C(O)C4C(=C…</td></tr><tr><td>890</td><td>1</td><td>&quot;COC2C(O)C4=C(O…</td></tr><tr><td>890</td><td>1</td><td>&quot;COC2C(O)C4C(=C…</td></tr><tr><td>890</td><td>1</td><td>&quot;COC2C(O)C4=C(O…</td></tr><tr><td>890</td><td>2</td><td>&quot;COC3C(C[C@@H](…</td></tr><tr><td>1512</td><td>1</td><td>&quot;CC[P]6(CC)(C1=…</td></tr><tr><td>1512</td><td>1</td><td>&quot;CC[P]6(CC)(C1=…</td></tr><tr><td>&hellip;</td><td>&hellip;</td><td>&hellip;</td></tr><tr><td>1512</td><td>1</td><td>&quot;CC[P]6(CC)(C1=…</td></tr><tr><td>1512</td><td>1</td><td>&quot;CC[P]3(CC)(C1=…</td></tr><tr><td>1512</td><td>1</td><td>&quot;CC=[P](CC)(C1=…</td></tr><tr><td>1512</td><td>1</td><td>&quot;CC=[P](CC)(C1=…</td></tr><tr><td>1512</td><td>1</td><td>&quot;CC=[P](CC)(C1=…</td></tr><tr><td>1512</td><td>1</td><td>&quot;CC=[P](CC)(C1=…</td></tr><tr><td>1512</td><td>2</td><td>&quot;CC[P](CC)(=NC1…</td></tr><tr><td>1704</td><td>1</td><td>&quot;CC1=CC(=C(C(=C…</td></tr><tr><td>1704</td><td>1</td><td>&quot;CC1=CC(C(C(=C1…</td></tr><tr><td>1704</td><td>1</td><td>&quot;C[CH]1C=C(C=O)…</td></tr><tr><td>1704</td><td>1</td><td>&quot;CC1=CC(C(C(=C1…</td></tr><tr><td>1704</td><td>2</td><td>&quot;C=C\\1C(=CC(=CC…</td></tr></tbody></table></div>"
      ],
      "text/plain": [
       "shape: (31, 3)\n",
       "┌──────┬─────┬───────────────────────────────────┐\n",
       "│ ref  ┆ num ┆ tautCACTVS                        │\n",
       "│ ---  ┆ --- ┆ ---                               │\n",
       "│ i64  ┆ i64 ┆ str                               │\n",
       "╞══════╪═════╪═══════════════════════════════════╡\n",
       "│ 890  ┆ 1   ┆ COC2C(O)C4C(=O)CC(OC)C5C6C(OC)CC… │\n",
       "│ 890  ┆ 1   ┆ COC2C(O)C4C(=O)CC(OC)C5C6C(OC)CC… │\n",
       "│ 890  ┆ 1   ┆ COC2C(O)C4C(=CC(OC)C5C6C(OC)CC(=… │\n",
       "│ 890  ┆ 1   ┆ COC2C(O)C4C(=O)CC(OC)C5C6C(OC)C=… │\n",
       "│ 890  ┆ 1   ┆ COC2C(O)C4=C(O)CC(OC)C5C6C(OC)CC… │\n",
       "│ …    ┆ …   ┆ …                                 │\n",
       "│ 1704 ┆ 1   ┆ CC1=CC(=C(C(=C1)C=O)C)C=O         │\n",
       "│ 1704 ┆ 1   ┆ CC1=CC(C(C(=C1)C=O)=C)C=O         │\n",
       "│ 1704 ┆ 1   ┆ C[CH]1C=C(C=O)[C](=[CH2])C(=C1)C… │\n",
       "│ 1704 ┆ 1   ┆ CC1=CC(C(C(=C1)C=O)=C)=CO         │\n",
       "│ 1704 ┆ 2   ┆ C=C\\1C(=CC(=CC1=C\\O)C)C=O         │\n",
       "└──────┴─────┴───────────────────────────────────┘"
      ]
     },
     "execution_count": 37,
     "metadata": {},
     "output_type": "execute_result"
    }
   ],
   "source": [
    "df_cactvs = pl.DataFrame({\"ref\": refs_cactvs, \"num\": nums_cactvs, \"tautCACTVS\": tauts_cactvs})\n",
    "df_cactvs"
   ]
  },
  {
   "cell_type": "code",
   "execution_count": 38,
   "metadata": {},
   "outputs": [],
   "source": [
    "matching = {\n",
    "    890: {\n",
    "        1: \"COc1c(O)c2c(=O)cc(OC)c3c4c(OC)cc(=O)c5c(O)c(OC)c(C[C@H](C)OC(=O)c6ccc(O)cc6)c(c(c1C[C@@H](C)OC(=O)c1ccccc1)c23)c54\",\n",
    "        2: \"COc1c(C[C@@H](C)OC(=O)c2ccccc2)c2c3c(C[C@H](C)OC(=O)c4ccc(O)cc4)c(OC)c(=O)c4c(O)cc(OC)c(c5c(OC)cc(O)c(c1=O)c52)c43\",\n",
    "    },\n",
    "    1512: {\n",
    "        1: \"CCP1(CC)(c2ccccc2)Nc2cc(C(c3ccccc3)(c3ccccc3)c3ccccc3)cc(C(C)(C)C)c2O1\",\n",
    "        2: \"CCP(CC)(=Nc1cc(C(c2ccccc2)(c2ccccc2)c2ccccc2)cc(C(C)(C)C)c1O)c1ccccc1\",\n",
    "    },\n",
    "    1704: {\n",
    "        1: \"Cc1cc(C=O)c(C)c(C=O)c1\",\n",
    "        2: \"C=c1c(C=O)cc(C)cc1=CO\",\n",
    "    },\n",
    "}"
   ]
  },
  {
   "cell_type": "code",
   "execution_count": 39,
   "metadata": {},
   "outputs": [
    {
     "data": {
      "text/html": [
       "<div><style>\n",
       ".dataframe > thead > tr,\n",
       ".dataframe > tbody > tr {\n",
       "  text-align: right;\n",
       "  white-space: pre-wrap;\n",
       "}\n",
       "</style>\n",
       "<small>shape: (6, 3)</small><table border=\"1\" class=\"dataframe\"><thead><tr><th>canon_sml</th><th>ref</th><th>num</th></tr><tr><td>str</td><td>i64</td><td>i64</td></tr></thead><tbody><tr><td>&quot;COc1c(O)c2c(=O…</td><td>890</td><td>1</td></tr><tr><td>&quot;COc1c(C[C@@H](…</td><td>890</td><td>2</td></tr><tr><td>&quot;CCP1(CC)(c2ccc…</td><td>1512</td><td>1</td></tr><tr><td>&quot;CCP(CC)(=Nc1cc…</td><td>1512</td><td>2</td></tr><tr><td>&quot;Cc1cc(C=O)c(C)…</td><td>1704</td><td>1</td></tr><tr><td>&quot;C=c1c(C=O)cc(C…</td><td>1704</td><td>2</td></tr></tbody></table></div>"
      ],
      "text/plain": [
       "shape: (6, 3)\n",
       "┌───────────────────────────────────┬──────┬─────┐\n",
       "│ canon_sml                         ┆ ref  ┆ num │\n",
       "│ ---                               ┆ ---  ┆ --- │\n",
       "│ str                               ┆ i64  ┆ i64 │\n",
       "╞═══════════════════════════════════╪══════╪═════╡\n",
       "│ COc1c(O)c2c(=O)cc(OC)c3c4c(OC)cc… ┆ 890  ┆ 1   │\n",
       "│ COc1c(C[C@@H](C)OC(=O)c2ccccc2)c… ┆ 890  ┆ 2   │\n",
       "│ CCP1(CC)(c2ccccc2)Nc2cc(C(c3cccc… ┆ 1512 ┆ 1   │\n",
       "│ CCP(CC)(=Nc1cc(C(c2ccccc2)(c2ccc… ┆ 1512 ┆ 2   │\n",
       "│ Cc1cc(C=O)c(C)c(C=O)c1            ┆ 1704 ┆ 1   │\n",
       "│ C=c1c(C=O)cc(C)cc1=CO             ┆ 1704 ┆ 2   │\n",
       "└───────────────────────────────────┴──────┴─────┘"
      ]
     },
     "execution_count": 39,
     "metadata": {},
     "output_type": "execute_result"
    }
   ],
   "source": [
    "refs = []\n",
    "nums = []\n",
    "input_smls = []\n",
    "for ref in matching.keys():\n",
    "    for num, input_sml in matching[ref].items():\n",
    "        refs.append(ref)\n",
    "        nums.append(num)\n",
    "        input_smls.append(input_sml)\n",
    "df_matching = pl.DataFrame({\"canon_sml\": input_smls, \"ref\": refs, \"num\": nums})\n",
    "df_matching"
   ]
  },
  {
   "cell_type": "code",
   "execution_count": 40,
   "metadata": {},
   "outputs": [
    {
     "data": {
      "text/html": [
       "<div><style>\n",
       ".dataframe > thead > tr,\n",
       ".dataframe > tbody > tr {\n",
       "  text-align: right;\n",
       "  white-space: pre-wrap;\n",
       "}\n",
       "</style>\n",
       "<small>shape: (31, 4)</small><table border=\"1\" class=\"dataframe\"><thead><tr><th>canon_sml</th><th>ref</th><th>num</th><th>tautCACTVS</th></tr><tr><td>str</td><td>i64</td><td>i64</td><td>str</td></tr></thead><tbody><tr><td>&quot;COc1c(O)c2c(=O…</td><td>890</td><td>1</td><td>&quot;COC2C(O)C4C(=O…</td></tr><tr><td>&quot;COc1c(O)c2c(=O…</td><td>890</td><td>1</td><td>&quot;COC2C(O)C4C(=O…</td></tr><tr><td>&quot;COc1c(O)c2c(=O…</td><td>890</td><td>1</td><td>&quot;COC2C(O)C4C(=C…</td></tr><tr><td>&quot;COc1c(O)c2c(=O…</td><td>890</td><td>1</td><td>&quot;COC2C(O)C4C(=O…</td></tr><tr><td>&quot;COc1c(O)c2c(=O…</td><td>890</td><td>1</td><td>&quot;COC2C(O)C4=C(O…</td></tr><tr><td>&quot;COc1c(O)c2c(=O…</td><td>890</td><td>1</td><td>&quot;COC2C(O)C4C(=C…</td></tr><tr><td>&quot;COc1c(O)c2c(=O…</td><td>890</td><td>1</td><td>&quot;COC2C(O)C4=C(O…</td></tr><tr><td>&quot;COc1c(O)c2c(=O…</td><td>890</td><td>1</td><td>&quot;COC2C(O)C4C(=C…</td></tr><tr><td>&quot;COc1c(O)c2c(=O…</td><td>890</td><td>1</td><td>&quot;COC2C(O)C4=C(O…</td></tr><tr><td>&quot;COc1c(C[C@@H](…</td><td>890</td><td>2</td><td>&quot;COC3C(C[C@@H](…</td></tr><tr><td>&quot;CCP1(CC)(c2ccc…</td><td>1512</td><td>1</td><td>&quot;CC[P]6(CC)(C1=…</td></tr><tr><td>&quot;CCP1(CC)(c2ccc…</td><td>1512</td><td>1</td><td>&quot;CC[P]6(CC)(C1=…</td></tr><tr><td>&hellip;</td><td>&hellip;</td><td>&hellip;</td><td>&hellip;</td></tr><tr><td>&quot;CCP1(CC)(c2ccc…</td><td>1512</td><td>1</td><td>&quot;CC[P]6(CC)(C1=…</td></tr><tr><td>&quot;CCP1(CC)(c2ccc…</td><td>1512</td><td>1</td><td>&quot;CC[P]3(CC)(C1=…</td></tr><tr><td>&quot;CCP1(CC)(c2ccc…</td><td>1512</td><td>1</td><td>&quot;CC=[P](CC)(C1=…</td></tr><tr><td>&quot;CCP1(CC)(c2ccc…</td><td>1512</td><td>1</td><td>&quot;CC=[P](CC)(C1=…</td></tr><tr><td>&quot;CCP1(CC)(c2ccc…</td><td>1512</td><td>1</td><td>&quot;CC=[P](CC)(C1=…</td></tr><tr><td>&quot;CCP1(CC)(c2ccc…</td><td>1512</td><td>1</td><td>&quot;CC=[P](CC)(C1=…</td></tr><tr><td>&quot;CCP(CC)(=Nc1cc…</td><td>1512</td><td>2</td><td>&quot;CC[P](CC)(=NC1…</td></tr><tr><td>&quot;Cc1cc(C=O)c(C)…</td><td>1704</td><td>1</td><td>&quot;CC1=CC(=C(C(=C…</td></tr><tr><td>&quot;Cc1cc(C=O)c(C)…</td><td>1704</td><td>1</td><td>&quot;CC1=CC(C(C(=C1…</td></tr><tr><td>&quot;Cc1cc(C=O)c(C)…</td><td>1704</td><td>1</td><td>&quot;C[CH]1C=C(C=O)…</td></tr><tr><td>&quot;Cc1cc(C=O)c(C)…</td><td>1704</td><td>1</td><td>&quot;CC1=CC(C(C(=C1…</td></tr><tr><td>&quot;C=c1c(C=O)cc(C…</td><td>1704</td><td>2</td><td>&quot;C=C\\1C(=CC(=CC…</td></tr></tbody></table></div>"
      ],
      "text/plain": [
       "shape: (31, 4)\n",
       "┌───────────────────────────────────┬──────┬─────┬───────────────────────────────────┐\n",
       "│ canon_sml                         ┆ ref  ┆ num ┆ tautCACTVS                        │\n",
       "│ ---                               ┆ ---  ┆ --- ┆ ---                               │\n",
       "│ str                               ┆ i64  ┆ i64 ┆ str                               │\n",
       "╞═══════════════════════════════════╪══════╪═════╪═══════════════════════════════════╡\n",
       "│ COc1c(O)c2c(=O)cc(OC)c3c4c(OC)cc… ┆ 890  ┆ 1   ┆ COC2C(O)C4C(=O)CC(OC)C5C6C(OC)CC… │\n",
       "│ COc1c(O)c2c(=O)cc(OC)c3c4c(OC)cc… ┆ 890  ┆ 1   ┆ COC2C(O)C4C(=O)CC(OC)C5C6C(OC)CC… │\n",
       "│ COc1c(O)c2c(=O)cc(OC)c3c4c(OC)cc… ┆ 890  ┆ 1   ┆ COC2C(O)C4C(=CC(OC)C5C6C(OC)CC(=… │\n",
       "│ COc1c(O)c2c(=O)cc(OC)c3c4c(OC)cc… ┆ 890  ┆ 1   ┆ COC2C(O)C4C(=O)CC(OC)C5C6C(OC)C=… │\n",
       "│ COc1c(O)c2c(=O)cc(OC)c3c4c(OC)cc… ┆ 890  ┆ 1   ┆ COC2C(O)C4=C(O)CC(OC)C5C6C(OC)CC… │\n",
       "│ …                                 ┆ …    ┆ …   ┆ …                                 │\n",
       "│ Cc1cc(C=O)c(C)c(C=O)c1            ┆ 1704 ┆ 1   ┆ CC1=CC(=C(C(=C1)C=O)C)C=O         │\n",
       "│ Cc1cc(C=O)c(C)c(C=O)c1            ┆ 1704 ┆ 1   ┆ CC1=CC(C(C(=C1)C=O)=C)C=O         │\n",
       "│ Cc1cc(C=O)c(C)c(C=O)c1            ┆ 1704 ┆ 1   ┆ C[CH]1C=C(C=O)[C](=[CH2])C(=C1)C… │\n",
       "│ Cc1cc(C=O)c(C)c(C=O)c1            ┆ 1704 ┆ 1   ┆ CC1=CC(C(C(=C1)C=O)=C)=CO         │\n",
       "│ C=c1c(C=O)cc(C)cc1=CO             ┆ 1704 ┆ 2   ┆ C=C\\1C(=CC(=CC1=C\\O)C)C=O         │\n",
       "└───────────────────────────────────┴──────┴─────┴───────────────────────────────────┘"
      ]
     },
     "execution_count": 40,
     "metadata": {},
     "output_type": "execute_result"
    }
   ],
   "source": [
    "df_cactvs_matching = df_matching.join(df_cactvs, on=['ref', 'num'], how='inner')\n",
    "df_cactvs_matching"
   ]
  },
  {
   "cell_type": "code",
   "execution_count": 41,
   "metadata": {},
   "outputs": [
    {
     "data": {
      "text/html": [
       "<div><style>\n",
       ".dataframe > thead > tr,\n",
       ".dataframe > tbody > tr {\n",
       "  text-align: right;\n",
       "  white-space: pre-wrap;\n",
       "}\n",
       "</style>\n",
       "<small>shape: (6, 2)</small><table border=\"1\" class=\"dataframe\"><thead><tr><th>canon_sml</th><th>tautCACTVS</th></tr><tr><td>str</td><td>list[str]</td></tr></thead><tbody><tr><td>&quot;CCP(CC)(=Nc1cc…</td><td>[&quot;CC[P](CC)(=NC1=C(C(=CC(=C1)C(C2=CC=CC=C2)(C3=CC=CC=C3)C4=CC=CC=C4)C(C)(C)C)O)C5=CC=CC=C5&quot;]</td></tr><tr><td>&quot;CCP1(CC)(c2ccc…</td><td>[&quot;CC[P]6(CC)(C1=CC=CC=C1)NC2=C(C(=CC(=C2)C(C3=CC=CC=C3)(C4=CC=CC=C4)C5=CC=CC=C5)C(C)(C)C)O6&quot;, &quot;CC[P]6(CC)(C1=CC=CC=C1)NC2=C(C(=CC(=C2)C(C3=CC=CC=C3)(C4=CC=CC=C4)C5=CC=CC=C5)C(C)(C)C)O6&quot;, … &quot;CC=[P](CC)(C1=CC=CC=C1)N=C2CC(=CC(=C2O)C(C)(C)C)C(C3=CC=CC=C3)(C4=CC=CC=C4)C5=CC=CC=C5&quot;]</td></tr><tr><td>&quot;COc1c(O)c2c(=O…</td><td>[&quot;COC2C(O)C4C(=O)CC(OC)C5C6C(OC)CC(=O)C7C(O)C(OC)C(C[C@H](C)OC(=O)C1CCC(O)CC1)C(C(C2C[C@@H](C)OC(=O)C3CCCCC3)C45)C67&quot;, &quot;COC2C(O)C4C(=O)CC(OC)C5C6C(OC)CC(=C7C(O)C(OC)C(C[C@H](C)OC(=O)C1CCC(O)CC1)C(C(C2C[C@@H](C)OC(=O)C3CCCCC3)C45)C67)O&quot;, … &quot;COC2C(O)C4=C(O)CC(OC)C5C6C(OC)C=C(O)C7C(O)C(OC)C(C[C@H](C)OC(=O)C1CCC(O)CC1)C(C(C2C[C@@H](C)OC(=O)C3CCCCC3)C45)C67&quot;]</td></tr><tr><td>&quot;Cc1cc(C=O)c(C)…</td><td>[&quot;CC1=CC(=C(C(=C1)C=O)C)C=O&quot;, &quot;CC1=CC(C(C(=C1)C=O)=C)C=O&quot;, … &quot;CC1=CC(C(C(=C1)C=O)=C)=CO&quot;]</td></tr><tr><td>&quot;C=c1c(C=O)cc(C…</td><td>[&quot;C=C\\1C(=CC(=CC1=C\\O)C)C=O&quot;]</td></tr><tr><td>&quot;COc1c(C[C@@H](…</td><td>[&quot;COC3C(C[C@@H](C)OC(=O)C1CCCCC1)C4C6C(C[C@H](C)OC(=O)C2CCC(O)CC2)C(OC)C(=O)C7C(O)CC(OC)C(C5C(OC)CC(O)C(C3=O)C45)C67&quot;]</td></tr></tbody></table></div>"
      ],
      "text/plain": [
       "shape: (6, 2)\n",
       "┌───────────────────────────────────┬───────────────────────────────────┐\n",
       "│ canon_sml                         ┆ tautCACTVS                        │\n",
       "│ ---                               ┆ ---                               │\n",
       "│ str                               ┆ list[str]                         │\n",
       "╞═══════════════════════════════════╪═══════════════════════════════════╡\n",
       "│ CCP(CC)(=Nc1cc(C(c2ccccc2)(c2ccc… ┆ [\"CC[P](CC)(=NC1=C(C(=CC(=C1)C(C… │\n",
       "│ CCP1(CC)(c2ccccc2)Nc2cc(C(c3cccc… ┆ [\"CC[P]6(CC)(C1=CC=CC=C1)NC2=C(C… │\n",
       "│ COc1c(O)c2c(=O)cc(OC)c3c4c(OC)cc… ┆ [\"COC2C(O)C4C(=O)CC(OC)C5C6C(OC)… │\n",
       "│ Cc1cc(C=O)c(C)c(C=O)c1            ┆ [\"CC1=CC(=C(C(=C1)C=O)C)C=O\", \"C… │\n",
       "│ C=c1c(C=O)cc(C)cc1=CO             ┆ [\"C=C\\1C(=CC(=CC1=C\\O)C)C=O\"]     │\n",
       "│ COc1c(C[C@@H](C)OC(=O)c2ccccc2)c… ┆ [\"COC3C(C[C@@H](C)OC(=O)C1CCCCC1… │\n",
       "└───────────────────────────────────┴───────────────────────────────────┘"
      ]
     },
     "execution_count": 41,
     "metadata": {},
     "output_type": "execute_result"
    }
   ],
   "source": [
    "df_cactvs_matching_grouped = df_cactvs_matching.drop([\"ref\", \"num\"]).group_by(\"canon_sml\").agg(pl.col(\"tautCACTVS\"))\n",
    "df_cactvs_matching_grouped"
   ]
  },
  {
   "cell_type": "code",
   "execution_count": 42,
   "metadata": {},
   "outputs": [],
   "source": [
    "# Function to canonicalize a list of SMILES\n",
    "def canonicalize_smiles(smls_list: list[str]) -> list[str]:\n",
    "    \"\"\"\n",
    "    Canonicalize a list of SMILES, trying first with and then without sanitization;\n",
    "    convert list into a set to remove duplicates, then back to a list so can go in dataframe\n",
    "\n",
    "    :param smls_list: List of SMILES strings\n",
    "    :returns: List of canonical SMILES strings\n",
    "    \"\"\"\n",
    "    canonical_smiles = []\n",
    "    for sml in smls_list:\n",
    "        mol = Chem.MolFromSmiles(sml)\n",
    "        if mol:\n",
    "            canonical = Chem.MolToSmiles(mol)\n",
    "            canonical_smiles.append(canonical)\n",
    "        else:\n",
    "            mol = Chem.MolFromSmiles(sml, sanitize=False)\n",
    "            if mol:\n",
    "                canonical = Chem.MolToSmiles(mol)\n",
    "                canonical_smiles.append(canonical)\n",
    "            else:\n",
    "                # canonical_smiles.append(None) #? This shouldn't be here, correct?\n",
    "                print(\"Molecule couldn't be created\")\n",
    "    # Eliminate duplicates by turning list into a set, then back to a list so can go in dataframe\n",
    "    canonical_smiles_unique = list(set(canonical_smiles))\n",
    "    return canonical_smiles_unique"
   ]
  },
  {
   "cell_type": "code",
   "execution_count": 43,
   "metadata": {},
   "outputs": [
    {
     "name": "stderr",
     "output_type": "stream",
     "text": [
      "/var/folders/9w/cn8tqbv976gckxd0c9cbr1sw0000gn/T/ipykernel_53872/2916706968.py:3: DeprecationWarning: `apply` is deprecated. It has been renamed to `map_elements`.\n",
      "  pl.col(\"tautCACTVS\").apply(lambda l: canonicalize_smiles(l)).alias(\"tautsCACTVS\"),\n"
     ]
    }
   ],
   "source": [
    "df_cactvs_matching_grouped = df_cactvs_matching_grouped.with_columns(\n",
    "    [\n",
    "        pl.col(\"tautCACTVS\").apply(lambda l: canonicalize_smiles(l)).alias(\"tautsCACTVS\"),\n",
    "    ]\n",
    ")"
   ]
  },
  {
   "cell_type": "code",
   "execution_count": 44,
   "metadata": {},
   "outputs": [
    {
     "data": {
      "text/html": [
       "<div><style>\n",
       ".dataframe > thead > tr,\n",
       ".dataframe > tbody > tr {\n",
       "  text-align: right;\n",
       "  white-space: pre-wrap;\n",
       "}\n",
       "</style>\n",
       "<small>shape: (6, 7)</small><table border=\"1\" class=\"dataframe\"><thead><tr><th>Ref</th><th>mol</th><th>canon_sml</th><th>tautsTautomerEnumerator</th><th>tautsGetV1TautomerEnumerator</th><th>tautCACTVS</th><th>tautsCACTVS</th></tr><tr><td>i64</td><td>object</td><td>str</td><td>list[str]</td><td>list[str]</td><td>list[str]</td><td>list[str]</td></tr></thead><tbody><tr><td>1704</td><td>&lt;rdkit.Chem.rdchem.Mol object at 0x15e38b7d0&gt;</td><td>&quot;C=c1c(C=O)cc(C…</td><td>[&quot;C=C1C(C=O)=CC(C)=CC1C=O&quot;, &quot;C=c1c(C=O)cc(C)cc1=CO&quot;]</td><td>[&quot;C=c1c(C=O)cc(C)cc1=CO&quot;]</td><td>[&quot;C=C\\1C(=CC(=CC1=C\\O)C)C=O&quot;]</td><td>[&quot;C=c1c(C=O)cc(C)c/c1=C\\O&quot;]</td></tr><tr><td>890</td><td>&lt;rdkit.Chem.rdchem.Mol object at 0x15e303450&gt;</td><td>&quot;COc1c(O)c2c(=O…</td><td>[&quot;COC1=c2c3c(c4c5c(c(O)cc(OC)c25)C(=O)C(OC)C4=C[C@@H](C)OC(=O)c2ccccc2)C(=C[C@H](C)OC(O)=C2C=CC(=O)C=C2)C(OC)C(=O)C=3C(=O)C1&quot;, &quot;COC1=CC(=O)C2=c3c1c1c4c(c3C(=C[C@H](C)OC(=O)c3ccc(O)cc3)C(OC)C2=O)C(C[C@@H](C)OC(=O)c2ccccc2)C(OC)=C(O)C=4C(=O)C=C1OC&quot;, … &quot;COC1=CC(=O)C2=c3c1c1c4c(c3C(=C[C@@H](C)OC(=O)c3ccccc3)C(OC)C2=O)C(C[C@H](C)OC(=O)c2ccc(O)cc2)C(OC)C(=O)C=4C(=O)C=C1OC&quot;]</td><td>[&quot;COc1c(C[C@H](C)OC(=O)C2=CCC(=O)C=C2)c2c3c(c1=O)C(=O)CC(OC)c3c1c(OC)cc(=O)c3c(O)c(OC)c(=C[C@@H](C)OC(=O)c4ccccc4)c2c13&quot;, &quot;COc1c(C[C@H](C)OC(=O)C2=CCC(=O)C=C2)c2c3c(c1=O)C(O)=CC(OC)c3c1c(OC)cc(=O)c3c(O)c(OC)c(=C[C@@H](C)OC(=O)c4ccccc4)c2c13&quot;, … &quot;COC1=CC(=O)c2c(O)c(OC)c(=C[C@@H](C)OC(=O)c3ccccc3)c3c2c1c1c2c(c(O)c(OC)c(=C[C@H](C)OC(=O)C4C=CC(=O)C=C4)c23)C(O)=CC1OC&quot;]</td><td>[&quot;COC2C(O)C4C(=O)CC(OC)C5C6C(OC)CC(=O)C7C(O)C(OC)C(C[C@H](C)OC(=O)C1CCC(O)CC1)C(C(C2C[C@@H](C)OC(=O)C3CCCCC3)C45)C67&quot;, &quot;COC2C(O)C4C(=O)CC(OC)C5C6C(OC)CC(=C7C(O)C(OC)C(C[C@H](C)OC(=O)C1CCC(O)CC1)C(C(C2C[C@@H](C)OC(=O)C3CCCCC3)C45)C67)O&quot;, … &quot;COC2C(O)C4=C(O)CC(OC)C5C6C(OC)C=C(O)C7C(O)C(OC)C(C[C@H](C)OC(=O)C1CCC(O)CC1)C(C(C2C[C@@H](C)OC(=O)C3CCCCC3)C45)C67&quot;]</td><td>[&quot;COC1C=C(O)C2C(O)C(OC)C(C[C@@H](C)OC(=O)C3CCCCC3)C3C4C(C[C@H](C)OC(=O)C5CCC(O)CC5)C(OC)C(O)C5C(=O)CC(OC)C(C1C23)C54&quot;, &quot;COC1C=C(O)C2C(O)C(OC)C(C[C@@H](C)OC(=O)C3CCCCC3)C3C4C(C[C@H](C)OC(=O)C5CCC(O)CC5)C(OC)C(O)C5C(O)=CC(OC)C(C1C23)C54&quot;, … &quot;COC1CC(O)=C2C(O)C(OC)C(C[C@H](C)OC(=O)C3CCC(O)CC3)C3C2C1C1C(OC)CC(=O)C2C(O)C(OC)C(C[C@@H](C)OC(=O)C4CCCCC4)C3C21&quot;]</td></tr><tr><td>890</td><td>&lt;rdkit.Chem.rdchem.Mol object at 0x15e374dd0&gt;</td><td>&quot;COc1c(C[C@@H](…</td><td>[&quot;COC1=c2c3c(c4c5c(c(O)cc(OC)c25)C(=O)C(OC)C4=C[C@@H](C)OC(=O)c2ccccc2)C(=C[C@H](C)OC(O)=C2C=CC(=O)C=C2)C(OC)C(=O)C=3C(=O)C1&quot;, &quot;COc1cc(O)c2c3c(c4c5c(c(O)cc(OC)c5c13)C(=O)C(OC)C4=C[C@H](C)OC(=O)C1=CCC(=O)C=C1)C(=C[C@@H](C)OC(=O)c1ccccc1)C(OC)C2=O&quot;, … &quot;COC1=c2c3c(OC)cc(O)c4c3c(c3c(=C[C@@H](C)OC(=O)c5ccccc5)c(OC)c(O)c(c23)C(=O)C1)C(=C[C@H](C)OC(=O)c1ccc(O)cc1)C(OC)C4=O&quot;]</td><td>[&quot;COc1c(C[C@H](C)OC(=O)C2=CCC(=O)C=C2)c2c3c(c1=O)C(=O)CC(OC)c3c1c(OC)cc(=O)c3c(O)c(OC)c(=C[C@@H](C)OC(=O)c4ccccc4)c2c13&quot;, &quot;COc1c(C[C@H](C)OC(=O)C2=CCC(=O)C=C2)c2c3c(c1=O)C(O)=CC(OC)c3c1c(OC)cc(=O)c3c(O)c(OC)c(=C[C@@H](C)OC(=O)c4ccccc4)c2c13&quot;, … &quot;COC1=CC(=O)c2c(O)c(OC)c(=C[C@@H](C)OC(=O)c3ccccc3)c3c2c1c1c2c(c(O)c(OC)c(=C[C@H](C)OC(=O)C4C=CC(=O)C=C4)c23)C(O)=CC1OC&quot;]</td><td>[&quot;COC3C(C[C@@H](C)OC(=O)C1CCCCC1)C4C6C(C[C@H](C)OC(=O)C2CCC(O)CC2)C(OC)C(=O)C7C(O)CC(OC)C(C5C(OC)CC(O)C(C3=O)C45)C67&quot;]</td><td>[&quot;COC1CC(O)C2C(=O)C(OC)C(C[C@@H](C)OC(=O)C3CCCCC3)C3C4C(C[C@H](C)OC(=O)C5CCC(O)CC5)C(OC)C(=O)C5C(O)CC(OC)C(C1C23)C54&quot;]</td></tr><tr><td>1512</td><td>&lt;rdkit.Chem.rdchem.Mol object at 0x15e360510&gt;</td><td>&quot;CCP(CC)(=Nc1cc…</td><td>[&quot;CCP(CC)(=NC1C=C(C(c2ccccc2)(c2ccccc2)c2ccccc2)C=C(C(C)(C)C)C1=O)c1ccccc1&quot;, &quot;CCP(CC)(=Nc1cc(C(c2ccccc2)(c2ccccc2)c2ccccc2)cc(C(C)(C)C)c1O)c1ccccc1&quot;]</td><td>[&quot;CCP(CC)(=Nc1cc(C(c2ccccc2)(c2ccccc2)c2ccccc2)cc(C(C)(C)C)c1O)c1ccccc1&quot;]</td><td>[&quot;CC[P](CC)(=NC1=C(C(=CC(=C1)C(C2=CC=CC=C2)(C3=CC=CC=C3)C4=CC=CC=C4)C(C)(C)C)O)C5=CC=CC=C5&quot;]</td><td>[&quot;CCP(CC)(=Nc1cc(C(c2ccccc2)(c2ccccc2)c2ccccc2)cc(C(C)(C)C)c1O)c1ccccc1&quot;]</td></tr><tr><td>1704</td><td>&lt;rdkit.Chem.rdchem.Mol object at 0x15e360ba0&gt;</td><td>&quot;Cc1cc(C=O)c(C)…</td><td>[&quot;Cc1cc(C=O)c(C)c(C=O)c1&quot;]</td><td>[&quot;Cc1cc(C=O)c(C)c(C=O)c1&quot;]</td><td>[&quot;CC1=CC(=C(C(=C1)C=O)C)C=O&quot;, &quot;CC1=CC(C(C(=C1)C=O)=C)C=O&quot;, … &quot;CC1=CC(C(C(=C1)C=O)=C)=CO&quot;]</td><td>[&quot;C=C1C(C=O)=CC(C)=CC1C=O&quot;, &quot;Cc1cc(C=O)c(C)c(C=O)c1&quot;, … &quot;C=c1c(C=O)cc(C)cc1=CO&quot;]</td></tr><tr><td>1512</td><td>&lt;rdkit.Chem.rdchem.Mol object at 0x15e38ab20&gt;</td><td>&quot;CCP1(CC)(c2ccc…</td><td>[&quot;CCP1(CC)(c2ccccc2)Nc2cc(C(c3ccccc3)(c3ccccc3)c3ccccc3)cc(C(C)(C)C)c2O1&quot;]</td><td>[&quot;CCP1(CC)(c2ccccc2)Nc2cc(C(c3ccccc3)(c3ccccc3)c3ccccc3)cc(C(C)(C)C)c2O1&quot;]</td><td>[&quot;CC[P]6(CC)(C1=CC=CC=C1)NC2=C(C(=CC(=C2)C(C3=CC=CC=C3)(C4=CC=CC=C4)C5=CC=CC=C5)C(C)(C)C)O6&quot;, &quot;CC[P]6(CC)(C1=CC=CC=C1)NC2=C(C(=CC(=C2)C(C3=CC=CC=C3)(C4=CC=CC=C4)C5=CC=CC=C5)C(C)(C)C)O6&quot;, … &quot;CC=[P](CC)(C1=CC=CC=C1)N=C2CC(=CC(=C2O)C(C)(C)C)C(C3=CC=CC=C3)(C4=CC=CC=C4)C5=CC=CC=C5&quot;]</td><td>[&quot;CCP(CC)(=NC1=CC(C(c2ccccc2)(c2ccccc2)c2ccccc2)C=C(C(C)(C)C)C1=O)c1ccccc1&quot;, &quot;CC=P(CC)(N=C1CC(C(c2ccccc2)(c2ccccc2)c2ccccc2)C=C(C(C)(C)C)C1=O)c1ccccc1&quot;, … &quot;CC=P(CC)(NC1=CC(C(c2ccccc2)(c2ccccc2)c2ccccc2)C=C(C(C)(C)C)C1=O)c1ccccc1&quot;]</td></tr></tbody></table></div>"
      ],
      "text/plain": [
       "shape: (6, 7)\n",
       "┌──────┬───────────────┬───────────────┬──────────────┬──────────────┬──────────────┬──────────────┐\n",
       "│ Ref  ┆ mol           ┆ canon_sml     ┆ tautsTautome ┆ tautsGetV1Ta ┆ tautCACTVS   ┆ tautsCACTVS  │\n",
       "│ ---  ┆ ---           ┆ ---           ┆ rEnumerator  ┆ utomerEnumer ┆ ---          ┆ ---          │\n",
       "│ i64  ┆ object        ┆ str           ┆ ---          ┆ ator         ┆ list[str]    ┆ list[str]    │\n",
       "│      ┆               ┆               ┆ list[str]    ┆ ---          ┆              ┆              │\n",
       "│      ┆               ┆               ┆              ┆ list[str]    ┆              ┆              │\n",
       "╞══════╪═══════════════╪═══════════════╪══════════════╪══════════════╪══════════════╪══════════════╡\n",
       "│ 1704 ┆ <rdkit.Chem.r ┆ C=c1c(C=O)cc( ┆ [\"C=C1C(C=O) ┆ [\"C=c1c(C=O) ┆ [\"C=C\\1C(=CC ┆ [\"C=c1c(C=O) │\n",
       "│      ┆ dchem.Mol     ┆ C)cc1=CO      ┆ =CC(C)=CC1C= ┆ cc(C)cc1=CO\" ┆ (=CC1=C\\O)C) ┆ cc(C)c/c1=C\\ │\n",
       "│      ┆ object at…    ┆               ┆ O\", \"C=c…    ┆ ]            ┆ C=O\"]        ┆ O\"]          │\n",
       "│ 890  ┆ <rdkit.Chem.r ┆ COc1c(O)c2c(= ┆ [\"COC1=c2c3c ┆ [\"COc1c(C[C@ ┆ [\"COC2C(O)C4 ┆ [\"COC1C=C(O) │\n",
       "│      ┆ dchem.Mol     ┆ O)cc(OC)c3c4c ┆ (c4c5c(c(O)c ┆ H](C)OC(=O)C ┆ C(=O)CC(OC)C ┆ C2C(O)C(OC)C │\n",
       "│      ┆ object at…    ┆ (OC)cc…       ┆ c(OC)c25…    ┆ 2=CCC(=O…    ┆ 5C6C(OC)…    ┆ (C[C@@H]…    │\n",
       "│ 890  ┆ <rdkit.Chem.r ┆ COc1c(C[C@@H] ┆ [\"COC1=c2c3c ┆ [\"COc1c(C[C@ ┆ [\"COC3C(C[C@ ┆ [\"COC1CC(O)C │\n",
       "│      ┆ dchem.Mol     ┆ (C)OC(=O)c2cc ┆ (c4c5c(c(O)c ┆ H](C)OC(=O)C ┆ @H](C)OC(=O) ┆ 2C(=O)C(OC)C │\n",
       "│      ┆ object at…    ┆ ccc2)c…       ┆ c(OC)c25…    ┆ 2=CCC(=O…    ┆ C1CCCCC1…    ┆ (C[C@@H]…    │\n",
       "│ 1512 ┆ <rdkit.Chem.r ┆ CCP(CC)(=Nc1c ┆ [\"CCP(CC)(=N ┆ [\"CCP(CC)(=N ┆ [\"CC[P](CC)( ┆ [\"CCP(CC)(=N │\n",
       "│      ┆ dchem.Mol     ┆ c(C(c2ccccc2) ┆ C1C=C(C(c2cc ┆ c1cc(C(c2ccc ┆ =NC1=C(C(=CC ┆ c1cc(C(c2ccc │\n",
       "│      ┆ object at…    ┆ (c2ccc…       ┆ ccc2)(c2…    ┆ cc2)(c2c…    ┆ (=C1)C(C…    ┆ cc2)(c2c…    │\n",
       "│ 1704 ┆ <rdkit.Chem.r ┆ Cc1cc(C=O)c(C ┆ [\"Cc1cc(C=O) ┆ [\"Cc1cc(C=O) ┆ [\"CC1=CC(=C( ┆ [\"C=C1C(C=O) │\n",
       "│      ┆ dchem.Mol     ┆ )c(C=O)c1     ┆ c(C)c(C=O)c1 ┆ c(C)c(C=O)c1 ┆ C(=C1)C=O)C) ┆ =CC(C)=CC1C= │\n",
       "│      ┆ object at…    ┆               ┆ \"]           ┆ \"]           ┆ C=O\", \"C…    ┆ O\", \"Cc1…    │\n",
       "│ 1512 ┆ <rdkit.Chem.r ┆ CCP1(CC)(c2cc ┆ [\"CCP1(CC)(c ┆ [\"CCP1(CC)(c ┆ [\"CC[P]6(CC) ┆ [\"CCP(CC)(=N │\n",
       "│      ┆ dchem.Mol     ┆ ccc2)Nc2cc(C( ┆ 2ccccc2)Nc2c ┆ 2ccccc2)Nc2c ┆ (C1=CC=CC=C1 ┆ C1=CC(C(c2cc │\n",
       "│      ┆ object at…    ┆ c3cccc…       ┆ c(C(c3cc…    ┆ c(C(c3cc…    ┆ )NC2=C(C…    ┆ ccc2)(c2…    │\n",
       "└──────┴───────────────┴───────────────┴──────────────┴──────────────┴──────────────┴──────────────┘"
      ]
     },
     "execution_count": 44,
     "metadata": {},
     "output_type": "execute_result"
    }
   ],
   "source": [
    "# Merge in CACTVS tauts by left-joining on canon_sml\n",
    "\n",
    "# Ensure no tautsNIH columns already exist--can cause additional column tautsNIH_right to be created\n",
    "columsCACTVS = [col for col in df_melted.columns if 'CACTVS' in col.upper()]\n",
    "for col in columsCACTVS:\n",
    "    df_melted = df_melted.drop(col)\n",
    "    \n",
    "df_melted = df_melted.join(df_cactvs_matching_grouped, on=\"canon_sml\", how=\"left\")\n",
    "\n",
    "# View rows where there are CACTVS tautomers\n",
    "df_melted.filter(pl.col(\"Ref\").is_in(matching.keys()))"
   ]
  },
  {
   "cell_type": "code",
   "execution_count": 45,
   "metadata": {},
   "outputs": [
    {
     "data": {
      "text/html": [
       "<div><style>\n",
       ".dataframe > thead > tr,\n",
       ".dataframe > tbody > tr {\n",
       "  text-align: right;\n",
       "  white-space: pre-wrap;\n",
       "}\n",
       "</style>\n",
       "<small>shape: (12, 2)</small><table border=\"1\" class=\"dataframe\"><thead><tr><th>canon_sml</th><th>tautsNIH</th></tr><tr><td>str</td><td>list[str]</td></tr></thead><tbody><tr><td>&quot;COc1c2c3c4c(c(…</td><td>[&quot;COc1c(O)c2c(O)cc(OC)c3c4c(OC)cc(O)c5c(O)c(OC)c6c([C@H](C)O)c([C@H](C)O)c1c(c23)c6c54&quot;, &quot;COC1=C2c3c4c(c(O)cc(OC)c4c4c(OC)cc(O)c5c(O)c(OC)c(c3c54)=C([C@H](C)O)[C@@H]2[C@H](C)O)C1=O&quot;, … &quot;COc1c(O)c2c(=O)cc(OC)c3c4c(OC)cc(=O)c5c(O)c(OC)c6c(c(c1[C@@H]([C@H](C)O)[C@@H]6[C@H](C)O)c23)c54&quot;]</td></tr><tr><td>&quot;CSC1=NC(c2cccc…</td><td>[&quot;C=C1N=C(SC)NC(c2ccccc2[N+](=O)[O-])C1C(=O)OC(C)C&quot;, &quot;CSC1=NC(c2ccccc2[N+](=O)[O-])C(=C(O)OC(C)C)C(C)=N1&quot;, … &quot;CSC1=NC(=C2C=CCC=C2[N+](=O)[O-])C(C(=O)OC(C)C)=C(C)N1&quot;]</td></tr><tr><td>&quot;Cc1cc(C=O)c(C)…</td><td>[&quot;C=C1C(C=O)=CC(C)C=C1C=O&quot;, &quot;C=c1c(C=O)cc(C)cc1=CO&quot;]</td></tr><tr><td>&quot;C=c1c(C=O)cc(C…</td><td>[&quot;C=C1C(C=O)=CC(C)=CC1C=O&quot;, &quot;C=C1C(C=O)=CC(C)C=C1C=O&quot;, &quot;Cc1cc(C=O)c(C)c(C=O)c1&quot;]</td></tr><tr><td>&quot;COc1c(O)c2c(=O…</td><td>[&quot;COC1=CC(=O)C2C(=O)C(OC)=C(C[C@@H](C)OC(=O)c3ccccc3)c3c2c1c1c2c(c(O)c(OC)c(C[C@H](C)OC(=O)c4ccc(O)cc4)c32)C(=O)C=C1OC&quot;, &quot;COC1=CC(=O)c2c(O)c(OC)c(C[C@H](C)OC(=O)c3ccc(O)cc3)c3c2c1c1c(OC)cc(O)c2c(O)c(OC)c(=C[C@@H](C)OC(=O)c4ccccc4)c3c21&quot;, … &quot;COc1c(O)c2c(=O)cc(OC)c3c4c(OC)cc(O)c5c(=O)c(OC)c(C[C@@H](C)OC(=O)c6ccccc6)c(c(c1C[C@H](C)OC(=O)c1ccc(O)cc1)c23)c54&quot;]</td></tr><tr><td>&quot;COc1c(C[C@@H](…</td><td>[&quot;COC1=C(C[C@@H](C)OC(=O)c2ccccc2)c2c3c(c(O)cc(OC)c3c3c(OC)cc(O)c4c(O)c(OC)c(=C[C@H](C)OC(=O)c5ccc(O)cc5)c2c43)C1=O&quot;, &quot;COc1c(O)c2c(O)cc(OC)c3c4c(OC)cc(O)c5c(O)c(OC)c(=C[C@H](C)OC(=O)c6ccc(O)cc6)c(c(c1=C[C@@H](C)OC(=O)c1ccccc1)c23)c54&quot;, … &quot;COc1c(O)c2c(=O)cc(OC)c3c4c(OC)cc(O)c5c(=O)c(OC)c(C[C@@H](C)OC(=O)c6ccccc6)c(c(c1C[C@H](C)OC(=O)c1ccc(O)cc1)c23)c54&quot;]</td></tr><tr><td>&quot;C=C(/C=[N+](\\[…</td><td>[&quot;C=C(OCC)C1N(O)C(C)(C)C(C)=[N+]1[O-]&quot;, &quot;C=C(/C=[N+](\\[O-])C(C)(C)C(=C)NO)OCC&quot;, … &quot;C=C(/C=[N+](\\[O-])C(C)(C)C(C)=[NH+][O-])OCC&quot;]</td></tr><tr><td>&quot;C=C(OCC)C1N(O)…</td><td>[&quot;C=C(OCC)C1N(O)C(C)(C)C(=C)[NH+]1[O-]&quot;, &quot;C=C(OCC)C1=[N+]([O-])C(C)C(C)(C)N1O&quot;, &quot;C=C(C=[N+]([O-])C(C)(C)C(C)=NO)OCC&quot;]</td></tr><tr><td>&quot;CCP1(CC)(c2ccc…</td><td>[&quot;CCP(CC)(=Nc1cc(C(c2ccccc2)(c2ccccc2)c2ccccc2)cc(C(C)(C)C)c1O)c1ccccc1&quot;, &quot;CCP1(CC)(c2ccccc2)N=C2C=C(C(c3ccccc3)(c3ccccc3)c3ccccc3)C=C(C(C)(C)C)C2O1&quot;, &quot;CCP1(CC)(c2ccccc2)N=C2CC(C(c3ccccc3)(c3ccccc3)c3ccccc3)=CC(C(C)(C)C)=C2O1&quot;]</td></tr><tr><td>&quot;CCP(CC)(=Nc1cc…</td><td>[&quot;CC=P(CC)(Nc1cc(C(c2ccccc2)(c2ccccc2)c2ccccc2)cc(C(C)(C)C)c1O)c1ccccc1&quot;, &quot;CCP(CC)(=NC1C=C(C(c2ccccc2)(c2ccccc2)c2ccccc2)C=C(C(C)(C)C)C1=O)c1ccccc1&quot;, … &quot;CCP1(CC)(c2ccccc2)Nc2cc(C(c3ccccc3)(c3ccccc3)c3ccccc3)cc(C(C)(C)C)c2O1&quot;]</td></tr><tr><td>&quot;[2H]Oc1ccc(-c2…</td><td>[&quot;[2H]Oc1c(C2=CC([2H])(O[2H])C(=O)C=C2)oc2c([2H])c(O[2H])c(OC)c(=O)c-2c1O[2H]&quot;, &quot;[2H]OC1=C2C(=O)C([2H])(OC)C(=O)C([2H])=C2OC(c2ccc(O[2H])c(O[2H])c2)=C1O[2H]&quot;, … &quot;[2H]OC1=C(OC)C(=O)c2c(oc(-c3ccc(O[2H])c(O[2H])c3)c(O[2H])c2=O)C1([2H])[2H]&quot;]</td></tr><tr><td>&quot;[2H]Oc1ccc(-c2…</td><td>[&quot;[2H]OC1=C([2H])c2oc(C3=CC([2H])(O[2H])C(=O)C=C3)c(O[2H])c(=O)c2C(=O)C1([2H])OC&quot;, &quot;[2H]Oc1c([2H])c2c(c(O[2H])c1OC)C(=O)C(=O)C([2H])(C1=CC([2H])(O[2H])C(=O)C=C1)O2&quot;, … &quot;[2H]OC1=CC(c2oc3c([2H])c(O[2H])c(OC)c(O[2H])c3c(=O)c2O[2H])=CC([2H])C1=O&quot;]</td></tr></tbody></table></div>"
      ],
      "text/plain": [
       "shape: (12, 2)\n",
       "┌───────────────────────────────────┬───────────────────────────────────┐\n",
       "│ canon_sml                         ┆ tautsNIH                          │\n",
       "│ ---                               ┆ ---                               │\n",
       "│ str                               ┆ list[str]                         │\n",
       "╞═══════════════════════════════════╪═══════════════════════════════════╡\n",
       "│ COc1c2c3c4c(c(OC)c(=O)c5c(O)cc(O… ┆ [\"COc1c(O)c2c(O)cc(OC)c3c4c(OC)c… │\n",
       "│ CSC1=NC(c2ccccc2[N+](=O)[O-])C(C… ┆ [\"C=C1N=C(SC)NC(c2ccccc2[N+](=O)… │\n",
       "│ Cc1cc(C=O)c(C)c(C=O)c1            ┆ [\"C=C1C(C=O)=CC(C)C=C1C=O\", \"C=c… │\n",
       "│ C=c1c(C=O)cc(C)cc1=CO             ┆ [\"C=C1C(C=O)=CC(C)=CC1C=O\", \"C=C… │\n",
       "│ COc1c(O)c2c(=O)cc(OC)c3c4c(OC)cc… ┆ [\"COC1=CC(=O)C2C(=O)C(OC)=C(C[C@… │\n",
       "│ …                                 ┆ …                                 │\n",
       "│ C=C(OCC)C1N(O)C(C)(C)C(C)=[N+]1[… ┆ [\"C=C(OCC)C1N(O)C(C)(C)C(=C)[NH+… │\n",
       "│ CCP1(CC)(c2ccccc2)Nc2cc(C(c3cccc… ┆ [\"CCP(CC)(=Nc1cc(C(c2ccccc2)(c2c… │\n",
       "│ CCP(CC)(=Nc1cc(C(c2ccccc2)(c2ccc… ┆ [\"CC=P(CC)(Nc1cc(C(c2ccccc2)(c2c… │\n",
       "│ [2H]Oc1ccc(-c2oc3c([2H])c(O[2H])… ┆ [\"[2H]Oc1c(C2=CC([2H])(O[2H])C(=… │\n",
       "│ [2H]Oc1ccc(-c2oc3c([2H])c(O[2H])… ┆ [\"[2H]OC1=C([2H])c2oc(C3=CC([2H]… │\n",
       "└───────────────────────────────────┴───────────────────────────────────┘"
      ]
     },
     "execution_count": 45,
     "metadata": {},
     "output_type": "execute_result"
    }
   ],
   "source": [
    "# Prepare tautomer data from NIH web site\n",
    "nih_sml_tauts_canon = {key: canonicalize_smiles(value) for key, value in nih_sml_tauts.items()}\n",
    "nih_inputs = nih_sml_tauts_canon.keys()\n",
    "nih_tauts = nih_sml_tauts_canon.values()\n",
    "df_nih = pl.DataFrame({\"canon_sml\": nih_inputs, \"tautsNIH\": nih_tauts})\n",
    "df_nih"
   ]
  },
  {
   "cell_type": "code",
   "execution_count": 46,
   "metadata": {},
   "outputs": [],
   "source": [
    "# Merge in NIH tauts by left-joining on canon_sml\n",
    "\n",
    "# Ensure no tautsNIH columns already exist--can cause additional column tautsNIH_right to be created\n",
    "columsNIH = [col for col in df_melted.columns if col.startswith('tautsNIH')]\n",
    "for col in columsNIH:\n",
    "    df_melted = df_melted.drop(col)\n",
    "    \n",
    "df_melted = df_melted.join(df_nih, on=\"canon_sml\", how=\"left\")\n"
   ]
  },
  {
   "cell_type": "code",
   "execution_count": 47,
   "metadata": {},
   "outputs": [
    {
     "data": {
      "text/html": [
       "<div><style>\n",
       ".dataframe > thead > tr,\n",
       ".dataframe > tbody > tr {\n",
       "  text-align: right;\n",
       "  white-space: pre-wrap;\n",
       "}\n",
       "</style>\n",
       "<small>shape: (2, 8)</small><table border=\"1\" class=\"dataframe\"><thead><tr><th>Ref</th><th>mol</th><th>canon_sml</th><th>tautsTautomerEnumerator</th><th>tautsGetV1TautomerEnumerator</th><th>tautCACTVS</th><th>tautsCACTVS</th><th>tautsNIH</th></tr><tr><td>i64</td><td>object</td><td>str</td><td>list[str]</td><td>list[str]</td><td>list[str]</td><td>list[str]</td><td>list[str]</td></tr></thead><tbody><tr><td>1704</td><td>&lt;rdkit.Chem.rdchem.Mol object at 0x15e38b7d0&gt;</td><td>&quot;C=c1c(C=O)cc(C…</td><td>[&quot;C=C1C(C=O)=CC(C)=CC1C=O&quot;, &quot;C=c1c(C=O)cc(C)cc1=CO&quot;]</td><td>[&quot;C=c1c(C=O)cc(C)cc1=CO&quot;]</td><td>[&quot;C=C\\1C(=CC(=CC1=C\\O)C)C=O&quot;]</td><td>[&quot;C=c1c(C=O)cc(C)c/c1=C\\O&quot;]</td><td>[&quot;C=C1C(C=O)=CC(C)=CC1C=O&quot;, &quot;C=C1C(C=O)=CC(C)C=C1C=O&quot;, &quot;Cc1cc(C=O)c(C)c(C=O)c1&quot;]</td></tr><tr><td>1704</td><td>&lt;rdkit.Chem.rdchem.Mol object at 0x15e360ba0&gt;</td><td>&quot;Cc1cc(C=O)c(C)…</td><td>[&quot;Cc1cc(C=O)c(C)c(C=O)c1&quot;]</td><td>[&quot;Cc1cc(C=O)c(C)c(C=O)c1&quot;]</td><td>[&quot;CC1=CC(=C(C(=C1)C=O)C)C=O&quot;, &quot;CC1=CC(C(C(=C1)C=O)=C)C=O&quot;, … &quot;CC1=CC(C(C(=C1)C=O)=C)=CO&quot;]</td><td>[&quot;C=C1C(C=O)=CC(C)=CC1C=O&quot;, &quot;Cc1cc(C=O)c(C)c(C=O)c1&quot;, … &quot;C=c1c(C=O)cc(C)cc1=CO&quot;]</td><td>[&quot;C=C1C(C=O)=CC(C)C=C1C=O&quot;, &quot;C=c1c(C=O)cc(C)cc1=CO&quot;]</td></tr></tbody></table></div>"
      ],
      "text/plain": [
       "shape: (2, 8)\n",
       "┌──────┬─────────────┬────────────┬────────────┬────────────┬────────────┬────────────┬────────────┐\n",
       "│ Ref  ┆ mol         ┆ canon_sml  ┆ tautsTauto ┆ tautsGetV1 ┆ tautCACTVS ┆ tautsCACTV ┆ tautsNIH   │\n",
       "│ ---  ┆ ---         ┆ ---        ┆ merEnumera ┆ TautomerEn ┆ ---        ┆ S          ┆ ---        │\n",
       "│ i64  ┆ object      ┆ str        ┆ tor        ┆ umerator   ┆ list[str]  ┆ ---        ┆ list[str]  │\n",
       "│      ┆             ┆            ┆ ---        ┆ ---        ┆            ┆ list[str]  ┆            │\n",
       "│      ┆             ┆            ┆ list[str]  ┆ list[str]  ┆            ┆            ┆            │\n",
       "╞══════╪═════════════╪════════════╪════════════╪════════════╪════════════╪════════════╪════════════╡\n",
       "│ 1704 ┆ <rdkit.Chem ┆ C=c1c(C=O) ┆ [\"C=C1C(C= ┆ [\"C=c1c(C= ┆ [\"C=C\\1C(= ┆ [\"C=c1c(C= ┆ [\"C=C1C(C= │\n",
       "│      ┆ .rdchem.Mol ┆ cc(C)cc1=C ┆ O)=CC(C)=C ┆ O)cc(C)cc1 ┆ CC(=CC1=C\\ ┆ O)cc(C)c/c ┆ O)=CC(C)=C │\n",
       "│      ┆ object at…  ┆ O          ┆ C1C=O\",    ┆ =CO\"]      ┆ O)C)C=O\"]  ┆ 1=C\\O\"]    ┆ C1C=O\",    │\n",
       "│      ┆             ┆            ┆ \"C=c…      ┆            ┆            ┆            ┆ \"C=C…      │\n",
       "│ 1704 ┆ <rdkit.Chem ┆ Cc1cc(C=O) ┆ [\"Cc1cc(C= ┆ [\"Cc1cc(C= ┆ [\"CC1=CC(= ┆ [\"C=C1C(C= ┆ [\"C=C1C(C= │\n",
       "│      ┆ .rdchem.Mol ┆ c(C)c(C=O) ┆ O)c(C)c(C= ┆ O)c(C)c(C= ┆ C(C(=C1)C= ┆ O)=CC(C)=C ┆ O)=CC(C)C= │\n",
       "│      ┆ object at…  ┆ c1         ┆ O)c1\"]     ┆ O)c1\"]     ┆ O)C)C=O\",  ┆ C1C=O\",    ┆ C1C=O\",    │\n",
       "│      ┆             ┆            ┆            ┆            ┆ \"C…        ┆ \"Cc1…      ┆ \"C=c…      │\n",
       "└──────┴─────────────┴────────────┴────────────┴────────────┴────────────┴────────────┴────────────┘"
      ]
     },
     "execution_count": 47,
     "metadata": {},
     "output_type": "execute_result"
    }
   ],
   "source": [
    "df_melted.filter(pl.col(\"Ref\") == 1704)\n"
   ]
  },
  {
   "cell_type": "code",
   "execution_count": 48,
   "metadata": {},
   "outputs": [],
   "source": [
    "# Replace None (null) values in tautsNIH and tautsCACTVS to prevent error when flatten nested list into non-nested (flat) list\n",
    "for source in [\"NIH\", \"CACTVS\"]:\n",
    "    tauts_source = df_melted[f\"tauts{source}\"].to_list()\n",
    "    tauts_source_no_nulls = [val if val is not None else [] for val in tauts_source]\n",
    "    tauts_source_no_nulls_series = pl.Series(tauts_source_no_nulls)\n",
    "    df_melted = df_melted.with_columns(tauts_source_no_nulls_series.alias(f\"tauts{source}\"))"
   ]
  },
  {
   "cell_type": "code",
   "execution_count": 49,
   "metadata": {},
   "outputs": [
    {
     "data": {
      "text/html": [
       "<div><style>\n",
       ".dataframe > thead > tr,\n",
       ".dataframe > tbody > tr {\n",
       "  text-align: right;\n",
       "  white-space: pre-wrap;\n",
       "}\n",
       "</style>\n",
       "<small>shape: (3, 8)</small><table border=\"1\" class=\"dataframe\"><thead><tr><th>Ref</th><th>mol</th><th>canon_sml</th><th>tautsTautomerEnumerator</th><th>tautsGetV1TautomerEnumerator</th><th>tautCACTVS</th><th>tautsCACTVS</th><th>tautsNIH</th></tr><tr><td>i64</td><td>list[extension]</td><td>list[str]</td><td>list[list[str]]</td><td>list[list[str]]</td><td>list[list[str]]</td><td>list[list[str]]</td><td>list[list[str]]</td></tr></thead><tbody><tr><td>1596</td><td>[&lt;rdkit.Chem.rdchem.Mol object at 0x151ac7f40&gt;, &lt;rdkit.Chem.rdchem.Mol object at 0x151af2960&gt;]</td><td>[&quot;Cc1cc([N+](=O)[O-])ccc1/N=N/C1=CC=CC1=[N+]=[N-]&quot;, &quot;Cc1cc([N+](=O)[O-])ccc1-n1nnc2cccc-2n1&quot;]</td><td>[[&quot;Cc1cc([N+](=O)[O-])ccc1/N=N/C1=CC=CC1=[N+]=[N-]&quot;], [&quot;Cc1cc([N+](=O)[O-])ccc1-n1nnc2cccc-2n1&quot;]]</td><td>[[&quot;Cc1cc([N+](=O)[O-])ccc1/N=N/C1=CC=CC1=[N+]=[N-]&quot;], [&quot;Cc1cc([N+](=O)[O-])ccc1-n1nnc2cccc-2n1&quot;]]</td><td>[null, null]</td><td>[[], []]</td><td>[[], []]</td></tr><tr><td>170</td><td>[&lt;rdkit.Chem.rdchem.Mol object at 0x151ad9620&gt;, &lt;rdkit.Chem.rdchem.Mol object at 0x15e33d460&gt;]</td><td>[&quot;[2H]N(C(=O)C([2H])([2H])c1nc2cc(Cl)ccc2n2n[n+]([2H])nc12)c1ccc[n+]([2H])c1&quot;, &quot;[2H]/C(C(=O)N([2H])c1ccc[n+]([2H])c1)=C1\\c2n[n+]([2H])nn2-c2ccc(Cl)cc2N1[2H]&quot;]</td><td>[[&quot;[2H][n+]1cccc([NH]([2H])C(=O)C([2H])([2H])c2nc3cc(Cl)ccc3n3n[n+]([2H])nc23)c1&quot;, &quot;[2H][n+]1cccc([NH]([2H])C(=O)[CH2]([2H])([2H])c2nc3cc(Cl)ccc3n3n[n+]([2H])nc23)c1&quot;, … &quot;[2H][n+]1cccc([NH]([2H])C(O)=C([2H])([2H])=C2Nc3cc(Cl)ccc3-n3n[n+]([2H])nc32)c1&quot;], [&quot;[2H]C(C(=O)N([2H])c1ccc[n+]([2H])c1)C1=N([2H])c2cc(Cl)ccc2-n2n[n+]([2H])nc21&quot;, &quot;[2H]C(C(=O)N([2H])c1ccc[n+]([2H])c1)=C1c2n[n+]([2H])nn2-c2ccc(Cl)cc2N1[2H]&quot;, … &quot;[2H]C(C(=O)N([2H])c1ccc[n+]([2H])c1)=C1c2n[n+]([2H])nn2-c2ccc(Cl)cc2[NH]1[2H]&quot;]]</td><td>[[&quot;[2H][n+]1cccc([NH]([2H])C(=O)C([2H])([2H])c2nc3cc(Cl)ccc3n3n[n+]([2H])nc23)c1&quot;, &quot;[2H][n+]1cccc([NH]([2H])C(=O)[CH2]([2H])([2H])c2nc3cc(Cl)ccc3n3n[n+]([2H])nc23)c1&quot;, … &quot;[2H][n+]1cccc([NH]([2H])C(O)=C([2H])([2H])=C2Nc3cc(Cl)ccc3-n3n[n+]([2H])nc32)c1&quot;], [&quot;[2H]C(C(=O)N([2H])c1ccc[n+]([2H])c1)C1=N([2H])c2cc(Cl)ccc2-n2n[n+]([2H])nc21&quot;, &quot;[2H]C(C(=O)N([2H])c1ccc[n+]([2H])c1)=C1c2n[n+]([2H])nn2-c2ccc(Cl)cc2N1[2H]&quot;, … &quot;[2H]C(C(=O)N([2H])c1ccc[n+]([2H])c1)=C1c2n[n+]([2H])nn2-c2ccc(Cl)cc2[NH]1[2H]&quot;]]</td><td>[null, null]</td><td>[[], []]</td><td>[[], []]</td></tr><tr><td>179</td><td>[&lt;rdkit.Chem.rdchem.Mol object at 0x15e3005f0&gt;, &lt;rdkit.Chem.rdchem.Mol object at 0x151aba180&gt;]</td><td>[&quot;CCCC1=N/C(=C/C=O)NC(CCC)=N1&quot;, &quot;CCCc1nc(/C=C\\O)nc(CCC)n1&quot;]</td><td>[[&quot;CCCC1=NC(=CC=O)NC(CCC)=N1&quot;, &quot;CCC=C1N=C(CCC)N=C(C=CO)N1&quot;, … &quot;CCC=C1N=C(CC=O)N=C(CCC)N1&quot;], [&quot;CCCC1=NC(=CC=O)NC(CCC)=N1&quot;, &quot;CCC=C1N=C(CCC)N=C(C=CO)N1&quot;, … &quot;CCC=C1N=C(CC=O)N=C(CCC)N1&quot;]]</td><td>[[&quot;CCCC1=NC(=CC=O)NC(CCC)=N1&quot;, &quot;CCC=C1N=C(CCC)N=C(C=CO)N1&quot;, … &quot;CCC=C1N=C(CC=O)N=C(CCC)N1&quot;], [&quot;CCCC1=NC(=CC=O)NC(CCC)=N1&quot;, &quot;CCC=C1N=C(CCC)N=C(C=CO)N1&quot;, … &quot;CCC=C1N=C(CC=O)N=C(CCC)N1&quot;]]</td><td>[null, null]</td><td>[[], []]</td><td>[[], []]</td></tr></tbody></table></div>"
      ],
      "text/plain": [
       "shape: (3, 8)\n",
       "┌──────┬─────────────┬────────────┬────────────┬────────────┬────────────┬────────────┬────────────┐\n",
       "│ Ref  ┆ mol         ┆ canon_sml  ┆ tautsTauto ┆ tautsGetV1 ┆ tautCACTVS ┆ tautsCACTV ┆ tautsNIH   │\n",
       "│ ---  ┆ ---         ┆ ---        ┆ merEnumera ┆ TautomerEn ┆ ---        ┆ S          ┆ ---        │\n",
       "│ i64  ┆ list[extens ┆ list[str]  ┆ tor        ┆ umerator   ┆ list[list[ ┆ ---        ┆ list[list[ │\n",
       "│      ┆ ion]        ┆            ┆ ---        ┆ ---        ┆ str]]      ┆ list[list[ ┆ str]]      │\n",
       "│      ┆             ┆            ┆ list[list[ ┆ list[list[ ┆            ┆ str]]      ┆            │\n",
       "│      ┆             ┆            ┆ str]]      ┆ str]]      ┆            ┆            ┆            │\n",
       "╞══════╪═════════════╪════════════╪════════════╪════════════╪════════════╪════════════╪════════════╡\n",
       "│ 1596 ┆ [<rdkit.Che ┆ [\"Cc1cc([N ┆ [[\"Cc1cc([ ┆ [[\"Cc1cc([ ┆ [null,     ┆ [[], []]   ┆ [[], []]   │\n",
       "│      ┆ m.rdchem.Mo ┆ +](=O)[O-] ┆ N+](=O)[O- ┆ N+](=O)[O- ┆ null]      ┆            ┆            │\n",
       "│      ┆ l object a… ┆ )ccc1/N=N/ ┆ ])ccc1/N=N ┆ ])ccc1/N=N ┆            ┆            ┆            │\n",
       "│      ┆             ┆ C1…        ┆ /C…        ┆ /C…        ┆            ┆            ┆            │\n",
       "│ 170  ┆ [<rdkit.Che ┆ [\"[2H]N(C( ┆ [[\"[2H][n+ ┆ [[\"[2H][n+ ┆ [null,     ┆ [[], []]   ┆ [[], []]   │\n",
       "│      ┆ m.rdchem.Mo ┆ =O)C([2H]) ┆ ]1cccc([NH ┆ ]1cccc([NH ┆ null]      ┆            ┆            │\n",
       "│      ┆ l object a… ┆ ([2H])c1nc ┆ ]([2H])C(= ┆ ]([2H])C(= ┆            ┆            ┆            │\n",
       "│      ┆             ┆ 2c…        ┆ O)…        ┆ O)…        ┆            ┆            ┆            │\n",
       "│ 179  ┆ [<rdkit.Che ┆ [\"CCCC1=N/ ┆ [[\"CCCC1=N ┆ [[\"CCCC1=N ┆ [null,     ┆ [[], []]   ┆ [[], []]   │\n",
       "│      ┆ m.rdchem.Mo ┆ C(=C/C=O)N ┆ C(=CC=O)NC ┆ C(=CC=O)NC ┆ null]      ┆            ┆            │\n",
       "│      ┆ l object a… ┆ C(CCC)=N1\" ┆ (CCC)=N1\", ┆ (CCC)=N1\", ┆            ┆            ┆            │\n",
       "│      ┆             ┆ , …        ┆ \"…         ┆ \"…         ┆            ┆            ┆            │\n",
       "└──────┴─────────────┴────────────┴────────────┴────────────┴────────────┴────────────┴────────────┘"
      ]
     },
     "execution_count": 49,
     "metadata": {},
     "output_type": "execute_result"
    }
   ],
   "source": [
    "# Merge tautomer smls for each row for same ref: \n",
    "#   assumption is that all input smls correspond to legitimate tautomers\n",
    "other_columns = [col for col in df_melted.columns if col not in ['Ref']]\n",
    "\n",
    "df_melted_aggregated = (\n",
    "    df_melted.group_by('Ref')\n",
    "    .agg(*other_columns)\n",
    ")\n",
    "df_melted_aggregated.head(3)"
   ]
  },
  {
   "cell_type": "code",
   "execution_count": 50,
   "metadata": {},
   "outputs": [
    {
     "name": "stdout",
     "output_type": "stream",
     "text": [
      "tautsTautomerEnumerator\n",
      "tautsGetV1TautomerEnumerator\n",
      "tautsCACTVS\n",
      "tautsNIH\n"
     ]
    },
    {
     "data": {
      "text/html": [
       "<div><style>\n",
       ".dataframe > thead > tr,\n",
       ".dataframe > tbody > tr {\n",
       "  text-align: right;\n",
       "  white-space: pre-wrap;\n",
       "}\n",
       "</style>\n",
       "<small>shape: (3, 12)</small><table border=\"1\" class=\"dataframe\"><thead><tr><th>Ref</th><th>mol</th><th>canon_sml</th><th>tautsTautomerEnumerator</th><th>tautsGetV1TautomerEnumerator</th><th>tautCACTVS</th><th>tautsCACTVS</th><th>tautsNIH</th><th>flat_tautsTautomerEnumerator</th><th>flat_tautsGetV1TautomerEnumerator</th><th>flat_tautsCACTVS</th><th>flat_tautsNIH</th></tr><tr><td>i64</td><td>list[extension]</td><td>list[str]</td><td>list[list[str]]</td><td>list[list[str]]</td><td>list[list[str]]</td><td>list[list[str]]</td><td>list[list[str]]</td><td>list[str]</td><td>list[str]</td><td>list[str]</td><td>list[str]</td></tr></thead><tbody><tr><td>1596</td><td>[&lt;rdkit.Chem.rdchem.Mol object at 0x151ac7f40&gt;, &lt;rdkit.Chem.rdchem.Mol object at 0x151af2960&gt;]</td><td>[&quot;Cc1cc([N+](=O)[O-])ccc1/N=N/C1=CC=CC1=[N+]=[N-]&quot;, &quot;Cc1cc([N+](=O)[O-])ccc1-n1nnc2cccc-2n1&quot;]</td><td>[[&quot;Cc1cc([N+](=O)[O-])ccc1/N=N/C1=CC=CC1=[N+]=[N-]&quot;], [&quot;Cc1cc([N+](=O)[O-])ccc1-n1nnc2cccc-2n1&quot;]]</td><td>[[&quot;Cc1cc([N+](=O)[O-])ccc1/N=N/C1=CC=CC1=[N+]=[N-]&quot;], [&quot;Cc1cc([N+](=O)[O-])ccc1-n1nnc2cccc-2n1&quot;]]</td><td>[null, null]</td><td>[[], []]</td><td>[[], []]</td><td>[&quot;Cc1cc([N+](=O)[O-])ccc1/N=N/C1=CC=CC1=[N+]=[N-]&quot;, &quot;Cc1cc([N+](=O)[O-])ccc1-n1nnc2cccc-2n1&quot;]</td><td>[&quot;Cc1cc([N+](=O)[O-])ccc1/N=N/C1=CC=CC1=[N+]=[N-]&quot;, &quot;Cc1cc([N+](=O)[O-])ccc1-n1nnc2cccc-2n1&quot;]</td><td>[]</td><td>[]</td></tr><tr><td>170</td><td>[&lt;rdkit.Chem.rdchem.Mol object at 0x151ad9620&gt;, &lt;rdkit.Chem.rdchem.Mol object at 0x15e33d460&gt;]</td><td>[&quot;[2H]N(C(=O)C([2H])([2H])c1nc2cc(Cl)ccc2n2n[n+]([2H])nc12)c1ccc[n+]([2H])c1&quot;, &quot;[2H]/C(C(=O)N([2H])c1ccc[n+]([2H])c1)=C1\\c2n[n+]([2H])nn2-c2ccc(Cl)cc2N1[2H]&quot;]</td><td>[[&quot;[2H][n+]1cccc([NH]([2H])C(=O)C([2H])([2H])c2nc3cc(Cl)ccc3n3n[n+]([2H])nc23)c1&quot;, &quot;[2H][n+]1cccc([NH]([2H])C(=O)[CH2]([2H])([2H])c2nc3cc(Cl)ccc3n3n[n+]([2H])nc23)c1&quot;, … &quot;[2H][n+]1cccc([NH]([2H])C(O)=C([2H])([2H])=C2Nc3cc(Cl)ccc3-n3n[n+]([2H])nc32)c1&quot;], [&quot;[2H]C(C(=O)N([2H])c1ccc[n+]([2H])c1)C1=N([2H])c2cc(Cl)ccc2-n2n[n+]([2H])nc21&quot;, &quot;[2H]C(C(=O)N([2H])c1ccc[n+]([2H])c1)=C1c2n[n+]([2H])nn2-c2ccc(Cl)cc2N1[2H]&quot;, … &quot;[2H]C(C(=O)N([2H])c1ccc[n+]([2H])c1)=C1c2n[n+]([2H])nn2-c2ccc(Cl)cc2[NH]1[2H]&quot;]]</td><td>[[&quot;[2H][n+]1cccc([NH]([2H])C(=O)C([2H])([2H])c2nc3cc(Cl)ccc3n3n[n+]([2H])nc23)c1&quot;, &quot;[2H][n+]1cccc([NH]([2H])C(=O)[CH2]([2H])([2H])c2nc3cc(Cl)ccc3n3n[n+]([2H])nc23)c1&quot;, … &quot;[2H][n+]1cccc([NH]([2H])C(O)=C([2H])([2H])=C2Nc3cc(Cl)ccc3-n3n[n+]([2H])nc32)c1&quot;], [&quot;[2H]C(C(=O)N([2H])c1ccc[n+]([2H])c1)C1=N([2H])c2cc(Cl)ccc2-n2n[n+]([2H])nc21&quot;, &quot;[2H]C(C(=O)N([2H])c1ccc[n+]([2H])c1)=C1c2n[n+]([2H])nn2-c2ccc(Cl)cc2N1[2H]&quot;, … &quot;[2H]C(C(=O)N([2H])c1ccc[n+]([2H])c1)=C1c2n[n+]([2H])nn2-c2ccc(Cl)cc2[NH]1[2H]&quot;]]</td><td>[null, null]</td><td>[[], []]</td><td>[[], []]</td><td>[&quot;[2H][n+]1cccc([NH]([2H])C(=O)C([2H])([2H])c2nc3cc(Cl)ccc3n3n[n+]([2H])nc23)c1&quot;, &quot;[2H][n+]1cccc([NH]([2H])C(=O)[CH2]([2H])([2H])c2nc3cc(Cl)ccc3n3n[n+]([2H])nc23)c1&quot;, … &quot;[2H][n+]1cccc([NH]([2H])C(O)=C([2H])([2H])=C2Nc3cc(Cl)ccc3-n3n[n+]([2H])nc32)c1&quot;]</td><td>[&quot;[2H][n+]1cccc([NH]([2H])C(=O)C([2H])([2H])c2nc3cc(Cl)ccc3n3n[n+]([2H])nc23)c1&quot;, &quot;[2H][n+]1cccc([NH]([2H])C(=O)[CH2]([2H])([2H])c2nc3cc(Cl)ccc3n3n[n+]([2H])nc23)c1&quot;, … &quot;[2H][n+]1cccc([NH]([2H])C(O)=C([2H])([2H])=C2Nc3cc(Cl)ccc3-n3n[n+]([2H])nc32)c1&quot;]</td><td>[]</td><td>[]</td></tr><tr><td>179</td><td>[&lt;rdkit.Chem.rdchem.Mol object at 0x15e3005f0&gt;, &lt;rdkit.Chem.rdchem.Mol object at 0x151aba180&gt;]</td><td>[&quot;CCCC1=N/C(=C/C=O)NC(CCC)=N1&quot;, &quot;CCCc1nc(/C=C\\O)nc(CCC)n1&quot;]</td><td>[[&quot;CCCC1=NC(=CC=O)NC(CCC)=N1&quot;, &quot;CCC=C1N=C(CCC)N=C(C=CO)N1&quot;, … &quot;CCC=C1N=C(CC=O)N=C(CCC)N1&quot;], [&quot;CCCC1=NC(=CC=O)NC(CCC)=N1&quot;, &quot;CCC=C1N=C(CCC)N=C(C=CO)N1&quot;, … &quot;CCC=C1N=C(CC=O)N=C(CCC)N1&quot;]]</td><td>[[&quot;CCCC1=NC(=CC=O)NC(CCC)=N1&quot;, &quot;CCC=C1N=C(CCC)N=C(C=CO)N1&quot;, … &quot;CCC=C1N=C(CC=O)N=C(CCC)N1&quot;], [&quot;CCCC1=NC(=CC=O)NC(CCC)=N1&quot;, &quot;CCC=C1N=C(CCC)N=C(C=CO)N1&quot;, … &quot;CCC=C1N=C(CC=O)N=C(CCC)N1&quot;]]</td><td>[null, null]</td><td>[[], []]</td><td>[[], []]</td><td>[&quot;CCCC1=NC(=CC=O)NC(CCC)=N1&quot;, &quot;CCC=C1N=C(CCC)N=C(C=CO)N1&quot;, … &quot;CCC=C1N=C(CC=O)N=C(CCC)N1&quot;]</td><td>[&quot;CCCC1=NC(=CC=O)NC(CCC)=N1&quot;, &quot;CCC=C1N=C(CCC)N=C(C=CO)N1&quot;, … &quot;CCC=C1N=C(CC=O)N=C(CCC)N1&quot;]</td><td>[]</td><td>[]</td></tr></tbody></table></div>"
      ],
      "text/plain": [
       "shape: (3, 12)\n",
       "┌──────┬────────────┬────────────┬────────────┬───┬────────────┬───────────┬───────────┬───────────┐\n",
       "│ Ref  ┆ mol        ┆ canon_sml  ┆ tautsTauto ┆ … ┆ flat_tauts ┆ flat_taut ┆ flat_taut ┆ flat_taut │\n",
       "│ ---  ┆ ---        ┆ ---        ┆ merEnumera ┆   ┆ TautomerEn ┆ sGetV1Tau ┆ sCACTVS   ┆ sNIH      │\n",
       "│ i64  ┆ list[exten ┆ list[str]  ┆ tor        ┆   ┆ umerator   ┆ tomerEnum ┆ ---       ┆ ---       │\n",
       "│      ┆ sion]      ┆            ┆ ---        ┆   ┆ ---        ┆ erato…    ┆ list[str] ┆ list[str] │\n",
       "│      ┆            ┆            ┆ list[list[ ┆   ┆ list[str]  ┆ ---       ┆           ┆           │\n",
       "│      ┆            ┆            ┆ str]]      ┆   ┆            ┆ list[str] ┆           ┆           │\n",
       "╞══════╪════════════╪════════════╪════════════╪═══╪════════════╪═══════════╪═══════════╪═══════════╡\n",
       "│ 1596 ┆ [<rdkit.Ch ┆ [\"Cc1cc([N ┆ [[\"Cc1cc([ ┆ … ┆ [\"Cc1cc([N ┆ [\"Cc1cc([ ┆ []        ┆ []        │\n",
       "│      ┆ em.rdchem. ┆ +](=O)[O-] ┆ N+](=O)[O- ┆   ┆ +](=O)[O-] ┆ N+](=O)[O ┆           ┆           │\n",
       "│      ┆ Mol object ┆ )ccc1/N=N/ ┆ ])ccc1/N=N ┆   ┆ )ccc1/N=N/ ┆ -])ccc1/N ┆           ┆           │\n",
       "│      ┆ a…         ┆ C1…        ┆ /C…        ┆   ┆ C1…        ┆ =N/C1…    ┆           ┆           │\n",
       "│ 170  ┆ [<rdkit.Ch ┆ [\"[2H]N(C( ┆ [[\"[2H][n+ ┆ … ┆ [\"[2H][n+] ┆ [\"[2H][n+ ┆ []        ┆ []        │\n",
       "│      ┆ em.rdchem. ┆ =O)C([2H]) ┆ ]1cccc([NH ┆   ┆ 1cccc([NH] ┆ ]1cccc([N ┆           ┆           │\n",
       "│      ┆ Mol object ┆ ([2H])c1nc ┆ ]([2H])C(= ┆   ┆ ([2H])C(=O ┆ H]([2H])C ┆           ┆           │\n",
       "│      ┆ a…         ┆ 2c…        ┆ O)…        ┆   ┆ )C…        ┆ (=O)C…    ┆           ┆           │\n",
       "│ 179  ┆ [<rdkit.Ch ┆ [\"CCCC1=N/ ┆ [[\"CCCC1=N ┆ … ┆ [\"CCCC1=NC ┆ [\"CCCC1=N ┆ []        ┆ []        │\n",
       "│      ┆ em.rdchem. ┆ C(=C/C=O)N ┆ C(=CC=O)NC ┆   ┆ (=CC=O)NC( ┆ C(=CC=O)N ┆           ┆           │\n",
       "│      ┆ Mol object ┆ C(CCC)=N1\" ┆ (CCC)=N1\", ┆   ┆ CCC)=N1\",  ┆ C(CCC)=N1 ┆           ┆           │\n",
       "│      ┆ a…         ┆ , …        ┆ \"…         ┆   ┆ \"C…        ┆ \", \"C…    ┆           ┆           │\n",
       "└──────┴────────────┴────────────┴────────────┴───┴────────────┴───────────┴───────────┴───────────┘"
      ]
     },
     "execution_count": 50,
     "metadata": {},
     "output_type": "execute_result"
    }
   ],
   "source": [
    "# For each tautomers column, created a flattened column to merge same canonical SMILES\n",
    "\n",
    "# List of columns with tautomers\n",
    "tauts_columns = [col for col in df_melted_aggregated.columns if col.startswith('tauts')]\n",
    "for tauts_column in tauts_columns:\n",
    "    print(tauts_column)\n",
    "    df_melted_aggregated = df_melted_aggregated.with_columns(\n",
    "        [\n",
    "            pl.col(tauts_column).map_elements(lambda m: list(set([item for row in m for item in row]))).alias(f\"flat_{tauts_column}\"),\n",
    "        ]\n",
    "    )\n",
    "df_melted_aggregated.head(3)"
   ]
  },
  {
   "cell_type": "code",
   "execution_count": 51,
   "metadata": {},
   "outputs": [],
   "source": [
    "# Function to return a set of InChI for an iterable of SMILES\n",
    "def InChI_smiles(smls_list: list[str]) -> list[str]:\n",
    "    \"\"\"\n",
    "    Convert many SMILES to InChI, returning the unique InChI\n",
    "\n",
    "    :param smls_list: List of SMILES strings\n",
    "    :returns: List of InChI strings\n",
    "    \"\"\"\n",
    "    InChIs = []\n",
    "    for sml in smls_list:\n",
    "        mol = Chem.MolFromSmiles(sml)\n",
    "        if mol:\n",
    "            InChI = Chem.MolToInchi(mol)\n",
    "            InChIs.append(InChI)\n",
    "        else:\n",
    "            mol = Chem.MolFromSmiles(sml, sanitize=False)\n",
    "            if mol:\n",
    "                InChI = Chem.MolToInchi(mol)\n",
    "                InChIs.append(InChI)\n",
    "            else:\n",
    "                print(\"Molecule couldn't be created\")\n",
    "    # Eliminate duplicates by turning list into a set, then back to a list so can go in dataframe\n",
    "    InChIs_unique = list(set(InChIs))\n",
    "    return InChIs_unique"
   ]
  },
  {
   "cell_type": "code",
   "execution_count": 52,
   "metadata": {},
   "outputs": [],
   "source": [
    "# Add InChI for flat_tautsTautomerEnumerator\n",
    "df_melted_aggregated = df_melted_aggregated.with_columns(\n",
    "    [\n",
    "        pl.col(\"flat_tautsTautomerEnumerator\").map_elements(lambda t: InChI_smiles(t)).alias(\"InChI_flat_tautsTautomerEnumerator\"),\n",
    "    ]\n",
    ")\n",
    "df_melted_aggregated = df_melted_aggregated.with_columns(\n",
    "    [\n",
    "        pl.col(\"InChI_flat_tautsTautomerEnumerator\").list.len().alias(\"n_InChI_flat_tautsTautomerEnumerator\"),\n",
    "    ]\n",
    ")\n"
   ]
  },
  {
   "cell_type": "code",
   "execution_count": 53,
   "metadata": {},
   "outputs": [
    {
     "data": {
      "text/html": [
       "<div><style>\n",
       ".dataframe > thead > tr,\n",
       ".dataframe > tbody > tr {\n",
       "  text-align: right;\n",
       "  white-space: pre-wrap;\n",
       "}\n",
       "</style>\n",
       "<small>shape: (1, 19)</small><table border=\"1\" class=\"dataframe\"><thead><tr><th>Ref</th><th>mol</th><th>flat_tautsExpt</th><th>tautsTautomerEnumerator</th><th>tautsGetV1TautomerEnumerator</th><th>tautCACTVS</th><th>tautsCACTVS</th><th>tautsNIH</th><th>flat_tautsTautomerEnumerator</th><th>flat_tautsGetV1TautomerEnumerator</th><th>flat_tautsCACTVS</th><th>flat_tautsNIH</th><th>InChI_flat_tautsTautomerEnumerator</th><th>n_InChI_flat_tautsTautomerEnumerator</th><th>n_tautsExpt</th><th>n_tautsTautomerEnumerator</th><th>n_tautsGetV1TautomerEnumerator</th><th>n_tautsCACTVS</th><th>n_tautsNIH</th></tr><tr><td>i64</td><td>list[extension]</td><td>list[str]</td><td>list[list[str]]</td><td>list[list[str]]</td><td>list[list[str]]</td><td>list[list[str]]</td><td>list[list[str]]</td><td>list[str]</td><td>list[str]</td><td>list[str]</td><td>list[str]</td><td>list[str]</td><td>u32</td><td>u32</td><td>u32</td><td>u32</td><td>u32</td><td>u32</td></tr></thead><tbody><tr><td>1596</td><td>[&lt;rdkit.Chem.rdchem.Mol object at 0x151ac7f40&gt;, &lt;rdkit.Chem.rdchem.Mol object at 0x151af2960&gt;]</td><td>[&quot;Cc1cc([N+](=O)[O-])ccc1/N=N/C1=CC=CC1=[N+]=[N-]&quot;, &quot;Cc1cc([N+](=O)[O-])ccc1-n1nnc2cccc-2n1&quot;]</td><td>[[&quot;Cc1cc([N+](=O)[O-])ccc1/N=N/C1=CC=CC1=[N+]=[N-]&quot;], [&quot;Cc1cc([N+](=O)[O-])ccc1-n1nnc2cccc-2n1&quot;]]</td><td>[[&quot;Cc1cc([N+](=O)[O-])ccc1/N=N/C1=CC=CC1=[N+]=[N-]&quot;], [&quot;Cc1cc([N+](=O)[O-])ccc1-n1nnc2cccc-2n1&quot;]]</td><td>[null, null]</td><td>[[], []]</td><td>[[], []]</td><td>[&quot;Cc1cc([N+](=O)[O-])ccc1/N=N/C1=CC=CC1=[N+]=[N-]&quot;, &quot;Cc1cc([N+](=O)[O-])ccc1-n1nnc2cccc-2n1&quot;]</td><td>[&quot;Cc1cc([N+](=O)[O-])ccc1/N=N/C1=CC=CC1=[N+]=[N-]&quot;, &quot;Cc1cc([N+](=O)[O-])ccc1-n1nnc2cccc-2n1&quot;]</td><td>[]</td><td>[]</td><td>[&quot;InChI=1S/C12H9N5O2/c1-8-7-9(17(18)19)5-6-12(8)16-14-11-4-2-3-10(11)13-15-16/h2-7H,1H3&quot;, &quot;InChI=1S/C12H9N5O2/c1-8-7-9(17(18)19)5-6-10(8)15-16-12-4-2-3-11(12)14-13/h2-7H,1H3/b16-15+&quot;]</td><td>2</td><td>2</td><td>2</td><td>2</td><td>0</td><td>0</td></tr></tbody></table></div>"
      ],
      "text/plain": [
       "shape: (1, 19)\n",
       "┌──────┬────────────┬────────────┬────────────┬───┬────────────┬───────────┬───────────┬───────────┐\n",
       "│ Ref  ┆ mol        ┆ flat_tauts ┆ tautsTauto ┆ … ┆ n_tautsTau ┆ n_tautsGe ┆ n_tautsCA ┆ n_tautsNI │\n",
       "│ ---  ┆ ---        ┆ Expt       ┆ merEnumera ┆   ┆ tomerEnume ┆ tV1Tautom ┆ CTVS      ┆ H         │\n",
       "│ i64  ┆ list[exten ┆ ---        ┆ tor        ┆   ┆ rator      ┆ erEnumera ┆ ---       ┆ ---       │\n",
       "│      ┆ sion]      ┆ list[str]  ┆ ---        ┆   ┆ ---        ┆ tor       ┆ u32       ┆ u32       │\n",
       "│      ┆            ┆            ┆ list[list[ ┆   ┆ u32        ┆ ---       ┆           ┆           │\n",
       "│      ┆            ┆            ┆ str]]      ┆   ┆            ┆ u32       ┆           ┆           │\n",
       "╞══════╪════════════╪════════════╪════════════╪═══╪════════════╪═══════════╪═══════════╪═══════════╡\n",
       "│ 1596 ┆ [<rdkit.Ch ┆ [\"Cc1cc([N ┆ [[\"Cc1cc([ ┆ … ┆ 2          ┆ 2         ┆ 0         ┆ 0         │\n",
       "│      ┆ em.rdchem. ┆ +](=O)[O-] ┆ N+](=O)[O- ┆   ┆            ┆           ┆           ┆           │\n",
       "│      ┆ Mol object ┆ )ccc1/N=N/ ┆ ])ccc1/N=N ┆   ┆            ┆           ┆           ┆           │\n",
       "│      ┆ a…         ┆ C1…        ┆ /C…        ┆   ┆            ┆           ┆           ┆           │\n",
       "└──────┴────────────┴────────────┴────────────┴───┴────────────┴───────────┴───────────┴───────────┘"
      ]
     },
     "execution_count": 53,
     "metadata": {},
     "output_type": "execute_result"
    }
   ],
   "source": [
    "# Add tautomer counts\n",
    "\n",
    "# Rename canon_sml to flat_tautsExpt for consist column name format; if it's already been renamed, do nothing\n",
    "try:\n",
    "    df_melted_aggregated = df_melted_aggregated.rename({\"canon_sml\": \"flat_tautsExpt\"})\n",
    "except SchemaFieldNotFoundError:\n",
    "    pass\n",
    "\n",
    "# Create list of flat tautomer columns\n",
    "flat_tauts_columns = [col for col in df_melted_aggregated.columns if col.startswith('flat_tauts')]\n",
    "# Add tautomers from Tautomer database\n",
    "# flat_tauts_columns.append(\"canon_sml\")\n",
    "for flat_tauts_column in flat_tauts_columns:\n",
    "    df_melted_aggregated = df_melted_aggregated.with_columns(\n",
    "        [\n",
    "            # pl.col(flat_tauts_column).map_elements(lambda t: len(t)).alias(\"n_\" + flat_tauts_column.replace(\"flat_\", \"\")),\n",
    "            pl.col(flat_tauts_column).list.len().alias(\"n_\" + flat_tauts_column.replace(\"flat_\", \"\")),\n",
    "        ]\n",
    "    )\n",
    "df_melted_aggregated.head(1)\n",
    "# df_melted_aggregated.drop([\"tautsNIH\",\"tautsTautomerEnumerator\", \"tautsGetV1TautomerEnumerator\"])\\\n",
    "    # .filter(pl.col(\"n_canon_sml\") > 4)"
   ]
  },
  {
   "cell_type": "code",
   "execution_count": 54,
   "metadata": {},
   "outputs": [],
   "source": [
    "def sets_are_equal(\n",
    "    *iterables: Iterable,\n",
    ") -> bool:\n",
    "    \"\"\"Check whether multiple iterables are equal as sets:\n",
    "    For example [1, 1, 2] and {2, 1} are equal because both are {1, 2} as sets\n",
    "    \n",
    "    :param *iterables: the several iterables (can be lists, tuples, sets, etc.)\n",
    "    :returns: True if all the iterables are equal; False if not\n",
    "    \"\"\"\n",
    "    if len(iterables) < 2:\n",
    "        return True\n",
    "\n",
    "    # Convert iterables into sets\n",
    "    iterables_list = [iterable for iterable in iterables]\n",
    "    sets_list = [set(iterable) for iterable in iterables_list]\n",
    "\n",
    "    # Get the keys of the first dictionary in the list\n",
    "    reference_set = sets_list[0]\n",
    "\n",
    "    # Iterate through the sets starting from the second one\n",
    "    for this_set in sets_list[1:]:\n",
    "        # Check if each set matches the reference set\n",
    "        if this_set != reference_set:\n",
    "            # Return False if keys are not the same\n",
    "            return False\n",
    "    # Return True if all dictionaries have the same keys\n",
    "    return True"
   ]
  },
  {
   "cell_type": "code",
   "execution_count": 55,
   "metadata": {},
   "outputs": [],
   "source": [
    "# List sources, and the sources to compare to the first source\n",
    "sources = {\n",
    "    \"TautomerEnumerator\": \"baseline\",\n",
    "    \"GetV1TautomerEnumerator\": \"all\",\n",
    "    \"NIH\": \"manual\",\n",
    "    \"CACTVS\": \"manual\",\n",
    "    \"Expt\": \"all\",\n",
    "}\n",
    "sources_compare = {source:kind for source, kind in sources.items() if kind != \"baseline\"}"
   ]
  },
  {
   "cell_type": "code",
   "execution_count": 56,
   "metadata": {},
   "outputs": [],
   "source": [
    "# Check if sets of tautomers are the same for different sources (algorithms and experimental)\n",
    "for source in sources_compare.keys():\n",
    "    df_melted_aggregated = df_melted_aggregated.with_columns(\n",
    "        [\n",
    "            # Check if different algos produce same set of tautomers\n",
    "            pl.struct([\"flat_tautsTautomerEnumerator\", f\"flat_tauts{source}\"]).\n",
    "            map_elements(lambda x: sets_are_equal(x[\"flat_tautsTautomerEnumerator\"], x[f\"flat_tauts{source}\"]))\n",
    "            .alias(f\"tauts_same{source}\"),\n",
    "\n",
    "            # Calculate difference in number of tautomers between algos\n",
    "            pl.when(pl.col(f\"n_tauts{source}\") == 0)\n",
    "            # If n_tauts for this source is null, set its n_tauts_diff to null so that difference is calculated only when source has data\n",
    "            .then(None)\n",
    "            .otherwise(\n",
    "                pl.struct([\"n_tautsTautomerEnumerator\", f\"n_tauts{source}\"]).\n",
    "                map_elements(lambda x: x[\"n_tautsTautomerEnumerator\"] - x[f\"n_tauts{source}\"])\n",
    "            )\n",
    "            .alias(f\"n_tauts_diff{source}\"),\n",
    "        ]\n",
    "    )\n",
    "\n",
    "# df_melted_aggregated.filter(abs(pl.col(\"n_tauts_diffGetV1TautomerEnumerator\")) > 300)\n"
   ]
  },
  {
   "cell_type": "code",
   "execution_count": 57,
   "metadata": {},
   "outputs": [],
   "source": [
    "df_melted_aggregated = df_melted_aggregated.with_columns(\n",
    "    [\n",
    "        # Calculate difference in number of tautomers between algos\n",
    "        pl.when(pl.col(f\"n_tauts{source}\") == 0)\n",
    "        # If n_tauts for this source is null, set its n_tauts_diff to null so that difference is calculated only when source has data\n",
    "        .then(None)\n",
    "        .otherwise(\n",
    "            pl.struct([\"n_tautsTautomerEnumerator\", \"n_InChI_flat_tautsTautomerEnumerator\"]).\n",
    "            map_elements(lambda x: x[\"n_tautsTautomerEnumerator\"] - x[\"n_InChI_flat_tautsTautomerEnumerator\"])\n",
    "        )\n",
    "        .alias(f\"n_tauts_diff_InChI\"),\n",
    "    ]\n",
    ")"
   ]
  },
  {
   "cell_type": "code",
   "execution_count": 58,
   "metadata": {},
   "outputs": [
    {
     "data": {
      "text/html": [
       "<div><style>\n",
       ".dataframe > thead > tr,\n",
       ".dataframe > tbody > tr {\n",
       "  text-align: right;\n",
       "  white-space: pre-wrap;\n",
       "}\n",
       "</style>\n",
       "<small>shape: (484, 5)</small><table border=\"1\" class=\"dataframe\"><thead><tr><th>Ref</th><th>n_tautsTautomerEnumerator</th><th>n_tauts_diffGetV1TautomerEnumerator</th><th>n_InChI_flat_tautsTautomerEnumerator</th><th>n_tauts_diff_InChI</th></tr><tr><td>i64</td><td>u32</td><td>i64</td><td>u32</td><td>i64</td></tr></thead><tbody><tr><td>170</td><td>32</td><td>0</td><td>11</td><td>21</td></tr><tr><td>179</td><td>12</td><td>-3</td><td>6</td><td>6</td></tr><tr><td>3</td><td>2</td><td>-3</td><td>1</td><td>1</td></tr><tr><td>1706</td><td>5</td><td>-2</td><td>3</td><td>2</td></tr><tr><td>176</td><td>14</td><td>0</td><td>10</td><td>4</td></tr><tr><td>399</td><td>3</td><td>1</td><td>2</td><td>1</td></tr><tr><td>795</td><td>2</td><td>0</td><td>1</td><td>1</td></tr><tr><td>1084</td><td>28</td><td>-8</td><td>21</td><td>7</td></tr><tr><td>688</td><td>9</td><td>-5</td><td>6</td><td>3</td></tr><tr><td>277</td><td>9</td><td>1</td><td>6</td><td>3</td></tr><tr><td>417</td><td>3</td><td>0</td><td>2</td><td>1</td></tr><tr><td>682</td><td>3</td><td>-6</td><td>1</td><td>2</td></tr><tr><td>&hellip;</td><td>&hellip;</td><td>&hellip;</td><td>&hellip;</td><td>&hellip;</td></tr><tr><td>86</td><td>6</td><td>0</td><td>3</td><td>3</td></tr><tr><td>768</td><td>2</td><td>0</td><td>1</td><td>1</td></tr><tr><td>515</td><td>9</td><td>-7</td><td>3</td><td>6</td></tr><tr><td>622</td><td>8</td><td>-14</td><td>2</td><td>6</td></tr><tr><td>95</td><td>2</td><td>0</td><td>1</td><td>1</td></tr><tr><td>512</td><td>12</td><td>-6</td><td>4</td><td>8</td></tr><tr><td>107</td><td>5</td><td>0</td><td>3</td><td>2</td></tr><tr><td>503</td><td>2</td><td>0</td><td>1</td><td>1</td></tr><tr><td>1039</td><td>8</td><td>0</td><td>2</td><td>6</td></tr><tr><td>241</td><td>10</td><td>-27</td><td>7</td><td>3</td></tr><tr><td>1539</td><td>7</td><td>-2</td><td>4</td><td>3</td></tr><tr><td>247</td><td>10</td><td>-7</td><td>7</td><td>3</td></tr></tbody></table></div>"
      ],
      "text/plain": [
       "shape: (484, 5)\n",
       "┌──────┬───────────────────────┬───────────────────────┬──────────────────────┬────────────────────┐\n",
       "│ Ref  ┆ n_tautsTautomerEnumer ┆ n_tauts_diffGetV1Taut ┆ n_InChI_flat_tautsTa ┆ n_tauts_diff_InChI │\n",
       "│ ---  ┆ ator                  ┆ omerEnumera…          ┆ utomerEnumer…        ┆ ---                │\n",
       "│ i64  ┆ ---                   ┆ ---                   ┆ ---                  ┆ i64                │\n",
       "│      ┆ u32                   ┆ i64                   ┆ u32                  ┆                    │\n",
       "╞══════╪═══════════════════════╪═══════════════════════╪══════════════════════╪════════════════════╡\n",
       "│ 170  ┆ 32                    ┆ 0                     ┆ 11                   ┆ 21                 │\n",
       "│ 179  ┆ 12                    ┆ -3                    ┆ 6                    ┆ 6                  │\n",
       "│ 3    ┆ 2                     ┆ -3                    ┆ 1                    ┆ 1                  │\n",
       "│ 1706 ┆ 5                     ┆ -2                    ┆ 3                    ┆ 2                  │\n",
       "│ 176  ┆ 14                    ┆ 0                     ┆ 10                   ┆ 4                  │\n",
       "│ …    ┆ …                     ┆ …                     ┆ …                    ┆ …                  │\n",
       "│ 503  ┆ 2                     ┆ 0                     ┆ 1                    ┆ 1                  │\n",
       "│ 1039 ┆ 8                     ┆ 0                     ┆ 2                    ┆ 6                  │\n",
       "│ 241  ┆ 10                    ┆ -27                   ┆ 7                    ┆ 3                  │\n",
       "│ 1539 ┆ 7                     ┆ -2                    ┆ 4                    ┆ 3                  │\n",
       "│ 247  ┆ 10                    ┆ -7                    ┆ 7                    ┆ 3                  │\n",
       "└──────┴───────────────────────┴───────────────────────┴──────────────────────┴────────────────────┘"
      ]
     },
     "execution_count": 58,
     "metadata": {},
     "output_type": "execute_result"
    }
   ],
   "source": [
    "df_melted_aggregated.filter(pl.col(\"n_tauts_diff_InChI\") > 0).select([\"Ref\", \"n_tautsTautomerEnumerator\", \"n_tauts_diffGetV1TautomerEnumerator\", \"n_InChI_flat_tautsTautomerEnumerator\", \"n_tauts_diff_InChI\"])"
   ]
  },
  {
   "cell_type": "code",
   "execution_count": 77,
   "metadata": {},
   "outputs": [
    {
     "ename": "",
     "evalue": "",
     "output_type": "error",
     "traceback": [
      "\u001b[1;31mThe Kernel crashed while executing code in the the current cell or a previous cell. Please review the code in the cell(s) to identify a possible cause of the failure. Click <a href='https://aka.ms/vscodeJupyterKernelCrash'>here</a> for more info. View Jupyter <a href='command:jupyter.viewOutput'>log</a> for further details."
     ]
    }
   ],
   "source": [
    "# Narrow down to rows where algos give different sets of tautomers\n",
    "df_melted_aggregated_different = df_melted_aggregated.filter(pl.col(\"tauts_sameGetV1TautomerEnumerator\") == False)\n",
    "\n",
    "df_melted_aggregated_different.drop([\"mol\",\"tautsTautomerEnumerator\", \"tautsGetV1TautomerEnumerator\"]).filter(abs(pl.col(\"n_tauts_diffGetV1TautomerEnumerator\")) < 2).filter(abs(pl.col(\"n_tautsTautomerEnumerator\")) < 4).filter(abs(pl.col(\"n_tautsGetV1TautomerEnumerator\")) < 4).sort(abs(pl.col(\"n_tauts_diffGetV1TautomerEnumerator\")), descending=True).head()"
   ]
  },
  {
   "cell_type": "code",
   "execution_count": 60,
   "metadata": {},
   "outputs": [],
   "source": [
    "def second_highest_frequency(lst):\n",
    "    # Count frequencies of elements in the list\n",
    "    frequencies = Counter(lst)\n",
    "    \n",
    "    # Find the second highest frequency\n",
    "    unique_frequencies = sorted(set(frequencies.values()), reverse=True)\n",
    "    \n",
    "    # Find the second highest frequency value(s)\n",
    "    second_highest_freq = unique_frequencies[1] if len(unique_frequencies) > 1 else unique_frequencies[0]\n",
    "        \n",
    "    return second_highest_freq"
   ]
  },
  {
   "cell_type": "code",
   "execution_count": 61,
   "metadata": {},
   "outputs": [],
   "source": [
    "# For each other source, compare it to RDKit V2\n",
    "\n",
    "# Create several dictionaries where each key will be a tautomer source\n",
    "n_tauts_diff = dict()\n",
    "n_tauts_diff_no_zeros = dict()\n",
    "n_tauts_diff_positive = dict()\n",
    "n_tauts_diff_negative = dict()\n",
    "for source in sources_compare.keys():\n",
    "    # Extract the data from the dataframe's n_tauts_diff... columns\n",
    "    this_n_tauts_diff = df_melted_aggregated[f\"n_tauts_diff{source}\"].to_list()\n",
    "    # Remove None values to prevent errors\n",
    "    this_n_tauts_diff_clean = [item for item in this_n_tauts_diff if item is not None]\n",
    "    n_tauts_diff.update({source: this_n_tauts_diff_clean})\n",
    "    n_tauts_diff_no_zeros.update({source: [diff for diff in n_tauts_diff[source] if diff != 0]})\n",
    "    n_tauts_diff_positive.update({source: [diff for diff in n_tauts_diff_no_zeros[source] if (diff is not None) and (diff > 0)]})\n",
    "    n_tauts_diff_negative.update({source: [diff for diff in n_tauts_diff_no_zeros[source] if (diff is not None) and (diff < 0)]})"
   ]
  },
  {
   "cell_type": "code",
   "execution_count": 62,
   "metadata": {},
   "outputs": [],
   "source": [
    "def stats_for_iterable(iterable: Iterable) -> dict[str : int | float]:\n",
    "    \"\"\"Calculate descriptive statistics for an iterable.\n",
    "    The input could be a set, but be aware that a set can only contain each value once.\n",
    "\n",
    "    :param iterable: Iterable to be analyzed\n",
    "    :returns: Descriptive statistics including counts of some values, mean, median, mode, and standard deviation\n",
    "    \"\"\"\n",
    "    iterable_clean = [item for item in iterable if item is not None]\n",
    "    stats = dict()\n",
    "    for delta in range(-5, 6):\n",
    "        stats.update({f\"count({delta})\": iterable_clean.count(delta)})\n",
    "    stats.update(\n",
    "        {\n",
    "            \"mean\": statistics.mean(iterable_clean),\n",
    "            \"median\": statistics.median(iterable_clean),\n",
    "            \"mode\": statistics.mode(iterable_clean),\n",
    "        }\n",
    "    )\n",
    "    try:\n",
    "        stats.update({\"std dev\": statistics.stdev(iterable_clean)})\n",
    "    except StatisticsError:\n",
    "        stats.update({\"std dev\": -1})\n",
    "    for stat, value in stats.items():\n",
    "        if stat in [\"mean\", \"std dev\"]:\n",
    "            print(f\"{stat:10} {value:.2f}\")\n",
    "        else:\n",
    "            print(f\"{stat:10} {value:}\")\n",
    "    return stats"
   ]
  },
  {
   "cell_type": "code",
   "execution_count": 63,
   "metadata": {},
   "outputs": [
    {
     "name": "stdout",
     "output_type": "stream",
     "text": [
      "--GetV1TautomerEnumerator--\n",
      "count(-5)  16\n",
      "count(-4)  33\n",
      "count(-3)  32\n",
      "count(-2)  66\n",
      "count(-1)  88\n",
      "count(0)   1231\n",
      "count(1)   78\n",
      "count(2)   13\n",
      "count(3)   14\n",
      "count(4)   11\n",
      "count(5)   2\n",
      "mean       -4.65\n",
      "median     0.0\n",
      "mode       0\n",
      "std dev    30.12\n",
      "--NIH--\n",
      "count(-5)  1\n",
      "count(-4)  2\n",
      "count(-3)  0\n",
      "count(-2)  0\n",
      "count(-1)  1\n",
      "count(0)   0\n",
      "count(1)   0\n",
      "count(2)   0\n",
      "count(3)   0\n",
      "count(4)   0\n",
      "count(5)   0\n",
      "mean       177.00\n",
      "median     -1\n",
      "mode       -4\n",
      "std dev    309.83\n",
      "--CACTVS--\n",
      "count(-5)  0\n",
      "count(-4)  0\n",
      "count(-3)  0\n",
      "count(-2)  1\n",
      "count(-1)  0\n",
      "count(0)   0\n",
      "count(1)   0\n",
      "count(2)   0\n",
      "count(3)   0\n",
      "count(4)   0\n",
      "count(5)   0\n",
      "mean       114.00\n",
      "median     -2\n",
      "mode       -2\n",
      "std dev    208.76\n",
      "--Expt--\n",
      "count(-5)  0\n",
      "count(-4)  0\n",
      "count(-3)  0\n",
      "count(-2)  0\n",
      "count(-1)  3\n",
      "count(0)   527\n",
      "count(1)   336\n",
      "count(2)   165\n",
      "count(3)   190\n",
      "count(4)   71\n",
      "count(5)   60\n",
      "mean       9.92\n",
      "median     2.0\n",
      "mode       0\n",
      "std dev    42.63\n"
     ]
    }
   ],
   "source": [
    "for source in sources_compare.keys():\n",
    "    print(f\"--{source}--\")\n",
    "    stats_for_iterable(n_tauts_diff[source])"
   ]
  },
  {
   "cell_type": "code",
   "execution_count": 64,
   "metadata": {},
   "outputs": [
    {
     "name": "stdout",
     "output_type": "stream",
     "text": [
      "--GetV1TautomerEnumerator--\n",
      "count(-5)  16\n",
      "count(-4)  33\n",
      "count(-3)  32\n",
      "count(-2)  66\n",
      "count(-1)  88\n",
      "count(0)   0\n",
      "count(1)   78\n",
      "count(2)   13\n",
      "count(3)   14\n",
      "count(4)   11\n",
      "count(5)   2\n",
      "mean       -15.14\n",
      "median     -2\n",
      "mode       -1\n",
      "std dev    52.93\n",
      "--NIH--\n",
      "count(-5)  1\n",
      "count(-4)  2\n",
      "count(-3)  0\n",
      "count(-2)  0\n",
      "count(-1)  1\n",
      "count(0)   0\n",
      "count(1)   0\n",
      "count(2)   0\n",
      "count(3)   0\n",
      "count(4)   0\n",
      "count(5)   0\n",
      "mean       177.00\n",
      "median     -1\n",
      "mode       -4\n",
      "std dev    309.83\n",
      "--CACTVS--\n",
      "count(-5)  0\n",
      "count(-4)  0\n",
      "count(-3)  0\n",
      "count(-2)  1\n",
      "count(-1)  0\n",
      "count(0)   0\n",
      "count(1)   0\n",
      "count(2)   0\n",
      "count(3)   0\n",
      "count(4)   0\n",
      "count(5)   0\n",
      "mean       114.00\n",
      "median     -2\n",
      "mode       -2\n",
      "std dev    208.76\n",
      "--Expt--\n",
      "count(-5)  0\n",
      "count(-4)  0\n",
      "count(-3)  0\n",
      "count(-2)  0\n",
      "count(-1)  3\n",
      "count(0)   0\n",
      "count(1)   336\n",
      "count(2)   165\n",
      "count(3)   190\n",
      "count(4)   71\n",
      "count(5)   60\n",
      "mean       14.10\n",
      "median     3\n",
      "mode       1\n",
      "std dev    50.26\n"
     ]
    }
   ],
   "source": [
    "for source in sources_compare.keys():\n",
    "    print(f\"--{source}--\")\n",
    "    stats_for_iterable(n_tauts_diff_no_zeros[source])"
   ]
  },
  {
   "cell_type": "code",
   "execution_count": 65,
   "metadata": {},
   "outputs": [
    {
     "name": "stdout",
     "output_type": "stream",
     "text": [
      "--GetV1TautomerEnumerator--\n",
      "count(-5)  0\n",
      "count(-4)  0\n",
      "count(-3)  0\n",
      "count(-2)  0\n",
      "count(-1)  0\n",
      "count(0)   0\n",
      "count(1)   78\n",
      "count(2)   13\n",
      "count(3)   14\n",
      "count(4)   11\n",
      "count(5)   2\n",
      "mean       7.09\n",
      "median     1\n",
      "mode       1\n",
      "std dev    28.63\n",
      "--NIH--\n",
      "count(-5)  0\n",
      "count(-4)  0\n",
      "count(-3)  0\n",
      "count(-2)  0\n",
      "count(-1)  0\n",
      "count(0)   0\n",
      "count(1)   0\n",
      "count(2)   0\n",
      "count(3)   0\n",
      "count(4)   0\n",
      "count(5)   0\n",
      "mean       417.67\n",
      "median     334\n",
      "mode       98\n",
      "std dev    368.69\n",
      "--CACTVS--\n",
      "count(-5)  0\n",
      "count(-4)  0\n",
      "count(-3)  0\n",
      "count(-2)  0\n",
      "count(-1)  0\n",
      "count(0)   0\n",
      "count(1)   0\n",
      "count(2)   0\n",
      "count(3)   0\n",
      "count(4)   0\n",
      "count(5)   0\n",
      "mean       355.00\n",
      "median     355\n",
      "mode       355\n",
      "std dev    -1.00\n",
      "--Expt--\n",
      "count(-5)  0\n",
      "count(-4)  0\n",
      "count(-3)  0\n",
      "count(-2)  0\n",
      "count(-1)  0\n",
      "count(0)   0\n",
      "count(1)   336\n",
      "count(2)   165\n",
      "count(3)   190\n",
      "count(4)   71\n",
      "count(5)   60\n",
      "mean       14.14\n",
      "median     3.0\n",
      "mode       1\n",
      "std dev    50.32\n"
     ]
    }
   ],
   "source": [
    "for source in sources_compare.keys():\n",
    "    print(f\"--{source}--\")\n",
    "    stats_for_iterable(n_tauts_diff_positive[source])"
   ]
  },
  {
   "cell_type": "code",
   "execution_count": 66,
   "metadata": {},
   "outputs": [
    {
     "name": "stdout",
     "output_type": "stream",
     "text": [
      "--GetV1TautomerEnumerator--\n",
      "count(-5)  16\n",
      "count(-4)  33\n",
      "count(-3)  32\n",
      "count(-2)  66\n",
      "count(-1)  88\n",
      "count(0)   0\n",
      "count(1)   0\n",
      "count(2)   0\n",
      "count(3)   0\n",
      "count(4)   0\n",
      "count(5)   0\n",
      "mean       -22.32\n",
      "median     -4.0\n",
      "mode       -1\n",
      "std dev    56.86\n",
      "--NIH--\n",
      "count(-5)  1\n",
      "count(-4)  2\n",
      "count(-3)  0\n",
      "count(-2)  0\n",
      "count(-1)  1\n",
      "count(0)   0\n",
      "count(1)   0\n",
      "count(2)   0\n",
      "count(3)   0\n",
      "count(4)   0\n",
      "count(5)   0\n",
      "mean       -3.50\n",
      "median     -4.0\n",
      "mode       -4\n",
      "std dev    1.73\n",
      "--CACTVS--\n",
      "count(-5)  0\n",
      "count(-4)  0\n",
      "count(-3)  0\n",
      "count(-2)  1\n",
      "count(-1)  0\n",
      "count(0)   0\n",
      "count(1)   0\n",
      "count(2)   0\n",
      "count(3)   0\n",
      "count(4)   0\n",
      "count(5)   0\n",
      "mean       -6.50\n",
      "median     -6.5\n",
      "mode       -2\n",
      "std dev    6.36\n",
      "--Expt--\n",
      "count(-5)  0\n",
      "count(-4)  0\n",
      "count(-3)  0\n",
      "count(-2)  0\n",
      "count(-1)  3\n",
      "count(0)   0\n",
      "count(1)   0\n",
      "count(2)   0\n",
      "count(3)   0\n",
      "count(4)   0\n",
      "count(5)   0\n",
      "mean       -1.00\n",
      "median     -1\n",
      "mode       -1\n",
      "std dev    0.00\n"
     ]
    }
   ],
   "source": [
    "for source in sources_compare.keys():\n",
    "    print(f\"--{source}--\")\n",
    "    stats_for_iterable(n_tauts_diff_negative[source])"
   ]
  },
  {
   "cell_type": "code",
   "execution_count": 67,
   "metadata": {},
   "outputs": [
    {
     "name": "stdout",
     "output_type": "stream",
     "text": [
      "dict_keys(['GetV1TautomerEnumerator', 'Expt'])\n"
     ]
    },
    {
     "data": {
      "image/png": "[encoded data removed]",
      "text/plain": [
       "<Figure size 640x480 with 1 Axes>"
      ]
     },
     "metadata": {},
     "output_type": "display_data"
    }
   ],
   "source": [
    "# Plot histogram of n_tauts_diff for sources which have data for all refs\n",
    "\n",
    "n_tauts_diff_all = {source: n_tauts_diff[source] for source in sources.keys() if sources[source] == \"all\"}\n",
    "print(n_tauts_diff_all.keys())\n",
    "# Set the x bounds (will go from negative to positive of this value)\n",
    "x_len = 17\n",
    "\n",
    "# Set the histogram bins so there will be a bin (bar) for each integer value\n",
    "bins = range(-1 * x_len, x_len, 1)\n",
    "\n",
    "# Calculate the percent of each data series (excluding delta=0) this plot covers\n",
    "\n",
    "# Create dictionaries to store values in; keys will be data sources\n",
    "n_tauts_diff_no_zeros_this_range = dict()\n",
    "non_zero_counts_this_range = dict()\n",
    "# for source in sources_compare.keys():\n",
    "for source in n_tauts_diff_all.keys():\n",
    "    n_tauts_diff_no_zeros_this_range.update(\n",
    "        {source: [diff for diff in n_tauts_diff_no_zeros[source] if abs(diff) <= x_len]}\n",
    "    )\n",
    "    non_zero_counts_this_range.update(\n",
    "        {\n",
    "            source: len(n_tauts_diff_no_zeros_this_range[source])\n",
    "            / len(n_tauts_diff_no_zeros[source])\n",
    "        }\n",
    "    )\n",
    "non_zero_counts_this_range_min = min(list(non_zero_counts_this_range.values()))\n",
    "\n",
    "# Set an accessible color palette from https://venngage.com/tools/accessible-color-palette-generator\n",
    "colors = [\n",
    "    \"#029356\",\n",
    "    # \"#009eb0\",\n",
    "    # \"#0073e6\",\n",
    "    \"#606ff3\",\n",
    "    # \"#9b8bf4\",\n",
    "    ]\n",
    "sns.set_palette(sns.color_palette(colors))\n",
    "\n",
    "# Create the histogram plot\n",
    "sns.histplot(n_tauts_diff_all, bins=bins)\n",
    "\n",
    "plt.ylabel(\"Frequency\")\n",
    "xlabel = \"Difference in # tautomers from RDKit v2 algorithm minus other source\"\n",
    "xlabel += f\"\\n(this range covers at least {non_zero_counts_this_range_min:.0%} of non-zero counts for each source)\"\n",
    "plt.xlabel(xlabel)\n",
    "\n",
    "# Limit the max y to avoid making smaller y values too hard to discern\n",
    "plt.ylim(0, 600)\n",
    "\n",
    "# Because this max y cuts off the y value for GetV1TautomerEnumerator at delta = 0, show the value as a label\n",
    "\n",
    "# Find the frequency at n_tauts_diff = 0\n",
    "frequency_at_zero = n_tauts_diff[\"GetV1TautomerEnumerator\"].count(0)\n",
    "\n",
    "# Annotate the plot with the frequency at n_tauts_diff = 0 for GetV1TautomerEnumerator\n",
    "plt.text(\n",
    "    1.5,\n",
    "    max(plt.ylim()) * 0.9,\n",
    "    f\"0 has frequency of {frequency_at_zero}\\nfor GetV1TautomerEnumerator\",\n",
    "    ha=\"left\",\n",
    "    va=\"bottom\",\n",
    "    color=colors[0],\n",
    ")\n",
    "\n",
    "plt.show()"
   ]
  },
  {
   "cell_type": "code",
   "execution_count": 68,
   "metadata": {},
   "outputs": [
    {
     "data": {
      "image/png": "[encoded data removed]",
      "text/plain": [
       "<Figure size 1200x600 with 1 Axes>"
      ]
     },
     "metadata": {},
     "output_type": "display_data"
    }
   ],
   "source": [
    "# Plot histogram of n_tauts_diff for sources which do not have data for all refs, because each molecule is run manually\n",
    "n_tauts_diff_manual = {source: n_tauts_diff[source] for source in sources.keys() if sources[source] == \"manual\"}\n",
    "\n",
    "# Set the histogram bins so there will be a bin (bar) for each integer value\n",
    "combined_set = set(item for sublist in n_tauts_diff_manual.values() for item in sublist)\n",
    "x_min, x_max = min(combined_set), max(combined_set)\n",
    "\n",
    "bins = range(x_min, x_max+1, 1)\n",
    "\n",
    "colors = [\n",
    "    # \"#029356\",\n",
    "    \"#009eb0\",\n",
    "    # \"#0073e6\",\n",
    "    # \"#606ff3\",\n",
    "    \"#9b8bf4\",\n",
    "    ]\n",
    "\n",
    "plt.figure(figsize=(12, 6))  # Adjust the width and height as needed\n",
    "sns.histplot(\n",
    "    n_tauts_diff_manual, \n",
    "    bins=bins,\n",
    "    )\n",
    "sns.set_palette(sns.color_palette(colors))\n",
    "\n",
    "# Set the x bounds (will go from negative to positive of this value)\n",
    "\n",
    "plt.ylabel(\"Frequency\")\n",
    "xlabel = f\"Difference in # tautomers from RDKit v2 algorithm minus other source\"\n",
    "plt.xlabel(xlabel)\n",
    "\n",
    "# Get the current axis from the plot\n",
    "ax = plt.gca()\n",
    "\n",
    "# Set y-axis ticks to be at only integer values\n",
    "ax.yaxis.set_major_locator(MultipleLocator(1))\n",
    "\n",
    "plt.show()"
   ]
  },
  {
   "cell_type": "code",
   "execution_count": 69,
   "metadata": {},
   "outputs": [],
   "source": [
    "def align_ordered_iterables(\n",
    "        ordered_iterable1: list|tuple,\n",
    "        ordered_iterable2: list|tuple,\n",
    "        filler = \"\",\n",
    ") -> Iterable:\n",
    "    \"\"\"Align the second ordered iterable under the first (in columns), using the filler for items in list1 not in list2, \n",
    "    for example:\n",
    "    \n",
    "    input:\n",
    "    list1: a,  c,  b\n",
    "    list2: a,  f,  c,  e,  d\n",
    "\n",
    "    output:\n",
    "    list2: a,  c, \"\",  f,  e,  d\n",
    "\n",
    "    Note that no other ordering is applied to either input iterable, \n",
    "    and items in the second which are not in the first will be kept in their input order.\n",
    "    If you want them to be ordered in some way, for example alphabetically, order them before calling this function.\n",
    "\n",
    "    :param list1: Template list\n",
    "    :param list2: List to be aligned under the template list\n",
    "    :param filler: The filler entry to use to provide an \"empty\" column to align list2 under list1; default is empty string but can be a number or anything else\n",
    "    :returns: Aligned list2 such that its entries will line up under the same values in list1, or be placed to the right if they are not in list1\n",
    "    \"\"\"\n",
    "    # If either list has no elements, return the initial ordered_iterable2\n",
    "    if any([len(ordered_iterable1)==0, len(ordered_iterable2)==0]):\n",
    "        return ordered_iterable2   \n",
    "    \n",
    "    # Determine index for each element in ordered_iterable2:\n",
    "    ordered_iterable2_indices = []\n",
    "    ordered_iterable2_index_max = len(ordered_iterable1) - 1\n",
    "    for ordered_iterable2_item in ordered_iterable2:\n",
    "        try:\n",
    "            ordered_iterable2_index = ordered_iterable1.index(ordered_iterable2_item)\n",
    "        # If item from input 2 isn't in input 1, append item to the (growing) index list\n",
    "        except ValueError:\n",
    "            ordered_iterable2_index_max += 1\n",
    "            ordered_iterable2_index = ordered_iterable2_index_max\n",
    "        # If get an AttributeError, tell user that have a bad data type\n",
    "        except AttributeError:\n",
    "            raise AttributeError(f\"The first iterable input must be a list or tuple, not a set or dictionary; it is {ordered_iterable1}, which is a {type(ordered_iterable1).__name__}\")\n",
    "        ordered_iterable2_indices.append(ordered_iterable2_index)\n",
    "\n",
    "    # Create \"empty\" (all filler) ordered_iterable2 aligned--may be longer than ordered_iterable2 due to blank spaces\n",
    "    ordered_iterable2_aligned = [filler] * (max(ordered_iterable2_indices) + 1)\n",
    "\n",
    "    # Slot in items from ordered_iterable2 to overwrite filler entries\n",
    "    for i, ordered_iterable2_col in enumerate(ordered_iterable2_indices):\n",
    "        try:\n",
    "            ordered_iterable2_aligned[ordered_iterable2_col] = ordered_iterable2[i]\n",
    "        except (TypeError, KeyError):\n",
    "                raise TypeError(f\"The second iterable input must be a list or tuple, not a set or dictionary; it is {ordered_iterable2}, which is a {type(ordered_iterable2).__name__}\")\n",
    "\n",
    "    return ordered_iterable2_aligned"
   ]
  },
  {
   "cell_type": "code",
   "execution_count": 70,
   "metadata": {},
   "outputs": [
    {
     "data": {
      "text/html": [
       "<div><style>\n",
       ".dataframe > thead > tr,\n",
       ".dataframe > tbody > tr {\n",
       "  text-align: right;\n",
       "  white-space: pre-wrap;\n",
       "}\n",
       "</style>\n",
       "<small>shape: (3, 28)</small><table border=\"1\" class=\"dataframe\"><thead><tr><th>Ref</th><th>mol</th><th>flat_tautsExpt</th><th>tautsTautomerEnumerator</th><th>tautsGetV1TautomerEnumerator</th><th>tautCACTVS</th><th>tautsCACTVS</th><th>tautsNIH</th><th>flat_tautsTautomerEnumerator</th><th>flat_tautsGetV1TautomerEnumerator</th><th>flat_tautsCACTVS</th><th>flat_tautsNIH</th><th>InChI_flat_tautsTautomerEnumerator</th><th>n_InChI_flat_tautsTautomerEnumerator</th><th>n_tautsExpt</th><th>n_tautsTautomerEnumerator</th><th>n_tautsGetV1TautomerEnumerator</th><th>n_tautsCACTVS</th><th>n_tautsNIH</th><th>tauts_sameGetV1TautomerEnumerator</th><th>n_tauts_diffGetV1TautomerEnumerator</th><th>tauts_sameNIH</th><th>n_tauts_diffNIH</th><th>tauts_sameCACTVS</th><th>n_tauts_diffCACTVS</th><th>tauts_sameExpt</th><th>n_tauts_diffExpt</th><th>n_tauts_diff_InChI</th></tr><tr><td>i64</td><td>list[extension]</td><td>list[str]</td><td>list[list[str]]</td><td>list[list[str]]</td><td>list[list[str]]</td><td>list[list[str]]</td><td>list[list[str]]</td><td>list[str]</td><td>list[str]</td><td>list[str]</td><td>list[str]</td><td>list[str]</td><td>u32</td><td>u32</td><td>u32</td><td>u32</td><td>u32</td><td>u32</td><td>bool</td><td>i64</td><td>bool</td><td>i64</td><td>bool</td><td>i64</td><td>bool</td><td>i64</td><td>i64</td></tr></thead><tbody><tr><td>1704</td><td>[&lt;rdkit.Chem.rdchem.Mol object at 0x15e38b7d0&gt;, &lt;rdkit.Chem.rdchem.Mol object at 0x15e360ba0&gt;]</td><td>[&quot;C=c1c(C=O)cc(C)cc1=CO&quot;, &quot;Cc1cc(C=O)c(C)c(C=O)c1&quot;]</td><td>[[&quot;C=C1C(C=O)=CC(C)=CC1C=O&quot;, &quot;C=c1c(C=O)cc(C)cc1=CO&quot;], [&quot;Cc1cc(C=O)c(C)c(C=O)c1&quot;]]</td><td>[[&quot;C=c1c(C=O)cc(C)cc1=CO&quot;], [&quot;Cc1cc(C=O)c(C)c(C=O)c1&quot;]]</td><td>[[&quot;C=C\\1C(=CC(=CC1=C\\O)C)C=O&quot;], [&quot;CC1=CC(=C(C(=C1)C=O)C)C=O&quot;, &quot;CC1=CC(C(C(=C1)C=O)=C)C=O&quot;, … &quot;CC1=CC(C(C(=C1)C=O)=C)=CO&quot;]]</td><td>[[&quot;C=c1c(C=O)cc(C)c/c1=C\\O&quot;], [&quot;C=C1C(C=O)=CC(C)=CC1C=O&quot;, &quot;Cc1cc(C=O)c(C)c(C=O)c1&quot;, … &quot;C=c1c(C=O)cc(C)cc1=CO&quot;]]</td><td>[[&quot;C=C1C(C=O)=CC(C)=CC1C=O&quot;, &quot;C=C1C(C=O)=CC(C)C=C1C=O&quot;, &quot;Cc1cc(C=O)c(C)c(C=O)c1&quot;], [&quot;C=C1C(C=O)=CC(C)C=C1C=O&quot;, &quot;C=c1c(C=O)cc(C)cc1=CO&quot;]]</td><td>[&quot;C=C1C(C=O)=CC(C)=CC1C=O&quot;, &quot;Cc1cc(C=O)c(C)c(C=O)c1&quot;, &quot;C=c1c(C=O)cc(C)cc1=CO&quot;]</td><td>[&quot;Cc1cc(C=O)c(C)c(C=O)c1&quot;, &quot;C=c1c(C=O)cc(C)cc1=CO&quot;]</td><td>[&quot;C=C1C(C=O)=CC(C)=CC1C=O&quot;, &quot;Cc1cc(C=O)c(C)c(C=O)c1&quot;, … &quot;C=c1c(C=O)cc(C)cc1=CO&quot;]</td><td>[&quot;C=C1C(C=O)=CC(C)=CC1C=O&quot;, &quot;C=C1C(C=O)=CC(C)C=C1C=O&quot;, … &quot;C=c1c(C=O)cc(C)cc1=CO&quot;]</td><td>[&quot;InChI=1S/C10H10O2/c1-7-3-9(5-11)8(2)10(4-7)6-12/h3-6,9H,2H2,1H3&quot;, &quot;InChI=1S/C10H10O2/c1-7-3-9(5-11)8(2)10(4-7)6-12/h3-6,11H,2H2,1H3&quot;, &quot;InChI=1S/C10H10O2/c1-7-3-9(5-11)8(2)10(4-7)6-12/h3-6H,1-2H3&quot;]</td><td>3</td><td>2</td><td>3</td><td>2</td><td>5</td><td>4</td><td>false</td><td>1</td><td>false</td><td>-1</td><td>false</td><td>-2</td><td>false</td><td>1</td><td>0</td></tr><tr><td>1512</td><td>[&lt;rdkit.Chem.rdchem.Mol object at 0x15e360510&gt;, &lt;rdkit.Chem.rdchem.Mol object at 0x15e38ab20&gt;]</td><td>[&quot;CCP(CC)(=Nc1cc(C(c2ccccc2)(c2ccccc2)c2ccccc2)cc(C(C)(C)C)c1O)c1ccccc1&quot;, &quot;CCP1(CC)(c2ccccc2)Nc2cc(C(c3ccccc3)(c3ccccc3)c3ccccc3)cc(C(C)(C)C)c2O1&quot;]</td><td>[[&quot;CCP(CC)(=NC1C=C(C(c2ccccc2)(c2ccccc2)c2ccccc2)C=C(C(C)(C)C)C1=O)c1ccccc1&quot;, &quot;CCP(CC)(=Nc1cc(C(c2ccccc2)(c2ccccc2)c2ccccc2)cc(C(C)(C)C)c1O)c1ccccc1&quot;], [&quot;CCP1(CC)(c2ccccc2)Nc2cc(C(c3ccccc3)(c3ccccc3)c3ccccc3)cc(C(C)(C)C)c2O1&quot;]]</td><td>[[&quot;CCP(CC)(=Nc1cc(C(c2ccccc2)(c2ccccc2)c2ccccc2)cc(C(C)(C)C)c1O)c1ccccc1&quot;], [&quot;CCP1(CC)(c2ccccc2)Nc2cc(C(c3ccccc3)(c3ccccc3)c3ccccc3)cc(C(C)(C)C)c2O1&quot;]]</td><td>[[&quot;CC[P](CC)(=NC1=C(C(=CC(=C1)C(C2=CC=CC=C2)(C3=CC=CC=C3)C4=CC=CC=C4)C(C)(C)C)O)C5=CC=CC=C5&quot;], [&quot;CC[P]6(CC)(C1=CC=CC=C1)NC2=C(C(=CC(=C2)C(C3=CC=CC=C3)(C4=CC=CC=C4)C5=CC=CC=C5)C(C)(C)C)O6&quot;, &quot;CC[P]6(CC)(C1=CC=CC=C1)NC2=C(C(=CC(=C2)C(C3=CC=CC=C3)(C4=CC=CC=C4)C5=CC=CC=C5)C(C)(C)C)O6&quot;, … &quot;CC=[P](CC)(C1=CC=CC=C1)N=C2CC(=CC(=C2O)C(C)(C)C)C(C3=CC=CC=C3)(C4=CC=CC=C4)C5=CC=CC=C5&quot;]]</td><td>[[&quot;CCP(CC)(=Nc1cc(C(c2ccccc2)(c2ccccc2)c2ccccc2)cc(C(C)(C)C)c1O)c1ccccc1&quot;], [&quot;CCP(CC)(=NC1=CC(C(c2ccccc2)(c2ccccc2)c2ccccc2)C=C(C(C)(C)C)C1=O)c1ccccc1&quot;, &quot;CC=P(CC)(N=C1CC(C(c2ccccc2)(c2ccccc2)c2ccccc2)C=C(C(C)(C)C)C1=O)c1ccccc1&quot;, … &quot;CC=P(CC)(NC1=CC(C(c2ccccc2)(c2ccccc2)c2ccccc2)C=C(C(C)(C)C)C1=O)c1ccccc1&quot;]]</td><td>[[&quot;CC=P(CC)(Nc1cc(C(c2ccccc2)(c2ccccc2)c2ccccc2)cc(C(C)(C)C)c1O)c1ccccc1&quot;, &quot;CCP(CC)(=NC1C=C(C(c2ccccc2)(c2ccccc2)c2ccccc2)C=C(C(C)(C)C)C1=O)c1ccccc1&quot;, … &quot;CCP1(CC)(c2ccccc2)Nc2cc(C(c3ccccc3)(c3ccccc3)c3ccccc3)cc(C(C)(C)C)c2O1&quot;], [&quot;CCP(CC)(=Nc1cc(C(c2ccccc2)(c2ccccc2)c2ccccc2)cc(C(C)(C)C)c1O)c1ccccc1&quot;, &quot;CCP1(CC)(c2ccccc2)N=C2C=C(C(c3ccccc3)(c3ccccc3)c3ccccc3)C=C(C(C)(C)C)C2O1&quot;, &quot;CCP1(CC)(c2ccccc2)N=C2CC(C(c3ccccc3)(c3ccccc3)c3ccccc3)=CC(C(C)(C)C)=C2O1&quot;]]</td><td>[&quot;CCP(CC)(=NC1C=C(C(c2ccccc2)(c2ccccc2)c2ccccc2)C=C(C(C)(C)C)C1=O)c1ccccc1&quot;, &quot;CCP1(CC)(c2ccccc2)Nc2cc(C(c3ccccc3)(c3ccccc3)c3ccccc3)cc(C(C)(C)C)c2O1&quot;, &quot;CCP(CC)(=Nc1cc(C(c2ccccc2)(c2ccccc2)c2ccccc2)cc(C(C)(C)C)c1O)c1ccccc1&quot;]</td><td>[&quot;CCP1(CC)(c2ccccc2)Nc2cc(C(c3ccccc3)(c3ccccc3)c3ccccc3)cc(C(C)(C)C)c2O1&quot;, &quot;CCP(CC)(=Nc1cc(C(c2ccccc2)(c2ccccc2)c2ccccc2)cc(C(C)(C)C)c1O)c1ccccc1&quot;]</td><td>[&quot;CCP(CC)(=NC1=CC(C(c2ccccc2)(c2ccccc2)c2ccccc2)C=C(C(C)(C)C)C1=O)c1ccccc1&quot;, &quot;CC=P(CC)(NC1=CC(C(c2ccccc2)(c2ccccc2)c2ccccc2)C=C(C(C)(C)C)C1=O)c1ccccc1&quot;, … &quot;CCP1(CC)(c2ccccc2)Nc2cc(C(c3ccccc3)(c3ccccc3)c3ccccc3)cc(C(C)(C)C)c2O1&quot;]</td><td>[&quot;CC=P(CC)(Nc1cc(C(c2ccccc2)(c2ccccc2)c2ccccc2)cc(C(C)(C)C)c1O)c1ccccc1&quot;, &quot;CCP1(CC)(c2ccccc2)N=C2C=C(C(c3ccccc3)(c3ccccc3)c3ccccc3)C=C(C(C)(C)C)C2O1&quot;, … &quot;CCP1(CC)(c2ccccc2)Nc2cc(C(c3ccccc3)(c3ccccc3)c3ccccc3)cc(C(C)(C)C)c2O1&quot;]</td><td>[&quot;InChI=1S/C39H42NOP/c1-6-42(7-2,34-26-18-11-19-27-34)40-36-29-33(28-35(37(36)41)38(3,4)5)39(30-20-12-8-13-21-30,31-22-14-9-15-23-31)32-24-16-10-17-25-32/h8-29,41H,6-7H2,1-5H3&quot;, &quot;InChI=1S/C39H42NOP/c1-6-42(7-2,34-26-18-11-19-27-34)40-36-29-33(28-35(37(36)41-42)38(3,4)5)39(30-20-12-8-13-21-30,31-22-14-9-15-23-31)32-24-16-10-17-25-32/h8-29,40H,6-7H2,1-5H3&quot;, &quot;InChI=1S/C39H42NOP/c1-6-42(7-2,34-26-18-11-19-27-34)40-36-29-33(28-35(37(36)41)38(3,4)5)39(30-20-12-8-13-21-30,31-22-14-9-15-23-31)32-24-16-10-17-25-32/h8-29,36H,6-7H2,1-5H3&quot;]</td><td>3</td><td>2</td><td>3</td><td>2</td><td>14</td><td>8</td><td>false</td><td>1</td><td>false</td><td>-5</td><td>false</td><td>-11</td><td>false</td><td>1</td><td>0</td></tr><tr><td>890</td><td>[&lt;rdkit.Chem.rdchem.Mol object at 0x15e303450&gt;, &lt;rdkit.Chem.rdchem.Mol object at 0x15e374dd0&gt;]</td><td>[&quot;COc1c(O)c2c(=O)cc(OC)c3c4c(OC)cc(=O)c5c(O)c(OC)c(C[C@H](C)OC(=O)c6ccc(O)cc6)c(c(c1C[C@@H](C)OC(=O)c1ccccc1)c23)c54&quot;, &quot;COc1c(C[C@@H](C)OC(=O)c2ccccc2)c2c3c(C[C@H](C)OC(=O)c4ccc(O)cc4)c(OC)c(=O)c4c(O)cc(OC)c(c5c(OC)cc(O)c(c1=O)c52)c43&quot;]</td><td>[[&quot;COC1=c2c3c(c4c5c(c(O)cc(OC)c25)C(=O)C(OC)C4=C[C@@H](C)OC(=O)c2ccccc2)C(=C[C@H](C)OC(O)=C2C=CC(=O)C=C2)C(OC)C(=O)C=3C(=O)C1&quot;, &quot;COC1=CC(=O)C2=c3c1c1c4c(c3C(=C[C@H](C)OC(=O)c3ccc(O)cc3)C(OC)C2=O)C(C[C@@H](C)OC(=O)c2ccccc2)C(OC)=C(O)C=4C(=O)C=C1OC&quot;, … &quot;COC1=CC(=O)C2=c3c1c1c4c(c3C(=C[C@@H](C)OC(=O)c3ccccc3)C(OC)C2=O)C(C[C@H](C)OC(=O)c2ccc(O)cc2)C(OC)C(=O)C=4C(=O)C=C1OC&quot;], [&quot;COC1=c2c3c(c4c5c(c(O)cc(OC)c25)C(=O)C(OC)C4=C[C@@H](C)OC(=O)c2ccccc2)C(=C[C@H](C)OC(O)=C2C=CC(=O)C=C2)C(OC)C(=O)C=3C(=O)C1&quot;, &quot;COc1cc(O)c2c3c(c4c5c(c(O)cc(OC)c5c13)C(=O)C(OC)C4=C[C@H](C)OC(=O)C1=CCC(=O)C=C1)C(=C[C@@H](C)OC(=O)c1ccccc1)C(OC)C2=O&quot;, … &quot;COC1=c2c3c(OC)cc(O)c4c3c(c3c(=C[C@@H](C)OC(=O)c5ccccc5)c(OC)c(O)c(c23)C(=O)C1)C(=C[C@H](C)OC(=O)c1ccc(O)cc1)C(OC)C4=O&quot;]]</td><td>[[&quot;COc1c(C[C@H](C)OC(=O)C2=CCC(=O)C=C2)c2c3c(c1=O)C(=O)CC(OC)c3c1c(OC)cc(=O)c3c(O)c(OC)c(=C[C@@H](C)OC(=O)c4ccccc4)c2c13&quot;, &quot;COc1c(C[C@H](C)OC(=O)C2=CCC(=O)C=C2)c2c3c(c1=O)C(O)=CC(OC)c3c1c(OC)cc(=O)c3c(O)c(OC)c(=C[C@@H](C)OC(=O)c4ccccc4)c2c13&quot;, … &quot;COC1=CC(=O)c2c(O)c(OC)c(=C[C@@H](C)OC(=O)c3ccccc3)c3c2c1c1c2c(c(O)c(OC)c(=C[C@H](C)OC(=O)C4C=CC(=O)C=C4)c23)C(O)=CC1OC&quot;], [&quot;COc1c(C[C@H](C)OC(=O)C2=CCC(=O)C=C2)c2c3c(c1=O)C(=O)CC(OC)c3c1c(OC)cc(=O)c3c(O)c(OC)c(=C[C@@H](C)OC(=O)c4ccccc4)c2c13&quot;, &quot;COc1c(C[C@H](C)OC(=O)C2=CCC(=O)C=C2)c2c3c(c1=O)C(O)=CC(OC)c3c1c(OC)cc(=O)c3c(O)c(OC)c(=C[C@@H](C)OC(=O)c4ccccc4)c2c13&quot;, … &quot;COC1=CC(=O)c2c(O)c(OC)c(=C[C@@H](C)OC(=O)c3ccccc3)c3c2c1c1c2c(c(O)c(OC)c(=C[C@H](C)OC(=O)C4C=CC(=O)C=C4)c23)C(O)=CC1OC&quot;]]</td><td>[[&quot;COC2C(O)C4C(=O)CC(OC)C5C6C(OC)CC(=O)C7C(O)C(OC)C(C[C@H](C)OC(=O)C1CCC(O)CC1)C(C(C2C[C@@H](C)OC(=O)C3CCCCC3)C45)C67&quot;, &quot;COC2C(O)C4C(=O)CC(OC)C5C6C(OC)CC(=C7C(O)C(OC)C(C[C@H](C)OC(=O)C1CCC(O)CC1)C(C(C2C[C@@H](C)OC(=O)C3CCCCC3)C45)C67)O&quot;, … &quot;COC2C(O)C4=C(O)CC(OC)C5C6C(OC)C=C(O)C7C(O)C(OC)C(C[C@H](C)OC(=O)C1CCC(O)CC1)C(C(C2C[C@@H](C)OC(=O)C3CCCCC3)C45)C67&quot;], [&quot;COC3C(C[C@@H](C)OC(=O)C1CCCCC1)C4C6C(C[C@H](C)OC(=O)C2CCC(O)CC2)C(OC)C(=O)C7C(O)CC(OC)C(C5C(OC)CC(O)C(C3=O)C45)C67&quot;]]</td><td>[[&quot;COC1C=C(O)C2C(O)C(OC)C(C[C@@H](C)OC(=O)C3CCCCC3)C3C4C(C[C@H](C)OC(=O)C5CCC(O)CC5)C(OC)C(O)C5C(=O)CC(OC)C(C1C23)C54&quot;, &quot;COC1C=C(O)C2C(O)C(OC)C(C[C@@H](C)OC(=O)C3CCCCC3)C3C4C(C[C@H](C)OC(=O)C5CCC(O)CC5)C(OC)C(O)C5C(O)=CC(OC)C(C1C23)C54&quot;, … &quot;COC1CC(O)=C2C(O)C(OC)C(C[C@H](C)OC(=O)C3CCC(O)CC3)C3C2C1C1C(OC)CC(=O)C2C(O)C(OC)C(C[C@@H](C)OC(=O)C4CCCCC4)C3C21&quot;], [&quot;COC1CC(O)C2C(=O)C(OC)C(C[C@@H](C)OC(=O)C3CCCCC3)C3C4C(C[C@H](C)OC(=O)C5CCC(O)CC5)C(OC)C(=O)C5C(O)CC(OC)C(C1C23)C54&quot;]]</td><td>[[&quot;COC1=CC(=O)C2C(=O)C(OC)=C(C[C@@H](C)OC(=O)c3ccccc3)c3c2c1c1c2c(c(O)c(OC)c(C[C@H](C)OC(=O)c4ccc(O)cc4)c32)C(=O)C=C1OC&quot;, &quot;COC1=CC(=O)c2c(O)c(OC)c(C[C@H](C)OC(=O)c3ccc(O)cc3)c3c2c1c1c(OC)cc(O)c2c(O)c(OC)c(=C[C@@H](C)OC(=O)c4ccccc4)c3c21&quot;, … &quot;COc1c(O)c2c(=O)cc(OC)c3c4c(OC)cc(O)c5c(=O)c(OC)c(C[C@@H](C)OC(=O)c6ccccc6)c(c(c1C[C@H](C)OC(=O)c1ccc(O)cc1)c23)c54&quot;], [&quot;COC1=C(C[C@@H](C)OC(=O)c2ccccc2)c2c3c(c(O)cc(OC)c3c3c(OC)cc(O)c4c(O)c(OC)c(=C[C@H](C)OC(=O)c5ccc(O)cc5)c2c43)C1=O&quot;, &quot;COc1c(O)c2c(O)cc(OC)c3c4c(OC)cc(O)c5c(O)c(OC)c(=C[C@H](C)OC(=O)c6ccc(O)cc6)c(c(c1=C[C@@H](C)OC(=O)c1ccccc1)c23)c54&quot;, … &quot;COc1c(O)c2c(=O)cc(OC)c3c4c(OC)cc(O)c5c(=O)c(OC)c(C[C@@H](C)OC(=O)c6ccccc6)c(c(c1C[C@H](C)OC(=O)c1ccc(O)cc1)c23)c54&quot;]]</td><td>[&quot;COC1=c2c3c(c4c5c(c(O)cc(OC)c25)C(=O)C(OC)C4=C[C@@H](C)OC(=O)c2ccccc2)C(=C[C@H](C)OC(O)=C2C=CC(=O)C=C2)C(OC)C(=O)C=3C(=O)C1&quot;, &quot;COC1=CC(=O)C2=c3c1c1c4c(c3C(=C[C@H](C)OC(=O)c3ccc(O)cc3)C(OC)C2=O)C(C[C@@H](C)OC(=O)c2ccccc2)C(OC)=C(O)C=4C(=O)C=C1OC&quot;, … &quot;COC1=CC(=O)C2=c3c1c1c4c(c3C(=C[C@@H](C)OC(=O)c3ccccc3)C(OC)C2=O)C(C[C@H](C)OC(=O)c2ccc(O)cc2)C(OC)C(=O)C=4C(=O)C=C1OC&quot;]</td><td>[&quot;COc1c(C[C@H](C)OC(O)=C2C=CC(=O)C=C2)c2c3c(c1=O)C(O)=CC(OC)c3c1c(OC)cc(=O)c3c(O)c(OC)c(=C[C@@H](C)OC(=O)c4ccccc4)c2c13&quot;, &quot;COc1c(C[C@H](C)OC(=O)C2=CCC(=O)C=C2)c2c3c(c1=O)C(=O)CC(OC)c3c1c(OC)cc(=O)c3c(O)c(OC)c(=C[C@@H](C)OC(=O)c4ccccc4)c2c13&quot;, … &quot;COC1=CC(=O)c2c(O)c(OC)c(=C[C@@H](C)OC(=O)c3ccccc3)c3c2c1c1c2c(c(O)c(OC)c(=C[C@H](C)OC(=O)C4C=CC(=O)C=C4)c23)C(O)=CC1OC&quot;]</td><td>[&quot;COC1C=C(O)C2C(O)C(OC)C(C[C@@H](C)OC(=O)C3CCCCC3)C3C4C(C[C@H](C)OC(=O)C5CCC(O)CC5)C(OC)C(O)C5C(=O)CC(OC)C(C1C23)C54&quot;, &quot;COC1C=C(O)C2C(O)C(OC)C(C[C@@H](C)OC(=O)C3CCCCC3)C3C4C(C[C@H](C)OC(=O)C5CCC(O)CC5)C(OC)C(O)C5C(O)=CC(OC)C(C1C23)C54&quot;, … &quot;COC1CC(O)=C2C(O)C(OC)C(C[C@H](C)OC(=O)C3CCC(O)CC3)C3C2C1C1C(OC)CC(=O)C2C(O)C(OC)C(C[C@@H](C)OC(=O)C4CCCCC4)C3C21&quot;]</td><td>[&quot;COC1=CC(=O)C2C(=O)C(OC)=C(C[C@@H](C)OC(=O)c3ccccc3)c3c2c1c1c(OC)cc(O)c2c1c3C(C[C@H](C)OC(=O)c1ccc(O)cc1)=C(OC)C2=O&quot;, &quot;COC1=CC(=O)C2=C3C1=C1C(OC)=CC(O)=C4C(=O)C(OC)=C(C[C@@H](C)OC(=O)c5ccccc5)C(=C3C(C[C@H](C)OC(O)=C3C=CC(=O)C=C3)=C(OC)C2=O)C41&quot;, … &quot;COC1=CC(=O)C2=C3C1=C1C(OC)=CC(O)=C4C(=O)C(OC)=C(C[C@H](C)OC(O)=C5C=CC(=O)C=C5)C(=C3C(C[C@@H](C)OC(=O)c3ccccc3)=C(OC)C2=O)C41&quot;]</td><td>[&quot;InChI=1S/C44H38O13/c1-20(56-43(50)22-10-8-7-9-11-22)16-25-31-32-26(17-21(2)57-44(51)23-12-14-24(45)15-13-23)42(55-6)40(49)34-28(47)19-30(53-4)36(38(32)34)35-29(52-3)18-27(46)33(37(31)35)39(48)41(25)54-5/h7-15,18-21,41,49,51H,16-17H2,1-6H3/t20-,21+,41?/m1/s1&quot;, &quot;InChI=1S/C44H38O13/c1-20(56-43(50)22-10-8-7-9-11-22)16-25-31-32-26(17-21(2)57-44(51)23-12-14-24(45)15-13-23)42(55-6)40(49)34-28(47)19-30(53-4)36(38(32)34)35-29(52-3)18-27(46)33(37(31)35)39(48)41(25)54-5/h7-15,17,19-21,23,34,49H,16,18H2,1-6H3/t20-,21+,34?/m1/s1&quot;, … &quot;InChI=1S/C44H38O13/c1-20(56-43(50)22-10-8-7-9-11-22)16-25-31-32-26(17-21(2)57-44(51)23-12-14-24(45)15-13-23)42(55-6)40(49)34-28(47)19-30(53-4)36(38(32)34)35-29(52-3)18-27(46)33(37(31)35)39(48)41(25)54-5/h7-18,20-21,46,48-49,51H,19H2,1-6H3/t20-,21+/m1/s1&quot;]</td><td>365</td><td>2</td><td>365</td><td>60</td><td>10</td><td>31</td><td>false</td><td>305</td><td>false</td><td>334</td><td>false</td><td>355</td><td>false</td><td>363</td><td>0</td></tr></tbody></table></div>"
      ],
      "text/plain": [
       "shape: (3, 28)\n",
       "┌──────┬────────────┬────────────┬────────────┬───┬────────────┬───────────┬───────────┬───────────┐\n",
       "│ Ref  ┆ mol        ┆ flat_tauts ┆ tautsTauto ┆ … ┆ n_tauts_di ┆ tauts_sam ┆ n_tauts_d ┆ n_tauts_d │\n",
       "│ ---  ┆ ---        ┆ Expt       ┆ merEnumera ┆   ┆ ffCACTVS   ┆ eExpt     ┆ iffExpt   ┆ iff_InChI │\n",
       "│ i64  ┆ list[exten ┆ ---        ┆ tor        ┆   ┆ ---        ┆ ---       ┆ ---       ┆ ---       │\n",
       "│      ┆ sion]      ┆ list[str]  ┆ ---        ┆   ┆ i64        ┆ bool      ┆ i64       ┆ i64       │\n",
       "│      ┆            ┆            ┆ list[list[ ┆   ┆            ┆           ┆           ┆           │\n",
       "│      ┆            ┆            ┆ str]]      ┆   ┆            ┆           ┆           ┆           │\n",
       "╞══════╪════════════╪════════════╪════════════╪═══╪════════════╪═══════════╪═══════════╪═══════════╡\n",
       "│ 1704 ┆ [<rdkit.Ch ┆ [\"C=c1c(C= ┆ [[\"C=C1C(C ┆ … ┆ -2         ┆ false     ┆ 1         ┆ 0         │\n",
       "│      ┆ em.rdchem. ┆ O)cc(C)cc1 ┆ =O)=CC(C)= ┆   ┆            ┆           ┆           ┆           │\n",
       "│      ┆ Mol object ┆ =CO\",      ┆ CC1C=O\",   ┆   ┆            ┆           ┆           ┆           │\n",
       "│      ┆ a…         ┆ \"Cc1cc…    ┆ \"C=…       ┆   ┆            ┆           ┆           ┆           │\n",
       "│ 1512 ┆ [<rdkit.Ch ┆ [\"CCP(CC)( ┆ [[\"CCP(CC) ┆ … ┆ -11        ┆ false     ┆ 1         ┆ 0         │\n",
       "│      ┆ em.rdchem. ┆ =Nc1cc(C(c ┆ (=NC1C=C(C ┆   ┆            ┆           ┆           ┆           │\n",
       "│      ┆ Mol object ┆ 2ccccc2)(c ┆ (c2ccccc2) ┆   ┆            ┆           ┆           ┆           │\n",
       "│      ┆ a…         ┆ 2c…        ┆ (c…        ┆   ┆            ┆           ┆           ┆           │\n",
       "│ 890  ┆ [<rdkit.Ch ┆ [\"COc1c(O) ┆ [[\"COC1=c2 ┆ … ┆ 355        ┆ false     ┆ 363       ┆ 0         │\n",
       "│      ┆ em.rdchem. ┆ c2c(=O)cc( ┆ c3c(c4c5c( ┆   ┆            ┆           ┆           ┆           │\n",
       "│      ┆ Mol object ┆ OC)c3c4c(O ┆ c(O)cc(OC) ┆   ┆            ┆           ┆           ┆           │\n",
       "│      ┆ a…         ┆ C)…        ┆ c2…        ┆   ┆            ┆           ┆           ┆           │\n",
       "└──────┴────────────┴────────────┴────────────┴───┴────────────┴───────────┴───────────┴───────────┘"
      ]
     },
     "execution_count": 70,
     "metadata": {},
     "output_type": "execute_result"
    }
   ],
   "source": [
    "df_melted_aggregated_different.filter(pl.col(\"Ref\").is_in([1704, 1512, 890]))"
   ]
  },
  {
   "cell_type": "code",
   "execution_count": 71,
   "metadata": {},
   "outputs": [
    {
     "data": {
      "text/html": [
       "<div><style>\n",
       ".dataframe > thead > tr,\n",
       ".dataframe > tbody > tr {\n",
       "  text-align: right;\n",
       "  white-space: pre-wrap;\n",
       "}\n",
       "</style>\n",
       "<small>shape: (1, 28)</small><table border=\"1\" class=\"dataframe\"><thead><tr><th>Ref</th><th>mol</th><th>flat_tautsExpt</th><th>tautsTautomerEnumerator</th><th>tautsGetV1TautomerEnumerator</th><th>tautCACTVS</th><th>tautsCACTVS</th><th>tautsNIH</th><th>flat_tautsTautomerEnumerator</th><th>flat_tautsGetV1TautomerEnumerator</th><th>flat_tautsCACTVS</th><th>flat_tautsNIH</th><th>InChI_flat_tautsTautomerEnumerator</th><th>n_InChI_flat_tautsTautomerEnumerator</th><th>n_tautsExpt</th><th>n_tautsTautomerEnumerator</th><th>n_tautsGetV1TautomerEnumerator</th><th>n_tautsCACTVS</th><th>n_tautsNIH</th><th>tauts_sameGetV1TautomerEnumerator</th><th>n_tauts_diffGetV1TautomerEnumerator</th><th>tauts_sameNIH</th><th>n_tauts_diffNIH</th><th>tauts_sameCACTVS</th><th>n_tauts_diffCACTVS</th><th>tauts_sameExpt</th><th>n_tauts_diffExpt</th><th>n_tauts_diff_InChI</th></tr><tr><td>i64</td><td>list[extension]</td><td>list[str]</td><td>list[list[str]]</td><td>list[list[str]]</td><td>list[list[str]]</td><td>list[list[str]]</td><td>list[list[str]]</td><td>list[str]</td><td>list[str]</td><td>list[str]</td><td>list[str]</td><td>list[str]</td><td>u32</td><td>u32</td><td>u32</td><td>u32</td><td>u32</td><td>u32</td><td>bool</td><td>i64</td><td>bool</td><td>i64</td><td>bool</td><td>i64</td><td>bool</td><td>i64</td><td>i64</td></tr></thead><tbody><tr><td>457</td><td>[&lt;rdkit.Chem.rdchem.Mol object at 0x151ae6500&gt;, &lt;rdkit.Chem.rdchem.Mol object at 0x15e373290&gt;]</td><td>[&quot;[2H]Oc1ccc(-c2oc3c([2H])c(O[2H])c(OC)c(=O)c-3c(O[2H])c2O[2H])cc1O[2H]&quot;, &quot;[2H]Oc1ccc(-c2oc3c([2H])c(O[2H])c(OC)c(O[2H])c3c(=O)c2O[2H])cc1O[2H]&quot;]</td><td>[[&quot;[2H]OC1=CC(=c2oc3c(c([OH][2H])c2=O[2H])C(=O)C(OC)C(=O[2H])C=3[2H])CCC1=O[2H]&quot;, &quot;[2H]Oc1cc(-c2oc3c([2H])c([OH][2H])c(OC)c(=O)c-3c(O[2H])c2O[2H])ccc1[OH][2H]&quot;, … &quot;[2H]Oc1c([2H])c2c(c(O)c1OC)C(O[2H])C([OH][2H])=C(C1=CC(=O[2H])C(=O[2H])C=C1)O2&quot;], [&quot;[2H]O=C1C=CC(C2OC3=C(C(=O)C2=O[2H])C(=O[2H])C(OC)C([OH][2H])=C3[2H])CC1=O[2H]&quot;, &quot;[2H]O=C1CC=C(C2OC3=C([2H])C([OH][2H])=C(OC)C(=O[2H])C3=C(O)C2=O[2H])C=C1[OH][2H]&quot;, … &quot;[2H]OC1=CC(c2oc3c(c(=O)c2O[2H])=C(O[2H])C(OC)C(=O[2H])C=3[2H])=CCC1=O[2H]&quot;]]</td><td>[[&quot;[2H]Oc1c([2H])c2c(c(O)c1OC)C([OH][2H])=C([OH][2H])C(=C1C=CC(=O[2H])C([OH][2H])=C1)O2&quot;, &quot;[2H]Oc1cc(-c2oc3c([2H])c([OH][2H])c(OC)c(=O)c-3c(O[2H])c2O[2H])ccc1[OH][2H]&quot;, … &quot;[2H]Oc1c([2H])c2c(c(O)c1OC)C(O[2H])C([OH][2H])=C(C1=CC(=O[2H])C(=O[2H])C=C1)O2&quot;], [&quot;[2H]OC1=C(O)C2C(=O[2H])C(OC)C(=O[2H])C([2H])=C2OC1=C1C=CC(=O[2H])C([OH][2H])=C1&quot;, &quot;[2H]OC1=CC(=C2OC3=C([2H])C(=O[2H])C(OC)=C([OH][2H])C3C(O)C2=O[2H])C=CC1=O[2H]&quot;, … &quot;[2H]OC1=CC(=C2Oc3c([2H])c([OH][2H])c(OC)c(O[2H])c3C(O)C2=O[2H])C=CC1=O[2H]&quot;]]</td><td>[null, null]</td><td>[[], []]</td><td>[[&quot;[2H]Oc1c(C2=CC([2H])(O[2H])C(=O)C=C2)oc2c([2H])c(O[2H])c(OC)c(=O)c-2c1O[2H]&quot;, &quot;[2H]OC1=C2C(=O)C([2H])(OC)C(=O)C([2H])=C2OC(c2ccc(O[2H])c(O[2H])c2)=C1O[2H]&quot;, … &quot;[2H]OC1=C(OC)C(=O)c2c(oc(-c3ccc(O[2H])c(O[2H])c3)c(O[2H])c2=O)C1([2H])[2H]&quot;], [&quot;[2H]OC1=C([2H])c2oc(C3=CC([2H])(O[2H])C(=O)C=C3)c(O[2H])c(=O)c2C(=O)C1([2H])OC&quot;, &quot;[2H]Oc1c([2H])c2c(c(O[2H])c1OC)C(=O)C(=O)C([2H])(C1=CC([2H])(O[2H])C(=O)C=C1)O2&quot;, … &quot;[2H]OC1=CC(c2oc3c([2H])c(O[2H])c(OC)c(O[2H])c3c(=O)c2O[2H])=CC([2H])C1=O&quot;]]</td><td>[&quot;[2H]OC1=CC(=c2oc3c(c([OH][2H])c2=O[2H])C(=O)C(OC)C(=O[2H])C=3[2H])CCC1=O[2H]&quot;, &quot;[2H]Oc1cc(-c2oc3c([2H])c([OH][2H])c(OC)c(=O)c-3c(O[2H])c2O[2H])ccc1[OH][2H]&quot;, … &quot;[2H]Oc1c([2H])c2c(c(O)c1OC)C(O[2H])C([OH][2H])=C(C1=CC(=O[2H])C(=O[2H])C=C1)O2&quot;]</td><td>[&quot;[2H]OC1=C(O)C2C(=O[2H])C(OC)C(=O[2H])C([2H])=C2OC1=C1C=CC(=O[2H])C([OH][2H])=C1&quot;, &quot;[2H]OC1=CC(=C2OC3=C([2H])C(=O[2H])C(OC)=C([OH][2H])C3C(O)C2=O[2H])C=CC1=O[2H]&quot;, … &quot;[2H]OC1=CC(=C2Oc3c([2H])c([OH][2H])c(OC)c(O[2H])c3C(O)C2=O[2H])C=CC1=O[2H]&quot;]</td><td>[]</td><td>[&quot;[2H]OC1=C([2H])c2oc(C3=CC([2H])(O[2H])C(=O)C=C3)c(O[2H])c(=O)c2C(=O)C1([2H])OC&quot;, &quot;[2H]OC1=C2C(=O)C([2H])(OC)C(=O)C([2H])=C2OC(c2ccc(O[2H])c(O[2H])c2)=C1O[2H]&quot;, … &quot;[2H]OC1=CC(c2oc3c([2H])c(O[2H])c(OC)c(O[2H])c3c(=O)c2O[2H])=CC([2H])C1=O&quot;]</td><td>[&quot;InChI=1S/C16H16O8/c1-23-16-9(19)5-10-11(13(16)21)12(20)14(22)15(24-10)6-2-3-7(17)8(18)4-6/h2,5,15,17-22H,3-4H2,1H3/i5D,17D,18D,21D,22D/hD&quot;, &quot;InChI=1S/C16H17O8/c1-23-16-9(19)5-10-11(13(16)21)12(20)14(22)15(24-10)6-2-3-7(17)8(18)4-6/h2-3,5-6,11,15-20,22H,4H2,1H3/i5D,17D,18D,19D,20D,22D&quot;, … &quot;InChI=1S/C16H16O8/c1-23-16-9(19)5-10-11(13(16)21)12(20)14(22)15(24-10)6-2-3-7(17)8(18)4-6/h5,16-20,22H,2-4H2,1H3/i5D,17D,18D,20D,22D/hD&quot;]</td><td>348</td><td>2</td><td>851</td><td>873</td><td>0</td><td>30</td><td>false</td><td>-22</td><td>false</td><td>821</td><td>false</td><td>null</td><td>false</td><td>849</td><td>503</td></tr></tbody></table></div>"
      ],
      "text/plain": [
       "shape: (1, 28)\n",
       "┌─────┬────────────┬────────────┬────────────┬───┬────────────┬────────────┬───────────┬───────────┐\n",
       "│ Ref ┆ mol        ┆ flat_tauts ┆ tautsTauto ┆ … ┆ n_tauts_di ┆ tauts_same ┆ n_tauts_d ┆ n_tauts_d │\n",
       "│ --- ┆ ---        ┆ Expt       ┆ merEnumera ┆   ┆ ffCACTVS   ┆ Expt       ┆ iffExpt   ┆ iff_InChI │\n",
       "│ i64 ┆ list[exten ┆ ---        ┆ tor        ┆   ┆ ---        ┆ ---        ┆ ---       ┆ ---       │\n",
       "│     ┆ sion]      ┆ list[str]  ┆ ---        ┆   ┆ i64        ┆ bool       ┆ i64       ┆ i64       │\n",
       "│     ┆            ┆            ┆ list[list[ ┆   ┆            ┆            ┆           ┆           │\n",
       "│     ┆            ┆            ┆ str]]      ┆   ┆            ┆            ┆           ┆           │\n",
       "╞═════╪════════════╪════════════╪════════════╪═══╪════════════╪════════════╪═══════════╪═══════════╡\n",
       "│ 457 ┆ [<rdkit.Ch ┆ [\"[2H]Oc1c ┆ [[\"[2H]OC1 ┆ … ┆ null       ┆ false      ┆ 849       ┆ 503       │\n",
       "│     ┆ em.rdchem. ┆ cc(-c2oc3c ┆ =CC(=c2oc3 ┆   ┆            ┆            ┆           ┆           │\n",
       "│     ┆ Mol object ┆ ([2H])c(O[ ┆ c(c([OH][2 ┆   ┆            ┆            ┆           ┆           │\n",
       "│     ┆ a…         ┆ 2H…        ┆ H]…        ┆   ┆            ┆            ┆           ┆           │\n",
       "└─────┴────────────┴────────────┴────────────┴───┴────────────┴────────────┴───────────┴───────────┘"
      ]
     },
     "execution_count": 71,
     "metadata": {},
     "output_type": "execute_result"
    }
   ],
   "source": [
    "# df_melted_aggregated_different_example = df_melted_aggregated_different.filter(pl.col(\"Ref\") == 73)\n",
    "# df_melted_aggregated_different_example = df_melted_aggregated_different.filter(pl.col(\"Ref\") == 1704) # Asked Marc Nicklaus to generate CACTVS tautomers for\n",
    "# df_melted_aggregated_different_example = df_melted_aggregated_different.filter(pl.col(\"Ref\") == 1688) # Bad--weird structure drawing\n",
    "# df_melted_aggregated_different_example = df_melted_aggregated_different.filter(pl.col(\"Ref\") == 1689) # Bad--weird structure drawing\n",
    "# df_melted_aggregated_different_example = df_melted_aggregated_different.filter(pl.col(\"Ref\") == 890) # Asked Marc Nicklaus to generate CACTVS tautomers for\n",
    "# df_melted_aggregated_different_example = df_melted_aggregated_different.filter(pl.col(\"Ref\") == 1758) # Bad--weird structure drawing\n",
    "# df_melted_aggregated_different_example = df_melted_aggregated_different.filter(pl.col(\"Ref\") == 1512) # Asked Marc Nicklaus to generate CACTVS tautomers for\n",
    "df_melted_aggregated_different_example = df_melted_aggregated_different.filter(pl.col(\"Ref\") == 457)\n",
    "df_melted_aggregated_different_example"
   ]
  },
  {
   "cell_type": "code",
   "execution_count": 72,
   "metadata": {},
   "outputs": [],
   "source": [
    "# Output SMILES for all RDKit V2 tautomers for a ref\n",
    "# tauts_890_rdkitv2 = df_melted_aggregated_different_example[0][\"flat_tautsTautomerEnumerator\"].item().to_list()\n",
    "# import csv\n",
    "\n",
    "# filename = \"../data/ref890_rdkit_v2_tautomers.csv\"\n",
    "\n",
    "# # Open the file in write mode\n",
    "# with open(filename, 'w', newline='') as csvfile:\n",
    "#     # Create a CSV writer object\n",
    "#     csvwriter = csv.writer(csvfile)\n",
    "\n",
    "#     # Write each item of the list on its own line\n",
    "#     csvwriter.writerows([[item] for item in tauts_890_rdkitv2])\n"
   ]
  },
  {
   "cell_type": "code",
   "execution_count": 73,
   "metadata": {},
   "outputs": [],
   "source": [
    "# For the various data sources, extract SMILES, align them sequentially, and create RDKit molecules for drawing \n",
    "smls_expt = df_melted_aggregated_different_example.select(\"flat_tautsExpt\").item().to_list()\n",
    "smls_v2 = df_melted_aggregated_different_example.select(\"flat_tautsTautomerEnumerator\").item().to_list()\n",
    "smls_v2_aligned = align_ordered_iterables(smls_expt, smls_v2)\n",
    "smls_v1 = df_melted_aggregated_different_example.select(\"flat_tautsGetV1TautomerEnumerator\").item().to_list()\n",
    "smls_v1_aligned = align_ordered_iterables(smls_v2_aligned, smls_v1)\n",
    "smls_nih = df_melted_aggregated_different_example.select(\"flat_tautsNIH\").item().to_list()\n",
    "smls_nih_aligned = align_ordered_iterables(smls_v1_aligned, smls_nih)\n",
    "smls_cactvs = df_melted_aggregated_different_example.select(\"flat_tautsCACTVS\").item().to_list()\n",
    "smls_cactvs_aligned = align_ordered_iterables(smls_nih_aligned, smls_cactvs)\n",
    "\n",
    "tauts_expt = [mol_from_sml(sml) for sml in smls_expt]\n",
    "tauts_v2_aligned = [mol_from_sml(sml) if sml else None for sml in smls_v2_aligned]\n",
    "tauts_v1_aligned = [mol_from_sml(sml) if sml else None for sml in smls_v1_aligned]\n",
    "tauts_nih_aligned = [mol_from_sml(sml) if sml else None for sml in smls_nih_aligned]\n",
    "tauts_cactvs_aligned = [mol_from_sml(sml) if sml else None for sml in smls_cactvs_aligned]"
   ]
  },
  {
   "cell_type": "code",
   "execution_count": 74,
   "metadata": {},
   "outputs": [
    {
     "data": {
      "image/png": "[encoded data removed]",
      "text/plain": [
       "<IPython.core.display.Image object>"
      ]
     },
     "execution_count": 74,
     "metadata": {},
     "output_type": "execute_result"
    }
   ],
   "source": [
    "# Plot all sets of tautomers\n",
    "\n",
    "# Limit number of columns so structures will be readable\n",
    "max_cols = 10\n",
    "# Create nested (2D) data structures for Draw.MolsMatrixToGridImage\n",
    "smls_matrix = [\n",
    "    smls_expt,\n",
    "    smls_v2_aligned,\n",
    "    smls_v1_aligned,\n",
    "]\n",
    "tauts_matrix = [\n",
    "    tauts_expt[:max_cols],\n",
    "    tauts_v2_aligned[:max_cols],\n",
    "    tauts_v1_aligned[:max_cols],\n",
    "]\n",
    "\n",
    "row_labels = [\n",
    "    f\"Expt: {len(smls_expt)} tautomers\",\n",
    "    f\"RDKit v2 code: {len(smls_v2)} tautomers\",\n",
    "    f\"RDKit v1 code: {len(smls_v1)} tautomers\",\n",
    "]\n",
    "\n",
    "# If NIH tautomers generated, add row for them\n",
    "if len(smls_nih):\n",
    "    smls_matrix.append(smls_nih_aligned)\n",
    "    tauts_matrix.append(tauts_nih_aligned[:max_cols])\n",
    "    row_labels.append(f\"NIH code: {len(smls_nih)} tautomers\")\n",
    "\n",
    "# If CACTVS tautomers generated, add row for them\n",
    "if len(smls_cactvs):\n",
    "    smls_matrix.append(smls_cactvs)\n",
    "    tauts_matrix.append(tauts_cactvs_aligned[:max_cols])\n",
    "    row_labels.append(f\"CACTVS code: {len(smls_cactvs)} tautomers\")\n",
    "\n",
    "# Initialize a legends matrix with empty strings\n",
    "legends_matrix = [[\"\" for item in row] for row in tauts_matrix]\n",
    "\n",
    "# Label first molecule in each row with source and number of tautomers\n",
    "\n",
    "for label_index, row_label in enumerate(row_labels):\n",
    "        legends_matrix[label_index][0] = row_label\n",
    "\n",
    "# Align structures based on maximum common substructure (mcs)\n",
    "# Exclude blank entries to avoid problem with aligning empty molecules\n",
    "tauts_all_flat = [\n",
    "    item for sublist in tauts_matrix for item in sublist if item is not None\n",
    "]\n",
    "mcs = rdFMCS.FindMCS(\n",
    "    tauts_all_flat,\n",
    "    bondCompare=rdFMCS.BondCompare.CompareAny,\n",
    ")\n",
    "mcs_smarts = mcs.smartsString\n",
    "mcs_mol = Chem.MolFromSmarts(mcs_smarts)\n",
    "Chem.Compute2DCoords(mcs_mol)\n",
    "for m in tauts_all_flat:\n",
    "    Chem.GenerateDepictionMatching2DStructure(m, mcs_mol)\n",
    "\n",
    "Draw.MolsMatrixToGridImage(\n",
    "    molsMatrix=tauts_matrix, legendsMatrix=legends_matrix, useSVG=True, maxMols=1700\n",
    ")"
   ]
  },
  {
   "cell_type": "code",
   "execution_count": 75,
   "metadata": {},
   "outputs": [
    {
     "data": {
      "image/png": "[encoded data removed]",
      "text/plain": [
       "<rdkit.Chem.rdchem.Mol at 0x166479e00>"
      ]
     },
     "execution_count": 75,
     "metadata": {},
     "output_type": "execute_result"
    }
   ],
   "source": [
    "# Show how large, and thus effective, MCS is if use bondCompare=rdFMCS.BondCompare.CompareAny\n",
    "mcs_mol"
   ]
  },
  {
   "cell_type": "code",
   "execution_count": 76,
   "metadata": {},
   "outputs": [
    {
     "data": {
      "image/png": "[encoded data removed]",
      "text/plain": [
       "<rdkit.Chem.rdchem.Mol at 0x16647a9d0>"
      ]
     },
     "execution_count": 76,
     "metadata": {},
     "output_type": "execute_result"
    }
   ],
   "source": [
    "# Show how much smaller, and thus ineffective, MCS is if don't use bondCompare=rdFMCS.BondCompare.CompareAny\n",
    "mcs_strict = rdFMCS.FindMCS(\n",
    "    tauts_all_flat,\n",
    ")\n",
    "mcs_smarts_strict = mcs_strict.smartsString\n",
    "mcs_mol_strict = Chem.MolFromSmarts(mcs_smarts_strict)\n",
    "mcs_mol_strict"
   ]
  }
 ],
 "metadata": {
  "kernelspec": {
   "display_name": "venv",
   "language": "python",
   "name": "python3"
  },
  "language_info": {
   "codemirror_mode": {
    "name": "ipython",
    "version": 3
   },
   "file_extension": ".py",
   "mimetype": "text/x-python",
   "name": "python",
   "nbconvert_exporter": "python",
   "pygments_lexer": "ipython3",
   "version": "3.11.7"
  }
 },
 "nbformat": 4,
 "nbformat_minor": 2
}
