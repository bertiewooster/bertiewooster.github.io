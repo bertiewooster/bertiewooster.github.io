{
 "cells": [
  {
   "cell_type": "code",
   "execution_count": 1,
   "metadata": {},
   "outputs": [],
   "source": [
    "from typing import Iterable\n",
    "import datetime"
   ]
  },
  {
   "cell_type": "code",
   "execution_count": 2,
   "metadata": {},
   "outputs": [
    {
     "name": "stdout",
     "output_type": "stream",
     "text": [
      "2023.09.1\n"
     ]
    }
   ],
   "source": [
    "from rdkit import Chem, RDLogger\n",
    "from rdkit.Chem.Draw import IPythonConsole\n",
    "from rdkit.Chem import Draw\n",
    "import rdkit\n",
    "from rdkit.Chem.MolStandardize import rdMolStandardize\n",
    "import polars as pl\n",
    "print(rdkit.__version__)"
   ]
  },
  {
   "cell_type": "code",
   "execution_count": 3,
   "metadata": {},
   "outputs": [],
   "source": [
    "lg = RDLogger.logger()\n",
    "lg.setLevel(RDLogger.CRITICAL)"
   ]
  },
  {
   "cell_type": "code",
   "execution_count": 4,
   "metadata": {},
   "outputs": [],
   "source": [
    "def enumerate_tauts(sml):\n",
    "    enumerators = [rdMolStandardize.TautomerEnumerator(), rdMolStandardize.GetV1TautomerEnumerator()]\n",
    "    smls_tauts = [{} for _ in enumerators]\n",
    "    for i, enumerator in enumerate(enumerators):\n",
    "        mol = Chem.MolFromSmiles(sml)\n",
    "        tauts = enumerator.Enumerate(mol)\n",
    "        for taut in tauts:\n",
    "            smls_tauts[i].update({Chem.MolToSmiles(taut):taut})\n",
    "    return smls_tauts"
   ]
  },
  {
   "cell_type": "code",
   "execution_count": 5,
   "metadata": {},
   "outputs": [],
   "source": [
    "def check_same_keys(dict_list):\n",
    "    start = datetime.datetime.now()\n",
    "    # Check if the list is empty or has only one dictionary\n",
    "    if len(dict_list) < 2:\n",
    "        return True\n",
    "\n",
    "    # Get the keys of the first dictionary in the list\n",
    "    reference_keys = set(dict_list[0].keys())\n",
    "\n",
    "    # Iterate through the dictionaries starting from the second one\n",
    "    for dictionary in dict_list[1:]:\n",
    "        # Check if the keys of each dictionary match the keys of the reference dictionary\n",
    "        if set(dictionary.keys()) != reference_keys:\n",
    "            # Return False if keys are not the same\n",
    "            return False\n",
    "    # Return True if all dictionaries have the same keys\n",
    "    # print(f\"check_same_keys took {datetime.datetime.now() - start} seconds\")\n",
    "    return True"
   ]
  },
  {
   "cell_type": "markdown",
   "metadata": {},
   "source": [
    "Algorithm for processing Tautomer_database_release_3a:\n",
    "1) Remove duplicate (keep only one row) Ref values--at initial inspection, seems like duplicate rows contain the same SMILES for SMILES_n OR keep all rows for a Ref, putting all the SMILES into a set \n",
    "2) For each row corresponding to a Ref,\n",
    "    1) Read Size value\n",
    "    2) Extract columns SMILES_n where n = 1 to Size\n",
    "    3) Convert extracted SMILES_n to canonical using RDKit\n",
    "    4) Use those several SMILES_n columns as experimental tautomers by creating a set of SMILES_n (or dictionary of SMILES_n:mol ?)\n",
    "    5) Use only SMILES_1 to enumerate tautomers using various cheminformatics algorithms\n",
    "    6) Compare experimental to cheminformatics results: Are there differences in count and canonical SMILES?"
   ]
  },
  {
   "cell_type": "code",
   "execution_count": 29,
   "metadata": {},
   "outputs": [],
   "source": [
    "file_name = \"../data/Tautomer_database_release_3a.xlsx\"\n",
    "# file_name = \"../data/Tautomer_database_release_3a_first.xlsx\"\n",
    "sheet_name = \"Tautomer_database\"\n",
    "# file_name = \"../data/8.sk.smi\"\n",
    "# file_name = \"../data/12.sk.smi\""
   ]
  },
  {
   "cell_type": "code",
   "execution_count": 30,
   "metadata": {},
   "outputs": [],
   "source": [
    "def canon_sml_or_none(mol):\n",
    "    if mol is None:\n",
    "        return None\n",
    "    return Chem.MolToSmiles(mol)"
   ]
  },
  {
   "cell_type": "code",
   "execution_count": 31,
   "metadata": {},
   "outputs": [
    {
     "name": "stdout",
     "output_type": "stream",
     "text": [
      "shape: (3_465, 3)\n",
      "┌──────┬──────────────────────────────────┬────────────────────────────────────────────────────────┐\n",
      "│ Ref  ┆ mol                              ┆ canon_sml                                              │\n",
      "│ ---  ┆ ---                              ┆ ---                                                    │\n",
      "│ i64  ┆ object                           ┆ str                                                    │\n",
      "╞══════╪══════════════════════════════════╪════════════════════════════════════════════════════════╡\n",
      "│ 1    ┆ <rdkit.Chem.rdchem.Mol object at ┆ CC(=O)/C=C(/C)O                                        │\n",
      "│      ┆ 0x12eff1ee0>                     ┆                                                        │\n",
      "│ 1    ┆ <rdkit.Chem.rdchem.Mol object at ┆ CC(=O)CC(C)=O                                          │\n",
      "│      ┆ 0x12efead50>                     ┆                                                        │\n",
      "│ 2    ┆ <rdkit.Chem.rdchem.Mol object at ┆ c1c[nH]nn1                                             │\n",
      "│      ┆ 0x12efdf4c0>                     ┆                                                        │\n",
      "│ 2    ┆ <rdkit.Chem.rdchem.Mol object at ┆ c1cn[nH]n1                                             │\n",
      "│      ┆ 0x12ff87450>                     ┆                                                        │\n",
      "│ …    ┆ …                                ┆ …                                                      │\n",
      "│ 1775 ┆ <rdkit.Chem.rdchem.Mol object at ┆ Clc1ccc(N2[N-]c3ccc(Cl)cc3[P+]2(c2ccccc2)c2ccccc2)cc1  │\n",
      "│      ┆ 0x12ff873e0>                     ┆                                                        │\n",
      "│ 1775 ┆ <rdkit.Chem.rdchem.Mol object at ┆ Clc1ccc(N=Nc2ccc(Cl)cc2P(c2ccccc2)c2ccccc2)cc1         │\n",
      "│      ┆ 0x12ff0d0e0>                     ┆                                                        │\n",
      "│ 1776 ┆ <rdkit.Chem.rdchem.Mol object at ┆ COc1ccc(N=Nc2ccccc2P(c2ccccc2)c2ccccc2)cc1             │\n",
      "│      ┆ 0x12efdf450>                     ┆                                                        │\n",
      "│ 1776 ┆ <rdkit.Chem.rdchem.Mol object at ┆ COc1ccc(N2[N-]c3ccccc3[P+]2(c2ccccc2)c2ccccc2)cc1      │\n",
      "│      ┆ 0x12ff204a0>                     ┆                                                        │\n",
      "└──────┴──────────────────────────────────┴────────────────────────────────────────────────────────┘\n"
     ]
    }
   ],
   "source": [
    "df = pl.read_excel(\n",
    "    source=file_name, \n",
    "    sheet_name=sheet_name,\n",
    "    read_csv_options={\"infer_schema_length\":10000},\n",
    "    )\n",
    "SMILES_columns = [col for col in df.columns if col.startswith('SMILES_')]\n",
    "InChI_columns = [col for col in df.columns if col.startswith('Std_InChI_')]\n",
    "\n",
    "numbered_columns = []\n",
    "for i, SMILES_column in enumerate(SMILES_columns):\n",
    "    numbered_columns.append(SMILES_column)\n",
    "    numbered_columns.append(InChI_columns[i])\n",
    "\n",
    "df = df.select(\"Ref\",\"Size\",*numbered_columns)\n",
    "\n",
    "df_melted = df.melt(id_vars=\"Ref\", value_vars=SMILES_columns[:2], value_name=\"sml\")\n",
    "df_melted\n",
    "df_melted = df_melted.filter(pl.col('sml').is_not_null())\n",
    "\n",
    "df_1 = df_melted.filter(pl.col(\"Ref\")==1)\n",
    "df_melted = df_melted.drop(\"variable\")\n",
    "df_melted = df_melted.unique()\n",
    "df_melted = df_melted.with_columns(\n",
    "    [\n",
    "        pl.col(\"sml\").map_elements(lambda s: Chem.MolFromSmiles(s)).alias(\"mol\"),\n",
    "    ]\n",
    ")\n",
    "\n",
    "df_melted = df_melted.with_columns(\n",
    "    [\n",
    "        pl.col(\"mol\").map_elements(lambda m: canon_sml_or_none(m)).alias(\"canon_sml\"),\n",
    "    ]\n",
    ")\n",
    "\n",
    "df_melted = df_melted.drop(\"sml\").drop_nulls()\n",
    "df_melted = df_melted.unique(\"canon_sml\")\n",
    "\n",
    "df_melted = df_melted.sort(\"Ref\")\n",
    "with pl.Config(fmt_str_lengths=1000):\n",
    "    print(df_melted)"
   ]
  },
  {
   "cell_type": "code",
   "execution_count": 32,
   "metadata": {},
   "outputs": [],
   "source": [
    "def smls_tauts(\n",
    "        enumerator,\n",
    "        mol,\n",
    "    ):\n",
    "    tauts = enumerator.Enumerate(mol)\n",
    "    tauts_dict = dict()\n",
    "    for taut in tauts:\n",
    "        tauts_dict.update({Chem.MolToSmiles(taut):taut})\n",
    "    return tauts_dict"
   ]
  },
  {
   "cell_type": "code",
   "execution_count": 33,
   "metadata": {},
   "outputs": [],
   "source": [
    "def tauts_list(\n",
    "        enumerator,\n",
    "        mol,\n",
    "    ):\n",
    "    tauts = enumerator.Enumerate(mol)\n",
    "    tauts_list = []\n",
    "    for taut in tauts:\n",
    "        tauts_list.append(taut)\n",
    "    return tauts_list"
   ]
  },
  {
   "cell_type": "code",
   "execution_count": 34,
   "metadata": {},
   "outputs": [
    {
     "name": "stdout",
     "output_type": "stream",
     "text": [
      "<rdkit.Chem.rdchem.Mol object at 0x12eff1ee0>\n"
     ]
    },
    {
     "data": {
      "text/html": [
       "<div><style>\n",
       ".dataframe > thead > tr > th,\n",
       ".dataframe > tbody > tr > td {\n",
       "  text-align: right;\n",
       "  white-space: pre-wrap;\n",
       "}\n",
       "</style>\n",
       "<small>shape: (3_465, 5)</small><table border=\"1\" class=\"dataframe\"><thead><tr><th>Ref</th><th>mol</th><th>canon_sml</th><th>tautsTautomerEnumerator</th><th>tautsGetV1TautomerEnumerator</th></tr><tr><td>i64</td><td>object</td><td>str</td><td>list[extension]</td><td>list[extension]</td></tr></thead><tbody><tr><td>1</td><td>&lt;rdkit.Chem.rdchem.Mol object at 0x12eff1ee0&gt;</td><td>&quot;CC(=O)/C=C(/C)…</td><td>[&lt;rdkit.Chem.rdchem.Mol object at 0x12effa030&gt;, &lt;rdkit.Chem.rdchem.Mol object at 0x12eff89e0&gt;, … &lt;rdkit.Chem.rdchem.Mol object at 0x12eff8e40&gt;]</td><td>[&lt;rdkit.Chem.rdchem.Mol object at 0x2949d1d20&gt;, &lt;rdkit.Chem.rdchem.Mol object at 0x2949d1d90&gt;, … &lt;rdkit.Chem.rdchem.Mol object at 0x2949d1ee0&gt;]</td></tr><tr><td>1</td><td>&lt;rdkit.Chem.rdchem.Mol object at 0x12efead50&gt;</td><td>&quot;CC(=O)CC(C)=O&quot;</td><td>[&lt;rdkit.Chem.rdchem.Mol object at 0x12eff8f20&gt;, &lt;rdkit.Chem.rdchem.Mol object at 0x12eff9000&gt;, … &lt;rdkit.Chem.rdchem.Mol object at 0x12effaab0&gt;]</td><td>[&lt;rdkit.Chem.rdchem.Mol object at 0x2949d1f50&gt;, &lt;rdkit.Chem.rdchem.Mol object at 0x2949d1fc0&gt;, … &lt;rdkit.Chem.rdchem.Mol object at 0x2949d2110&gt;]</td></tr><tr><td>2</td><td>&lt;rdkit.Chem.rdchem.Mol object at 0x12efdf4c0&gt;</td><td>&quot;c1c[nH]nn1&quot;</td><td>[&lt;rdkit.Chem.rdchem.Mol object at 0x12effb300&gt;, &lt;rdkit.Chem.rdchem.Mol object at 0x12effb4c0&gt;]</td><td>[&lt;rdkit.Chem.rdchem.Mol object at 0x2949d2180&gt;, &lt;rdkit.Chem.rdchem.Mol object at 0x2949d21f0&gt;]</td></tr><tr><td>2</td><td>&lt;rdkit.Chem.rdchem.Mol object at 0x12ff87450&gt;</td><td>&quot;c1cn[nH]n1&quot;</td><td>[&lt;rdkit.Chem.rdchem.Mol object at 0x12effb680&gt;, &lt;rdkit.Chem.rdchem.Mol object at 0x12effbae0&gt;]</td><td>[&lt;rdkit.Chem.rdchem.Mol object at 0x2949d2260&gt;, &lt;rdkit.Chem.rdchem.Mol object at 0x2949d22d0&gt;]</td></tr><tr><td>3</td><td>&lt;rdkit.Chem.rdchem.Mol object at 0x12ff929d0&gt;</td><td>&quot;Cc1cc[nH]n1&quot;</td><td>[&lt;rdkit.Chem.rdchem.Mol object at 0x12cdd5770&gt;, &lt;rdkit.Chem.rdchem.Mol object at 0x12ff04190&gt;]</td><td>[&lt;rdkit.Chem.rdchem.Mol object at 0x2949d2340&gt;, &lt;rdkit.Chem.rdchem.Mol object at 0x2949d23b0&gt;, … &lt;rdkit.Chem.rdchem.Mol object at 0x2949d2500&gt;]</td></tr><tr><td>3</td><td>&lt;rdkit.Chem.rdchem.Mol object at 0x129f87530&gt;</td><td>&quot;Cc1ccn[nH]1&quot;</td><td>[&lt;rdkit.Chem.rdchem.Mol object at 0x12ff042e0&gt;, &lt;rdkit.Chem.rdchem.Mol object at 0x12ff043c0&gt;]</td><td>[&lt;rdkit.Chem.rdchem.Mol object at 0x2949d2570&gt;, &lt;rdkit.Chem.rdchem.Mol object at 0x2949d25e0&gt;, … &lt;rdkit.Chem.rdchem.Mol object at 0x2949d2730&gt;]</td></tr><tr><td>5</td><td>&lt;rdkit.Chem.rdchem.Mol object at 0x12eff6570&gt;</td><td>&quot;CC1(C)[C@@H]2C…</td><td>[&lt;rdkit.Chem.rdchem.Mol object at 0x12eff9620&gt;, &lt;rdkit.Chem.rdchem.Mol object at 0x12ff04510&gt;, &lt;rdkit.Chem.rdchem.Mol object at 0x12ff04ac0&gt;]</td><td>[&lt;rdkit.Chem.rdchem.Mol object at 0x2949d27a0&gt;, &lt;rdkit.Chem.rdchem.Mol object at 0x2949d2810&gt;, &lt;rdkit.Chem.rdchem.Mol object at 0x2949d2880&gt;]</td></tr><tr><td>5</td><td>&lt;rdkit.Chem.rdchem.Mol object at 0x12c90be60&gt;</td><td>&quot;CC1(C)[C@@H]2C…</td><td>[&lt;rdkit.Chem.rdchem.Mol object at 0x12ff05230&gt;, &lt;rdkit.Chem.rdchem.Mol object at 0x12ff05540&gt;, &lt;rdkit.Chem.rdchem.Mol object at 0x12ff057e0&gt;]</td><td>[&lt;rdkit.Chem.rdchem.Mol object at 0x2949d28f0&gt;, &lt;rdkit.Chem.rdchem.Mol object at 0x2949d2960&gt;, &lt;rdkit.Chem.rdchem.Mol object at 0x2949d29d0&gt;]</td></tr><tr><td>6</td><td>&lt;rdkit.Chem.rdchem.Mol object at 0x12ff87530&gt;</td><td>&quot;O=C(/C=C(\\O)c1…</td><td>[&lt;rdkit.Chem.rdchem.Mol object at 0x12ff058c0&gt;, &lt;rdkit.Chem.rdchem.Mol object at 0x12ff059a0&gt;, … &lt;rdkit.Chem.rdchem.Mol object at 0x12ff07990&gt;]</td><td>[&lt;rdkit.Chem.rdchem.Mol object at 0x2949d2a40&gt;, &lt;rdkit.Chem.rdchem.Mol object at 0x2949d2ab0&gt;, … &lt;rdkit.Chem.rdchem.Mol object at 0x2949d2ff0&gt;]</td></tr><tr><td>6</td><td>&lt;rdkit.Chem.rdchem.Mol object at 0x12ff7bc30&gt;</td><td>&quot;O=C(/C=C(\\O)c1…</td><td>[&lt;rdkit.Chem.rdchem.Mol object at 0x12ff07a70&gt;, &lt;rdkit.Chem.rdchem.Mol object at 0x12ff07b50&gt;, … &lt;rdkit.Chem.rdchem.Mol object at 0x12ff08350&gt;]</td><td>[&lt;rdkit.Chem.rdchem.Mol object at 0x2949d3060&gt;, &lt;rdkit.Chem.rdchem.Mol object at 0x2949d30d0&gt;, … &lt;rdkit.Chem.rdchem.Mol object at 0x2949d3610&gt;]</td></tr><tr><td>7</td><td>&lt;rdkit.Chem.rdchem.Mol object at 0x12ff04dd0&gt;</td><td>&quot;CC(=O)CC(=O)c1…</td><td>[&lt;rdkit.Chem.rdchem.Mol object at 0x12ff09070&gt;, &lt;rdkit.Chem.rdchem.Mol object at 0x12ff09930&gt;, … &lt;rdkit.Chem.rdchem.Mol object at 0x12ff0adc0&gt;]</td><td>[&lt;rdkit.Chem.rdchem.Mol object at 0x2949d3680&gt;, &lt;rdkit.Chem.rdchem.Mol object at 0x2949d36f0&gt;, … &lt;rdkit.Chem.rdchem.Mol object at 0x2949d3840&gt;]</td></tr><tr><td>8</td><td>&lt;rdkit.Chem.rdchem.Mol object at 0x12c90bdf0&gt;</td><td>&quot;O=C(/C=C(\\O)c1…</td><td>[&lt;rdkit.Chem.rdchem.Mol object at 0x12ff0aea0&gt;, &lt;rdkit.Chem.rdchem.Mol object at 0x12ff0b060&gt;]</td><td>[&lt;rdkit.Chem.rdchem.Mol object at 0x2949d38b0&gt;, &lt;rdkit.Chem.rdchem.Mol object at 0x2949d3920&gt;]</td></tr><tr><td>&hellip;</td><td>&hellip;</td><td>&hellip;</td><td>&hellip;</td><td>&hellip;</td></tr><tr><td>1771</td><td>&lt;rdkit.Chem.rdchem.Mol object at 0x12ff92960&gt;</td><td>&quot;Clc1ccc(N=Nc2c…</td><td>[&lt;rdkit.Chem.rdchem.Mol object at 0x2949d1690&gt;]</td><td>[&lt;rdkit.Chem.rdchem.Mol object at 0x12daada10&gt;]</td></tr><tr><td>1771</td><td>&lt;rdkit.Chem.rdchem.Mol object at 0x12ff87300&gt;</td><td>&quot;Clc1ccc(N2[N-]…</td><td>[&lt;rdkit.Chem.rdchem.Mol object at 0x2949d1700&gt;]</td><td>[&lt;rdkit.Chem.rdchem.Mol object at 0x12daada80&gt;]</td></tr><tr><td>1772</td><td>&lt;rdkit.Chem.rdchem.Mol object at 0x12ff2c350&gt;</td><td>&quot;Clc1ccc(N=Nc2c…</td><td>[&lt;rdkit.Chem.rdchem.Mol object at 0x2949d1770&gt;]</td><td>[&lt;rdkit.Chem.rdchem.Mol object at 0x12daadaf0&gt;]</td></tr><tr><td>1772</td><td>&lt;rdkit.Chem.rdchem.Mol object at 0x12ff55af0&gt;</td><td>&quot;Clc1ccc2c(c1)[…</td><td>[&lt;rdkit.Chem.rdchem.Mol object at 0x2949d17e0&gt;]</td><td>[&lt;rdkit.Chem.rdchem.Mol object at 0x12daadb60&gt;]</td></tr><tr><td>1773</td><td>&lt;rdkit.Chem.rdchem.Mol object at 0x12ff04d60&gt;</td><td>&quot;Cc1ccc2c(c1)[P…</td><td>[&lt;rdkit.Chem.rdchem.Mol object at 0x2949d1850&gt;]</td><td>[&lt;rdkit.Chem.rdchem.Mol object at 0x12daadbd0&gt;]</td></tr><tr><td>1773</td><td>&lt;rdkit.Chem.rdchem.Mol object at 0x12ff0d000&gt;</td><td>&quot;Cc1ccc(N=Nc2cc…</td><td>[&lt;rdkit.Chem.rdchem.Mol object at 0x2949d18c0&gt;, &lt;rdkit.Chem.rdchem.Mol object at 0x2949d1930&gt;]</td><td>[&lt;rdkit.Chem.rdchem.Mol object at 0x12daadc40&gt;, &lt;rdkit.Chem.rdchem.Mol object at 0x12daadcb0&gt;]</td></tr><tr><td>1774</td><td>&lt;rdkit.Chem.rdchem.Mol object at 0x12ff87370&gt;</td><td>&quot;Cc1ccc(N2[N-]c…</td><td>[&lt;rdkit.Chem.rdchem.Mol object at 0x2949d19a0&gt;]</td><td>[&lt;rdkit.Chem.rdchem.Mol object at 0x12daadd20&gt;]</td></tr><tr><td>1774</td><td>&lt;rdkit.Chem.rdchem.Mol object at 0x12ff7bb50&gt;</td><td>&quot;Cc1ccc(N=Nc2cc…</td><td>[&lt;rdkit.Chem.rdchem.Mol object at 0x2949d1a10&gt;, &lt;rdkit.Chem.rdchem.Mol object at 0x2949d1a80&gt;]</td><td>[&lt;rdkit.Chem.rdchem.Mol object at 0x12daadd90&gt;, &lt;rdkit.Chem.rdchem.Mol object at 0x12daade00&gt;]</td></tr><tr><td>1775</td><td>&lt;rdkit.Chem.rdchem.Mol object at 0x12ff873e0&gt;</td><td>&quot;Clc1ccc(N2[N-]…</td><td>[&lt;rdkit.Chem.rdchem.Mol object at 0x2949d1af0&gt;]</td><td>[&lt;rdkit.Chem.rdchem.Mol object at 0x12daade70&gt;]</td></tr><tr><td>1775</td><td>&lt;rdkit.Chem.rdchem.Mol object at 0x12ff0d0e0&gt;</td><td>&quot;Clc1ccc(N=Nc2c…</td><td>[&lt;rdkit.Chem.rdchem.Mol object at 0x2949d1b60&gt;]</td><td>[&lt;rdkit.Chem.rdchem.Mol object at 0x12daadee0&gt;]</td></tr><tr><td>1776</td><td>&lt;rdkit.Chem.rdchem.Mol object at 0x12efdf450&gt;</td><td>&quot;COc1ccc(N=Nc2c…</td><td>[&lt;rdkit.Chem.rdchem.Mol object at 0x2949d1bd0&gt;]</td><td>[&lt;rdkit.Chem.rdchem.Mol object at 0x12daadf50&gt;]</td></tr><tr><td>1776</td><td>&lt;rdkit.Chem.rdchem.Mol object at 0x12ff204a0&gt;</td><td>&quot;COc1ccc(N2[N-]…</td><td>[&lt;rdkit.Chem.rdchem.Mol object at 0x2949d1c40&gt;]</td><td>[&lt;rdkit.Chem.rdchem.Mol object at 0x12daadfc0&gt;]</td></tr></tbody></table></div>"
      ],
      "text/plain": [
       "shape: (3_465, 5)\n",
       "┌──────┬──────────────────────┬──────────────────────┬──────────────────────┬──────────────────────┐\n",
       "│ Ref  ┆ mol                  ┆ canon_sml            ┆ tautsTautomerEnumera ┆ tautsGetV1TautomerEn │\n",
       "│ ---  ┆ ---                  ┆ ---                  ┆ tor                  ┆ umerator             │\n",
       "│ i64  ┆ object               ┆ str                  ┆ ---                  ┆ ---                  │\n",
       "│      ┆                      ┆                      ┆ list[extension]      ┆ list[extension]      │\n",
       "╞══════╪══════════════════════╪══════════════════════╪══════════════════════╪══════════════════════╡\n",
       "│ 1    ┆ <rdkit.Chem.rdchem.M ┆ CC(=O)/C=C(/C)O      ┆ [<rdkit.Chem.rdchem. ┆ [<rdkit.Chem.rdchem. │\n",
       "│      ┆ ol object at…        ┆                      ┆ Mol object a…        ┆ Mol object a…        │\n",
       "│ 1    ┆ <rdkit.Chem.rdchem.M ┆ CC(=O)CC(C)=O        ┆ [<rdkit.Chem.rdchem. ┆ [<rdkit.Chem.rdchem. │\n",
       "│      ┆ ol object at…        ┆                      ┆ Mol object a…        ┆ Mol object a…        │\n",
       "│ 2    ┆ <rdkit.Chem.rdchem.M ┆ c1c[nH]nn1           ┆ [<rdkit.Chem.rdchem. ┆ [<rdkit.Chem.rdchem. │\n",
       "│      ┆ ol object at…        ┆                      ┆ Mol object a…        ┆ Mol object a…        │\n",
       "│ 2    ┆ <rdkit.Chem.rdchem.M ┆ c1cn[nH]n1           ┆ [<rdkit.Chem.rdchem. ┆ [<rdkit.Chem.rdchem. │\n",
       "│      ┆ ol object at…        ┆                      ┆ Mol object a…        ┆ Mol object a…        │\n",
       "│ …    ┆ …                    ┆ …                    ┆ …                    ┆ …                    │\n",
       "│ 1775 ┆ <rdkit.Chem.rdchem.M ┆ Clc1ccc(N2[N-]c3ccc( ┆ [<rdkit.Chem.rdchem. ┆ [<rdkit.Chem.rdchem. │\n",
       "│      ┆ ol object at…        ┆ Cl)cc3[P+]2(…        ┆ Mol object a…        ┆ Mol object a…        │\n",
       "│ 1775 ┆ <rdkit.Chem.rdchem.M ┆ Clc1ccc(N=Nc2ccc(Cl) ┆ [<rdkit.Chem.rdchem. ┆ [<rdkit.Chem.rdchem. │\n",
       "│      ┆ ol object at…        ┆ cc2P(c2ccccc…        ┆ Mol object a…        ┆ Mol object a…        │\n",
       "│ 1776 ┆ <rdkit.Chem.rdchem.M ┆ COc1ccc(N=Nc2ccccc2P ┆ [<rdkit.Chem.rdchem. ┆ [<rdkit.Chem.rdchem. │\n",
       "│      ┆ ol object at…        ┆ (c2ccccc2)c2…        ┆ Mol object a…        ┆ Mol object a…        │\n",
       "│ 1776 ┆ <rdkit.Chem.rdchem.M ┆ COc1ccc(N2[N-]c3cccc ┆ [<rdkit.Chem.rdchem. ┆ [<rdkit.Chem.rdchem. │\n",
       "│      ┆ ol object at…        ┆ c3[P+]2(c2cc…        ┆ Mol object a…        ┆ Mol object a…        │\n",
       "└──────┴──────────────────────┴──────────────────────┴──────────────────────┴──────────────────────┘"
      ]
     },
     "execution_count": 34,
     "metadata": {},
     "output_type": "execute_result"
    }
   ],
   "source": [
    "enumerators = [rdMolStandardize.TautomerEnumerator, rdMolStandardize.GetV1TautomerEnumerator]\n",
    "# df_melted = df_melted.with_columns(\n",
    "#     [\n",
    "#         pl.col(\"mol\").map_elements(lambda mol: mol).alias(\"mol_again\"),\n",
    "#     ]\n",
    "# )\n",
    "\n",
    "mol = df_melted[0][\"mol\"].item()\n",
    "print(mol)\n",
    "# smls_tauts(rdMolStandardize.TautomerEnumerator, mol)\n",
    "\n",
    "# for row in df_melted.iter_rows(named=True):\n",
    "#     mol = row[\"mol\"]\n",
    "#     s_t = smls_tauts(rdMolStandardize.TautomerEnumerator(), mol)\n",
    "#     print(s_t)\n",
    "\n",
    "enumerators = [rdMolStandardize.TautomerEnumerator, rdMolStandardize.GetV1TautomerEnumerator]\n",
    "for i, enumerator in enumerate(enumerators):\n",
    "    df_melted = df_melted.with_columns(\n",
    "        [\n",
    "            pl.col(\"mol\").map_elements(lambda m: tauts_list(enumerator(), m)).alias(\"tauts\" + enumerator.__name__),\n",
    "        ]\n",
    "    )\n",
    "# df_melted = df_melted.with_columns(\n",
    "#     [\n",
    "#         pl.col(\"tauts\").map_elements(lambda t: len(t)).alias(\"n_tauts\"),\n",
    "#     ]\n",
    "# )\n",
    "\n",
    "df_melted"
   ]
  },
  {
   "cell_type": "code",
   "execution_count": 35,
   "metadata": {},
   "outputs": [
    {
     "name": "stdout",
     "output_type": "stream",
     "text": [
      "unique_InChI={'InChI=1S/C5H8O2/c1-4(6)3-5(2)7/h3H2,1-2H3', 'InChI=1S/C5H8O2/c1-4(6)3-5(2)7/h3,6H,1-2H3/b4-3-'}\n",
      "unique_smls_canon={'CC(=O)CC(C)=O', 'CC(=O)/C=C(/C)O'}\n",
      "unique_smls_to_inchi={'InChI=1S/C5H8O2/c1-4(6)3-5(2)7/h3H2,1-2H3', 'InChI=1S/C5H8O2/c1-4(6)3-5(2)7/h3,6H,1-2H3/b4-3-'}\n"
     ]
    }
   ],
   "source": [
    "# Optional--Checking data quality\n",
    "df_1 = df.filter(pl.col(\"Ref\")==1).select(\"Ref\",\"Size\",*numbered_columns[:4])\n",
    "df_1\n",
    "df_1_InChI = df_1.select(\"Ref\",*InChI_columns[:2])\n",
    "df_1_InChI = (\n",
    "    df_1_InChI\n",
    "    .melt(id_vars=\"Ref\", value_vars=InChI_columns[:2], value_name=\"InChI\")\n",
    "    .select(\"InChI\")\n",
    "    .drop_nulls()\n",
    ")\n",
    "unique_InChI = set(df_1_InChI[\"InChI\"].to_list())\n",
    "print(f\"{unique_InChI=}\")\n",
    "\n",
    "df_1_smls = df_1.select(\"Ref\",*SMILES_columns[:2])\n",
    "\n",
    "df_1_smls = (\n",
    "    df_1_smls\n",
    "    .melt(id_vars=\"Ref\", value_vars=SMILES_columns[:2], value_name=\"sml\")\n",
    "    .select(\"sml\")\n",
    "    .drop_nulls()\n",
    ")\n",
    "unique_smls = df_1_smls[\"sml\"].to_list()\n",
    "unique_mols = [Chem.MolFromSmiles(sml) for sml in unique_smls]\n",
    "unique_smls_canon = {Chem.MolToSmiles(mol) for mol in unique_mols}\n",
    "unique_smls_to_inchi = {Chem.MolToInchi(mol) for mol in unique_mols}\n",
    "\n",
    "print(f\"{unique_smls_canon=}\")\n",
    "print(f\"{unique_smls_to_inchi=}\")"
   ]
  },
  {
   "cell_type": "markdown",
   "metadata": {},
   "source": [
    "Hi"
   ]
  },
  {
   "cell_type": "code",
   "execution_count": 36,
   "metadata": {},
   "outputs": [
    {
     "data": {
      "text/plain": [
       "[{'N=c1[nH]cc[nH]1': <rdkit.Chem.rdchem.Mol at 0x12daae8f0>,\n",
       "  'Nc1ncc[nH]1': <rdkit.Chem.rdchem.Mol at 0x12daae960>},\n",
       " {'N=c1[nH]cc[nH]1': <rdkit.Chem.rdchem.Mol at 0x12daae880>,\n",
       "  'Nc1ncc[nH]1': <rdkit.Chem.rdchem.Mol at 0x12daaea40>}]"
      ]
     },
     "execution_count": 36,
     "metadata": {},
     "output_type": "execute_result"
    }
   ],
   "source": [
    "sml = \"N=c1[nH]cc[nH]1\"\n",
    "smls_tauts = enumerate_tauts(sml)\n",
    "smls_tauts\n",
    "# check_same_keys(smls_tauts)"
   ]
  },
  {
   "cell_type": "code",
   "execution_count": 37,
   "metadata": {},
   "outputs": [],
   "source": [
    "for i in range(0,1000):\n",
    "    smls_tauts = enumerate_tauts(sml)"
   ]
  },
  {
   "cell_type": "code",
   "execution_count": 38,
   "metadata": {},
   "outputs": [
    {
     "name": "stdout",
     "output_type": "stream",
     "text": [
      "[{'N=c1[nH]cc[nH]1': <rdkit.Chem.rdchem.Mol object at 0x12daaec70>, 'Nc1ncc[nH]1': <rdkit.Chem.rdchem.Mol object at 0x12daaec00>}, {'N=c1[nH]cc[nH]1': <rdkit.Chem.rdchem.Mol object at 0x12daaedc0>, 'Nc1ncc[nH]1': <rdkit.Chem.rdchem.Mol object at 0x12daaed50>}]\n",
      "[['N=c1[nH]cc[nH]1', 'Nc1ncc[nH]1'], ['N=c1[nH]cc[nH]1', 'Nc1ncc[nH]1']]\n",
      "[[<rdkit.Chem.rdchem.Mol object at 0x12daaec70>, <rdkit.Chem.rdchem.Mol object at 0x12daaec00>], [<rdkit.Chem.rdchem.Mol object at 0x12daaedc0>, <rdkit.Chem.rdchem.Mol object at 0x12daaed50>]]\n"
     ]
    },
    {
     "data": {
      "image/png": "[encoded data removed]",
      "text/plain": [
       "<IPython.core.display.Image object>"
      ]
     },
     "execution_count": 38,
     "metadata": {},
     "output_type": "execute_result"
    }
   ],
   "source": [
    "sml = \"N=c1[nH]cc[nH]1\"\n",
    "smls_tauts = enumerate_tauts(sml)\n",
    "print(smls_tauts)\n",
    "smls = [[item for item in enumerator.keys()] for enumerator in smls_tauts]\n",
    "tauts = [[item for item in enumerator.values()] for enumerator in smls_tauts]\n",
    "\n",
    "print(smls)\n",
    "print(tauts)\n",
    "Draw.MolsMatrixToGridImage(tauts, legendsMatrix=smls)"
   ]
  },
  {
   "cell_type": "code",
   "execution_count": null,
   "metadata": {},
   "outputs": [],
   "source": []
  }
 ],
 "metadata": {
  "kernelspec": {
   "display_name": "venv",
   "language": "python",
   "name": "python3"
  },
  "language_info": {
   "codemirror_mode": {
    "name": "ipython",
    "version": 3
   },
   "file_extension": ".py",
   "mimetype": "text/x-python",
   "name": "python",
   "nbconvert_exporter": "python",
   "pygments_lexer": "ipython3",
   "version": "3.11.0"
  }
 },
 "nbformat": 4,
 "nbformat_minor": 2
}
