{
 "cells": [
  {
   "cell_type": "code",
   "execution_count": 88,
   "metadata": {},
   "outputs": [],
   "source": [
    "from typing import Iterable\n",
    "import datetime"
   ]
  },
  {
   "cell_type": "code",
   "execution_count": 38,
   "metadata": {},
   "outputs": [
    {
     "name": "stdout",
     "output_type": "stream",
     "text": [
      "2023.09.1\n"
     ]
    }
   ],
   "source": [
    "from rdkit import Chem\n",
    "from rdkit.Chem.Draw import IPythonConsole\n",
    "from rdkit.Chem import Draw\n",
    "import rdkit\n",
    "from rdkit.Chem.MolStandardize import rdMolStandardize\n",
    "import polars as pl\n",
    "print(rdkit.__version__)"
   ]
  },
  {
   "cell_type": "code",
   "execution_count": 93,
   "metadata": {},
   "outputs": [],
   "source": [
    "def enumerate_tauts_v1(sml):\n",
    "    start = datetime.datetime.now()\n",
    "    smls_tauts = []\n",
    "    enumerators = [rdMolStandardize.TautomerEnumerator(), rdMolStandardize.GetV1TautomerEnumerator()]\n",
    "    for enumerator in enumerators:\n",
    "        mol = Chem.MolFromSmiles(sml)\n",
    "        tauts = enumerator.Enumerate(mol)\n",
    "        smls = {Chem.MolToSmiles(x) for x in tauts}\n",
    "        smls_tauts.append({sml:taut for sml, taut in zip(smls,tauts)})\n",
    "    # print(f\"enumerate_tauts took {datetime.datetime.now() - start} seconds\")\n",
    "    return smls_tauts"
   ]
  },
  {
   "cell_type": "code",
   "execution_count": 103,
   "metadata": {},
   "outputs": [],
   "source": [
    "def enumerate_tauts_v2(sml):\n",
    "    smls_tauts = []\n",
    "    enumerators = [rdMolStandardize.TautomerEnumerator(), rdMolStandardize.GetV1TautomerEnumerator()]\n",
    "    for i, enumerator in enumerate(enumerators):\n",
    "        smls_tauts.append(dict())\n",
    "        mol = Chem.MolFromSmiles(sml)\n",
    "        tauts = enumerator.Enumerate(mol)\n",
    "        for taut in tauts:\n",
    "            smls_tauts[i].update({Chem.MolToSmiles(taut):taut})\n",
    "    return smls_tauts"
   ]
  },
  {
   "cell_type": "code",
   "execution_count": 108,
   "metadata": {},
   "outputs": [],
   "source": [
    "def enumerate_tauts(sml):\n",
    "    enumerators = [rdMolStandardize.TautomerEnumerator(), rdMolStandardize.GetV1TautomerEnumerator()]\n",
    "    smls_tauts = [{} for _ in enumerators]\n",
    "    for i, enumerator in enumerate(enumerators):\n",
    "        mol = Chem.MolFromSmiles(sml)\n",
    "        tauts = enumerator.Enumerate(mol)\n",
    "        for taut in tauts:\n",
    "            smls_tauts[i].update({Chem.MolToSmiles(taut):taut})\n",
    "    return smls_tauts"
   ]
  },
  {
   "cell_type": "code",
   "execution_count": 91,
   "metadata": {},
   "outputs": [],
   "source": [
    "def check_same_keys(dict_list):\n",
    "    start = datetime.datetime.now()\n",
    "    # Check if the list is empty or has only one dictionary\n",
    "    if len(dict_list) < 2:\n",
    "        return True\n",
    "\n",
    "    # Get the keys of the first dictionary in the list\n",
    "    reference_keys = set(dict_list[0].keys())\n",
    "\n",
    "    # Iterate through the dictionaries starting from the second one\n",
    "    for dictionary in dict_list[1:]:\n",
    "        # Check if the keys of each dictionary match the keys of the reference dictionary\n",
    "        if set(dictionary.keys()) != reference_keys:\n",
    "            # Return False if keys are not the same\n",
    "            return False\n",
    "    # Return True if all dictionaries have the same keys\n",
    "    # print(f\"check_same_keys took {datetime.datetime.now() - start} seconds\")\n",
    "    return True"
   ]
  },
  {
   "cell_type": "markdown",
   "metadata": {},
   "source": [
    "Algorithm for processing Tautomer_database_release_3a:\n",
    "1) Remove duplicate (keep only one row) Ref values--at initial inspection, seems like duplicate rows contain the same SMILES for SMILES_n\n",
    "2) For each (remaining) row,\n",
    "    1) Read Size value\n",
    "    2) Extract columns SMILES_n where n = 1 to Size\n",
    "    3) Convert extracted SMILES_n to canonical using RDKit\n",
    "    4) Use those several SMILES_n columns as experimental tautomers by creating a set of SMILES_n (or dictionary of SMILES_n:mol ?)\n",
    "    5) Use only SMILES_1 to enumerate tautomers using various cheminformatics algorithms\n",
    "    6) Compare experimental to cheminformatics results: Are there differences in count and canonical SMILES?"
   ]
  },
  {
   "cell_type": "code",
   "execution_count": 110,
   "metadata": {},
   "outputs": [],
   "source": [
    "file_name = \"../data/8.sk.smi\"\n",
    "# file_name = \"../data/12.sk.smi\""
   ]
  },
  {
   "cell_type": "code",
   "execution_count": 77,
   "metadata": {},
   "outputs": [],
   "source": [
    "df = pl.read_csv(file_name, has_header=False)\n",
    "df.columns = [\"sml\"]"
   ]
  },
  {
   "cell_type": "code",
   "execution_count": 114,
   "metadata": {},
   "outputs": [
    {
     "name": "stdout",
     "output_type": "stream",
     "text": [
      "shape: (1_274, 1)\n",
      "┌─────────────────┐\n",
      "│ sml             │\n",
      "│ ---             │\n",
      "│ str             │\n",
      "╞═════════════════╡\n",
      "│ C1C2CC1C=CC=C2  │\n",
      "│ C1C2C3CC1C=CC23 │\n",
      "│ C1C2CC3C=CC2C13 │\n",
      "│ C1C2C1C1CC2C=C1 │\n",
      "│ …               │\n",
      "│ CCCCCC(C)=C     │\n",
      "│ CCCCCC#CC       │\n",
      "│ CCCCCCC=C       │\n",
      "│ CCCCCCC#C       │\n",
      "└─────────────────┘\n"
     ]
    },
    {
     "data": {
      "text/html": [
       "<div><style>\n",
       ".dataframe > thead > tr > th,\n",
       ".dataframe > tbody > tr > td {\n",
       "  text-align: right;\n",
       "  white-space: pre-wrap;\n",
       "}\n",
       "</style>\n",
       "<small>shape: (1_274, 2)</small><table border=\"1\" class=\"dataframe\"><thead><tr><th>sml</th><th>n_tauts</th></tr><tr><td>str</td><td>i64</td></tr></thead><tbody><tr><td>&quot;C1C2CC1C=CC=C2…</td><td>1</td></tr><tr><td>&quot;C1C2C3CC1C=CC2…</td><td>1</td></tr><tr><td>&quot;C1C2CC3C=CC2C1…</td><td>1</td></tr><tr><td>&quot;C1C2C1C1CC2C=C…</td><td>1</td></tr><tr><td>&quot;C1C2C=CC3CC3C1…</td><td>1</td></tr><tr><td>&quot;C1CC1C1=CC=CC1…</td><td>1</td></tr><tr><td>&quot;C1CC1C1C=CC=C1…</td><td>1</td></tr><tr><td>&quot;C1CC1C1CC=CC1&quot;</td><td>1</td></tr><tr><td>&quot;C1CC1C=CC1CC1&quot;</td><td>1</td></tr><tr><td>&quot;C1CC1C#CC1CC1&quot;</td><td>1</td></tr><tr><td>&quot;C1CC2(C1)C=CC=…</td><td>1</td></tr><tr><td>&quot;C1CC2(C1)CC=CC…</td><td>1</td></tr><tr><td>&hellip;</td><td>&hellip;</td></tr><tr><td>&quot;CCCCC(=C)C#C&quot;</td><td>1</td></tr><tr><td>&quot;CCCCC(C)=CC&quot;</td><td>1</td></tr><tr><td>&quot;CCCCC(C)C=C&quot;</td><td>1</td></tr><tr><td>&quot;CCCCC(C)C#C&quot;</td><td>1</td></tr><tr><td>&quot;CCCCC#CCC&quot;</td><td>1</td></tr><tr><td>&quot;CCCCC#CC=C&quot;</td><td>1</td></tr><tr><td>&quot;CCCCC#CC#C&quot;</td><td>1</td></tr><tr><td>&quot;CCCCCC=CC&quot;</td><td>1</td></tr><tr><td>&quot;CCCCCC(C)=C&quot;</td><td>1</td></tr><tr><td>&quot;CCCCCC#CC&quot;</td><td>1</td></tr><tr><td>&quot;CCCCCCC=C&quot;</td><td>1</td></tr><tr><td>&quot;CCCCCCC#C&quot;</td><td>1</td></tr></tbody></table></div>"
      ],
      "text/plain": [
       "shape: (1_274, 2)\n",
       "┌─────────────────┬─────────┐\n",
       "│ sml             ┆ n_tauts │\n",
       "│ ---             ┆ ---     │\n",
       "│ str             ┆ i64     │\n",
       "╞═════════════════╪═════════╡\n",
       "│ C1C2CC1C=CC=C2  ┆ 1       │\n",
       "│ C1C2C3CC1C=CC23 ┆ 1       │\n",
       "│ C1C2CC3C=CC2C13 ┆ 1       │\n",
       "│ C1C2C1C1CC2C=C1 ┆ 1       │\n",
       "│ …               ┆ …       │\n",
       "│ CCCCCC(C)=C     ┆ 1       │\n",
       "│ CCCCCC#CC       ┆ 1       │\n",
       "│ CCCCCCC=C       ┆ 1       │\n",
       "│ CCCCCCC#C       ┆ 1       │\n",
       "└─────────────────┴─────────┘"
      ]
     },
     "execution_count": 114,
     "metadata": {},
     "output_type": "execute_result"
    }
   ],
   "source": [
    "df = pl.read_csv(file_name, has_header=False)\n",
    "df.columns = [\"sml\"]\n",
    "print(df)\n",
    "# df = df.slice(0, 5_000)\n",
    "df = df.with_columns(\n",
    "    [\n",
    "        # pl.col(\"sml\").map_elements(lambda sml: check_same_keys(enumerate_tauts(sml))).alias(\"same_tauts\"),\n",
    "        pl.col(\"sml\").map_elements(lambda sml: len(enumerate_tauts(sml)[0])).alias(\"n_tauts\"),\n",
    "    ]\n",
    ")\n",
    "# df_diff_tauts = df.filter(pl.col(\"same_tauts\") == False)\n",
    "# df_diff_tauts\n",
    "df_multiple_tauts = df.filter(pl.col(\"n_tauts\") == 1)\n",
    "df_multiple_tauts"
   ]
  },
  {
   "cell_type": "code",
   "execution_count": 75,
   "metadata": {},
   "outputs": [],
   "source": [
    "import csv"
   ]
  },
  {
   "cell_type": "code",
   "execution_count": null,
   "metadata": {},
   "outputs": [],
   "source": [
    "with open(file_name, 'r') as csv_file:\n",
    "    csv_reader = csv.reader(csv_file)\n",
    "    \n",
    "    # Iterate through each row\n",
    "    for row_num, row in enumerate(csv_reader):\n",
    "        if row_num % 1_000 == 0:\n",
    "            print(f\"On row {row_num}\")\n",
    "        sml = row[0]  # Accessing the first (and only) column\n",
    "        if not check_same_keys(enumerate_tauts(sml)):\n",
    "            print(f\"{row_num} Different tautomers for {sml}\")"
   ]
  },
  {
   "cell_type": "code",
   "execution_count": 98,
   "metadata": {},
   "outputs": [
    {
     "data": {
      "text/plain": [
       "[{'N=c1[nH]cc[nH]1': <rdkit.Chem.rdchem.Mol at 0x2a1598200>,\n",
       "  'Nc1ncc[nH]1': <rdkit.Chem.rdchem.Mol at 0x2a1598270>},\n",
       " {'N=c1[nH]cc[nH]1': <rdkit.Chem.rdchem.Mol at 0x2a1598190>,\n",
       "  'Nc1ncc[nH]1': <rdkit.Chem.rdchem.Mol at 0x2a1598350>}]"
      ]
     },
     "execution_count": 98,
     "metadata": {},
     "output_type": "execute_result"
    }
   ],
   "source": [
    "sml = \"N=c1[nH]cc[nH]1\"\n",
    "smls_tauts = enumerate_tauts(sml)\n",
    "smls_tauts\n",
    "# check_same_keys(smls_tauts)"
   ]
  },
  {
   "cell_type": "code",
   "execution_count": 109,
   "metadata": {},
   "outputs": [],
   "source": [
    "for i in range(0,1000):\n",
    "    smls_tauts = enumerate_tauts(sml)"
   ]
  },
  {
   "cell_type": "code",
   "execution_count": 29,
   "metadata": {},
   "outputs": [
    {
     "name": "stdout",
     "output_type": "stream",
     "text": [
      "[{'Nc1ncc[nH]1': <rdkit.Chem.rdchem.Mol object at 0x147800e40>, 'N=c1[nH]cc[nH]1': <rdkit.Chem.rdchem.Mol object at 0x147801af0>}, {'Nc1ncc[nH]1': <rdkit.Chem.rdchem.Mol object at 0x147800580>, 'N=c1[nH]cc[nH]1': <rdkit.Chem.rdchem.Mol object at 0x147801380>}]\n",
      "[['Nc1ncc[nH]1', 'N=c1[nH]cc[nH]1'], ['Nc1ncc[nH]1', 'N=c1[nH]cc[nH]1']]\n",
      "[[<rdkit.Chem.rdchem.Mol object at 0x147800e40>, <rdkit.Chem.rdchem.Mol object at 0x147801af0>], [<rdkit.Chem.rdchem.Mol object at 0x147800580>, <rdkit.Chem.rdchem.Mol object at 0x147801380>]]\n"
     ]
    },
    {
     "data": {
      "image/png": "[encoded data removed]",
      "text/plain": [
       "<IPython.core.display.Image object>"
      ]
     },
     "execution_count": 29,
     "metadata": {},
     "output_type": "execute_result"
    }
   ],
   "source": [
    "sml = \"N=c1[nH]cc[nH]1\"\n",
    "smls_tauts = enumerate_tauts(sml)\n",
    "print(smls_tauts)\n",
    "smls = [[item for item in enumerator.keys()] for enumerator in smls_tauts]\n",
    "tauts = [[item for item in enumerator.values()] for enumerator in smls_tauts]\n",
    "\n",
    "print(smls)\n",
    "print(tauts)\n",
    "Draw.MolsMatrixToGridImage(tauts, legendsMatrix=smls)"
   ]
  },
  {
   "cell_type": "code",
   "execution_count": null,
   "metadata": {},
   "outputs": [],
   "source": []
  }
 ],
 "metadata": {
  "kernelspec": {
   "display_name": "venv",
   "language": "python",
   "name": "python3"
  },
  "language_info": {
   "codemirror_mode": {
    "name": "ipython",
    "version": 3
   },
   "file_extension": ".py",
   "mimetype": "text/x-python",
   "name": "python",
   "nbconvert_exporter": "python",
   "pygments_lexer": "ipython3",
   "version": "3.11.0"
  }
 },
 "nbformat": 4,
 "nbformat_minor": 2
}
