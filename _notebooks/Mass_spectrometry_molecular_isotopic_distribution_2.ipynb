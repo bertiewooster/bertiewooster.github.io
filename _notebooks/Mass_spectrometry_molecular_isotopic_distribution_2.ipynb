{
 "cells": [
  {
   "cell_type": "markdown",
   "metadata": {},
   "source": [
    "# Molecular Isotopic Distributions Part 2: Combinations"
   ]
  },
  {
   "cell_type": "markdown",
   "metadata": {},
   "source": [
    "#TODO\n",
    "- Link to some sites and software that calculate molecular isotope distributions (here or in part 1?)\n",
    "- Document functions with type hints and docstrings"
   ]
  },
  {
   "cell_type": "markdown",
   "metadata": {},
   "source": [
    "This blog post presents a more computationally efficient way to determine the abundance of the molecular isotopes of a molecule.\n",
    "\n",
    "In [part 1](***), we created a molecule for each possible placement of each isotope in a molecule. While that worked, it was computationally expensive because it required creating each permutation. In this blog post, we'll create each combination only once and calculate its abundance using the binomial distribution. While calculating the molecular isotopes of naphthalene took about 170 seconds using the permutations method, it takes 0.1 seconds using the combinations method below."
   ]
  },
  {
   "cell_type": "code",
   "execution_count": 1073,
   "metadata": {},
   "outputs": [],
   "source": [
    "%%capture\n",
    "%!pip install rdkit\n",
    "%!pip install mendeleev"
   ]
  },
  {
   "cell_type": "code",
   "execution_count": 1074,
   "metadata": {},
   "outputs": [],
   "source": [
    "from collections import defaultdict\n",
    "import math\n",
    "import copy\n",
    "\n",
    "from IPython.display import display, Markdown\n",
    "import numpy as np\n",
    "import seaborn as sns\n",
    "import matplotlib.pyplot as plt\n",
    "import polars as pl\n",
    "\n",
    "import mendeleev\n",
    "# from mendeleev import element\n",
    "from rdkit import Chem\n",
    "from rdkit.Chem import Descriptors"
   ]
  },
  {
   "cell_type": "markdown",
   "metadata": {},
   "source": [
    "We'll use the same molecule so we can compare results to the previous blog post. We also copy in code from the previous post."
   ]
  },
  {
   "cell_type": "code",
   "execution_count": 1075,
   "metadata": {},
   "outputs": [
    {
     "data": {
      "image/png": "[encoded data removed]",
      "text/plain": [
       "<rdkit.Chem.rdchem.Mol at 0x286d33680>"
      ]
     },
     "execution_count": 1075,
     "metadata": {},
     "output_type": "execute_result"
    }
   ],
   "source": [
    "sml = \"ClSCl\"\n",
    "# sml = \"[S]\"\n",
    "# sml = \"[S][S][S]\"\n",
    "sml = \"c1c2ccccc2ccc1\"\n",
    "mol = Chem.AddHs(Chem.MolFromSmiles(sml))\n",
    "mol"
   ]
  },
  {
   "cell_type": "code",
   "execution_count": 1076,
   "metadata": {},
   "outputs": [],
   "source": [
    "class MolecularIsotope():\n",
    "  \"\"\"Store a molecule's isotopic properties.\"\"\"\n",
    "  def __init__(\n",
    "      self,\n",
    "      sml: str,\n",
    "      mol: Chem.rdchem.Mol = None,\n",
    "      abundance: float = None):\n",
    "    self.sml = sml\n",
    "    self.abundance = abundance\n",
    "    if mol is not None:\n",
    "      self.mol = mol\n",
    "    else:\n",
    "      try:\n",
    "        self.mol = Chem.MolFromSmiles(sml)\n",
    "      except:\n",
    "        self.mol = Chem.MolFromSmiles(sml, sanitize=False)\n",
    "  def update(self):\n",
    "    self.mass = Descriptors.ExactMolWt(self.mol)\n",
    "    self.canon_sml = Chem.MolToSmiles(self.mol)\n",
    "  def get_mass(self):\n",
    "    return self.mass"
   ]
  },
  {
   "cell_type": "code",
   "execution_count": 1077,
   "metadata": {},
   "outputs": [],
   "source": [
    "def composition(\n",
    "        molecule: Chem.Mol,\n",
    "        isotopes=False):\n",
    "    \"\"\"Get the composition of an RDKit molecule:\n",
    "    Atomic counts, including hydrogen atoms, and any charge.\n",
    "    For example, ethanol (SMILES [13C](H)(H)(H)CO, formula C2H6O) returns:\n",
    "      if isotopes = False (default): {'C': 2, 'O': 1, 'H': 6}.\n",
    "      if isotopes = True: {'C': {13: 1, 0: 1}, 'O': {0: 1}, 'H': {0: 6}}.\n",
    "\n",
    "    :param molecule: The RDKit molecule to analyze\n",
    "    :returns: if isotopes = False (default): a dictionary of element:count entries;\n",
    "              if isotopes = True: a nested dictionary of element:isotope:count entries.\n",
    "    \"\"\"\n",
    "    # Check that there is a valid molecule\n",
    "    if molecule:\n",
    "\n",
    "        # Add hydrogen atoms--RDKit excludes them by default\n",
    "        molecule = Chem.AddHs(molecule)\n",
    "        comp = defaultdict(lambda: 0)\n",
    "\n",
    "        # Get atom counts\n",
    "        for atom in molecule.GetAtoms():\n",
    "            element_symbol = atom.GetSymbol()\n",
    "            # If isotopes not requested, simply count the number of atoms of each element\n",
    "            if not isotopes:\n",
    "                comp[element_symbol] += 1\n",
    "            # If isotopes requested, count the number of each isotope of each element\n",
    "            else:\n",
    "                isotope = atom.GetIsotope()\n",
    "                try:\n",
    "                    comp[element_symbol][isotope] += 1\n",
    "                except:\n",
    "                    comp[element_symbol] = defaultdict(lambda: 0)\n",
    "                    comp[element_symbol][isotope] += 1\n",
    "        return comp"
   ]
  },
  {
   "cell_type": "code",
   "execution_count": 1078,
   "metadata": {},
   "outputs": [],
   "source": [
    "def flatten_ndarray(arr):\n",
    "    flat_list = []\n",
    "    for element in arr:\n",
    "        if isinstance(element, np.ndarray):\n",
    "            flat_list.extend(flatten_ndarray(element))\n",
    "        else:\n",
    "            flat_list.append(element)\n",
    "    return flat_list"
   ]
  },
  {
   "cell_type": "markdown",
   "metadata": {},
   "source": [
    "## Calculating distributions"
   ]
  },
  {
   "cell_type": "markdown",
   "metadata": {},
   "source": [
    "Here's a function to calculate the binomial distribution"
   ]
  },
  {
   "cell_type": "markdown",
   "metadata": {},
   "source": [
    "#TODO give formula in LaTeX"
   ]
  },
  {
   "cell_type": "markdown",
   "metadata": {},
   "source": [
    "#TODO Show how to calculate the number of combinations"
   ]
  },
  {
   "cell_type": "code",
   "execution_count": 1079,
   "metadata": {},
   "outputs": [],
   "source": [
    "def binomial_coefficient(n, k):\n",
    "    return math.factorial(n) // (math.factorial(k) * math.factorial(n - k))"
   ]
  },
  {
   "cell_type": "code",
   "execution_count": 1080,
   "metadata": {},
   "outputs": [
    {
     "data": {
      "text/plain": [
       "2"
      ]
     },
     "execution_count": 1080,
     "metadata": {},
     "output_type": "execute_result"
    }
   ],
   "source": [
    "binomial_coefficient(2,1)"
   ]
  },
  {
   "cell_type": "code",
   "execution_count": 1081,
   "metadata": {},
   "outputs": [
    {
     "data": {
      "text/plain": [
       "1"
      ]
     },
     "execution_count": 1081,
     "metadata": {},
     "output_type": "execute_result"
    }
   ],
   "source": [
    "binomial_coefficient(3,3)"
   ]
  },
  {
   "cell_type": "markdown",
   "metadata": {},
   "source": [
    "We also need to list each distribution of n items in k bins. Here, n is the number of atoms of a given element, and k is the count of a given isotope that will occur in that molecule."
   ]
  },
  {
   "cell_type": "markdown",
   "metadata": {},
   "source": [
    "- For an element with only one isotope, all atoms of that element will have that isotope, so there is only one way to distribute the isotopes amongst the atoms. For example, if we have four atoms of element X, and X has only one isotope, n = 4 and k = 4.\n",
    "- For an element with two isotopes, any atoms of that element that are not populated by the first isotope must be populated by the second isotope. For example, if our molecule has four carbon atoms, and we assign C-12 to one atom, there are three atoms remaining, and they must all be assigned C-13. Thus the number of combinations is\n",
    "    - C-12: n = 4, k = 1; 4 choose 1 = 4\n",
    "    - C-13: n = 3, k = 3; 3 choose 3 = 1\n",
    "    so the number of combinations of the second isotope is always 1. We multiply the combinations of each isotope, so there are a total of 4 * 1 = 4 combinations.\n",
    "- For an element with more than two isotopes, things get more complicated. Consider O3 (ozone) with isotopes O-16, O-17, and O-18. To calculate the number of combinations that will produce 16O17O18O:\n",
    "    - O-16: n = 3, k = 1; 3 choose 1 = 3\n",
    "    - O-17: n = 2, k = 1; 2 choose 1 = 2\n",
    "    - O-18: n = 1, k = 1; 1 choose 1 = 1\n",
    "    Multiplying the combinations gives 3 * 2 * 1 = 6."
   ]
  },
  {
   "cell_type": "code",
   "execution_count": 1082,
   "metadata": {},
   "outputs": [],
   "source": [
    "def distribute_items(n, k):\n",
    "    def backtrack(remaining_items, bins, current_bin):\n",
    "        if current_bin == k:\n",
    "            if remaining_items == 0:\n",
    "                results.append(list(bins))\n",
    "            return\n",
    "\n",
    "        for items_in_current_bin in range(remaining_items + 1):\n",
    "            bins[current_bin] = items_in_current_bin\n",
    "            backtrack(remaining_items - items_in_current_bin, bins, current_bin + 1)\n",
    "\n",
    "    results = []\n",
    "    bins = [0] * k\n",
    "    backtrack(n, bins, 0)\n",
    "    return results"
   ]
  },
  {
   "cell_type": "markdown",
   "metadata": {},
   "source": [
    "For example, for our four (n) chlorine atoms, we have two (k) isotopes, 35 and 37. We can thus have\n",
    "- zero atoms of isotope 35 and four of 37\n",
    "- one atom of isotope 35 and three of 37\n",
    "- two atoms of each isotope\n",
    "- three atoms of isotope 35 and one of 37\n",
    "- four atoms of isotope 35 and zero of 37\n",
    "\n",
    "as given by:"
   ]
  },
  {
   "cell_type": "code",
   "execution_count": 1083,
   "metadata": {},
   "outputs": [],
   "source": [
    "def atom_set(molecule: Chem.Mol) -> set[str]:\n",
    "    \"\"\"Get the set of atoms in an RDKit molecule\n",
    "\n",
    "    :param molecule: The molecule to analyze\n",
    "    :rtype: A set of atomic symbols.\n",
    "    \"\"\"\n",
    "    # Check that there is a valid molecule\n",
    "    if molecule:\n",
    "      # Add hydrogen atoms--RDKit excludes them by default\n",
    "      molecule_with_Hs = Chem.AddHs(molecule)\n",
    "      atom_symbols = set(atom.GetSymbol() for atom in molecule_with_Hs.GetAtoms())\n",
    "      return atom_symbols"
   ]
  },
  {
   "cell_type": "markdown",
   "metadata": {},
   "source": [
    "We define a function to recursively traverse a NumPy array containing objects and extract a given property into an array of the same shape as the original."
   ]
  },
  {
   "cell_type": "code",
   "execution_count": 1084,
   "metadata": {},
   "outputs": [],
   "source": [
    "def extract_properties(arr, prop_name):\n",
    "    if isinstance(arr, np.ndarray):\n",
    "        # If arr is a NumPy ndarray, iterate through its elements and apply the function recursively\n",
    "        return np.array([extract_properties(item, prop_name) for item in arr])\n",
    "    elif isinstance(arr, list):\n",
    "        # If arr is a list, iterate through its elements and apply the function recursively\n",
    "        return [extract_properties(item, prop_name) for item in arr]\n",
    "    elif hasattr(arr, prop_name):\n",
    "        # If arr has the specified property, extract its value\n",
    "        return getattr(arr, prop_name)\n",
    "    else:\n",
    "        # If the property is not found, return None\n",
    "        return None"
   ]
  },
  {
   "cell_type": "markdown",
   "metadata": {},
   "source": [
    "The following function sets the isotope for each atom of a given element and calculates the abundance based on that element by raising the abundance of an isotope to the power of the count of that isotope in the molecule. When the next element is considered, the code will make independent copies of the molecule that was isotopically labeled for the previous element, then apply isotopic labels for the next element. As a result, the isotopic labeling and abundance calculations are done only once for each element, lessening the computations required."
   ]
  },
  {
   "cell_type": "code",
   "execution_count": 1085,
   "metadata": {},
   "outputs": [],
   "source": [
    "def assign_isotopes(\n",
    "      arr, \n",
    "      isotope_count_distribution, \n",
    "      prefix,\n",
    "      this_element,\n",
    "      n_this_element,\n",
    "      ):\n",
    "    if isinstance(arr, np.ndarray):\n",
    "        for i in range(len(arr)):\n",
    "            new_prefix = prefix + [i]\n",
    "            assign_isotopes(\n",
    "               arr = arr[i], \n",
    "               isotope_count_distribution = isotope_count_distribution, \n",
    "               prefix = new_prefix, \n",
    "               this_element = this_element,\n",
    "               n_this_element = n_this_element,\n",
    "               )\n",
    "    else:\n",
    "        # Clone the distribution, making it independent so the next loop won't be affected\n",
    "        distribution = copy.deepcopy(isotope_count_distribution[prefix[0]])\n",
    "\n",
    "        # Calculate abundances\n",
    "        if arr.abundance is None:\n",
    "           arr.abundance = 1\n",
    "\n",
    "        # Set a and b to the multiplicative identity, 1\n",
    "        a = 1\n",
    "        b = 1\n",
    "\n",
    "        # Keep track of how many atoms have yet to be assigned (n)\n",
    "        n_remaining = n_this_element\n",
    "\n",
    "        # Iterate through the isotopes\n",
    "        for isotope_index, isotope_count in enumerate(distribution):\n",
    "          # Get the abundance of this isotope\n",
    "          a_this_isotope = isotopes[this_element][isotope_index][1]\n",
    "          # Multiply the molecule's abundance by the abundance of this isotope to the power of its count\n",
    "          a *= a_this_isotope**isotope_count\n",
    "\n",
    "          # k is the count of this isotope\n",
    "          b_this_isotope = binomial_coefficient(n_remaining, isotope_count)\n",
    "          b *= b_this_isotope\n",
    "\n",
    "          # Decrease n, the number of atoms yet to be assigned, by the count of this isotope\n",
    "          n_remaining -= isotope_count\n",
    "        arr.abundance *= a*b\n",
    "\n",
    "        # Assign isotopes to atoms of this element type\n",
    "        for atom in arr.mol.GetAtoms():\n",
    "          if atom.GetSymbol() == this_element:\n",
    "            # Count down for each isotope, going on to the next when zero\n",
    "            for isotope_index, isotope in enumerate(distribution):\n",
    "              if distribution[isotope_index] > 0:\n",
    "                  atom.SetIsotope(isotopes[this_element][isotope_index][0])\n",
    "                  distribution[isotope_index] -= 1\n",
    "                  # If assign isotope to this atom, move on to next atom\n",
    "                  break\n",
    "\n",
    "        isotopes_list = []\n",
    "        for atom in arr.mol.GetAtoms():\n",
    "          isotopes_list.append(atom.GetIsotope())\n",
    "\n",
    "        # Update the properties of the MolecularIsotope to get exact masses\n",
    "        arr.update()\n",
    "    return arr"
   ]
  },
  {
   "cell_type": "markdown",
   "metadata": {},
   "source": [
    "## Set up"
   ]
  },
  {
   "cell_type": "markdown",
   "metadata": {},
   "source": [
    "We start by creating a data structure with each element in the molecule, and a nested list of mass number and abundance for each isotope."
   ]
  },
  {
   "cell_type": "code",
   "execution_count": 1086,
   "metadata": {},
   "outputs": [
    {
     "name": "stdout",
     "output_type": "stream",
     "text": [
      "{'H', 'C'}\n",
      "{'H': [[1, 0.999855], [2, 0.000145]], 'C': [[12, 0.9894], [13, 0.0106]]}\n"
     ]
    }
   ],
   "source": [
    "set_of_atoms = atom_set(mol)\n",
    "print(set_of_atoms)\n",
    "isotopes = {}\n",
    "for atom in set_of_atoms:\n",
    "  element_isotopes = mendeleev.element(atom).isotopes\n",
    "  occuring_isotopes = [[isotope.mass_number, isotope.abundance/100] for isotope in element_isotopes if isotope.abundance != None]\n",
    "  isotopes[atom] = occuring_isotopes\n",
    "print(isotopes)"
   ]
  },
  {
   "cell_type": "code",
   "execution_count": 1107,
   "metadata": {},
   "outputs": [
    {
     "data": {
      "text/plain": [
       "{'H': [[1, 0.5], [2, 0.5]], 'C': [[12, 0.5], [13, 0.5]]}"
      ]
     },
     "execution_count": 1107,
     "metadata": {},
     "output_type": "execute_result"
    }
   ],
   "source": [
    "#Debugging only!\n",
    "isotopes = {'H': [[1, 0.5], [2, 0.5]], 'C': [[12, 0.5], [13, 0.5]]}\n",
    "isotopes"
   ]
  },
  {
   "cell_type": "markdown",
   "metadata": {},
   "source": [
    "## Scale of the problem"
   ]
  },
  {
   "cell_type": "markdown",
   "metadata": {},
   "source": [
    "For a given element, we are applying the element's n isotopes to r atoms of that element in the molecule. Because we are only concerned with the mass, the placement of the isotopes is not important, only their count. So this a combinations with replacement scenario, meaning the count of each isotope and each isotope can be used more than once. This is equivalent to painting balls in a jar various colors, where the color represents the isotope, the ball represents an atom in the molecule, and we are not concerned with the order of the balls. The formula for combinations with replacement is:"
   ]
  },
  {
   "cell_type": "markdown",
   "metadata": {},
   "source": [
    "#TODO Add latex formula; isn't there a Python package which will turn a function into a formula?"
   ]
  },
  {
   "cell_type": "code",
   "execution_count": 1108,
   "metadata": {},
   "outputs": [],
   "source": [
    "def combos_with_repetition(n, r):\n",
    "    return int((math.factorial(r + n - 1)) / (math.factorial(r) * math.factorial(n-1)))"
   ]
  },
  {
   "cell_type": "markdown",
   "metadata": {},
   "source": [
    "So for S, there are n = 4 isotopes and r = 1 atoms, so 4 combinations:"
   ]
  },
  {
   "cell_type": "code",
   "execution_count": 1109,
   "metadata": {},
   "outputs": [
    {
     "data": {
      "text/plain": [
       "4"
      ]
     },
     "execution_count": 1109,
     "metadata": {},
     "output_type": "execute_result"
    }
   ],
   "source": [
    "c_S = combos_with_repetition(4,1)\n",
    "c_S"
   ]
  },
  {
   "cell_type": "markdown",
   "metadata": {},
   "source": [
    "And for Cl, there are n = 2 isotopes and r = 2 atoms, so 3 combinations:"
   ]
  },
  {
   "cell_type": "code",
   "execution_count": 1110,
   "metadata": {},
   "outputs": [
    {
     "data": {
      "text/plain": [
       "3"
      ]
     },
     "execution_count": 1110,
     "metadata": {},
     "output_type": "execute_result"
    }
   ],
   "source": [
    "c_Cl = combos_with_repetition(2,2)\n",
    "c_Cl"
   ]
  },
  {
   "cell_type": "markdown",
   "metadata": {},
   "source": [
    "making a total of 12 combinations for the molecule:"
   ]
  },
  {
   "cell_type": "code",
   "execution_count": 1111,
   "metadata": {},
   "outputs": [
    {
     "data": {
      "text/plain": [
       "12"
      ]
     },
     "execution_count": 1111,
     "metadata": {},
     "output_type": "execute_result"
    }
   ],
   "source": [
    "c_S * c_Cl"
   ]
  },
  {
   "cell_type": "markdown",
   "metadata": {},
   "source": [
    "which is less than the 16 permutations in the previous post."
   ]
  },
  {
   "cell_type": "markdown",
   "metadata": {},
   "source": [
    "While that is a fairly small computational improvement, to understand why using combinations instead of permutations becomes so much more computationally efficient for a large molecule, let's consider a larger molecule, naphthalene, C<sub>10</sub>H<sub>8</sub> (SMILES of `c1c2ccccc2ccc1`). We'll calculate the number of combinations and permutations for each element and for the molecule as a whole:"
   ]
  },
  {
   "cell_type": "code",
   "execution_count": 1173,
   "metadata": {},
   "outputs": [
    {
     "name": "stdout",
     "output_type": "stream",
     "text": [
      "Item  Combinations  Permutations  Combinations more efficient by factor of\n",
      "C               11         1,024       93.09\n",
      "H                9           256       28.44\n",
      "mol             99       262,144    2,647.92\n"
     ]
    }
   ],
   "source": [
    "print(\"Item  Combinations  Permutations  Combinations more efficient by factor of\")\n",
    "# C\n",
    "for n_isotopes, n_atoms in [(2, 10)]:\n",
    "    c_C = combos_with_repetition(n_isotopes, n_atoms)\n",
    "    p_C = permutations_with_repetition(n_isotopes, n_atoms)\n",
    "    print(f\"C     {c_C:12,} {p_C:13,} {p_C/c_C:11,.2f}\")\n",
    "# H\n",
    "for n_isotopes, n_atoms in [(2, 8)]:\n",
    "    c_H = combos_with_repetition(n_isotopes, n_atoms)\n",
    "    p_H = permutations_with_repetition(n_isotopes, n_atoms)\n",
    "    print(f\"H     {c_H:12,} {p_H:13,} {p_H/c_H:11,.2f}\")\n",
    "print(f\"mol   {c_C * c_H:12,} {p_C * p_H:13,} {(p_C * p_H)/(c_C * c_H):11,.2f}\")"
   ]
  },
  {
   "cell_type": "markdown",
   "metadata": {},
   "source": [
    "So by ignoring the order, the number of combinations is significantly less than the number of permutations for for each element. Further, when multiple elements are combined in a molecule, the improvement is multiplicative. This helps explain why calculating the isotopic distribution pattern of naphthalene is very fast using combinations, but much slower using permutations.\n",
    "\n",
    "The computational efficiency of using combinations instead of permutations would be even greater for elements with more than two isotopes."
   ]
  },
  {
   "cell_type": "markdown",
   "metadata": {},
   "source": [
    "## Setting the isotope of each atom in each combination"
   ]
  },
  {
   "cell_type": "markdown",
   "metadata": {},
   "source": [
    "To be more computationally efficient, we will create only one instance of each isotopologue, then calculate its abundance.\n"
   ]
  },
  {
   "cell_type": "code",
   "execution_count": 1113,
   "metadata": {},
   "outputs": [],
   "source": [
    "# Initialize ndarray to hold MolecularIsotope objects\n",
    "molecular_isotopes:np.ndarray = np.array(MolecularIsotope)\n",
    "\n",
    "# Loop through the elements in this molecule\n",
    "for this_element, n_this_element in composition(mol).items():\n",
    "  n_isotopes_this_element = len(isotopes[this_element])\n",
    "\n",
    "  # Calculate possible distributions of isotopes across atoms of this element\n",
    "  isotope_count_distribution = distribute_items(n_this_element, n_isotopes_this_element)\n",
    "  n_distributions = len(isotope_count_distribution)\n",
    "\n",
    "  if molecular_isotopes.shape == ():\n",
    "     # Start by creating a 1-dimensional array,\n",
    "     # making sure to make each mol an independent object\n",
    "     molecular_isotopes = np.array([MolecularIsotope(sml=sml, mol=Chem.Mol(mol)) for _ in range(n_distributions)], dtype=object)\n",
    "  else:\n",
    "    # Create a list of m copies of the current object, \n",
    "    # namely the n-1 dimensional ndarray representing elements prior to this element\n",
    "    molecular_isotopes_list = [copy.deepcopy(molecular_isotopes) for _ in range(n_distributions)]\n",
    "    \n",
    "    # Convert the list of copies to a NumPy ndarray\n",
    "    molecular_isotopes = np.array(molecular_isotopes_list, dtype=object)\n",
    "    \n",
    "  # Assign isotopes and abundances\n",
    "  molecular_isotopes = assign_isotopes(\n",
    "     arr=molecular_isotopes,\n",
    "     isotope_count_distribution=isotope_count_distribution, \n",
    "     prefix=[],\n",
    "     this_element=this_element,\n",
    "     n_this_element=n_this_element,\n",
    "     )"
   ]
  },
  {
   "cell_type": "code",
   "execution_count": 1114,
   "metadata": {},
   "outputs": [
    {
     "data": {
      "text/plain": [
       "defaultdict(<function __main__.composition.<locals>.<lambda>()>,\n",
       "            {'C': 10, 'H': 8})"
      ]
     },
     "execution_count": 1114,
     "metadata": {},
     "output_type": "execute_result"
    }
   ],
   "source": [
    "composition(mol)"
   ]
  },
  {
   "cell_type": "code",
   "execution_count": 1115,
   "metadata": {},
   "outputs": [
    {
     "data": {
      "text/plain": [
       "99"
      ]
     },
     "execution_count": 1115,
     "metadata": {},
     "output_type": "execute_result"
    }
   ],
   "source": [
    "molecular_isotopes.size"
   ]
  },
  {
   "cell_type": "code",
   "execution_count": 1116,
   "metadata": {},
   "outputs": [
    {
     "data": {
      "text/plain": [
       "(9, 11)"
      ]
     },
     "execution_count": 1116,
     "metadata": {},
     "output_type": "execute_result"
    }
   ],
   "source": [
    "molecular_isotopes.shape"
   ]
  },
  {
   "cell_type": "markdown",
   "metadata": {},
   "source": [
    "To sort the isotopologues by mass, we flatten the array into one dimension."
   ]
  },
  {
   "cell_type": "code",
   "execution_count": 1117,
   "metadata": {},
   "outputs": [],
   "source": [
    "molecular_isotopes_flat = flatten_ndarray(molecular_isotopes)\n",
    "\n",
    "# Create a list of the masses\n",
    "masses_array_flat = list(extract_properties(molecular_isotopes_flat, \"mass\"))\n",
    "\n",
    "# Create a list of the order of each item by mass, for example the smallest mass will have a value of zero \n",
    "order = np.argsort(masses_array_flat).tolist()\n",
    "\n",
    "# Sort the molecular isotopes by that ordering list\n",
    "sorted_molecular_isotopes = sorted(molecular_isotopes_flat, key=lambda x: order.index(molecular_isotopes_flat.index(x)))"
   ]
  },
  {
   "cell_type": "code",
   "execution_count": 1118,
   "metadata": {},
   "outputs": [],
   "source": [
    "def mol_to_formatted_formula(\n",
    "    mol: Chem.Mol,\n",
    "    isotopes: bool = False,\n",
    ") -> dict[str, str]:\n",
    "    if mol is None:\n",
    "        return \"Invalid molecule\"\n",
    "    comp = composition(mol, isotopes)\n",
    "\n",
    "    formula = {\"markdown\": \"\", \"latex\": \"\"}\n",
    "\n",
    "    if isotopes:\n",
    "        isotopes_dict = defaultdict(lambda: defaultdict(str))\n",
    "        subscripts = defaultdict(lambda: defaultdict(int))\n",
    "        superscripts = defaultdict(list)\n",
    "\n",
    "        for element, counts in comp.items():\n",
    "            for isotope, count in counts.items():\n",
    "                if count > 1:\n",
    "                    subscripts[element][isotope] = count\n",
    "                if isotope != 0:\n",
    "                    superscripts[element].append(isotope)\n",
    "\n",
    "                isotopes_dict[element][isotope] = 1\n",
    "            # Sort the element's isotopes from lowest to highest\n",
    "            superscripts[element].sort()\n",
    "\n",
    "        last_item_is_subscript = False\n",
    "        sorted_element_keys = sorted(isotopes_dict.keys())\n",
    "        for element in sorted_element_keys:\n",
    "            isotope_count_pairs = isotopes_dict[element]\n",
    "            # Sort the element's isotopes from lowest to highest\n",
    "            sorted_isotope_keys = sorted(isotope_count_pairs.keys())\n",
    "            for isotope in sorted_isotope_keys:\n",
    "                if element in superscripts:\n",
    "                    if isotope in superscripts[element]:\n",
    "                        formula[\"markdown\"] += f\"<sup>{isotope}</sup>\"\n",
    "\n",
    "                        # If superscript immediately follows subscript,\n",
    "                        # add a small amount of horizontal space using an empty group {}\n",
    "                        # to prevent them from vertically overlapping\n",
    "                        if last_item_is_subscript:\n",
    "                            formula[\"latex\"] += \"{}\"\n",
    "                        formula[\"latex\"] += \"^{ %d}\" % isotope\n",
    "                        last_item_is_subscript = False\n",
    "                formula[\"markdown\"] += element\n",
    "                formula[\"latex\"] += element\n",
    "                last_item_is_subscript = False\n",
    "                if element in subscripts:\n",
    "                    if isotope in subscripts[element]:\n",
    "                        isotope_count = subscripts[element][isotope]\n",
    "                        formula[\"markdown\"] += f\"<sub>{isotope_count}</sub>\"\n",
    "                        formula[\"latex\"] += \"_{ %d}\" % isotope_count\n",
    "                    last_item_is_subscript = True\n",
    "        # Add beginning and ending dollar signs to LaTeX formula\n",
    "        formula[\"latex\"] = \"$\" + formula[\"latex\"] + \"$\"\n",
    "    else:\n",
    "        # Handling the case when isotopes is False\n",
    "        sorted_element_keys = sorted(comp.keys())\n",
    "\n",
    "        for element in sorted_element_keys:\n",
    "            count = comp[element]\n",
    "            formula[\"markdown\"] += element\n",
    "            formula[\"latex\"] += element\n",
    "            if count > 1:\n",
    "                formula[\"markdown\"] += f\"<sub>{count}</sub>\"\n",
    "                formula[\"latex\"] += \"_{ %d}\" % count\n",
    "        formula[\"latex\"] = \"$\" + formula[\"latex\"] + \"$\"\n",
    "\n",
    "    return formula"
   ]
  },
  {
   "cell_type": "code",
   "execution_count": 1119,
   "metadata": {},
   "outputs": [],
   "source": [
    "def dict_list_to_markdown_table(data, number_rows=False):\n",
    "    \"\"\"\n",
    "    Convert a list of dictionaries into a Markdown table.\n",
    "\n",
    "    Args:\n",
    "        data (list): A list of dictionaries, where each dictionary corresponds to a row in the table.\n",
    "        include_row_numbers (bool): Whether to include a row number column.\n",
    "\n",
    "    Returns:\n",
    "        str: The Markdown-formatted table as a string.\n",
    "    \"\"\"\n",
    "    if not data:\n",
    "        return \"\"\n",
    "\n",
    "    # Extract column headers from the keys of the first dictionary\n",
    "    headers = data[0].keys()\n",
    "\n",
    "    # If include_row_numbers is True, add the \"Row #\" column\n",
    "    if number_rows:\n",
    "        headers = [\"#\"] + list(headers)\n",
    "\n",
    "    # Create the table headers\n",
    "    table = \"| \" + \" | \".join(headers) + \" |\\n\"\n",
    "\n",
    "    # Create the title divider line\n",
    "    table += \"|\"\n",
    "    for _ in headers:\n",
    "        table += \" --- |\"\n",
    "    table += \"\\n\"\n",
    "\n",
    "    # Create the table body\n",
    "    for i, row in enumerate(data):\n",
    "        if number_rows:\n",
    "            row_data = [i + 1] + [row.get(header, \"\") for header in headers[1:]]\n",
    "        else:\n",
    "            row_data = [row.get(header, \"\") for header in headers]\n",
    "\n",
    "        table += \"| \" + \" | \".join(map(str, row_data)) + \" |\\n\"\n",
    "\n",
    "    return table"
   ]
  },
  {
   "cell_type": "code",
   "execution_count": 1120,
   "metadata": {},
   "outputs": [
    {
     "data": {
      "text/markdown": [
       "| # | formula | mass | abundance |\n",
       "| --- | --- | --- | --- |\n",
       "| 1 | <sup>12</sup>C<sub>10</sub><sup>1</sup>H<sub>8</sub> | 128.062600256 | 3.814697265625e-06 |\n",
       "| 2 | <sup>12</sup>C<sub>9</sub><sup>13</sup>C<sup>1</sup>H<sub>8</sub> | 129.065955096 | 3.814697265625e-05 |\n",
       "| 3 | <sup>12</sup>C<sub>10</sub><sup>1</sup>H<sub>7</sub><sup>2</sup>H | 129.068877002 | 3.0517578125e-05 |\n",
       "| 4 | <sup>12</sup>C<sub>8</sub><sup>13</sup>C<sub>2</sub><sup>1</sup>H<sub>8</sub> | 130.069309936 | 0.000171661376953125 |\n",
       "| 5 | <sup>12</sup>C<sub>9</sub><sup>13</sup>C<sup>1</sup>H<sub>7</sub><sup>2</sup>H | 130.072231842 | 0.00030517578125 |\n",
       "| 6 | <sup>12</sup>C<sub>10</sub><sup>1</sup>H<sub>6</sub><sup>2</sup>H<sub>2</sub> | 130.075153748 | 0.0001068115234375 |\n",
       "| 7 | <sup>12</sup>C<sub>7</sub><sup>13</sup>C<sub>3</sub><sup>1</sup>H<sub>8</sub> | 131.072664776 | 0.000457763671875 |\n",
       "| 8 | <sup>12</sup>C<sub>8</sub><sup>13</sup>C<sub>2</sub><sup>1</sup>H<sub>7</sub><sup>2</sup>H | 131.075586682 | 0.001373291015625 |\n",
       "| 9 | <sup>12</sup>C<sub>9</sub><sup>13</sup>C<sup>1</sup>H<sub>6</sub><sup>2</sup>H<sub>2</sub> | 131.078508588 | 0.001068115234375 |\n",
       "| 10 | <sup>12</sup>C<sub>10</sub><sup>1</sup>H<sub>5</sub><sup>2</sup>H<sub>3</sub> | 131.081430494 | 0.000213623046875 |\n",
       "| 11 | <sup>12</sup>C<sub>6</sub><sup>13</sup>C<sub>4</sub><sup>1</sup>H<sub>8</sub> | 132.076019616 | 0.00080108642578125 |\n",
       "| 12 | <sup>12</sup>C<sub>7</sub><sup>13</sup>C<sub>3</sub><sup>1</sup>H<sub>7</sub><sup>2</sup>H | 132.078941522 | 0.003662109375 |\n",
       "| 13 | <sup>12</sup>C<sub>8</sub><sup>13</sup>C<sub>2</sub><sup>1</sup>H<sub>6</sub><sup>2</sup>H<sub>2</sub> | 132.081863428 | 0.0048065185546875 |\n",
       "| 14 | <sup>12</sup>C<sub>9</sub><sup>13</sup>C<sup>1</sup>H<sub>5</sub><sup>2</sup>H<sub>3</sub> | 132.084785334 | 0.00213623046875 |\n",
       "| 15 | <sup>12</sup>C<sub>10</sub><sup>1</sup>H<sub>4</sub><sup>2</sup>H<sub>4</sub> | 132.08770724 | 0.00026702880859375 |\n",
       "| 16 | <sup>12</sup>C<sub>5</sub><sup>13</sup>C<sub>5</sub><sup>1</sup>H<sub>8</sub> | 133.079374456 | 0.0009613037109375 |\n",
       "| 17 | <sup>12</sup>C<sub>6</sub><sup>13</sup>C<sub>4</sub><sup>1</sup>H<sub>7</sub><sup>2</sup>H | 133.082296362 | 0.00640869140625 |\n",
       "| 18 | <sup>12</sup>C<sub>7</sub><sup>13</sup>C<sub>3</sub><sup>1</sup>H<sub>6</sub><sup>2</sup>H<sub>2</sub> | 133.085218268 | 0.0128173828125 |\n",
       "| 19 | <sup>12</sup>C<sub>8</sub><sup>13</sup>C<sub>2</sub><sup>1</sup>H<sub>5</sub><sup>2</sup>H<sub>3</sub> | 133.088140174 | 0.009613037109375 |\n",
       "| 20 | <sup>12</sup>C<sub>9</sub><sup>13</sup>C<sup>1</sup>H<sub>4</sub><sup>2</sup>H<sub>4</sub> | 133.09106208 | 0.0026702880859375 |\n",
       "| 21 | <sup>12</sup>C<sub>10</sub><sup>1</sup>H<sub>3</sub><sup>2</sup>H<sub>5</sub> | 133.09398398599998 | 0.000213623046875 |\n",
       "| 22 | <sup>12</sup>C<sub>4</sub><sup>13</sup>C<sub>6</sub><sup>1</sup>H<sub>8</sub> | 134.082729296 | 0.00080108642578125 |\n",
       "| 23 | <sup>12</sup>C<sub>5</sub><sup>13</sup>C<sub>5</sub><sup>1</sup>H<sub>7</sub><sup>2</sup>H | 134.085651202 | 0.0076904296875 |\n",
       "| 24 | <sup>12</sup>C<sub>6</sub><sup>13</sup>C<sub>4</sub><sup>1</sup>H<sub>6</sub><sup>2</sup>H<sub>2</sub> | 134.088573108 | 0.022430419921875 |\n",
       "| 25 | <sup>12</sup>C<sub>7</sub><sup>13</sup>C<sub>3</sub><sup>1</sup>H<sub>5</sub><sup>2</sup>H<sub>3</sub> | 134.091495014 | 0.025634765625 |\n",
       "| 26 | <sup>12</sup>C<sub>8</sub><sup>13</sup>C<sub>2</sub><sup>1</sup>H<sub>4</sub><sup>2</sup>H<sub>4</sub> | 134.09441692 | 0.01201629638671875 |\n",
       "| 27 | <sup>12</sup>C<sub>9</sub><sup>13</sup>C<sup>1</sup>H<sub>3</sub><sup>2</sup>H<sub>5</sub> | 134.097338826 | 0.00213623046875 |\n",
       "| 28 | <sup>12</sup>C<sub>10</sub><sup>1</sup>H<sub>2</sub><sup>2</sup>H<sub>6</sub> | 134.10026073199998 | 0.0001068115234375 |\n",
       "| 29 | <sup>12</sup>C<sub>3</sub><sup>13</sup>C<sub>7</sub><sup>1</sup>H<sub>8</sub> | 135.086084136 | 0.000457763671875 |\n",
       "| 30 | <sup>12</sup>C<sub>4</sub><sup>13</sup>C<sub>6</sub><sup>1</sup>H<sub>7</sub><sup>2</sup>H | 135.089006042 | 0.00640869140625 |\n",
       "| 31 | <sup>12</sup>C<sub>5</sub><sup>13</sup>C<sub>5</sub><sup>1</sup>H<sub>6</sub><sup>2</sup>H<sub>2</sub> | 135.091927948 | 0.02691650390625 |\n",
       "| 32 | <sup>12</sup>C<sub>6</sub><sup>13</sup>C<sub>4</sub><sup>1</sup>H<sub>5</sub><sup>2</sup>H<sub>3</sub> | 135.094849854 | 0.04486083984375 |\n",
       "| 33 | <sup>12</sup>C<sub>7</sub><sup>13</sup>C<sub>3</sub><sup>1</sup>H<sub>4</sub><sup>2</sup>H<sub>4</sub> | 135.09777176 | 0.03204345703125 |\n",
       "| 34 | <sup>12</sup>C<sub>8</sub><sup>13</sup>C<sub>2</sub><sup>1</sup>H<sub>3</sub><sup>2</sup>H<sub>5</sub> | 135.10069366599998 | 0.009613037109375 |\n",
       "| 35 | <sup>12</sup>C<sub>9</sub><sup>13</sup>C<sup>1</sup>H<sub>2</sub><sup>2</sup>H<sub>6</sub> | 135.103615572 | 0.001068115234375 |\n",
       "| 36 | <sup>12</sup>C<sub>10</sub><sup>1</sup>H<sup>2</sup>H<sub>7</sub> | 135.10653747799998 | 3.0517578125e-05 |\n",
       "| 37 | <sup>12</sup>C<sub>2</sub><sup>13</sup>C<sub>8</sub><sup>1</sup>H<sub>8</sub> | 136.089438976 | 0.000171661376953125 |\n",
       "| 38 | <sup>12</sup>C<sub>3</sub><sup>13</sup>C<sub>7</sub><sup>1</sup>H<sub>7</sub><sup>2</sup>H | 136.092360882 | 0.003662109375 |\n",
       "| 39 | <sup>12</sup>C<sub>4</sub><sup>13</sup>C<sub>6</sub><sup>1</sup>H<sub>6</sub><sup>2</sup>H<sub>2</sub> | 136.095282788 | 0.022430419921875 |\n",
       "| 40 | <sup>12</sup>C<sub>5</sub><sup>13</sup>C<sub>5</sub><sup>1</sup>H<sub>5</sub><sup>2</sup>H<sub>3</sub> | 136.098204694 | 0.0538330078125 |\n",
       "| 41 | <sup>12</sup>C<sub>6</sub><sup>13</sup>C<sub>4</sub><sup>1</sup>H<sub>4</sub><sup>2</sup>H<sub>4</sub> | 136.1011266 | 0.0560760498046875 |\n",
       "| 42 | <sup>12</sup>C<sub>7</sub><sup>13</sup>C<sub>3</sub><sup>1</sup>H<sub>3</sub><sup>2</sup>H<sub>5</sub> | 136.104048506 | 0.025634765625 |\n",
       "| 43 | <sup>12</sup>C<sub>8</sub><sup>13</sup>C<sub>2</sub><sup>1</sup>H<sub>2</sub><sup>2</sup>H<sub>6</sub> | 136.10697041199998 | 0.0048065185546875 |\n",
       "| 44 | <sup>12</sup>C<sub>9</sub><sup>13</sup>C<sup>1</sup>H<sup>2</sup>H<sub>7</sub> | 136.109892318 | 0.00030517578125 |\n",
       "| 45 | <sup>12</sup>C<sub>10</sub><sup>2</sup>H<sub>8</sub> | 136.11281422399998 | 3.814697265625e-06 |\n",
       "| 46 | <sup>12</sup>C<sup>13</sup>C<sub>9</sub><sup>1</sup>H<sub>8</sub> | 137.09279381599998 | 3.814697265625e-05 |\n",
       "| 47 | <sup>12</sup>C<sub>2</sub><sup>13</sup>C<sub>8</sub><sup>1</sup>H<sub>7</sub><sup>2</sup>H | 137.095715722 | 0.001373291015625 |\n",
       "| 48 | <sup>12</sup>C<sub>3</sub><sup>13</sup>C<sub>7</sub><sup>1</sup>H<sub>6</sub><sup>2</sup>H<sub>2</sub> | 137.098637628 | 0.0128173828125 |\n",
       "| 49 | <sup>12</sup>C<sub>4</sub><sup>13</sup>C<sub>6</sub><sup>1</sup>H<sub>5</sub><sup>2</sup>H<sub>3</sub> | 137.101559534 | 0.04486083984375 |\n",
       "| 50 | <sup>12</sup>C<sub>5</sub><sup>13</sup>C<sub>5</sub><sup>1</sup>H<sub>4</sub><sup>2</sup>H<sub>4</sub> | 137.10448144 | 0.067291259765625 |\n",
       "| 51 | <sup>12</sup>C<sub>6</sub><sup>13</sup>C<sub>4</sub><sup>1</sup>H<sub>3</sub><sup>2</sup>H<sub>5</sub> | 137.10740334599998 | 0.04486083984375 |\n",
       "| 52 | <sup>12</sup>C<sub>7</sub><sup>13</sup>C<sub>3</sub><sup>1</sup>H<sub>2</sub><sup>2</sup>H<sub>6</sub> | 137.110325252 | 0.0128173828125 |\n",
       "| 53 | <sup>12</sup>C<sub>8</sub><sup>13</sup>C<sub>2</sub><sup>1</sup>H<sup>2</sup>H<sub>7</sub> | 137.11324715799998 | 0.001373291015625 |\n",
       "| 54 | <sup>12</sup>C<sub>9</sub><sup>13</sup>C<sup>2</sup>H<sub>8</sub> | 137.116169064 | 3.814697265625e-05 |\n",
       "| 55 | <sup>13</sup>C<sub>10</sub><sup>1</sup>H<sub>8</sub> | 138.096148656 | 3.814697265625e-06 |\n",
       "| 56 | <sup>12</sup>C<sup>13</sup>C<sub>9</sub><sup>1</sup>H<sub>7</sub><sup>2</sup>H | 138.09907056199998 | 0.00030517578125 |\n",
       "| 57 | <sup>12</sup>C<sub>2</sub><sup>13</sup>C<sub>8</sub><sup>1</sup>H<sub>6</sub><sup>2</sup>H<sub>2</sub> | 138.101992468 | 0.0048065185546875 |\n",
       "| 58 | <sup>12</sup>C<sub>3</sub><sup>13</sup>C<sub>7</sub><sup>1</sup>H<sub>5</sub><sup>2</sup>H<sub>3</sub> | 138.104914374 | 0.025634765625 |\n",
       "| 59 | <sup>12</sup>C<sub>4</sub><sup>13</sup>C<sub>6</sub><sup>1</sup>H<sub>4</sub><sup>2</sup>H<sub>4</sub> | 138.10783628 | 0.0560760498046875 |\n",
       "| 60 | <sup>12</sup>C<sub>5</sub><sup>13</sup>C<sub>5</sub><sup>1</sup>H<sub>3</sub><sup>2</sup>H<sub>5</sub> | 138.110758186 | 0.0538330078125 |\n",
       "| 61 | <sup>12</sup>C<sub>6</sub><sup>13</sup>C<sub>4</sub><sup>1</sup>H<sub>2</sub><sup>2</sup>H<sub>6</sub> | 138.11368009199998 | 0.022430419921875 |\n",
       "| 62 | <sup>12</sup>C<sub>7</sub><sup>13</sup>C<sub>3</sub><sup>1</sup>H<sup>2</sup>H<sub>7</sub> | 138.116601998 | 0.003662109375 |\n",
       "| 63 | <sup>12</sup>C<sub>8</sub><sup>13</sup>C<sub>2</sub><sup>2</sup>H<sub>8</sub> | 138.11952390399998 | 0.000171661376953125 |\n",
       "| 64 | <sup>13</sup>C<sub>10</sub><sup>1</sup>H<sub>7</sub><sup>2</sup>H | 139.102425402 | 3.0517578125e-05 |\n",
       "| 65 | <sup>12</sup>C<sup>13</sup>C<sub>9</sub><sup>1</sup>H<sub>6</sub><sup>2</sup>H<sub>2</sub> | 139.10534730799998 | 0.001068115234375 |\n",
       "| 66 | <sup>12</sup>C<sub>2</sub><sup>13</sup>C<sub>8</sub><sup>1</sup>H<sub>5</sub><sup>2</sup>H<sub>3</sub> | 139.108269214 | 0.009613037109375 |\n",
       "| 67 | <sup>12</sup>C<sub>3</sub><sup>13</sup>C<sub>7</sub><sup>1</sup>H<sub>4</sub><sup>2</sup>H<sub>4</sub> | 139.11119112 | 0.03204345703125 |\n",
       "| 68 | <sup>12</sup>C<sub>4</sub><sup>13</sup>C<sub>6</sub><sup>1</sup>H<sub>3</sub><sup>2</sup>H<sub>5</sub> | 139.11411302599998 | 0.04486083984375 |\n",
       "| 69 | <sup>12</sup>C<sub>5</sub><sup>13</sup>C<sub>5</sub><sup>1</sup>H<sub>2</sub><sup>2</sup>H<sub>6</sub> | 139.117034932 | 0.02691650390625 |\n",
       "| 70 | <sup>12</sup>C<sub>6</sub><sup>13</sup>C<sub>4</sub><sup>1</sup>H<sup>2</sup>H<sub>7</sub> | 139.11995683799998 | 0.00640869140625 |\n",
       "| 71 | <sup>12</sup>C<sub>7</sub><sup>13</sup>C<sub>3</sub><sup>2</sup>H<sub>8</sub> | 139.122878744 | 0.000457763671875 |\n",
       "| 72 | <sup>13</sup>C<sub>10</sub><sup>1</sup>H<sub>6</sub><sup>2</sup>H<sub>2</sub> | 140.108702148 | 0.0001068115234375 |\n",
       "| 73 | <sup>12</sup>C<sup>13</sup>C<sub>9</sub><sup>1</sup>H<sub>5</sub><sup>2</sup>H<sub>3</sub> | 140.11162405399998 | 0.00213623046875 |\n",
       "| 74 | <sup>12</sup>C<sub>2</sub><sup>13</sup>C<sub>8</sub><sup>1</sup>H<sub>4</sub><sup>2</sup>H<sub>4</sub> | 140.11454596 | 0.01201629638671875 |\n",
       "| 75 | <sup>12</sup>C<sub>3</sub><sup>13</sup>C<sub>7</sub><sup>1</sup>H<sub>3</sub><sup>2</sup>H<sub>5</sub> | 140.117467866 | 0.025634765625 |\n",
       "| 76 | <sup>12</sup>C<sub>4</sub><sup>13</sup>C<sub>6</sub><sup>1</sup>H<sub>2</sub><sup>2</sup>H<sub>6</sub> | 140.12038977199998 | 0.022430419921875 |\n",
       "| 77 | <sup>12</sup>C<sub>5</sub><sup>13</sup>C<sub>5</sub><sup>1</sup>H<sup>2</sup>H<sub>7</sub> | 140.123311678 | 0.0076904296875 |\n",
       "| 78 | <sup>12</sup>C<sub>6</sub><sup>13</sup>C<sub>4</sub><sup>2</sup>H<sub>8</sub> | 140.12623358399998 | 0.00080108642578125 |\n",
       "| 79 | <sup>13</sup>C<sub>10</sub><sup>1</sup>H<sub>5</sub><sup>2</sup>H<sub>3</sub> | 141.114978894 | 0.000213623046875 |\n",
       "| 80 | <sup>12</sup>C<sup>13</sup>C<sub>9</sub><sup>1</sup>H<sub>4</sub><sup>2</sup>H<sub>4</sub> | 141.11790079999997 | 0.0026702880859375 |\n",
       "| 81 | <sup>12</sup>C<sub>2</sub><sup>13</sup>C<sub>8</sub><sup>1</sup>H<sub>3</sub><sup>2</sup>H<sub>5</sub> | 141.12082270599998 | 0.009613037109375 |\n",
       "| 82 | <sup>12</sup>C<sub>3</sub><sup>13</sup>C<sub>7</sub><sup>1</sup>H<sub>2</sub><sup>2</sup>H<sub>6</sub> | 141.123744612 | 0.0128173828125 |\n",
       "| 83 | <sup>12</sup>C<sub>4</sub><sup>13</sup>C<sub>6</sub><sup>1</sup>H<sup>2</sup>H<sub>7</sub> | 141.12666651799998 | 0.00640869140625 |\n",
       "| 84 | <sup>12</sup>C<sub>5</sub><sup>13</sup>C<sub>5</sub><sup>2</sup>H<sub>8</sub> | 141.129588424 | 0.0009613037109375 |\n",
       "| 85 | <sup>13</sup>C<sub>10</sub><sup>1</sup>H<sub>4</sub><sup>2</sup>H<sub>4</sub> | 142.12125564 | 0.00026702880859375 |\n",
       "| 86 | <sup>12</sup>C<sup>13</sup>C<sub>9</sub><sup>1</sup>H<sub>3</sub><sup>2</sup>H<sub>5</sub> | 142.12417754599997 | 0.00213623046875 |\n",
       "| 87 | <sup>12</sup>C<sub>2</sub><sup>13</sup>C<sub>8</sub><sup>1</sup>H<sub>2</sub><sup>2</sup>H<sub>6</sub> | 142.12709945199998 | 0.0048065185546875 |\n",
       "| 88 | <sup>12</sup>C<sub>3</sub><sup>13</sup>C<sub>7</sub><sup>1</sup>H<sup>2</sup>H<sub>7</sub> | 142.130021358 | 0.003662109375 |\n",
       "| 89 | <sup>12</sup>C<sub>4</sub><sup>13</sup>C<sub>6</sub><sup>2</sup>H<sub>8</sub> | 142.13294326399998 | 0.00080108642578125 |\n",
       "| 90 | <sup>13</sup>C<sub>10</sub><sup>1</sup>H<sub>3</sub><sup>2</sup>H<sub>5</sub> | 143.12753238599998 | 0.000213623046875 |\n",
       "| 91 | <sup>12</sup>C<sup>13</sup>C<sub>9</sub><sup>1</sup>H<sub>2</sub><sup>2</sup>H<sub>6</sub> | 143.13045429199997 | 0.001068115234375 |\n",
       "| 92 | <sup>12</sup>C<sub>2</sub><sup>13</sup>C<sub>8</sub><sup>1</sup>H<sup>2</sup>H<sub>7</sub> | 143.13337619799998 | 0.001373291015625 |\n",
       "| 93 | <sup>12</sup>C<sub>3</sub><sup>13</sup>C<sub>7</sub><sup>2</sup>H<sub>8</sub> | 143.136298104 | 0.000457763671875 |\n",
       "| 94 | <sup>13</sup>C<sub>10</sub><sup>1</sup>H<sub>2</sub><sup>2</sup>H<sub>6</sub> | 144.13380913199998 | 0.0001068115234375 |\n",
       "| 95 | <sup>12</sup>C<sup>13</sup>C<sub>9</sub><sup>1</sup>H<sup>2</sup>H<sub>7</sub> | 144.13673103799997 | 0.00030517578125 |\n",
       "| 96 | <sup>12</sup>C<sub>2</sub><sup>13</sup>C<sub>8</sub><sup>2</sup>H<sub>8</sub> | 144.13965294399998 | 0.000171661376953125 |\n",
       "| 97 | <sup>13</sup>C<sub>10</sub><sup>1</sup>H<sup>2</sup>H<sub>7</sub> | 145.14008587799998 | 3.0517578125e-05 |\n",
       "| 98 | <sup>12</sup>C<sup>13</sup>C<sub>9</sub><sup>2</sup>H<sub>8</sub> | 145.14300778399996 | 3.814697265625e-05 |\n",
       "| 99 | <sup>13</sup>C<sub>10</sub><sup>2</sup>H<sub>8</sub> | 146.14636262399998 | 3.814697265625e-06 |\n"
      ],
      "text/plain": [
       "<IPython.core.display.Markdown object>"
      ]
     },
     "execution_count": 1120,
     "metadata": {},
     "output_type": "execute_result"
    }
   ],
   "source": [
    "data_dict_list = []\n",
    "for mol_isotope in sorted_molecular_isotopes:\n",
    "    mol_isotope.update()\n",
    "    data_dict = {prop: getattr(mol_isotope, prop) for prop in vars(mol_isotope).keys()}\n",
    "    data_dict[\"mol_isotope\"] = mol_isotope\n",
    "    data_dict_list.append(data_dict)\n",
    "df = pl.DataFrame(data_dict_list).select([\"mass\", \"abundance\", \"mol\"])\n",
    "df = df.with_columns(\n",
    "    pl.col(\"mol\").map_elements(lambda x: mol_to_formatted_formula(x, isotopes=True)[\"markdown\"]).alias(\"formula\"),\n",
    "    pl.col(\"mol\").map_elements(lambda x: mol_to_formatted_formula(x, isotopes=True)[\"latex\"]).alias(\"formula_latex\"),\n",
    ")\n",
    "\n",
    "# Choose rows to display in Markdown table\n",
    "df_display = df.select([\"formula\", \"mass\", \"abundance\"])\n",
    "table = dict_list_to_markdown_table(\n",
    "    df_display.rows(named=True),\n",
    "    number_rows=True)\n",
    "Markdown(table)\n",
    "\n",
    "Markdown(\n",
    "    dict_list_to_markdown_table(\n",
    "        df_display.rows(named=True),\n",
    "        number_rows=True,\n",
    "        )\n",
    "    )"
   ]
  },
  {
   "cell_type": "markdown",
   "metadata": {},
   "source": [
    "### Checking our abundances"
   ]
  },
  {
   "cell_type": "markdown",
   "metadata": {},
   "source": [
    "To verify that we calculated and aggregated abundances correctly, we check that the sum of abundances of the isotopomers is 1. (It might be very slightly different depending on the isotope data, numerical precision of operations, etc.)"
   ]
  },
  {
   "cell_type": "code",
   "execution_count": 1121,
   "metadata": {},
   "outputs": [
    {
     "name": "stdout",
     "output_type": "stream",
     "text": [
      "1.0\n"
     ]
    }
   ],
   "source": [
    "mol_isotopes_abundances = df[\"abundance\"].to_list()\n",
    "abundance_sum = sum(mol_isotopes_abundances)\n",
    "print(abundance_sum)"
   ]
  },
  {
   "cell_type": "markdown",
   "metadata": {},
   "source": [
    "## Plot abundance vs. mass results"
   ]
  },
  {
   "cell_type": "markdown",
   "metadata": {},
   "source": [
    "For the graph, to prevent a forest of short lines and colliding labels due to the be many isotopomers with very low abundance, we might want to limit the plot to a cutoff level of abundance."
   ]
  },
  {
   "cell_type": "code",
   "execution_count": 1122,
   "metadata": {},
   "outputs": [
    {
     "data": {
      "text/markdown": [
       "| # | formula | mass | abundance |\n",
       "| --- | --- | --- | --- |\n",
       "| 1 | <sup>12</sup>C<sub>5</sub><sup>13</sup>C<sub>5</sub><sup>1</sup>H<sub>5</sub><sup>2</sup>H<sub>3</sub> | 136.098204694 | 0.0538330078125 |\n",
       "| 2 | <sup>12</sup>C<sub>6</sub><sup>13</sup>C<sub>4</sub><sup>1</sup>H<sub>4</sub><sup>2</sup>H<sub>4</sub> | 136.1011266 | 0.0560760498046875 |\n",
       "| 3 | <sup>12</sup>C<sub>5</sub><sup>13</sup>C<sub>5</sub><sup>1</sup>H<sub>4</sub><sup>2</sup>H<sub>4</sub> | 137.10448144 | 0.067291259765625 |\n",
       "| 4 | <sup>12</sup>C<sub>4</sub><sup>13</sup>C<sub>6</sub><sup>1</sup>H<sub>4</sub><sup>2</sup>H<sub>4</sub> | 138.10783628 | 0.0560760498046875 |\n",
       "| 5 | <sup>12</sup>C<sub>5</sub><sup>13</sup>C<sub>5</sub><sup>1</sup>H<sub>3</sub><sup>2</sup>H<sub>5</sub> | 138.110758186 | 0.0538330078125 |\n"
      ],
      "text/plain": [
       "<IPython.core.display.Markdown object>"
      ]
     },
     "execution_count": 1122,
     "metadata": {},
     "output_type": "execute_result"
    }
   ],
   "source": [
    "cutoff = 0.05\n",
    "df_cutoff = df.filter(pl.col(\"abundance\") > cutoff)\n",
    "\n",
    "# Format as Markdown table\n",
    "df_display_cutoff = df_cutoff.select([\"formula\", \"mass\", \"abundance\"])\n",
    "table_cutoff = dict_list_to_markdown_table(\n",
    "    df_display_cutoff.rows(named=True),\n",
    "    number_rows=True)\n",
    "Markdown(table_cutoff)"
   ]
  },
  {
   "cell_type": "markdown",
   "metadata": {},
   "source": [
    "These results agree with the analogous table in the previous blog post. Now we can plot the isotopomers above that cutoff level of abundance."
   ]
  },
  {
   "cell_type": "code",
   "execution_count": 1123,
   "metadata": {},
   "outputs": [
    {
     "name": "stderr",
     "output_type": "stream",
     "text": [
      "/Users/jemonat/Projects/bertiewooster.github.io/venv/lib/python3.11/site-packages/seaborn/_oldcore.py:1498: FutureWarning: is_categorical_dtype is deprecated and will be removed in a future version. Use isinstance(dtype, CategoricalDtype) instead\n",
      "  if pd.api.types.is_categorical_dtype(vector):\n",
      "/Users/jemonat/Projects/bertiewooster.github.io/venv/lib/python3.11/site-packages/seaborn/_oldcore.py:1498: FutureWarning: is_categorical_dtype is deprecated and will be removed in a future version. Use isinstance(dtype, CategoricalDtype) instead\n",
      "  if pd.api.types.is_categorical_dtype(vector):\n"
     ]
    },
    {
     "data": {
      "image/png": "[encoded data removed]",
      "text/plain": [
       "<Figure size 640x480 with 1 Axes>"
      ]
     },
     "metadata": {},
     "output_type": "display_data"
    }
   ],
   "source": [
    "# Create the scatter plot using Seaborn; don't use markers because we'll plot lines instead\n",
    "sns.scatterplot(x='mass', y='abundance', data=df_cutoff, marker='')\n",
    "\n",
    "plt.xlabel('Mass (amu)')\n",
    "plt.ylabel('Abundance')\n",
    "\n",
    "# Generate molecular formula of molecule\n",
    "formula = mol_to_formatted_formula(mol)[\"latex\"].strip(\"$\")\n",
    "\n",
    "# Use C-style string formatting with the % operator to avoid conflicts with using braces for both LaTeX and {}.format()\n",
    "title = r\"${\\rm %s}$ molecular isotopic distribution\" % formula\n",
    "plt.title(title)\n",
    "\n",
    "# Adjust x-axis limits to allow more space on the left and right for labels\n",
    "xrange = max(df_cutoff['mass']) - min(df_cutoff['mass'])\n",
    "xpad = xrange * 0.15\n",
    "plt.xlim(min(df_cutoff['mass']) - xpad, max(df_cutoff['mass']) + xpad)\n",
    "\n",
    "# Adjust y-axis limits to start at zero and allow more space on the top for labels\n",
    "yrange = max(df_cutoff['abundance']) - min(df_cutoff['abundance'])\n",
    "ypad = yrange * 0.15\n",
    "plt.ylim(0, max(df_cutoff['abundance']) + ypad)\n",
    "\n",
    "# Iterate through the rows (data points)\n",
    "for index, (mass, abundance, formula) in enumerate(zip(df_cutoff['mass'], df_cutoff['abundance'], df_cutoff['formula_latex'])):\n",
    "    # Add vertical lines from each data point to the x-axis\n",
    "    plt.vlines(x=mass, ymin=0, ymax=abundance, colors='black')\n",
    "\n",
    "    # Label the data points by mass\n",
    "    label = r\"${\\rm %s}$ %s %s\" % (formula.strip(\"$\"), \"\\n\", round(mass, 6))\n",
    "    plt.text(\n",
    "        x=mass, \n",
    "        y=abundance, \n",
    "        s=label, \n",
    "        ha='center',\n",
    "        va='bottom')\n",
    "\n",
    "plt.show()"
   ]
  },
  {
   "cell_type": "markdown",
   "metadata": {},
   "source": [
    "## Conclusion"
   ]
  },
  {
   "cell_type": "markdown",
   "metadata": {},
   "source": [
    "Using the binomial distribution to calculate the number of occurrences for each isotopic molecular formula is much more efficient than creating a separate molecule for each position of each isotope. Because all we care about is the molecular mass, it is not important where in the molecule each isotope is, just how many of each isotope there are. Combinations, which ignore the order of isotopic atoms, thus suffice and save computation compared to using permutations, which consider the order of isotopic atoms."
   ]
  }
 ],
 "metadata": {
  "kernelspec": {
   "display_name": "venv",
   "language": "python",
   "name": "python3"
  },
  "language_info": {
   "codemirror_mode": {
    "name": "ipython",
    "version": 3
   },
   "file_extension": ".py",
   "mimetype": "text/x-python",
   "name": "python",
   "nbconvert_exporter": "python",
   "pygments_lexer": "ipython3",
   "version": "3.11.0"
  },
  "orig_nbformat": 4
 },
 "nbformat": 4,
 "nbformat_minor": 2
}
