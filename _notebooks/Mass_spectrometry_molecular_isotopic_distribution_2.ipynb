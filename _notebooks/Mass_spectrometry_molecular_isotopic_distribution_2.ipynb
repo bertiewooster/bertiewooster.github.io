{
 "cells": [
  {
   "cell_type": "markdown",
   "metadata": {},
   "source": [
    "# Molecular Isotopic Distributions Part 2: Combinations"
   ]
  },
  {
   "cell_type": "code",
   "execution_count": 8,
   "metadata": {},
   "outputs": [],
   "source": [
    "%%capture\n",
    "%!pip install rdkit\n",
    "%!pip install mendeleev"
   ]
  },
  {
   "cell_type": "code",
   "execution_count": 35,
   "metadata": {},
   "outputs": [],
   "source": [
    "from collections import defaultdict\n",
    "import math\n",
    "import copy\n",
    "\n",
    "from IPython.display import display, Markdown\n",
    "import numpy as np\n",
    "import seaborn as sns\n",
    "import matplotlib.pyplot as plt\n",
    "import polars as pl\n",
    "\n",
    "from mendeleev import element\n",
    "from rdkit import Chem\n",
    "from rdkit.Chem import Descriptors"
   ]
  },
  {
   "cell_type": "code",
   "execution_count": 36,
   "metadata": {},
   "outputs": [],
   "source": [
    "# Carbon tetrachloride\n",
    "sml = \"ClC(Cl)(Cl)Cl\"\n",
    "mol = Chem.MolFromSmiles(sml)"
   ]
  },
  {
   "cell_type": "code",
   "execution_count": 37,
   "metadata": {},
   "outputs": [],
   "source": [
    "class MolecularIsotope():\n",
    "  \"\"\"Store a molecule's isotopic properties.\"\"\"\n",
    "  def __init__(\n",
    "      self,\n",
    "      sml: str,\n",
    "      mol: Chem.rdchem.Mol = None,\n",
    "      abundance: float = None):\n",
    "    self.sml = sml\n",
    "    self.abundance = abundance\n",
    "    if mol is not None:\n",
    "      self.mol = mol\n",
    "    else:\n",
    "      try:\n",
    "        self.mol = Chem.MolFromSmiles(sml)\n",
    "      except:\n",
    "        self.mol = Chem.MolFromSmiles(sml, sanitize=False)\n",
    "  def update(self):\n",
    "    self.mass = Descriptors.ExactMolWt(self.mol)\n",
    "    self.canon_sml = Chem.MolToSmiles(self.mol)"
   ]
  },
  {
   "cell_type": "code",
   "execution_count": 38,
   "metadata": {},
   "outputs": [],
   "source": [
    "#? Replace with newer version?\n",
    "def composition(molecule):\n",
    "    \"\"\"Get the composition of an RDKit molecule:\n",
    "    Atomic counts, including hydrogen atoms, and any charge.\n",
    "    For example, fluoride ion (chemical formula F-, SMILES string [F-])\n",
    "    returns {9: 1, 0: -1}.\n",
    "\n",
    "    :param molecule: The molecule to analyze\n",
    "    :type some_input: An RDKit molecule\n",
    "    :rtype: A dictionary.\n",
    "    \"\"\"\n",
    "    # Check that there is a valid molecule\n",
    "    if molecule:\n",
    "\n",
    "        # Add hydrogen atoms--RDKit excludes them by default\n",
    "        molecule_with_Hs = Chem.AddHs(molecule)\n",
    "        comp = defaultdict(lambda: 0)\n",
    "\n",
    "        # Get atom counts\n",
    "        for atom in molecule_with_Hs.GetAtoms():\n",
    "            comp[atom.GetSymbol()] += 1\n",
    "\n",
    "        return comp\n"
   ]
  },
  {
   "cell_type": "code",
   "execution_count": 39,
   "metadata": {},
   "outputs": [],
   "source": [
    "def flatten_ndarray(arr):\n",
    "    flat_list = []\n",
    "    for element in arr:\n",
    "        if isinstance(element, np.ndarray):\n",
    "            flat_list.extend(flatten_ndarray(element))\n",
    "        else:\n",
    "            flat_list.append(element)\n",
    "    return flat_list"
   ]
  },
  {
   "cell_type": "code",
   "execution_count": 40,
   "metadata": {},
   "outputs": [],
   "source": [
    "def binomial_coefficient(n, k):\n",
    "    return math.factorial(n) // (math.factorial(k) * math.factorial(n - k))"
   ]
  },
  {
   "cell_type": "code",
   "execution_count": 41,
   "metadata": {},
   "outputs": [],
   "source": [
    "def distribute_items(n, k):\n",
    "    def backtrack(remaining_items, bins, current_bin):\n",
    "        if current_bin == k:\n",
    "            if remaining_items == 0:\n",
    "                results.append(list(bins))\n",
    "            return\n",
    "\n",
    "        for items_in_current_bin in range(remaining_items + 1):\n",
    "            bins[current_bin] = items_in_current_bin\n",
    "            backtrack(remaining_items - items_in_current_bin, bins, current_bin + 1)\n",
    "\n",
    "    results = []\n",
    "    bins = [0] * k\n",
    "    backtrack(n, bins, 0)\n",
    "    return results"
   ]
  },
  {
   "cell_type": "code",
   "execution_count": 42,
   "metadata": {},
   "outputs": [],
   "source": [
    "#? Replace with newer version?\n",
    "def atom_set(molecule):\n",
    "    \"\"\"Get the composition of an RDKit molecule:\n",
    "    Atomic counts, including hydrogen atoms, and any charge.\n",
    "    For example, fluoride ion (chemical formula F-, SMILES string [F-])\n",
    "    returns {9: 1, 0: -1}.\n",
    "\n",
    "    :param molecule: The molecule to analyze\n",
    "    :type some_input: An RDKit molecule\n",
    "    :rtype: A dictionary.\n",
    "    \"\"\"\n",
    "    # Check that there is a valid molecule\n",
    "    if molecule:\n",
    "      # Add hydrogen atoms--RDKit excludes them by default\n",
    "      molecule_with_Hs = Chem.AddHs(molecule)\n",
    "      atom_symbols = set(atom.GetSymbol() for atom in molecule_with_Hs.GetAtoms())\n",
    "      return atom_symbols"
   ]
  },
  {
   "cell_type": "code",
   "execution_count": 43,
   "metadata": {},
   "outputs": [
    {
     "name": "stdout",
     "output_type": "stream",
     "text": [
      "{'Cl', 'C'}\n",
      "{'Cl': [[35, 0.758], [37, 0.242]], 'C': [[12, 0.9894], [13, 0.0106]]}\n"
     ]
    }
   ],
   "source": [
    "set_of_atoms = atom_set(mol)\n",
    "print(set_of_atoms)\n",
    "isotopes = {}\n",
    "for atom in set_of_atoms:\n",
    "  # print(f\"{atom=}\")\n",
    "  # print(f\"{element(atom)=}\")\n",
    "  element_isotopes = element(atom).isotopes\n",
    "  occuring_isotopes = [[isotope.mass_number, isotope.abundance/100] for isotope in element_isotopes if isotope.abundance != None]\n",
    "  isotopes[atom] = occuring_isotopes\n",
    "print(isotopes)"
   ]
  },
  {
   "cell_type": "code",
   "execution_count": 44,
   "metadata": {},
   "outputs": [],
   "source": [
    "def print_ndarray_elements(arr, prefix=''):\n",
    "    if isinstance(arr, Chem.Mol):\n",
    "        print(prefix + Chem.MolToSmiles(arr))\n",
    "    else:\n",
    "        for i in range(len(arr)):\n",
    "            new_prefix = prefix + \"[\" + str(i) + \"]\"\n",
    "            print_ndarray_elements(arr[i], new_prefix)"
   ]
  },
  {
   "cell_type": "code",
   "execution_count": 45,
   "metadata": {},
   "outputs": [],
   "source": [
    "def extract_properties(arr, prop_name):\n",
    "    if isinstance(arr, np.ndarray):\n",
    "        # If arr is a NumPy ndarray, iterate through its elements and apply the function recursively\n",
    "        return np.array([extract_properties(item, prop_name) for item in arr])\n",
    "    elif isinstance(arr, list):\n",
    "        # If arr is a list, iterate through its elements and apply the function recursively\n",
    "        return [extract_properties(item, prop_name) for item in arr]\n",
    "    elif hasattr(arr, prop_name):\n",
    "        # If arr has the specified property, extract its value\n",
    "        return getattr(arr, prop_name)\n",
    "    else:\n",
    "        # If the property is not found, return None\n",
    "        return None"
   ]
  },
  {
   "cell_type": "code",
   "execution_count": 46,
   "metadata": {},
   "outputs": [],
   "source": [
    "def assign_isotopes(\n",
    "      arr, \n",
    "      isotope_count_distribution, \n",
    "      prefix, \n",
    "      n_this_element,\n",
    "      ):\n",
    "    if isinstance(arr, np.ndarray):\n",
    "        for i in range(len(arr)):\n",
    "            new_prefix = prefix + [i]\n",
    "            assign_isotopes(arr[i], isotope_count_distribution, new_prefix, n_this_element)\n",
    "    else:\n",
    "        # Clone the distribution, making it independent so the next loop won't be affected\n",
    "        distribution = copy.deepcopy(isotope_count_distribution[prefix[0]])\n",
    "\n",
    "        # Calculate abundances\n",
    "        if arr.abundance is None:\n",
    "           arr.abundance = 1\n",
    "        a = 1\n",
    "        b = binomial_coefficient(n_this_element, distribution[0])\n",
    "        for isotope_index, isotope_count in enumerate(distribution):\n",
    "          a_this_isotope = isotopes[this_element][isotope_index][1]\n",
    "          a *= a_this_isotope**isotope_count\n",
    "        arr.abundance *= a*b\n",
    "\n",
    "        # print(f\"{distribution=}\")\n",
    "        # Assign isotopes to atoms of this element type\n",
    "        for atom_index, atom in enumerate(arr.mol.GetAtoms()):\n",
    "          if atom.GetSymbol() == this_element:\n",
    "            # Count down each isotope, going on to the next when zero\n",
    "            for isotope_index, isotope in enumerate(distribution):\n",
    "              # print(f\"    {isotope_index=}\")\n",
    "              if distribution[isotope_index] > 0:\n",
    "                  atom.SetIsotope(isotopes[this_element][isotope_index][0])\n",
    "                  distribution[isotope_index] -= 1\n",
    "\n",
    "        isotopes_list = []\n",
    "        for atom_index, atom in enumerate(arr.mol.GetAtoms()):\n",
    "          isotopes_list.append(atom.GetIsotope())\n",
    "        isotopes_str = ','.join(map(str, isotopes_list))\n",
    "        # print(\"\".join([f\"[{i}]\" for i in prefix]) + Chem.MolToSmiles(arr.mol) + isotopes_str)\n",
    "    return arr"
   ]
  },
  {
   "cell_type": "code",
   "execution_count": 47,
   "metadata": {},
   "outputs": [],
   "source": [
    "def update_molecular_isotopes(\n",
    "      arr, \n",
    "      ):\n",
    "    if isinstance(arr, np.ndarray):\n",
    "        for i in range(len(arr)):\n",
    "            update_molecular_isotopes(arr[i])\n",
    "    elif isinstance(arr, MolecularIsotope):\n",
    "        arr.update()"
   ]
  },
  {
   "cell_type": "code",
   "execution_count": 48,
   "metadata": {},
   "outputs": [],
   "source": [
    "# Initialize ndarray to hold MolecularIsotope objects\n",
    "molecular_isotopes:np.ndarray = np.array(MolecularIsotope)\n",
    "\n",
    "# Loop through the elements in this molecule\n",
    "for this_element, n_this_element in composition(mol).items():\n",
    "  n_isotopes_this_element = len(isotopes[this_element])\n",
    "\n",
    "  # Calculate possible distributions of isotopes across atoms of this element\n",
    "  isotope_count_distribution = distribute_items(n_this_element, n_isotopes_this_element)\n",
    "  n_distributions = len(isotope_count_distribution)\n",
    "\n",
    "  if molecular_isotopes.shape == ():\n",
    "     # Start by creating a 1-dimensional array,\n",
    "     # making sure to make each mol an independent object\n",
    "     molecular_isotopes = np.array([MolecularIsotope(sml=sml, mol=Chem.Mol(mol)) for _ in range(n_distributions)], dtype=object)\n",
    "  else:\n",
    "    # Create a list of m copies of the current object, \n",
    "    # namely the n-1 dimensional ndarray representing elements prior to this element\n",
    "    molecular_isotopes_list = [copy.deepcopy(molecular_isotopes) for _ in range(n_distributions)]\n",
    "    \n",
    "    # Convert the list of copies to a NumPy ndarray\n",
    "    molecular_isotopes = np.array(molecular_isotopes_list, dtype=object)\n",
    "    \n",
    "  # Assign isotopes and abundances\n",
    "  molecular_isotopes = assign_isotopes(\n",
    "     arr=molecular_isotopes, \n",
    "     isotope_count_distribution=isotope_count_distribution, \n",
    "     prefix=[],\n",
    "     n_this_element=n_this_element,\n",
    "     )\n",
    "  \n",
    "# Update the properties of each MolecularIsotope to get exact masses\n",
    "update_molecular_isotopes(molecular_isotopes)"
   ]
  },
  {
   "cell_type": "code",
   "execution_count": 51,
   "metadata": {},
   "outputs": [
    {
     "name": "stdout",
     "output_type": "stream",
     "text": [
      "molecular_isotopes=array([[<__main__.MolecularIsotope object at 0x157aacc90>,\n",
      "        <__main__.MolecularIsotope object at 0x15723f890>,\n",
      "        <__main__.MolecularIsotope object at 0x1584921d0>,\n",
      "        <__main__.MolecularIsotope object at 0x161fab7d0>,\n",
      "        <__main__.MolecularIsotope object at 0x161faab90>],\n",
      "       [<__main__.MolecularIsotope object at 0x161fabb50>,\n",
      "        <__main__.MolecularIsotope object at 0x161d18250>,\n",
      "        <__main__.MolecularIsotope object at 0x161d1b6d0>,\n",
      "        <__main__.MolecularIsotope object at 0x161d18890>,\n",
      "        <__main__.MolecularIsotope object at 0x161fbcad0>]], dtype=object)\n",
      "molecular_isotopes.shape=(2, 5)\n"
     ]
    },
    {
     "data": {
      "image/png": "[encoded data removed]",
      "text/plain": [
       "<IPython.core.display.Image object>"
      ]
     },
     "execution_count": 51,
     "metadata": {},
     "output_type": "execute_result"
    }
   ],
   "source": [
    "print(f\"{molecular_isotopes=}\")\n",
    "print(f\"{molecular_isotopes.shape=}\")\n",
    "\n",
    "# Flatten molecular_isotopes, then sort by mass;\n",
    "# then create mols_flat, etc. from that\n",
    "\n",
    "mols_array = extract_properties(molecular_isotopes, \"mol\")\n",
    "mols_flat = flatten_ndarray(mols_array)\n",
    "\n",
    "abundances_array = extract_properties(molecular_isotopes, \"abundance\")\n",
    "abundances_flat = flatten_ndarray(abundances_array)\n",
    "masses_array = extract_properties(molecular_isotopes, \"mass\")\n",
    "masses_flat = flatten_ndarray(masses_array)\n",
    "\n",
    "abundances_flat_str = [f\"{mass:.3f}: {abundance:.3f}\" for mass, abundance in zip(masses_flat, abundances_flat)]\n",
    "\n",
    "Chem.Draw.MolsToGridImage(mols_flat, legends=abundances_flat_str, subImgSize=(100, 100)) #, legends=[str(mass) for mass in masses])"
   ]
  },
  {
   "cell_type": "code",
   "execution_count": null,
   "metadata": {},
   "outputs": [],
   "source": []
  }
 ],
 "metadata": {
  "kernelspec": {
   "display_name": "venv",
   "language": "python",
   "name": "python3"
  },
  "language_info": {
   "codemirror_mode": {
    "name": "ipython",
    "version": 3
   },
   "file_extension": ".py",
   "mimetype": "text/x-python",
   "name": "python",
   "nbconvert_exporter": "python",
   "pygments_lexer": "ipython3",
   "version": "3.11.0"
  },
  "orig_nbformat": 4
 },
 "nbformat": 4,
 "nbformat_minor": 2
}
