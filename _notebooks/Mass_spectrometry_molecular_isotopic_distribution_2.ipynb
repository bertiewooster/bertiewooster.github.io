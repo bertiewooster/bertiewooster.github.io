{
 "cells": [
  {
   "cell_type": "markdown",
   "metadata": {},
   "source": [
    "# Molecular Isotopic Distributions Part 2: Combinations"
   ]
  },
  {
   "cell_type": "markdown",
   "metadata": {},
   "source": [
    "#TODO\n",
    "- Link to some sites and software that calculate molecular isotope distributions (here or in part 1?)\n",
    "- Document functions with type hints and docstrings"
   ]
  },
  {
   "cell_type": "markdown",
   "metadata": {},
   "source": [
    "This blog post presents a more computationally efficient way to determine the abundance of the molecular isotopes of a molecule.\n",
    "\n",
    "In [part 1](***), we created a molecule for each possible placement of each isotope in a molecule. While that worked, it was computationally expensive because it required creating each permutation. In this blog post, we'll create each combination only once and calculate its abundance using the binomial distribution. While calculating the molecular isotopes of naphthalene took about 170 seconds using the permutations method, it takes 0.1 seconds using the combinations method below."
   ]
  },
  {
   "cell_type": "code",
   "execution_count": 1023,
   "metadata": {},
   "outputs": [],
   "source": [
    "%%capture\n",
    "%!pip install rdkit\n",
    "%!pip install mendeleev"
   ]
  },
  {
   "cell_type": "code",
   "execution_count": 1024,
   "metadata": {},
   "outputs": [],
   "source": [
    "from collections import defaultdict\n",
    "import math\n",
    "import copy\n",
    "\n",
    "from IPython.display import display, Markdown\n",
    "import numpy as np\n",
    "import seaborn as sns\n",
    "import matplotlib.pyplot as plt\n",
    "import polars as pl\n",
    "\n",
    "import mendeleev\n",
    "# from mendeleev import element\n",
    "from rdkit import Chem\n",
    "from rdkit.Chem import Descriptors"
   ]
  },
  {
   "cell_type": "markdown",
   "metadata": {},
   "source": [
    "We'll use the same molecule so we can compare results to the previous blog post. We also copy in code from the previous post."
   ]
  },
  {
   "cell_type": "code",
   "execution_count": 1025,
   "metadata": {},
   "outputs": [
    {
     "data": {
      "image/png": "[encoded data removed]",
      "text/plain": [
       "<rdkit.Chem.rdchem.Mol at 0x2876169d0>"
      ]
     },
     "execution_count": 1025,
     "metadata": {},
     "output_type": "execute_result"
    }
   ],
   "source": [
    "sml = \"ClSCl\"\n",
    "# sml = \"[S]\"\n",
    "# sml = \"[S][S][S]\"\n",
    "# sml = \"c1c2ccccc2ccc1\"\n",
    "mol = Chem.AddHs(Chem.MolFromSmiles(sml))\n",
    "mol"
   ]
  },
  {
   "cell_type": "code",
   "execution_count": 1026,
   "metadata": {},
   "outputs": [],
   "source": [
    "class MolecularIsotope():\n",
    "  \"\"\"Store a molecule's isotopic properties.\"\"\"\n",
    "  def __init__(\n",
    "      self,\n",
    "      sml: str,\n",
    "      mol: Chem.rdchem.Mol = None,\n",
    "      abundance: float = None):\n",
    "    self.sml = sml\n",
    "    self.abundance = abundance\n",
    "    if mol is not None:\n",
    "      self.mol = mol\n",
    "    else:\n",
    "      try:\n",
    "        self.mol = Chem.MolFromSmiles(sml)\n",
    "      except:\n",
    "        self.mol = Chem.MolFromSmiles(sml, sanitize=False)\n",
    "  def update(self):\n",
    "    self.mass = Descriptors.ExactMolWt(self.mol)\n",
    "    self.canon_sml = Chem.MolToSmiles(self.mol)\n",
    "  def get_mass(self):\n",
    "    return self.mass"
   ]
  },
  {
   "cell_type": "code",
   "execution_count": 1027,
   "metadata": {},
   "outputs": [],
   "source": [
    "def composition(\n",
    "        molecule: Chem.Mol,\n",
    "        isotopes=False):\n",
    "    \"\"\"Get the composition of an RDKit molecule:\n",
    "    Atomic counts, including hydrogen atoms, and any charge.\n",
    "    For example, ethanol (SMILES [13C](H)(H)(H)CO, formula C2H6O) returns:\n",
    "      if isotopes = False (default): {'C': 2, 'O': 1, 'H': 6}.\n",
    "      if isotopes = True: {'C': {13: 1, 0: 1}, 'O': {0: 1}, 'H': {0: 6}}.\n",
    "\n",
    "    :param molecule: The RDKit molecule to analyze\n",
    "    :returns: if isotopes = False (default): a dictionary of element:count entries;\n",
    "              if isotopes = True: a nested dictionary of element:isotope:count entries.\n",
    "    \"\"\"\n",
    "    # Check that there is a valid molecule\n",
    "    if molecule:\n",
    "\n",
    "        # Add hydrogen atoms--RDKit excludes them by default\n",
    "        molecule = Chem.AddHs(molecule)\n",
    "        comp = defaultdict(lambda: 0)\n",
    "\n",
    "        # Get atom counts\n",
    "        for atom in molecule.GetAtoms():\n",
    "            element_symbol = atom.GetSymbol()\n",
    "            # If isotopes not requested, simply count the number of atoms of each element\n",
    "            if not isotopes:\n",
    "                comp[element_symbol] += 1\n",
    "            # If isotopes requested, count the number of each isotope of each element\n",
    "            else:\n",
    "                isotope = atom.GetIsotope()\n",
    "                try:\n",
    "                    comp[element_symbol][isotope] += 1\n",
    "                except:\n",
    "                    comp[element_symbol] = defaultdict(lambda: 0)\n",
    "                    comp[element_symbol][isotope] += 1\n",
    "        return comp"
   ]
  },
  {
   "cell_type": "code",
   "execution_count": 1028,
   "metadata": {},
   "outputs": [],
   "source": [
    "def flatten_ndarray(arr):\n",
    "    flat_list = []\n",
    "    for element in arr:\n",
    "        if isinstance(element, np.ndarray):\n",
    "            flat_list.extend(flatten_ndarray(element))\n",
    "        else:\n",
    "            flat_list.append(element)\n",
    "    return flat_list"
   ]
  },
  {
   "cell_type": "markdown",
   "metadata": {},
   "source": [
    "## Calculating distributions"
   ]
  },
  {
   "cell_type": "markdown",
   "metadata": {},
   "source": [
    "Here's a function to calculate the binomial distribution"
   ]
  },
  {
   "cell_type": "markdown",
   "metadata": {},
   "source": [
    "#TODO give formula in LaTeX"
   ]
  },
  {
   "cell_type": "markdown",
   "metadata": {},
   "source": [
    "#TODO Show how to calculate the number of combinations"
   ]
  },
  {
   "cell_type": "code",
   "execution_count": 1029,
   "metadata": {},
   "outputs": [],
   "source": [
    "def binomial_coefficient(n, k):\n",
    "    return math.factorial(n) // (math.factorial(k) * math.factorial(n - k))"
   ]
  },
  {
   "cell_type": "code",
   "execution_count": 1030,
   "metadata": {},
   "outputs": [
    {
     "data": {
      "text/plain": [
       "2"
      ]
     },
     "execution_count": 1030,
     "metadata": {},
     "output_type": "execute_result"
    }
   ],
   "source": [
    "binomial_coefficient(2,1)"
   ]
  },
  {
   "cell_type": "code",
   "execution_count": 1031,
   "metadata": {},
   "outputs": [
    {
     "data": {
      "text/plain": [
       "1"
      ]
     },
     "execution_count": 1031,
     "metadata": {},
     "output_type": "execute_result"
    }
   ],
   "source": [
    "binomial_coefficient(3,3)"
   ]
  },
  {
   "cell_type": "markdown",
   "metadata": {},
   "source": [
    "We also need to list each distribution of n items in k bins. Here, n is the number of atoms of a given element, and k is the count of a given isotope that will occur in that molecule."
   ]
  },
  {
   "cell_type": "markdown",
   "metadata": {},
   "source": [
    "- For an element with only one isotope, all atoms of that element will have that isotope, so there is only one way to distribute the isotopes amongst the atoms. For example, if we have four atoms of element X, and X has only one isotope, n = 4 and k = 4.\n",
    "- For an element with two isotopes, any atoms of that element that are not populated by the first isotope must be populated by the second isotope. For example, if our molecule has four carbon atoms, and we assign C-12 to one atom, there are three atoms remaining, and they must all be assigned C-13. Thus the number of combinations is\n",
    "    - C-12: n = 4, k = 1; 4 choose 1 = 4\n",
    "    - C-13: n = 3, k = 3; 3 choose 3 = 1\n",
    "    so the number of combinations of the second isotope is always 1. We multiply the combinations of each isotope, so there are a total of 4 * 1 = 4 combinations.\n",
    "- For an element with more than two isotopes, things get more complicated. Consider O3 (ozone) with isotopes O-16, O-17, and O-18. To calculate the number of combinations that will produce 16O17O18O:\n",
    "    - O-16: n = 3, k = 1; 3 choose 1 = 3\n",
    "    - O-17: n = 2, k = 1; 2 choose 1 = 2\n",
    "    - O-18: n = 1, k = 1; 1 choose 1 = 1\n",
    "    Multiplying the combinations gives 3 * 2 * 1 = 6."
   ]
  },
  {
   "cell_type": "code",
   "execution_count": 1034,
   "metadata": {},
   "outputs": [],
   "source": [
    "def distribute_items(n, k):\n",
    "    def backtrack(remaining_items, bins, current_bin):\n",
    "        if current_bin == k:\n",
    "            if remaining_items == 0:\n",
    "                results.append(list(bins))\n",
    "            return\n",
    "\n",
    "        for items_in_current_bin in range(remaining_items + 1):\n",
    "            bins[current_bin] = items_in_current_bin\n",
    "            backtrack(remaining_items - items_in_current_bin, bins, current_bin + 1)\n",
    "\n",
    "    results = []\n",
    "    bins = [0] * k\n",
    "    backtrack(n, bins, 0)\n",
    "    return results"
   ]
  },
  {
   "cell_type": "markdown",
   "metadata": {},
   "source": [
    "For example, for our four (n) chlorine atoms, we have two (k) isotopes, 35 and 37. We can thus have\n",
    "- zero atoms of isotope 35 and four of 37\n",
    "- one atom of isotope 35 and three of 37\n",
    "- two atoms of each isotope\n",
    "- three atoms of isotope 35 and one of 37\n",
    "- four atoms of isotope 35 and zero of 37\n",
    "\n",
    "as given by:"
   ]
  },
  {
   "cell_type": "code",
   "execution_count": 1035,
   "metadata": {},
   "outputs": [],
   "source": [
    "def atom_set(molecule: Chem.Mol) -> set[str]:\n",
    "    \"\"\"Get the set of atoms in an RDKit molecule\n",
    "\n",
    "    :param molecule: The molecule to analyze\n",
    "    :rtype: A set of atomic symbols.\n",
    "    \"\"\"\n",
    "    # Check that there is a valid molecule\n",
    "    if molecule:\n",
    "      # Add hydrogen atoms--RDKit excludes them by default\n",
    "      molecule_with_Hs = Chem.AddHs(molecule)\n",
    "      atom_symbols = set(atom.GetSymbol() for atom in molecule_with_Hs.GetAtoms())\n",
    "      return atom_symbols"
   ]
  },
  {
   "cell_type": "markdown",
   "metadata": {},
   "source": [
    "We define a function to recursively traverse a NumPy array containing objects and extract a given property into an array of the same shape as the original."
   ]
  },
  {
   "cell_type": "code",
   "execution_count": 1036,
   "metadata": {},
   "outputs": [],
   "source": [
    "def extract_properties(arr, prop_name):\n",
    "    if isinstance(arr, np.ndarray):\n",
    "        # If arr is a NumPy ndarray, iterate through its elements and apply the function recursively\n",
    "        return np.array([extract_properties(item, prop_name) for item in arr])\n",
    "    elif isinstance(arr, list):\n",
    "        # If arr is a list, iterate through its elements and apply the function recursively\n",
    "        return [extract_properties(item, prop_name) for item in arr]\n",
    "    elif hasattr(arr, prop_name):\n",
    "        # If arr has the specified property, extract its value\n",
    "        return getattr(arr, prop_name)\n",
    "    else:\n",
    "        # If the property is not found, return None\n",
    "        return None"
   ]
  },
  {
   "cell_type": "markdown",
   "metadata": {},
   "source": [
    "The following function sets the isotope for each atom of a given element and calculates the abundance based on that element by raising the abundance of an isotope to the power of the count of that isotope in the molecule. When the next element is considered, the code will make independent copies of the molecule that was isotopically labeled for the previous element, then apply isotopic labels for the next element. As a result, the isotopic labeling and abundance calculations are done only once for each element, lessening the computations required."
   ]
  },
  {
   "cell_type": "code",
   "execution_count": 1037,
   "metadata": {},
   "outputs": [],
   "source": [
    "def assign_isotopes(\n",
    "      arr, \n",
    "      isotope_count_distribution, \n",
    "      prefix,\n",
    "      this_element,\n",
    "      n_this_element,\n",
    "      ):\n",
    "    if isinstance(arr, np.ndarray):\n",
    "        for i in range(len(arr)):\n",
    "            new_prefix = prefix + [i]\n",
    "            assign_isotopes(\n",
    "               arr = arr[i], \n",
    "               isotope_count_distribution = isotope_count_distribution, \n",
    "               prefix = new_prefix, \n",
    "               this_element = this_element,\n",
    "               n_this_element = n_this_element,\n",
    "               )\n",
    "    else:\n",
    "        # Clone the distribution, making it independent so the next loop won't be affected\n",
    "        distribution = copy.deepcopy(isotope_count_distribution[prefix[0]])\n",
    "\n",
    "        # Calculate abundances\n",
    "        if arr.abundance is None:\n",
    "           arr.abundance = 1\n",
    "\n",
    "        # Set a and b to the multiplicative identity, 1\n",
    "        a = 1\n",
    "        b = 1\n",
    "\n",
    "        # Keep track of how many atoms have yet to be assigned (n)\n",
    "        n_remaining = n_this_element\n",
    "\n",
    "        # Iterate through the isotopes\n",
    "        for isotope_index, isotope_count in enumerate(distribution):\n",
    "          # Get the abundance of this isotope\n",
    "          a_this_isotope = isotopes[this_element][isotope_index][1]\n",
    "          # Multiply the molecule's abundance by the abundance of this isotope to the power of its count\n",
    "          a *= a_this_isotope**isotope_count\n",
    "\n",
    "          # k is the count of this isotope\n",
    "          b_this_isotope = binomial_coefficient(n_remaining, isotope_count)\n",
    "          b *= b_this_isotope\n",
    "\n",
    "          # Decrease n, the number of atoms yet to be assigned, by the count of this isotope\n",
    "          n_remaining -= isotope_count\n",
    "        arr.abundance *= a*b\n",
    "\n",
    "        # Assign isotopes to atoms of this element type\n",
    "        for atom in arr.mol.GetAtoms():\n",
    "          if atom.GetSymbol() == this_element:\n",
    "            # Count down for each isotope, going on to the next when zero\n",
    "            for isotope_index, isotope in enumerate(distribution):\n",
    "              if distribution[isotope_index] > 0:\n",
    "                  atom.SetIsotope(isotopes[this_element][isotope_index][0])\n",
    "                  distribution[isotope_index] -= 1\n",
    "                  # If assign isotope to this atom, move on to next atom\n",
    "                  break\n",
    "\n",
    "        isotopes_list = []\n",
    "        for atom in arr.mol.GetAtoms():\n",
    "          isotopes_list.append(atom.GetIsotope())\n",
    "\n",
    "        # Update the properties of the MolecularIsotope to get exact masses\n",
    "        arr.update()\n",
    "    return arr"
   ]
  },
  {
   "cell_type": "markdown",
   "metadata": {},
   "source": [
    "## Set up"
   ]
  },
  {
   "cell_type": "markdown",
   "metadata": {},
   "source": [
    "We start by creating a data structure with each element in the molecule, and a nested list of mass number and abundance for each isotope."
   ]
  },
  {
   "cell_type": "code",
   "execution_count": 1038,
   "metadata": {},
   "outputs": [
    {
     "name": "stdout",
     "output_type": "stream",
     "text": [
      "{'Cl', 'S'}\n"
     ]
    },
    {
     "name": "stdout",
     "output_type": "stream",
     "text": [
      "{'Cl': [[35, 0.758], [37, 0.242]], 'S': [[32, 0.9484999999999999], [33, 0.0076300000000000005], [34, 0.04365], [36, 0.00015800000000000002]]}\n"
     ]
    }
   ],
   "source": [
    "set_of_atoms = atom_set(mol)\n",
    "print(set_of_atoms)\n",
    "isotopes = {}\n",
    "for atom in set_of_atoms:\n",
    "  element_isotopes = mendeleev.element(atom).isotopes\n",
    "  occuring_isotopes = [[isotope.mass_number, isotope.abundance/100] for isotope in element_isotopes if isotope.abundance != None]\n",
    "  isotopes[atom] = occuring_isotopes\n",
    "print(isotopes)"
   ]
  },
  {
   "cell_type": "markdown",
   "metadata": {},
   "source": [
    "## Scale of the problem"
   ]
  },
  {
   "cell_type": "code",
   "execution_count": 1032,
   "metadata": {},
   "outputs": [],
   "source": [
    "def combos_with_repetition(n, r):\n",
    "    return int((math.factorial(r + n - 1)) / (math.factorial(r) * math.factorial(n-1)))"
   ]
  },
  {
   "cell_type": "code",
   "execution_count": 1033,
   "metadata": {},
   "outputs": [
    {
     "data": {
      "text/plain": [
       "3"
      ]
     },
     "execution_count": 1033,
     "metadata": {},
     "output_type": "execute_result"
    }
   ],
   "source": [
    "combos_with_repetition(2,2)"
   ]
  },
  {
   "cell_type": "code",
   "execution_count": 1065,
   "metadata": {},
   "outputs": [
    {
     "name": "stdout",
     "output_type": "stream",
     "text": [
      "3 4 1.3333333333333333\n",
      "21 36 1.7142857142857142\n",
      "78 144 1.8461538461538463\n",
      "171 324 1.894736842105263\n",
      "1830 3600 1.9672131147540983\n",
      "5050 10000 1.9801980198019802\n",
      "500500 1000000 1.998001998001998\n",
      "5000050000 10000000000 1.999980000199998\n",
      "4421275 100000000 22.617909992027187\n",
      "416916712502500 10000000000000000 23.98560599784072\n",
      "4166916671250024960 100000000000000000000 23.99856005999784\n"
     ]
    }
   ],
   "source": [
    "for n_atoms, n_isotopes in [(2,2), (6,2), (12,2), (18,2), (60,2), (100,2), (1000,2), (100000,2), (100,4), (10000,4), (100000,4)]:\n",
    "    c = combos_with_repetition(n_atoms, n_isotopes)\n",
    "    p = permutations_with_repetition(n_atoms, n_isotopes)\n",
    "    print(c, p, p/c)"
   ]
  },
  {
   "cell_type": "markdown",
   "metadata": {},
   "source": [
    "For each element, we have n atoms (of that element in the molecule) and r isotopes. The formula for the number of combinations with repetition allowed is ^. For a molecule with multiple elements, we take the product of the number of combinations for each element in that molecule. For example, for SCl2:\n",
    "- S: n = 1, r = 4, C = 4\n",
    "- Cl: n = 2, r = 2, C = 3\n",
    "So C for the molecule is 4*3 = 12.\n",
    "\n",
    "--Move to previous post?\n",
    "For permutations, we choose from amongst n isotopes r times where r is the number of atoms of that element in the molecule. For SCl2:\n",
    "- S: n = 4, r = 1, P = 4^1 = 4\n",
    "- Cl: n = 2, r = 2, P = 2^2 = 4\n",
    "So P for the molecule is 4*4 = 16."
   ]
  },
  {
   "cell_type": "markdown",
   "metadata": {},
   "source": [
    "## Setting the isotope of each atom in each combination"
   ]
  },
  {
   "cell_type": "markdown",
   "metadata": {},
   "source": [
    "To be more computationally efficient, we will create only one instance of each isotopologue, then calculate its abundance.\n"
   ]
  },
  {
   "cell_type": "code",
   "execution_count": 1039,
   "metadata": {},
   "outputs": [],
   "source": [
    "# Initialize ndarray to hold MolecularIsotope objects\n",
    "molecular_isotopes:np.ndarray = np.array(MolecularIsotope)\n",
    "\n",
    "# Loop through the elements in this molecule\n",
    "for this_element, n_this_element in composition(mol).items():\n",
    "  n_isotopes_this_element = len(isotopes[this_element])\n",
    "\n",
    "  # Calculate possible distributions of isotopes across atoms of this element\n",
    "  isotope_count_distribution = distribute_items(n_this_element, n_isotopes_this_element)\n",
    "  n_distributions = len(isotope_count_distribution)\n",
    "\n",
    "  if molecular_isotopes.shape == ():\n",
    "     # Start by creating a 1-dimensional array,\n",
    "     # making sure to make each mol an independent object\n",
    "     molecular_isotopes = np.array([MolecularIsotope(sml=sml, mol=Chem.Mol(mol)) for _ in range(n_distributions)], dtype=object)\n",
    "  else:\n",
    "    # Create a list of m copies of the current object, \n",
    "    # namely the n-1 dimensional ndarray representing elements prior to this element\n",
    "    molecular_isotopes_list = [copy.deepcopy(molecular_isotopes) for _ in range(n_distributions)]\n",
    "    \n",
    "    # Convert the list of copies to a NumPy ndarray\n",
    "    molecular_isotopes = np.array(molecular_isotopes_list, dtype=object)\n",
    "    \n",
    "  # Assign isotopes and abundances\n",
    "  molecular_isotopes = assign_isotopes(\n",
    "     arr=molecular_isotopes,\n",
    "     isotope_count_distribution=isotope_count_distribution, \n",
    "     prefix=[],\n",
    "     this_element=this_element,\n",
    "     n_this_element=n_this_element,\n",
    "     )"
   ]
  },
  {
   "cell_type": "markdown",
   "metadata": {},
   "source": [
    "To sort the isotopologues by mass, we flatten the array into one dimension."
   ]
  },
  {
   "cell_type": "code",
   "execution_count": 1040,
   "metadata": {},
   "outputs": [],
   "source": [
    "molecular_isotopes_flat = flatten_ndarray(molecular_isotopes)\n",
    "\n",
    "# Create a list of the masses\n",
    "masses_array_flat = list(extract_properties(molecular_isotopes_flat, \"mass\"))\n",
    "\n",
    "# Create a list of the order of each item by mass, for example the smallest mass will have a value of zero \n",
    "order = np.argsort(masses_array_flat).tolist()\n",
    "\n",
    "# Sort the molecular isotopes by that ordering list\n",
    "sorted_molecular_isotopes = sorted(molecular_isotopes_flat, key=lambda x: order.index(molecular_isotopes_flat.index(x)))"
   ]
  },
  {
   "cell_type": "code",
   "execution_count": 1041,
   "metadata": {},
   "outputs": [],
   "source": [
    "def mol_to_formatted_formula(\n",
    "    mol: Chem.Mol,\n",
    "    isotopes: bool = False,\n",
    ") -> dict[str, str]:\n",
    "    if mol is None:\n",
    "        return \"Invalid molecule\"\n",
    "    comp = composition(mol, isotopes)\n",
    "\n",
    "    formula = {\"markdown\": \"\", \"latex\": \"\"}\n",
    "\n",
    "    if isotopes:\n",
    "        isotopes_dict = defaultdict(lambda: defaultdict(str))\n",
    "        subscripts = defaultdict(lambda: defaultdict(int))\n",
    "        superscripts = defaultdict(list)\n",
    "\n",
    "        for element, counts in comp.items():\n",
    "            for isotope, count in counts.items():\n",
    "                if count > 1:\n",
    "                    subscripts[element][isotope] = count\n",
    "                if isotope != 0:\n",
    "                    superscripts[element].append(isotope)\n",
    "\n",
    "                isotopes_dict[element][isotope] = 1\n",
    "            # Sort the element's isotopes from lowest to highest\n",
    "            superscripts[element].sort()\n",
    "\n",
    "        last_item_is_subscript = False\n",
    "        sorted_element_keys = sorted(isotopes_dict.keys())\n",
    "        for element in sorted_element_keys:\n",
    "            isotope_count_pairs = isotopes_dict[element]\n",
    "            # Sort the element's isotopes from lowest to highest\n",
    "            sorted_isotope_keys = sorted(isotope_count_pairs.keys())\n",
    "            for isotope in sorted_isotope_keys:\n",
    "                if element in superscripts:\n",
    "                    if isotope in superscripts[element]:\n",
    "                        formula[\"markdown\"] += f\"<sup>{isotope}</sup>\"\n",
    "\n",
    "                        # If superscript immediately follows subscript,\n",
    "                        # add a small amount of horizontal space using an empty group {}\n",
    "                        # to prevent them from vertically overlapping\n",
    "                        if last_item_is_subscript:\n",
    "                            formula[\"latex\"] += \"{}\"\n",
    "                        formula[\"latex\"] += \"^{ %d}\" % isotope\n",
    "                        last_item_is_subscript = False\n",
    "                formula[\"markdown\"] += element\n",
    "                formula[\"latex\"] += element\n",
    "                last_item_is_subscript = False\n",
    "                if element in subscripts:\n",
    "                    if isotope in subscripts[element]:\n",
    "                        isotope_count = subscripts[element][isotope]\n",
    "                        formula[\"markdown\"] += f\"<sub>{isotope_count}</sub>\"\n",
    "                        formula[\"latex\"] += \"_{ %d}\" % isotope_count\n",
    "                    last_item_is_subscript = True\n",
    "        # Add beginning and ending dollar signs to LaTeX formula\n",
    "        formula[\"latex\"] = \"$\" + formula[\"latex\"] + \"$\"\n",
    "    else:\n",
    "        # Handling the case when isotopes is False\n",
    "        sorted_element_keys = sorted(comp.keys())\n",
    "\n",
    "        for element in sorted_element_keys:\n",
    "            count = comp[element]\n",
    "            formula[\"markdown\"] += element\n",
    "            formula[\"latex\"] += element\n",
    "            if count > 1:\n",
    "                formula[\"markdown\"] += f\"<sub>{count}</sub>\"\n",
    "                formula[\"latex\"] += \"_{ %d}\" % count\n",
    "        formula[\"latex\"] = \"$\" + formula[\"latex\"] + \"$\"\n",
    "\n",
    "    return formula"
   ]
  },
  {
   "cell_type": "code",
   "execution_count": 1042,
   "metadata": {},
   "outputs": [],
   "source": [
    "def dict_list_to_markdown_table(data, number_rows=False):\n",
    "    \"\"\"\n",
    "    Convert a list of dictionaries into a Markdown table.\n",
    "\n",
    "    Args:\n",
    "        data (list): A list of dictionaries, where each dictionary corresponds to a row in the table.\n",
    "        include_row_numbers (bool): Whether to include a row number column.\n",
    "\n",
    "    Returns:\n",
    "        str: The Markdown-formatted table as a string.\n",
    "    \"\"\"\n",
    "    if not data:\n",
    "        return \"\"\n",
    "\n",
    "    # Extract column headers from the keys of the first dictionary\n",
    "    headers = data[0].keys()\n",
    "\n",
    "    # If include_row_numbers is True, add the \"Row #\" column\n",
    "    if number_rows:\n",
    "        headers = [\"#\"] + list(headers)\n",
    "\n",
    "    # Create the table headers\n",
    "    table = \"| \" + \" | \".join(headers) + \" |\\n\"\n",
    "\n",
    "    # Create the title divider line\n",
    "    table += \"|\"\n",
    "    for _ in headers:\n",
    "        table += \" --- |\"\n",
    "    table += \"\\n\"\n",
    "\n",
    "    # Create the table body\n",
    "    for i, row in enumerate(data):\n",
    "        if number_rows:\n",
    "            row_data = [i + 1] + [row.get(header, \"\") for header in headers[1:]]\n",
    "        else:\n",
    "            row_data = [row.get(header, \"\") for header in headers]\n",
    "\n",
    "        table += \"| \" + \" | \".join(map(str, row_data)) + \" |\\n\"\n",
    "\n",
    "    return table"
   ]
  },
  {
   "cell_type": "code",
   "execution_count": 1043,
   "metadata": {},
   "outputs": [
    {
     "data": {
      "text/markdown": [
       "| # | formula | mass | abundance |\n",
       "| --- | --- | --- | --- |\n",
       "| 1 | <sup>35</sup>Cl<sub>2</sub><sup>32</sup>S | 101.90977636 | 0.5449739539999999 |\n",
       "| 2 | <sup>35</sup>Cl<sub>2</sub><sup>33</sup>S | 102.90916411999999 | 0.00438392332 |\n",
       "| 3 | <sup>35</sup>Cl<sub>2</sub><sup>34</sup>S | 103.90557225999999 | 0.0250797186 |\n",
       "| 4 | <sup>35</sup>Cl<sup>37</sup>Cl<sup>32</sup>S | 103.90682627 | 0.34797809199999996 |\n",
       "| 5 | <sup>35</sup>Cl<sup>37</sup>Cl<sup>33</sup>S | 104.90621402999999 | 0.00279923336 |\n",
       "| 6 | <sup>35</sup>Cl<sup>37</sup>Cl<sup>34</sup>S | 105.90262216999999 | 0.0160139628 |\n",
       "| 7 | <sup>37</sup>Cl<sub>2</sub><sup>32</sup>S | 105.90387618 | 0.05554795399999999 |\n",
       "| 8 | <sup>35</sup>Cl<sub>2</sub><sup>36</sup>S | 105.90478612 | 9.078111200000001e-05 |\n",
       "| 9 | <sup>37</sup>Cl<sub>2</sub><sup>33</sup>S | 106.90326394 | 0.00044684332 |\n",
       "| 10 | <sup>37</sup>Cl<sub>2</sub><sup>34</sup>S | 107.89967208 | 0.0025563186 |\n",
       "| 11 | <sup>35</sup>Cl<sup>37</sup>Cl<sup>36</sup>S | 107.90183603 | 5.7965776e-05 |\n",
       "| 12 | <sup>37</sup>Cl<sub>2</sub><sup>36</sup>S | 109.89888594 | 9.253112e-06 |\n"
      ],
      "text/plain": [
       "<IPython.core.display.Markdown object>"
      ]
     },
     "execution_count": 1043,
     "metadata": {},
     "output_type": "execute_result"
    }
   ],
   "source": [
    "data_dict_list = []\n",
    "for mol_isotope in sorted_molecular_isotopes:\n",
    "    mol_isotope.update()\n",
    "    data_dict = {prop: getattr(mol_isotope, prop) for prop in vars(mol_isotope).keys()}\n",
    "    data_dict[\"mol_isotope\"] = mol_isotope\n",
    "    data_dict_list.append(data_dict)\n",
    "df = pl.DataFrame(data_dict_list).select([\"mass\", \"abundance\", \"mol\"])\n",
    "df = df.with_columns(\n",
    "    pl.col(\"mol\").map_elements(lambda x: mol_to_formatted_formula(x, isotopes=True)[\"markdown\"]).alias(\"formula\"),\n",
    "    pl.col(\"mol\").map_elements(lambda x: mol_to_formatted_formula(x, isotopes=True)[\"latex\"]).alias(\"formula_latex\"),\n",
    ")\n",
    "\n",
    "# Choose rows to display in Markdown table\n",
    "df_display = df.select([\"formula\", \"mass\", \"abundance\"])\n",
    "table = dict_list_to_markdown_table(\n",
    "    df_display.rows(named=True),\n",
    "    number_rows=True)\n",
    "Markdown(table)\n",
    "\n",
    "Markdown(\n",
    "    dict_list_to_markdown_table(\n",
    "        df_display.rows(named=True),\n",
    "        number_rows=True,\n",
    "        )\n",
    "    )"
   ]
  },
  {
   "cell_type": "markdown",
   "metadata": {},
   "source": [
    "### Checking our abundances"
   ]
  },
  {
   "cell_type": "markdown",
   "metadata": {},
   "source": [
    "To verify that we calculated and aggregated abundances correctly, we check that the sum of abundances of the isotopomers is 1. (It might be very slightly different depending on the isotope data, numerical precision of operations, etc.)"
   ]
  },
  {
   "cell_type": "code",
   "execution_count": 1044,
   "metadata": {},
   "outputs": [
    {
     "name": "stdout",
     "output_type": "stream",
     "text": [
      "0.999938\n"
     ]
    }
   ],
   "source": [
    "mol_isotopes_abundances = df[\"abundance\"].to_list()\n",
    "abundance_sum = sum(mol_isotopes_abundances)\n",
    "print(abundance_sum)"
   ]
  },
  {
   "cell_type": "markdown",
   "metadata": {},
   "source": [
    "## Plot abundance vs. mass results"
   ]
  },
  {
   "cell_type": "markdown",
   "metadata": {},
   "source": [
    "For the graph, to prevent a forest of short lines and colliding labels due to the be many isotopomers with very low abundance, we might want to limit the plot to a cutoff level of abundance."
   ]
  },
  {
   "cell_type": "code",
   "execution_count": 1045,
   "metadata": {},
   "outputs": [
    {
     "data": {
      "text/markdown": [
       "| # | formula | mass | abundance |\n",
       "| --- | --- | --- | --- |\n",
       "| 1 | <sup>35</sup>Cl<sub>2</sub><sup>32</sup>S | 101.90977636 | 0.5449739539999999 |\n",
       "| 2 | <sup>35</sup>Cl<sup>37</sup>Cl<sup>32</sup>S | 103.90682627 | 0.34797809199999996 |\n",
       "| 3 | <sup>37</sup>Cl<sub>2</sub><sup>32</sup>S | 105.90387618 | 0.05554795399999999 |\n"
      ],
      "text/plain": [
       "<IPython.core.display.Markdown object>"
      ]
     },
     "execution_count": 1045,
     "metadata": {},
     "output_type": "execute_result"
    }
   ],
   "source": [
    "cutoff = 0.05\n",
    "df_cutoff = df.filter(pl.col(\"abundance\") > cutoff)\n",
    "\n",
    "# Format as Markdown table\n",
    "df_display_cutoff = df_cutoff.select([\"formula\", \"mass\", \"abundance\"])\n",
    "table_cutoff = dict_list_to_markdown_table(\n",
    "    df_display_cutoff.rows(named=True),\n",
    "    number_rows=True)\n",
    "Markdown(table_cutoff)"
   ]
  },
  {
   "cell_type": "markdown",
   "metadata": {},
   "source": [
    "These results agree with the analogous table in the previous blog post. Now we can plot the isotopomers above that cutoff level of abundance."
   ]
  },
  {
   "cell_type": "code",
   "execution_count": 1046,
   "metadata": {},
   "outputs": [
    {
     "name": "stderr",
     "output_type": "stream",
     "text": [
      "/Users/jemonat/Projects/bertiewooster.github.io/venv/lib/python3.11/site-packages/seaborn/_oldcore.py:1498: FutureWarning: is_categorical_dtype is deprecated and will be removed in a future version. Use isinstance(dtype, CategoricalDtype) instead\n",
      "  if pd.api.types.is_categorical_dtype(vector):\n",
      "/Users/jemonat/Projects/bertiewooster.github.io/venv/lib/python3.11/site-packages/seaborn/_oldcore.py:1498: FutureWarning: is_categorical_dtype is deprecated and will be removed in a future version. Use isinstance(dtype, CategoricalDtype) instead\n",
      "  if pd.api.types.is_categorical_dtype(vector):\n"
     ]
    },
    {
     "data": {
      "image/png": "[encoded data removed]",
      "text/plain": [
       "<Figure size 640x480 with 1 Axes>"
      ]
     },
     "metadata": {},
     "output_type": "display_data"
    }
   ],
   "source": [
    "# Create the scatter plot using Seaborn; don't use markers because we'll plot lines instead\n",
    "sns.scatterplot(x='mass', y='abundance', data=df_cutoff, marker='')\n",
    "\n",
    "plt.xlabel('Mass (amu)')\n",
    "plt.ylabel('Abundance')\n",
    "\n",
    "# Generate molecular formula of molecule\n",
    "formula = mol_to_formatted_formula(mol)[\"latex\"].strip(\"$\")\n",
    "\n",
    "# Use C-style string formatting with the % operator to avoid conflicts with using braces for both LaTeX and {}.format()\n",
    "title = r\"${\\rm %s}$ molecular isotopic distribution\" % formula\n",
    "plt.title(title)\n",
    "\n",
    "# Adjust x-axis limits to allow more space on the left and right for labels\n",
    "xrange = max(df_cutoff['mass']) - min(df_cutoff['mass'])\n",
    "xpad = xrange * 0.15\n",
    "plt.xlim(min(df_cutoff['mass']) - xpad, max(df_cutoff['mass']) + xpad)\n",
    "\n",
    "# Adjust y-axis limits to start at zero and allow more space on the top for labels\n",
    "yrange = max(df_cutoff['abundance']) - min(df_cutoff['abundance'])\n",
    "ypad = yrange * 0.15\n",
    "plt.ylim(0, max(df_cutoff['abundance']) + ypad)\n",
    "\n",
    "# Iterate through the rows (data points)\n",
    "for index, (mass, abundance, formula) in enumerate(zip(df_cutoff['mass'], df_cutoff['abundance'], df_cutoff['formula_latex'])):\n",
    "    # Add vertical lines from each data point to the x-axis\n",
    "    plt.vlines(x=mass, ymin=0, ymax=abundance, colors='black')\n",
    "\n",
    "    # Label the data points by mass\n",
    "    label = r\"${\\rm %s}$ %s %s\" % (formula.strip(\"$\"), \"\\n\", round(mass, 6))\n",
    "    plt.text(\n",
    "        x=mass, \n",
    "        y=abundance, \n",
    "        s=label, \n",
    "        ha='center',\n",
    "        va='bottom')\n",
    "\n",
    "plt.show()"
   ]
  },
  {
   "cell_type": "markdown",
   "metadata": {},
   "source": [
    "## Conclusion"
   ]
  },
  {
   "cell_type": "markdown",
   "metadata": {},
   "source": [
    "Using the binomial distribution to calculate the number of occurrences for each isotopic molecular formula is much more efficient than creating a separate molecule for each position of each isotope. Because all we care about is the molecular mass, it is not important where in the molecule each isotope is, just how many of each isotope there are. Combinations, which ignore the order of isotopic atoms, thus suffice and save computation compared to using permutations, which consider the order of isotopic atoms."
   ]
  }
 ],
 "metadata": {
  "kernelspec": {
   "display_name": "venv",
   "language": "python",
   "name": "python3"
  },
  "language_info": {
   "codemirror_mode": {
    "name": "ipython",
    "version": 3
   },
   "file_extension": ".py",
   "mimetype": "text/x-python",
   "name": "python",
   "nbconvert_exporter": "python",
   "pygments_lexer": "ipython3",
   "version": "3.11.0"
  },
  "orig_nbformat": 4
 },
 "nbformat": 4,
 "nbformat_minor": 2
}
