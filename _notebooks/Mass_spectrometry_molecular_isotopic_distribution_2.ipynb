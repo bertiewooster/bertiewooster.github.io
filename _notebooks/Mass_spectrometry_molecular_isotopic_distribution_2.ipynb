{
 "cells": [
  {
   "cell_type": "markdown",
   "metadata": {},
   "source": [
    "# Molecular Isotopic Distributions Part 2: Combinations"
   ]
  },
  {
   "cell_type": "markdown",
   "metadata": {},
   "source": [
    "#TODO\n",
    "- Link to some sites and software that calculate molecular isotope distributions (here or in part 1?)\n",
    "- Document functions with type hints and docstrings"
   ]
  },
  {
   "cell_type": "markdown",
   "metadata": {},
   "source": [
    "This blog post presents a more computationally efficient way to determine the abundance of the molecular isotopes of a molecule.\n",
    "\n",
    "In [part 1](***), we created a molecule for each possible placement of each isotope in a molecule. While that worked, it was computationally expensive because it required creating each permutation. In this blog post, we'll create each combination only once and calculate its abundance using the binomial distribution. While calculating the molecular isotopes of naphthalene took about 170 seconds using the permutations method, it takes 0.1 seconds using the combinations method below."
   ]
  },
  {
   "cell_type": "code",
   "execution_count": 1202,
   "metadata": {},
   "outputs": [],
   "source": [
    "%%capture\n",
    "!pip install rdkit\n",
    "!pip install mendeleev\n",
    "!pip install latexify-py"
   ]
  },
  {
   "cell_type": "code",
   "execution_count": 1203,
   "metadata": {},
   "outputs": [],
   "source": [
    "from collections import defaultdict\n",
    "import math\n",
    "import copy\n",
    "\n",
    "from IPython.display import display, Markdown\n",
    "import numpy as np\n",
    "import seaborn as sns\n",
    "import matplotlib.pyplot as plt\n",
    "import polars as pl\n",
    "\n",
    "import mendeleev\n",
    "from rdkit import Chem\n",
    "from rdkit.Chem import Descriptors\n",
    "import latexify"
   ]
  },
  {
   "cell_type": "markdown",
   "metadata": {},
   "source": [
    "We'll use the same molecule so we can compare results to the previous blog post. We also copy in code from the previous post."
   ]
  },
  {
   "cell_type": "code",
   "execution_count": 1232,
   "metadata": {},
   "outputs": [
    {
     "data": {
      "image/png": "[encoded data removed]",
      "text/plain": [
       "<rdkit.Chem.rdchem.Mol at 0x285778580>"
      ]
     },
     "execution_count": 1232,
     "metadata": {},
     "output_type": "execute_result"
    }
   ],
   "source": [
    "sml = \"ClSCl\"\n",
    "# sml = \"c1c2ccccc2ccc1\"\n",
    "mol = Chem.AddHs(Chem.MolFromSmiles(sml))\n",
    "mol"
   ]
  },
  {
   "cell_type": "code",
   "execution_count": 1233,
   "metadata": {},
   "outputs": [],
   "source": [
    "class MolecularIsotope():\n",
    "  \"\"\"Store a molecule's isotopic properties.\"\"\"\n",
    "  def __init__(\n",
    "      self,\n",
    "      sml: str,\n",
    "      mol: Chem.rdchem.Mol = None,\n",
    "      abundance: float = None):\n",
    "    self.sml = sml\n",
    "    self.abundance = abundance\n",
    "    if mol is not None:\n",
    "      self.mol = mol\n",
    "    else:\n",
    "      try:\n",
    "        self.mol = Chem.MolFromSmiles(sml)\n",
    "      except:\n",
    "        self.mol = Chem.MolFromSmiles(sml, sanitize=False)\n",
    "  def update(self):\n",
    "    self.mass = Descriptors.ExactMolWt(self.mol)\n",
    "    self.canon_sml = Chem.MolToSmiles(self.mol)\n",
    "  def get_mass(self):\n",
    "    return self.mass"
   ]
  },
  {
   "cell_type": "code",
   "execution_count": 1234,
   "metadata": {},
   "outputs": [],
   "source": [
    "def composition(\n",
    "        molecule: Chem.Mol,\n",
    "        isotopes=False):\n",
    "    \"\"\"Get the composition of an RDKit molecule:\n",
    "    Atomic counts, including hydrogen atoms, and any charge.\n",
    "    For example, ethanol (SMILES [13C](H)(H)(H)CO, formula C2H6O) returns:\n",
    "      if isotopes = False (default): {'C': 2, 'O': 1, 'H': 6}.\n",
    "      if isotopes = True: {'C': {13: 1, 0: 1}, 'O': {0: 1}, 'H': {0: 6}}.\n",
    "\n",
    "    :param molecule: The RDKit molecule to analyze\n",
    "    :returns: if isotopes = False (default): a dictionary of element:count entries;\n",
    "              if isotopes = True: a nested dictionary of element:isotope:count entries.\n",
    "    \"\"\"\n",
    "    # Check that there is a valid molecule\n",
    "    if molecule:\n",
    "\n",
    "        # Add hydrogen atoms--RDKit excludes them by default\n",
    "        molecule = Chem.AddHs(molecule)\n",
    "        comp = defaultdict(lambda: 0)\n",
    "\n",
    "        # Get atom counts\n",
    "        for atom in molecule.GetAtoms():\n",
    "            element_symbol = atom.GetSymbol()\n",
    "            # If isotopes not requested, simply count the number of atoms of each element\n",
    "            if not isotopes:\n",
    "                comp[element_symbol] += 1\n",
    "            # If isotopes requested, count the number of each isotope of each element\n",
    "            else:\n",
    "                isotope = atom.GetIsotope()\n",
    "                try:\n",
    "                    comp[element_symbol][isotope] += 1\n",
    "                except:\n",
    "                    comp[element_symbol] = defaultdict(lambda: 0)\n",
    "                    comp[element_symbol][isotope] += 1\n",
    "        return comp"
   ]
  },
  {
   "cell_type": "code",
   "execution_count": 1235,
   "metadata": {},
   "outputs": [],
   "source": [
    "def flatten_ndarray(arr):\n",
    "    flat_list = []\n",
    "    for element in arr:\n",
    "        if isinstance(element, np.ndarray):\n",
    "            flat_list.extend(flatten_ndarray(element))\n",
    "        else:\n",
    "            flat_list.append(element)\n",
    "    return flat_list"
   ]
  },
  {
   "cell_type": "markdown",
   "metadata": {},
   "source": [
    "## Calculating distributions"
   ]
  },
  {
   "cell_type": "markdown",
   "metadata": {},
   "source": [
    "Here's a function to calculate the binomial coefficient to choose k items from n items without order or replacement (repetition). We use the [latexify](https://github.com/google/latexify_py) package to automatically create a math equation from the Python code."
   ]
  },
  {
   "cell_type": "code",
   "execution_count": 1236,
   "metadata": {},
   "outputs": [
    {
     "data": {
      "text/latex": [
       "$$ \\displaystyle \\mathrm{binomial\\_coefficient}(n, k) = \\left\\lfloor\\frac{n !}{k ! \\cdot \\mathopen{}\\left( n - k \\mathclose{}\\right) !}\\right\\rfloor $$"
      ],
      "text/plain": [
       "<latexify.ipython_wrappers.LatexifiedFunction at 0x285990950>"
      ]
     },
     "execution_count": 1236,
     "metadata": {},
     "output_type": "execute_result"
    }
   ],
   "source": [
    "@latexify.function\n",
    "def binomial_coefficient(n, k):\n",
    "    return math.factorial(n) // (math.factorial(k) * math.factorial(n - k))\n",
    "binomial_coefficient"
   ]
  },
  {
   "cell_type": "markdown",
   "metadata": {},
   "source": [
    "We also need to list each distribution of n items in k bins. Here, n is the number of atoms of a given element, and k is the count of a given isotope that will occur in that molecule."
   ]
  },
  {
   "cell_type": "code",
   "execution_count": 1237,
   "metadata": {},
   "outputs": [],
   "source": [
    "def distribute_items(n, k):\n",
    "    def backtrack(remaining_items, bins, current_bin):\n",
    "        if current_bin == k:\n",
    "            if remaining_items == 0:\n",
    "                results.append(list(bins))\n",
    "            return\n",
    "\n",
    "        for items_in_current_bin in range(remaining_items + 1):\n",
    "            bins[current_bin] = items_in_current_bin\n",
    "            backtrack(remaining_items - items_in_current_bin, bins, current_bin + 1)\n",
    "\n",
    "    results = []\n",
    "    bins = [0] * k\n",
    "    backtrack(n, bins, 0)\n",
    "    return results"
   ]
  },
  {
   "cell_type": "markdown",
   "metadata": {},
   "source": [
    "For example, for our four (n) chlorine atoms, we have two (k) isotopes, 35 and 37. We can thus have\n",
    "- zero atoms of isotope 35 and four of 37\n",
    "- one atom of isotope 35 and three of 37\n",
    "- two atoms of isotope 35 and two of 37\n",
    "- three atoms of isotope 35 and one of 37\n",
    "- four atoms of isotope 35 and zero of 37\n",
    "\n",
    "as given by:"
   ]
  },
  {
   "cell_type": "code",
   "execution_count": 1238,
   "metadata": {},
   "outputs": [],
   "source": [
    "def atom_set(molecule: Chem.Mol) -> set[str]:\n",
    "    \"\"\"Get the set of atoms in an RDKit molecule\n",
    "\n",
    "    :param molecule: The molecule to analyze\n",
    "    :rtype: A set of atomic symbols.\n",
    "    \"\"\"\n",
    "    # Check that there is a valid molecule\n",
    "    if molecule:\n",
    "      # Add hydrogen atoms--RDKit excludes them by default\n",
    "      molecule_with_Hs = Chem.AddHs(molecule)\n",
    "      atom_symbols = set(atom.GetSymbol() for atom in molecule_with_Hs.GetAtoms())\n",
    "      return atom_symbols"
   ]
  },
  {
   "cell_type": "markdown",
   "metadata": {},
   "source": [
    "We define a function to recursively traverse a NumPy array containing objects and extract a given property into an array of the same shape as the original."
   ]
  },
  {
   "cell_type": "code",
   "execution_count": 1239,
   "metadata": {},
   "outputs": [],
   "source": [
    "def extract_properties(arr, prop_name):\n",
    "    if isinstance(arr, np.ndarray):\n",
    "        # If arr is a NumPy ndarray, iterate through its elements and apply the function recursively\n",
    "        return np.array([extract_properties(item, prop_name) for item in arr])\n",
    "    elif isinstance(arr, list):\n",
    "        # If arr is a list, iterate through its elements and apply the function recursively\n",
    "        return [extract_properties(item, prop_name) for item in arr]\n",
    "    elif hasattr(arr, prop_name):\n",
    "        # If arr has the specified property, extract its value\n",
    "        return getattr(arr, prop_name)\n",
    "    else:\n",
    "        # If the property is not found, return None\n",
    "        return None"
   ]
  },
  {
   "cell_type": "markdown",
   "metadata": {},
   "source": [
    "The following function sets the isotope for each atom of a given element and calculates the abundance based on that element by raising the abundance of an isotope to the power of the count of that isotope in the molecule. When the next element is considered, the code will make independent copies of the molecule that was isotopically labeled for the previous element, then apply isotopic labels for the next element. As a result, the isotopic labeling and abundance calculations are done only once for each element, lessening the computations required."
   ]
  },
  {
   "cell_type": "code",
   "execution_count": 1240,
   "metadata": {},
   "outputs": [],
   "source": [
    "def assign_isotopes(\n",
    "      arr, \n",
    "      isotope_count_distribution, \n",
    "      prefix,\n",
    "      this_element,\n",
    "      n_this_element,\n",
    "      ):\n",
    "    if isinstance(arr, np.ndarray):\n",
    "        for i in range(len(arr)):\n",
    "            new_prefix = prefix + [i]\n",
    "            assign_isotopes(\n",
    "               arr = arr[i], \n",
    "               isotope_count_distribution = isotope_count_distribution, \n",
    "               prefix = new_prefix, \n",
    "               this_element = this_element,\n",
    "               n_this_element = n_this_element,\n",
    "               )\n",
    "    else:\n",
    "        # Clone the distribution, making it independent so the next loop won't be affected\n",
    "        distribution = copy.deepcopy(isotope_count_distribution[prefix[0]])\n",
    "\n",
    "        # Calculate abundances\n",
    "        if arr.abundance is None:\n",
    "           arr.abundance = 1\n",
    "\n",
    "        # Set a and b to the multiplicative identity, 1\n",
    "        a = 1\n",
    "        b = 1\n",
    "\n",
    "        # Keep track of how many atoms have yet to be assigned (n)\n",
    "        n_remaining = n_this_element\n",
    "\n",
    "        # Iterate through the isotopes\n",
    "        for isotope_index, isotope_count in enumerate(distribution):\n",
    "          # Get the abundance of this isotope\n",
    "          a_this_isotope = isotopes[this_element][isotope_index][1]\n",
    "          # Multiply the molecule's abundance by the abundance of this isotope to the power of its count\n",
    "          a *= a_this_isotope**isotope_count\n",
    "\n",
    "          # k is the count of this isotope\n",
    "          b_this_isotope = binomial_coefficient(n_remaining, isotope_count)\n",
    "          b *= b_this_isotope\n",
    "\n",
    "          # Decrease n, the number of atoms yet to be assigned, by the count of this isotope\n",
    "          n_remaining -= isotope_count\n",
    "        arr.abundance *= a*b\n",
    "\n",
    "        # Assign isotopes to atoms of this element type\n",
    "        for atom in arr.mol.GetAtoms():\n",
    "          if atom.GetSymbol() == this_element:\n",
    "            # Count down for each isotope, going on to the next when zero\n",
    "            for isotope_index, isotope in enumerate(distribution):\n",
    "              if distribution[isotope_index] > 0:\n",
    "                  atom.SetIsotope(isotopes[this_element][isotope_index][0])\n",
    "                  distribution[isotope_index] -= 1\n",
    "                  # If assign isotope to this atom, move on to next atom\n",
    "                  break\n",
    "\n",
    "        isotopes_list = []\n",
    "        for atom in arr.mol.GetAtoms():\n",
    "          isotopes_list.append(atom.GetIsotope())\n",
    "\n",
    "        # Update the properties of the MolecularIsotope to get exact masses\n",
    "        arr.update()\n",
    "    return arr"
   ]
  },
  {
   "cell_type": "markdown",
   "metadata": {},
   "source": [
    "## Set up"
   ]
  },
  {
   "cell_type": "markdown",
   "metadata": {},
   "source": [
    "We start by creating a data structure with each element in the molecule, and a nested list of mass number and abundance for each isotope."
   ]
  },
  {
   "cell_type": "code",
   "execution_count": 1241,
   "metadata": {},
   "outputs": [
    {
     "name": "stdout",
     "output_type": "stream",
     "text": [
      "{'Cl', 'S'}\n",
      "{'Cl': [[35, 0.758], [37, 0.242]], 'S': [[32, 0.9484999999999999], [33, 0.0076300000000000005], [34, 0.04365], [36, 0.00015800000000000002]]}\n"
     ]
    }
   ],
   "source": [
    "set_of_atoms = atom_set(mol)\n",
    "print(set_of_atoms)\n",
    "isotopes = {}\n",
    "for atom in set_of_atoms:\n",
    "  element_isotopes = mendeleev.element(atom).isotopes\n",
    "  occuring_isotopes = [[isotope.mass_number, isotope.abundance/100] for isotope in element_isotopes if isotope.abundance != None]\n",
    "  isotopes[atom] = occuring_isotopes\n",
    "print(isotopes)"
   ]
  },
  {
   "cell_type": "markdown",
   "metadata": {},
   "source": [
    "## Scale of the problem"
   ]
  },
  {
   "cell_type": "markdown",
   "metadata": {},
   "source": [
    "For a given element, we are applying the element's n isotopes to r atoms of that element in the molecule. Because we are only concerned with the mass, the placement of the isotopes is not important, only their count. So this a combinations with replacement scenario, meaning the count of each isotope and each isotope can be used more than once. This is equivalent to painting balls in a jar various colors, where the color represents the isotope, the ball represents an atom in the molecule, and we are not concerned with the order of the balls. The formula for combinations with replacement is:"
   ]
  },
  {
   "cell_type": "markdown",
   "metadata": {},
   "source": [
    "#TODO Add latex formula; isn't there a Python package which will turn a function into a formula?"
   ]
  },
  {
   "cell_type": "code",
   "execution_count": 1242,
   "metadata": {},
   "outputs": [
    {
     "data": {
      "text/latex": [
       "$$ \\displaystyle \\mathrm{combos\\_with\\_repetition}(n, r) = \\frac{\\mathopen{}\\left( r + n - 1 \\mathclose{}\\right) !}{r ! \\cdot \\mathopen{}\\left( n - 1 \\mathclose{}\\right) !} $$"
      ],
      "text/plain": [
       "<latexify.ipython_wrappers.LatexifiedFunction at 0x16e495290>"
      ]
     },
     "execution_count": 1242,
     "metadata": {},
     "output_type": "execute_result"
    }
   ],
   "source": [
    "@latexify.function\n",
    "def combos_with_repetition(n, r):\n",
    "    return (math.factorial(r + n - 1)) / (math.factorial(r) * math.factorial(n-1))\n",
    "combos_with_repetition"
   ]
  },
  {
   "cell_type": "code",
   "execution_count": 1243,
   "metadata": {},
   "outputs": [],
   "source": [
    "def combos_with_repetition_int(n, r):\n",
    "    return int(combos_with_repetition(n, r))"
   ]
  },
  {
   "cell_type": "markdown",
   "metadata": {},
   "source": [
    "So for S, there are n = 4 isotopes and r = 1 atoms, so 4 combinations:"
   ]
  },
  {
   "cell_type": "code",
   "execution_count": 1244,
   "metadata": {},
   "outputs": [
    {
     "data": {
      "text/plain": [
       "4"
      ]
     },
     "execution_count": 1244,
     "metadata": {},
     "output_type": "execute_result"
    }
   ],
   "source": [
    "c_S = combos_with_repetition_int(4,1)\n",
    "c_S"
   ]
  },
  {
   "cell_type": "markdown",
   "metadata": {},
   "source": [
    "And for Cl, there are n = 2 isotopes and r = 2 atoms, so 3 combinations:"
   ]
  },
  {
   "cell_type": "code",
   "execution_count": 1245,
   "metadata": {},
   "outputs": [
    {
     "data": {
      "text/plain": [
       "3"
      ]
     },
     "execution_count": 1245,
     "metadata": {},
     "output_type": "execute_result"
    }
   ],
   "source": [
    "c_Cl = combos_with_repetition_int(2,2)\n",
    "c_Cl"
   ]
  },
  {
   "cell_type": "markdown",
   "metadata": {},
   "source": [
    "making a total of 12 combinations for the molecule:"
   ]
  },
  {
   "cell_type": "code",
   "execution_count": 1246,
   "metadata": {},
   "outputs": [
    {
     "data": {
      "text/plain": [
       "12"
      ]
     },
     "execution_count": 1246,
     "metadata": {},
     "output_type": "execute_result"
    }
   ],
   "source": [
    "c_S * c_Cl"
   ]
  },
  {
   "cell_type": "markdown",
   "metadata": {},
   "source": [
    "which is less than the 16 permutations in the previous post. Here again is the formula for permutations with repetition: "
   ]
  },
  {
   "cell_type": "code",
   "execution_count": 1247,
   "metadata": {},
   "outputs": [
    {
     "data": {
      "text/latex": [
       "$$ \\displaystyle \\mathrm{permutations\\_with\\_repetition}(n, r) = n^{r} $$"
      ],
      "text/plain": [
       "<latexify.ipython_wrappers.LatexifiedFunction at 0x286b58190>"
      ]
     },
     "execution_count": 1247,
     "metadata": {},
     "output_type": "execute_result"
    }
   ],
   "source": [
    "@latexify.function\n",
    "def permutations_with_repetition(n, r):\n",
    "    return n**r\n",
    "permutations_with_repetition"
   ]
  },
  {
   "cell_type": "markdown",
   "metadata": {},
   "source": [
    "While that is a fairly small computational improvement, to understand why using combinations instead of permutations becomes so much more computationally efficient for a large molecule, let's consider a larger molecule, naphthalene, C<sub>10</sub>H<sub>8</sub> (SMILES of `c1c2ccccc2ccc1`). We'll calculate the number of combinations and permutations for each element and for the molecule as a whole:"
   ]
  },
  {
   "cell_type": "code",
   "execution_count": 1263,
   "metadata": {},
   "outputs": [
    {
     "name": "stdout",
     "output_type": "stream",
     "text": [
      "Item  Combinations  Permutations  Combinations more efficient by factor of\n",
      "C               11         1,024       93.09\n",
      "H                9           256       28.44\n",
      "mol             99       262,144    2,647.92\n"
     ]
    }
   ],
   "source": [
    "print(\"Item  Combinations  Permutations  Combinations more efficient by factor of\")\n",
    "# C\n",
    "for n_isotopes, n_atoms in [(2, 10)]:\n",
    "    c_C = combos_with_repetition_int(n_isotopes, n_atoms)\n",
    "    p_C = permutations_with_repetition(n_isotopes, n_atoms)\n",
    "    print(f\"C     {c_C:12,} {p_C:13,} {p_C/c_C:11,.2f}\")\n",
    "# H\n",
    "for n_isotopes, n_atoms in [(2, 8)]:\n",
    "    c_H = combos_with_repetition_int(n_isotopes, n_atoms)\n",
    "    p_H = permutations_with_repetition(n_isotopes, n_atoms)\n",
    "    print(f\"H     {c_H:12,} {p_H:13,} {p_H/c_H:11,.2f}\")\n",
    "print(f\"mol   {c_C * c_H:12,} {p_C * p_H:13,} {(p_C * p_H)/(c_C * c_H):11,.2f}\")"
   ]
  },
  {
   "cell_type": "markdown",
   "metadata": {},
   "source": [
    "So by ignoring the order, the number of combinations is significantly less than the number of permutations for for each element. Further, when multiple elements are combined in a molecule, the improvement is multiplicative. This helps explain why calculating the isotopic distribution pattern of naphthalene is very fast using combinations, but much slower using permutations.\n",
    "\n",
    "The computational efficiency of using combinations instead of permutations would be even greater for elements with more than two isotopes."
   ]
  },
  {
   "cell_type": "markdown",
   "metadata": {},
   "source": [
    "## Setting the isotope of each atom in each combination"
   ]
  },
  {
   "cell_type": "markdown",
   "metadata": {},
   "source": [
    "To be more computationally efficient, we will create only one instance of each isotopologue, then calculate its abundance.\n"
   ]
  },
  {
   "cell_type": "code",
   "execution_count": 1249,
   "metadata": {},
   "outputs": [],
   "source": [
    "# Initialize ndarray to hold MolecularIsotope objects\n",
    "molecular_isotopes:np.ndarray = np.array(MolecularIsotope)\n",
    "\n",
    "# Loop through the elements in this molecule\n",
    "for this_element, n_this_element in composition(mol).items():\n",
    "  n_isotopes_this_element = len(isotopes[this_element])\n",
    "\n",
    "  # Calculate possible distributions of isotopes across atoms of this element\n",
    "  isotope_count_distribution = distribute_items(n_this_element, n_isotopes_this_element)\n",
    "  n_distributions = len(isotope_count_distribution)\n",
    "\n",
    "  if molecular_isotopes.shape == ():\n",
    "     # Start by creating a 1-dimensional array,\n",
    "     # making sure to make each mol an independent object\n",
    "     molecular_isotopes = np.array([MolecularIsotope(sml=sml, mol=Chem.Mol(mol)) for _ in range(n_distributions)], dtype=object)\n",
    "  else:\n",
    "    # Create a list of m copies of the current object, \n",
    "    # namely the n-1 dimensional ndarray representing elements prior to this element\n",
    "    molecular_isotopes_list = [copy.deepcopy(molecular_isotopes) for _ in range(n_distributions)]\n",
    "    \n",
    "    # Convert the list of copies to a NumPy ndarray\n",
    "    molecular_isotopes = np.array(molecular_isotopes_list, dtype=object)\n",
    "    \n",
    "  # Assign isotopes and abundances\n",
    "  molecular_isotopes = assign_isotopes(\n",
    "     arr=molecular_isotopes,\n",
    "     isotope_count_distribution=isotope_count_distribution, \n",
    "     prefix=[],\n",
    "     this_element=this_element,\n",
    "     n_this_element=n_this_element,\n",
    "     )"
   ]
  },
  {
   "cell_type": "code",
   "execution_count": 1250,
   "metadata": {},
   "outputs": [
    {
     "data": {
      "text/plain": [
       "defaultdict(<function __main__.composition.<locals>.<lambda>()>,\n",
       "            {'Cl': 2, 'S': 1})"
      ]
     },
     "execution_count": 1250,
     "metadata": {},
     "output_type": "execute_result"
    }
   ],
   "source": [
    "composition(mol)"
   ]
  },
  {
   "cell_type": "code",
   "execution_count": 1251,
   "metadata": {},
   "outputs": [
    {
     "data": {
      "text/plain": [
       "12"
      ]
     },
     "execution_count": 1251,
     "metadata": {},
     "output_type": "execute_result"
    }
   ],
   "source": [
    "molecular_isotopes.size"
   ]
  },
  {
   "cell_type": "code",
   "execution_count": 1252,
   "metadata": {},
   "outputs": [
    {
     "data": {
      "text/plain": [
       "(4, 3)"
      ]
     },
     "execution_count": 1252,
     "metadata": {},
     "output_type": "execute_result"
    }
   ],
   "source": [
    "molecular_isotopes.shape"
   ]
  },
  {
   "cell_type": "markdown",
   "metadata": {},
   "source": [
    "To sort the isotopologues by mass, we flatten the array into one dimension."
   ]
  },
  {
   "cell_type": "code",
   "execution_count": 1253,
   "metadata": {},
   "outputs": [],
   "source": [
    "molecular_isotopes_flat = flatten_ndarray(molecular_isotopes)\n",
    "\n",
    "# Create a list of the masses\n",
    "masses_array_flat = list(extract_properties(molecular_isotopes_flat, \"mass\"))\n",
    "\n",
    "# Create a list of the order of each item by mass, for example the smallest mass will have a value of zero \n",
    "order = np.argsort(masses_array_flat).tolist()\n",
    "\n",
    "# Sort the molecular isotopes by that ordering list\n",
    "sorted_molecular_isotopes = sorted(molecular_isotopes_flat, key=lambda x: order.index(molecular_isotopes_flat.index(x)))"
   ]
  },
  {
   "cell_type": "code",
   "execution_count": 1254,
   "metadata": {},
   "outputs": [],
   "source": [
    "def mol_to_formatted_formula(\n",
    "    mol: Chem.Mol,\n",
    "    isotopes: bool = False,\n",
    ") -> dict[str, str]:\n",
    "    if mol is None:\n",
    "        return \"Invalid molecule\"\n",
    "    comp = composition(mol, isotopes)\n",
    "\n",
    "    formula = {\"markdown\": \"\", \"latex\": \"\"}\n",
    "\n",
    "    if isotopes:\n",
    "        isotopes_dict = defaultdict(lambda: defaultdict(str))\n",
    "        subscripts = defaultdict(lambda: defaultdict(int))\n",
    "        superscripts = defaultdict(list)\n",
    "\n",
    "        for element, counts in comp.items():\n",
    "            for isotope, count in counts.items():\n",
    "                if count > 1:\n",
    "                    subscripts[element][isotope] = count\n",
    "                if isotope != 0:\n",
    "                    superscripts[element].append(isotope)\n",
    "\n",
    "                isotopes_dict[element][isotope] = 1\n",
    "            # Sort the element's isotopes from lowest to highest\n",
    "            superscripts[element].sort()\n",
    "\n",
    "        last_item_is_subscript = False\n",
    "        sorted_element_keys = sorted(isotopes_dict.keys())\n",
    "        for element in sorted_element_keys:\n",
    "            isotope_count_pairs = isotopes_dict[element]\n",
    "            # Sort the element's isotopes from lowest to highest\n",
    "            sorted_isotope_keys = sorted(isotope_count_pairs.keys())\n",
    "            for isotope in sorted_isotope_keys:\n",
    "                if element in superscripts:\n",
    "                    if isotope in superscripts[element]:\n",
    "                        formula[\"markdown\"] += f\"<sup>{isotope}</sup>\"\n",
    "\n",
    "                        # If superscript immediately follows subscript,\n",
    "                        # add a small amount of horizontal space using an empty group {}\n",
    "                        # to prevent them from vertically overlapping\n",
    "                        if last_item_is_subscript:\n",
    "                            formula[\"latex\"] += \"{}\"\n",
    "                        formula[\"latex\"] += \"^{ %d}\" % isotope\n",
    "                        last_item_is_subscript = False\n",
    "                formula[\"markdown\"] += element\n",
    "                formula[\"latex\"] += element\n",
    "                last_item_is_subscript = False\n",
    "                if element in subscripts:\n",
    "                    if isotope in subscripts[element]:\n",
    "                        isotope_count = subscripts[element][isotope]\n",
    "                        formula[\"markdown\"] += f\"<sub>{isotope_count}</sub>\"\n",
    "                        formula[\"latex\"] += \"_{ %d}\" % isotope_count\n",
    "                    last_item_is_subscript = True\n",
    "        # Add beginning and ending dollar signs to LaTeX formula\n",
    "        formula[\"latex\"] = \"$\" + formula[\"latex\"] + \"$\"\n",
    "    else:\n",
    "        # Handling the case when isotopes is False\n",
    "        sorted_element_keys = sorted(comp.keys())\n",
    "\n",
    "        for element in sorted_element_keys:\n",
    "            count = comp[element]\n",
    "            formula[\"markdown\"] += element\n",
    "            formula[\"latex\"] += element\n",
    "            if count > 1:\n",
    "                formula[\"markdown\"] += f\"<sub>{count}</sub>\"\n",
    "                formula[\"latex\"] += \"_{ %d}\" % count\n",
    "        formula[\"latex\"] = \"$\" + formula[\"latex\"] + \"$\"\n",
    "\n",
    "    return formula"
   ]
  },
  {
   "cell_type": "code",
   "execution_count": 1297,
   "metadata": {},
   "outputs": [],
   "source": [
    "def dict_list_to_markdown_table(data, number_rows=False):\n",
    "    \"\"\"\n",
    "    Convert a list of dictionaries into a Markdown table.\n",
    "\n",
    "    Args:\n",
    "        data (list): A list of dictionaries, where each dictionary corresponds to a row in the table.\n",
    "        include_row_numbers (bool): Whether to include a row number column.\n",
    "\n",
    "    Returns:\n",
    "        str: The Markdown-formatted table as a string.\n",
    "    \"\"\"\n",
    "    if not data:\n",
    "        return \"\"\n",
    "\n",
    "    # Extract column headers from the keys of the first dictionary\n",
    "    headers = data[0].keys()\n",
    "\n",
    "    # If include_row_numbers is True, add the \"Row #\" column\n",
    "    if number_rows:\n",
    "        headers = [\"#\"] + list(headers)\n",
    "\n",
    "    # Create the table headers\n",
    "    table = \"| \" + \" | \".join(headers) + \" |\\n\"\n",
    "\n",
    "    # Create the title divider line\n",
    "    table += \"|\"\n",
    "    for _ in headers:\n",
    "        table += \" --- |\"\n",
    "    table += \"\\n\"\n",
    "\n",
    "    # Create the table body\n",
    "    for i, row in enumerate(data):\n",
    "        if number_rows:\n",
    "            row_data = [i + 1] + [row.get(header, \"\") for header in headers[1:]]\n",
    "        else:\n",
    "            row_data = [row.get(header, \"\") for header in headers]\n",
    "\n",
    "        table += \"| \" + \" | \".join(map(str, row_data)) + \" |\\n\"\n",
    "\n",
    "    return table"
   ]
  },
  {
   "cell_type": "code",
   "execution_count": 1274,
   "metadata": {},
   "outputs": [
    {
     "data": {
      "text/plain": [
       "defaultdict(<function __main__.composition.<locals>.<lambda>()>,\n",
       "            {'Cl': defaultdict(<function __main__.composition.<locals>.<lambda>()>,\n",
       "                         {37: 2}),\n",
       "             'S': defaultdict(<function __main__.composition.<locals>.<lambda>()>,\n",
       "                         {36: 1})})"
      ]
     },
     "execution_count": 1274,
     "metadata": {},
     "output_type": "execute_result"
    }
   ],
   "source": [
    "x = molecular_isotopes[0][0].mol\n",
    "composition(x, isotopes=True)"
   ]
  },
  {
   "cell_type": "code",
   "execution_count": 1320,
   "metadata": {},
   "outputs": [],
   "source": [
    "data_dict_list = []\n",
    "for mol_isotope in sorted_molecular_isotopes:\n",
    "    mol_isotope.update()\n",
    "    data_dict = {prop: getattr(mol_isotope, prop) for prop in vars(mol_isotope).keys()}\n",
    "    data_dict[\"mol_isotope\"] = mol_isotope\n",
    "    data_dict_list.append(data_dict)\n",
    "df = pl.DataFrame(data_dict_list).select([\"mass\", \"abundance\", \"mol\"])\n",
    "df = df.with_columns(\n",
    "    pl.col(\"mol\").map_elements(lambda x: mol_to_formatted_formula(x, isotopes=True)[\"markdown\"]).alias(\"formula\"),\n",
    "    pl.col(\"mol\").map_elements(lambda x: mol_to_formatted_formula(x, isotopes=True)[\"latex\"]).alias(\"formula_latex\"),\n",
    "    pl.col(\"mol\").map_elements(lambda x: composition(molecule=x, isotopes=True).get(\"Cl\", 0).get(35, 0)).alias(\"num_Cl_35\"),\n",
    ")"
   ]
  },
  {
   "cell_type": "code",
   "execution_count": 1321,
   "metadata": {},
   "outputs": [
    {
     "data": {
      "text/markdown": [
       "| # | formula | mass | abundance |\n",
       "| --- | --- | --- | --- |\n",
       "| 1 | <sup>35</sup>Cl<sub>2</sub><sup>32</sup>S | 101.90977636 | 0.5449739539999999 |\n",
       "| 2 | <sup>35</sup>Cl<sub>2</sub><sup>33</sup>S | 102.90916411999999 | 0.00438392332 |\n",
       "| 3 | <sup>35</sup>Cl<sub>2</sub><sup>34</sup>S | 103.90557225999999 | 0.0250797186 |\n",
       "| 4 | <sup>35</sup>Cl<sup>37</sup>Cl<sup>32</sup>S | 103.90682627 | 0.34797809199999996 |\n",
       "| 5 | <sup>35</sup>Cl<sup>37</sup>Cl<sup>33</sup>S | 104.90621402999999 | 0.00279923336 |\n",
       "| 6 | <sup>35</sup>Cl<sup>37</sup>Cl<sup>34</sup>S | 105.90262216999999 | 0.0160139628 |\n",
       "| 7 | <sup>37</sup>Cl<sub>2</sub><sup>32</sup>S | 105.90387618 | 0.05554795399999999 |\n",
       "| 8 | <sup>35</sup>Cl<sub>2</sub><sup>36</sup>S | 105.90478612 | 9.078111200000001e-05 |\n",
       "| 9 | <sup>37</sup>Cl<sub>2</sub><sup>33</sup>S | 106.90326394 | 0.00044684332 |\n",
       "| 10 | <sup>37</sup>Cl<sub>2</sub><sup>34</sup>S | 107.89967208 | 0.0025563186 |\n",
       "| 11 | <sup>35</sup>Cl<sup>37</sup>Cl<sup>36</sup>S | 107.90183603 | 5.7965776e-05 |\n",
       "| 12 | <sup>37</sup>Cl<sub>2</sub><sup>36</sup>S | 109.89888594 | 9.253112e-06 |\n"
      ],
      "text/plain": [
       "<IPython.core.display.Markdown object>"
      ]
     },
     "execution_count": 1321,
     "metadata": {},
     "output_type": "execute_result"
    }
   ],
   "source": [
    "# Choose rows to display in Markdown table\n",
    "df_display = df.select([\"formula\", \"mass\", \"abundance\"])\n",
    "table = dict_list_to_markdown_table(\n",
    "    df_display.rows(named=True),\n",
    "    number_rows=True)\n",
    "Markdown(table)\n",
    "\n",
    "Markdown(\n",
    "    dict_list_to_markdown_table(\n",
    "        df_display.rows(named=True),\n",
    "        number_rows=True,\n",
    "        )\n",
    "    )"
   ]
  },
  {
   "cell_type": "markdown",
   "metadata": {},
   "source": [
    "### Checking our abundances"
   ]
  },
  {
   "cell_type": "markdown",
   "metadata": {},
   "source": [
    "To verify that we calculated and aggregated abundances correctly, we check that the sum of abundances of the isotopomers is 1. (It might be very slightly different depending on the isotope data, numerical precision of operations, etc.)"
   ]
  },
  {
   "cell_type": "code",
   "execution_count": 1322,
   "metadata": {},
   "outputs": [
    {
     "name": "stdout",
     "output_type": "stream",
     "text": [
      "0.999938\n"
     ]
    }
   ],
   "source": [
    "mol_isotopes_abundances = df[\"abundance\"].to_list()\n",
    "abundance_sum = sum(mol_isotopes_abundances)\n",
    "print(abundance_sum)"
   ]
  },
  {
   "cell_type": "markdown",
   "metadata": {},
   "source": [
    "## Plot abundance vs. mass results"
   ]
  },
  {
   "cell_type": "markdown",
   "metadata": {},
   "source": [
    "For the graph, to prevent a forest of short lines and colliding labels due to the be many isotopomers with very low abundance, we might want to limit the plot to a cutoff level of abundance."
   ]
  },
  {
   "cell_type": "code",
   "execution_count": 1323,
   "metadata": {},
   "outputs": [
    {
     "data": {
      "text/markdown": [
       "| # | formula | mass | abundance |\n",
       "| --- | --- | --- | --- |\n",
       "| 1 | <sup>35</sup>Cl<sub>2</sub><sup>32</sup>S | 101.90977636 | 0.5449739539999999 |\n",
       "| 2 | <sup>35</sup>Cl<sub>2</sub><sup>33</sup>S | 102.90916411999999 | 0.00438392332 |\n",
       "| 3 | <sup>35</sup>Cl<sub>2</sub><sup>34</sup>S | 103.90557225999999 | 0.0250797186 |\n",
       "| 4 | <sup>35</sup>Cl<sup>37</sup>Cl<sup>32</sup>S | 103.90682627 | 0.34797809199999996 |\n",
       "| 5 | <sup>37</sup>Cl<sub>2</sub><sup>32</sup>S | 105.90387618 | 0.05554795399999999 |\n",
       "| 6 | <sup>35</sup>Cl<sub>2</sub><sup>36</sup>S | 105.90478612 | 9.078111200000001e-05 |\n"
      ],
      "text/plain": [
       "<IPython.core.display.Markdown object>"
      ]
     },
     "execution_count": 1323,
     "metadata": {},
     "output_type": "execute_result"
    }
   ],
   "source": [
    "cutoff = 0.05\n",
    "# cutoff = 0.000000005\n",
    "df_cutoff = df.filter((pl.col(\"abundance\") > cutoff) | (pl.col(\"num_Cl_35\") == 2))\n",
    "\n",
    "# Format as Markdown table\n",
    "df_display_cutoff = df_cutoff.select([\"formula\", \"mass\", \"abundance\"])\n",
    "table_cutoff = dict_list_to_markdown_table(\n",
    "    df_display_cutoff.rows(named=True),\n",
    "    number_rows=True)\n",
    "Markdown(table_cutoff)"
   ]
  },
  {
   "cell_type": "code",
   "execution_count": 1324,
   "metadata": {},
   "outputs": [
    {
     "data": {
      "text/html": [
       "<div><style>\n",
       ".dataframe > thead > tr > th,\n",
       ".dataframe > tbody > tr > td {\n",
       "  text-align: right;\n",
       "  white-space: pre-wrap;\n",
       "}\n",
       "</style>\n",
       "<small>shape: (6, 6)</small><table border=\"1\" class=\"dataframe\"><thead><tr><th>mass</th><th>abundance</th><th>mol</th><th>formula</th><th>formula_latex</th><th>num_Cl_35</th></tr><tr><td>f64</td><td>f64</td><td>object</td><td>str</td><td>str</td><td>i64</td></tr></thead><tbody><tr><td>101.909776</td><td>0.544974</td><td>&lt;rdkit.Chem.rdchem.Mol object at 0x285758900&gt;</td><td>&quot;&lt;sup&gt;35&lt;/sup&gt;C…</td><td>&quot;$^{ 35}Cl_{ 2}…</td><td>2</td></tr><tr><td>102.909164</td><td>0.004384</td><td>&lt;rdkit.Chem.rdchem.Mol object at 0x285758c80&gt;</td><td>&quot;&lt;sup&gt;35&lt;/sup&gt;C…</td><td>&quot;$^{ 35}Cl_{ 2}…</td><td>2</td></tr><tr><td>103.905572</td><td>0.02508</td><td>&lt;rdkit.Chem.rdchem.Mol object at 0x285758ac0&gt;</td><td>&quot;&lt;sup&gt;35&lt;/sup&gt;C…</td><td>&quot;$^{ 35}Cl_{ 2}…</td><td>2</td></tr><tr><td>103.906826</td><td>0.347978</td><td>&lt;rdkit.Chem.rdchem.Mol object at 0x2857587b0&gt;</td><td>&quot;&lt;sup&gt;35&lt;/sup&gt;C…</td><td>&quot;$^{ 35}Cl^{ 37…</td><td>1</td></tr><tr><td>105.903876</td><td>0.055548</td><td>&lt;rdkit.Chem.rdchem.Mol object at 0x285758cf0&gt;</td><td>&quot;&lt;sup&gt;37&lt;/sup&gt;C…</td><td>&quot;$^{ 37}Cl_{ 2}…</td><td>0</td></tr><tr><td>105.904786</td><td>0.000091</td><td>&lt;rdkit.Chem.rdchem.Mol object at 0x285758970&gt;</td><td>&quot;&lt;sup&gt;35&lt;/sup&gt;C…</td><td>&quot;$^{ 35}Cl_{ 2}…</td><td>2</td></tr></tbody></table></div>"
      ],
      "text/plain": [
       "shape: (6, 6)\n",
       "┌────────────┬───────────┬──────────────────────┬──────────────────────┬───────────────┬───────────┐\n",
       "│ mass       ┆ abundance ┆ mol                  ┆ formula              ┆ formula_latex ┆ num_Cl_35 │\n",
       "│ ---        ┆ ---       ┆ ---                  ┆ ---                  ┆ ---           ┆ ---       │\n",
       "│ f64        ┆ f64       ┆ object               ┆ str                  ┆ str           ┆ i64       │\n",
       "╞════════════╪═══════════╪══════════════════════╪══════════════════════╪═══════════════╪═══════════╡\n",
       "│ 101.909776 ┆ 0.544974  ┆ <rdkit.Chem.rdchem.M ┆ <sup>35</sup>Cl<sub> ┆ $^{ 35}Cl_{   ┆ 2         │\n",
       "│            ┆           ┆ ol object at…        ┆ 2</sub><sup>…        ┆ 2}{}^{ 32}S$  ┆           │\n",
       "│ 102.909164 ┆ 0.004384  ┆ <rdkit.Chem.rdchem.M ┆ <sup>35</sup>Cl<sub> ┆ $^{ 35}Cl_{   ┆ 2         │\n",
       "│            ┆           ┆ ol object at…        ┆ 2</sub><sup>…        ┆ 2}{}^{ 33}S$  ┆           │\n",
       "│ 103.905572 ┆ 0.02508   ┆ <rdkit.Chem.rdchem.M ┆ <sup>35</sup>Cl<sub> ┆ $^{ 35}Cl_{   ┆ 2         │\n",
       "│            ┆           ┆ ol object at…        ┆ 2</sub><sup>…        ┆ 2}{}^{ 34}S$  ┆           │\n",
       "│ 103.906826 ┆ 0.347978  ┆ <rdkit.Chem.rdchem.M ┆ <sup>35</sup>Cl<sup> ┆ $^{ 35}Cl^{   ┆ 1         │\n",
       "│            ┆           ┆ ol object at…        ┆ 37</sup>Cl<s…        ┆ 37}Cl^{ 32}S$ ┆           │\n",
       "│ 105.903876 ┆ 0.055548  ┆ <rdkit.Chem.rdchem.M ┆ <sup>37</sup>Cl<sub> ┆ $^{ 37}Cl_{   ┆ 0         │\n",
       "│            ┆           ┆ ol object at…        ┆ 2</sub><sup>…        ┆ 2}{}^{ 32}S$  ┆           │\n",
       "│ 105.904786 ┆ 0.000091  ┆ <rdkit.Chem.rdchem.M ┆ <sup>35</sup>Cl<sub> ┆ $^{ 35}Cl_{   ┆ 2         │\n",
       "│            ┆           ┆ ol object at…        ┆ 2</sub><sup>…        ┆ 2}{}^{ 36}S$  ┆           │\n",
       "└────────────┴───────────┴──────────────────────┴──────────────────────┴───────────────┴───────────┘"
      ]
     },
     "execution_count": 1324,
     "metadata": {},
     "output_type": "execute_result"
    }
   ],
   "source": [
    "df_cutoff"
   ]
  },
  {
   "cell_type": "markdown",
   "metadata": {},
   "source": [
    "These results agree with the analogous table in the previous blog post. Now we can plot the isotopomers above that cutoff level of abundance."
   ]
  },
  {
   "cell_type": "code",
   "execution_count": 1325,
   "metadata": {},
   "outputs": [
    {
     "name": "stderr",
     "output_type": "stream",
     "text": [
      "/Users/jemonat/Projects/bertiewooster.github.io/venv/lib/python3.11/site-packages/seaborn/_oldcore.py:1498: FutureWarning: is_categorical_dtype is deprecated and will be removed in a future version. Use isinstance(dtype, CategoricalDtype) instead\n",
      "  if pd.api.types.is_categorical_dtype(vector):\n",
      "/Users/jemonat/Projects/bertiewooster.github.io/venv/lib/python3.11/site-packages/seaborn/_oldcore.py:1498: FutureWarning: is_categorical_dtype is deprecated and will be removed in a future version. Use isinstance(dtype, CategoricalDtype) instead\n",
      "  if pd.api.types.is_categorical_dtype(vector):\n"
     ]
    },
    {
     "data": {
      "image/png": "[encoded data removed]",
      "text/plain": [
       "<Figure size 640x480 with 1 Axes>"
      ]
     },
     "metadata": {},
     "output_type": "display_data"
    }
   ],
   "source": [
    "# Create the scatter plot using Seaborn; don't use markers because we'll plot lines instead\n",
    "sns.scatterplot(x='mass', y='abundance', data=df_cutoff, marker='')\n",
    "\n",
    "plt.xlabel('Mass (amu)')\n",
    "plt.ylabel('Abundance')\n",
    "\n",
    "# Generate molecular formula of molecule\n",
    "formula = mol_to_formatted_formula(mol)[\"latex\"].strip(\"$\")\n",
    "\n",
    "# Use C-style string formatting with the % operator to avoid conflicts with using braces for both LaTeX and {}.format()\n",
    "title = r\"${\\rm %s}$ molecular isotopic distribution\" % formula\n",
    "plt.title(title)\n",
    "\n",
    "# Adjust x-axis limits to allow more space on the left and right for labels\n",
    "xrange = max(df_cutoff['mass']) - min(df_cutoff['mass'])\n",
    "xpad = xrange * 0.15\n",
    "plt.xlim(min(df_cutoff['mass']) - xpad, max(df_cutoff['mass']) + xpad)\n",
    "\n",
    "# Adjust y-axis limits to start at zero and allow more space on the top for labels\n",
    "yrange = max(df_cutoff['abundance']) - min(df_cutoff['abundance'])\n",
    "ypad = yrange * 0.15\n",
    "plt.ylim(0, max(df_cutoff['abundance']) + ypad)\n",
    "\n",
    "# Iterate through the rows (data points)\n",
    "for index, (mass, abundance, formula) in enumerate(zip(df_cutoff['mass'], df_cutoff['abundance'], df_cutoff['formula_latex'])):\n",
    "    # Add vertical lines from each data point to the x-axis\n",
    "    plt.vlines(x=mass, ymin=0, ymax=abundance, colors='black')\n",
    "\n",
    "    # Label the data points by mass\n",
    "    label = r\"${\\rm %s}$ %s %s\" % (formula.strip(\"$\"), \"\\n\", round(mass, 6))\n",
    "    plt.text(\n",
    "        x=mass, \n",
    "        y=abundance, \n",
    "        s=label, \n",
    "        ha='center',\n",
    "        va='bottom')\n",
    "\n",
    "plt.show()"
   ]
  },
  {
   "cell_type": "markdown",
   "metadata": {},
   "source": [
    "## Conclusion"
   ]
  },
  {
   "cell_type": "markdown",
   "metadata": {},
   "source": [
    "Using the binomial distribution to calculate the number of occurrences for each isotopic molecular formula is much more efficient than creating a separate molecule for each position of each isotope. Because all we care about is the molecular mass, it is not important where in the molecule each isotope is, just how many of each isotope there are. Combinations, which ignore the order of isotopic atoms, thus suffice and save computation compared to using permutations, which consider the order of isotopic atoms."
   ]
  }
 ],
 "metadata": {
  "kernelspec": {
   "display_name": "venv",
   "language": "python",
   "name": "python3"
  },
  "language_info": {
   "codemirror_mode": {
    "name": "ipython",
    "version": 3
   },
   "file_extension": ".py",
   "mimetype": "text/x-python",
   "name": "python",
   "nbconvert_exporter": "python",
   "pygments_lexer": "ipython3",
   "version": "3.11.0"
  },
  "orig_nbformat": 4
 },
 "nbformat": 4,
 "nbformat_minor": 2
}
