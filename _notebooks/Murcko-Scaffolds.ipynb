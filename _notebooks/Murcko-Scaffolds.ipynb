{
 "cells": [
  {
   "cell_type": "markdown",
   "id": "cae90e68",
   "metadata": {},
   "source": [
    "# Murcko Scaffolds: Counting and Organizing a List of Molecules by Scaffold"
   ]
  },
  {
   "cell_type": "markdown",
   "id": "e0351fd1",
   "metadata": {},
   "source": [
    "This blog post provides a simple way to visualize a list of molecules by their Murcko scaffolds. Murcko scaffolds are a useful way to cluster molecules to select a chemically diverse set of molecules. Murcko scaffolds are also a good way to split a set of molecules for machine learning so the model does not train and test on molecules that have the same scaffold, which contaminates the training set.\n",
    "\n",
    "RDKit's implementation of Murcko scaffolds is based on [Bemis-Murcko Scaffolds](https://pubmed.ncbi.nlm.nih.gov/8709122/), with [some differences](https://github.com/rdkit/rdkit/issues/4093)."
   ]
  },
  {
   "cell_type": "code",
   "execution_count": 1,
   "id": "961769e5",
   "metadata": {},
   "outputs": [],
   "source": [
    "from rdkit import Chem\n",
    "from rdkit.Chem.Scaffolds.MurckoScaffold import MurckoScaffoldSmiles\n",
    "from rdkit.Chem.Draw import MolsMatrixToGridImage\n",
    "from rdkit.Chem import Descriptors"
   ]
  },
  {
   "cell_type": "markdown",
   "id": "8f83df80",
   "metadata": {},
   "source": [
    "## Murcko scaffolds for a list of SMILES"
   ]
  },
  {
   "cell_type": "markdown",
   "id": "4af2e5cc",
   "metadata": {},
   "source": [
    "Given a list of SMILES:"
   ]
  },
  {
   "cell_type": "code",
   "execution_count": 2,
   "id": "befbda3b",
   "metadata": {},
   "outputs": [],
   "source": [
    "smls = [\"Cc1cc(Oc2nccc(CCCC)c2)ccc1\", \"Cc1cc(Oc2nccc(CCC)c2)ccc1\", \"Cc1ccccc1\"]"
   ]
  },
  {
   "cell_type": "markdown",
   "id": "0e4944f7",
   "metadata": {},
   "source": [
    "we determine the Murcko scaffold for each. We put the results in a dictionary of `molecule:scaffold` format (each as a SMILES) so we can later group by scaffold."
   ]
  },
  {
   "cell_type": "code",
   "execution_count": 3,
   "id": "ec78c4ea",
   "metadata": {},
   "outputs": [
    {
     "data": {
      "text/plain": [
       "{'Cc1cc(Oc2nccc(CCCC)c2)ccc1': 'c1ccc(Oc2ccccn2)cc1',\n",
       " 'Cc1cc(Oc2nccc(CCC)c2)ccc1': 'c1ccc(Oc2ccccn2)cc1',\n",
       " 'Cc1ccccc1': 'c1ccccc1'}"
      ]
     },
     "execution_count": 3,
     "metadata": {},
     "output_type": "execute_result"
    }
   ],
   "source": [
    "sml_scaffold = {sml:MurckoScaffoldSmiles(sml) for sml in smls}\n",
    "sml_scaffold"
   ]
  },
  {
   "cell_type": "markdown",
   "id": "efa8e6fb",
   "metadata": {},
   "source": [
    "Now we can determine the number of unique scaffolds by creating a `set` of the scaffolds as SMILES. (If we tried to do this with scaffold `mol`s, we wouldn't get accurate results because each `mol` has a unique memory address.)"
   ]
  },
  {
   "cell_type": "code",
   "execution_count": 4,
   "id": "aba2c1c6",
   "metadata": {},
   "outputs": [
    {
     "data": {
      "text/plain": [
       "{'c1ccc(Oc2ccccn2)cc1', 'c1ccccc1'}"
      ]
     },
     "execution_count": 4,
     "metadata": {},
     "output_type": "execute_result"
    }
   ],
   "source": [
    "scaffolds = set(scaffold for scaffold in sml_scaffold.values())\n",
    "scaffolds"
   ]
  },
  {
   "cell_type": "code",
   "execution_count": 5,
   "id": "14db4f7c",
   "metadata": {},
   "outputs": [
    {
     "data": {
      "text/plain": [
       "2"
      ]
     },
     "execution_count": 5,
     "metadata": {},
     "output_type": "execute_result"
    }
   ],
   "source": [
    "len(scaffolds)"
   ]
  },
  {
   "cell_type": "markdown",
   "id": "eb99ed98",
   "metadata": {},
   "source": [
    "## Grouping molecules by scaffold"
   ]
  },
  {
   "cell_type": "markdown",
   "id": "d8e31c1e",
   "metadata": {},
   "source": [
    "Now we reverse the dictionary to `scaffold:list[molecule]` format to group the molecules by scaffold."
   ]
  },
  {
   "cell_type": "code",
   "execution_count": 6,
   "id": "6c6ef79d",
   "metadata": {},
   "outputs": [
    {
     "data": {
      "text/plain": [
       "{'c1ccc(Oc2ccccn2)cc1': ['Cc1cc(Oc2nccc(CCCC)c2)ccc1',\n",
       "  'Cc1cc(Oc2nccc(CCC)c2)ccc1'],\n",
       " 'c1ccccc1': ['Cc1ccccc1']}"
      ]
     },
     "execution_count": 6,
     "metadata": {},
     "output_type": "execute_result"
    }
   ],
   "source": [
    "scaffold_molecules = dict()\n",
    "for molecule, scaffold in sml_scaffold.items():\n",
    "    if scaffold not in scaffold_molecules.keys():\n",
    "        scaffold_molecules[scaffold] = [molecule]\n",
    "    else:\n",
    "        scaffold_molecules[scaffold].append(molecule)\n",
    "scaffold_molecules"
   ]
  },
  {
   "cell_type": "markdown",
   "id": "07b214c6",
   "metadata": {},
   "source": [
    "## Visualizing molecules by scaffold"
   ]
  },
  {
   "cell_type": "markdown",
   "id": "9f88844b",
   "metadata": {},
   "source": [
    "To get a better sense of the scaffolds and molecules, let's plot them in rows and columns:\n",
    "\n",
    "- Each row will correspond to a scaffold\n",
    "- The first column in each row will be the scaffold\n",
    "- Each subsequent column will be a molecule with that scaffold\n",
    "\n",
    "Because each scaffold (row) can have a variable number of molecules (columns), [MolsMatrixToGridImage](https://greglandrum.github.io/rdkit-blog/posts/2023-10-25-molsmatrixtogridimage.html) is convenient for visualization."
   ]
  },
  {
   "cell_type": "markdown",
   "id": "a73278b5",
   "metadata": {},
   "source": [
    "We start by creating a matrix (nested list) of mols where the first column is the scaffold and subsequent columns are molecules with that scaffold."
   ]
  },
  {
   "cell_type": "code",
   "execution_count": 7,
   "id": "7becd124",
   "metadata": {},
   "outputs": [],
   "source": [
    "molsMatrix = []\n",
    "for scaffold, molecules_list in scaffold_molecules.items():\n",
    "    molsMatrix.append([Chem.MolFromSmiles(scaffold)] + [Chem.MolFromSmiles(sml) for sml in molecules_list])"
   ]
  },
  {
   "cell_type": "markdown",
   "id": "b6d20c2f",
   "metadata": {},
   "source": [
    "To put the scaffolds in a logical order, we sort them by molecular weight."
   ]
  },
  {
   "cell_type": "code",
   "execution_count": 8,
   "id": "39a16379",
   "metadata": {},
   "outputs": [],
   "source": [
    "molsMatrix.sort(key=lambda row: Descriptors.MolWt(row[0]))"
   ]
  },
  {
   "cell_type": "markdown",
   "id": "5c9ae196",
   "metadata": {},
   "source": [
    "We similarly sort the molecules in each row by molecular weight."
   ]
  },
  {
   "cell_type": "code",
   "execution_count": 9,
   "id": "2c6d5e35",
   "metadata": {},
   "outputs": [],
   "source": [
    "for row_index, row in enumerate(molsMatrix):\n",
    "    molecules = row[1:]\n",
    "    molecules_sorted = sorted(molecules, key=lambda m: Descriptors.MolWt(m))\n",
    "    row_sorted = [row[0]] + molecules_sorted\n",
    "    molsMatrix[row_index] = row_sorted"
   ]
  },
  {
   "cell_type": "markdown",
   "id": "612ea0d4",
   "metadata": {},
   "source": [
    "Todo: Align each row by scaffold structure"
   ]
  },
  {
   "cell_type": "markdown",
   "id": "40cd2f2f",
   "metadata": {},
   "source": [
    "To make clear the commonality of molecules in each row, we highlight the scaffold in each molecule by getting the substructure match for each molecule."
   ]
  },
  {
   "cell_type": "code",
   "execution_count": 10,
   "id": "7ce6d1f6",
   "metadata": {},
   "outputs": [],
   "source": [
    "highlightAtomListsMatrix = []\n",
    "for row in molsMatrix:\n",
    "    matches = [\"\"] + [mol.GetSubstructMatch(row[0]) for mol in row[1:]]\n",
    "    highlightAtomListsMatrix.append(matches)"
   ]
  },
  {
   "cell_type": "markdown",
   "id": "aa6c542d",
   "metadata": {},
   "source": [
    "For the last setup step, we create the legends by row (scaffold):\n",
    "- In the first column, we number each scaffold\n",
    "- In the second column, we tell how many molecules correspond to that scaffold"
   ]
  },
  {
   "cell_type": "code",
   "execution_count": 11,
   "id": "42ec0e30",
   "metadata": {},
   "outputs": [],
   "source": [
    "legendsMatrix = []\n",
    "for row_num, row in enumerate(molsMatrix, start=1):\n",
    "    n_examples = len(row) - 1\n",
    "    if n_examples == 1:\n",
    "        descr = \"1 molecule\"\n",
    "    else:\n",
    "        descr = f\"{n_examples} molecules\"\n",
    "    labelsRow = [f\"Scaffold #{row_num}\", descr]\n",
    "    labelsRow += [\"\"] * (n_examples - 1)\n",
    "    legendsMatrix.append(labelsRow)"
   ]
  },
  {
   "cell_type": "markdown",
   "id": "f3768f76",
   "metadata": {},
   "source": [
    "Now we can plot the results:"
   ]
  },
  {
   "cell_type": "code",
   "execution_count": 12,
   "id": "8546e4af",
   "metadata": {},
   "outputs": [
    {
     "data": {
      "image/png": "[encoded data removed]",
      "text/plain": [
       "<IPython.core.display.Image object>"
      ]
     },
     "execution_count": 12,
     "metadata": {},
     "output_type": "execute_result"
    }
   ],
   "source": [
    "MolsMatrixToGridImage(\n",
    "    molsMatrix=molsMatrix, \n",
    "    legendsMatrix=legendsMatrix,\n",
    "    highlightAtomListsMatrix=highlightAtomListsMatrix\n",
    ")"
   ]
  }
 ],
 "metadata": {
  "kernelspec": {
   "display_name": "venv",
   "language": "python",
   "name": "python3"
  },
  "language_info": {
   "codemirror_mode": {
    "name": "ipython",
    "version": 3
   },
   "file_extension": ".py",
   "mimetype": "text/x-python",
   "name": "python",
   "nbconvert_exporter": "python",
   "pygments_lexer": "ipython3",
   "version": "3.11.7"
  }
 },
 "nbformat": 4,
 "nbformat_minor": 5
}
