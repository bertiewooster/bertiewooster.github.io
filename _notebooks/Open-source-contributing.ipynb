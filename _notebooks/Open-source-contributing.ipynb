{
 "cells": [
  {
   "cell_type": "markdown",
   "metadata": {},
   "source": [
    "# Contributing to open source"
   ]
  },
  {
   "cell_type": "markdown",
   "metadata": {},
   "source": [
    "## Bonus: Contributing to open source"
   ]
  },
  {
   "cell_type": "markdown",
   "metadata": {},
   "source": [
    "Finding a jumping-off point involves working through tutorials. Doing that, and coding blog posts, can also surface opportunities to contribute back to the tools you're using."
   ]
  },
  {
   "cell_type": "markdown",
   "metadata": {},
   "source": [
    "### Contributing documentation"
   ]
  },
  {
   "cell_type": "markdown",
   "metadata": {},
   "source": [
    "If you find the tutorials could be clearer or cloud have more examples, contribute them to the project. Contributing documentation is a great way to start because, as a new user, you have the benefit of a fresh perspective to identify where the documentation could be better. Experienced contributors may have a harder time identifying those gaps because they already know how to use the tool. \n",
    "\n",
    "**Example:** While working through the [Getting Started with the RDKit in Python](https://www.rdkit.org/docs/GettingStartedInPython.html), I noted that you had to scroll down about a dozen screens before you saw a picture of a molecule. Molecular structures are one of the most common ways that chemists communicate, so I [contributed a simple example early in the guide of how to draw a molecule](https://github.com/rdkit/rdkit/pull/5803)."
   ]
  },
  {
   "cell_type": "markdown",
   "metadata": {},
   "source": [
    "### Contributing code"
   ]
  },
  {
   "cell_type": "markdown",
   "metadata": {},
   "source": [
    "If you find yourself repeatedly writing similar code, consider contributing that back to the open-source tool you're using.\n",
    "\n",
    "**Example:** I [contributed MolsMatrixToGridImage](https://greglandrum.github.io/rdkit-blog/posts/2023-10-25-molsmatrixtogridimage.html) because I found myself writing similar code over and over to draw row-and-column grids of molecules. The RDKit already had a way to draw a series of molecules, [MolsToGridImage](https://www.rdkit.org/docs/source/rdkit.Chem.Draw.html#rdkit.Chem.Draw.MolsToGridImage), so my contribution was a logical extension of that functionality."
   ]
  },
  {
   "cell_type": "markdown",
   "metadata": {},
   "source": []
  }
 ],
 "metadata": {
  "language_info": {
   "name": "python"
  }
 },
 "nbformat": 4,
 "nbformat_minor": 2
}
