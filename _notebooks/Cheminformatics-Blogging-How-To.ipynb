{
 "cells": [
  {
   "cell_type": "markdown",
   "metadata": {},
   "source": [
    "# How to Write Cheminformatics Blog Posts"
   ]
  },
  {
   "cell_type": "markdown",
   "metadata": {},
   "source": [
    "As the YouTubers would say, \"A lot of you have been asking me about how to write cheminformatics blog posts\". Well, not a lot, but at least a couple! I realized that there's a pattern to how I write cheminformatics blog posts (16 so far), so I'm sharing that here."
   ]
  },
  {
   "cell_type": "markdown",
   "metadata": {},
   "source": [
    "My goal for a blog post is to make a tutorial that explores a topic, usually with existing tools. I'm learning how to do something, and then share that."
   ]
  },
  {
   "cell_type": "markdown",
   "metadata": {},
   "source": [
    "This post is\n",
    "- about the creative process more than the technical details\n",
    "- pitched towards people with a chemistry background."
   ]
  },
  {
   "cell_type": "markdown",
   "metadata": {},
   "source": [
    "Throughout this post, I'll use the example from my last blog post, [Why some organic molecules have a color: Correlating optical absorption wavelength with conjugated bond chain length]]({% post_url 2024-10-15-Color-from-Conjugation %})."
   ]
  },
  {
   "cell_type": "markdown",
   "metadata": {},
   "source": [
    "## Find a jumping-off point"
   ]
  },
  {
   "cell_type": "markdown",
   "metadata": {},
   "source": [
    "A jumping-off point can any of these that you find interesting:\n",
    "- A tutorial. Examples: [Getting Started with the RDKit in Python](https://www.rdkit.org/docs/GettingStartedInPython.html), [RDKit Cookbook](https://rdkit.org/docs/Cookbook.html), or a cheminformatics blog by [Takayuki Serizawa](https://iwatobipen.wordpress.com/) or others***.\n",
    "- A talk or presentation. Examples: [RDKit User Group Meeting (UGM) recordings](https://www.youtube.com/playlist?list=PLugOo5eIVY3EHeBuSABISVok5-Q7kE0O1).\n",
    "- A dataset. Examples: [Experimental database of optical properties of organic compounds](https://www.nature.com/articles/s41597-020-00634-8), datasets on [MoleculeNet](https://deepchem.readthedocs.io/en/latest/api_reference/moleculenet.html).\n",
    "\n",
    "**Example:** My background is in optical spectroscopy, so I searched for an optical spectroscopy dataset, and found one with thousands of chromophores and their absorption and emission wavelength maxima. Thanks to relatively new publications such as [Nature *Scientific Data*](https://www.nature.com/sdata/), there are a good number of datasets available."
   ]
  },
  {
   "cell_type": "markdown",
   "metadata": {},
   "source": [
    "## Ask yourself \"What would I as a chemist want to do with this?\""
   ]
  },
  {
   "cell_type": "markdown",
   "metadata": {},
   "source": [
    "This is where your chemistry background comes into play. Given the jumping-off point, think about what you as a chemist would want to do with it.\n",
    "\n",
    "Your interests will determine what you find interesting as a jumping-off point and what you want to do with it. It's that combination that means that each cheminformatician will come up with different topics.\n",
    "\n",
    "Find something compelling to you and follow your curiosity. When you find something you want to work on and can't put down, you've found a good topic.\n",
    "\n",
    "**Example:** When I considered the optical dataset, I remembered that there's a correlation between conjugated bond chain length and absorption wavelength. So I thought about verifying that using this dataset."
   ]
  },
  {
   "cell_type": "markdown",
   "metadata": {},
   "source": [
    "## Formulate an approach"
   ]
  },
  {
   "cell_type": "markdown",
   "metadata": {},
   "source": [
    "### What chemical information do you want?"
   ]
  },
  {
   "cell_type": "markdown",
   "metadata": {},
   "source": [
    "I think it's best to start with the question of what chemical information you want, then figure out a way to calculate it. This ensures that the topic is chemically relevant.\n",
    "\n",
    "**Example:** I needed to determine the longest conjugated bond chain length in a molecule. (Absorption wavelength was already provided, though I wanted to convert it to energy, so that required a calculation.)"
   ]
  },
  {
   "cell_type": "markdown",
   "metadata": {},
   "source": [
    "### What code will you need to write to extract the chemical information using code?"
   ]
  },
  {
   "cell_type": "markdown",
   "metadata": {},
   "source": [
    "This is where the cheminformatics part comes in: Translating the chemical information question into a plan for how to get it using code. Sometimes the core function you need is already available, for example in a cheminformatics toolkit. Other times, you need to write the function yourself, for example by considering a molecule as a graph where the nodes are atoms and the edges are bonds.\n",
    "\n",
    "**Example:** The optical dataset provided SMILES, which the RDKit can turn into a molecular graph, so the task was to devise an algorithm that would traverse the conjugated bonds in the molecular graph and determine which were connected to a starting bond. Then find all such chains and keep the longest one in the molecule."
   ]
  },
  {
   "cell_type": "markdown",
   "metadata": {},
   "source": [
    "## Consult a journal article"
   ]
  },
  {
   "cell_type": "markdown",
   "metadata": {},
   "source": [
    "It's often helpful to consult a journal article to get molecular structures, experimental details, etc. It's been helpful to have access to journal articles via my American Chemical Society membership benefit [ACS Member Universal Access (50 article accesses per term)](https://www.acs.org/membership/member-benefits.html), though many recent articles maybe available on [preprint archive servers](https://chemrxiv.org/engage/chemrxiv/public-dashboard) now.\n",
    "\n",
    "**Example:** I found the optical properties dataset via the [journal article that presented it](https://www.nature.com/articles/s41597-020-00634-8). I also read the [journal article that studied the oligomers](https://pubs.acs.org/doi/full/10.1021/acs.joc.8b00311) in the homologous series. This was helpful to correct the structures in the database, and understand the authors' explanations of trends within that series."
   ]
  },
  {
   "cell_type": "markdown",
   "metadata": {},
   "source": [
    "## Code your way through the project"
   ]
  },
  {
   "cell_type": "markdown",
   "metadata": {},
   "source": [
    "Here's where I start writing code. It's typically an iterative process where I solve one problem and get results, only to realize I need to solve an additional problem.\n",
    "\n",
    "**Example 1:** In finding the longest conjugated chain, I started with one algorithm, but realized it didn't produce the results that made chemical sense because it wouldn't include the shared bond between the two rings in naphthalene. So I generalized my conception of a \"chain\" to include all conjugated bonds adjacent to an existing conjugated bond in the \"chain\", which allowed for multiple paths.\n",
    "\n",
    "**Example 2:** After that code was working, the results showed that there wasn't much of a correlation of absorption wavelength against longest conjugated bond chain length if I included thousands of chromophores. So I realized I needed to narrow down to a series of molecules with similar structures by finding chromophores in the dataset with moieties in common."
   ]
  },
  {
   "cell_type": "markdown",
   "metadata": {},
   "source": [
    "#### Make the key code more efficient"
   ]
  },
  {
   "cell_type": "markdown",
   "metadata": {},
   "source": [
    "Often, there's a single cheminformatics operation which takes a significant amount of time on a sizeable dataset. This slow step is worth speeding up, especially because I often run it dozens of times while drafting the blog post.\n",
    "\n",
    "**Example:** In the optical properties post, the slow step was traversing each molecular graph to determine its longest conjugated bond chain. I sped this up by only traversing each bond once, rather than using each bond as a starting point and then traversing all connected bonds. I also sped up the operation at the dataframe level: Because it contained multiple rows for many chromophores, I cached the result for each chromophore so it wouldn't need to be recalculated.\n",
    "\n",
    "Note that speeding up the code is not the only goal: Because the blog post is intended to be educational, there's a balance between code speed and clarity. For example, in many posts, I use Polars in eager mode rather than [lazy mode](https://docs.pola.rs/user-guide/lazy/) because I want to show the steps along the way, for example the dataframe after the data is initially loaded. If speed was the sole goal, I'd use lazy mode to evaluate only once, to get the final results."
   ]
  },
  {
   "cell_type": "markdown",
   "metadata": {},
   "source": [
    "#### Clean up the code\n",
    "\n",
    "In getting the code working, I often go down paths that don't work out and include debugging code. So I remove that code before posting. I also rename functions whose purpose has changed since I originally wrote them, and add docstrings.\n",
    "\n",
    "**Example:** During development, I displayed the Polars dataframe to check the results of individual steps. Once those steps were working, I removed that debugging code."
   ]
  },
  {
   "cell_type": "markdown",
   "metadata": {},
   "source": [
    "## Write a clear narrative"
   ]
  },
  {
   "cell_type": "markdown",
   "metadata": {},
   "source": [
    "I keep in mind that it's easiest to understand the post if there's a clear narrative. So I might start writing a narrative (Markdown text) block, then realize that the narrative would make more sense if I rearranged the code blocks, so I do that and then adjust the narrative.\n",
    "\n",
    "**Example:** To find a homologous series, I used four substructure matches. During development, I ran all four at once. But to make the process clearer for the reader, I broke it out into three steps (with one, one, and two substructures, respectively)."
   ]
  },
  {
   "cell_type": "markdown",
   "metadata": {},
   "source": [
    "## Review"
   ]
  },
  {
   "cell_type": "markdown",
   "metadata": {},
   "source": [
    "Before publishing, clear out the existing results by restarting the Jupyter kernel or closing and re-opening the notebook. Then re-run all the code in order to make sure it runs in order.\n",
    "\n",
    "Re-read the narrative along with the updated code outputs to make sure the descriptions are still correct."
   ]
  },
  {
   "cell_type": "markdown",
   "metadata": {},
   "source": [
    "## Publish!"
   ]
  },
  {
   "cell_type": "markdown",
   "metadata": {},
   "source": [
    "There comes a time when the post is done (enough) and ready to publish. I then review the published web page and correct any broken images or links. Finally, I publicize the post on LinkedIn and Mastodon."
   ]
  },
  {
   "cell_type": "markdown",
   "metadata": {},
   "source": [
    "## Make any changes after publication"
   ]
  },
  {
   "cell_type": "markdown",
   "metadata": {},
   "source": [
    "Readers may point out improvements you could make, or the data sources could be updated. Ideally, these can help you accomplish the same results with less code.\n",
    "\n",
    "**Example:** After I mentioned the discrepancy in a few molecular structures to the maintainers of the optical properties dataset, they updated it. I pulled in the new dataset, which let me simplify the notebook by removing the manual correction of structures."
   ]
  },
  {
   "cell_type": "markdown",
   "metadata": {},
   "source": [
    "## Bonus: Contributing to open source"
   ]
  },
  {
   "cell_type": "markdown",
   "metadata": {},
   "source": [
    "Finding a jumping-off point involves, for example, working through tutorials. So that, and coding blog posts, can also surface opportunities to contribute back to the tools you're using."
   ]
  },
  {
   "cell_type": "markdown",
   "metadata": {},
   "source": [
    "### Contributing documentation"
   ]
  },
  {
   "cell_type": "markdown",
   "metadata": {},
   "source": [
    "If you find the tutorials could be clearer or have more examples, contribute them to the project. Contributing documentation is a great way to start because, as a new user, you have the benefit of a fresh perspective to identify where the documentation could be better. Experienced contributors may have a harder time identifying those gaps because they already know how to use the tool. \n",
    "\n",
    "**Example:** While working through the [Getting Started with the RDKit in Python](https://www.rdkit.org/docs/GettingStartedInPython.html), I noted that you had to scroll down about a dozen screens before you saw a picture of a molecule. Molecular structures are one of the most common ways that chemists communicate, so I [contributed a simple example early in the guide of how to draw a molecule](https://github.com/rdkit/rdkit/pull/5803)."
   ]
  },
  {
   "cell_type": "markdown",
   "metadata": {},
   "source": [
    "### Contributing code"
   ]
  },
  {
   "cell_type": "markdown",
   "metadata": {},
   "source": [
    "If you find yourself repeatedly writing similar code, consider contributing that back to the open-source tool you're using.\n",
    "\n",
    "**Example:** I [contributed MolsMatrixToGridImage](https://greglandrum.github.io/rdkit-blog/posts/2023-10-25-molsmatrixtogridimage.html) because I found myself writing similar code over and over to draw row-and-column grids of molecules. The RDKit already had a way to draw a series of molecules, [MolsToGridImage](https://www.rdkit.org/docs/source/rdkit.Chem.Draw.html#rdkit.Chem.Draw.MolsToGridImage), so my contribution was a logical extension of that functionality."
   ]
  },
  {
   "cell_type": "markdown",
   "metadata": {},
   "source": []
  }
 ],
 "metadata": {
  "language_info": {
   "name": "python"
  }
 },
 "nbformat": 4,
 "nbformat_minor": 2
}
