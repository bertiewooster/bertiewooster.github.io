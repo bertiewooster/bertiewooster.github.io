{
 "cells": [
  {
   "attachments": {},
   "cell_type": "markdown",
   "metadata": {},
   "source": [
    "# Visualizing Nonbinary Trees"
   ]
  },
  {
   "attachments": {},
   "cell_type": "markdown",
   "metadata": {},
   "source": [
    "This example lets you visualize the hierarchy of nonbinary trees."
   ]
  },
  {
   "attachments": {},
   "cell_type": "markdown",
   "metadata": {},
   "source": [
    "***Put example image here?***"
   ]
  },
  {
   "cell_type": "code",
   "execution_count": 244,
   "metadata": {},
   "outputs": [],
   "source": [
    "def n_by_1_empty_list(n):\n",
    "    \"\"\"\n",
    "    Create an n-by-1 empty list, e.g. n=3 produces [[], [], []]\n",
    "\n",
    "    :param n: The number of empty (sub-)lists to include in the parent list\n",
    "    \"\"\"\n",
    "    n_by_1_list = []\n",
    "    for i in range(n):\n",
    "        # n_by_1_list.extend([[]])\n",
    "        n_by_1_list += [[]]\n",
    "\n",
    "    return n_by_1_list\n",
    "\n",
    "def r_by_c_empty_list(r, c):\n",
    "    matrix = []\n",
    "    for row_index in range(r):\n",
    "        one_row = n_by_1_empty_list(c)\n",
    "        # matrix.extend([one_row])\n",
    "        matrix += [one_row]\n",
    "        \n",
    "    return matrix\n",
    "\n",
    "def r_by_c_empty_string_list(r, c):\n",
    "    matrix = []\n",
    "    for row_index in range(r):\n",
    "        one_row = [\"\"] * c\n",
    "        matrix += [one_row]\n",
    "        \n",
    "    return matrix\n",
    "\n",
    "def interleave(a, b):\n",
    "    len_b = len(b)\n",
    "    interleaved = []\n",
    "    for row_index, row in enumerate(a):\n",
    "        interleaved += [row]\n",
    "        # If b hasn't run out of rows, insert corresponding row of b\n",
    "        if row_index < len_b:\n",
    "            interleaved += [b[row_index]]\n",
    "    return interleaved"
   ]
  },
  {
   "cell_type": "code",
   "execution_count": 245,
   "metadata": {},
   "outputs": [],
   "source": [
    "def concat_grids_horizontally(grid1:list[list[str]], grid2:list[list[str]]) -> list[list[str]]:\n",
    "    \"\"\"Concatenate two nested lists horizontally, for example\n",
    "    inputs [['a'],['b'],['c']] and [['d'], ['e'], ['f']] \n",
    "    produce [['a', 'd'], ['b', 'e'], ['c', 'f']]\n",
    "\n",
    "    :returns: The confined grid, a two-deep nested list of strings\n",
    "    :param grid1: The first grid, a two-deep nested list of strings\n",
    "    :param grid2: The second grid, a two-deep nested list of strings\n",
    "    \"\"\"\n",
    "    if grid1 == [[]]:\n",
    "        combined = grid2\n",
    "    elif grid2 == [[]]:\n",
    "        combined = grid1\n",
    "    else:\n",
    "        combined = []\n",
    "        for row_counter in range(len(grid1)):\n",
    "            combined += [grid1[row_counter] + grid2[row_counter]]\n",
    "    return combined\n",
    "\n",
    "class NonBinTree:\n",
    "    \"\"\"\n",
    "    Nonbinary tree class\n",
    "    Note that this class is not designed to sort nodes as they are added to the tree;\n",
    "    the assumption is that they should be ordered in the order added\n",
    "    Adapted from https://stackoverflow.com/questions/60579330/non-binary-tree-data-structure-in-python#60579464\n",
    "    \"\"\"\n",
    "\n",
    "    def __init__(self, val:str):\n",
    "        \"\"\"Create a NonBinTree instance\"\"\"\n",
    "        self.val = val\n",
    "        self.nodes = []\n",
    "\n",
    "    def add_node(self, val:str):\n",
    "        \"\"\"Add a node to the tree and return the new node\"\"\"\n",
    "        self.nodes.append(NonBinTree(val))\n",
    "        return self.nodes[-1]\n",
    "\n",
    "    def __repr__(self) -> str:\n",
    "        \"\"\"Print out the tree as a nested list\"\"\"\n",
    "        return f\"NonBinTree({self.val}): {self.nodes}\"\n",
    "\n",
    "    def get_ncols(self) -> int:\n",
    "        \"\"\"Get the number of columns in the tree\"\"\"\n",
    "        self.ncols = 0\n",
    "        if len(self.nodes) > 0:\n",
    "            # If there are nodes under this one, call get_ncols on them recursively\n",
    "            for node in self.nodes:\n",
    "                self.ncols += node.get_ncols()\n",
    "        else:\n",
    "            # If there are no nodes under this one, add 1 for this node\n",
    "            self.ncols += 1\n",
    "        return self.ncols\n",
    "\n",
    "    def get_max_depth(self) -> int:\n",
    "        \"\"\"Get the maximum depth of the tree\"\"\"\n",
    "        max_depth = 0\n",
    "        if len(self.nodes) > 0:\n",
    "            for node in self.nodes:\n",
    "                this_depth = node.get_max_depth()\n",
    "                max_depth = max(this_depth + 1, max_depth)\n",
    "        else:\n",
    "            max_depth = max(1, max_depth)\n",
    "        self.max_depth = max_depth\n",
    "        return self.max_depth\n",
    "\n",
    "    def get_grid(self) -> list[list[str]]:\n",
    "        \"\"\"\n",
    "        Get a two-dimensional grid where\n",
    "        each row is a level in the fragment hierarchy, and\n",
    "        the columns serve to arrange the fragments horizontally\n",
    "        \"\"\"\n",
    "        # Call methods to calculate self.ncols and self.max_depth\n",
    "        self.get_ncols()\n",
    "        self.get_max_depth()\n",
    "\n",
    "        # Create top row: Node value, then the rest of columns are blank (empty strings)\n",
    "        self.grid = [[self.val] + [\"\"] * (self.ncols - 1)]\n",
    "\n",
    "        n_nodes = len(self.nodes)\n",
    "\n",
    "        if n_nodes > 0:\n",
    "            nodes_grid = [[]]\n",
    "\n",
    "            # Iterate through the chile nodes\n",
    "            for node_counter, node in enumerate(self.nodes):\n",
    "                # Recursively call this function to get the grid for children\n",
    "                node_grid = node.get_grid()\n",
    "\n",
    "                # Add spacer rows if needed\n",
    "                node_grid_rows = len(node_grid)\n",
    "                rows_padding = self.max_depth - node_grid_rows - 1\n",
    "                for padding in range(rows_padding):\n",
    "                    node_grid += [[\"\"] * len(node_grid[0])]\n",
    "\n",
    "                nodes_grid = concat_grids_horizontally(nodes_grid, node_grid)\n",
    "\n",
    "            self.grid += nodes_grid\n",
    "\n",
    "        return self.grid\n",
    "\n",
    "    def get_tree(self) -> str:\n",
    "        \"\"\"\n",
    "        Get a visual hierarchy tree\n",
    "        \"\"\"\n",
    "        # Call method to create the grid, a list of list of str\n",
    "        self.get_grid()\n",
    "\n",
    "        # print(f\"self.grid: {len(self.grid)} x {len(self.grid[0])}\")\n",
    "\n",
    "        markers = r_by_c_empty_string_list(len(self.grid) - 1, len(self.grid[0]))\n",
    "        # print(f\"{markers=}\")\n",
    "        # print(f\"markers: {len(markers)} x {len(markers[0])}\")\n",
    "        \n",
    "        # Iterate from rows to from #2 (index = 1) to last, \n",
    "        #   because there is nothing above the top row\n",
    "        for row_index, row in enumerate(self.grid):\n",
    "            if row_index > 0:\n",
    "                # print(f\"{row_index}: {row}. {len(row)=}\")\n",
    "                for col_index, col in enumerate(row):\n",
    "                    # print(f\"{row_index=} {col_index=}: {col}, {len(col)=}\")\n",
    "                    if len(col) > 0:\n",
    "                        markers[row_index - 1][col_index] = \"|\"\n",
    "                    # print(f\"{markers=}\")\n",
    "        return interleave(self.grid, markers)\n"
   ]
  },
  {
   "cell_type": "code",
   "execution_count": 246,
   "metadata": {},
   "outputs": [
    {
     "data": {
      "text/plain": [
       "[['hi', 'there'], ['howdy', 'back'], ['what', 'time'], ['is', 'it']]"
      ]
     },
     "execution_count": 246,
     "metadata": {},
     "output_type": "execute_result"
    }
   ],
   "source": [
    "a = [[\"hi\", \"there\"], [\"what\", \"time\"]]\n",
    "b = [[\"howdy\", \"back\"], [\"is\", \"it\"]]\n",
    "interleave(a, b)"
   ]
  },
  {
   "cell_type": "code",
   "execution_count": 247,
   "metadata": {},
   "outputs": [],
   "source": [
    "quadrilateral = NonBinTree(\"quadrilateral\")\n",
    "trapezoid = quadrilateral.add_node(\"trapezoid\")\n",
    "isosceles_trapezoid = trapezoid.add_node(\"isosceles trapezoid\")\n",
    "parallelogram = quadrilateral.add_node(\"parallelogram\")\n",
    "rhombus = parallelogram.add_node(\"rhombus\")\n",
    "rhombus.add_node(\"square\")\n",
    "rectangle = parallelogram.add_node(\"rectangle\")\n",
    "rectangle.add_node(\"square\")\n",
    "kite = quadrilateral.add_node(\"kite\")"
   ]
  },
  {
   "cell_type": "code",
   "execution_count": 248,
   "metadata": {},
   "outputs": [
    {
     "data": {
      "text/plain": [
       "[['quadrilateral', '', '', ''],\n",
       " ['trapezoid', 'parallelogram', '', 'kite'],\n",
       " ['isosceles trapezoid', 'rhombus', 'rectangle', ''],\n",
       " ['', 'square', 'square', '']]"
      ]
     },
     "execution_count": 248,
     "metadata": {},
     "output_type": "execute_result"
    }
   ],
   "source": [
    "quadrilateral.get_grid()"
   ]
  },
  {
   "attachments": {},
   "cell_type": "markdown",
   "metadata": {},
   "source": [
    "```\n",
    "'quadrilateral       ,  ''            , ''         , ''\n",
    "'trapezoid'          , 'parallelogram', ''         , 'kite'\n",
    "'isosceles trapezoid', 'rhombus'      , 'rectangle', ''\n",
    "''                   , 'square'       , 'square'   , ''\n",
    "```"
   ]
  },
  {
   "cell_type": "code",
   "execution_count": 249,
   "metadata": {},
   "outputs": [
    {
     "data": {
      "text/plain": [
       "[['quadrilateral', '', '', ''],\n",
       " ['|', '|', '', '|'],\n",
       " ['trapezoid', 'parallelogram', '', 'kite'],\n",
       " ['|', '|', '|', ''],\n",
       " ['isosceles trapezoid', 'rhombus', 'rectangle', ''],\n",
       " ['', '|', '|', ''],\n",
       " ['', 'square', 'square', '']]"
      ]
     },
     "execution_count": 249,
     "metadata": {},
     "output_type": "execute_result"
    }
   ],
   "source": [
    "quadrilateral.get_tree()"
   ]
  },
  {
   "attachments": {},
   "cell_type": "markdown",
   "metadata": {},
   "source": [
    "```\n",
    " ['quadrilateral'      , ''             , ''         , ''    ],\n",
    " ['|'                  , '|'            , ''         , '|'   ],\n",
    " ['trapezoid'          , 'parallelogram', ''         , 'kite'],\n",
    " ['|'                  , '|'            , '|'        , ''    ],\n",
    " ['isosceles trapezoid', 'rhombus'      , 'rectangle', ''    ],\n",
    " [''                   , '|'            , '|'        , ''    ],\n",
    " [''                   , 'square'       , 'square'   , ''    ]\n",
    "```"
   ]
  }
 ],
 "metadata": {
  "kernelspec": {
   "display_name": "Python 3.10.4",
   "language": "python",
   "name": "python3"
  },
  "language_info": {
   "codemirror_mode": {
    "name": "ipython",
    "version": 3
   },
   "file_extension": ".py",
   "mimetype": "text/x-python",
   "name": "python",
   "nbconvert_exporter": "python",
   "pygments_lexer": "ipython3",
   "version": "3.10.4"
  },
  "orig_nbformat": 4,
  "vscode": {
   "interpreter": {
    "hash": "f8b9e48fa26c0cee807577a4309d1f208b4f08c0094fff1e9a87a3043a77ce60"
   }
  }
 },
 "nbformat": 4,
 "nbformat_minor": 2
}
