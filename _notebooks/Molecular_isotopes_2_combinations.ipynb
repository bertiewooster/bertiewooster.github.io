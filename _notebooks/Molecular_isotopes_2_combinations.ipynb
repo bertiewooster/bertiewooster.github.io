{
 "cells": [
  {
   "cell_type": "markdown",
   "metadata": {},
   "source": [
    "# Molecular Isotopic Distributions Take 2: Combinations"
   ]
  },
  {
   "cell_type": "markdown",
   "metadata": {},
   "source": [
    "This blog post presents a more computationally efficient way to determine the abundance of the molecular isotopes of a molecule.\n",
    "\n",
    "In [part 1](***), we created a molecule for each possible placement of each isotope in a molecule. While that worked, it was computationally expensive because it required creating each permutation. In this blog post, we'll create each combination only once and calculate its abundance using the binomial distribution. While calculating the molecular isotopes of naphthalene took about 170 seconds using the permutations method, it takes 0.1 seconds using the combinations method below."
   ]
  },
  {
   "cell_type": "markdown",
   "metadata": {},
   "source": [
    "While molecular isotope distribution calculations are available on [web sites](https://mstools.epfl.ch/info/) and [desktop software](https://pnnl-comp-mass-spec.github.io/Molecular-Weight-Calculator-VB6/#software-instructions), I was unable to find an open-source option."
   ]
  },
  {
   "cell_type": "code",
   "execution_count": 107,
   "metadata": {},
   "outputs": [],
   "source": [
    "%%capture\n",
    "%!pip install rdkit\n",
    "%!pip install mendeleev\n",
    "%!pip install latexify-py"
   ]
  },
  {
   "cell_type": "code",
   "execution_count": 108,
   "metadata": {},
   "outputs": [],
   "source": [
    "from collections import defaultdict\n",
    "import math\n",
    "import copy\n",
    "\n",
    "from IPython.display import Markdown\n",
    "import numpy as np\n",
    "import seaborn as sns\n",
    "import matplotlib.pyplot as plt\n",
    "import polars as pl\n",
    "\n",
    "import mendeleev\n",
    "from rdkit import Chem\n",
    "from rdkit.Chem import Descriptors\n",
    "import latexify\n",
    "\n",
    "from typing import Iterable"
   ]
  },
  {
   "cell_type": "markdown",
   "metadata": {},
   "source": [
    "We'll use the same molecule so we can compare results to the previous blog post. We also copy in code from the previous post."
   ]
  },
  {
   "cell_type": "code",
   "execution_count": 109,
   "metadata": {},
   "outputs": [
    {
     "data": {
      "image/png": "[encoded data removed]",
      "text/plain": [
       "<rdkit.Chem.rdchem.Mol at 0x2801b0e40>"
      ]
     },
     "execution_count": 109,
     "metadata": {},
     "output_type": "execute_result"
    }
   ],
   "source": [
    "sml = \"ClSCl\"\n",
    "mol = Chem.AddHs(Chem.MolFromSmiles(sml))\n",
    "mol"
   ]
  },
  {
   "cell_type": "code",
   "execution_count": 110,
   "metadata": {},
   "outputs": [],
   "source": [
    "class MolecularIsotope():\n",
    "  \"\"\"Store a molecule's isotopic properties.\"\"\"\n",
    "  def __init__(\n",
    "      self,\n",
    "      sml: str,\n",
    "      mol: Chem.rdchem.Mol = None,\n",
    "      abundance: float = None):\n",
    "    self.sml = sml\n",
    "    self.abundance = abundance\n",
    "    if mol is not None:\n",
    "      self.mol = mol\n",
    "    else:\n",
    "      try:\n",
    "        self.mol = Chem.MolFromSmiles(sml)\n",
    "      except:\n",
    "        self.mol = Chem.MolFromSmiles(sml, sanitize=False)\n",
    "\n",
    "  def update(self):\n",
    "    \"\"\"Define an update method so we can recalculate properties after the atoms' isotopes are set\"\"\"\n",
    "    self.mass = Descriptors.ExactMolWt(self.mol)\n",
    "    self.canon_sml = Chem.MolToSmiles(self.mol)\n",
    "\n",
    "  def get_mass(self):\n",
    "    return self.mass"
   ]
  },
  {
   "cell_type": "code",
   "execution_count": 111,
   "metadata": {},
   "outputs": [],
   "source": [
    "def composition(\n",
    "        molecule: Chem.Mol,\n",
    "        isotopes=False):\n",
    "    \"\"\"Get the composition of an RDKit molecule:\n",
    "    Atomic counts, including hydrogen atoms, and any charge.\n",
    "    For example, ethanol (SMILES [13C](H)(H)(H)CO, formula C2H6O) returns:\n",
    "      if isotopes = False (default): {'C': 2, 'O': 1, 'H': 6}.\n",
    "      if isotopes = True: {'C': {13: 1, 0: 1}, 'O': {0: 1}, 'H': {0: 6}}.\n",
    "\n",
    "    :param molecule: The RDKit molecule to analyze\n",
    "    :returns: if isotopes = False (default): a dictionary of element:count entries;\n",
    "              if isotopes = True: a nested dictionary of element:isotope:count entries.\n",
    "    \"\"\"\n",
    "    # Check that there is a valid molecule\n",
    "    if molecule:\n",
    "\n",
    "        # Add hydrogen atoms--RDKit excludes them by default\n",
    "        molecule = Chem.AddHs(molecule)\n",
    "        comp = defaultdict(lambda: 0)\n",
    "\n",
    "        # Get atom counts\n",
    "        for atom in molecule.GetAtoms():\n",
    "            element_symbol = atom.GetSymbol()\n",
    "            # If isotopes not requested, simply count the number of atoms of each element\n",
    "            if not isotopes:\n",
    "                comp[element_symbol] += 1\n",
    "            # If isotopes requested, count the number of each isotope of each element\n",
    "            else:\n",
    "                isotope = atom.GetIsotope()\n",
    "                try:\n",
    "                    comp[element_symbol][isotope] += 1\n",
    "                except:\n",
    "                    comp[element_symbol] = defaultdict(lambda: 0)\n",
    "                    comp[element_symbol][isotope] += 1\n",
    "        return comp"
   ]
  },
  {
   "cell_type": "code",
   "execution_count": 132,
   "metadata": {},
   "outputs": [],
   "source": [
    "def mol_to_formatted_formula(\n",
    "    mol: Chem.Mol,\n",
    "    isotopes: bool = False,\n",
    ") -> dict[str, str]:\n",
    "    \"\"\"Convert an RDKit molecule to a formatted formula, in Markdown and LaTeX\n",
    "\n",
    "    :param mol: RDKit molecule\n",
    "    :param isotopes: Whether to consider isotopes\n",
    "    :returns: a dictionary of format:string pairs, e.g. {\"markdown\":\"markdown_string\", \"latex\":\"latex_string\"}\n",
    "    \"\"\"\n",
    "    if mol is None:\n",
    "        return \"Invalid molecule\"\n",
    "    comp = composition(mol, isotopes)\n",
    "\n",
    "    formula = {\"markdown\": \"\", \"latex\": \"\"}\n",
    "\n",
    "    if isotopes:\n",
    "        isotopes_dict = defaultdict(lambda: defaultdict(str))\n",
    "        subscripts = defaultdict(lambda: defaultdict(int))\n",
    "        superscripts = defaultdict(list)\n",
    "\n",
    "        for element, counts in comp.items():\n",
    "            for isotope, count in counts.items():\n",
    "                if count > 1:\n",
    "                    subscripts[element][isotope] = count\n",
    "                if isotope != 0:\n",
    "                    superscripts[element].append(isotope)\n",
    "\n",
    "                isotopes_dict[element][isotope] = 1\n",
    "            # Sort the element's isotopes from lowest to highest\n",
    "            superscripts[element].sort()\n",
    "\n",
    "        last_item_is_subscript = False\n",
    "        sorted_element_keys = sorted(isotopes_dict.keys())\n",
    "        for element in sorted_element_keys:\n",
    "            isotope_count_pairs = isotopes_dict[element]\n",
    "            # Sort the element's isotopes from lowest to highest\n",
    "            sorted_isotope_keys = sorted(isotope_count_pairs.keys())\n",
    "            for isotope in sorted_isotope_keys:\n",
    "                if element in superscripts:\n",
    "                    if isotope in superscripts[element]:\n",
    "                        formula[\"markdown\"] += f\"<sup>{isotope}</sup>\"\n",
    "\n",
    "                        # If superscript immediately follows subscript,\n",
    "                        # add a small amount of horizontal space using an empty group {}\n",
    "                        # to prevent them from vertically overlapping\n",
    "                        if last_item_is_subscript:\n",
    "                            formula[\"latex\"] += \"{}\"\n",
    "                        formula[\"latex\"] += \"^{ %d}\" % isotope\n",
    "                        last_item_is_subscript = False\n",
    "                formula[\"markdown\"] += element\n",
    "                formula[\"latex\"] += element\n",
    "                last_item_is_subscript = False\n",
    "                if element in subscripts:\n",
    "                    if isotope in subscripts[element]:\n",
    "                        isotope_count = subscripts[element][isotope]\n",
    "                        formula[\"markdown\"] += f\"<sub>{isotope_count}</sub>\"\n",
    "                        formula[\"latex\"] += \"_{ %d}\" % isotope_count\n",
    "                    last_item_is_subscript = True\n",
    "        # Add beginning and ending dollar signs to LaTeX formula\n",
    "        formula[\"latex\"] = \"$\" + formula[\"latex\"] + \"$\"\n",
    "    else:\n",
    "        # Handling the case when isotopes is False\n",
    "        sorted_element_keys = sorted(comp.keys())\n",
    "\n",
    "        for element in sorted_element_keys:\n",
    "            count = comp[element]\n",
    "            formula[\"markdown\"] += element\n",
    "            formula[\"latex\"] += element\n",
    "            if count > 1:\n",
    "                formula[\"markdown\"] += f\"<sub>{count}</sub>\"\n",
    "                formula[\"latex\"] += \"_{ %d}\" % count\n",
    "        formula[\"latex\"] = \"$\" + formula[\"latex\"] + \"$\"\n",
    "\n",
    "    return formula"
   ]
  },
  {
   "cell_type": "code",
   "execution_count": 133,
   "metadata": {},
   "outputs": [],
   "source": [
    "def dict_list_to_markdown_table(data: list, number_rows:bool=False) -> str:\n",
    "    \"\"\"\n",
    "    Convert a list of dictionaries into a Markdown table.\n",
    "\n",
    "    :param data: A list of dictionaries, where each dictionary corresponds to a row in the table.\n",
    "    :param include_row_numbers: Whether to include a row number column.\n",
    "    :returns: The Markdown-formatted table as a string.\n",
    "    \"\"\"\n",
    "    if not data:\n",
    "        return \"\"\n",
    "\n",
    "    # Extract column headers from the keys of the first dictionary\n",
    "    headers = data[0].keys()\n",
    "\n",
    "    # If include_row_numbers is True, add the \"Row #\" column\n",
    "    if number_rows:\n",
    "        headers = [\"#\"] + list(headers)\n",
    "\n",
    "    # Create the table headers\n",
    "    table = \"| \" + \" | \".join(headers) + \" |\\n\"\n",
    "\n",
    "    # Create the title divider line\n",
    "    table += \"|\"\n",
    "    for _ in headers:\n",
    "        table += \" --- |\"\n",
    "    table += \"\\n\"\n",
    "\n",
    "    # Create the table body\n",
    "    for i, row in enumerate(data):\n",
    "        if number_rows:\n",
    "            row_data = [i + 1] + [row.get(header, \"\") for header in headers[1:]]\n",
    "        else:\n",
    "            row_data = [row.get(header, \"\") for header in headers]\n",
    "\n",
    "        table += \"| \" + \" | \".join(map(str, row_data)) + \" |\\n\"\n",
    "\n",
    "    return table"
   ]
  },
  {
   "cell_type": "code",
   "execution_count": 112,
   "metadata": {},
   "outputs": [],
   "source": [
    "def flatten_ndarray(arr: np.ndarray) -> list:\n",
    "    \"\"\"Flatten an ndarray to a single dimension\n",
    "\n",
    "    :param arr: the ndarray\n",
    "    :returns: a one-dimensional list with all the elements from the ndarray\n",
    "    \"\"\"\n",
    "    flat_list = []\n",
    "    for element in arr:\n",
    "        if isinstance(element, np.ndarray):\n",
    "            flat_list.extend(flatten_ndarray(element))\n",
    "        else:\n",
    "            flat_list.append(element)\n",
    "    return flat_list"
   ]
  },
  {
   "cell_type": "markdown",
   "metadata": {},
   "source": [
    "## Calculating distributions"
   ]
  },
  {
   "cell_type": "markdown",
   "metadata": {},
   "source": [
    "Here's a function to calculate the binomial coefficient to choose k items from n items without order or replacement (repetition). We use the [latexify](https://github.com/google/latexify_py) package to automatically create a math equation from the Python code."
   ]
  },
  {
   "cell_type": "code",
   "execution_count": 113,
   "metadata": {},
   "outputs": [
    {
     "data": {
      "text/latex": [
       "$$ \\displaystyle \\mathrm{binomial\\_coefficient}(n, k) = \\left\\lfloor\\frac{n !}{k ! \\cdot \\mathopen{}\\left( n - k \\mathclose{}\\right) !}\\right\\rfloor $$"
      ],
      "text/plain": [
       "<latexify.ipython_wrappers.LatexifiedFunction at 0x2803786d0>"
      ]
     },
     "execution_count": 113,
     "metadata": {},
     "output_type": "execute_result"
    }
   ],
   "source": [
    "@latexify.function\n",
    "def binomial_coefficient(n: int, k: int) -> int:\n",
    "    \"\"\"Calculate the binomial coefficient: how many ways there are to choose k items from n items\n",
    "    :param n: the number of items to choose from\n",
    "    :param k: the number of items to choose\n",
    "    :returns: the number of ways there are to choose k items from n items\n",
    "    \"\"\"\n",
    "    return math.factorial(n) // (math.factorial(k) * math.factorial(n - k))\n",
    "\n",
    "\n",
    "binomial_coefficient"
   ]
  },
  {
   "cell_type": "markdown",
   "metadata": {},
   "source": [
    "We also need to list each distribution of n items in k bins. Here, n is the number of atoms of a given element, and k is the count of a given isotope that will occur in that molecule."
   ]
  },
  {
   "cell_type": "code",
   "execution_count": 114,
   "metadata": {},
   "outputs": [],
   "source": [
    "def distribute_items(n:int, k:int) -> list[list[int]]:\n",
    "    \"\"\"Calculate the ways to distribute n items amongst k bins\n",
    "    :param n: the number of items to distribute\n",
    "    :param k: the number of bins\n",
    "    :returns: the number of ways there are to choose k items from n items\n",
    "    \"\"\"\n",
    "    def backtrack(remaining_items, bins, current_bin):\n",
    "        if current_bin == k:\n",
    "            if remaining_items == 0:\n",
    "                results.append(list(bins))\n",
    "            return\n",
    "\n",
    "        for items_in_current_bin in range(remaining_items + 1):\n",
    "            bins[current_bin] = items_in_current_bin\n",
    "            backtrack(remaining_items - items_in_current_bin, bins, current_bin + 1)\n",
    "\n",
    "    results = []\n",
    "    bins = [0] * k\n",
    "    backtrack(n, bins, 0)\n",
    "    return results"
   ]
  },
  {
   "cell_type": "markdown",
   "metadata": {},
   "source": [
    "For example, for our four (n=4) chlorine atoms, we have two (k=2) isotopes, 35 and 37. We can thus have\n",
    "- zero atoms of isotope 35 and four of 37\n",
    "- one atom of isotope 35 and three of 37\n",
    "- two atoms of isotope 35 and two of 37\n",
    "- three atoms of isotope 35 and one of 37\n",
    "- four atoms of isotope 35 and zero of 37\n",
    "\n",
    "as given by:"
   ]
  },
  {
   "cell_type": "code",
   "execution_count": 115,
   "metadata": {},
   "outputs": [
    {
     "data": {
      "text/plain": [
       "[[0, 4], [1, 3], [2, 2], [3, 1], [4, 0]]"
      ]
     },
     "execution_count": 115,
     "metadata": {},
     "output_type": "execute_result"
    }
   ],
   "source": [
    "distribute_items(4, 2)"
   ]
  },
  {
   "cell_type": "code",
   "execution_count": 116,
   "metadata": {},
   "outputs": [],
   "source": [
    "def atom_set(molecule: Chem.Mol) -> set[str]:\n",
    "    \"\"\"Get the set of atoms in an RDKit molecule\n",
    "\n",
    "    :param molecule: The molecule to analyze\n",
    "    :returns: A set of atomic symbols\n",
    "    \"\"\"\n",
    "    # Check that there is a valid molecule\n",
    "    if molecule:\n",
    "      # Add hydrogen atoms--RDKit excludes them by default\n",
    "      molecule_with_Hs = Chem.AddHs(molecule)\n",
    "      atom_symbols = set(atom.GetSymbol() for atom in molecule_with_Hs.GetAtoms())\n",
    "      return atom_symbols"
   ]
  },
  {
   "cell_type": "markdown",
   "metadata": {},
   "source": [
    "We define a function to recursively traverse a NumPy array containing objects and extract a given property into an array of the same shape as the original."
   ]
  },
  {
   "cell_type": "code",
   "execution_count": 117,
   "metadata": {},
   "outputs": [],
   "source": [
    "def extract_properties(arr:np.ndarray, prop_name:str) -> np.ndarray:\n",
    "    \"\"\"For an ndarray where the elements are objects, extract a given property of each object into an array of the same shape as the original\n",
    "\n",
    "    :param arr: the array or element of an array\n",
    "    :param prop_name: the name of the property to extract from each object in the array\n",
    "    :returns: An ndarray of the same shape as the original where the elements are the desired property\n",
    "    \"\"\"\n",
    "    if isinstance(arr, np.ndarray):\n",
    "        # If arr is a NumPy ndarray, iterate through its elements and apply the function recursively\n",
    "        return np.array([extract_properties(item, prop_name) for item in arr])\n",
    "    elif isinstance(arr, list):\n",
    "        # If arr is a list, iterate through its elements and apply the function recursively\n",
    "        return [extract_properties(item, prop_name) for item in arr]\n",
    "    elif hasattr(arr, prop_name):\n",
    "        # If arr has the specified property, extract its value\n",
    "        return getattr(arr, prop_name)\n",
    "    else:\n",
    "        # If the property is not found, return None\n",
    "        return None"
   ]
  },
  {
   "cell_type": "markdown",
   "metadata": {},
   "source": [
    "## Set up"
   ]
  },
  {
   "cell_type": "markdown",
   "metadata": {},
   "source": [
    "For the isotopes in the molecule, we start by creating a data structure with each element in the molecule. Each element has a nested list of mass number and abundance for each isotope, obtained from the [Mendeleev package](https://pypi.org/project/mendeleev/)."
   ]
  },
  {
   "cell_type": "code",
   "execution_count": 118,
   "metadata": {},
   "outputs": [
    {
     "data": {
      "text/plain": [
       "{'Cl': [[35, 0.758], [37, 0.242]],\n",
       " 'S': [[32, 0.9484999999999999],\n",
       "  [33, 0.0076300000000000005],\n",
       "  [34, 0.04365],\n",
       "  [36, 0.00015800000000000002]]}"
      ]
     },
     "execution_count": 118,
     "metadata": {},
     "output_type": "execute_result"
    }
   ],
   "source": [
    "set_of_atoms = atom_set(mol)\n",
    "isotopes = {}\n",
    "for atom in set_of_atoms:\n",
    "  element_isotopes = mendeleev.element(atom).isotopes\n",
    "  occuring_isotopes = [[isotope.mass_number, isotope.abundance/100] for isotope in element_isotopes if isotope.abundance != None]\n",
    "  isotopes[atom] = occuring_isotopes\n",
    "isotopes"
   ]
  },
  {
   "cell_type": "markdown",
   "metadata": {},
   "source": [
    "## Scale of the problem"
   ]
  },
  {
   "cell_type": "markdown",
   "metadata": {},
   "source": [
    "For a given element, we are applying the element's `n` isotopes to `r` atoms of that element in the molecule. Because we are only concerned with the mass, the placement of the isotopes (which isotope is at which atom) is not important, only their count. So this a combinations with replacement scenario, each isotope can be used more than once so we need the count of each isotope. This is equivalent to painting balls in a jar various colors, where the color represents the isotope, the ball represents an atom in the molecule, and we are not concerned with the order of the balls. The formula for combinations with replacement is:"
   ]
  },
  {
   "cell_type": "code",
   "execution_count": 119,
   "metadata": {},
   "outputs": [
    {
     "data": {
      "text/latex": [
       "$$ \\displaystyle \\mathrm{combinations}(n, r) = \\frac{\\mathopen{}\\left( r + n - 1 \\mathclose{}\\right) !}{r ! \\cdot \\mathopen{}\\left( n - 1 \\mathclose{}\\right) !} $$"
      ],
      "text/plain": [
       "<latexify.ipython_wrappers.LatexifiedFunction at 0x2805a54d0>"
      ]
     },
     "execution_count": 119,
     "metadata": {},
     "output_type": "execute_result"
    }
   ],
   "source": [
    "@latexify.function\n",
    "def combinations(n, r):\n",
    "    \"\"\"Calculate the number of combinations (with repetition, aka replacement) for a choice of k objects from n objects where order does not matter\n",
    "    :param n: the number of options for an object\n",
    "    :param r: the number of objects to choose\n",
    "    :returns: the number of combinations\n",
    "    \"\"\"\n",
    "    return (math.factorial(r + n - 1)) / (math.factorial(r) * math.factorial(n-1))\n",
    "combinations"
   ]
  },
  {
   "cell_type": "markdown",
   "metadata": {},
   "source": [
    "To ensure the number of combinations is formatted as an integer, we define a wrapper function:"
   ]
  },
  {
   "cell_type": "code",
   "execution_count": 120,
   "metadata": {},
   "outputs": [],
   "source": [
    "def combinations_int(n, r):\n",
    "    \"\"\"Calculate the number of combinations (with repetition, aka replacement) for a choice of k objects from n objects where order does not matter\n",
    "    :param n: the number of options for an object\n",
    "    :param r: the number of objects to choose\n",
    "    :returns: the number of combinations as an integer\n",
    "    \"\"\"\n",
    "    return int(combinations(n, r))"
   ]
  },
  {
   "cell_type": "markdown",
   "metadata": {},
   "source": [
    "So for the element S, there are `n = 4` isotopes and `r = 1` atoms, so 4 combinations:"
   ]
  },
  {
   "cell_type": "code",
   "execution_count": 121,
   "metadata": {},
   "outputs": [
    {
     "data": {
      "text/plain": [
       "4"
      ]
     },
     "execution_count": 121,
     "metadata": {},
     "output_type": "execute_result"
    }
   ],
   "source": [
    "c_S = combinations_int(4,1)\n",
    "c_S"
   ]
  },
  {
   "cell_type": "markdown",
   "metadata": {},
   "source": [
    "And for Cl, there are `n = 2` isotopes and `r = 2` atoms, so 3 combinations:"
   ]
  },
  {
   "cell_type": "code",
   "execution_count": 122,
   "metadata": {},
   "outputs": [
    {
     "data": {
      "text/plain": [
       "3"
      ]
     },
     "execution_count": 122,
     "metadata": {},
     "output_type": "execute_result"
    }
   ],
   "source": [
    "c_Cl = combinations_int(2,2)\n",
    "c_Cl"
   ]
  },
  {
   "cell_type": "markdown",
   "metadata": {},
   "source": [
    "making a total of 12 combinations for the molecule:"
   ]
  },
  {
   "cell_type": "code",
   "execution_count": 123,
   "metadata": {},
   "outputs": [
    {
     "data": {
      "text/plain": [
       "12"
      ]
     },
     "execution_count": 123,
     "metadata": {},
     "output_type": "execute_result"
    }
   ],
   "source": [
    "c_S * c_Cl"
   ]
  },
  {
   "cell_type": "markdown",
   "metadata": {},
   "source": [
    "which is less than the 16 permutations in the previous post. Here again is the formula for permutations with repetition: "
   ]
  },
  {
   "cell_type": "code",
   "execution_count": 124,
   "metadata": {},
   "outputs": [
    {
     "data": {
      "text/latex": [
       "$$ \\displaystyle \\mathrm{permutations}(n, r) = n^{r} $$"
      ],
      "text/plain": [
       "<latexify.ipython_wrappers.LatexifiedFunction at 0x15751dcd0>"
      ]
     },
     "execution_count": 124,
     "metadata": {},
     "output_type": "execute_result"
    }
   ],
   "source": [
    "@latexify.function\n",
    "def permutations(n:int, r:int) -> int:\n",
    "    \"\"\"Calculate the number of permutations (with repetition, aka replacement) for a choice of n options for an object r times where order matters\n",
    "    :param n: the number of options for an object\n",
    "    :param r: the number of objects to choose\n",
    "    :returns: the number of permutations\n",
    "    \"\"\"\n",
    "    return n**r\n",
    "permutations"
   ]
  },
  {
   "cell_type": "markdown",
   "metadata": {},
   "source": [
    "While that is a fairly small computational improvement, to understand why using combinations instead of permutations becomes so much more computationally efficient for a large molecule, let's consider a larger molecule, naphthalene, C<sub>10</sub>H<sub>8</sub> (SMILES of `c1c2ccccc2ccc1`). We'll calculate the number of combinations and permutations for each element and for the molecule as a whole:"
   ]
  },
  {
   "cell_type": "code",
   "execution_count": 125,
   "metadata": {},
   "outputs": [
    {
     "name": "stdout",
     "output_type": "stream",
     "text": [
      "Item  Combinations  Permutations  Combinations more efficient by factor of\n",
      "C               11         1,024       93.09\n",
      "H                9           256       28.44\n",
      "mol             99       262,144    2,647.92\n"
     ]
    }
   ],
   "source": [
    "print(\"Item  Combinations  Permutations  Combinations more efficient by factor of\")\n",
    "# C\n",
    "for n_isotopes, n_atoms in [(2, 10)]:\n",
    "    c_C = combinations_int(n_isotopes, n_atoms)\n",
    "    p_C = permutations(n_isotopes, n_atoms)\n",
    "    print(f\"C     {c_C:12,} {p_C:13,} {p_C/c_C:11,.2f}\")\n",
    "# H\n",
    "for n_isotopes, n_atoms in [(2, 8)]:\n",
    "    c_H = combinations_int(n_isotopes, n_atoms)\n",
    "    p_H = permutations(n_isotopes, n_atoms)\n",
    "    print(f\"H     {c_H:12,} {p_H:13,} {p_H/c_H:11,.2f}\")\n",
    "print(f\"mol   {c_C * c_H:12,} {p_C * p_H:13,} {(p_C * p_H)/(c_C * c_H):11,.2f}\")"
   ]
  },
  {
   "cell_type": "markdown",
   "metadata": {},
   "source": [
    "So by ignoring the order, the number of combinations is significantly less than the number of permutations for for each element. Further, when multiple elements are combined in a molecule, the improvement is multiplicative. This helps explain why calculating the isotopic distribution pattern of naphthalene is very fast using combinations, but much slower using permutations.\n",
    "\n",
    "The computational efficiency of using combinations instead of permutations would be even greater for elements with more than two isotopes.\n",
    "\n",
    "From the perspective of the array to hold the molecular isotopes, using permutations requires a dimension for each *atom*, whereas combinations requires a dimension for each *element*. So the more atoms of a given element in a molecule, the more efficient combinations will be compared to permutations."
   ]
  },
  {
   "cell_type": "markdown",
   "metadata": {},
   "source": [
    "## Setting the isotope of each atom in each combination"
   ]
  },
  {
   "cell_type": "markdown",
   "metadata": {},
   "source": [
    "The following function will set the isotope for each atom of a given element. It calculates the abundance based on that element by raising the abundance of an isotope to the power of the count of that isotope in the molecule. When the next element is considered, the code will make independent copies of the molecule that was isotopically labeled for the previous element(s), then apply isotopic labels for the next element. As a result, the isotopic labeling and abundance calculations are done in only one round for each element, lessening the computations required."
   ]
  },
  {
   "cell_type": "code",
   "execution_count": 126,
   "metadata": {},
   "outputs": [],
   "source": [
    "def assign_isotopes(\n",
    "      arr:np.ndarray[MolecularIsotope], \n",
    "      isotope_count_distribution: Iterable[Iterable[int]], \n",
    "      prefix: list[int],\n",
    "      this_element: str,\n",
    "      n_this_element: int,\n",
    "      ) -> np.ndarray[MolecularIsotope]:\n",
    "    \"\"\"Assign the isotope to each atom in each element in an ndarray\n",
    "    :param arr: the array or element of an array of Molecular isotope objects\n",
    "    :param isotope_count_distribution: the distribution of isotope counts, e.g. [[0,1], [1,0]] if there are two isotopes and one atom\n",
    "    :param prefix: the index of this part of the array\n",
    "    :param this_element: the abbreviation for the current element, e.g. \"C\" for carbon \n",
    "    :param n_this_element: the number of atoms of this element in the molecule\n",
    "    :returns: the array or element of an array, with atoms' isotopes set\n",
    "    \"\"\"\n",
    "    if isinstance(arr, np.ndarray):\n",
    "        for i in range(len(arr)):\n",
    "            new_prefix = prefix + [i]\n",
    "            assign_isotopes(\n",
    "               arr = arr[i], \n",
    "               isotope_count_distribution = isotope_count_distribution, \n",
    "               prefix = new_prefix, \n",
    "               this_element = this_element,\n",
    "               n_this_element = n_this_element,\n",
    "               )\n",
    "    else:\n",
    "        # Clone the distribution, making it independent so the next loop won't be affected\n",
    "        distribution = copy.deepcopy(isotope_count_distribution[prefix[0]])\n",
    "\n",
    "        # Calculate abundances\n",
    "        if arr.abundance is None:\n",
    "           arr.abundance = 1\n",
    "\n",
    "        # Set a and b to the multiplicative identity, 1\n",
    "        a = 1\n",
    "        b = 1\n",
    "\n",
    "        # Tracker of how many atoms have yet to be assigned (n)\n",
    "        n_remaining = n_this_element\n",
    "\n",
    "        # Iterate through the isotopes\n",
    "        for isotope_index, isotope_count in enumerate(distribution):\n",
    "          # Get the abundance of this isotope\n",
    "          a_this_isotope = isotopes[this_element][isotope_index][1]\n",
    "          # Multiply the molecule's abundance by the abundance of this isotope to the power of its count\n",
    "          a *= a_this_isotope**isotope_count\n",
    "\n",
    "          # k is the count of this isotope\n",
    "          b_this_isotope = binomial_coefficient(n_remaining, isotope_count)\n",
    "          b *= b_this_isotope\n",
    "\n",
    "          # Decrease n, the number of atoms of this element yet to be assigned, by the count of this isotope\n",
    "          n_remaining -= isotope_count\n",
    "\n",
    "        # Multiply the abundance of this molecule by the abundance factor and the binomial factor\n",
    "        arr.abundance *= a*b\n",
    "\n",
    "        # Assign isotopes to atoms of this element type\n",
    "        for atom in arr.mol.GetAtoms():\n",
    "          # If this atom is of the current element, assign an isotope to the atom\n",
    "          if atom.GetSymbol() == this_element:\n",
    "            # Count down for each isotope, going on to the next when zero\n",
    "            for isotope_index, isotope in enumerate(distribution):\n",
    "              if distribution[isotope_index] > 0:\n",
    "                  atom.SetIsotope(isotopes[this_element][isotope_index][0])\n",
    "                  distribution[isotope_index] -= 1\n",
    "                  # If assign an isotope to this atom, move on to next atom\n",
    "                  break\n",
    "        # Update the properties of the MolecularIsotope to get exact masses\n",
    "        arr.update()\n",
    "    return arr"
   ]
  },
  {
   "cell_type": "markdown",
   "metadata": {},
   "source": [
    "This combinations approach is more computationally efficient because we need create only one instance of each isotopologue, then calculate its abundance."
   ]
  },
  {
   "cell_type": "code",
   "execution_count": 127,
   "metadata": {},
   "outputs": [],
   "source": [
    "# Initialize ndarray to hold MolecularIsotope objects\n",
    "molecular_isotopes:np.ndarray = np.array(MolecularIsotope)\n",
    "\n",
    "# Loop through the elements in this molecule\n",
    "for this_element, n_this_element in composition(mol).items():\n",
    "  n_isotopes_this_element = len(isotopes[this_element])\n",
    "\n",
    "  # Calculate possible distributions of isotopes across atoms of this element\n",
    "  isotope_count_distribution = distribute_items(n_this_element, n_isotopes_this_element)\n",
    "  n_distributions = len(isotope_count_distribution)\n",
    "\n",
    "  if molecular_isotopes.shape == ():\n",
    "     # Start by creating a 1-dimensional array,\n",
    "     # making sure to make each mol an independent object\n",
    "     molecular_isotopes = np.array([MolecularIsotope(sml=sml, mol=Chem.Mol(mol)) for _ in range(n_distributions)], dtype=object)\n",
    "  else:\n",
    "    # Create a list of m copies of the current object, \n",
    "    # namely the n-1 dimensional ndarray representing elements prior to this element\n",
    "    molecular_isotopes_list = [copy.deepcopy(molecular_isotopes) for _ in range(n_distributions)]\n",
    "    \n",
    "    # Convert the list of copies to a NumPy ndarray\n",
    "    molecular_isotopes = np.array(molecular_isotopes_list, dtype=object)\n",
    "    \n",
    "  # Assign isotopes and abundances\n",
    "  molecular_isotopes = assign_isotopes(\n",
    "     arr=molecular_isotopes,\n",
    "     isotope_count_distribution=isotope_count_distribution, \n",
    "     prefix=[],\n",
    "     this_element=this_element,\n",
    "     n_this_element=n_this_element,\n",
    "     )"
   ]
  },
  {
   "cell_type": "markdown",
   "metadata": {},
   "source": [
    "We can confirm that the array has the expected dimensionality, namely two dimensions, one for S with length four and one for Cl with length 3."
   ]
  },
  {
   "cell_type": "code",
   "execution_count": 130,
   "metadata": {},
   "outputs": [
    {
     "data": {
      "text/plain": [
       "(4, 3)"
      ]
     },
     "execution_count": 130,
     "metadata": {},
     "output_type": "execute_result"
    }
   ],
   "source": [
    "molecular_isotopes.shape"
   ]
  },
  {
   "cell_type": "markdown",
   "metadata": {},
   "source": [
    "We can also get the size from the array, and confirm it is 12:"
   ]
  },
  {
   "cell_type": "code",
   "execution_count": 129,
   "metadata": {},
   "outputs": [
    {
     "data": {
      "text/plain": [
       "12"
      ]
     },
     "execution_count": 129,
     "metadata": {},
     "output_type": "execute_result"
    }
   ],
   "source": [
    "molecular_isotopes.size"
   ]
  },
  {
   "cell_type": "markdown",
   "metadata": {},
   "source": [
    "To sort the isotopologues by mass, we flatten the array into one dimension."
   ]
  },
  {
   "cell_type": "code",
   "execution_count": 131,
   "metadata": {},
   "outputs": [],
   "source": [
    "molecular_isotopes_flat = flatten_ndarray(molecular_isotopes)\n",
    "\n",
    "# Create a list of the masses\n",
    "masses_array_flat = list(extract_properties(molecular_isotopes_flat, \"mass\"))\n",
    "\n",
    "# Create a list of the order (index) of each item by mass, for example the smallest mass will have a value of zero \n",
    "order = np.argsort(masses_array_flat).tolist()\n",
    "\n",
    "# Sort the molecular isotopes by that ordering list\n",
    "sorted_molecular_isotopes = sorted(molecular_isotopes_flat, key=lambda x: order.index(molecular_isotopes_flat.index(x)))"
   ]
  },
  {
   "cell_type": "markdown",
   "metadata": {},
   "source": [
    "We also calculate relative abundance--the abundance of each isotopomer relative to the most abundant isotopomer--because that may be convenient to compare to scaled experimental data."
   ]
  },
  {
   "cell_type": "code",
   "execution_count": 135,
   "metadata": {},
   "outputs": [],
   "source": [
    "data_dict_list = []\n",
    "for mol_isotope in sorted_molecular_isotopes:\n",
    "    mol_isotope.update()\n",
    "    data_dict = {prop: getattr(mol_isotope, prop) for prop in vars(mol_isotope).keys()}\n",
    "    data_dict[\"mol_isotope\"] = mol_isotope\n",
    "    data_dict_list.append(data_dict)\n",
    "df = pl.DataFrame(data_dict_list).select([\"mass\", \"abundance\", \"mol\"])\n",
    "\n",
    "max_abundance = df[\"abundance\"].max()\n",
    "\n",
    "# Add the Markdown and LaTeX formulas, and relative abundance, for each MolecularIsotope\n",
    "df = df.with_columns(\n",
    "    pl.col(\"mol\").map_elements(lambda x: mol_to_formatted_formula(x, isotopes=True)[\"markdown\"]).alias(\"formula\"),\n",
    "    pl.col(\"mol\").map_elements(lambda x: mol_to_formatted_formula(x, isotopes=True)[\"latex\"]).alias(\"formula_latex\"),\n",
    "    (pl.col(\"abundance\") / max_abundance).alias(\"relative abundance\"),\n",
    ")"
   ]
  },
  {
   "cell_type": "code",
   "execution_count": 136,
   "metadata": {},
   "outputs": [
    {
     "data": {
      "text/markdown": [
       "| # | formula | mass | abundance | relative abundance |\n",
       "| --- | --- | --- | --- | --- |\n",
       "| 1 | <sup>35</sup>Cl<sub>2</sub><sup>32</sup>S | 101.90977636 | 0.5449739539999999 | 1.0 |\n",
       "| 2 | <sup>35</sup>Cl<sub>2</sub><sup>33</sup>S | 102.90916411999999 | 0.00438392332 | 0.00804428044280443 |\n",
       "| 3 | <sup>35</sup>Cl<sub>2</sub><sup>34</sup>S | 103.90557225999999 | 0.0250797186 | 0.04602003162888772 |\n",
       "| 4 | <sup>35</sup>Cl<sup>37</sup>Cl<sup>32</sup>S | 103.90682627 | 0.34797809199999996 | 0.6385224274406333 |\n",
       "| 5 | <sup>35</sup>Cl<sup>37</sup>Cl<sup>33</sup>S | 104.90621402999999 | 0.00279923336 | 0.005136453475352696 |\n",
       "| 6 | <sup>35</sup>Cl<sup>37</sup>Cl<sup>34</sup>S | 105.90262216999999 | 0.0160139628 | 0.02938482230657211 |\n",
       "| 7 | <sup>37</sup>Cl<sub>2</sub><sup>32</sup>S | 105.90387618 | 0.05554795399999999 | 0.10192772258616968 |\n",
       "| 8 | <sup>35</sup>Cl<sub>2</sub><sup>36</sup>S | 105.90478612 | 9.078111200000001e-05 | 0.00016657880864522935 |\n",
       "| 9 | <sup>37</sup>Cl<sub>2</sub><sup>33</sup>S | 106.90326394 | 0.00044684332 | 0.0008199351853795202 |\n",
       "| 10 | <sup>37</sup>Cl<sub>2</sub><sup>34</sup>S | 107.89967208 | 0.0025563186 | 0.004690717017276022 |\n",
       "| 11 | <sup>35</sup>Cl<sup>37</sup>Cl<sup>36</sup>S | 107.90183603 | 5.7965776e-05 | 0.00010636430525632057 |\n",
       "| 12 | <sup>37</sup>Cl<sub>2</sub><sup>36</sup>S | 109.89888594 | 9.253112e-06 | 1.697899859632558e-05 |\n"
      ],
      "text/plain": [
       "<IPython.core.display.Markdown object>"
      ]
     },
     "execution_count": 136,
     "metadata": {},
     "output_type": "execute_result"
    }
   ],
   "source": [
    "# Choose rows to display in Markdown table\n",
    "df_display = df.select([\"formula\", \"mass\", \"abundance\", \"relative abundance\"])\n",
    "table = dict_list_to_markdown_table(\n",
    "    df_display.rows(named=True),\n",
    "    number_rows=True)\n",
    "Markdown(table)\n",
    "\n",
    "Markdown(\n",
    "    dict_list_to_markdown_table(\n",
    "        df_display.rows(named=True),\n",
    "        number_rows=True,\n",
    "        )\n",
    "    )"
   ]
  },
  {
   "cell_type": "markdown",
   "metadata": {},
   "source": [
    "### Checking our abundances"
   ]
  },
  {
   "cell_type": "markdown",
   "metadata": {},
   "source": [
    "To verify that we calculated abundances correctly, we check that the sum of abundances of the isotopomers is 1. (It might be very slightly different depending on the isotope data, numerical precision of operations, etc.)"
   ]
  },
  {
   "cell_type": "code",
   "execution_count": 137,
   "metadata": {},
   "outputs": [
    {
     "name": "stdout",
     "output_type": "stream",
     "text": [
      "0.999938\n"
     ]
    }
   ],
   "source": [
    "mol_isotopes_abundances = df[\"abundance\"].to_list()\n",
    "abundance_sum = sum(mol_isotopes_abundances)\n",
    "print(abundance_sum)"
   ]
  },
  {
   "cell_type": "markdown",
   "metadata": {},
   "source": [
    "## Plot abundance vs. mass results"
   ]
  },
  {
   "cell_type": "markdown",
   "metadata": {},
   "source": [
    "A graph of abundance against mass simulates a mass spectrum. To prevent a forest of short lines and colliding labels due to the be many isotopomers with very low abundance, we might want to limit the plot to a cutoff level of abundance."
   ]
  },
  {
   "cell_type": "code",
   "execution_count": 141,
   "metadata": {},
   "outputs": [
    {
     "data": {
      "text/markdown": [
       "| # | formula | mass | abundance | relative abundance |\n",
       "| --- | --- | --- | --- | --- |\n",
       "| 1 | <sup>35</sup>Cl<sub>2</sub><sup>32</sup>S | 101.90977636 | 0.5449739539999999 | 1.0 |\n",
       "| 2 | <sup>35</sup>Cl<sup>37</sup>Cl<sup>32</sup>S | 103.90682627 | 0.34797809199999996 | 0.6385224274406333 |\n",
       "| 3 | <sup>37</sup>Cl<sub>2</sub><sup>32</sup>S | 105.90387618 | 0.05554795399999999 | 0.10192772258616968 |\n"
      ],
      "text/plain": [
       "<IPython.core.display.Markdown object>"
      ]
     },
     "execution_count": 141,
     "metadata": {},
     "output_type": "execute_result"
    }
   ],
   "source": [
    "cutoff = 0.05\n",
    "df_cutoff = df.filter(pl.col(\"abundance\") > cutoff)\n",
    "\n",
    "# Format as Markdown table\n",
    "df_display_cutoff = df_cutoff.select([\"formula\", \"mass\", \"abundance\", \"relative abundance\"])\n",
    "table_cutoff = dict_list_to_markdown_table(\n",
    "    df_display_cutoff.rows(named=True),\n",
    "    number_rows=True)\n",
    "Markdown(table_cutoff)"
   ]
  },
  {
   "cell_type": "markdown",
   "metadata": {},
   "source": [
    "These results agree with the analogous table in the previous blog post. Now we can plot the isotopomers above that cutoff level of abundance."
   ]
  },
  {
   "cell_type": "code",
   "execution_count": 140,
   "metadata": {},
   "outputs": [
    {
     "name": "stderr",
     "output_type": "stream",
     "text": [
      "/Users/jemonat/Projects/bertiewooster.github.io/venv/lib/python3.11/site-packages/seaborn/_oldcore.py:1498: FutureWarning: is_categorical_dtype is deprecated and will be removed in a future version. Use isinstance(dtype, CategoricalDtype) instead\n",
      "  if pd.api.types.is_categorical_dtype(vector):\n",
      "/Users/jemonat/Projects/bertiewooster.github.io/venv/lib/python3.11/site-packages/seaborn/_oldcore.py:1498: FutureWarning: is_categorical_dtype is deprecated and will be removed in a future version. Use isinstance(dtype, CategoricalDtype) instead\n",
      "  if pd.api.types.is_categorical_dtype(vector):\n"
     ]
    },
    {
     "data": {
      "image/png": "[encoded data removed]",
      "text/plain": [
       "<Figure size 640x480 with 1 Axes>"
      ]
     },
     "metadata": {},
     "output_type": "display_data"
    }
   ],
   "source": [
    "# Create the scatter plot using Seaborn; don't use markers because we'll plot lines instead\n",
    "sns.scatterplot(x='mass', y='abundance', data=df_cutoff, marker='')\n",
    "\n",
    "plt.xlabel('Mass (amu)')\n",
    "plt.ylabel('Abundance')\n",
    "\n",
    "# Generate molecular formula of molecule\n",
    "formula = mol_to_formatted_formula(mol)[\"latex\"].strip(\"$\")\n",
    "\n",
    "# Use C-style string formatting with the % operator to avoid conflicts with using braces for both LaTeX and {}.format()\n",
    "title = r\"${\\rm %s}$ molecular isotopic distribution\" % formula\n",
    "plt.title(title)\n",
    "\n",
    "# Adjust x-axis limits to allow more space on the left and right for labels\n",
    "xrange = max(df_cutoff['mass']) - min(df_cutoff['mass'])\n",
    "xpad = xrange * 0.15\n",
    "plt.xlim(min(df_cutoff['mass']) - xpad, max(df_cutoff['mass']) + xpad)\n",
    "\n",
    "# Adjust y-axis limits to start at zero and allow more space on the top for labels\n",
    "yrange = max(df_cutoff['abundance']) - min(df_cutoff['abundance'])\n",
    "ypad = yrange * 0.15\n",
    "plt.ylim(0, max(df_cutoff['abundance']) + ypad)\n",
    "\n",
    "# Iterate through the rows (data points)\n",
    "for index, (mass, abundance, formula) in enumerate(zip(df_cutoff['mass'], df_cutoff['abundance'], df_cutoff['formula_latex'])):\n",
    "    # Add vertical lines from each data point to the x-axis\n",
    "    plt.vlines(x=mass, ymin=0, ymax=abundance, colors='black')\n",
    "\n",
    "    # Label the data points by mass\n",
    "    label = r\"${\\rm %s}$ %s %s\" % (formula.strip(\"$\"), \"\\n\", round(mass, 6))\n",
    "    plt.text(\n",
    "        x=mass, \n",
    "        y=abundance, \n",
    "        s=label, \n",
    "        ha='center',\n",
    "        va='bottom')\n",
    "\n",
    "plt.show()"
   ]
  },
  {
   "cell_type": "markdown",
   "metadata": {},
   "source": [
    "## Conclusion"
   ]
  },
  {
   "cell_type": "markdown",
   "metadata": {},
   "source": [
    "Using the binomial distribution to calculate the number of occurrences for each isotopic molecular formula is much more efficient than creating a separate molecule for each position of each isotope. Because all we care about is the molecular mass, it is not important where in the molecule each isotope is, just how many of each isotope there are of each element. Combinations, which ignore the order of isotopic atoms, thus suffice and save computation compared to using permutations, which consider the order of isotopic atoms."
   ]
  }
 ],
 "metadata": {
  "kernelspec": {
   "display_name": "venv",
   "language": "python",
   "name": "python3"
  },
  "language_info": {
   "codemirror_mode": {
    "name": "ipython",
    "version": 3
   },
   "file_extension": ".py",
   "mimetype": "text/x-python",
   "name": "python",
   "nbconvert_exporter": "python",
   "pygments_lexer": "ipython3",
   "version": "3.11.0"
  },
  "orig_nbformat": 4
 },
 "nbformat": 4,
 "nbformat_minor": 2
}
