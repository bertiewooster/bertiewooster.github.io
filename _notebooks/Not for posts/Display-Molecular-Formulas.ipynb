{
 "cells": [
  {
   "cell_type": "markdown",
   "metadata": {},
   "source": [
    "# Displaying Molecular Formulas in Tables and Graphs"
   ]
  },
  {
   "cell_type": "markdown",
   "metadata": {},
   "source": [
    "Here's how to display formatted molecular formulas in tables and graphs. In addition to formatted molecular formulas, these techniques should work for any Markdown or LaTeX."
   ]
  },
  {
   "cell_type": "markdown",
   "metadata": {},
   "source": [
    "In the last blog post, we generated molecular formulas from SMILES strings or RDKit molecules. Once we have those molecular formulas, formatted as Markdown or LaTeX, we might want to display them in tables or graphs."
   ]
  },
  {
   "cell_type": "markdown",
   "metadata": {},
   "source": [
    "***Use examples that make sense with [CHNS analysis](https://en.wikipedia.org/wiki/Elemental_analysis#CHNX_analysis)***"
   ]
  },
  {
   "cell_type": "code",
   "execution_count": 5,
   "metadata": {},
   "outputs": [],
   "source": [
    "%%capture\n",
    "!pip install rdkit\n",
    "!pip install black[jupyter]"
   ]
  },
  {
   "cell_type": "code",
   "execution_count": 6,
   "metadata": {},
   "outputs": [],
   "source": [
    "# Mount Google Drive so can format code in this notebook using black\n",
    "# from google.colab import drive\n",
    "\n",
    "# drive.mount(\"/content/drive\")"
   ]
  },
  {
   "cell_type": "code",
   "execution_count": 7,
   "metadata": {},
   "outputs": [],
   "source": [
    "# Format code using black\n",
    "# procedure at https://stackoverflow.com/questions/63076002/code-formatter-like-nb-black-for-google-colab#71001241\n",
    "# !black \"/content/drive/MyDrive/Colab Notebooks/Molecular Formula Generation.ipynb\""
   ]
  },
  {
   "cell_type": "code",
   "execution_count": 8,
   "metadata": {},
   "outputs": [],
   "source": [
    "from collections import defaultdict\n",
    "from IPython.display import display, Markdown\n",
    "\n",
    "from rdkit import Chem"
   ]
  },
  {
   "cell_type": "markdown",
   "metadata": {},
   "source": [
    "## Molecular formula generation code from previous blog post"
   ]
  },
  {
   "cell_type": "code",
   "execution_count": 9,
   "metadata": {},
   "outputs": [],
   "source": [
    "def composition(\n",
    "    molecule: Chem.Mol,\n",
    "    isotopes: bool = False,\n",
    ") -> defaultdict:\n",
    "    \"\"\"Get the composition of an RDKit molecule:\n",
    "    Atomic counts, including hydrogen atoms, and isotopes if requested.\n",
    "    For example, ethanol (SMILES [13C](H)(H)(H)CO, formula C2H6O) returns:\n",
    "      if isotopes = False (default): {'C': 2, 'O': 1, 'H': 6}.\n",
    "      if isotopes = True: {'C': {13: 1, 0: 1}, 'O': {0: 1}, 'H': {0: 6}}.\n",
    "\n",
    "    :param molecule: The RDKit molecule to analyze\n",
    "    :param isotopes: Whether to include the isotope of each atom\n",
    "    :returns: if isotopes = False (default): a dictionary of element:count entries;\n",
    "              if isotopes = True: a nested dictionary of element:isotope:count entries.\n",
    "    \"\"\"\n",
    "    # Check that there is a valid molecule\n",
    "    if not molecule:\n",
    "        return\n",
    "\n",
    "    # Add hydrogen atoms--RDKit excludes them by default\n",
    "    molecule = Chem.AddHs(molecule)\n",
    "    comp = defaultdict(lambda: 0)\n",
    "\n",
    "    # Get atom counts\n",
    "    for atom in molecule.GetAtoms():\n",
    "        element_symbol = atom.GetSymbol()\n",
    "        # If isotopes not requested, simply count the number of atoms of each element\n",
    "        if not isotopes:\n",
    "            comp[element_symbol] += 1\n",
    "        # If isotopes requested, count the number of each isotope of each element\n",
    "        else:\n",
    "            isotope = atom.GetIsotope()\n",
    "            try:\n",
    "                comp[element_symbol][isotope] += 1\n",
    "            except:\n",
    "                comp[element_symbol] = defaultdict(lambda: 0)\n",
    "                comp[element_symbol][isotope] += 1\n",
    "    return comp"
   ]
  },
  {
   "cell_type": "code",
   "execution_count": 10,
   "metadata": {},
   "outputs": [],
   "source": [
    "def mol_to_formatted_formula(\n",
    "    mol: Chem.Mol,\n",
    "    isotopes: bool = False,\n",
    ") -> dict[str, str]:\n",
    "    if mol is None:\n",
    "        return \"Invalid molecule\"\n",
    "    comp = composition(mol, isotopes)\n",
    "\n",
    "    formula = {\"markdown\": \"\", \"latex\": \"\"}\n",
    "\n",
    "    if isotopes:\n",
    "        isotopes_dict = defaultdict(lambda: defaultdict(str))\n",
    "        subscripts = defaultdict(lambda: defaultdict(int))\n",
    "        superscripts = defaultdict(list)\n",
    "\n",
    "        for element, counts in comp.items():\n",
    "            for isotope, count in counts.items():\n",
    "                if count > 1:\n",
    "                    subscripts[element][isotope] = count\n",
    "                if isotope != 0:\n",
    "                    superscripts[element].append(isotope)\n",
    "\n",
    "                isotopes_dict[element][isotope] = 1\n",
    "            # Sort the element's isotopes from lowest to highest\n",
    "            superscripts[element].sort()\n",
    "\n",
    "        last_item_is_subscript = False\n",
    "        sorted_element_keys = sorted(isotopes_dict.keys())\n",
    "        for element in sorted_element_keys:\n",
    "            isotope_count_pairs = isotopes_dict[element]\n",
    "            # Sort the element's isotopes from lowest to highest\n",
    "            sorted_isotope_keys = sorted(isotope_count_pairs.keys())\n",
    "            for isotope in sorted_isotope_keys:\n",
    "                if element in superscripts:\n",
    "                    if isotope in superscripts[element]:\n",
    "                        formula[\"markdown\"] += f\"<sup>{isotope}</sup>\"\n",
    "\n",
    "                        # If superscript immediately follows subscript,\n",
    "                        # add a small amount of horizontal space using an empty group {}\n",
    "                        # to prevent them from vertically overlapping\n",
    "                        if last_item_is_subscript:\n",
    "                            formula[\"latex\"] += \"{}\"\n",
    "                        formula[\"latex\"] += \"^{ %d}\" % isotope\n",
    "                        last_item_is_subscript = False\n",
    "                formula[\"markdown\"] += element\n",
    "                formula[\"latex\"] += element\n",
    "                last_item_is_subscript = False\n",
    "                if element in subscripts:\n",
    "                    if isotope in subscripts[element]:\n",
    "                        isotope_count = subscripts[element][isotope]\n",
    "                        formula[\"markdown\"] += f\"<sub>{isotope_count}</sub>\"\n",
    "                        formula[\"latex\"] += \"_{ %d}\" % isotope_count\n",
    "                    last_item_is_subscript = True\n",
    "        # Add beginning and ending dollar signs to LaTeX formula\n",
    "        formula[\"latex\"] = \"$\" + formula[\"latex\"] + \"$\"\n",
    "    else:\n",
    "        # Handling the case when isotopes is False\n",
    "        sorted_element_keys = sorted(comp.keys())\n",
    "\n",
    "        for element in sorted_element_keys:\n",
    "            count = comp[element]\n",
    "            formula[\"markdown\"] += element\n",
    "            formula[\"latex\"] += element\n",
    "            if count > 1:\n",
    "                formula[\"markdown\"] += f\"<sub>{count}</sub>\"\n",
    "                formula[\"latex\"] += \"_{ %d}\" % count\n",
    "        formula[\"latex\"] = \"$\" + formula[\"latex\"] + \"$\"\n",
    "\n",
    "    return formula"
   ]
  },
  {
   "cell_type": "code",
   "execution_count": 14,
   "metadata": {},
   "outputs": [],
   "source": [
    "def markdown_formula(latex: str) -> str:\n",
    "    latex_markdown = r\"$\\mathrm{ %s}$\" % (latex.strip(\"$\"))\n",
    "    return latex_markdown"
   ]
  },
  {
   "cell_type": "markdown",
   "metadata": {},
   "source": [
    "## Molecules for this post"
   ]
  },
  {
   "cell_type": "code",
   "execution_count": 11,
   "metadata": {},
   "outputs": [],
   "source": [
    "formulas_markdown = [\"C<sub>2</sub>H<sub>6</sub><sup>18</sup>O\", \"C<sup>13</sup>CH<sub>6</sub><sup>18</sup>O\", \"<sup>13</sup>C<sub>2</sub>H<sub>6</sub><sup>18</sup>O\"]\n",
    "formulas_latex = [\"$C_{2}H_{6}{}^{18}O$\", \"$C^{13}CH_{6}{}^{18}O$\", \"$^{13}C_{2}H_{6}{}^{18}O$\"]"
   ]
  },
  {
   "cell_type": "code",
   "execution_count": 12,
   "metadata": {},
   "outputs": [
    {
     "data": {
      "text/markdown": [
       "C<sub>2</sub>H<sub>6</sub><sup>18</sup>O"
      ],
      "text/plain": [
       "<IPython.core.display.Markdown object>"
      ]
     },
     "metadata": {},
     "output_type": "display_data"
    },
    {
     "data": {
      "text/markdown": [
       "C<sup>13</sup>CH<sub>6</sub><sup>18</sup>O"
      ],
      "text/plain": [
       "<IPython.core.display.Markdown object>"
      ]
     },
     "metadata": {},
     "output_type": "display_data"
    },
    {
     "data": {
      "text/markdown": [
       "<sup>13</sup>C<sub>2</sub>H<sub>6</sub><sup>18</sup>O"
      ],
      "text/plain": [
       "<IPython.core.display.Markdown object>"
      ]
     },
     "metadata": {},
     "output_type": "display_data"
    }
   ],
   "source": [
    "for formula in formulas_markdown:\n",
    "    display(Markdown(formula))"
   ]
  },
  {
   "cell_type": "code",
   "execution_count": 13,
   "metadata": {},
   "outputs": [
    {
     "data": {
      "text/markdown": [
       "$C_{2}H_{6}{}^{18}O$"
      ],
      "text/plain": [
       "<IPython.core.display.Markdown object>"
      ]
     },
     "metadata": {},
     "output_type": "display_data"
    },
    {
     "data": {
      "text/markdown": [
       "$C^{13}CH_{6}{}^{18}O$"
      ],
      "text/plain": [
       "<IPython.core.display.Markdown object>"
      ]
     },
     "metadata": {},
     "output_type": "display_data"
    },
    {
     "data": {
      "text/markdown": [
       "$^{13}C_{2}H_{6}{}^{18}O$"
      ],
      "text/plain": [
       "<IPython.core.display.Markdown object>"
      ]
     },
     "metadata": {},
     "output_type": "display_data"
    }
   ],
   "source": [
    "for formula in formulas_latex:\n",
    "    display(Markdown(formula))"
   ]
  },
  {
   "cell_type": "markdown",
   "metadata": {},
   "source": [
    "## Elemental analysis code: Weight percent by element"
   ]
  },
  {
   "cell_type": "code",
   "execution_count": 52,
   "metadata": {},
   "outputs": [
    {
     "data": {
      "image/png": "[encoded data removed]",
      "text/plain": [
       "<rdkit.Chem.rdchem.Mol at 0x11e8c8b30>"
      ]
     },
     "execution_count": 52,
     "metadata": {},
     "output_type": "execute_result"
    }
   ],
   "source": [
    "sml = \"CCO\"\n",
    "mol = Chem.AddHs(Chem.MolFromSmiles(sml))\n",
    "mol"
   ]
  },
  {
   "cell_type": "code",
   "execution_count": 53,
   "metadata": {},
   "outputs": [],
   "source": [
    "def element_set(molecule):\n",
    "    \"\"\"Get the set of elements in an RDKit molecule\n",
    "    For example, ethanol (SMILES CCO, formula C2H5OH)\n",
    "    returns {'C', 'O', 'H'}.\n",
    "\n",
    "    :param molecule: An RDKit molecule\n",
    "    :returns: A set.\n",
    "    \"\"\"\n",
    "    # Check that there is a valid molecule\n",
    "    if molecule:\n",
    "      # Add hydrogen atoms--RDKit excludes them by default\n",
    "      molecule_with_Hs = Chem.AddHs(molecule)\n",
    "      atom_symbols = set(atom.GetSymbol() for atom in molecule_with_Hs.GetAtoms())\n",
    "      return atom_symbols"
   ]
  },
  {
   "cell_type": "code",
   "execution_count": 54,
   "metadata": {},
   "outputs": [
    {
     "data": {
      "text/plain": [
       "{'C', 'H', 'O'}"
      ]
     },
     "execution_count": 54,
     "metadata": {},
     "output_type": "execute_result"
    }
   ],
   "source": [
    "element_set(mol)"
   ]
  },
  {
   "cell_type": "code",
   "execution_count": 73,
   "metadata": {},
   "outputs": [],
   "source": [
    "class elemental_analysis_mol():\n",
    "    def __init__(self, mol):\n",
    "        self.mol = mol\n",
    "\n",
    "        # Create dictionary of element:absolute mass\n",
    "        element_abs_dict = defaultdict()\n",
    "        for atom in mol.GetAtoms():\n",
    "            try:\n",
    "                element_abs_dict[atom.GetSymbol()] += atom.GetMass()\n",
    "            except:\n",
    "                element_abs_dict[atom.GetSymbol()] = atom.GetMass()\n",
    "\n",
    "        total_mass = sum(element_abs_dict.values())\n",
    "\n",
    "        # Create dictionary of element:relative (to the molecule) mass\n",
    "        self.element_rel_dict = defaultdict()\n",
    "        for element, mass in element_abs_dict.items():\n",
    "            self.element_rel_dict[element] = mass/total_mass\n",
    "    def update(self, mol):\n",
    "        \"\"\"Define an update method so the elemental_analysis_mol can remain as the same object if updated\"\"\"\n",
    "        self.__init__(mol)\n",
    "    def get_mass_frac(self, element):\n",
    "        return self.element_rel_dict.get(element)"
   ]
  },
  {
   "cell_type": "code",
   "execution_count": 76,
   "metadata": {},
   "outputs": [
    {
     "name": "stdout",
     "output_type": "stream",
     "text": [
      "0.5214352384466777\n",
      "0.34728342269204887\n",
      "0.1312813388612733\n"
     ]
    }
   ],
   "source": [
    "ea = elemental_analysis_mol(mol)\n",
    "ea.get_mass_frac(\"O\")\n",
    "for element in ea.element_rel_dict.keys():\n",
    "    print(ea.get_mass_frac(element))"
   ]
  },
  {
   "cell_type": "code",
   "execution_count": null,
   "metadata": {},
   "outputs": [],
   "source": []
  }
 ],
 "metadata": {
  "kernelspec": {
   "display_name": "venv",
   "language": "python",
   "name": "python3"
  },
  "language_info": {
   "codemirror_mode": {
    "name": "ipython",
    "version": 3
   },
   "file_extension": ".py",
   "mimetype": "text/x-python",
   "name": "python",
   "nbconvert_exporter": "python",
   "pygments_lexer": "ipython3",
   "version": "3.11.0"
  },
  "orig_nbformat": 4
 },
 "nbformat": 4,
 "nbformat_minor": 2
}
