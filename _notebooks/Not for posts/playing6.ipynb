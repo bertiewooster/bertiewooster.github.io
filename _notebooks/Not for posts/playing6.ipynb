{
 "cells": [
  {
   "cell_type": "code",
   "execution_count": 6,
   "metadata": {},
   "outputs": [],
   "source": [
    "from chemparse import parse_formula\n",
    "def convert_smiles_to_formula(smiles):\n",
    "    parsed_formula = parse_formula(smiles)\n",
    "\n",
    "    elements = {}\n",
    "    subscripts = {}\n",
    "    superscripts = {}\n",
    "\n",
    "    for element, count in parsed_formula.items():\n",
    "        element_symbol = element\n",
    "        element_isotope = element.isotope\n",
    "\n",
    "        if count > 1:\n",
    "            subscripts[element_symbol] = count\n",
    "\n",
    "        if element_isotope is not None:\n",
    "            superscripts[element_symbol] = element_isotope\n",
    "\n",
    "        if element_symbol not in elements:\n",
    "            elements[element_symbol] = 1\n",
    "        else:\n",
    "            elements[element_symbol] += 1\n",
    "\n",
    "    formula = \"\"\n",
    "    for element, count in elements.items():\n",
    "        formula += element\n",
    "        if element in subscripts:\n",
    "            formula += str(subscripts[element])\n",
    "        if element in superscripts:\n",
    "            formula += f\"[{superscripts[element]}]\"\n",
    "        if count > 1:\n",
    "            formula += str(count)\n",
    "\n",
    "    return formula\n",
    "\n",
    "# Example usage\n",
    "smiles = \"[13C]C[18O]\"\n",
    "formula = convert_smiles_to_formula(smiles)\n",
    "formula\n"
   ]
  },
  {
   "cell_type": "code",
   "execution_count": null,
   "metadata": {},
   "outputs": [],
   "source": []
  }
 ],
 "metadata": {
  "kernelspec": {
   "display_name": "venv",
   "language": "python",
   "name": "python3"
  },
  "language_info": {
   "codemirror_mode": {
    "name": "ipython",
    "version": 3
   },
   "file_extension": ".py",
   "mimetype": "text/x-python",
   "name": "python",
   "nbconvert_exporter": "python",
   "pygments_lexer": "ipython3",
   "version": "3.11.0"
  },
  "orig_nbformat": 4
 },
 "nbformat": 4,
 "nbformat_minor": 2
}
