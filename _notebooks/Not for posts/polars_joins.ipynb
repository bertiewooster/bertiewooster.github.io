{
 "cells": [
  {
   "cell_type": "code",
   "execution_count": 14,
   "metadata": {},
   "outputs": [],
   "source": [
    "import polars as pl\n",
    "import numpy as np"
   ]
  },
  {
   "cell_type": "code",
   "execution_count": 15,
   "metadata": {},
   "outputs": [],
   "source": [
    "df = pl.DataFrame(\n",
    "    {\n",
    "        \"a\": range(8),\n",
    "        \"b\": np.random.rand(8),\n",
    "        \"d\": [1, 2.0, float(\"nan\"), float(\"nan\"), 0, -5, -42, None],\n",
    "    }\n",
    ")\n",
    "\n",
    "df2 = pl.DataFrame(\n",
    "    {\n",
    "        \"a\": range(8),\n",
    "        \"y\": [\"A\", \"A\", \"A\", \"B\", \"B\", \"C\", \"X\", \"X\"],\n",
    "    }\n",
    ")"
   ]
  },
  {
   "cell_type": "code",
   "execution_count": 16,
   "metadata": {},
   "outputs": [
    {
     "data": {
      "text/html": [
       "<div><style>\n",
       ".dataframe > thead > tr > th,\n",
       ".dataframe > tbody > tr > td {\n",
       "  text-align: right;\n",
       "  white-space: pre-wrap;\n",
       "}\n",
       "</style>\n",
       "<small>shape: (8, 3)</small><table border=\"1\" class=\"dataframe\"><thead><tr><th>a</th><th>b</th><th>d</th></tr><tr><td>i64</td><td>f64</td><td>f64</td></tr></thead><tbody><tr><td>0</td><td>0.314538</td><td>1.0</td></tr><tr><td>1</td><td>0.446574</td><td>2.0</td></tr><tr><td>2</td><td>0.957825</td><td>NaN</td></tr><tr><td>3</td><td>0.165418</td><td>NaN</td></tr><tr><td>4</td><td>0.281743</td><td>0.0</td></tr><tr><td>5</td><td>0.380441</td><td>-5.0</td></tr><tr><td>6</td><td>0.727451</td><td>-42.0</td></tr><tr><td>7</td><td>0.785858</td><td>null</td></tr></tbody></table></div>"
      ],
      "text/plain": [
       "shape: (8, 3)\n",
       "┌─────┬──────────┬───────┐\n",
       "│ a   ┆ b        ┆ d     │\n",
       "│ --- ┆ ---      ┆ ---   │\n",
       "│ i64 ┆ f64      ┆ f64   │\n",
       "╞═════╪══════════╪═══════╡\n",
       "│ 0   ┆ 0.314538 ┆ 1.0   │\n",
       "│ 1   ┆ 0.446574 ┆ 2.0   │\n",
       "│ 2   ┆ 0.957825 ┆ NaN   │\n",
       "│ 3   ┆ 0.165418 ┆ NaN   │\n",
       "│ 4   ┆ 0.281743 ┆ 0.0   │\n",
       "│ 5   ┆ 0.380441 ┆ -5.0  │\n",
       "│ 6   ┆ 0.727451 ┆ -42.0 │\n",
       "│ 7   ┆ 0.785858 ┆ null  │\n",
       "└─────┴──────────┴───────┘"
      ]
     },
     "execution_count": 16,
     "metadata": {},
     "output_type": "execute_result"
    }
   ],
   "source": [
    "df"
   ]
  },
  {
   "cell_type": "code",
   "execution_count": 17,
   "metadata": {},
   "outputs": [
    {
     "data": {
      "text/html": [
       "<div><style>\n",
       ".dataframe > thead > tr > th,\n",
       ".dataframe > tbody > tr > td {\n",
       "  text-align: right;\n",
       "  white-space: pre-wrap;\n",
       "}\n",
       "</style>\n",
       "<small>shape: (8, 2)</small><table border=\"1\" class=\"dataframe\"><thead><tr><th>a</th><th>y</th></tr><tr><td>i64</td><td>str</td></tr></thead><tbody><tr><td>0</td><td>&quot;A&quot;</td></tr><tr><td>1</td><td>&quot;A&quot;</td></tr><tr><td>2</td><td>&quot;A&quot;</td></tr><tr><td>3</td><td>&quot;B&quot;</td></tr><tr><td>4</td><td>&quot;B&quot;</td></tr><tr><td>5</td><td>&quot;C&quot;</td></tr><tr><td>6</td><td>&quot;X&quot;</td></tr><tr><td>7</td><td>&quot;X&quot;</td></tr></tbody></table></div>"
      ],
      "text/plain": [
       "shape: (8, 2)\n",
       "┌─────┬─────┐\n",
       "│ a   ┆ y   │\n",
       "│ --- ┆ --- │\n",
       "│ i64 ┆ str │\n",
       "╞═════╪═════╡\n",
       "│ 0   ┆ A   │\n",
       "│ 1   ┆ A   │\n",
       "│ 2   ┆ A   │\n",
       "│ 3   ┆ B   │\n",
       "│ 4   ┆ B   │\n",
       "│ 5   ┆ C   │\n",
       "│ 6   ┆ X   │\n",
       "│ 7   ┆ X   │\n",
       "└─────┴─────┘"
      ]
     },
     "execution_count": 17,
     "metadata": {},
     "output_type": "execute_result"
    }
   ],
   "source": [
    "df2"
   ]
  },
  {
   "cell_type": "code",
   "execution_count": 19,
   "metadata": {},
   "outputs": [
    {
     "name": "stdout",
     "output_type": "stream",
     "text": [
      "shape: (8, 4)\n",
      "┌─────┬──────────┬───────┬─────┐\n",
      "│ a   ┆ b        ┆ d     ┆ y   │\n",
      "│ --- ┆ ---      ┆ ---   ┆ --- │\n",
      "│ i64 ┆ f64      ┆ f64   ┆ str │\n",
      "╞═════╪══════════╪═══════╪═════╡\n",
      "│ 0   ┆ 0.314538 ┆ 1.0   ┆ A   │\n",
      "│ 1   ┆ 0.446574 ┆ 2.0   ┆ A   │\n",
      "│ 2   ┆ 0.957825 ┆ NaN   ┆ A   │\n",
      "│ 3   ┆ 0.165418 ┆ NaN   ┆ B   │\n",
      "│ 4   ┆ 0.281743 ┆ 0.0   ┆ B   │\n",
      "│ 5   ┆ 0.380441 ┆ -5.0  ┆ C   │\n",
      "│ 6   ┆ 0.727451 ┆ -42.0 ┆ X   │\n",
      "│ 7   ┆ 0.785858 ┆ null  ┆ X   │\n",
      "└─────┴──────────┴───────┴─────┘\n"
     ]
    }
   ],
   "source": [
    "joined = df.join(df2, left_on=\"a\", right_on=\"a\")\n",
    "print(joined)"
   ]
  },
  {
   "cell_type": "code",
   "execution_count": 23,
   "metadata": {},
   "outputs": [
    {
     "data": {
      "text/html": [
       "<div><style>\n",
       ".dataframe > thead > tr > th,\n",
       ".dataframe > tbody > tr > td {\n",
       "  text-align: right;\n",
       "  white-space: pre-wrap;\n",
       "}\n",
       "</style>\n",
       "<small>shape: (8, 5)</small><table border=\"1\" class=\"dataframe\"><thead><tr><th>a</th><th>b</th><th>d</th><th>y</th><th>y_right</th></tr><tr><td>i64</td><td>f64</td><td>f64</td><td>str</td><td>str</td></tr></thead><tbody><tr><td>0</td><td>0.314538</td><td>1.0</td><td>&quot;A&quot;</td><td>&quot;A&quot;</td></tr><tr><td>1</td><td>0.446574</td><td>2.0</td><td>&quot;A&quot;</td><td>&quot;A&quot;</td></tr><tr><td>2</td><td>0.957825</td><td>NaN</td><td>&quot;A&quot;</td><td>&quot;A&quot;</td></tr><tr><td>3</td><td>0.165418</td><td>NaN</td><td>&quot;B&quot;</td><td>&quot;B&quot;</td></tr><tr><td>4</td><td>0.281743</td><td>0.0</td><td>&quot;B&quot;</td><td>&quot;B&quot;</td></tr><tr><td>5</td><td>0.380441</td><td>-5.0</td><td>&quot;C&quot;</td><td>&quot;C&quot;</td></tr><tr><td>6</td><td>0.727451</td><td>-42.0</td><td>&quot;X&quot;</td><td>&quot;X&quot;</td></tr><tr><td>7</td><td>0.785858</td><td>null</td><td>&quot;X&quot;</td><td>&quot;X&quot;</td></tr></tbody></table></div>"
      ],
      "text/plain": [
       "shape: (8, 5)\n",
       "┌─────┬──────────┬───────┬─────┬─────────┐\n",
       "│ a   ┆ b        ┆ d     ┆ y   ┆ y_right │\n",
       "│ --- ┆ ---      ┆ ---   ┆ --- ┆ ---     │\n",
       "│ i64 ┆ f64      ┆ f64   ┆ str ┆ str     │\n",
       "╞═════╪══════════╪═══════╪═════╪═════════╡\n",
       "│ 0   ┆ 0.314538 ┆ 1.0   ┆ A   ┆ A       │\n",
       "│ 1   ┆ 0.446574 ┆ 2.0   ┆ A   ┆ A       │\n",
       "│ 2   ┆ 0.957825 ┆ NaN   ┆ A   ┆ A       │\n",
       "│ 3   ┆ 0.165418 ┆ NaN   ┆ B   ┆ B       │\n",
       "│ 4   ┆ 0.281743 ┆ 0.0   ┆ B   ┆ B       │\n",
       "│ 5   ┆ 0.380441 ┆ -5.0  ┆ C   ┆ C       │\n",
       "│ 6   ┆ 0.727451 ┆ -42.0 ┆ X   ┆ X       │\n",
       "│ 7   ┆ 0.785858 ┆ null  ┆ X   ┆ X       │\n",
       "└─────┴──────────┴───────┴─────┴─────────┘"
      ]
     },
     "execution_count": 23,
     "metadata": {},
     "output_type": "execute_result"
    }
   ],
   "source": [
    "df"
   ]
  },
  {
   "cell_type": "code",
   "execution_count": 38,
   "metadata": {},
   "outputs": [
    {
     "data": {
      "text/html": [
       "<div><style>\n",
       ".dataframe > thead > tr > th,\n",
       ".dataframe > tbody > tr > td {\n",
       "  text-align: right;\n",
       "  white-space: pre-wrap;\n",
       "}\n",
       "</style>\n",
       "<small>shape: (8, 1)</small><table border=\"1\" class=\"dataframe\"><thead><tr><th>b</th></tr><tr><td>f64</td></tr></thead><tbody><tr><td>0.314538</td></tr><tr><td>0.446574</td></tr><tr><td>0.957825</td></tr><tr><td>0.165418</td></tr><tr><td>0.281743</td></tr><tr><td>0.380441</td></tr><tr><td>0.727451</td></tr><tr><td>0.785858</td></tr></tbody></table></div>"
      ],
      "text/plain": [
       "shape: (8, 1)\n",
       "┌──────────┐\n",
       "│ b        │\n",
       "│ ---      │\n",
       "│ f64      │\n",
       "╞══════════╡\n",
       "│ 0.314538 │\n",
       "│ 0.446574 │\n",
       "│ 0.957825 │\n",
       "│ 0.165418 │\n",
       "│ 0.281743 │\n",
       "│ 0.380441 │\n",
       "│ 0.727451 │\n",
       "│ 0.785858 │\n",
       "└──────────┘"
      ]
     },
     "execution_count": 38,
     "metadata": {},
     "output_type": "execute_result"
    }
   ],
   "source": [
    "df.drop(\"asfdsf\")"
   ]
  },
  {
   "cell_type": "code",
   "execution_count": 37,
   "metadata": {},
   "outputs": [],
   "source": [
    "try:\n",
    "    df = df.drop([\"a\", \"l\"])\n",
    "except Exception as e:\n",
    "    print(f\"{e}\")"
   ]
  },
  {
   "cell_type": "code",
   "execution_count": 35,
   "metadata": {},
   "outputs": [
    {
     "data": {
      "text/html": [
       "<div><style>\n",
       ".dataframe > thead > tr > th,\n",
       ".dataframe > tbody > tr > td {\n",
       "  text-align: right;\n",
       "  white-space: pre-wrap;\n",
       "}\n",
       "</style>\n",
       "<small>shape: (8, 2)</small><table border=\"1\" class=\"dataframe\"><thead><tr><th>a</th><th>b</th></tr><tr><td>i64</td><td>f64</td></tr></thead><tbody><tr><td>0</td><td>0.314538</td></tr><tr><td>1</td><td>0.446574</td></tr><tr><td>2</td><td>0.957825</td></tr><tr><td>3</td><td>0.165418</td></tr><tr><td>4</td><td>0.281743</td></tr><tr><td>5</td><td>0.380441</td></tr><tr><td>6</td><td>0.727451</td></tr><tr><td>7</td><td>0.785858</td></tr></tbody></table></div>"
      ],
      "text/plain": [
       "shape: (8, 2)\n",
       "┌─────┬──────────┐\n",
       "│ a   ┆ b        │\n",
       "│ --- ┆ ---      │\n",
       "│ i64 ┆ f64      │\n",
       "╞═════╪══════════╡\n",
       "│ 0   ┆ 0.314538 │\n",
       "│ 1   ┆ 0.446574 │\n",
       "│ 2   ┆ 0.957825 │\n",
       "│ 3   ┆ 0.165418 │\n",
       "│ 4   ┆ 0.281743 │\n",
       "│ 5   ┆ 0.380441 │\n",
       "│ 6   ┆ 0.727451 │\n",
       "│ 7   ┆ 0.785858 │\n",
       "└─────┴──────────┘"
      ]
     },
     "execution_count": 35,
     "metadata": {},
     "output_type": "execute_result"
    }
   ],
   "source": [
    "df"
   ]
  },
  {
   "cell_type": "markdown",
   "metadata": {},
   "source": [
    "hi"
   ]
  },
  {
   "cell_type": "code",
   "execution_count": 22,
   "metadata": {},
   "outputs": [
    {
     "ename": "DuplicateError",
     "evalue": "unable to hstack, column with name \"y_right\" already exists",
     "output_type": "error",
     "traceback": [
      "\u001b[0;31m---------------------------------------------------------------------------\u001b[0m",
      "\u001b[0;31mDuplicateError\u001b[0m                            Traceback (most recent call last)",
      "\u001b[1;32m/Users/jemonat/Projects/bertiewooster.github.io/_notebooks/Not for posts/polars_joins.ipynb Cell 6\u001b[0m line \u001b[0;36m1\n\u001b[0;32m----> <a href='vscode-notebook-cell:/Users/jemonat/Projects/bertiewooster.github.io/_notebooks/Not%20for%20posts/polars_joins.ipynb#W5sZmlsZQ%3D%3D?line=0'>1</a>\u001b[0m df \u001b[39m=\u001b[39m df\u001b[39m.\u001b[39;49mjoin(df2, how\u001b[39m=\u001b[39;49m\u001b[39m\"\u001b[39;49m\u001b[39mleft\u001b[39;49m\u001b[39m\"\u001b[39;49m, on\u001b[39m=\u001b[39;49m\u001b[39m\"\u001b[39;49m\u001b[39ma\u001b[39;49m\u001b[39m\"\u001b[39;49m)\n\u001b[1;32m      <a href='vscode-notebook-cell:/Users/jemonat/Projects/bertiewooster.github.io/_notebooks/Not%20for%20posts/polars_joins.ipynb#W5sZmlsZQ%3D%3D?line=1'>2</a>\u001b[0m df\n",
      "File \u001b[0;32m~/Projects/bertiewooster.github.io/venv/lib/python3.11/site-packages/polars/dataframe/frame.py:6005\u001b[0m, in \u001b[0;36mDataFrame.join\u001b[0;34m(self, other, on, how, left_on, right_on, suffix, validate)\u001b[0m\n\u001b[1;32m   5989\u001b[0m \u001b[39mif\u001b[39;00m \u001b[39mnot\u001b[39;00m \u001b[39misinstance\u001b[39m(other, DataFrame):\n\u001b[1;32m   5990\u001b[0m     \u001b[39mraise\u001b[39;00m \u001b[39mTypeError\u001b[39;00m(\n\u001b[1;32m   5991\u001b[0m         \u001b[39mf\u001b[39m\u001b[39m\"\u001b[39m\u001b[39mexpected `other` join table to be a DataFrame, got \u001b[39m\u001b[39m{\u001b[39;00m\u001b[39mtype\u001b[39m(other)\u001b[39m.\u001b[39m\u001b[39m__name__\u001b[39m\u001b[39m!r}\u001b[39;00m\u001b[39m\"\u001b[39m\n\u001b[1;32m   5992\u001b[0m     )\n\u001b[1;32m   5994\u001b[0m \u001b[39mreturn\u001b[39;00m (\n\u001b[1;32m   5995\u001b[0m     \u001b[39mself\u001b[39;49m\u001b[39m.\u001b[39;49mlazy()\n\u001b[1;32m   5996\u001b[0m     \u001b[39m.\u001b[39;49mjoin(\n\u001b[1;32m   5997\u001b[0m         other\u001b[39m=\u001b[39;49mother\u001b[39m.\u001b[39;49mlazy(),\n\u001b[1;32m   5998\u001b[0m         left_on\u001b[39m=\u001b[39;49mleft_on,\n\u001b[1;32m   5999\u001b[0m         right_on\u001b[39m=\u001b[39;49mright_on,\n\u001b[1;32m   6000\u001b[0m         on\u001b[39m=\u001b[39;49mon,\n\u001b[1;32m   6001\u001b[0m         how\u001b[39m=\u001b[39;49mhow,\n\u001b[1;32m   6002\u001b[0m         suffix\u001b[39m=\u001b[39;49msuffix,\n\u001b[1;32m   6003\u001b[0m         validate\u001b[39m=\u001b[39;49mvalidate,\n\u001b[1;32m   6004\u001b[0m     )\n\u001b[0;32m-> 6005\u001b[0m     \u001b[39m.\u001b[39;49mcollect(eager\u001b[39m=\u001b[39;49m\u001b[39mTrue\u001b[39;49;00m)\n\u001b[1;32m   6006\u001b[0m )\n",
      "File \u001b[0;32m~/Projects/bertiewooster.github.io/venv/lib/python3.11/site-packages/polars/utils/deprecation.py:96\u001b[0m, in \u001b[0;36mdeprecate_renamed_parameter.<locals>.decorate.<locals>.wrapper\u001b[0;34m(*args, **kwargs)\u001b[0m\n\u001b[1;32m     91\u001b[0m \u001b[39m@wraps\u001b[39m(function)\n\u001b[1;32m     92\u001b[0m \u001b[39mdef\u001b[39;00m \u001b[39mwrapper\u001b[39m(\u001b[39m*\u001b[39margs: P\u001b[39m.\u001b[39margs, \u001b[39m*\u001b[39m\u001b[39m*\u001b[39mkwargs: P\u001b[39m.\u001b[39mkwargs) \u001b[39m-\u001b[39m\u001b[39m>\u001b[39m T:\n\u001b[1;32m     93\u001b[0m     _rename_keyword_argument(\n\u001b[1;32m     94\u001b[0m         old_name, new_name, kwargs, function\u001b[39m.\u001b[39m\u001b[39m__name__\u001b[39m, version\n\u001b[1;32m     95\u001b[0m     )\n\u001b[0;32m---> 96\u001b[0m     \u001b[39mreturn\u001b[39;00m function(\u001b[39m*\u001b[39;49margs, \u001b[39m*\u001b[39;49m\u001b[39m*\u001b[39;49mkwargs)\n",
      "File \u001b[0;32m~/Projects/bertiewooster.github.io/venv/lib/python3.11/site-packages/polars/lazyframe/frame.py:1713\u001b[0m, in \u001b[0;36mLazyFrame.collect\u001b[0;34m(self, type_coercion, predicate_pushdown, projection_pushdown, simplify_expression, no_optimization, slice_pushdown, comm_subplan_elim, comm_subexpr_elim, streaming, **kwargs)\u001b[0m\n\u001b[1;32m   1700\u001b[0m     comm_subplan_elim \u001b[39m=\u001b[39m \u001b[39mFalse\u001b[39;00m\n\u001b[1;32m   1702\u001b[0m ldf \u001b[39m=\u001b[39m \u001b[39mself\u001b[39m\u001b[39m.\u001b[39m_ldf\u001b[39m.\u001b[39moptimization_toggle(\n\u001b[1;32m   1703\u001b[0m     type_coercion,\n\u001b[1;32m   1704\u001b[0m     predicate_pushdown,\n\u001b[0;32m   (...)\u001b[0m\n\u001b[1;32m   1711\u001b[0m     eager,\n\u001b[1;32m   1712\u001b[0m )\n\u001b[0;32m-> 1713\u001b[0m \u001b[39mreturn\u001b[39;00m wrap_df(ldf\u001b[39m.\u001b[39mcollect())\n",
      "\u001b[0;31mDuplicateError\u001b[0m: unable to hstack, column with name \"y_right\" already exists"
     ]
    }
   ],
   "source": [
    "df = df.join(df2, how=\"left\", on=\"a\")\n",
    "df"
   ]
  },
  {
   "cell_type": "code",
   "execution_count": null,
   "metadata": {},
   "outputs": [],
   "source": []
  }
 ],
 "metadata": {
  "kernelspec": {
   "display_name": "venv",
   "language": "python",
   "name": "python3"
  },
  "language_info": {
   "codemirror_mode": {
    "name": "ipython",
    "version": 3
   },
   "file_extension": ".py",
   "mimetype": "text/x-python",
   "name": "python",
   "nbconvert_exporter": "python",
   "pygments_lexer": "ipython3",
   "version": "3.11.0"
  }
 },
 "nbformat": 4,
 "nbformat_minor": 2
}
