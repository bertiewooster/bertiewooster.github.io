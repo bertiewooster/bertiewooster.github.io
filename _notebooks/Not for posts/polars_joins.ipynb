{
 "cells": [
  {
   "cell_type": "code",
   "execution_count": 2,
   "metadata": {},
   "outputs": [],
   "source": [
    "import polars as pl\n",
    "import numpy as np"
   ]
  },
  {
   "cell_type": "code",
   "execution_count": 8,
   "metadata": {},
   "outputs": [],
   "source": [
    "df = pl.DataFrame(\n",
    "    {\n",
    "        \"a\": range(8),\n",
    "        \"b\": np.random.rand(8),\n",
    "        \"d\": [1, 2.0, float(\"nan\"), float(\"nan\"), 0, -5, -42, None],\n",
    "    }\n",
    ")\n",
    "\n",
    "df2 = pl.DataFrame(\n",
    "    {\n",
    "        \"a\": range(8),\n",
    "        \"y\": [\"A\", \"A\", \"A\", \"B\", \"B\", \"C\", \"X\", \"X\"],\n",
    "    }\n",
    ")"
   ]
  },
  {
   "cell_type": "code",
   "execution_count": 9,
   "metadata": {},
   "outputs": [
    {
     "data": {
      "text/html": [
       "<div><style>\n",
       ".dataframe > thead > tr > th,\n",
       ".dataframe > tbody > tr > td {\n",
       "  text-align: right;\n",
       "  white-space: pre-wrap;\n",
       "}\n",
       "</style>\n",
       "<small>shape: (8, 3)</small><table border=\"1\" class=\"dataframe\"><thead><tr><th>a</th><th>b</th><th>d</th></tr><tr><td>i64</td><td>f64</td><td>f64</td></tr></thead><tbody><tr><td>0</td><td>0.925873</td><td>1.0</td></tr><tr><td>1</td><td>0.372329</td><td>2.0</td></tr><tr><td>2</td><td>0.363009</td><td>NaN</td></tr><tr><td>3</td><td>0.711676</td><td>NaN</td></tr><tr><td>4</td><td>0.363245</td><td>0.0</td></tr><tr><td>5</td><td>0.98026</td><td>-5.0</td></tr><tr><td>6</td><td>0.244917</td><td>-42.0</td></tr><tr><td>7</td><td>0.393285</td><td>null</td></tr></tbody></table></div>"
      ],
      "text/plain": [
       "shape: (8, 3)\n",
       "┌─────┬──────────┬───────┐\n",
       "│ a   ┆ b        ┆ d     │\n",
       "│ --- ┆ ---      ┆ ---   │\n",
       "│ i64 ┆ f64      ┆ f64   │\n",
       "╞═════╪══════════╪═══════╡\n",
       "│ 0   ┆ 0.925873 ┆ 1.0   │\n",
       "│ 1   ┆ 0.372329 ┆ 2.0   │\n",
       "│ 2   ┆ 0.363009 ┆ NaN   │\n",
       "│ 3   ┆ 0.711676 ┆ NaN   │\n",
       "│ 4   ┆ 0.363245 ┆ 0.0   │\n",
       "│ 5   ┆ 0.98026  ┆ -5.0  │\n",
       "│ 6   ┆ 0.244917 ┆ -42.0 │\n",
       "│ 7   ┆ 0.393285 ┆ null  │\n",
       "└─────┴──────────┴───────┘"
      ]
     },
     "execution_count": 9,
     "metadata": {},
     "output_type": "execute_result"
    }
   ],
   "source": [
    "df"
   ]
  },
  {
   "cell_type": "code",
   "execution_count": 10,
   "metadata": {},
   "outputs": [
    {
     "data": {
      "text/html": [
       "<div><style>\n",
       ".dataframe > thead > tr > th,\n",
       ".dataframe > tbody > tr > td {\n",
       "  text-align: right;\n",
       "  white-space: pre-wrap;\n",
       "}\n",
       "</style>\n",
       "<small>shape: (8, 2)</small><table border=\"1\" class=\"dataframe\"><thead><tr><th>a</th><th>y</th></tr><tr><td>i64</td><td>str</td></tr></thead><tbody><tr><td>0</td><td>&quot;A&quot;</td></tr><tr><td>1</td><td>&quot;A&quot;</td></tr><tr><td>2</td><td>&quot;A&quot;</td></tr><tr><td>3</td><td>&quot;B&quot;</td></tr><tr><td>4</td><td>&quot;B&quot;</td></tr><tr><td>5</td><td>&quot;C&quot;</td></tr><tr><td>6</td><td>&quot;X&quot;</td></tr><tr><td>7</td><td>&quot;X&quot;</td></tr></tbody></table></div>"
      ],
      "text/plain": [
       "shape: (8, 2)\n",
       "┌─────┬─────┐\n",
       "│ a   ┆ y   │\n",
       "│ --- ┆ --- │\n",
       "│ i64 ┆ str │\n",
       "╞═════╪═════╡\n",
       "│ 0   ┆ A   │\n",
       "│ 1   ┆ A   │\n",
       "│ 2   ┆ A   │\n",
       "│ 3   ┆ B   │\n",
       "│ 4   ┆ B   │\n",
       "│ 5   ┆ C   │\n",
       "│ 6   ┆ X   │\n",
       "│ 7   ┆ X   │\n",
       "└─────┴─────┘"
      ]
     },
     "execution_count": 10,
     "metadata": {},
     "output_type": "execute_result"
    }
   ],
   "source": [
    "df2"
   ]
  },
  {
   "cell_type": "code",
   "execution_count": 7,
   "metadata": {},
   "outputs": [
    {
     "name": "stdout",
     "output_type": "stream",
     "text": [
      "shape: (8, 4)\n",
      "┌─────┬──────────┬───────┬─────┐\n",
      "│ a   ┆ b        ┆ d     ┆ y   │\n",
      "│ --- ┆ ---      ┆ ---   ┆ --- │\n",
      "│ i64 ┆ f64      ┆ f64   ┆ str │\n",
      "╞═════╪══════════╪═══════╪═════╡\n",
      "│ 0   ┆ 0.337521 ┆ 1.0   ┆ A   │\n",
      "│ 1   ┆ 0.462368 ┆ 2.0   ┆ A   │\n",
      "│ 2   ┆ 0.792111 ┆ NaN   ┆ A   │\n",
      "│ 3   ┆ 0.015541 ┆ NaN   ┆ B   │\n",
      "│ 4   ┆ 0.580938 ┆ 0.0   ┆ B   │\n",
      "│ 5   ┆ 0.434778 ┆ -5.0  ┆ C   │\n",
      "│ 6   ┆ 0.148261 ┆ -42.0 ┆ X   │\n",
      "│ 7   ┆ 0.820758 ┆ null  ┆ X   │\n",
      "└─────┴──────────┴───────┴─────┘\n"
     ]
    }
   ],
   "source": [
    "joined = df.join(df2, left_on=\"a\", right_on=\"x\")\n",
    "print(joined)"
   ]
  },
  {
   "cell_type": "code",
   "execution_count": 12,
   "metadata": {},
   "outputs": [
    {
     "data": {
      "text/html": [
       "<div><style>\n",
       ".dataframe > thead > tr > th,\n",
       ".dataframe > tbody > tr > td {\n",
       "  text-align: right;\n",
       "  white-space: pre-wrap;\n",
       "}\n",
       "</style>\n",
       "<small>shape: (8, 4)</small><table border=\"1\" class=\"dataframe\"><thead><tr><th>a</th><th>b</th><th>d</th><th>y</th></tr><tr><td>i64</td><td>f64</td><td>f64</td><td>str</td></tr></thead><tbody><tr><td>0</td><td>0.925873</td><td>1.0</td><td>&quot;A&quot;</td></tr><tr><td>1</td><td>0.372329</td><td>2.0</td><td>&quot;A&quot;</td></tr><tr><td>2</td><td>0.363009</td><td>NaN</td><td>&quot;A&quot;</td></tr><tr><td>3</td><td>0.711676</td><td>NaN</td><td>&quot;B&quot;</td></tr><tr><td>4</td><td>0.363245</td><td>0.0</td><td>&quot;B&quot;</td></tr><tr><td>5</td><td>0.98026</td><td>-5.0</td><td>&quot;C&quot;</td></tr><tr><td>6</td><td>0.244917</td><td>-42.0</td><td>&quot;X&quot;</td></tr><tr><td>7</td><td>0.393285</td><td>null</td><td>&quot;X&quot;</td></tr></tbody></table></div>"
      ],
      "text/plain": [
       "shape: (8, 4)\n",
       "┌─────┬──────────┬───────┬─────┐\n",
       "│ a   ┆ b        ┆ d     ┆ y   │\n",
       "│ --- ┆ ---      ┆ ---   ┆ --- │\n",
       "│ i64 ┆ f64      ┆ f64   ┆ str │\n",
       "╞═════╪══════════╪═══════╪═════╡\n",
       "│ 0   ┆ 0.925873 ┆ 1.0   ┆ A   │\n",
       "│ 1   ┆ 0.372329 ┆ 2.0   ┆ A   │\n",
       "│ 2   ┆ 0.363009 ┆ NaN   ┆ A   │\n",
       "│ 3   ┆ 0.711676 ┆ NaN   ┆ B   │\n",
       "│ 4   ┆ 0.363245 ┆ 0.0   ┆ B   │\n",
       "│ 5   ┆ 0.98026  ┆ -5.0  ┆ C   │\n",
       "│ 6   ┆ 0.244917 ┆ -42.0 ┆ X   │\n",
       "│ 7   ┆ 0.393285 ┆ null  ┆ X   │\n",
       "└─────┴──────────┴───────┴─────┘"
      ]
     },
     "execution_count": 12,
     "metadata": {},
     "output_type": "execute_result"
    }
   ],
   "source": [
    "df.join(df2, how=\"left\", on=\"a\")"
   ]
  },
  {
   "cell_type": "code",
   "execution_count": null,
   "metadata": {},
   "outputs": [],
   "source": []
  }
 ],
 "metadata": {
  "kernelspec": {
   "display_name": "venv",
   "language": "python",
   "name": "python3"
  },
  "language_info": {
   "codemirror_mode": {
    "name": "ipython",
    "version": 3
   },
   "file_extension": ".py",
   "mimetype": "text/x-python",
   "name": "python",
   "nbconvert_exporter": "python",
   "pygments_lexer": "ipython3",
   "version": "3.11.0"
  }
 },
 "nbformat": 4,
 "nbformat_minor": 2
}
