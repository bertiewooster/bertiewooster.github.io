{
 "cells": [
  {
   "cell_type": "code",
   "execution_count": 43,
   "metadata": {},
   "outputs": [
    {
     "data": {
      "text/markdown": [
       "C<sup>12</sup>C<sup>13</sup>C<sub>2</sub>O<sup>16</sup>O<sup>18</sup>O<sub>2</sub>"
      ],
      "text/plain": [
       "<IPython.core.display.Markdown object>"
      ]
     },
     "metadata": {},
     "output_type": "display_data"
    }
   ],
   "source": [
    "from collections import defaultdict\n",
    "from rdkit import Chem\n",
    "from IPython.display import display, Markdown\n",
    "\n",
    "def composition(molecule, isotopes=False):\n",
    "    if molecule:\n",
    "        Chem.AddHs(molecule)\n",
    "        comp = defaultdict(lambda: 0)\n",
    "        for atom in molecule.GetAtoms():\n",
    "            element_symbol = atom.GetSymbol()\n",
    "            if not isotopes:\n",
    "                comp[element_symbol] += 1\n",
    "            else:\n",
    "                isotope = atom.GetIsotope()\n",
    "                try:\n",
    "                    comp[element_symbol][isotope] += 1\n",
    "                except:\n",
    "                    comp[element_symbol] = defaultdict(lambda: 0)\n",
    "                    comp[element_symbol][isotope] += 1\n",
    "        return comp\n",
    "\n",
    "def convert_smiles_to_markdown_formula(smiles, isotopes=False):\n",
    "    mol = Chem.MolFromSmiles(smiles)\n",
    "    if mol is not None:\n",
    "        comp = composition(mol, isotopes)\n",
    "\n",
    "        isotopes = defaultdict(lambda: defaultdict(str))\n",
    "        subscripts = defaultdict(lambda: defaultdict(int))\n",
    "        superscripts = defaultdict(list)\n",
    "\n",
    "        for element, counts in comp.items():\n",
    "            for isotope, count in counts.items():\n",
    "                if count > 1:\n",
    "                    subscripts[element][isotope] = count\n",
    "                if isotope != 0:\n",
    "                    superscripts[element].append(isotope)\n",
    "\n",
    "                isotopes[element][isotope] = 1\n",
    "            # Sort the element's isotopes from lowest to highest\n",
    "            superscripts[element].sort()\n",
    "\n",
    "        formula = {'markdown': \"\", 'dollar_math': \"\"}\n",
    "        sorted_element_keys = sorted(isotopes.keys())\n",
    "        for element in sorted_element_keys:\n",
    "            isotope_count_pairs = isotopes[element]\n",
    "            # Sort the element's isotopes from lowest to highest\n",
    "            sorted_isotope_keys = sorted(isotope_count_pairs.keys())\n",
    "            for isotope in sorted_isotope_keys:\n",
    "                if element in superscripts:\n",
    "                    if isotope in superscripts[element]:\n",
    "                        formula[\"markdown\"] += f\"<sup>{isotope}</sup>\"\n",
    "                        # formula[\"dollar_math\"] += f\"$^\\{isotope}$\"\n",
    "                        formula[\"dollar_math\"] += \"$^\\{\" + f\"{isotope}\" + \"}$\"\n",
    "                formula[\"markdown\"] += element\n",
    "                formula[\"dollar_math\"] += element\n",
    "                if element in subscripts:\n",
    "                    if isotope in subscripts[element]:\n",
    "                        for isotope, isotope_count in subscripts[element].items():\n",
    "                            formula[\"markdown\"] += f\"<sub>{isotope_count}</sub>\"\n",
    "                            formula[\"dollar_math\"] += f\"$_{isotope_count}$\"\n",
    "        display(Markdown(formula[\"markdown\"]))\n",
    "    else:\n",
    "        return \"Invalid SMILES\"\n",
    "\n",
    "# Example usage\n",
    "smiles = \"[18O]O[18O][16O][12C][13C]C[13C]\"\n",
    "convert_smiles_to_markdown_formula(smiles, isotopes=True)\n"
   ]
  },
  {
   "cell_type": "code",
   "execution_count": 38,
   "metadata": {},
   "outputs": [],
   "source": [
    "def list_to_markdown_table(data, headers=None):\n",
    "    \"\"\"\n",
    "    Convert a list of lists into a Markdown table.\n",
    "    \n",
    "    Args:\n",
    "        data (list): A list of lists, where each inner list corresponds to a row in the table.\n",
    "        headers (list): An optional list of column headers.\n",
    "\n",
    "    Returns:\n",
    "        str: The Markdown-formatted table as a string.\n",
    "    \"\"\"\n",
    "    if not data:\n",
    "        return \"\"\n",
    "\n",
    "    # Determine the number of columns\n",
    "    num_columns = len(data[0])\n",
    "\n",
    "    # Create the table headers if provided\n",
    "    table = \"|\"\n",
    "    if headers:\n",
    "        table += \" | \".join(headers) + \" |\\n\"\n",
    "\n",
    "        # Create the title divider line\n",
    "        table += \"|\"\n",
    "        for _ in range(num_columns):\n",
    "            table += \" --- |\"\n",
    "        table += \"\\n\"\n",
    "\n",
    "    # Create the table body\n",
    "    for row in data:\n",
    "        if len(row) != num_columns:\n",
    "            raise ValueError(\"All rows must have the same number of columns\")\n",
    "        table += \"| \" + \" | \".join(map(str, row)) + \" |\\n\"\n",
    "\n",
    "    return table\n"
   ]
  },
  {
   "cell_type": "code",
   "execution_count": 40,
   "metadata": {},
   "outputs": [
    {
     "data": {
      "text/markdown": [
       "|Name | Age | Occupation |\n",
       "| --- | --- | --- |\n",
       "| Alice | 25 | Engineer |\n",
       "| Bob | 30 | Designer |\n",
       "| Charlie | 35 | Manager |\n"
      ],
      "text/plain": [
       "<IPython.core.display.Markdown object>"
      ]
     },
     "metadata": {},
     "output_type": "display_data"
    }
   ],
   "source": [
    "data = [\n",
    "    [\"Alice\", 25, \"Engineer\"],\n",
    "    [\"Bob\", 30, \"Designer\"],\n",
    "    [\"Charlie\", 35, \"Manager\"]\n",
    "]\n",
    "\n",
    "# Create the table with headers\n",
    "table = list_to_markdown_table(data, headers=[\"Name\", \"Age\", \"Occupation\"])\n",
    "\n",
    "# Print or display the table\n",
    "display(Markdown(table))\n"
   ]
  },
  {
   "cell_type": "code",
   "execution_count": 44,
   "metadata": {},
   "outputs": [
    {
     "data": {
      "image/png": "[encoded data removed]",
      "text/plain": [
       "<Figure size 640x480 with 1 Axes>"
      ]
     },
     "metadata": {},
     "output_type": "display_data"
    }
   ],
   "source": [
    "import seaborn as sns\n",
    "import matplotlib.pyplot as plt\n",
    "\n",
    "# Enable Matplotlib's built-in math rendering\n",
    "plt.rcParams['mathtext.fontset'] = 'custom'\n",
    "plt.rcParams['mathtext.rm'] = 'Bitstream Vera Sans'\n",
    "plt.rcParams['mathtext.it'] = 'Bitstream Vera Sans:italic'\n",
    "plt.rcParams['mathtext.bf'] = 'Bitstream Vera Sans:bold'\n",
    "\n",
    "# Sample data\n",
    "x = [1, 2, 3, 4]\n",
    "y = [5, 6, 7, 8]\n",
    "labels = ['Line 1', r'Line 2$_{\\text{sub}}$', 'Line 3', 'Line 4']\n",
    "\n",
    "# Create a scatter plot with multi-line labels\n",
    "plt.scatter(x, y)\n",
    "for i, label in enumerate(labels):\n",
    "    plt.text(x[i], y[i], label, fontsize=12, verticalalignment='bottom', horizontalalignment='center', multialignment='center')\n",
    "\n",
    "plt.xlabel('X-axis')\n",
    "plt.ylabel('Y-axis')\n",
    "plt.title('Scatter Plot with Multi-line Label and Subscript')\n",
    "plt.show()\n"
   ]
  },
  {
   "cell_type": "code",
   "execution_count": 42,
   "metadata": {},
   "outputs": [
    {
     "data": {
      "image/png": "[encoded data removed]",
      "text/plain": [
       "<Figure size 640x480 with 1 Axes>"
      ]
     },
     "metadata": {},
     "output_type": "display_data"
    }
   ],
   "source": [
    "import seaborn as sns\n",
    "import matplotlib.pyplot as plt\n",
    "\n",
    "# Sample data\n",
    "x = [1, 2, 3, 4]\n",
    "y = [5, 6, 7, 8]\n",
    "\n",
    "# Labels using LaTeX-style formatting\n",
    "labels = [r'$^{12}$C$^{37}$Cl$_4$', r'$^1$H$_2$O', r'$A_1$B$_2$']\n",
    "\n",
    "# Create a scatter plot with labels\n",
    "plt.scatter(x, y)\n",
    "for i, label in enumerate(labels):\n",
    "    plt.text(x[i], y[i], label, fontsize=12, verticalalignment='bottom', horizontalalignment='center', multialignment='center')\n",
    "\n",
    "plt.xlabel('X-axis')\n",
    "plt.ylabel('Y-axis')\n",
    "plt.title('Scatter Plot with LaTeX-style Labels')\n",
    "plt.show()\n"
   ]
  },
  {
   "cell_type": "code",
   "execution_count": 67,
   "metadata": {},
   "outputs": [
    {
     "data": {
      "text/markdown": [
       "$^{12}C$"
      ],
      "text/plain": [
       "<IPython.core.display.Markdown object>"
      ]
     },
     "metadata": {},
     "output_type": "display_data"
    }
   ],
   "source": [
    "from IPython.display import Markdown, Math\n",
    "\n",
    "# Define the chemical formula as a LaTeX string\n",
    "chemical_formula = \"$^{12}C$\"\n",
    "# chemical_formula = \"$x_{2}$\"\n",
    "\n",
    "# Display the chemical formula using Markdown\n",
    "display(Markdown(chemical_formula))"
   ]
  },
  {
   "cell_type": "code",
   "execution_count": 55,
   "metadata": {},
   "outputs": [
    {
     "data": {
      "text/latex": [
       "$\\displaystyle ^{12}$C$"
      ],
      "text/plain": [
       "<IPython.core.display.Math object>"
      ]
     },
     "metadata": {},
     "output_type": "display_data"
    }
   ],
   "source": [
    "display(Math(chemical_formula))"
   ]
  },
  {
   "cell_type": "code",
   "execution_count": 69,
   "metadata": {},
   "outputs": [
    {
     "data": {
      "image/png": "[encoded data removed]",
      "text/plain": [
       "<Figure size 640x480 with 1 Axes>"
      ]
     },
     "metadata": {},
     "output_type": "display_data"
    }
   ],
   "source": [
    "import matplotlib.pyplot as plt\n",
    "\n",
    "# Define a variable containing the string you want to insert\n",
    "variable_value = \"$^{12}Clamp^{13}C$\"\n",
    "\n",
    "# Create a non-LaTeX-formatted label with the variable value\n",
    "label = \"This is non-italic text with \" + variable_value\n",
    "\n",
    "# Create a sample plot\n",
    "plt.plot([1, 2, 3], [2, 4, 6])\n",
    "\n",
    "# Add the non-LaTeX-formatted label to the plot\n",
    "plt.text(1, 4, label, fontsize=12)\n",
    "\n",
    "# Show the plot\n",
    "plt.show()\n"
   ]
  },
  {
   "cell_type": "code",
   "execution_count": 71,
   "metadata": {},
   "outputs": [
    {
     "name": "stdout",
     "output_type": "stream",
     "text": [
      "This is a custom example with placeholders.\n"
     ]
    }
   ],
   "source": [
    "# Define a string with custom placeholders\n",
    "template = \"This is a {custom_placeholder} example with {another_custom}.\"\n",
    "\n",
    "# Replace custom placeholders with curly braces\n",
    "template = template.replace(\"{custom_placeholder}\", \"{}\").replace(\"{another_custom}\", \"{}\")\n",
    "\n",
    "# Use .format() with the modified template\n",
    "formatted_string = template.format(\"custom\", \"placeholders\")\n",
    "\n",
    "# Print the formatted string\n",
    "print(formatted_string)\n"
   ]
  },
  {
   "cell_type": "code",
   "execution_count": 72,
   "metadata": {},
   "outputs": [
    {
     "name": "stdout",
     "output_type": "stream",
     "text": [
      "This is a C-style example with 42.\n"
     ]
    }
   ],
   "source": [
    "# Define a string with placeholders\n",
    "template = \"This is a %s example with %d.\"\n",
    "\n",
    "# Use C-style string formatting with the % operator\n",
    "formatted_string = template % (\"C-style\", 42)\n",
    "\n",
    "# Print the formatted string\n",
    "print(formatted_string)\n"
   ]
  },
  {
   "cell_type": "code",
   "execution_count": 77,
   "metadata": {},
   "outputs": [
    {
     "name": "stdout",
     "output_type": "stream",
     "text": [
      "$^{12}C_{\\1}\\!^{\\2}C^{14}C_{3}$\n"
     ]
    },
    {
     "data": {
      "text/markdown": [
       "$^{12}C_{\\1}\\!^{\\2}C^{14}C_{3}$"
      ],
      "text/plain": [
       "<IPython.core.display.Markdown object>"
      ]
     },
     "execution_count": 77,
     "metadata": {},
     "output_type": "execute_result"
    }
   ],
   "source": [
    "import re\n",
    "\n",
    "# Define a function to insert \\! between subscripts and superscripts\n",
    "def insert_bang_between_subscripts_and_superscripts(input_string):\n",
    "    # Define a regular expression pattern to find and replace subscripts immediately followed by superscripts\n",
    "    # pattern = r'_(\\d+)\\}\\^\\{(\\d+)\\}'\n",
    "    pattern = r'_{(\\d+)}\\^{(\\d+)}'\n",
    "\n",
    "    # Define a replacement function to insert \\! between the subscript and superscript\n",
    "    def replace(match):\n",
    "        return '_{\\\\1}\\\\!^{\\\\2}'\n",
    "\n",
    "    # Use re.sub to apply the replacement function\n",
    "    modified_string = re.sub(pattern, replace, input_string)\n",
    "\n",
    "    return modified_string\n",
    "\n",
    "# Example usage\n",
    "input_string = \"$^{12}C_{2}^{13}C^{14}C_{3}$\"\n",
    "modified_string = insert_bang_between_subscripts_and_superscripts(input_string)\n",
    "print(modified_string)\n",
    "Markdown(modified_string)"
   ]
  },
  {
   "cell_type": "code",
   "execution_count": 80,
   "metadata": {},
   "outputs": [
    {
     "name": "stdout",
     "output_type": "stream",
     "text": [
      "$^{12}C_{\\1}\\!^{\\2}C^{14}C_{3}$\n"
     ]
    }
   ],
   "source": [
    "import re\n",
    "\n",
    "# Define a function to insert \\! between subscripts and superscripts\n",
    "def insert_bang_between_subscripts_and_superscripts(input_string):\n",
    "    # Define a regular expression pattern to find subscripts immediately followed by superscripts\n",
    "    pattern = r'_{(\\d+)}\\^{(\\d+)}'\n",
    "\n",
    "    # Define a replacement function to insert \\! between the subscript and superscript\n",
    "    def replace(match):\n",
    "        return '_{\\\\1}\\\\!^{\\\\2}'\n",
    "\n",
    "    # Use re.sub to apply the replacement function\n",
    "    modified_string = re.sub(pattern, replace, input_string)\n",
    "\n",
    "    return modified_string\n",
    "\n",
    "# Example usage\n",
    "input_string = \"$^{12}C_{2}^{13}C^{14}C_{3}$\"\n",
    "modified_string = insert_bang_between_subscripts_and_superscripts(input_string)\n",
    "print(modified_string)\n"
   ]
  },
  {
   "cell_type": "code",
   "execution_count": 79,
   "metadata": {},
   "outputs": [
    {
     "name": "stdout",
     "output_type": "stream",
     "text": [
      "Match found: ('3', '37')\n"
     ]
    }
   ],
   "source": [
    "import re\n",
    "\n",
    "# Define the input string\n",
    "input_string = \"This is a sample chemical formula _{3}^{37} with subscripts and superscripts.\"\n",
    "\n",
    "# Define a regular expression pattern to find subscripts immediately followed by superscripts\n",
    "pattern = r'_{(\\d+)}\\^{(\\d+)}'\n",
    "\n",
    "# Find all matches in the string\n",
    "matches = re.findall(pattern, input_string)\n",
    "\n",
    "# Iterate through the matches\n",
    "for match in matches:\n",
    "    print(\"Match found:\", match)\n"
   ]
  },
  {
   "cell_type": "code",
   "execution_count": 81,
   "metadata": {},
   "outputs": [
    {
     "name": "stdout",
     "output_type": "stream",
     "text": [
      "This is my string\\\n"
     ]
    }
   ],
   "source": [
    "# Define a string\n",
    "my_string = \"This is my string\"\n",
    "\n",
    "# Add a backslash using its character code\n",
    "my_string += chr(92)\n",
    "\n",
    "# Print the modified string\n",
    "print(my_string)\n"
   ]
  },
  {
   "cell_type": "code",
   "execution_count": 93,
   "metadata": {},
   "outputs": [],
   "source": [
    "def smiles_to_formatted_formula(smiles, isotopes=False):\n",
    "    mol = Chem.MolFromSmiles(smiles)\n",
    "    if mol is not None:\n",
    "        comp = composition(mol, isotopes)\n",
    "\n",
    "        formula = {'markdown': \"\", 'dollar_math': \"\", 'latex': \"\"}\n",
    "\n",
    "        if isotopes:\n",
    "            isotopes_dict = defaultdict(lambda: defaultdict(str))\n",
    "            subscripts = defaultdict(lambda: defaultdict(int))\n",
    "            superscripts = defaultdict(list)\n",
    "\n",
    "            for element, counts in comp.items():\n",
    "                for isotope, count in counts.items():\n",
    "                    if count > 1:\n",
    "                        subscripts[element][isotope] = count\n",
    "                    if isotope != 0:\n",
    "                        superscripts[element].append(isotope)\n",
    "\n",
    "                    isotopes_dict[element][isotope] = 1\n",
    "                # Sort the element's isotopes from lowest to highest\n",
    "                superscripts[element].sort()\n",
    "\n",
    "            last_item_is_subscript = False\n",
    "            sorted_element_keys = sorted(isotopes_dict.keys())\n",
    "            for element in sorted_element_keys:\n",
    "                isotope_count_pairs = isotopes_dict[element]\n",
    "                # Sort the element's isotopes from lowest to highest\n",
    "                sorted_isotope_keys = sorted(isotope_count_pairs.keys())\n",
    "                for isotope in sorted_isotope_keys:\n",
    "                    if element in superscripts:\n",
    "                        if isotope in superscripts[element]:\n",
    "                            formula[\"markdown\"] += f\"<sup>{isotope}</sup>\"\n",
    "                            formula[\"dollar_math\"] += r\"$^{{{}}}$\".format(isotope)\n",
    "                            # If superscript immediately follows subscript, \n",
    "                            # add space to prevent them from vertically overlapping\n",
    "                            if last_item_is_subscript:\n",
    "                                formula[\"latex\"] += \"~\"  # Escape the backslash\n",
    "                            formula[\"latex\"] += \"^{{{}}}\".format(isotope)\n",
    "                            last_item_is_subscript = False\n",
    "                    formula[\"markdown\"] += element\n",
    "                    formula[\"dollar_math\"] += r\"{}\".format(element)\n",
    "                    formula[\"latex\"] += element\n",
    "                    last_item_is_subscript = False\n",
    "                    if element in subscripts:\n",
    "                        if isotope in subscripts[element]:\n",
    "                            for isotope, isotope_count in subscripts[element].items():\n",
    "                                formula[\"markdown\"] += f\"<sub>{isotope_count}</sub>\"\n",
    "                                formula[\"dollar_math\"] += r\"$_{{{}}}$\".format(isotope_count)\n",
    "                                formula[\"latex\"] += \"_{{{}}}\".format(isotope_count)\n",
    "                        last_item_is_subscript = True\n",
    "            formula[\"latex\"] = \"$\" + formula[\"latex\"] + \"$\"\n",
    "        else:\n",
    "            # Handling the case when isotopes is False\n",
    "            sorted_element_keys = sorted(comp.keys())\n",
    "\n",
    "            for element in sorted_element_keys:\n",
    "                count = comp[element]\n",
    "                formula[\"markdown\"] += element\n",
    "                formula[\"dollar_math\"] += r\"{}\".format(element)\n",
    "                formula[\"latex\"] += element\n",
    "                if count > 1:\n",
    "                    formula[\"markdown\"] += f\"<sub>{count}</sub>\"\n",
    "                    formula[\"dollar_math\"] += r\"$_{{{}}}$\".format(count)\n",
    "                    formula[\"latex\"] += \"_{{{}}}\".format(count)\n",
    "            formula[\"latex\"] = \"$\" + formula[\"latex\"] + \"$\"\n",
    "\n",
    "        return formula\n",
    "    else:\n",
    "        return \"Invalid SMILES\"\n"
   ]
  },
  {
   "cell_type": "code",
   "execution_count": 94,
   "metadata": {},
   "outputs": [
    {
     "name": "stdout",
     "output_type": "stream",
     "text": [
      "$C_{2}~^{16}O$\n",
      "{'markdown': 'C<sub>2</sub><sup>16</sup>O', 'dollar_math': 'C$_{2}$$^{16}$O', 'latex': '$C_{2}~^{16}O$'}\n"
     ]
    },
    {
     "data": {
      "text/markdown": [
       "$C_{2}~^{16}O$"
      ],
      "text/plain": [
       "<IPython.core.display.Markdown object>"
      ]
     },
     "execution_count": 94,
     "metadata": {},
     "output_type": "execute_result"
    }
   ],
   "source": [
    "isotope_formula = smiles_to_formatted_formula(\"CC[16O]\", isotopes=True)\n",
    "print(isotope_formula[\"latex\"])\n",
    "print(isotope_formula)\n",
    "Markdown(isotope_formula[\"latex\"])"
   ]
  },
  {
   "cell_type": "code",
   "execution_count": 109,
   "metadata": {},
   "outputs": [
    {
     "data": {
      "text/plain": [
       "''"
      ]
     },
     "execution_count": 109,
     "metadata": {},
     "output_type": "execute_result"
    }
   ],
   "source": [
    "from chemparse import parse_formula\n",
    "def convert_smiles_to_formula(smiles):\n",
    "    parsed_formula = parse_formula(smiles)\n",
    "\n",
    "    elements = {}\n",
    "    subscripts = {}\n",
    "    superscripts = {}\n",
    "\n",
    "    for element, count in parsed_formula.items():\n",
    "        element_symbol = element\n",
    "        element_isotope = element.isotope\n",
    "\n",
    "        if count > 1:\n",
    "            subscripts[element_symbol] = count\n",
    "\n",
    "        if element_isotope is not None:\n",
    "            superscripts[element_symbol] = element_isotope\n",
    "\n",
    "        if element_symbol not in elements:\n",
    "            elements[element_symbol] = 1\n",
    "        else:\n",
    "            elements[element_symbol] += 1\n",
    "\n",
    "    formula = \"\"\n",
    "    for element, count in elements.items():\n",
    "        formula += element\n",
    "        if element in subscripts:\n",
    "            formula += str(subscripts[element])\n",
    "        if element in superscripts:\n",
    "            formula += f\"[{superscripts[element]}]\"\n",
    "        if count > 1:\n",
    "            formula += str(count)\n",
    "\n",
    "    return formula\n",
    "\n",
    "# Example usage\n",
    "smiles = \"[13C]C[18O]\"\n",
    "formula = convert_smiles_to_formula(smiles)\n",
    "formula\n"
   ]
  },
  {
   "cell_type": "code",
   "execution_count": null,
   "metadata": {},
   "outputs": [],
   "source": []
  }
 ],
 "metadata": {
  "kernelspec": {
   "display_name": "venv",
   "language": "python",
   "name": "python3"
  },
  "language_info": {
   "codemirror_mode": {
    "name": "ipython",
    "version": 3
   },
   "file_extension": ".py",
   "mimetype": "text/x-python",
   "name": "python",
   "nbconvert_exporter": "python",
   "pygments_lexer": "ipython3",
   "version": "3.11.0"
  },
  "orig_nbformat": 4
 },
 "nbformat": 4,
 "nbformat_minor": 2
}
