{
 "cells": [
  {
   "cell_type": "code",
   "execution_count": 26,
   "metadata": {},
   "outputs": [
    {
     "data": {
      "text/markdown": [
       "C<sup>12</sup>C<sup>13</sup>C<sub>2</sub>O<sup>16</sup>O<sup>18</sup>O<sub>2</sub>"
      ],
      "text/plain": [
       "<IPython.core.display.Markdown object>"
      ]
     },
     "metadata": {},
     "output_type": "display_data"
    }
   ],
   "source": [
    "from collections import defaultdict\n",
    "from rdkit import Chem\n",
    "from IPython.display import display, Markdown\n",
    "\n",
    "def composition(molecule, isotopes=False):\n",
    "    if molecule:\n",
    "        Chem.AddHs(molecule)\n",
    "        comp = defaultdict(lambda: 0)\n",
    "        for atom in molecule.GetAtoms():\n",
    "            element_symbol = atom.GetSymbol()\n",
    "            if not isotopes:\n",
    "                comp[element_symbol] += 1\n",
    "            else:\n",
    "                isotope = atom.GetIsotope()\n",
    "                try:\n",
    "                    comp[element_symbol][isotope] += 1\n",
    "                except:\n",
    "                    comp[element_symbol] = defaultdict(lambda: 0)\n",
    "                    comp[element_symbol][isotope] += 1\n",
    "        return comp\n",
    "\n",
    "def convert_smiles_to_markdown_formula(smiles, isotopes=False):\n",
    "    mol = Chem.MolFromSmiles(smiles)\n",
    "    if mol is not None:\n",
    "        comp = composition(mol, isotopes)\n",
    "\n",
    "        isotopes = defaultdict(lambda: defaultdict(str))\n",
    "        subscripts = defaultdict(lambda: defaultdict(int))\n",
    "        superscripts = defaultdict(list)\n",
    "\n",
    "        for element, counts in comp.items():\n",
    "            for isotope, count in counts.items():\n",
    "                if count > 1:\n",
    "                    subscripts[element][isotope] = count\n",
    "                if isotope != 0:\n",
    "                    superscripts[element].append(isotope)\n",
    "\n",
    "                isotopes[element][isotope] = 1\n",
    "            superscripts[element].sort()\n",
    "\n",
    "        formula = \"\"\n",
    "        for element, isotope_count_pairs in isotopes.items():\n",
    "            sorted_keys = sorted(isotope_count_pairs.keys())\n",
    "            for isotope in sorted_keys:\n",
    "                if element in superscripts:\n",
    "                    if isotope in superscripts[element]:\n",
    "                        formula += f\"<sup>{isotope}</sup>\"\n",
    "                formula += element\n",
    "                if element in subscripts:\n",
    "                    if isotope in subscripts[element]:\n",
    "                        for isotope, isotope_count in subscripts[element].items():\n",
    "                            formula += f\"<sub>{isotope_count}</sub>\"\n",
    "        display(Markdown(formula))\n",
    "    else:\n",
    "        return \"Invalid SMILES\"\n",
    "\n",
    "# Example usage\n",
    "smiles = \"[13C]C[13C][18O]O[18O][16O][12C]\"\n",
    "convert_smiles_to_markdown_formula(smiles, isotopes=True)\n"
   ]
  }
 ],
 "metadata": {
  "kernelspec": {
   "display_name": "venv",
   "language": "python",
   "name": "python3"
  },
  "language_info": {
   "codemirror_mode": {
    "name": "ipython",
    "version": 3
   },
   "file_extension": ".py",
   "mimetype": "text/x-python",
   "name": "python",
   "nbconvert_exporter": "python",
   "pygments_lexer": "ipython3",
   "version": "3.11.0"
  },
  "orig_nbformat": 4
 },
 "nbformat": 4,
 "nbformat_minor": 2
}
