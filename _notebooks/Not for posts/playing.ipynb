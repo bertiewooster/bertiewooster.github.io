{
 "cells": [
  {
   "cell_type": "code",
   "execution_count": 3,
   "metadata": {},
   "outputs": [
    {
     "name": "stdout",
     "output_type": "stream",
     "text": [
      "shape: (5, 1)\n",
      "┌───────────┐\n",
      "│ group     │\n",
      "│ ---       │\n",
      "│ struct[2] │\n",
      "╞═══════════╡\n",
      "│ {\"A\",10}  │\n",
      "│ {\"B\",20}  │\n",
      "│ {\"A\",15}  │\n",
      "│ {\"B\",25}  │\n",
      "│ {\"C\",5}   │\n",
      "└───────────┘\n",
      "<polars.dataframe.group_by.GroupBy object at 0x114f20510>\n"
     ]
    }
   ],
   "source": [
    "import polars as pl\n",
    "\n",
    "# Create a sample Polars DataFrame with a column containing dictionaries\n",
    "data = {\n",
    "    \"group\": [\n",
    "        {\"category\": \"A\", \"value\": 10},\n",
    "        {\"category\": \"B\", \"value\": 20},\n",
    "        {\"category\": \"A\", \"value\": 15},\n",
    "        {\"category\": \"B\", \"value\": 25},\n",
    "        {\"category\": \"C\", \"value\": 5},\n",
    "    ]\n",
    "}\n",
    "\n",
    "df = pl.DataFrame(data)\n",
    "print(df)\n",
    "\n",
    "# Group by the 'group' column and perform aggregation\n",
    "agg_df = df.group_by(\"group\")\n",
    "\n",
    "# Show the aggregated DataFrame\n",
    "print(agg_df)\n"
   ]
  },
  {
   "cell_type": "code",
   "execution_count": 6,
   "metadata": {},
   "outputs": [
    {
     "name": "stdout",
     "output_type": "stream",
     "text": [
      "shape: (5, 2)\n",
      "┌───────────┬───────────┐\n",
      "│ group     ┆ abundance │\n",
      "│ ---       ┆ ---       │\n",
      "│ struct[2] ┆ i64       │\n",
      "╞═══════════╪═══════════╡\n",
      "│ {\"A\",10}  ┆ 100       │\n",
      "│ {\"B\",20}  ┆ 200       │\n",
      "│ {\"A\",10}  ┆ 150       │\n",
      "│ {\"B\",25}  ┆ 250       │\n",
      "│ {\"C\",5}   ┆ 50        │\n",
      "└───────────┴───────────┘\n",
      "shape: (4, 2)\n",
      "┌───────────┬─────────────────┐\n",
      "│ group     ┆ total_abundance │\n",
      "│ ---       ┆ ---             │\n",
      "│ struct[2] ┆ i64             │\n",
      "╞═══════════╪═════════════════╡\n",
      "│ {\"B\",20}  ┆ 200             │\n",
      "│ {\"A\",10}  ┆ 250             │\n",
      "│ {\"C\",5}   ┆ 50              │\n",
      "│ {\"B\",25}  ┆ 250             │\n",
      "└───────────┴─────────────────┘\n"
     ]
    },
    {
     "name": "stderr",
     "output_type": "stream",
     "text": [
      "/var/folders/9w/cn8tqbv976gckxd0c9cbr1sw0000gn/T/ipykernel_88911/2677954702.py:18: DeprecationWarning: `groupby` is deprecated. It has been renamed to `group_by`.\n",
      "  agg_df = df.groupby(\"group\").agg(\n"
     ]
    }
   ],
   "source": [
    "import polars as pl\n",
    "\n",
    "# Create a sample Polars DataFrame with a column containing dictionaries and an \"abundance\" column\n",
    "data = {\n",
    "    \"group\": [\n",
    "        {\"category\": \"A\", \"value\": 10},\n",
    "        {\"category\": \"B\", \"value\": 20},\n",
    "        {\"category\": \"A\", \"value\": 10},\n",
    "        {\"category\": \"B\", \"value\": 25},\n",
    "        {\"category\": \"C\", \"value\": 5},\n",
    "    ],\n",
    "    \"abundance\": [100, 200, 150, 250, 50],\n",
    "}\n",
    "\n",
    "df = pl.DataFrame(data)\n",
    "print(df)\n",
    "# Group by the 'group' column and perform aggregations on 'value' and 'abundance'\n",
    "agg_df = df.groupby(\"group\").agg(\n",
    "    # pl.sum(\"group.value\").alias(\"total_value\"),\n",
    "    pl.sum(\"abundance\").alias(\"total_abundance\")\n",
    ")\n",
    "\n",
    "# Show the aggregated DataFrame\n",
    "print(agg_df)\n"
   ]
  },
  {
   "cell_type": "code",
   "execution_count": 13,
   "metadata": {},
   "outputs": [
    {
     "name": "stdout",
     "output_type": "stream",
     "text": [
      "my_dict 6366030fcfbc5e29da7855c8a2c2c0c48670a1cc067d7dbeb1481865105f9515\n",
      "my_dict_same 6366030fcfbc5e29da7855c8a2c2c0c48670a1cc067d7dbeb1481865105f9515\n",
      "my_dict_diff_val_key1 cb6658aba52d31161be15f48cab3694efa9ad9d94b92051e4a5ea62bcfe75236\n",
      "my_dict_diff_key_key1 d869caa4c5b91838c00a8e12dba14c83b9cbb70860593f8fb15e857bea2752ff\n"
     ]
    }
   ],
   "source": [
    "import hashlib\n",
    "import json\n",
    "\n",
    "my_dict = {'key1': 'value1', 'key2': 'value2'}\n",
    "my_dict_same = {'key1': 'value1', 'key2': 'value2'}\n",
    "my_dict_diff_val_key1 = {'key1': 'value2', 'key2': 'value2'}\n",
    "my_dict_diff_key_key1 = {'key1a': 'value2', 'key2': 'value2'}\n",
    "\n",
    "dicts = {\"my_dict\": my_dict, \"my_dict_same\": my_dict_same, \"my_dict_diff_val_key1\": my_dict_diff_val_key1, \"my_dict_diff_key_key1\": my_dict_diff_key_key1}\n",
    "\n",
    "# Convert the dictionary to a JSON string and then hash it\n",
    "dicts_hashed = []\n",
    "for name, dict in dicts.items():\n",
    "    # json_str = json.dumps(dict, sort_keys=True)\n",
    "    # hashed_value = hashlib.sha256(json_str.encode()).hexdigest()\n",
    "    hashed_value = hash_dict(dict)\n",
    "    print(f\"{name} {hashed_value}\")"
   ]
  },
  {
   "cell_type": "code",
   "execution_count": 12,
   "metadata": {},
   "outputs": [],
   "source": [
    "def hash_dict(dict):\n",
    "    json_str = json.dumps(dict, sort_keys=True)\n",
    "    hashed_value = hashlib.sha256(json_str.encode()).hexdigest()\n",
    "    return hashed_value"
   ]
  },
  {
   "cell_type": "code",
   "execution_count": 17,
   "metadata": {},
   "outputs": [
    {
     "name": "stdout",
     "output_type": "stream",
     "text": [
      "{\"key1\": \"value1\", \"key2\": {\"key3\": \"value3\", \"key4\": [1, 2, 3]}}\n",
      "Hash of nested_dict:  57555074be317f8e1f3b7f266d0b28bab5cb21736f39d5956469c4ed422dd193\n",
      "{\"key1\": \"value2\", \"key2\": {\"key3\": \"value3\", \"key4\": [1, 2, 3]}}\n",
      "Hash of nested_dict2: 6dd89a16783c1f454fd303e18d57f28ae5fb175848e5990d03d3f1cd6661a7ba\n"
     ]
    }
   ],
   "source": [
    "import hashlib\n",
    "import json\n",
    "\n",
    "def hash_nested_dict(d):\n",
    "    # Convert the nested dictionary to a JSON string with sorted keys\n",
    "    json_str = json.dumps(d, sort_keys=True)\n",
    "    print(json_str)\n",
    "\n",
    "    # Hash the JSON string using a cryptographic hash function (e.g., SHA-256)\n",
    "    hash_obj = hashlib.sha256()\n",
    "    hash_obj.update(json_str.encode())\n",
    "    return hash_obj.hexdigest()\n",
    "\n",
    "# Example nested dictionary\n",
    "nested_dict = {\n",
    "    'key1': 'value1',\n",
    "    'key2': {\n",
    "        'key3': 'value3',\n",
    "        'key4': [1, 2, 3]\n",
    "    }\n",
    "}\n",
    "\n",
    "nested_dict2 = {\n",
    "    'key1': 'value2',\n",
    "    'key2': {\n",
    "        'key3': 'value3',\n",
    "        'key4': [1, 2, 3]\n",
    "    }\n",
    "}\n",
    "\n",
    "# Calculate the hash of the nested dictionary\n",
    "print(\"Hash of nested_dict: \", hash_nested_dict(nested_dict))\n",
    "print(\"Hash of nested_dict2:\", hash_nested_dict(nested_dict2))\n"
   ]
  },
  {
   "cell_type": "code",
   "execution_count": 4,
   "metadata": {},
   "outputs": [
    {
     "data": {
      "image/png": "[encoded data removed]",
      "text/plain": [
       "<Figure size 640x480 with 1 Axes>"
      ]
     },
     "metadata": {},
     "output_type": "display_data"
    }
   ],
   "source": [
    "import seaborn as sns\n",
    "import matplotlib.pyplot as plt\n",
    "\n",
    "# Enable Matplotlib's built-in math rendering\n",
    "plt.rcParams['mathtext.fontset'] = 'custom'\n",
    "plt.rcParams['mathtext.rm'] = 'Bitstream Vera Sans'\n",
    "plt.rcParams['mathtext.it'] = 'Bitstream Vera Sans'\n",
    "plt.rcParams['mathtext.bf'] = 'Bitstream Vera Sans:bold'\n",
    "\n",
    "# Sample data\n",
    "x = [1, 2, 3, 4]\n",
    "y = [5, 6, 7, 8]\n",
    "labels = ['$Label_2$', '$Label_{sub}$', '$Label_i$', '$Label_j$']\n",
    "\n",
    "# Create a scatter plot with labels containing subscripts\n",
    "plt.scatter(x, y)\n",
    "for i, label in enumerate(labels):\n",
    "    plt.text(x[i], y[i], label, fontsize=12)\n",
    "\n",
    "plt.xlabel('X-axis')\n",
    "plt.ylabel('Y-axis')\n",
    "plt.title('Scatter Plot with Subscript Labels')\n",
    "plt.show()\n"
   ]
  },
  {
   "cell_type": "code",
   "execution_count": null,
   "metadata": {},
   "outputs": [],
   "source": []
  }
 ],
 "metadata": {
  "kernelspec": {
   "display_name": "venv",
   "language": "python",
   "name": "python3"
  },
  "language_info": {
   "codemirror_mode": {
    "name": "ipython",
    "version": 3
   },
   "file_extension": ".py",
   "mimetype": "text/x-python",
   "name": "python",
   "nbconvert_exporter": "python",
   "pygments_lexer": "ipython3",
   "version": "3.11.0"
  },
  "orig_nbformat": 4
 },
 "nbformat": 4,
 "nbformat_minor": 2
}
