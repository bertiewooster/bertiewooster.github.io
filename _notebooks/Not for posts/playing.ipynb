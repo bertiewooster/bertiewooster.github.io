{
 "cells": [
  {
   "cell_type": "code",
   "execution_count": 3,
   "metadata": {},
   "outputs": [
    {
     "name": "stdout",
     "output_type": "stream",
     "text": [
      "shape: (5, 1)\n",
      "┌───────────┐\n",
      "│ group     │\n",
      "│ ---       │\n",
      "│ struct[2] │\n",
      "╞═══════════╡\n",
      "│ {\"A\",10}  │\n",
      "│ {\"B\",20}  │\n",
      "│ {\"A\",15}  │\n",
      "│ {\"B\",25}  │\n",
      "│ {\"C\",5}   │\n",
      "└───────────┘\n",
      "<polars.dataframe.group_by.GroupBy object at 0x114f20510>\n"
     ]
    }
   ],
   "source": [
    "import polars as pl\n",
    "\n",
    "# Create a sample Polars DataFrame with a column containing dictionaries\n",
    "data = {\n",
    "    \"group\": [\n",
    "        {\"category\": \"A\", \"value\": 10},\n",
    "        {\"category\": \"B\", \"value\": 20},\n",
    "        {\"category\": \"A\", \"value\": 15},\n",
    "        {\"category\": \"B\", \"value\": 25},\n",
    "        {\"category\": \"C\", \"value\": 5},\n",
    "    ]\n",
    "}\n",
    "\n",
    "df = pl.DataFrame(data)\n",
    "print(df)\n",
    "\n",
    "# Group by the 'group' column and perform aggregation\n",
    "agg_df = df.group_by(\"group\")\n",
    "\n",
    "# Show the aggregated DataFrame\n",
    "print(agg_df)\n"
   ]
  },
  {
   "cell_type": "code",
   "execution_count": 6,
   "metadata": {},
   "outputs": [
    {
     "name": "stdout",
     "output_type": "stream",
     "text": [
      "shape: (5, 2)\n",
      "┌───────────┬───────────┐\n",
      "│ group     ┆ abundance │\n",
      "│ ---       ┆ ---       │\n",
      "│ struct[2] ┆ i64       │\n",
      "╞═══════════╪═══════════╡\n",
      "│ {\"A\",10}  ┆ 100       │\n",
      "│ {\"B\",20}  ┆ 200       │\n",
      "│ {\"A\",10}  ┆ 150       │\n",
      "│ {\"B\",25}  ┆ 250       │\n",
      "│ {\"C\",5}   ┆ 50        │\n",
      "└───────────┴───────────┘\n",
      "shape: (4, 2)\n",
      "┌───────────┬─────────────────┐\n",
      "│ group     ┆ total_abundance │\n",
      "│ ---       ┆ ---             │\n",
      "│ struct[2] ┆ i64             │\n",
      "╞═══════════╪═════════════════╡\n",
      "│ {\"B\",20}  ┆ 200             │\n",
      "│ {\"A\",10}  ┆ 250             │\n",
      "│ {\"C\",5}   ┆ 50              │\n",
      "│ {\"B\",25}  ┆ 250             │\n",
      "└───────────┴─────────────────┘\n"
     ]
    },
    {
     "name": "stderr",
     "output_type": "stream",
     "text": [
      "/var/folders/9w/cn8tqbv976gckxd0c9cbr1sw0000gn/T/ipykernel_88911/2677954702.py:18: DeprecationWarning: `groupby` is deprecated. It has been renamed to `group_by`.\n",
      "  agg_df = df.groupby(\"group\").agg(\n"
     ]
    }
   ],
   "source": [
    "import polars as pl\n",
    "\n",
    "# Create a sample Polars DataFrame with a column containing dictionaries and an \"abundance\" column\n",
    "data = {\n",
    "    \"group\": [\n",
    "        {\"category\": \"A\", \"value\": 10},\n",
    "        {\"category\": \"B\", \"value\": 20},\n",
    "        {\"category\": \"A\", \"value\": 10},\n",
    "        {\"category\": \"B\", \"value\": 25},\n",
    "        {\"category\": \"C\", \"value\": 5},\n",
    "    ],\n",
    "    \"abundance\": [100, 200, 150, 250, 50],\n",
    "}\n",
    "\n",
    "df = pl.DataFrame(data)\n",
    "print(df)\n",
    "# Group by the 'group' column and perform aggregations on 'value' and 'abundance'\n",
    "agg_df = df.groupby(\"group\").agg(\n",
    "    # pl.sum(\"group.value\").alias(\"total_value\"),\n",
    "    pl.sum(\"abundance\").alias(\"total_abundance\")\n",
    ")\n",
    "\n",
    "# Show the aggregated DataFrame\n",
    "print(agg_df)\n"
   ]
  },
  {
   "cell_type": "code",
   "execution_count": null,
   "metadata": {},
   "outputs": [],
   "source": []
  }
 ],
 "metadata": {
  "kernelspec": {
   "display_name": "venv",
   "language": "python",
   "name": "python3"
  },
  "language_info": {
   "codemirror_mode": {
    "name": "ipython",
    "version": 3
   },
   "file_extension": ".py",
   "mimetype": "text/x-python",
   "name": "python",
   "nbconvert_exporter": "python",
   "pygments_lexer": "ipython3",
   "version": "3.11.0"
  },
  "orig_nbformat": 4
 },
 "nbformat": 4,
 "nbformat_minor": 2
}
