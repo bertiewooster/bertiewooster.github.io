{
 "cells": [
  {
   "cell_type": "markdown",
   "metadata": {},
   "source": [
    "# Simplifying plotting rows and columns of molecules with MolsMatrixToGridImage"
   ]
  },
  {
   "cell_type": "markdown",
   "metadata": {},
   "source": [
    "The RDKit 2023-09-01 release includes my contribution [`MolsMatrixToGridImage()`](***), which builds on [`MolsToGridImage()`](https://www.rdkit.org/docs/source/rdkit.Chem.Draw.html#rdkit.Chem.Draw.MolsToGridImage) to let you easily plot rows and columns of molecules. It's a helpful function when each row has some meaning, for example a target molecule you want to synthesize or a level of fragmentation for retrosynthesis or mass spectrometry. You can learn more about [`MolsMatrixToGridImage()` in my blog post on the RDKit blog](***)."
   ]
  },
  {
   "cell_type": "markdown",
   "metadata": {},
   "source": [
    "I contributed `MolsMatrixToGridImage()` because I found myself writing code to plot rows and columns of molecules for multiple blog posts. Matrices (for example, nested lists) were \n",
    "a logical data structure for those molecules, yet the existing function `MolsMatrixToGridImage()` required flat (non-nested) data structures. So the code in those blog posts of mine can be simplified if `MolsMatrixToGridImage()` is available in the version of RDKit you're using. Here are links to the updated version of each blog post:\n",
    "- [RDKit Utility to Check Whether Starting Materials for Synthesizing Your Target Molecules Are Commercially Available]({% post_url 2023-02-07-Are-the-Starting-Materials-for-Synthesizing-Your-Target-Molecules-Commercially-Available %})\n",
    "- [RDKit Utility to Create a Mass Spectrometry Fragmentation Tree]({% post_url 2023-01-02-Mass-Spectrometry-Fragmentation-Tree %})\n",
    "- [RDKit Utility to Find the Maximum Common Substructure, and Groups Off It, Between a Set of Molecules]({% post_url 2022-12-25-RDKit-Find-Groups-Off-Common-Core %})\n",
    "- [RDKit Utility to Visualize Retrosynthetic Analysis Hierarchically]({% post_url 2022-11-11-RDKit-Recap-decomposition-tree %})"
   ]
  }
 ],
 "metadata": {
  "kernelspec": {
   "display_name": "my-rdkit-env",
   "language": "python",
   "name": "python3"
  },
  "language_info": {
   "codemirror_mode": {
    "name": "ipython",
    "version": 3
   },
   "file_extension": ".py",
   "mimetype": "text/x-python",
   "name": "python",
   "nbconvert_exporter": "python",
   "pygments_lexer": "ipython3",
   "version": "3.11.6"
  },
  "orig_nbformat": 4
 },
 "nbformat": 4,
 "nbformat_minor": 2
}
