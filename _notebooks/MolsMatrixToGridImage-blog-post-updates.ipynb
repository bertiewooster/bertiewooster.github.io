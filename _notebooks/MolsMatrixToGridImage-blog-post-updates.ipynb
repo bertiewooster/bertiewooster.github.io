{
 "cells": [
  {
   "cell_type": "markdown",
   "metadata": {},
   "source": [
    "# MolsMatrixToGridImage Simplifies Code"
   ]
  },
  {
   "cell_type": "markdown",
   "metadata": {},
   "source": [
    "I [contributed MolsMatrixToGridImage](https://greglandrum.github.io/rdkit-blog/posts/2023-10-25-molsmatrixtogridimage.html) to the RDKit 2023.09.1 release because I found myself writing similar code over and over to draw row-and-column grids of molecules. For projects where each row represented something, such as a molecule and the fragments off a common core, my mental model corresponded to a two-dimensional (nested) data structure, whereas the pre-existing function [MolsToGridImage](https://www.rdkit.org/docs/source/rdkit.Chem.Draw.html#rdkit.Chem.Draw.MolsToGridImage) supported only linear (flat) data structures."
   ]
  },
  {
   "cell_type": "markdown",
   "metadata": {},
   "source": [
    "Using [MolsMatrixToGridImage](https://www.rdkit.org/docs/source/rdkit.Chem.Draw.html#rdkit.Chem.Draw.MolsMatrixToGridImage) can save a considerable amount of code. The most extreme example is from my post [Are the Starting Materials for Synthesizing Your Target Molecules Commercially Available?]({% post_url 2023-02-07-Are-the-Starting-Materials-for-Synthesizing-Your-Target-Molecules-Commercially-Available %}). Using MolsMatrixToGridImage requires only one line of code:"
   ]
  },
  {
   "cell_type": "markdown",
   "metadata": {},
   "source": [
    "        dwg = Draw.MolsMatrixToGridImage(molsMatrix=mols_2D, legendsMatrix=legends_2D)"
   ]
  },
  {
   "cell_type": "markdown",
   "metadata": {},
   "source": [
    "whereas using MolsToGridImage requires 19 logical lines of code (LLOC) with a total of 45 lines of code (LOC) including three utility functions:"
   ]
  },
  {
   "cell_type": "markdown",
   "metadata": {},
   "source": [
    "        # Create null molecule (has no atoms) as filler for empty molecule cells in molecular grid plot of results\n",
    "        null_mol = Chem.MolFromSmiles(\"\")\n",
    "        pad_rows(mols_2D, longest_row(mols_2D), filler=null_mol)\n",
    "        pad_rows(legends_2D, longest_row(mols_2D))\n",
    "\n",
    "        mols = flatten_twoD_list(mols_2D)\n",
    "        legends = flatten_twoD_list(legends_2D)\n",
    "\n",
    "        dwg = Draw.MolsToGridImage(mols=mols, legends=legends, molsPerRow=len(mols_2D[0]))\n",
    "\n",
    "    def flatten_twoD_list(twoD_list: list[list]) -> list:\n",
    "        \"\"\"\n",
    "        Flatten a 2D (nested) list into a 1D (non-nested) list\n",
    "\n",
    "        :param twoD_list: The 2D list, e.g. [[a], [b, c]]\n",
    "        :returns: 1D list, e.g. [a, b, c]\n",
    "        \"\"\"\n",
    "        flat_list = []\n",
    "        for row in twoD_list:\n",
    "            for item in row:\n",
    "                flat_list += [item]\n",
    "        return flat_list\n",
    "\n",
    "    def longest_row(twoD_list: list[list]) -> int:\n",
    "        \"\"\"\n",
    "        Find the longest row (sublist) a 2D (nested) list\n",
    "\n",
    "        :param twoD_list: The 2D list, e.g. [[a], [b, c]]\n",
    "        :returns: Length of the longest row, e.g. 2\n",
    "        \"\"\"\n",
    "        return max(len(row) for row in twoD_list)\n",
    "\n",
    "    def pad_rows(twoD_list: list[list], row_length: int, filler = \"\") -> list[list]:\n",
    "        \"\"\"\n",
    "        Pad each row (sublist) in a 2D (nested) list to a given length\n",
    "\n",
    "        :param twoD_list: The 2D list, e.g. [[a], [b, c]]\n",
    "        :param row_length: The length to pad to, e.g. 3\n",
    "        :param filler: The sublist element to pad with, e.g. p\n",
    "        :returns: Padded 2D list, e.g. [[a, p, p], [b, c, p]]\n",
    "        \"\"\"\n",
    "        for row in twoD_list:\n",
    "            padding = row_length - len(row)\n",
    "            row += [filler] * padding\n",
    "        return twoD_list\n"
   ]
  },
  {
   "cell_type": "markdown",
   "metadata": {},
   "source": [
    "I refactored four blog posts that used `MolsToGridImage` to use `MolsMatrixToGridImage` if available in the current Python environment, that is if you have the RDKit 2023.09.1 or later:\n",
    "- [Are the Starting Materials for Synthesizing Your Target Molecules Commercially Available?]({% post_url 2023-02-07-Are-the-Starting-Materials-for-Synthesizing-Your-Target-Molecules-Commercially-Available %})\n",
    "- [Draw a Mass Spectrometry Fragmentation Tree Using RDKit]({% post_url 2023-01-02-Mass-Spectrometry-Fragmentation-Tree %})\n",
    "- [Find the Maximum Common Substructure, and Groups Off It, For a Set of Molecules Using RDKit]({% post_url 2022-12-25-RDKit-Find-Groups-Off-Common-Core %})\n",
    "- [RDKit Utility to Visualize Retrosynthetic Analysis Hierarchically]({% post_url 2022-11-11-RDKit-Recap-decomposition-tree %})"
   ]
  }
 ],
 "metadata": {
  "kernelspec": {
   "display_name": "venv",
   "language": "python",
   "name": "python3"
  },
  "language_info": {
   "codemirror_mode": {
    "name": "ipython",
    "version": 3
   },
   "file_extension": ".py",
   "mimetype": "text/x-python",
   "name": "python",
   "nbconvert_exporter": "python",
   "pygments_lexer": "ipython3",
   "version": "3.11.0"
  }
 },
 "nbformat": 4,
 "nbformat_minor": 2
}
