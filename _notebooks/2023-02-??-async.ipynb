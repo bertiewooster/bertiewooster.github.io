{
 "cells": [
  {
   "attachments": {},
   "cell_type": "markdown",
   "metadata": {},
   "source": [
    "# Are the Starting Materials for Synthesizing Your Target Molecules Commercially Available?"
   ]
  },
  {
   "attachments": {},
   "cell_type": "markdown",
   "metadata": {},
   "source": [
    "*** Todo:\n",
    "- Use asyncio.TaskGroup instead of asyncio.gather? Per \"Note: A more modern way to create and run tasks concurrently and wait for their completion is [asyncio.TaskGroup](https://docs.python.org/3/library/asyncio-task.html#asyncio.TaskGroup).\"\n",
    "- Limit API calls in parallel to 2 molecules at a time, to stay under PubChem limit of 5 per second"
   ]
  },
  {
   "attachments": {},
   "cell_type": "markdown",
   "metadata": {},
   "source": [
    "This utility reports whether the starting materials are commercially available for a set of synthesis targets given reactions. You give it your synthesis targets and the reaction to create each, it determines the starting materials, checks whether they are commercially available, and tells you whether each target is accessible--whether all its starting materials are commercially available.\n",
    "\n",
    "Modern pharmaceutical and materials chemistry involves screening many candidate compounds. While much can now be done *in silico* (on a computer), promising compounds still need to be synthesized. [Divergent synthesis](https://en.wikipedia.org/wiki/Divergent_synthesis) can create a library of related compounds. One approach is to start with a diversity of commercially-available molecules, run the same reaction on them using the same co-reactant(s), and produce a diversity of target molecules that have a promising scaffold (core structure). A key question is, which starting materials are commercially available?\n",
    "\n",
    "Here's an example:\n",
    "***Output molgrid***"
   ]
  },
  {
   "attachments": {},
   "cell_type": "markdown",
   "metadata": {},
   "source": [
    "*[Download this notebook from GitHub by right-clicking and choosing Save Link As...](https://raw.githubusercontent.com/bertiewooster/bertiewooster.github.io/main/_notebooks/2022-12-25-RDKit-Find-Groups-Off-Common-Core.ipynb)*"
   ]
  },
  {
   "attachments": {},
   "cell_type": "markdown",
   "metadata": {},
   "source": [
    "This utility uses\n",
    "- [RDKit's ChemicalReaction class](http://rdkit.org/docs/cppapi/classRDKit_1_1ChemicalReaction.html) to reverse a reaction from target to starting materials.\n",
    "- the free [PubChem APIs](https://pubchem.ncbi.nlm.nih.gov/docs/programmatic-access) to determine whether those starting materials are commercially available. PubChem gathers availability from multiple vendors, so we can call just one API source rather than calling dozens of suppliers.\n",
    "- [Python's asyncio library](https://docs.python.org/3/library/asyncio.html) to speed getting API results back by making the API calls concurrently."
   ]
  },
  {
   "attachments": {},
   "cell_type": "markdown",
   "metadata": {},
   "source": [
    "## Why Make API Calls Asynchronously\n",
    "\n",
    "API calls an appreciable amount of time, perhaps 0.5-1 second, because they go over the Internet. So when making API calls, we want to minimize the number of calls to reduce both run time and the load on the server. This code thus gathers all the reactants from multiple reactions, then removes duplicates, so it doesn't make redundant API calls for a given molecule. Because each call can be done independently, it saves time to do them asynchronously. Asynchronous programming involves sending out a group of tasks to be completed independently, and accepting results whenever they come back. By contrast, synchronous programming has a known order of task execution, but is slower if you're waiting for each task to complete before you start the next one.\n",
    "\n",
    "In this example, we make up to two API calls per molecule:\n",
    "- First, to check if the molecule is in PubChem, and if so obtain its identifier (CID). This call uses PubChem like a catalog to find the molecule.\n",
    "- Second, if the molecule exists in PubChem, to retrieve its commercial availability.\n",
    "\n",
    "These two calls need to happen sequentially: We first need to get the molecule's identifier if it's in PubChem, then we use that identifier to make a second call to obtain the desired properties. So we can't make those two calls in parallel.\n",
    "\n",
    "These figures demonstrate how we can save time by running API calls asynchronously: The asynchronous approach might take 0.7 seconds, while the synchronous approach might take 1.1 seconds."
   ]
  },
  {
   "attachments": {},
   "cell_type": "markdown",
   "metadata": {},
   "source": [
    "*** timing diagrams"
   ]
  },
  {
   "attachments": {},
   "cell_type": "markdown",
   "metadata": {},
   "source": [
    "## PubChem API Call Results\n",
    "To demystify API calls, it's useful to think of them as analogous to the information you could get interactively by clicking on links. In fact, a modern development trend is for a web site to call its API to obtain the data, then format it to present to the user. The difference between API calls and interactively viewing web pages is that APIs return information in a computer-friendly format, which makes it easier for your code to process the results.\n",
    "\n",
    "We use two different PubChem APIs. First, we use [PUG (Power User Gateway) REST](https://pubchem.ncbi.nlm.nih.gov/docs/pug-rest) to request the identifier of the molecule. The PUG REST request is analogous to interactively doing a SMILES search, for example https://pubchem.ncbi.nlm.nih.gov/#query=O=C(C)Oc1ccccc1C(=O)O&input_type=smiles where `O=C(C)Oc1ccccc1C(=O)O` is the SMILES string for the molecule of interest, here acetylsalicylic acid (aspirin). We request text format, so PUG REST returns a simple result: the identifier if it exists, or 0 (zero) if not, followed by a linebreak, for example `2244\\n` where 2244 is the PubChem identifier for acetylsalicylic acid. Processing this result to obtain the identifier is simple.\n",
    "\n",
    "Second, we use [PUG View](https://pubchem.ncbi.nlm.nih.gov/docs/pug-view) to request data about commercial availability. The PUG View request is analogous to interactively visiting the molecule's page, for example https://pubchem.ncbi.nlm.nih.gov/compound/2244, for acetylsalicylic acid. The data is more complicated here. It's analogous to the Chemical Vendors section on the web page. We chose to request XML format. Fortunately, we don't need to process all the data in the result, just check whether there is any vendor data.\n",
    "\n",
    "If there is vendor data, the result includes:\n",
    "\n",
    "```\n",
    "<TOCHeading>Chemical Vendors</TOCHeading>\n",
    "<Description>\n",
    "A list of chemical vendors that sell this compound. ...\n",
    "</Description>\n",
    "```\n",
    "\n",
    "If there is no vendor data, the result includes:\n",
    "\n",
    "```\n",
    "<Code>PUGVIEW.NotFound</Code>\n",
    "<Message>No data found</Message>\n",
    "```\n",
    "\n",
    "So if `<Message>No data found</Message>` is present, we deem that the molecule is not commercially available."
   ]
  },
  {
   "attachments": {},
   "cell_type": "markdown",
   "metadata": {},
   "source": [
    "## Code"
   ]
  },
  {
   "cell_type": "code",
   "execution_count": 84,
   "metadata": {},
   "outputs": [],
   "source": [
    "import warnings\n",
    "warnings.filterwarnings('ignore')"
   ]
  },
  {
   "cell_type": "code",
   "execution_count": 85,
   "metadata": {},
   "outputs": [
    {
     "name": "stdout",
     "output_type": "stream",
     "text": [
      "Requirement already satisfied: aiohttp in /Users/jemonat/opt/anaconda3/envs/my-rdkit-env/lib/python3.10/site-packages (3.8.3)\n",
      "Requirement already satisfied: charset-normalizer<3.0,>=2.0 in /Users/jemonat/opt/anaconda3/envs/my-rdkit-env/lib/python3.10/site-packages (from aiohttp) (2.0.4)\n",
      "Requirement already satisfied: yarl<2.0,>=1.0 in /Users/jemonat/opt/anaconda3/envs/my-rdkit-env/lib/python3.10/site-packages (from aiohttp) (1.8.2)\n",
      "Requirement already satisfied: async-timeout<5.0,>=4.0.0a3 in /Users/jemonat/opt/anaconda3/envs/my-rdkit-env/lib/python3.10/site-packages (from aiohttp) (4.0.2)\n",
      "Requirement already satisfied: multidict<7.0,>=4.5 in /Users/jemonat/opt/anaconda3/envs/my-rdkit-env/lib/python3.10/site-packages (from aiohttp) (6.0.4)\n",
      "Requirement already satisfied: frozenlist>=1.1.1 in /Users/jemonat/opt/anaconda3/envs/my-rdkit-env/lib/python3.10/site-packages (from aiohttp) (1.3.3)\n",
      "Requirement already satisfied: attrs>=17.3.0 in /Users/jemonat/opt/anaconda3/envs/my-rdkit-env/lib/python3.10/site-packages (from aiohttp) (21.4.0)\n",
      "Requirement already satisfied: aiosignal>=1.1.2 in /Users/jemonat/opt/anaconda3/envs/my-rdkit-env/lib/python3.10/site-packages (from aiohttp) (1.3.1)\n",
      "Requirement already satisfied: idna>=2.0 in /Users/jemonat/opt/anaconda3/envs/my-rdkit-env/lib/python3.10/site-packages (from yarl<2.0,>=1.0->aiohttp) (3.4)\n",
      "Requirement already satisfied: codetiming in /Users/jemonat/opt/anaconda3/envs/my-rdkit-env/lib/python3.10/site-packages (1.4.0)\n"
     ]
    }
   ],
   "source": [
    "!pip install aiohttp\n",
    "!pip install codetiming"
   ]
  },
  {
   "cell_type": "code",
   "execution_count": 86,
   "metadata": {},
   "outputs": [],
   "source": [
    "import asyncio\n",
    "\n",
    "import aiohttp\n",
    "import rdkit\n",
    "from codetiming import Timer\n",
    "from rdkit.Chem import AllChem as Chem\n",
    "from rdkit.Chem import Draw\n",
    "from rdkit.Chem import rdChemReactions"
   ]
  },
  {
   "cell_type": "code",
   "execution_count": 87,
   "metadata": {},
   "outputs": [],
   "source": [
    "class Reactant():\n",
    "    \"\"\"Define a reactant's commercial availability.\"\"\"\n",
    "        \n",
    "    def __init__(self, smiles: str):\n",
    "        \"\"\"\n",
    "        Construct a Reactant object to store the commercial availability of a reactant\n",
    "\n",
    "        :param smiles: SMILES string representing a molecule\n",
    "        \"\"\"\n",
    "        self.smiles = smiles\n",
    "        self.mol = Chem.MolFromSmiles(smiles)\n",
    "\n",
    "        @property\n",
    "        def in_pubchem(self):\n",
    "            return self._in_pubchem\n",
    "\n",
    "        @in_pubchem.setter\n",
    "        def in_pubchem(self, value: bool):\n",
    "            \"\"\":param value: whether molecule is in PubChem\"\"\"\n",
    "            self._in_pubchem = value\n",
    "\n",
    "        @property\n",
    "        def cid(self):\n",
    "            return self._cid\n",
    "\n",
    "        @cid.setter\n",
    "        def cid(self, value: int):\n",
    "            \"\"\":param value: PubChem CID (identifier) for molecule\"\"\"\n",
    "            self._cid = value\n",
    "\n",
    "        @property\n",
    "        def commercially_available(self):\n",
    "            return self._commercially_available\n",
    "\n",
    "        @commercially_available.setter\n",
    "        def commercially_available(self, value: bool):\n",
    "            \"\"\":param value: whether molecule is commercially available, per PubChem\"\"\"\n",
    "            self._commercially_available = value\n",
    "\n",
    "        @property\n",
    "        def pubchem_page(self):\n",
    "            return self._pubchem_page\n",
    "\n",
    "        @pubchem_page.setter\n",
    "        def pubchem_page(self, value: str):\n",
    "            \"\"\":param value: URL or PubChem page for molecule\"\"\"\n",
    "            self._pubchem_page = value\n",
    "\n",
    "    def __str__(self):\n",
    "        str_print = f\"Reactant SMILES: {self.smiles}\"\n",
    "        str_print += f\", in_pubchem: {self.in_pubchem}\"\n",
    "        if hasattr(self, \"cid\"):\n",
    "            str_print += f\", cid: {self.cid}\"\n",
    "        if hasattr(self, \"commercially_available\"):\n",
    "            str_print += f\", commercially_available: {self.commercially_available}\"\n",
    "        if hasattr(self, \"pubchem_page\"):\n",
    "            str_print += f\", pubchem_page: {self.pubchem_page}\"\n",
    "        return str_print\n"
   ]
  },
  {
   "cell_type": "code",
   "execution_count": 88,
   "metadata": {},
   "outputs": [],
   "source": [
    "class Reaction():\n",
    "    \"\"\"Define a reaction's target, type, reactants, and commercial of reactants.\"\"\"\n",
    "\n",
    "    def __init__(self, target, reaction_smarts, name):\n",
    "        \"\"\"\n",
    "        Construct a Reaction object \n",
    "\n",
    "        :param target: The molecule to synthesize as a SMILES string\n",
    "        :param reaction_smarts: The reaction SMARTS as e.g. reactant1.reactant2>>product\n",
    "        :param name: Name of the reaction, for user's information\n",
    "        \"\"\"\n",
    "        self.target = target\n",
    "        self.reaction_smarts = reaction_smarts\n",
    "        self.name = name\n",
    "        self.target_mol = Chem.MolFromSmiles(self.target)\n",
    "        self.reactants = dict()\n",
    "\n",
    "        @property\n",
    "        def reactants(self):\n",
    "            return self._reactants\n",
    "\n",
    "        @reactants.setter\n",
    "        def reactants(self, value: dict[str, object]):\n",
    "            \"\"\":param value: Dictionary of SMILES:Reactant object pairs\"\"\"\n",
    "            self._reactants = value\n",
    "\n",
    "        @property\n",
    "        def reactants_commercially_available(self):\n",
    "            return self._reactants_commercially_available\n",
    "\n",
    "    def tally_all_reactants_commercially_available(self):\n",
    "        \"\"\"\n",
    "        Given the commercial availability of each reactant, determine whether they are all available\n",
    "        Sets self._reactants_commercially_available to, and returns, that boolean value\n",
    "        \"\"\"\n",
    "        for reactant in self.reactants:\n",
    "            if not self.reactants[reactant].commercially_available:\n",
    "                self._reactants_commercially_available = False\n",
    "                return False\n",
    "        self._reactants_commercially_available = True\n",
    "        return True\n",
    "\n",
    "    def __str__(self):\n",
    "        self.tally_all_reactants_commercially_available()\n",
    "        str_print = f\"Reaction {self.name} target {self.target}\" \n",
    "        str_print += f\", all reactants commercially available: {self._reactants_commercially_available}. Reactants:\"\n",
    "        reactant_number = 0\n",
    "        for smiles, object in self.reactants.items():\n",
    "            reactant_number += 1\n",
    "            str_print += f\" {reactant_number}) {smiles} commercially available: {object.commercially_available}\"\n",
    "        return str_print"
   ]
  },
  {
   "cell_type": "code",
   "execution_count": 89,
   "metadata": {},
   "outputs": [],
   "source": [
    "def reverse_reaction(rxn_fwd):\n",
    "    \"\"\"\n",
    "    Reverse an RDKit reaction\n",
    "    Code adapted from https://www.rdkit.org/docs/Cookbook.html#reversing-reactions by Greg Landrum\n",
    "\n",
    "    :param rxn_fwd: forward chemical reaction rdkit.Chem.rdChemReactions.ChemicalReaction\n",
    "    :returns: reverse chemical reaction rdkit.Chem.rdChemReactions.ChemicalReaction\n",
    "    \"\"\"\n",
    "\n",
    "    rxn_rev = Chem.ChemicalReaction()\n",
    "    for i in range(rxn_fwd.GetNumReactantTemplates()):\n",
    "        rxn_rev.AddProductTemplate(rxn_fwd.GetReactantTemplate(i))\n",
    "    for i in range(rxn_fwd.GetNumProductTemplates()):\n",
    "        rxn_rev.AddReactantTemplate(rxn_fwd.GetProductTemplate(i))\n",
    "    rxn_rev.Initialize()\n",
    "    return rxn_rev"
   ]
  },
  {
   "cell_type": "code",
   "execution_count": 90,
   "metadata": {},
   "outputs": [],
   "source": [
    "# Utilities\n",
    "def flatten_twoD_list(twoD_list: list[list]) -> list:\n",
    "    \"\"\"\n",
    "    Flatten a 2D (nested) list into a 1D (non-nested) list\n",
    "\n",
    "    :param twoD_list: The 2D list, e.g. [[a], [b, c]]\n",
    "    :returns: 1D list, e.g. [a, b, c]\n",
    "    \"\"\"\n",
    "    flat_list = []\n",
    "    for row in twoD_list:\n",
    "        for item in row:\n",
    "            flat_list += [item]\n",
    "    return flat_list\n",
    "\n",
    "def longest_row(twoD_list: list[list]) -> int:\n",
    "    \"\"\"\n",
    "    Find the longest row (sublist) a 2D (nested) list\n",
    "\n",
    "    :param twoD_list: The 2D list, e.g. [[a], [b, c]]\n",
    "    :returns: Length of the longest row, e.g. 2\n",
    "    \"\"\"\n",
    "    return max(len(row) for row in twoD_list)\n",
    "\n",
    "def pad_rows(twoD_list: list[list], row_length: int, filler = \"\") -> list[list]:\n",
    "    \"\"\"\n",
    "    Pad each row (sublist) in a 2D (nested) list to a given length\n",
    "\n",
    "    :param twoD_list: The 2D list, e.g. [[a], [b, c]]\n",
    "    :param row_length: The length to pad to, e.g. 3\n",
    "    :param filler: The sublist element to pad with, e.g. p\n",
    "    :returns: Padded 2D list, e.g. [[a, p, p], [b, c, p]]\n",
    "    \"\"\"\n",
    "    for row in twoD_list:\n",
    "        padding = row_length - len(row)\n",
    "        row += [filler] * padding\n",
    "    return twoD_list"
   ]
  },
  {
   "cell_type": "code",
   "execution_count": 99,
   "metadata": {},
   "outputs": [],
   "source": [
    "async def is_commercially_available(work_queue):\n",
    "    \"\"\"\n",
    "    Asynchronously check the availability of a queue of SMILES strings (chemicals) in PubChem\n",
    "    Based on https://realpython.com/python-async-features/#asynchronous-non-blocking-http-calls\n",
    "\n",
    "    :param work_queue: A queue where each item is a SMILES string (representing a molecule)\n",
    "    :returns: Class Reactant object with information from PubChem\n",
    "    \"\"\"\n",
    "\n",
    "    async with aiohttp.ClientSession() as session:\n",
    "        while not work_queue.empty():\n",
    "            smiles = await work_queue.get()\n",
    "            # Create Reactant object, which will be populated during this function\n",
    "            reactant = Reactant(smiles)\n",
    "\n",
    "            timer = Timer(text=f\"{{:.2f}}s for {smiles} PubChem API call(s)\")\n",
    "\n",
    "            timer.start()\n",
    "\n",
    "            # Find the PubChem identifier (CID) for this SMILES string\n",
    "            get_cid_URL = f\"https://pubchem.ncbi.nlm.nih.gov/rest/pug/compound/smiles/{smiles}/cids/TXT\"\n",
    "            try:\n",
    "                async with session.get(get_cid_URL, ssl=False) as response:\n",
    "                    get_cid_response = await response.text()\n",
    "            except:\n",
    "                raise ConnectionError\n",
    "            cid_str = get_cid_response.strip(\"\\n\")\n",
    "\n",
    "            try:\n",
    "                cid = int(cid_str)\n",
    "            except ValueError:\n",
    "                cid = 0\n",
    "\n",
    "            if cid == 0:\n",
    "                reactant.in_pubchem = False\n",
    "                reactant.commercially_available = False\n",
    "                timer.stop()\n",
    "                return reactant\n",
    "            else:\n",
    "                reactant.cid = cid\n",
    "                reactant.in_pubchem = True\n",
    "                reactant.pubchem_page = f\"https://pubchem.ncbi.nlm.nih.gov/compound/{cid}\"\n",
    "\n",
    "            # Get the compound's PubChem page\n",
    "            compound_url = f\"https://pubchem.ncbi.nlm.nih.gov/rest/pug_view/data/compound/{cid}/XML?heading=Chemical-Vendors\"\n",
    "\n",
    "            async with session.get(compound_url, ssl=False) as response:\n",
    "                compound_vendors_response = await response.text()\n",
    "\n",
    "            timer.stop()\n",
    "\n",
    "            if \"<Message>No data found</Message>\" in compound_vendors_response:\n",
    "                reactant.commercially_available = False\n",
    "            else:\n",
    "                reactant.commercially_available = True\n",
    "    print(f\"{str(reactant)=}\")\n",
    "    return reactant"
   ]
  },
  {
   "cell_type": "code",
   "execution_count": 92,
   "metadata": {},
   "outputs": [],
   "source": [
    "async def check_avail_smiles_set(smiles_set: set[str]) -> dict[str, object]:\n",
    "    \"\"\"\n",
    "    Feed asynchronous queue to check the availability of several SMILES strings (chemicals) in PubChem\n",
    "    Based on https://realpython.com/python-async-features/#asynchronous-non-blocking-http-calls\n",
    "\n",
    "    :param smiles_set: Set of SMILES strings (representing molecules)\n",
    "    :returns: dictionary of SMILES:reactant pairs, where reactant is class Reactant\n",
    "    \"\"\"\n",
    "    # Create the queue of work\n",
    "    work_queue = asyncio.Queue()\n",
    "\n",
    "    # Add each SMILES (molecule) to the work queue\n",
    "    for smiles in smiles_set:\n",
    "        await work_queue.put(smiles)\n",
    "\n",
    "    # Determine commercial availability of each reactant\n",
    "    with Timer(text=\"-----\\n{:.2f}s total elapsed time for PubChem API calls\"):\n",
    "        tasks = [is_commercially_available(work_queue) for smiles in smiles_set]\n",
    "        reactants = await asyncio.gather(*tasks)\n",
    "    \n",
    "    # Put reactants in dictionary of SMILES:Reaction object\n",
    "    smiles_avail = dict()\n",
    "    for index, reactant in enumerate(reactants):\n",
    "        # print(f\"Reactant {index}: {reactant}, {reactant.smiles}, in_pubchem: {reactant.in_pubchem}, commercially_available: {reactant.commercially_available}\")\n",
    "        smiles_avail[reactant.smiles] = reactant\n",
    "    \n",
    "    return smiles_avail"
   ]
  },
  {
   "cell_type": "code",
   "execution_count": 93,
   "metadata": {},
   "outputs": [],
   "source": [
    "async def check_avail_smiles_list(smiles_list):\n",
    "    molecules_set = set()\n",
    "    for molecule in smiles_list:\n",
    "        molecules_set.add(molecule)\n",
    "    # Check commercial availability of set of molecules\n",
    "    smiles_avail = await check_avail_smiles_set(molecules_set)\n",
    "\n",
    "    # *** Need to do? Map set back to supplied list\n",
    "    return smiles_avail"
   ]
  },
  {
   "cell_type": "code",
   "execution_count": 94,
   "metadata": {},
   "outputs": [],
   "source": [
    "async def check_reactions(target_reaction_list: list[list[str, str, str]]):\n",
    "    \"\"\"\n",
    "    Check whether the starting materials in a list of reactions are commercially available\n",
    "    :param target_reaction_list: List of reactions in format [target (SMILES), reaction SMARTS, reaction name]\n",
    "    :returns: ***\n",
    "    \"\"\"\n",
    "\n",
    "    # all_reactants_set = set()\n",
    "    all_reactants_list = []\n",
    "\n",
    "    # List of Reaction objects\n",
    "    reactions = []\n",
    "    for target_reaction in target_reaction_list:\n",
    "        reaction = Reaction(target_reaction[0], target_reaction[1], target_reaction[2])\n",
    "\n",
    "        # Create forward reaction\n",
    "        rxn_fwd = Chem.ReactionFromSmarts(reaction.reaction_smarts)\n",
    "\n",
    "        # Reverse reaction\n",
    "        rxn_rev = reverse_reaction(rxn_fwd)\n",
    "\n",
    "        # Run reverse reaction to determine starting materials\n",
    "        reactants = rxn_rev.RunReactants([reaction.target_mol])[0]\n",
    "        for reactant_mol in reactants:\n",
    "            reactant_smiles = Chem.MolToSmiles(reactant_mol)\n",
    "            reaction.reactants[reactant_smiles] = None\n",
    "\n",
    "        # Add starting materials to set of starting materials\n",
    "        for reactant in reaction.reactants:\n",
    "            all_reactants_list.append(reactant)\n",
    "        \n",
    "        # Add reaction to list of reactions\n",
    "        reactions.append(reaction)\n",
    "\n",
    "    # Check commercial availability of set of starting materials\n",
    "    smiles_avail = await check_avail_smiles_list(all_reactants_list)\n",
    "\n",
    "    print(\"\\nAre starting materials commercially available for reaction -> target:\")\n",
    "\n",
    "    # reaction_reactants_avail format: [[reaction object 0, all reactants available], [reaction object 1, all reactants available],...]\n",
    "    reaction_reactants_avail = []\n",
    "    for reaction in reactions:\n",
    "        # Add information to Reaction objects\n",
    "        for this_reactant in reaction.reactants:\n",
    "            # Set value for key of reactant SMILES, to reactant object from smiles_avail\n",
    "            reaction.reactants[this_reactant] = smiles_avail[this_reactant]\n",
    "        print(f\"{str(reaction)=}\")\n",
    "\n",
    "        reaction.tally_all_reactants_commercially_available()\n",
    "\n",
    "        # Return results\n",
    "        reaction_reactants_avail.append([reaction, reaction._reactants_commercially_available])\n",
    "        # print(f\"{reaction.name} -> {reaction.target}: {reaction._reactants_commercially_available}\")\n",
    "\n",
    "    # Create and format molgrid output\n",
    "    mols_2D = []\n",
    "    legends_2D = []\n",
    "    for reaction in reactions:\n",
    "        mols_row = []\n",
    "        legends_row = []\n",
    "        mols_row.append(Chem.MolFromSmiles(reaction.target))\n",
    "        legends_row.append(f\"{reaction.name} target accessible: {reaction._reactants_commercially_available}\")\n",
    "        for reactant in reaction.reactants:\n",
    "            mols_row.append(Chem.MolFromSmiles(reactant))\n",
    "            legends_row.append(f\"Reactant available: {reaction.reactants[reactant].commercially_available}\")\n",
    "        mols_2D.append(mols_row)\n",
    "        legends_2D.append(legends_row)\n",
    "    \n",
    "    # Create null molecule (has no atoms) as filler for empty molecule cells\n",
    "    null_mol = Chem.MolFromSmiles(\"\")\n",
    "    pad_rows(mols_2D, longest_row(mols_2D), filler=null_mol)\n",
    "    pad_rows(legends_2D, longest_row(mols_2D))\n",
    "\n",
    "    mols = flatten_twoD_list(mols_2D)\n",
    "    legends = flatten_twoD_list(legends_2D)\n",
    "\n",
    "    dwg = Draw.MolsToGridImage(mols=mols, legends=legends, molsPerRow=len(mols_2D[0]))\n",
    "    return dwg, reaction_reactants_avail"
   ]
  },
  {
   "attachments": {},
   "cell_type": "markdown",
   "metadata": {},
   "source": [
    "## Setting up Your Reactions"
   ]
  },
  {
   "attachments": {},
   "cell_type": "markdown",
   "metadata": {},
   "source": [
    "You specify each reaction as a list of:\n",
    "- target molecule: The SMILES string of the molecule you want to synthesize, for example \"OCN1C2CC(C=C2)C1CC1NCCc2ccccc12\"\n",
    "- [reaction SMARTS](https://www.rdkit.org/docs/source/rdkit.Chem.rdChemReactions.html#rdkit.Chem.rdChemReactions.ChemicalReaction): SMARTS strings for the reactant(s) and products in the form for example `reactant1.reactant2>>product`, e.g. \"[cH1:1]1:[c:2](-[CH2:7]-[CH2:8]-[NH2:9]):[c:3]:[c:4]:[c:5]:[c:6]:1.[#6:11]-[CH1;R0:10]=[OD1]>>[c:1]12:[c:2](-[CH2:7]-[CH2:8]-[NH1:9]-[C:10]-2(-[#6:11])):[c:3]:[c:4]:[c:5]:[c:6]:1\"\n",
    "- name, which is simply for labeling for human readability, for example \"Pictet-Spengler\"\n",
    "\n",
    "You then provide a list of one or more reactions, where each reaction is a sublist."
   ]
  },
  {
   "cell_type": "code",
   "execution_count": 100,
   "metadata": {},
   "outputs": [
    {
     "name": "stdout",
     "output_type": "stream",
     "text": [
      "0.69s for Nc1ccc(C2NCCc3ccccc32)c2ccccc12 PubChem API call(s)\n",
      "0.69s for O=CCC1C2C=CC(C2)N1CO PubChem API call(s)\n",
      "0.79s for O=CCNc1ccccc1 PubChem API call(s)\n",
      "str(reactant)='Reactant SMILES: O=CCNc1ccccc1, in_pubchem: True, cid: 23509982, commercially_available: True, pubchem_page: https://pubchem.ncbi.nlm.nih.gov/compound/23509982'\n",
      "0.89s for NCCc1ccccc1 PubChem API call(s)\n",
      "str(reactant)='Reactant SMILES: NCCc1ccccc1, in_pubchem: True, cid: 1001, commercially_available: True, pubchem_page: https://pubchem.ncbi.nlm.nih.gov/compound/1001'\n",
      "-----\n",
      "0.89s total elapsed time for PubChem API calls\n",
      "\n",
      "Are starting materials commercially available for reaction -> target:\n",
      "str(reaction)='Reaction Pictet-Spengler target OCN1C2CC(C=C2)C1CC1NCCc2ccccc12, all reactants commercially available: False. Reactants: 1) NCCc1ccccc1 commercially available: True 2) O=CCC1C2C=CC(C2)N1CO commercially available: False'\n",
      "str(reaction)='Reaction Pictet-Spengler target c1ccc(NCC2NCCc3ccccc32)cc1, all reactants commercially available: True. Reactants: 1) NCCc1ccccc1 commercially available: True 2) O=CCNc1ccccc1 commercially available: True'\n",
      "str(reaction)='Reaction Amine oxidation target [O-][N+](=O)C1=CC=C(C2NCCc3ccccc23)C2=C1C=CC=C2, all reactants commercially available: False. Reactants: 1) Nc1ccc(C2NCCc3ccccc32)c2ccccc12 commercially available: False'\n"
     ]
    }
   ],
   "source": [
    "# Set up targets and reactions\n",
    "bicyclic_target = \"OCN1C2CC(C=C2)C1CC1NCCc2ccccc12\"\n",
    "aniline_target = \"c1ccc(NCC2NCCc3ccccc32)cc1\"\n",
    "cyclobutyl_target = \"FC1(F)CC(C2NCCc3ccccc32)C1\"\n",
    "naphthyl_target = \"[O-][N+](=O)C1=CC=C(C2NCCc3ccccc23)C2=C1C=CC=C2\"\n",
    "\n",
    "# Pictet-Spengler reaction SMARTS from https://www.rdkit.org/docs/Cookbook.html#reversing-reactions by Greg Landrum\n",
    "pictet_spengler_rxn = '[cH1:1]1:[c:2](-[CH2:7]-[CH2:8]-[NH2:9]):[c:3]:[c:4]:[c:5]:[c:6]:1.[#6:11]-[CH1;R0:10]=[OD1]>>[c:1]12:[c:2](-[CH2:7]-[CH2:8]-[NH1:9]-[C:10]-2(-[#6:11])):[c:3]:[c:4]:[c:5]:[c:6]:1'\n",
    "pictet_spengler = [pictet_spengler_rxn, \"Pictet-Spengler\"]\n",
    "\n",
    "amine_oxidation_rxn = \"[*:1][Nh2:2]>>[*:1][Nh0:2](~[OD1])~[OD1]\"\n",
    "\n",
    "# Reaction format: [target (SMILES), reaction SMARTS, reaction name]\n",
    "rxn1 = [bicyclic_target] + pictet_spengler\n",
    "rxn2 = [aniline_target] + pictet_spengler\n",
    "# rxn3 = [cyclobutyl_target] + pictet_spengler\n",
    "rxn3 = [naphthyl_target, amine_oxidation_rxn, \"Amine oxidation\"]\n",
    "\n",
    "# Create list of reactions\n",
    "rxns = [rxn1, rxn2, rxn3]\n",
    "\n",
    "# Check list of reactions: Are starting materials commercially available?\n",
    "\n",
    "# When running in a Jupyter Notebook, use this:\n",
    "dwg, reaction_reactants_avail = await check_reactions(rxns)\n",
    "# When running outside a Jupyter Notebook, use this instead:\n",
    "#dwg, reaction_reactants_avail = asyncio.run(check_reactions(rxns))\n"
   ]
  },
  {
   "attachments": {},
   "cell_type": "markdown",
   "metadata": {},
   "source": [
    "`check_reactions` returns two results, a drawing and a list of reactions and whether each is accessible, that is, whether all its reactants are commercially available. To view the results graphically, call the drawing. The first column is the target and tells whether it's accessible. Each subsequent column is a reactant and tells whether it's commercially available."
   ]
  },
  {
   "cell_type": "code",
   "execution_count": 96,
   "metadata": {},
   "outputs": [
    {
     "data": {
      "image/png": "[encoded data removed]",
      "text/plain": [
       "<IPython.core.display.Image object>"
      ]
     },
     "execution_count": 96,
     "metadata": {},
     "output_type": "execute_result"
    }
   ],
   "source": [
    "dwg"
   ]
  },
  {
   "attachments": {},
   "cell_type": "markdown",
   "metadata": {},
   "source": [
    "`reaction_reactants_avail` is a nested list where each sub-list represents the reaction, then whether its target is accessible."
   ]
  },
  {
   "cell_type": "code",
   "execution_count": 97,
   "metadata": {},
   "outputs": [
    {
     "data": {
      "text/plain": [
       "[[<__main__.Reaction at 0x7f7c38838070>, False],\n",
       " [<__main__.Reaction at 0x7f7c18d390c0>, True],\n",
       " [<__main__.Reaction at 0x7f7c19bf3250>, False]]"
      ]
     },
     "execution_count": 97,
     "metadata": {},
     "output_type": "execute_result"
    }
   ],
   "source": [
    "reaction_reactants_avail"
   ]
  },
  {
   "attachments": {},
   "cell_type": "markdown",
   "metadata": {},
   "source": [
    "## Checking the Commercial Availability of a List of Molecules Independent of a Reaction\n",
    "If you don't want to use the reaction functionality, and simply want to check whether a list of molecules is commercially available, you can call `check_avail_smiles_list` directly with a list of SMILES strings."
   ]
  },
  {
   "cell_type": "code",
   "execution_count": 98,
   "metadata": {},
   "outputs": [
    {
     "name": "stdout",
     "output_type": "stream",
     "text": [
      "0.64s for [O-]P([O-])(=O)OCN1C(CC=O)C2CC1C=C2 PubChem API call(s)\n",
      "0.78s for CCCC PubChem API call(s)\n",
      "-----\n",
      "0.78s total elapsed time for PubChem API calls\n",
      "[O-]P([O-])(=O)OCN1C(CC=O)C2CC1C=C2: False\n",
      "CCCC: True\n"
     ]
    }
   ],
   "source": [
    "# Check a list of reactants\n",
    "smiles_list = [\"CCCC\",\"[O-]P([O-])(=O)OCN1C(CC=O)C2CC1C=C2\"]\n",
    "\n",
    "# When running in a Jupyter Notebook, use this:\n",
    "smiles_avail = await check_avail_smiles_list(smiles_list)\n",
    "# When running outside a Jupyter Notebook, use this instead:\n",
    "#smiles_avail = asyncio.run(check_avail_smiles_list(smiles_list))\n",
    "\n",
    "for smiles, reactant in smiles_avail.items():\n",
    "    print(f\"{smiles}: {reactant.commercially_available}\")\n"
   ]
  },
  {
   "attachments": {},
   "cell_type": "markdown",
   "metadata": {},
   "source": [
    "## Caveats\n",
    "If you wanted to use this scheme in production code, a few changes would be wise.\n",
    "\n",
    "This code uses a SMILES string as a dictionary key. It would be better to use a key that's guaranteed to be shorter, for example a serial identification number, e.g. 1, 2, 3. The only time this code creates SMILES strings is when it converts from an RDKit molecule (as given by the reverse reaction for starting materials) to a SMILES string once for each reactant, helping ensure that two different SMILES strings are not created for identical molecules. ([RDKit's MolToSmiles function](https://www.rdkit.org/docs/source/rdkit.Chem.rdmolfiles.html#rdkit.Chem.rdmolfiles.MolToSmiles) returns the canonical SMILES string for a molecule, so it should give consistent results if called repeatedly on the same molecule.)\n",
    "\n",
    "Similarly, you might want to use an identifier for each Reaction object, so you could use it as a key in a dictionary.\n",
    "\n",
    "[PubChem asks you to limit API requests to 5 per second](https://pubchem.ncbi.nlm.nih.gov/docs/programmatic-access#section=Request-Volume-Limitations), so you shouldn't run too many reactions at once without adding some wait logic. For example, in `check_avail_smiles_set`, you could break a long set into multiple sets of a couple reactions each, then call `is_commercially_available` in a loop over the smaller sets of reactions. That way, each smaller set would wait for the previous smaller set to complete first.\n",
    "\n",
    "This code assumes only one product for a reaction. In the vast majority of cases, you're interested in only one product for a reaction, but for a reaction which produces a byproduct, such as water for a condensation reaction, there could be multiple products.\n",
    "\n",
    "Finally, the presence in PubChem of vendors for a chemical may not be definitive about whether it's commercially available. For example, a vendor might not have any material in stock despite claiming availability. Conversely, a vendor might not claim to have a material in stock, but could be able to synthesize it. Or the vendor might have some in stock, but not as much as you need. Or the unit price might be prohibitively expensive. So PubChem's data should be considered a screening tool, and before proceeding with a divergent synthesis plan, you should go to particular vendors, attempt to place orders, and check if they can provide the material in the quantity, time frame, and price you need."
   ]
  },
  {
   "attachments": {},
   "cell_type": "markdown",
   "metadata": {},
   "source": [
    "## Notes"
   ]
  },
  {
   "attachments": {},
   "cell_type": "markdown",
   "metadata": {},
   "source": [
    "Thanks to ***"
   ]
  }
 ],
 "metadata": {
  "kernelspec": {
   "display_name": "Python 3.10.4",
   "language": "python",
   "name": "python3"
  },
  "language_info": {
   "codemirror_mode": {
    "name": "ipython",
    "version": 3
   },
   "file_extension": ".py",
   "mimetype": "text/x-python",
   "name": "python",
   "nbconvert_exporter": "python",
   "pygments_lexer": "ipython3",
   "version": "3.10.4"
  },
  "orig_nbformat": 4,
  "vscode": {
   "interpreter": {
    "hash": "f8b9e48fa26c0cee807577a4309d1f208b4f08c0094fff1e9a87a3043a77ce60"
   }
  }
 },
 "nbformat": 4,
 "nbformat_minor": 2
}
