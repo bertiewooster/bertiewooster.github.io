{
 "cells": [
  {
   "cell_type": "markdown",
   "metadata": {},
   "source": [
    "# Find the Maximum Common Substructure, and Groups Off It, Between a Set of Molecules Using RDKit"
   ]
  },
  {
   "attachments": {},
   "cell_type": "markdown",
   "metadata": {},
   "source": [
    "In drug discovery, the lead optimization step often involves creating analogues of a hit (a promising compound which produces a desired result in an assay) to optimize selectivity and minimize toxicity. Because it is typically easier to chemically modify the periphery of the molecule (for example the functional groups) than the scaffold, it is helpful to compare the groups off of the common scaffold. This utility function uses RDKit to find the maximum common substructure (MCS) between a set of molecules, then show the groups off of that MCS.\n",
    "\n",
    "In a previous blog post, I [found and highlighted the maximum common substructure (MCS) between a set of molecules]({% post_url 2022-10-09-RDKit-find-and-highlight-the-maximum-common-substructure-between-molecules %}) by creating a function `SmilesMCStoGridImage` using RDKit. This post takes it a step further by optionally identifying and showing the groups off the MCS. These might be R groups off a core scaffold.\n",
    "\n",
    "Here's an example, annotated to explain the grid arrangement:"
   ]
  },
  {
   "attachments": {},
   "cell_type": "markdown",
   "metadata": {},
   "source": [
    "![Grid of maximum common substructure and core; molecules and groups off maximum common substructure](../images/pyridinols-MCS-groups-annotated.png)"
   ]
  },
  {
   "attachments": {},
   "cell_type": "markdown",
   "metadata": {},
   "source": [
    "*[Download this notebook from GitHub by right-clicking and choosing Save Link As...](https://raw.githubusercontent.com/bertiewooster/bertiewooster.github.io/main/_notebooks/2022-12-25-RDKit-Find-Groups-Off-Common-Core.ipynb)*"
   ]
  },
  {
   "attachments": {},
   "cell_type": "markdown",
   "metadata": {},
   "source": [
    "To show the groups off of the MCS, the grid of molecular images is two-dimensional:\n",
    "- The first row is the MCS (as first SMARTS match, then as a molecule referred to as the core)\n",
    "- Each subsequent row represents an input molecule\n",
    "    - The first item in the row is the input molecule\n",
    "    - Each subsequent item is a group off of the MCS, sorted by the core atom the group is attached to"
   ]
  },
  {
   "attachments": {},
   "cell_type": "markdown",
   "metadata": {},
   "source": [
    "The key RDKit commands it uses are:\n",
    "- [`ReplaceCore`](https://www.rdkit.org/docs/source/rdkit.Chem.rdmolops.html#rdkit.Chem.rdmolops.ReplaceCore) to mask out the MCS in each molecule\n",
    "- [`GetMolFrags`](https://www.rdkit.org/docs/source/rdkit.Chem.rdmolops.html#rdkit.Chem.rdmolops.GetMolFrags) to get the molecular fragments (groups) off of the MCS\n",
    "- [`FindMCS`](https://www.rdkit.org/docs/source/rdkit.Chem.rdFMCS.html) to find the maximum common substructure (SMARTS string)\n",
    "- [`MolFromSmarts`](https://www.rdkit.org/docs/source/rdkit.Chem.rdmolfiles.html) to generate a molecule corresponding to the maximum common substructure\n",
    "- [`GenerateDepictionMatching2DStructure`](http://rdkit.org/docs/source/rdkit.Chem.rdDepictor.html) to align the matching substructure\n",
    "- [`MolsToGridImage`](https://www.rdkit.org/docs/source/rdkit.Chem.Draw.html) to draw the grid of the MCS, the molecules with that MCS highlighted, and the groups off of the MCS for each molecule"
   ]
  },
  {
   "attachments": {},
   "cell_type": "markdown",
   "metadata": {},
   "source": [
    "You can think of the core as the materialized MCS. That is, the MCS is a substructure match (SMARTS), and the core is a structure (SMILES). For example, on the right side of the MCS, off the aromatic ring is a nitrogen atom, N. The analogous part of the core materializes that nitrogen in the simplest possible way, into an amine group, NH<sub>2</sub>."
   ]
  },
  {
   "cell_type": "code",
   "execution_count": 14,
   "metadata": {},
   "outputs": [
    {
     "name": "stdout",
     "output_type": "stream",
     "text": [
      "Requirement already satisfied: aiohttp in /Users/jemonat/opt/anaconda3/envs/my-rdkit-env/lib/python3.10/site-packages (3.8.3)\n",
      "Requirement already satisfied: attrs>=17.3.0 in /Users/jemonat/opt/anaconda3/envs/my-rdkit-env/lib/python3.10/site-packages (from aiohttp) (21.4.0)\n",
      "Requirement already satisfied: aiosignal>=1.1.2 in /Users/jemonat/opt/anaconda3/envs/my-rdkit-env/lib/python3.10/site-packages (from aiohttp) (1.3.1)\n",
      "Requirement already satisfied: yarl<2.0,>=1.0 in /Users/jemonat/opt/anaconda3/envs/my-rdkit-env/lib/python3.10/site-packages (from aiohttp) (1.8.2)\n",
      "Requirement already satisfied: async-timeout<5.0,>=4.0.0a3 in /Users/jemonat/opt/anaconda3/envs/my-rdkit-env/lib/python3.10/site-packages (from aiohttp) (4.0.2)\n",
      "Requirement already satisfied: multidict<7.0,>=4.5 in /Users/jemonat/opt/anaconda3/envs/my-rdkit-env/lib/python3.10/site-packages (from aiohttp) (6.0.4)\n",
      "Requirement already satisfied: frozenlist>=1.1.1 in /Users/jemonat/opt/anaconda3/envs/my-rdkit-env/lib/python3.10/site-packages (from aiohttp) (1.3.3)\n",
      "Requirement already satisfied: charset-normalizer<3.0,>=2.0 in /Users/jemonat/opt/anaconda3/envs/my-rdkit-env/lib/python3.10/site-packages (from aiohttp) (2.0.4)\n",
      "Requirement already satisfied: idna>=2.0 in /Users/jemonat/opt/anaconda3/envs/my-rdkit-env/lib/python3.10/site-packages (from yarl<2.0,>=1.0->aiohttp) (3.4)\n",
      "Collecting codetiming\n",
      "  Using cached codetiming-1.4.0-py3-none-any.whl (7.2 kB)\n",
      "Installing collected packages: codetiming\n",
      "Successfully installed codetiming-1.4.0\n"
     ]
    }
   ],
   "source": [
    "!pip install aiohttp\n",
    "!pip install codetiming"
   ]
  },
  {
   "cell_type": "code",
   "execution_count": 15,
   "metadata": {},
   "outputs": [],
   "source": [
    "import asyncio\n",
    "\n",
    "import aiohttp\n",
    "import rdkit\n",
    "from codetiming import Timer\n",
    "from rdkit.Chem import AllChem as Chem\n",
    "from rdkit.Chem import rdChemReactions"
   ]
  },
  {
   "cell_type": "code",
   "execution_count": 16,
   "metadata": {},
   "outputs": [],
   "source": [
    "class Reactant():\n",
    "    \"\"\"Define a reactant's commercial availability.\"\"\"\n",
    "\n",
    "    def __init__(self, smiles):\n",
    "        \"\"\"\n",
    "        Construct a Reactant object to store the commercial availability of a reactant\n",
    "\n",
    "        :param smiles: SMILES string representing a molecule\n",
    "        \"\"\"\n",
    "        self.smiles = smiles\n",
    "        self.mol = Chem.MolFromSmiles(smiles)\n",
    "\n",
    "        @property\n",
    "        def in_pubchem(self):\n",
    "            return self._in_pubchem\n",
    "\n",
    "        @in_pubchem.setter\n",
    "        def in_pubchem(self, value):\n",
    "            self._in_pubchem = value\n",
    "\n",
    "        @property\n",
    "        def pubchem_cid(self):\n",
    "            return self._pubchem_cid\n",
    "\n",
    "        @pubchem_cid.setter\n",
    "        def pubchem_cid(self, value):\n",
    "            self._pubchem_cid = value\n",
    "\n",
    "        @property\n",
    "        def commercially_available(self):\n",
    "            return self._commercially_available\n",
    "\n",
    "        @commercially_available.setter\n",
    "        def commercially_available(self, value):\n",
    "            self._commercially_available = value\n",
    "\n",
    "        @property\n",
    "        def pubchem_page(self):\n",
    "            return self._pubchem_page\n",
    "\n",
    "        @pubchem_page.setter\n",
    "        def pubchem_page(self, value):\n",
    "            self._pubchem_page = value\n",
    "\n",
    "        def __repr__(self):\n",
    "            str_print = f\"SMILES {self.smiles}\"\n",
    "            str_print += f\", in_pubchem = {self.in_pubchem}\"\n",
    "            str_print += f\", pubchem_cid = {self.pubchem_cid}\"\n",
    "            str_print += f\", in_pubchem = {self.in_pubchem}\"\n",
    "            str_print += f\", commercially_available = {self.commercially_available}\"\n",
    "            str_print += f\", pubchem_page = {self.pubchem_page}\"\n",
    "            return str_print\n",
    "\n",
    "        def __str__(self):\n",
    "            return __repr__(self)"
   ]
  },
  {
   "cell_type": "code",
   "execution_count": 17,
   "metadata": {},
   "outputs": [],
   "source": [
    "# Utilities\n",
    "def flatten_twoD_list(twoD_list: list[list]) -> list:\n",
    "    flat_list = []\n",
    "    for row in twoD_list:\n",
    "        for item in row:\n",
    "            flat_list += [item]\n",
    "    return flat_list\n",
    "\n",
    "def longest_row(twoD_list: list[list]) -> int:\n",
    "    return max(len(row) for row in twoD_list)\n",
    "\n",
    "def pad_rows(twoD_list: list[list], row_length: int, filler = \"\") -> list[list]:\n",
    "    for row in twoD_list:\n",
    "        padding = row_length - len(row)\n",
    "        row += [filler] * padding\n",
    "    return twoD_list\n",
    "\n",
    "def label_zero_dummy_atom(frag: str) -> str:\n",
    "    # Search for *l where l is a letter (atomic symbol)\n",
    "    # Example inputs:\n",
    "    #   Has dummy atom:   '[2*]C' stays the same\n",
    "    #   Lacks dummy atom: '*CCC' -> '[0*]CCC', so want to replace '*' with '[0*]'\n",
    "\n",
    "    # Search for pattern *l; returns an object if found, None if not found\n",
    "    missing_dummy_atom = re.search('\\*[a-zA-Z]', frag)\n",
    "\n",
    "    if missing_dummy_atom:\n",
    "        return frag.replace('*', '[0*]', 1)\n",
    "    else:\n",
    "        return frag\n",
    "\n",
    "def extract_dummy_atom_number(frag: str) -> int:\n",
    "    # Extract the dummy atom number from a fragment string\n",
    "    # Examples: '[2*]C' -> 2, '[12*]C' -> 12\n",
    "    bracket_n_star = re.search(\"\\[\\d+\\*\", frag)\n",
    "    return int(bracket_n_star.group()[1:-1])"
   ]
  },
  {
   "cell_type": "code",
   "execution_count": 18,
   "metadata": {},
   "outputs": [],
   "source": [
    "class Reaction():\n",
    "    \"\"\"Define a reaction's target, type, reactants, and commercial of reactants.\"\"\"\n",
    "\n",
    "    def __init__(self, target, reaction_smarts, name):\n",
    "        \"\"\"\n",
    "        Construct a Reaction object \n",
    "\n",
    "        :param target: The molecule to synthesize as a SMILES string\n",
    "        :param reaction_smarts: The reaction SMARTS as e.g. reactant1.reactant2>>product\n",
    "        :param name: Name of the reaction, for user's information\n",
    "        \"\"\"\n",
    "        self.target = target\n",
    "        self.reaction_smarts = reaction_smarts\n",
    "        self.name = name\n",
    "        self.target_mol = Chem.MolFromSmiles(self.target)\n",
    "        self.reactants = dict()\n",
    "\n",
    "        @property\n",
    "        def reactants(self):\n",
    "            return self._reactants\n",
    "\n",
    "        @reactants.setter\n",
    "        def reactants(self, value):\n",
    "            self._reactants = value\n",
    "\n",
    "        @property\n",
    "        def reactants_commercially_available(self):\n",
    "            return self._reactants_commercially_available\n",
    "\n",
    "    def tally_all_reactants_commercially_available(self):\n",
    "        \"\"\"\n",
    "        Given the commercial availability of each reactant, determine whether they are all available\n",
    "        \"\"\"\n",
    "        for reactant in self.reactants:\n",
    "            if not self.reactants[reactant].commercially_available:\n",
    "                self._reactants_commercially_available = False\n",
    "                return False\n",
    "        self._reactants_commercially_available = True\n",
    "        return True"
   ]
  },
  {
   "cell_type": "code",
   "execution_count": 19,
   "metadata": {},
   "outputs": [],
   "source": [
    "def reverse_reaction(rxn_fwd):\n",
    "    \"\"\"\n",
    "    Reverse an RDKit reaction\n",
    "    Code adapted from https://www.rdkit.org/docs/Cookbook.html#reversing-reactions by Greg Landrum\n",
    "\n",
    "    :param rxn_fwd: forward chemical reaction rdkit.Chem.rdChemReactions.ChemicalReaction\n",
    "    :returns: reverse chemical reaction rdkit.Chem.rdChemReactions.ChemicalReaction\n",
    "    \"\"\"\n",
    "\n",
    "    rxn_rev = Chem.ChemicalReaction()\n",
    "    for i in range(rxn_fwd.GetNumReactantTemplates()):\n",
    "        rxn_rev.AddProductTemplate(rxn_fwd.GetReactantTemplate(i))\n",
    "    for i in range(rxn_fwd.GetNumProductTemplates()):\n",
    "        rxn_rev.AddReactantTemplate(rxn_fwd.GetProductTemplate(i))\n",
    "    rxn_rev.Initialize()\n",
    "    return rxn_rev"
   ]
  },
  {
   "cell_type": "code",
   "execution_count": 20,
   "metadata": {},
   "outputs": [],
   "source": [
    "async def is_commercially_available(work_queue):\n",
    "    \"\"\"\n",
    "    Asynchronously check the availability of a queue of SMILES strings (chemicals) in PubChem\n",
    "    Based on https://realpython.com/python-async-features/#asynchronous-non-blocking-http-calls\n",
    "\n",
    "    :param work_queue: A queue where each item is a SMILES string (representing a molecule)\n",
    "    :returns: Class Reactant object\n",
    "    \"\"\"\n",
    "\n",
    "    async with aiohttp.ClientSession() as session:\n",
    "        while not work_queue.empty():\n",
    "            smiles = await work_queue.get()\n",
    "            # Create Reactant object, which will be populated during this function\n",
    "            reactant = Reactant(smiles)\n",
    "\n",
    "            timer = Timer(text=f\"{{:.2f}}s for {smiles} PubChem API call(s)\")\n",
    "\n",
    "            # print(f\"Task {smiles} getting URL\")\n",
    "            timer.start()\n",
    "            get_cid_URL = f\"https://pubchem.ncbi.nlm.nih.gov/rest/pug/compound/smiles/{smiles}/cids/TXT\"\n",
    "            async with session.get(get_cid_URL, ssl=False) as response:\n",
    "                get_cid_response = await response.text()\n",
    "                cid = get_cid_response.strip(\"\\n\")\n",
    "            if cid == '0':\n",
    "                # print(f\"Task {smiles}: No chemical in PubChem\")\n",
    "                reactant.in_pubchem = False\n",
    "                reactant.commercially_available = False\n",
    "                timer.stop()\n",
    "                return reactant\n",
    "            else:\n",
    "                reactant.in_pubchem = True\n",
    "                reactant.pubchem_page = f\"https://pubchem.ncbi.nlm.nih.gov/compound/{cid}\"\n",
    "\n",
    "            compound_url = f\"https://pubchem.ncbi.nlm.nih.gov/rest/pug_view/data/compound/{cid}/XML?heading=Chemical-Vendors\"\n",
    "\n",
    "            async with session.get(compound_url, ssl=False) as response:\n",
    "                compound_vendors_response = await response.text()\n",
    "\n",
    "            # print(f\"  Task {smiles} cid: {cid}\")\n",
    "            # print(f\"  Task {smiles} {compound_url=}, response = {compound_vendors_response[:70]}\")\n",
    "            timer.stop()\n",
    "\n",
    "            if \"<Message>No data found</Message>\" in compound_vendors_response:\n",
    "                reactant.commercially_available = False\n",
    "            else:\n",
    "                reactant.commercially_available = True\n",
    "    return reactant"
   ]
  },
  {
   "cell_type": "code",
   "execution_count": 21,
   "metadata": {},
   "outputs": [],
   "source": [
    "async def check_avail_smiles_set(smiles_set: set[str]) -> dict[str, object]:\n",
    "    \"\"\"\n",
    "    Feed asynchronous queue to check the availability of several SMILES strings (chemicals) in PubChem\n",
    "    Based on https://realpython.com/python-async-features/#asynchronous-non-blocking-http-calls\n",
    "\n",
    "    :param smiles_set: Set of SMILES strings (representing molecules)\n",
    "    :returns: dictionary of SMIILES:reactant pairs, where reactant is class Reactant\n",
    "    \"\"\"\n",
    "    # Create the queue of work\n",
    "    work_queue = asyncio.Queue()\n",
    "\n",
    "    # Add each SMILES (molecule) to the work queue\n",
    "    for smiles in smiles_set:\n",
    "        await work_queue.put(smiles)\n",
    "\n",
    "    # Determine commercial availability of each reactant\n",
    "    with Timer(text=\"-----\\n{:.2f}s total elapsed time for PubChem API calls\"):\n",
    "        tasks = [is_commercially_available(work_queue) for smiles in smiles_set]\n",
    "        reactants = await asyncio.gather(*tasks)\n",
    "    \n",
    "    # Put reactants in dictionary of SMILES:Reaction object\n",
    "    smiles_avail = dict()\n",
    "    for index, reactant in enumerate(reactants):\n",
    "        # print(f\"Reactant {index}: {reactant}, {reactant.smiles}, in_pubchem: {reactant.in_pubchem}, commercially_available: {reactant.commercially_available}\")\n",
    "        smiles_avail[reactant.smiles] = reactant\n",
    "    \n",
    "    return smiles_avail"
   ]
  },
  {
   "cell_type": "code",
   "execution_count": 22,
   "metadata": {},
   "outputs": [],
   "source": [
    "async def check_reactions(target_reaction_list: list[list[str, str, str]]):\n",
    "    \"\"\"\n",
    "    Check whether the starting materials in a list of reactions are commercially available\n",
    "    :param target_reaction_list: List of reactions in format [target (SMILES), reaction SMARTS, reaction name]\n",
    "    \"\"\"\n",
    "\n",
    "    all_reactants_set = set()\n",
    "\n",
    "    # List of Reaction objects\n",
    "    reactions = []\n",
    "    for target_reaction in target_reaction_list:\n",
    "        reaction = Reaction(target_reaction[0], target_reaction[1], target_reaction[2])\n",
    "\n",
    "        # Create forward reaction\n",
    "        rxn_fwd = Chem.ReactionFromSmarts(reaction.reaction_smarts)\n",
    "\n",
    "        # Reverse reaction\n",
    "        rxn_rev = reverse_reaction(rxn_fwd)\n",
    "\n",
    "        # Run reverse reaction to determine starting materials\n",
    "        \n",
    "        reactants = rxn_rev.RunReactants([reaction.target_mol])[0]\n",
    "        for reactant in reactants:\n",
    "            reactant_smiles = Chem.MolToSmiles(reactant)\n",
    "            reaction.reactants[reactant_smiles] = None\n",
    "\n",
    "        # Add starting materials to set of starting materials\n",
    "        for reactant in reaction.reactants:\n",
    "            all_reactants_set.add(reactant)\n",
    "        \n",
    "        reactions.append(reaction)\n",
    "\n",
    "    # Check commercial availability of set of starting materials\n",
    "    smiles_avail = await check_avail_smiles_set(all_reactants_set)\n",
    "\n",
    "    print(\"\\nAre starting materials commercially available for reaction -> target:\")\n",
    "\n",
    "    # [[reaction object 0, all reactants available], [reaction object 1, all reactants available],]\n",
    "    reaction_reactants_avail = [[]]\n",
    "    for reaction in reactions:\n",
    "        # Add information to Reaction objects\n",
    "        for this_reactant in reaction.reactants:\n",
    "            # Set value for key of reactant SMILES, to reactant object from smiles_avail\n",
    "            reaction.reactants[this_reactant] = smiles_avail[this_reactant]\n",
    "        reaction.tally_all_reactants_commercially_available()\n",
    "\n",
    "        # Return results\n",
    "        reaction_reactants_avail.append([reaction, reaction._reactants_commercially_available])\n",
    "        print(f\"{reaction.name} -> {reaction.target}: {reaction._reactants_commercially_available}\")\n",
    "\n",
    "    return reaction_reactants_avail"
   ]
  },
  {
   "cell_type": "code",
   "execution_count": 29,
   "metadata": {},
   "outputs": [
    {
     "name": "stdout",
     "output_type": "stream",
     "text": [
      "0.83s for O=CCC1C2C=CC(C2)N1CO PubChem API call(s)\n",
      "0.89s for O=CC1CC(F)(F)C1 PubChem API call(s)\n",
      "0.91s for O=CCNc1ccccc1 PubChem API call(s)\n",
      "0.97s for NCCc1ccccc1 PubChem API call(s)\n",
      "-----\n",
      "0.99s total elapsed time for PubChem API calls\n",
      "\n",
      "Are starting materials commercially available for reaction -> target:\n",
      "Pictet-Spengler -> OCN1C2CC(C=C2)C1CC1NCCc2ccccc12: False\n",
      "Pictet-Spengler -> c1ccc(NCC2NCCc3ccccc32)cc1: True\n",
      "Pictet-Spengler -> FC1(F)CC(C2NCCc3ccccc32)C1: True\n"
     ]
    },
    {
     "name": "stderr",
     "output_type": "stream",
     "text": [
      "/Users/jemonat/opt/anaconda3/envs/my-rdkit-env/lib/python3.10/site-packages/charset_normalizer/api.py:105: UserWarning: Trying to detect encoding from a tiny portion of (9) byte(s).\n",
      "  warn('Trying to detect encoding from a tiny portion of ({}) byte(s).'.format(length))\n",
      "/Users/jemonat/opt/anaconda3/envs/my-rdkit-env/lib/python3.10/site-packages/charset_normalizer/api.py:105: UserWarning: Trying to detect encoding from a tiny portion of (5) byte(s).\n",
      "  warn('Trying to detect encoding from a tiny portion of ({}) byte(s).'.format(length))\n",
      "/Users/jemonat/opt/anaconda3/envs/my-rdkit-env/lib/python3.10/site-packages/charset_normalizer/api.py:105: UserWarning: Trying to detect encoding from a tiny portion of (2) byte(s).\n",
      "  warn('Trying to detect encoding from a tiny portion of ({}) byte(s).'.format(length))\n"
     ]
    },
    {
     "data": {
      "text/plain": [
       "[[],\n",
       " [<__main__.Reaction at 0x7fd7c96e3340>, False],\n",
       " [<__main__.Reaction at 0x7fd7983ae140>, True],\n",
       " [<__main__.Reaction at 0x7fd798b20160>, True]]"
      ]
     },
     "execution_count": 29,
     "metadata": {},
     "output_type": "execute_result"
    }
   ],
   "source": [
    "bicyclic_target = \"OCN1C2CC(C=C2)C1CC1NCCc2ccccc12\"\n",
    "aniline_target = \"c1ccc(NCC2NCCc3ccccc32)cc1\"\n",
    "cyclobutyl_target = \"FC1(F)CC(C2NCCc3ccccc32)C1\"\n",
    "\n",
    "pictet_spengler_rxn = '[cH1:1]1:[c:2](-[CH2:7]-[CH2:8]-[NH2:9]):[c:3]:[c:4]:[c:5]:[c:6]:1.[#6:11]-[CH1;R0:10]=[OD1]>>[c:1]12:[c:2](-[CH2:7]-[CH2:8]-[NH1:9]-[C:10]-2(-[#6:11])):[c:3]:[c:4]:[c:5]:[c:6]:1'\n",
    "pictet_spengler = [pictet_spengler_rxn, \"Pictet-Spengler\"]\n",
    "\n",
    "# Reaction format: [target (SMILES), reaction SMARTS, reaction name]\n",
    "rxn1 = [bicyclic_target] + pictet_spengler\n",
    "rxn2 = [aniline_target] + pictet_spengler\n",
    "rxn3 = [cyclobutyl_target] + pictet_spengler\n",
    "\n",
    "rxns = [rxn1, rxn2, rxn3]\n",
    "await check_reactions(rxns)"
   ]
  },
  {
   "cell_type": "code",
   "execution_count": 26,
   "metadata": {},
   "outputs": [],
   "source": [
    "def main():\n",
    "    bicyclic_target = \"OCN1C2CC(C=C2)C1CC1NCCc2ccccc12\"\n",
    "    aniline_target = \"c1ccc(NCC2NCCc3ccccc32)cc1\"\n",
    "    cyclobutyl_target = \"FC1(F)CC(C2NCCc3ccccc32)C1\"\n",
    "\n",
    "    pictet_spengler_rxn = '[cH1:1]1:[c:2](-[CH2:7]-[CH2:8]-[NH2:9]):[c:3]:[c:4]:[c:5]:[c:6]:1.[#6:11]-[CH1;R0:10]=[OD1]>>[c:1]12:[c:2](-[CH2:7]-[CH2:8]-[NH1:9]-[C:10]-2(-[#6:11])):[c:3]:[c:4]:[c:5]:[c:6]:1'\n",
    "    pictet_spengler = [pictet_spengler_rxn, \"Pictet-Spengler\"]\n",
    "\n",
    "    # Reaction format: [target (SMILES), reaction SMARTS, reaction name]\n",
    "    rxn1 = [bicyclic_target] + pictet_spengler\n",
    "    rxn2 = [aniline_target] + pictet_spengler\n",
    "    rxn3 = [cyclobutyl_target] + pictet_spengler\n",
    "\n",
    "    rxns = [rxn1, rxn2, rxn3]\n",
    "\n",
    "    # asyncio.run(check_reactions(rxns))\n",
    "    await check_reactions(rxns)"
   ]
  },
  {
   "cell_type": "code",
   "execution_count": 27,
   "metadata": {},
   "outputs": [
    {
     "name": "stderr",
     "output_type": "stream",
     "text": [
      "/var/folders/9w/cn8tqbv976gckxd0c9cbr1sw0000gn/T/ipykernel_98513/1328909055.py:17: RuntimeWarning: coroutine 'check_reactions' was never awaited\n",
      "  check_reactions(rxns)\n",
      "RuntimeWarning: Enable tracemalloc to get the object allocation traceback\n"
     ]
    }
   ],
   "source": [
    "main()"
   ]
  },
  {
   "attachments": {},
   "cell_type": "markdown",
   "metadata": {},
   "source": [
    "## Get Additional Data"
   ]
  },
  {
   "attachments": {},
   "cell_type": "markdown",
   "metadata": {},
   "source": [
    "If you want `SmilesMCStoGridImage` to return not just the grid image, but also the substructure match and molecule, plus the SMILES strings for the molecules and groups, and the core SMILES and molecule, set `verbose=True`:"
   ]
  },
  {
   "cell_type": "code",
   "execution_count": 285,
   "metadata": {},
   "outputs": [],
   "source": [
    "ms = {'c1c(O)cnc(N)c(NC(=O)(C))1': 'aldehyde off aromatic carbon', 'c1c(O)cnc(N(CCC))c1(C)': 'alkyl off amine'}\n",
    "drawing, mcs_smarts, mcs_mol, mols_2D, core_smiles, core_mol = SmilesMCStoGridImage(ms, groups=True, verbose=True)"
   ]
  },
  {
   "attachments": {},
   "cell_type": "markdown",
   "metadata": {},
   "source": [
    "You then must explicitly call the image to draw it:"
   ]
  },
  {
   "cell_type": "code",
   "execution_count": 286,
   "metadata": {},
   "outputs": [
    {
     "data": {
      "image/png": "[encoded data removed]",
      "text/plain": [
       "<IPython.core.display.Image object>"
      ]
     },
     "execution_count": 286,
     "metadata": {},
     "output_type": "execute_result"
    }
   ],
   "source": [
    "drawing"
   ]
  },
  {
   "attachments": {},
   "cell_type": "markdown",
   "metadata": {},
   "source": [
    "`mcs_smarts` is the SMARTS match string for the maximum common substructure (MCS):"
   ]
  },
  {
   "cell_type": "code",
   "execution_count": 287,
   "metadata": {},
   "outputs": [
    {
     "data": {
      "text/plain": [
       "'[#6]1:[#6](-[#8]):[#6]:[#7]:[#6](:[#6]:1)-[#7]'"
      ]
     },
     "execution_count": 287,
     "metadata": {},
     "output_type": "execute_result"
    }
   ],
   "source": [
    "mcs_smarts"
   ]
  },
  {
   "attachments": {},
   "cell_type": "markdown",
   "metadata": {},
   "source": [
    "`mcs_mol` is the molecular representation of that MCS:"
   ]
  },
  {
   "cell_type": "code",
   "execution_count": 288,
   "metadata": {},
   "outputs": [
    {
     "data": {
      "image/png": "[encoded data removed]",
      "text/plain": [
       "<rdkit.Chem.rdchem.Mol at 0x16d69d2a0>"
      ]
     },
     "execution_count": 288,
     "metadata": {},
     "output_type": "execute_result"
    }
   ],
   "source": [
    "mcs_mol"
   ]
  },
  {
   "attachments": {},
   "cell_type": "markdown",
   "metadata": {},
   "source": [
    "`mols_2D` is the nested list of input molecules and groups, where each sub-list represents an input molecule:"
   ]
  },
  {
   "cell_type": "code",
   "execution_count": 289,
   "metadata": {},
   "outputs": [
    {
     "data": {
      "text/plain": [
       "[[<rdkit.Chem.rdchem.Mol at 0x16d8697e0>,\n",
       "  <rdkit.Chem.rdchem.Mol at 0x16d86a340>,\n",
       "  <rdkit.Chem.rdchem.Mol at 0x16d86a3b0>],\n",
       " [<rdkit.Chem.rdchem.Mol at 0x16d869d90>,\n",
       "  <rdkit.Chem.rdchem.Mol at 0x16d869e00>,\n",
       "  <rdkit.Chem.rdchem.Mol at 0x16d869f50>]]"
      ]
     },
     "execution_count": 289,
     "metadata": {},
     "output_type": "execute_result"
    }
   ],
   "source": [
    "mols_2D"
   ]
  },
  {
   "attachments": {},
   "cell_type": "markdown",
   "metadata": {},
   "source": [
    "`core_smiles` is the SMILES string of the core that groups are off of:"
   ]
  },
  {
   "cell_type": "code",
   "execution_count": 290,
   "metadata": {},
   "outputs": [
    {
     "data": {
      "text/plain": [
       "'Nc1ccc(O)cn1'"
      ]
     },
     "execution_count": 290,
     "metadata": {},
     "output_type": "execute_result"
    }
   ],
   "source": [
    "core_smiles"
   ]
  },
  {
   "attachments": {},
   "cell_type": "markdown",
   "metadata": {},
   "source": [
    "`core_mol` is the RDKit molecule for the core:"
   ]
  },
  {
   "cell_type": "code",
   "execution_count": 291,
   "metadata": {},
   "outputs": [
    {
     "data": {
      "image/png": "[encoded data removed]",
      "text/plain": [
       "<rdkit.Chem.rdchem.Mol at 0x16d869a80>"
      ]
     },
     "execution_count": 291,
     "metadata": {},
     "output_type": "execute_result"
    }
   ],
   "source": [
    "core_mol"
   ]
  },
  {
   "attachments": {},
   "cell_type": "markdown",
   "metadata": {},
   "source": [
    "## Edge Case: There is No MCS"
   ]
  },
  {
   "attachments": {},
   "cell_type": "markdown",
   "metadata": {},
   "source": [
    "If you input a set of molecules that has no MCS, there is no core to locate groups off of, so `SmilesMCStoGridImage` will\n",
    "- notify you and effectively ignore `groups=True`\n",
    "- give the same result as if you had set `groups=False` or not included the `groups` flag at all (because its default is `False`):"
   ]
  },
  {
   "cell_type": "code",
   "execution_count": 292,
   "metadata": {},
   "outputs": [
    {
     "name": "stdout",
     "output_type": "stream",
     "text": [
      "There is no maximum common substructure (MCS), so groups off the MCS cannot be created. This output reflects groups=False. If you want to find groups, please ensure the set of molecules has an MCS.\n"
     ]
    },
    {
     "data": {
      "image/png": "[encoded data removed]",
      "text/plain": [
       "<IPython.core.display.Image object>"
      ]
     },
     "execution_count": 292,
     "metadata": {},
     "output_type": "execute_result"
    }
   ],
   "source": [
    "SmilesMCStoGridImage([\"O\", \"c1ccccc1\"], groups=True)"
   ]
  },
  {
   "attachments": {},
   "cell_type": "markdown",
   "metadata": {},
   "source": [
    "### Using `groups` and `verbose` Equal `True` If There is No MCS"
   ]
  },
  {
   "attachments": {},
   "cell_type": "markdown",
   "metadata": {},
   "source": [
    "A call using `groups=True` and `verbose=True` when there is no MCS will not throw an exception; instead, `SmilesMCStoGridImage` will return values as if you had not set `groups=True`. As a result, you will not get a confusing exception about having an incorrect number of arguments to unpack."
   ]
  },
  {
   "cell_type": "code",
   "execution_count": 293,
   "metadata": {},
   "outputs": [
    {
     "name": "stdout",
     "output_type": "stream",
     "text": [
      "There is no maximum common substructure (MCS), so groups off the MCS cannot be created. This output reflects groups=False. If you want to find groups, please ensure the set of molecules has an MCS.\n"
     ]
    }
   ],
   "source": [
    "drawing_no_mcs, mcs_smarts_no_mcs, mcs_mol_no_mcs, mols_2D_no_mcs, core_smiles_no_mcs, core_mol_no_mcs = SmilesMCStoGridImage([\"O\", \"c1ccccc1\"], groups=True, verbose=True)"
   ]
  },
  {
   "attachments": {},
   "cell_type": "markdown",
   "metadata": {},
   "source": [
    "The drawing is the same as if you had not set `groups=True`:"
   ]
  },
  {
   "cell_type": "code",
   "execution_count": 299,
   "metadata": {},
   "outputs": [
    {
     "data": {
      "image/png": "[encoded data removed]",
      "text/plain": [
       "<IPython.core.display.Image object>"
      ]
     },
     "execution_count": 299,
     "metadata": {},
     "output_type": "execute_result"
    }
   ],
   "source": [
    "drawing_no_mcs"
   ]
  },
  {
   "attachments": {},
   "cell_type": "markdown",
   "metadata": {},
   "source": [
    "You will get \"empty\" values for `mcs_smarts`, `mcs_mol`, `core_smiles`, and `core_mol`:"
   ]
  },
  {
   "cell_type": "code",
   "execution_count": 294,
   "metadata": {},
   "outputs": [
    {
     "data": {
      "text/plain": [
       "''"
      ]
     },
     "execution_count": 294,
     "metadata": {},
     "output_type": "execute_result"
    }
   ],
   "source": [
    "mcs_smarts_no_mcs"
   ]
  },
  {
   "cell_type": "code",
   "execution_count": 295,
   "metadata": {},
   "outputs": [
    {
     "data": {
      "image/png": "[encoded data removed]",
      "text/plain": [
       "<rdkit.Chem.rdchem.Mol at 0x16d436c70>"
      ]
     },
     "execution_count": 295,
     "metadata": {},
     "output_type": "execute_result"
    }
   ],
   "source": [
    "mcs_mol_no_mcs"
   ]
  },
  {
   "cell_type": "code",
   "execution_count": 296,
   "metadata": {},
   "outputs": [
    {
     "data": {
      "text/plain": [
       "''"
      ]
     },
     "execution_count": 296,
     "metadata": {},
     "output_type": "execute_result"
    }
   ],
   "source": [
    "core_smiles_no_mcs"
   ]
  },
  {
   "cell_type": "code",
   "execution_count": 297,
   "metadata": {},
   "outputs": [],
   "source": [
    "core_mol_no_mcs"
   ]
  },
  {
   "attachments": {},
   "cell_type": "markdown",
   "metadata": {},
   "source": [
    "And mols_2D will revert to the one-dimensional list of input molecules:"
   ]
  },
  {
   "cell_type": "code",
   "execution_count": 298,
   "metadata": {},
   "outputs": [
    {
     "data": {
      "text/plain": [
       "[<rdkit.Chem.rdchem.Mol at 0x16d436880>,\n",
       " <rdkit.Chem.rdchem.Mol at 0x16d436b90>]"
      ]
     },
     "execution_count": 298,
     "metadata": {},
     "output_type": "execute_result"
    }
   ],
   "source": [
    "mols_2D_no_mcs"
   ]
  },
  {
   "attachments": {},
   "cell_type": "markdown",
   "metadata": {},
   "source": [
    "## Notes"
   ]
  },
  {
   "attachments": {},
   "cell_type": "markdown",
   "metadata": {},
   "source": [
    "For more information about the other parameters in `SmilesMCStoGridImage`, refer to my original blog post [Find and Highlight the Maximum Common Substructure Between a Set of Molecules Using RDKit]({% post_url 2022-10-09-RDKit-find-and-highlight-the-maximum-common-substructure-between-molecules %})"
   ]
  },
  {
   "attachments": {},
   "cell_type": "markdown",
   "metadata": {},
   "source": [
    "Thanks to [Greg Landrum](https://github.com/greglandrum) for suggesting this scheme to find groups off of a common core, and to [Brian Kelley](https://github.com/bp-kelley) for clarifying the RDKit's atom numbering scheme for [`ReplaceCore`](https://www.rdkit.org/docs/source/rdkit.Chem.rdmolops.html#rdkit.Chem.rdmolops.ReplaceCore)."
   ]
  }
 ],
 "metadata": {
  "kernelspec": {
   "display_name": "Python 3.10.4",
   "language": "python",
   "name": "python3"
  },
  "language_info": {
   "codemirror_mode": {
    "name": "ipython",
    "version": 3
   },
   "file_extension": ".py",
   "mimetype": "text/x-python",
   "name": "python",
   "nbconvert_exporter": "python",
   "pygments_lexer": "ipython3",
   "version": "3.10.4"
  },
  "orig_nbformat": 4,
  "vscode": {
   "interpreter": {
    "hash": "f8b9e48fa26c0cee807577a4309d1f208b4f08c0094fff1e9a87a3043a77ce60"
   }
  }
 },
 "nbformat": 4,
 "nbformat_minor": 2
}
